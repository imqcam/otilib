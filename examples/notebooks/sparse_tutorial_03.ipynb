{
 "cells": [
  {
   "cell_type": "markdown",
   "metadata": {},
   "source": [
    "## `sparse` Tutorial 03: Linear algebra support.\n",
    "\n",
    "```\n",
    "Contributors:\n",
    "    Mauricio Aristizabal\n",
    "        University of Texas at San Antonio\n",
    "        Universidad EAFIT, Colombia.\n",
    "\n",
    "Date of creation:  Jun 19 2024\n",
    "Last modification: Jun 19 2024\n",
    "```\n",
    "\n",
    "### Introduction\n",
    "\n",
    "The main purpose of the Order Truncated Imaginary (OTI) numbers was to provide an efficient method for computing arbitrary-order derivatives in Finite Element applications. Finite Element analysis is highly dependent on linear algbera operations, thus it was fundamental to develop an efficient interface to linear algebra, including vector and matrix operations. \n",
    "\n",
    "This document shows applications of `pyoti` for the computation of linear-algebra related operations.\n",
    "\n",
    "For this, first import the libraries required."
   ]
  },
  {
   "cell_type": "code",
   "execution_count": 1,
   "metadata": {
    "jupyter": {
     "outputs_hidden": false
    }
   },
   "outputs": [],
   "source": [
    "import pyoti.sparse as oti  # Import the library.\n",
    "import numpy as np\n",
    "\n",
    "# Set to print all components\n",
    "# oti.set_printoptions(terms_print=-1)"
   ]
  },
  {
   "cell_type": "markdown",
   "metadata": {},
   "source": [
    "### Array class - `matso`.\n",
    "\n",
    "The support for linear algebra operations is provided by the definition of an array class. The array class is named 'MATrix of Sparse Otis' `matso`. As its name suggest, its fundamental mode of operation is as a matrix element. Thus this class always consider the behavior as a rank-2 array.\n",
    "\n",
    "Although this class has its own constructor, `pyoti` provides a numpy-like array creation functions that allow an easy migration to the new class.\n",
    "\n",
    "An array that can hold an OTI number can be created in multiple ways. Here will be discussed a few of them.\n",
    "\n",
    "#### Filled constructors\n",
    "\n",
    "An array can be created using equivalent `zeros` or `ones` function, like with numpy. For instance, creating a 2x2 array of zeroes is created using the function `zeros(shape,**kwargs)`, with shape being an integer or a list with up-to 2 elements defining the shape of the array."
   ]
  },
  {
   "cell_type": "code",
   "execution_count": 11,
   "metadata": {
    "jupyter": {
     "outputs_hidden": true
    }
   },
   "outputs": [
    {
     "name": "stdout",
     "output_type": "stream",
     "text": [
      "matso< shape: (2, 2), \n",
      " - Column 0\n",
      "(0,0) 0\n",
      "(1,0) 0\n",
      " - Column 1\n",
      "(0,1) 0\n",
      "(1,1) 0\n",
      ">\n"
     ]
    }
   ],
   "source": [
    "X = oti.zeros((2,2))\n",
    "print(X)"
   ]
  },
  {
   "cell_type": "markdown",
   "metadata": {},
   "source": [
    "Remarks:\n",
    "\n",
    "- The number of dimensions of a matso is always 2.\n",
    "- Printing a matso array gives  its shape and the contents are listed by columns.\n",
    "- It may be more convenient to print only the real part of the matso array. The real part can be extracted with the \"attribute\" `real`. This returns a numpy array with the real coefficients of the matso array.\n"
   ]
  },
  {
   "cell_type": "code",
   "execution_count": 14,
   "metadata": {
    "jupyter": {
     "outputs_hidden": false
    }
   },
   "outputs": [
    {
     "name": "stdout",
     "output_type": "stream",
     "text": [
      "[[0. 0.]\n",
      " [0. 0.]]\n",
      "<class 'numpy.ndarray'>\n"
     ]
    }
   ],
   "source": [
    "print(X.real)\n",
    "print(type(X.real))"
   ]
  },
  {
   "cell_type": "markdown",
   "metadata": {},
   "source": [
    "Other constructors are shown below:"
   ]
  },
  {
   "cell_type": "code",
   "execution_count": 19,
   "metadata": {
    "jupyter": {
     "outputs_hidden": false
    }
   },
   "outputs": [
    {
     "name": "stdout",
     "output_type": "stream",
     "text": [
      "\"ones\" constructor:\n",
      "[[1. 1.]\n",
      " [1. 1.]]\n",
      "\n",
      "\"eye\" constructor:\n",
      "[[1. 0.]\n",
      " [0. 1.]]\n"
     ]
    }
   ],
   "source": [
    "print('\"ones\" constructor:')\n",
    "print( oti.ones( ( 2, 2 ) ).real )\n",
    "print()\n",
    "print('\"eye\" constructor:')\n",
    "print( oti.eye( 2, ).real  )"
   ]
  },
  {
   "cell_type": "code",
   "execution_count": null,
   "metadata": {},
   "outputs": [],
   "source": []
  }
 ],
 "metadata": {
  "kernelspec": {
   "display_name": "pyoti",
   "language": "python",
   "name": "pyoti"
  },
  "language_info": {
   "codemirror_mode": {
    "name": "ipython",
    "version": 3
   },
   "file_extension": ".py",
   "mimetype": "text/x-python",
   "name": "python",
   "nbconvert_exporter": "python",
   "pygments_lexer": "ipython3",
   "version": "3.9.13"
  }
 },
 "nbformat": 4,
 "nbformat_minor": 4
}
