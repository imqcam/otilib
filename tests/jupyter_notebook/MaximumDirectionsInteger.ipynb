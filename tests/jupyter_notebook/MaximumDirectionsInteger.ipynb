{
 "cells": [
  {
   "cell_type": "markdown",
   "metadata": {},
   "source": [
    "# The maximum number of Im directions that an integer can manipulate given its bit length"
   ]
  },
  {
   "cell_type": "code",
   "execution_count": 2,
   "metadata": {
    "collapsed": true
   },
   "outputs": [],
   "source": [
    "import numpy as np\n",
    "import scipy as sp\n",
    "import sympy as sym\n"
   ]
  },
  {
   "cell_type": "code",
   "execution_count": 3,
   "metadata": {},
   "outputs": [
    {
     "name": "stdout",
     "output_type": "stream",
     "text": [
      "Maximum integer for ui8  :  255\n",
      "Maximum integer for ui16 :  65535\n",
      "Maximum integer for ui32 :  4294967295\n",
      "Maximum integer for ui64 :  18446744073709551615\n",
      "Maximum integer for ui128:  340282366920938463463374607431768211455\n"
     ]
    }
   ],
   "source": [
    "\n",
    "ui8   = int('0b'+'1'*8   ,2)\n",
    "ui16  = int('0b'+'1'*16  ,2)\n",
    "ui32  = int('0b'+'1'*32  ,2)\n",
    "ui64  = int('0b'+'1'*64  ,2)\n",
    "ui128 = int('0b'+'1'*128 ,2)\n",
    "\n",
    "# Bitlengths\n",
    "# bitlengths = [8,16,32,64,128]\n",
    "bitlengths = [32,64,128]\n",
    "maxNum = [int('0b'+'1'*i   ,2) for i in bitlengths]\n",
    "\n",
    "\n",
    "# ui8 = np.uint8(255)\n",
    "print('Maximum integer for ui8  : ',ui8  )\n",
    "print('Maximum integer for ui16 : ',ui16 )\n",
    "print('Maximum integer for ui32 : ',ui32 )\n",
    "print('Maximum integer for ui64 : ',ui64 )\n",
    "print('Maximum integer for ui128: ',ui128)"
   ]
  },
  {
   "cell_type": "code",
   "execution_count": 4,
   "metadata": {},
   "outputs": [
    {
     "data": {
      "text/plain": [
       "[4294967295, 18446744073709551615, 340282366920938463463374607431768211455]"
      ]
     },
     "execution_count": 4,
     "metadata": {},
     "output_type": "execute_result"
    }
   ],
   "source": [
    "maxNum"
   ]
  },
  {
   "cell_type": "code",
   "execution_count": 5,
   "metadata": {
    "collapsed": true
   },
   "outputs": [],
   "source": [
    "def compMaxDir(num,base):\n",
    "    ndir = 0\n",
    "    next_num = num\n",
    "    while next_num != 0:\n",
    "        exp = next_num%base\n",
    "        next_num = next_num//base\n",
    "        ndir += 1\n",
    "    # end while\n",
    "    if exp != base-1:\n",
    "        ndir -= 1\n",
    "    return ndir"
   ]
  },
  {
   "cell_type": "code",
   "execution_count": 6,
   "metadata": {},
   "outputs": [
    {
     "name": "stdout",
     "output_type": "stream",
     "text": [
      "Base representation for order  1  are: \n",
      "Max number of directions for ui32 is:  32\n",
      "Max number of directions for ui64 is:  64\n",
      "Max number of directions for ui128 is:  128\n",
      " \n",
      "Base representation for order  2  are: \n",
      "Max number of directions for ui32 is:  20\n",
      "Max number of directions for ui64 is:  40\n",
      "Max number of directions for ui128 is:  81\n",
      " \n",
      "Base representation for order  3  are: \n",
      "Max number of directions for ui32 is:  16\n",
      "Max number of directions for ui64 is:  32\n",
      "Max number of directions for ui128 is:  64\n",
      " \n",
      "Base representation for order  4  are: \n",
      "Max number of directions for ui32 is:  13\n",
      "Max number of directions for ui64 is:  27\n",
      "Max number of directions for ui128 is:  55\n",
      " \n",
      "Base representation for order  5  are: \n",
      "Max number of directions for ui32 is:  12\n",
      "Max number of directions for ui64 is:  24\n",
      "Max number of directions for ui128 is:  49\n",
      " \n",
      "Base representation for order  6  are: \n",
      "Max number of directions for ui32 is:  11\n",
      "Max number of directions for ui64 is:  22\n",
      "Max number of directions for ui128 is:  45\n",
      " \n",
      "Base representation for order  7  are: \n",
      "Max number of directions for ui32 is:  10\n",
      "Max number of directions for ui64 is:  21\n",
      "Max number of directions for ui128 is:  42\n",
      " \n",
      "Base representation for order  8  are: \n",
      "Max number of directions for ui32 is:  10\n",
      "Max number of directions for ui64 is:  20\n",
      "Max number of directions for ui128 is:  40\n",
      " \n",
      "Base representation for order  9  are: \n",
      "Max number of directions for ui32 is:  9\n",
      "Max number of directions for ui64 is:  19\n",
      "Max number of directions for ui128 is:  38\n",
      " \n",
      "Base representation for order  10  are: \n",
      "Max number of directions for ui32 is:  9\n",
      "Max number of directions for ui64 is:  18\n",
      "Max number of directions for ui128 is:  37\n",
      " \n"
     ]
    }
   ],
   "source": [
    "firstOrder = 1\n",
    "lastOrder = 10\n",
    "for order in range(firstOrder,lastOrder+1):\n",
    "    base = order + 1\n",
    "    print('Base representation for order ',order,' are: ')\n",
    "    for i in range(len(maxNum)): \n",
    "        print('Max number of directions for ui'+str(bitlengths[i])+' is: ',compMaxDir(maxNum[i],base))\n",
    "        \n",
    "        \n",
    "    print(' ')\n"
   ]
  },
  {
   "cell_type": "code",
   "execution_count": 71,
   "metadata": {
    "collapsed": true
   },
   "outputs": [],
   "source": []
  },
  {
   "cell_type": "code",
   "execution_count": 73,
   "metadata": {},
   "outputs": [
    {
     "data": {
      "text/plain": [
       "32"
      ]
     },
     "execution_count": 73,
     "metadata": {},
     "output_type": "execute_result"
    }
   ],
   "source": [
    "compMaxDir(maxNum[-2],4)"
   ]
  },
  {
   "cell_type": "code",
   "execution_count": null,
   "metadata": {
    "collapsed": true
   },
   "outputs": [],
   "source": []
  }
 ],
 "metadata": {
  "kernelspec": {
   "display_name": "Python 3",
   "language": "python",
   "name": "python3"
  },
  "language_info": {
   "codemirror_mode": {
    "name": "ipython",
    "version": 3
   },
   "file_extension": ".py",
   "mimetype": "text/x-python",
   "name": "python",
   "nbconvert_exporter": "python",
   "pygments_lexer": "ipython3",
   "version": "3.6.0"
  }
 },
 "nbformat": 4,
 "nbformat_minor": 2
}
