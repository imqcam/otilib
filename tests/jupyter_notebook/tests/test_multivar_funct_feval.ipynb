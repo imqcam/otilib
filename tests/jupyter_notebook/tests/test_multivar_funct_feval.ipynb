{
 "cells": [
  {
   "cell_type": "code",
   "execution_count": 1,
   "metadata": {},
   "outputs": [],
   "source": [
    "import sympy as sym"
   ]
  },
  {
   "cell_type": "code",
   "execution_count": 39,
   "metadata": {},
   "outputs": [],
   "source": [
    "x,y = sym.symbols(\"x y\")\n",
    "ln_x = sym.log(x)"
   ]
  },
  {
   "cell_type": "code",
   "execution_count": 40,
   "metadata": {},
   "outputs": [],
   "source": [
    "f = x**y"
   ]
  },
  {
   "cell_type": "markdown",
   "metadata": {},
   "source": [
    "# 1 Order derivs"
   ]
  },
  {
   "cell_type": "code",
   "execution_count": 45,
   "metadata": {},
   "outputs": [
    {
     "data": {
      "text/latex": [
       "$\\displaystyle x^{y - 1} y$"
      ],
      "text/plain": [
       "x**(y - 1)*y"
      ]
     },
     "execution_count": 45,
     "metadata": {},
     "output_type": "execute_result"
    }
   ],
   "source": [
    "sym.simplify(f.diff( x, 1).diff( y, 0)).factor()"
   ]
  },
  {
   "cell_type": "code",
   "execution_count": 46,
   "metadata": {},
   "outputs": [
    {
     "data": {
      "text/latex": [
       "$\\displaystyle x^{y} \\log{\\left(x \\right)}$"
      ],
      "text/plain": [
       "x**y*log(x)"
      ]
     },
     "execution_count": 46,
     "metadata": {},
     "output_type": "execute_result"
    }
   ],
   "source": [
    "sym.simplify(f.diff( x, 0).diff( y, 1)).factor()"
   ]
  },
  {
   "cell_type": "markdown",
   "metadata": {},
   "source": [
    "# 2 Order derivs"
   ]
  },
  {
   "cell_type": "code",
   "execution_count": 47,
   "metadata": {},
   "outputs": [
    {
     "data": {
      "text/latex": [
       "$\\displaystyle x^{y - 2} y \\left(y - 1\\right)$"
      ],
      "text/plain": [
       "x**(y - 2)*y*(y - 1)"
      ]
     },
     "execution_count": 47,
     "metadata": {},
     "output_type": "execute_result"
    }
   ],
   "source": [
    "sym.simplify(f.diff( x, 2).diff( y, 0)).factor()"
   ]
  },
  {
   "cell_type": "code",
   "execution_count": 48,
   "metadata": {},
   "outputs": [
    {
     "data": {
      "text/latex": [
       "$\\displaystyle x^{y - 1} \\left(y \\log{\\left(x \\right)} + 1\\right)$"
      ],
      "text/plain": [
       "x**(y - 1)*(y*log(x) + 1)"
      ]
     },
     "execution_count": 48,
     "metadata": {},
     "output_type": "execute_result"
    }
   ],
   "source": [
    "sym.simplify(f.diff( x, 1).diff( y, 1)).factor()"
   ]
  },
  {
   "cell_type": "code",
   "execution_count": 49,
   "metadata": {},
   "outputs": [
    {
     "data": {
      "text/latex": [
       "$\\displaystyle x^{y} \\log{\\left(x \\right)}^{2}$"
      ],
      "text/plain": [
       "x**y*log(x)**2"
      ]
     },
     "execution_count": 49,
     "metadata": {},
     "output_type": "execute_result"
    }
   ],
   "source": [
    "sym.simplify(f.diff( x, 0).diff( y, 2)).factor()"
   ]
  },
  {
   "cell_type": "markdown",
   "metadata": {},
   "source": [
    "# 3 Order derivs"
   ]
  },
  {
   "cell_type": "code",
   "execution_count": 50,
   "metadata": {},
   "outputs": [
    {
     "data": {
      "text/latex": [
       "$\\displaystyle x^{y - 3} y \\left(y - 2\\right) \\left(y - 1\\right)$"
      ],
      "text/plain": [
       "x**(y - 3)*y*(y - 2)*(y - 1)"
      ]
     },
     "execution_count": 50,
     "metadata": {},
     "output_type": "execute_result"
    }
   ],
   "source": [
    "sym.simplify(f.diff( x, 3).diff( y, 0)).factor()"
   ]
  },
  {
   "cell_type": "code",
   "execution_count": 52,
   "metadata": {},
   "outputs": [
    {
     "data": {
      "text/latex": [
       "$\\displaystyle x^{y - 2} \\left(2 y + \\left(y^{2} - y\\right) \\log{\\left(x \\right)} - 1\\right)$"
      ],
      "text/plain": [
       "x**(y - 2)*(2*y + (y**2 - y)*log(x) - 1)"
      ]
     },
     "execution_count": 52,
     "metadata": {},
     "output_type": "execute_result"
    }
   ],
   "source": [
    "sym.simplify(f.diff( x, 2).diff( y, 1)).factor(ln_x)"
   ]
  },
  {
   "cell_type": "code",
   "execution_count": 54,
   "metadata": {},
   "outputs": [
    {
     "data": {
      "text/latex": [
       "$\\displaystyle x^{y - 1} \\left(y \\log{\\left(x \\right)} + 2\\right) \\log{\\left(x \\right)}$"
      ],
      "text/plain": [
       "x**(y - 1)*(y*log(x) + 2)*log(x)"
      ]
     },
     "execution_count": 54,
     "metadata": {},
     "output_type": "execute_result"
    }
   ],
   "source": [
    "sym.simplify(f.diff( x, 1).diff( y, 2)).factor(ln_x)"
   ]
  },
  {
   "cell_type": "code",
   "execution_count": 55,
   "metadata": {},
   "outputs": [
    {
     "data": {
      "text/latex": [
       "$\\displaystyle x^{y} \\log{\\left(x \\right)}^{3}$"
      ],
      "text/plain": [
       "x**y*log(x)**3"
      ]
     },
     "execution_count": 55,
     "metadata": {},
     "output_type": "execute_result"
    }
   ],
   "source": [
    "sym.simplify(f.diff( x, 0).diff( y, 3)).factor()"
   ]
  },
  {
   "cell_type": "markdown",
   "metadata": {},
   "source": [
    "# 4 Order derivs"
   ]
  },
  {
   "cell_type": "code",
   "execution_count": 56,
   "metadata": {},
   "outputs": [
    {
     "data": {
      "text/latex": [
       "$\\displaystyle x^{y - 4} y \\left(y - 3\\right) \\left(y - 2\\right) \\left(y - 1\\right)$"
      ],
      "text/plain": [
       "x**(y - 4)*y*(y - 3)*(y - 2)*(y - 1)"
      ]
     },
     "execution_count": 56,
     "metadata": {},
     "output_type": "execute_result"
    }
   ],
   "source": [
    "sym.simplify(f.diff( x, 4).diff( y, 0)).factor()"
   ]
  },
  {
   "cell_type": "code",
   "execution_count": 60,
   "metadata": {},
   "outputs": [
    {
     "data": {
      "text/latex": [
       "$\\displaystyle x^{y - 3} \\left(3 y^{2} - 6 y + \\left(y^{3} - 3 y^{2} + 2 y\\right) \\log{\\left(x \\right)} + 2\\right)$"
      ],
      "text/plain": [
       "x**(y - 3)*(3*y**2 - 6*y + (y**3 - 3*y**2 + 2*y)*log(x) + 2)"
      ]
     },
     "execution_count": 60,
     "metadata": {},
     "output_type": "execute_result"
    }
   ],
   "source": [
    "sym.simplify(f.diff( x, 3).diff( y, 1)).factor(ln_x)"
   ]
  },
  {
   "cell_type": "code",
   "execution_count": 61,
   "metadata": {},
   "outputs": [
    {
     "data": {
      "text/latex": [
       "$\\displaystyle x^{y - 2} \\left(\\left(4 y - 2\\right) \\log{\\left(x \\right)} + \\left(y^{2} - y\\right) \\log{\\left(x \\right)}^{2} + 2\\right)$"
      ],
      "text/plain": [
       "x**(y - 2)*((4*y - 2)*log(x) + (y**2 - y)*log(x)**2 + 2)"
      ]
     },
     "execution_count": 61,
     "metadata": {},
     "output_type": "execute_result"
    }
   ],
   "source": [
    "sym.simplify(f.diff( x, 2).diff( y, 2)).factor(ln_x)"
   ]
  },
  {
   "cell_type": "code",
   "execution_count": 62,
   "metadata": {},
   "outputs": [
    {
     "data": {
      "text/latex": [
       "$\\displaystyle x^{y - 1} \\left(y \\log{\\left(x \\right)} + 3\\right) \\log{\\left(x \\right)}^{2}$"
      ],
      "text/plain": [
       "x**(y - 1)*(y*log(x) + 3)*log(x)**2"
      ]
     },
     "execution_count": 62,
     "metadata": {},
     "output_type": "execute_result"
    }
   ],
   "source": [
    "sym.simplify(f.diff( x, 1).diff( y, 3)).factor(ln_x)"
   ]
  },
  {
   "cell_type": "code",
   "execution_count": 63,
   "metadata": {},
   "outputs": [
    {
     "data": {
      "text/latex": [
       "$\\displaystyle x^{y} \\log{\\left(x \\right)}^{4}$"
      ],
      "text/plain": [
       "x**y*log(x)**4"
      ]
     },
     "execution_count": 63,
     "metadata": {},
     "output_type": "execute_result"
    }
   ],
   "source": [
    "sym.simplify(f.diff( x, 0).diff( y, 4)).factor()"
   ]
  },
  {
   "cell_type": "markdown",
   "metadata": {},
   "source": [
    "# 5 order derivs"
   ]
  },
  {
   "cell_type": "code",
   "execution_count": 64,
   "metadata": {},
   "outputs": [
    {
     "data": {
      "text/latex": [
       "$\\displaystyle x^{y - 5} y \\left(y - 4\\right) \\left(y - 3\\right) \\left(y - 2\\right) \\left(y - 1\\right)$"
      ],
      "text/plain": [
       "x**(y - 5)*y*(y - 4)*(y - 3)*(y - 2)*(y - 1)"
      ]
     },
     "execution_count": 64,
     "metadata": {},
     "output_type": "execute_result"
    }
   ],
   "source": [
    "sym.simplify(f.diff( x, 5).diff( y, 0)).factor()"
   ]
  },
  {
   "cell_type": "code",
   "execution_count": 65,
   "metadata": {},
   "outputs": [
    {
     "data": {
      "text/latex": [
       "$\\displaystyle x^{y - 4} \\left(4 y^{3} - 18 y^{2} + 22 y + \\left(y^{4} - 6 y^{3} + 11 y^{2} - 6 y\\right) \\log{\\left(x \\right)} - 6\\right)$"
      ],
      "text/plain": [
       "x**(y - 4)*(4*y**3 - 18*y**2 + 22*y + (y**4 - 6*y**3 + 11*y**2 - 6*y)*log(x) - 6)"
      ]
     },
     "execution_count": 65,
     "metadata": {},
     "output_type": "execute_result"
    }
   ],
   "source": [
    "sym.simplify(f.diff( x, 4).diff( y, 1)).factor(ln_x)"
   ]
  },
  {
   "cell_type": "code",
   "execution_count": 66,
   "metadata": {},
   "outputs": [
    {
     "data": {
      "text/latex": [
       "$\\displaystyle x^{y - 3} \\left(6 y + \\left(6 y^{2} - 12 y + 4\\right) \\log{\\left(x \\right)} + \\left(y^{3} - 3 y^{2} + 2 y\\right) \\log{\\left(x \\right)}^{2} - 6\\right)$"
      ],
      "text/plain": [
       "x**(y - 3)*(6*y + (6*y**2 - 12*y + 4)*log(x) + (y**3 - 3*y**2 + 2*y)*log(x)**2 - 6)"
      ]
     },
     "execution_count": 66,
     "metadata": {},
     "output_type": "execute_result"
    }
   ],
   "source": [
    "sym.simplify(f.diff( x, 3).diff( y, 2)).factor(ln_x)"
   ]
  },
  {
   "cell_type": "code",
   "execution_count": 67,
   "metadata": {},
   "outputs": [
    {
     "data": {
      "text/latex": [
       "$\\displaystyle x^{y - 2} \\left(\\left(6 y - 3\\right) \\log{\\left(x \\right)} + \\left(y^{2} - y\\right) \\log{\\left(x \\right)}^{2} + 6\\right) \\log{\\left(x \\right)}$"
      ],
      "text/plain": [
       "x**(y - 2)*((6*y - 3)*log(x) + (y**2 - y)*log(x)**2 + 6)*log(x)"
      ]
     },
     "execution_count": 67,
     "metadata": {},
     "output_type": "execute_result"
    }
   ],
   "source": [
    "sym.simplify(f.diff( x, 2).diff( y, 3)).factor(ln_x)"
   ]
  },
  {
   "cell_type": "code",
   "execution_count": 68,
   "metadata": {},
   "outputs": [
    {
     "data": {
      "text/latex": [
       "$\\displaystyle x^{y - 1} \\left(y \\log{\\left(x \\right)} + 4\\right) \\log{\\left(x \\right)}^{3}$"
      ],
      "text/plain": [
       "x**(y - 1)*(y*log(x) + 4)*log(x)**3"
      ]
     },
     "execution_count": 68,
     "metadata": {},
     "output_type": "execute_result"
    }
   ],
   "source": [
    "sym.simplify(f.diff( x, 1).diff( y, 4)).factor(ln_x)"
   ]
  },
  {
   "cell_type": "code",
   "execution_count": 69,
   "metadata": {},
   "outputs": [
    {
     "data": {
      "text/latex": [
       "$\\displaystyle x^{y} \\log{\\left(x \\right)}^{5}$"
      ],
      "text/plain": [
       "x**y*log(x)**5"
      ]
     },
     "execution_count": 69,
     "metadata": {},
     "output_type": "execute_result"
    }
   ],
   "source": [
    "sym.simplify(f.diff( x, 0).diff( y, 5)).factor()"
   ]
  },
  {
   "cell_type": "markdown",
   "metadata": {},
   "source": [
    "# 6 order derivs"
   ]
  },
  {
   "cell_type": "code",
   "execution_count": 71,
   "metadata": {},
   "outputs": [
    {
     "data": {
      "text/latex": [
       "$\\displaystyle x^{y - 6} y \\left(y - 5\\right) \\left(y - 4\\right) \\left(y - 3\\right) \\left(y - 2\\right) \\left(y - 1\\right)$"
      ],
      "text/plain": [
       "x**(y - 6)*y*(y - 5)*(y - 4)*(y - 3)*(y - 2)*(y - 1)"
      ]
     },
     "execution_count": 71,
     "metadata": {},
     "output_type": "execute_result"
    }
   ],
   "source": [
    "sym.simplify(f.diff( x, 6).diff( y, 0)).factor()"
   ]
  },
  {
   "cell_type": "code",
   "execution_count": 72,
   "metadata": {},
   "outputs": [
    {
     "data": {
      "text/latex": [
       "$\\displaystyle x^{y - 5} \\left(5 y^{4} - 40 y^{3} + 105 y^{2} - 100 y + \\left(y^{5} - 10 y^{4} + 35 y^{3} - 50 y^{2} + 24 y\\right) \\log{\\left(x \\right)} + 24\\right)$"
      ],
      "text/plain": [
       "x**(y - 5)*(5*y**4 - 40*y**3 + 105*y**2 - 100*y + (y**5 - 10*y**4 + 35*y**3 - 50*y**2 + 24*y)*log(x) + 24)"
      ]
     },
     "execution_count": 72,
     "metadata": {},
     "output_type": "execute_result"
    }
   ],
   "source": [
    "sym.simplify(f.diff( x, 5).diff( y, 1)).factor(ln_x)"
   ]
  },
  {
   "cell_type": "code",
   "execution_count": 73,
   "metadata": {},
   "outputs": [
    {
     "data": {
      "text/latex": [
       "$\\displaystyle x^{y - 4} \\left(12 y^{2} - 36 y + \\left(8 y^{3} - 36 y^{2} + 44 y - 12\\right) \\log{\\left(x \\right)} + \\left(y^{4} - 6 y^{3} + 11 y^{2} - 6 y\\right) \\log{\\left(x \\right)}^{2} + 22\\right)$"
      ],
      "text/plain": [
       "x**(y - 4)*(12*y**2 - 36*y + (8*y**3 - 36*y**2 + 44*y - 12)*log(x) + (y**4 - 6*y**3 + 11*y**2 - 6*y)*log(x)**2 + 22)"
      ]
     },
     "execution_count": 73,
     "metadata": {},
     "output_type": "execute_result"
    }
   ],
   "source": [
    "sym.simplify(f.diff( x, 4).diff( y, 2)).factor(ln_x)"
   ]
  },
  {
   "cell_type": "code",
   "execution_count": 74,
   "metadata": {},
   "outputs": [
    {
     "data": {
      "text/latex": [
       "$\\displaystyle x^{y - 3} \\left(\\left(18 y - 18\\right) \\log{\\left(x \\right)} + \\left(9 y^{2} - 18 y + 6\\right) \\log{\\left(x \\right)}^{2} + \\left(y^{3} - 3 y^{2} + 2 y\\right) \\log{\\left(x \\right)}^{3} + 6\\right)$"
      ],
      "text/plain": [
       "x**(y - 3)*((18*y - 18)*log(x) + (9*y**2 - 18*y + 6)*log(x)**2 + (y**3 - 3*y**2 + 2*y)*log(x)**3 + 6)"
      ]
     },
     "execution_count": 74,
     "metadata": {},
     "output_type": "execute_result"
    }
   ],
   "source": [
    "sym.simplify(f.diff( x, 3).diff( y, 3)).factor(ln_x)"
   ]
  },
  {
   "cell_type": "code",
   "execution_count": 75,
   "metadata": {},
   "outputs": [
    {
     "data": {
      "text/latex": [
       "$\\displaystyle x^{y - 2} \\left(\\left(8 y - 4\\right) \\log{\\left(x \\right)} + \\left(y^{2} - y\\right) \\log{\\left(x \\right)}^{2} + 12\\right) \\log{\\left(x \\right)}^{2}$"
      ],
      "text/plain": [
       "x**(y - 2)*((8*y - 4)*log(x) + (y**2 - y)*log(x)**2 + 12)*log(x)**2"
      ]
     },
     "execution_count": 75,
     "metadata": {},
     "output_type": "execute_result"
    }
   ],
   "source": [
    "sym.simplify(f.diff( x, 2).diff( y, 4)).factor(ln_x)"
   ]
  },
  {
   "cell_type": "code",
   "execution_count": 76,
   "metadata": {},
   "outputs": [
    {
     "data": {
      "text/latex": [
       "$\\displaystyle x^{y - 1} \\left(y \\log{\\left(x \\right)} + 5\\right) \\log{\\left(x \\right)}^{4}$"
      ],
      "text/plain": [
       "x**(y - 1)*(y*log(x) + 5)*log(x)**4"
      ]
     },
     "execution_count": 76,
     "metadata": {},
     "output_type": "execute_result"
    }
   ],
   "source": [
    "sym.simplify(f.diff( x, 1).diff( y, 5)).factor(ln_x)"
   ]
  },
  {
   "cell_type": "code",
   "execution_count": 77,
   "metadata": {},
   "outputs": [
    {
     "data": {
      "text/latex": [
       "$\\displaystyle x^{y} \\log{\\left(x \\right)}^{6}$"
      ],
      "text/plain": [
       "x**y*log(x)**6"
      ]
     },
     "execution_count": 77,
     "metadata": {},
     "output_type": "execute_result"
    }
   ],
   "source": [
    "sym.simplify(f.diff( x, 0).diff( y, 6)).factor(ln_x)"
   ]
  },
  {
   "cell_type": "code",
   "execution_count": null,
   "metadata": {},
   "outputs": [],
   "source": []
  }
 ],
 "metadata": {
  "kernelspec": {
   "display_name": "Python 3",
   "language": "python",
   "name": "python3"
  },
  "language_info": {
   "codemirror_mode": {
    "name": "ipython",
    "version": 3
   },
   "file_extension": ".py",
   "mimetype": "text/x-python",
   "name": "python",
   "nbconvert_exporter": "python",
   "pygments_lexer": "ipython3",
   "version": "3.7.3"
  }
 },
 "nbformat": 4,
 "nbformat_minor": 4
}
