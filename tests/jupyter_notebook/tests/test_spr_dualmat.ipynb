{
 "cells": [
  {
   "cell_type": "markdown",
   "metadata": {},
   "source": [
    "# How to use dual matrices with ```spr_duallib```\n",
    "# V 0.1\n",
    "``` python\n",
    "\"\"\" \n",
    "Contributors to this file:\n",
    "Mauricio Aristizabal Cano\n",
    "\n",
    "Date of creation:  25 04 2016\n",
    "Last modification: 04 05 2016\n",
    "Universidad EAFIT, Medellin, Colombia.\n",
    "\"\"\"\n",
    "```\n",
    "\n",
    "## 0. Introduction\n",
    "This file will help to understand how to use sparse matrices with dual numbers, implemented with the library ```spr_duallib```. This will require as basic knowledge, how the ```spr_dualnum``` class works.  The library is based o the CSR sparse matrix format.\n",
    "\n",
    "## 1. Getting started\n",
    "\n",
    "First, import the library as follows (we will also import numpy because it is necesary to handle several operations)."
   ]
  },
  {
   "cell_type": "code",
   "execution_count": 1,
   "metadata": {
    "collapsed": false,
    "scrolled": true
   },
   "outputs": [],
   "source": [
    "import spr_duallib as dn\n",
    "import numpy as np\n",
    "np.set_printoptions(precision=2,linewidth=240,suppress=True)"
   ]
  },
  {
   "cell_type": "markdown",
   "metadata": {},
   "source": [
    "A very short explanation how th CSR format works: \n",
    "Let's consider the matrix\n",
    "$$\n",
    "\\begin{bmatrix}\n",
    "1 & 0 & 2 & 0\\\\\n",
    "0 & 3 & 0 & 0\\\\\n",
    "0 & 0 & 0 & 0\\\\\n",
    "0 & 4 & 5 & 0\\\\\n",
    "\\end{bmatrix}\n",
    "$$\n",
    "\n",
    "The idea of a sparse matrix is to store only the non-zero values of the matrix. It is then formed (mainly) by three attributes: \n",
    "- ```data```: Array of the non-zero values, for the example $[1,2,3,4,5]$\n",
    "- ```index```: Array that indicates for each element in ```data``` to what column it belongs to, for this example the array is $[0,2,1,1,2]$\n",
    "- ``` indxptr```: An array of values that indicates for row ```i```, the data associated is  ```data[indxptr[i]:indxptr[i+1]``` and the column values are: ```index[indxptr[i]:indxptr[i+1]```. For the matrix example, $[0,2,3,3,5]$."
   ]
  },
  {
   "cell_type": "markdown",
   "metadata": {},
   "source": [
    "## 1.1 Create a matrix\n",
    "\n",
    "There are 4 manners to create a sparse matrix object:\n"
   ]
  },
  {
   "cell_type": "markdown",
   "metadata": {},
   "source": [
    "### 1.1.1 Direct CSR format\n",
    "The creation of a sparse matrix is done by simply placing the ```data```, ```index``` and ```indxptr``` arrays. In this case a ```spr_dualmat``` can be created using the constructor \n",
    "\n",
    "```spr_dualmat((data, index, indxptr), [shape=(M, N), maxorder = k])```\n",
    "\n",
    "in which ```shape``` determines the shape of the matrix. If it is not present, then the shape will be automatically deduced from index and indxptr. \n",
    "Also, ```maxorder``` determines the maximum order of the internal elements. If it is not present, maxorder will use the maximum of the orders of the \n",
    "\n",
    "Using the previous example, the resulting matrix is  \n"
   ]
  },
  {
   "cell_type": "code",
   "execution_count": 2,
   "metadata": {
    "collapsed": false,
    "scrolled": true
   },
   "outputs": [],
   "source": [
    "data = [1,2,3,4,5]\n",
    "index = [0,2,1,1,2]\n",
    "indxptr = [0,2,3,3,5]\n",
    "\n",
    "a = dn.spr_dualmat((data, index, indxptr),shape = (4,4))"
   ]
  },
  {
   "cell_type": "markdown",
   "metadata": {},
   "source": [
    "Now, how do we know what have we done? We need to display what we have created. There are two ways. In one method, we can use the representation method, in which we will only get the general characteristics of the matrix, i.e. shape, number of elements and maxorder. We won't get any other information."
   ]
  },
  {
   "cell_type": "code",
   "execution_count": 3,
   "metadata": {
    "collapsed": false,
    "scrolled": true
   },
   "outputs": [
    {
     "data": {
      "text/plain": [
       "<(4, 4) sparse matrix with 5 spr_dualnum elements of order 1>"
      ]
     },
     "execution_count": 3,
     "metadata": {},
     "output_type": "execute_result"
    }
   ],
   "source": [
    "a"
   ]
  },
  {
   "cell_type": "markdown",
   "metadata": {},
   "source": [
    "The second method is to use the ```print``` command. This will print allways the constructor in the direct CSR format, using ```spr_dualnum``` objects:"
   ]
  },
  {
   "cell_type": "code",
   "execution_count": 4,
   "metadata": {
    "collapsed": false,
    "scrolled": true
   },
   "outputs": [
    {
     "name": "stdout",
     "output_type": "stream",
     "text": [
      "spr_dualmat(([spr_dualnum([0],[1.],1),spr_dualnum([0],[2.],1),spr_dualnum([0],[3.],1),spr_dualnum([0],[4.],1),spr_dualnum([0],[5.],1)], [0,2,1,1,2], [0,2,3,3,5]), shape=(4,4), maxorder=1)\n"
     ]
    }
   ],
   "source": [
    "print(a)"
   ]
  },
  {
   "cell_type": "markdown",
   "metadata": {},
   "source": [
    "A more human friendly way to use the method is to create an a full matrix, including the zero elements, this is, a dense representation of the matrix. This is done using ```toarray()``` method. In this case, the visualization becomes as follows (Recall zero in ```spr_dualnum``` is ```spr_dualnum([], [], 1)```)."
   ]
  },
  {
   "cell_type": "code",
   "execution_count": 5,
   "metadata": {
    "collapsed": false,
    "scrolled": true
   },
   "outputs": [
    {
     "data": {
      "text/plain": [
       "array([[spr_dualnum([0], [1.], 1), spr_dualnum([], [], 1), spr_dualnum([0], [2.], 1), spr_dualnum([], [], 1)],\n",
       "       [spr_dualnum([], [], 1), spr_dualnum([0], [3.], 1), spr_dualnum([], [], 1), spr_dualnum([], [], 1)],\n",
       "       [spr_dualnum([], [], 1), spr_dualnum([], [], 1), spr_dualnum([], [], 1), spr_dualnum([], [], 1)],\n",
       "       [spr_dualnum([], [], 1), spr_dualnum([0], [4.], 1), spr_dualnum([0], [5.], 1), spr_dualnum([], [], 1)]], dtype=object)"
      ]
     },
     "execution_count": 5,
     "metadata": {},
     "output_type": "execute_result"
    }
   ],
   "source": [
    "a.toarray()"
   ]
  },
  {
   "cell_type": "markdown",
   "metadata": {},
   "source": [
    "We see that indeed we have created the example matrix. In order to check the attributes of the matrix, we can call them by"
   ]
  },
  {
   "cell_type": "code",
   "execution_count": 6,
   "metadata": {
    "collapsed": false,
    "scrolled": true
   },
   "outputs": [
    {
     "data": {
      "text/plain": [
       "array([spr_dualnum([0], [1.], 1), spr_dualnum([0], [2.], 1), spr_dualnum([0], [3.], 1), spr_dualnum([0], [4.], 1), spr_dualnum([0], [5.], 1)], dtype=object)"
      ]
     },
     "execution_count": 6,
     "metadata": {},
     "output_type": "execute_result"
    }
   ],
   "source": [
    "a.data"
   ]
  },
  {
   "cell_type": "code",
   "execution_count": 7,
   "metadata": {
    "collapsed": false,
    "scrolled": true
   },
   "outputs": [
    {
     "data": {
      "text/plain": [
       "[0, 2, 1, 1, 2]"
      ]
     },
     "execution_count": 7,
     "metadata": {},
     "output_type": "execute_result"
    }
   ],
   "source": [
    "a.index"
   ]
  },
  {
   "cell_type": "code",
   "execution_count": 8,
   "metadata": {
    "collapsed": false,
    "scrolled": true
   },
   "outputs": [
    {
     "data": {
      "text/plain": [
       "array([0, 2, 3, 3, 5])"
      ]
     },
     "execution_count": 8,
     "metadata": {},
     "output_type": "execute_result"
    }
   ],
   "source": [
    "a.indxptr"
   ]
  },
  {
   "cell_type": "markdown",
   "metadata": {},
   "source": [
    "There is another attribute which is the maxorder attribute, which sets the maximum order for all data in the matrix."
   ]
  },
  {
   "cell_type": "code",
   "execution_count": 9,
   "metadata": {
    "collapsed": false,
    "scrolled": true
   },
   "outputs": [
    {
     "data": {
      "text/plain": [
       "1"
      ]
     },
     "execution_count": 9,
     "metadata": {},
     "output_type": "execute_result"
    }
   ],
   "source": [
    "a.maxorder"
   ]
  },
  {
   "cell_type": "markdown",
   "metadata": {},
   "source": [
    "###1.1.2 Empty matrix\n",
    "To create an empty matrix one can simply call the matrix constructor with the shape of the matrix, as follows"
   ]
  },
  {
   "cell_type": "code",
   "execution_count": 10,
   "metadata": {
    "collapsed": false,
    "scrolled": true
   },
   "outputs": [],
   "source": [
    "a=dn.spr_dualmat((3,4))"
   ]
  },
  {
   "cell_type": "markdown",
   "metadata": {},
   "source": [
    "In order to get the representation of the matrix, it has a representation mode, which returns the shape of the matrix with the number of non-zero elements and the order (of the ```spr_dualnum```s it will hold)"
   ]
  },
  {
   "cell_type": "code",
   "execution_count": 11,
   "metadata": {
    "collapsed": false,
    "scrolled": true
   },
   "outputs": [
    {
     "data": {
      "text/plain": [
       "<(3, 4) sparse matrix with 0 spr_dualnum elements of order 1>"
      ]
     },
     "execution_count": 11,
     "metadata": {},
     "output_type": "execute_result"
    }
   ],
   "source": [
    "a"
   ]
  },
  {
   "cell_type": "code",
   "execution_count": 12,
   "metadata": {
    "collapsed": false,
    "scrolled": true
   },
   "outputs": [
    {
     "name": "stdout",
     "output_type": "stream",
     "text": [
      "spr_dualmat(([], [], [0,0,0,0]), shape=(3,4), maxorder=1)\n"
     ]
    }
   ],
   "source": [
    "print(a)"
   ]
  },
  {
   "cell_type": "markdown",
   "metadata": {},
   "source": [
    "### 1.1.3 Dense constructor\n",
    "\n",
    "Given a dense matrix, either with real number of with dual numbers, the library creates a sparse matrix. Hence"
   ]
  },
  {
   "cell_type": "code",
   "execution_count": 13,
   "metadata": {
    "collapsed": false,
    "scrolled": true
   },
   "outputs": [
    {
     "data": {
      "text/plain": [
       "<(4, 4) sparse matrix with 5 spr_dualnum elements of order 1>"
      ]
     },
     "execution_count": 13,
     "metadata": {},
     "output_type": "execute_result"
    }
   ],
   "source": [
    "dense = np.array([[1,0,2,0],\n",
    "                  [0,3,0,0],\n",
    "                  [0,0,0,0],\n",
    "                  [0,4,5,0]\n",
    "                 ])\n",
    "\n",
    "a= dn.spr_dualmat(dense)\n",
    "a"
   ]
  },
  {
   "cell_type": "code",
   "execution_count": 14,
   "metadata": {
    "collapsed": false,
    "scrolled": true
   },
   "outputs": [
    {
     "data": {
      "text/plain": [
       "array([[spr_dualnum([0], [1.], 1), spr_dualnum([], [], 1), spr_dualnum([0], [2.], 1), spr_dualnum([], [], 1)],\n",
       "       [spr_dualnum([], [], 1), spr_dualnum([0], [3.], 1), spr_dualnum([], [], 1), spr_dualnum([], [], 1)],\n",
       "       [spr_dualnum([], [], 1), spr_dualnum([], [], 1), spr_dualnum([], [], 1), spr_dualnum([], [], 1)],\n",
       "       [spr_dualnum([], [], 1), spr_dualnum([0], [4.], 1), spr_dualnum([0], [5.], 1), spr_dualnum([], [], 1)]], dtype=object)"
      ]
     },
     "execution_count": 14,
     "metadata": {},
     "output_type": "execute_result"
    }
   ],
   "source": [
    "a.toarray()"
   ]
  },
  {
   "cell_type": "code",
   "execution_count": 15,
   "metadata": {
    "collapsed": false,
    "scrolled": true
   },
   "outputs": [
    {
     "data": {
      "text/plain": [
       "array([spr_dualnum([0], [1.], 1), spr_dualnum([0], [2.], 1), spr_dualnum([0], [3.], 1), spr_dualnum([0], [4.], 1), spr_dualnum([0], [5.], 1)], dtype=object)"
      ]
     },
     "execution_count": 15,
     "metadata": {},
     "output_type": "execute_result"
    }
   ],
   "source": [
    "a.data"
   ]
  },
  {
   "cell_type": "code",
   "execution_count": 16,
   "metadata": {
    "collapsed": false,
    "scrolled": true
   },
   "outputs": [
    {
     "data": {
      "text/plain": [
       "[0, 2, 1, 1, 2]"
      ]
     },
     "execution_count": 16,
     "metadata": {},
     "output_type": "execute_result"
    }
   ],
   "source": [
    "a.index"
   ]
  },
  {
   "cell_type": "code",
   "execution_count": 17,
   "metadata": {
    "collapsed": false,
    "scrolled": true
   },
   "outputs": [
    {
     "data": {
      "text/plain": [
       "array([0, 2, 3, 3, 5])"
      ]
     },
     "execution_count": 17,
     "metadata": {},
     "output_type": "execute_result"
    }
   ],
   "source": [
    "a.indxptr"
   ]
  },
  {
   "cell_type": "code",
   "execution_count": 18,
   "metadata": {
    "collapsed": false,
    "scrolled": true
   },
   "outputs": [
    {
     "data": {
      "text/plain": [
       "1"
      ]
     },
     "execution_count": 18,
     "metadata": {},
     "output_type": "execute_result"
    }
   ],
   "source": [
    "a.maxorder"
   ]
  },
  {
   "cell_type": "markdown",
   "metadata": {},
   "source": [
    "###1.1.4 Using individually specifyed data\n",
    "\n",
    "The last form to create a sparse matrix is to specify each element with its corresponding position, this is, \n",
    "\n",
    "```a=spr_dualmat((data, (row_ind, col_ind)), [shape=(M, N), maxorder=k])```,\n",
    "\n",
    "where ```a[row_ind[j],col_ind[j]]=data[k]```\n",
    "\n",
    "All the input variables should be aligned as stated above, but they don't have to be ordered. If shape is not given, the shape will be derived from the ```col_ind``` and ```row_ind```.\n",
    "\n",
    "For the previous example, it becomes as follows:"
   ]
  },
  {
   "cell_type": "code",
   "execution_count": 19,
   "metadata": {
    "collapsed": false,
    "scrolled": true
   },
   "outputs": [
    {
     "data": {
      "text/plain": [
       "<(4, 4) sparse matrix with 5 spr_dualnum elements of order 1>"
      ]
     },
     "execution_count": 19,
     "metadata": {},
     "output_type": "execute_result"
    }
   ],
   "source": [
    "data = [5,2,3,1,4]\n",
    "col_ind = [2,2,1,0,1]\n",
    "row_ind = [3,0,1,0,3]\n",
    "\n",
    "\n",
    "a=dn.spr_dualmat((data, (row_ind, col_ind)),shape=(4,4))\n",
    "a"
   ]
  },
  {
   "cell_type": "code",
   "execution_count": 20,
   "metadata": {
    "collapsed": false,
    "scrolled": true
   },
   "outputs": [
    {
     "name": "stdout",
     "output_type": "stream",
     "text": [
      "spr_dualmat(([spr_dualnum([0],[1.],1),spr_dualnum([0],[2.],1),spr_dualnum([0],[3.],1),spr_dualnum([0],[4.],1),spr_dualnum([0],[5.],1)], [0,2,1,1,2], [0,2,3,3,5]), shape=(4,4), maxorder=1)\n"
     ]
    }
   ],
   "source": [
    "print(a)"
   ]
  },
  {
   "cell_type": "code",
   "execution_count": 21,
   "metadata": {
    "collapsed": false,
    "scrolled": true
   },
   "outputs": [
    {
     "data": {
      "text/plain": [
       "array([[spr_dualnum([0], [1.], 1), spr_dualnum([], [], 1), spr_dualnum([0], [2.], 1), spr_dualnum([], [], 1)],\n",
       "       [spr_dualnum([], [], 1), spr_dualnum([0], [3.], 1), spr_dualnum([], [], 1), spr_dualnum([], [], 1)],\n",
       "       [spr_dualnum([], [], 1), spr_dualnum([], [], 1), spr_dualnum([], [], 1), spr_dualnum([], [], 1)],\n",
       "       [spr_dualnum([], [], 1), spr_dualnum([0], [4.], 1), spr_dualnum([0], [5.], 1), spr_dualnum([], [], 1)]], dtype=object)"
      ]
     },
     "execution_count": 21,
     "metadata": {},
     "output_type": "execute_result"
    }
   ],
   "source": [
    "a.toarray()"
   ]
  },
  {
   "cell_type": "code",
   "execution_count": 22,
   "metadata": {
    "collapsed": false,
    "scrolled": true
   },
   "outputs": [
    {
     "data": {
      "text/plain": [
       "1"
      ]
     },
     "execution_count": 22,
     "metadata": {},
     "output_type": "execute_result"
    }
   ],
   "source": [
    "a.maxorder"
   ]
  },
  {
   "cell_type": "markdown",
   "metadata": {},
   "source": [
    "Its attributes remain the same as before."
   ]
  },
  {
   "cell_type": "markdown",
   "metadata": {},
   "source": [
    "## 1.2 Operations\n",
    "### 1.2.1 Sum\n",
    "Sum can be operated with 4 different types of data: real numbers, sparse dual numbers, sparse and dense matrix. Have in mind that this operation preserves the maximum between the order of the matrix and the order of whatever comes to be operated.\n",
    "\n",
    "Therefore, the 4 cases give:\n",
    "\n",
    "- **Sum to real number**"
   ]
  },
  {
   "cell_type": "code",
   "execution_count": 23,
   "metadata": {
    "collapsed": false,
    "scrolled": true
   },
   "outputs": [
    {
     "name": "stdout",
     "output_type": "stream",
     "text": [
      "spr_dualmat(([spr_dualnum([0],[6.],1),spr_dualnum([0],[7.],1),spr_dualnum([0],[8.],1),spr_dualnum([0],[9.],1),spr_dualnum([0],[10.],1)], [0,2,1,1,2], [0,2,3,3,5]), shape=(4,4), maxorder=1)\n"
     ]
    }
   ],
   "source": [
    "print(a+5)"
   ]
  },
  {
   "cell_type": "markdown",
   "metadata": {},
   "source": [
    "All terms were summed by real number 5.\n",
    "\n",
    "- **Sum to sparse hyper-dual number:**"
   ]
  },
  {
   "cell_type": "code",
   "execution_count": 24,
   "metadata": {
    "collapsed": false,
    "scrolled": true
   },
   "outputs": [
    {
     "name": "stdout",
     "output_type": "stream",
     "text": [
      "spr_dualmat(([spr_dualnum([0,5],[1.,30.],2),spr_dualnum([0,5],[2.,30.],2),spr_dualnum([0,5],[3.,30.],2),spr_dualnum([0,5],[4.,30.],2),spr_dualnum([0,5],[5.,30.],2)], [0,2,1,1,2], [0,2,3,3,5]), shape=(4,4), maxorder=2)\n"
     ]
    }
   ],
   "source": [
    "print(a+30.0*dn.e([1,2]))"
   ]
  },
  {
   "cell_type": "markdown",
   "metadata": {},
   "source": [
    "This results in all terms added by $30 \\ \\epsilon_1\\epsilon_2$, with all changed to order 2.\n",
    "\n",
    "- **Sum to other sparse matrix**"
   ]
  },
  {
   "cell_type": "code",
   "execution_count": 25,
   "metadata": {
    "collapsed": false,
    "scrolled": true
   },
   "outputs": [
    {
     "name": "stdout",
     "output_type": "stream",
     "text": [
      "spr_dualmat(([spr_dualnum([73],[1.],3),spr_dualnum([73],[2.],3),spr_dualnum([73],[1.],3),spr_dualnum([73],[3.],3),spr_dualnum([73],[3.],3),spr_dualnum([73],[4.],3),spr_dualnum([73],[5.],3)], [0,2,3,1,2,1,2], [0,3,4,5,7]), shape=(4,4), maxorder=3)\n"
     ]
    }
   ],
   "source": [
    "dense_b = np.array([[1,0,2,1],\n",
    "                  [0,3,0,0],\n",
    "                  [0,0,3,0],\n",
    "                  [0,4,5,0]\n",
    "                 ])*dn.e([1,2,3])\n",
    "\n",
    "# define new matrix\n",
    "b = dn.spr_dualmat(dense_b)\n",
    "print(b)"
   ]
  },
  {
   "cell_type": "code",
   "execution_count": 26,
   "metadata": {
    "collapsed": false,
    "scrolled": false
   },
   "outputs": [
    {
     "name": "stdout",
     "output_type": "stream",
     "text": [
      "spr_dualmat(([spr_dualnum([0,73],[1.,1.],3),spr_dualnum([0,73],[2.,2.],3),spr_dualnum([73],[1.],3),spr_dualnum([0,73],[3.,3.],3),spr_dualnum([73],[3.],3),spr_dualnum([0,73],[4.,4.],3),spr_dualnum([0,73],[5.,5.],3)], [0,2,3,1,2,1,2], [0,3,4,5,7]), shape=(4,4), maxorder=3)\n"
     ]
    }
   ],
   "source": [
    "print(a+b)"
   ]
  },
  {
   "cell_type": "markdown",
   "metadata": {},
   "source": [
    "The result shows that new positions are made, and those positions that share values are summed.\n",
    "\n",
    "- **Sum with a dense matrix**"
   ]
  },
  {
   "cell_type": "code",
   "execution_count": 27,
   "metadata": {
    "collapsed": false,
    "scrolled": false
   },
   "outputs": [
    {
     "name": "stdout",
     "output_type": "stream",
     "text": [
      "spr_dualmat(([spr_dualnum([0,73],[1.,1.],3),spr_dualnum([0,73],[2.,2.],3),spr_dualnum([73],[1.],3),spr_dualnum([0,73],[3.,3.],3),spr_dualnum([73],[3.],3),spr_dualnum([0,73],[4.,4.],3),spr_dualnum([0,73],[5.,5.],3)], [0,2,3,1,2,1,2], [0,3,4,5,7]), shape=(4,4), maxorder=3)\n"
     ]
    }
   ],
   "source": [
    "print(a+dense_b)"
   ]
  },
  {
   "cell_type": "markdown",
   "metadata": {},
   "source": [
    "The result is the same as before.\n",
    "\n",
    "Addition also works as inplace:"
   ]
  },
  {
   "cell_type": "code",
   "execution_count": 28,
   "metadata": {
    "collapsed": true
   },
   "outputs": [],
   "source": [
    "b+=a"
   ]
  },
  {
   "cell_type": "code",
   "execution_count": 29,
   "metadata": {
    "collapsed": false
   },
   "outputs": [
    {
     "name": "stdout",
     "output_type": "stream",
     "text": [
      "spr_dualmat(([spr_dualnum([0,73],[1.,1.],3),spr_dualnum([0,73],[2.,2.],3),spr_dualnum([73],[1.],3),spr_dualnum([0,73],[3.,3.],3),spr_dualnum([73],[3.],3),spr_dualnum([0,73],[4.,4.],3),spr_dualnum([0,73],[5.,5.],3)], [0,2,3,1,2,1,2], [0,3,4,5,7]), shape=(4,4), maxorder=3)\n"
     ]
    }
   ],
   "source": [
    "print(b)"
   ]
  },
  {
   "cell_type": "markdown",
   "metadata": {},
   "source": [
    "### 1.2.2 Multiplication\n",
    "\n",
    "Multiplication can be performed either elementwise or dot multiplication. the first one is performed using the operator ```*```. In this sense, the matrix can be multiplyed by a real number, a ```spr_dualnum``` or a same shape matrix (dense or sparse). Examples of this are shown below: "
   ]
  },
  {
   "cell_type": "code",
   "execution_count": 30,
   "metadata": {
    "collapsed": false
   },
   "outputs": [
    {
     "name": "stdout",
     "output_type": "stream",
     "text": [
      "spr_dualmat(([spr_dualnum([0],[3.],1),spr_dualnum([0],[6.],1),spr_dualnum([0],[9.],1),spr_dualnum([0],[12.],1),spr_dualnum([0],[15.],1)], [0,2,1,1,2], [0,2,3,3,5]), shape=(4,4), maxorder=1)\n"
     ]
    }
   ],
   "source": [
    "print(a*3)"
   ]
  },
  {
   "cell_type": "code",
   "execution_count": 31,
   "metadata": {
    "collapsed": false
   },
   "outputs": [
    {
     "name": "stdout",
     "output_type": "stream",
     "text": [
      "spr_dualmat(([spr_dualnum([1],[1.],1),spr_dualnum([1],[2.],1),spr_dualnum([1],[3.],1),spr_dualnum([1],[4.],1),spr_dualnum([1],[5.],1)], [0,2,1,1,2], [0,2,3,3,5]), shape=(4,4), maxorder=1)\n"
     ]
    }
   ],
   "source": [
    "print(a*dn.e([1]))"
   ]
  },
  {
   "cell_type": "code",
   "execution_count": 32,
   "metadata": {
    "collapsed": false,
    "scrolled": true
   },
   "outputs": [
    {
     "name": "stdout",
     "output_type": "stream",
     "text": [
      "spr_dualmat(([], [], [0,0,0,0,0]), shape=(4,4), maxorder=1)\n"
     ]
    }
   ],
   "source": [
    "print(a*dn.e([1,2,3])) # Only the minimum order is preserved."
   ]
  },
  {
   "cell_type": "code",
   "execution_count": 33,
   "metadata": {
    "collapsed": false,
    "scrolled": true
   },
   "outputs": [
    {
     "name": "stdout",
     "output_type": "stream",
     "text": [
      "[[spr_dualnum([0,73], [1.,1.], 3) spr_dualnum([], [], 3) spr_dualnum([0,73], [4.,4.], 3) spr_dualnum([], [], 3)]\n",
      " [spr_dualnum([], [], 3) spr_dualnum([0,73], [9.,9.], 3) spr_dualnum([], [], 3) spr_dualnum([], [], 3)]\n",
      " [spr_dualnum([], [], 3) spr_dualnum([], [], 3) spr_dualnum([], [], 3) spr_dualnum([], [], 3)]\n",
      " [spr_dualnum([], [], 3) spr_dualnum([0,73], [16.,16.], 3) spr_dualnum([0,73], [25.,25.], 3) spr_dualnum([], [], 3)]]\n"
     ]
    }
   ],
   "source": [
    "a.changeOrder(3)\n",
    "print((a*b).toarray())"
   ]
  },
  {
   "cell_type": "code",
   "execution_count": 34,
   "metadata": {
    "collapsed": false
   },
   "outputs": [
    {
     "data": {
      "text/plain": [
       "array([[spr_dualnum([0,73], [1.,1.], 3), spr_dualnum([], [], 3), spr_dualnum([0,73], [4.,4.], 3), spr_dualnum([], [], 3)],\n",
       "       [spr_dualnum([], [], 3), spr_dualnum([0,73], [9.,9.], 3), spr_dualnum([], [], 3), spr_dualnum([], [], 3)],\n",
       "       [spr_dualnum([], [], 3), spr_dualnum([], [], 3), spr_dualnum([], [], 3), spr_dualnum([], [], 3)],\n",
       "       [spr_dualnum([], [], 3), spr_dualnum([0,73], [16.,16.], 3), spr_dualnum([0,73], [25.,25.], 3), spr_dualnum([], [], 3)]], dtype=object)"
      ]
     },
     "execution_count": 34,
     "metadata": {},
     "output_type": "execute_result"
    }
   ],
   "source": [
    "(b*a).toarray()"
   ]
  },
  {
   "cell_type": "code",
   "execution_count": 35,
   "metadata": {
    "collapsed": false
   },
   "outputs": [
    {
     "data": {
      "text/plain": [
       "array([[spr_dualnum([0,73], [1.,1.], 3), spr_dualnum([], [], 3), spr_dualnum([0,73], [4.,4.], 3), spr_dualnum([], [], 3)],\n",
       "       [spr_dualnum([], [], 3), spr_dualnum([0,73], [9.,9.], 3), spr_dualnum([], [], 3), spr_dualnum([], [], 3)],\n",
       "       [spr_dualnum([], [], 3), spr_dualnum([], [], 3), spr_dualnum([], [], 3), spr_dualnum([], [], 3)],\n",
       "       [spr_dualnum([], [], 3), spr_dualnum([0,73], [16.,16.], 3), spr_dualnum([0,73], [25.,25.], 3), spr_dualnum([], [], 3)]], dtype=object)"
      ]
     },
     "execution_count": 35,
     "metadata": {},
     "output_type": "execute_result"
    }
   ],
   "source": [
    "b*=a\n",
    "b.toarray()"
   ]
  },
  {
   "cell_type": "markdown",
   "metadata": {},
   "source": [
    "As seen, all mltiplication is defined fully operational in the library.\n",
    "\n",
    "The dot product is called using ```dn.dot(a,b)```, under the normal inner product contition (for matrices) that inner dimensions must be the same. For this case:"
   ]
  },
  {
   "cell_type": "code",
   "execution_count": 36,
   "metadata": {
    "collapsed": false
   },
   "outputs": [],
   "source": [
    "dense1 = np.array([[1,2,4],\n",
    "                  [5,6,8],\n",
    "                  [0,7,0],\n",
    "                  [0,0,1]\n",
    "                 ])\n",
    "\n",
    "dense2 = np.array([[1,2,3,0],\n",
    "                   [5,6,0,8],\n",
    "                   [5,0,9,0],\n",
    "                 ])"
   ]
  },
  {
   "cell_type": "code",
   "execution_count": 37,
   "metadata": {
    "collapsed": false
   },
   "outputs": [
    {
     "name": "stdout",
     "output_type": "stream",
     "text": [
      "[[31 14 39 16]\n",
      " [75 46 87 48]\n",
      " [35 42  0 56]\n",
      " [ 5  0  9  0]]\n"
     ]
    }
   ],
   "source": [
    "dot_prod= np.dot(dense1,dense2)\n",
    "print(dot_prod)"
   ]
  },
  {
   "cell_type": "code",
   "execution_count": 38,
   "metadata": {
    "collapsed": false
   },
   "outputs": [
    {
     "name": "stdout",
     "output_type": "stream",
     "text": [
      "[[spr_dualnum([0], [31.], 1) spr_dualnum([0], [14.], 1) spr_dualnum([0], [39.], 1) spr_dualnum([0], [16.], 1)]\n",
      " [spr_dualnum([0], [75.], 1) spr_dualnum([0], [46.], 1) spr_dualnum([0], [87.], 1) spr_dualnum([0], [48.], 1)]\n",
      " [spr_dualnum([0], [35.], 1) spr_dualnum([0], [42.], 1) spr_dualnum([], [], 1) spr_dualnum([0], [56.], 1)]\n",
      " [spr_dualnum([0], [5.], 1) spr_dualnum([], [], 1) spr_dualnum([0], [9.], 1) spr_dualnum([], [], 1)]]\n"
     ]
    }
   ],
   "source": [
    "a = dn.spr_dualmat(dense1)\n",
    "b = dn.spr_dualmat(dense2)\n",
    "\n",
    "print((dn.dot(a,b)).toarray())"
   ]
  },
  {
   "cell_type": "code",
   "execution_count": 41,
   "metadata": {
    "collapsed": false
   },
   "outputs": [],
   "source": [
    "# Test solve methdo\n",
    "\n",
    "Adense = np.array([[3,2,9],\n",
    "                  [1,1,1],\n",
    "                  [7,5,3]\n",
    "                 ])\n",
    "\n",
    "A = dn.spr_dualmat(Adense)\n",
    "\n",
    "b = np.array([34,6,26])\n",
    "\n",
    "x = dn.solve(A,b)"
   ]
  },
  {
   "cell_type": "code",
   "execution_count": 42,
   "metadata": {
    "collapsed": false
   },
   "outputs": [
    {
     "name": "stdout",
     "output_type": "stream",
     "text": [
      "[spr_dualnum([0], [1.], 1) spr_dualnum([0], [2.], 1) spr_dualnum([0], [3.], 1)]\n"
     ]
    }
   ],
   "source": [
    "print(x)"
   ]
  },
  {
   "cell_type": "code",
   "execution_count": null,
   "metadata": {
    "collapsed": true
   },
   "outputs": [],
   "source": []
  },
  {
   "cell_type": "code",
   "execution_count": 43,
   "metadata": {
    "collapsed": false
   },
   "outputs": [
    {
     "name": "stdout",
     "output_type": "stream",
     "text": [
      "[[-1.  4. -3.  6. -2.]\n",
      " [ 3. -5. -2.  7.  4.]\n",
      " [ 1.  2.  5. -5. -3.]\n",
      " [-5.  1. -4.  8.  5.]\n",
      " [ 2. -1.  1.  9. -2.]]\n"
     ]
    }
   ],
   "source": [
    "# Test solve methdo\n",
    "\n",
    "Adense = np.array([[-1.,  4., -3.,  6., -2.],\n",
    "                [ 3., -5., -2.,  7.,  4.],\n",
    "                [ 1.,  2.,  5., -5., -3.],\n",
    "                [-5.,  1., -4.,  8.,  5.],\n",
    "                [ 2., -1.,  1.,  9., -2.]\n",
    "                  ])\n",
    "\n",
    "\n",
    "A = dn.spr_dualmat(Adense)\n",
    "\n",
    "b = np.array([-26., 51.,-25.,10., -1.])\n",
    "\n",
    "x = dn.solve(A,b)"
   ]
  },
  {
   "cell_type": "code",
   "execution_count": 44,
   "metadata": {
    "collapsed": false
   },
   "outputs": [
    {
     "name": "stdout",
     "output_type": "stream",
     "text": [
      "[spr_dualnum([0], [3.], 1) spr_dualnum([0], [-4.], 1) spr_dualnum([0], [-1.], 1) spr_dualnum([], [], 1) spr_dualnum([0], [5.], 1)]\n"
     ]
    }
   ],
   "source": [
    "print(x)"
   ]
  },
  {
   "cell_type": "code",
   "execution_count": null,
   "metadata": {
    "collapsed": true
   },
   "outputs": [],
   "source": []
  },
  {
   "cell_type": "code",
   "execution_count": null,
   "metadata": {
    "collapsed": false
   },
   "outputs": [],
   "source": []
  },
  {
   "cell_type": "code",
   "execution_count": null,
   "metadata": {
    "collapsed": true
   },
   "outputs": [],
   "source": []
  },
  {
   "cell_type": "code",
   "execution_count": null,
   "metadata": {
    "collapsed": true
   },
   "outputs": [],
   "source": []
  },
  {
   "cell_type": "code",
   "execution_count": null,
   "metadata": {
    "collapsed": true
   },
   "outputs": [],
   "source": []
  },
  {
   "cell_type": "code",
   "execution_count": null,
   "metadata": {
    "collapsed": true
   },
   "outputs": [],
   "source": []
  },
  {
   "cell_type": "code",
   "execution_count": null,
   "metadata": {
    "collapsed": true
   },
   "outputs": [],
   "source": []
  },
  {
   "cell_type": "code",
   "execution_count": 46,
   "metadata": {
    "collapsed": false
   },
   "outputs": [
    {
     "data": {
      "text/plain": [
       "array([[spr_dualnum([0], [1.], 4), spr_dualnum([], [], 4), spr_dualnum([], [], 4)],\n",
       "       [spr_dualnum([], [], 4), spr_dualnum([0], [1.], 4), spr_dualnum([], [], 4)],\n",
       "       [spr_dualnum([], [], 4), spr_dualnum([], [], 4), spr_dualnum([0], [1.], 4)]], dtype=object)"
      ]
     },
     "execution_count": 46,
     "metadata": {},
     "output_type": "execute_result"
    }
   ],
   "source": [
    "s=dn.identity(3,maxorder=4)\n",
    "s.toarray()"
   ]
  },
  {
   "cell_type": "code",
   "execution_count": null,
   "metadata": {
    "collapsed": false,
    "scrolled": true
   },
   "outputs": [],
   "source": []
  }
 ],
 "metadata": {
  "kernelspec": {
   "display_name": "Python 3",
   "language": "python",
   "name": "python3"
  },
  "language_info": {
   "codemirror_mode": {
    "name": "ipython",
    "version": 3
   },
   "file_extension": ".py",
   "mimetype": "text/x-python",
   "name": "python",
   "nbconvert_exporter": "python",
   "pygments_lexer": "ipython3",
   "version": "3.4.3"
  }
 },
 "nbformat": 4,
 "nbformat_minor": 0
}
