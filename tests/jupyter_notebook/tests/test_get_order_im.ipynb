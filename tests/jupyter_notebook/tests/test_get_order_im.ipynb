{
 "cells": [
  {
   "cell_type": "code",
   "execution_count": 1,
   "metadata": {},
   "outputs": [],
   "source": [
    "import sys\n",
    "path2oti = '../../../build/'\n",
    "sys.path.append(path2oti) # Add path to OTI library.\n",
    "\n",
    "import pyoti.sparse as oti "
   ]
  },
  {
   "cell_type": "code",
   "execution_count": 2,
   "metadata": {},
   "outputs": [
    {
     "name": "stdout",
     "output_type": "stream",
     "text": [
      "(  0,  0) 2\n",
      "(  1,  1) 2\n",
      "\n"
     ]
    }
   ],
   "source": [
    "K = oti.lil_matrix((2,2))\n",
    "K[0,0] = 2\n",
    "K[1,1] = 2\n",
    "print(K)"
   ]
  },
  {
   "cell_type": "code",
   "execution_count": 3,
   "metadata": {},
   "outputs": [
    {
     "data": {
      "text/plain": [
       "pyoti.sparse.sotinum"
      ]
     },
     "execution_count": 3,
     "metadata": {},
     "output_type": "execute_result"
    }
   ],
   "source": [
    "type(K[0,0])"
   ]
  },
  {
   "cell_type": "code",
   "execution_count": 4,
   "metadata": {},
   "outputs": [
    {
     "name": "stdout",
     "output_type": "stream",
     "text": [
      "matso< shape: (2, 1), \n",
      " - Column 0\n",
      "(0,0) 2 + 1 * e([1])\n",
      "(1,0) 2 + 1 * e([1])\n",
      ">\n",
      "('temp before:', matso< shape: (2, 1), \n",
      " - Column 0\n",
      "(0,0) 0 + 1 * e([1])\n",
      "(1,0) 0 + 1 * e([1])\n",
      ">)\n",
      "('temp after:', matso< shape: (2, 1), \n",
      " - Column 0\n",
      "(0,0) 0 + 1 * e([1])\n",
      "(1,0) 0 + 1 * e([1])\n",
      ">)\n",
      "('rhs before solution:\\n', array([[1.],\n",
      "       [1.]]))\n",
      "('rhs after solution:\\n', array([[0.5],\n",
      "       [0.5]]))\n"
     ]
    },
    {
     "data": {
      "text/plain": [
       "matso< shape: (2, 1), \n",
       " - Column 0\n",
       "(0,0) 1 + 0.5 * e([1])\n",
       "(1,0) 1 + 0.5 * e([1])\n",
       ">"
      ]
     },
     "execution_count": 4,
     "metadata": {},
     "output_type": "execute_result"
    }
   ],
   "source": [
    "K = K.tocsr()\n",
    "f = 2*oti.ones((2,1))+oti.e(1)\n",
    "\n",
    "print(f)\n",
    "\n",
    "oti.solve(K,f)"
   ]
  },
  {
   "cell_type": "code",
   "execution_count": 13,
   "metadata": {},
   "outputs": [
    {
     "data": {
      "text/plain": [
       "matso< shape: (2, 1), \n",
       " - Column 0\n",
       "(0,0) 1 + 0.5 * e([1])\n",
       "(1,0) 1 + 0.5 * e([1])\n",
       ">"
      ]
     },
     "execution_count": 13,
     "metadata": {},
     "output_type": "execute_result"
    }
   ],
   "source": [
    "K2 = 2*oti.eye(2)\n",
    "f2 = 2*oti.ones((2,1))+oti.e(1)\n",
    "\n",
    "K2inv = oti.inv(K2)\n",
    "oti.dot(K2inv,f2)"
   ]
  },
  {
   "cell_type": "code",
   "execution_count": null,
   "metadata": {},
   "outputs": [],
   "source": []
  },
  {
   "cell_type": "code",
   "execution_count": null,
   "metadata": {},
   "outputs": [],
   "source": []
  },
  {
   "cell_type": "code",
   "execution_count": null,
   "metadata": {},
   "outputs": [],
   "source": []
  },
  {
   "cell_type": "code",
   "execution_count": null,
   "metadata": {},
   "outputs": [],
   "source": []
  },
  {
   "cell_type": "code",
   "execution_count": 3,
   "metadata": {},
   "outputs": [
    {
     "name": "stdout",
     "output_type": "stream",
     "text": [
      "1.54 + 1 * e([1]) + 1 * e([2])\n",
      "75.0252 + 487.177 * e([1]) + 487.177 * e([2]) + 1423.57 * e([[1,2]]) + 2847.14 * e([1,2]) + 1423.57 * e([[2,2]]) + 2465.05 * e([[1,3]]) + 7395.16 * e([[1,2],2]) + 7395.16 * e([1,[2,2]]) + 2465.05 * e([[2,3]]) + 2801.2 * e([[1,4]]) + 11204.8 * e([[1,3],2]) + 16807.2 * e([[1,2],[2,2]]) + 11204.8 * e([1,[2,3]]) + 2801.2 * e([[2,4]]) + 2182.75 * e([[1,5]]) + 10913.8 * e([[1,4],2]) + 21827.5 * e([[1,3],[2,2]]) + 21827.5 * e([[1,2],[2,3]]) + 10913.8 * e([1,[2,4]]) + 2182.75 * e([[2,5]])\n"
     ]
    }
   ],
   "source": [
    "x = 1.54+oti.e(1,order = 5)+oti.e(2,order=5)\n",
    "y = x**10\n",
    "print(x)\n",
    "print(y)"
   ]
  },
  {
   "cell_type": "code",
   "execution_count": 7,
   "metadata": {},
   "outputs": [
    {
     "data": {
      "text/plain": [
       "0.0000 + 1423.5682 * e([[1,2]]) + 2847.1364 * e([1,2]) + 1423.5682 * e([[2,2]])"
      ]
     },
     "execution_count": 7,
     "metadata": {},
     "output_type": "execute_result"
    }
   ],
   "source": [
    "y.get_order_im(2)"
   ]
  },
  {
   "cell_type": "code",
   "execution_count": null,
   "metadata": {},
   "outputs": [],
   "source": []
  }
 ],
 "metadata": {
  "kernelspec": {
   "display_name": "Python 3",
   "language": "python",
   "name": "python3"
  },
  "language_info": {
   "codemirror_mode": {
    "name": "ipython",
    "version": 3
   },
   "file_extension": ".py",
   "mimetype": "text/x-python",
   "name": "python",
   "nbconvert_exporter": "python",
   "pygments_lexer": "ipython3",
   "version": "3.8.8"
  }
 },
 "nbformat": 4,
 "nbformat_minor": 4
}
