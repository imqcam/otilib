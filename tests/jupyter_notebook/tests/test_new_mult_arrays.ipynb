{
 "cells": [
  {
   "cell_type": "code",
   "execution_count": 1,
   "metadata": {},
   "outputs": [],
   "source": [
    "import numpy as np\n"
   ]
  },
  {
   "cell_type": "code",
   "execution_count": 4,
   "metadata": {},
   "outputs": [
    {
     "data": {
      "text/plain": [
       "array([[ 1],\n",
       "       [ 2],\n",
       "       [ 3],\n",
       "       [ 4],\n",
       "       [ 5],\n",
       "       [ 6],\n",
       "       [ 7],\n",
       "       [ 8],\n",
       "       [ 9],\n",
       "       [10]], dtype=uint16)"
      ]
     },
     "execution_count": 4,
     "metadata": {},
     "output_type": "execute_result"
    }
   ],
   "source": [
    "fulldir_n1m10 = np.load(\"../../build/data/v1.0/fulldir_n1_m10.npy\")\n",
    "fulldir_n1m10"
   ]
  },
  {
   "cell_type": "code",
   "execution_count": 5,
   "metadata": {},
   "outputs": [
    {
     "data": {
      "text/plain": [
       "array([[ 1,  1],\n",
       "       [ 1,  2],\n",
       "       [ 2,  2],\n",
       "       [ 1,  3],\n",
       "       [ 2,  3],\n",
       "       [ 3,  3],\n",
       "       [ 1,  4],\n",
       "       [ 2,  4],\n",
       "       [ 3,  4],\n",
       "       [ 4,  4],\n",
       "       [ 1,  5],\n",
       "       [ 2,  5],\n",
       "       [ 3,  5],\n",
       "       [ 4,  5],\n",
       "       [ 5,  5],\n",
       "       [ 1,  6],\n",
       "       [ 2,  6],\n",
       "       [ 3,  6],\n",
       "       [ 4,  6],\n",
       "       [ 5,  6],\n",
       "       [ 6,  6],\n",
       "       [ 1,  7],\n",
       "       [ 2,  7],\n",
       "       [ 3,  7],\n",
       "       [ 4,  7],\n",
       "       [ 5,  7],\n",
       "       [ 6,  7],\n",
       "       [ 7,  7],\n",
       "       [ 1,  8],\n",
       "       [ 2,  8],\n",
       "       [ 3,  8],\n",
       "       [ 4,  8],\n",
       "       [ 5,  8],\n",
       "       [ 6,  8],\n",
       "       [ 7,  8],\n",
       "       [ 8,  8],\n",
       "       [ 1,  9],\n",
       "       [ 2,  9],\n",
       "       [ 3,  9],\n",
       "       [ 4,  9],\n",
       "       [ 5,  9],\n",
       "       [ 6,  9],\n",
       "       [ 7,  9],\n",
       "       [ 8,  9],\n",
       "       [ 9,  9],\n",
       "       [ 1, 10],\n",
       "       [ 2, 10],\n",
       "       [ 3, 10],\n",
       "       [ 4, 10],\n",
       "       [ 5, 10],\n",
       "       [ 6, 10],\n",
       "       [ 7, 10],\n",
       "       [ 8, 10],\n",
       "       [ 9, 10],\n",
       "       [10, 10]], dtype=uint16)"
      ]
     },
     "execution_count": 5,
     "metadata": {},
     "output_type": "execute_result"
    }
   ],
   "source": [
    "fulldir_n2m10 = np.load(\"../../build/data/v1.0/fulldir_n2_m10.npy\")\n",
    "fulldir_n2m10"
   ]
  },
  {
   "cell_type": "code",
   "execution_count": 16,
   "metadata": {},
   "outputs": [
    {
     "data": {
      "text/plain": [
       "array([[  0,   1,   2, ..., 688, 696, 705],\n",
       "       [  1,   2,   3, ..., 689, 697, 706],\n",
       "       [  5,   6,   7, ..., 690, 698, 707],\n",
       "       ...,\n",
       "       [210, 211, 212, ..., 695, 703, 712],\n",
       "       [330, 331, 332, ..., 703, 704, 713],\n",
       "       [495, 496, 497, ..., 712, 713, 714]], dtype=uint64)"
      ]
     },
     "execution_count": 16,
     "metadata": {},
     "output_type": "execute_result"
    }
   ],
   "source": [
    "multtabl_n4m10_0 = np.load(\"../../build/data/v1.0/multtabl_n4_m10_0.npy\")\n",
    "multtabl_n4m10_0"
   ]
  },
  {
   "cell_type": "code",
   "execution_count": 13,
   "metadata": {},
   "outputs": [
    {
     "data": {
      "text/plain": [
       "array([ 0,  1,  3,  6, 10, 15, 21, 28, 36, 45, 55], dtype=uint64)"
      ]
     },
     "execution_count": 13,
     "metadata": {},
     "output_type": "execute_result"
    }
   ],
   "source": [
    "ndirs_n2m10 = np.load(\"../../build/data/v1.0/ndirs_n2_m10.npy\")\n",
    "ndirs_n2m10"
   ]
  },
  {
   "cell_type": "code",
   "execution_count": 9,
   "metadata": {},
   "outputs": [
    {
     "data": {
      "text/plain": [
       "array([  0,   1,   4,  10,  20,  35,  56,  84, 120, 165, 220],\n",
       "      dtype=uint64)"
      ]
     },
     "execution_count": 9,
     "metadata": {},
     "output_type": "execute_result"
    }
   ],
   "source": [
    "ndirs_n3m10 = np.load(\"../../build/data/v1.0/ndirs_n3_m10.npy\")\n",
    "ndirs_n3m10"
   ]
  },
  {
   "cell_type": "code",
   "execution_count": 8,
   "metadata": {},
   "outputs": [],
   "source": [
    "from scipy.special import comb \n",
    "n=3\n",
    "m=10\n",
    "comb(n+m-1,m-1)"
   ]
  },
  {
   "cell_type": "code",
   "execution_count": 15,
   "metadata": {},
   "outputs": [
    {
     "data": {
      "text/plain": [
       "220.0"
      ]
     },
     "execution_count": 15,
     "metadata": {},
     "output_type": "execute_result"
    }
   ],
   "source": []
  },
  {
   "cell_type": "code",
   "execution_count": null,
   "metadata": {},
   "outputs": [],
   "source": []
  }
 ],
 "metadata": {
  "kernelspec": {
   "display_name": "Python 3",
   "language": "python",
   "name": "python3"
  },
  "language_info": {
   "codemirror_mode": {
    "name": "ipython",
    "version": 3
   },
   "file_extension": ".py",
   "mimetype": "text/x-python",
   "name": "python",
   "nbconvert_exporter": "python",
   "pygments_lexer": "ipython3",
   "version": "3.7.1"
  }
 },
 "nbformat": 4,
 "nbformat_minor": 2
}
