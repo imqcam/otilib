{
 "cells": [
  {
   "cell_type": "code",
   "execution_count": 1,
   "metadata": {},
   "outputs": [],
   "source": [
    "import sys\n",
    "path2oti = '../../../build/'\n",
    "sys.path.append(path2oti) # Add path to OTI library.\n",
    "\n",
    "import pyoti.sparse as oti \n",
    "import pyoti.core   as coti"
   ]
  },
  {
   "cell_type": "code",
   "execution_count": 2,
   "metadata": {},
   "outputs": [],
   "source": [
    "x = 3.5+oti.e(1, order = 150)\n",
    "y = 4.5+oti.e(2, order = 150)"
   ]
  },
  {
   "cell_type": "code",
   "execution_count": 3,
   "metadata": {},
   "outputs": [
    {
     "name": "stdout",
     "output_type": "stream",
     "text": [
      "sotinum(3.5, nnz: 2, alloc: 2, order: 1, truncation order: 150, flag: 1\n",
      "  - Order 1->   nnz: 1  size: 1 \n",
      ")\n",
      "sotinum(4.5, nnz: 2, alloc: 2, order: 1, truncation order: 150, flag: 1\n",
      "  - Order 1->   nnz: 1  size: 1 \n",
      ")\n"
     ]
    }
   ],
   "source": [
    "print(x.long_repr())\n",
    "print(y.long_repr())"
   ]
  },
  {
   "cell_type": "code",
   "execution_count": 4,
   "metadata": {},
   "outputs": [
    {
     "name": "stdout",
     "output_type": "stream",
     "text": [
      "15.75 + 4.5 * e([1]) + 3.5 * e([2]) + 1 * e([1,2])\n",
      "sotinum(15.75, nnz: 4, alloc: 4, order: 2, truncation order: 150, flag: 1\n",
      "  - Order 1->   nnz: 2  size: 2 \n",
      "  - Order 2->   nnz: 1  size: 1 \n",
      ")\n"
     ]
    }
   ],
   "source": [
    "z = x*y\n",
    "print(z)\n",
    "print(z.long_repr())"
   ]
  },
  {
   "cell_type": "code",
   "execution_count": 5,
   "metadata": {},
   "outputs": [
    {
     "name": "stdout",
     "output_type": "stream",
     "text": [
      "2.21 µs ± 6.69 ns per loop (mean ± std. dev. of 7 runs, 100000 loops each)\n"
     ]
    }
   ],
   "source": [
    "%timeit x*y"
   ]
  },
  {
   "cell_type": "code",
   "execution_count": 8,
   "metadata": {},
   "outputs": [
    {
     "name": "stdout",
     "output_type": "stream",
     "text": [
      "1.25 µs ± 3.88 ns per loop (mean ± std. dev. of 7 runs, 1000000 loops each)\n",
      "2.22 µs ± 43.8 ns per loop (mean ± std. dev. of 7 runs, 100000 loops each)\n"
     ]
    }
   ],
   "source": [
    "x = oti.number(3.5,order = 150)\n",
    "y = oti.number(4.5,order = 150)\n",
    "\n",
    "%timeit x+y\n",
    "%timeit x*y"
   ]
  },
  {
   "cell_type": "code",
   "execution_count": 9,
   "metadata": {},
   "outputs": [
    {
     "name": "stdout",
     "output_type": "stream",
     "text": [
      "92.9 ns ± 0.0925 ns per loop (mean ± std. dev. of 7 runs, 10000000 loops each)\n",
      "118 ns ± 0.222 ns per loop (mean ± std. dev. of 7 runs, 10000000 loops each)\n"
     ]
    }
   ],
   "source": [
    "x = oti.number(3.5,order = 0)\n",
    "y = oti.number(4.5,order = 0)\n",
    "\n",
    "%timeit x+y\n",
    "%timeit x*y"
   ]
  },
  {
   "cell_type": "code",
   "execution_count": null,
   "metadata": {},
   "outputs": [],
   "source": []
  }
 ],
 "metadata": {
  "kernelspec": {
   "display_name": "Python 3",
   "language": "python",
   "name": "python3"
  },
  "language_info": {
   "codemirror_mode": {
    "name": "ipython",
    "version": 3
   },
   "file_extension": ".py",
   "mimetype": "text/x-python",
   "name": "python",
   "nbconvert_exporter": "python",
   "pygments_lexer": "ipython3",
   "version": "3.7.4"
  }
 },
 "nbformat": 4,
 "nbformat_minor": 4
}
