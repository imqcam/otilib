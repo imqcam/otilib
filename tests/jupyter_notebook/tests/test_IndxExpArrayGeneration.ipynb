{
 "cells": [
  {
   "cell_type": "markdown",
   "metadata": {},
   "source": [
    "# Test of  spr_duallib V0.3 library.\n",
    "\n",
    "Changes: \n",
    "- Matrix management\n",
    "- Expand Algorithm\n"
   ]
  },
  {
   "cell_type": "code",
   "execution_count": 1,
   "metadata": {
    "collapsed": false
   },
   "outputs": [],
   "source": [
    "from scipy.special import comb\n",
    "\n",
    "import spr_duallib as dn\n",
    "e = dn.e\n",
    "np = dn.np\n",
    "spr = dn.spr"
   ]
  },
  {
   "cell_type": "code",
   "execution_count": 2,
   "metadata": {
    "collapsed": false
   },
   "outputs": [],
   "source": [
    "\n",
    "    \n",
    "\n",
    "    \n",
    "    \n",
    "def int2baseRepr(integer):\n",
    "    \n",
    "    #stringbase = \"0123456789abcdefghijklmnopqrstuvwxyzABCDEFGHIJKLMNOPQRSTUVWXYZ~!@#$^&*()-_=+[]{}\\|:<>.?%`\"\n",
    "    stringbase=\"0123456789abcdefghijklmnopqrstuvwxyzABCDEFGHIJKLMNOPQRSTUVWXYZ~!@#$^&*()-_=+[]{}/|:<>.?%≤≥≠±–œå≈®∑\"\n",
    "    stringbase+=\"çÇáéíóúÁÉÍÓÚñÑâêîôû°¿£¢¥\"\n",
    "    string = \"\"\n",
    "    base = len(stringbase)\n",
    "    while integer > 0:\n",
    "      \n",
    "        (integer,exp) = (integer//(base),integer%(base))\n",
    "    \n",
    "        string += stringbase[exp]  \n",
    "    \n",
    "    #end while\n",
    "    return string[::-1]\n",
    "\n",
    "def baseRepr2int(string):\n",
    "    \n",
    "    stringbase=\"0123456789abcdefghijklmnopqrstuvwxyzABCDEFGHIJKLMNOPQRSTUVWXYZ~!@#$^&*()-_=+[]{}/|:<>.?%≤≥≠±–œå≈®∑\"\n",
    "    stringbase+=\"çÇáéíóúÁÉÍÓÚñÑâêîôû°¿£¢¥\"\n",
    "    \n",
    "    base = len(stringbase)\n",
    "    number = 0\n",
    "    nels = len(string)\n",
    "    for i in range(nels):\n",
    "        mult = stringbase.find(string[nels-i-1] )\n",
    "        number += mult * base ** i\n",
    "   \n",
    "    \n",
    "    #end for\n",
    "    return number\n",
    "\n",
    "\n",
    "\n",
    "def getExpArrayBaseRpr(expind,maxorder):\n",
    "    \n",
    "    \n",
    "    # get the string with the exponents.\n",
    "    string = np.base_repr(expind, base = (maxorder+1))\n",
    "    #print(string)\n",
    "    nels = len(string)\n",
    "    expArray = [0]*nels\n",
    "\n",
    "    i=1\n",
    "    for stri in string:\n",
    "        expArray[nels-i] = int(stri)\n",
    "        i+=1\n",
    "        \n",
    "        \n",
    "    return expArray\n",
    "        \n",
    "    \n",
    "    \n",
    "    \n",
    "def loadDirExpArrayLookUp(maxorder,ndir = 100):\n",
    "    f = open('srcdoc/d_n' + str(maxorder) + '_m' + str(ndir) + '.dat', 'r')\n",
    "\n",
    "    line=f.readline()\n",
    "\n",
    "    nels = int(line.strip())\n",
    "    lines = f.readlines()\n",
    "    f.close()\n",
    "    \n",
    "    expArrays = [[]]*(nels)\n",
    "    dirArrays = [[]]*(nels)\n",
    "    \n",
    "    Array = [[]]*(nels)\n",
    "    print(\"Loading LookUp direction and Exponent Arrays.\")\n",
    "    for i in range(nels):\n",
    "        newline = lines[i].strip()\n",
    "        els = newline.split(';')\n",
    "\n",
    "        expArray = getExpArrayBaseRpr(int(els[0]),maxorder)\n",
    "        \n",
    "\n",
    "        dirEls = els[1].split(\",\")\n",
    "        ndirels = len(dirEls)\n",
    "        dirArray = [0]*ndirels\n",
    "\n",
    "        for j in range(ndirels):\n",
    "            #dirArray[j] = int(dirEls[j],36)\n",
    "            dirArray[j] = baseRepr2int(dirEls[j])\n",
    "\n",
    "\n",
    "        \n",
    "        Array[i] =[dirArray,expArray] \n",
    "        \n",
    "\n",
    "    print(\"Loaded \", nels,\" direction arrays.\" )\n",
    "    return Array\n",
    "    \n",
    "\n",
    "\n",
    "def binarySearch(array,element,maxorder):\n",
    "    \n",
    "    indx = convertDirExp2BaseIndx(element,maxorder)\n",
    "    \n",
    "    min_i=0\n",
    "    max_i=len(array)\n",
    "    pos = int(min_i+0.5*(max_i-min_i))\n",
    "    \n",
    "    \n",
    "    while (max_i-min_i)>2:\n",
    "        \n",
    "        if indx>convertDirExp2BaseIndx(array[pos],maxorder):\n",
    "      \n",
    "            min_i=pos\n",
    "    \n",
    "        else:\n",
    "      \n",
    "            max_i=pos+1\n",
    "      \n",
    "        # end if\n",
    "    \n",
    "        pos = int(min_i+0.5*(max_i-min_i))\n",
    "    \n",
    "    # end while\n",
    "    \n",
    "    return pos\n",
    "    \n",
    "    \n",
    "    \n",
    "def convertDirExp2BaseIndx(Array,maxorder):\n",
    "    \n",
    "    num = 0\n",
    "    dirArray = Array[0]\n",
    "    expArray = Array[1]\n",
    "    for i in range(len(dirArray)):\n",
    "        \n",
    "        num += expArray[i]*(maxorder+1)**(dirArray[i]-1)\n",
    "        \n",
    "    return num\n",
    "    "
   ]
  },
  {
   "cell_type": "markdown",
   "metadata": {},
   "source": [
    "# NEW METHODS WITH NUMPY ARRAYS"
   ]
  },
  {
   "cell_type": "code",
   "execution_count": 3,
   "metadata": {
    "collapsed": true
   },
   "outputs": [],
   "source": [
    "def genDirExpArrayLookUp(maxorder,ndir = 100):\n",
    "    \n",
    "    \n",
    "    total_combs = dn.findComb(ndir+1,maxorder)\n",
    "    \n",
    "    \n",
    "    f = open('srcdoc/d_n' + str(maxorder) + '_m' + str(ndir) + '.dat', 'w+')\n",
    "    f.write(str(total_combs-1)+'\\n')\n",
    "    print(\"Generating a total of \", total_combs-1,\" directions.\")\n",
    "    indxold = 0\n",
    "    for mat_indx in range(1,total_combs):\n",
    "        indx = dn.matIndxToDualIndx(mat_indx,maxorder,initDualIndx = indxold)\n",
    "        indxold = indx\n",
    "        dirarr,exparr = dn.getDirArrayExpArray(indx,maxorder)\n",
    "\n",
    "        # convert exponent array to integer.\n",
    "\n",
    "        newint = 0\n",
    "        \n",
    "        for i in range(len(exparr)):\n",
    "            \n",
    "            newint += exparr[i]*(maxorder+1)**i\n",
    "\n",
    "\n",
    "        newline = str(newint)\n",
    "        newline += ';'\n",
    "        for direction in dirarr:\n",
    "            #newline += np.base_repr(direction,base = 36)\n",
    "            newline += int2baseRepr(direction)\n",
    "\n",
    "\n",
    "            newline += ','\n",
    "        newline = newline[:-1]\n",
    "        newline += \"\\n\"\n",
    "        \n",
    "        f.write(newline)\n",
    "        \n",
    "    f.close()\n",
    "    print('Finished')\n",
    "\n",
    "\n",
    "\n",
    "\n",
    "def loadDirExpArrayLookUpNumpy(maxorder,ndir = 100):\n",
    "    \n",
    "    \n",
    "    f = open('srcdoc/d_n' + str(maxorder) + '_m' + str(ndir) + '.dat', 'r')\n",
    "\n",
    "    line=f.readline()\n",
    "\n",
    "    nels = int(line.strip())\n",
    "    lines = f.readlines()\n",
    "    f.close()\n",
    "    \n",
    "    \n",
    "    dirArrays = np.zeros([nels,maxorder],dtype = np.uint16)\n",
    "    expArrays = np.zeros([nels,maxorder],dtype = np.uint8)\n",
    "    \n",
    "    \n",
    "    print(\"Loading LookUp direction and Exponent Arrays.\")\n",
    "    for i in range(nels):\n",
    "        \n",
    "        newline = lines[i].strip()\n",
    "        els = newline.split(';')\n",
    "        #exps = int(els[0])\n",
    "        \n",
    "        #expArray = getExpArrayBaseRpr(exps,maxorder)\n",
    "        \n",
    "\n",
    "        dirEls = els[1].split(\",\")\n",
    "        ndirels = len(dirEls)\n",
    "              \n",
    "        # Organize the Exponent Array.\n",
    "        \n",
    "        expArray = getExpArrayBaseRprNumpy(int(els[0]),maxorder)\n",
    "        \n",
    "        dirArray = np.zeros(ndirels).astype(np.int16)\n",
    "        #dirArray[0] = \n",
    "\n",
    "        for j in range(ndirels):\n",
    "            #dirArray[j] = int(dirEls[j],36)\n",
    "            dirArray[j] = baseRepr2int(dirEls[j])\n",
    "\n",
    "\n",
    "        \n",
    "        \n",
    "        # assignment\n",
    "        \n",
    "        expArrays[i,:expArray.size] = expArray\n",
    "        dirArrays[i,:ndirels] = dirArray\n",
    "        \n",
    "\n",
    "    print(\"Loaded \", nels,\" direction arrays.\" )\n",
    "    return (dirArrays,expArrays)\n",
    "\n",
    "\n",
    "\n",
    "\n",
    "\n",
    "def convertDirExp2BaseIndxNumpy(dirArray,expArray,maxorder):\n",
    "    \n",
    "    num = 0\n",
    "    expArrayObj = np.array(expArray,dtype = object)\n",
    "    dirArrayObj = np.array(dirArray,dtype = object)\n",
    "\n",
    "    \n",
    "    for i in range(len(dirArray)):\n",
    "        \n",
    "        if dirArray[i]==0:\n",
    "        \n",
    "            break\n",
    "            \n",
    "        # end if\n",
    "        \n",
    "        num += expArrayObj[i]*(maxorder+1)**(dirArrayObj[i]-1)\n",
    "        \n",
    "    # end for\n",
    "    return num\n",
    "\n",
    "\n",
    "\n",
    "\n",
    "\n",
    "\n",
    "\n",
    "def getExpArrayBaseRprNumpy(expind,maxorder):\n",
    "    \n",
    "    expArray = np.zeros((maxorder,),dtype=np.int8)\n",
    "    i=0\n",
    "    while expind !=0  :\n",
    "        \n",
    "        exp     = expind%( maxorder+1)\n",
    "        expind = expind//( maxorder+1)\n",
    "        \n",
    "        expArray[i] = exp\n",
    "        i+=1\n",
    "        \n",
    "    return expArray[:i]\n",
    "\n",
    "\n",
    "\n",
    "\n",
    "\n",
    "\n",
    "\n",
    "\n",
    "\n",
    "def genIndxArray(dirArray,expArray,maxorder):\n",
    "    \n",
    "    indxArray = np.zeros((dirArray.shape[0],),dtype = object)\n",
    "    \n",
    "    nels = indxArray.size\n",
    "    \n",
    "    for i in range(nels):\n",
    "        \n",
    "        indxArray[i] = convertDirExp2BaseIndxNumpy(dirArray[i,:],expArray[i,:],maxorder)\n",
    "        \n",
    "        \n",
    "    #end for\n",
    "    \n",
    "    return indxArray\n",
    "\n",
    "\n",
    "\n",
    "\n",
    "\n",
    "\n",
    "\n",
    "\n",
    "\n",
    "\n",
    "\n",
    "def binarySearchNumpy(indxArray,dirArray,expArray,maxorder):\n",
    "    \n",
    "    indx = convertDirExp2BaseIndxNumpy(dirArray,expArray,maxorder)\n",
    "    \n",
    "    min_i = 0\n",
    "    max_i = indxArray.size\n",
    "    pos = int(min_i+0.5*(max_i-min_i))\n",
    "    \n",
    "    if indx == 1:\n",
    "        return 0\n",
    "    \n",
    "    while (max_i-min_i)>2:\n",
    "        \n",
    "        if indx>indxArray[pos]:\n",
    "      \n",
    "            min_i=pos\n",
    "    \n",
    "        else:\n",
    "      \n",
    "            max_i=pos+1\n",
    "      \n",
    "        # end if\n",
    "    \n",
    "        pos = int(min_i+0.5*(max_i-min_i))\n",
    "    \n",
    "    # end while\n",
    "    \n",
    "    return pos"
   ]
  },
  {
   "cell_type": "code",
   "execution_count": 4,
   "metadata": {
    "collapsed": false
   },
   "outputs": [],
   "source": [
    "maxorder = 2\n",
    "ndir = 1000\n",
    "genDirExpArrayLookUp(maxorder,ndir = ndir)"
   ]
  },
  {
   "cell_type": "code",
   "execution_count": 156,
   "metadata": {
    "collapsed": false
   },
   "outputs": [
    {
     "data": {
      "text/plain": [
       "array([1, 2, 3], dtype=uint32)"
      ]
     },
     "execution_count": 156,
     "metadata": {},
     "output_type": "execute_result"
    }
   ],
   "source": [
    "b = [1,2,3,0,0,0]\n",
    "\n",
    "a = np.array(b,dtype = np.uint32)\n",
    "\n",
    "a[np.nonzero(a)]\n"
   ]
  },
  {
   "cell_type": "code",
   "execution_count": null,
   "metadata": {
    "collapsed": true
   },
   "outputs": [],
   "source": []
  },
  {
   "cell_type": "code",
   "execution_count": null,
   "metadata": {
    "collapsed": true
   },
   "outputs": [],
   "source": []
  },
  {
   "cell_type": "code",
   "execution_count": 5,
   "metadata": {
    "collapsed": false
   },
   "outputs": [
    {
     "name": "stdout",
     "output_type": "stream",
     "text": [
      "Loading LookUp direction and Exponent Arrays.\n"
     ]
    },
    {
     "ename": "KeyboardInterrupt",
     "evalue": "",
     "output_type": "error",
     "traceback": [
      "\u001b[0;31m---------------------------------------------------------------------------\u001b[0m",
      "\u001b[0;31mKeyboardInterrupt\u001b[0m                         Traceback (most recent call last)",
      "\u001b[0;32m<ipython-input-5-a56ee05f11e6>\u001b[0m in \u001b[0;36m<module>\u001b[0;34m()\u001b[0m\n\u001b[1;32m      1\u001b[0m \u001b[0mmaxorder\u001b[0m \u001b[0;34m=\u001b[0m \u001b[0;36m2\u001b[0m\u001b[0;34m\u001b[0m\u001b[0m\n\u001b[1;32m      2\u001b[0m \u001b[0mndir\u001b[0m \u001b[0;34m=\u001b[0m \u001b[0;36m10000\u001b[0m\u001b[0;34m\u001b[0m\u001b[0m\n\u001b[0;32m----> 3\u001b[0;31m \u001b[0mdirArray\u001b[0m\u001b[0;34m,\u001b[0m\u001b[0mexpArray\u001b[0m \u001b[0;34m=\u001b[0m \u001b[0mloadDirExpArrayLookUpNumpy\u001b[0m\u001b[0;34m(\u001b[0m\u001b[0mmaxorder\u001b[0m\u001b[0;34m,\u001b[0m\u001b[0mndir\u001b[0m\u001b[0;34m=\u001b[0m\u001b[0mndir\u001b[0m\u001b[0;34m)\u001b[0m\u001b[0;34m\u001b[0m\u001b[0m\n\u001b[0m",
      "\u001b[0;32m<ipython-input-3-b2911c39f1f1>\u001b[0m in \u001b[0;36mloadDirExpArrayLookUpNumpy\u001b[0;34m(maxorder, ndir)\u001b[0m\n\u001b[1;32m     75\u001b[0m         \u001b[0mexpArray\u001b[0m \u001b[0;34m=\u001b[0m \u001b[0mgetExpArrayBaseRprNumpy\u001b[0m\u001b[0;34m(\u001b[0m\u001b[0mint\u001b[0m\u001b[0;34m(\u001b[0m\u001b[0mels\u001b[0m\u001b[0;34m[\u001b[0m\u001b[0;36m0\u001b[0m\u001b[0;34m]\u001b[0m\u001b[0;34m)\u001b[0m\u001b[0;34m,\u001b[0m\u001b[0mmaxorder\u001b[0m\u001b[0;34m)\u001b[0m\u001b[0;34m\u001b[0m\u001b[0m\n\u001b[1;32m     76\u001b[0m \u001b[0;34m\u001b[0m\u001b[0m\n\u001b[0;32m---> 77\u001b[0;31m         \u001b[0mdirArray\u001b[0m \u001b[0;34m=\u001b[0m \u001b[0mnp\u001b[0m\u001b[0;34m.\u001b[0m\u001b[0mzeros\u001b[0m\u001b[0;34m(\u001b[0m\u001b[0mndirels\u001b[0m\u001b[0;34m)\u001b[0m\u001b[0;34m.\u001b[0m\u001b[0mastype\u001b[0m\u001b[0;34m(\u001b[0m\u001b[0mnp\u001b[0m\u001b[0;34m.\u001b[0m\u001b[0mint16\u001b[0m\u001b[0;34m)\u001b[0m\u001b[0;34m\u001b[0m\u001b[0m\n\u001b[0m\u001b[1;32m     78\u001b[0m         \u001b[0;31m#dirArray[0] =\u001b[0m\u001b[0;34m\u001b[0m\u001b[0;34m\u001b[0m\u001b[0m\n\u001b[1;32m     79\u001b[0m \u001b[0;34m\u001b[0m\u001b[0m\n",
      "\u001b[0;31mKeyboardInterrupt\u001b[0m: "
     ]
    }
   ],
   "source": [
    "maxorder = 2\n",
    "ndir = 10000\n",
    "dirArray,expArray = loadDirExpArrayLookUpNumpy(maxorder,ndir=ndir)"
   ]
  },
  {
   "cell_type": "code",
   "execution_count": 147,
   "metadata": {
    "collapsed": false
   },
   "outputs": [
    {
     "name": "stdout",
     "output_type": "stream",
     "text": [
      "[[ 1  0  0  0  0  0  0  0  0  0]\n",
      " [ 2  0  0  0  0  0  0  0  0  0]\n",
      " [ 3  0  0  0  0  0  0  0  0  0]\n",
      " [ 4  0  0  0  0  0  0  0  0  0]\n",
      " [ 5  0  0  0  0  0  0  0  0  0]\n",
      " [ 6  0  0  0  0  0  0  0  0  0]\n",
      " [ 7  0  0  0  0  0  0  0  0  0]\n",
      " [ 8  0  0  0  0  0  0  0  0  0]\n",
      " [ 9  0  0  0  0  0  0  0  0  0]\n",
      " [10  0  0  0  0  0  0  0  0  0]]\n"
     ]
    }
   ],
   "source": [
    "print(expArray[:10,:])"
   ]
  },
  {
   "cell_type": "code",
   "execution_count": 144,
   "metadata": {
    "collapsed": false
   },
   "outputs": [
    {
     "data": {
      "text/plain": [
       "23579476910"
      ]
     },
     "execution_count": 144,
     "metadata": {},
     "output_type": "execute_result"
    }
   ],
   "source": [
    "convertDirExp2BaseIndxNumpy(dirArray[-1,:],expArray[-1,:],maxorder)"
   ]
  },
  {
   "cell_type": "code",
   "execution_count": 145,
   "metadata": {
    "collapsed": false
   },
   "outputs": [
    {
     "data": {
      "text/plain": [
       "1478040"
      ]
     },
     "execution_count": 145,
     "metadata": {},
     "output_type": "execute_result"
    }
   ],
   "source": [
    "indxArray = genIndxArray(dirArray,expArray,maxorder)\n",
    "indxArray.nbytes"
   ]
  },
  {
   "cell_type": "code",
   "execution_count": 146,
   "metadata": {
    "collapsed": false
   },
   "outputs": [],
   "source": [
    "np.save('dir_n'+str(maxorder)+'_m'+str(ndir),dirArray)\n",
    "np.save('indx_n'+str(maxorder)+'_m'+str(ndir),indxArray)\n",
    "np.save('exp_n'+str(maxorder)+'_m'+str(ndir),expArray)"
   ]
  },
  {
   "cell_type": "code",
   "execution_count": 77,
   "metadata": {
    "collapsed": false
   },
   "outputs": [
    {
     "name": "stdout",
     "output_type": "stream",
     "text": [
      "array([34464], dtype=uint16)\n",
      "array([34464], dtype=uint16)\n"
     ]
    }
   ],
   "source": [
    "# Efficient As Fuck!\n",
    "\n",
    "c = np.load('dir_n1_m10000.npy')\n",
    "print(repr(c[-1,:]))\n",
    "print(repr(dirArray[-1,:]))"
   ]
  },
  {
   "cell_type": "code",
   "execution_count": 86,
   "metadata": {
    "collapsed": false
   },
   "outputs": [
    {
     "name": "stdout",
     "output_type": "stream",
     "text": [
      "True\n"
     ]
    }
   ],
   "source": [
    "d = np.load('indx_n1_m100000.npy')\n",
    "\n",
    "print(d[-1] == indxArray[-1])"
   ]
  },
  {
   "cell_type": "code",
   "execution_count": 191,
   "metadata": {
    "collapsed": false
   },
   "outputs": [
    {
     "name": "stdout",
     "output_type": "stream",
     "text": [
      "1\n",
      "2\n",
      "10\n",
      "11\n",
      "20\n",
      "100\n",
      "101\n",
      "110\n",
      "200\n",
      "1000\n"
     ]
    }
   ],
   "source": [
    "indxArray.nbytes\n",
    "for i in range(10):\n",
    "    print(np.base_repr(indxArray[i],maxorder+1))\n"
   ]
  },
  {
   "cell_type": "code",
   "execution_count": 231,
   "metadata": {
    "collapsed": false
   },
   "outputs": [],
   "source": [
    "# check if all the numbers are correct\n",
    "\n",
    "for i in range(indxArray.size):\n",
    "    element = ArrayNumPy[i,:]\n",
    "    \n",
    "    calcIndx = binarySearchNumpy(indxArray,element,maxorder)\n",
    "    \n",
    "    if calcIndx != i:\n",
    "\n",
    "        print(\"\\n\\nSolution is not good for index i = \",i)\n",
    "        print(\"it results in \",calcIndx)\n"
   ]
  },
  {
   "cell_type": "code",
   "execution_count": 232,
   "metadata": {
    "collapsed": false
   },
   "outputs": [
    {
     "data": {
      "text/plain": [
       "1"
      ]
     },
     "execution_count": 232,
     "metadata": {},
     "output_type": "execute_result"
    }
   ],
   "source": [
    "indxArray[0]"
   ]
  },
  {
   "cell_type": "code",
   "execution_count": 246,
   "metadata": {
    "collapsed": false
   },
   "outputs": [
    {
     "name": "stdout",
     "output_type": "stream",
     "text": [
      "10000 loops, best of 3: 32.5 µs per loop\n"
     ]
    }
   ],
   "source": [
    "%timeit binarySearchNumpy(indxArray,ArrayNumPy[250000,:],maxorder)"
   ]
  },
  {
   "cell_type": "code",
   "execution_count": 291,
   "metadata": {
    "collapsed": false
   },
   "outputs": [],
   "source": [
    "b = dn.matIndxToDualIndx(50014998,2)"
   ]
  },
  {
   "cell_type": "code",
   "execution_count": 293,
   "metadata": {
    "collapsed": false
   },
   "outputs": [
    {
     "name": "stdout",
     "output_type": "stream",
     "text": [
      "10 loops, best of 3: 28.4 ms per loop\n"
     ]
    }
   ],
   "source": [
    "%timeit dn.matIndxToDualIndx(50014999,2,initDualIndx = 0)\n"
   ]
  },
  {
   "cell_type": "code",
   "execution_count": null,
   "metadata": {
    "collapsed": true
   },
   "outputs": [],
   "source": []
  },
  {
   "cell_type": "code",
   "execution_count": 247,
   "metadata": {
    "collapsed": false,
    "scrolled": true
   },
   "outputs": [
    {
     "name": "stdout",
     "output_type": "stream",
     "text": [
      "Loading LookUp direction and Exponent Arrays.\n",
      "Loaded  501500  direction arrays.\n"
     ]
    }
   ],
   "source": [
    "maxorder = 2\n",
    "Array = loadDirExpArrayLookUp(maxorder,ndir = 1000)"
   ]
  },
  {
   "cell_type": "code",
   "execution_count": 136,
   "metadata": {
    "collapsed": false
   },
   "outputs": [],
   "source": []
  },
  {
   "cell_type": "code",
   "execution_count": 140,
   "metadata": {
    "collapsed": false
   },
   "outputs": [
    {
     "name": "stdout",
     "output_type": "stream",
     "text": [
      "10000 loops, best of 3: 21.9 µs per loop\n",
      "100000 loops, best of 3: 5.23 µs per loop\n"
     ]
    },
    {
     "data": {
      "text/plain": [
       "5"
      ]
     },
     "execution_count": 140,
     "metadata": {},
     "output_type": "execute_result"
    }
   ],
   "source": [
    "\n",
    "\n",
    "\n",
    "maxorder = 4\n",
    "array = np.array([16,20,1000,0,0]).astype(np.int16)\n",
    "%timeit convertDirExp2BaseIndxNumpy(array,maxorder)\n",
    "\n",
    "%timeit convertDirExp2BaseIndx([[20,1000],[1,3]],maxorder)\n",
    "\n",
    "array.size\n",
    "\n"
   ]
  },
  {
   "cell_type": "code",
   "execution_count": 149,
   "metadata": {
    "collapsed": false,
    "scrolled": true
   },
   "outputs": [
    {
     "data": {
      "text/plain": [
       "3009000"
      ]
     },
     "execution_count": 149,
     "metadata": {},
     "output_type": "execute_result"
    }
   ],
   "source": [
    "ArrayNumPy.nbytes"
   ]
  },
  {
   "cell_type": "code",
   "execution_count": 133,
   "metadata": {
    "collapsed": false
   },
   "outputs": [
    {
     "name": "stdout",
     "output_type": "stream",
     "text": [
      "The slowest run took 4.51 times longer than the fastest. This could mean that an intermediate result is being cached.\n",
      "100000 loops, best of 3: 4.37 µs per loop\n",
      "100000 loops, best of 3: 6.95 µs per loop\n",
      "The slowest run took 4.10 times longer than the fastest. This could mean that an intermediate result is being cached.\n",
      "100000 loops, best of 3: 7.32 µs per loop\n"
     ]
    }
   ],
   "source": [
    "\n",
    "\n",
    "\n",
    "\n",
    "\n",
    "%timeit getExpArrayBaseRprNumpy(82906087075,35)\n",
    "%timeit getExpArrayBaseRpr(82906087075,35)\n",
    "\n",
    "\n"
   ]
  },
  {
   "cell_type": "code",
   "execution_count": 248,
   "metadata": {
    "collapsed": false
   },
   "outputs": [
    {
     "name": "stdout",
     "output_type": "stream",
     "text": [
      "100000 loops, best of 3: 5.04 µs per loop\n"
     ]
    }
   ],
   "source": [
    "maxorder = 4\n",
    "\n",
    "%timeit convertDirExp2BaseIndx([[20,1000],[1,3]],maxorder)"
   ]
  },
  {
   "cell_type": "code",
   "execution_count": 343,
   "metadata": {
    "collapsed": false
   },
   "outputs": [
    {
     "data": {
      "text/plain": [
       "4587924"
      ]
     },
     "execution_count": 343,
     "metadata": {},
     "output_type": "execute_result"
    }
   ],
   "source": [
    "binarySearch(Array,element,maxorder)"
   ]
  },
  {
   "cell_type": "code",
   "execution_count": 344,
   "metadata": {
    "collapsed": false
   },
   "outputs": [
    {
     "data": {
      "text/plain": [
       "True"
      ]
     },
     "execution_count": 344,
     "metadata": {},
     "output_type": "execute_result"
    }
   ],
   "source": [
    "binarySearch(Array,element,maxorder) == Array.index(element)"
   ]
  },
  {
   "cell_type": "code",
   "execution_count": 345,
   "metadata": {
    "collapsed": false
   },
   "outputs": [
    {
     "data": {
      "text/plain": [
       "1893266172530428332988148556678686951215695444261655211448669433593750"
      ]
     },
     "execution_count": 345,
     "metadata": {},
     "output_type": "execute_result"
    }
   ],
   "source": [
    "convertDirExp2BaseIndx(element,maxorder)"
   ]
  },
  {
   "cell_type": "code",
   "execution_count": null,
   "metadata": {
    "collapsed": true
   },
   "outputs": [],
   "source": []
  },
  {
   "cell_type": "code",
   "execution_count": 274,
   "metadata": {
    "collapsed": false
   },
   "outputs": [
    {
     "data": {
      "text/plain": [
       "137257"
      ]
     },
     "execution_count": 274,
     "metadata": {},
     "output_type": "execute_result"
    }
   ],
   "source": [
    "int('1'*6,6)"
   ]
  },
  {
   "cell_type": "code",
   "execution_count": null,
   "metadata": {
    "collapsed": false
   },
   "outputs": [],
   "source": []
  },
  {
   "cell_type": "code",
   "execution_count": 161,
   "metadata": {
    "collapsed": false
   },
   "outputs": [
    {
     "data": {
      "text/plain": [
       "0"
      ]
     },
     "execution_count": 161,
     "metadata": {},
     "output_type": "execute_result"
    }
   ],
   "source": [
    "ab = np.array([])\n",
    "ab"
   ]
  }
 ],
 "metadata": {
  "kernelspec": {
   "display_name": "Python 3",
   "language": "python",
   "name": "python3"
  },
  "language_info": {
   "codemirror_mode": {
    "name": "ipython",
    "version": 3
   },
   "file_extension": ".py",
   "mimetype": "text/x-python",
   "name": "python",
   "nbconvert_exporter": "python",
   "pygments_lexer": "ipython3",
   "version": "3.4.3"
  }
 },
 "nbformat": 4,
 "nbformat_minor": 2
}
