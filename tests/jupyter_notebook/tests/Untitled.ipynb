{
 "cells": [
  {
   "cell_type": "code",
   "execution_count": 2,
   "metadata": {},
   "outputs": [],
   "source": [
    "import scipy.sparse as spr\n",
    "import sys\n",
    "path2oti = '../../../build/'\n",
    "sys.path.append(path2oti) # Add path to OTI library.\n",
    "\n",
    "import pyoti.sparse as oti \n",
    "import pyoti.core   as coti\n",
    "import pyoti.fem    as fem \n",
    "\n",
    "%matplotlib notebook\n",
    "import matplotlib.pyplot as plt\n",
    "from mpl_toolkits.mplot3d import Axes3D\n",
    "\n",
    "e  = oti.e\n",
    "np = oti.np"
   ]
  },
  {
   "cell_type": "code",
   "execution_count": 10,
   "metadata": {},
   "outputs": [],
   "source": [
    "Th = fem.square( 2, 1, he = 1/5, element_order=2, structured = True, quads=False, save=False)"
   ]
  },
  {
   "cell_type": "code",
   "execution_count": 11,
   "metadata": {},
   "outputs": [],
   "source": [
    "f = oti.sin(Th.x)**2"
   ]
  },
  {
   "cell_type": "code",
   "execution_count": 12,
   "metadata": {},
   "outputs": [
    {
     "data": {
      "text/plain": [
       "0.5453472259397132"
      ]
     },
     "execution_count": 12,
     "metadata": {},
     "output_type": "execute_result"
    }
   ],
   "source": [
    "els = Th.elements[2]\n",
    "\n",
    "intorder = 2\n",
    "ndim_an  = 2\n",
    "\n",
    "element = fem.tri6\n",
    "element.end()\n",
    "element.allocate(intorder)\n",
    "element.allocate_spatial(ndim_an,compute_Jinv = True)\n",
    "\n",
    "integral = 0\n",
    "fh = oti.zeros( ( element.nbasis,1) )\n",
    "\n",
    "for j in range(len(els['tags'])):    \n",
    "    for i in range(len(els['tags'][j])):\n",
    "        \n",
    "        #  print('Element indices:',type(els['nodes'][j][i][0]))\n",
    "        element.set_coordinates(Th.x,Th.y,Th.z,els['nodes'][j][i])\n",
    "        element.compute_jacobian()\n",
    "        \n",
    "        for ii in range(element.nbasis):\n",
    "            fh[ii,0] = f[ int(els['nodes'][j][i][ii]),0]\n",
    "        #end for \n",
    "    \n",
    "    # end for \n",
    "\n",
    "# end for.\n",
    "        \n",
    "        \n",
    "        \n",
    "        integral = integral + oti.gauss_integrate(oti.dot_product(fh,element.N),element.w_dJ)\n",
    "        \n",
    "integral.real"
   ]
  },
  {
   "cell_type": "code",
   "execution_count": 15,
   "metadata": {},
   "outputs": [
    {
     "data": {
      "text/plain": [
       "(vtkRenderingOpenGL2Python.vtkOpenGLActor)0x7fdbb46db0a8"
      ]
     },
     "execution_count": 15,
     "metadata": {},
     "output_type": "execute_result"
    }
   ],
   "source": [
    "import pyvista as pv\n",
    "p = pv.BackgroundPlotter()\n",
    "grid = Th.to_pv(dims=2,pd=[f.real],pd_names=[\"function\"])\n",
    "\n",
    "p.clear()\n",
    "\n",
    "p.add_mesh(grid, show_edges=True, line_width=2,grid = True)"
   ]
  }
 ],
 "metadata": {
  "kernelspec": {
   "display_name": "Python 3",
   "language": "python",
   "name": "python3"
  },
  "language_info": {
   "codemirror_mode": {
    "name": "ipython",
    "version": 3
   },
   "file_extension": ".py",
   "mimetype": "text/x-python",
   "name": "python",
   "nbconvert_exporter": "python",
   "pygments_lexer": "ipython3",
   "version": "3.7.3"
  }
 },
 "nbformat": 4,
 "nbformat_minor": 2
}
