{
 "cells": [
  {
   "cell_type": "code",
   "execution_count": 1,
   "metadata": {},
   "outputs": [],
   "source": [
    "import sys\n",
    "path2oti = '../../../build/'\n",
    "sys.path.append(path2oti) # Add path to OTI library.\n",
    "\n",
    "import pyoti.real   as r\n",
    "import pyoti.sparse as oti \n",
    "import pyoti.core   as coti \n",
    "\n",
    "\n",
    "import sympy as sym\n",
    "\n",
    "xs, ys , zs = sym.symbols('x y z')"
   ]
  },
  {
   "cell_type": "code",
   "execution_count": 3,
   "metadata": {},
   "outputs": [
    {
     "data": {
      "text/plain": [
       "496"
      ]
     },
     "execution_count": 3,
     "metadata": {},
     "output_type": "execute_result"
    }
   ],
   "source": [
    "h = coti.get_dHelp()\n",
    "h.get_ndir_total(2,30)"
   ]
  },
  {
   "cell_type": "code",
   "execution_count": 4,
   "metadata": {},
   "outputs": [],
   "source": [
    "x = 0.5 + oti.e(1,order = 10)\n",
    "y = 0.8 + oti.e(2,order = 10)\n",
    "z = 1.2 + oti.e(3,order = 10)"
   ]
  },
  {
   "cell_type": "code",
   "execution_count": 68,
   "metadata": {},
   "outputs": [],
   "source": [
    "def f_tri(x,y,z, alg = oti):\n",
    "    return alg.sin(alg.log(x**2*alg.exp(y*z**2))*alg.cos(x**3*y**2*z**4))"
   ]
  },
  {
   "cell_type": "code",
   "execution_count": 69,
   "metadata": {},
   "outputs": [
    {
     "name": "stdout",
     "output_type": "stream",
     "text": [
      "529 µs ± 6.55 µs per loop (mean ± std. dev. of 7 runs, 1000 loops each)\n"
     ]
    }
   ],
   "source": [
    "%timeit f_eval = f_tri(x,y,z)"
   ]
  },
  {
   "cell_type": "code",
   "execution_count": 70,
   "metadata": {},
   "outputs": [],
   "source": [
    "f_eval = f_tri(x,y,z)"
   ]
  },
  {
   "cell_type": "code",
   "execution_count": 7,
   "metadata": {},
   "outputs": [],
   "source": [
    "# f_eval.get_order_im(50)"
   ]
  },
  {
   "cell_type": "code",
   "execution_count": 8,
   "metadata": {},
   "outputs": [
    {
     "data": {
      "text/plain": [
       "-1.3516244346248974e+22"
      ]
     },
     "execution_count": 8,
     "metadata": {},
     "output_type": "execute_result"
    }
   ],
   "source": [
    "f_eval.get_im([[1,3],[2,17],[3,30]])"
   ]
  },
  {
   "cell_type": "code",
   "execution_count": 9,
   "metadata": {},
   "outputs": [
    {
     "data": {
      "text/plain": [
       "-7.651311350129356e+69"
      ]
     },
     "execution_count": 9,
     "metadata": {},
     "output_type": "execute_result"
    }
   ],
   "source": [
    "f_eval.get_deriv([[1,3],[2,17],[3,30]])"
   ]
  },
  {
   "cell_type": "code",
   "execution_count": 5,
   "metadata": {},
   "outputs": [],
   "source": [
    "\n"
   ]
  },
  {
   "cell_type": "code",
   "execution_count": 73,
   "metadata": {},
   "outputs": [],
   "source": [
    "fs = f_tri(xs,ys,zs,alg=sym)"
   ]
  },
  {
   "cell_type": "code",
   "execution_count": 74,
   "metadata": {},
   "outputs": [],
   "source": [
    "dfdx_3 = fs.diff(xs,3)"
   ]
  },
  {
   "cell_type": "code",
   "execution_count": 75,
   "metadata": {},
   "outputs": [],
   "source": [
    "dfdx3dy3 = dfdx_3.diff(ys,3)"
   ]
  },
  {
   "cell_type": "code",
   "execution_count": 76,
   "metadata": {},
   "outputs": [],
   "source": [
    "dfdx3dy3dz4 = dfdx3dy3.diff(zs,4)"
   ]
  },
  {
   "cell_type": "code",
   "execution_count": null,
   "metadata": {},
   "outputs": [],
   "source": [
    "deriv.replace(xs,x.real).replace(ys,y.real).replace(zs,z.real).evalf().doit()"
   ]
  },
  {
   "cell_type": "code",
   "execution_count": 60,
   "metadata": {},
   "outputs": [
    {
     "name": "stdout",
     "output_type": "stream",
     "text": [
      "504 µs ± 1.81 µs per loop (mean ± std. dev. of 7 runs, 1000 loops each)\n"
     ]
    }
   ],
   "source": [
    "%timeit fs.diff(xs,3).diff(ys,3).diff(zs,4)"
   ]
  },
  {
   "cell_type": "code",
   "execution_count": null,
   "metadata": {},
   "outputs": [],
   "source": []
  },
  {
   "cell_type": "code",
   "execution_count": null,
   "metadata": {},
   "outputs": [],
   "source": []
  },
  {
   "cell_type": "code",
   "execution_count": null,
   "metadata": {},
   "outputs": [],
   "source": [
    " - 13516244346248974303232.0000 * e([[1,3],[2,17],[3,30]])"
   ]
  },
  {
   "cell_type": "code",
   "execution_count": 84,
   "metadata": {},
   "outputs": [],
   "source": [
    "# Simpler function:\n",
    "\n",
    "def f(x, alg=oti):\n",
    "    return alg.sin(x)\n",
    "\n",
    "def f(x, alg=oti):\n",
    "    return alg.log(x)\n",
    "\n",
    "def f(x, alg=oti):\n",
    "    return alg.exp(x)\n",
    "\n",
    "def f(x, alg=oti):\n",
    "    return alg.cos(x)\n",
    "\n",
    "def f(x, alg=oti):\n",
    "    return x**100.5\n",
    "\n",
    "def f(x,y, alg=oti):\n",
    "    return alg.log(x+y)"
   ]
  },
  {
   "cell_type": "code",
   "execution_count": 94,
   "metadata": {},
   "outputs": [],
   "source": [
    "x = 0.5 + oti.e(1,order = 150)\n",
    "y = 0.8 + oti.e(2,order = 150)"
   ]
  },
  {
   "cell_type": "code",
   "execution_count": 95,
   "metadata": {},
   "outputs": [
    {
     "data": {
      "text/plain": [
       "-3.0853135453874564e+243"
      ]
     },
     "execution_count": 95,
     "metadata": {},
     "output_type": "execute_result"
    }
   ],
   "source": [
    "f_eval = f(x,y)\n",
    "f_eval.get_deriv([[1,75],[2,75]])"
   ]
  },
  {
   "cell_type": "code",
   "execution_count": 96,
   "metadata": {},
   "outputs": [
    {
     "data": {
      "text/latex": [
       "$\\displaystyle \\log{\\left(x + y \\right)}$"
      ],
      "text/plain": [
       "log(x + y)"
      ]
     },
     "execution_count": 96,
     "metadata": {},
     "output_type": "execute_result"
    }
   ],
   "source": [
    "fs = f(xs,ys,alg=sym)\n",
    "fs"
   ]
  },
  {
   "cell_type": "code",
   "execution_count": 98,
   "metadata": {},
   "outputs": [],
   "source": [
    "deriv = float(fs.diff(xs,75).diff(ys,75).replace(xs,x.real).replace(ys,y.real).evalf())"
   ]
  },
  {
   "cell_type": "code",
   "execution_count": 100,
   "metadata": {},
   "outputs": [
    {
     "data": {
      "text/plain": [
       "-4.914025518667389e-16"
      ]
     },
     "execution_count": 100,
     "metadata": {},
     "output_type": "execute_result"
    }
   ],
   "source": [
    "(abs(deriv)-abs(f_eval.get_deriv([[1,75],[2,75]])))/(abs(deriv))"
   ]
  },
  {
   "cell_type": "code",
   "execution_count": 92,
   "metadata": {},
   "outputs": [
    {
     "data": {
      "text/latex": [
       "$\\displaystyle - \\frac{608281864034267560872252163321295376887552831379210240000000000}{\\left(x + y\\right)^{50}}$"
      ],
      "text/plain": [
       "-608281864034267560872252163321295376887552831379210240000000000/(x + y)**50"
      ]
     },
     "execution_count": 92,
     "metadata": {},
     "output_type": "execute_result"
    }
   ],
   "source": [
    "fs.diff(xs,25).diff(ys,25)"
   ]
  },
  {
   "cell_type": "code",
   "execution_count": null,
   "metadata": {},
   "outputs": [],
   "source": []
  },
  {
   "cell_type": "code",
   "execution_count": null,
   "metadata": {},
   "outputs": [],
   "source": []
  },
  {
   "cell_type": "code",
   "execution_count": null,
   "metadata": {},
   "outputs": [],
   "source": []
  },
  {
   "cell_type": "code",
   "execution_count": 2,
   "metadata": {},
   "outputs": [],
   "source": [
    "def f_uni( x , alg = oti):\n",
    "    return alg.log(x)"
   ]
  },
  {
   "cell_type": "code",
   "execution_count": 3,
   "metadata": {},
   "outputs": [],
   "source": [
    "\n",
    "fs = f_uni(xs,alg=sym)"
   ]
  },
  {
   "cell_type": "code",
   "execution_count": 5,
   "metadata": {},
   "outputs": [
    {
     "data": {
      "text/latex": [
       "$\\displaystyle -4.61106292143152 \\cdot 10^{25}$"
      ],
      "text/plain": [
       "-4.61106292143152e+25"
      ]
     },
     "execution_count": 5,
     "metadata": {},
     "output_type": "execute_result"
    }
   ],
   "source": [
    "fs.diff(xs,30).replace(xs,1.5).evalf().doit()"
   ]
  },
  {
   "cell_type": "code",
   "execution_count": 7,
   "metadata": {},
   "outputs": [
    {
     "data": {
      "text/plain": [
       "-4.611062921431516e+25"
      ]
     },
     "execution_count": 7,
     "metadata": {},
     "output_type": "execute_result"
    }
   ],
   "source": [
    "f_uni(1.5+oti.e(1,order=30)).get_deriv([[1,30]])"
   ]
  },
  {
   "cell_type": "code",
   "execution_count": 4,
   "metadata": {},
   "outputs": [],
   "source": [
    "def analytic_solution_r( r, Bii, Bio, s, ri, ro, log = oti.log):\n",
    "    \n",
    "    #real K1 = ( 2.0 * Bi2 * Q - Bi1 * Bi2 * Q + 2.0 * Bi1 * Q * rho - 4.0*Bi1*Bi2 + Bi1*Bi2*Q*rho^2);\n",
    "    #\n",
    "    #real KDiv = (Bi1*Bi2*rho*log(rho)+Bi1+Bi2*rho);\n",
    "    #\n",
    "    #real K2 = (2.0*Q*rho^2-4.0*Bi2*rho+Bi2*Q*rho^3-2.0*Bi2*Q*rho*log(rho)+\n",
    "    #           Bi1*Bi2*Q*rho*log(rho)-2.0*Q+Bi1*Q);\n",
    "\n",
    "    # ThetaAnalytic = -0.25*Q*x^2 + 0.25*rho*log(x)*K1/KDiv + 0.25*K2/KDiv;\n",
    "    \n",
    "    \n",
    "    rho = ro/ri\n",
    "    \n",
    "    K1 = ( 2.0 * Bio * s - Bii * Bio * s + 2.0 * Bii * s * rho - 4.0 * Bii * Bio + Bii * Bio * s * rho**2)\n",
    "    \n",
    "    KDiv = ( Bii * Bio * rho * log(rho) + Bii + Bio * rho )\n",
    "    \n",
    "    K2 = ( 2.0 * s * rho**2 - 4.0 * Bio * rho + Bio * s * rho**3 - 2.0 * Bio * s * rho * log(rho) +\n",
    "           Bii * Bio * s * rho * log(rho) - 2.0 * s + Bii * s )\n",
    "\n",
    "\n",
    "    Theta = - 0.25 * s * r**2 + 0.25 * rho * log(r) * K1 / KDiv + 0.25 * K2 / KDiv\n",
    "    \n",
    "    return Theta"
   ]
  },
  {
   "cell_type": "code",
   "execution_count": 5,
   "metadata": {},
   "outputs": [],
   "source": [
    "Bi1s, Bi2s, ss, ris, ros = sym.symbols('Bi1 Bi2 s ri ro')"
   ]
  },
  {
   "cell_type": "code",
   "execution_count": 6,
   "metadata": {},
   "outputs": [],
   "source": [
    "fs = analytic_solution_r( ris, Bi1s, Bi2s, ss, ris, ros, log = sym.log)"
   ]
  },
  {
   "cell_type": "code",
   "execution_count": 7,
   "metadata": {},
   "outputs": [
    {
     "data": {
      "text/latex": [
       "$\\displaystyle -1.25 + \\frac{1.25 ro^{3} + 2.5 ro^{2} - 2.375 ro \\log{\\left(1.0 ro \\right)} - 1.0 ro - 2.375}{0.1 ro \\log{\\left(1.0 ro \\right)} + 1.0 ro + 0.1}$"
      ],
      "text/plain": [
       "-1.25 + (1.25*ro**3 + 2.5*ro**2 - 2.375*ro*log(1.0*ro) - 1.0*ro - 2.375)/(0.1*ro*log(1.0*ro) + 1.0*ro + 0.1)"
      ]
     },
     "execution_count": 7,
     "metadata": {},
     "output_type": "execute_result"
    }
   ],
   "source": [
    "\n",
    "# Replace for values of other variables:\n",
    "\n",
    "Bi1r = 0.1\n",
    "Bi2r = 1.0\n",
    "sr   = 5.0\n",
    "\n",
    "rir  = 1.0\n",
    "ror  = 1.5\n",
    "\n",
    "fs = fs.replace(ris,rir).replace(ss,sr).replace(Bi1s,Bi1r).replace(Bi2s,Bi2r).replace(ris,rir).doit().evalf()\n",
    "fs"
   ]
  },
  {
   "cell_type": "code",
   "execution_count": 9,
   "metadata": {},
   "outputs": [],
   "source": [
    "dfdro = fs.diff(ros,10)"
   ]
  },
  {
   "cell_type": "code",
   "execution_count": null,
   "metadata": {
    "scrolled": true
   },
   "outputs": [],
   "source": [
    "# dfdro"
   ]
  },
  {
   "cell_type": "code",
   "execution_count": 10,
   "metadata": {},
   "outputs": [],
   "source": [
    "dfdro_eval = sym.lambdify([ros],dfdro)"
   ]
  },
  {
   "cell_type": "code",
   "execution_count": 11,
   "metadata": {},
   "outputs": [
    {
     "data": {
      "text/plain": [
       "-57209.58455427641"
      ]
     },
     "execution_count": 11,
     "metadata": {},
     "output_type": "execute_result"
    }
   ],
   "source": [
    "dfdro_eval(ror)"
   ]
  },
  {
   "cell_type": "code",
   "execution_count": 12,
   "metadata": {},
   "outputs": [
    {
     "data": {
      "text/plain": [
       "-57209.58455427689"
      ]
     },
     "execution_count": 12,
     "metadata": {},
     "output_type": "execute_result"
    }
   ],
   "source": [
    "ro_oti =  ror+oti.e(1,order=30)\n",
    "f_oti = analytic_solution_r( rir, Bi1r, Bi2r, sr, rir, ro_oti, log = oti.log)\n",
    "f_oti.get_deriv([[1,10]])"
   ]
  }
 ],
 "metadata": {
  "kernelspec": {
   "display_name": "Python 3",
   "language": "python",
   "name": "python3"
  },
  "language_info": {
   "codemirror_mode": {
    "name": "ipython",
    "version": 3
   },
   "file_extension": ".py",
   "mimetype": "text/x-python",
   "name": "python",
   "nbconvert_exporter": "python",
   "pygments_lexer": "ipython3",
   "version": "3.7.4"
  }
 },
 "nbformat": 4,
 "nbformat_minor": 4
}
