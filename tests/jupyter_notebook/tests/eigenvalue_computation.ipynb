{
 "cells": [
  {
   "cell_type": "code",
   "execution_count": 1,
   "metadata": {},
   "outputs": [],
   "source": [
    "import sys\n",
    "path2oti = '../../../build/'\n",
    "sys.path.append(path2oti) # Add path to OTI library.\n",
    "\n",
    "import pyoti.real   as r\n",
    "import pyoti.sparse as oti\n",
    "import pyoti.core   as coti\n",
    "\n",
    "np = oti.np\n",
    "\n",
    "e = oti.e\n",
    "\n",
    "import scipy as scp\n",
    "import sympy as sym\n",
    "\n",
    "xs, ys , zs = sym.symbols('x y z')"
   ]
  },
  {
   "cell_type": "code",
   "execution_count": 74,
   "metadata": {},
   "outputs": [
    {
     "name": "stdout",
     "output_type": "stream",
     "text": [
      "Resulting eigenvalues:\n",
      "[-2.+2.e-10j -2.-2.e-10j -2.+2.e-10j -2.-2.e-10j]\n"
     ]
    }
   ],
   "source": [
    "import numpy as np\n",
    "import scipy.linalg as spla\n",
    "\n",
    "ka = 0.5*np.pi\n",
    "m=1\n",
    "h=1e-10\n",
    "c = 1\n",
    "ka_m = np.array([[ka,0,0,0],\n",
    "                 [0,ka,0,0],\n",
    "                 [0,0,ka,0],\n",
    "                 [0,0,0,ka] ])\n",
    "\n",
    "m_m =  np.array([[m,0,0,0],\n",
    "                 [0,m,0,0],\n",
    "                 [0,0,m,0],\n",
    "                 [0,0,0,m] ])\n",
    "\n",
    "c_m =  np.array([[ c, 0,-h, 0],\n",
    "                 [ 0, c, 0,-h],\n",
    "                 [ h, 0, c, 0],\n",
    "                 [ 0, h, 0, c] ])\n",
    "\n",
    "i2_m = np.array([[ 0,-1, 0, 0],\n",
    "                 [ 1, 0, 0, 0],\n",
    "                 [ 0, 0, 0,-1],\n",
    "                 [ 0, 0, 1, 0] ])\n",
    "\n",
    "\n",
    "one_m =  np.array([[1,0,0,0],\n",
    "                   [0,1,0,0],\n",
    "                   [0,0,1,0],\n",
    "                   [0,0,0,1] ])\n",
    "\n",
    "\n",
    "a = np.dot( c_m , ( spla.expm( np.dot(i2_m,ka_m) ) + spla.expm( -np.dot(i2_m,ka_m) ) - one_m*2 ) )\n",
    "b = m_m\n",
    "\n",
    "eigval,eigvec = spla.eig(a,b=b)\n",
    "\n",
    "\n",
    "S = -np.dot(spla.inv(b),a)\n",
    "for i in range(2):\n",
    "    Q,R = spla.qr(S)\n",
    "    S = Q.T@S@Q\n",
    "\n",
    "\n",
    "print(\"Resulting eigenvalues:\")\n",
    "print(eigval)"
   ]
  },
  {
   "cell_type": "code",
   "execution_count": 75,
   "metadata": {},
   "outputs": [
    {
     "data": {
      "text/plain": [
       "array([[ 2.e+00,  0.e+00, -2.e-10,  0.e+00],\n",
       "       [ 0.e+00,  2.e+00,  0.e+00, -2.e-10],\n",
       "       [ 2.e-10,  0.e+00,  2.e+00,  0.e+00],\n",
       "       [ 0.e+00,  2.e-10,  0.e+00,  2.e+00]])"
      ]
     },
     "execution_count": 75,
     "metadata": {},
     "output_type": "execute_result"
    }
   ],
   "source": [
    "S"
   ]
  },
  {
   "cell_type": "code",
   "execution_count": 76,
   "metadata": {},
   "outputs": [
    {
     "data": {
      "text/plain": [
       "array([[ 2.e+00,  0.e+00, -2.e-10,  0.e+00],\n",
       "       [ 0.e+00,  2.e+00,  0.e+00, -2.e-10],\n",
       "       [ 2.e-10,  0.e+00,  2.e+00,  0.e+00],\n",
       "       [ 0.e+00,  2.e-10,  0.e+00,  2.e+00]])"
      ]
     },
     "execution_count": 76,
     "metadata": {},
     "output_type": "execute_result"
    }
   ],
   "source": [
    "R@Q"
   ]
  },
  {
   "cell_type": "code",
   "execution_count": 19,
   "metadata": {},
   "outputs": [
    {
     "data": {
      "text/plain": [
       "array([[ 4.e+00,  4.e-10,  0.e+00,  0.e+00],\n",
       "       [-4.e-10,  4.e+00,  0.e+00,  0.e+00],\n",
       "       [ 0.e+00,  0.e+00,  4.e+00,  4.e-10],\n",
       "       [ 0.e+00,  0.e+00, -4.e-10,  4.e+00]])"
      ]
     },
     "execution_count": 19,
     "metadata": {},
     "output_type": "execute_result"
    }
   ],
   "source": [
    "S"
   ]
  },
  {
   "cell_type": "code",
   "execution_count": 2,
   "metadata": {},
   "outputs": [],
   "source": [
    "eigval,eigvec = spla.eig(a,b=b)"
   ]
  },
  {
   "cell_type": "code",
   "execution_count": 3,
   "metadata": {},
   "outputs": [
    {
     "data": {
      "text/plain": [
       "array([4.+4.e-10j, 4.-4.e-10j, 4.+4.e-10j, 4.-4.e-10j])"
      ]
     },
     "execution_count": 3,
     "metadata": {},
     "output_type": "execute_result"
    }
   ],
   "source": [
    "eigval"
   ]
  },
  {
   "cell_type": "code",
   "execution_count": 7,
   "metadata": {},
   "outputs": [
    {
     "data": {
      "text/plain": [
       "array([[-0.32564071-0.35083544j, -0.32564071+0.35083544j,\n",
       "         0.51613355-0.48014792j,  0.51613355+0.48014792j],\n",
       "       [-0.35083544+0.32564088j, -0.35083544-0.32564088j,\n",
       "        -0.48014841-0.51613425j, -0.48014841+0.51613425j],\n",
       "       [-0.27360073-0.44273572j, -0.27360073+0.44273572j,\n",
       "        -0.05515291+0.00465471j, -0.05515291-0.00465471j],\n",
       "       [-0.44273564+0.27360191j, -0.44273564-0.27360191j,\n",
       "         0.00465487+0.05515342j,  0.00465487-0.05515342j]])"
      ]
     },
     "execution_count": 7,
     "metadata": {},
     "output_type": "execute_result"
    }
   ],
   "source": [
    "eigvec"
   ]
  },
  {
   "cell_type": "code",
   "execution_count": 38,
   "metadata": {},
   "outputs": [
    {
     "data": {
      "text/plain": [
       "2.0"
      ]
     },
     "execution_count": 38,
     "metadata": {},
     "output_type": "execute_result"
    }
   ],
   "source": [
    "deriv = 2/m*np.sin(ka/2)**2\n",
    "deriv"
   ]
  },
  {
   "cell_type": "code",
   "execution_count": 39,
   "metadata": {},
   "outputs": [
    {
     "data": {
      "text/plain": [
       "2.0"
      ]
     },
     "execution_count": 39,
     "metadata": {},
     "output_type": "execute_result"
    }
   ],
   "source": [
    "2*c/m*np.sin(ka/2)**2"
   ]
  },
  {
   "cell_type": "code",
   "execution_count": 46,
   "metadata": {},
   "outputs": [
    {
     "name": "stdout",
     "output_type": "stream",
     "text": [
      "[[-1.e+00+0.j -1.e-10+0.j]\n",
      " [-1.e-10-0.j  1.e+00+0.j]]\n",
      "[[ 2.+0.j  0.+0.j]\n",
      " [ 0.+0.j -2.+0.j]]\n"
     ]
    }
   ],
   "source": [
    "import numpy as np\n",
    "import scipy.linalg as spla\n",
    "\n",
    "ka = 0.5*np.pi\n",
    "m=1\n",
    "h=1e-10\n",
    "c = 1\n",
    "ka_m = np.array([[ka,0],\n",
    "                 [0,ka]\n",
    "                ])\n",
    "\n",
    "m_m =  np.array([[m,0],\n",
    "                 [0,m] ])\n",
    "\n",
    "c_m =  np.array([[c,-h ],\n",
    "                 [h, c ] ])\n",
    "\n",
    "i2_m = np.array([[0,-1],\n",
    "                 [1, 0] ])\n",
    "\n",
    "\n",
    "one_m =  np.array([[1,0],\n",
    "                   [0,1] ])\n",
    "\n",
    "\n",
    "a = np.dot(c_m,(spla.expm(1j*ka_m)+spla.expm(-1j*ka_m)-one_m*2))\n",
    "\n",
    "b = -m_m\n",
    "\n",
    "# Falla esta parte por \n",
    "# eigval,eigvec = spla.eigs(a,b=b)\n",
    "S = -np.dot(spla.inv(b),a)\n",
    "# AA,BB,Q,Z = spla.qz(a,b)\n",
    "Q,R = spla.qr(S)\n",
    "\n",
    "\n",
    "print(Q)\n",
    "\n",
    "print(R)"
   ]
  },
  {
   "cell_type": "code",
   "execution_count": 47,
   "metadata": {},
   "outputs": [
    {
     "data": {
      "text/plain": [
       "array([[-2.e+00+0.j,  2.e-10+0.j],\n",
       "       [-2.e-10+0.j, -2.e+00+0.j]])"
      ]
     },
     "execution_count": 47,
     "metadata": {},
     "output_type": "execute_result"
    }
   ],
   "source": [
    "a"
   ]
  },
  {
   "cell_type": "code",
   "execution_count": 48,
   "metadata": {},
   "outputs": [
    {
     "data": {
      "text/plain": [
       "array([[-1,  0],\n",
       "       [ 0, -1]])"
      ]
     },
     "execution_count": 48,
     "metadata": {},
     "output_type": "execute_result"
    }
   ],
   "source": [
    "b"
   ]
  },
  {
   "cell_type": "code",
   "execution_count": 49,
   "metadata": {},
   "outputs": [
    {
     "ename": "LinAlgError",
     "evalue": "generalized eig algorithm (ggev) did not converge (LAPACK info=2)",
     "output_type": "error",
     "traceback": [
      "\u001b[0;31m---------------------------------------------------------------------------\u001b[0m",
      "\u001b[0;31mLinAlgError\u001b[0m                               Traceback (most recent call last)",
      "\u001b[0;32m<ipython-input-49-38db52361e9d>\u001b[0m in \u001b[0;36m<module>\u001b[0;34m\u001b[0m\n\u001b[0;32m----> 1\u001b[0;31m \u001b[0meigval\u001b[0m\u001b[0;34m,\u001b[0m\u001b[0meigvec\u001b[0m \u001b[0;34m=\u001b[0m \u001b[0mscp\u001b[0m\u001b[0;34m.\u001b[0m\u001b[0mlinalg\u001b[0m\u001b[0;34m.\u001b[0m\u001b[0meig\u001b[0m\u001b[0;34m(\u001b[0m\u001b[0ma\u001b[0m\u001b[0;34m,\u001b[0m\u001b[0mb\u001b[0m\u001b[0;34m=\u001b[0m\u001b[0mb\u001b[0m\u001b[0;34m)\u001b[0m\u001b[0;34m\u001b[0m\u001b[0;34m\u001b[0m\u001b[0m\n\u001b[0m",
      "\u001b[0;32m~/opt/anaconda3/envs/pyoti/lib/python3.7/site-packages/scipy/linalg/decomp.py\u001b[0m in \u001b[0;36meig\u001b[0;34m(a, b, left, right, overwrite_a, overwrite_b, check_finite, homogeneous_eigvals)\u001b[0m\n\u001b[1;32m    221\u001b[0m             \u001b[0;32mraise\u001b[0m \u001b[0mValueError\u001b[0m\u001b[0;34m(\u001b[0m\u001b[0;34m'a and b must have the same shape'\u001b[0m\u001b[0;34m)\u001b[0m\u001b[0;34m\u001b[0m\u001b[0;34m\u001b[0m\u001b[0m\n\u001b[1;32m    222\u001b[0m         return _geneig(a1, b1, left, right, overwrite_a, overwrite_b,\n\u001b[0;32m--> 223\u001b[0;31m                        homogeneous_eigvals)\n\u001b[0m\u001b[1;32m    224\u001b[0m \u001b[0;34m\u001b[0m\u001b[0m\n\u001b[1;32m    225\u001b[0m     \u001b[0mgeev\u001b[0m\u001b[0;34m,\u001b[0m \u001b[0mgeev_lwork\u001b[0m \u001b[0;34m=\u001b[0m \u001b[0mget_lapack_funcs\u001b[0m\u001b[0;34m(\u001b[0m\u001b[0;34m(\u001b[0m\u001b[0;34m'geev'\u001b[0m\u001b[0;34m,\u001b[0m \u001b[0;34m'geev_lwork'\u001b[0m\u001b[0;34m)\u001b[0m\u001b[0;34m,\u001b[0m \u001b[0;34m(\u001b[0m\u001b[0ma1\u001b[0m\u001b[0;34m,\u001b[0m\u001b[0;34m)\u001b[0m\u001b[0;34m)\u001b[0m\u001b[0;34m\u001b[0m\u001b[0;34m\u001b[0m\u001b[0m\n",
      "\u001b[0;32m~/opt/anaconda3/envs/pyoti/lib/python3.7/site-packages/scipy/linalg/decomp.py\u001b[0m in \u001b[0;36m_geneig\u001b[0;34m(a1, b1, left, right, overwrite_a, overwrite_b, homogeneous_eigvals)\u001b[0m\n\u001b[1;32m     87\u001b[0m         \u001b[0malpha\u001b[0m \u001b[0;34m=\u001b[0m \u001b[0malphar\u001b[0m \u001b[0;34m+\u001b[0m \u001b[0m_I\u001b[0m \u001b[0;34m*\u001b[0m \u001b[0malphai\u001b[0m\u001b[0;34m\u001b[0m\u001b[0;34m\u001b[0m\u001b[0m\n\u001b[1;32m     88\u001b[0m         \u001b[0mw\u001b[0m \u001b[0;34m=\u001b[0m \u001b[0m_make_eigvals\u001b[0m\u001b[0;34m(\u001b[0m\u001b[0malpha\u001b[0m\u001b[0;34m,\u001b[0m \u001b[0mbeta\u001b[0m\u001b[0;34m,\u001b[0m \u001b[0mhomogeneous_eigvals\u001b[0m\u001b[0;34m)\u001b[0m\u001b[0;34m\u001b[0m\u001b[0;34m\u001b[0m\u001b[0m\n\u001b[0;32m---> 89\u001b[0;31m     \u001b[0m_check_info\u001b[0m\u001b[0;34m(\u001b[0m\u001b[0minfo\u001b[0m\u001b[0;34m,\u001b[0m \u001b[0;34m'generalized eig algorithm (ggev)'\u001b[0m\u001b[0;34m)\u001b[0m\u001b[0;34m\u001b[0m\u001b[0;34m\u001b[0m\u001b[0m\n\u001b[0m\u001b[1;32m     90\u001b[0m \u001b[0;34m\u001b[0m\u001b[0m\n\u001b[1;32m     91\u001b[0m     \u001b[0monly_real\u001b[0m \u001b[0;34m=\u001b[0m \u001b[0mnumpy\u001b[0m\u001b[0;34m.\u001b[0m\u001b[0mall\u001b[0m\u001b[0;34m(\u001b[0m\u001b[0mw\u001b[0m\u001b[0;34m.\u001b[0m\u001b[0mimag\u001b[0m \u001b[0;34m==\u001b[0m \u001b[0;36m0.0\u001b[0m\u001b[0;34m)\u001b[0m\u001b[0;34m\u001b[0m\u001b[0;34m\u001b[0m\u001b[0m\n",
      "\u001b[0;32m~/opt/anaconda3/envs/pyoti/lib/python3.7/site-packages/scipy/linalg/decomp.py\u001b[0m in \u001b[0;36m_check_info\u001b[0;34m(info, driver, positive)\u001b[0m\n\u001b[1;32m   1354\u001b[0m                          % (-info, driver))\n\u001b[1;32m   1355\u001b[0m     \u001b[0;32mif\u001b[0m \u001b[0minfo\u001b[0m \u001b[0;34m>\u001b[0m \u001b[0;36m0\u001b[0m \u001b[0;32mand\u001b[0m \u001b[0mpositive\u001b[0m\u001b[0;34m:\u001b[0m\u001b[0;34m\u001b[0m\u001b[0;34m\u001b[0m\u001b[0m\n\u001b[0;32m-> 1356\u001b[0;31m         \u001b[0;32mraise\u001b[0m \u001b[0mLinAlgError\u001b[0m\u001b[0;34m(\u001b[0m\u001b[0;34m(\u001b[0m\u001b[0;34m\"%s \"\u001b[0m \u001b[0;34m+\u001b[0m \u001b[0mpositive\u001b[0m\u001b[0;34m)\u001b[0m \u001b[0;34m%\u001b[0m \u001b[0;34m(\u001b[0m\u001b[0mdriver\u001b[0m\u001b[0;34m,\u001b[0m \u001b[0minfo\u001b[0m\u001b[0;34m,\u001b[0m\u001b[0;34m)\u001b[0m\u001b[0;34m)\u001b[0m\u001b[0;34m\u001b[0m\u001b[0;34m\u001b[0m\u001b[0m\n\u001b[0m\u001b[1;32m   1357\u001b[0m \u001b[0;34m\u001b[0m\u001b[0m\n\u001b[1;32m   1358\u001b[0m \u001b[0;34m\u001b[0m\u001b[0m\n",
      "\u001b[0;31mLinAlgError\u001b[0m: generalized eig algorithm (ggev) did not converge (LAPACK info=2)"
     ]
    }
   ],
   "source": [
    "eigval,eigvec = scp.linalg.eig(a,b=b)"
   ]
  },
  {
   "cell_type": "code",
   "execution_count": 44,
   "metadata": {},
   "outputs": [
    {
     "data": {
      "text/plain": [
       "array([[ 4.59604348e+001,  3.33071694e+002, -5.14756163e+002,  3.07720023e+002, -6.67935827e+001],\n",
       "       [-1.03753786e-322, -2.89437019e+001,  6.29178024e+001, -4.74504322e+001,  1.26877402e+001],\n",
       "       [ 1.48219694e-323,  3.95252517e-323,  6.79538792e+000, -9.37453655e+000,  3.58763723e+000],\n",
       "       [-1.13635099e-322,  1.13635099e-322, -4.94065646e-324, -8.49619485e-001,  6.47286094e-001],\n",
       "       [-1.67982320e-322,  1.08694442e-322,  0.00000000e+000,  0.00000000e+000,  3.74986442e-002]])"
      ]
     },
     "execution_count": 44,
     "metadata": {},
     "output_type": "execute_result"
    }
   ],
   "source": [
    "# QR Algorithm:\n",
    "\n",
    "A = np.ones((5,5))\n",
    "\n",
    "for i in range(A.shape[0]):\n",
    "    for j in range(A.shape[0]):\n",
    "        A[i,j]=(i+1)**(A.shape[0]-j-1)\n",
    "    # end for \n",
    "# end for\n",
    "\n",
    "S = A.copy()\n",
    "U = np.eye(A.shape[0])\n",
    "for i in range(2000):\n",
    "    Q,R=spla.qr(S)\n",
    "    S = Q.T@S@Q\n",
    "    U = U@Q\n",
    "    \n",
    "    \n",
    "np.set_printoptions(linewidth=120)\n",
    "S"
   ]
  },
  {
   "cell_type": "code",
   "execution_count": 45,
   "metadata": {},
   "outputs": [
    {
     "data": {
      "text/plain": [
       "array([-1.63424829e-13+0.j, -1.10134124e-13+0.j, -1.59872116e-14+0.j,  2.99760217e-15+0.j, -1.52655666e-16+0.j])"
      ]
     },
     "execution_count": 45,
     "metadata": {},
     "output_type": "execute_result"
    }
   ],
   "source": [
    "spla.eig(A)[0]-np.diag(S)"
   ]
  },
  {
   "cell_type": "code",
   "execution_count": 35,
   "metadata": {},
   "outputs": [
    {
     "data": {
      "text/plain": [
       "array([[ 3.44995641e-01,  4.94458137e-01, -4.40946116e+00,  2.16106110e+00,  1.50533436e+01],\n",
       "       [ 1.71871402e+00,  8.97942822e+00, -3.48792726e+01,  4.41779825e+01,  1.90352112e+02],\n",
       "       [-2.38155346e+00, -2.03897363e+01,  6.00204360e+01, -1.19131380e+02, -4.42488930e+02],\n",
       "       [ 1.73742634e+00,  1.70207452e+01, -4.60607514e+01,  1.22783793e+02,  4.26674155e+02],\n",
       "       [-6.24965819e-01, -5.65759189e+00,  1.70126762e+01, -4.81269517e+01, -1.69128653e+02]])"
      ]
     },
     "execution_count": 35,
     "metadata": {},
     "output_type": "execute_result"
    }
   ],
   "source": [
    "U.T@S@U"
   ]
  },
  {
   "cell_type": "code",
   "execution_count": null,
   "metadata": {},
   "outputs": [],
   "source": []
  }
 ],
 "metadata": {
  "kernelspec": {
   "display_name": "Python 3",
   "language": "python",
   "name": "python3"
  },
  "language_info": {
   "codemirror_mode": {
    "name": "ipython",
    "version": 3
   },
   "file_extension": ".py",
   "mimetype": "text/x-python",
   "name": "python",
   "nbconvert_exporter": "python",
   "pygments_lexer": "ipython3",
   "version": "3.8.8"
  }
 },
 "nbformat": 4,
 "nbformat_minor": 4
}
