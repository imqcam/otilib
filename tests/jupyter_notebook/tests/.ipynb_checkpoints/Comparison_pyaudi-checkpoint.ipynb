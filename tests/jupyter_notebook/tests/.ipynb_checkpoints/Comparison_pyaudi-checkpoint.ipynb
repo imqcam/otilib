{
 "cells": [
  {
   "cell_type": "code",
   "execution_count": 1,
   "metadata": {},
   "outputs": [],
   "source": [
    "import sys\n",
    "path2oti = '../../../build/'\n",
    "sys.path.append(path2oti) # Add path to OTI library.\n",
    "\n",
    "import pyoti.real   as r\n",
    "import pyoti.sparse as oti \n",
    "import pyoti.core   as coti\n",
    "\n",
    "from pyaudi import gdual_double as gd\n",
    "import pyaudi as pya"
   ]
  },
  {
   "cell_type": "code",
   "execution_count": 2,
   "metadata": {},
   "outputs": [],
   "source": [
    "def f_tri(x,y,z, alg = oti):\n",
    "    return alg.sin(alg.log(x**2*alg.exp(y*z**2))*alg.cos(x**3*y**2*z**4))\n",
    "\n",
    "\n",
    "def f_bi(x,y, alg=oti):\n",
    "    return alg.sin(x*y)\n",
    "\n",
    "def f_bi(x,y, alg=oti):\n",
    "    return alg.log(x*y)\n",
    "\n",
    "# def f_bi(x,y, alg=oti):\n",
    "#     return alg.exp(x*y)\n",
    "\n",
    "# def f_bi(x,y, alg=oti):\n",
    "#     return alg.cos(x*y)\n",
    "\n",
    "# def f_bi(x,y, alg=oti):\n",
    "#     return (x*y)**100.5\n",
    "\n",
    "\n",
    "def f_uni(x, alg=oti):\n",
    "    return alg.sin(x)\n",
    "\n",
    "def f_uni(x, alg=oti):\n",
    "    return alg.log(x)\n",
    "\n",
    "def f_uni(x, alg=oti):\n",
    "    return alg.exp(x)\n",
    "\n",
    "# def f_uni(x, alg=oti):\n",
    "#     return alg.cos(x)\n",
    "\n",
    "# def f_uni(x, alg=oti):\n",
    "#     return x**100.5"
   ]
  },
  {
   "cell_type": "code",
   "execution_count": 3,
   "metadata": {},
   "outputs": [],
   "source": [
    "x_ad = gd(0.5,\"x\",50)\n",
    "y_ad = gd(0.8,\"y\",50)\n",
    "z_ad = gd(1.2,\"z\",50)"
   ]
  },
  {
   "cell_type": "code",
   "execution_count": 4,
   "metadata": {},
   "outputs": [],
   "source": [
    "# %timeit f_tri(x_ad,y_ad,z_ad,alg=pya)"
   ]
  },
  {
   "cell_type": "code",
   "execution_count": 5,
   "metadata": {},
   "outputs": [],
   "source": [
    "# f_ad_eval = f_tri(x_ad,y_ad,z_ad,alg=pya)"
   ]
  },
  {
   "cell_type": "code",
   "execution_count": 6,
   "metadata": {},
   "outputs": [
    {
     "name": "stdout",
     "output_type": "stream",
     "text": [
      "7.95 ms ± 139 µs per loop (mean ± std. dev. of 7 runs, 100 loops each)\n"
     ]
    }
   ],
   "source": [
    "%timeit f_ad_eval = f_bi(x_ad,y_ad,alg=pya)\n",
    "f_ad_eval = f_bi(x_ad,y_ad,alg=pya)"
   ]
  },
  {
   "cell_type": "code",
   "execution_count": 7,
   "metadata": {},
   "outputs": [
    {
     "data": {
      "text/plain": [
       "-1.0666605902783871e+60"
      ]
     },
     "execution_count": 7,
     "metadata": {},
     "output_type": "execute_result"
    }
   ],
   "source": [
    "f_ad_eval.get_derivative({'dx':25,'dy':25})"
   ]
  },
  {
   "cell_type": "code",
   "execution_count": 20,
   "metadata": {},
   "outputs": [],
   "source": [
    "x = 0.5 + oti.e(1,order = 50)\n",
    "y = 0.8 + oti.e(2,order = 50)\n",
    "z = 1.2 + oti.e(3,order = 50)"
   ]
  },
  {
   "cell_type": "code",
   "execution_count": 11,
   "metadata": {},
   "outputs": [],
   "source": [
    "# %timeit f_eval = f_tri(x,y,z,alg=oti)"
   ]
  },
  {
   "cell_type": "code",
   "execution_count": 12,
   "metadata": {},
   "outputs": [],
   "source": [
    "# f_eval = f_tri(x,y,z,alg=oti)"
   ]
  },
  {
   "cell_type": "code",
   "execution_count": 21,
   "metadata": {},
   "outputs": [
    {
     "name": "stdout",
     "output_type": "stream",
     "text": [
      "776 µs ± 1.96 µs per loop (mean ± std. dev. of 7 runs, 1000 loops each)\n"
     ]
    }
   ],
   "source": [
    "%timeit f_eval = f_bi(x,y,alg=oti)\n",
    "f_eval = f_bi(x,y,alg=oti)"
   ]
  },
  {
   "cell_type": "code",
   "execution_count": 14,
   "metadata": {},
   "outputs": [],
   "source": [
    "f_eval = f_eval.truncate([1,2])"
   ]
  },
  {
   "cell_type": "code",
   "execution_count": 22,
   "metadata": {},
   "outputs": [
    {
     "data": {
      "text/plain": [
       "0.2523981864429068"
      ]
     },
     "execution_count": 22,
     "metadata": {},
     "output_type": "execute_result"
    }
   ],
   "source": [
    "dx = 0.5\n",
    "dy = 0.5\n",
    "f_eval.taylor_integrate([1,2],[dx,dy]).real"
   ]
  },
  {
   "cell_type": "code",
   "execution_count": 175,
   "metadata": {},
   "outputs": [
    {
     "data": {
      "text/plain": [
       "0.26236426446749106"
      ]
     },
     "execution_count": 175,
     "metadata": {},
     "output_type": "execute_result"
    }
   ],
   "source": [
    "f_bi(x.real+dx,y.real+dy,alg=oti.np)"
   ]
  },
  {
   "cell_type": "code",
   "execution_count": 155,
   "metadata": {},
   "outputs": [
    {
     "data": {
      "text/plain": [
       "1.5"
      ]
     },
     "execution_count": 155,
     "metadata": {},
     "output_type": "execute_result"
    }
   ],
   "source": [
    "y.real+dy"
   ]
  },
  {
   "cell_type": "code",
   "execution_count": 156,
   "metadata": {},
   "outputs": [
    {
     "data": {
      "text/plain": [
       "0.9"
      ]
     },
     "execution_count": 156,
     "metadata": {},
     "output_type": "execute_result"
    }
   ],
   "source": [
    "x.real+dx"
   ]
  },
  {
   "cell_type": "code",
   "execution_count": 157,
   "metadata": {},
   "outputs": [
    {
     "name": "stdout",
     "output_type": "stream",
     "text": [
      "Help on built-in function log in module pyaudi.core:\n",
      "\n",
      "log(...)\n",
      "    log( (gdual_double)arg1) -> gdual_double :\n",
      "        Natural logarithm (gdual_d).\n",
      "    \n",
      "        C++ signature :\n",
      "            audi::gdual<double> log(audi::gdual<double>)\n",
      "    \n",
      "    log( (gdual_vdouble)arg1) -> gdual_vdouble :\n",
      "        Natural logarithm (gdual_v).\n",
      "    \n",
      "        C++ signature :\n",
      "            audi::gdual<audi::vectorized<double> > log(audi::gdual<audi::vectorized<double> >)\n",
      "    \n",
      "    log( (float)arg1) -> float :\n",
      "        Natural logarithm (double).\n",
      "    \n",
      "        C++ signature :\n",
      "            double log(double)\n",
      "    \n",
      "    log( (gdual_real128)arg1) -> gdual_real128 :\n",
      "        Natural logarithm (gdual_real128).\n",
      "    \n",
      "        C++ signature :\n",
      "            audi::gdual<mppp::real128> log(audi::gdual<mppp::real128>)\n",
      "    \n",
      "    log( (real128)arg1) -> real128 :\n",
      "        Natural logarithm (mppp::real128).\n",
      "    \n",
      "        C++ signature :\n",
      "            mppp::real128 log(mppp::real128)\n",
      "\n"
     ]
    }
   ],
   "source": [
    "help (pya.log)"
   ]
  },
  {
   "cell_type": "code",
   "execution_count": null,
   "metadata": {},
   "outputs": [],
   "source": []
  },
  {
   "cell_type": "code",
   "execution_count": null,
   "metadata": {},
   "outputs": [],
   "source": []
  },
  {
   "cell_type": "code",
   "execution_count": null,
   "metadata": {},
   "outputs": [],
   "source": []
  },
  {
   "cell_type": "code",
   "execution_count": 23,
   "metadata": {},
   "outputs": [
    {
     "data": {
      "text/plain": [
       "0.0000 + 2.0000 * e([1]) + 1.2500 * e([2])"
      ]
     },
     "execution_count": 23,
     "metadata": {},
     "output_type": "execute_result"
    }
   ],
   "source": [
    "f_eval.get_order_im(1)"
   ]
  },
  {
   "cell_type": "code",
   "execution_count": null,
   "metadata": {},
   "outputs": [],
   "source": [
    "tx = np.linspace( -0.9*x.real,0.9*x.real, 200 )\n",
    "ty = np.linspace( -0.9*y.real,0.9*y.real,  200 )\n",
    "\n",
    "Tx, Ty = np.meshgrid(tx,ty)\n",
    "\n",
    "\n",
    "orders_ti = np.array([50,40,30,20,15,10,8,6,4,3,2,1],dtype=np.uint8)\n",
    "# orders_ti = np.array([5,],dtype=np.uint8)\n",
    "\n",
    "error_ti = np.zeros((orders_ti.size,Tx.shape[0],Tx.shape[1]))\n",
    "\n",
    "kk=0\n",
    "\n",
    "\n",
    "for ordi in orders_ti:\n",
    "    f_eval_int = oti.zero()\n",
    "    for oo in range(0,ordi+1):\n",
    "        \n",
    "        f_eval_int += f_eval.get_order_im(oo)\n",
    "        \n",
    "    # end for \n",
    "\n",
    "    for ii in range(TE.shape[0]):\n",
    "        for jj in range(TE.shape[1]):\n",
    "            dx = Tx[ii,jj]\n",
    "            dy = Ty[ii,jj]\n",
    "            f_new = f_eval_int.taylor_integrate([1,2],[dx,dy]).real\n",
    "\n",
    "            f_a = f_bi(x.taylor_integrate([1,2],[dx,dy]),y.taylor_integrate([1,2],[dx,dy])).real\n",
    "            \n",
    "            error_ti[kk,ii,jj]=abs( (f_new-f_a)/(f_a) )\n",
    "        # end for \n",
    "    # end for \n",
    "    kk+=1\n",
    "    \n",
    "error_ti"
   ]
  }
 ],
 "metadata": {
  "kernelspec": {
   "display_name": "Python 3",
   "language": "python",
   "name": "python3"
  },
  "language_info": {
   "codemirror_mode": {
    "name": "ipython",
    "version": 3
   },
   "file_extension": ".py",
   "mimetype": "text/x-python",
   "name": "python",
   "nbconvert_exporter": "python",
   "pygments_lexer": "ipython3",
   "version": "3.7.4"
  }
 },
 "nbformat": 4,
 "nbformat_minor": 4
}
