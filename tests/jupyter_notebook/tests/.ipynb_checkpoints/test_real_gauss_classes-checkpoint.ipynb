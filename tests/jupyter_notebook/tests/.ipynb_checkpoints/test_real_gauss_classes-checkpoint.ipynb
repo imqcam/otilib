{
 "cells": [
  {
   "cell_type": "code",
   "execution_count": 2,
   "metadata": {},
   "outputs": [],
   "source": [
    "import scipy.sparse as spr\n",
    "import scipy.sparse.linalg as spla\n",
    "import sys\n",
    "path2oti = '../../../build/'\n",
    "sys.path.append(path2oti) # Add path to OTI library.\n",
    "\n",
    "import pyoti.real as r\n",
    "np = r.np"
   ]
  },
  {
   "cell_type": "code",
   "execution_count": 65,
   "metadata": {},
   "outputs": [],
   "source": [
    "dim = 3\n",
    "nip = 9\n",
    "b = r.dnumfe(4.5,nip)"
   ]
  },
  {
   "cell_type": "code",
   "execution_count": 66,
   "metadata": {},
   "outputs": [
    {
     "name": "stdout",
     "output_type": "stream",
     "text": [
      "386 ns ± 3.3 ns per loop (mean ± std. dev. of 7 runs, 1000000 loops each)\n"
     ]
    }
   ],
   "source": [
    "%timeit (b**2)"
   ]
  },
  {
   "cell_type": "code",
   "execution_count": 67,
   "metadata": {},
   "outputs": [],
   "source": [
    "b_np = np.ones((nip,1,1))"
   ]
  },
  {
   "cell_type": "code",
   "execution_count": null,
   "metadata": {},
   "outputs": [],
   "source": [
    "%timeit (b_np**2)"
   ]
  },
  {
   "cell_type": "code",
   "execution_count": null,
   "metadata": {},
   "outputs": [],
   "source": [
    "b[2]=5+10"
   ]
  },
  {
   "cell_type": "code",
   "execution_count": null,
   "metadata": {},
   "outputs": [],
   "source": [
    "b"
   ]
  },
  {
   "cell_type": "code",
   "execution_count": null,
   "metadata": {},
   "outputs": [],
   "source": [
    "B = r.dmatfe((dim,dim),nip)"
   ]
  },
  {
   "cell_type": "code",
   "execution_count": 35,
   "metadata": {},
   "outputs": [],
   "source": [
    "B = B+2"
   ]
  },
  {
   "cell_type": "code",
   "execution_count": 36,
   "metadata": {},
   "outputs": [
    {
     "data": {
      "text/plain": [
       "dmatfe< nip: 9, \n",
       "(Integration point - 0) \n",
       "-------------------------\n",
       "[[2. 2.]\n",
       " [2. 2.]]\n",
       "-------------------------\n",
       "(Integration point - 1) \n",
       "-------------------------\n",
       "[[2. 2.]\n",
       " [2. 2.]]\n",
       "-------------------------\n",
       "(Integration point - 2) \n",
       "-------------------------\n",
       "[[2. 2.]\n",
       " [2. 2.]]\n",
       "-------------------------\n",
       "(Integration point - 3) \n",
       "-------------------------\n",
       "[[2. 2.]\n",
       " [2. 2.]]\n",
       "-------------------------\n",
       "(Integration point - 4) \n",
       "-------------------------\n",
       "[[2. 2.]\n",
       " [2. 2.]]\n",
       "-------------------------\n",
       "(Integration point - 5) \n",
       "-------------------------\n",
       "[[2. 2.]\n",
       " [2. 2.]]\n",
       "-------------------------\n",
       "(Integration point - 6) \n",
       "-------------------------\n",
       "[[2. 2.]\n",
       " [2. 2.]]\n",
       "-------------------------\n",
       "(Integration point - 7) \n",
       "-------------------------\n",
       "[[2. 2.]\n",
       " [2. 2.]]\n",
       "-------------------------\n",
       "(Integration point - 8) \n",
       "-------------------------\n",
       "[[2. 2.]\n",
       " [2. 2.]]\n",
       "-------------------------\n",
       ">"
      ]
     },
     "execution_count": 36,
     "metadata": {},
     "output_type": "execute_result"
    }
   ],
   "source": [
    "B"
   ]
  },
  {
   "cell_type": "code",
   "execution_count": 37,
   "metadata": {},
   "outputs": [
    {
     "data": {
      "text/plain": [
       "dmatfe< nip: 9, \n",
       "(Integration point - 0) \n",
       "-------------------------\n",
       "[[4. 4.]\n",
       " [4. 4.]]\n",
       "-------------------------\n",
       "(Integration point - 1) \n",
       "-------------------------\n",
       "[[4. 4.]\n",
       " [4. 4.]]\n",
       "-------------------------\n",
       "(Integration point - 2) \n",
       "-------------------------\n",
       "[[4. 4.]\n",
       " [4. 4.]]\n",
       "-------------------------\n",
       "(Integration point - 3) \n",
       "-------------------------\n",
       "[[4. 4.]\n",
       " [4. 4.]]\n",
       "-------------------------\n",
       "(Integration point - 4) \n",
       "-------------------------\n",
       "[[4. 4.]\n",
       " [4. 4.]]\n",
       "-------------------------\n",
       "(Integration point - 5) \n",
       "-------------------------\n",
       "[[4. 4.]\n",
       " [4. 4.]]\n",
       "-------------------------\n",
       "(Integration point - 6) \n",
       "-------------------------\n",
       "[[4. 4.]\n",
       " [4. 4.]]\n",
       "-------------------------\n",
       "(Integration point - 7) \n",
       "-------------------------\n",
       "[[4. 4.]\n",
       " [4. 4.]]\n",
       "-------------------------\n",
       "(Integration point - 8) \n",
       "-------------------------\n",
       "[[4. 4.]\n",
       " [4. 4.]]\n",
       "-------------------------\n",
       ">"
      ]
     },
     "execution_count": 37,
     "metadata": {},
     "output_type": "execute_result"
    }
   ],
   "source": [
    "B**2"
   ]
  },
  {
   "cell_type": "code",
   "execution_count": 38,
   "metadata": {},
   "outputs": [
    {
     "name": "stdout",
     "output_type": "stream",
     "text": [
      "1.89 µs ± 16.9 ns per loop (mean ± std. dev. of 7 runs, 1000000 loops each)\n"
     ]
    }
   ],
   "source": [
    "%timeit B+2"
   ]
  },
  {
   "cell_type": "code",
   "execution_count": 39,
   "metadata": {},
   "outputs": [],
   "source": [
    "B_np = np.zeros((nip,2,2))+2"
   ]
  },
  {
   "cell_type": "code",
   "execution_count": 40,
   "metadata": {},
   "outputs": [
    {
     "name": "stdout",
     "output_type": "stream",
     "text": [
      "1.17 µs ± 3.3 ns per loop (mean ± std. dev. of 7 runs, 1000000 loops each)\n"
     ]
    }
   ],
   "source": [
    "%timeit B_np+2"
   ]
  },
  {
   "cell_type": "code",
   "execution_count": 41,
   "metadata": {},
   "outputs": [
    {
     "data": {
      "text/plain": [
       "dnumfe< nip: 9, \n",
       "(0) 4.5\n",
       "(1) 4.5\n",
       "(2) 4.5\n",
       "(3) 4.5\n",
       "(4) 4.5\n",
       "(5) 4.5\n",
       "(6) 4.5\n",
       "(7) 4.5\n",
       "(8) 4.5\n",
       ">"
      ]
     },
     "execution_count": 41,
     "metadata": {},
     "output_type": "execute_result"
    }
   ],
   "source": [
    "b\n"
   ]
  },
  {
   "cell_type": "code",
   "execution_count": 42,
   "metadata": {},
   "outputs": [
    {
     "data": {
      "text/plain": [
       "dmatfe< nip: 9, \n",
       "(Integration point - 0) \n",
       "-------------------------\n",
       "[[2. 2.]\n",
       " [2. 2.]]\n",
       "-------------------------\n",
       "(Integration point - 1) \n",
       "-------------------------\n",
       "[[2. 2.]\n",
       " [2. 2.]]\n",
       "-------------------------\n",
       "(Integration point - 2) \n",
       "-------------------------\n",
       "[[2. 2.]\n",
       " [2. 2.]]\n",
       "-------------------------\n",
       "(Integration point - 3) \n",
       "-------------------------\n",
       "[[2. 2.]\n",
       " [2. 2.]]\n",
       "-------------------------\n",
       "(Integration point - 4) \n",
       "-------------------------\n",
       "[[2. 2.]\n",
       " [2. 2.]]\n",
       "-------------------------\n",
       "(Integration point - 5) \n",
       "-------------------------\n",
       "[[2. 2.]\n",
       " [2. 2.]]\n",
       "-------------------------\n",
       "(Integration point - 6) \n",
       "-------------------------\n",
       "[[2. 2.]\n",
       " [2. 2.]]\n",
       "-------------------------\n",
       "(Integration point - 7) \n",
       "-------------------------\n",
       "[[2. 2.]\n",
       " [2. 2.]]\n",
       "-------------------------\n",
       "(Integration point - 8) \n",
       "-------------------------\n",
       "[[2. 2.]\n",
       " [2. 2.]]\n",
       "-------------------------\n",
       ">"
      ]
     },
     "execution_count": 42,
     "metadata": {},
     "output_type": "execute_result"
    }
   ],
   "source": [
    "B"
   ]
  },
  {
   "cell_type": "code",
   "execution_count": 45,
   "metadata": {},
   "outputs": [
    {
     "name": "stdout",
     "output_type": "stream",
     "text": [
      "1.98 µs ± 44.1 ns per loop (mean ± std. dev. of 7 runs, 100000 loops each)\n"
     ]
    }
   ],
   "source": [
    "%timeit b+B"
   ]
  },
  {
   "cell_type": "code",
   "execution_count": 47,
   "metadata": {},
   "outputs": [
    {
     "ename": "NameError",
     "evalue": "name 'b_np' is not defined",
     "output_type": "error",
     "traceback": [
      "\u001b[0;31m---------------------------------------------------------------------------\u001b[0m",
      "\u001b[0;31mNameError\u001b[0m                                 Traceback (most recent call last)",
      "\u001b[0;32m<ipython-input-47-8525fd8565e4>\u001b[0m in \u001b[0;36m<module>\u001b[0;34m\u001b[0m\n\u001b[0;32m----> 1\u001b[0;31m \u001b[0mb_np\u001b[0m\u001b[0;34m\u001b[0m\u001b[0;34m\u001b[0m\u001b[0m\n\u001b[0m",
      "\u001b[0;31mNameError\u001b[0m: name 'b_np' is not defined"
     ]
    }
   ],
   "source": [
    "b_np"
   ]
  },
  {
   "cell_type": "code",
   "execution_count": 57,
   "metadata": {},
   "outputs": [
    {
     "data": {
      "text/plain": [
       "array([[[3., 3.],\n",
       "        [3., 3.]],\n",
       "\n",
       "       [[3., 3.],\n",
       "        [3., 3.]],\n",
       "\n",
       "       [[3., 3.],\n",
       "        [3., 3.]],\n",
       "\n",
       "       [[3., 3.],\n",
       "        [3., 3.]],\n",
       "\n",
       "       [[3., 3.],\n",
       "        [3., 3.]],\n",
       "\n",
       "       [[3., 3.],\n",
       "        [3., 3.]],\n",
       "\n",
       "       [[3., 3.],\n",
       "        [3., 3.]],\n",
       "\n",
       "       [[3., 3.],\n",
       "        [3., 3.]],\n",
       "\n",
       "       [[3., 3.],\n",
       "        [3., 3.]]])"
      ]
     },
     "execution_count": 57,
     "metadata": {},
     "output_type": "execute_result"
    }
   ],
   "source": [
    "b_np+B_np"
   ]
  },
  {
   "cell_type": "code",
   "execution_count": 58,
   "metadata": {},
   "outputs": [
    {
     "data": {
      "text/plain": [
       "array([[[2., 2.],\n",
       "        [2., 2.]],\n",
       "\n",
       "       [[2., 2.],\n",
       "        [2., 2.]],\n",
       "\n",
       "       [[2., 2.],\n",
       "        [2., 2.]],\n",
       "\n",
       "       [[2., 2.],\n",
       "        [2., 2.]],\n",
       "\n",
       "       [[2., 2.],\n",
       "        [2., 2.]],\n",
       "\n",
       "       [[2., 2.],\n",
       "        [2., 2.]],\n",
       "\n",
       "       [[2., 2.],\n",
       "        [2., 2.]],\n",
       "\n",
       "       [[2., 2.],\n",
       "        [2., 2.]],\n",
       "\n",
       "       [[2., 2.],\n",
       "        [2., 2.]]])"
      ]
     },
     "execution_count": 58,
     "metadata": {},
     "output_type": "execute_result"
    }
   ],
   "source": [
    "B_np"
   ]
  },
  {
   "cell_type": "code",
   "execution_count": 59,
   "metadata": {},
   "outputs": [
    {
     "data": {
      "text/plain": [
       "dmatfe< nip: 9, \n",
       "(Integration point - 0) \n",
       "-------------------------\n",
       "[[2. 2.]\n",
       " [2. 2.]]\n",
       "-------------------------\n",
       "(Integration point - 1) \n",
       "-------------------------\n",
       "[[2. 2.]\n",
       " [2. 2.]]\n",
       "-------------------------\n",
       "(Integration point - 2) \n",
       "-------------------------\n",
       "[[2. 2.]\n",
       " [2. 2.]]\n",
       "-------------------------\n",
       "(Integration point - 3) \n",
       "-------------------------\n",
       "[[2. 2.]\n",
       " [2. 2.]]\n",
       "-------------------------\n",
       "(Integration point - 4) \n",
       "-------------------------\n",
       "[[2. 2.]\n",
       " [2. 2.]]\n",
       "-------------------------\n",
       "(Integration point - 5) \n",
       "-------------------------\n",
       "[[2. 2.]\n",
       " [2. 2.]]\n",
       "-------------------------\n",
       "(Integration point - 6) \n",
       "-------------------------\n",
       "[[2. 2.]\n",
       " [2. 2.]]\n",
       "-------------------------\n",
       "(Integration point - 7) \n",
       "-------------------------\n",
       "[[2. 2.]\n",
       " [2. 2.]]\n",
       "-------------------------\n",
       "(Integration point - 8) \n",
       "-------------------------\n",
       "[[2. 2.]\n",
       " [2. 2.]]\n",
       "-------------------------\n",
       ">"
      ]
     },
     "execution_count": 59,
     "metadata": {},
     "output_type": "execute_result"
    }
   ],
   "source": [
    "B"
   ]
  },
  {
   "cell_type": "code",
   "execution_count": 60,
   "metadata": {},
   "outputs": [],
   "source": [
    "b_np[:,:,:]=4.5"
   ]
  },
  {
   "cell_type": "code",
   "execution_count": 62,
   "metadata": {},
   "outputs": [
    {
     "name": "stdout",
     "output_type": "stream",
     "text": [
      "1.64 µs ± 24.2 ns per loop (mean ± std. dev. of 7 runs, 1000000 loops each)\n"
     ]
    }
   ],
   "source": [
    "%timeit B_np + b_np"
   ]
  },
  {
   "cell_type": "code",
   "execution_count": 63,
   "metadata": {},
   "outputs": [
    {
     "name": "stdout",
     "output_type": "stream",
     "text": [
      "1.63 µs ± 9.66 ns per loop (mean ± std. dev. of 7 runs, 1000000 loops each)\n"
     ]
    }
   ],
   "source": [
    "%timeit B + b"
   ]
  },
  {
   "cell_type": "code",
   "execution_count": 64,
   "metadata": {},
   "outputs": [
    {
     "data": {
      "text/plain": [
       "dmatfe< nip: 9, \n",
       "(Integration point - 0) \n",
       "-------------------------\n",
       "[[6.5 6.5]\n",
       " [6.5 6.5]]\n",
       "-------------------------\n",
       "(Integration point - 1) \n",
       "-------------------------\n",
       "[[6.5 6.5]\n",
       " [6.5 6.5]]\n",
       "-------------------------\n",
       "(Integration point - 2) \n",
       "-------------------------\n",
       "[[17. 17.]\n",
       " [17. 17.]]\n",
       "-------------------------\n",
       "(Integration point - 3) \n",
       "-------------------------\n",
       "[[6.5 6.5]\n",
       " [6.5 6.5]]\n",
       "-------------------------\n",
       "(Integration point - 4) \n",
       "-------------------------\n",
       "[[6.5 6.5]\n",
       " [6.5 6.5]]\n",
       "-------------------------\n",
       "(Integration point - 5) \n",
       "-------------------------\n",
       "[[6.5 6.5]\n",
       " [6.5 6.5]]\n",
       "-------------------------\n",
       "(Integration point - 6) \n",
       "-------------------------\n",
       "[[6.5 6.5]\n",
       " [6.5 6.5]]\n",
       "-------------------------\n",
       "(Integration point - 7) \n",
       "-------------------------\n",
       "[[6.5 6.5]\n",
       " [6.5 6.5]]\n",
       "-------------------------\n",
       "(Integration point - 8) \n",
       "-------------------------\n",
       "[[6.5 6.5]\n",
       " [6.5 6.5]]\n",
       "-------------------------\n",
       ">"
      ]
     },
     "execution_count": 64,
     "metadata": {},
     "output_type": "execute_result"
    }
   ],
   "source": [
    "B + b"
   ]
  },
  {
   "cell_type": "code",
   "execution_count": null,
   "metadata": {},
   "outputs": [],
   "source": []
  }
 ],
 "metadata": {
  "kernelspec": {
   "display_name": "Python 3",
   "language": "python",
   "name": "python3"
  },
  "language_info": {
   "codemirror_mode": {
    "name": "ipython",
    "version": 3
   },
   "file_extension": ".py",
   "mimetype": "text/x-python",
   "name": "python",
   "nbconvert_exporter": "python",
   "pygments_lexer": "ipython3",
   "version": "3.7.3"
  }
 },
 "nbformat": 4,
 "nbformat_minor": 2
}
