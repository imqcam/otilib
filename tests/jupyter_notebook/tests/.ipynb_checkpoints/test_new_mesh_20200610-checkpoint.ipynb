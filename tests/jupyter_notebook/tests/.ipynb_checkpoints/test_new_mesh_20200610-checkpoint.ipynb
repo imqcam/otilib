{
 "cells": [
  {
   "cell_type": "code",
   "execution_count": 14,
   "metadata": {},
   "outputs": [],
   "source": [
    "import scipy.sparse as spr\n",
    "import sys\n",
    "path2oti = '../../../build/'\n",
    "sys.path.append(path2oti) # Add path to OTI library.\n",
    "\n",
    "import pyoti.sparse as oti\n",
    "import pyoti.core   as coti\n",
    "import pyoti.fem    as fem\n",
    "e  = oti.e\n",
    "np = oti.np\n",
    "\n",
    "\n",
    "import pyvista as pv\n",
    "p = pv.BackgroundPlotter()"
   ]
  },
  {
   "cell_type": "code",
   "execution_count": 15,
   "metadata": {},
   "outputs": [
    {
     "ename": "ValueError",
     "evalue": "('gmshModelGeoAddPoint returned non-zero error code: ', 1)",
     "output_type": "error",
     "traceback": [
      "\u001b[0;31m---------------------------------------------------------------------------\u001b[0m",
      "\u001b[0;31mValueError\u001b[0m                                Traceback (most recent call last)",
      "\u001b[0;32m<ipython-input-15-6f952d27b44b>\u001b[0m in \u001b[0;36m<module>\u001b[0;34m\u001b[0m\n\u001b[0;32m----> 1\u001b[0;31m \u001b[0mTh\u001b[0m \u001b[0;34m=\u001b[0m \u001b[0mfem\u001b[0m\u001b[0;34m.\u001b[0m\u001b[0msquare\u001b[0m\u001b[0;34m(\u001b[0m\u001b[0;36m1\u001b[0m\u001b[0;34m,\u001b[0m\u001b[0;36m1\u001b[0m\u001b[0;34m,\u001b[0m\u001b[0mhe\u001b[0m \u001b[0;34m=\u001b[0m \u001b[0;36m1\u001b[0m\u001b[0;34m/\u001b[0m\u001b[0;36m2\u001b[0m\u001b[0;34m,\u001b[0m\u001b[0melement_order\u001b[0m\u001b[0;34m=\u001b[0m\u001b[0;36m2\u001b[0m\u001b[0;34m,\u001b[0m\u001b[0mquads\u001b[0m\u001b[0;34m=\u001b[0m\u001b[0;32mTrue\u001b[0m\u001b[0;34m,\u001b[0m \u001b[0msave\u001b[0m\u001b[0;34m=\u001b[0m\u001b[0;32mTrue\u001b[0m\u001b[0;34m)\u001b[0m\u001b[0;34m\u001b[0m\u001b[0;34m\u001b[0m\u001b[0m\n\u001b[0m\u001b[1;32m      2\u001b[0m \u001b[0;34m\u001b[0m\u001b[0m\n\u001b[1;32m      3\u001b[0m \u001b[0mgrid\u001b[0m \u001b[0;34m=\u001b[0m \u001b[0mTh\u001b[0m\u001b[0;34m.\u001b[0m\u001b[0mto_pv\u001b[0m\u001b[0;34m(\u001b[0m\u001b[0mdims\u001b[0m\u001b[0;34m=\u001b[0m\u001b[0;36m2\u001b[0m\u001b[0;34m)\u001b[0m\u001b[0;34m\u001b[0m\u001b[0;34m\u001b[0m\u001b[0m\n\u001b[1;32m      4\u001b[0m \u001b[0;34m\u001b[0m\u001b[0m\n\u001b[1;32m      5\u001b[0m \u001b[0mp\u001b[0m\u001b[0;34m.\u001b[0m\u001b[0mclear\u001b[0m\u001b[0;34m(\u001b[0m\u001b[0;34m)\u001b[0m\u001b[0;34m\u001b[0m\u001b[0;34m\u001b[0m\u001b[0m\n",
      "\u001b[0;32mutils.pxi\u001b[0m in \u001b[0;36mpyoti.fem.square\u001b[0;34m()\u001b[0m\n",
      "\u001b[0;32m~/opt/anaconda3/envs/pyoti/lib/python3.7/site-packages/gmsh-4.4.1-MacOSX-sdk/lib/gmsh.py\u001b[0m in \u001b[0;36maddPoint\u001b[0;34m(x, y, z, meshSize, tag)\u001b[0m\n\u001b[1;32m   2717\u001b[0m                 raise ValueError(\n\u001b[1;32m   2718\u001b[0m                     \u001b[0;34m\"gmshModelGeoAddPoint returned non-zero error code: \"\u001b[0m\u001b[0;34m,\u001b[0m\u001b[0;34m\u001b[0m\u001b[0;34m\u001b[0m\u001b[0m\n\u001b[0;32m-> 2719\u001b[0;31m                     ierr.value)\n\u001b[0m\u001b[1;32m   2720\u001b[0m             \u001b[0;32mreturn\u001b[0m \u001b[0mapi__result__\u001b[0m\u001b[0;34m\u001b[0m\u001b[0;34m\u001b[0m\u001b[0m\n\u001b[1;32m   2721\u001b[0m \u001b[0;34m\u001b[0m\u001b[0m\n",
      "\u001b[0;31mValueError\u001b[0m: ('gmshModelGeoAddPoint returned non-zero error code: ', 1)"
     ]
    }
   ],
   "source": [
    "Th = fem.square(1,1,he = 1/2, element_order=2, quads=True, save=True)\n",
    "\n",
    "grid = Th.to_pv(dims=2)\n",
    "\n",
    "p.clear()\n",
    "\n",
    "p.add_mesh(grid, show_edges=True, grid = True)"
   ]
  },
  {
   "cell_type": "code",
   "execution_count": 4,
   "metadata": {},
   "outputs": [
    {
     "data": {
      "text/plain": [
       "{'types': array([8], dtype=int32),\n",
       " 'tags': [array([ 5,  6,  7,  8,  9, 10, 11, 12], dtype=uint64)],\n",
       " 'nodes': [array([[ 0,  4,  5],\n",
       "         [ 4,  1,  6],\n",
       "         [ 1,  7,  8],\n",
       "         [ 7,  3,  9],\n",
       "         [ 3, 10, 11],\n",
       "         [10,  2, 12],\n",
       "         [ 2, 13, 14],\n",
       "         [13,  0, 15]], dtype=uint64)],\n",
       " 'groups': [array([201], dtype=int32)]}"
      ]
     },
     "execution_count": 4,
     "metadata": {},
     "output_type": "execute_result"
    }
   ],
   "source": [
    "Th.elements[1]"
   ]
  },
  {
   "cell_type": "code",
   "execution_count": 17,
   "metadata": {},
   "outputs": [
    {
     "data": {
      "text/html": [
       "<div>\n",
       "<style scoped>\n",
       "    .dataframe tbody tr th:only-of-type {\n",
       "        vertical-align: middle;\n",
       "    }\n",
       "\n",
       "    .dataframe tbody tr th {\n",
       "        vertical-align: top;\n",
       "    }\n",
       "\n",
       "    .dataframe thead th {\n",
       "        text-align: right;\n",
       "    }\n",
       "</style>\n",
       "<table border=\"1\" class=\"dataframe\">\n",
       "  <thead>\n",
       "    <tr style=\"text-align: right;\">\n",
       "      <th></th>\n",
       "      <th>Dim</th>\n",
       "      <th>Type</th>\n",
       "      <th>Tag</th>\n",
       "      <th>Nodes</th>\n",
       "    </tr>\n",
       "  </thead>\n",
       "  <tbody>\n",
       "    <tr>\n",
       "      <th>1</th>\n",
       "      <td>0</td>\n",
       "      <td>point</td>\n",
       "      <td>1</td>\n",
       "      <td>[0]</td>\n",
       "    </tr>\n",
       "    <tr>\n",
       "      <th>2</th>\n",
       "      <td>0</td>\n",
       "      <td>point</td>\n",
       "      <td>2</td>\n",
       "      <td>[1]</td>\n",
       "    </tr>\n",
       "    <tr>\n",
       "      <th>3</th>\n",
       "      <td>0</td>\n",
       "      <td>point</td>\n",
       "      <td>3</td>\n",
       "      <td>[2]</td>\n",
       "    </tr>\n",
       "    <tr>\n",
       "      <th>4</th>\n",
       "      <td>0</td>\n",
       "      <td>point</td>\n",
       "      <td>4</td>\n",
       "      <td>[3]</td>\n",
       "    </tr>\n",
       "    <tr>\n",
       "      <th>5</th>\n",
       "      <td>1</td>\n",
       "      <td>line2</td>\n",
       "      <td>5</td>\n",
       "      <td>[0, 4]</td>\n",
       "    </tr>\n",
       "    <tr>\n",
       "      <th>6</th>\n",
       "      <td>1</td>\n",
       "      <td>line2</td>\n",
       "      <td>6</td>\n",
       "      <td>[4, 1]</td>\n",
       "    </tr>\n",
       "    <tr>\n",
       "      <th>7</th>\n",
       "      <td>1</td>\n",
       "      <td>line2</td>\n",
       "      <td>7</td>\n",
       "      <td>[1, 5]</td>\n",
       "    </tr>\n",
       "    <tr>\n",
       "      <th>8</th>\n",
       "      <td>1</td>\n",
       "      <td>line2</td>\n",
       "      <td>8</td>\n",
       "      <td>[5, 3]</td>\n",
       "    </tr>\n",
       "    <tr>\n",
       "      <th>9</th>\n",
       "      <td>1</td>\n",
       "      <td>line2</td>\n",
       "      <td>9</td>\n",
       "      <td>[3, 6]</td>\n",
       "    </tr>\n",
       "    <tr>\n",
       "      <th>10</th>\n",
       "      <td>1</td>\n",
       "      <td>line2</td>\n",
       "      <td>10</td>\n",
       "      <td>[6, 2]</td>\n",
       "    </tr>\n",
       "    <tr>\n",
       "      <th>11</th>\n",
       "      <td>1</td>\n",
       "      <td>line2</td>\n",
       "      <td>11</td>\n",
       "      <td>[2, 7]</td>\n",
       "    </tr>\n",
       "    <tr>\n",
       "      <th>12</th>\n",
       "      <td>1</td>\n",
       "      <td>line2</td>\n",
       "      <td>12</td>\n",
       "      <td>[7, 0]</td>\n",
       "    </tr>\n",
       "    <tr>\n",
       "      <th>13</th>\n",
       "      <td>2</td>\n",
       "      <td>quad4</td>\n",
       "      <td>13</td>\n",
       "      <td>[1, 10, 9, 4]</td>\n",
       "    </tr>\n",
       "    <tr>\n",
       "      <th>14</th>\n",
       "      <td>2</td>\n",
       "      <td>quad4</td>\n",
       "      <td>14</td>\n",
       "      <td>[7, 9, 10, 8]</td>\n",
       "    </tr>\n",
       "    <tr>\n",
       "      <th>15</th>\n",
       "      <td>2</td>\n",
       "      <td>quad4</td>\n",
       "      <td>15</td>\n",
       "      <td>[8, 10, 1, 5]</td>\n",
       "    </tr>\n",
       "    <tr>\n",
       "      <th>16</th>\n",
       "      <td>2</td>\n",
       "      <td>quad4</td>\n",
       "      <td>16</td>\n",
       "      <td>[7, 0, 4, 9]</td>\n",
       "    </tr>\n",
       "    <tr>\n",
       "      <th>17</th>\n",
       "      <td>2</td>\n",
       "      <td>quad4</td>\n",
       "      <td>17</td>\n",
       "      <td>[8, 6, 2, 7]</td>\n",
       "    </tr>\n",
       "    <tr>\n",
       "      <th>18</th>\n",
       "      <td>2</td>\n",
       "      <td>quad4</td>\n",
       "      <td>18</td>\n",
       "      <td>[8, 5, 3, 6]</td>\n",
       "    </tr>\n",
       "  </tbody>\n",
       "</table>\n",
       "</div>"
      ],
      "text/plain": [
       "   Dim   Type Tag          Nodes\n",
       "1    0  point   1            [0]\n",
       "2    0  point   2            [1]\n",
       "3    0  point   3            [2]\n",
       "4    0  point   4            [3]\n",
       "5    1  line2   5         [0, 4]\n",
       "6    1  line2   6         [4, 1]\n",
       "7    1  line2   7         [1, 5]\n",
       "8    1  line2   8         [5, 3]\n",
       "9    1  line2   9         [3, 6]\n",
       "10   1  line2  10         [6, 2]\n",
       "11   1  line2  11         [2, 7]\n",
       "12   1  line2  12         [7, 0]\n",
       "13   2  quad4  13  [1, 10, 9, 4]\n",
       "14   2  quad4  14  [7, 9, 10, 8]\n",
       "15   2  quad4  15  [8, 10, 1, 5]\n",
       "16   2  quad4  16   [7, 0, 4, 9]\n",
       "17   2  quad4  17   [8, 6, 2, 7]\n",
       "18   2  quad4  18   [8, 5, 3, 6]"
      ]
     },
     "execution_count": 17,
     "metadata": {},
     "output_type": "execute_result"
    }
   ],
   "source": [
    "Th.get_all_elements_pd()\n"
   ]
  },
  {
   "cell_type": "code",
   "execution_count": 7,
   "metadata": {},
   "outputs": [
    {
     "data": {
      "text/plain": [
       "array([[0, 'point', 1, array([0], dtype=uint64)],\n",
       "       [0, 'point', 2, array([1], dtype=uint64)],\n",
       "       [0, 'point', 3, array([2], dtype=uint64)],\n",
       "       [0, 'point', 4, array([3], dtype=uint64)],\n",
       "       [1, 'line3', 5, array([0, 4, 5], dtype=uint64)],\n",
       "       [1, 'line3', 6, array([4, 1, 6], dtype=uint64)],\n",
       "       [1, 'line3', 7, array([1, 7, 8], dtype=uint64)],\n",
       "       [1, 'line3', 8, array([7, 3, 9], dtype=uint64)],\n",
       "       [1, 'line3', 9, array([ 3, 10, 11], dtype=uint64)],\n",
       "       [1, 'line3', 10, array([10,  2, 12], dtype=uint64)],\n",
       "       [1, 'line3', 11, array([ 2, 13, 14], dtype=uint64)],\n",
       "       [1, 'line3', 12, array([13,  0, 15], dtype=uint64)],\n",
       "       [2, 'quad8', 13,\n",
       "        array([ 1, 18, 17,  4, 19, 20, 21,  6], dtype=uint64)],\n",
       "       [2, 'quad8', 14,\n",
       "        array([13, 17, 18, 16, 22, 20, 23, 24], dtype=uint64)],\n",
       "       [2, 'quad8', 15,\n",
       "        array([16, 18,  1,  7, 23, 19,  8, 25], dtype=uint64)],\n",
       "       [2, 'quad8', 16,\n",
       "        array([13,  0,  4, 17, 15,  5, 21, 22], dtype=uint64)],\n",
       "       [2, 'quad8', 17,\n",
       "        array([16, 10,  2, 13, 26, 12, 14, 24], dtype=uint64)],\n",
       "       [2, 'quad8', 18,\n",
       "        array([16,  7,  3, 10, 25,  9, 11, 26], dtype=uint64)]],\n",
       "      dtype=object)"
      ]
     },
     "execution_count": 7,
     "metadata": {},
     "output_type": "execute_result"
    }
   ],
   "source": [
    "Th.get_all_elements()"
   ]
  },
  {
   "cell_type": "code",
   "execution_count": 9,
   "metadata": {},
   "outputs": [],
   "source": [
    "elems = Th.elements\n"
   ]
  },
  {
   "cell_type": "code",
   "execution_count": 18,
   "metadata": {},
   "outputs": [
    {
     "data": {
      "text/plain": [
       "array([[ 1, 18, 17,  4, 19, 20, 21,  6],\n",
       "       [13, 17, 18, 16, 22, 20, 23, 24],\n",
       "       [16, 18,  1,  7, 23, 19,  8, 25],\n",
       "       [13,  0,  4, 17, 15,  5, 21, 22],\n",
       "       [16, 10,  2, 13, 26, 12, 14, 24],\n",
       "       [16,  7,  3, 10, 25,  9, 11, 26]], dtype=uint64)"
      ]
     },
     "execution_count": 18,
     "metadata": {},
     "output_type": "execute_result"
    }
   ],
   "source": [
    "elems[2]['nodes'][0]"
   ]
  },
  {
   "cell_type": "code",
   "execution_count": 2,
   "metadata": {},
   "outputs": [],
   "source": [
    "import gmsh"
   ]
  },
  {
   "cell_type": "code",
   "execution_count": 3,
   "metadata": {},
   "outputs": [],
   "source": [
    "gmsh.initialize()\n",
    "gmsh.open('./square.msh')"
   ]
  },
  {
   "cell_type": "code",
   "execution_count": 5,
   "metadata": {},
   "outputs": [],
   "source": [
    "gmsh.model.mesh.generate()"
   ]
  },
  {
   "cell_type": "code",
   "execution_count": 6,
   "metadata": {},
   "outputs": [
    {
     "data": {
      "text/plain": [
       "['square']"
      ]
     },
     "execution_count": 6,
     "metadata": {},
     "output_type": "execute_result"
    }
   ],
   "source": [
    "gmsh.mesh."
   ]
  },
  {
   "cell_type": "code",
   "execution_count": 12,
   "metadata": {},
   "outputs": [],
   "source": [
    "A = {}\n",
    "A[(2,150)] = {\"hey\":\"Hello\"}\n"
   ]
  },
  {
   "cell_type": "code",
   "execution_count": 13,
   "metadata": {},
   "outputs": [
    {
     "data": {
      "text/plain": [
       "{'hey': 'Hello'}"
      ]
     },
     "execution_count": 13,
     "metadata": {},
     "output_type": "execute_result"
    }
   ],
   "source": [
    "A[(2,150)]"
   ]
  },
  {
   "cell_type": "code",
   "execution_count": null,
   "metadata": {},
   "outputs": [],
   "source": []
  }
 ],
 "metadata": {
  "kernelspec": {
   "display_name": "Python 3",
   "language": "python",
   "name": "python3"
  },
  "language_info": {
   "codemirror_mode": {
    "name": "ipython",
    "version": 3
   },
   "file_extension": ".py",
   "mimetype": "text/x-python",
   "name": "python",
   "nbconvert_exporter": "python",
   "pygments_lexer": "ipython3",
   "version": "3.7.3"
  }
 },
 "nbformat": 4,
 "nbformat_minor": 2
}
