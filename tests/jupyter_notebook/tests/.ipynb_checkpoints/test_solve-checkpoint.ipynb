{
 "cells": [
  {
   "cell_type": "code",
   "execution_count": 3,
   "metadata": {
    "collapsed": true,
    "deletable": true,
    "editable": true
   },
   "outputs": [],
   "source": [
    "import spr_otilib as dn\n",
    "e= dn.e\n",
    "np = dn.np\n",
    "\n",
    "\n"
   ]
  },
  {
   "cell_type": "code",
   "execution_count": 9,
   "metadata": {
    "collapsed": false,
    "deletable": true,
    "editable": true
   },
   "outputs": [
    {
     "data": {
      "text/plain": [
       "6.0"
      ]
     },
     "execution_count": 9,
     "metadata": {},
     "output_type": "execute_result"
    }
   ],
   "source": [
    "dn.comb(3+2-1,2)"
   ]
  },
  {
   "cell_type": "code",
   "execution_count": 7,
   "metadata": {
    "collapsed": false,
    "deletable": true,
    "editable": true
   },
   "outputs": [
    {
     "name": "stdout",
     "output_type": "stream",
     "text": [
      "[0, 0, 0, 0, 0, 0]\n",
      "[1, 0, 0, 0, 0, 0]\n",
      "[2, 0, 0, 0, 0, 0]\n",
      "[3, 0, 0, 0, 0, 0]\n",
      "[0, 1, 0, 0, 0, 0]\n",
      "[1, 1, 0, 0, 0, 0]\n",
      "[2, 1, 0, 0, 0, 0]\n",
      "[3, 1, 0, 0, 0, 0]\n",
      "[0, 2, 0, 0, 0, 0]\n",
      "[1, 2, 0, 0, 0, 0]\n",
      "[2, 2, 0, 0, 0, 0]\n",
      "[3, 2, 0, 0, 0, 0]\n",
      "[0, 0, 1, 0, 0, 0]\n",
      "[1, 0, 1, 0, 0, 0]\n",
      "[2, 0, 1, 0, 0, 0]\n",
      "[3, 0, 1, 0, 0, 0]\n",
      "[0, 1, 1, 0, 0, 0]\n",
      "[1, 1, 1, 0, 0, 0]\n",
      "[2, 1, 1, 0, 0, 0]\n",
      "[3, 1, 1, 0, 0, 0]\n",
      "[0, 2, 1, 0, 0, 0]\n",
      "[1, 2, 1, 0, 0, 0]\n",
      "[2, 2, 1, 0, 0, 0]\n",
      "[3, 2, 1, 0, 0, 0]\n"
     ]
    }
   ],
   "source": [
    "expArray = [3,2,1,0,0,0]\n",
    "\n",
    "maxiter = 1\n",
    "\n",
    "for exp in expArray:\n",
    "              \n",
    "    maxiter *= exp+1 \n",
    "\n",
    "# end for\n",
    "\n",
    "\n",
    "# Starting point\n",
    "multiple = [0]*len(expArray)\n",
    "\n",
    "print(multiple)\n",
    "\n",
    "for i in range(maxiter-1):\n",
    "    \n",
    "    passed = 0\n",
    "    k = 0\n",
    "    \n",
    "    while passed == 0:\n",
    "\n",
    "        if (multiple[k]+1)>expArray[k]:\n",
    "            \n",
    "            multiple[k] = 0\n",
    "            k += 1\n",
    "            \n",
    "        else:\n",
    "            \n",
    "            multiple[k] += 1\n",
    "            \n",
    "            passed = 1\n",
    "            \n",
    "        # end if\n",
    "    \n",
    "    # end while\n",
    "    \n",
    "    print(multiple)\n",
    "    \n",
    "#end for \n",
    "\n",
    "\n",
    "\n",
    "def organizeMultiple(dirArray,expArray,newDir,newExp):\n",
    "    newDir = np.zeros()\n",
    "    for i in range\n",
    "    \n",
    "    "
   ]
  },
  {
   "cell_type": "code",
   "execution_count": 8,
   "metadata": {
    "collapsed": false,
    "deletable": true,
    "editable": true
   },
   "outputs": [
    {
     "name": "stdout",
     "output_type": "stream",
     "text": [
      "[[0]\n",
      " [1]]\n"
     ]
    }
   ],
   "source": [
    "expA = np.array([1],dtype = np.uint8)\n",
    "print(np.array(dn.compMultiples(expA)))"
   ]
  },
  {
   "cell_type": "code",
   "execution_count": null,
   "metadata": {
    "collapsed": true,
    "deletable": true,
    "editable": true
   },
   "outputs": [],
   "source": [
    "dn.spr.scipy.linalg.solve"
   ]
  },
  {
   "cell_type": "code",
   "execution_count": 4,
   "metadata": {
    "collapsed": false,
    "deletable": true,
    "editable": true
   },
   "outputs": [],
   "source": [
    "for i in range(0):\n",
    "    print(i)"
   ]
  }
 ],
 "metadata": {
  "kernelspec": {
   "display_name": "Python 3",
   "language": "python",
   "name": "python3"
  },
  "language_info": {
   "codemirror_mode": {
    "name": "ipython",
    "version": 3
   },
   "file_extension": ".py",
   "mimetype": "text/x-python",
   "name": "python",
   "nbconvert_exporter": "python",
   "pygments_lexer": "ipython3",
   "version": "3.6.0"
  }
 },
 "nbformat": 4,
 "nbformat_minor": 2
}
