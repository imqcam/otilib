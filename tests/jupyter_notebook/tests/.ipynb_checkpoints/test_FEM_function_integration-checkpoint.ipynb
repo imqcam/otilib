{
 "cells": [
  {
   "cell_type": "code",
   "execution_count": 1,
   "metadata": {},
   "outputs": [],
   "source": [
    "import scipy.sparse as spr\n",
    "import sys\n",
    "path2oti = '../../../build/'\n",
    "sys.path.append(path2oti) # Add path to OTI library.\n",
    "\n",
    "import pyoti.sparse as oti \n",
    "import pyoti.core   as coti\n",
    "import pyoti.fem    as fem \n",
    "\n",
    "%matplotlib notebook\n",
    "import matplotlib.pyplot as plt\n",
    "from mpl_toolkits.mplot3d import Axes3D\n",
    "\n",
    "e  = oti.e\n",
    "np = oti.np\n",
    "\n",
    "import pyvista as pv\n",
    "p = pv.BackgroundPlotter()"
   ]
  },
  {
   "cell_type": "code",
   "execution_count": 2,
   "metadata": {},
   "outputs": [
    {
     "name": "stderr",
     "output_type": "stream",
     "text": [
      "/Users/maristi7/opt/anaconda3/envs/pyoti/lib/python3.7/site-packages/numpy/ctypeslib.py:523: RuntimeWarning: A builtin ctypes object gave a PEP3118 format string that does not match its itemsize, so a best-guess will be made of the data type. Newer versions of python may behave correctly.\n",
      "  return array(obj, copy=False)\n"
     ]
    }
   ],
   "source": [
    "Th = fem.square( 2, 1, he = 1/100, element_order=2, structured = True, quads=False, save=False)"
   ]
  },
  {
   "cell_type": "code",
   "execution_count": 49,
   "metadata": {},
   "outputs": [
    {
     "data": {
      "text/plain": [
       "< mesh object with 861 nodes, 464 elements of types ( point1, line3, tri6 ) >"
      ]
     },
     "execution_count": 49,
     "metadata": {},
     "output_type": "execute_result"
    }
   ],
   "source": [
    "Th # -< Order 2"
   ]
  },
  {
   "cell_type": "code",
   "execution_count": 12,
   "metadata": {},
   "outputs": [
    {
     "data": {
      "text/plain": [
       "< mesh object with 20301 nodes, 40604 elements of types ( point1, line2, tri3 ) >"
      ]
     },
     "execution_count": 12,
     "metadata": {},
     "output_type": "execute_result"
    }
   ],
   "source": [
    "Th #-< Order 1"
   ]
  },
  {
   "cell_type": "code",
   "execution_count": 12,
   "metadata": {},
   "outputs": [
    {
     "data": {
      "text/plain": [
       "dict_keys(['topleft', 'bottomleft', 'topright', 'bottomright', 'left', 'bottom', 'right', 'top', 'domain'])"
      ]
     },
     "execution_count": 12,
     "metadata": {},
     "output_type": "execute_result"
    }
   ],
   "source": [
    "Th.group_names.keys()"
   ]
  },
  {
   "cell_type": "code",
   "execution_count": 13,
   "metadata": {},
   "outputs": [
    {
     "data": {
      "text/plain": [
       "[{'types': array([15], dtype=int32),\n",
       "  'tags': [array([1], dtype=uint64)],\n",
       "  'nodes': array([1], dtype=uint64),\n",
       "  'indices': [array([[0]], dtype=uint64)]}]"
      ]
     },
     "execution_count": 13,
     "metadata": {},
     "output_type": "execute_result"
    }
   ],
   "source": [
    "Th.group_names['topleft']['members']"
   ]
  },
  {
   "cell_type": "code",
   "execution_count": 14,
   "metadata": {},
   "outputs": [
    {
     "data": {
      "text/plain": [
       "array([0.5])"
      ]
     },
     "execution_count": 14,
     "metadata": {},
     "output_type": "execute_result"
    }
   ],
   "source": [
    "max(Th.y.real)"
   ]
  },
  {
   "cell_type": "code",
   "execution_count": 15,
   "metadata": {},
   "outputs": [
    {
     "data": {
      "text/plain": [
       "< elbaseso object: \n",
       " - Object status: ---------------- Started\n",
       " - Geometric type: --------------- elTriangle   \n",
       " - Kind of evaluation: ----------- elkindIso    \n",
       " - Number of derivatives: -------- 10\n",
       " - Number of dimensions: --------- 2\n",
       " - Number of basis: -------------- 6\n",
       " - Integration Order: ------------ 1\n",
       " - Array allocation: -------------- Not allocated\n",
       "end elbaseso object >"
      ]
     },
     "execution_count": 15,
     "metadata": {},
     "output_type": "execute_result"
    }
   ],
   "source": [
    "fem.element[9]"
   ]
  },
  {
   "cell_type": "code",
   "execution_count": 16,
   "metadata": {},
   "outputs": [
    {
     "data": {
      "text/plain": [
       "array([2], dtype=int32)"
      ]
     },
     "execution_count": 16,
     "metadata": {},
     "output_type": "execute_result"
    }
   ],
   "source": [
    "Th.elements[2]['types']"
   ]
  },
  {
   "cell_type": "code",
   "execution_count": 17,
   "metadata": {},
   "outputs": [
    {
     "data": {
      "text/plain": [
       "[array([[  0,   4,  59],\n",
       "        [ 59,   4,  60],\n",
       "        [ 59,  60,  58],\n",
       "        ...,\n",
       "        [230,  30,  31],\n",
       "        [230,  31,  32],\n",
       "        [ 32,  31,   3]], dtype=uint64)]"
      ]
     },
     "execution_count": 17,
     "metadata": {},
     "output_type": "execute_result"
    }
   ],
   "source": [
    "Th.elements[2]['indices']"
   ]
  },
  {
   "cell_type": "code",
   "execution_count": 3,
   "metadata": {},
   "outputs": [],
   "source": [
    "f = oti.sin(Th.x*Th.y)**2"
   ]
  },
  {
   "cell_type": "code",
   "execution_count": 5,
   "metadata": {},
   "outputs": [],
   "source": [
    "def test_funct(Thl,order=1,quads = False, nels = 10):\n",
    "#     Thl = fem.square( 2, 1, he = 1/nels, element_order=order, structured = True, quads=quads, save=False)\n",
    "    fl = oti.sin(Thl.x*Thl.y)**2\n",
    "    return int2d(Thl, fl, intorder = order)\n",
    "# f^ = sum f[j]* N[j]"
   ]
  },
  {
   "cell_type": "code",
   "execution_count": 7,
   "metadata": {},
   "outputs": [],
   "source": [
    "def int2d(Th, f, intorder = 1, ndim_an  = 2):\n",
    "    \n",
    "    els = Th.elements[2]\n",
    "\n",
    "    integral = oti.zero()\n",
    "    \n",
    "    fem.end_elements()\n",
    "    \n",
    "    #integrate 2D a fem array.\n",
    "    for j in range(els['types'].size):\n",
    "\n",
    "        element = fem.element[ els['types'][j] ]\n",
    "\n",
    "        if not element.is_allocated():\n",
    "            element.end()\n",
    "            element.allocate(intorder)\n",
    "            element.allocate_spatial(ndim_an,compute_Jinv = False)\n",
    "\n",
    "            # Here the temporals shhould be created.\n",
    "            fh = oti.zeros( ( element.nbasis, 1 ) )\n",
    "            tmp1 = oti.zero(nip=element.nip)\n",
    "            tmp2 = oti.zero()\n",
    "        # end if\n",
    "\n",
    "        elm_nodes = els['indices'][j]\n",
    "\n",
    "        for i in range(elm_nodes.shape[0]):\n",
    "\n",
    "            #  print('Element indices:',type(els['nodes'][j][i][0]))\n",
    "            element.set_coordinates(Th.x,Th.y,Th.z,elm_nodes[i,:])\n",
    "            element.compute_jacobian()\n",
    "\n",
    "#             for ii in range(element.nbasis):\n",
    "#                 fh[ii,0] = f[ int(elm_nodes[i,ii]),0]\n",
    "#             #end for \n",
    "            \n",
    "            oti.dot_product(fh,element.N,out=tmp1)\n",
    "            oti.gauss_integrate(tmp1,element.w_dJ, out=tmp2)\n",
    "            oti.sum(tmp2,integral, out=integral)\n",
    "            \n",
    "#             integral = integral + oti.gauss_integrate(oti.dot_product(fh,element.N),element.w_dJ)\n",
    "            \n",
    "            \n",
    "#             integral = integral + oti.dot_product( fh, oti.gauss_integrate( element.N, element.w_dJ) )\n",
    "\n",
    "        # end for \n",
    "    # end for.\n",
    "    \n",
    "    fem.end_elements()\n",
    "    \n",
    "    return integral\n"
   ]
  },
  {
   "cell_type": "code",
   "execution_count": 8,
   "metadata": {},
   "outputs": [
    {
     "name": "stdout",
     "output_type": "stream",
     "text": [
      "650 ms ± 6.31 ms per loop (mean ± std. dev. of 7 runs, 1 loop each)\n"
     ]
    }
   ],
   "source": [
    "# TRI3-> 500 ms ± 7.48 ms per loop (mean ± std. dev. of 7 runs, 1 loop each)\n",
    "# %timeit int2d(Th, f, intorder=2)\n",
    "%timeit int2d(Th, f, intorder=2)"
   ]
  },
  {
   "cell_type": "code",
   "execution_count": 5,
   "metadata": {},
   "outputs": [
    {
     "data": {
      "text/plain": [
       "0.053916929526403916"
      ]
     },
     "execution_count": 5,
     "metadata": {},
     "output_type": "execute_result"
    }
   ],
   "source": [
    "fem.op_int2d(Th, f,intorder=2).real"
   ]
  },
  {
   "cell_type": "code",
   "execution_count": 6,
   "metadata": {},
   "outputs": [
    {
     "name": "stdout",
     "output_type": "stream",
     "text": [
      "782 ms ± 8.75 ms per loop (mean ± std. dev. of 7 runs, 1 loop each)\n"
     ]
    }
   ],
   "source": [
    "%timeit fem.op_int2d(Th, f, intorder = 2 )"
   ]
  },
  {
   "cell_type": "code",
   "execution_count": 44,
   "metadata": {},
   "outputs": [
    {
     "name": "stdout",
     "output_type": "stream",
     "text": [
      "1.06 s ± 35.1 ms per loop (mean ± std. dev. of 7 runs, 1 loop each)\n"
     ]
    }
   ],
   "source": [
    "order=2\n",
    "quads = False\n",
    "nels = 100\n",
    "Thl = fem.square( 2, 1, he = 1/nels, element_order=order, structured = True, quads=quads, save=False)\n",
    "%timeit test_funct(Thl,order=order, quads = quads, nels = 300)"
   ]
  },
  {
   "cell_type": "code",
   "execution_count": 6,
   "metadata": {},
   "outputs": [
    {
     "data": {
      "text/plain": [
       "0.05349579666750341"
      ]
     },
     "execution_count": 6,
     "metadata": {},
     "output_type": "execute_result"
    }
   ],
   "source": [
    "els = Th.elements[2]\n",
    "\n",
    "intorder = 1\n",
    "ndim_an  = 2\n",
    "\n",
    "# element = fem.tri3\n",
    "# element.end()\n",
    "# element.allocate(intorder)\n",
    "# element.allocate_spatial(ndim_an,compute_Jinv = True)\n",
    "\n",
    "integral = 0\n",
    "\n",
    "\n",
    "#integrate 2D a fem array.\n",
    "for j in range(els['types'].size):\n",
    "\n",
    "    element = fem.element[ els['types'][j] ]\n",
    "    \n",
    "    if not element.is_allocated():\n",
    "        element.end()\n",
    "        element.allocate(intorder)\n",
    "        element.allocate_spatial(ndim_an,compute_Jinv = True)\n",
    "\n",
    "        # Here the temporals shhould be created.\n",
    "        fh = oti.zeros( ( element.nbasis,1) )\n",
    "    # end if \n",
    "    \n",
    "    elm_nodes = els['indices'][j]\n",
    "    \n",
    "    for i in range(elm_nodes.shape[0]):\n",
    "        \n",
    "        #  print('Element indices:',type(els['nodes'][j][i][0]))\n",
    "        element.set_coordinates(Th.x,Th.y,Th.z,elm_nodes[i,:])\n",
    "        element.compute_jacobian()\n",
    "        \n",
    "        for ii in range(element.nbasis):\n",
    "            fh[ii,0] = f[ int(elm_nodes[i,ii]),0]\n",
    "        #end for \n",
    "        \n",
    "        # integral = integral + oti.gauss_integrate(oti.dot_product(fh,element.N),element.w_dJ)\n",
    "        integral = integral + oti.dot_product( fh, oti.gauss_integrate( element.N, element.w_dJ) )\n",
    "        \n",
    "    # end for \n",
    "    \n",
    "# end for.\n",
    "fem.end_elements()\n",
    "integral.real"
   ]
  },
  {
   "cell_type": "code",
   "execution_count": 20,
   "metadata": {},
   "outputs": [
    {
     "data": {
      "text/plain": [
       "array([3], dtype=int32)"
      ]
     },
     "execution_count": 20,
     "metadata": {},
     "output_type": "execute_result"
    }
   ],
   "source": [
    "els['types']"
   ]
  },
  {
   "cell_type": "code",
   "execution_count": 16,
   "metadata": {},
   "outputs": [
    {
     "data": {
      "text/plain": [
       "False"
      ]
     },
     "execution_count": 16,
     "metadata": {},
     "output_type": "execute_result"
    }
   ],
   "source": [
    "not element.is_initialized()"
   ]
  },
  {
   "cell_type": "code",
   "execution_count": 60,
   "metadata": {},
   "outputs": [
    {
     "data": {
      "text/plain": [
       "array([0.22984885])"
      ]
     },
     "execution_count": 60,
     "metadata": {},
     "output_type": "execute_result"
    }
   ],
   "source": [
    "max(f.real)"
   ]
  },
  {
   "cell_type": "code",
   "execution_count": 10,
   "metadata": {},
   "outputs": [
    {
     "data": {
      "text/plain": [
       "(vtkRenderingOpenGL2Python.vtkOpenGLActor)0x7fe8c8ed82e8"
      ]
     },
     "execution_count": 10,
     "metadata": {},
     "output_type": "execute_result"
    }
   ],
   "source": [
    "grid = Th.to_pv(dims=2,pd=[f.real],pd_names=[\"function\"])\n",
    "\n",
    "p.clear()\n",
    "\n",
    "# p.add_mesh(grid, show_edges=False, line_width=2,grid = True,categories=16,cmap='jet')\n",
    "p.add_mesh(grid, show_edges=True, line_width=2,grid = True,categories=16,cmap='jet')"
   ]
  },
  {
   "cell_type": "code",
   "execution_count": 51,
   "metadata": {},
   "outputs": [
    {
     "data": {
      "text/plain": [
       "{'types': array([3], dtype=int32),\n",
       " 'tags': [array([ 305,  306,  307, ..., 5302, 5303, 5304], dtype=uint64)],\n",
       " 'nodes': [array([[   0,    4,  300,  299],\n",
       "         [ 299,  300,  301,  298],\n",
       "         [ 298,  301,  302,  297],\n",
       "         ...,\n",
       "         [5148,  149,  150, 5149],\n",
       "         [5149,  150,  151, 5150],\n",
       "         [5150,  151,    3,  152]], dtype=uint64)]}"
      ]
     },
     "execution_count": 51,
     "metadata": {},
     "output_type": "execute_result"
    }
   ],
   "source": [
    "Th.elements[2]"
   ]
  },
  {
   "cell_type": "code",
   "execution_count": null,
   "metadata": {},
   "outputs": [],
   "source": []
  }
 ],
 "metadata": {
  "kernelspec": {
   "display_name": "Python 3",
   "language": "python",
   "name": "python3"
  },
  "language_info": {
   "codemirror_mode": {
    "name": "ipython",
    "version": 3
   },
   "file_extension": ".py",
   "mimetype": "text/x-python",
   "name": "python",
   "nbconvert_exporter": "python",
   "pygments_lexer": "ipython3",
   "version": "3.7.3"
  }
 },
 "nbformat": 4,
 "nbformat_minor": 2
}
