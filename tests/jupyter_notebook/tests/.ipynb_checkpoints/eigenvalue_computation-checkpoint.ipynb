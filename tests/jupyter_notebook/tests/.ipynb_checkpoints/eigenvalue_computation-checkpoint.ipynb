{
 "cells": [
  {
   "cell_type": "code",
   "execution_count": 3,
   "metadata": {},
   "outputs": [],
   "source": [
    "import sys\n",
    "path2oti = '../../../build/'\n",
    "sys.path.append(path2oti) # Add path to OTI library.\n",
    "\n",
    "import pyoti.real   as r\n",
    "import pyoti.sparse as oti\n",
    "import pyoti.core   as coti\n",
    "\n",
    "np = oti.np\n",
    "\n",
    "e = oti.e\n",
    "\n",
    "import scipy as scp\n",
    "import sympy as sym\n",
    "\n",
    "xs, ys , zs = sym.symbols('x y z')"
   ]
  },
  {
   "cell_type": "code",
   "execution_count": null,
   "metadata": {},
   "outputs": [],
   "source": [
    "ka = 1*np.pi\n",
    "m=1\n",
    "\n",
    "ka_m = np.array([[ka,0,0,0],\n",
    "                 [0,ka,0,0],\n",
    "                 [0,0,ka,0],\n",
    "                 [0,0,0,ka] ])\n",
    "\n",
    "m_m =  np.array([[m,0,0,0],\n",
    "                 [0,m,0,0],\n",
    "                 [0,0,m,0],\n",
    "                 [0,0,0,m] ])\n",
    "\n",
    "i2_m = np.array([[0,0,-1,0],\n",
    "                 [0,0,0,-1],\n",
    "                 [ 1,0,0,0],\n",
    "                 [0, 1,0,0] ])\n",
    "\n",
    "scp.linalg.eig\n"
   ]
  }
 ],
 "metadata": {
  "kernelspec": {
   "display_name": "Python 3",
   "language": "python",
   "name": "python3"
  },
  "language_info": {
   "codemirror_mode": {
    "name": "ipython",
    "version": 3
   },
   "file_extension": ".py",
   "mimetype": "text/x-python",
   "name": "python",
   "nbconvert_exporter": "python",
   "pygments_lexer": "ipython3",
   "version": "3.7.8"
  }
 },
 "nbformat": 4,
 "nbformat_minor": 4
}
