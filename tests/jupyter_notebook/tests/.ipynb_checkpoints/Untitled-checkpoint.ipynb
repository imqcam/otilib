{
 "cells": [
  {
   "cell_type": "code",
   "execution_count": 1,
   "metadata": {},
   "outputs": [],
   "source": [
    "# 1. SET GLOBAL PATH \n",
    "import sys\n",
    "path2oti = '../../../build/'\n",
    "sys.path.append(path2oti) # Add path to OTI library.\n",
    "\n",
    "from pyoti.dense import e, add, add_to, sub, sub_to"
   ]
  },
  {
   "cell_type": "code",
   "execution_count": 7,
   "metadata": {},
   "outputs": [],
   "source": [
    "nbases = 5\n",
    "order = 2\n",
    "\n",
    "x1 = 0.5 + 0*e(0)\n",
    "x2 = 2.8 + 10*e(1,nbases=nbases,order=order)\n",
    "x3 = 2.8 + 10*e(1,nbases=nbases,order=order)"
   ]
  },
  {
   "cell_type": "code",
   "execution_count": 8,
   "metadata": {},
   "outputs": [
    {
     "data": {
      "text/plain": [
       "0.5"
      ]
     },
     "execution_count": 8,
     "metadata": {},
     "output_type": "execute_result"
    }
   ],
   "source": [
    "x1"
   ]
  },
  {
   "cell_type": "code",
   "execution_count": 9,
   "metadata": {},
   "outputs": [
    {
     "data": {
      "text/plain": [
       "2.8 + 10 * e([1]) + 0 * e([2]) + 0 * e([3]) + 0 * e([4]) + 0 * e([5]) + 0 * e([[1,2]]) + 0 * e([1,2]) + 0 * e([[2,2]]) + 0 * e([1,3]) + 0 * e([2,3]) + 0 * e([[3,2]]) + 0 * e([1,4]) + 0 * e([2,4]) + 0 * e([3,4]) + 0 * e([[4,2]]) + 0 * e([1,5]) + 0 * e([2,5]) + 0 * e([3,5]) + 0 * e([4,5]) + 0 * e([[5,2]])"
      ]
     },
     "execution_count": 9,
     "metadata": {},
     "output_type": "execute_result"
    }
   ],
   "source": [
    "x2"
   ]
  },
  {
   "cell_type": "code",
   "execution_count": 13,
   "metadata": {
    "scrolled": true
   },
   "outputs": [
    {
     "data": {
      "text/plain": [
       "-2.3 - 10 * e([1]) + 0 * e([2]) + 0 * e([3]) + 0 * e([4]) + 0 * e([5]) + 0 * e([[1,2]]) + 0 * e([1,2]) + 0 * e([[2,2]]) + 0 * e([1,3]) + 0 * e([2,3]) + 0 * e([[3,2]]) + 0 * e([1,4]) + 0 * e([2,4]) + 0 * e([3,4]) + 0 * e([[4,2]]) + 0 * e([1,5]) + 0 * e([2,5]) + 0 * e([3,5]) + 0 * e([4,5]) + 0 * e([[5,2]])"
      ]
     },
     "execution_count": 13,
     "metadata": {},
     "output_type": "execute_result"
    }
   ],
   "source": [
    "(x1-x2)"
   ]
  },
  {
   "cell_type": "code",
   "execution_count": 14,
   "metadata": {},
   "outputs": [
    {
     "data": {
      "text/plain": [
       "-2.3 - 10 * e([1]) + 0 * e([2]) + 0 * e([3]) + 0 * e([4]) + 0 * e([5]) + 0 * e([[1,2]]) + 0 * e([1,2]) + 0 * e([[2,2]]) + 0 * e([1,3]) + 0 * e([2,3]) + 0 * e([[3,2]]) + 0 * e([1,4]) + 0 * e([2,4]) + 0 * e([3,4]) + 0 * e([[4,2]]) + 0 * e([1,5]) + 0 * e([2,5]) + 0 * e([3,5]) + 0 * e([4,5]) + 0 * e([[5,2]])"
      ]
     },
     "execution_count": 14,
     "metadata": {},
     "output_type": "execute_result"
    }
   ],
   "source": [
    "x1-x2"
   ]
  },
  {
   "cell_type": "code",
   "execution_count": 15,
   "metadata": {},
   "outputs": [
    {
     "name": "stdout",
     "output_type": "stream",
     "text": [
      "599 ns ± 10.4 ns per loop (mean ± std. dev. of 7 runs, 1000000 loops each)\n"
     ]
    }
   ],
   "source": [
    "%timeit x2-x1"
   ]
  },
  {
   "cell_type": "code",
   "execution_count": 14,
   "metadata": {},
   "outputs": [
    {
     "name": "stdout",
     "output_type": "stream",
     "text": [
      "4.6 µs ± 57.8 ns per loop (mean ± std. dev. of 7 runs, 100000 loops each)\n"
     ]
    }
   ],
   "source": [
    "# No type check but with memory allocation.\n",
    "%timeit add(x1,x2)"
   ]
  },
  {
   "cell_type": "code",
   "execution_count": 16,
   "metadata": {},
   "outputs": [
    {
     "name": "stdout",
     "output_type": "stream",
     "text": [
      "2.8 µs ± 15.4 ns per loop (mean ± std. dev. of 7 runs, 100000 loops each)\n"
     ]
    }
   ],
   "source": [
    "# No type check\n",
    "%timeit add(x1,x2,out=x3)\n",
    "# add(x1,x2,out=x3)\n",
    "# x3"
   ]
  },
  {
   "cell_type": "code",
   "execution_count": 17,
   "metadata": {},
   "outputs": [
    {
     "name": "stdout",
     "output_type": "stream",
     "text": [
      "2.68 µs ± 15.1 ns per loop (mean ± std. dev. of 7 runs, 100000 loops each)\n"
     ]
    }
   ],
   "source": [
    "%timeit add_to(x1,x2,x3) # no typechecking necessary, no memory allocation..."
   ]
  },
  {
   "cell_type": "code",
   "execution_count": 10,
   "metadata": {},
   "outputs": [
    {
     "name": "stdout",
     "output_type": "stream",
     "text": [
      "46.6 ns ± 0.194 ns per loop (mean ± std. dev. of 7 runs, 10000000 loops each)\n"
     ]
    }
   ],
   "source": [
    "%timeit x1!=None"
   ]
  },
  {
   "cell_type": "code",
   "execution_count": 21,
   "metadata": {},
   "outputs": [
    {
     "name": "stdout",
     "output_type": "stream",
     "text": [
      "268 ns ± 2.27 ns per loop (mean ± std. dev. of 7 runs, 1000000 loops each)\n"
     ]
    },
    {
     "data": {
      "text/plain": [
       "3.3 + 10 * e([1]) + 0 * e([[1,2]])"
      ]
     },
     "execution_count": 21,
     "metadata": {},
     "output_type": "execute_result"
    }
   ],
   "source": [
    "%timeit add_oo(x1,x2,out=x3)\n",
    "x3"
   ]
  },
  {
   "cell_type": "code",
   "execution_count": 49,
   "metadata": {},
   "outputs": [],
   "source": [
    "x1r = 2.8\n",
    "x2r = 0.5"
   ]
  },
  {
   "cell_type": "code",
   "execution_count": 16,
   "metadata": {},
   "outputs": [
    {
     "name": "stdout",
     "output_type": "stream",
     "text": [
      "50.7 ns ± 0.86 ns per loop (mean ± std. dev. of 7 runs, 10000000 loops each)\n"
     ]
    }
   ],
   "source": [
    "\n",
    "%timeit x1r+x2r"
   ]
  },
  {
   "cell_type": "code",
   "execution_count": null,
   "metadata": {},
   "outputs": [],
   "source": []
  }
 ],
 "metadata": {
  "kernelspec": {
   "display_name": "Python 3",
   "language": "python",
   "name": "python3"
  },
  "language_info": {
   "codemirror_mode": {
    "name": "ipython",
    "version": 3
   },
   "file_extension": ".py",
   "mimetype": "text/x-python",
   "name": "python",
   "nbconvert_exporter": "python",
   "pygments_lexer": "ipython3",
   "version": "3.7.1"
  }
 },
 "nbformat": 4,
 "nbformat_minor": 2
}
