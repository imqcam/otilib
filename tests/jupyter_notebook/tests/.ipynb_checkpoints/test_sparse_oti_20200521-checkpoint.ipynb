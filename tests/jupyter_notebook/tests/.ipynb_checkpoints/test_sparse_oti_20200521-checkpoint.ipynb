{
 "cells": [
  {
   "cell_type": "code",
   "execution_count": 1,
   "metadata": {},
   "outputs": [],
   "source": [
    "import sys\n",
    "path2oti = '../../../build/'\n",
    "sys.path.append(path2oti) # Add path to OTI library.\n",
    "\n",
    "import pyoti.sparse as oti\n",
    "e = oti.e\n",
    "np = oti.np\n",
    "\n",
    "# For checking\n",
    "\n",
    "import sympy as sym"
   ]
  },
  {
   "cell_type": "code",
   "execution_count": 75,
   "metadata": {},
   "outputs": [],
   "source": [
    "def f(x,y,z):\n",
    "    \"\"\"\n",
    "    Test function\n",
    "    \"\"\"\n",
    "    \n",
    "    return ((x*y)**4)*z\n",
    "    \n",
    "# end function\n",
    "\n",
    "def compare_derivs(foti, fs, derivs):\n",
    "    \n",
    "    deriv_oti   = foti.get_deriv([[1,derivs[0]],[2,derivs[1]],[3,derivs[2]]])\n",
    "    deriv_sympy = fs.diff(xs,derivs[0]).diff(ys,derivs[1]).diff(zs,derivs[2])\n",
    "    deriv_sympy = float(deriv_sympy.replace(xs,xr).replace(ys,yr).replace(zs,zr).doit().evalf())\n",
    "    \n",
    "    error = float(abs((deriv_oti-deriv_sympy)/deriv_sympy))\n",
    "#     print(deriv_oti,deriv_sympy, error)\n",
    "    out =  \"Result comparison for derivative {0} \\n\"\n",
    "    out += \"Derivative with OTI  : {1:.15e}\\n\"\n",
    "    out += \"Derivative with sympy: {2:.15e}\\n\"\n",
    "    out += \"error:                 {3:.15e}\\n\"\n",
    "    out = out.format(derivs,deriv_oti,deriv_sympy,error)\n",
    "    print(out)\n",
    "    \n",
    "    return error\n",
    "# end function\n",
    "\n",
    "def check_error(error,tol = 1e-15):\n",
    "    \n",
    "    if error>tol:\n",
    "        print(\" =============================== \")\n",
    "        print(\" Derivative not OK. Look up      \")\n",
    "        print(\" =============================== \")\n",
    "    # end if \n",
    "#end function"
   ]
  },
  {
   "cell_type": "code",
   "execution_count": 81,
   "metadata": {},
   "outputs": [],
   "source": [
    "xr =1.5\n",
    "yr =2.5\n",
    "zr =3.5\n",
    "\n",
    "order = 3\n",
    "xoti = xr + e(1,order=order) # Creates a Sparse OTI with truncation order 4.\n",
    "yoti = yr + e(2,order=order) # Creates a Sparse OTI with truncation order 4.\n",
    "zoti = zr + e(3,order=1) # Creates OTI\n",
    "\n",
    "xs, ys, zs = sym.symbols(\"x,y,z\")"
   ]
  },
  {
   "cell_type": "code",
   "execution_count": 82,
   "metadata": {},
   "outputs": [
    {
     "data": {
      "text/plain": [
       "692.1387 + 1845.7031 * e([1]) + 1107.4219 * e([2]) + 197.7539 * e([3]) + 1845.7031 * e([[1,2]]) + 2953.1250 * e([1,2]) + 664.4531 * e([[2,2]]) + 527.3438 * e([1,3]) + 316.4062 * e([2,3]) + 527.3438 * e([[1,2],3]) + 843.7500 * e([1,2,3]) + 189.8438 * e([[2,2],3])"
      ]
     },
     "execution_count": 82,
     "metadata": {},
     "output_type": "execute_result"
    }
   ],
   "source": [
    "foti  = f( xoti, yoti, zoti)\n",
    "foti"
   ]
  },
  {
   "cell_type": "code",
   "execution_count": 83,
   "metadata": {},
   "outputs": [
    {
     "data": {
      "text/latex": [
       "$\\displaystyle x^{4} y^{4} z$"
      ],
      "text/plain": [
       "x**4*y**4*z"
      ]
     },
     "execution_count": 83,
     "metadata": {},
     "output_type": "execute_result"
    }
   ],
   "source": [
    "fs = f(xs,ys,zs)\n",
    "fs"
   ]
  },
  {
   "cell_type": "code",
   "execution_count": 84,
   "metadata": {},
   "outputs": [
    {
     "name": "stdout",
     "output_type": "stream",
     "text": [
      "Result comparison for derivative [1, 0, 0] \n",
      "Derivative with OTI  : 1.845703125000000e+03\n",
      "Derivative with sympy: 1.845703125000000e+03\n",
      "error:                 0.000000000000000e+00\n",
      "\n",
      "Result comparison for derivative [0, 1, 0] \n",
      "Derivative with OTI  : 1.107421875000000e+03\n",
      "Derivative with sympy: 1.107421875000000e+03\n",
      "error:                 0.000000000000000e+00\n",
      "\n",
      "Result comparison for derivative [0, 0, 1] \n",
      "Derivative with OTI  : 1.977539062500000e+02\n",
      "Derivative with sympy: 1.977539062500000e+02\n",
      "error:                 0.000000000000000e+00\n",
      "\n",
      "Result comparison for derivative [2, 0, 0] \n",
      "Derivative with OTI  : 3.691406250000000e+03\n",
      "Derivative with sympy: 3.691406250000000e+03\n",
      "error:                 0.000000000000000e+00\n",
      "\n",
      "Result comparison for derivative [1, 1, 0] \n",
      "Derivative with OTI  : 2.953125000000000e+03\n",
      "Derivative with sympy: 2.953125000000000e+03\n",
      "error:                 0.000000000000000e+00\n",
      "\n",
      "Result comparison for derivative [0, 2, 0] \n",
      "Derivative with OTI  : 1.328906250000000e+03\n",
      "Derivative with sympy: 1.328906250000000e+03\n",
      "error:                 0.000000000000000e+00\n",
      "\n",
      "Result comparison for derivative [1, 0, 1] \n",
      "Derivative with OTI  : 5.273437500000000e+02\n",
      "Derivative with sympy: 5.273437500000000e+02\n",
      "error:                 0.000000000000000e+00\n",
      "\n",
      "Result comparison for derivative [0, 1, 1] \n",
      "Derivative with OTI  : 3.164062500000000e+02\n",
      "Derivative with sympy: 3.164062500000000e+02\n",
      "error:                 0.000000000000000e+00\n",
      "\n",
      "Result comparison for derivative [0, 1, 1] \n",
      "Derivative with OTI  : 3.164062500000000e+02\n",
      "Derivative with sympy: 3.164062500000000e+02\n",
      "error:                 0.000000000000000e+00\n",
      "\n",
      "Result comparison for derivative [3, 0, 0] \n",
      "Derivative with OTI  : 0.000000000000000e+00\n",
      "Derivative with sympy: 4.921875000000000e+03\n",
      "error:                 1.000000000000000e+00\n",
      "\n",
      " =============================== \n",
      " Derivative not OK.              \n",
      " =============================== \n",
      "Result comparison for derivative [2, 1, 0] \n",
      "Derivative with OTI  : 0.000000000000000e+00\n",
      "Derivative with sympy: 5.906250000000000e+03\n",
      "error:                 1.000000000000000e+00\n",
      "\n",
      " =============================== \n",
      " Derivative not OK.              \n",
      " =============================== \n",
      "Result comparison for derivative [1, 2, 0] \n",
      "Derivative with OTI  : 0.000000000000000e+00\n",
      "Derivative with sympy: 3.543750000000000e+03\n",
      "error:                 1.000000000000000e+00\n",
      "\n",
      " =============================== \n",
      " Derivative not OK.              \n",
      " =============================== \n",
      "Result comparison for derivative [0, 3, 0] \n",
      "Derivative with OTI  : 0.000000000000000e+00\n",
      "Derivative with sympy: 1.063125000000000e+03\n",
      "error:                 1.000000000000000e+00\n",
      "\n",
      " =============================== \n",
      " Derivative not OK.              \n",
      " =============================== \n",
      "Result comparison for derivative [2, 0, 1] \n",
      "Derivative with OTI  : 1.054687500000000e+03\n",
      "Derivative with sympy: 1.054687500000000e+03\n",
      "error:                 0.000000000000000e+00\n",
      "\n",
      "Result comparison for derivative [1, 1, 1] \n",
      "Derivative with OTI  : 8.437500000000000e+02\n",
      "Derivative with sympy: 8.437500000000000e+02\n",
      "error:                 0.000000000000000e+00\n",
      "\n",
      "Result comparison for derivative [0, 2, 1] \n",
      "Derivative with OTI  : 3.796875000000000e+02\n",
      "Derivative with sympy: 3.796875000000000e+02\n",
      "error:                 0.000000000000000e+00\n",
      "\n"
     ]
    }
   ],
   "source": [
    "\n",
    "\n",
    "check_error( compare_derivs(foti,fs,[1,0,0]) )\n",
    "check_error( compare_derivs(foti,fs,[0,1,0]) )\n",
    "check_error( compare_derivs(foti,fs,[0,0,1]) )\n",
    "\n",
    "check_error( compare_derivs(foti,fs,[2,0,0]) )\n",
    "check_error( compare_derivs(foti,fs,[1,1,0]) )\n",
    "check_error( compare_derivs(foti,fs,[0,2,0]) )\n",
    "check_error( compare_derivs(foti,fs,[1,0,1]) )\n",
    "check_error( compare_derivs(foti,fs,[0,1,1]) )\n",
    "check_error( compare_derivs(foti,fs,[0,1,1]) )\n",
    "\n",
    "\n",
    "\n",
    "check_error( compare_derivs(foti,fs,[3,0,0]) )\n",
    "check_error( compare_derivs(foti,fs,[2,1,0]) )\n",
    "check_error( compare_derivs(foti,fs,[1,2,0]) )\n",
    "check_error( compare_derivs(foti,fs,[0,3,0]) )\n",
    "check_error( compare_derivs(foti,fs,[2,0,1]) )\n",
    "check_error( compare_derivs(foti,fs,[1,1,1]) )\n",
    "check_error( compare_derivs(foti,fs,[0,2,1]) )\n",
    "\n",
    "\n"
   ]
  },
  {
   "cell_type": "code",
   "execution_count": null,
   "metadata": {},
   "outputs": [],
   "source": []
  },
  {
   "cell_type": "code",
   "execution_count": null,
   "metadata": {},
   "outputs": [],
   "source": []
  }
 ],
 "metadata": {
  "kernelspec": {
   "display_name": "Python 3",
   "language": "python",
   "name": "python3"
  },
  "language_info": {
   "codemirror_mode": {
    "name": "ipython",
    "version": 3
   },
   "file_extension": ".py",
   "mimetype": "text/x-python",
   "name": "python",
   "nbconvert_exporter": "python",
   "pygments_lexer": "ipython3",
   "version": "3.7.3"
  }
 },
 "nbformat": 4,
 "nbformat_minor": 4
}
