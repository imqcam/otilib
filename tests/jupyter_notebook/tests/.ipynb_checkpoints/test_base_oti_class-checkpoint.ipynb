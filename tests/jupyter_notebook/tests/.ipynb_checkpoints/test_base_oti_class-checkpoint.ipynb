{
 "cells": [
  {
   "cell_type": "code",
   "execution_count": 1,
   "metadata": {},
   "outputs": [],
   "source": [
    "# 1. SET GLOBAL PATH \n",
    "import sys\n",
    "path2oti = '../../../build'\n",
    "sys.path.append(path2oti) # Add path to OTI library.\n",
    "\n",
    "import pyoti.dense as oti\n",
    "np = oti.np\n",
    "eps = oti.e"
   ]
  },
  {
   "cell_type": "code",
   "execution_count": 2,
   "metadata": {},
   "outputs": [],
   "source": [
    "\n",
    "num = oti.otibase(3,nbases=2,dtype = float,zero = 10)"
   ]
  },
  {
   "cell_type": "code",
   "execution_count": 3,
   "metadata": {},
   "outputs": [
    {
     "data": {
      "text/plain": [
       "10\n",
       "+e([1])*\n",
       "10\n",
       "+e([2])*\n",
       "10\n",
       "+e([[1,2]])*\n",
       "10\n",
       "+e([1,2])*\n",
       "10\n",
       "+e([[2,2]])*\n",
       "10\n",
       "+e([[1,3]])*\n",
       "10\n",
       "+e([[1,2],2])*\n",
       "10\n",
       "+e([1,[2,2]])*\n",
       "10\n",
       "+e([[2,3]])*\n",
       "10"
      ]
     },
     "execution_count": 3,
     "metadata": {},
     "output_type": "execute_result"
    }
   ],
   "source": [
    "num"
   ]
  },
  {
   "cell_type": "code",
   "execution_count": 4,
   "metadata": {},
   "outputs": [
    {
     "data": {
      "text/plain": [
       "-10\n",
       "+e([1])*\n",
       "-10\n",
       "+e([2])*\n",
       "-10\n",
       "+e([[1,2]])*\n",
       "-10\n",
       "+e([1,2])*\n",
       "-10\n",
       "+e([[2,2]])*\n",
       "-10\n",
       "+e([[1,3]])*\n",
       "-10\n",
       "+e([[1,2],2])*\n",
       "-10\n",
       "+e([1,[2,2]])*\n",
       "-10\n",
       "+e([[2,3]])*\n",
       "-10"
      ]
     },
     "execution_count": 4,
     "metadata": {},
     "output_type": "execute_result"
    }
   ],
   "source": [
    "-num"
   ]
  },
  {
   "cell_type": "code",
   "execution_count": 5,
   "metadata": {},
   "outputs": [
    {
     "data": {
      "text/plain": [
       "True"
      ]
     },
     "execution_count": 5,
     "metadata": {},
     "output_type": "execute_result"
    }
   ],
   "source": [
    "isinstance(num,oti.otibase)"
   ]
  },
  {
   "cell_type": "code",
   "execution_count": 6,
   "metadata": {},
   "outputs": [
    {
     "data": {
      "text/plain": [
       "float"
      ]
     },
     "execution_count": 6,
     "metadata": {},
     "output_type": "execute_result"
    }
   ],
   "source": [
    "num.dtype"
   ]
  },
  {
   "cell_type": "code",
   "execution_count": 7,
   "metadata": {},
   "outputs": [
    {
     "data": {
      "text/plain": [
       "dtype('O')"
      ]
     },
     "execution_count": 7,
     "metadata": {},
     "output_type": "execute_result"
    }
   ],
   "source": [
    "num.p_im[0].dtype"
   ]
  },
  {
   "cell_type": "code",
   "execution_count": 8,
   "metadata": {},
   "outputs": [],
   "source": [
    "num2 = oti.otibase(3, nbases=2, dtype = np.ndarray, zero=np.ones((2,1)))"
   ]
  },
  {
   "cell_type": "code",
   "execution_count": 9,
   "metadata": {},
   "outputs": [
    {
     "data": {
      "text/plain": [
       "[[-1.]\n",
       " [-1.]]\n",
       "+e([1])*\n",
       "[[-1.]\n",
       " [-1.]]\n",
       "+e([2])*\n",
       "[[-1.]\n",
       " [-1.]]\n",
       "+e([[1,2]])*\n",
       "[[-1.]\n",
       " [-1.]]\n",
       "+e([1,2])*\n",
       "[[-1.]\n",
       " [-1.]]\n",
       "+e([[2,2]])*\n",
       "[[-1.]\n",
       " [-1.]]\n",
       "+e([[1,3]])*\n",
       "[[-1.]\n",
       " [-1.]]\n",
       "+e([[1,2],2])*\n",
       "[[-1.]\n",
       " [-1.]]\n",
       "+e([1,[2,2]])*\n",
       "[[-1.]\n",
       " [-1.]]\n",
       "+e([[2,3]])*\n",
       "[[-1.]\n",
       " [-1.]]"
      ]
     },
     "execution_count": 9,
     "metadata": {},
     "output_type": "execute_result"
    }
   ],
   "source": [
    "-num2"
   ]
  },
  {
   "cell_type": "code",
   "execution_count": 10,
   "metadata": {},
   "outputs": [
    {
     "data": {
      "text/plain": [
       "1.0\n",
       "+e([1])*\n",
       "1.0\n",
       "+e([2])*\n",
       "1.0\n",
       "+e([[1,2]])*\n",
       "1.0\n",
       "+e([1,2])*\n",
       "1.0\n",
       "+e([[2,2]])*\n",
       "1.0\n",
       "+e([[1,3]])*\n",
       "1.0\n",
       "+e([[1,2],2])*\n",
       "1.0\n",
       "+e([1,[2,2]])*\n",
       "1.0\n",
       "+e([[2,3]])*\n",
       "1.0"
      ]
     },
     "execution_count": 10,
     "metadata": {},
     "output_type": "execute_result"
    }
   ],
   "source": [
    "num2[0,0]"
   ]
  },
  {
   "cell_type": "code",
   "execution_count": 11,
   "metadata": {},
   "outputs": [
    {
     "data": {
      "text/plain": [
       "array([array([[1.],\n",
       "       [1.]]), array([[1.],\n",
       "       [1.]]),\n",
       "       array([[1.],\n",
       "       [1.]])], dtype=object)"
      ]
     },
     "execution_count": 11,
     "metadata": {},
     "output_type": "execute_result"
    }
   ],
   "source": [
    "num2.p_im[1]"
   ]
  },
  {
   "cell_type": "code",
   "execution_count": 12,
   "metadata": {},
   "outputs": [
    {
     "data": {
      "text/plain": [
       "array([[11.],\n",
       "       [11.]])"
      ]
     },
     "execution_count": 12,
     "metadata": {},
     "output_type": "execute_result"
    }
   ],
   "source": [
    "num.re+num2.re"
   ]
  },
  {
   "cell_type": "code",
   "execution_count": 13,
   "metadata": {},
   "outputs": [
    {
     "data": {
      "text/plain": [
       "array([[11.],\n",
       "       [11.]])"
      ]
     },
     "execution_count": 13,
     "metadata": {},
     "output_type": "execute_result"
    }
   ],
   "source": [
    "\n",
    "num.p_im[0][0]+num2.p_im[0][0]"
   ]
  },
  {
   "cell_type": "code",
   "execution_count": 14,
   "metadata": {},
   "outputs": [
    {
     "data": {
      "text/plain": [
       "[[11.]\n",
       " [11.]]\n",
       "+e([1])*\n",
       "[[11.]\n",
       " [11.]]\n",
       "+e([2])*\n",
       "[[11.]\n",
       " [11.]]\n",
       "+e([[1,2]])*\n",
       "[[11.]\n",
       " [11.]]\n",
       "+e([1,2])*\n",
       "[[11.]\n",
       " [11.]]\n",
       "+e([[2,2]])*\n",
       "[[11.]\n",
       " [11.]]\n",
       "+e([[1,3]])*\n",
       "[[11.]\n",
       " [11.]]\n",
       "+e([[1,2],2])*\n",
       "[[11.]\n",
       " [11.]]\n",
       "+e([1,[2,2]])*\n",
       "[[11.]\n",
       " [11.]]\n",
       "+e([[2,3]])*\n",
       "[[11.]\n",
       " [11.]]"
      ]
     },
     "execution_count": 14,
     "metadata": {},
     "output_type": "execute_result"
    }
   ],
   "source": [
    "num+num2"
   ]
  },
  {
   "cell_type": "code",
   "execution_count": 15,
   "metadata": {},
   "outputs": [
    {
     "data": {
      "text/plain": [
       "None\n",
       "+e([1])*\n",
       "None\n",
       "+e([2])*\n",
       "None\n",
       "+e([[1,2]])*\n",
       "None\n",
       "+e([1,2])*\n",
       "None\n",
       "+e([[2,2]])*\n",
       "None\n",
       "+e([[1,3]])*\n",
       "None\n",
       "+e([[1,2],2])*\n",
       "None\n",
       "+e([1,[2,2]])*\n",
       "None\n",
       "+e([[2,3]])*\n",
       "None"
      ]
     },
     "execution_count": 15,
     "metadata": {},
     "output_type": "execute_result"
    }
   ],
   "source": [
    "num2.empty_like()"
   ]
  },
  {
   "cell_type": "code",
   "execution_count": 16,
   "metadata": {},
   "outputs": [],
   "source": [
    "\n",
    "#%timeit num+num2"
   ]
  },
  {
   "cell_type": "code",
   "execution_count": null,
   "metadata": {},
   "outputs": [],
   "source": []
  },
  {
   "cell_type": "code",
   "execution_count": 17,
   "metadata": {},
   "outputs": [
    {
     "data": {
      "text/plain": [
       "[[4.5]\n",
       " [4.5]]\n",
       "+e([1])*\n",
       "[[4.5]\n",
       " [4.5]]\n",
       "+e([2])*\n",
       "[[4.5]\n",
       " [4.5]]\n",
       "+e([[1,2]])*\n",
       "[[4.5]\n",
       " [4.5]]\n",
       "+e([1,2])*\n",
       "[[4.5]\n",
       " [4.5]]\n",
       "+e([[2,2]])*\n",
       "[[4.5]\n",
       " [4.5]]\n",
       "+e([[1,3]])*\n",
       "[[4.5]\n",
       " [4.5]]\n",
       "+e([[1,2],2])*\n",
       "[[4.5]\n",
       " [4.5]]\n",
       "+e([1,[2,2]])*\n",
       "[[4.5]\n",
       " [4.5]]\n",
       "+e([[2,3]])*\n",
       "[[4.5]\n",
       " [4.5]]"
      ]
     },
     "execution_count": 17,
     "metadata": {},
     "output_type": "execute_result"
    }
   ],
   "source": [
    "4.5*num2"
   ]
  },
  {
   "cell_type": "code",
   "execution_count": 18,
   "metadata": {},
   "outputs": [
    {
     "data": {
      "text/plain": [
       "[[10.]\n",
       " [10.]]\n",
       "+e([1])*\n",
       "[[20.]\n",
       " [20.]]\n",
       "+e([2])*\n",
       "[[20.]\n",
       " [20.]]\n",
       "+e([[1,2]])*\n",
       "[[30.]\n",
       " [30.]]\n",
       "+e([1,2])*\n",
       "[[40.]\n",
       " [40.]]\n",
       "+e([[2,2]])*\n",
       "[[30.]\n",
       " [30.]]\n",
       "+e([[1,3]])*\n",
       "[[40.]\n",
       " [40.]]\n",
       "+e([[1,2],2])*\n",
       "[[60.]\n",
       " [60.]]\n",
       "+e([1,[2,2]])*\n",
       "[[60.]\n",
       " [60.]]\n",
       "+e([[2,3]])*\n",
       "[[40.]\n",
       " [40.]]"
      ]
     },
     "execution_count": 18,
     "metadata": {},
     "output_type": "execute_result"
    }
   ],
   "source": [
    "\n",
    "num*num2"
   ]
  },
  {
   "cell_type": "code",
   "execution_count": 19,
   "metadata": {},
   "outputs": [
    {
     "data": {
      "text/plain": [
       "10"
      ]
     },
     "execution_count": 19,
     "metadata": {},
     "output_type": "execute_result"
    }
   ],
   "source": [
    "num.getIm(oti.imdir([1]))"
   ]
  },
  {
   "cell_type": "code",
   "execution_count": 20,
   "metadata": {},
   "outputs": [],
   "source": [
    "num.setIm(oti.imdir([1]),17)"
   ]
  },
  {
   "cell_type": "code",
   "execution_count": 21,
   "metadata": {},
   "outputs": [],
   "source": [
    "num = oti.otibase(3,nbases=2,zero=3.5)"
   ]
  },
  {
   "cell_type": "code",
   "execution_count": null,
   "metadata": {},
   "outputs": [],
   "source": []
  },
  {
   "cell_type": "code",
   "execution_count": 22,
   "metadata": {},
   "outputs": [],
   "source": [
    "# Mixing Scipy with OTI library:\n",
    "\n",
    "import sympy as sym\n",
    "\n",
    "f_r = sym.symbols('f_r')\n",
    "f_e1 = sym.symbols('f_{e1}')\n",
    "f_e2 = sym.symbols('f_{e2}')\n",
    "f_e11 = sym.symbols('f_{e11}')\n",
    "f_e12 = sym.symbols('f_{e12}')\n",
    "f_e22 = sym.symbols('f_{e22}')\n",
    "\n",
    "f = oti.otibase(2,nbases=2,dtype=object)"
   ]
  },
  {
   "cell_type": "code",
   "execution_count": 23,
   "metadata": {},
   "outputs": [],
   "source": [
    "f.re = f_r\n",
    "f.p_im[0][0] = f_e1\n",
    "f.p_im[0][1] = f_e2\n",
    "f.p_im[1][0] = f_e11\n",
    "f.p_im[1][1] = f_e12\n",
    "f.p_im[1][2] = f_e22\n"
   ]
  },
  {
   "cell_type": "code",
   "execution_count": 24,
   "metadata": {},
   "outputs": [
    {
     "data": {
      "text/plain": [
       "f_{e1}\n",
       "+e([1])*\n",
       "f_{e11}\n",
       "+e([2])*\n",
       "f_{e12}"
      ]
     },
     "execution_count": 24,
     "metadata": {},
     "output_type": "execute_result"
    }
   ],
   "source": [
    "\n",
    "f_e1 = f.extractIm(oti.imdir([1]))\n",
    "f_e1"
   ]
  },
  {
   "cell_type": "code",
   "execution_count": 25,
   "metadata": {},
   "outputs": [],
   "source": [
    "f_e2=f.extractIm(oti.imdir([2]))"
   ]
  },
  {
   "cell_type": "code",
   "execution_count": 26,
   "metadata": {},
   "outputs": [
    {
     "data": {
      "text/plain": [
       "f_{e1}\n",
       "+e([1])*\n",
       "f_{e11}\n",
       "+e([2])*\n",
       "f_{e12}"
      ]
     },
     "execution_count": 26,
     "metadata": {},
     "output_type": "execute_result"
    }
   ],
   "source": [
    "f_e1"
   ]
  },
  {
   "cell_type": "code",
   "execution_count": 27,
   "metadata": {},
   "outputs": [
    {
     "data": {
      "text/plain": [
       "f_{e2}\n",
       "+e([1])*\n",
       "f_{e12}\n",
       "+e([2])*\n",
       "f_{e22}"
      ]
     },
     "execution_count": 27,
     "metadata": {},
     "output_type": "execute_result"
    }
   ],
   "source": [
    "f_e2"
   ]
  },
  {
   "cell_type": "code",
   "execution_count": 28,
   "metadata": {},
   "outputs": [],
   "source": [
    "f1 = f_e1+f_e2*f.re"
   ]
  },
  {
   "cell_type": "code",
   "execution_count": 29,
   "metadata": {},
   "outputs": [
    {
     "data": {
      "text/plain": [
       "f_r*f_{e2} + f_{e1}\n",
       "+e([1])*\n",
       "f_r*f_{e12} + f_{e11}\n",
       "+e([2])*\n",
       "f_r*f_{e22} + f_{e12}"
      ]
     },
     "execution_count": 29,
     "metadata": {},
     "output_type": "execute_result"
    }
   ],
   "source": [
    "f1"
   ]
  },
  {
   "cell_type": "code",
   "execution_count": 30,
   "metadata": {},
   "outputs": [],
   "source": [
    "f1_e1=f1.extractIm(oti.imdir([1]))\n",
    "f1_e2=f1.extractIm(oti.imdir([2]))"
   ]
  },
  {
   "cell_type": "code",
   "execution_count": 31,
   "metadata": {},
   "outputs": [
    {
     "data": {
      "text/plain": [
       "f_r*f_{e12} + f_{e11}"
      ]
     },
     "execution_count": 31,
     "metadata": {},
     "output_type": "execute_result"
    }
   ],
   "source": [
    "f1_e1"
   ]
  },
  {
   "cell_type": "code",
   "execution_count": 32,
   "metadata": {},
   "outputs": [
    {
     "data": {
      "text/plain": [
       "f_r*f_{e22} + f_{e12}"
      ]
     },
     "execution_count": 32,
     "metadata": {},
     "output_type": "execute_result"
    }
   ],
   "source": [
    "f1_e2"
   ]
  },
  {
   "cell_type": "code",
   "execution_count": 43,
   "metadata": {},
   "outputs": [],
   "source": [
    "\n",
    "f2 = f1_e1+f1_e2*f1.re"
   ]
  },
  {
   "cell_type": "code",
   "execution_count": 44,
   "metadata": {
    "scrolled": true
   },
   "outputs": [
    {
     "data": {
      "text/latex": [
       "$\\displaystyle f_{r}^{2} f_{e22} f_{e2} + f_{r} f_{e12} f_{e2} + f_{r} f_{e12} + f_{r} f_{e1} f_{e22} + f_{e11} + f_{e12} f_{e1}$"
      ],
      "text/plain": [
       "f_r**2*f_{e22}*f_{e2} + f_r*f_{e12}*f_{e2} + f_r*f_{e12} + f_r*f_{e1}*f_{e22} + f_{e11} + f_{e12}*f_{e1}"
      ]
     },
     "execution_count": 44,
     "metadata": {},
     "output_type": "execute_result"
    }
   ],
   "source": [
    "f2.re.expand()"
   ]
  },
  {
   "cell_type": "code",
   "execution_count": 35,
   "metadata": {},
   "outputs": [
    {
     "data": {
      "text/plain": [
       "f_r\n",
       "+e([1])*\n",
       "f_{e1}\n",
       "+e([2])*\n",
       "f_{e2}\n",
       "+e([[1,2]])*\n",
       "f_{e11}\n",
       "+e([1,2])*\n",
       "f_{e12}\n",
       "+e([[2,2]])*\n",
       "f_{e22}"
      ]
     },
     "execution_count": 35,
     "metadata": {},
     "output_type": "execute_result"
    }
   ],
   "source": [
    "f"
   ]
  },
  {
   "cell_type": "code",
   "execution_count": 36,
   "metadata": {},
   "outputs": [],
   "source": [
    "f_test = f.copy()"
   ]
  },
  {
   "cell_type": "code",
   "execution_count": 40,
   "metadata": {
    "scrolled": false
   },
   "outputs": [
    {
     "data": {
      "text/plain": [
       "65"
      ]
     },
     "execution_count": 40,
     "metadata": {},
     "output_type": "execute_result"
    }
   ],
   "source": [
    "f_test.changeOrder(10)\n",
    "f_test.ndir"
   ]
  },
  {
   "cell_type": "code",
   "execution_count": null,
   "metadata": {},
   "outputs": [],
   "source": []
  }
 ],
 "metadata": {
  "kernelspec": {
   "display_name": "Python 3",
   "language": "python",
   "name": "python3"
  },
  "language_info": {
   "codemirror_mode": {
    "name": "ipython",
    "version": 3
   },
   "file_extension": ".py",
   "mimetype": "text/x-python",
   "name": "python",
   "nbconvert_exporter": "python",
   "pygments_lexer": "ipython3",
   "version": "3.7.3"
  }
 },
 "nbformat": 4,
 "nbformat_minor": 2
}
