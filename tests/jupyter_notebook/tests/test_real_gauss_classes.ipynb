{
 "cells": [
  {
   "cell_type": "code",
   "execution_count": 1,
   "metadata": {},
   "outputs": [],
   "source": [
    "import scipy.sparse as spr\n",
    "import scipy.sparse.linalg as spla\n",
    "from scipy.linalg import det as sp_det\n",
    "import sys\n",
    "path2oti = '../../../build/'\n",
    "sys.path.append(path2oti) # Add path to OTI library.\n",
    "\n",
    "import pyoti.real as r\n",
    "np = r.np"
   ]
  },
  {
   "cell_type": "code",
   "execution_count": 2,
   "metadata": {},
   "outputs": [],
   "source": [
    "import pyoti.fem as fem"
   ]
  },
  {
   "cell_type": "code",
   "execution_count": null,
   "metadata": {},
   "outputs": [],
   "source": []
  },
  {
   "cell_type": "code",
   "execution_count": 3,
   "metadata": {},
   "outputs": [
    {
     "ename": "NameError",
     "evalue": "name 'Th' is not defined",
     "output_type": "error",
     "traceback": [
      "\u001b[0;31m---------------------------------------------------------------------------\u001b[0m",
      "\u001b[0;31mNameError\u001b[0m                                 Traceback (most recent call last)",
      "\u001b[0;32m<ipython-input-3-3ace2f50d1bb>\u001b[0m in \u001b[0;36m<module>\u001b[0;34m\u001b[0m\n\u001b[0;32m----> 1\u001b[0;31m \u001b[0mTh\u001b[0m\u001b[0;34m.\u001b[0m\u001b[0mnodes\u001b[0m\u001b[0;34m\u001b[0m\u001b[0;34m\u001b[0m\u001b[0m\n\u001b[0m",
      "\u001b[0;31mNameError\u001b[0m: name 'Th' is not defined"
     ]
    }
   ],
   "source": [
    "Th.nodes"
   ]
  },
  {
   "cell_type": "code",
   "execution_count": 4,
   "metadata": {},
   "outputs": [],
   "source": [
    "dim = 3\n",
    "nip = 27\n",
    "b = r.number(4.5,nip=nip)"
   ]
  },
  {
   "cell_type": "code",
   "execution_count": 3,
   "metadata": {},
   "outputs": [
    {
     "name": "stdout",
     "output_type": "stream",
     "text": [
      "373 ns ± 5.19 ns per loop (mean ± std. dev. of 7 runs, 1000000 loops each)\n"
     ]
    }
   ],
   "source": [
    "A = r.ones((3,3))\n",
    "\n",
    "\n",
    "%timeit A*2"
   ]
  },
  {
   "cell_type": "code",
   "execution_count": 13,
   "metadata": {},
   "outputs": [
    {
     "name": "stdout",
     "output_type": "stream",
     "text": [
      "5.7 µs ± 114 ns per loop (mean ± std. dev. of 7 runs, 100000 loops each)\n"
     ]
    }
   ],
   "source": [
    "b_np = np.ones(27)*4.5\n",
    "%timeit np.sum(b_np*b_np)"
   ]
  },
  {
   "cell_type": "code",
   "execution_count": 14,
   "metadata": {},
   "outputs": [
    {
     "name": "stdout",
     "output_type": "stream",
     "text": [
      "178 ns ± 2.83 ns per loop (mean ± std. dev. of 7 runs, 10000000 loops each)\n"
     ]
    }
   ],
   "source": [
    "%timeit r.gauss_integrate(b,b)"
   ]
  },
  {
   "cell_type": "code",
   "execution_count": 15,
   "metadata": {},
   "outputs": [
    {
     "name": "stdout",
     "output_type": "stream",
     "text": [
      "3.73 µs ± 77.7 ns per loop (mean ± std. dev. of 7 runs, 100000 loops each)\n",
      "3.73 µs ± 32.9 ns per loop (mean ± std. dev. of 7 runs, 100000 loops each)\n"
     ]
    }
   ],
   "source": [
    "I = r.eye(3, nip=nip)\n",
    "I3 = I*3\n",
    "res = r.zero(nip=nip)\n",
    "%timeit r.det(I3,out=res)\n",
    "%timeit r.det(I3)"
   ]
  },
  {
   "cell_type": "code",
   "execution_count": 35,
   "metadata": {},
   "outputs": [
    {
     "name": "stdout",
     "output_type": "stream",
     "text": [
      "194 ns ± 1.89 ns per loop (mean ± std. dev. of 7 runs, 1000000 loops each)\n"
     ]
    }
   ],
   "source": [
    "res = A.copy()*3\n",
    "%timeit A*A"
   ]
  },
  {
   "cell_type": "code",
   "execution_count": 16,
   "metadata": {},
   "outputs": [],
   "source": [
    "def det(K):\n",
    "    nip = K.shape[0]\n",
    "    res = np.zeros((nip,1,1))\n",
    "    for i in range(nip):\n",
    "        res[i,0,0]=np.linalg.det(K[i])\n",
    "#         res[i,0,0]=sp_det(K[i])\n",
    "    return res\n",
    "        "
   ]
  },
  {
   "cell_type": "code",
   "execution_count": 17,
   "metadata": {},
   "outputs": [
    {
     "name": "stdout",
     "output_type": "stream",
     "text": [
      "289 µs ± 15.3 µs per loop (mean ± std. dev. of 7 runs, 1000 loops each)\n"
     ]
    }
   ],
   "source": [
    "I3_np = np.zeros((nip,3,3))\n",
    "I = np.eye(3)*3\n",
    "for i in range(nip):\n",
    "    I3_np[i] = I\n",
    "# end for \n",
    "\n",
    "%timeit det(I3_np)"
   ]
  },
  {
   "cell_type": "code",
   "execution_count": 36,
   "metadata": {},
   "outputs": [
    {
     "name": "stdout",
     "output_type": "stream",
     "text": [
      "580 ns ± 8.88 ns per loop (mean ± std. dev. of 7 runs, 1000000 loops each)\n"
     ]
    }
   ],
   "source": [
    "A_np = np.ones((3,3))*3\n",
    "%timeit A_np*A_np\n"
   ]
  },
  {
   "cell_type": "code",
   "execution_count": 60,
   "metadata": {},
   "outputs": [
    {
     "name": "stdout",
     "output_type": "stream",
     "text": [
      "801 ns ± 2.19 ns per loop (mean ± std. dev. of 7 runs, 1000000 loops each)\n"
     ]
    }
   ],
   "source": [
    "%timeit (b**2)"
   ]
  },
  {
   "cell_type": "code",
   "execution_count": 61,
   "metadata": {},
   "outputs": [],
   "source": [
    "b_np = np.ones((nip,1,1))*4.5"
   ]
  },
  {
   "cell_type": "code",
   "execution_count": 62,
   "metadata": {},
   "outputs": [
    {
     "name": "stdout",
     "output_type": "stream",
     "text": [
      "977 ns ± 8.18 ns per loop (mean ± std. dev. of 7 runs, 1000000 loops each)\n"
     ]
    }
   ],
   "source": [
    "%timeit (b_np**2)"
   ]
  },
  {
   "cell_type": "code",
   "execution_count": 63,
   "metadata": {},
   "outputs": [],
   "source": [
    "b[2]=5+10\n",
    "b_np[2,:,:]=5+10"
   ]
  },
  {
   "cell_type": "code",
   "execution_count": 64,
   "metadata": {},
   "outputs": [
    {
     "data": {
      "text/plain": [
       "dnumfe< nip: 27, \n",
       "(0) 4.5\n",
       "(1) 4.5\n",
       "(2) 15.0\n",
       "(3) 4.5\n",
       "(4) 4.5\n",
       "(5) 4.5\n",
       "(6) 4.5\n",
       "(7) 4.5\n",
       "(8) 4.5\n",
       "(9) 4.5\n",
       "(10) 4.5\n",
       "(11) 4.5\n",
       "(12) 4.5\n",
       "(13) 4.5\n",
       "(14) 4.5\n",
       "(15) 4.5\n",
       "(16) 4.5\n",
       "(17) 4.5\n",
       "(18) 4.5\n",
       "(19) 4.5\n",
       "(20) 4.5\n",
       "(21) 4.5\n",
       "(22) 4.5\n",
       "(23) 4.5\n",
       "(24) 4.5\n",
       "(25) 4.5\n",
       "(26) 4.5\n",
       ">"
      ]
     },
     "execution_count": 64,
     "metadata": {},
     "output_type": "execute_result"
    }
   ],
   "source": [
    "b"
   ]
  },
  {
   "cell_type": "code",
   "execution_count": 65,
   "metadata": {},
   "outputs": [
    {
     "data": {
      "text/plain": [
       "array([[[ 4.5]],\n",
       "\n",
       "       [[ 4.5]],\n",
       "\n",
       "       [[15. ]],\n",
       "\n",
       "       [[ 4.5]],\n",
       "\n",
       "       [[ 4.5]],\n",
       "\n",
       "       [[ 4.5]],\n",
       "\n",
       "       [[ 4.5]],\n",
       "\n",
       "       [[ 4.5]],\n",
       "\n",
       "       [[ 4.5]],\n",
       "\n",
       "       [[ 4.5]],\n",
       "\n",
       "       [[ 4.5]],\n",
       "\n",
       "       [[ 4.5]],\n",
       "\n",
       "       [[ 4.5]],\n",
       "\n",
       "       [[ 4.5]],\n",
       "\n",
       "       [[ 4.5]],\n",
       "\n",
       "       [[ 4.5]],\n",
       "\n",
       "       [[ 4.5]],\n",
       "\n",
       "       [[ 4.5]],\n",
       "\n",
       "       [[ 4.5]],\n",
       "\n",
       "       [[ 4.5]],\n",
       "\n",
       "       [[ 4.5]],\n",
       "\n",
       "       [[ 4.5]],\n",
       "\n",
       "       [[ 4.5]],\n",
       "\n",
       "       [[ 4.5]],\n",
       "\n",
       "       [[ 4.5]],\n",
       "\n",
       "       [[ 4.5]],\n",
       "\n",
       "       [[ 4.5]]])"
      ]
     },
     "execution_count": 65,
     "metadata": {},
     "output_type": "execute_result"
    }
   ],
   "source": [
    "b_np"
   ]
  },
  {
   "cell_type": "code",
   "execution_count": 32,
   "metadata": {},
   "outputs": [],
   "source": [
    "B = r.dmatfe((dim,dim),nip)"
   ]
  },
  {
   "cell_type": "code",
   "execution_count": 33,
   "metadata": {},
   "outputs": [],
   "source": [
    "B = B+2"
   ]
  },
  {
   "cell_type": "code",
   "execution_count": 34,
   "metadata": {},
   "outputs": [
    {
     "data": {
      "text/plain": [
       "dmatfe< nip: 27, \n",
       "(Integration point - 0) \n",
       "-------------------------\n",
       "[[2. 2. 2.]\n",
       " [2. 2. 2.]\n",
       " [2. 2. 2.]]\n",
       "-------------------------\n",
       "(Integration point - 1) \n",
       "-------------------------\n",
       "[[2. 2. 2.]\n",
       " [2. 2. 2.]\n",
       " [2. 2. 2.]]\n",
       "-------------------------\n",
       "(Integration point - 2) \n",
       "-------------------------\n",
       "[[2. 2. 2.]\n",
       " [2. 2. 2.]\n",
       " [2. 2. 2.]]\n",
       "-------------------------\n",
       "(Integration point - 3) \n",
       "-------------------------\n",
       "[[2. 2. 2.]\n",
       " [2. 2. 2.]\n",
       " [2. 2. 2.]]\n",
       "-------------------------\n",
       "(Integration point - 4) \n",
       "-------------------------\n",
       "[[2. 2. 2.]\n",
       " [2. 2. 2.]\n",
       " [2. 2. 2.]]\n",
       "-------------------------\n",
       "(Integration point - 5) \n",
       "-------------------------\n",
       "[[2. 2. 2.]\n",
       " [2. 2. 2.]\n",
       " [2. 2. 2.]]\n",
       "-------------------------\n",
       "(Integration point - 6) \n",
       "-------------------------\n",
       "[[2. 2. 2.]\n",
       " [2. 2. 2.]\n",
       " [2. 2. 2.]]\n",
       "-------------------------\n",
       "(Integration point - 7) \n",
       "-------------------------\n",
       "[[2. 2. 2.]\n",
       " [2. 2. 2.]\n",
       " [2. 2. 2.]]\n",
       "-------------------------\n",
       "(Integration point - 8) \n",
       "-------------------------\n",
       "[[2. 2. 2.]\n",
       " [2. 2. 2.]\n",
       " [2. 2. 2.]]\n",
       "-------------------------\n",
       "(Integration point - 9) \n",
       "-------------------------\n",
       "[[2. 2. 2.]\n",
       " [2. 2. 2.]\n",
       " [2. 2. 2.]]\n",
       "-------------------------\n",
       "(Integration point - 10) \n",
       "-------------------------\n",
       "[[2. 2. 2.]\n",
       " [2. 2. 2.]\n",
       " [2. 2. 2.]]\n",
       "-------------------------\n",
       "(Integration point - 11) \n",
       "-------------------------\n",
       "[[2. 2. 2.]\n",
       " [2. 2. 2.]\n",
       " [2. 2. 2.]]\n",
       "-------------------------\n",
       "(Integration point - 12) \n",
       "-------------------------\n",
       "[[2. 2. 2.]\n",
       " [2. 2. 2.]\n",
       " [2. 2. 2.]]\n",
       "-------------------------\n",
       "(Integration point - 13) \n",
       "-------------------------\n",
       "[[2. 2. 2.]\n",
       " [2. 2. 2.]\n",
       " [2. 2. 2.]]\n",
       "-------------------------\n",
       "(Integration point - 14) \n",
       "-------------------------\n",
       "[[2. 2. 2.]\n",
       " [2. 2. 2.]\n",
       " [2. 2. 2.]]\n",
       "-------------------------\n",
       "(Integration point - 15) \n",
       "-------------------------\n",
       "[[2. 2. 2.]\n",
       " [2. 2. 2.]\n",
       " [2. 2. 2.]]\n",
       "-------------------------\n",
       "(Integration point - 16) \n",
       "-------------------------\n",
       "[[2. 2. 2.]\n",
       " [2. 2. 2.]\n",
       " [2. 2. 2.]]\n",
       "-------------------------\n",
       "(Integration point - 17) \n",
       "-------------------------\n",
       "[[2. 2. 2.]\n",
       " [2. 2. 2.]\n",
       " [2. 2. 2.]]\n",
       "-------------------------\n",
       "(Integration point - 18) \n",
       "-------------------------\n",
       "[[2. 2. 2.]\n",
       " [2. 2. 2.]\n",
       " [2. 2. 2.]]\n",
       "-------------------------\n",
       "(Integration point - 19) \n",
       "-------------------------\n",
       "[[2. 2. 2.]\n",
       " [2. 2. 2.]\n",
       " [2. 2. 2.]]\n",
       "-------------------------\n",
       "(Integration point - 20) \n",
       "-------------------------\n",
       "[[2. 2. 2.]\n",
       " [2. 2. 2.]\n",
       " [2. 2. 2.]]\n",
       "-------------------------\n",
       "(Integration point - 21) \n",
       "-------------------------\n",
       "[[2. 2. 2.]\n",
       " [2. 2. 2.]\n",
       " [2. 2. 2.]]\n",
       "-------------------------\n",
       "(Integration point - 22) \n",
       "-------------------------\n",
       "[[2. 2. 2.]\n",
       " [2. 2. 2.]\n",
       " [2. 2. 2.]]\n",
       "-------------------------\n",
       "(Integration point - 23) \n",
       "-------------------------\n",
       "[[2. 2. 2.]\n",
       " [2. 2. 2.]\n",
       " [2. 2. 2.]]\n",
       "-------------------------\n",
       "(Integration point - 24) \n",
       "-------------------------\n",
       "[[2. 2. 2.]\n",
       " [2. 2. 2.]\n",
       " [2. 2. 2.]]\n",
       "-------------------------\n",
       "(Integration point - 25) \n",
       "-------------------------\n",
       "[[2. 2. 2.]\n",
       " [2. 2. 2.]\n",
       " [2. 2. 2.]]\n",
       "-------------------------\n",
       "(Integration point - 26) \n",
       "-------------------------\n",
       "[[2. 2. 2.]\n",
       " [2. 2. 2.]\n",
       " [2. 2. 2.]]\n",
       "-------------------------\n",
       ">"
      ]
     },
     "execution_count": 34,
     "metadata": {},
     "output_type": "execute_result"
    }
   ],
   "source": [
    "B"
   ]
  },
  {
   "cell_type": "code",
   "execution_count": 35,
   "metadata": {},
   "outputs": [
    {
     "data": {
      "text/plain": [
       "dmatfe< nip: 27, \n",
       "(Integration point - 0) \n",
       "-------------------------\n",
       "[[4. 4. 4.]\n",
       " [4. 4. 4.]\n",
       " [4. 4. 4.]]\n",
       "-------------------------\n",
       "(Integration point - 1) \n",
       "-------------------------\n",
       "[[4. 4. 4.]\n",
       " [4. 4. 4.]\n",
       " [4. 4. 4.]]\n",
       "-------------------------\n",
       "(Integration point - 2) \n",
       "-------------------------\n",
       "[[4. 4. 4.]\n",
       " [4. 4. 4.]\n",
       " [4. 4. 4.]]\n",
       "-------------------------\n",
       "(Integration point - 3) \n",
       "-------------------------\n",
       "[[4. 4. 4.]\n",
       " [4. 4. 4.]\n",
       " [4. 4. 4.]]\n",
       "-------------------------\n",
       "(Integration point - 4) \n",
       "-------------------------\n",
       "[[4. 4. 4.]\n",
       " [4. 4. 4.]\n",
       " [4. 4. 4.]]\n",
       "-------------------------\n",
       "(Integration point - 5) \n",
       "-------------------------\n",
       "[[4. 4. 4.]\n",
       " [4. 4. 4.]\n",
       " [4. 4. 4.]]\n",
       "-------------------------\n",
       "(Integration point - 6) \n",
       "-------------------------\n",
       "[[4. 4. 4.]\n",
       " [4. 4. 4.]\n",
       " [4. 4. 4.]]\n",
       "-------------------------\n",
       "(Integration point - 7) \n",
       "-------------------------\n",
       "[[4. 4. 4.]\n",
       " [4. 4. 4.]\n",
       " [4. 4. 4.]]\n",
       "-------------------------\n",
       "(Integration point - 8) \n",
       "-------------------------\n",
       "[[4. 4. 4.]\n",
       " [4. 4. 4.]\n",
       " [4. 4. 4.]]\n",
       "-------------------------\n",
       "(Integration point - 9) \n",
       "-------------------------\n",
       "[[4. 4. 4.]\n",
       " [4. 4. 4.]\n",
       " [4. 4. 4.]]\n",
       "-------------------------\n",
       "(Integration point - 10) \n",
       "-------------------------\n",
       "[[4. 4. 4.]\n",
       " [4. 4. 4.]\n",
       " [4. 4. 4.]]\n",
       "-------------------------\n",
       "(Integration point - 11) \n",
       "-------------------------\n",
       "[[4. 4. 4.]\n",
       " [4. 4. 4.]\n",
       " [4. 4. 4.]]\n",
       "-------------------------\n",
       "(Integration point - 12) \n",
       "-------------------------\n",
       "[[4. 4. 4.]\n",
       " [4. 4. 4.]\n",
       " [4. 4. 4.]]\n",
       "-------------------------\n",
       "(Integration point - 13) \n",
       "-------------------------\n",
       "[[4. 4. 4.]\n",
       " [4. 4. 4.]\n",
       " [4. 4. 4.]]\n",
       "-------------------------\n",
       "(Integration point - 14) \n",
       "-------------------------\n",
       "[[4. 4. 4.]\n",
       " [4. 4. 4.]\n",
       " [4. 4. 4.]]\n",
       "-------------------------\n",
       "(Integration point - 15) \n",
       "-------------------------\n",
       "[[4. 4. 4.]\n",
       " [4. 4. 4.]\n",
       " [4. 4. 4.]]\n",
       "-------------------------\n",
       "(Integration point - 16) \n",
       "-------------------------\n",
       "[[4. 4. 4.]\n",
       " [4. 4. 4.]\n",
       " [4. 4. 4.]]\n",
       "-------------------------\n",
       "(Integration point - 17) \n",
       "-------------------------\n",
       "[[4. 4. 4.]\n",
       " [4. 4. 4.]\n",
       " [4. 4. 4.]]\n",
       "-------------------------\n",
       "(Integration point - 18) \n",
       "-------------------------\n",
       "[[4. 4. 4.]\n",
       " [4. 4. 4.]\n",
       " [4. 4. 4.]]\n",
       "-------------------------\n",
       "(Integration point - 19) \n",
       "-------------------------\n",
       "[[4. 4. 4.]\n",
       " [4. 4. 4.]\n",
       " [4. 4. 4.]]\n",
       "-------------------------\n",
       "(Integration point - 20) \n",
       "-------------------------\n",
       "[[4. 4. 4.]\n",
       " [4. 4. 4.]\n",
       " [4. 4. 4.]]\n",
       "-------------------------\n",
       "(Integration point - 21) \n",
       "-------------------------\n",
       "[[4. 4. 4.]\n",
       " [4. 4. 4.]\n",
       " [4. 4. 4.]]\n",
       "-------------------------\n",
       "(Integration point - 22) \n",
       "-------------------------\n",
       "[[4. 4. 4.]\n",
       " [4. 4. 4.]\n",
       " [4. 4. 4.]]\n",
       "-------------------------\n",
       "(Integration point - 23) \n",
       "-------------------------\n",
       "[[4. 4. 4.]\n",
       " [4. 4. 4.]\n",
       " [4. 4. 4.]]\n",
       "-------------------------\n",
       "(Integration point - 24) \n",
       "-------------------------\n",
       "[[4. 4. 4.]\n",
       " [4. 4. 4.]\n",
       " [4. 4. 4.]]\n",
       "-------------------------\n",
       "(Integration point - 25) \n",
       "-------------------------\n",
       "[[4. 4. 4.]\n",
       " [4. 4. 4.]\n",
       " [4. 4. 4.]]\n",
       "-------------------------\n",
       "(Integration point - 26) \n",
       "-------------------------\n",
       "[[4. 4. 4.]\n",
       " [4. 4. 4.]\n",
       " [4. 4. 4.]]\n",
       "-------------------------\n",
       ">"
      ]
     },
     "execution_count": 35,
     "metadata": {},
     "output_type": "execute_result"
    }
   ],
   "source": [
    "B**2"
   ]
  },
  {
   "cell_type": "code",
   "execution_count": 73,
   "metadata": {},
   "outputs": [
    {
     "name": "stdout",
     "output_type": "stream",
     "text": [
      "4.87 µs ± 75.7 ns per loop (mean ± std. dev. of 7 runs, 100000 loops each)\n"
     ]
    }
   ],
   "source": [
    "%timeit B+2"
   ]
  },
  {
   "cell_type": "code",
   "execution_count": 74,
   "metadata": {},
   "outputs": [],
   "source": [
    "B_np = np.zeros((nip,dim,dim))+2"
   ]
  },
  {
   "cell_type": "code",
   "execution_count": 75,
   "metadata": {},
   "outputs": [
    {
     "name": "stdout",
     "output_type": "stream",
     "text": [
      "1.32 µs ± 13.5 ns per loop (mean ± std. dev. of 7 runs, 1000000 loops each)\n"
     ]
    }
   ],
   "source": [
    "%timeit B_np+2"
   ]
  },
  {
   "cell_type": "code",
   "execution_count": 76,
   "metadata": {},
   "outputs": [
    {
     "name": "stdout",
     "output_type": "stream",
     "text": [
      "4.96 µs ± 69.1 ns per loop (mean ± std. dev. of 7 runs, 100000 loops each)\n"
     ]
    }
   ],
   "source": [
    "%timeit b+B"
   ]
  },
  {
   "cell_type": "code",
   "execution_count": 77,
   "metadata": {},
   "outputs": [
    {
     "data": {
      "text/plain": [
       "dmatfe< nip: 27, \n",
       "(Integration point - 0) \n",
       "-------------------------\n",
       "[[6.5 6.5 6.5]\n",
       " [6.5 6.5 6.5]\n",
       " [6.5 6.5 6.5]]\n",
       "-------------------------\n",
       "(Integration point - 1) \n",
       "-------------------------\n",
       "[[6.5 6.5 6.5]\n",
       " [6.5 6.5 6.5]\n",
       " [6.5 6.5 6.5]]\n",
       "-------------------------\n",
       "(Integration point - 2) \n",
       "-------------------------\n",
       "[[17. 17. 17.]\n",
       " [17. 17. 17.]\n",
       " [17. 17. 17.]]\n",
       "-------------------------\n",
       "(Integration point - 3) \n",
       "-------------------------\n",
       "[[6.5 6.5 6.5]\n",
       " [6.5 6.5 6.5]\n",
       " [6.5 6.5 6.5]]\n",
       "-------------------------\n",
       "(Integration point - 4) \n",
       "-------------------------\n",
       "[[6.5 6.5 6.5]\n",
       " [6.5 6.5 6.5]\n",
       " [6.5 6.5 6.5]]\n",
       "-------------------------\n",
       "(Integration point - 5) \n",
       "-------------------------\n",
       "[[6.5 6.5 6.5]\n",
       " [6.5 6.5 6.5]\n",
       " [6.5 6.5 6.5]]\n",
       "-------------------------\n",
       "(Integration point - 6) \n",
       "-------------------------\n",
       "[[6.5 6.5 6.5]\n",
       " [6.5 6.5 6.5]\n",
       " [6.5 6.5 6.5]]\n",
       "-------------------------\n",
       "(Integration point - 7) \n",
       "-------------------------\n",
       "[[6.5 6.5 6.5]\n",
       " [6.5 6.5 6.5]\n",
       " [6.5 6.5 6.5]]\n",
       "-------------------------\n",
       "(Integration point - 8) \n",
       "-------------------------\n",
       "[[6.5 6.5 6.5]\n",
       " [6.5 6.5 6.5]\n",
       " [6.5 6.5 6.5]]\n",
       "-------------------------\n",
       "(Integration point - 9) \n",
       "-------------------------\n",
       "[[6.5 6.5 6.5]\n",
       " [6.5 6.5 6.5]\n",
       " [6.5 6.5 6.5]]\n",
       "-------------------------\n",
       "(Integration point - 10) \n",
       "-------------------------\n",
       "[[6.5 6.5 6.5]\n",
       " [6.5 6.5 6.5]\n",
       " [6.5 6.5 6.5]]\n",
       "-------------------------\n",
       "(Integration point - 11) \n",
       "-------------------------\n",
       "[[6.5 6.5 6.5]\n",
       " [6.5 6.5 6.5]\n",
       " [6.5 6.5 6.5]]\n",
       "-------------------------\n",
       "(Integration point - 12) \n",
       "-------------------------\n",
       "[[6.5 6.5 6.5]\n",
       " [6.5 6.5 6.5]\n",
       " [6.5 6.5 6.5]]\n",
       "-------------------------\n",
       "(Integration point - 13) \n",
       "-------------------------\n",
       "[[6.5 6.5 6.5]\n",
       " [6.5 6.5 6.5]\n",
       " [6.5 6.5 6.5]]\n",
       "-------------------------\n",
       "(Integration point - 14) \n",
       "-------------------------\n",
       "[[6.5 6.5 6.5]\n",
       " [6.5 6.5 6.5]\n",
       " [6.5 6.5 6.5]]\n",
       "-------------------------\n",
       "(Integration point - 15) \n",
       "-------------------------\n",
       "[[6.5 6.5 6.5]\n",
       " [6.5 6.5 6.5]\n",
       " [6.5 6.5 6.5]]\n",
       "-------------------------\n",
       "(Integration point - 16) \n",
       "-------------------------\n",
       "[[6.5 6.5 6.5]\n",
       " [6.5 6.5 6.5]\n",
       " [6.5 6.5 6.5]]\n",
       "-------------------------\n",
       "(Integration point - 17) \n",
       "-------------------------\n",
       "[[6.5 6.5 6.5]\n",
       " [6.5 6.5 6.5]\n",
       " [6.5 6.5 6.5]]\n",
       "-------------------------\n",
       "(Integration point - 18) \n",
       "-------------------------\n",
       "[[6.5 6.5 6.5]\n",
       " [6.5 6.5 6.5]\n",
       " [6.5 6.5 6.5]]\n",
       "-------------------------\n",
       "(Integration point - 19) \n",
       "-------------------------\n",
       "[[6.5 6.5 6.5]\n",
       " [6.5 6.5 6.5]\n",
       " [6.5 6.5 6.5]]\n",
       "-------------------------\n",
       "(Integration point - 20) \n",
       "-------------------------\n",
       "[[6.5 6.5 6.5]\n",
       " [6.5 6.5 6.5]\n",
       " [6.5 6.5 6.5]]\n",
       "-------------------------\n",
       "(Integration point - 21) \n",
       "-------------------------\n",
       "[[6.5 6.5 6.5]\n",
       " [6.5 6.5 6.5]\n",
       " [6.5 6.5 6.5]]\n",
       "-------------------------\n",
       "(Integration point - 22) \n",
       "-------------------------\n",
       "[[6.5 6.5 6.5]\n",
       " [6.5 6.5 6.5]\n",
       " [6.5 6.5 6.5]]\n",
       "-------------------------\n",
       "(Integration point - 23) \n",
       "-------------------------\n",
       "[[6.5 6.5 6.5]\n",
       " [6.5 6.5 6.5]\n",
       " [6.5 6.5 6.5]]\n",
       "-------------------------\n",
       "(Integration point - 24) \n",
       "-------------------------\n",
       "[[6.5 6.5 6.5]\n",
       " [6.5 6.5 6.5]\n",
       " [6.5 6.5 6.5]]\n",
       "-------------------------\n",
       "(Integration point - 25) \n",
       "-------------------------\n",
       "[[6.5 6.5 6.5]\n",
       " [6.5 6.5 6.5]\n",
       " [6.5 6.5 6.5]]\n",
       "-------------------------\n",
       "(Integration point - 26) \n",
       "-------------------------\n",
       "[[6.5 6.5 6.5]\n",
       " [6.5 6.5 6.5]\n",
       " [6.5 6.5 6.5]]\n",
       "-------------------------\n",
       ">"
      ]
     },
     "execution_count": 77,
     "metadata": {},
     "output_type": "execute_result"
    }
   ],
   "source": [
    "b+B"
   ]
  },
  {
   "cell_type": "code",
   "execution_count": 78,
   "metadata": {},
   "outputs": [
    {
     "data": {
      "text/plain": [
       "array([[[ 6.5,  6.5,  6.5],\n",
       "        [ 6.5,  6.5,  6.5],\n",
       "        [ 6.5,  6.5,  6.5]],\n",
       "\n",
       "       [[ 6.5,  6.5,  6.5],\n",
       "        [ 6.5,  6.5,  6.5],\n",
       "        [ 6.5,  6.5,  6.5]],\n",
       "\n",
       "       [[17. , 17. , 17. ],\n",
       "        [17. , 17. , 17. ],\n",
       "        [17. , 17. , 17. ]],\n",
       "\n",
       "       [[ 6.5,  6.5,  6.5],\n",
       "        [ 6.5,  6.5,  6.5],\n",
       "        [ 6.5,  6.5,  6.5]],\n",
       "\n",
       "       [[ 6.5,  6.5,  6.5],\n",
       "        [ 6.5,  6.5,  6.5],\n",
       "        [ 6.5,  6.5,  6.5]],\n",
       "\n",
       "       [[ 6.5,  6.5,  6.5],\n",
       "        [ 6.5,  6.5,  6.5],\n",
       "        [ 6.5,  6.5,  6.5]],\n",
       "\n",
       "       [[ 6.5,  6.5,  6.5],\n",
       "        [ 6.5,  6.5,  6.5],\n",
       "        [ 6.5,  6.5,  6.5]],\n",
       "\n",
       "       [[ 6.5,  6.5,  6.5],\n",
       "        [ 6.5,  6.5,  6.5],\n",
       "        [ 6.5,  6.5,  6.5]],\n",
       "\n",
       "       [[ 6.5,  6.5,  6.5],\n",
       "        [ 6.5,  6.5,  6.5],\n",
       "        [ 6.5,  6.5,  6.5]],\n",
       "\n",
       "       [[ 6.5,  6.5,  6.5],\n",
       "        [ 6.5,  6.5,  6.5],\n",
       "        [ 6.5,  6.5,  6.5]],\n",
       "\n",
       "       [[ 6.5,  6.5,  6.5],\n",
       "        [ 6.5,  6.5,  6.5],\n",
       "        [ 6.5,  6.5,  6.5]],\n",
       "\n",
       "       [[ 6.5,  6.5,  6.5],\n",
       "        [ 6.5,  6.5,  6.5],\n",
       "        [ 6.5,  6.5,  6.5]],\n",
       "\n",
       "       [[ 6.5,  6.5,  6.5],\n",
       "        [ 6.5,  6.5,  6.5],\n",
       "        [ 6.5,  6.5,  6.5]],\n",
       "\n",
       "       [[ 6.5,  6.5,  6.5],\n",
       "        [ 6.5,  6.5,  6.5],\n",
       "        [ 6.5,  6.5,  6.5]],\n",
       "\n",
       "       [[ 6.5,  6.5,  6.5],\n",
       "        [ 6.5,  6.5,  6.5],\n",
       "        [ 6.5,  6.5,  6.5]],\n",
       "\n",
       "       [[ 6.5,  6.5,  6.5],\n",
       "        [ 6.5,  6.5,  6.5],\n",
       "        [ 6.5,  6.5,  6.5]],\n",
       "\n",
       "       [[ 6.5,  6.5,  6.5],\n",
       "        [ 6.5,  6.5,  6.5],\n",
       "        [ 6.5,  6.5,  6.5]],\n",
       "\n",
       "       [[ 6.5,  6.5,  6.5],\n",
       "        [ 6.5,  6.5,  6.5],\n",
       "        [ 6.5,  6.5,  6.5]],\n",
       "\n",
       "       [[ 6.5,  6.5,  6.5],\n",
       "        [ 6.5,  6.5,  6.5],\n",
       "        [ 6.5,  6.5,  6.5]],\n",
       "\n",
       "       [[ 6.5,  6.5,  6.5],\n",
       "        [ 6.5,  6.5,  6.5],\n",
       "        [ 6.5,  6.5,  6.5]],\n",
       "\n",
       "       [[ 6.5,  6.5,  6.5],\n",
       "        [ 6.5,  6.5,  6.5],\n",
       "        [ 6.5,  6.5,  6.5]],\n",
       "\n",
       "       [[ 6.5,  6.5,  6.5],\n",
       "        [ 6.5,  6.5,  6.5],\n",
       "        [ 6.5,  6.5,  6.5]],\n",
       "\n",
       "       [[ 6.5,  6.5,  6.5],\n",
       "        [ 6.5,  6.5,  6.5],\n",
       "        [ 6.5,  6.5,  6.5]],\n",
       "\n",
       "       [[ 6.5,  6.5,  6.5],\n",
       "        [ 6.5,  6.5,  6.5],\n",
       "        [ 6.5,  6.5,  6.5]],\n",
       "\n",
       "       [[ 6.5,  6.5,  6.5],\n",
       "        [ 6.5,  6.5,  6.5],\n",
       "        [ 6.5,  6.5,  6.5]],\n",
       "\n",
       "       [[ 6.5,  6.5,  6.5],\n",
       "        [ 6.5,  6.5,  6.5],\n",
       "        [ 6.5,  6.5,  6.5]],\n",
       "\n",
       "       [[ 6.5,  6.5,  6.5],\n",
       "        [ 6.5,  6.5,  6.5],\n",
       "        [ 6.5,  6.5,  6.5]]])"
      ]
     },
     "execution_count": 78,
     "metadata": {},
     "output_type": "execute_result"
    }
   ],
   "source": [
    "b_np+B_np"
   ]
  },
  {
   "cell_type": "code",
   "execution_count": 79,
   "metadata": {},
   "outputs": [
    {
     "name": "stdout",
     "output_type": "stream",
     "text": [
      "2.22 µs ± 56.4 ns per loop (mean ± std. dev. of 7 runs, 100000 loops each)\n"
     ]
    }
   ],
   "source": [
    "%timeit B_np + b_np"
   ]
  },
  {
   "cell_type": "code",
   "execution_count": 80,
   "metadata": {},
   "outputs": [
    {
     "name": "stdout",
     "output_type": "stream",
     "text": [
      "4.72 µs ± 76.8 ns per loop (mean ± std. dev. of 7 runs, 100000 loops each)\n"
     ]
    }
   ],
   "source": [
    "%timeit B + b"
   ]
  },
  {
   "cell_type": "code",
   "execution_count": 81,
   "metadata": {},
   "outputs": [
    {
     "name": "stdout",
     "output_type": "stream",
     "text": [
      "97.6 ns ± 0.772 ns per loop (mean ± std. dev. of 7 runs, 10000000 loops each)\n"
     ]
    }
   ],
   "source": [
    "# Time of Gauss integration usign pyoti for Array.\n",
    "%timeit b.gauss_integrate( b )"
   ]
  },
  {
   "cell_type": "code",
   "execution_count": 82,
   "metadata": {},
   "outputs": [
    {
     "name": "stdout",
     "output_type": "stream",
     "text": [
      "388 ns ± 2.78 ns per loop (mean ± std. dev. of 7 runs, 1000000 loops each)\n"
     ]
    }
   ],
   "source": [
    "# Time of Gauss integration usign pyoti for Array.\n",
    "%timeit B.gauss_integrate( b )"
   ]
  },
  {
   "cell_type": "code",
   "execution_count": 83,
   "metadata": {},
   "outputs": [
    {
     "data": {
      "text/plain": [
       "751.5"
      ]
     },
     "execution_count": 83,
     "metadata": {},
     "output_type": "execute_result"
    }
   ],
   "source": [
    "b.gauss_integrate(b)"
   ]
  },
  {
   "cell_type": "code",
   "execution_count": 84,
   "metadata": {},
   "outputs": [
    {
     "data": {
      "text/plain": [
       "751.5"
      ]
     },
     "execution_count": 84,
     "metadata": {},
     "output_type": "execute_result"
    }
   ],
   "source": [
    "4.5*4.5*26+15*15"
   ]
  },
  {
   "cell_type": "code",
   "execution_count": 85,
   "metadata": {},
   "outputs": [
    {
     "name": "stdout",
     "output_type": "stream",
     "text": [
      "5.75 µs ± 52.7 ns per loop (mean ± std. dev. of 7 runs, 100000 loops each)\n"
     ]
    }
   ],
   "source": [
    "# Time  of Gauss integration using Numpy for scalar.\n",
    "%timeit np.sum(b_np*b_np,axis=0)"
   ]
  },
  {
   "cell_type": "code",
   "execution_count": 86,
   "metadata": {},
   "outputs": [
    {
     "name": "stdout",
     "output_type": "stream",
     "text": [
      "8.85 µs ± 166 ns per loop (mean ± std. dev. of 7 runs, 100000 loops each)\n"
     ]
    }
   ],
   "source": [
    "# Time  of Gauss integration using Numpy for array.\n",
    "%timeit np.sum(B_np*b_np,axis=0)"
   ]
  },
  {
   "cell_type": "code",
   "execution_count": 88,
   "metadata": {},
   "outputs": [
    {
     "data": {
      "text/plain": [
       "array([[264., 264., 264.],\n",
       "       [264., 264., 264.],\n",
       "       [264., 264., 264.]])"
      ]
     },
     "execution_count": 88,
     "metadata": {},
     "output_type": "execute_result"
    }
   ],
   "source": [
    "B.gauss_integrate(b)"
   ]
  },
  {
   "cell_type": "code",
   "execution_count": 87,
   "metadata": {},
   "outputs": [
    {
     "data": {
      "text/plain": [
       "array([[264., 264., 264.],\n",
       "       [264., 264., 264.],\n",
       "       [264., 264., 264.]])"
      ]
     },
     "execution_count": 87,
     "metadata": {},
     "output_type": "execute_result"
    }
   ],
   "source": [
    "np.sum(B_np*b_np,axis=0)"
   ]
  },
  {
   "cell_type": "code",
   "execution_count": 89,
   "metadata": {},
   "outputs": [
    {
     "name": "stdout",
     "output_type": "stream",
     "text": [
      "466 ns ± 2.12 ns per loop (mean ± std. dev. of 7 runs, 1000000 loops each)\n"
     ]
    }
   ],
   "source": [
    "res = B.copy()\n",
    "%timeit r.sum(B,B,out=res)"
   ]
  },
  {
   "cell_type": "code",
   "execution_count": 90,
   "metadata": {},
   "outputs": [
    {
     "name": "stdout",
     "output_type": "stream",
     "text": [
      "4.73 µs ± 77.3 ns per loop (mean ± std. dev. of 7 runs, 100000 loops each)\n"
     ]
    }
   ],
   "source": [
    "%timeit B+B"
   ]
  },
  {
   "cell_type": "code",
   "execution_count": 91,
   "metadata": {},
   "outputs": [
    {
     "data": {
      "text/plain": [
       "dmatfe< nip: 27, \n",
       "(Integration point - 0) \n",
       "-------------------------\n",
       "[[4. 4. 4.]\n",
       " [4. 4. 4.]\n",
       " [4. 4. 4.]]\n",
       "-------------------------\n",
       "(Integration point - 1) \n",
       "-------------------------\n",
       "[[4. 4. 4.]\n",
       " [4. 4. 4.]\n",
       " [4. 4. 4.]]\n",
       "-------------------------\n",
       "(Integration point - 2) \n",
       "-------------------------\n",
       "[[4. 4. 4.]\n",
       " [4. 4. 4.]\n",
       " [4. 4. 4.]]\n",
       "-------------------------\n",
       "(Integration point - 3) \n",
       "-------------------------\n",
       "[[4. 4. 4.]\n",
       " [4. 4. 4.]\n",
       " [4. 4. 4.]]\n",
       "-------------------------\n",
       "(Integration point - 4) \n",
       "-------------------------\n",
       "[[4. 4. 4.]\n",
       " [4. 4. 4.]\n",
       " [4. 4. 4.]]\n",
       "-------------------------\n",
       "(Integration point - 5) \n",
       "-------------------------\n",
       "[[4. 4. 4.]\n",
       " [4. 4. 4.]\n",
       " [4. 4. 4.]]\n",
       "-------------------------\n",
       "(Integration point - 6) \n",
       "-------------------------\n",
       "[[4. 4. 4.]\n",
       " [4. 4. 4.]\n",
       " [4. 4. 4.]]\n",
       "-------------------------\n",
       "(Integration point - 7) \n",
       "-------------------------\n",
       "[[4. 4. 4.]\n",
       " [4. 4. 4.]\n",
       " [4. 4. 4.]]\n",
       "-------------------------\n",
       "(Integration point - 8) \n",
       "-------------------------\n",
       "[[4. 4. 4.]\n",
       " [4. 4. 4.]\n",
       " [4. 4. 4.]]\n",
       "-------------------------\n",
       "(Integration point - 9) \n",
       "-------------------------\n",
       "[[4. 4. 4.]\n",
       " [4. 4. 4.]\n",
       " [4. 4. 4.]]\n",
       "-------------------------\n",
       "(Integration point - 10) \n",
       "-------------------------\n",
       "[[4. 4. 4.]\n",
       " [4. 4. 4.]\n",
       " [4. 4. 4.]]\n",
       "-------------------------\n",
       "(Integration point - 11) \n",
       "-------------------------\n",
       "[[4. 4. 4.]\n",
       " [4. 4. 4.]\n",
       " [4. 4. 4.]]\n",
       "-------------------------\n",
       "(Integration point - 12) \n",
       "-------------------------\n",
       "[[4. 4. 4.]\n",
       " [4. 4. 4.]\n",
       " [4. 4. 4.]]\n",
       "-------------------------\n",
       "(Integration point - 13) \n",
       "-------------------------\n",
       "[[4. 4. 4.]\n",
       " [4. 4. 4.]\n",
       " [4. 4. 4.]]\n",
       "-------------------------\n",
       "(Integration point - 14) \n",
       "-------------------------\n",
       "[[4. 4. 4.]\n",
       " [4. 4. 4.]\n",
       " [4. 4. 4.]]\n",
       "-------------------------\n",
       "(Integration point - 15) \n",
       "-------------------------\n",
       "[[4. 4. 4.]\n",
       " [4. 4. 4.]\n",
       " [4. 4. 4.]]\n",
       "-------------------------\n",
       "(Integration point - 16) \n",
       "-------------------------\n",
       "[[4. 4. 4.]\n",
       " [4. 4. 4.]\n",
       " [4. 4. 4.]]\n",
       "-------------------------\n",
       "(Integration point - 17) \n",
       "-------------------------\n",
       "[[4. 4. 4.]\n",
       " [4. 4. 4.]\n",
       " [4. 4. 4.]]\n",
       "-------------------------\n",
       "(Integration point - 18) \n",
       "-------------------------\n",
       "[[4. 4. 4.]\n",
       " [4. 4. 4.]\n",
       " [4. 4. 4.]]\n",
       "-------------------------\n",
       "(Integration point - 19) \n",
       "-------------------------\n",
       "[[4. 4. 4.]\n",
       " [4. 4. 4.]\n",
       " [4. 4. 4.]]\n",
       "-------------------------\n",
       "(Integration point - 20) \n",
       "-------------------------\n",
       "[[4. 4. 4.]\n",
       " [4. 4. 4.]\n",
       " [4. 4. 4.]]\n",
       "-------------------------\n",
       "(Integration point - 21) \n",
       "-------------------------\n",
       "[[4. 4. 4.]\n",
       " [4. 4. 4.]\n",
       " [4. 4. 4.]]\n",
       "-------------------------\n",
       "(Integration point - 22) \n",
       "-------------------------\n",
       "[[4. 4. 4.]\n",
       " [4. 4. 4.]\n",
       " [4. 4. 4.]]\n",
       "-------------------------\n",
       "(Integration point - 23) \n",
       "-------------------------\n",
       "[[4. 4. 4.]\n",
       " [4. 4. 4.]\n",
       " [4. 4. 4.]]\n",
       "-------------------------\n",
       "(Integration point - 24) \n",
       "-------------------------\n",
       "[[4. 4. 4.]\n",
       " [4. 4. 4.]\n",
       " [4. 4. 4.]]\n",
       "-------------------------\n",
       "(Integration point - 25) \n",
       "-------------------------\n",
       "[[4. 4. 4.]\n",
       " [4. 4. 4.]\n",
       " [4. 4. 4.]]\n",
       "-------------------------\n",
       "(Integration point - 26) \n",
       "-------------------------\n",
       "[[4. 4. 4.]\n",
       " [4. 4. 4.]\n",
       " [4. 4. 4.]]\n",
       "-------------------------\n",
       ">"
      ]
     },
     "execution_count": 91,
     "metadata": {},
     "output_type": "execute_result"
    }
   ],
   "source": [
    "B+B"
   ]
  },
  {
   "cell_type": "code",
   "execution_count": 92,
   "metadata": {},
   "outputs": [
    {
     "data": {
      "text/plain": [
       "dmatfe< nip: 27, \n",
       "(Integration point - 0) \n",
       "-------------------------\n",
       "[[0. 0. 0.]\n",
       " [0. 0. 0.]\n",
       " [0. 0. 0.]]\n",
       "-------------------------\n",
       "(Integration point - 1) \n",
       "-------------------------\n",
       "[[0. 0. 0.]\n",
       " [0. 0. 0.]\n",
       " [0. 0. 0.]]\n",
       "-------------------------\n",
       "(Integration point - 2) \n",
       "-------------------------\n",
       "[[0. 0. 0.]\n",
       " [0. 0. 0.]\n",
       " [0. 0. 0.]]\n",
       "-------------------------\n",
       "(Integration point - 3) \n",
       "-------------------------\n",
       "[[0. 0. 0.]\n",
       " [0. 0. 0.]\n",
       " [0. 0. 0.]]\n",
       "-------------------------\n",
       "(Integration point - 4) \n",
       "-------------------------\n",
       "[[0. 0. 0.]\n",
       " [0. 0. 0.]\n",
       " [0. 0. 0.]]\n",
       "-------------------------\n",
       "(Integration point - 5) \n",
       "-------------------------\n",
       "[[0. 0. 0.]\n",
       " [0. 0. 0.]\n",
       " [0. 0. 0.]]\n",
       "-------------------------\n",
       "(Integration point - 6) \n",
       "-------------------------\n",
       "[[0. 0. 0.]\n",
       " [0. 0. 0.]\n",
       " [0. 0. 0.]]\n",
       "-------------------------\n",
       "(Integration point - 7) \n",
       "-------------------------\n",
       "[[0. 0. 0.]\n",
       " [0. 0. 0.]\n",
       " [0. 0. 0.]]\n",
       "-------------------------\n",
       "(Integration point - 8) \n",
       "-------------------------\n",
       "[[0. 0. 0.]\n",
       " [0. 0. 0.]\n",
       " [0. 0. 0.]]\n",
       "-------------------------\n",
       "(Integration point - 9) \n",
       "-------------------------\n",
       "[[0. 0. 0.]\n",
       " [0. 0. 0.]\n",
       " [0. 0. 0.]]\n",
       "-------------------------\n",
       "(Integration point - 10) \n",
       "-------------------------\n",
       "[[0. 0. 0.]\n",
       " [0. 0. 0.]\n",
       " [0. 0. 0.]]\n",
       "-------------------------\n",
       "(Integration point - 11) \n",
       "-------------------------\n",
       "[[0. 0. 0.]\n",
       " [0. 0. 0.]\n",
       " [0. 0. 0.]]\n",
       "-------------------------\n",
       "(Integration point - 12) \n",
       "-------------------------\n",
       "[[0. 0. 0.]\n",
       " [0. 0. 0.]\n",
       " [0. 0. 0.]]\n",
       "-------------------------\n",
       "(Integration point - 13) \n",
       "-------------------------\n",
       "[[0. 0. 0.]\n",
       " [0. 0. 0.]\n",
       " [0. 0. 0.]]\n",
       "-------------------------\n",
       "(Integration point - 14) \n",
       "-------------------------\n",
       "[[0. 0. 0.]\n",
       " [0. 0. 0.]\n",
       " [0. 0. 0.]]\n",
       "-------------------------\n",
       "(Integration point - 15) \n",
       "-------------------------\n",
       "[[0. 0. 0.]\n",
       " [0. 0. 0.]\n",
       " [0. 0. 0.]]\n",
       "-------------------------\n",
       "(Integration point - 16) \n",
       "-------------------------\n",
       "[[0. 0. 0.]\n",
       " [0. 0. 0.]\n",
       " [0. 0. 0.]]\n",
       "-------------------------\n",
       "(Integration point - 17) \n",
       "-------------------------\n",
       "[[0. 0. 0.]\n",
       " [0. 0. 0.]\n",
       " [0. 0. 0.]]\n",
       "-------------------------\n",
       "(Integration point - 18) \n",
       "-------------------------\n",
       "[[0. 0. 0.]\n",
       " [0. 0. 0.]\n",
       " [0. 0. 0.]]\n",
       "-------------------------\n",
       "(Integration point - 19) \n",
       "-------------------------\n",
       "[[0. 0. 0.]\n",
       " [0. 0. 0.]\n",
       " [0. 0. 0.]]\n",
       "-------------------------\n",
       "(Integration point - 20) \n",
       "-------------------------\n",
       "[[0. 0. 0.]\n",
       " [0. 0. 0.]\n",
       " [0. 0. 0.]]\n",
       "-------------------------\n",
       "(Integration point - 21) \n",
       "-------------------------\n",
       "[[0. 0. 0.]\n",
       " [0. 0. 0.]\n",
       " [0. 0. 0.]]\n",
       "-------------------------\n",
       "(Integration point - 22) \n",
       "-------------------------\n",
       "[[0. 0. 0.]\n",
       " [0. 0. 0.]\n",
       " [0. 0. 0.]]\n",
       "-------------------------\n",
       "(Integration point - 23) \n",
       "-------------------------\n",
       "[[0. 0. 0.]\n",
       " [0. 0. 0.]\n",
       " [0. 0. 0.]]\n",
       "-------------------------\n",
       "(Integration point - 24) \n",
       "-------------------------\n",
       "[[0. 0. 0.]\n",
       " [0. 0. 0.]\n",
       " [0. 0. 0.]]\n",
       "-------------------------\n",
       "(Integration point - 25) \n",
       "-------------------------\n",
       "[[0. 0. 0.]\n",
       " [0. 0. 0.]\n",
       " [0. 0. 0.]]\n",
       "-------------------------\n",
       "(Integration point - 26) \n",
       "-------------------------\n",
       "[[0. 0. 0.]\n",
       " [0. 0. 0.]\n",
       " [0. 0. 0.]]\n",
       "-------------------------\n",
       ">"
      ]
     },
     "execution_count": 92,
     "metadata": {},
     "output_type": "execute_result"
    }
   ],
   "source": [
    "res.set(0)\n",
    "res"
   ]
  },
  {
   "cell_type": "code",
   "execution_count": 93,
   "metadata": {},
   "outputs": [
    {
     "name": "stdout",
     "output_type": "stream",
     "text": [
      "466 ns ± 4.91 ns per loop (mean ± std. dev. of 7 runs, 1000000 loops each)\n"
     ]
    },
    {
     "data": {
      "text/plain": [
       "dmatfe< nip: 27, \n",
       "(Integration point - 0) \n",
       "-------------------------\n",
       "[[4. 4. 4.]\n",
       " [4. 4. 4.]\n",
       " [4. 4. 4.]]\n",
       "-------------------------\n",
       "(Integration point - 1) \n",
       "-------------------------\n",
       "[[4. 4. 4.]\n",
       " [4. 4. 4.]\n",
       " [4. 4. 4.]]\n",
       "-------------------------\n",
       "(Integration point - 2) \n",
       "-------------------------\n",
       "[[4. 4. 4.]\n",
       " [4. 4. 4.]\n",
       " [4. 4. 4.]]\n",
       "-------------------------\n",
       "(Integration point - 3) \n",
       "-------------------------\n",
       "[[4. 4. 4.]\n",
       " [4. 4. 4.]\n",
       " [4. 4. 4.]]\n",
       "-------------------------\n",
       "(Integration point - 4) \n",
       "-------------------------\n",
       "[[4. 4. 4.]\n",
       " [4. 4. 4.]\n",
       " [4. 4. 4.]]\n",
       "-------------------------\n",
       "(Integration point - 5) \n",
       "-------------------------\n",
       "[[4. 4. 4.]\n",
       " [4. 4. 4.]\n",
       " [4. 4. 4.]]\n",
       "-------------------------\n",
       "(Integration point - 6) \n",
       "-------------------------\n",
       "[[4. 4. 4.]\n",
       " [4. 4. 4.]\n",
       " [4. 4. 4.]]\n",
       "-------------------------\n",
       "(Integration point - 7) \n",
       "-------------------------\n",
       "[[4. 4. 4.]\n",
       " [4. 4. 4.]\n",
       " [4. 4. 4.]]\n",
       "-------------------------\n",
       "(Integration point - 8) \n",
       "-------------------------\n",
       "[[4. 4. 4.]\n",
       " [4. 4. 4.]\n",
       " [4. 4. 4.]]\n",
       "-------------------------\n",
       "(Integration point - 9) \n",
       "-------------------------\n",
       "[[4. 4. 4.]\n",
       " [4. 4. 4.]\n",
       " [4. 4. 4.]]\n",
       "-------------------------\n",
       "(Integration point - 10) \n",
       "-------------------------\n",
       "[[4. 4. 4.]\n",
       " [4. 4. 4.]\n",
       " [4. 4. 4.]]\n",
       "-------------------------\n",
       "(Integration point - 11) \n",
       "-------------------------\n",
       "[[4. 4. 4.]\n",
       " [4. 4. 4.]\n",
       " [4. 4. 4.]]\n",
       "-------------------------\n",
       "(Integration point - 12) \n",
       "-------------------------\n",
       "[[4. 4. 4.]\n",
       " [4. 4. 4.]\n",
       " [4. 4. 4.]]\n",
       "-------------------------\n",
       "(Integration point - 13) \n",
       "-------------------------\n",
       "[[4. 4. 4.]\n",
       " [4. 4. 4.]\n",
       " [4. 4. 4.]]\n",
       "-------------------------\n",
       "(Integration point - 14) \n",
       "-------------------------\n",
       "[[4. 4. 4.]\n",
       " [4. 4. 4.]\n",
       " [4. 4. 4.]]\n",
       "-------------------------\n",
       "(Integration point - 15) \n",
       "-------------------------\n",
       "[[4. 4. 4.]\n",
       " [4. 4. 4.]\n",
       " [4. 4. 4.]]\n",
       "-------------------------\n",
       "(Integration point - 16) \n",
       "-------------------------\n",
       "[[4. 4. 4.]\n",
       " [4. 4. 4.]\n",
       " [4. 4. 4.]]\n",
       "-------------------------\n",
       "(Integration point - 17) \n",
       "-------------------------\n",
       "[[4. 4. 4.]\n",
       " [4. 4. 4.]\n",
       " [4. 4. 4.]]\n",
       "-------------------------\n",
       "(Integration point - 18) \n",
       "-------------------------\n",
       "[[4. 4. 4.]\n",
       " [4. 4. 4.]\n",
       " [4. 4. 4.]]\n",
       "-------------------------\n",
       "(Integration point - 19) \n",
       "-------------------------\n",
       "[[4. 4. 4.]\n",
       " [4. 4. 4.]\n",
       " [4. 4. 4.]]\n",
       "-------------------------\n",
       "(Integration point - 20) \n",
       "-------------------------\n",
       "[[4. 4. 4.]\n",
       " [4. 4. 4.]\n",
       " [4. 4. 4.]]\n",
       "-------------------------\n",
       "(Integration point - 21) \n",
       "-------------------------\n",
       "[[4. 4. 4.]\n",
       " [4. 4. 4.]\n",
       " [4. 4. 4.]]\n",
       "-------------------------\n",
       "(Integration point - 22) \n",
       "-------------------------\n",
       "[[4. 4. 4.]\n",
       " [4. 4. 4.]\n",
       " [4. 4. 4.]]\n",
       "-------------------------\n",
       "(Integration point - 23) \n",
       "-------------------------\n",
       "[[4. 4. 4.]\n",
       " [4. 4. 4.]\n",
       " [4. 4. 4.]]\n",
       "-------------------------\n",
       "(Integration point - 24) \n",
       "-------------------------\n",
       "[[4. 4. 4.]\n",
       " [4. 4. 4.]\n",
       " [4. 4. 4.]]\n",
       "-------------------------\n",
       "(Integration point - 25) \n",
       "-------------------------\n",
       "[[4. 4. 4.]\n",
       " [4. 4. 4.]\n",
       " [4. 4. 4.]]\n",
       "-------------------------\n",
       "(Integration point - 26) \n",
       "-------------------------\n",
       "[[4. 4. 4.]\n",
       " [4. 4. 4.]\n",
       " [4. 4. 4.]]\n",
       "-------------------------\n",
       ">"
      ]
     },
     "execution_count": 93,
     "metadata": {},
     "output_type": "execute_result"
    }
   ],
   "source": [
    "%timeit r.mul(B,B,out=res)\n",
    "res"
   ]
  },
  {
   "cell_type": "code",
   "execution_count": 94,
   "metadata": {},
   "outputs": [
    {
     "name": "stdout",
     "output_type": "stream",
     "text": [
      "418 ns ± 4.25 ns per loop (mean ± std. dev. of 7 runs, 1000000 loops each)\n"
     ]
    },
    {
     "data": {
      "text/plain": [
       "dmatfe< nip: 27, \n",
       "(Integration point - 0) \n",
       "-------------------------\n",
       "[[9. 9. 9.]\n",
       " [9. 9. 9.]\n",
       " [9. 9. 9.]]\n",
       "-------------------------\n",
       "(Integration point - 1) \n",
       "-------------------------\n",
       "[[9. 9. 9.]\n",
       " [9. 9. 9.]\n",
       " [9. 9. 9.]]\n",
       "-------------------------\n",
       "(Integration point - 2) \n",
       "-------------------------\n",
       "[[30. 30. 30.]\n",
       " [30. 30. 30.]\n",
       " [30. 30. 30.]]\n",
       "-------------------------\n",
       "(Integration point - 3) \n",
       "-------------------------\n",
       "[[9. 9. 9.]\n",
       " [9. 9. 9.]\n",
       " [9. 9. 9.]]\n",
       "-------------------------\n",
       "(Integration point - 4) \n",
       "-------------------------\n",
       "[[9. 9. 9.]\n",
       " [9. 9. 9.]\n",
       " [9. 9. 9.]]\n",
       "-------------------------\n",
       "(Integration point - 5) \n",
       "-------------------------\n",
       "[[9. 9. 9.]\n",
       " [9. 9. 9.]\n",
       " [9. 9. 9.]]\n",
       "-------------------------\n",
       "(Integration point - 6) \n",
       "-------------------------\n",
       "[[9. 9. 9.]\n",
       " [9. 9. 9.]\n",
       " [9. 9. 9.]]\n",
       "-------------------------\n",
       "(Integration point - 7) \n",
       "-------------------------\n",
       "[[9. 9. 9.]\n",
       " [9. 9. 9.]\n",
       " [9. 9. 9.]]\n",
       "-------------------------\n",
       "(Integration point - 8) \n",
       "-------------------------\n",
       "[[9. 9. 9.]\n",
       " [9. 9. 9.]\n",
       " [9. 9. 9.]]\n",
       "-------------------------\n",
       "(Integration point - 9) \n",
       "-------------------------\n",
       "[[9. 9. 9.]\n",
       " [9. 9. 9.]\n",
       " [9. 9. 9.]]\n",
       "-------------------------\n",
       "(Integration point - 10) \n",
       "-------------------------\n",
       "[[9. 9. 9.]\n",
       " [9. 9. 9.]\n",
       " [9. 9. 9.]]\n",
       "-------------------------\n",
       "(Integration point - 11) \n",
       "-------------------------\n",
       "[[9. 9. 9.]\n",
       " [9. 9. 9.]\n",
       " [9. 9. 9.]]\n",
       "-------------------------\n",
       "(Integration point - 12) \n",
       "-------------------------\n",
       "[[9. 9. 9.]\n",
       " [9. 9. 9.]\n",
       " [9. 9. 9.]]\n",
       "-------------------------\n",
       "(Integration point - 13) \n",
       "-------------------------\n",
       "[[9. 9. 9.]\n",
       " [9. 9. 9.]\n",
       " [9. 9. 9.]]\n",
       "-------------------------\n",
       "(Integration point - 14) \n",
       "-------------------------\n",
       "[[9. 9. 9.]\n",
       " [9. 9. 9.]\n",
       " [9. 9. 9.]]\n",
       "-------------------------\n",
       "(Integration point - 15) \n",
       "-------------------------\n",
       "[[9. 9. 9.]\n",
       " [9. 9. 9.]\n",
       " [9. 9. 9.]]\n",
       "-------------------------\n",
       "(Integration point - 16) \n",
       "-------------------------\n",
       "[[9. 9. 9.]\n",
       " [9. 9. 9.]\n",
       " [9. 9. 9.]]\n",
       "-------------------------\n",
       "(Integration point - 17) \n",
       "-------------------------\n",
       "[[9. 9. 9.]\n",
       " [9. 9. 9.]\n",
       " [9. 9. 9.]]\n",
       "-------------------------\n",
       "(Integration point - 18) \n",
       "-------------------------\n",
       "[[9. 9. 9.]\n",
       " [9. 9. 9.]\n",
       " [9. 9. 9.]]\n",
       "-------------------------\n",
       "(Integration point - 19) \n",
       "-------------------------\n",
       "[[9. 9. 9.]\n",
       " [9. 9. 9.]\n",
       " [9. 9. 9.]]\n",
       "-------------------------\n",
       "(Integration point - 20) \n",
       "-------------------------\n",
       "[[9. 9. 9.]\n",
       " [9. 9. 9.]\n",
       " [9. 9. 9.]]\n",
       "-------------------------\n",
       "(Integration point - 21) \n",
       "-------------------------\n",
       "[[9. 9. 9.]\n",
       " [9. 9. 9.]\n",
       " [9. 9. 9.]]\n",
       "-------------------------\n",
       "(Integration point - 22) \n",
       "-------------------------\n",
       "[[9. 9. 9.]\n",
       " [9. 9. 9.]\n",
       " [9. 9. 9.]]\n",
       "-------------------------\n",
       "(Integration point - 23) \n",
       "-------------------------\n",
       "[[9. 9. 9.]\n",
       " [9. 9. 9.]\n",
       " [9. 9. 9.]]\n",
       "-------------------------\n",
       "(Integration point - 24) \n",
       "-------------------------\n",
       "[[9. 9. 9.]\n",
       " [9. 9. 9.]\n",
       " [9. 9. 9.]]\n",
       "-------------------------\n",
       "(Integration point - 25) \n",
       "-------------------------\n",
       "[[9. 9. 9.]\n",
       " [9. 9. 9.]\n",
       " [9. 9. 9.]]\n",
       "-------------------------\n",
       "(Integration point - 26) \n",
       "-------------------------\n",
       "[[9. 9. 9.]\n",
       " [9. 9. 9.]\n",
       " [9. 9. 9.]]\n",
       "-------------------------\n",
       ">"
      ]
     },
     "execution_count": 94,
     "metadata": {},
     "output_type": "execute_result"
    }
   ],
   "source": [
    "\n",
    "%timeit r.mul(B,b,out=res)\n",
    "res"
   ]
  },
  {
   "cell_type": "code",
   "execution_count": 95,
   "metadata": {},
   "outputs": [
    {
     "name": "stdout",
     "output_type": "stream",
     "text": [
      "831 ns ± 6.35 ns per loop (mean ± std. dev. of 7 runs, 1000000 loops each)\n"
     ]
    }
   ],
   "source": [
    "res_np = B_np.copy()\n",
    "%timeit np.multiply(B_np,B_np,out=res_np)"
   ]
  },
  {
   "cell_type": "code",
   "execution_count": 96,
   "metadata": {},
   "outputs": [
    {
     "name": "stdout",
     "output_type": "stream",
     "text": [
      "702 ns ± 5.72 ns per loop (mean ± std. dev. of 7 runs, 1000000 loops each)\n"
     ]
    }
   ],
   "source": [
    "%timeit B_np*B_np"
   ]
  },
  {
   "cell_type": "code",
   "execution_count": 101,
   "metadata": {},
   "outputs": [],
   "source": [
    "B_spr = spr.csr_matrix((3,3))"
   ]
  },
  {
   "cell_type": "code",
   "execution_count": 102,
   "metadata": {},
   "outputs": [
    {
     "data": {
      "text/plain": [
       "True"
      ]
     },
     "execution_count": 102,
     "metadata": {},
     "output_type": "execute_result"
    }
   ],
   "source": [
    "type(B_spr) == spr.csr_matrix"
   ]
  },
  {
   "cell_type": "code",
   "execution_count": 103,
   "metadata": {},
   "outputs": [
    {
     "data": {
      "text/plain": [
       "True"
      ]
     },
     "execution_count": 103,
     "metadata": {},
     "output_type": "execute_result"
    }
   ],
   "source": [
    "isinstance(B_spr,spr.spmatrix)"
   ]
  },
  {
   "cell_type": "code",
   "execution_count": 40,
   "metadata": {},
   "outputs": [
    {
     "name": "stdout",
     "output_type": "stream",
     "text": [
      "4.48 µs ± 22.8 ns per loop (mean ± std. dev. of 7 runs, 100000 loops each)\n"
     ]
    }
   ],
   "source": []
  },
  {
   "cell_type": "code",
   "execution_count": null,
   "metadata": {},
   "outputs": [],
   "source": []
  }
 ],
 "metadata": {
  "kernelspec": {
   "display_name": "Python 3",
   "language": "python",
   "name": "python3"
  },
  "language_info": {
   "codemirror_mode": {
    "name": "ipython",
    "version": 3
   },
   "file_extension": ".py",
   "mimetype": "text/x-python",
   "name": "python",
   "nbconvert_exporter": "python",
   "pygments_lexer": "ipython3",
   "version": "3.7.3"
  }
 },
 "nbformat": 4,
 "nbformat_minor": 2
}
