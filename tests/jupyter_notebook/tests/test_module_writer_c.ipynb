{
 "cells": [
  {
   "cell_type": "code",
   "execution_count": 1,
   "metadata": {},
   "outputs": [],
   "source": [
    "import scipy.sparse as spr\n",
    "import scipy.sparse.linalg as spla\n",
    "import sys\n",
    "path2oti = '../../../build/'\n",
    "sys.path.append(path2oti) # Add path to OTI library.\n",
    "\n",
    "import pyoti.sparse as oti\n",
    "import pyoti.core   as coti\n",
    "from pyoti.cmod_writer import writer\n",
    "e  = oti.e\n",
    "np = oti.np"
   ]
  },
  {
   "cell_type": "code",
   "execution_count": 3,
   "metadata": {},
   "outputs": [],
   "source": [
    "w = writer(order=5,nbases=2,language='c',coeff_type='double')\n",
    "# w.write_file(filename='test_writer')"
   ]
  },
  {
   "cell_type": "code",
   "execution_count": 4,
   "metadata": {},
   "outputs": [
    {
     "name": "stdout",
     "output_type": "stream",
     "text": [
      "void onumm2n5_add_oo_to( onumm2n5_t* lhs, onumm2n5_t* rhs, onumm2n5_t* res){\n",
      " // Addition like function 'lhs + rhs'\n",
      " //  Real\n",
      " res->r = lhs->r + rhs->r;\n",
      " // Order 1\n",
      " res->e1 = lhs->e1 + rhs->e1;\n",
      " res->e2 = lhs->e2 + rhs->e2;\n",
      " // Order 2\n",
      " res->e11 = lhs->e11 + rhs->e11;\n",
      " res->e12 = lhs->e12 + rhs->e12;\n",
      " res->e22 = lhs->e22 + rhs->e22;\n",
      " // Order 3\n",
      " res->e111 = lhs->e111 + rhs->e111;\n",
      " res->e112 = lhs->e112 + rhs->e112;\n",
      " res->e122 = lhs->e122 + rhs->e122;\n",
      " res->e222 = lhs->e222 + rhs->e222;\n",
      " // Order 4\n",
      " res->e1111 = lhs->e1111 + rhs->e1111;\n",
      " res->e1112 = lhs->e1112 + rhs->e1112;\n",
      " res->e1122 = lhs->e1122 + rhs->e1122;\n",
      " res->e1222 = lhs->e1222 + rhs->e1222;\n",
      " res->e2222 = lhs->e2222 + rhs->e2222;\n",
      " // Order 5\n",
      " res->e11111 = lhs->e11111 + rhs->e11111;\n",
      " res->e11112 = lhs->e11112 + rhs->e11112;\n",
      " res->e11122 = lhs->e11122 + rhs->e11122;\n",
      " res->e11222 = lhs->e11222 + rhs->e11222;\n",
      " res->e12222 = lhs->e12222 + rhs->e12222;\n",
      " res->e22222 = lhs->e22222 + rhs->e22222;\n",
      "\n",
      "}\n",
      "\n"
     ]
    }
   ],
   "source": [
    "print(w.write_scalar_function( function_name = \"add\", is_elemental = True, level = 0, tab = \" \", \n",
    "    f_name = \"\", lhs_type= \"o\", lhs_ptr=True, rhs_type= \"o\", rhs_ptr=True, separator = \" + \", \n",
    "    f_open = \"\", f_close = \"\", addition = \" + \",generator = w.addition_like_function_oo, to=True,\n",
    "    overload = None ) )"
   ]
  },
  {
   "cell_type": "code",
   "execution_count": 3,
   "metadata": {},
   "outputs": [
    {
     "name": "stdout",
     "output_type": "stream",
     "text": [
      "onumm2n5_t onumm2n5_create_o(    onumm2n5_t* lhs){\n",
      "\n",
      "    onumm2n5_t res;\n",
      "\n",
      "    // Assign like function 'lhs'\n",
      "    // Real;\n",
      "    res.r = lhs->r;\n",
      "    // Order 1;\n",
      "    res.e1 = lhs->e1;\n",
      "    res.e2 = lhs->e2;\n",
      "    // Order 2;\n",
      "    res.e11 = lhs->e11;\n",
      "    res.e12 = lhs->e12;\n",
      "    res.e22 = lhs->e22;\n",
      "    // Order 3;\n",
      "    res.e111 = lhs->e111;\n",
      "    res.e112 = lhs->e112;\n",
      "    res.e122 = lhs->e122;\n",
      "    res.e222 = lhs->e222;\n",
      "    // Order 4;\n",
      "    res.e1111 = lhs->e1111;\n",
      "    res.e1112 = lhs->e1112;\n",
      "    res.e1122 = lhs->e1122;\n",
      "    res.e1222 = lhs->e1222;\n",
      "    res.e2222 = lhs->e2222;\n",
      "    // Order 5;\n",
      "    res.e11111 = lhs->e11111;\n",
      "    res.e11112 = lhs->e11112;\n",
      "    res.e11122 = lhs->e11122;\n",
      "    res.e11222 = lhs->e11222;\n",
      "    res.e12222 = lhs->e12222;\n",
      "    res.e22222 = lhs->e22222;\n",
      "\n",
      "    return res;\n",
      "\n",
      "}\n",
      "\n"
     ]
    }
   ],
   "source": [
    "print(w.write_scalar_univar( function_name = \"create\", is_elemental = True, level = 0, tab = \"    \", \n",
    "    f_name = \"\",  separator = \",\", lhs_type= \"o\", lhs_ptr = True,\n",
    "    f_open = \"\", f_close = \"\", addition = \" + \",generator = w.assigno_like_function, to=False ))"
   ]
  },
  {
   "cell_type": "code",
   "execution_count": null,
   "metadata": {},
   "outputs": [],
   "source": []
  },
  {
   "cell_type": "code",
   "execution_count": 5,
   "metadata": {},
   "outputs": [
    {
     "name": "stdout",
     "output_type": "stream",
     "text": [
      "//  Multiplication like function 'lhs * rhs'\n",
      "// Real;\n",
      "res.r = lhs.r * rhs.r;\n",
      "// Order 1;\n",
      "res.e1 = lhs.r * rhs.e1 + lhs.e1 * rhs.r;\n",
      "res.e2 = lhs.r * rhs.e2 + lhs.e2 * rhs.r;\n",
      "// Order 2;\n",
      "res.e11 = lhs.r * rhs.e11 + lhs.e11 * rhs.r + lhs.e1 * rhs.e1;\n",
      "res.e12 = lhs.r * rhs.e12 + lhs.e12 * rhs.r + lhs.e1 * rhs.e2 \n",
      "        + lhs.e2 * rhs.e1;\n",
      "res.e22 = lhs.r * rhs.e22 + lhs.e22 * rhs.r + lhs.e2 * rhs.e2;\n",
      "// Order 3;\n",
      "res.e111 = lhs.r * rhs.e111 + lhs.e111 * rhs.r + lhs.e1 * rhs.e11;\n",
      "res.e112 = lhs.r * rhs.e112 + lhs.e112 * rhs.r + lhs.e1 * rhs.e12 \n",
      "         + lhs.e2 * rhs.e11;\n",
      "res.e122 = lhs.r * rhs.e122 + lhs.e122 * rhs.r + lhs.e1 * rhs.e22 \n",
      "         + lhs.e2 * rhs.e12;\n",
      "res.e222 = lhs.r * rhs.e222 + lhs.e222 * rhs.r + lhs.e2 * rhs.e22;\n",
      "// Order 4;\n",
      "res.e1111 = lhs.r * rhs.e1111 + lhs.e1111 * rhs.r + lhs.e1 * rhs.e111 \n",
      "          + lhs.e11 * rhs.e11;\n",
      "res.e1112 = lhs.r * rhs.e1112 + lhs.e1112 * rhs.r + lhs.e1 * rhs.e112 \n",
      "          + lhs.e2 * rhs.e111 + lhs.e11 * rhs.e12 + lhs.e12 * rhs.e11;\n",
      "res.e1122 = lhs.r * rhs.e1122 + lhs.e1122 * rhs.r + lhs.e1 * rhs.e122 \n",
      "          + lhs.e2 * rhs.e112 + lhs.e11 * rhs.e22 + lhs.e12 * rhs.e12 \n",
      "          + lhs.e22 * rhs.e11;\n",
      "res.e1222 = lhs.r * rhs.e1222 + lhs.e1222 * rhs.r + lhs.e1 * rhs.e222 \n",
      "          + lhs.e2 * rhs.e122 + lhs.e12 * rhs.e22 + lhs.e22 * rhs.e12;\n",
      "res.e2222 = lhs.r * rhs.e2222 + lhs.e2222 * rhs.r + lhs.e2 * rhs.e222 \n",
      "          + lhs.e22 * rhs.e22;\n",
      "// Order 5;\n",
      "res.e11111 = lhs.r * rhs.e11111 + lhs.e11111 * rhs.r + lhs.e1 * rhs.e1111 \n",
      "           + lhs.e11 * rhs.e111;\n",
      "res.e11112 = lhs.r * rhs.e11112 + lhs.e11112 * rhs.r + lhs.e1 * rhs.e1112 \n",
      "           + lhs.e2 * rhs.e1111 + lhs.e11 * rhs.e112 + lhs.e12 * rhs.e111;\n",
      "res.e11122 = lhs.r * rhs.e11122 + lhs.e11122 * rhs.r + lhs.e1 * rhs.e1122 \n",
      "           + lhs.e2 * rhs.e1112 + lhs.e11 * rhs.e122 + lhs.e12 * rhs.e112 \n",
      "           + lhs.e22 * rhs.e111;\n",
      "res.e11222 = lhs.r * rhs.e11222 + lhs.e11222 * rhs.r + lhs.e1 * rhs.e1222 \n",
      "           + lhs.e2 * rhs.e1122 + lhs.e11 * rhs.e222 + lhs.e12 * rhs.e122 \n",
      "           + lhs.e22 * rhs.e112;\n",
      "res.e12222 = lhs.r * rhs.e12222 + lhs.e12222 * rhs.r + lhs.e1 * rhs.e2222 \n",
      "           + lhs.e2 * rhs.e1222 + lhs.e12 * rhs.e222 + lhs.e22 * rhs.e122;\n",
      "res.e22222 = lhs.r * rhs.e22222 + lhs.e22222 * rhs.r + lhs.e2 * rhs.e2222 \n",
      "           + lhs.e22 * rhs.e222;\n",
      "\n"
     ]
    }
   ],
   "source": [
    "print(w.multiplication_like_function_oo( level = \"\", f_name = \"\", lhs_name= \"lhs\",\n",
    "    rhs_name= \"rhs\", res_name = \"res\", separator = \" * \", f_open = \"\", f_close = \"\", \n",
    "    addition = \" + \"  ))"
   ]
  },
  {
   "cell_type": "code",
   "execution_count": 6,
   "metadata": {},
   "outputs": [
    {
     "name": "stdout",
     "output_type": "stream",
     "text": [
      "// Addition like function 'lhs + rhs'\n",
      "//  Real\n",
      "res.r = lhs.r + rhs.r;\n",
      "// Order 1\n",
      "res.e1 = lhs.e1 + rhs.e1;\n",
      "res.e2 = lhs.e2 + rhs.e2;\n",
      "// Order 2\n",
      "res.e11 = lhs.e11 + rhs.e11;\n",
      "res.e12 = lhs.e12 + rhs.e12;\n",
      "res.e22 = lhs.e22 + rhs.e22;\n",
      "// Order 3\n",
      "res.e111 = lhs.e111 + rhs.e111;\n",
      "res.e112 = lhs.e112 + rhs.e112;\n",
      "res.e122 = lhs.e122 + rhs.e122;\n",
      "res.e222 = lhs.e222 + rhs.e222;\n",
      "// Order 4\n",
      "res.e1111 = lhs.e1111 + rhs.e1111;\n",
      "res.e1112 = lhs.e1112 + rhs.e1112;\n",
      "res.e1122 = lhs.e1122 + rhs.e1122;\n",
      "res.e1222 = lhs.e1222 + rhs.e1222;\n",
      "res.e2222 = lhs.e2222 + rhs.e2222;\n",
      "// Order 5\n",
      "res.e11111 = lhs.e11111 + rhs.e11111;\n",
      "res.e11112 = lhs.e11112 + rhs.e11112;\n",
      "res.e11122 = lhs.e11122 + rhs.e11122;\n",
      "res.e11222 = lhs.e11222 + rhs.e11222;\n",
      "res.e12222 = lhs.e12222 + rhs.e12222;\n",
      "res.e22222 = lhs.e22222 + rhs.e22222;\n",
      "\n"
     ]
    }
   ],
   "source": [
    "print(w.addition_like_function_oo( level = \"\", f_name = \"\", lhs_name= \"lhs\",\n",
    "    rhs_name= \"rhs\", res_name = \"res\", separator = \" + \", f_open = \"\", f_close = \"\", \n",
    "    addition = \" + \"  ))"
   ]
  },
  {
   "cell_type": "code",
   "execution_count": 7,
   "metadata": {},
   "outputs": [
    {
     "name": "stdout",
     "output_type": "stream",
     "text": [
      "// Addition like function 'lhs + rhs'\n",
      "//  Real\n",
      "res.r = lhs.r + rhs.r;\n",
      "// Order 1\n",
      "res.e1 = lhs.e1 + rhs.e1;\n",
      "res.e2 = lhs.e2 + rhs.e2;\n",
      "// Order 2\n",
      "res.e11 = lhs.e11 + rhs.e11;\n",
      "res.e12 = lhs.e12 + rhs.e12;\n",
      "res.e22 = lhs.e22 + rhs.e22;\n",
      "// Order 3\n",
      "res.e111 = lhs.e111 + rhs.e111;\n",
      "res.e112 = lhs.e112 + rhs.e112;\n",
      "res.e122 = lhs.e122 + rhs.e122;\n",
      "res.e222 = lhs.e222 + rhs.e222;\n",
      "// Order 4\n",
      "res.e1111 = lhs.e1111 + rhs.e1111;\n",
      "res.e1112 = lhs.e1112 + rhs.e1112;\n",
      "res.e1122 = lhs.e1122 + rhs.e1122;\n",
      "res.e1222 = lhs.e1222 + rhs.e1222;\n",
      "res.e2222 = lhs.e2222 + rhs.e2222;\n",
      "// Order 5\n",
      "res.e11111 = lhs.e11111 + rhs.e11111;\n",
      "res.e11112 = lhs.e11112 + rhs.e11112;\n",
      "res.e11122 = lhs.e11122 + rhs.e11122;\n",
      "res.e11222 = lhs.e11222 + rhs.e11222;\n",
      "res.e12222 = lhs.e12222 + rhs.e12222;\n",
      "res.e22222 = lhs.e22222 + rhs.e22222;\n",
      "\n"
     ]
    }
   ],
   "source": [
    "print(w.addition_like_function_oo( level = \"\", f_name = \"\", lhs_name= \"lhs\",\n",
    "    rhs_name= \"rhs\", res_name = \"res\", separator = \" + \", f_open = \"\", f_close = \"\", \n",
    "    addition = \" + \"  ))"
   ]
  },
  {
   "cell_type": "code",
   "execution_count": null,
   "metadata": {},
   "outputs": [],
   "source": []
  },
  {
   "cell_type": "code",
   "execution_count": 8,
   "metadata": {},
   "outputs": [
    {
     "name": "stdout",
     "output_type": "stream",
     "text": [
      "// Assign like function 'FUNCTION(lhs)'\n",
      "// Real;\n",
      "res.r = FUNCTION(lhs);\n",
      "// Order 1;\n",
      "res.e1 = 0.0;\n",
      "res.e2 = 0.0;\n",
      "// Order 2;\n",
      "res.e11 = 0.0;\n",
      "res.e12 = 0.0;\n",
      "res.e22 = 0.0;\n",
      "// Order 3;\n",
      "res.e111 = 0.0;\n",
      "res.e112 = 0.0;\n",
      "res.e122 = 0.0;\n",
      "res.e222 = 0.0;\n",
      "// Order 4;\n",
      "res.e1111 = 0.0;\n",
      "res.e1112 = 0.0;\n",
      "res.e1122 = 0.0;\n",
      "res.e1222 = 0.0;\n",
      "res.e2222 = 0.0;\n",
      "// Order 5;\n",
      "res.e11111 = 0.0;\n",
      "res.e11112 = 0.0;\n",
      "res.e11122 = 0.0;\n",
      "res.e11222 = 0.0;\n",
      "res.e12222 = 0.0;\n",
      "res.e22222 = 0.0;\n",
      "\n"
     ]
    }
   ],
   "source": [
    "print(w.assignr_like_function( level = \"\", f_name = \"FUNCTION\", lhs_name= \"lhs\",\n",
    "    res_name = \"res\", f_open = \"(\", f_close = \")\") )"
   ]
  },
  {
   "cell_type": "code",
   "execution_count": 9,
   "metadata": {},
   "outputs": [
    {
     "name": "stdout",
     "output_type": "stream",
     "text": [
      "onumm2n5_t onumm2n5_sum_oo(  onumm2n5_t lhs,  onumm2n5_t rhs){\n",
      "  onumm2n5_t res;\n",
      "\n",
      "  // Addition like function 'lhs + rhs'\n",
      "  //  Real\n",
      "  res.r = lhs.r + rhs.r;\n",
      "  // Order 1\n",
      "  res.e1 = lhs.e1 + rhs.e1;\n",
      "  res.e2 = lhs.e2 + rhs.e2;\n",
      "  // Order 2\n",
      "  res.e11 = lhs.e11 + rhs.e11;\n",
      "  res.e12 = lhs.e12 + rhs.e12;\n",
      "  res.e22 = lhs.e22 + rhs.e22;\n",
      "  // Order 3\n",
      "  res.e111 = lhs.e111 + rhs.e111;\n",
      "  res.e112 = lhs.e112 + rhs.e112;\n",
      "  res.e122 = lhs.e122 + rhs.e122;\n",
      "  res.e222 = lhs.e222 + rhs.e222;\n",
      "  // Order 4\n",
      "  res.e1111 = lhs.e1111 + rhs.e1111;\n",
      "  res.e1112 = lhs.e1112 + rhs.e1112;\n",
      "  res.e1122 = lhs.e1122 + rhs.e1122;\n",
      "  res.e1222 = lhs.e1222 + rhs.e1222;\n",
      "  res.e2222 = lhs.e2222 + rhs.e2222;\n",
      "  // Order 5\n",
      "  res.e11111 = lhs.e11111 + rhs.e11111;\n",
      "  res.e11112 = lhs.e11112 + rhs.e11112;\n",
      "  res.e11122 = lhs.e11122 + rhs.e11122;\n",
      "  res.e11222 = lhs.e11222 + rhs.e11222;\n",
      "  res.e12222 = lhs.e12222 + rhs.e12222;\n",
      "  res.e22222 = lhs.e22222 + rhs.e22222;\n",
      "\n",
      "  return res;\n",
      "}\n",
      "\n"
     ]
    }
   ],
   "source": [
    "print(w.write_scalar_function( function_name = \"sum\", is_elemental = True, level = 0, tab = \"  \", \n",
    "    f_name = \"\", lhs_type= \"o\", rhs_type= \"o\", separator = \" + \", \n",
    "    f_open = \"\", f_close = \"\", addition = \" + \",generator = w.addition_like_function_oo,\n",
    "    overload = None ) )"
   ]
  },
  {
   "cell_type": "code",
   "execution_count": 10,
   "metadata": {},
   "outputs": [],
   "source": []
  },
  {
   "cell_type": "code",
   "execution_count": 11,
   "metadata": {},
   "outputs": [
    {
     "name": "stdout",
     "output_type": "stream",
     "text": [
      "// Get Imaginary coefficient.\n",
      "RES = 0.0;\n",
      "// Real;\n",
      "switch (order){\n",
      "  case 0:\n",
      "    RES = LHS.r;\n",
      "  case 1:\n",
      "    switch (indx){\n",
      "      case 0:\n",
      "        RES = LHS.e1;\n",
      "      case 1:\n",
      "        RES = LHS.e2;\n",
      "    }\n",
      "  case 2:\n",
      "    switch (indx){\n",
      "      case 0:\n",
      "        RES = LHS.e11;\n",
      "      case 1:\n",
      "        RES = LHS.e12;\n",
      "      case 2:\n",
      "        RES = LHS.e22;\n",
      "    }\n",
      "  case 3:\n",
      "    switch (indx){\n",
      "      case 0:\n",
      "        RES = LHS.e111;\n",
      "      case 1:\n",
      "        RES = LHS.e112;\n",
      "      case 2:\n",
      "        RES = LHS.e122;\n",
      "      case 3:\n",
      "        RES = LHS.e222;\n",
      "    }\n",
      "  case 4:\n",
      "    switch (indx){\n",
      "      case 0:\n",
      "        RES = LHS.e1111;\n",
      "      case 1:\n",
      "        RES = LHS.e1112;\n",
      "      case 2:\n",
      "        RES = LHS.e1122;\n",
      "      case 3:\n",
      "        RES = LHS.e1222;\n",
      "      case 4:\n",
      "        RES = LHS.e2222;\n",
      "    }\n",
      "  case 5:\n",
      "    switch (indx){\n",
      "      case 0:\n",
      "        RES = LHS.e11111;\n",
      "      case 1:\n",
      "        RES = LHS.e11112;\n",
      "      case 2:\n",
      "        RES = LHS.e11122;\n",
      "      case 3:\n",
      "        RES = LHS.e11222;\n",
      "      case 4:\n",
      "        RES = LHS.e12222;\n",
      "      case 5:\n",
      "        RES = LHS.e22222;\n",
      "    }\n",
      "}\n"
     ]
    }
   ],
   "source": [
    "print(w.getim_scalar_function())"
   ]
  },
  {
   "cell_type": "code",
   "execution_count": 12,
   "metadata": {},
   "outputs": [
    {
     "name": "stdout",
     "output_type": "stream",
     "text": [
      "// Print function.\n",
      "//  Real;\n",
      "printf(\"%.8g\",lhs.r);\n",
      "//  Order 1;\n",
      "printf(\" + %.8g * e1\",lhs.e1);\n",
      "printf(\" + %.8g * e2\",lhs.e2);\n",
      "//  Order 2;\n",
      "printf(\" + %.8g * e11\",lhs.e11);\n",
      "printf(\" + %.8g * e12\",lhs.e12);\n",
      "printf(\" + %.8g * e22\",lhs.e22);\n",
      "//  Order 3;\n",
      "printf(\" + %.8g * e111\",lhs.e111);\n",
      "printf(\" + %.8g * e112\",lhs.e112);\n",
      "printf(\" + %.8g * e122\",lhs.e122);\n",
      "printf(\" + %.8g * e222\",lhs.e222);\n",
      "//  Order 4;\n",
      "printf(\" + %.8g * e1111\",lhs.e1111);\n",
      "printf(\" + %.8g * e1112\",lhs.e1112);\n",
      "printf(\" + %.8g * e1122\",lhs.e1122);\n",
      "printf(\" + %.8g * e1222\",lhs.e1222);\n",
      "printf(\" + %.8g * e2222\",lhs.e2222);\n",
      "//  Order 5;\n",
      "printf(\" + %.8g * e11111\",lhs.e11111);\n",
      "printf(\" + %.8g * e11112\",lhs.e11112);\n",
      "printf(\" + %.8g * e11122\",lhs.e11122);\n",
      "printf(\" + %.8g * e11222\",lhs.e11222);\n",
      "printf(\" + %.8g * e12222\",lhs.e12222);\n",
      "printf(\" + %.8g * e22222\",lhs.e22222);\n",
      "printf(\"\\n\");\n",
      "\n"
     ]
    }
   ],
   "source": [
    "print(w.pprint_scalar_function())"
   ]
  },
  {
   "cell_type": "code",
   "execution_count": 13,
   "metadata": {},
   "outputs": [
    {
     "name": "stdout",
     "output_type": "stream",
     "text": [
      "void onumm2n5_print( onumm2n5_t lhs){\n",
      "\n",
      " // Print function.\n",
      " //  Real;\n",
      " printf(\"%.8g\",lhs.r);\n",
      " //  Order 1;\n",
      " printf(\" + %.8g * e1\",lhs.e1);\n",
      " printf(\" + %.8g * e2\",lhs.e2);\n",
      " //  Order 2;\n",
      " printf(\" + %.8g * e11\",lhs.e11);\n",
      " printf(\" + %.8g * e12\",lhs.e12);\n",
      " printf(\" + %.8g * e22\",lhs.e22);\n",
      " //  Order 3;\n",
      " printf(\" + %.8g * e111\",lhs.e111);\n",
      " printf(\" + %.8g * e112\",lhs.e112);\n",
      " printf(\" + %.8g * e122\",lhs.e122);\n",
      " printf(\" + %.8g * e222\",lhs.e222);\n",
      " //  Order 4;\n",
      " printf(\" + %.8g * e1111\",lhs.e1111);\n",
      " printf(\" + %.8g * e1112\",lhs.e1112);\n",
      " printf(\" + %.8g * e1122\",lhs.e1122);\n",
      " printf(\" + %.8g * e1222\",lhs.e1222);\n",
      " printf(\" + %.8g * e2222\",lhs.e2222);\n",
      " //  Order 5;\n",
      " printf(\" + %.8g * e11111\",lhs.e11111);\n",
      " printf(\" + %.8g * e11112\",lhs.e11112);\n",
      " printf(\" + %.8g * e11122\",lhs.e11122);\n",
      " printf(\" + %.8g * e11222\",lhs.e11222);\n",
      " printf(\" + %.8g * e12222\",lhs.e12222);\n",
      " printf(\" + %.8g * e22222\",lhs.e22222);\n",
      " printf(\"\\n\");\n",
      "\n",
      "}\n",
      "\n"
     ]
    }
   ],
   "source": [
    "print( w.write_scalar_function_print() )"
   ]
  },
  {
   "cell_type": "code",
   "execution_count": null,
   "metadata": {},
   "outputs": [],
   "source": []
  }
 ],
 "metadata": {
  "kernelspec": {
   "display_name": "Python 3",
   "language": "python",
   "name": "python3"
  },
  "language_info": {
   "codemirror_mode": {
    "name": "ipython",
    "version": 3
   },
   "file_extension": ".py",
   "mimetype": "text/x-python",
   "name": "python",
   "nbconvert_exporter": "python",
   "pygments_lexer": "ipython3",
   "version": "3.7.3"
  }
 },
 "nbformat": 4,
 "nbformat_minor": 2
}
