{
 "cells": [
  {
   "cell_type": "markdown",
   "id": "5740dc45",
   "metadata": {},
   "source": [
    "# Testing Non-Linear Equation solver.\n",
    "```\n",
    "Mauricio Aristizabal Cano\n",
    "June 22, 2021\n",
    "```\n",
    "\n",
    "\n",
    "\n"
   ]
  },
  {
   "cell_type": "code",
   "execution_count": 2,
   "id": "42f81366",
   "metadata": {},
   "outputs": [],
   "source": [
    "import sys\n",
    "path2oti = '../../../build/'\n",
    "sys.path.append(path2oti) # Add path to OTI library.\n",
    "\n",
    "import pyoti.sparse as oti"
   ]
  },
  {
   "cell_type": "code",
   "execution_count": 9,
   "id": "b573ca14",
   "metadata": {},
   "outputs": [],
   "source": [
    "x = 3.5 + oti.e(1,order = 1)\n",
    "y = 4.5 + oti.e(2,order = 1)"
   ]
  },
  {
   "cell_type": "code",
   "execution_count": 10,
   "id": "bb9b8ba3",
   "metadata": {},
   "outputs": [
    {
     "name": "stdout",
     "output_type": "stream",
     "text": [
      "209 ns ± 0.478 ns per loop (mean ± std. dev. of 7 runs, 1000000 loops each)\n"
     ]
    }
   ],
   "source": [
    "%timeit x*y"
   ]
  },
  {
   "cell_type": "code",
   "execution_count": null,
   "id": "624f6af0",
   "metadata": {},
   "outputs": [],
   "source": []
  }
 ],
 "metadata": {
  "kernelspec": {
   "display_name": "pyoti",
   "language": "python",
   "name": "pyoti"
  },
  "language_info": {
   "codemirror_mode": {
    "name": "ipython",
    "version": 3
   },
   "file_extension": ".py",
   "mimetype": "text/x-python",
   "name": "python",
   "nbconvert_exporter": "python",
   "pygments_lexer": "ipython3",
   "version": "3.8.10"
  }
 },
 "nbformat": 4,
 "nbformat_minor": 5
}
