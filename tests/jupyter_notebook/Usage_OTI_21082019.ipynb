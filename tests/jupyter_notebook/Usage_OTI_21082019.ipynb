{
 "cells": [
  {
   "cell_type": "code",
   "execution_count": 1,
   "metadata": {},
   "outputs": [],
   "source": [
    "# 1. SET GLOBAL PATH \n",
    "import sys\n",
    "path2oti = '../../build/'\n",
    "sys.path.append(path2oti) # Add path to OTI library."
   ]
  },
  {
   "cell_type": "code",
   "execution_count": 2,
   "metadata": {},
   "outputs": [],
   "source": [
    "from pyoti.dense import *"
   ]
  },
  {
   "cell_type": "code",
   "execution_count": 3,
   "metadata": {},
   "outputs": [
    {
     "name": "stdout",
     "output_type": "stream",
     "text": [
      "Help on cython_function_or_method in module pyoti.dense:\n",
      "\n",
      "e(hum_dir, order=0, nbases=0)\n",
      "    PURPOSE:  To create an OTI number with value 1 at the specified\n",
      "              direction, in a human friendly manner.\n",
      "\n"
     ]
    }
   ],
   "source": [
    "help(e)"
   ]
  },
  {
   "cell_type": "code",
   "execution_count": 4,
   "metadata": {},
   "outputs": [],
   "source": [
    "import pyoti.dense as oti\n",
    "from pyoti.core import imdir"
   ]
  },
  {
   "cell_type": "code",
   "execution_count": 5,
   "metadata": {},
   "outputs": [
    {
     "name": "stdout",
     "output_type": "stream",
     "text": [
      "Help on cython_function_or_method in module pyoti.dense:\n",
      "\n",
      "sin(val)\n",
      "    PURPOSE:  Mathematical function of sine for OTI numbers.\n",
      "\n"
     ]
    }
   ],
   "source": [
    "help(oti.sin)"
   ]
  },
  {
   "cell_type": "code",
   "execution_count": 6,
   "metadata": {},
   "outputs": [
    {
     "name": "stdout",
     "output_type": "stream",
     "text": [
      "0 + 1 * e([1]) + 0 * e([[1,2]]) + 0 * e([[1,3]]) + 0 * e([[1,4]]) + 0 * e([[1,5]]) + 0 * e([[1,6]]) + 0 * e([[1,7]]) + 0 * e([[1,8]]) + 0 * e([[1,9]]) + 0 * e([[1,10]])\n"
     ]
    }
   ],
   "source": [
    "nb = 1\n",
    "o  = 10\n",
    "\n",
    "print( e( 1 , nbases=nb, order=o) )"
   ]
  },
  {
   "cell_type": "code",
   "execution_count": 7,
   "metadata": {},
   "outputs": [
    {
     "name": "stdout",
     "output_type": "stream",
     "text": [
      "0.5 + 1 * e([1]) + 0 * e([[1,2]]) + 0 * e([[1,3]]) + 0 * e([[1,4]]) + 0 * e([[1,5]]) + 0 * e([[1,6]]) + 0 * e([[1,7]]) + 0 * e([[1,8]]) + 0 * e([[1,9]]) + 0 * e([[1,10]])\n"
     ]
    }
   ],
   "source": [
    "x = 0.5 +  e( 1 , nbases=nb, order=o)\n",
    "print(x)"
   ]
  },
  {
   "cell_type": "code",
   "execution_count": 8,
   "metadata": {},
   "outputs": [
    {
     "name": "stdout",
     "output_type": "stream",
     "text": [
      "0.247404 + 0.968912 * e([1]) + 0.84521 * e([[1,2]]) - 0.408889 * e([[1,3]]) - 0.59785 * e([[1,4]]) - 0.435148 * e([[1,5]]) - 0.0596067 * e([[1,6]]) + 0.119723 * e([[1,7]]) + 0.0845574 * e([[1,8]]) + 0.0295136 * e([[1,9]]) - 0.00361277 * e([[1,10]])\n"
     ]
    }
   ],
   "source": [
    "print(sin(x**2))"
   ]
  },
  {
   "cell_type": "code",
   "execution_count": 9,
   "metadata": {},
   "outputs": [
    {
     "name": "stdout",
     "output_type": "stream",
     "text": [
      "17.1 µs ± 149 ns per loop (mean ± std. dev. of 7 runs, 100000 loops each)\n"
     ]
    }
   ],
   "source": [
    "%timeit sin(x**2)"
   ]
  },
  {
   "cell_type": "code",
   "execution_count": 10,
   "metadata": {},
   "outputs": [],
   "source": [
    "fx = sin(x**2)"
   ]
  },
  {
   "cell_type": "code",
   "execution_count": 11,
   "metadata": {},
   "outputs": [
    {
     "data": {
      "text/plain": [
       "[1, 2]"
      ]
     },
     "execution_count": 11,
     "metadata": {},
     "output_type": "execute_result"
    }
   ],
   "source": [
    "imdir([ 1, 2 ])"
   ]
  },
  {
   "cell_type": "code",
   "execution_count": 12,
   "metadata": {},
   "outputs": [
    {
     "data": {
      "text/plain": [
       "1.6904208841667665"
      ]
     },
     "execution_count": 12,
     "metadata": {},
     "output_type": "execute_result"
    }
   ],
   "source": [
    "fx.get_deriv(imdir([ [1, 2] ])) # Extraer segunda derivada con respecto a x"
   ]
  },
  {
   "cell_type": "code",
   "execution_count": null,
   "metadata": {},
   "outputs": [],
   "source": []
  },
  {
   "cell_type": "code",
   "execution_count": 13,
   "metadata": {},
   "outputs": [
    {
     "name": "stdout",
     "output_type": "stream",
     "text": [
      "0.24740395925452294\n",
      "0.9689124217106447\n",
      "1.6904208841667665\n"
     ]
    }
   ],
   "source": [
    "import math\n",
    "\n",
    "x0 = 0.5\n",
    "f = math.sin(x0**2)\n",
    "df = math.cos(x0**2)*2*x0\n",
    "ddf = 2*math.cos(x0**2) - 4*math.sin(x0**2)*x0**2\n",
    "\n",
    "def evalf():\n",
    "    f = math.sin(x0**2)\n",
    "    df = math.cos(x0**2)*2*x0\n",
    "    ddf = 2*math.cos(x0**2) - 4*math.sin(x0**2)*x0**2\n",
    "\n",
    "\n",
    "print(f)\n",
    "print(df)\n",
    "print(ddf)"
   ]
  },
  {
   "cell_type": "code",
   "execution_count": 14,
   "metadata": {},
   "outputs": [
    {
     "data": {
      "text/plain": [
       "1.69042"
      ]
     },
     "execution_count": 14,
     "metadata": {},
     "output_type": "execute_result"
    }
   ],
   "source": [
    "0.84521*2"
   ]
  },
  {
   "cell_type": "code",
   "execution_count": 15,
   "metadata": {},
   "outputs": [
    {
     "name": "stdout",
     "output_type": "stream",
     "text": [
      "1.57 µs ± 10 ns per loop (mean ± std. dev. of 7 runs, 1000000 loops each)\n"
     ]
    }
   ],
   "source": [
    "%timeit evalf()"
   ]
  },
  {
   "cell_type": "code",
   "execution_count": 33,
   "metadata": {},
   "outputs": [],
   "source": [
    "import sympy as sym\n",
    "\n",
    "xs, ys = sym.symbols('x y')\n",
    "\n",
    "fs = sym.sin(xs**2)\n",
    "\n",
    "\n",
    "fs_10 = fs.diff(xs,3)\n",
    "\n"
   ]
  },
  {
   "cell_type": "code",
   "execution_count": 17,
   "metadata": {},
   "outputs": [
    {
     "name": "stdout",
     "output_type": "stream",
     "text": [
      "-4*x*(2*x**2*cos(x**2) + 3*sin(x**2))\n"
     ]
    }
   ],
   "source": [
    "print(fs_10)"
   ]
  },
  {
   "cell_type": "code",
   "execution_count": 18,
   "metadata": {},
   "outputs": [
    {
     "name": "stdout",
     "output_type": "stream",
     "text": [
      "5.71 ms ± 21.1 µs per loop (mean ± std. dev. of 7 runs, 100 loops each)\n"
     ]
    }
   ],
   "source": [
    "%timeit fs.diff(xs,10)"
   ]
  },
  {
   "cell_type": "code",
   "execution_count": 19,
   "metadata": {},
   "outputs": [
    {
     "data": {
      "text/latex": [
       "$\\displaystyle -2.45333617723778$"
      ],
      "text/plain": [
       "-2.45333617723778"
      ]
     },
     "execution_count": 19,
     "metadata": {},
     "output_type": "execute_result"
    }
   ],
   "source": [
    "fs_10.replace(xs,0.5).doit()"
   ]
  },
  {
   "cell_type": "code",
   "execution_count": 20,
   "metadata": {},
   "outputs": [
    {
     "data": {
      "text/plain": [
       "-13110.008022904183"
      ]
     },
     "execution_count": 20,
     "metadata": {},
     "output_type": "execute_result"
    }
   ],
   "source": [
    "fx.get_deriv( imdir( [ [1,10] ] ) )"
   ]
  },
  {
   "cell_type": "code",
   "execution_count": 21,
   "metadata": {},
   "outputs": [
    {
     "name": "stdout",
     "output_type": "stream",
     "text": [
      "0.247404 + 0.968912 * e([1]) + 0.84521 * e([[1,2]]) - 0.408889 * e([[1,3]]) - 0.59785 * e([[1,4]]) - 0.435148 * e([[1,5]]) - 0.0596067 * e([[1,6]]) + 0.119723 * e([[1,7]]) + 0.0845574 * e([[1,8]]) + 0.0295136 * e([[1,9]]) - 0.00361277 * e([[1,10]])\n"
     ]
    }
   ],
   "source": [
    "print(fx)"
   ]
  },
  {
   "cell_type": "code",
   "execution_count": 22,
   "metadata": {},
   "outputs": [
    {
     "data": {
      "text/plain": [
       "1.248733380125433e-15"
      ]
     },
     "execution_count": 22,
     "metadata": {},
     "output_type": "execute_result"
    }
   ],
   "source": [
    "(13110.0080229042-13110.008022904183)/13110.0080229042"
   ]
  },
  {
   "cell_type": "code",
   "execution_count": null,
   "metadata": {},
   "outputs": [],
   "source": []
  },
  {
   "cell_type": "code",
   "execution_count": null,
   "metadata": {},
   "outputs": [],
   "source": []
  },
  {
   "cell_type": "code",
   "execution_count": null,
   "metadata": {},
   "outputs": [],
   "source": []
  },
  {
   "cell_type": "code",
   "execution_count": null,
   "metadata": {},
   "outputs": [],
   "source": []
  },
  {
   "cell_type": "code",
   "execution_count": 47,
   "metadata": {},
   "outputs": [
    {
     "name": "stdout",
     "output_type": "stream",
     "text": [
      "0.5 + 1 * e([1]) + 0 * e([2]) + 0 * e([[1,2]]) + 0 * e([1,2]) + 0 * e([[2,2]]) + 0 * e([[1,3]]) + 0 * e([[1,2],2]) + 0 * e([1,[2,2]]) + 0 * e([[2,3]]) + 0 * e([[1,4]]) + 0 * e([[1,3],2]) + 0 * e([[1,2],[2,2]]) + 0 * e([1,[2,3]]) + 0 * e([[2,4]]) + 0 * e([[1,5]]) + 0 * e([[1,4],2]) + 0 * e([[1,3],[2,2]]) + 0 * e([[1,2],[2,3]]) + 0 * e([1,[2,4]]) + 0 * e([[2,5]]) + 0 * e([[1,6]]) + 0 * e([[1,5],2]) + 0 * e([[1,4],[2,2]]) + 0 * e([[1,3],[2,3]]) + 0 * e([[1,2],[2,4]]) + 0 * e([1,[2,5]]) + 0 * e([[2,6]]) + 0 * e([[1,7]]) + 0 * e([[1,6],2]) + 0 * e([[1,5],[2,2]]) + 0 * e([[1,4],[2,3]]) + 0 * e([[1,3],[2,4]]) + 0 * e([[1,2],[2,5]]) + 0 * e([1,[2,6]]) + 0 * e([[2,7]]) + 0 * e([[1,8]]) + 0 * e([[1,7],2]) + 0 * e([[1,6],[2,2]]) + 0 * e([[1,5],[2,3]]) + 0 * e([[1,4],[2,4]]) + 0 * e([[1,3],[2,5]]) + 0 * e([[1,2],[2,6]]) + 0 * e([1,[2,7]]) + 0 * e([[2,8]]) + 0 * e([[1,9]]) + 0 * e([[1,8],2]) + 0 * e([[1,7],[2,2]]) + 0 * e([[1,6],[2,3]]) + 0 * e([[1,5],[2,4]]) + 0 * e([[1,4],[2,5]]) + 0 * e([[1,3],[2,6]]) + 0 * e([[1,2],[2,7]]) + 0 * e([1,[2,8]]) + 0 * e([[2,9]]) + 0 * e([[1,10]]) + 0 * e([[1,9],2]) + 0 * e([[1,8],[2,2]]) + 0 * e([[1,7],[2,3]]) + 0 * e([[1,6],[2,4]]) + 0 * e([[1,5],[2,5]]) + 0 * e([[1,4],[2,6]]) + 0 * e([[1,3],[2,7]]) + 0 * e([[1,2],[2,8]]) + 0 * e([1,[2,9]]) + 0 * e([[2,10]])\n"
     ]
    }
   ],
   "source": [
    "# Ejemplo por multiduals\n",
    "\n",
    "nb = 2\n",
    "o  = 10\n",
    "\n",
    "x = 0.5 + e( 1 , nbases=nb, order=o) #+ e( 2 , nbases=nb, order=o) + e( 3 , nbases=nb, order=o)\n",
    "y = 0.3 + e( 2 , nbases=nb, order=o)\n",
    "\n",
    "y0 = 0.3\n",
    "print(x)"
   ]
  },
  {
   "cell_type": "code",
   "execution_count": 31,
   "metadata": {},
   "outputs": [
    {
     "name": "stdout",
     "output_type": "stream",
     "text": [
      "4.94 µs ± 83.7 ns per loop (mean ± std. dev. of 7 runs, 100000 loops each)\n"
     ]
    }
   ],
   "source": [
    "%timeit sin(x**2)"
   ]
  },
  {
   "cell_type": "code",
   "execution_count": 34,
   "metadata": {},
   "outputs": [],
   "source": [
    "fs = sym.sin(xs**2*ys)/ys**2"
   ]
  },
  {
   "cell_type": "code",
   "execution_count": 51,
   "metadata": {},
   "outputs": [
    {
     "data": {
      "text/latex": [
       "$\\displaystyle 512117055326.932$"
      ],
      "text/plain": [
       "512117055326.932"
      ]
     },
     "execution_count": 51,
     "metadata": {},
     "output_type": "execute_result"
    }
   ],
   "source": [
    "fs.diff(xs,0).diff(ys,10).replace(xs,x0).replace(ys,y0).doit()\n",
    " "
   ]
  },
  {
   "cell_type": "code",
   "execution_count": 48,
   "metadata": {},
   "outputs": [
    {
     "name": "stdout",
     "output_type": "stream",
     "text": [
      "0.832552 + 3.32396 * e([1]) - 2.78038 * e([2]) + 3.2865 * e([[1,2]]) - 11.1423 * e([1,2]) + 9.25927 * e([[2,2]]) - 0.124789 * e([[1,3]]) - 11.267 * e([[1,2],2]) + 37.0372 * e([1,[2,2]]) - 30.8642 * e([[2,3]]) - 0.186762 * e([[1,4]]) - 0.414559 * e([[1,3],2]) + 37.0384 * e([[1,2],[2,2]]) - 123.457 * e([1,[2,3]]) + 102.881 * e([[2,4]]) - 0.14823 * e([[1,5]]) - 0.617625 * e([[1,4],2]) + 0.00702173 * e([[1,3],[2,2]]) - 123.455 * e([[1,2],[2,3]]) + 411.523 * e([1,[2,4]]) - 342.936 * e([[2,5]]) - 0.0470525 * e([[1,6]]) - 0.482313 * e([[1,5],2]) + 0.024557 * e([[1,4],[2,2]]) + 0.00778078 * e([[1,3],[2,3]]) + 411.523 * e([[1,2],[2,4]]) - 1371.74 * e([1,[2,5]]) + 1143.12 * e([[2,6]]) + 0.00336208 * e([[1,7]]) - 0.13723 * e([[1,6],2]) + 0.0588532 * e([[1,5],[2,2]]) + 0.0271693 * e([[1,4],[2,3]]) - 5.28323e-05 * e([[1,3],[2,4]]) - 1371.74 * e([[1,2],[2,5]]) + 4572.47 * e([1,[2,6]]) - 3810.39 * e([[2,7]]) + 0.00250865 * e([[1,8]]) + 0.0335348 * e([[1,7],2]) + 0.0978097 * e([[1,6],[2,2]]) + 0.0649276 * e([[1,5],[2,3]]) - 0.000290448 * e([[1,4],[2,4]]) - 3.51351e-05 * e([[1,3],[2,5]]) + 4572.47 * e([[1,2],[2,6]]) - 15241.6 * e([1,[2,7]]) + 12701.3 * e([[2,8]]) + 0.00109489 * e([[1,9]]) + 0.024936 * e([[1,8],2]) + 0.111066 * e([[1,7],[2,2]]) + 0.107284 * e([[1,6],[2,3]]) - 0.00116101 * e([[1,5],[2,4]]) - 0.000192984 * e([[1,4],[2,5]]) + 1.43955e-07 * e([[1,3],[2,6]]) - 15241.6 * e([[1,2],[2,7]]) + 50805.3 * e([1,[2,8]]) - 42337.7 * e([[2,9]]) + 0.000194939 * e([[1,10]]) + 0.0107486 * e([[1,9],2]) + 0.0818673 * e([[1,8],[2,2]]) + 0.120224 * e([[1,7],[2,3]]) - 0.00347942 * e([[1,6],[2,4]]) - 0.000770382 * e([[1,5],[2,5]]) + 1.07926e-06 * e([[1,4],[2,6]]) + 6.84522e-08 * e([[1,3],[2,7]]) + 50805.3 * e([[1,2],[2,8]]) - 169351 * e([1,[2,9]]) + 141126 * e([[2,10]])\n"
     ]
    }
   ],
   "source": [
    "print(sin(x**2*y)/y**2)"
   ]
  },
  {
   "cell_type": "code",
   "execution_count": 42,
   "metadata": {},
   "outputs": [
    {
     "data": {
      "text/plain": [
       "18.51854"
      ]
     },
     "execution_count": 42,
     "metadata": {},
     "output_type": "execute_result"
    }
   ],
   "source": [
    "9.25927*2"
   ]
  },
  {
   "cell_type": "code",
   "execution_count": 50,
   "metadata": {},
   "outputs": [
    {
     "data": {
      "text/plain": [
       "512117055326.6407"
      ]
     },
     "execution_count": 50,
     "metadata": {},
     "output_type": "execute_result"
    }
   ],
   "source": [
    "(sin(x**2*y)/y**2).get_deriv( imdir([[2,10]]) )"
   ]
  },
  {
   "cell_type": "code",
   "execution_count": 49,
   "metadata": {},
   "outputs": [
    {
     "data": {
      "text/plain": [
       "otinum(0.5, ndir: 65, order: 10)"
      ]
     },
     "execution_count": 49,
     "metadata": {},
     "output_type": "execute_result"
    }
   ],
   "source": [
    "x"
   ]
  },
  {
   "cell_type": "code",
   "execution_count": 52,
   "metadata": {},
   "outputs": [
    {
     "data": {
      "text/plain": [
       "5.688558850969585e-13"
      ]
     },
     "execution_count": 52,
     "metadata": {},
     "output_type": "execute_result"
    }
   ],
   "source": [
    "(512117055326.932-512117055326.6407)/512117055326.932"
   ]
  },
  {
   "cell_type": "code",
   "execution_count": 53,
   "metadata": {},
   "outputs": [
    {
     "data": {
      "text/plain": [
       "1160290625"
      ]
     },
     "execution_count": 53,
     "metadata": {},
     "output_type": "execute_result"
    }
   ],
   "source": [
    "65**5"
   ]
  },
  {
   "cell_type": "code",
   "execution_count": null,
   "metadata": {},
   "outputs": [],
   "source": []
  },
  {
   "cell_type": "code",
   "execution_count": null,
   "metadata": {},
   "outputs": [],
   "source": []
  },
  {
   "cell_type": "code",
   "execution_count": null,
   "metadata": {},
   "outputs": [],
   "source": []
  },
  {
   "cell_type": "code",
   "execution_count": null,
   "metadata": {},
   "outputs": [],
   "source": []
  },
  {
   "cell_type": "code",
   "execution_count": 54,
   "metadata": {},
   "outputs": [
    {
     "data": {
      "text/plain": [
       "array([[0., 0.],\n",
       "       [0., 0.]])"
      ]
     },
     "execution_count": 54,
     "metadata": {},
     "output_type": "execute_result"
    }
   ],
   "source": [
    "import numpy as np\n",
    "\n",
    "X = np.zeros((2,2))\n",
    "X\n"
   ]
  },
  {
   "cell_type": "code",
   "execution_count": 55,
   "metadata": {},
   "outputs": [
    {
     "data": {
      "text/plain": [
       "array([[0.5, 0. ],\n",
       "       [1. , 0.5]])"
      ]
     },
     "execution_count": 55,
     "metadata": {},
     "output_type": "execute_result"
    }
   ],
   "source": [
    "X[0,0] = x0\n",
    "X[1,1] = x0\n",
    "X[1,0] = 1.\n",
    "X"
   ]
  },
  {
   "cell_type": "code",
   "execution_count": 58,
   "metadata": {},
   "outputs": [],
   "source": [
    "import scipy as sci\n",
    "SIN =  sci.linalg.sinm\n",
    "DOT = np.dot"
   ]
  },
  {
   "cell_type": "code",
   "execution_count": 59,
   "metadata": {},
   "outputs": [
    {
     "data": {
      "text/plain": [
       "array([[0.24740396, 0.        ],\n",
       "       [0.96891242, 0.24740396]])"
      ]
     },
     "execution_count": 59,
     "metadata": {},
     "output_type": "execute_result"
    }
   ],
   "source": [
    "# sin(x**2) --> \n",
    "#                 x**2   = DOT(X,X)  <- Producto interior\n",
    "#                 sin(y) = SIN(Y)    <- Seno matricial\n",
    "\n",
    "F = SIN( DOT(X,X) )\n",
    "F"
   ]
  },
  {
   "cell_type": "code",
   "execution_count": null,
   "metadata": {},
   "outputs": [],
   "source": [
    "0.24740395925452294\n",
    "0.9689124217106447"
   ]
  }
 ],
 "metadata": {
  "kernelspec": {
   "display_name": "Python 3",
   "language": "python",
   "name": "python3"
  },
  "language_info": {
   "codemirror_mode": {
    "name": "ipython",
    "version": 3
   },
   "file_extension": ".py",
   "mimetype": "text/x-python",
   "name": "python",
   "nbconvert_exporter": "python",
   "pygments_lexer": "ipython3",
   "version": "3.7.0"
  }
 },
 "nbformat": 4,
 "nbformat_minor": 2
}
