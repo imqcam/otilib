{
 "cells": [
  {
   "cell_type": "code",
   "execution_count": 2,
   "metadata": {
    "collapsed": true
   },
   "outputs": [],
   "source": [
    "import sympy as sym\n"
   ]
  },
  {
   "cell_type": "code",
   "execution_count": 3,
   "metadata": {},
   "outputs": [],
   "source": [
    "g = sym.symbols(\"g\")"
   ]
  },
  {
   "cell_type": "code",
   "execution_count": 6,
   "metadata": {},
   "outputs": [],
   "source": [
    "\n",
    "func = sym.tan(g)"
   ]
  },
  {
   "cell_type": "code",
   "execution_count": 13,
   "metadata": {},
   "outputs": [
    {
     "name": "stdout",
     "output_type": "stream",
     "text": [
      "1 :  tan(g)**2 + 1\n",
      "\n",
      "2 :  2*(tan(g)**2 + 1)*tan(g)\n",
      "\n",
      "3 :  2*(tan(g)**2 + 1)*(3*tan(g)**2 + 1)\n",
      "\n",
      "4 :  8*(tan(g)**2 + 1)*(3*tan(g)**2 + 2)*tan(g)\n",
      "\n",
      "5 :  8*(tan(g)**2 + 1)*(2*(tan(g)**2 + 1)**2 + 11*(tan(g)**2 + 1)*tan(g)**2 + 2*tan(g)**4)\n",
      "\n",
      "6 :  16*(tan(g)**2 + 1)*(17*(tan(g)**2 + 1)**2 + 26*(tan(g)**2 + 1)*tan(g)**2 + 2*tan(g)**4)*tan(g)\n",
      "\n",
      "7 :  16*(tan(g)**2 + 1)*(17*(tan(g)**2 + 1)**3 + 180*(tan(g)**2 + 1)**2*tan(g)**2 + 114*(tan(g)**2 + 1)*tan(g)**4 + 4*tan(g)**6)\n",
      "\n",
      "8 :  128*(tan(g)**2 + 1)*(62*(tan(g)**2 + 1)**3 + 192*(tan(g)**2 + 1)**2*tan(g)**2 + 60*(tan(g)**2 + 1)*tan(g)**4 + tan(g)**6)*tan(g)\n",
      "\n",
      "9 :  128*(tan(g)**2 + 1)*(62*(tan(g)**2 + 1)**4 + 1072*(tan(g)**2 + 1)**3*tan(g)**2 + 1452*(tan(g)**2 + 1)**2*tan(g)**4 + 247*(tan(g)**2 + 1)*tan(g)**6 + 2*tan(g)**8)\n",
      "\n",
      "10 :  256*(tan(g)**2 + 1)*(1382*(tan(g)**2 + 1)**4 + 7192*(tan(g)**2 + 1)**3*tan(g)**2 + 5097*(tan(g)**2 + 1)**2*tan(g)**4 + 502*(tan(g)**2 + 1)*tan(g)**6 + 2*tan(g)**8)*tan(g)\n",
      "\n"
     ]
    }
   ],
   "source": [
    "\n",
    "for i in range(1,11):\n",
    "    print(i,\": \",sym.diff(func,g,i))\n",
    "    print()"
   ]
  },
  {
   "cell_type": "code",
   "execution_count": null,
   "metadata": {
    "collapsed": true
   },
   "outputs": [],
   "source": []
  }
 ],
 "metadata": {
  "kernelspec": {
   "display_name": "Python 3",
   "language": "python",
   "name": "python3"
  },
  "language_info": {
   "codemirror_mode": {
    "name": "ipython",
    "version": 3
   },
   "file_extension": ".py",
   "mimetype": "text/x-python",
   "name": "python",
   "nbconvert_exporter": "python",
   "pygments_lexer": "ipython3",
   "version": "3.6.0"
  }
 },
 "nbformat": 4,
 "nbformat_minor": 2
}
