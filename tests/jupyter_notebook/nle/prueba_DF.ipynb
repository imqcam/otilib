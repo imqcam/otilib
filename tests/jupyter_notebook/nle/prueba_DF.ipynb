{
 "cells": [
  {
   "cell_type": "code",
   "execution_count": 2,
   "metadata": {},
   "outputs": [],
   "source": [
    "%reset -f\n",
    "import sys\n",
    "sys.path.append(\"/home/jose/Documents/Maestria/Codigo/OTI/build/\")\n",
    "import Calc_Cable as cab\n",
    "import pyoti.sparse as oti\n",
    "import numpy as np\n",
    "from scipy.optimize import fsolve\n",
    "import matplotlib.pyplot as plt\n",
    "import pyoti.core as coti"
   ]
  },
  {
   "cell_type": "code",
   "execution_count": 7,
   "metadata": {
    "scrolled": false
   },
   "outputs": [
    {
     "name": "stdout",
     "output_type": "stream",
     "text": [
      "gi, fi\n",
      "[[0.35120816]] [[0.66022779]]\n",
      "[[-0.95601517]] [[-0.03647264]]\n",
      "X, Y0\n",
      "[[19.0237752]] [[35.76233865]]\n",
      "[[-37.15048198]] [[25.53388985]]\n",
      "x, y\n",
      "[[0.18283793]] [[0.27398744]]\n",
      "[[-0.35738491]] [[0.24169833]]\n"
     ]
    }
   ],
   "source": [
    "#Lectura de datos de entrada\n",
    "l,h,L0,A0,E,w,cargas = cab.leer_entradas(\"Irvine_1\")\n",
    "\n",
    "#Pertubar parametros (no sirve para perturbar cargas y ubicacion s de las cargas)\n",
    "order = 1\n",
    "nbases = 6\n",
    "e1 = oti.e(1, order=order)\n",
    "e2 = oti.e(2, order=order)\n",
    "e3 = oti.e(3, order=order)\n",
    "e4 = oti.e(4, order=order)\n",
    "e5 = oti.e(5, order=order)\n",
    "e6 = oti.e(6, order=order)\n",
    "#l = l + e1\n",
    "#h = h + e2\n",
    "L0 = L0 + e3\n",
    "#A0 = A0 + e4\n",
    "#E = E + e5\n",
    "#w = w + e6\n",
    "\n",
    "#convertir adimensionales\n",
    "gamma,delta,beta,Psi,Sigmas = cab.param_adim(l,h,L0,A0,E,w,cargas)\n",
    "\n",
    "#calcular las incognitas gi fi\n",
    "gi_0, fi_0 = 0.3, 0.4 #valores iniciales para iterar en newton\n",
    "gi,fi = cab.calc_gi_fi(order,nbases,gamma,delta,beta,Psi,Sigmas,gi_0,fi_0)\n",
    "\n",
    "#Reacciones\n",
    "\n",
    "X = gi*w*L0\n",
    "Y0 = fi*w*L0\n",
    "\n",
    "#dX/dL0 , dY0/dL0\n",
    "d = 3\n",
    "print(\"gi, fi\")\n",
    "print(gi.get_deriv(0), fi.get_deriv(0))\n",
    "print(gi.get_deriv(d), fi.get_deriv(d))\n",
    "\n",
    "#dX/dL0 , dY0/dL0\n",
    "d = 3\n",
    "print(\"X, Y0\")\n",
    "print(X.get_deriv(0), Y0.get_deriv(0))\n",
    "print(X.get_im(d), Y0.get_im(d))\n",
    "\n",
    "#puntos de la carga 1\n",
    "n = 1\n",
    "xi, eta, tau = cab.solu(gi,fi,beta,Psi,Sigmas,Sigmas[n],n)\n",
    "x = xi*L0\n",
    "y = eta*L0\n",
    "\n",
    "#dx/dL0 , dy/dL0\n",
    "d = 3\n",
    "print(\"x, y\")\n",
    "print(x.get_deriv(0), y.get_deriv(0))\n",
    "print(x.get_deriv(d), y.get_deriv(d))"
   ]
  },
  {
   "cell_type": "code",
   "execution_count": 46,
   "metadata": {},
   "outputs": [],
   "source": [
    "def puntos(x0, n, ht=0):\n",
    "    l,h,L0,A0,E,w,cargas = cab.leer_entradas(\"Irvine_1\")\n",
    "    L0 += ht\n",
    "    gamma,delta,beta,Psi_oti,Sigmas_oti = cab.param_adim(l,h,L0,A0,E,w,cargas)\n",
    "    Psi = Psi_oti.get_deriv(0)\n",
    "    Sigmas = Sigmas_oti.get_deriv(0)\n",
    "    gf = fsolve(func, x0, args=(gamma,delta,beta,Psi,Sigmas))\n",
    "    s = Sigmas[n]\n",
    "    sum_xi = 0\n",
    "    sum_eta = 0\n",
    "    for i in range(n):\n",
    "        sum_xi = sum_xi + np.arcsinh((gf[1]-Psi[i+2]-Sigmas[i+1])/gf[0]) - np.arcsinh((gf[1]-Psi[i+1]-Sigmas[i+1])/gf[0])\n",
    "        sum_eta = sum_eta + beta*Psi[i+2]*(Sigmas[i+1]-s) + np.sqrt(gf[0]**2 + (gf[1]-Psi[i+2]-Sigmas[i+1])**2) - np.sqrt(gf[0]**2 + (gf[1]-Psi[i+1]-Sigmas[i+1])**2)\n",
    "    xi = gf[0]*(beta*s + np.arcsinh(gf[1]/gf[0]) - np.arcsinh((gf[1]-np.sum(Psi[:n+2])-s)/gf[0]) + sum_xi)\n",
    "    eta = beta*s*(gf[1]-s/2) + np.sqrt(gf[0]**2 + gf[1]**2) - np.sqrt(gf[0]**2 + (gf[1]-np.sum(Psi[:n+2])-s)**2) + sum_eta\n",
    "    p = np.array([xi,eta])*L0  \n",
    "    return(p)"
   ]
  },
  {
   "cell_type": "code",
   "execution_count": 47,
   "metadata": {},
   "outputs": [],
   "source": [
    "def root(x0, ht=0):\n",
    "    l,h,L0,A0,E,w,cargas = cab.leer_entradas(\"Irvine_1\")\n",
    "    L0 += ht\n",
    "    gamma,delta,beta,Psi_oti,Sigmas_oti = cab.param_adim(l,h,L0,A0,E,w,cargas)\n",
    "    Psi = Psi_oti.get_deriv(0)\n",
    "    Sigmas = Sigmas_oti.get_deriv(0)\n",
    "    return fsolve(func, x0, args=(gamma,delta,beta,Psi,Sigmas))*w*L0"
   ]
  },
  {
   "cell_type": "code",
   "execution_count": 48,
   "metadata": {},
   "outputs": [],
   "source": [
    "def func(x,gamma,delta,beta,Psi,Sigmas):\n",
    "    f = np.zeros(2)\n",
    "    sum_gi = 0\n",
    "    sum_fi = 0\n",
    "    for i in range(len(Sigmas)):\n",
    "        sum_gi = sum_gi + np.arcsinh((x[1]-Psi[i+1]-Sigmas[i])/x[0]) - np.arcsinh((x[1]-Psi[i]-Sigmas[i])/x[0])\n",
    "        sum_fi = sum_fi + beta*Psi[i+1]*(Sigmas[i]-1) + np.sqrt((x[1]-Psi[i+1]-Sigmas[i])**2 + x[0]**2) - np.sqrt((x[1]-Psi[i]-Sigmas[i])**2 + x[0]**2)\n",
    "    f[0] = beta - gamma/x[0] + np.arcsinh(x[1]/x[0]) - np.arcsinh((x[1]-np.sum(Psi)-1)/x[0]) + sum_gi\n",
    "    f[1] = beta*(x[1]-0.5) - delta + np.sqrt(x[1]**2+x[0]**2) - np.sqrt((x[1]-np.sum(Psi)-1)**2 + x[0]**2) + sum_fi\n",
    "    return f"
   ]
  },
  {
   "cell_type": "code",
   "execution_count": 49,
   "metadata": {},
   "outputs": [],
   "source": [
    "x0 = np.array([0.3, 0.4])\n",
    "ht = 1e-10"
   ]
  },
  {
   "cell_type": "code",
   "execution_count": 50,
   "metadata": {},
   "outputs": [
    {
     "name": "stdout",
     "output_type": "stream",
     "text": [
      "(X, Y0) =  [24.03646052 33.10896976]\n",
      "(dX/dL0, dY0/dL0) =  [-67.85512596  27.51598061]\n",
      "(x, y) =  [[0.2238339 ]\n",
      " [0.24128018]]\n",
      "(dx/dL0, dy/dL0) =  [[-0.46187804]\n",
      " [ 0.43181153]]\n"
     ]
    }
   ],
   "source": [
    "XY0 = root(x0)\n",
    "dXY0 = (root(x0,ht) - root(x0))/ht\n",
    "print(\"(X, Y0) = \", XY0)\n",
    "print(\"(dX/dL0, dY0/dL0) = \", dXY0)\n",
    "\n",
    "n = 1\n",
    "p = puntos(x0, n)\n",
    "dp_L0 = (puntos(x0,n,ht) - puntos(x0,n))/ht\n",
    "print(\"(x, y) = \", p)\n",
    "print(\"(dx/dL0, dy/dL0) = \", dp_L0)"
   ]
  }
 ],
 "metadata": {
  "kernelspec": {
   "display_name": "Python 3",
   "language": "python",
   "name": "python3"
  },
  "language_info": {
   "codemirror_mode": {
    "name": "ipython",
    "version": 3
   },
   "file_extension": ".py",
   "mimetype": "text/x-python",
   "name": "python",
   "nbconvert_exporter": "python",
   "pygments_lexer": "ipython3",
   "version": "3.6.9"
  }
 },
 "nbformat": 4,
 "nbformat_minor": 2
}
