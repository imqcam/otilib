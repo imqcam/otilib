{
 "cells": [
  {
   "cell_type": "code",
   "execution_count": 1,
   "metadata": {},
   "outputs": [],
   "source": [
    "import spr_otilib as dn\n",
    "dnfloat = dn.np.float64\n",
    "e = dn.e\n",
    "dn.np.set_printoptions(precision=4)\n",
    "\n",
    "\n",
    "\n",
    "import sympy as sym\n",
    "sym.init_printing()"
   ]
  },
  {
   "cell_type": "code",
   "execution_count": 2,
   "metadata": {
    "collapsed": true
   },
   "outputs": [],
   "source": [
    "# Create a function to be evaluated with dual numbers.\n",
    "\n",
    "def f1d(x1d,x2d,x3d):\n",
    "    # Simple case scenario.\n",
    "    #return dn.sin(dn.cos(x1d*x2d*x3d))\n",
    "    \n",
    "    # Good performance difference with respect to sympy.\n",
    "    return dn.sin(dn.log(x1d**2*dn.exp(x2d*x3d**3))*dn.cos(x1d**3*x2d**2*x3d**4)) \n",
    "    \n",
    "    #return dn.log(x1d+x2d+x3d)\n",
    "    \n",
    "    # Interestingly, for this power function the computational time depends only\n",
    "    # on the order of the given dualnumber. The higher the longer it takes to \n",
    "    # compute. For lower functions\n",
    "    # return dn.power(x1d,2)\n",
    "    \n",
    "    # Function of FIKE in paper THe development of HyperDual Numbers...\n",
    "    # y = e^x/sqrt((sin(x))^3+(cos(x))^3).\n",
    "    #return dn.exp(x1d)*dn.power(dn.power(dn.sin(x1d)**3 + dn.cos(x1d)**3,0.5),-1) #dn.exp(x1d) #(dn.sin(x1d)**3 + dn.cos(x1d)**3)"
   ]
  },
  {
   "cell_type": "code",
   "execution_count": 3,
   "metadata": {},
   "outputs": [
    {
     "data": {
      "image/png": "[encoded data removed]",
      "text/latex": [
       "$$\\sin{\\left (\\log{\\left (x_{1}^{2} e^{x_{2} x_{3}^{3}} \\right )} \\cos{\\left (x_{1}^{3} x_{2}^{2} x_{3}^{4} \\right )} \\right )}$$"
      ],
      "text/plain": [
       "   ⎛   ⎛          3⎞                 ⎞\n",
       "   ⎜   ⎜  2  x₂⋅x₃ ⎟    ⎛  3   2   4⎞⎟\n",
       "sin⎝log⎝x₁ ⋅ℯ      ⎠⋅cos⎝x₁ ⋅x₂ ⋅x₃ ⎠⎠"
      ]
     },
     "execution_count": 3,
     "metadata": {},
     "output_type": "execute_result"
    }
   ],
   "source": [
    "# Create the same function with symbols\n",
    "x1s, x2s, x3s = sym.symbols('x1 x2 x3')\n",
    "\n",
    "#f1s  = sym.sin(sym.cos(x1s*x2s*x3s))\n",
    "f1s  = sym.sin(sym.log(x1s**2*sym.exp(x2s*x3s**3))*sym.cos(x1s**3*x2s**2*x3s**4))\n",
    "#f1s = sym.log(x1s+x2s +x3s)\n",
    "#f1s = sym.exp(x1s)/sym.sqrt(sym.sin(x1s)**3 + sym.cos(x1s)**3)\n",
    "#f1s  = x1s**2\n",
    "  \n",
    "f1s"
   ]
  },
  {
   "cell_type": "code",
   "execution_count": 4,
   "metadata": {},
   "outputs": [
    {
     "name": "stdout",
     "output_type": "stream",
     "text": [
      "3.0 + 1.0 * e([3]) \n"
     ]
    }
   ],
   "source": [
    "# Define the evaluation points for both functions.\n",
    "x1n=1.5\n",
    "x2n=2\n",
    "x3n=3\n",
    "\n",
    "x1_dir = 1 \n",
    "x2_dir = 2\n",
    "x3_dir = 3\n",
    "\n",
    "\n",
    "# Dual numbers\n",
    "x1d = x1n + e(x1_dir)\n",
    "x2d = x2n + e(x2_dir)\n",
    "x3d = x3n + e(x3_dir)\n",
    "\n",
    "print(x3d)"
   ]
  },
  {
   "cell_type": "markdown",
   "metadata": {},
   "source": []
  },
  {
   "cell_type": "code",
   "execution_count": 5,
   "metadata": {},
   "outputs": [],
   "source": [
    "# Change the order of the dual numbers in order to get the \n",
    "# appropriate results.\n",
    "\n",
    "newOrder = 3\n",
    "\n",
    "x1d.changeOrder(newOrder)\n",
    "x2d.changeOrder(newOrder)\n",
    "x3d.changeOrder(newOrder)"
   ]
  },
  {
   "cell_type": "markdown",
   "metadata": {},
   "source": [
    "%timeit dn.findCombPy(17,3)\n",
    "%timeit dn.findComb(17,3)"
   ]
  },
  {
   "cell_type": "markdown",
   "metadata": {},
   "source": [
    "print(x3d)"
   ]
  },
  {
   "cell_type": "code",
   "execution_count": 6,
   "metadata": {},
   "outputs": [
    {
     "name": "stdout",
     "output_type": "stream",
     "text": [
      "10 loops, best of 3: 46.4 ms per loop\n"
     ]
    }
   ],
   "source": [
    "%timeit f1d(x1d,x2d,x3d)\n",
    "# we started at 67 ms for order 3 derivatives"
   ]
  },
  {
   "cell_type": "code",
   "execution_count": 7,
   "metadata": {},
   "outputs": [
    {
     "name": "stdout",
     "output_type": "stream",
     "text": [
      "- 0.013029400847568795 + 26828.913487464422 * e([1]) + 132451064.54422745 * e([[1,2]]) - 3195626018757.058 * e([[1,3]]) + 13388.793796378603 * e([2]) + 132463925.42531537 * e([1,2]) - 4784090024275.257 * e([[1,2],2]) + 33113611.34842517 * e([[2,2]]) - 2387434537961.4985 * e([1,[2,2]]) - 397148012634.2918 * e([[2,3]]) + 17834.183300355926 * e([3]) + 176621245.2987661 * e([1,3]) - 6372456598145.901 * e([[1,2],3]) + 88313225.5864411 * e([2,3]) - 6360085774432.198 * e([1,2,3]) - 1586971410297.4822 * e([[2,2],3]) + 58873401.19385786 * e([[3,2]]) - 4235878738229.215 * e([1,[3,2]]) - 2113847237157.594 * e([2,[3,2]]) - 938568359455.5558 * e([[3,3]]) \n"
     ]
    }
   ],
   "source": [
    "# Evaluate the functions and retreive al the corresponding derivatives:\n",
    "#%timeit f1d(x1d,x2d,x3d)\n",
    "f1d_eval = f1d(x1d,x2d,x3d)\n",
    "print(f1d_eval)\n",
    "# print(f1d_eval)\n",
    "# print(repr(f1d_eval))\n",
    "\n",
    "# Retreive the derivatives using the dual numbers.\n",
    "f_d = f1d_eval[0]\n",
    "\n",
    "# All first derivatives\n",
    "fx1_d = dn.getDerivative(f1d_eval,[x1_dir])\n",
    "fx2_d = dn.getDerivative(f1d_eval,[x2_dir])\n",
    "fx3_d = dn.getDerivative(f1d_eval,[x3_dir])\n",
    "\n",
    "# All second derivatives:\n",
    "fx12_d  = dn.getDerivative(f1d_eval,[[x1_dir,2]])\n",
    "fx22_d  = dn.getDerivative(f1d_eval,[[x2_dir,2]])\n",
    "fx32_d  = dn.getDerivative(f1d_eval,[[x3_dir,2]])\n",
    "fx1x2_d = dn.getDerivative(f1d_eval,[x1_dir,x2_dir])\n",
    "fx2x3_d = dn.getDerivative(f1d_eval,[x2_dir,x3_dir])\n",
    "fx1x3_d = dn.getDerivative(f1d_eval,[x1_dir,x3_dir])\n",
    "\n",
    "# All third derivatives\n",
    "fx13_d  = dn.getDerivative(f1d_eval,[[x1_dir,3]])\n",
    "fx23_d  = dn.getDerivative(f1d_eval,[[x2_dir,3]])\n",
    "fx33_d  = dn.getDerivative(f1d_eval,[[x3_dir,3]])\n",
    "fx1x2x3_d = dn.getDerivative(f1d_eval,[x1_dir,x2_dir,x3_dir])\n",
    "fx12x2_d = dn.getDerivative(f1d_eval,[[x1_dir,2],x2_dir])\n",
    "fx12x3_d = dn.getDerivative(f1d_eval,[[x1_dir,2],x3_dir])\n",
    "fx1x22_d = dn.getDerivative(f1d_eval,[x1_dir,[x2_dir,2]])\n",
    "fx22x3_d = dn.getDerivative(f1d_eval,[[x2_dir,2],x3_dir])\n",
    "fx1x32_d = dn.getDerivative(f1d_eval,[x1_dir,[x3_dir,2]])\n",
    "fx2x32_d = dn.getDerivative(f1d_eval,[x2_dir,[x3_dir,2]])\n",
    "\n",
    "\n",
    "# 6th derivatives\n",
    "fx1x35_d = dn.getDerivative(f1d_eval,[1,[3,5]])"
   ]
  },
  {
   "cell_type": "code",
   "execution_count": 8,
   "metadata": {},
   "outputs": [],
   "source": [
    "# Compute the derivatives using the symbolic library.\n",
    "f_s =   dnfloat( f1s.replace(x1s,x1n).replace(x2s,x2n).replace(x3s,x3n).expand().evalf().doit()           )\n",
    "\n",
    "# First derivatives:\n",
    "fx1_sy = f1s.diff(x1s)\n",
    "fx1_s = dnfloat( fx1_sy.replace(x1s,x1n).replace(x2s,x2n).replace(x3s,x3n).expand().evalf().doit() )\n",
    "fx2_sy = f1s.diff(x2s)\n",
    "fx2_s = dnfloat( fx2_sy.replace(x1s,x1n).replace(x2s,x2n).replace(x3s,x3n).expand().evalf().doit() )\n",
    "fx3_sy = f1s.diff(x3s)\n",
    "fx3_s = dnfloat( fx3_sy.replace(x1s,x1n).replace(x2s,x2n).replace(x3s,x3n).expand().evalf().doit() )\n",
    "\n",
    "# Second derivatives:\n",
    "fx12_sy = fx1_sy.diff(x1s)\n",
    "fx12_s  = dnfloat( fx12_sy.replace(x1s,x1n).replace(x2s,x2n).replace(x3s,x3n).expand().evalf().doit() )\n",
    "fx22_sy = fx2_sy.diff(x2s)\n",
    "fx22_s  = dnfloat( fx22_sy.replace(x1s,x1n).replace(x2s,x2n).replace(x3s,x3n).expand().evalf().doit() )\n",
    "fx32_sy = fx3_sy.diff(x3s)\n",
    "fx32_s  = dnfloat( fx32_sy.replace(x1s,x1n).replace(x2s,x2n).replace(x3s,x3n).expand().evalf().doit() )\n",
    "fx1x2_sy = fx1_sy.diff(x2s)\n",
    "fx1x2_s = dnfloat( fx1x2_sy.replace(x1s,x1n).replace(x2s,x2n).replace(x3s,x3n).expand().evalf().doit() )\n",
    "fx2x3_sy = fx2_sy.diff(x3s)\n",
    "fx2x3_s = dnfloat( fx2x3_sy.replace(x1s,x1n).replace(x2s,x2n).replace(x3s,x3n).expand().evalf().doit() )\n",
    "fx1x3_sy = fx1_sy.diff(x3s)\n",
    "fx1x3_s = dnfloat( fx1x3_sy.replace(x1s,x1n).replace(x2s,x2n).replace(x3s,x3n).expand().evalf().doit() )\n",
    "\n",
    "\n",
    "# All third derivatives\n",
    "fx13_sy = fx12_sy.diff(x1s)\n",
    "fx13_s  = dnfloat( fx13_sy.replace(x1s,x1n).replace(x2s,x2n).replace(x3s,x3n).expand().evalf().doit() )\n",
    "\n",
    "fx23_sy = fx22_sy.diff(x2s)\n",
    "fx23_s  = dnfloat( fx23_sy.replace(x1s,x1n).replace(x2s,x2n).replace(x3s,x3n).expand().evalf().doit() )\n",
    "\n",
    "fx33_sy = fx32_sy.diff(x3s)\n",
    "fx33_s  = dnfloat( fx33_sy.replace(x1s,x1n).replace(x2s,x2n).replace(x3s,x3n).expand().evalf().doit() )\n",
    "\n",
    "fx1x2x3_sy = fx1x2_sy.diff(x3s)\n",
    "fx1x2x3_s = dnfloat( fx1x2x3_sy.replace(x1s,x1n).replace(x2s,x2n).replace(x3s,x3n).expand().evalf().doit() )\n",
    "\n",
    "fx12x2_sy = fx12_sy.diff(x2s)\n",
    "fx12x2_s = dnfloat( fx12x2_sy.replace(x1s,x1n).replace(x2s,x2n).replace(x3s,x3n).expand().evalf().doit() )\n",
    "\n",
    "fx12x3_sy = fx12_sy.diff(x3s)\n",
    "fx12x3_s = dnfloat( fx12x3_sy.replace(x1s,x1n).replace(x2s,x2n).replace(x3s,x3n).expand().evalf().doit() )\n",
    "\n",
    "fx12x2_sy = fx22_sy.diff(x1s)\n",
    "fx1x22_s = dnfloat( fx12x2_sy.replace(x1s,x1n).replace(x2s,x2n).replace(x3s,x3n).expand().evalf().doit() )\n",
    "\n",
    "fx22x3_sy = fx22_sy.diff(x3s)\n",
    "fx22x3_s = dnfloat( fx22x3_sy.replace(x1s,x1n).replace(x2s,x2n).replace(x3s,x3n).expand().evalf().doit() )\n",
    "\n",
    "fx1x32_sy = fx32_sy.diff(x1s)\n",
    "fx1x32_s = dnfloat( fx1x32_sy.replace(x1s,x1n).replace(x2s,x2n).replace(x3s,x3n).expand().evalf().doit() )\n",
    "\n",
    "fx1x32_sy = fx32_sy.diff(x2s)\n",
    "fx2x32_s = dnfloat( fx1x32_sy.replace(x1s,x1n).replace(x2s,x2n).replace(x3s,x3n).expand().evalf().doit() )\n",
    "fx1x32_sy\n",
    "\n",
    "fx1x35_sy = fx32_sy.diff(x3s,3).diff(x1s)\n",
    "fx1x35_s = dnfloat( fx1x35_sy.replace(x1s,x1n).replace(x2s,x2n).replace(x3s,x3n).expand().evalf().doit() )"
   ]
  },
  {
   "cell_type": "code",
   "execution_count": 10,
   "metadata": {},
   "outputs": [
    {
     "data": {
      "image/png": "[encoded data removed]",
      "text/latex": [
       "$$- \\left(- 2 x_{1}^{3} x_{2} x_{3}^{4} \\log{\\left (x_{1}^{2} e^{x_{2} x_{3}^{3}} \\right )} \\sin{\\left (x_{1}^{3} x_{2}^{2} x_{3}^{4} \\right )} + x_{3}^{3} \\cos{\\left (x_{1}^{3} x_{2}^{2} x_{3}^{4} \\right )}\\right) \\left(- 4 x_{1}^{3} x_{2}^{2} x_{3}^{3} \\log{\\left (x_{1}^{2} e^{x_{2} x_{3}^{3}} \\right )} \\sin{\\left (x_{1}^{3} x_{2}^{2} x_{3}^{4} \\right )} + 3 x_{2} x_{3}^{2} \\cos{\\left (x_{1}^{3} x_{2}^{2} x_{3}^{4} \\right )}\\right)^{2} \\cos{\\left (\\log{\\left (x_{1}^{2} e^{x_{2} x_{3}^{3}} \\right )} \\cos{\\left (x_{1}^{3} x_{2}^{2} x_{3}^{4} \\right )} \\right )} - \\left(- 2 x_{1}^{3} x_{2} x_{3}^{4} \\log{\\left (x_{1}^{2} e^{x_{2} x_{3}^{3}} \\right )} \\sin{\\left (x_{1}^{3} x_{2}^{2} x_{3}^{4} \\right )} + x_{3}^{3} \\cos{\\left (x_{1}^{3} x_{2}^{2} x_{3}^{4} \\right )}\\right) \\left(- 16 x_{1}^{6} x_{2}^{4} x_{3}^{6} \\log{\\left (x_{1}^{2} e^{x_{2} x_{3}^{3}} \\right )} \\cos{\\left (x_{1}^{3} x_{2}^{2} x_{3}^{4} \\right )} - 24 x_{1}^{3} x_{2}^{3} x_{3}^{5} \\sin{\\left (x_{1}^{3} x_{2}^{2} x_{3}^{4} \\right )} - 12 x_{1}^{3} x_{2}^{2} x_{3}^{2} \\log{\\left (x_{1}^{2} e^{x_{2} x_{3}^{3}} \\right )} \\sin{\\left (x_{1}^{3} x_{2}^{2} x_{3}^{4} \\right )} + 6 x_{2} x_{3} \\cos{\\left (x_{1}^{3} x_{2}^{2} x_{3}^{4} \\right )}\\right) \\sin{\\left (\\log{\\left (x_{1}^{2} e^{x_{2} x_{3}^{3}} \\right )} \\cos{\\left (x_{1}^{3} x_{2}^{2} x_{3}^{4} \\right )} \\right )} - \\left(- 4 x_{1}^{3} x_{2}^{2} x_{3}^{3} \\log{\\left (x_{1}^{2} e^{x_{2} x_{3}^{3}} \\right )} \\sin{\\left (x_{1}^{3} x_{2}^{2} x_{3}^{4} \\right )} + 3 x_{2} x_{3}^{2} \\cos{\\left (x_{1}^{3} x_{2}^{2} x_{3}^{4} \\right )}\\right) \\left(- 16 x_{1}^{6} x_{2}^{3} x_{3}^{7} \\log{\\left (x_{1}^{2} e^{x_{2} x_{3}^{3}} \\right )} \\cos{\\left (x_{1}^{3} x_{2}^{2} x_{3}^{4} \\right )} - 20 x_{1}^{3} x_{2}^{2} x_{3}^{6} \\sin{\\left (x_{1}^{3} x_{2}^{2} x_{3}^{4} \\right )} - 16 x_{1}^{3} x_{2} x_{3}^{3} \\log{\\left (x_{1}^{2} e^{x_{2} x_{3}^{3}} \\right )} \\sin{\\left (x_{1}^{3} x_{2}^{2} x_{3}^{4} \\right )} + 6 x_{3}^{2} \\cos{\\left (x_{1}^{3} x_{2}^{2} x_{3}^{4} \\right )}\\right) \\sin{\\left (\\log{\\left (x_{1}^{2} e^{x_{2} x_{3}^{3}} \\right )} \\cos{\\left (x_{1}^{3} x_{2}^{2} x_{3}^{4} \\right )} \\right )} + \\left(32 x_{1}^{9} x_{2}^{5} x_{3}^{10} \\log{\\left (x_{1}^{2} e^{x_{2} x_{3}^{3}} \\right )} \\sin{\\left (x_{1}^{3} x_{2}^{2} x_{3}^{4} \\right )} - 64 x_{1}^{6} x_{2}^{4} x_{3}^{9} \\cos{\\left (x_{1}^{3} x_{2}^{2} x_{3}^{4} \\right )} - 88 x_{1}^{6} x_{2}^{3} x_{3}^{6} \\log{\\left (x_{1}^{2} e^{x_{2} x_{3}^{3}} \\right )} \\cos{\\left (x_{1}^{3} x_{2}^{2} x_{3}^{4} \\right )} - 96 x_{1}^{3} x_{2}^{2} x_{3}^{5} \\sin{\\left (x_{1}^{3} x_{2}^{2} x_{3}^{4} \\right )} - 24 x_{1}^{3} x_{2} x_{3}^{2} \\log{\\left (x_{1}^{2} e^{x_{2} x_{3}^{3}} \\right )} \\sin{\\left (x_{1}^{3} x_{2}^{2} x_{3}^{4} \\right )} + 6 x_{3} \\cos{\\left (x_{1}^{3} x_{2}^{2} x_{3}^{4} \\right )}\\right) \\cos{\\left (\\log{\\left (x_{1}^{2} e^{x_{2} x_{3}^{3}} \\right )} \\cos{\\left (x_{1}^{3} x_{2}^{2} x_{3}^{4} \\right )} \\right )}$$"
      ],
      "text/plain": [
       "                                                                              \n",
       "  ⎛                  ⎛          3⎞                                        ⎞ ⎛ \n",
       "  ⎜      3      4    ⎜  2  x₂⋅x₃ ⎟    ⎛  3   2   4⎞     3    ⎛  3   2   4⎞⎟ ⎜ \n",
       "- ⎝- 2⋅x₁ ⋅x₂⋅x₃ ⋅log⎝x₁ ⋅ℯ      ⎠⋅sin⎝x₁ ⋅x₂ ⋅x₃ ⎠ + x₃ ⋅cos⎝x₁ ⋅x₂ ⋅x₃ ⎠⎠⋅⎝-\n",
       "\n",
       "                                                                             2\n",
       "                  ⎛          3⎞                                             ⎞ \n",
       "     3   2   3    ⎜  2  x₂⋅x₃ ⎟    ⎛  3   2   4⎞          2    ⎛  3   2   4⎞⎟ \n",
       " 4⋅x₁ ⋅x₂ ⋅x₃ ⋅log⎝x₁ ⋅ℯ      ⎠⋅sin⎝x₁ ⋅x₂ ⋅x₃ ⎠ + 3⋅x₂⋅x₃ ⋅cos⎝x₁ ⋅x₂ ⋅x₃ ⎠⎠ \n",
       "\n",
       "                                                                              \n",
       "    ⎛   ⎛          3⎞                 ⎞   ⎛                  ⎛          3⎞    \n",
       "    ⎜   ⎜  2  x₂⋅x₃ ⎟    ⎛  3   2   4⎞⎟   ⎜      3      4    ⎜  2  x₂⋅x₃ ⎟    \n",
       "⋅cos⎝log⎝x₁ ⋅ℯ      ⎠⋅cos⎝x₁ ⋅x₂ ⋅x₃ ⎠⎠ - ⎝- 2⋅x₁ ⋅x₂⋅x₃ ⋅log⎝x₁ ⋅ℯ      ⎠⋅sin\n",
       "\n",
       "                                                                              \n",
       "                                    ⎞ ⎛                    ⎛          3⎞      \n",
       "⎛  3   2   4⎞     3    ⎛  3   2   4⎞⎟ ⎜       6   4   6    ⎜  2  x₂⋅x₃ ⎟    ⎛ \n",
       "⎝x₁ ⋅x₂ ⋅x₃ ⎠ + x₃ ⋅cos⎝x₁ ⋅x₂ ⋅x₃ ⎠⎠⋅⎝- 16⋅x₁ ⋅x₂ ⋅x₃ ⋅log⎝x₁ ⋅ℯ      ⎠⋅cos⎝x\n",
       "\n",
       "                                                                              \n",
       "                                                                  ⎛          3\n",
       " 3   2   4⎞        3   3   5    ⎛  3   2   4⎞        3   2   2    ⎜  2  x₂⋅x₃ \n",
       "₁ ⋅x₂ ⋅x₃ ⎠ - 24⋅x₁ ⋅x₂ ⋅x₃ ⋅sin⎝x₁ ⋅x₂ ⋅x₃ ⎠ - 12⋅x₁ ⋅x₂ ⋅x₃ ⋅log⎝x₁ ⋅ℯ      \n",
       "\n",
       "                                                                              \n",
       "⎞                                            ⎞    ⎛   ⎛          3⎞           \n",
       "⎟    ⎛  3   2   4⎞              ⎛  3   2   4⎞⎟    ⎜   ⎜  2  x₂⋅x₃ ⎟    ⎛  3   \n",
       "⎠⋅sin⎝x₁ ⋅x₂ ⋅x₃ ⎠ + 6⋅x₂⋅x₃⋅cos⎝x₁ ⋅x₂ ⋅x₃ ⎠⎠⋅sin⎝log⎝x₁ ⋅ℯ      ⎠⋅cos⎝x₁ ⋅x₂\n",
       "\n",
       "                                                                              \n",
       "      ⎞   ⎛                   ⎛          3⎞                                   \n",
       "2   4⎞⎟   ⎜      3   2   3    ⎜  2  x₂⋅x₃ ⎟    ⎛  3   2   4⎞          2    ⎛  \n",
       " ⋅x₃ ⎠⎠ - ⎝- 4⋅x₁ ⋅x₂ ⋅x₃ ⋅log⎝x₁ ⋅ℯ      ⎠⋅sin⎝x₁ ⋅x₂ ⋅x₃ ⎠ + 3⋅x₂⋅x₃ ⋅cos⎝x₁\n",
       "\n",
       "                                                                              \n",
       "          ⎞ ⎛                    ⎛          3⎞                                \n",
       "3   2   4⎞⎟ ⎜       6   3   7    ⎜  2  x₂⋅x₃ ⎟    ⎛  3   2   4⎞        3   2  \n",
       " ⋅x₂ ⋅x₃ ⎠⎠⋅⎝- 16⋅x₁ ⋅x₂ ⋅x₃ ⋅log⎝x₁ ⋅ℯ      ⎠⋅cos⎝x₁ ⋅x₂ ⋅x₃ ⎠ - 20⋅x₁ ⋅x₂ ⋅x\n",
       "\n",
       "                                                                              \n",
       "                                       ⎛          3⎞                          \n",
       " 6    ⎛  3   2   4⎞        3      3    ⎜  2  x₂⋅x₃ ⎟    ⎛  3   2   4⎞       2 \n",
       "₃ ⋅sin⎝x₁ ⋅x₂ ⋅x₃ ⎠ - 16⋅x₁ ⋅x₂⋅x₃ ⋅log⎝x₁ ⋅ℯ      ⎠⋅sin⎝x₁ ⋅x₂ ⋅x₃ ⎠ + 6⋅x₃ ⋅\n",
       "\n",
       "                                                                              \n",
       "                ⎞    ⎛   ⎛          3⎞                 ⎞   ⎛                  \n",
       "   ⎛  3   2   4⎞⎟    ⎜   ⎜  2  x₂⋅x₃ ⎟    ⎛  3   2   4⎞⎟   ⎜     9   5   10   \n",
       "cos⎝x₁ ⋅x₂ ⋅x₃ ⎠⎠⋅sin⎝log⎝x₁ ⋅ℯ      ⎠⋅cos⎝x₁ ⋅x₂ ⋅x₃ ⎠⎠ + ⎝32⋅x₁ ⋅x₂ ⋅x₃  ⋅lo\n",
       "\n",
       "                                                                              \n",
       " ⎛          3⎞                                                                \n",
       " ⎜  2  x₂⋅x₃ ⎟    ⎛  3   2   4⎞        6   4   9    ⎛  3   2   4⎞        6   3\n",
       "g⎝x₁ ⋅ℯ      ⎠⋅sin⎝x₁ ⋅x₂ ⋅x₃ ⎠ - 64⋅x₁ ⋅x₂ ⋅x₃ ⋅cos⎝x₁ ⋅x₂ ⋅x₃ ⎠ - 88⋅x₁ ⋅x₂ \n",
       "\n",
       "                                                                              \n",
       "        ⎛          3⎞                                                         \n",
       "   6    ⎜  2  x₂⋅x₃ ⎟    ⎛  3   2   4⎞        3   2   5    ⎛  3   2   4⎞      \n",
       "⋅x₃ ⋅log⎝x₁ ⋅ℯ      ⎠⋅cos⎝x₁ ⋅x₂ ⋅x₃ ⎠ - 96⋅x₁ ⋅x₂ ⋅x₃ ⋅sin⎝x₁ ⋅x₂ ⋅x₃ ⎠ - 24⋅\n",
       "\n",
       "                                                                              \n",
       "              ⎛          3⎞                                         ⎞    ⎛   ⎛\n",
       "  3      2    ⎜  2  x₂⋅x₃ ⎟    ⎛  3   2   4⎞           ⎛  3   2   4⎞⎟    ⎜   ⎜\n",
       "x₁ ⋅x₂⋅x₃ ⋅log⎝x₁ ⋅ℯ      ⎠⋅sin⎝x₁ ⋅x₂ ⋅x₃ ⎠ + 6⋅x₃⋅cos⎝x₁ ⋅x₂ ⋅x₃ ⎠⎠⋅cos⎝log⎝\n",
       "\n",
       "                              \n",
       "          3⎞                 ⎞\n",
       "  2  x₂⋅x₃ ⎟    ⎛  3   2   4⎞⎟\n",
       "x₁ ⋅ℯ      ⎠⋅cos⎝x₁ ⋅x₂ ⋅x₃ ⎠⎠"
      ]
     },
     "execution_count": 10,
     "metadata": {},
     "output_type": "execute_result"
    }
   ],
   "source": [
    "fx1x32_sy"
   ]
  },
  {
   "cell_type": "markdown",
   "metadata": {},
   "source": [
    "$$\n",
    "\\frac{\\partial^3 f}{\\partial x_1\\partial x_3 ^2}\n",
    "$$"
   ]
  },
  {
   "cell_type": "code",
   "execution_count": 9,
   "metadata": {},
   "outputs": [
    {
     "name": "stdout",
     "output_type": "stream",
     "text": [
      " --- Comparing results between the libraries ---\n",
      " \n",
      "----------------------------------------------------\n",
      ": Function :    spr_duallib  \t :      sympy      \n",
      "----------------------------------------------------\n",
      ":        f :  -0.013029400847568795\t : -0.0130294008476\n",
      "----------------------------------------------------\n",
      ":      fx1 :  26828.913487464422\t : 26828.9134875\n",
      "----------------------------------------------------\n",
      ":      fx2 :  13388.793796378603\t : 13388.7937964\n",
      "----------------------------------------------------\n",
      ":      fx3 :  17834.183300355926\t : 17834.1833004\n",
      "----------------------------------------------------\n",
      ":    fx1^2 :  264902129.0884549\t : 264902129.088\n",
      "----------------------------------------------------\n",
      ":    fx2^2 :  66227222.69685034\t : 66227222.6969\n",
      "----------------------------------------------------\n",
      ":    fx3^2 :  117746802.38771573\t : 117746802.388\n",
      "----------------------------------------------------\n",
      ":    fx1x2 :  132463925.42531537\t : 132463925.425\n",
      "----------------------------------------------------\n",
      ":    fx1x3 :  176621245.2987661\t : 176621245.299\n",
      "----------------------------------------------------\n",
      ":    fx2x3 :  88313225.5864411\t : 88313225.5864\n",
      "----------------------------------------------------\n",
      ":     fx13 :  -19173756112542.348\t : -1.91737561125e+13\n",
      "----------------------------------------------------\n",
      ":     fx23 :  -2382888075805.751\t : -2.38288807581e+12\n",
      "----------------------------------------------------\n",
      ":     fx33 :  -5631410156733.335\t : -5.63141015673e+12\n",
      "----------------------------------------------------\n",
      ":  fx1x2x3 :  -6360085774432.198\t : -6.36008577443e+12\n",
      "----------------------------------------------------\n",
      ":   fx12x2 :  -9568180048550.514\t : -9.56818004855e+12\n",
      "----------------------------------------------------\n",
      ":   fx12x3 :  -12744913196291.803\t : -1.27449131963e+13\n",
      "----------------------------------------------------\n",
      ":   fx1x22 :  -4774869075922.997\t : -4.77486907592e+12\n",
      "----------------------------------------------------\n",
      ":   fx22x3 :  -3173942820594.9644\t : -3.17394282059e+12\n",
      "----------------------------------------------------\n",
      ":   fx1x32 :  -8471757476458.43\t : -8.47175747646e+12\n",
      "----------------------------------------------------\n",
      ":   fx2x32 :  -4227694474315.188\t : -4.22769447432e+12\n",
      "----------------------------------------------------\n",
      ":   fx1x35 :  0.0\t : 2.31804329187e+26\n",
      "----------------------------------------------------\n"
     ]
    }
   ],
   "source": [
    "# Compare results:\n",
    "\n",
    "print(\" --- Comparing results between the libraries ---\")\n",
    "print(\" \")\n",
    "print(\"----------------------------------------------------\")\n",
    "print(\": Function :    spr_duallib  \\t :      sympy      \")\n",
    "print(\"----------------------------------------------------\")\n",
    "print(\":        f :  \" + str(f_d)+\"\\t : \" + str(f_s)  ) \n",
    "print(\"----------------------------------------------------\")\n",
    "print(\":      fx1 :  \" + str(fx1_d)+\"\\t : \" + str(fx1_s))\n",
    "print(\"----------------------------------------------------\")\n",
    "print(\":      fx2 :  \" + str(fx2_d)+\"\\t : \" + str(fx2_s))\n",
    "print(\"----------------------------------------------------\")\n",
    "print(\":      fx3 :  \" + str(fx3_d)+\"\\t : \" + str(fx3_s) )\n",
    "print(\"----------------------------------------------------\")\n",
    "print(\":    fx1^2 :  \" + str(fx12_d)+\"\\t : \" + str(fx12_s))\n",
    "print(\"----------------------------------------------------\")\n",
    "print(\":    fx2^2 :  \" + str(fx22_d)+\"\\t : \" + str(fx22_s))\n",
    "print(\"----------------------------------------------------\")\n",
    "print(\":    fx3^2 :  \" + str(fx32_d)+\"\\t : \" + str(fx32_s))\n",
    "print(\"----------------------------------------------------\")\n",
    "print(\":    fx1x2 :  \" + str(fx1x2_d)+\"\\t : \" + str(fx1x2_s))\n",
    "print(\"----------------------------------------------------\")\n",
    "print(\":    fx1x3 :  \" + str(fx1x3_d)+\"\\t : \" + str(fx1x3_s))\n",
    "print(\"----------------------------------------------------\")\n",
    "print(\":    fx2x3 :  \" + str(fx2x3_d)+\"\\t : \" + str(fx2x3_s))\n",
    "print(\"----------------------------------------------------\")\n",
    "print(\":     fx13 :  \" + str(fx13_d)+\"\\t : \" + str(fx13_s))\n",
    "print(\"----------------------------------------------------\")\n",
    "print(\":     fx23 :  \" + str(fx23_d)+\"\\t : \" + str(fx23_s))\n",
    "print(\"----------------------------------------------------\")\n",
    "print(\":     fx33 :  \" + str(fx33_d)+\"\\t : \" + str(fx33_s))\n",
    "print(\"----------------------------------------------------\")\n",
    "print(\":  fx1x2x3 :  \" + str(fx1x2x3_d)+\"\\t : \" + str(fx1x2x3_s))\n",
    "print(\"----------------------------------------------------\")\n",
    "print(\":   fx12x2 :  \" + str(fx12x2_d)+\"\\t : \" + str(fx12x2_s))\n",
    "print(\"----------------------------------------------------\")\n",
    "print(\":   fx12x3 :  \" + str(fx12x3_d)+\"\\t : \" + str(fx12x3_s))\n",
    "print(\"----------------------------------------------------\")\n",
    "print(\":   fx1x22 :  \" + str(fx1x22_d)+\"\\t : \" + str(fx1x22_s))\n",
    "print(\"----------------------------------------------------\")\n",
    "print(\":   fx22x3 :  \" + str(fx22x3_d)+\"\\t : \" + str(fx22x3_s))\n",
    "print(\"----------------------------------------------------\")\n",
    "print(\":   fx1x32 :  \" + str(fx1x32_d)+\"\\t : \" + str(fx1x32_s))\n",
    "print(\"----------------------------------------------------\")\n",
    "print(\":   fx2x32 :  \" + str(fx2x32_d)+\"\\t : \" + str(fx2x32_s))\n",
    "print(\"----------------------------------------------------\")\n",
    "print(\":   fx1x35 :  \" + str(fx1x35_d)+\"\\t : \" + str(fx1x35_s))\n",
    "print(\"----------------------------------------------------\")"
   ]
  },
  {
   "cell_type": "code",
   "execution_count": null,
   "metadata": {},
   "outputs": [],
   "source": [
    "\n",
    "dirA = dn.np.array([3],dtype=dn.np.int16)\n",
    "expA = dn.np.array([2],dtype=dn.np.int8)\n",
    "dn.getDerivByDirExp(f1d_eval,dirA,expA)"
   ]
  },
  {
   "cell_type": "code",
   "execution_count": null,
   "metadata": {},
   "outputs": [],
   "source": [
    "f1d_eval.indx"
   ]
  },
  {
   "cell_type": "code",
   "execution_count": null,
   "metadata": {
    "collapsed": true
   },
   "outputs": [],
   "source": []
  },
  {
   "cell_type": "code",
   "execution_count": null,
   "metadata": {
    "collapsed": true
   },
   "outputs": [],
   "source": []
  },
  {
   "cell_type": "code",
   "execution_count": null,
   "metadata": {
    "collapsed": true
   },
   "outputs": [],
   "source": [
    "x1n=1.5\n",
    "x2n=2\n",
    "x3n=3"
   ]
  },
  {
   "cell_type": "code",
   "execution_count": null,
   "metadata": {},
   "outputs": [],
   "source": [
    "%timeit x1d**4\n",
    "x1d**100"
   ]
  },
  {
   "cell_type": "code",
   "execution_count": null,
   "metadata": {},
   "outputs": [],
   "source": [
    "%timeit dn.sin(x1d)\n",
    "dn.power(x1d,100)"
   ]
  },
  {
   "cell_type": "code",
   "execution_count": null,
   "metadata": {},
   "outputs": [],
   "source": [
    "xd = dn.power(x1d,100)\n",
    "\n",
    "%timeit xd + xd"
   ]
  },
  {
   "cell_type": "code",
   "execution_count": null,
   "metadata": {},
   "outputs": [],
   "source": []
  }
 ],
 "metadata": {
  "kernelspec": {
   "display_name": "Python 3",
   "language": "python",
   "name": "python3"
  },
  "language_info": {
   "codemirror_mode": {
    "name": "ipython",
    "version": 3
   },
   "file_extension": ".py",
   "mimetype": "text/x-python",
   "name": "python",
   "nbconvert_exporter": "python",
   "pygments_lexer": "ipython3",
   "version": "3.6.8"
  }
 },
 "nbformat": 4,
 "nbformat_minor": 1
}
