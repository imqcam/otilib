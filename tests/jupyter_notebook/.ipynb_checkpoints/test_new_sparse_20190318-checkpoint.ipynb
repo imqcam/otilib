{
 "cells": [
  {
   "cell_type": "code",
   "execution_count": 12,
   "metadata": {},
   "outputs": [],
   "source": [
    "import sys\n",
    "sys.path.append('../../build/')\n",
    "\n",
    "# Import sparse and dense OTI libraries.\n",
    "import pyoti.dense  as doti\n",
    "import pyoti.sparse as soti\n",
    "import pyoti.core   as coti\n",
    "\n",
    "# Symbolic library:\n",
    "import sympy as sym\n",
    "\n",
    "h = coti.get_dHelp()\n",
    "imdir = coti.imdir"
   ]
  },
  {
   "cell_type": "code",
   "execution_count": 20,
   "metadata": {},
   "outputs": [],
   "source": [
    "x1 = 0.5\n",
    "x2 = 0.7\n",
    "x3 = 0.9\n",
    "\n",
    "x1_s,x2_s,x3_s = sym.symbols(\"x1 x2 x3\")\n",
    "\n",
    "# Function to compare results\n",
    "def feval(system,var):\n",
    "    x = var[0]\n",
    "    y = var[1]\n",
    "    z = var[2]\n",
    "    return system.sin(x*y)*system.log(x*z)*y\n",
    "\n",
    "# Compare results\n",
    "def CompResults(der,symvars):\n",
    "    f_doti = doti_eval.get_deriv( imdir( der ) )\n",
    "    f_soti = soti_eval.get_deriv( imdir( der ) )\n",
    "\n",
    "    f = sym_eval\n",
    "    for deriv in der:\n",
    "        try:\n",
    "            base = deriv[0]\n",
    "            exp  = deriv[1]\n",
    "        except:\n",
    "            base = deriv\n",
    "            exp  = 1\n",
    "        #\n",
    "        f = f.diff(symvars[base-1],exp)\n",
    "            \n",
    "\n",
    "    f_sym  = f.replace(x1_s,x1).replace(x2_s,x2).replace(x3_s,x3).doit()\n",
    "\n",
    "    print(\"doti: \", f_doti, abs(f_doti-f_sym)/abs(f_sym) )\n",
    "    print(\"soti: \", f_soti, abs(f_soti-f_sym)/abs(f_sym) )\n",
    "    print(\"sym : \", f_sym  )"
   ]
  },
  {
   "cell_type": "code",
   "execution_count": 21,
   "metadata": {},
   "outputs": [],
   "source": [
    "x1_soti = x1 + soti.e(1,order=5)\n",
    "x2_soti = x2 + soti.e(2,order=5)\n",
    "x3_soti = x3 + soti.e(3,order=5)\n",
    "\n",
    "x1_doti = x1 + doti.e(1,order=5,nbases=3)\n",
    "x2_doti = x2 + doti.e(2,order=5,nbases=3)\n",
    "x3_doti = x3 + doti.e(3,order=5,nbases=3)"
   ]
  },
  {
   "cell_type": "code",
   "execution_count": 22,
   "metadata": {},
   "outputs": [
    {
     "name": "stdout",
     "output_type": "stream",
     "text": [
      "68.1 ns ± 1.17 ns per loop (mean ± std. dev. of 7 runs, 10000000 loops each)\n"
     ]
    }
   ],
   "source": [
    "%timeit x1**2"
   ]
  },
  {
   "cell_type": "code",
   "execution_count": 23,
   "metadata": {},
   "outputs": [
    {
     "name": "stdout",
     "output_type": "stream",
     "text": [
      "4.19 µs ± 111 ns per loop (mean ± std. dev. of 7 runs, 100000 loops each)\n"
     ]
    }
   ],
   "source": [
    "%timeit x1_doti**2"
   ]
  },
  {
   "cell_type": "code",
   "execution_count": 24,
   "metadata": {},
   "outputs": [
    {
     "name": "stdout",
     "output_type": "stream",
     "text": [
      "2.76 µs ± 34.4 ns per loop (mean ± std. dev. of 7 runs, 100000 loops each)\n"
     ]
    }
   ],
   "source": [
    "%timeit x1_soti**2"
   ]
  },
  {
   "cell_type": "code",
   "execution_count": 25,
   "metadata": {},
   "outputs": [],
   "source": [
    "# Evaluate dense oti implementation:\n",
    "doti_eval = feval(doti,[x1_doti,x2_doti,x3_doti])\n",
    "\n",
    "# Evaluate sparse oti implementation:\n",
    "soti_eval = feval(soti,[x1_soti,x2_soti,x3_soti])\n",
    "\n",
    "# Evaluate symbolic library.\n",
    "sym_eval  = feval(sym, [x1_s,   x2_s,   x3_s   ])"
   ]
  },
  {
   "cell_type": "code",
   "execution_count": 27,
   "metadata": {},
   "outputs": [
    {
     "name": "stdout",
     "output_type": "stream",
     "text": [
      "doti:  0.11250972343308846 4.93389811452797e-16\n",
      "soti:  0.11250972343308846 4.93389811452797e-16\n",
      "sym :  0.112509723433089\n"
     ]
    }
   ],
   "source": [
    "der = [1]\n",
    "CompResults(der,[x1_s,   x2_s,   x3_s   ])"
   ]
  },
  {
   "cell_type": "code",
   "execution_count": 28,
   "metadata": {},
   "outputs": [
    {
     "name": "stdout",
     "output_type": "stream",
     "text": [
      "doti:  -0.5363402575583371 2.06999756027898e-16\n",
      "soti:  -0.5363402575583371 2.06999756027898e-16\n",
      "sym :  -0.536340257558337\n"
     ]
    }
   ],
   "source": [
    "der = [2]\n",
    "CompResults(der,[x1_s,   x2_s,   x3_s   ])"
   ]
  },
  {
   "cell_type": "code",
   "execution_count": 29,
   "metadata": {},
   "outputs": [
    {
     "name": "stdout",
     "output_type": "stream",
     "text": [
      "doti:  0.2666982946875732 2.08142130403522e-16\n",
      "soti:  0.2666982946875732 2.08142130403522e-16\n",
      "sym :  0.266698294687573\n"
     ]
    }
   ],
   "source": [
    "der = [3]\n",
    "CompResults(der,[x1_s,   x2_s,   x3_s   ])"
   ]
  },
  {
   "cell_type": "code",
   "execution_count": 30,
   "metadata": {},
   "outputs": [
    {
     "name": "stdout",
     "output_type": "stream",
     "text": [
      "doti:  0.9749722989319951 0\n",
      "soti:  0.9749722989319951 0\n",
      "sym :  0.974972298931995\n"
     ]
    }
   ],
   "source": [
    "der = [[1,2]]\n",
    "CompResults(der,[x1_s,   x2_s,   x3_s   ])"
   ]
  },
  {
   "cell_type": "code",
   "execution_count": 31,
   "metadata": {},
   "outputs": [
    {
     "name": "stdout",
     "output_type": "stream",
     "text": [
      "doti:  0.360304238624227 3.08134877586895e-16\n",
      "soti:  0.360304238624227 3.08134877586895e-16\n",
      "sym :  0.360304238624227\n"
     ]
    }
   ],
   "source": [
    "der = [1,2]\n",
    "CompResults(der,[x1_s,   x2_s,   x3_s   ])"
   ]
  },
  {
   "cell_type": "code",
   "execution_count": 32,
   "metadata": {},
   "outputs": [
    {
     "name": "stdout",
     "output_type": "stream",
     "text": [
      "doti:  -0.7021801966284578 0\n",
      "soti:  -0.7021801966284578 0\n",
      "sym :  -0.702180196628458\n"
     ]
    }
   ],
   "source": [
    "der = [[2,2]]\n",
    "CompResults(der,[x1_s,   x2_s,   x3_s   ])"
   ]
  },
  {
   "cell_type": "code",
   "execution_count": 35,
   "metadata": {},
   "outputs": [
    {
     "name": "stdout",
     "output_type": "stream",
     "text": [
      "doti:  0.5114362547724618 0\n",
      "soti:  0.5114362547724618 0\n",
      "sym :  0.511436254772462\n"
     ]
    }
   ],
   "source": [
    "der = [1,3]\n",
    "CompResults(der,[x1_s,   x2_s,   x3_s   ])"
   ]
  },
  {
   "cell_type": "code",
   "execution_count": 33,
   "metadata": {},
   "outputs": [
    {
     "name": "stdout",
     "output_type": "stream",
     "text": [
      "doti:  -2.208641664352625 4.02137854245568e-16\n",
      "soti:  -2.208641664352625 4.02137854245568e-16\n",
      "sym :  -2.20864166435262\n"
     ]
    }
   ],
   "source": [
    "der = [[1,3]]\n",
    "CompResults(der,[x1_s,   x2_s,   x3_s   ])"
   ]
  },
  {
   "cell_type": "code",
   "execution_count": 34,
   "metadata": {},
   "outputs": [
    {
     "name": "stdout",
     "output_type": "stream",
     "text": [
      "doti:  2.7688714465384185 0\n",
      "soti:  2.7688714465384185 0\n",
      "sym :  2.76887144653842\n"
     ]
    }
   ],
   "source": [
    "der = [[1,2],2]\n",
    "CompResults(der,[x1_s,   x2_s,   x3_s   ])"
   ]
  },
  {
   "cell_type": "code",
   "execution_count": null,
   "metadata": {},
   "outputs": [],
   "source": []
  }
 ],
 "metadata": {
  "kernelspec": {
   "display_name": "Python 3",
   "language": "python",
   "name": "python3"
  },
  "language_info": {
   "codemirror_mode": {
    "name": "ipython",
    "version": 3
   },
   "file_extension": ".py",
   "mimetype": "text/x-python",
   "name": "python",
   "nbconvert_exporter": "python",
   "pygments_lexer": "ipython3",
   "version": "3.7.1"
  }
 },
 "nbformat": 4,
 "nbformat_minor": 2
}
