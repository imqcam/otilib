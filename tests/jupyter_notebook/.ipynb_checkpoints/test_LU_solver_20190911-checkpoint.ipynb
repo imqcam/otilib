{
 "cells": [
  {
   "cell_type": "markdown",
   "metadata": {},
   "source": [
    "# Block solver for OTI numbers.\n",
    "```\n",
    "Author: Mauricio Aristizabal Cano\n",
    "D. Eng. Candidate.\n",
    "Universidad EAFIT\n",
    "Medellín, Colombia.\n",
    "\n",
    "Last update: 2019/09/11\n",
    "```\n",
    "\n",
    "\n",
    "## Introduction\n",
    "\n",
    "This document is designed to test the behavior of the block solver approach on different conditions, comparing it to a symbolic librarie Sympy."
   ]
  },
  {
   "cell_type": "code",
   "execution_count": 1,
   "metadata": {},
   "outputs": [],
   "source": [
    "# 1. SET GLOBAL PATH \n",
    "import sys\n",
    "path2oti = '../../build/'\n",
    "sys.path.append(path2oti) # Add path to OTI library.\n",
    "\n",
    "from IPython.display import display, Math\n",
    "\n",
    "# Utility to render math latex\n",
    "def display_string(string, head = \"\", tail = \"\"):\n",
    "    display(Math(head+string+tail))\n",
    "# end \n",
    "\n",
    "def eval_sym_expr(expr,syms, vals):\n",
    "    res = expr\n",
    "    for i in range(len(syms)):\n",
    "        res = res.replace(syms[i],vals[i])\n",
    "    # end for\n",
    "    return res.doit().evalf()\n",
    "# end eval_sym_expr\n",
    "\n",
    "from pyoti.core import dhelp_get_matrix_form, imdir\n",
    "\n",
    "import pyoti.dense as oti\n",
    "\n",
    "import numpy as np\n",
    "np.set_printoptions(linewidth=120)\n",
    "\n",
    "import sympy as sym\n",
    "sym.init_printing()\n",
    "\n",
    "import sympy.matrices as smat"
   ]
  },
  {
   "cell_type": "markdown",
   "metadata": {},
   "source": [
    "## Block solver approach.\n",
    "\n",
    "The block solver approach is a methodology to solve the OTI system of equations more efficiently, by using LU decomposition to solve the multiple derivatives of a system, since they might be solved by using the same matrix of coefficients as the real system of equations.\n",
    "\n",
    "An example of this system of equations is shown below. The system of equations is the following for a system of 2 variables and computation of 2nd order derivatives:\n"
   ]
  },
  {
   "cell_type": "code",
   "execution_count": 2,
   "metadata": {},
   "outputs": [
    {
     "data": {
      "text/latex": [
       "$\\displaystyle \\begin{align}A_{re}x_{re}&=b_{re}\\\\A_{re}x_{\\epsilon_{1}} &= b_{\\epsilon_{1}} -A_{\\epsilon_{1}}x_{re} \\\\ A_{re}x_{\\epsilon_{2}} &= b_{\\epsilon_{2}} -A_{\\epsilon_{2}}x_{re} \\\\ A_{re}x_{\\epsilon_{3}} &= b_{\\epsilon_{3}} -A_{\\epsilon_{3}}x_{re} \\\\ A_{re}x_{\\epsilon_{1}^{2}} &= b_{\\epsilon_{1}^{2}} -A_{\\epsilon_{1}^{2}}x_{re} -A_{\\epsilon_{1}}x_{\\epsilon_{1}} \\\\ A_{re}x_{\\epsilon_{1}\\epsilon_{2}} &= b_{\\epsilon_{1}\\epsilon_{2}} -A_{\\epsilon_{1}\\epsilon_{2}}x_{re} -A_{\\epsilon_{2}}x_{\\epsilon_{1}} -A_{\\epsilon_{1}}x_{\\epsilon_{2}} \\\\ A_{re}x_{\\epsilon_{2}^{2}} &= b_{\\epsilon_{2}^{2}} -A_{\\epsilon_{2}^{2}}x_{re} -A_{\\epsilon_{2}}x_{\\epsilon_{2}} \\\\ A_{re}x_{\\epsilon_{1}\\epsilon_{3}} &= b_{\\epsilon_{1}\\epsilon_{3}} -A_{\\epsilon_{1}\\epsilon_{3}}x_{re} -A_{\\epsilon_{3}}x_{\\epsilon_{1}} -A_{\\epsilon_{1}}x_{\\epsilon_{3}} \\\\ A_{re}x_{\\epsilon_{2}\\epsilon_{3}} &= b_{\\epsilon_{2}\\epsilon_{3}} -A_{\\epsilon_{2}\\epsilon_{3}}x_{re} -A_{\\epsilon_{3}}x_{\\epsilon_{2}} -A_{\\epsilon_{2}}x_{\\epsilon_{3}} \\\\ A_{re}x_{\\epsilon_{3}^{2}} &= b_{\\epsilon_{3}^{2}} -A_{\\epsilon_{3}^{2}}x_{re} -A_{\\epsilon_{3}}x_{\\epsilon_{3}} \\\\ \\end{align}$"
      ],
      "text/plain": [
       "<IPython.core.display.Math object>"
      ]
     },
     "metadata": {},
     "output_type": "display_data"
    }
   ],
   "source": [
    "nvars  = 3 # Number of variables to compute derivatives.\n",
    "dorder = 2 # Order of the derivative required in the analysis.\n",
    "\n",
    "display_string(oti.solve_latex(nvars,dorder))"
   ]
  },
  {
   "cell_type": "markdown",
   "metadata": {},
   "source": [
    "## Test system of equations\n",
    "The system to be solved as an example is a system that depends on 3 variables $\\alpha$, $\\beta$, $\\gamma$. The system of equations is also sparse and has 5 equations and 5 variables.\n",
    "\n",
    "$$\n",
    "\\begin{align}\n",
    "3 x_1 + \\frac{\\beta}{\\gamma} x_2& = 3\\alpha \\\\  %eq1 \n",
    "\\beta^2 x_2 + \\frac{5}{\\beta^2} x_{5}& = 4  \\\\  %eq2\n",
    "\\alpha x_1 - \\alpha \\gamma x_5 & = 17  \\\\  %eq3\n",
    "18 x_1 + x_4 & = \\alpha + \\beta + \\gamma  \\\\  %eq4\n",
    "19 x_3 - \\beta x_4 & = \\gamma \\\\  %eq5\n",
    "\\end{align}\n",
    "$$"
   ]
  },
  {
   "cell_type": "markdown",
   "metadata": {},
   "source": [
    "The matrix system of equations is:\n",
    "$$\n",
    "\\begin{bmatrix}\n",
    "3 & \\frac{\\beta}{\\gamma} & 0 & 0 & 0 \\\\  %eq1 \n",
    "0 & \\beta^2 &0 & 0 &\\frac{5}{\\beta^2}   \\\\  %eq2\n",
    "\\alpha& 0&0&0&- \\alpha \\gamma   \\\\  %eq3\n",
    "18 & 0 & 0& 1 & 0 \\\\  %eq4\n",
    "0 & 0 & 19 & -\\beta & 0 \\\\  %eq5\n",
    "\\end{bmatrix}\n",
    "\\begin{bmatrix}\n",
    "x_1 \\\\\n",
    "x_2 \\\\\n",
    "x_3 \\\\\n",
    "x_4 \\\\\n",
    "x_5 \\\\\n",
    "\\end{bmatrix}\n",
    "=\n",
    "\\begin{bmatrix}\n",
    "3\\alpha \\\\  %eq1 \n",
    "4  \\\\  %eq2\n",
    "17  \\\\  %eq3\n",
    "\\alpha + \\beta + \\gamma  \\\\  %eq4\n",
    "\\gamma \\\\  %eq5\n",
    "\\end{bmatrix}\n",
    "$$\n",
    "\n",
    "\n",
    "The main goal is to compute the derivatives up to second order of $x_1$, $...$, $x_5$ with respect to $\\alpha$ $\\beta$ and $\\gamma$"
   ]
  },
  {
   "cell_type": "code",
   "execution_count": 3,
   "metadata": {},
   "outputs": [],
   "source": [
    "# Desired evaluation point.\n",
    "\n",
    "α = 2.5\n",
    "β = 0.8\n",
    "γ = 7.6"
   ]
  },
  {
   "cell_type": "code",
   "execution_count": 4,
   "metadata": {},
   "outputs": [],
   "source": [
    "# function that sets up the positions\n",
    "def setup_A(A, alpha, beta, gamma):\n",
    "    \n",
    "    A[0,0] = 3\n",
    "    A[0,1] = beta/gamma\n",
    "    A[1,1] = beta**2\n",
    "    A[1,4] = 5/beta**2\n",
    "    A[2,0] = alpha\n",
    "    A[2,4] = -alpha*gamma\n",
    "    A[3,0] = 18\n",
    "    A[3,3] = 1\n",
    "    A[4,2] = 19\n",
    "    A[4,3] = -beta\n",
    "\n",
    "# end setup_A\n",
    "\n",
    "#function that sets the positions of b\n",
    "def setup_b(b, alpha, beta, gamma):\n",
    "    \n",
    "    b[0,0] = 3*alpha\n",
    "    b[1,0] = 4.0\n",
    "    b[2,0] = 17.0\n",
    "    b[3,0] = alpha + beta + gamma\n",
    "    b[4,0] = gamma\n",
    "\n",
    "# end setup_b"
   ]
  },
  {
   "cell_type": "markdown",
   "metadata": {},
   "source": [
    "## Conventional system, using real solvers"
   ]
  },
  {
   "cell_type": "code",
   "execution_count": 5,
   "metadata": {},
   "outputs": [
    {
     "name": "stdout",
     "output_type": "stream",
     "text": [
      "A:\n",
      " [[  3.           0.10526316   0.           0.           0.        ]\n",
      " [  0.           0.64         0.           0.           7.8125    ]\n",
      " [  2.5          0.           0.           0.         -19.        ]\n",
      " [ 18.           0.           0.           1.           0.        ]\n",
      " [  0.           0.          19.          -0.8          0.        ]]\n",
      "\n",
      "b:\n",
      " [[ 7.5]\n",
      " [ 4. ]\n",
      " [17. ]\n",
      " [10.9]\n",
      " [ 7.6]]\n"
     ]
    }
   ],
   "source": [
    "# Generate the conventional real system of equations.\n",
    "\n",
    "A_re = np.zeros((5,5))\n",
    "b_re = np.zeros((5,1))\n",
    "\n",
    "setup_A(A_re, α, β, γ)\n",
    "setup_b(b_re, α, β, γ)\n",
    "\n",
    "print(\"A:\\n\",A_re)\n",
    "print(\"\\nb:\\n\",b_re)"
   ]
  },
  {
   "cell_type": "code",
   "execution_count": 6,
   "metadata": {},
   "outputs": [
    {
     "name": "stdout",
     "output_type": "stream",
     "text": [
      "\n",
      "x:\n",
      " [[  2.01079416]\n",
      " [ 13.9423665 ]\n",
      " [ -0.66502294]\n",
      " [-25.29429484]\n",
      " [ -0.63015866]]\n"
     ]
    }
   ],
   "source": [
    "x_re = np.linalg.solve(A_re,b_re)\n",
    "print(\"\\nx:\\n\",x_re)"
   ]
  },
  {
   "cell_type": "markdown",
   "metadata": {},
   "source": [
    "## Using symbolic library"
   ]
  },
  {
   "cell_type": "code",
   "execution_count": 7,
   "metadata": {},
   "outputs": [
    {
     "name": "stdout",
     "output_type": "stream",
     "text": [
      "A:\n",
      "Matrix([\n",
      "[    3, beta/gamma,  0,     0,            0],\n",
      "[    0,    beta**2,  0,     0,    5/beta**2],\n",
      "[alpha,          0,  0,     0, -alpha*gamma],\n",
      "[   18,          0,  0,     1,            0],\n",
      "[    0,          0, 19, -beta,            0]])\n",
      "\n",
      "b:\n",
      "Matrix([\n",
      "[             3*alpha],\n",
      "[                 4.0],\n",
      "[                17.0],\n",
      "[alpha + beta + gamma],\n",
      "[               gamma]])\n"
     ]
    }
   ],
   "source": [
    "α_s = sym.symbols(\"alpha\")\n",
    "β_s = sym.symbols(\"beta\")\n",
    "γ_s = sym.symbols(\"gamma\")\n",
    "\n",
    "A_s = sym.zeros(5)\n",
    "b_s = sym.zeros(5)[:,[0]]\n",
    "\n",
    "setup_A( A_s, α_s, β_s, γ_s)\n",
    "setup_b( b_s, α_s, β_s, γ_s)\n",
    "\n",
    "print(\"A:\")\n",
    "print(repr(A_s))\n",
    "print(\"\")\n",
    "print(\"b:\")\n",
    "print(repr(b_s))"
   ]
  },
  {
   "cell_type": "code",
   "execution_count": 8,
   "metadata": {},
   "outputs": [],
   "source": [
    "x_s = A_s.LUsolve(b_s)"
   ]
  },
  {
   "cell_type": "code",
   "execution_count": null,
   "metadata": {},
   "outputs": [],
   "source": []
  },
  {
   "cell_type": "markdown",
   "metadata": {},
   "source": [
    "All derivatives are extracted and stored in a similar fashion to the conventional OTI numbers."
   ]
  },
  {
   "cell_type": "code",
   "execution_count": 9,
   "metadata": {},
   "outputs": [],
   "source": [
    "# Get first order derivatives first\n",
    "dxdα_s = x_s.diff(α_s,1).diff(β_s,0).diff(γ_s,0)\n",
    "dxdβ_s = x_s.diff(α_s,0).diff(β_s,1).diff(γ_s,0)\n",
    "dxdγ_s = x_s.diff(α_s,0).diff(β_s,0).diff(γ_s,1)\n",
    "\n",
    "dxdαdα_s = x_s.diff(α_s,2).diff(β_s,0).diff(γ_s,0)\n",
    "dxdαdβ_s = x_s.diff(α_s,1).diff(β_s,1).diff(γ_s,0)\n",
    "dxdβdβ_s = x_s.diff(α_s,0).diff(β_s,2).diff(γ_s,0)\n",
    "dxdαdγ_s = x_s.diff(α_s,1).diff(β_s,0).diff(γ_s,1)\n",
    "dxdβdγ_s = x_s.diff(α_s,0).diff(β_s,1).diff(γ_s,1)\n",
    "dxdγdγ_s = x_s.diff(α_s,0).diff(β_s,0).diff(γ_s,2)\n",
    "\n",
    "# stored as an otinum.\n",
    "dx_s =[]\n",
    "dx_s.append([x_s]) # Function\n",
    "dx_s.append([dxdα_s,dxdβ_s,dxdγ_s]) # First order derivatives\n",
    "dx_s.append([dxdαdα_s,dxdαdβ_s,dxdβdβ_s,dxdαdγ_s,dxdβdγ_s,dxdγdγ_s]) # Second order derivatives.\n",
    "\n",
    "\n",
    "syms = [α_s,β_s,γ_s]\n",
    "vals = [α,β,γ]\n",
    "\n",
    "\n",
    "# def compute_all_derivs_sympy(fun, vars, order):\n",
    "#     \"\"\"\n",
    "#     PORPUSE: This is an utility function to compute all derivatives up to order n of a symbolic function\n",
    "#              \"relatively efficiently\". \n",
    "             \n",
    "#     \"\"\"\n",
    "#     fd_s = []\n",
    "    \n",
    "#     # append first the function itself\n",
    "#     fd_s.append([fd_s])\n",
    "    \n",
    "#     # iterate through all orders.\n",
    "#     for ordi in range(order):\n",
    "        \n",
    "#         fd_s.append([])\n",
    "        \n",
    "#         ordj=ordi+1\n",
    "#         for i in range(vars):\n",
    "\n",
    "#             fd_s[ordj].append( fd_s[ordi].diff() )\n",
    "    \n",
    "    \n",
    "    \n",
    "    \n",
    "    \n"
   ]
  },
  {
   "cell_type": "code",
   "execution_count": null,
   "metadata": {},
   "outputs": [],
   "source": []
  },
  {
   "cell_type": "code",
   "execution_count": 10,
   "metadata": {
    "scrolled": false
   },
   "outputs": [
    {
     "name": "stdout",
     "output_type": "stream",
     "text": [
      "A:\n",
      "omat<shape: (5, 5), ndir: 9, order: 2, re:\n",
      "array([[  3.        ,   0.10526316,   0.        ,   0.        ,   0.        ],\n",
      "       [  0.        ,   0.64      ,   0.        ,   0.        ,   7.8125    ],\n",
      "       [  2.5       ,   0.        ,   0.        ,   0.        , -19.        ],\n",
      "       [ 18.        ,   0.        ,   0.        ,   1.        ,   0.        ],\n",
      "       [  0.        ,   0.        ,  19.        ,  -0.8       ,   0.        ]])>\n",
      "\n",
      "b:\n",
      "omat<shape: (5, 1), ndir: 9, order: 2, re:\n",
      "array([[ 7.5],\n",
      "       [ 4. ],\n",
      "       [17. ],\n",
      "       [10.9],\n",
      "       [ 7.6]])>\n"
     ]
    }
   ],
   "source": [
    "α_oti = α + oti.e(1,nbases=nvars, order=dorder)\n",
    "β_oti = β + oti.e(2,nbases=nvars, order=dorder)\n",
    "γ_oti = γ + oti.e(3,nbases=nvars, order=dorder)\n",
    "\n",
    "A_oti = oti.zeros(5,5,nbases=nvars, order=dorder)\n",
    "b_oti = oti.zeros(5,1,nbases=nvars, order=dorder)\n",
    "\n",
    "setup_A(A_oti,α_oti,β_oti,γ_oti)\n",
    "setup_b(b_oti,α_oti,β_oti,γ_oti)\n",
    "\n",
    "print(\"A:\")\n",
    "print(repr(A_oti))\n",
    "print(\"\\nb:\")\n",
    "print(repr(b_oti))"
   ]
  },
  {
   "cell_type": "code",
   "execution_count": 11,
   "metadata": {},
   "outputs": [],
   "source": [
    "x_oti = oti.solve(A_oti,b_oti)"
   ]
  },
  {
   "cell_type": "code",
   "execution_count": null,
   "metadata": {},
   "outputs": [],
   "source": []
  },
  {
   "cell_type": "code",
   "execution_count": 12,
   "metadata": {},
   "outputs": [
    {
     "name": "stdout",
     "output_type": "stream",
     "text": [
      "[[  1.22217083]\n",
      " [ -6.33186876]\n",
      " [ -0.88417158]\n",
      " [-20.999075  ]\n",
      " [  0.51870669]]\n"
     ]
    },
    {
     "data": {
      "image/png": "[encoded data removed]",
      "text/latex": [
       "$$\\left[\\begin{matrix}1.22217083360408\\\\-6.33186875771625\\\\-0.884171579152565\\\\-20.9990750048734\\\\0.518706688632116\\end{matrix}\\right]$$"
      ],
      "text/plain": [
       "⎡ 1.22217083360408 ⎤\n",
       "⎢                  ⎥\n",
       "⎢-6.33186875771625 ⎥\n",
       "⎢                  ⎥\n",
       "⎢-0.884171579152565⎥\n",
       "⎢                  ⎥\n",
       "⎢-20.9990750048734 ⎥\n",
       "⎢                  ⎥\n",
       "⎣0.518706688632116 ⎦"
      ]
     },
     "execution_count": 12,
     "metadata": {},
     "output_type": "execute_result"
    }
   ],
   "source": [
    "# Derivative obtained by oti algebra:\n",
    "print(x_oti.get_deriv(1))\n",
    "eval_sym_expr(dxdα_s,syms,vals)"
   ]
  },
  {
   "cell_type": "code",
   "execution_count": null,
   "metadata": {},
   "outputs": [],
   "source": []
  },
  {
   "cell_type": "code",
   "execution_count": 13,
   "metadata": {},
   "outputs": [
    {
     "name": "stdout",
     "output_type": "stream",
     "text": [
      "Evaluating derivative: [0] \tMaximum error:  1.2740712559838438e-16\n",
      "Evaluating derivative: [1] \tMaximum error:  2.8054227075308774e-16\n",
      "Evaluating derivative: [2] \tMaximum error:  2.525196958954199e-16\n",
      "Evaluating derivative: [3] \tMaximum error:  1.434183362088409e-15\n",
      "Evaluating derivative: [[1,2]] \tMaximum error:  2.3980175716945915e-16\n",
      "Evaluating derivative: [1,2] \tMaximum error:  2.389202815795413e-16\n",
      "Evaluating derivative: [[2,2]] \tMaximum error:  5.142102514587861e-16\n",
      "Evaluating derivative: [1,3] \tMaximum error:  4.433091162120394e-16\n",
      "Evaluating derivative: [2,3] \tMaximum error:  5.398363980109192e-16\n",
      "Evaluating derivative: [[3,2]] \tMaximum error:  1.4720989635040727e-16\n"
     ]
    }
   ],
   "source": [
    "deriv_idx = [[0],\n",
    "            [1],\n",
    "            [2],\n",
    "            [3],\n",
    "            [[1,2]],\n",
    "            [1,2],\n",
    "            [[2,2]],\n",
    "            [1,3],\n",
    "            [2,3],\n",
    "            [[3,2]]]\n",
    "\n",
    "for i in range(len(deriv_idx)):\n",
    "    idx,order = imdir(deriv_idx[i])\n",
    "    oti_der = x_oti.get_deriv(deriv_idx[i])    \n",
    "    f = eval_sym_expr(dx_s[order][idx],syms,vals) \n",
    "    f = np.array(f,dtype = np.float64)\n",
    "    print(\"Evaluating derivative:\", str(deriv_idx[i]).replace(\" \",\"\"),\n",
    "          \"\\tMaximum error: \",      np.max(np.abs(oti_der-f)/np.abs(f))\n",
    "         )\n",
    "    "
   ]
  },
  {
   "cell_type": "code",
   "execution_count": 14,
   "metadata": {},
   "outputs": [
    {
     "name": "stdout",
     "output_type": "stream",
     "text": [
      "< spr_omat class, shape: (5,5), ndir: 9, nbases: 3, order: 2, \n",
      "  (0, 0)\t3.0\n",
      "  (0, 1)\t0.10526315789473685\n",
      "  (1, 1)\t0.6400000000000001\n",
      "  (1, 4)\t7.812499999999999\n",
      "  (2, 0)\t2.5\n",
      "  (2, 4)\t-19.0\n",
      "  (3, 0)\t18.0\n",
      "  (3, 3)\t1.0\n",
      "  (4, 2)\t19.0\n",
      "  (4, 3)\t-0.8\n",
      "+ e([1]) * \n",
      "  (2, 0)\t1.0\n",
      "  (2, 4)\t-7.6\n",
      "+ e([2]) * \n",
      "  (0, 1)\t0.13157894736842105\n",
      "  (1, 1)\t1.6\n",
      "  (1, 4)\t-19.531249999999993\n",
      "  (4, 3)\t-1.0\n",
      "+ e([3]) * \n",
      "  (0, 1)\t-0.013850415512465375\n",
      "  (2, 4)\t-2.5\n",
      "+ e([[1,2]]) * \n",
      "\n",
      "+ e([1,2]) * \n",
      "\n",
      "+ e([[2,2]]) * \n",
      "  (1, 1)\t1.0\n",
      "  (1, 4)\t36.621093749999986\n",
      "+ e([1,3]) * \n",
      "  (2, 4)\t-1.0\n",
      "+ e([2,3]) * \n",
      "  (0, 1)\t-0.01731301939058172\n",
      "+ e([[3,2]]) * \n",
      "  (0, 1)\t0.0018224230937454442\n",
      " >\n"
     ]
    }
   ],
   "source": [
    "# The same system but using sparse omat class\n",
    "\n",
    "A_soti = oti.spr_omat((5,5),nbases = nvars, order=dorder )\n",
    "\n",
    "setup_A(A_soti,α_oti,β_oti,γ_oti)\n",
    "\n",
    "print(A_soti)"
   ]
  },
  {
   "cell_type": "code",
   "execution_count": 15,
   "metadata": {},
   "outputs": [],
   "source": [
    "x_soti = oti.spsolve(A_soti,b_oti,solver='ILU')"
   ]
  },
  {
   "cell_type": "code",
   "execution_count": 16,
   "metadata": {},
   "outputs": [
    {
     "name": "stdout",
     "output_type": "stream",
     "text": [
      "Evaluating derivative: [0] \tMaximum error:  1.7618150619389758e-16\n",
      "Evaluating derivative: [1] \tMaximum error:  2.1403676662680635e-16\n",
      "Evaluating derivative: [2] \tMaximum error:  1.6289713998684936e-16\n",
      "Evaluating derivative: [3] \tMaximum error:  1.434183362088409e-15\n",
      "Evaluating derivative: [[1,2]] \tMaximum error:  7.318168858931245e-16\n",
      "Evaluating derivative: [1,2] \tMaximum error:  5.029900664832448e-16\n",
      "Evaluating derivative: [[2,2]] \tMaximum error:  3.428068343058574e-16\n",
      "Evaluating derivative: [1,3] \tMaximum error:  3.632775567938643e-16\n",
      "Evaluating derivative: [2,3] \tMaximum error:  5.398363980109192e-16\n",
      "Evaluating derivative: [[3,2]] \tMaximum error:  4.492489512646705e-16\n"
     ]
    }
   ],
   "source": [
    "for i in range(len(deriv_idx)):\n",
    "    idx,order = imdir(deriv_idx[i])\n",
    "    oti_der = x_soti.get_deriv(deriv_idx[i])    \n",
    "    f = eval_sym_expr(dx_s[order][idx],syms,vals) \n",
    "    f = np.array(f,dtype = np.float64)\n",
    "    print(\"Evaluating derivative:\", str(deriv_idx[i]).replace(\" \",\"\"),\n",
    "          \"\\tMaximum error: \",      np.max(np.abs(oti_der-f)/np.abs(f))\n",
    "         )"
   ]
  },
  {
   "cell_type": "code",
   "execution_count": 17,
   "metadata": {},
   "outputs": [
    {
     "data": {
      "text/plain": [
       "<spr_omat, shape: (5,5), ndir: 9, nbases: 3, order: 2, spr_type: csr>"
      ]
     },
     "execution_count": 17,
     "metadata": {},
     "output_type": "execute_result"
    }
   ],
   "source": [
    "A_soti"
   ]
  },
  {
   "cell_type": "code",
   "execution_count": null,
   "metadata": {},
   "outputs": [],
   "source": []
  },
  {
   "cell_type": "code",
   "execution_count": null,
   "metadata": {},
   "outputs": [],
   "source": []
  },
  {
   "cell_type": "code",
   "execution_count": 18,
   "metadata": {},
   "outputs": [],
   "source": [
    "# works!"
   ]
  },
  {
   "cell_type": "code",
   "execution_count": 19,
   "metadata": {},
   "outputs": [
    {
     "name": "stdout",
     "output_type": "stream",
     "text": [
      "9.72 µs ± 156 ns per loop (mean ± std. dev. of 7 runs, 100000 loops each)\n"
     ]
    }
   ],
   "source": [
    "%timeit np.linalg.solve(A_re,b_re)"
   ]
  },
  {
   "cell_type": "code",
   "execution_count": 20,
   "metadata": {},
   "outputs": [
    {
     "name": "stdout",
     "output_type": "stream",
     "text": [
      "2.04 ms ± 24.7 µs per loop (mean ± std. dev. of 7 runs, 100 loops each)\n"
     ]
    }
   ],
   "source": [
    "%timeit A_s.LUsolve(b_s)"
   ]
  },
  {
   "cell_type": "code",
   "execution_count": 21,
   "metadata": {},
   "outputs": [
    {
     "name": "stdout",
     "output_type": "stream",
     "text": [
      "894 µs ± 9.03 µs per loop (mean ± std. dev. of 7 runs, 1000 loops each)\n"
     ]
    }
   ],
   "source": [
    "%timeit oti.solve(A_oti,b_oti)"
   ]
  },
  {
   "cell_type": "code",
   "execution_count": 24,
   "metadata": {},
   "outputs": [
    {
     "name": "stdout",
     "output_type": "stream",
     "text": [
      "1.13 ms ± 2.57 µs per loop (mean ± std. dev. of 7 runs, 1000 loops each)\n"
     ]
    }
   ],
   "source": [
    "%timeit oti.spsolve(A_soti,b_oti,solver='lu')"
   ]
  },
  {
   "cell_type": "code",
   "execution_count": null,
   "metadata": {},
   "outputs": [],
   "source": []
  },
  {
   "cell_type": "code",
   "execution_count": null,
   "metadata": {},
   "outputs": [],
   "source": []
  }
 ],
 "metadata": {
  "kernelspec": {
   "display_name": "Python 3",
   "language": "python",
   "name": "python3"
  },
  "language_info": {
   "codemirror_mode": {
    "name": "ipython",
    "version": 3
   },
   "file_extension": ".py",
   "mimetype": "text/x-python",
   "name": "python",
   "nbconvert_exporter": "python",
   "pygments_lexer": "ipython3",
   "version": "3.7.1"
  }
 },
 "nbformat": 4,
 "nbformat_minor": 2
}
