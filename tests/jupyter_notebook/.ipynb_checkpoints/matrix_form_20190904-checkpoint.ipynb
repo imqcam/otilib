{
 "cells": [
  {
   "cell_type": "code",
   "execution_count": 1,
   "metadata": {},
   "outputs": [],
   "source": [
    "# 1. SET GLOBAL PATH \n",
    "import sys\n",
    "path2oti = '../../build/'\n",
    "sys.path.append(path2oti) # Add path to OTI library.\n",
    "\n",
    "from IPython.display import display, Math\n",
    "\n",
    "from pyoti.core import dhelp_get_matrix_form\n",
    "\n",
    "def display_string(string, head = \"\", tail = \"\"):\n",
    "    display(Math(head+string+tail))\n",
    "# end "
   ]
  },
  {
   "cell_type": "code",
   "execution_count": 2,
   "metadata": {
    "scrolled": false
   },
   "outputs": [
    {
     "data": {
      "text/latex": [
       "$\\displaystyle \\begin{bmatrix}_{\\mbox{Re}} & 0 & 0 & 0 & 0 & 0 \\\\\n",
       "\\epsilon_{1} & _{\\mbox{Re}} & 0 & 0 & 0 & 0 \\\\\n",
       "\\epsilon_{2} & 0 & _{\\mbox{Re}} & 0 & 0 & 0 \\\\\n",
       "\\epsilon_{1}^{2} & \\epsilon_{1} & 0 & _{\\mbox{Re}} & 0 & 0 \\\\\n",
       "\\epsilon_{1}\\epsilon_{2} & \\epsilon_{2} & \\epsilon_{1} & 0 & _{\\mbox{Re}} & 0 \\\\\n",
       "\\epsilon_{2}^{2} & 0 & \\epsilon_{2} & 0 & 0 & _{\\mbox{Re}} \\\\\n",
       "\\end{bmatrix}$"
      ],
      "text/plain": [
       "<IPython.core.display.Math object>"
      ]
     },
     "metadata": {},
     "output_type": "display_data"
    }
   ],
   "source": [
    "# Generate matrix forms\n",
    "deriv_order = 2\n",
    "n_variables = 2\n",
    "\n",
    "latex = dhelp_get_matrix_form(n_variables,deriv_order,export_latex=True)\n",
    "display_string(latex, head = '\\\\begin{bmatrix}', tail = '\\\\end{bmatrix}')"
   ]
  },
  {
   "cell_type": "code",
   "execution_count": 3,
   "metadata": {},
   "outputs": [],
   "source": [
    "import pyoti.dense as oti\n",
    "A = oti.eye( 2,   nbases=n_variables,order=deriv_order)\n",
    "b = oti.ones(2, 1)*50\n"
   ]
  },
  {
   "cell_type": "code",
   "execution_count": 4,
   "metadata": {},
   "outputs": [
    {
     "data": {
      "text/latex": [
       "$\\displaystyle \\begin{align}A_{re}x_{re}&=b_{re}\\\\A_{re}x_{\\epsilon_{1}} &= b_{\\epsilon_{1}} -A_{\\epsilon_{1}}x_{re} \\\\ A_{re}x_{\\epsilon_{2}} &= b_{\\epsilon_{2}} -A_{\\epsilon_{2}}x_{re} \\\\ A_{re}x_{\\epsilon_{1}^{2}} &= b_{\\epsilon_{1}^{2}} -A_{\\epsilon_{1}^{2}}x_{re} -A_{\\epsilon_{1}}x_{\\epsilon_{1}} \\\\ A_{re}x_{\\epsilon_{1}\\epsilon_{2}} &= b_{\\epsilon_{1}\\epsilon_{2}} -A_{\\epsilon_{1}\\epsilon_{2}}x_{re} -A_{\\epsilon_{2}}x_{\\epsilon_{1}} -A_{\\epsilon_{1}}x_{\\epsilon_{2}} \\\\ A_{re}x_{\\epsilon_{2}^{2}} &= b_{\\epsilon_{2}^{2}} -A_{\\epsilon_{2}^{2}}x_{re} -A_{\\epsilon_{2}}x_{\\epsilon_{2}} \\\\ \\end{align}$"
      ],
      "text/plain": [
       "<IPython.core.display.Math object>"
      ]
     },
     "metadata": {},
     "output_type": "display_data"
    }
   ],
   "source": [
    "display_string( oti.solve_latex(n_variables, deriv_order) ) "
   ]
  },
  {
   "cell_type": "code",
   "execution_count": 5,
   "metadata": {},
   "outputs": [],
   "source": [
    "c = oti.np.array([[3,3],[4,5]],dtype = oti.np.float64)\n",
    "A.set_imdir(c,2,2)\n",
    "# print(A)"
   ]
  },
  {
   "cell_type": "code",
   "execution_count": 6,
   "metadata": {},
   "outputs": [
    {
     "name": "stdout",
     "output_type": "stream",
     "text": [
      "Here 1: 0 0\n",
      "self.order:  2\n",
      "here 2\n",
      "Here 1: 0 0\n",
      "self.order:  0\n",
      "here 2\n",
      "[6 1] uint64\n",
      "1 :->  [0 0] [1 0]\n",
      "1 :->  0 1\n",
      "[[50.]\n",
      " [50.]]\n",
      "\n",
      "Here 1: 0 1\n",
      "self.order:  0\n"
     ]
    },
    {
     "ename": "TypeError",
     "evalue": "only integer scalar arrays can be converted to a scalar index",
     "output_type": "error",
     "traceback": [
      "\u001b[0;31m---------------------------------------------------------------------------\u001b[0m",
      "\u001b[0;31mTypeError\u001b[0m                                 Traceback (most recent call last)",
      "\u001b[0;32m<ipython-input-6-c9ee40507da9>\u001b[0m in \u001b[0;36m<module>\u001b[0;34m\u001b[0m\n\u001b[0;32m----> 1\u001b[0;31m \u001b[0mx\u001b[0m \u001b[0;34m=\u001b[0m \u001b[0moti\u001b[0m\u001b[0;34m.\u001b[0m\u001b[0msolve\u001b[0m\u001b[0;34m(\u001b[0m\u001b[0mA\u001b[0m\u001b[0;34m,\u001b[0m\u001b[0mb\u001b[0m\u001b[0;34m)\u001b[0m\u001b[0;34m\u001b[0m\u001b[0;34m\u001b[0m\u001b[0m\n\u001b[0m\u001b[1;32m      2\u001b[0m \u001b[0mprint\u001b[0m\u001b[0;34m(\u001b[0m\u001b[0mx\u001b[0m\u001b[0;34m)\u001b[0m\u001b[0;34m\u001b[0m\u001b[0;34m\u001b[0m\u001b[0m\n",
      "\u001b[0;32marray.pxi\u001b[0m in \u001b[0;36mpyoti.dense.solve\u001b[0;34m()\u001b[0m\n",
      "\u001b[0;32marray.pxi\u001b[0m in \u001b[0;36mpyoti.dense.omat.get_imdir\u001b[0;34m()\u001b[0m\n",
      "\u001b[0;31mTypeError\u001b[0m: only integer scalar arrays can be converted to a scalar index"
     ]
    }
   ],
   "source": [
    "x = oti.solve(A,b)\n",
    "print(x)"
   ]
  },
  {
   "cell_type": "code",
   "execution_count": 7,
   "metadata": {},
   "outputs": [
    {
     "data": {
      "text/plain": [
       "array([[1., 0.],\n",
       "       [0., 1.]])"
      ]
     },
     "execution_count": 7,
     "metadata": {},
     "output_type": "execute_result"
    }
   ],
   "source": [
    "b.get_im(0)\n",
    "A.get_im(0)\n"
   ]
  },
  {
   "cell_type": "code",
   "execution_count": 7,
   "metadata": {},
   "outputs": [],
   "source": [
    "matA = A.get_im(0)\n",
    "matb = b.get_im(0)"
   ]
  },
  {
   "cell_type": "code",
   "execution_count": 8,
   "metadata": {},
   "outputs": [
    {
     "name": "stdout",
     "output_type": "stream",
     "text": [
      "6.39 µs ± 26 ns per loop (mean ± std. dev. of 7 runs, 100000 loops each)\n"
     ]
    }
   ],
   "source": [
    "%timeit oti.np.linalg.solve(matA,matb)\n"
   ]
  },
  {
   "cell_type": "code",
   "execution_count": null,
   "metadata": {},
   "outputs": [],
   "source": []
  },
  {
   "cell_type": "code",
   "execution_count": 7,
   "metadata": {},
   "outputs": [],
   "source": [
    "idx_coo, ord_coo = dhelp_get_matrix_form(n_variables,deriv_order,export_sparse=True)"
   ]
  },
  {
   "cell_type": "code",
   "execution_count": 13,
   "metadata": {},
   "outputs": [
    {
     "data": {
      "text/plain": [
       "15"
      ]
     },
     "execution_count": 13,
     "metadata": {},
     "output_type": "execute_result"
    }
   ],
   "source": [
    "idx_coo.getnnz()"
   ]
  },
  {
   "cell_type": "code",
   "execution_count": 16,
   "metadata": {},
   "outputs": [],
   "source": [
    "data = oti.np.arange(1,idx_coo.getnnz()+1)"
   ]
  },
  {
   "cell_type": "code",
   "execution_count": 15,
   "metadata": {},
   "outputs": [
    {
     "data": {
      "text/plain": [
       "array([0, 1, 2, 3, 4, 5, 1, 2, 3, 4, 5, 3, 4, 4, 5], dtype=int32)"
      ]
     },
     "execution_count": 15,
     "metadata": {},
     "output_type": "execute_result"
    }
   ],
   "source": [
    "idx_coo.row"
   ]
  },
  {
   "cell_type": "code",
   "execution_count": 17,
   "metadata": {},
   "outputs": [],
   "source": [
    "import scipy.sparse as spr"
   ]
  },
  {
   "cell_type": "code",
   "execution_count": 18,
   "metadata": {},
   "outputs": [],
   "source": [
    "dummy_mat = spr.coo_matrix( (data,(idx_coo.row,idx_coo.col)) )"
   ]
  },
  {
   "cell_type": "code",
   "execution_count": 21,
   "metadata": {},
   "outputs": [],
   "source": [
    "\n",
    "dummy_csr = dummy_mat.tocsr()\n",
    "\n"
   ]
  },
  {
   "cell_type": "code",
   "execution_count": 22,
   "metadata": {},
   "outputs": [
    {
     "data": {
      "text/plain": [
       "array([ 1,  7,  2,  8,  3,  9, 12,  4, 10, 14, 13,  5, 11, 15,  6],\n",
       "      dtype=int64)"
      ]
     },
     "execution_count": 22,
     "metadata": {},
     "output_type": "execute_result"
    }
   ],
   "source": [
    "dummy_csr.data\n"
   ]
  },
  {
   "cell_type": "code",
   "execution_count": 25,
   "metadata": {},
   "outputs": [],
   "source": [
    "indices = dummy_csr.data.copy()"
   ]
  },
  {
   "cell_type": "code",
   "execution_count": 29,
   "metadata": {},
   "outputs": [],
   "source": [
    "# First system of equations\n",
    "\n",
    "first_column = dummy_csr[:,0]"
   ]
  },
  {
   "cell_type": "code",
   "execution_count": 34,
   "metadata": {},
   "outputs": [
    {
     "data": {
      "text/plain": [
       "(array([0, 0, 1, 0, 1, 2], dtype=uint64),\n",
       " array([0, 1, 1, 2, 2, 2], dtype=uint8))"
      ]
     },
     "execution_count": 34,
     "metadata": {},
     "output_type": "execute_result"
    }
   ],
   "source": [
    "first_column.todense()\n",
    "idx_coo.data[first_column.data-1],ord_coo.data[first_column.data-1]"
   ]
  },
  {
   "cell_type": "code",
   "execution_count": 28,
   "metadata": {},
   "outputs": [
    {
     "data": {
      "text/plain": [
       "<1x6 sparse matrix of type '<class 'numpy.int64'>'\n",
       "\twith 4 stored elements in Compressed Sparse Row format>"
      ]
     },
     "execution_count": 28,
     "metadata": {},
     "output_type": "execute_result"
    }
   ],
   "source": [
    "dummy_csr[0]\n",
    "dummy_csr[1]\n",
    "dummy_csr[2]\n",
    "dummy_csr[3]\n",
    "dummy_csr[4]"
   ]
  },
  {
   "cell_type": "code",
   "execution_count": 37,
   "metadata": {},
   "outputs": [],
   "source": [
    "AA = A.get_im(0,copy=False)\n"
   ]
  },
  {
   "cell_type": "code",
   "execution_count": 38,
   "metadata": {},
   "outputs": [],
   "source": [
    "A[1,1]=3"
   ]
  },
  {
   "cell_type": "code",
   "execution_count": 39,
   "metadata": {},
   "outputs": [
    {
     "data": {
      "text/plain": [
       "omat< ndir: 5, order: 2>\n",
       "re:\n",
       "array([[1., 0.],\n",
       "       [0., 3.]])"
      ]
     },
     "execution_count": 39,
     "metadata": {},
     "output_type": "execute_result"
    }
   ],
   "source": [
    "A"
   ]
  },
  {
   "cell_type": "code",
   "execution_count": 40,
   "metadata": {},
   "outputs": [
    {
     "data": {
      "text/plain": [
       "array([[1., 0.],\n",
       "       [0., 3.]])"
      ]
     },
     "execution_count": 40,
     "metadata": {},
     "output_type": "execute_result"
    }
   ],
   "source": [
    "AA\n"
   ]
  },
  {
   "cell_type": "code",
   "execution_count": null,
   "metadata": {},
   "outputs": [],
   "source": []
  }
 ],
 "metadata": {
  "kernelspec": {
   "display_name": "Python 3",
   "language": "python",
   "name": "python3"
  },
  "language_info": {
   "codemirror_mode": {
    "name": "ipython",
    "version": 3
   },
   "file_extension": ".py",
   "mimetype": "text/x-python",
   "name": "python",
   "nbconvert_exporter": "python",
   "pygments_lexer": "ipython3",
   "version": "3.6.8"
  }
 },
 "nbformat": 4,
 "nbformat_minor": 2
}
