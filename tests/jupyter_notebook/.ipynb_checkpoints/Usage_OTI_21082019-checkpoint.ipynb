{
 "cells": [
  {
   "cell_type": "code",
   "execution_count": 1,
   "metadata": {},
   "outputs": [],
   "source": [
    "# 1. SET GLOBAL PATH \n",
    "import sys\n",
    "path2oti = '../../build/'\n",
    "sys.path.append(path2oti) # Add path to OTI library."
   ]
  },
  {
   "cell_type": "code",
   "execution_count": 2,
   "metadata": {},
   "outputs": [],
   "source": [
    "from pyoti.dense import *"
   ]
  },
  {
   "cell_type": "code",
   "execution_count": 17,
   "metadata": {},
   "outputs": [
    {
     "name": "stdout",
     "output_type": "stream",
     "text": [
      "Help on cython_function_or_method in module pyoti.dense:\n",
      "\n",
      "e(hum_dir, order=0, nbases=0)\n",
      "    PURPOSE:  To create an OTI number with value 1 at the specified\n",
      "              direction, in a human friendly manner.\n",
      "\n"
     ]
    }
   ],
   "source": [
    "help(e)"
   ]
  },
  {
   "cell_type": "code",
   "execution_count": 18,
   "metadata": {},
   "outputs": [],
   "source": [
    "import pyoti.dense as oti"
   ]
  },
  {
   "cell_type": "code",
   "execution_count": null,
   "metadata": {},
   "outputs": [],
   "source": []
  },
  {
   "cell_type": "code",
   "execution_count": 12,
   "metadata": {},
   "outputs": [
    {
     "name": "stdout",
     "output_type": "stream",
     "text": [
      "0 + 1 * e([1]) + 0 * e([[1,2]])\n"
     ]
    }
   ],
   "source": [
    "nb = 1\n",
    "o  = 2\n",
    "\n",
    "print( e( 1 , nbases=nb, order=o) )"
   ]
  },
  {
   "cell_type": "code",
   "execution_count": 13,
   "metadata": {},
   "outputs": [
    {
     "name": "stdout",
     "output_type": "stream",
     "text": [
      "0.5 + 1 * e([1]) + 0 * e([[1,2]])\n"
     ]
    }
   ],
   "source": [
    "x = 0.5 +  e( 1 , nbases=nb, order=o)\n",
    "print(x)"
   ]
  },
  {
   "cell_type": "code",
   "execution_count": null,
   "metadata": {},
   "outputs": [],
   "source": []
  },
  {
   "cell_type": "code",
   "execution_count": null,
   "metadata": {},
   "outputs": [],
   "source": []
  },
  {
   "cell_type": "code",
   "execution_count": null,
   "metadata": {},
   "outputs": [],
   "source": []
  },
  {
   "cell_type": "code",
   "execution_count": null,
   "metadata": {},
   "outputs": [],
   "source": []
  },
  {
   "cell_type": "code",
   "execution_count": 14,
   "metadata": {},
   "outputs": [
    {
     "name": "stdout",
     "output_type": "stream",
     "text": [
      "0.24740395925452294\n",
      "0.9689124217106447\n",
      "1.6904208841667665\n"
     ]
    }
   ],
   "source": [
    "import math\n",
    "\n",
    "\n",
    "x0 = 0.5\n",
    "\n",
    "f = math.sin(x0**2)\n",
    "df = math.cos(x0**2)*2*x0\n",
    "ddf = 2*math.cos(x0**2) - 4*math.sin(x0**2)*x0**2\n",
    "\n",
    "print(f)\n",
    "print(df)\n",
    "print(ddf)"
   ]
  },
  {
   "cell_type": "code",
   "execution_count": null,
   "metadata": {},
   "outputs": [],
   "source": []
  }
 ],
 "metadata": {
  "kernelspec": {
   "display_name": "Python 3",
   "language": "python",
   "name": "python3"
  },
  "language_info": {
   "codemirror_mode": {
    "name": "ipython",
    "version": 3
   },
   "file_extension": ".py",
   "mimetype": "text/x-python",
   "name": "python",
   "nbconvert_exporter": "python",
   "pygments_lexer": "ipython3",
   "version": "3.7.0"
  }
 },
 "nbformat": 4,
 "nbformat_minor": 2
}
