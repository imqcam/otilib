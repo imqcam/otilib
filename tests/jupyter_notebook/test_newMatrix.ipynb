{
 "cells": [
  {
   "cell_type": "markdown",
   "metadata": {},
   "source": [
    "# Test of  spr_duallib V0.3 library.\n",
    "\n",
    "Changes: \n",
    "- Matrix management\n",
    "- Expand Algorithm\n"
   ]
  },
  {
   "cell_type": "code",
   "execution_count": 1,
   "metadata": {
    "collapsed": false
   },
   "outputs": [],
   "source": [
    "from scipy.special import comb\n",
    "\n",
    "import spr_duallib as dn\n",
    "e = dn.e\n",
    "np = dn.np\n",
    "spr = dn.spr"
   ]
  },
  {
   "cell_type": "markdown",
   "metadata": {},
   "source": [
    "## Test new algorithm to handle matrices. \n",
    "\n",
    "**TODO**: Check creation with Dense arrays."
   ]
  },
  {
   "cell_type": "code",
   "execution_count": null,
   "metadata": {
    "collapsed": false
   },
   "outputs": [],
   "source": [
    "b = dn.dualmat([0,1],[np.array([[4,0],[0,0]]),np.array([[2,4],[0,0]])],1)\n",
    "a = dn.dualmat([0,1,2],[np.array([[1,0],[0,1]]),np.array([[2,3],[0,5]]),np.array([[0,0],[0,1]])],1)\n",
    "\n",
    "c = a+b\n",
    "print(c)\n",
    "\n",
    "a *=b\n",
    "print(a)\n",
    "\n",
    "\n",
    "print(a.getIndex(0))"
   ]
  },
  {
   "cell_type": "code",
   "execution_count": null,
   "metadata": {
    "collapsed": false
   },
   "outputs": [],
   "source": [
    "print('--------------')\n",
    "print('a:')\n",
    "print(a)\n",
    "\n",
    "print('--------------')\n",
    "print('b:')\n",
    "print(b)\n",
    "\n",
    "print('--------------')\n",
    "print('c:')\n",
    "print(c)"
   ]
  },
  {
   "cell_type": "code",
   "execution_count": null,
   "metadata": {
    "collapsed": false
   },
   "outputs": [],
   "source": [
    "d = a*b\n",
    "print(d)"
   ]
  },
  {
   "cell_type": "code",
   "execution_count": null,
   "metadata": {
    "collapsed": true
   },
   "outputs": [],
   "source": [
    "h = 3*e(5)\n",
    "h.changeOrder(2)"
   ]
  },
  {
   "cell_type": "code",
   "execution_count": null,
   "metadata": {
    "collapsed": false
   },
   "outputs": [],
   "source": [
    "d.changeOrder(2)"
   ]
  },
  {
   "cell_type": "code",
   "execution_count": null,
   "metadata": {
    "collapsed": true
   },
   "outputs": [],
   "source": []
  },
  {
   "cell_type": "code",
   "execution_count": null,
   "metadata": {
    "collapsed": false
   },
   "outputs": [],
   "source": [
    "print(d*h)"
   ]
  },
  {
   "cell_type": "code",
   "execution_count": null,
   "metadata": {
    "collapsed": true
   },
   "outputs": [],
   "source": [
    "g = dn.spr.csr_matrix((10,10),dtype=np.float64)"
   ]
  },
  {
   "cell_type": "code",
   "execution_count": null,
   "metadata": {
    "collapsed": false
   },
   "outputs": [],
   "source": [
    "g[1,1] = 10"
   ]
  },
  {
   "cell_type": "code",
   "execution_count": null,
   "metadata": {
    "collapsed": false
   },
   "outputs": [],
   "source": [
    "g.tolil()"
   ]
  },
  {
   "cell_type": "code",
   "execution_count": null,
   "metadata": {
    "collapsed": false
   },
   "outputs": [],
   "source": [
    "g=g.tolil()\n"
   ]
  },
  {
   "cell_type": "code",
   "execution_count": null,
   "metadata": {
    "collapsed": true
   },
   "outputs": [],
   "source": [
    "g[5,5] = 60"
   ]
  },
  {
   "cell_type": "code",
   "execution_count": null,
   "metadata": {
    "collapsed": false
   },
   "outputs": [],
   "source": [
    "g = g.tocsr()"
   ]
  },
  {
   "cell_type": "code",
   "execution_count": null,
   "metadata": {
    "collapsed": false
   },
   "outputs": [],
   "source": [
    "g.toarray()"
   ]
  },
  {
   "cell_type": "code",
   "execution_count": null,
   "metadata": {
    "collapsed": false
   },
   "outputs": [],
   "source": [
    "g[:,1:6].toarray()"
   ]
  },
  {
   "cell_type": "code",
   "execution_count": null,
   "metadata": {
    "collapsed": false
   },
   "outputs": [],
   "source": [
    "b00 = dn.spr_dualnum([0,1],[4,2],1)\n",
    "b01 = dn.spr_dualnum([0,1],[0,4],1)\n",
    "b10 = dn.spr_dualnum([0,1],[0,0],1)\n",
    "b11 = dn.spr_dualnum([0,1],[0,0],1)\n",
    "\n",
    "\n",
    "a00 = dn.spr_dualnum([0,1,2],[1,2,0],1)\n",
    "a01 = dn.spr_dualnum([0,1,2],[0,3,1],1)\n",
    "a10 = dn.spr_dualnum([0,1,2],[0,0,0],1)\n",
    "a11 = dn.spr_dualnum([0,1,2],[1,5,1],1)\n",
    "\n",
    "A = np.array([[a00,a01],[a10,a11]])\n",
    "B = np.array([[b00,b01],[b10,b11]])\n"
   ]
  },
  {
   "cell_type": "code",
   "execution_count": null,
   "metadata": {
    "collapsed": true
   },
   "outputs": [],
   "source": [
    "A_spr = dn.spr_dualmat(A)\n",
    "B_spr = dn.spr_dualmat(B)"
   ]
  },
  {
   "cell_type": "code",
   "execution_count": null,
   "metadata": {
    "collapsed": false
   },
   "outputs": [],
   "source": [
    "print(dn.dot(A_spr,B_spr).toarray())"
   ]
  },
  {
   "cell_type": "code",
   "execution_count": null,
   "metadata": {
    "collapsed": false
   },
   "outputs": [],
   "source": [
    "A_spr.getDual([2])\n",
    "print(A)\n",
    "print(A_spr[1])"
   ]
  },
  {
   "cell_type": "code",
   "execution_count": null,
   "metadata": {
    "collapsed": true
   },
   "outputs": [],
   "source": []
  },
  {
   "cell_type": "code",
   "execution_count": null,
   "metadata": {
    "collapsed": true
   },
   "outputs": [],
   "source": []
  },
  {
   "cell_type": "code",
   "execution_count": null,
   "metadata": {
    "collapsed": false
   },
   "outputs": [],
   "source": []
  },
  {
   "cell_type": "code",
   "execution_count": null,
   "metadata": {
    "collapsed": false
   },
   "outputs": [],
   "source": [
    "b.coefs"
   ]
  },
  {
   "cell_type": "code",
   "execution_count": null,
   "metadata": {
    "collapsed": false
   },
   "outputs": [],
   "source": [
    "b.checkZeros()"
   ]
  },
  {
   "cell_type": "code",
   "execution_count": null,
   "metadata": {
    "collapsed": false
   },
   "outputs": [],
   "source": [
    "b.coefs"
   ]
  },
  {
   "cell_type": "code",
   "execution_count": null,
   "metadata": {
    "collapsed": false
   },
   "outputs": [],
   "source": [
    "c = dn.dualmat([],[],1)"
   ]
  },
  {
   "cell_type": "code",
   "execution_count": null,
   "metadata": {
    "collapsed": false
   },
   "outputs": [],
   "source": [
    "print(b)\n"
   ]
  },
  {
   "cell_type": "code",
   "execution_count": null,
   "metadata": {
    "collapsed": false
   },
   "outputs": [],
   "source": [
    "a=[np.array([[1,2],[0,4]])]\n",
    "gg = dn.spr.csr_matrix(a[0])\n"
   ]
  },
  {
   "cell_type": "code",
   "execution_count": null,
   "metadata": {
    "collapsed": false
   },
   "outputs": [],
   "source": [
    "dn.spr.csc_matrix(gg.diagonal()).indices"
   ]
  },
  {
   "cell_type": "code",
   "execution_count": null,
   "metadata": {
    "collapsed": false
   },
   "outputs": [],
   "source": [
    "a[0].shape"
   ]
  },
  {
   "cell_type": "code",
   "execution_count": null,
   "metadata": {
    "collapsed": false
   },
   "outputs": [],
   "source": [
    "g = b.coefs[0]"
   ]
  },
  {
   "cell_type": "code",
   "execution_count": null,
   "metadata": {
    "collapsed": false
   },
   "outputs": [],
   "source": [
    "g.data"
   ]
  },
  {
   "cell_type": "markdown",
   "metadata": {},
   "source": [
    "## Test New Martix Multiplication"
   ]
  },
  {
   "cell_type": "code",
   "execution_count": null,
   "metadata": {
    "collapsed": false
   },
   "outputs": [],
   "source": [
    "# Test:\n",
    "maxorder = 10\n",
    "\n",
    "myDirArray = [[1,3],[3,2],4]\n",
    "\n",
    "indx = dn.getIndxPos(myDirArray,maxorder)\n",
    "indx\n"
   ]
  },
  {
   "cell_type": "code",
   "execution_count": null,
   "metadata": {
    "collapsed": true
   },
   "outputs": [],
   "source": [
    "dirArray,expArray = dn.getDirArrayExpArray(indx,maxorder)"
   ]
  },
  {
   "cell_type": "code",
   "execution_count": null,
   "metadata": {
    "collapsed": false
   },
   "outputs": [],
   "source": [
    "dirArray"
   ]
  },
  {
   "cell_type": "code",
   "execution_count": null,
   "metadata": {
    "collapsed": false
   },
   "outputs": [],
   "source": [
    "expArray"
   ]
  },
  {
   "cell_type": "code",
   "execution_count": null,
   "metadata": {
    "collapsed": false
   },
   "outputs": [],
   "source": [
    "indx2 = dn.getIndxPosFromDirExpArray(dirArray,[0,0,0], maxorder)\n",
    "print(indx2)\n",
    "indx2 == indx"
   ]
  },
  {
   "cell_type": "code",
   "execution_count": null,
   "metadata": {
    "collapsed": true
   },
   "outputs": [],
   "source": [
    "def subArray(expArray,multiple):\n",
    "    # Substract an array to another.\n",
    "    res = [0]*len(multiple)\n",
    "    \n",
    "    for i in range(len(multiple)):\n",
    "        res[i] = expArray[i]-multiple[i]\n",
    "        \n",
    "    # end for \n",
    "    return res\n",
    "\n",
    "def sumArray(array):\n",
    "    sumRes = 0\n",
    "    \n",
    "    for i in range(len(array)):\n",
    "        sumRes += array[i]\n",
    "        \n",
    "    # end for \n",
    "    return sumRes"
   ]
  },
  {
   "cell_type": "code",
   "execution_count": null,
   "metadata": {
    "collapsed": false
   },
   "outputs": [],
   "source": [
    "subArray([1,0,0],[4,4,4])\n",
    "sumArray([1,2,1])"
   ]
  },
  {
   "cell_type": "code",
   "execution_count": null,
   "metadata": {
    "collapsed": true
   },
   "outputs": [],
   "source": [
    "a=[1,3,5]"
   ]
  },
  {
   "cell_type": "code",
   "execution_count": null,
   "metadata": {
    "collapsed": false
   },
   "outputs": [],
   "source": [
    "a.index(1)"
   ]
  },
  {
   "cell_type": "code",
   "execution_count": null,
   "metadata": {
    "collapsed": true
   },
   "outputs": [],
   "source": []
  },
  {
   "cell_type": "code",
   "execution_count": null,
   "metadata": {
    "collapsed": false
   },
   "outputs": [],
   "source": [
    "# Go for all possible combinations of \n",
    "maxiter = 1\n",
    "\n",
    "for exp in expArray:\n",
    "    \n",
    "    maxiter *= exp+1 \n",
    "\n",
    "print(\"Total number of iterations\")\n",
    "print(maxiter)\n",
    "\n",
    "\n",
    "# Remove two iterations? (first and last?)\n",
    "\n",
    "# Starting point\n",
    "multiple = [0]*len(expArray)\n",
    "print(\"expArray:\")\n",
    "print(expArray)\n",
    "\n",
    "print(\"\")\n",
    "pp = 0\n",
    "\n",
    "\n",
    "for i in range(maxiter-1):\n",
    "    passed = 0\n",
    "    k = 0\n",
    "    while passed == 0:\n",
    "        \n",
    "        if (multiple[k]+1)>expArray[k]:\n",
    "            multiple[k] = 0\n",
    "            k += 1\n",
    "        else:\n",
    "            multiple[k] += 1\n",
    "            passed = 1\n",
    "    pp+=1    \n",
    "    print(multiple)\n",
    "    print(subArray(expArray,multiple))\n",
    "    print(\"\")\n",
    "print(pp)\n",
    "        \n",
    "    \n",
    "    \n",
    "    \n",
    "    \n",
    "    \n",
    "    \n",
    "    \n",
    "\n",
    "\n",
    "\n",
    "\n",
    "\n"
   ]
  },
  {
   "cell_type": "code",
   "execution_count": null,
   "metadata": {
    "collapsed": true
   },
   "outputs": [],
   "source": []
  },
  {
   "cell_type": "code",
   "execution_count": null,
   "metadata": {
    "collapsed": true
   },
   "outputs": [],
   "source": []
  },
  {
   "cell_type": "code",
   "execution_count": null,
   "metadata": {
    "collapsed": true
   },
   "outputs": [],
   "source": []
  },
  {
   "cell_type": "code",
   "execution_count": null,
   "metadata": {
    "collapsed": true
   },
   "outputs": [],
   "source": []
  },
  {
   "cell_type": "code",
   "execution_count": null,
   "metadata": {
    "collapsed": true
   },
   "outputs": [],
   "source": []
  },
  {
   "cell_type": "code",
   "execution_count": null,
   "metadata": {
    "collapsed": true
   },
   "outputs": [],
   "source": []
  },
  {
   "cell_type": "code",
   "execution_count": null,
   "metadata": {
    "collapsed": true
   },
   "outputs": [],
   "source": []
  },
  {
   "cell_type": "code",
   "execution_count": null,
   "metadata": {
    "collapsed": true
   },
   "outputs": [],
   "source": [
    "a = 1 + e(1) + e(2)+e(3) + e(4) + e(5) + e(6)"
   ]
  },
  {
   "cell_type": "code",
   "execution_count": null,
   "metadata": {
    "collapsed": true
   },
   "outputs": [],
   "source": [
    "a.changeOrder(3)"
   ]
  },
  {
   "cell_type": "code",
   "execution_count": null,
   "metadata": {
    "collapsed": false
   },
   "outputs": [],
   "source": [
    "a = a**3"
   ]
  },
  {
   "cell_type": "code",
   "execution_count": null,
   "metadata": {
    "collapsed": false
   },
   "outputs": [],
   "source": [
    "print(a)"
   ]
  },
  {
   "cell_type": "code",
   "execution_count": null,
   "metadata": {
    "collapsed": false
   },
   "outputs": [],
   "source": [
    "%timeit a.toMatrix()"
   ]
  },
  {
   "cell_type": "code",
   "execution_count": null,
   "metadata": {
    "collapsed": false
   },
   "outputs": [],
   "source": [
    "%timeit a.toMatrix_new()"
   ]
  },
  {
   "cell_type": "code",
   "execution_count": null,
   "metadata": {
    "collapsed": true
   },
   "outputs": [],
   "source": []
  },
  {
   "cell_type": "code",
   "execution_count": null,
   "metadata": {
    "collapsed": false
   },
   "outputs": [],
   "source": [
    "d = 6\n",
    "order = 2\n",
    "\n",
    "comb(order + d-1,d-1,exact=True)\n",
    "\n",
    "\n"
   ]
  },
  {
   "cell_type": "code",
   "execution_count": null,
   "metadata": {
    "collapsed": true
   },
   "outputs": [],
   "source": []
  },
  {
   "cell_type": "code",
   "execution_count": null,
   "metadata": {
    "collapsed": true
   },
   "outputs": [],
   "source": []
  },
  {
   "cell_type": "code",
   "execution_count": null,
   "metadata": {
    "collapsed": true
   },
   "outputs": [],
   "source": []
  },
  {
   "cell_type": "code",
   "execution_count": null,
   "metadata": {
    "collapsed": true
   },
   "outputs": [],
   "source": [
    "\n"
   ]
  },
  {
   "cell_type": "code",
   "execution_count": null,
   "metadata": {
    "collapsed": true
   },
   "outputs": [],
   "source": []
  },
  {
   "cell_type": "code",
   "execution_count": null,
   "metadata": {
    "collapsed": true
   },
   "outputs": [],
   "source": []
  },
  {
   "cell_type": "code",
   "execution_count": null,
   "metadata": {
    "collapsed": true
   },
   "outputs": [],
   "source": [
    "#************************************************************************\n",
    "def matIndxToDualIndx(matIndx,maxorder,initDualIndx = 0):\n",
    "  \"\"\"\n",
    "  PURPOSE:   To find the index of a dual number given its sequential\n",
    "            arrangement.\n",
    "   \n",
    "  EXAMPLE:   we have a dual number: \n",
    "             a = 1 + 2*e([1]) + 3*e([[1,2]]) + 4*e([2]) + ...\n",
    "                  0*e([1,2]) + 6*e([[2,2]])\n",
    "             \n",
    "             then, notice that the first coefficient is 1 (real), the\n",
    "             second is 2, the third is 3, the fourth is 4 and so on. \n",
    "             Therefore,\n",
    "             \n",
    "             >>> a[matIndxToDualIndx(0,2)] \n",
    "             1.0\n",
    "             >>> a[matIndxToDualIndx(1,2)] \n",
    "             2.0\n",
    "             >>> a[matIndxToDualIndx(2,2)] \n",
    "             3.0\n",
    "             >>> a[matIndxToDualIndx(3,2)] \n",
    "             4.0\n",
    "             >>> a[matIndxToDualIndx(4,2)] \n",
    "             0.0\n",
    "             >>> a[matIndxToDualIndx(5,2)] \n",
    "             5.0\n",
    "  \"\"\"\n",
    "#************************************************************************\n",
    "  \n",
    "  indx = 0\n",
    "  mIndx = matIndx \n",
    "  morder = maxorder\n",
    "  summ = 0\n",
    "  prev_order = 0\n",
    "  \n",
    "  if initDualIndx>0:\n",
    "    \n",
    "    pos = initDualIndx.bit_length()\n",
    "    m = int((pos-1)/maxorder)\n",
    "\n",
    "  else:\n",
    "    \n",
    "    m = 0\n",
    "\n",
    "  # end if \n",
    "\n",
    "  while morder != 0:\n",
    "      \n",
    "    if mIndx == 0:\n",
    "      \n",
    "      break\n",
    "      \n",
    "    elif mIndx <= 2:\n",
    "      \n",
    "      indx += int(1<<(mIndx-1))\n",
    "      break\n",
    "      \n",
    "    else: \n",
    "      \n",
    "        \n",
    "      summ1 = 0\n",
    "      \n",
    "      while (summ+summ1) < mIndx:\n",
    "        \n",
    "        summ1 = 0\n",
    "        m += 1\n",
    "        \n",
    "        for n in range(1,morder + 1):\n",
    "          \n",
    "          summ1 += findComb(m,n)\n",
    "          \n",
    "        # end for\n",
    "        \n",
    "      # end while\n",
    "      \n",
    "      summ += summ1\n",
    "\n",
    "      m_end = m\n",
    "\n",
    "      m = m-1\n",
    "      \n",
    "      if summ == mIndx:\n",
    "        \n",
    "        indx += int(1<<((m_end-1)*maxorder + morder-1))\n",
    "        break\n",
    "        \n",
    "      # end if\n",
    "      \n",
    "      sorder = morder\n",
    "      \n",
    "      while summ >= mIndx and (sorder > 0):\n",
    "        \n",
    "        summ2 = 0\n",
    "        \n",
    "        \n",
    "        for n in range(morder-sorder,-1,-1):\n",
    "            \n",
    "          summ2 += findComb(m,n)\n",
    "            \n",
    "        # end for\n",
    "        \n",
    "        summ -= summ2\n",
    "        \n",
    "        \n",
    "        sorder -= 1\n",
    "        \n",
    "      # end while\n",
    "      \n",
    "      indx += int(1<<((m_end-1)*maxorder+sorder))\n",
    "      \n",
    "      \n",
    "      if (summ+1) == mIndx:\n",
    "        \n",
    "        break\n",
    "        \n",
    "      # end if\n",
    "      \n",
    "      morder -= sorder+1\n",
    "      \n",
    "      mIndx -= 1\n",
    "\n",
    "      m = 0\n",
    "      \n",
    "    # end if\n",
    "    \n",
    "  # end while\n",
    "  \n",
    "  return indx\n",
    "#------------------------------------------------------------------------\n",
    "\n",
    "\n",
    "#************************************************************************\n",
    "def findComb(m,n):\n",
    "#~~~~~~~~~~~~~~~~~~~~~~~~~~~~~~~~~~~~~~~~~~~~~~~~~~~~~~~~~~~~~~~~~~~~~~~~\n",
    "  \"\"\"\n",
    "  PURPOSE:   To find all possible combinations to create a dual number of \n",
    "             order n with m directions.\n",
    "  \"\"\"\n",
    "#************************************************************************\n",
    "  \n",
    "  if n == 0:\n",
    "    \n",
    "    return 1\n",
    "    \n",
    "  else:\n",
    "    \n",
    "    return comb(n+m-1,m-1,exact=True) # from scipy.special import comb\n",
    "    \n",
    "  # end if\n",
    "#------------------------------------------------------------------------"
   ]
  },
  {
   "cell_type": "code",
   "execution_count": null,
   "metadata": {
    "collapsed": false
   },
   "outputs": [],
   "source": [
    "comb(5,3)+comb(5,3)"
   ]
  },
  {
   "cell_type": "code",
   "execution_count": null,
   "metadata": {
    "collapsed": false
   },
   "outputs": [],
   "source": [
    "comb(10,6)"
   ]
  },
  {
   "cell_type": "code",
   "execution_count": null,
   "metadata": {
    "collapsed": true
   },
   "outputs": [],
   "source": []
  },
  {
   "cell_type": "code",
   "execution_count": null,
   "metadata": {
    "collapsed": true
   },
   "outputs": [],
   "source": []
  },
  {
   "cell_type": "code",
   "execution_count": null,
   "metadata": {
    "collapsed": true
   },
   "outputs": [],
   "source": [
    "# method 2\n",
    "\n",
    "#************************************************************************\n",
    "def matIndxToDualIndx2(matIndx,maxorder,initDualIndx = 0):\n",
    "#~~~~~~~~~~~~~~~~~~~~~~~~~~~~~~~~~~~~~~~~~~~~~~~~~~~~~~~~~~~~~~~~~~~~~~~~\n",
    "  \"\"\"\n",
    "  PURPOSE:   To find the index of a dual number given its sequential\n",
    "          arrangement.\n",
    "\n",
    "  EXAMPLE:   we have a dual number: \n",
    "           a = 1 + 2*e([1]) + 3*e([[1,2]]) + 4*e([2]) + ...\n",
    "                0*e([1,2]) + 6*e([[2,2]])\n",
    "\n",
    "           then, notice that the first coefficient is 1 (real), the\n",
    "           second is 2, the third is 3, the fourth is 4 and so on. \n",
    "           Therefore,\n",
    "\n",
    "           >>> a[matIndxToDualIndx(0,2)] \n",
    "           1.0\n",
    "           >>> a[matIndxToDualIndx(1,2)] \n",
    "           2.0\n",
    "           >>> a[matIndxToDualIndx(2,2)] \n",
    "           3.0\n",
    "           >>> a[matIndxToDualIndx(3,2)] \n",
    "           4.0\n",
    "           >>> a[matIndxToDualIndx(4,2)] \n",
    "           0.0\n",
    "           >>> a[matIndxToDualIndx(5,2)] \n",
    "           5.0\n",
    "  \"\"\"\n",
    "#************************************************************************\n",
    "  \n",
    "  indx = 0\n",
    "  mIndx = matIndx \n",
    "  morder = maxorder\n",
    "  summ = 0\n",
    "  prev_order = 0\n",
    "  \n",
    "  (m,ordr) = maxNumDirOrder(initDualIndx,maxorder)\n",
    "  \n",
    "  if m>0 :\n",
    "    \n",
    "    m=m-1\n",
    "\n",
    "  # end if\n",
    "\n",
    "  while morder != 0:\n",
    "\n",
    "    if mIndx == 0:\n",
    "\n",
    "      break\n",
    "\n",
    "    elif mIndx <= 2:\n",
    "\n",
    "      indx += int(1<<(mIndx-1))\n",
    "      break\n",
    "\n",
    "    else: \n",
    "\n",
    "      summ1 = 0\n",
    "\n",
    "      while (summ+summ1) < mIndx:\n",
    "\n",
    "        summ1 = 0\n",
    "        m += 1\n",
    "\n",
    "        for n in range(1,morder + 1):\n",
    "\n",
    "          summ1 += findComb(m,n)\n",
    "\n",
    "        # end for\n",
    "\n",
    "      # end while\n",
    "\n",
    "      summ += summ1\n",
    "\n",
    "      m_end = m\n",
    "\n",
    "      m = m-1\n",
    "\n",
    "      if summ == mIndx:\n",
    "\n",
    "        indx += (maxorder+1)**(m_end-1)*morder\n",
    "        break\n",
    "\n",
    "      # end if\n",
    "\n",
    "      sorder = morder\n",
    "\n",
    "      while summ >= mIndx and (sorder > 0):\n",
    "\n",
    "        summ2 = 0\n",
    "\n",
    "\n",
    "        for n in range(morder-sorder,-1,-1):\n",
    "\n",
    "          summ2 += findComb(m,n)\n",
    "\n",
    "        # end for\n",
    "\n",
    "        summ -= summ2\n",
    "\n",
    "\n",
    "        sorder -= 1\n",
    "\n",
    "      # end while\n",
    "\n",
    "      indx += (maxorder+1)**(m_end-1)*(sorder+1)\n",
    "\n",
    "\n",
    "      if (summ+1) == mIndx:\n",
    "\n",
    "        break\n",
    "\n",
    "      # end if\n",
    "\n",
    "      morder -= sorder+1\n",
    "\n",
    "      mIndx -= 1\n",
    "      m = 0\n",
    "        \n",
    "    # end if\n",
    "\n",
    "  # end while\n",
    "\n",
    "  return indx\n",
    "#------------------------------------------------------------------------\n",
    "\n",
    "#**************************************************************************  \n",
    "def maxNumDirOrder(indx,maxorder):\n",
    "#~~~~~~~~~~~~~~~~~~~~~~~~~~~~~~~~~~~~~~~~~~~~~~~~~~~~~~~~~~~~~~~~~~~~~~~~\n",
    "  \"\"\"\n",
    "  PURPOSE:  To get both the maximum direction and order of that direction\n",
    "            of a dual number coefficient.\n",
    "\n",
    "  EXAMPLE:  \n",
    "  \"\"\"\n",
    "#************************************************************************\n",
    "  order = 0\n",
    "  i=0\n",
    "  while indx > 0:\n",
    "      \n",
    "    (indx,order) = (indx//(maxorder+1),indx%(maxorder+1))\n",
    "          \n",
    "    i = i+1\n",
    "      \n",
    "  #end while\n",
    "  \n",
    "  return (i,order)\n",
    "#--------------------------------------------------------------------------\n",
    "\n",
    "#************************************************************************\n",
    "def findComb(m,n):\n",
    "#~~~~~~~~~~~~~~~~~~~~~~~~~~~~~~~~~~~~~~~~~~~~~~~~~~~~~~~~~~~~~~~~~~~~~~~~\n",
    "  \"\"\"\n",
    "  PURPOSE:   To find all possible combinations to create a dual number of \n",
    "             order n with m directions.\n",
    "  \"\"\"\n",
    "#************************************************************************\n",
    "  \n",
    "  if n == 0:\n",
    "    \n",
    "    return 1\n",
    "    \n",
    "  else:\n",
    "    \n",
    "    return comb(n+m-1,m-1,exact=True) # from scipy.special import comb\n",
    "    \n",
    "  # end if\n",
    "#------------------------------------------------------------------------"
   ]
  },
  {
   "cell_type": "code",
   "execution_count": null,
   "metadata": {
    "collapsed": true
   },
   "outputs": [],
   "source": [
    "maxorder = 35\n",
    "last_indx = 1\n",
    "sums = 0\n",
    "for i in range(1,1100):\n",
    "    indx = matIndxToDualIndx2(i,maxorder)\n",
    "    repres = np.base_repr(indx,maxorder +1)\n",
    "    sums += indx\n",
    "    print(i,\"indx: \",indx,\"\\trepr: \",repres,\"\\tdiff: \", indx-last_indx, \"\\tsum: \",sums)"
   ]
  },
  {
   "cell_type": "code",
   "execution_count": null,
   "metadata": {
    "collapsed": true
   },
   "outputs": [],
   "source": [
    "maxorder = 35\n",
    "last_indx = 1\n",
    "sums = 0\n",
    "for i in range(1,1100):\n",
    "    indx = matIndxToDualIndx(i,maxorder)\n",
    "    repres = bin(indx)\n",
    "    sums += indx\n",
    "    print(i,\"indx: \",indx,\"\\trepr: \",repres,\"\\tdiff: \", indx-last_indx, \"\\tsum: \",sums)"
   ]
  },
  {
   "cell_type": "code",
   "execution_count": null,
   "metadata": {
    "collapsed": false
   },
   "outputs": [],
   "source": [
    "%timeit matIndxToDualIndx(10**7,1)"
   ]
  },
  {
   "cell_type": "code",
   "execution_count": null,
   "metadata": {
    "collapsed": false
   },
   "outputs": [],
   "source": [
    "%timeit matIndxToDualIndx2(10**7,1)"
   ]
  },
  {
   "cell_type": "code",
   "execution_count": null,
   "metadata": {
    "collapsed": false
   },
   "outputs": [],
   "source": [
    "\n"
   ]
  },
  {
   "cell_type": "code",
   "execution_count": 271,
   "metadata": {
    "collapsed": false
   },
   "outputs": [],
   "source": [
    "def genDirExpArrayLookUp(maxorder,ndir = 100):\n",
    "    \n",
    "    \n",
    "    total_combs = dn.findComb(ndir+1,maxorder)\n",
    "    \n",
    "    \n",
    "    f = open('srcdoc/d_n' + str(maxorder) + '_m' + str(ndir) + '.dat', 'w+')\n",
    "    f.write(str(total_combs-1)+'\\n')\n",
    "    print(\"Generating a total of \", total_combs-1,\" directions.\")\n",
    "    indxold = 0\n",
    "    for mat_indx in range(1,total_combs):\n",
    "        indx = dn.matIndxToDualIndx(mat_indx,maxorder,initDualIndx = indxold)\n",
    "        indxold = indx\n",
    "        dirarr,exparr = dn.getDirArrayExpArray(indx,maxorder)\n",
    "\n",
    "        # convert exponent array to integer.\n",
    "\n",
    "        newint = 0\n",
    "        \n",
    "        for i in range(len(exparr)):\n",
    "            \n",
    "            newint += exparr[i]*(maxorder+1)**i\n",
    "\n",
    "\n",
    "        newline = str(newint)\n",
    "        newline += ';'\n",
    "        for direction in dirarr:\n",
    "            #newline += np.base_repr(direction,base = 36)\n",
    "            newline += int2baseRepr(direction)\n",
    "\n",
    "\n",
    "            newline += ','\n",
    "        newline = newline[:-1]\n",
    "        newline += \"\\n\"\n",
    "        \n",
    "        f.write(newline)\n",
    "        \n",
    "    f.close()\n",
    "    print('Finished')\n",
    "    \n",
    "\n",
    "    \n",
    "    \n",
    "def int2baseRepr(integer):\n",
    "    \n",
    "    #stringbase = \"0123456789abcdefghijklmnopqrstuvwxyzABCDEFGHIJKLMNOPQRSTUVWXYZ~!@#$^&*()-_=+[]{}\\|:<>.?%`\"\n",
    "    stringbase=\"0123456789abcdefghijklmnopqrstuvwxyzABCDEFGHIJKLMNOPQRSTUVWXYZ~!@#$^&*()-_=+[]{}/|:<>.?%≤≥≠±–œå≈®∑\"\n",
    "    stringbase+=\"çÇáéíóúÁÉÍÓÚñÑâêîôû°¿£¢¥\"\n",
    "    string = \"\"\n",
    "    base = len(stringbase)\n",
    "    while integer > 0:\n",
    "      \n",
    "        (integer,exp) = (integer//(base),integer%(base))\n",
    "    \n",
    "        string += stringbase[exp]  \n",
    "    \n",
    "    #end while\n",
    "    return string[::-1]\n",
    "\n",
    "def baseRepr2int(string):\n",
    "    \n",
    "    stringbase=\"0123456789abcdefghijklmnopqrstuvwxyzABCDEFGHIJKLMNOPQRSTUVWXYZ~!@#$^&*()-_=+[]{}/|:<>.?%≤≥≠±–œå≈®∑\"\n",
    "    stringbase+=\"çÇáéíóúÁÉÍÓÚñÑâêîôû°¿£¢¥\"\n",
    "    \n",
    "    base = len(stringbase)\n",
    "    number = 0\n",
    "    nels = len(string)\n",
    "    for i in range(nels):\n",
    "        mult = stringbase.find(string[nels-i-1] )\n",
    "        number += mult * base ** i\n",
    "   \n",
    "    \n",
    "    #end for\n",
    "    return number\n",
    "\n",
    "\n",
    "\n",
    "def getExpArrayBaseRpr(expind,maxorder):\n",
    "    \n",
    "    \n",
    "    # get the string with the exponents.\n",
    "    string = np.base_repr(expind, base = (maxorder+1))\n",
    "    #print(string)\n",
    "    nels = len(string)\n",
    "    expArray = [0]*nels\n",
    "\n",
    "    i=1\n",
    "    for stri in string:\n",
    "        expArray[nels-i] = int(stri)\n",
    "        i+=1\n",
    "        \n",
    "        \n",
    "    return expArray\n",
    "        \n",
    "    \n",
    "    \n",
    "    \n",
    "def loadDirExpArrayLookUp(maxorder,ndir = 100):\n",
    "    f = open('srcdoc/d_n' + str(maxorder) + '_m' + str(ndir) + '.dat', 'r')\n",
    "\n",
    "    line=f.readline()\n",
    "\n",
    "    nels = int(line.strip())\n",
    "    lines = f.readlines()\n",
    "    f.close()\n",
    "    \n",
    "    expArrays = [[]]*(nels)\n",
    "    dirArrays = [[]]*(nels)\n",
    "    \n",
    "    Array = [[]]*(nels)\n",
    "    print(\"Loading LookUp direction and Exponent Arrays.\")\n",
    "    for i in range(nels):\n",
    "        newline = lines[i].strip()\n",
    "        els = newline.split(';')\n",
    "\n",
    "        expArray = getExpArrayBaseRpr(int(els[0]),maxorder)\n",
    "        \n",
    "\n",
    "        dirEls = els[1].split(\",\")\n",
    "        ndirels = len(dirEls)\n",
    "        dirArray = [0]*ndirels\n",
    "\n",
    "        for j in range(ndirels):\n",
    "            #dirArray[j] = int(dirEls[j],36)\n",
    "            dirArray[j] = baseRepr2int(dirEls[j])\n",
    "\n",
    "\n",
    "        \n",
    "        Array[i] =[dirArray,expArray] \n",
    "        \n",
    "\n",
    "    print(\"Loaded \", nels,\" direction arrays.\" )\n",
    "    return Array\n",
    "    \n",
    "\n",
    "\n",
    "def binarySearch(array,element,maxorder):\n",
    "    \n",
    "    indx = convertDirExp2BaseIndx(element,maxorder)\n",
    "    \n",
    "    min_i=0\n",
    "    max_i=len(array)\n",
    "    pos = int(min_i+0.5*(max_i-min_i))\n",
    "    \n",
    "    \n",
    "    while (max_i-min_i)>2:\n",
    "        \n",
    "        if indx>convertDirExp2BaseIndx(array[pos],maxorder):\n",
    "      \n",
    "            min_i=pos\n",
    "    \n",
    "        else:\n",
    "      \n",
    "            max_i=pos+1\n",
    "      \n",
    "        # end if\n",
    "    \n",
    "        pos = int(min_i+0.5*(max_i-min_i))\n",
    "    \n",
    "    # end while\n",
    "    \n",
    "    return pos\n",
    "    \n",
    "    \n",
    "    \n",
    "def convertDirExp2BaseIndx(Array,maxorder):\n",
    "    \n",
    "    num = 0\n",
    "    dirArray = Array[0]\n",
    "    expArray = Array[1]\n",
    "    for i in range(len(dirArray)):\n",
    "        \n",
    "        num += expArray[i]*(maxorder+1)**(dirArray[i]-1)\n",
    "        \n",
    "    return num\n",
    "    "
   ]
  },
  {
   "cell_type": "code",
   "execution_count": 348,
   "metadata": {
    "collapsed": false
   },
   "outputs": [
    {
     "name": "stdout",
     "output_type": "stream",
     "text": [
      "50015001\n"
     ]
    }
   ],
   "source": [
    "maxorder = 2\n",
    "ndir = 10000\n",
    "total_combs = dn.findComb(ndir+1,maxorder)\n",
    "print(total_combs)"
   ]
  },
  {
   "cell_type": "code",
   "execution_count": 327,
   "metadata": {
    "collapsed": false
   },
   "outputs": [
    {
     "name": "stdout",
     "output_type": "stream",
     "text": [
      "Generating a total of  4598125  directions.\n",
      "Finished\n"
     ]
    }
   ],
   "source": [
    "genDirExpArrayLookUp(maxorder,ndir = ndir)"
   ]
  },
  {
   "cell_type": "code",
   "execution_count": null,
   "metadata": {
    "collapsed": false
   },
   "outputs": [],
   "source": []
  },
  {
   "cell_type": "code",
   "execution_count": 337,
   "metadata": {
    "collapsed": false
   },
   "outputs": [
    {
     "name": "stdout",
     "output_type": "stream",
     "text": [
      "Loading LookUp direction and Exponent Arrays.\n",
      "Loaded  4598125  direction arrays.\n"
     ]
    }
   ],
   "source": [
    "maxorder = 4\n",
    "Array = loadDirExpArrayLookUp(maxorder,ndir = 100)"
   ]
  },
  {
   "cell_type": "code",
   "execution_count": null,
   "metadata": {
    "collapsed": false
   },
   "outputs": [],
   "source": []
  },
  {
   "cell_type": "code",
   "execution_count": 280,
   "metadata": {
    "collapsed": false,
    "scrolled": true
   },
   "outputs": [],
   "source": [
    "#print(str(Array).replace(\"]],\",\"]]\\n\"))"
   ]
  },
  {
   "cell_type": "code",
   "execution_count": null,
   "metadata": {
    "collapsed": false
   },
   "outputs": [],
   "source": [
    "\n",
    "    "
   ]
  },
  {
   "cell_type": "code",
   "execution_count": 301,
   "metadata": {
    "collapsed": false
   },
   "outputs": [
    {
     "name": "stdout",
     "output_type": "stream",
     "text": [
      "100000 loops, best of 3: 4.87 µs per loop\n"
     ]
    }
   ],
   "source": [
    "maxorder = 4\n",
    "\n",
    "%timeit convertDirExp2BaseIndx([[20,1000],[1,3]],maxorder)"
   ]
  },
  {
   "cell_type": "code",
   "execution_count": 315,
   "metadata": {
    "collapsed": false
   },
   "outputs": [
    {
     "name": "stdout",
     "output_type": "stream",
     "text": [
      "It's not there\n"
     ]
    },
    {
     "ename": "IndexError",
     "evalue": "list index out of range",
     "output_type": "error",
     "traceback": [
      "\u001b[0;31m--------------------------------------------------------------------------\u001b[0m",
      "\u001b[0;31mIndexError\u001b[0m                               Traceback (most recent call last)",
      "\u001b[0;32m<ipython-input-315-201972878821>\u001b[0m in \u001b[0;36m<module>\u001b[0;34m()\u001b[0m\n\u001b[1;32m      5\u001b[0m     \u001b[0mprint\u001b[0m\u001b[0;34m(\u001b[0m\u001b[0;34m\"It's not there\"\u001b[0m\u001b[0;34m)\u001b[0m\u001b[0;34m\u001b[0m\u001b[0m\n\u001b[1;32m      6\u001b[0m \u001b[0;34m\u001b[0m\u001b[0m\n\u001b[0;32m----> 7\u001b[0;31m \u001b[0mArray\u001b[0m\u001b[0;34m[\u001b[0m\u001b[0mi\u001b[0m\u001b[0;34m]\u001b[0m\u001b[0;34m\u001b[0m\u001b[0m\n\u001b[0m",
      "\u001b[0;31mIndexError\u001b[0m: list index out of range"
     ]
    }
   ],
   "source": [
    "try:\n",
    "    i = Array.index([[998,1000],[1,1]])\n",
    "    print(i)\n",
    "except:\n",
    "    print(\"It's not there\")\n",
    "\n",
    "Array[i]"
   ]
  },
  {
   "cell_type": "code",
   "execution_count": 341,
   "metadata": {
    "collapsed": false
   },
   "outputs": [
    {
     "name": "stdout",
     "output_type": "stream",
     "text": [
      "10 loops, best of 3: 175 ms per loop\n"
     ]
    }
   ],
   "source": [
    "element = [[99,100],[1,1]]\n",
    "%timeit Array.index(element)"
   ]
  },
  {
   "cell_type": "code",
   "execution_count": 342,
   "metadata": {
    "collapsed": false
   },
   "outputs": [
    {
     "name": "stdout",
     "output_type": "stream",
     "text": [
      "10000 loops, best of 3: 91.8 µs per loop\n"
     ]
    }
   ],
   "source": [
    "%timeit binarySearch(Array,element,maxorder)"
   ]
  },
  {
   "cell_type": "code",
   "execution_count": 343,
   "metadata": {
    "collapsed": false
   },
   "outputs": [
    {
     "data": {
      "text/plain": [
       "4587924"
      ]
     },
     "execution_count": 343,
     "metadata": {},
     "output_type": "execute_result"
    }
   ],
   "source": [
    "binarySearch(Array,element,maxorder)"
   ]
  },
  {
   "cell_type": "code",
   "execution_count": 344,
   "metadata": {
    "collapsed": false
   },
   "outputs": [
    {
     "data": {
      "text/plain": [
       "True"
      ]
     },
     "execution_count": 344,
     "metadata": {},
     "output_type": "execute_result"
    }
   ],
   "source": [
    "binarySearch(Array,element,maxorder) == Array.index(element)"
   ]
  },
  {
   "cell_type": "code",
   "execution_count": 345,
   "metadata": {
    "collapsed": false
   },
   "outputs": [
    {
     "data": {
      "text/plain": [
       "1893266172530428332988148556678686951215695444261655211448669433593750"
      ]
     },
     "execution_count": 345,
     "metadata": {},
     "output_type": "execute_result"
    }
   ],
   "source": [
    "convertDirExp2BaseIndx(element,maxorder)"
   ]
  },
  {
   "cell_type": "code",
   "execution_count": null,
   "metadata": {
    "collapsed": true
   },
   "outputs": [],
   "source": []
  },
  {
   "cell_type": "code",
   "execution_count": 46,
   "metadata": {
    "collapsed": true
   },
   "outputs": [],
   "source": []
  },
  {
   "cell_type": "code",
   "execution_count": null,
   "metadata": {
    "collapsed": false
   },
   "outputs": [],
   "source": []
  },
  {
   "cell_type": "code",
   "execution_count": null,
   "metadata": {
    "collapsed": true
   },
   "outputs": [],
   "source": []
  }
 ],
 "metadata": {
  "kernelspec": {
   "display_name": "Python 3",
   "language": "python",
   "name": "python3"
  },
  "language_info": {
   "codemirror_mode": {
    "name": "ipython",
    "version": 3
   },
   "file_extension": ".py",
   "mimetype": "text/x-python",
   "name": "python",
   "nbconvert_exporter": "python",
   "pygments_lexer": "ipython3",
   "version": "3.4.3"
  }
 },
 "nbformat": 4,
 "nbformat_minor": 2
}
