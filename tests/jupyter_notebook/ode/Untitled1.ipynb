{
 "cells": [
  {
   "cell_type": "code",
   "execution_count": 2,
   "id": "57ea451c",
   "metadata": {},
   "outputs": [],
   "source": [
    "# 1. SET GLOBAL PATH \n",
    "import sys\n",
    "path2oti = '../../../build'\n",
    "sys.path.append(path2oti) # Add path to OTI library.\n",
    "\n",
    "import pyoti.sparse as oti\n",
    "from pyoti.core import imdir\n",
    "\n",
    "import numpy as np"
   ]
  },
  {
   "cell_type": "code",
   "execution_count": 11,
   "id": "dfd4b07f",
   "metadata": {},
   "outputs": [
    {
     "name": "stdout",
     "output_type": "stream",
     "text": [
      "Help on built-in function zero in module pyoti.sparse:\n",
      "\n",
      "zero(...)\n",
      "    PURPOSE:  To create a scalar with real value 0 and every imaginary coefficient as zeros.\n",
      "\n"
     ]
    }
   ],
   "source": [
    "help(oti.zero)"
   ]
  },
  {
   "cell_type": "code",
   "execution_count": 51,
   "id": "1375b420",
   "metadata": {},
   "outputs": [],
   "source": [
    "X = oti.ones((2,1)) + oti.e(1)\n"
   ]
  },
  {
   "cell_type": "code",
   "execution_count": 52,
   "id": "3587b824",
   "metadata": {},
   "outputs": [
    {
     "data": {
      "text/plain": [
       "matso< shape: (2, 1), \n",
       " - Column 0\n",
       "(0,0) 0 + 1 * e([1])\n",
       "(1,0) 0 + 1 * e([1])\n",
       ">"
      ]
     },
     "execution_count": 52,
     "metadata": {},
     "output_type": "execute_result"
    }
   ],
   "source": [
    "X.get_order_im(1)"
   ]
  },
  {
   "cell_type": "code",
   "execution_count": 60,
   "id": "765ba9cf",
   "metadata": {},
   "outputs": [
    {
     "name": "stdout",
     "output_type": "stream",
     "text": [
      "6.25 + 5 * e([1]) + 1 * e([[1,2]])\n"
     ]
    }
   ],
   "source": [
    "y = 2.5 + oti.e(1,order = 2)\n",
    "y = y**2\n",
    "print(y)"
   ]
  },
  {
   "cell_type": "code",
   "execution_count": 61,
   "id": "59293b9f",
   "metadata": {},
   "outputs": [
    {
     "data": {
      "text/plain": [
       "4.5000 + 2.0000 * e([1])"
      ]
     },
     "execution_count": 61,
     "metadata": {},
     "output_type": "execute_result"
    }
   ],
   "source": [
    "x = 4.5 + 2*oti.e(1,order = 2)\n",
    "x"
   ]
  },
  {
   "cell_type": "code",
   "execution_count": 62,
   "id": "77c93c98",
   "metadata": {},
   "outputs": [],
   "source": [
    "x.set_deriv(y,[1])"
   ]
  },
  {
   "cell_type": "code",
   "execution_count": 63,
   "id": "f6c853af",
   "metadata": {},
   "outputs": [
    {
     "data": {
      "text/plain": [
       "0.0000 + 6.2500 * e([1]) + 2.5000 * e([[1,2]])"
      ]
     },
     "execution_count": 63,
     "metadata": {},
     "output_type": "execute_result"
    }
   ],
   "source": [
    "x"
   ]
  },
  {
   "cell_type": "code",
   "execution_count": 59,
   "id": "8bba4be0",
   "metadata": {},
   "outputs": [
    {
     "data": {
      "text/plain": [
       "5.0"
      ]
     },
     "execution_count": 59,
     "metadata": {},
     "output_type": "execute_result"
    }
   ],
   "source": [
    "x[[1,2]]"
   ]
  },
  {
   "cell_type": "code",
   "execution_count": null,
   "id": "771a4b65",
   "metadata": {},
   "outputs": [],
   "source": []
  }
 ],
 "metadata": {
  "kernelspec": {
   "display_name": "pyoti",
   "language": "python",
   "name": "pyoti"
  },
  "language_info": {
   "codemirror_mode": {
    "name": "ipython",
    "version": 3
   },
   "file_extension": ".py",
   "mimetype": "text/x-python",
   "name": "python",
   "nbconvert_exporter": "python",
   "pygments_lexer": "ipython3",
   "version": "3.8.10"
  }
 },
 "nbformat": 4,
 "nbformat_minor": 5
}
