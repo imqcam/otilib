{
 "cells": [
  {
   "cell_type": "code",
   "execution_count": 1,
   "id": "d0c2f0f5",
   "metadata": {},
   "outputs": [],
   "source": [
    "from scipy.integrate import solve_ivp"
   ]
  },
  {
   "cell_type": "code",
   "execution_count": null,
   "id": "70422e93",
   "metadata": {},
   "outputs": [],
   "source": [
    "\n",
    "# Solution to be solved:\n",
    "def F_eval( t, X ):\n",
    "    x = X[0]\n",
    "    y = X[1]\n",
    "    return [y, -x]\n",
    "\n"
   ]
  },
  {
   "cell_type": "code",
   "execution_count": null,
   "id": "60c327c4",
   "metadata": {},
   "outputs": [],
   "source": [
    "# Solution parameters\n",
    "t0 = 0.\n",
    "tf = 5.\n",
    "# x = -1.0, y = 2.0\n",
    "y0 =[ -1.0, 2.0]\n",
    "\n",
    "\n",
    "methods = [\n",
    "    'RK45',\n",
    "    'RK23',\n",
    "    'DOP853',\n",
    "    'Radau',\n",
    "    'BDF',\n",
    "    'LSODA'\n",
    "]\n"
   ]
  },
  {
   "cell_type": "code",
   "execution_count": null,
   "id": "6f7db090",
   "metadata": {},
   "outputs": [],
   "source": [
    "solve_ivp(\n",
    ")"
   ]
  }
 ],
 "metadata": {
  "kernelspec": {
   "display_name": "pyoti",
   "language": "python",
   "name": "pyoti"
  },
  "language_info": {
   "codemirror_mode": {
    "name": "ipython",
    "version": 3
   },
   "file_extension": ".py",
   "mimetype": "text/x-python",
   "name": "python",
   "nbconvert_exporter": "python",
   "pygments_lexer": "ipython3",
   "version": "3.8.10"
  }
 },
 "nbformat": 4,
 "nbformat_minor": 5
}
