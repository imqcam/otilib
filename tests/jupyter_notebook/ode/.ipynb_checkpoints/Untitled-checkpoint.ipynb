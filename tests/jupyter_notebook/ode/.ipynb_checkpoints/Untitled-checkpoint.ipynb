{
 "cells": [
  {
   "cell_type": "code",
   "execution_count": 1,
   "metadata": {},
   "outputs": [],
   "source": [
    "# 1. SET GLOBAL PATH \n",
    "import sys\n",
    "path2oti = '../../../build'\n",
    "sys.path.append(path2oti) # Add path to OTI library.\n",
    "# path2mdl = '/Users/mauriaristi/Documents/src/multi-z/Python/'\n",
    "# sys.path.append(path2mdl) # Add path to MDL library.\n",
    "\n",
    "\n",
    "import pyoti.dense as oti\n",
    "eps = oti.e\n",
    "from pyoti.core import imdir\n",
    "\n",
    "import numpy as np\n",
    "\n",
    "%matplotlib notebook\n",
    "import matplotlib.pyplot as plt\n",
    "\n",
    "from ode_solve import *"
   ]
  },
  {
   "cell_type": "code",
   "execution_count": 2,
   "metadata": {},
   "outputs": [],
   "source": [
    "# Define functions\n",
    "\n",
    "def F_eval(X):\n",
    "    x = X[0]\n",
    "    y = X[1]\n",
    "    return 1 -  (x**2-y**2) / (x**2+y**2)**2,  -2*x*y/(x**2+y**2)**2\n"
   ]
  },
  {
   "cell_type": "code",
   "execution_count": 3,
   "metadata": {},
   "outputs": [],
   "source": [
    "# Define initial conditions\n",
    "\n",
    "x0 = [-1,2]\n",
    "\n"
   ]
  },
  {
   "cell_type": "code",
   "execution_count": 6,
   "metadata": {},
   "outputs": [
    {
     "name": "stdout",
     "output_type": "stream",
     "text": [
      "Err:   [0.00121182 0.0055744 ]\n",
      "\n",
      "Norm_2:  0.005704598518131629\n",
      "\n",
      "Norm_inf:  0.005574401137777782\n",
      "\n",
      "dts:  [0.91688742 0.71097726]\n",
      "\n",
      "x:  [-1 + 1.12 * e([1]) + 0.096 * e([[1,2]]) + 0.00597333 * e([[1,3]]) - 0.0208384 * e([[1,4]]) - 0.00950299 * e([[1,5]]), 2 + 0.16 * e([1]) - 0.032 * e([[1,2]]) - 0.0503467 * e([[1,3]]) - 0.0121685 * e([[1,4]]) + 0.00703338 * e([[1,5]])]\n",
      "dt:  0.7109772644508012\n"
     ]
    }
   ],
   "source": [
    "\n",
    "\n",
    "x, dt = ode_comp_F_derivs(F_eval, x0, eps=1e-6,order = 5)\n",
    "\n",
    "print(\"x: \",x)\n",
    "\n",
    "print(\"dt: \",dt)\n",
    "xf = np.array(X(dt,x))"
   ]
  },
  {
   "cell_type": "code",
   "execution_count": 7,
   "metadata": {},
   "outputs": [
    {
     "data": {
      "text/plain": [
       "array([-0.16008278,  2.07765504])"
      ]
     },
     "execution_count": 7,
     "metadata": {},
     "output_type": "execute_result"
    }
   ],
   "source": [
    "xf"
   ]
  },
  {
   "cell_type": "code",
   "execution_count": 8,
   "metadata": {},
   "outputs": [],
   "source": [
    "x_vals = euler_integration(F_eval, x0,1e-3,dt)"
   ]
  },
  {
   "cell_type": "code",
   "execution_count": null,
   "metadata": {},
   "outputs": [],
   "source": []
  },
  {
   "cell_type": "code",
   "execution_count": null,
   "metadata": {},
   "outputs": [],
   "source": []
  }
 ],
 "metadata": {
  "kernelspec": {
   "display_name": "Python 3",
   "language": "python",
   "name": "python3"
  },
  "language_info": {
   "codemirror_mode": {
    "name": "ipython",
    "version": 3
   },
   "file_extension": ".py",
   "mimetype": "text/x-python",
   "name": "python",
   "nbconvert_exporter": "python",
   "pygments_lexer": "ipython3",
   "version": "3.7.3"
  }
 },
 "nbformat": 4,
 "nbformat_minor": 2
}
