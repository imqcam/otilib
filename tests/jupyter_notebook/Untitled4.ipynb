{
 "cells": [
  {
   "cell_type": "code",
   "execution_count": 1,
   "metadata": {
    "collapsed": false,
    "deletable": true,
    "editable": true
   },
   "outputs": [],
   "source": [
    "import pstats, cProfile\n",
    "from line_profiler import LineProfiler\n",
    "\n",
    "import spr_otilib as oti\n",
    "e = oti.e\n",
    "np = oti.np\n",
    "spr = oti.spr"
   ]
  },
  {
   "cell_type": "code",
   "execution_count": 2,
   "metadata": {
    "collapsed": true,
    "deletable": true,
    "editable": true
   },
   "outputs": [],
   "source": [
    "import math"
   ]
  },
  {
   "cell_type": "code",
   "execution_count": 3,
   "metadata": {
    "collapsed": false,
    "deletable": true,
    "editable": true
   },
   "outputs": [
    {
     "name": "stdout",
     "output_type": "stream",
     "text": [
      "[0]\n"
     ]
    }
   ],
   "source": [
    "oti.h.getNels(10,2)\n",
    "error = np.zeros(1,dtype = np.uint8)\n",
    "oti.h.multIndx(1,10,2,error)\n",
    "print(error)"
   ]
  },
  {
   "cell_type": "raw",
   "metadata": {
    "collapsed": false,
    "deletable": true,
    "editable": true
   },
   "source": [
    "cProfile.run(\"oti.h.multIndx(10,1,2,error)\")#, globals(), locals(), \"Profile.prof\")\n",
    "# s = pstats.Stats(\"Profile.prof\")\n",
    "# s.strip_dirs().sort_stats(\"time\").print_stats()"
   ]
  },
  {
   "cell_type": "code",
   "execution_count": 4,
   "metadata": {
    "collapsed": false,
    "deletable": true,
    "editable": true
   },
   "outputs": [
    {
     "name": "stdout",
     "output_type": "stream",
     "text": [
      "1, 0, 0, 0, 0, 0, 0, 0, 0, 0, 0, \n",
      "1, 1, 1, 1, 1, 1, 1, 1, 1, 1, 1, \n",
      "1, 2, 4, 8, 16, 32, 64, 128, 256, 512, 1024, \n",
      "1, 3, 9, 27, 81, 243, 729, 2187, 6561, 19683, 59049, \n",
      "1, 4, 16, 64, 256, 1024, 4096, 16384, 65536, 262144, 1048576, \n",
      "1, 5, 25, 125, 625, 3125, 15625, 78125, 390625, 1953125, 9765625, \n",
      "1, 6, 36, 216, 1296, 7776, 46656, 279936, 1679616, 10077696, 60466176, \n",
      "1, 7, 49, 343, 2401, 16807, 117649, 823543, 5764801, 40353607, 282475249, \n",
      "1, 8, 64, 512, 4096, 32768, 262144, 2097152, 16777216, 134217728, 1073741824, \n",
      "1, 9, 81, 729, 6561, 59049, 531441, 4782969, 43046721, 387420489, 3486784401, \n",
      "1, 10, 100, 1000, 10000, 100000, 1000000, 10000000, 100000000, 1000000000, 10000000000, \n",
      "\n"
     ]
    }
   ],
   "source": [
    "expMax = 10\n",
    "dirMax = 10\n",
    "ggg = ''\n",
    "for i in range(dirMax+1):\n",
    "    \n",
    "    for j in range(expMax+1):\n",
    "        ggg+= str(i**j)+\", \"\n",
    "    ggg+='\\n'\n",
    "        \n",
    "print(ggg)"
   ]
  },
  {
   "cell_type": "code",
   "execution_count": 1,
   "metadata": {
    "collapsed": false
   },
   "outputs": [],
   "source": [
    "pows = [1,  0,   0,    0,     0,      0,       0,        0,         0,          0,           0,  \n",
    "        1,  1,   1,    1,     1,      1,       1,        1,         1,          1,           1, \n",
    "        1,  2,   4,    8,    16,     32,      64,      128,       256,        512,        1024, \n",
    "        1,  3,   9,   27,    81,    243,     729,     2187,      6561,      19683,       59049,  \n",
    "        1,  4,  16,   64,   256,   1024,    4096,    16384,     65536,     262144,     1048576,  \n",
    "        1,  5,  25,  125,   625,   3125,   15625,    78125,    390625,    1953125,     9765625,  \n",
    "        1,  6,  36,  216,  1296,   7776,   46656,   279936,   1679616,   10077696,    60466176,  \n",
    "        1,  7,  49,  343,  2401,  16807,  117649,   823543,   5764801,   40353607,   282475249,  \n",
    "        1,  8,  64,  512,  4096,  32768,  262144,  2097152,  16777216,  134217728,  1073741824,  \n",
    "        1,  9,  81,  729,  6561,  59049,  531441,  4782969,  43046721,  387420489,  3486784401,  \n",
    "        1, 10, 100, 1000, 10000, 100000, 1000000, 10000000, 100000000, 1000000000, 10000000000]"
   ]
  },
  {
   "cell_type": "code",
   "execution_count": 2,
   "metadata": {
    "collapsed": false
   },
   "outputs": [
    {
     "name": "stdout",
     "output_type": "stream",
     "text": [
      "The slowest run took 9.50 times longer than the fastest. This could mean that an intermediate result is being cached.\n",
      "10000000 loops, best of 3: 116 ns per loop\n",
      "The slowest run took 4.96 times longer than the fastest. This could mean that an intermediate result is being cached.\n",
      "1000000 loops, best of 3: 336 ns per loop\n",
      "32768\n"
     ]
    },
    {
     "data": {
      "text/plain": [
       "32768"
      ]
     },
     "execution_count": 2,
     "metadata": {},
     "output_type": "execute_result"
    }
   ],
   "source": [
    "base = 8\n",
    "exp = 5\n",
    "%timeit pows[base*11+exp]\n",
    "%timeit base**exp\n",
    "\n",
    "print(pows[base*11+exp])\n",
    "base**exp"
   ]
  },
  {
   "cell_type": "code",
   "execution_count": 15,
   "metadata": {
    "collapsed": true,
    "deletable": true,
    "editable": true
   },
   "outputs": [],
   "source": [
    "m=50\n",
    "o=2"
   ]
  },
  {
   "cell_type": "markdown",
   "metadata": {
    "collapsed": false,
    "deletable": true,
    "editable": true
   },
   "source": [
    "%timeit np.sin(2)\n",
    "%timeit math.sin(2)"
   ]
  },
  {
   "cell_type": "code",
   "execution_count": 4,
   "metadata": {
    "collapsed": false,
    "deletable": true,
    "editable": true,
    "scrolled": true
   },
   "outputs": [
    {
     "data": {
      "text/plain": [
       "1.0"
      ]
     },
     "execution_count": 4,
     "metadata": {},
     "output_type": "execute_result"
    }
   ],
   "source": [
    "(2**64-1)/(16**16) "
   ]
  },
  {
   "cell_type": "code",
   "execution_count": 3,
   "metadata": {
    "collapsed": true
   },
   "outputs": [],
   "source": [
    "def multTest(a,b):\n",
    "    return a*b"
   ]
  },
  {
   "cell_type": "code",
   "execution_count": 6,
   "metadata": {
    "collapsed": false
   },
   "outputs": [
    {
     "data": {
      "text/plain": [
       "[1, 2]"
      ]
     },
     "execution_count": 6,
     "metadata": {},
     "output_type": "execute_result"
    }
   ],
   "source": [
    "oti.getDirArray(4,2)"
   ]
  },
  {
   "cell_type": "code",
   "execution_count": 16,
   "metadata": {
    "collapsed": false,
    "deletable": true,
    "editable": true
   },
   "outputs": [
    {
     "name": "stdout",
     "output_type": "stream",
     "text": [
      "('DirA: ', array([1, 0], dtype=uint16))\n",
      "('ExpA: ', array([1, 0], dtype=uint8))\n",
      "('Index: ', 1)\n",
      "2\n"
     ]
    }
   ],
   "source": [
    "\n",
    "\n",
    "a = 3 +  e( 1,m=m,maxorder=o)"
   ]
  },
  {
   "cell_type": "code",
   "execution_count": 8,
   "metadata": {
    "collapsed": false,
    "deletable": true,
    "editable": true
   },
   "outputs": [
    {
     "data": {
      "text/plain": [
       "1.0"
      ]
     },
     "execution_count": 8,
     "metadata": {},
     "output_type": "execute_result"
    }
   ],
   "source": [
    "a.getDual(1)"
   ]
  },
  {
   "cell_type": "code",
   "execution_count": 7,
   "metadata": {
    "collapsed": false,
    "scrolled": false
   },
   "outputs": [
    {
     "name": "stdout",
     "output_type": "stream",
     "text": [
      "3.0 + 1.0 * e([1]) + 0.0 * e([[1,2]]) + 0.0 * e([2]) + 0.0 * e([1,2]) + 0.0 * e([[2,2]]) \n"
     ]
    }
   ],
   "source": [
    "print(a)"
   ]
  },
  {
   "cell_type": "code",
   "execution_count": 8,
   "metadata": {
    "collapsed": false
   },
   "outputs": [
    {
     "name": "stdout",
     "output_type": "stream",
     "text": [
      "2\n",
      "[0]\n"
     ]
    }
   ],
   "source": [
    "error = np.ones(1,dtype = np.uint8)\n",
    "print(oti.h.multIndx(1,1,2,error))\n",
    "print(error)"
   ]
  },
  {
   "cell_type": "code",
   "execution_count": 9,
   "metadata": {
    "collapsed": false
   },
   "outputs": [
    {
     "data": {
      "text/plain": [
       "otinum([9.,6.,1.,0.,0.,0.], 2)"
      ]
     },
     "execution_count": 9,
     "metadata": {},
     "output_type": "execute_result"
    }
   ],
   "source": [
    "a*a"
   ]
  },
  {
   "cell_type": "code",
   "execution_count": 10,
   "metadata": {
    "collapsed": false
   },
   "outputs": [
    {
     "name": "stdout",
     "output_type": "stream",
     "text": [
      "3.0 + 1.0 * e([1]) + 0.0 * e([[1,2]]) + 0.0 * e([2]) + 0.0 * e([1,2]) + 0.0 * e([[2,2]]) \n"
     ]
    }
   ],
   "source": [
    "print(a)"
   ]
  },
  {
   "cell_type": "code",
   "execution_count": 11,
   "metadata": {
    "collapsed": false
   },
   "outputs": [
    {
     "name": "stdout",
     "output_type": "stream",
     "text": [
      "Timer unit: 1e-06 s\n",
      "\n"
     ]
    },
    {
     "name": "stderr",
     "output_type": "stream",
     "text": [
      "/Library/Frameworks/Python.framework/Versions/3.6/lib/python3.6/site-packages/ipykernel/__main__.py:1: UserWarning: Could not extract a code object for the object <method-wrapper '__mul__' of spr_otilib.otinum object at 0x108a85318>\n",
      "  if __name__ == '__main__':\n"
     ]
    }
   ],
   "source": [
    "prof = LineProfiler(a.__mul__)\n",
    "prof.runcall(a.__mul__,a)\n",
    "prof.print_stats()"
   ]
  },
  {
   "cell_type": "code",
   "execution_count": 14,
   "metadata": {
    "collapsed": false
   },
   "outputs": [
    {
     "data": {
      "text/plain": [
       "otinum([3.,1.,0.,0.,0.,0.], 2)"
      ]
     },
     "execution_count": 14,
     "metadata": {},
     "output_type": "execute_result"
    }
   ],
   "source": [
    "a"
   ]
  },
  {
   "cell_type": "code",
   "execution_count": 15,
   "metadata": {
    "collapsed": false
   },
   "outputs": [
    {
     "name": "stdout",
     "output_type": "stream",
     "text": [
      "Timer unit: 1e-06 s\n",
      "\n"
     ]
    }
   ],
   "source": [
    "prof.print_stats()"
   ]
  },
  {
   "cell_type": "code",
   "execution_count": 17,
   "metadata": {
    "collapsed": false
   },
   "outputs": [
    {
     "name": "stdout",
     "output_type": "stream",
     "text": [
      "         15833870 function calls (14075594 primitive calls) in 5.489 seconds\n",
      "\n",
      "   Ordered by: standard name\n",
      "\n",
      "   ncalls  tottime  percall  cumtime  percall filename:lineno(function)\n",
      "        1    0.000    0.000    5.489    5.489 <string>:1(<module>)\n",
      "        1    2.068    2.068    5.489    5.489 spr_otilib.pyx:1214(__mul__)\n",
      "        2    0.000    0.000    0.000    0.000 spr_otilib.pyx:1430(copy)\n",
      "        2    0.000    0.000    0.000    0.000 spr_otilib.pyx:538(__cinit__)\n",
      "3516552/1758276    0.661    0.000    0.661    0.000 spr_otilib.pyx:9664(multIndx)\n",
      "        4    0.000    0.000    0.000    0.000 stringsource:1092(abs_py_ssize_t)\n",
      "        2    0.000    0.000    0.000    0.000 stringsource:1099(get_best_order)\n",
      "        2    0.000    0.000    0.000    0.000 stringsource:1160(slice_get_size)\n",
      "        2    0.000    0.000    0.000    0.000 stringsource:1171(fill_contig_strides_array)\n",
      "        2    0.000    0.000    0.000    0.000 stringsource:120(__cinit__)\n",
      "        2    0.000    0.000    0.000    0.000 stringsource:1252(memoryview_copy_contents)\n",
      "        4    0.000    0.000    0.000    0.000 stringsource:1346(refcount_copying)\n",
      "        2    0.000    0.000    0.000    0.000 stringsource:183(__getbuffer__)\n",
      "        2    0.000    0.000    0.000    0.000 stringsource:209(__dealloc__)\n",
      "        2    0.000    0.000    0.000    0.000 stringsource:240(array_cwrapper)\n",
      "  1759614    0.243    0.000    0.243    0.000 stringsource:294(align_pointer)\n",
      "  1759614    0.626    0.000    0.869    0.000 stringsource:341(__cinit__)\n",
      "  1759614    0.332    0.000    0.332    0.000 stringsource:368(__dealloc__)\n",
      "  1758278    0.141    0.000    0.141    0.000 stringsource:545(__get__)\n",
      "     1330    0.000    0.000    0.000    0.000 stringsource:580(__get__)\n",
      "        4    0.000    0.000    0.000    0.000 stringsource:643(memoryview_cwrapper)\n",
      "  1758280    0.147    0.000    0.147    0.000 stringsource:649(memoryview_check)\n",
      "  1759610    0.142    0.000    0.142    0.000 stringsource:962(__dealloc__)\n",
      "     1332    0.000    0.000    0.000    0.000 stringsource:978(__get__)\n",
      "  1759610    1.128    0.000    2.138    0.000 stringsource:985(memoryview_fromslice)\n",
      "        1    0.000    0.000    5.489    5.489 {built-in method builtins.exec}\n",
      "        1    0.000    0.000    0.000    0.000 {method 'disable' of '_lsprof.Profiler' objects}\n",
      "\n",
      "\n"
     ]
    }
   ],
   "source": [
    "cProfile.run(\"a*a\")"
   ]
  },
  {
   "cell_type": "code",
   "execution_count": 12,
   "metadata": {
    "collapsed": false
   },
   "outputs": [
    {
     "name": "stdout",
     "output_type": "stream",
     "text": [
      "         15886318 function calls in 5.342 seconds\n",
      "\n",
      "   Ordered by: standard name\n",
      "\n",
      "   ncalls  tottime  percall  cumtime  percall filename:lineno(function)\n",
      "        1    0.000    0.000    5.342    5.342 <string>:1(<module>)\n",
      "        1    2.077    2.077    5.342    5.342 spr_otilib.pyx:2098(mult)\n",
      "     5151    0.002    0.000    0.009    0.000 spr_otilib.pyx:533(__get__)\n",
      "  1758276    0.476    0.000    0.711    0.000 spr_otilib.pyx:9662(multIndx (wrapper))\n",
      "  1758276    0.235    0.000    0.235    0.000 spr_otilib.pyx:9662(multIndx)\n",
      "  1763430    0.231    0.000    0.231    0.000 stringsource:294(align_pointer)\n",
      "  1763430    0.497    0.000    0.729    0.000 stringsource:341(__cinit__)\n",
      "  1763430    0.203    0.000    0.203    0.000 stringsource:368(__dealloc__)\n",
      "     5151    0.002    0.000    0.002    0.000 stringsource:385(get_item_pointer)\n",
      "     5151    0.004    0.000    0.009    0.000 stringsource:395(__getitem__)\n",
      "  1758276    0.151    0.000    0.151    0.000 stringsource:545(__get__)\n",
      "        1    0.000    0.000    0.000    0.000 stringsource:580(__get__)\n",
      "        2    0.000    0.000    0.000    0.000 stringsource:643(memoryview_cwrapper)\n",
      "  1758278    0.155    0.000    0.155    0.000 stringsource:649(memoryview_check)\n",
      "     5151    0.002    0.000    0.002    0.000 stringsource:652(_unellipsify)\n",
      "     5151    0.001    0.000    0.001    0.000 stringsource:896(pybuffer_index)\n",
      "  1763428    0.153    0.000    0.153    0.000 stringsource:962(__dealloc__)\n",
      "     5151    0.001    0.000    0.001    0.000 stringsource:965(convert_item_to_object)\n",
      "     5152    0.001    0.000    0.001    0.000 stringsource:978(__get__)\n",
      "  1763428    1.152    0.000    2.032    0.000 stringsource:985(memoryview_fromslice)\n",
      "        1    0.000    0.000    5.342    5.342 {built-in method builtins.exec}\n",
      "        1    0.000    0.000    0.000    0.000 {method 'disable' of '_lsprof.Profiler' objects}\n",
      "        1    0.000    0.000    5.342    5.342 {method 'mult' of 'spr_otilib.otinum' objects}\n",
      "\n",
      "\n"
     ]
    }
   ],
   "source": [
    "cProfile.run(\"a.mult(a)\")"
   ]
  },
  {
   "cell_type": "code",
   "execution_count": 55,
   "metadata": {
    "collapsed": false
   },
   "outputs": [
    {
     "data": {
      "text/plain": [
       "otinum([9.,6.,1.,...,0.,0.,0.], 2)"
      ]
     },
     "execution_count": 55,
     "metadata": {},
     "output_type": "execute_result"
    }
   ],
   "source": [
    "a.mult(a)\n",
    "a"
   ]
  },
  {
   "cell_type": "code",
   "execution_count": 11,
   "metadata": {
    "collapsed": false,
    "deletable": true,
    "editable": true
   },
   "outputs": [
    {
     "name": "stdout",
     "output_type": "stream",
     "text": [
      "('DirA: ', array([2, 0], dtype=uint16))\n",
      "('ExpA: ', array([1, 0], dtype=uint8))\n",
      "('Index: ', 3)\n",
      "2\n"
     ]
    },
    {
     "data": {
      "text/plain": [
       "1.0"
      ]
     },
     "execution_count": 11,
     "metadata": {},
     "output_type": "execute_result"
    }
   ],
   "source": [
    "b = 10+ e( 2, m=m, maxorder=o)\n",
    "b.getDual(2)"
   ]
  },
  {
   "cell_type": "code",
   "execution_count": 12,
   "metadata": {
    "collapsed": false
   },
   "outputs": [
    {
     "data": {
      "text/plain": [
       "otinum([30.,10.,0.,...,0.,0.,0.], 2)"
      ]
     },
     "execution_count": 12,
     "metadata": {},
     "output_type": "execute_result"
    }
   ],
   "source": [
    "a*b"
   ]
  },
  {
   "cell_type": "code",
   "execution_count": 13,
   "metadata": {
    "collapsed": false,
    "deletable": true,
    "editable": true
   },
   "outputs": [
    {
     "name": "stdout",
     "output_type": "stream",
     "text": [
      "1 loop, best of 3: 1.21 s per loop\n"
     ]
    }
   ],
   "source": [
    "a*b\n",
    "\n",
    "%timeit a*a # SUPER SLOW ! --> Need to speed up a LOT. \n",
    "\n",
    "# Goal: Multiply in Less than 1 us for order 1 and less than 4 us for order 2 and up\n",
    "\n",
    "# TODO: Modify the multiplication so that it only takes the multiples of the resulting directions \n",
    "# Order 1 : 19.1 us\n",
    "# Order 2 : 48.3 us  fast ->  40.6 us.\n",
    "\n",
    "\n"
   ]
  },
  {
   "cell_type": "code",
   "execution_count": 8,
   "metadata": {
    "collapsed": false,
    "deletable": true,
    "editable": true
   },
   "outputs": [
    {
     "data": {
      "text/plain": [
       "otinum([30.,10.,3.], 1)"
      ]
     },
     "execution_count": 8,
     "metadata": {},
     "output_type": "execute_result"
    }
   ],
   "source": [
    "a.mult(b)\n",
    "\n",
    "a"
   ]
  },
  {
   "cell_type": "code",
   "execution_count": 15,
   "metadata": {
    "collapsed": false,
    "deletable": true,
    "editable": true
   },
   "outputs": [
    {
     "name": "stdout",
     "output_type": "stream",
     "text": [
      "10 loops, best of 3: 965 ms per loop\n"
     ]
    }
   ],
   "source": [
    "%timeit -n10 a.mult(b)"
   ]
  },
  {
   "cell_type": "code",
   "execution_count": 21,
   "metadata": {
    "collapsed": false,
    "deletable": true,
    "editable": true
   },
   "outputs": [
    {
     "name": "stdout",
     "output_type": "stream",
     "text": [
      "10 loops, best of 3: 770 ns per loop\n",
      "Search for:\n",
      "[3 0 0]\n",
      "[1 0 0]\n",
      "Found:\n",
      "[3 0 0]\n",
      "[1 0 0]\n"
     ]
    }
   ],
   "source": [
    "# dirA = np.array([1,20,0,0,0,0,0,0,0,0],dtype = np.uint16)\n",
    "# expA = np.array([1, 1,0,0,0,0,0,0,0,0],dtype = np.uint8 )\n",
    "# %timeit -n10 oti.h.findIndx(dirA, expA, 10)   # 2.77 us <- fastpow  \n",
    "#                                               # 5.08 us <- pow   (order 2)\n",
    "\n",
    "indx = 10\n",
    "order = 3\n",
    "dirA = oti.h.getDirA(indx,order)\n",
    "expA = oti.h.getExpA(indx,order)\n",
    "%timeit -n10 oti.h.findIndx(dirA, expA, order)# 2.77 us <- fastpow  \n",
    "                                              # 5.08 us <- pow   (order 2)\n",
    "# Search for:\n",
    "print(\"Search for:\")\n",
    "print(dirA.base)\n",
    "print(expA.base)\n",
    "indxF = oti.h.findIndx(dirA, expA, order)\n",
    "print(\"Found:\")\n",
    "print(oti.h.getDirA(indxF,order).base)\n",
    "print(oti.h.getExpA(indxF,order).base)"
   ]
  },
  {
   "cell_type": "code",
   "execution_count": null,
   "metadata": {
    "collapsed": true
   },
   "outputs": [],
   "source": []
  },
  {
   "cell_type": "code",
   "execution_count": null,
   "metadata": {
    "collapsed": true,
    "deletable": true,
    "editable": true
   },
   "outputs": [],
   "source": [
    "a_spr = oti.spr_otinum(np.array([0,1],dtype = np.uint64),np.array([2,1],dtype = np.float64),o)"
   ]
  },
  {
   "cell_type": "code",
   "execution_count": null,
   "metadata": {
    "collapsed": false,
    "deletable": true,
    "editable": true
   },
   "outputs": [],
   "source": [
    "print(a_spr)"
   ]
  },
  {
   "cell_type": "code",
   "execution_count": null,
   "metadata": {
    "collapsed": true,
    "deletable": true,
    "editable": true
   },
   "outputs": [],
   "source": [
    "b_spr = oti.spr_otinum(np.array([0,6],dtype = np.uint64),np.array([10,1],dtype = np.float64),o)"
   ]
  },
  {
   "cell_type": "code",
   "execution_count": null,
   "metadata": {
    "collapsed": false,
    "deletable": true,
    "editable": true
   },
   "outputs": [],
   "source": [
    "print(b_spr)"
   ]
  },
  {
   "cell_type": "code",
   "execution_count": null,
   "metadata": {
    "collapsed": false,
    "deletable": true,
    "editable": true
   },
   "outputs": [],
   "source": [
    "print(repr(a_spr))\n",
    "print(repr(b_spr))\n",
    "a_spr*b_spr"
   ]
  },
  {
   "cell_type": "code",
   "execution_count": null,
   "metadata": {
    "collapsed": false,
    "deletable": true,
    "editable": true
   },
   "outputs": [],
   "source": [
    "%timeit a_spr*b_spr"
   ]
  },
  {
   "cell_type": "code",
   "execution_count": null,
   "metadata": {
    "collapsed": true,
    "deletable": true,
    "editable": true
   },
   "outputs": [],
   "source": [
    "A = a_spr.toMatrix(m=m)\n",
    "B = b_spr.toMatrix(m=m)"
   ]
  },
  {
   "cell_type": "code",
   "execution_count": null,
   "metadata": {
    "collapsed": false,
    "deletable": true,
    "editable": true
   },
   "outputs": [],
   "source": [
    "A"
   ]
  },
  {
   "cell_type": "code",
   "execution_count": null,
   "metadata": {
    "collapsed": false,
    "deletable": true,
    "editable": true
   },
   "outputs": [],
   "source": [
    "B"
   ]
  },
  {
   "cell_type": "code",
   "execution_count": null,
   "metadata": {
    "collapsed": false,
    "deletable": true,
    "editable": true
   },
   "outputs": [],
   "source": [
    "%timeit np.dot(A,B[:,0])"
   ]
  },
  {
   "cell_type": "code",
   "execution_count": null,
   "metadata": {
    "collapsed": true,
    "deletable": true,
    "editable": true
   },
   "outputs": [],
   "source": [
    "A_spr = spr.csr_matrix(A)\n",
    "B_spr = spr.csr_matrix(B)"
   ]
  },
  {
   "cell_type": "code",
   "execution_count": null,
   "metadata": {
    "collapsed": false,
    "deletable": true,
    "editable": true
   },
   "outputs": [],
   "source": [
    "%timeit A_spr*B_spr"
   ]
  },
  {
   "cell_type": "code",
   "execution_count": null,
   "metadata": {
    "collapsed": false,
    "deletable": true,
    "editable": true
   },
   "outputs": [],
   "source": [
    "oti.number_types"
   ]
  },
  {
   "cell_type": "code",
   "execution_count": null,
   "metadata": {
    "collapsed": false,
    "deletable": true,
    "editable": true
   },
   "outputs": [],
   "source": [
    "a = 3.5\n",
    "\n",
    "%timeit type(a) in oti.number_types"
   ]
  },
  {
   "cell_type": "code",
   "execution_count": null,
   "metadata": {
    "collapsed": true,
    "deletable": true,
    "editable": true
   },
   "outputs": [],
   "source": []
  }
 ],
 "metadata": {
  "kernelspec": {
   "display_name": "Python 3",
   "language": "python",
   "name": "python3"
  },
  "language_info": {
   "codemirror_mode": {
    "name": "ipython",
    "version": 3
   },
   "file_extension": ".py",
   "mimetype": "text/x-python",
   "name": "python",
   "nbconvert_exporter": "python",
   "pygments_lexer": "ipython3",
   "version": "3.6.0"
  }
 },
 "nbformat": 4,
 "nbformat_minor": 2
}
