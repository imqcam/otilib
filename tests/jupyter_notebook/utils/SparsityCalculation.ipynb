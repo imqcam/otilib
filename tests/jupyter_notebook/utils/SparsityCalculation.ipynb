{
 "cells": [
  {
   "cell_type": "markdown",
   "metadata": {},
   "source": [
    "# Sparsity computation of the matrix forms of OTI numbers"
   ]
  },
  {
   "cell_type": "code",
   "execution_count": 2,
   "metadata": {},
   "outputs": [],
   "source": [
    "# 1. SET GLOBAL PATH \n",
    "import sys\n",
    "path2oti = '../'\n",
    "sys.path.append(path2oti) # Add path to OTI library.\n",
    "import spr_otilib as dn\n",
    "\n",
    "\n",
    "\n",
    "import matplotlib.pyplot as plt\n",
    "%matplotlib notebook\n",
    "import matplotlib.patches as mpatches\n",
    "import matplotlib.lines as mlines\n",
    "import matplotlib.cm as cmap\n",
    "\n",
    "from IPython.display import clear_output\n",
    "\n",
    "np = dn.np\n",
    "e = dn.e"
   ]
  },
  {
   "cell_type": "code",
   "execution_count": 4,
   "metadata": {},
   "outputs": [
    {
     "name": "stdout",
     "output_type": "stream",
     "text": [
      "5151\n"
     ]
    },
    {
     "ename": "TypeError",
     "evalue": "only length-1 arrays can be converted to Python scalars",
     "output_type": "error",
     "traceback": [
      "\u001b[0;31m---------------------------------------------------------------------------\u001b[0m",
      "\u001b[0;31mTypeError\u001b[0m                                 Traceback (most recent call last)",
      "\u001b[0;32m<ipython-input-4-133c33d44a1f>\u001b[0m in \u001b[0;36m<module>\u001b[0;34m()\u001b[0m\n\u001b[1;32m      6\u001b[0m \u001b[0mcoefs\u001b[0m \u001b[0;34m=\u001b[0m \u001b[0mnp\u001b[0m\u001b[0;34m.\u001b[0m\u001b[0marray\u001b[0m\u001b[0;34m(\u001b[0m\u001b[0mrange\u001b[0m\u001b[0;34m(\u001b[0m\u001b[0;36m1\u001b[0m\u001b[0;34m,\u001b[0m\u001b[0mnels\u001b[0m\u001b[0;34m+\u001b[0m\u001b[0;36m1\u001b[0m\u001b[0;34m)\u001b[0m\u001b[0;34m,\u001b[0m\u001b[0mdtype\u001b[0m \u001b[0;34m=\u001b[0m \u001b[0mnp\u001b[0m\u001b[0;34m.\u001b[0m\u001b[0mfloat64\u001b[0m\u001b[0;34m)\u001b[0m\u001b[0;34m\u001b[0m\u001b[0m\n\u001b[1;32m      7\u001b[0m \u001b[0mmaxorder\u001b[0m \u001b[0;34m=\u001b[0m \u001b[0;36m2\u001b[0m\u001b[0;34m\u001b[0m\u001b[0m\n\u001b[0;32m----> 8\u001b[0;31m \u001b[0ma\u001b[0m \u001b[0;34m=\u001b[0m \u001b[0mdn\u001b[0m\u001b[0;34m.\u001b[0m\u001b[0motinum\u001b[0m\u001b[0;34m(\u001b[0m\u001b[0mindx\u001b[0m\u001b[0;34m,\u001b[0m\u001b[0mcoefs\u001b[0m\u001b[0;34m,\u001b[0m\u001b[0morder\u001b[0m\u001b[0;34m)\u001b[0m\u001b[0;34m\u001b[0m\u001b[0m\n\u001b[0m\u001b[1;32m      9\u001b[0m \u001b[0;31m# print(a)\u001b[0m\u001b[0;34m\u001b[0m\u001b[0;34m\u001b[0m\u001b[0m\n\u001b[1;32m     10\u001b[0m \u001b[0;34m\u001b[0m\u001b[0m\n",
      "\u001b[0;32m~/Dropbox/EAFIT/PHD/Thesis-MAC/DUAL/otilib/otinum.pxi\u001b[0m in \u001b[0;36motilib.otinum.__init__\u001b[0;34m()\u001b[0m\n",
      "\u001b[0;31mTypeError\u001b[0m: only length-1 arrays can be converted to Python scalars"
     ]
    }
   ],
   "source": [
    "nvar  = 100\n",
    "order = 2\n",
    "nels = dn.findComb(nvar+1,order)\n",
    "print(nels)\n",
    "indx = np.array(range(nels),dtype = np.uint64)\n",
    "coefs = np.array(range(1,nels+1),dtype = np.float64)\n",
    "maxorder = 2\n",
    "a = dn.otinum(indx,coefs,order)\n",
    "# print(a)\n",
    "\n",
    "A = a.toMatrix()\n",
    "nonZero = np.count_nonzero(A)\n",
    "total_elements = A.size\n",
    "print(total_elements)\n",
    "sparsity = nonZero/total_elements\n",
    "print(\"Sparsity is : \", sparsity)"
   ]
  },
  {
   "cell_type": "code",
   "execution_count": 3,
   "metadata": {},
   "outputs": [],
   "source": [
    "def computeSparsity(nvar,order,verbose = False,isplot = False):\n",
    "    \n",
    "    nels = dn.findComb(nvar+1,order)\n",
    "    \n",
    "    \n",
    "    indx = np.array(range(nels),dtype = np.uint64)\n",
    "    coefs = np.array(range(1,nels+1),dtype = np.float64)\n",
    "    \n",
    "    a = dn.spr_otinum(indx,coefs,order)\n",
    "    \n",
    "    A = a.toMatrix()\n",
    "    \n",
    "    if isplot:\n",
    "        fig = plt.figure()\n",
    "        plt.spy(A)\n",
    "        plt.title(\"[OTI] Sparisty for CR form of OTI numbers  $m$ = \"+str(nvar)+\" and $n$ =  \"+str(order)+\".\")\n",
    "        #plt.savefig(\"OTI_Spy_CR_n\"+str(order)+\"_m\"+str(nvar)+\".pdf\",dpi=300)\n",
    "        plt.close()\n",
    "        #fig = plt.figure()\n",
    "        jet = cmap.get_cmap('jet')\n",
    "        gray = 0.5\n",
    "        jet.set_under((gray,gray,  gray,1.0))\n",
    "        plt.matshow(A,cmap=jet,vmin=1)\n",
    "        plt.title(\"[OTI] CR form   $m$ = \"+str(nvar)+\" and $n$ = \"+\n",
    "                  str(order)+\"\\nwith shape \"+str(A.shape[0])+\"x\"+str(A.shape[0]) )\n",
    "        min_ = -0.5\n",
    "        max_ = nels-0.5\n",
    "#         print(nels)\n",
    "        if nels <130:\n",
    "            linewidth = 0.5\n",
    "        \n",
    "            for i in range(0,nels-1):\n",
    "                plt.plot([min_,max_],[i+0.5,i+0.5],'k',linewidth=linewidth)\n",
    "                plt.plot([i+0.5,i+0.5],[min_,max_],'k',linewidth=linewidth)\n",
    "        \n",
    "#         plt.text(1,0,'$\\epsilon$',fontsize=15)\n",
    "        plt.axis('off')\n",
    "        plt.savefig(\"OTI_CR_n\"+str(order)+\"_m\"+str(nvar)+\".pdf\",dpi=300)\n",
    "        plt.close()\n",
    "        clear_output()\n",
    "        #plt.imshow(A,interpolation='none',cmap='binary')\n",
    "        #plt.colorbar()\n",
    "    nonZero = np.count_nonzero(A)\n",
    "    total_elements = A.size\n",
    "    sparsity = nonZero/total_elements\n",
    "    \n",
    "    # Computation of partial sparsity (removing the row of the real coefficients.)\n",
    "    \n",
    "    total_partial_elements = total_elements - nels\n",
    "    partialNonZero         = nonZero - nels\n",
    "    partialSparsity        = partialNonZero/  total_partial_elements\n",
    "    \n",
    "    # Interestingly, the number of nonZero elements is the same as \n",
    "    # the number of elements of a OTI number for the same order and \n",
    "    # twice the amount of variables.\n",
    "    \n",
    "    if verbose:\n",
    "        \n",
    "        print(\"Number of elements in the OTI number: \",nels)\n",
    "        print(\"Number of nonZero elements: \",nonZero)\n",
    "        print(\"Number of 'computed'nonZero elements: \",dn.findComb(2*nvar+1,order))\n",
    "        print(\"Total number of elements in the matrix: \",total_elements)\n",
    "        print(\"Total Sparsity is : \", sparsity)\n",
    "        #print(\"Partial Sparsity is: \", partialSparsity)\n",
    "        \n",
    "    # end if\n",
    "    \n",
    "    return (sparsity, nonZero, total_elements)\n",
    "\n",
    "\n",
    "def computeSparsityFast(nvar,order,verbose = False):\n",
    "    \n",
    "    nels = dn.findComb(nvar+1,order)\n",
    "    \n",
    "    nonZero = dn.findComb(2*nvar+1,order)\n",
    "    total_elements = nels**2\n",
    "    sparsity = nonZero/total_elements\n",
    "    \n",
    "    # Computation of partial sparsity (removing the row of the real coefficients.)\n",
    "    \n",
    "    total_partial_elements = total_elements - nels\n",
    "    partialNonZero         = nonZero - nels\n",
    "    partialSparsity        = partialNonZero/  total_partial_elements\n",
    "    \n",
    "    if verbose:\n",
    "        print(\"Number of elements in the OTI number: \",nels)\n",
    "        print(\"Number of nonZero elements: \",nonZero)\n",
    "        print(\"Total number of elements in the matrix: \",total_elements)\n",
    "        print(\"Total Sparsity is : \", sparsity)\n",
    "        \n",
    "    # end if\n",
    "    \n",
    "    return (sparsity, nonZero, total_elements)\n"
   ]
  },
  {
   "cell_type": "code",
   "execution_count": 41,
   "metadata": {},
   "outputs": [
    {
     "name": "stdout",
     "output_type": "stream",
     "text": [
      "Number of elements in the OTI number:  3\n",
      "Number of nonZero elements:  5\n",
      "Number of 'computed'nonZero elements:  5\n",
      "Total number of elements in the matrix:  9\n",
      "Total Sparsity is :  0.5555555555555556\n"
     ]
    },
    {
     "data": {
      "text/plain": [
       "(0.5555555555555556, 5, 9)"
      ]
     },
     "execution_count": 41,
     "metadata": {},
     "output_type": "execute_result"
    }
   ],
   "source": [
    "nvar = 2\n",
    "order = 1\n",
    "\n",
    "computeSparsity(nvar,order,verbose = True,isplot = True)"
   ]
  },
  {
   "cell_type": "code",
   "execution_count": 18,
   "metadata": {},
   "outputs": [
    {
     "name": "stdout",
     "output_type": "stream",
     "text": [
      "Number of elements in the OTI number:  1001\n",
      "Number of nonZero elements:  10626\n",
      "Total number of elements in the matrix:  1002001\n",
      "Total Sparsity is :  0.010604779835549066\n"
     ]
    },
    {
     "data": {
      "text/plain": [
       "(0.010604779835549066, 10626, 1002001)"
      ]
     },
     "execution_count": 18,
     "metadata": {},
     "output_type": "execute_result"
    }
   ],
   "source": [
    "\n",
    "computeSparsityFast(nvar,order,verbose = True)"
   ]
  },
  {
   "cell_type": "code",
   "execution_count": 13,
   "metadata": {},
   "outputs": [
    {
     "name": "stdout",
     "output_type": "stream",
     "text": [
      "Number of elements in the OTI number:  286\n",
      "Number of nonZero elements:  1771\n",
      "Number of 'computed'nonZero elements:  1771\n",
      "Total number of elements in the matrix:  81796\n",
      "Total Sparsity is :  0.021651425497579344\n"
     ]
    }
   ],
   "source": [
    "all_nvar = [1,2,3,5,10]\n",
    "all_order = [1,2,3]\n",
    "\n",
    "isplot = True\n",
    "isverbose = False\n",
    "\n",
    "SPY = []\n",
    "NZE = []\n",
    "TOT = []\n",
    "ORD = []\n",
    "NVAR = []\n",
    "\n",
    "for nvar in all_nvar:\n",
    "    for order in all_order:\n",
    "        computeSparsity(nvar,order,verbose = True,isplot = True)"
   ]
  },
  {
   "cell_type": "code",
   "execution_count": 3,
   "metadata": {},
   "outputs": [],
   "source": [
    "# Generate Latex string to print a specific \n",
    "def LatexMatrix(nvar,order,string_mode = 1):\n",
    "    # string_mode: 1 -> Sequential\n",
    "    # string_mode: 0 -> Associated to direction and exponent.\n",
    "    nels = dn.findComb(nvar+1,order)\n",
    "    \n",
    "    \n",
    "    indx = np.array(range(nels),dtype = np.uint64)\n",
    "    coefs = np.array(range(1,nels+1),dtype = np.float64)\n",
    "    \n",
    "    a = dn.spr_otinum(indx,coefs,order)\n",
    "    \n",
    "    A = a.toMatrix()\n",
    "    string = '$$\\n% Matrix form of OTI with m = '+str(nvar)+'  and order = '+str(order)+' \\n'\n",
    "    string += \"\\\\begin{bmatrix}\\n\"\n",
    "    base = ' a_'\n",
    "    zero = ' 0'\n",
    "    newelement = ' &'\n",
    "    newline = ' \\\\\\\\\\n'\n",
    "    \n",
    "    \n",
    "    \n",
    "    for i in range(A.shape[0]):\n",
    "        for j in range(A.shape[1]):\n",
    "            if A[i,j]==0.0:\n",
    "                string += zero+newelement\n",
    "            else:\n",
    "                string += base + '{' +directionString(int(A[i,j]-1),order,string_mode)+ '}'+newelement\n",
    "        string = string[:-1]+newline\n",
    "    string = string[:-3] + '\\n\\\\end{bmatrix}\\n$$' \n",
    "    \n",
    "    return string\n",
    "\n",
    "\n",
    "\n",
    "# Generate Latex string to print a specific  number\n",
    "def LatexNumber(nvar,order,string_mode = 1):\n",
    "    # string_mode: 1 -> Sequential\n",
    "    # string_mode: 0 -> Associated to direction and exponent.\n",
    "    nels = dn.findComb(nvar+1,order)\n",
    "    \n",
    "    \n",
    "    indx = np.array(range(nels),dtype = np.uint64)\n",
    "    coefs = np.array(range(1,nels+1),dtype = np.float64)\n",
    "    \n",
    "    a = dn.spr_otinum(indx,coefs,order)\n",
    "    \n",
    "    A = a.toMatrix()\n",
    "    string = '$$\\n% Full form of OTI with m = '+str(nvar)+'  and order = '+str(order)+' \\n'\n",
    "    string += \"a^* = \"\n",
    "    base = ' a_'\n",
    "    zero = ' 0'\n",
    "    newelement = ' +'\n",
    "    #newline = ' \\\\\\\\\\n'\n",
    "    \n",
    "    \n",
    "    \n",
    "    for i in range(nels):\n",
    "            string += base + '{' +directionString(indx[i],order,string_mode)+ '}'+directionString(indx[i],order,string_mode)+newelement\n",
    "    string = string[:-1] + '\\n$$\\n'\n",
    "    \n",
    "    return string\n",
    "\n",
    "\n",
    "\n",
    "def directionString(indx,order,string_mode = 1):\n",
    "    \n",
    "    if string_mode == 0:\n",
    "        \n",
    "        # get direction and exponent arrays\n",
    "        dirA = np.array(dn.h.getDirA(indx,order))\n",
    "        expA = np.array(dn.h.getExpA(indx,order))\n",
    "        eps = '\\epsilon'\n",
    "        string = ''\n",
    "        if np.sum(dirA) == 0:\n",
    "            string = '_{Re}'\n",
    "        else:\n",
    "            for i in range(order):\n",
    "                if dirA[i] == 0:\n",
    "                    pass\n",
    "                else:\n",
    "                    string += eps+'_{'+str(dirA[i])+'}'\n",
    "                    if expA[i] != 1:\n",
    "                        string += '^{'+str(expA[i])+'}'\n",
    "\n",
    "        return string\n",
    "    \n",
    "    else:\n",
    "        \n",
    "        return str(indx)\n",
    "    \n"
   ]
  },
  {
   "cell_type": "code",
   "execution_count": 7,
   "metadata": {},
   "outputs": [
    {
     "name": "stdout",
     "output_type": "stream",
     "text": [
      "$$\n",
      "% Full form of OTI with m = 3  and order = 3 \n",
      "a^* =  a_{_{Re}}_{Re} + a_{\\epsilon_{1}}\\epsilon_{1} + a_{\\epsilon_{1}^{2}}\\epsilon_{1}^{2} + a_{\\epsilon_{1}^{3}}\\epsilon_{1}^{3} + a_{\\epsilon_{2}}\\epsilon_{2} + a_{\\epsilon_{1}\\epsilon_{2}}\\epsilon_{1}\\epsilon_{2} + a_{\\epsilon_{1}^{2}\\epsilon_{2}}\\epsilon_{1}^{2}\\epsilon_{2} + a_{\\epsilon_{2}^{2}}\\epsilon_{2}^{2} + a_{\\epsilon_{1}\\epsilon_{2}^{2}}\\epsilon_{1}\\epsilon_{2}^{2} + a_{\\epsilon_{2}^{3}}\\epsilon_{2}^{3} + a_{\\epsilon_{3}}\\epsilon_{3} + a_{\\epsilon_{1}\\epsilon_{3}}\\epsilon_{1}\\epsilon_{3} + a_{\\epsilon_{1}^{2}\\epsilon_{3}}\\epsilon_{1}^{2}\\epsilon_{3} + a_{\\epsilon_{2}\\epsilon_{3}}\\epsilon_{2}\\epsilon_{3} + a_{\\epsilon_{1}\\epsilon_{2}\\epsilon_{3}}\\epsilon_{1}\\epsilon_{2}\\epsilon_{3} + a_{\\epsilon_{2}^{2}\\epsilon_{3}}\\epsilon_{2}^{2}\\epsilon_{3} + a_{\\epsilon_{3}^{2}}\\epsilon_{3}^{2} + a_{\\epsilon_{1}\\epsilon_{3}^{2}}\\epsilon_{1}\\epsilon_{3}^{2} + a_{\\epsilon_{2}\\epsilon_{3}^{2}}\\epsilon_{2}\\epsilon_{3}^{2} + a_{\\epsilon_{3}^{3}}\\epsilon_{3}^{3} \n",
      "$$\n",
      "\n",
      "$$\n",
      "% Matrix form of OTI with m = 3  and order = 3 \n",
      "\\begin{bmatrix}\n",
      " a_{_{Re}} & 0 & 0 & 0 & 0 & 0 & 0 & 0 & 0 & 0 & 0 & 0 & 0 & 0 & 0 & 0 & 0 & 0 & 0 & 0  \\\\\n",
      " a_{\\epsilon_{1}} & a_{_{Re}} & 0 & 0 & 0 & 0 & 0 & 0 & 0 & 0 & 0 & 0 & 0 & 0 & 0 & 0 & 0 & 0 & 0 & 0  \\\\\n",
      " a_{\\epsilon_{1}^{2}} & a_{\\epsilon_{1}} & a_{_{Re}} & 0 & 0 & 0 & 0 & 0 & 0 & 0 & 0 & 0 & 0 & 0 & 0 & 0 & 0 & 0 & 0 & 0  \\\\\n",
      " a_{\\epsilon_{1}^{3}} & a_{\\epsilon_{1}^{2}} & a_{\\epsilon_{1}} & a_{_{Re}} & 0 & 0 & 0 & 0 & 0 & 0 & 0 & 0 & 0 & 0 & 0 & 0 & 0 & 0 & 0 & 0  \\\\\n",
      " a_{\\epsilon_{2}} & 0 & 0 & 0 & a_{_{Re}} & 0 & 0 & 0 & 0 & 0 & 0 & 0 & 0 & 0 & 0 & 0 & 0 & 0 & 0 & 0  \\\\\n",
      " a_{\\epsilon_{1}\\epsilon_{2}} & a_{\\epsilon_{2}} & 0 & 0 & a_{\\epsilon_{1}} & a_{_{Re}} & 0 & 0 & 0 & 0 & 0 & 0 & 0 & 0 & 0 & 0 & 0 & 0 & 0 & 0  \\\\\n",
      " a_{\\epsilon_{1}^{2}\\epsilon_{2}} & a_{\\epsilon_{1}\\epsilon_{2}} & a_{\\epsilon_{2}} & 0 & a_{\\epsilon_{1}^{2}} & a_{\\epsilon_{1}} & a_{_{Re}} & 0 & 0 & 0 & 0 & 0 & 0 & 0 & 0 & 0 & 0 & 0 & 0 & 0  \\\\\n",
      " a_{\\epsilon_{2}^{2}} & 0 & 0 & 0 & a_{\\epsilon_{2}} & 0 & 0 & a_{_{Re}} & 0 & 0 & 0 & 0 & 0 & 0 & 0 & 0 & 0 & 0 & 0 & 0  \\\\\n",
      " a_{\\epsilon_{1}\\epsilon_{2}^{2}} & a_{\\epsilon_{2}^{2}} & 0 & 0 & a_{\\epsilon_{1}\\epsilon_{2}} & a_{\\epsilon_{2}} & 0 & a_{\\epsilon_{1}} & a_{_{Re}} & 0 & 0 & 0 & 0 & 0 & 0 & 0 & 0 & 0 & 0 & 0  \\\\\n",
      " a_{\\epsilon_{2}^{3}} & 0 & 0 & 0 & a_{\\epsilon_{2}^{2}} & 0 & 0 & a_{\\epsilon_{2}} & 0 & a_{_{Re}} & 0 & 0 & 0 & 0 & 0 & 0 & 0 & 0 & 0 & 0  \\\\\n",
      " a_{\\epsilon_{3}} & 0 & 0 & 0 & 0 & 0 & 0 & 0 & 0 & 0 & a_{_{Re}} & 0 & 0 & 0 & 0 & 0 & 0 & 0 & 0 & 0  \\\\\n",
      " a_{\\epsilon_{1}\\epsilon_{3}} & a_{\\epsilon_{3}} & 0 & 0 & 0 & 0 & 0 & 0 & 0 & 0 & a_{\\epsilon_{1}} & a_{_{Re}} & 0 & 0 & 0 & 0 & 0 & 0 & 0 & 0  \\\\\n",
      " a_{\\epsilon_{1}^{2}\\epsilon_{3}} & a_{\\epsilon_{1}\\epsilon_{3}} & a_{\\epsilon_{3}} & 0 & 0 & 0 & 0 & 0 & 0 & 0 & a_{\\epsilon_{1}^{2}} & a_{\\epsilon_{1}} & a_{_{Re}} & 0 & 0 & 0 & 0 & 0 & 0 & 0  \\\\\n",
      " a_{\\epsilon_{2}\\epsilon_{3}} & 0 & 0 & 0 & a_{\\epsilon_{3}} & 0 & 0 & 0 & 0 & 0 & a_{\\epsilon_{2}} & 0 & 0 & a_{_{Re}} & 0 & 0 & 0 & 0 & 0 & 0  \\\\\n",
      " a_{\\epsilon_{1}\\epsilon_{2}\\epsilon_{3}} & a_{\\epsilon_{2}\\epsilon_{3}} & 0 & 0 & a_{\\epsilon_{1}\\epsilon_{3}} & a_{\\epsilon_{3}} & 0 & 0 & 0 & 0 & a_{\\epsilon_{1}\\epsilon_{2}} & a_{\\epsilon_{2}} & 0 & a_{\\epsilon_{1}} & a_{_{Re}} & 0 & 0 & 0 & 0 & 0  \\\\\n",
      " a_{\\epsilon_{2}^{2}\\epsilon_{3}} & 0 & 0 & 0 & a_{\\epsilon_{2}\\epsilon_{3}} & 0 & 0 & a_{\\epsilon_{3}} & 0 & 0 & a_{\\epsilon_{2}^{2}} & 0 & 0 & a_{\\epsilon_{2}} & 0 & a_{_{Re}} & 0 & 0 & 0 & 0  \\\\\n",
      " a_{\\epsilon_{3}^{2}} & 0 & 0 & 0 & 0 & 0 & 0 & 0 & 0 & 0 & a_{\\epsilon_{3}} & 0 & 0 & 0 & 0 & 0 & a_{_{Re}} & 0 & 0 & 0  \\\\\n",
      " a_{\\epsilon_{1}\\epsilon_{3}^{2}} & a_{\\epsilon_{3}^{2}} & 0 & 0 & 0 & 0 & 0 & 0 & 0 & 0 & a_{\\epsilon_{1}\\epsilon_{3}} & a_{\\epsilon_{3}} & 0 & 0 & 0 & 0 & a_{\\epsilon_{1}} & a_{_{Re}} & 0 & 0  \\\\\n",
      " a_{\\epsilon_{2}\\epsilon_{3}^{2}} & 0 & 0 & 0 & a_{\\epsilon_{3}^{2}} & 0 & 0 & 0 & 0 & 0 & a_{\\epsilon_{2}\\epsilon_{3}} & 0 & 0 & a_{\\epsilon_{3}} & 0 & 0 & a_{\\epsilon_{2}} & 0 & a_{_{Re}} & 0  \\\\\n",
      " a_{\\epsilon_{3}^{3}} & 0 & 0 & 0 & 0 & 0 & 0 & 0 & 0 & 0 & a_{\\epsilon_{3}^{2}} & 0 & 0 & 0 & 0 & 0 & a_{\\epsilon_{3}} & 0 & 0 & a_{_{Re}}  \n",
      "\\end{bmatrix}\n",
      "$$\n"
     ]
    }
   ],
   "source": [
    "nvar = 3\n",
    "order = 3\n",
    "print(LatexNumber(nvar,order,string_mode = 0))\n",
    "print(LatexMatrix(nvar,order,string_mode = 0))"
   ]
  },
  {
   "cell_type": "code",
   "execution_count": 39,
   "metadata": {},
   "outputs": [
    {
     "data": {
      "text/plain": [
       "'123'"
      ]
     },
     "execution_count": 39,
     "metadata": {},
     "output_type": "execute_result"
    }
   ],
   "source": [
    "a[:-1]"
   ]
  }
 ],
 "metadata": {
  "kernelspec": {
   "display_name": "Python 3",
   "language": "python",
   "name": "python3"
  },
  "language_info": {
   "codemirror_mode": {
    "name": "ipython",
    "version": 3
   },
   "file_extension": ".py",
   "mimetype": "text/x-python",
   "name": "python",
   "nbconvert_exporter": "python",
   "pygments_lexer": "ipython3",
   "version": "3.6.0"
  }
 },
 "nbformat": 4,
 "nbformat_minor": 2
}
