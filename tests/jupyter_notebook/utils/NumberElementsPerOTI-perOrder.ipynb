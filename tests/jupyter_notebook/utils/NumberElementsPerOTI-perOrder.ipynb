{
 "cells": [
  {
   "cell_type": "markdown",
   "metadata": {},
   "source": [
    "\n",
    "# Total number of coefficients in an OTI Number:"
   ]
  },
  {
   "cell_type": "code",
   "execution_count": 2,
   "metadata": {
    "collapsed": true
   },
   "outputs": [],
   "source": [
    "# 1. SET GLOBAL PATH \n",
    "import sys\n",
    "path2oti = '../'\n",
    "sys.path.append(path2oti) # Add path to OTI library.\n",
    "\n",
    "\n",
    "# 2. OTI LIBRARY\n",
    "import otilib as oti\n",
    "np = oti.np\n",
    "e = oti.e\n",
    "\n",
    "from scipy.special import comb"
   ]
  },
  {
   "cell_type": "code",
   "execution_count": 3,
   "metadata": {},
   "outputs": [
    {
     "name": "stdout",
     "output_type": "stream",
     "text": [
      "0 + 1 * e([1]) + 0 * e([[1,2]]) + 0 * e([2]) + 0 * e([1,2]) + 0 * e([[2,2]]) + 0 * e([3]) + 0 * e([1,3]) + 0 * e([2,3]) + 0 * e([[3,2]]) \n"
     ]
    }
   ],
   "source": [
    "a = e(1,order=2,m=3)\n",
    "print(a)"
   ]
  },
  {
   "cell_type": "code",
   "execution_count": 11,
   "metadata": {},
   "outputs": [
    {
     "data": {
      "text/plain": [
       "10"
      ]
     },
     "execution_count": 11,
     "metadata": {},
     "output_type": "execute_result"
    }
   ],
   "source": [
    "a.Ndir"
   ]
  },
  {
   "cell_type": "markdown",
   "metadata": {},
   "source": [
    "# Total number of elements in the whole number\n",
    "\n",
    "\n",
    "$$\n",
    "\\binom{m+n}{m}=\\frac{(m+n)!}{m!n!}\n",
    "$$\n",
    "\n",
    "- $m$: Number of basis \n",
    "- $n$: Truncation order of OTI number\n",
    "\n",
    "\n",
    "# Total number of $k$'th order directions\n",
    "\n",
    "\n",
    "$$\n",
    "\\binom{m+k-1}{m}=\\frac{(m+n-1)!}{m!(n-1)!}\n",
    "$$\n",
    "\n",
    "- $m$: Number of Basis\n",
    "- $k$: Order of term\n"
   ]
  },
  {
   "cell_type": "code",
   "execution_count": 21,
   "metadata": {},
   "outputs": [
    {
     "data": {
      "text/plain": [
       "35"
      ]
     },
     "execution_count": 21,
     "metadata": {},
     "output_type": "execute_result"
    }
   ],
   "source": [
    "m     = 3   # Number of variables\n",
    "order = 4   # Order of derivatives\n",
    "\n",
    "comb(m+order,m, exact=True)"
   ]
  },
  {
   "cell_type": "code",
   "execution_count": 28,
   "metadata": {
    "collapsed": true
   },
   "outputs": [],
   "source": [
    "# number of elements by order"
   ]
  },
  {
   "cell_type": "code",
   "execution_count": 32,
   "metadata": {},
   "outputs": [
    {
     "data": {
      "text/plain": [
       "5150"
      ]
     },
     "execution_count": 32,
     "metadata": {},
     "output_type": "execute_result"
    }
   ],
   "source": [
    "add = 0\n",
    "for k in range(1,m+1):\n",
    "    \n",
    "    add += comb(k+order-1,k, exact=True)\n",
    "    \n",
    "# end for\n",
    "add"
   ]
  },
  {
   "cell_type": "code",
   "execution_count": 33,
   "metadata": {},
   "outputs": [
    {
     "data": {
      "text/plain": [
       "10"
      ]
     },
     "execution_count": 33,
     "metadata": {},
     "output_type": "execute_result"
    }
   ],
   "source": [
    "k=2\n",
    "comb(k+order-1,k, exact=True)"
   ]
  },
  {
   "cell_type": "markdown",
   "metadata": {},
   "source": [
    "# Total number of $k$'th order directions\n",
    "\n",
    "How many directions of order $k$ are in the number?\n",
    "$$\n",
    "\\binom{m+k-1}{m-1}=\\frac{(m+k-1)!}{(m-1)!(k)!}\n",
    "$$\n",
    "\n",
    "- $m$: Number of Basis\n",
    "- $k$: Order of term"
   ]
  },
  {
   "cell_type": "code",
   "execution_count": 25,
   "metadata": {},
   "outputs": [
    {
     "data": {
      "text/plain": [
       "10"
      ]
     },
     "execution_count": 25,
     "metadata": {},
     "output_type": "execute_result"
    }
   ],
   "source": [
    "order = 3\n",
    "comb(m-1+order,m-1, exact=True)"
   ]
  },
  {
   "cell_type": "code",
   "execution_count": null,
   "metadata": {
    "collapsed": true
   },
   "outputs": [],
   "source": [
    "np.random.randint(1,100,))("
   ]
  }
 ],
 "metadata": {
  "kernelspec": {
   "display_name": "Python 3",
   "language": "python",
   "name": "python3"
  },
  "language_info": {
   "codemirror_mode": {
    "name": "ipython",
    "version": 3
   },
   "file_extension": ".py",
   "mimetype": "text/x-python",
   "name": "python",
   "nbconvert_exporter": "python",
   "pygments_lexer": "ipython3",
   "version": "3.6.0"
  }
 },
 "nbformat": 4,
 "nbformat_minor": 2
}
