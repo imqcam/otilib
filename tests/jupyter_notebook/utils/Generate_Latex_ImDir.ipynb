{
 "cells": [
  {
   "cell_type": "code",
   "execution_count": 1,
   "metadata": {},
   "outputs": [],
   "source": [
    "import sys\n",
    "sys.path.append('../../build/')\n",
    "import pyoti.core as oti"
   ]
  },
  {
   "cell_type": "code",
   "execution_count": 2,
   "metadata": {},
   "outputs": [],
   "source": [
    "h=oti.get_dHelp()"
   ]
  },
  {
   "cell_type": "code",
   "execution_count": 3,
   "metadata": {},
   "outputs": [
    {
     "data": {
      "text/plain": [
       "[[1, 3]]"
      ]
     },
     "execution_count": 3,
     "metadata": {},
     "output_type": "execute_result"
    }
   ],
   "source": [
    "                    #     idx, order   \n",
    "h.get_compact_fulldir(      0,     3 )\n"
   ]
  },
  {
   "cell_type": "code",
   "execution_count": 4,
   "metadata": {},
   "outputs": [],
   "source": [
    "def printLatex(imdir):\n",
    "    string = \"\"\n",
    "    if imdir is []:\n",
    "        string += 'Re'\n",
    "    else:\n",
    "        for base in imdir:\n",
    "            \n",
    "            try:\n",
    "                exp   = base[1]\n",
    "                basis = base[0]\n",
    "            except:\n",
    "                exp = 1\n",
    "                basis = base\n",
    "            \n",
    "            string += \"\\epsilon_{\"+str(basis)+\"}\"\n",
    "            if exp != 1:\n",
    "                string += '^{'+str(exp)+'}'\n",
    "    return string\n",
    "                \n",
    "        "
   ]
  },
  {
   "cell_type": "code",
   "execution_count": 5,
   "metadata": {
    "scrolled": false
   },
   "outputs": [
    {
     "name": "stdout",
     "output_type": "stream",
     "text": [
      "&1&$\\epsilon_{1}$ & $\\epsilon_{2}$ & $\\epsilon_{3}$ & $\\epsilon_{4}$ & $\\epsilon_{5}$ & $\\epsilon_{6}$ & $\\epsilon_{7}$ & $\\epsilon_{8}$ & $\\epsilon_{9}$ & $\\epsilon_{10}$\\tabularnewline \n",
      "\\hline\n",
      "&2&$\\epsilon_{1}^{2}$ & $\\epsilon_{1}\\epsilon_{2}$ & $\\epsilon_{2}^{2}$ & $\\epsilon_{1}\\epsilon_{3}$ & $\\epsilon_{2}\\epsilon_{3}$ & $\\epsilon_{3}^{2}$ & $\\epsilon_{1}\\epsilon_{4}$ & $\\epsilon_{2}\\epsilon_{4}$ & $\\epsilon_{3}\\epsilon_{4}$ & $\\epsilon_{4}^{2}$\\tabularnewline \n",
      "\\hline\n",
      "&3&$\\epsilon_{1}^{3}$ & $\\epsilon_{1}^{2}\\epsilon_{2}$ & $\\epsilon_{1}\\epsilon_{2}^{2}$ & $\\epsilon_{2}^{3}$ & $\\epsilon_{1}^{2}\\epsilon_{3}$ & $\\epsilon_{1}\\epsilon_{2}\\epsilon_{3}$ & $\\epsilon_{2}^{2}\\epsilon_{3}$ & $\\epsilon_{1}\\epsilon_{3}^{2}$ & $\\epsilon_{2}\\epsilon_{3}^{2}$ & $\\epsilon_{3}^{3}$\\tabularnewline \n",
      "\\hline\n",
      "&4&$\\epsilon_{1}^{4}$ & $\\epsilon_{1}^{3}\\epsilon_{2}$ & $\\epsilon_{1}^{2}\\epsilon_{2}^{2}$ & $\\epsilon_{1}\\epsilon_{2}^{3}$ & $\\epsilon_{2}^{4}$ & $\\epsilon_{1}^{3}\\epsilon_{3}$ & $\\epsilon_{1}^{2}\\epsilon_{2}\\epsilon_{3}$ & $\\epsilon_{1}\\epsilon_{2}^{2}\\epsilon_{3}$ & $\\epsilon_{2}^{3}\\epsilon_{3}$ & $\\epsilon_{1}^{2}\\epsilon_{3}^{2}$\\tabularnewline \n",
      "\\hline\n",
      "&5&$\\epsilon_{1}^{5}$ & $\\epsilon_{1}^{4}\\epsilon_{2}$ & $\\epsilon_{1}^{3}\\epsilon_{2}^{2}$ & $\\epsilon_{1}^{2}\\epsilon_{2}^{3}$ & $\\epsilon_{1}\\epsilon_{2}^{4}$ & $\\epsilon_{2}^{5}$ & $\\epsilon_{1}^{4}\\epsilon_{3}$ & $\\epsilon_{1}^{3}\\epsilon_{2}\\epsilon_{3}$ & $\\epsilon_{1}^{2}\\epsilon_{2}^{2}\\epsilon_{3}$ & $\\epsilon_{1}\\epsilon_{2}^{3}\\epsilon_{3}$\\tabularnewline \n",
      "\\hline\n",
      "&6&$\\epsilon_{1}^{6}$ & $\\epsilon_{1}^{5}\\epsilon_{2}$ & $\\epsilon_{1}^{4}\\epsilon_{2}^{2}$ & $\\epsilon_{1}^{3}\\epsilon_{2}^{3}$ & $\\epsilon_{1}^{2}\\epsilon_{2}^{4}$ & $\\epsilon_{1}\\epsilon_{2}^{5}$ & $\\epsilon_{2}^{6}$ & $\\epsilon_{1}^{5}\\epsilon_{3}$ & $\\epsilon_{1}^{4}\\epsilon_{2}\\epsilon_{3}$ & $\\epsilon_{1}^{3}\\epsilon_{2}^{2}\\epsilon_{3}$\\tabularnewline \n",
      "\\hline\n",
      "&7&$\\epsilon_{1}^{7}$ & $\\epsilon_{1}^{6}\\epsilon_{2}$ & $\\epsilon_{1}^{5}\\epsilon_{2}^{2}$ & $\\epsilon_{1}^{4}\\epsilon_{2}^{3}$ & $\\epsilon_{1}^{3}\\epsilon_{2}^{4}$ & $\\epsilon_{1}^{2}\\epsilon_{2}^{5}$ & $\\epsilon_{1}\\epsilon_{2}^{6}$ & $\\epsilon_{2}^{7}$ & $\\epsilon_{1}^{6}\\epsilon_{3}$ & $\\epsilon_{1}^{5}\\epsilon_{2}\\epsilon_{3}$\\tabularnewline \n",
      "\\hline\n",
      "&8&$\\epsilon_{1}^{8}$ & $\\epsilon_{1}^{7}\\epsilon_{2}$ & $\\epsilon_{1}^{6}\\epsilon_{2}^{2}$ & $\\epsilon_{1}^{5}\\epsilon_{2}^{3}$ & $\\epsilon_{1}^{4}\\epsilon_{2}^{4}$ & $\\epsilon_{1}^{3}\\epsilon_{2}^{5}$ & $\\epsilon_{1}^{2}\\epsilon_{2}^{6}$ & $\\epsilon_{1}\\epsilon_{2}^{7}$ & $\\epsilon_{2}^{8}$ & $\\epsilon_{1}^{7}\\epsilon_{3}$\\tabularnewline \n",
      "\\hline\n",
      "&9&$\\epsilon_{1}^{9}$ & $\\epsilon_{1}^{8}\\epsilon_{2}$ & $\\epsilon_{1}^{7}\\epsilon_{2}^{2}$ & $\\epsilon_{1}^{6}\\epsilon_{2}^{3}$ & $\\epsilon_{1}^{5}\\epsilon_{2}^{4}$ & $\\epsilon_{1}^{4}\\epsilon_{2}^{5}$ & $\\epsilon_{1}^{3}\\epsilon_{2}^{6}$ & $\\epsilon_{1}^{2}\\epsilon_{2}^{7}$ & $\\epsilon_{1}\\epsilon_{2}^{8}$ & $\\epsilon_{2}^{9}$\\tabularnewline \n",
      "\\hline\n",
      "&10&$\\epsilon_{1}^{10}$ & $\\epsilon_{1}^{9}\\epsilon_{2}$ & $\\epsilon_{1}^{8}\\epsilon_{2}^{2}$ & $\\epsilon_{1}^{7}\\epsilon_{2}^{3}$ & $\\epsilon_{1}^{6}\\epsilon_{2}^{4}$ & $\\epsilon_{1}^{5}\\epsilon_{2}^{5}$ & $\\epsilon_{1}^{4}\\epsilon_{2}^{6}$ & $\\epsilon_{1}^{3}\\epsilon_{2}^{7}$ & $\\epsilon_{1}^{2}\\epsilon_{2}^{8}$ & $\\epsilon_{1}\\epsilon_{2}^{9}$\\tabularnewline \n",
      "\\hline\n",
      "\n"
     ]
    }
   ],
   "source": [
    "maxorder = 10\n",
    "ndir = 10\n",
    "string = \"\"\n",
    "for ordi in range(1,maxorder+1):\n",
    "    string += '&'+str(ordi)+'&'\n",
    "    for idx in range(0,ndir):\n",
    "        string += \"$\"+printLatex(h.get_compact_fulldir(idx, ordi)) + \"$ & \"\n",
    "    string = string[:-3]\n",
    "    string += \"\\\\tabularnewline \\n\\hline\\n\"\n",
    "    \n",
    "print(string)\n",
    "    "
   ]
  },
  {
   "cell_type": "code",
   "execution_count": null,
   "metadata": {},
   "outputs": [],
   "source": []
  }
 ],
 "metadata": {
  "kernelspec": {
   "display_name": "Python 3",
   "language": "python",
   "name": "python3"
  },
  "language_info": {
   "codemirror_mode": {
    "name": "ipython",
    "version": 3
   },
   "file_extension": ".py",
   "mimetype": "text/x-python",
   "name": "python",
   "nbconvert_exporter": "python",
   "pygments_lexer": "ipython3",
   "version": "3.7.1"
  }
 },
 "nbformat": 4,
 "nbformat_minor": 2
}
