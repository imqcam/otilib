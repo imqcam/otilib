{
 "cells": [
  {
   "cell_type": "markdown",
   "metadata": {},
   "source": [
    "# Sparse High Order Hyper Dual Number Library documentation:\n",
    "# V 1.0\n",
    "```python\n",
    "\"\"\" \n",
    "Contributors to this file:\n",
    "Mauricio Aristizabal Cano\n",
    "\n",
    "Date of creation:  20 04 2016\n",
    "Last modification: 02 04 2020\n",
    "Universidad EAFIT, Medellin, Colombia.\n",
    "\"\"\"\n",
    "```\n",
    "\n",
    "## 0. Introduction\n",
    "\n",
    "The main purpose of this document is to explain the capabilities of the Order Truncated Imaginary number library for python 3: ```pyoti``` . As a basis for the explanation, several examples will be given in order to show and understand the capabilities of the library, as well as its basic advantages.\n",
    "\n",
    "As a result, there will be several justifications based on an \"a priori\" utilisation of the library.\n",
    "\n",
    "\n",
    "## 1. Getting started\n",
    "In order to import the libary, one way of doing so is to call it with the following command:"
   ]
  },
  {
   "cell_type": "code",
   "execution_count": 1,
   "metadata": {},
   "outputs": [],
   "source": [
    "import sys\n",
    "sys.path.append('../../../build/')\n",
    "\n",
    "# Import Dense OTI numbers.\n",
    "import pyoti.dense as oti\n",
    "np = oti.np\n"
   ]
  },
  {
   "cell_type": "code",
   "execution_count": 4,
   "metadata": {},
   "outputs": [
    {
     "data": {
      "text/plain": [
       "1 + 2 * e([1]) + 1 * e([[1,2]])"
      ]
     },
     "execution_count": 4,
     "metadata": {},
     "output_type": "execute_result"
    }
   ],
   "source": [
    "(1+oti.e(1))*(1+oti.e(1))\n"
   ]
  },
  {
   "cell_type": "code",
   "execution_count": null,
   "metadata": {},
   "outputs": [],
   "source": []
  }
 ],
 "metadata": {
  "kernelspec": {
   "display_name": "Python 3",
   "language": "python",
   "name": "python3"
  },
  "language_info": {
   "codemirror_mode": {
    "name": "ipython",
    "version": 3
   },
   "file_extension": ".py",
   "mimetype": "text/x-python",
   "name": "python",
   "nbconvert_exporter": "python",
   "pygments_lexer": "ipython3",
   "version": "3.7.3"
  }
 },
 "nbformat": 4,
 "nbformat_minor": 2
}
