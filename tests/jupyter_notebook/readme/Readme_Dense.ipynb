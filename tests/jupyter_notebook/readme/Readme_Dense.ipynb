{
 "cells": [
  {
   "cell_type": "markdown",
   "metadata": {},
   "source": [
    "# Sparse High Order Hyper Dual Number Library documentation:\n",
    "# V 1.0\n",
    "```python\n",
    "\"\"\" \n",
    "Contributors to this file:\n",
    "Mauricio Aristizabal Cano\n",
    "\n",
    "Date of creation:  20 04 2016\n",
    "Last modification: 02 04 2020\n",
    "Universidad EAFIT, Medellin, Colombia.\n",
    "\"\"\"\n",
    "```\n",
    "\n",
    "## 0. Introduction\n",
    "\n",
    "The main purpose of this document is to explain the capabilities of the Order Truncated Imaginary number library for python 3: ```pyoti``` . As a basis for the explanation, several examples will be given in order to show and understand the capabilities of the library, as well as its basic advantages.\n",
    "\n",
    "As a result, there will be several justifications based on an \"a priori\" utilisation of the library.\n",
    "\n",
    "\n",
    "## 1. Getting started\n",
    "In order to import the libary, one way of doing so is to call it with the following command:"
   ]
  },
  {
   "cell_type": "code",
   "execution_count": 1,
   "metadata": {},
   "outputs": [],
   "source": [
    "import sys\n",
    "sys.path.append('../../../build/')\n",
    "\n",
    "# Import Dense OTI numbers.\n",
    "import pyoti.dense as oti\n",
    "np = oti.np\n"
   ]
  },
  {
   "cell_type": "code",
   "execution_count": 4,
   "metadata": {},
   "outputs": [
    {
     "data": {
      "text/plain": [
       "1 + 2 * e([1]) + 1 * e([[1,2]])"
      ]
     },
     "execution_count": 4,
     "metadata": {},
     "output_type": "execute_result"
    }
   ],
   "source": [
    "(1+oti.e(1))*(1+oti.e(1))\n"
   ]
  },
  {
   "cell_type": "markdown",
   "metadata": {},
   "source": [
    "After calling the library, you can operate OTI numbers easily \n",
    "\n",
    "For now a brief introduction to dual numbers. A dual number is a number composed by a real component and a coeficient in an imaginary direction $\\epsilon$. This dual direction has the property that it is a number that does not belong to $\\mathbb{R}$, but $\\epsilon^2=0$. This is called a \"nilpotent\" condition. The number can be represented as follows:\n",
    "\n",
    "$$\n",
    "a+b\\epsilon, \\ \\ a,b\\in \\mathbb{R}\n",
    "$$\n",
    "\n",
    "\n",
    "Now considering a hyper-dual number, lets consider that there is not only one possible dual number $\\epsilon$, but there exist also $n$ dual numbers at which the nilpotent condition is effective (assume there is indeed this condition). As a result the dual number is extended to many dual directions, and so the number might be directed towards $\\epsilon_1$, $\\epsilon_2$, ...,  $\\epsilon_n$ directions. Notice there are different directions, so the combination $\\epsilon_i$$\\epsilon_j$ exist as another direction (combination of the principal directions). As a result, since the only condition there really exist is $\\epsilon_i^k=0$ for $i=1,...,n$ and $k\\geq 2$. So in this case, $\\epsilon_1 \\epsilon_2 \\epsilon_4$ exist (it's not zero) since the nilpotent condition is not applicable. An example of this is the following hyperdual number:\n",
    "\n",
    "$$\n",
    "a+b\\epsilon_1+c\\epsilon_2+d\\epsilon_1\\epsilon_2, \\ \\ \\ a,b,c,d \\in \\mathbb{R}\n",
    "$$\n",
    "\n",
    "Higher order dual numbers (called multidual numbers in \"Multidual numbers and multidual functions\" by Farid Messelmi) can be created as well. In this case, the nilpotent condition will be considered to happen to exponents higher than a certain value $p$, and therefore $\\epsilon^k=0$ only for values of $k > p$. So for example, a number with order $p=2$ could be as:\n",
    "\n",
    "$$\n",
    "a+b\\epsilon + c\\epsilon^2, \\ \\ a,b,c \\in \\mathbb{R} \n",
    "$$\n",
    "\n",
    "In this case, $c$ exists separate of $b$ since it is attached to a different direction. Clearly $\\epsilon \\neq \\epsilon^2$, and as a result both should be considered as separate directions. An example of a number combining all possible directions and orders is the following:\n",
    "\n",
    "\n",
    "$$\n",
    "a + b\\epsilon_1 + c\\epsilon_1^2 + d\\epsilon_2 + e\\epsilon_1\\epsilon_2 + \n",
    "f\\epsilon_1^2\\epsilon_2 + g\\epsilon_2^2 + h\\epsilon_1\\epsilon_2^2 + i\\epsilon_1^2\\epsilon_2^2,\n",
    "\\ \\ \\ a,b,c,d,e,f,g,h,i \\in \\mathbb{R}\n",
    "$$\n",
    "\n",
    "And as a result things can get really messy in handling the numbers with all orders. However, ```spr_dualnum``` shows an approach to this. So let's get started.\n",
    "\n",
    "### 1.1 Dual Numbers\n",
    "\n",
    "In order to create a dual number, the constructor has to be used as follows\n",
    "\n",
    "```\n",
    "my_spr_dualnum = spr_dualnum(index,coefs,maxorder)\n",
    "```\n",
    "\n",
    "Here, in the most general case, the term ```index``` and ```coefs``` are arrays that contains the index values and the coefficients of the dual number respectively (they will be explained shortly). The term ```maxorder``` tells the number the maximum number of multiplyed numbers that will be taken into account in the number."
   ]
  },
  {
   "cell_type": "code",
   "execution_count": null,
   "metadata": {},
   "outputs": [],
   "source": []
  }
 ],
 "metadata": {
  "kernelspec": {
   "display_name": "Python 3",
   "language": "python",
   "name": "python3"
  },
  "language_info": {
   "codemirror_mode": {
    "name": "ipython",
    "version": 3
   },
   "file_extension": ".py",
   "mimetype": "text/x-python",
   "name": "python",
   "nbconvert_exporter": "python",
   "pygments_lexer": "ipython3",
   "version": "3.7.3"
  }
 },
 "nbformat": 4,
 "nbformat_minor": 2
}
