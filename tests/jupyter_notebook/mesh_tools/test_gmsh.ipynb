{
 "cells": [
  {
   "cell_type": "code",
   "execution_count": null,
   "metadata": {},
   "outputs": [],
   "source": [
    "\n",
    "\n",
    "import gmsh\n",
    "\n",
    "# Allways initialize gmsh if not so."
   ]
  },
  {
   "cell_type": "code",
   "execution_count": 2,
   "metadata": {},
   "outputs": [
    {
     "ename": "ValueError",
     "evalue": "('gmshModelMeshSetRecombine returned non-zero error code: ', 2)",
     "output_type": "error",
     "traceback": [
      "\u001b[0;31m---------------------------------------------------------------------------\u001b[0m",
      "\u001b[0;31mValueError\u001b[0m                                Traceback (most recent call last)",
      "\u001b[0;32m<ipython-input-2-5184e3acf137>\u001b[0m in \u001b[0;36m<module>\u001b[0;34m\u001b[0m\n\u001b[1;32m     48\u001b[0m \u001b[0mgeo\u001b[0m\u001b[0;34m.\u001b[0m\u001b[0msynchronize\u001b[0m\u001b[0;34m(\u001b[0m\u001b[0;34m)\u001b[0m\u001b[0;34m\u001b[0m\u001b[0;34m\u001b[0m\u001b[0m\n\u001b[1;32m     49\u001b[0m \u001b[0;34m\u001b[0m\u001b[0m\n\u001b[0;32m---> 50\u001b[0;31m \u001b[0mmodel\u001b[0m\u001b[0;34m.\u001b[0m\u001b[0mmesh\u001b[0m\u001b[0;34m.\u001b[0m\u001b[0msetRecombine\u001b[0m\u001b[0;34m(\u001b[0m\u001b[0;36m2\u001b[0m\u001b[0;34m,\u001b[0m\u001b[0;36m301\u001b[0m\u001b[0;34m)\u001b[0m\u001b[0;34m\u001b[0m\u001b[0;34m\u001b[0m\u001b[0m\n\u001b[0m\u001b[1;32m     51\u001b[0m \u001b[0moption\u001b[0m\u001b[0;34m.\u001b[0m\u001b[0msetNumber\u001b[0m\u001b[0;34m(\u001b[0m\u001b[0;34m'Mesh.ElementOrder'\u001b[0m\u001b[0;34m,\u001b[0m\u001b[0;36m2\u001b[0m\u001b[0;34m)\u001b[0m\u001b[0;34m\u001b[0m\u001b[0;34m\u001b[0m\u001b[0m\n\u001b[1;32m     52\u001b[0m \u001b[0;34m\u001b[0m\u001b[0m\n",
      "\u001b[0;32m/Library/Frameworks/Python.framework/Versions/3.7/lib/python3.7/site-packages/gmsh-4.4.1-MacOSX-sdk/lib/gmsh.py\u001b[0m in \u001b[0;36msetRecombine\u001b[0;34m(dim, tag)\u001b[0m\n\u001b[1;32m   2245\u001b[0m                 raise ValueError(\n\u001b[1;32m   2246\u001b[0m                     \u001b[0;34m\"gmshModelMeshSetRecombine returned non-zero error code: \"\u001b[0m\u001b[0;34m,\u001b[0m\u001b[0;34m\u001b[0m\u001b[0;34m\u001b[0m\u001b[0m\n\u001b[0;32m-> 2247\u001b[0;31m                     ierr.value)\n\u001b[0m\u001b[1;32m   2248\u001b[0m \u001b[0;34m\u001b[0m\u001b[0m\n\u001b[1;32m   2249\u001b[0m         \u001b[0;34m@\u001b[0m\u001b[0mstaticmethod\u001b[0m\u001b[0;34m\u001b[0m\u001b[0;34m\u001b[0m\u001b[0m\n",
      "\u001b[0;31mValueError\u001b[0m: ('gmshModelMeshSetRecombine returned non-zero error code: ', 2)"
     ]
    }
   ],
   "source": [
    "# gmsh.finalize()\n",
    "gmsh.initialize()\n",
    "# gmsh.fltk.initialize()\n",
    "\n",
    "# Lets create a simple square element:\n",
    "model = gmsh.model\n",
    "geo   = model.geo\n",
    "option= gmsh.option\n",
    "\n",
    "\n",
    "\n",
    "hight = 1\n",
    "width = 1\n",
    "he    = 1.0/30\n",
    "\n",
    "P1 = geo.addPoint(     -width/2.0,    hight/2.0, 0, he, 1)\n",
    "P2 = geo.addPoint(     -width/2.0,   -hight/2.0, 0, he, 2)\n",
    "P3 = geo.addPoint(width-width/2.0,    hight/2.0, 0, he, 3)\n",
    "P4 = geo.addPoint(width-width/2.0,   -hight/2.0, 0, he, 4)\n",
    "\n",
    "L1 = geo.addLine(P1,P2) # Left\n",
    "L2 = geo.addLine(P2,P4) # bottom\n",
    "L3 = geo.addLine(P4,P3) # right\n",
    "L4 = geo.addLine(P3,P1) # up\n",
    "\n",
    "loop1 = geo.addCurveLoop([L1,L2,L3,L4])\n",
    "\n",
    "surface = geo.addPlaneSurface([loop1])\n",
    "\n",
    "\n",
    "\n",
    "\n",
    "\n",
    "model.addPhysicalGroup(0, [P2], 200 )\n",
    "model.addPhysicalGroup(1, [L1], 201 )\n",
    "model.addPhysicalGroup(1, [L2], 202 )\n",
    "model.addPhysicalGroup(1, [L3], 203 )\n",
    "model.addPhysicalGroup(1, [L4], 204 )\n",
    "model.addPhysicalGroup(1, [surface], 301 )\n",
    "\n",
    "model.setPhysicalName(0,200,\"Pressure\")\n",
    "model.setPhysicalName(0,201,\"left\")\n",
    "model.setPhysicalName(0,202,\"bottom\")\n",
    "model.setPhysicalName(0,203,\"right\")\n",
    "model.setPhysicalName(0,204,\"up\")\n",
    "model.setPhysicalName(0,301,\"fluid\")\n",
    "\n",
    "geo.synchronize()\n",
    "\n",
    "model.mesh.setRecombine(2,)\n",
    "option.setNumber('Mesh.ElementOrder',2)\n",
    "\n",
    "\n",
    "model.mesh.generate(2)\n",
    "\n",
    "\n",
    "# gmsh.fltk.run()\n",
    "\n",
    "# gmsh.fltk.finalize()\n",
    "\n",
    "# gmsh.finalize()"
   ]
  },
  {
   "cell_type": "code",
   "execution_count": null,
   "metadata": {},
   "outputs": [],
   "source": []
  },
  {
   "cell_type": "code",
   "execution_count": 3,
   "metadata": {},
   "outputs": [],
   "source": [
    "mesh = model.mesh"
   ]
  },
  {
   "cell_type": "code",
   "execution_count": 4,
   "metadata": {},
   "outputs": [],
   "source": [
    "elementTypes, elementTags, nodeTags = mesh.getElements()"
   ]
  },
  {
   "cell_type": "code",
   "execution_count": 5,
   "metadata": {},
   "outputs": [
    {
     "data": {
      "text/plain": [
       "array([ 8,  9, 15], dtype=int32)"
      ]
     },
     "execution_count": 5,
     "metadata": {},
     "output_type": "execute_result"
    }
   ],
   "source": [
    "elementTypes"
   ]
  },
  {
   "cell_type": "code",
   "execution_count": 8,
   "metadata": {},
   "outputs": [
    {
     "data": {
      "text/plain": [
       "3"
      ]
     },
     "execution_count": 8,
     "metadata": {},
     "output_type": "execute_result"
    }
   ],
   "source": [
    "len(elementTags)\n"
   ]
  },
  {
   "cell_type": "code",
   "execution_count": 10,
   "metadata": {},
   "outputs": [
    {
     "data": {
      "text/plain": [
       "120"
      ]
     },
     "execution_count": 10,
     "metadata": {},
     "output_type": "execute_result"
    }
   ],
   "source": [
    "elementTags[0].size"
   ]
  },
  {
   "cell_type": "code",
   "execution_count": null,
   "metadata": {},
   "outputs": [],
   "source": []
  },
  {
   "cell_type": "code",
   "execution_count": null,
   "metadata": {},
   "outputs": [],
   "source": []
  },
  {
   "cell_type": "code",
   "execution_count": null,
   "metadata": {},
   "outputs": [],
   "source": []
  },
  {
   "cell_type": "code",
   "execution_count": 11,
   "metadata": {},
   "outputs": [
    {
     "data": {
      "text/plain": [
       "360"
      ]
     },
     "execution_count": 11,
     "metadata": {},
     "output_type": "execute_result"
    }
   ],
   "source": [
    "nodeTags[0].size\n"
   ]
  },
  {
   "cell_type": "code",
   "execution_count": 30,
   "metadata": {},
   "outputs": [
    {
     "data": {
      "text/plain": [
       "46"
      ]
     },
     "execution_count": 30,
     "metadata": {},
     "output_type": "execute_result"
    }
   ],
   "source": [
    "mesh.getElementType('triangle',10)"
   ]
  },
  {
   "cell_type": "code",
   "execution_count": null,
   "metadata": {},
   "outputs": [],
   "source": []
  },
  {
   "cell_type": "code",
   "execution_count": 7,
   "metadata": {},
   "outputs": [
    {
     "name": "stderr",
     "output_type": "stream",
     "text": [
      "/Library/Frameworks/Python.framework/Versions/3.7/lib/python3.7/site-packages/numpy/ctypeslib.py:523: RuntimeWarning: A builtin ctypes object gave a PEP3118 format string that does not match its itemsize, so a best-guess will be made of the data type. Newer versions of python may behave correctly.\n",
      "  return array(obj, copy=False)\n"
     ]
    },
    {
     "data": {
      "text/plain": [
       "(array([   1,    2,    3, ..., 4763, 4764, 4765], dtype=uint64),\n",
       " array([-0.5       ,  0.5       ,  0.        , ..., -0.12989261,\n",
       "         0.11177698,  0.        ]),\n",
       " array([], dtype=float64))"
      ]
     },
     "execution_count": 7,
     "metadata": {},
     "output_type": "execute_result"
    }
   ],
   "source": [
    "mesh.getNodes()"
   ]
  },
  {
   "cell_type": "code",
   "execution_count": 5,
   "metadata": {},
   "outputs": [
    {
     "ename": "NameError",
     "evalue": "name 'elementTypes' is not defined",
     "output_type": "error",
     "traceback": [
      "\u001b[0;31m---------------------------------------------------------------------------\u001b[0m",
      "\u001b[0;31mNameError\u001b[0m                                 Traceback (most recent call last)",
      "\u001b[0;32m<ipython-input-5-e8f7266b2b95>\u001b[0m in \u001b[0;36m<module>\u001b[0;34m\u001b[0m\n\u001b[1;32m      1\u001b[0m \u001b[0melementName\u001b[0m\u001b[0;34m,\u001b[0m \u001b[0mdim\u001b[0m\u001b[0;34m,\u001b[0m\u001b[0morder\u001b[0m\u001b[0;34m,\u001b[0m\u001b[0mnumNodes\u001b[0m\u001b[0;34m,\u001b[0m\u001b[0mnodeCoord\u001b[0m \u001b[0;34m=\u001b[0m \u001b[0mmesh\u001b[0m\u001b[0;34m.\u001b[0m\u001b[0mgetElementProperties\u001b[0m\u001b[0;34m(\u001b[0m\u001b[0;36m8\u001b[0m\u001b[0;34m)\u001b[0m\u001b[0;34m\u001b[0m\u001b[0;34m\u001b[0m\u001b[0m\n\u001b[0;32m----> 2\u001b[0;31m \u001b[0;32mfor\u001b[0m \u001b[0metype\u001b[0m \u001b[0;32min\u001b[0m \u001b[0melementTypes\u001b[0m\u001b[0;34m:\u001b[0m\u001b[0;34m\u001b[0m\u001b[0;34m\u001b[0m\u001b[0m\n\u001b[0m\u001b[1;32m      3\u001b[0m     \u001b[0mprops\u001b[0m \u001b[0;34m=\u001b[0m \u001b[0mmesh\u001b[0m\u001b[0;34m.\u001b[0m\u001b[0mgetElementProperties\u001b[0m\u001b[0;34m(\u001b[0m\u001b[0metype\u001b[0m\u001b[0;34m)\u001b[0m\u001b[0;34m\u001b[0m\u001b[0;34m\u001b[0m\u001b[0m\n\u001b[1;32m      4\u001b[0m     \u001b[0mstring\u001b[0m \u001b[0;34m=\u001b[0m \u001b[0;34m\"\"\u001b[0m\u001b[0;34m\u001b[0m\u001b[0;34m\u001b[0m\u001b[0m\n\u001b[1;32m      5\u001b[0m     \u001b[0mstring\u001b[0m \u001b[0;34m+=\u001b[0m \u001b[0;34m\"Name:  -- \"\u001b[0m\u001b[0;34m+\u001b[0m\u001b[0mstr\u001b[0m\u001b[0;34m(\u001b[0m\u001b[0mprops\u001b[0m\u001b[0;34m[\u001b[0m\u001b[0;36m0\u001b[0m\u001b[0;34m]\u001b[0m\u001b[0;34m)\u001b[0m \u001b[0;34m+\u001b[0m \u001b[0;34m\"\\n\"\u001b[0m\u001b[0;34m\u001b[0m\u001b[0;34m\u001b[0m\u001b[0m\n",
      "\u001b[0;31mNameError\u001b[0m: name 'elementTypes' is not defined"
     ]
    }
   ],
   "source": [
    "elementName, dim,order,numNodes,nodeCoord = mesh.getElementProperties(8)\n",
    "for etype in elementTypes:\n",
    "    props = mesh.getElementProperties(etype) \n",
    "    string = \"\"\n",
    "    string += \"Name:  -- \"+str(props[0]) + \"\\n\"\n",
    "    string += \"ndim:  -- \"+str(props[1]) + \"\\n\"\n",
    "    string += \"order: -- \"+str(props[2]) + \"\\n\"\n",
    "    string += \"nNodes:-- \"+str(props[3]) + \"\\n\"\n",
    "    if props[1]!=0:\n",
    "        string += \"coords:\\n\"+str(props[4].reshape(props[4].size//props[1],props[1])) \n",
    "    else:\n",
    "        string += \"coords:\\n\"+str(props[4]) \n",
    "        \n",
    "        \n",
    "\n",
    "    print(string)\n",
    "    print()\n",
    "    "
   ]
  },
  {
   "cell_type": "code",
   "execution_count": null,
   "metadata": {},
   "outputs": [],
   "source": []
  },
  {
   "cell_type": "code",
   "execution_count": null,
   "metadata": {},
   "outputs": [],
   "source": []
  },
  {
   "cell_type": "code",
   "execution_count": 3,
   "metadata": {},
   "outputs": [
    {
     "data": {
      "text/plain": [
       "[(0, 200), (1, 201), (1, 202), (1, 203), (1, 204), (1, 301)]"
      ]
     },
     "execution_count": 3,
     "metadata": {},
     "output_type": "execute_result"
    }
   ],
   "source": [
    "model.getPhysicalGroups()\n"
   ]
  },
  {
   "cell_type": "code",
   "execution_count": 3,
   "metadata": {},
   "outputs": [],
   "source": [
    "gmsh.write(\"mesh_test.msh\")"
   ]
  },
  {
   "cell_type": "code",
   "execution_count": 5,
   "metadata": {},
   "outputs": [],
   "source": [
    "gmsh.finalize()"
   ]
  },
  {
   "cell_type": "code",
   "execution_count": null,
   "metadata": {},
   "outputs": [],
   "source": []
  }
 ],
 "metadata": {
  "kernelspec": {
   "display_name": "Python 3",
   "language": "python",
   "name": "python3"
  },
  "language_info": {
   "codemirror_mode": {
    "name": "ipython",
    "version": 3
   },
   "file_extension": ".py",
   "mimetype": "text/x-python",
   "name": "python",
   "nbconvert_exporter": "python",
   "pygments_lexer": "ipython3",
   "version": "3.6.8"
  }
 },
 "nbformat": 4,
 "nbformat_minor": 2
}
