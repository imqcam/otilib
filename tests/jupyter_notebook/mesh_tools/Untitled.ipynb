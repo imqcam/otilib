{
 "cells": [
  {
   "cell_type": "code",
   "execution_count": 1,
   "metadata": {},
   "outputs": [],
   "source": [
    "from mesh import *"
   ]
  },
  {
   "cell_type": "code",
   "execution_count": 2,
   "metadata": {},
   "outputs": [],
   "source": [
    "import gmsh\n",
    "\n",
    "\n",
    "gmsh.initialize()\n",
    "# gmsh.fltk.initialize()\n",
    "\n",
    "# Lets create a simple square element:\n",
    "model = gmsh.model\n",
    "geo   = model.geo\n",
    "option= gmsh.option\n",
    "\n",
    "\n",
    "\n",
    "hight = 1\n",
    "width = 1\n",
    "he    = 1.0/5\n",
    "\n",
    "P1 = geo.addPoint(     -width/2.0,    hight/2.0, 0, he, 1)\n",
    "P2 = geo.addPoint(     -width/2.0,   -hight/2.0, 0, he, 2)\n",
    "P3 = geo.addPoint(width-width/2.0,    hight/2.0, 0, he, 3)\n",
    "P4 = geo.addPoint(width-width/2.0,   -hight/2.0, 0, he, 4)\n",
    "\n",
    "L1 = geo.addLine(P1,P2) # Left\n",
    "L2 = geo.addLine(P2,P4) # bottom\n",
    "L3 = geo.addLine(P4,P3) # right\n",
    "L4 = geo.addLine(P3,P1) # up\n",
    "\n",
    "loop1 = geo.addCurveLoop([L1,L2,L3,L4])\n",
    "\n",
    "surface = geo.addPlaneSurface([loop1])\n",
    "\n",
    "model.addPhysicalGroup(0, [P2], 200 )\n",
    "model.addPhysicalGroup(1, [L1], 201 )\n",
    "model.addPhysicalGroup(1, [L2], 202 )\n",
    "model.addPhysicalGroup(1, [L3], 203 )\n",
    "model.addPhysicalGroup(1, [L4], 204 )\n",
    "model.addPhysicalGroup(2, [surface], 301 )\n",
    "\n",
    "model.setPhysicalName(0,200,\"Pressure\")\n",
    "model.setPhysicalName(1,201,\"left\")\n",
    "model.setPhysicalName(1,202,\"bottom\")\n",
    "model.setPhysicalName(1,203,\"right\")\n",
    "model.setPhysicalName(1,204,\"up\")\n",
    "model.setPhysicalName(2,301,\"fluid\")\n",
    "\n",
    "\n",
    "geo.synchronize()\n",
    "\n",
    "# model.mesh.setRecombine(2)\n",
    "option.setNumber('Mesh.ElementOrder',2)\n",
    "\n",
    "\n",
    "model.mesh.generate(2)\n",
    "\n",
    "gmsh.write(\"test.msh\")\n",
    "# gmsh.fltk.run()\n",
    "\n",
    "# gmsh.fltk.finalize()\n",
    "\n",
    "# gmsh.finalize()"
   ]
  },
  {
   "cell_type": "code",
   "execution_count": 4,
   "metadata": {},
   "outputs": [
    {
     "name": "stderr",
     "output_type": "stream",
     "text": [
      "/Library/Frameworks/Python.framework/Versions/3.7/lib/python3.7/site-packages/numpy/ctypeslib.py:523: RuntimeWarning: A builtin ctypes object gave a PEP3118 format string that does not match its itemsize, so a best-guess will be made of the data type. Newer versions of python may behave correctly.\n",
      "  return array(obj, copy=False)\n"
     ]
    }
   ],
   "source": [
    "Th = mesh.from_gmsh(gmsh)\n",
    "gmsh.finalize()"
   ]
  },
  {
   "cell_type": "code",
   "execution_count": 7,
   "metadata": {},
   "outputs": [
    {
     "data": {
      "text/plain": [
       "(array([], dtype=int32), [], [])"
      ]
     },
     "execution_count": 7,
     "metadata": {},
     "output_type": "execute_result"
    }
   ],
   "source": [
    "Th.elements[3]"
   ]
  },
  {
   "cell_type": "code",
   "execution_count": 7,
   "metadata": {},
   "outputs": [],
   "source": []
  },
  {
   "cell_type": "code",
   "execution_count": 10,
   "metadata": {},
   "outputs": [],
   "source": [
    "A = np.zeros((3,3))"
   ]
  },
  {
   "cell_type": "code",
   "execution_count": 12,
   "metadata": {},
   "outputs": [
    {
     "data": {
      "text/plain": [
       "array([0., 0., 0., 0., 0., 0., 0., 0., 0.])"
      ]
     },
     "execution_count": 12,
     "metadata": {},
     "output_type": "execute_result"
    }
   ],
   "source": [
    "\n",
    "A.reshape(A.size)"
   ]
  },
  {
   "cell_type": "code",
   "execution_count": null,
   "metadata": {},
   "outputs": [],
   "source": []
  }
 ],
 "metadata": {
  "kernelspec": {
   "display_name": "Python 3",
   "language": "python",
   "name": "python3"
  },
  "language_info": {
   "codemirror_mode": {
    "name": "ipython",
    "version": 3
   },
   "file_extension": ".py",
   "mimetype": "text/x-python",
   "name": "python",
   "nbconvert_exporter": "python",
   "pygments_lexer": "ipython3",
   "version": "3.7.1"
  }
 },
 "nbformat": 4,
 "nbformat_minor": 2
}
