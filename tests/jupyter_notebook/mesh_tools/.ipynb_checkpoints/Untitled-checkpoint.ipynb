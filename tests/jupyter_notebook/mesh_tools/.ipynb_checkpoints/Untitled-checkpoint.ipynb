{
 "cells": [
  {
   "cell_type": "code",
   "execution_count": 1,
   "metadata": {},
   "outputs": [],
   "source": [
    "from mesh import *\n",
    "import pyvista as pv\n",
    "from itkwidgets import view\n",
    "import vtk\n",
    "import vtk.util.numpy_support as np_support"
   ]
  },
  {
   "cell_type": "code",
   "execution_count": 2,
   "metadata": {},
   "outputs": [],
   "source": [
    "import gmsh\n",
    "\n",
    "\n",
    "gmsh.initialize()\n",
    "# gmsh.fltk.initialize()\n",
    "\n",
    "# Lets create a simple square element:\n",
    "model = gmsh.model\n",
    "geo   = model.geo\n",
    "option= gmsh.option\n",
    "\n",
    "\n",
    "\n",
    "hight = 1\n",
    "width = 1\n",
    "he    = 1.0/5\n",
    "\n",
    "P1 = geo.addPoint(     -width/2.0,    hight/2.0, 0, he, 1)\n",
    "P2 = geo.addPoint(     -width/2.0,   -hight/2.0, 0, he, 2)\n",
    "P3 = geo.addPoint(width-width/2.0,    hight/2.0, 0, he, 3)\n",
    "P4 = geo.addPoint(width-width/2.0,   -hight/2.0, 0, he, 4)\n",
    "\n",
    "L1 = geo.addLine(P1,P2) # Left\n",
    "L2 = geo.addLine(P2,P4) # bottom\n",
    "L3 = geo.addLine(P4,P3) # right\n",
    "L4 = geo.addLine(P3,P1) # up\n",
    "\n",
    "loop1 = geo.addCurveLoop([L1,L2,L3,L4])\n",
    "\n",
    "surface = geo.addPlaneSurface([loop1])\n",
    "\n",
    "model.addPhysicalGroup(0, [P2], 200 )\n",
    "model.addPhysicalGroup(1, [L1], 201 )\n",
    "model.addPhysicalGroup(1, [L2], 202 )\n",
    "model.addPhysicalGroup(1, [L3], 203 )\n",
    "model.addPhysicalGroup(1, [L4], 204 )\n",
    "model.addPhysicalGroup(2, [surface], 301 )\n",
    "\n",
    "model.setPhysicalName(0,200,\"Pressure\")\n",
    "model.setPhysicalName(1,201,\"left\")\n",
    "model.setPhysicalName(1,202,\"bottom\")\n",
    "model.setPhysicalName(1,203,\"right\")\n",
    "model.setPhysicalName(1,204,\"up\")\n",
    "model.setPhysicalName(2,301,\"fluid\")\n",
    "\n",
    "\n",
    "geo.synchronize()\n",
    "\n",
    "# model.mesh.setRecombine(2)\n",
    "option.setNumber('Mesh.ElementOrder',2)\n",
    "\n",
    "\n",
    "model.mesh.generate(2)\n",
    "\n",
    "gmsh.write(\"test.msh\")\n",
    "# gmsh.fltk.run()\n",
    "\n",
    "# gmsh.fltk.finalize()\n",
    "\n",
    "# gmsh.finalize()"
   ]
  },
  {
   "cell_type": "code",
   "execution_count": 3,
   "metadata": {},
   "outputs": [
    {
     "name": "stderr",
     "output_type": "stream",
     "text": [
      "A builtin ctypes object gave a PEP3118 format string that does not match its itemsize, so a best-guess will be made of the data type. Newer versions of python may behave correctly.\n"
     ]
    }
   ],
   "source": [
    "Th = mesh.from_gmsh(gmsh)\n",
    "gmsh.finalize()"
   ]
  },
  {
   "cell_type": "code",
   "execution_count": 4,
   "metadata": {},
   "outputs": [
    {
     "data": {
      "text/plain": [
       "92"
      ]
     },
     "execution_count": 4,
     "metadata": {},
     "output_type": "execute_result"
    }
   ],
   "source": [
    "Th.get_number_elements()"
   ]
  },
  {
   "cell_type": "code",
   "execution_count": 5,
   "metadata": {},
   "outputs": [
    {
     "name": "stdout",
     "output_type": "stream",
     "text": [
      "   Dim   Type Tag                        Nodes\n",
      "1    0  point   1                          [1]\n",
      "2    1  line3   2                    [0, 4, 8]\n",
      "3    1  line3   3                    [4, 5, 9]\n",
      "4    1  line3   4                   [5, 6, 10]\n",
      "5    1  line3   5                   [6, 7, 11]\n",
      "6    1  line3   6                   [7, 1, 12]\n",
      "7    1  line3   7                  [1, 13, 17]\n",
      "8    1  line3   8                 [13, 14, 18]\n",
      "9    1  line3   9                 [14, 15, 19]\n",
      "10   1  line3  10                 [15, 16, 20]\n",
      "11   1  line3  11                  [16, 3, 21]\n",
      "12   1  line3  12                  [3, 22, 26]\n",
      "13   1  line3  13                 [22, 23, 27]\n",
      "14   1  line3  14                 [23, 24, 28]\n",
      "15   1  line3  15                 [24, 25, 29]\n",
      "16   1  line3  16                  [25, 2, 30]\n",
      "17   1  line3  17                  [2, 31, 35]\n",
      "18   1  line3  18                 [31, 32, 36]\n",
      "19   1  line3  19                 [32, 33, 37]\n",
      "20   1  line3  20                 [33, 34, 38]\n",
      "21   1  line3  21                  [34, 0, 39]\n",
      "22   2   tri6  22     [41, 47, 53, 65, 66, 67]\n",
      "23   2   tri6  23     [53, 47, 54, 66, 68, 69]\n",
      "24   2   tri6  24     [42, 48, 55, 70, 71, 72]\n",
      "25   2   tri6  25     [48, 53, 55, 73, 74, 71]\n",
      "26   2   tri6  26     [54, 45, 56, 75, 76, 77]\n",
      "27   2   tri6  27     [43, 45, 54, 78, 75, 79]\n",
      "28   2   tri6  28     [46, 55, 56, 80, 81, 82]\n",
      "29   2   tri6  29     [44, 46, 56, 83, 82, 84]\n",
      "30   2   tri6  30     [23, 24, 45, 28, 85, 86]\n",
      "31   2   tri6  31     [32, 33, 46, 37, 87, 88]\n",
      "32   2   tri6  32     [14, 15, 47, 19, 89, 90]\n",
      "33   2   tri6  33       [5, 6, 48, 10, 91, 92]\n",
      "34   2   tri6  34      [1, 13, 49, 17, 93, 94]\n",
      "35   2   tri6  35       [7, 1, 49, 12, 94, 95]\n",
      "36   2   tri6  36        [0, 4, 50, 8, 96, 97]\n",
      "37   2   tri6  37      [34, 0, 50, 39, 97, 98]\n",
      "38   2   tri6  38     [3, 22, 51, 26, 99, 100]\n",
      "39   2   tri6  39    [16, 3, 51, 21, 100, 101]\n",
      "40   2   tri6  40    [2, 31, 52, 35, 102, 103]\n",
      "41   2   tri6  41    [25, 2, 52, 30, 103, 104]\n",
      "42   2   tri6  42   [23, 45, 63, 86, 105, 106]\n",
      "43   2   tri6  43   [32, 46, 64, 88, 107, 108]\n",
      "44   2   tri6  44   [14, 47, 61, 90, 109, 110]\n",
      "45   2   tri6  45    [5, 48, 62, 92, 111, 112]\n",
      "46   2   tri6  46   [46, 44, 64, 83, 113, 107]\n",
      "47   2   tri6  47   [45, 43, 63, 78, 114, 105]\n",
      "48   2   tri6  48  [44, 45, 60, 115, 116, 117]\n",
      "49   2   tri6  49   [45, 24, 60, 85, 118, 116]\n",
      "50   2   tri6  50  [42, 46, 58, 119, 120, 121]\n",
      "51   2   tri6  51   [48, 42, 62, 70, 122, 111]\n",
      "52   2   tri6  52   [47, 41, 61, 65, 123, 109]\n",
      "53   2   tri6  53   [46, 33, 58, 87, 124, 120]\n",
      "54   2   tri6  54  [43, 47, 59, 125, 126, 127]\n",
      "55   2   tri6  55   [47, 15, 59, 89, 128, 126]\n",
      "56   2   tri6  56  [41, 48, 57, 129, 130, 131]\n",
      "57   2   tri6  57    [48, 6, 57, 91, 132, 130]\n",
      "58   2   tri6  58   [40, 54, 56, 133, 77, 134]\n",
      "59   2   tri6  59   [55, 40, 56, 135, 134, 81]\n",
      "60   2   tri6  60    [45, 44, 56, 115, 84, 76]\n",
      "61   2   tri6  61    [46, 42, 55, 119, 72, 80]\n",
      "62   2   tri6  62    [47, 43, 54, 125, 79, 68]\n",
      "63   2   tri6  63    [48, 41, 53, 129, 67, 73]\n",
      "64   2   tri6  64   [40, 53, 54, 136, 69, 133]\n",
      "65   2   tri6  65   [53, 40, 55, 136, 135, 74]\n",
      "66   2   tri6  66     [6, 7, 57, 11, 137, 132]\n",
      "67   2   tri6  67   [13, 14, 61, 18, 110, 138]\n",
      "68   2   tri6  68   [33, 34, 58, 38, 139, 124]\n",
      "69   2   tri6  69      [4, 5, 62, 9, 112, 140]\n",
      "70   2   tri6  70   [15, 16, 59, 20, 141, 128]\n",
      "71   2   tri6  71   [22, 23, 63, 27, 106, 142]\n",
      "72   2   tri6  72   [24, 25, 60, 29, 143, 118]\n",
      "73   2   tri6  73   [31, 32, 64, 36, 108, 144]\n",
      "74   2   tri6  74   [49, 13, 61, 93, 138, 145]\n",
      "75   2   tri6  75    [7, 49, 57, 95, 146, 137]\n",
      "76   2   tri6  76    [50, 4, 62, 96, 140, 147]\n",
      "77   2   tri6  77   [51, 22, 63, 99, 142, 148]\n",
      "78   2   tri6  78   [34, 50, 58, 98, 149, 139]\n",
      "79   2   tri6  79  [16, 51, 59, 101, 150, 141]\n",
      "80   2   tri6  80  [52, 31, 64, 102, 144, 151]\n",
      "81   2   tri6  81  [25, 52, 60, 104, 152, 143]\n",
      "82   2   tri6  82  [49, 41, 57, 153, 131, 146]\n",
      "83   2   tri6  83  [50, 42, 58, 154, 121, 149]\n",
      "84   2   tri6  84  [51, 43, 59, 155, 127, 150]\n",
      "85   2   tri6  85  [41, 49, 61, 153, 145, 123]\n",
      "86   2   tri6  86  [52, 44, 60, 156, 117, 152]\n",
      "87   2   tri6  87  [42, 50, 62, 154, 147, 122]\n",
      "88   2   tri6  88  [43, 51, 63, 155, 148, 114]\n",
      "89   2   tri6  89  [44, 52, 64, 156, 151, 113]\n",
      "90   0  point  90                          [0]\n",
      "91   0  point  91                          [2]\n",
      "92   0  point  92                          [3]\n"
     ]
    }
   ],
   "source": [
    "\n",
    "print(Th.get_all_elements_pd().to_string())"
   ]
  },
  {
   "cell_type": "code",
   "execution_count": 6,
   "metadata": {},
   "outputs": [],
   "source": [
    "pd = []\n",
    "pd.append(np.sqrt(Th.nodes[:,0]**2+Th.nodes[:,1]**2))\n",
    "pd.append(Th.nodes)\n",
    "\n",
    "pd_names = ['Radious','Vals']"
   ]
  },
  {
   "cell_type": "code",
   "execution_count": 7,
   "metadata": {},
   "outputs": [],
   "source": [
    "grid = Th.to_vtk(pd = pd, pd_names=pd_names)"
   ]
  },
  {
   "cell_type": "code",
   "execution_count": 8,
   "metadata": {},
   "outputs": [
    {
     "data": {
      "application/vnd.jupyter.widget-view+json": {
       "model_id": "e4f8e7741fea4e829037ff8ae3ef7137",
       "version_major": 2,
       "version_minor": 0
      },
      "text/plain": [
       "Viewer(geometries=[{'vtkClass': 'vtkPolyData', 'points': {'vtkClass': 'vtkPoints', 'name': '_points', 'numberO…"
      ]
     },
     "metadata": {},
     "output_type": "display_data"
    }
   ],
   "source": [
    "view(geometries = grid, point_set=Th.nodes)"
   ]
  },
  {
   "cell_type": "code",
   "execution_count": 10,
   "metadata": {},
   "outputs": [],
   "source": [
    "pvgrid = pv.UnstructuredGrid(grid)"
   ]
  },
  {
   "cell_type": "code",
   "execution_count": 11,
   "metadata": {},
   "outputs": [
    {
     "data": {
      "text/plain": [
       "1"
      ]
     },
     "execution_count": 11,
     "metadata": {},
     "output_type": "execute_result"
    }
   ],
   "source": [
    "pvgrid.save(\"test_pyvista.vtk\",binary=False)"
   ]
  },
  {
   "cell_type": "code",
   "execution_count": 16,
   "metadata": {},
   "outputs": [],
   "source": [
    "ncells = Th.elements[2]['tags'][0].size\n",
    "cell_type = np.zeros(ncells,dtype = np.int64)\n",
    "cell_offset = np.zeros(ncells,dtype=np.int64)\n",
    "npoints_cell = 6"
   ]
  },
  {
   "cell_type": "code",
   "execution_count": 17,
   "metadata": {},
   "outputs": [
    {
     "data": {
      "text/plain": [
       "array([22, 22, 22, 22, 22, 22, 22, 22, 22, 22, 22, 22, 22, 22, 22, 22, 22,\n",
       "       22, 22, 22, 22, 22, 22, 22, 22, 22, 22, 22, 22, 22, 22, 22, 22, 22,\n",
       "       22, 22, 22, 22, 22, 22, 22, 22, 22, 22, 22, 22, 22, 22, 22, 22, 22,\n",
       "       22, 22, 22, 22, 22, 22, 22, 22, 22, 22, 22, 22, 22, 22, 22, 22, 22])"
      ]
     },
     "execution_count": 17,
     "metadata": {},
     "output_type": "execute_result"
    }
   ],
   "source": [
    "for i in range(ncells):\n",
    "    cell_type[i] = element_type_map_vtk[Th.elements[2]['types'][0]]\n",
    "cell_type"
   ]
  },
  {
   "cell_type": "code",
   "execution_count": 41,
   "metadata": {},
   "outputs": [],
   "source": [
    "sixes = np.full((Th.elements[2]['nodes'][0].shape[0],1),6,dtype = Th.elements[2]['nodes'][0].dtype)"
   ]
  },
  {
   "cell_type": "code",
   "execution_count": 42,
   "metadata": {},
   "outputs": [
    {
     "data": {
      "text/plain": [
       "dtype('uint64')"
      ]
     },
     "execution_count": 42,
     "metadata": {},
     "output_type": "execute_result"
    }
   ],
   "source": [
    "sixes.dtype"
   ]
  },
  {
   "cell_type": "code",
   "execution_count": 43,
   "metadata": {},
   "outputs": [],
   "source": [
    "\n",
    "cells = np.c_[sixes,Th.elements[2]['nodes'][0]].flatten()"
   ]
  },
  {
   "cell_type": "code",
   "execution_count": 44,
   "metadata": {},
   "outputs": [
    {
     "data": {
      "text/plain": [
       "array([  6,  41,  47,  53,  65,  66,  67,   6,  53,  47,  54,  66,  68,\n",
       "        69,   6,  42,  48,  55,  70,  71,  72,   6,  48,  53,  55,  73,\n",
       "        74,  71,   6,  54,  45,  56,  75,  76,  77,   6,  43,  45,  54,\n",
       "        78,  75,  79,   6,  46,  55,  56,  80,  81,  82,   6,  44,  46,\n",
       "        56,  83,  82,  84,   6,  23,  24,  45,  28,  85,  86,   6,  32,\n",
       "        33,  46,  37,  87,  88,   6,  14,  15,  47,  19,  89,  90,   6,\n",
       "         5,   6,  48,  10,  91,  92,   6,   1,  13,  49,  17,  93,  94,\n",
       "         6,   7,   1,  49,  12,  94,  95,   6,   0,   4,  50,   8,  96,\n",
       "        97,   6,  34,   0,  50,  39,  97,  98,   6,   3,  22,  51,  26,\n",
       "        99, 100,   6,  16,   3,  51,  21, 100, 101,   6,   2,  31,  52,\n",
       "        35, 102, 103,   6,  25,   2,  52,  30, 103, 104,   6,  23,  45,\n",
       "        63,  86, 105, 106,   6,  32,  46,  64,  88, 107, 108,   6,  14,\n",
       "        47,  61,  90, 109, 110,   6,   5,  48,  62,  92, 111, 112,   6,\n",
       "        46,  44,  64,  83, 113, 107,   6,  45,  43,  63,  78, 114, 105,\n",
       "         6,  44,  45,  60, 115, 116, 117,   6,  45,  24,  60,  85, 118,\n",
       "       116,   6,  42,  46,  58, 119, 120, 121,   6,  48,  42,  62,  70,\n",
       "       122, 111,   6,  47,  41,  61,  65, 123, 109,   6,  46,  33,  58,\n",
       "        87, 124, 120,   6,  43,  47,  59, 125, 126, 127,   6,  47,  15,\n",
       "        59,  89, 128, 126,   6,  41,  48,  57, 129, 130, 131,   6,  48,\n",
       "         6,  57,  91, 132, 130,   6,  40,  54,  56, 133,  77, 134,   6,\n",
       "        55,  40,  56, 135, 134,  81,   6,  45,  44,  56, 115,  84,  76,\n",
       "         6,  46,  42,  55, 119,  72,  80,   6,  47,  43,  54, 125,  79,\n",
       "        68,   6,  48,  41,  53, 129,  67,  73,   6,  40,  53,  54, 136,\n",
       "        69, 133,   6,  53,  40,  55, 136, 135,  74,   6,   6,   7,  57,\n",
       "        11, 137, 132,   6,  13,  14,  61,  18, 110, 138,   6,  33,  34,\n",
       "        58,  38, 139, 124,   6,   4,   5,  62,   9, 112, 140,   6,  15,\n",
       "        16,  59,  20, 141, 128,   6,  22,  23,  63,  27, 106, 142,   6,\n",
       "        24,  25,  60,  29, 143, 118,   6,  31,  32,  64,  36, 108, 144,\n",
       "         6,  49,  13,  61,  93, 138, 145,   6,   7,  49,  57,  95, 146,\n",
       "       137,   6,  50,   4,  62,  96, 140, 147,   6,  51,  22,  63,  99,\n",
       "       142, 148,   6,  34,  50,  58,  98, 149, 139,   6,  16,  51,  59,\n",
       "       101, 150, 141,   6,  52,  31,  64, 102, 144, 151,   6,  25,  52,\n",
       "        60, 104, 152, 143,   6,  49,  41,  57, 153, 131, 146,   6,  50,\n",
       "        42,  58, 154, 121, 149,   6,  51,  43,  59, 155, 127, 150,   6,\n",
       "        41,  49,  61, 153, 145, 123,   6,  52,  44,  60, 156, 117, 152,\n",
       "         6,  42,  50,  62, 154, 147, 122,   6,  43,  51,  63, 155, 148,\n",
       "       114,   6,  44,  52,  64, 156, 151, 113], dtype=uint64)"
      ]
     },
     "execution_count": 44,
     "metadata": {},
     "output_type": "execute_result"
    }
   ],
   "source": [
    "cells"
   ]
  },
  {
   "cell_type": "code",
   "execution_count": 47,
   "metadata": {},
   "outputs": [],
   "source": [
    "offset = np.arange(0,ncells*(npoints_cell+1),npoints_cell+1,dtype=int)"
   ]
  },
  {
   "cell_type": "code",
   "execution_count": 48,
   "metadata": {},
   "outputs": [
    {
     "data": {
      "text/plain": [
       "array([  0,   7,  14,  21,  28,  35,  42,  49,  56,  63,  70,  77,  84,\n",
       "        91,  98, 105, 112, 119, 126, 133, 140, 147, 154, 161, 168, 175,\n",
       "       182, 189, 196, 203, 210, 217, 224, 231, 238, 245, 252, 259, 266,\n",
       "       273, 280, 287, 294, 301, 308, 315, 322, 329, 336, 343, 350, 357,\n",
       "       364, 371, 378, 385, 392, 399, 406, 413, 420, 427, 434, 441, 448,\n",
       "       455, 462, 469])"
      ]
     },
     "execution_count": 48,
     "metadata": {},
     "output_type": "execute_result"
    }
   ],
   "source": [
    "offset"
   ]
  },
  {
   "cell_type": "code",
   "execution_count": 49,
   "metadata": {},
   "outputs": [
    {
     "data": {
      "text/plain": [
       "array([  6,  41,  47,  53,  65,  66,  67,   6,  53,  47,  54,  66,  68,\n",
       "        69,   6,  42,  48,  55,  70,  71,  72,   6,  48,  53,  55,  73,\n",
       "        74,  71,   6,  54,  45,  56,  75,  76,  77,   6,  43,  45,  54,\n",
       "        78,  75,  79,   6,  46,  55,  56,  80,  81,  82,   6,  44,  46,\n",
       "        56,  83,  82,  84,   6,  23,  24,  45,  28,  85,  86,   6,  32,\n",
       "        33,  46,  37,  87,  88,   6,  14,  15,  47,  19,  89,  90,   6,\n",
       "         5,   6,  48,  10,  91,  92,   6,   1,  13,  49,  17,  93,  94,\n",
       "         6,   7,   1,  49,  12,  94,  95,   6,   0,   4,  50,   8,  96,\n",
       "        97,   6,  34,   0,  50,  39,  97,  98,   6,   3,  22,  51,  26,\n",
       "        99, 100,   6,  16,   3,  51,  21, 100, 101,   6,   2,  31,  52,\n",
       "        35, 102, 103,   6,  25,   2,  52,  30, 103, 104,   6,  23,  45,\n",
       "        63,  86, 105, 106,   6,  32,  46,  64,  88, 107, 108,   6,  14,\n",
       "        47,  61,  90, 109, 110,   6,   5,  48,  62,  92, 111, 112,   6,\n",
       "        46,  44,  64,  83, 113, 107,   6,  45,  43,  63,  78, 114, 105,\n",
       "         6,  44,  45,  60, 115, 116, 117,   6,  45,  24,  60,  85, 118,\n",
       "       116,   6,  42,  46,  58, 119, 120, 121,   6,  48,  42,  62,  70,\n",
       "       122, 111,   6,  47,  41,  61,  65, 123, 109,   6,  46,  33,  58,\n",
       "        87, 124, 120,   6,  43,  47,  59, 125, 126, 127,   6,  47,  15,\n",
       "        59,  89, 128, 126,   6,  41,  48,  57, 129, 130, 131,   6,  48,\n",
       "         6,  57,  91, 132, 130,   6,  40,  54,  56, 133,  77, 134,   6,\n",
       "        55,  40,  56, 135, 134,  81,   6,  45,  44,  56, 115,  84,  76,\n",
       "         6,  46,  42,  55, 119,  72,  80,   6,  47,  43,  54, 125,  79,\n",
       "        68,   6,  48,  41,  53, 129,  67,  73,   6,  40,  53,  54, 136,\n",
       "        69, 133,   6,  53,  40,  55, 136, 135,  74,   6,   6,   7,  57,\n",
       "        11, 137, 132,   6,  13,  14,  61,  18, 110, 138,   6,  33,  34,\n",
       "        58,  38, 139, 124,   6,   4,   5,  62,   9, 112, 140,   6,  15,\n",
       "        16,  59,  20, 141, 128,   6,  22,  23,  63,  27, 106, 142,   6,\n",
       "        24,  25,  60,  29, 143, 118,   6,  31,  32,  64,  36, 108, 144,\n",
       "         6,  49,  13,  61,  93, 138, 145,   6,   7,  49,  57,  95, 146,\n",
       "       137,   6,  50,   4,  62,  96, 140, 147,   6,  51,  22,  63,  99,\n",
       "       142, 148,   6,  34,  50,  58,  98, 149, 139,   6,  16,  51,  59,\n",
       "       101, 150, 141,   6,  52,  31,  64, 102, 144, 151,   6,  25,  52,\n",
       "        60, 104, 152, 143,   6,  49,  41,  57, 153, 131, 146,   6,  50,\n",
       "        42,  58, 154, 121, 149,   6,  51,  43,  59, 155, 127, 150,   6,\n",
       "        41,  49,  61, 153, 145, 123,   6,  52,  44,  60, 156, 117, 152,\n",
       "         6,  42,  50,  62, 154, 147, 122,   6,  43,  51,  63, 155, 148,\n",
       "       114,   6,  44,  52,  64, 156, 151, 113], dtype=uint64)"
      ]
     },
     "execution_count": 49,
     "metadata": {},
     "output_type": "execute_result"
    }
   ],
   "source": [
    "cells"
   ]
  },
  {
   "cell_type": "code",
   "execution_count": 23,
   "metadata": {},
   "outputs": [
    {
     "data": {
      "text/plain": [
       "dtype('int64')"
      ]
     },
     "execution_count": 23,
     "metadata": {},
     "output_type": "execute_result"
    }
   ],
   "source": [
    "cell_type.dtype"
   ]
  },
  {
   "cell_type": "code",
   "execution_count": 24,
   "metadata": {},
   "outputs": [],
   "source": [
    "points = Th.nodes"
   ]
  },
  {
   "cell_type": "code",
   "execution_count": 29,
   "metadata": {},
   "outputs": [
    {
     "data": {
      "text/plain": [
       "array([  0,   6,  12,  18,  24,  30,  36,  42,  48,  54,  60,  66,  72,\n",
       "        78,  84,  90,  96, 102, 108, 114, 120, 126, 132, 138, 144, 150,\n",
       "       156, 162, 168, 174, 180, 186, 192, 198, 204, 210, 216, 222, 228,\n",
       "       234, 240, 246, 252, 258, 264, 270, 276, 282, 288, 294, 300, 306,\n",
       "       312, 318, 324, 330, 336, 342, 348, 354, 360, 366, 372, 378, 384,\n",
       "       390, 396, 402, 408])"
      ]
     },
     "execution_count": 29,
     "metadata": {},
     "output_type": "execute_result"
    }
   ],
   "source": [
    "offset"
   ]
  },
  {
   "cell_type": "code",
   "execution_count": 27,
   "metadata": {},
   "outputs": [],
   "source": [
    "i=0\n",
    "nels = 1\n",
    "cellsi = cells[offset[i]:offset[i+nels]]\n",
    "cell_typei = cell_type[i:i+nels]\n",
    "offseti= offset[i:i+nels]"
   ]
  },
  {
   "cell_type": "code",
   "execution_count": 28,
   "metadata": {},
   "outputs": [
    {
     "data": {
      "text/plain": [
       "array([41, 47, 53, 65, 66, 67], dtype=uint64)"
      ]
     },
     "execution_count": 28,
     "metadata": {},
     "output_type": "execute_result"
    }
   ],
   "source": [
    "cellsi"
   ]
  },
  {
   "cell_type": "code",
   "execution_count": 30,
   "metadata": {},
   "outputs": [
    {
     "data": {
      "text/plain": [
       "array([22])"
      ]
     },
     "execution_count": 30,
     "metadata": {},
     "output_type": "execute_result"
    }
   ],
   "source": [
    "cell_typei"
   ]
  },
  {
   "cell_type": "code",
   "execution_count": 62,
   "metadata": {},
   "outputs": [
    {
     "data": {
      "text/plain": [
       "array([0])"
      ]
     },
     "execution_count": 62,
     "metadata": {},
     "output_type": "execute_result"
    }
   ],
   "source": [
    "\n",
    "offseti"
   ]
  },
  {
   "cell_type": "code",
   "execution_count": 68,
   "metadata": {},
   "outputs": [],
   "source": [
    "grid = pv.UnstructuredGrid(offset, cells, cell_type, points,deep=True)"
   ]
  },
  {
   "cell_type": "code",
   "execution_count": 69,
   "metadata": {},
   "outputs": [],
   "source": [
    "grid[\"field\"] = Th.nodes[:, 0]\n",
    "grid[\"value\"] = np.c_[Th.nodes,Th.nodes,Th.nodes]"
   ]
  },
  {
   "cell_type": "code",
   "execution_count": 70,
   "metadata": {},
   "outputs": [
    {
     "data": {
      "application/vnd.jupyter.widget-view+json": {
       "model_id": "a9d6643f2fe145e0a49a4afa6daa0914",
       "version_major": 2,
       "version_minor": 0
      },
      "text/plain": [
       "Viewer(geometries=[{'vtkClass': 'vtkPolyData', 'points': {'vtkClass': 'vtkPoints', 'name': '_points', 'numberO…"
      ]
     },
     "metadata": {},
     "output_type": "display_data"
    }
   ],
   "source": [
    "view(geometries=grid)"
   ]
  },
  {
   "cell_type": "code",
   "execution_count": 71,
   "metadata": {},
   "outputs": [
    {
     "data": {
      "text/plain": [
       "1"
      ]
     },
     "execution_count": 71,
     "metadata": {},
     "output_type": "execute_result"
    }
   ],
   "source": [
    "grid.save(\"lala.vtk\",binary=False)"
   ]
  },
  {
   "cell_type": "code",
   "execution_count": null,
   "metadata": {},
   "outputs": [],
   "source": [
    "\n",
    "gridi = pv.UnstructuredGrid(offseti, cellsi, cell_typei, points, deep=True)"
   ]
  },
  {
   "cell_type": "code",
   "execution_count": null,
   "metadata": {},
   "outputs": [],
   "source": [
    "gridi"
   ]
  },
  {
   "cell_type": "code",
   "execution_count": 73,
   "metadata": {},
   "outputs": [],
   "source": [
    "A = np.zeros(3)\n",
    "B = np.full(7,3)"
   ]
  },
  {
   "cell_type": "code",
   "execution_count": 80,
   "metadata": {},
   "outputs": [
    {
     "data": {
      "text/plain": [
       "array([0., 0., 0., 3., 3., 3., 3., 3., 3., 3.])"
      ]
     },
     "execution_count": 80,
     "metadata": {},
     "output_type": "execute_result"
    }
   ],
   "source": [
    "np.concatenate((A,B),axis=None)"
   ]
  },
  {
   "cell_type": "code",
   "execution_count": null,
   "metadata": {},
   "outputs": [],
   "source": [
    "grid"
   ]
  },
  {
   "cell_type": "code",
   "execution_count": null,
   "metadata": {},
   "outputs": [],
   "source": [
    "\n",
    "\n",
    "vtk_pts = vtk.vtkPoints()\n",
    "vtk_pts.SetData(np_support.numpy_to_vtk(points,deep=1))\n",
    "\n",
    "vtk_grid = vtk.vtkUnstructuredGrid()\n",
    "\n",
    "vtk_grid.SetPoints(vtk_pts)\n",
    "\n",
    "\n",
    "vtk_grid.Allocate(ncells)\n",
    "\n",
    "for i in range(1):\n",
    "    \n",
    "    vtk_grid.InsertNextCell(cell_type[i], npoints_cell, cells[offset[i]:offset[i+1]])\n",
    "\n",
    "\n",
    "\n"
   ]
  },
  {
   "cell_type": "code",
   "execution_count": null,
   "metadata": {},
   "outputs": [],
   "source": [
    "vtk_grid.GetNumberOfCells()"
   ]
  },
  {
   "cell_type": "code",
   "execution_count": null,
   "metadata": {},
   "outputs": [],
   "source": [
    "view(geometries = vtk_grid, point_sets=[points])"
   ]
  },
  {
   "cell_type": "code",
   "execution_count": null,
   "metadata": {},
   "outputs": [],
   "source": []
  },
  {
   "cell_type": "code",
   "execution_count": null,
   "metadata": {},
   "outputs": [],
   "source": []
  },
  {
   "cell_type": "code",
   "execution_count": null,
   "metadata": {},
   "outputs": [],
   "source": [
    "grid = pv.UnstructuredGrid(offset, cells, cell_type, points)"
   ]
  },
  {
   "cell_type": "code",
   "execution_count": null,
   "metadata": {},
   "outputs": [],
   "source": []
  },
  {
   "cell_type": "code",
   "execution_count": null,
   "metadata": {},
   "outputs": [],
   "source": []
  },
  {
   "cell_type": "code",
   "execution_count": null,
   "metadata": {},
   "outputs": [],
   "source": [
    "view(geometries = gridi, point_sets=[points])"
   ]
  },
  {
   "cell_type": "code",
   "execution_count": null,
   "metadata": {},
   "outputs": [],
   "source": []
  },
  {
   "cell_type": "code",
   "execution_count": null,
   "metadata": {},
   "outputs": [],
   "source": [
    "view(geometries = grid, point_sets=[points], show_edges=True, cmap=\"Plasma (matplotlib)\")"
   ]
  },
  {
   "cell_type": "code",
   "execution_count": null,
   "metadata": {},
   "outputs": [],
   "source": [
    "points"
   ]
  },
  {
   "cell_type": "code",
   "execution_count": null,
   "metadata": {},
   "outputs": [],
   "source": [
    "\n",
    "grid = pv.UnstructuredGrid(offset, cells, cell_type, points)\n",
    "\n",
    "# view(geometries=grid, show_edges=True, cmap=\"Plasma (matplotlib)\")\n",
    "view(geometries = grid,point_sets=[points], show_edges=True, cmap=\"Plasma (matplotlib)\")\n"
   ]
  },
  {
   "cell_type": "code",
   "execution_count": null,
   "metadata": {},
   "outputs": [],
   "source": [
    "\n",
    "\n",
    "# offset array.  Identifies the start of each cell in the cells array\n",
    "offset = np.array([0, 9])\n",
    "\n",
    "# Contains information on the points composing each cell.\n",
    "# Each cell begins with the number of points in the cell and then the points\n",
    "# composing the cell\n",
    "cells = np.array([8, 0, 1, 2, 3, 4, 5, 6, 7, 8, 8, 9, 10, 11, 12, 13, 14, 15])\n",
    "\n",
    "# cell type array. Contains the cell type of each cell\n",
    "cell_type = np.array([vtk.VTK_HEXAHEDRON, vtk.VTK_HEXAHEDRON])\n",
    "\n",
    "cell1 = np.array(\n",
    "    [\n",
    "        [0, 0, 0],\n",
    "        [1, 0, 0],\n",
    "        [1, 1, 0],\n",
    "        [0, 1, 0],\n",
    "        [0, 0, 1],\n",
    "        [1, 0, 1],\n",
    "        [1, 1, 1],\n",
    "        [0, 1, 1],\n",
    "    ]\n",
    ")\n",
    "\n",
    "cell2 = np.array(\n",
    "    [\n",
    "        [0, 0, 2],\n",
    "        [1, 0, 2],\n",
    "        [1, 1, 2],\n",
    "        [0, 1, 2],\n",
    "        [0, 0, 3],\n",
    "        [1, 0, 3],\n",
    "        [1, 1, 3],\n",
    "        [0, 1, 3],\n",
    "    ]\n",
    ")\n",
    "\n",
    "# points of the cell array\n",
    "points = np.vstack((cell1, cell2))\n",
    "points = points.astype(np.float64)\n",
    "# create the unstructured grid directly from the numpy arrays\n",
    "grid = pv.UnstructuredGrid(offset, cells, cell_type, points)\n",
    "point_cloud = pv.PolyData(points)\n",
    "# plot the grid\n",
    "view(point_sets=[points], show_edges=False, cmap=\"Plasma (matplotlib)\")\n",
    "# grid.plot(show_edges=True)"
   ]
  },
  {
   "cell_type": "code",
   "execution_count": null,
   "metadata": {},
   "outputs": [],
   "source": [
    "cell_type.dtype"
   ]
  },
  {
   "cell_type": "code",
   "execution_count": null,
   "metadata": {},
   "outputs": [],
   "source": [
    "points.dtype"
   ]
  },
  {
   "cell_type": "code",
   "execution_count": null,
   "metadata": {},
   "outputs": [],
   "source": [
    "grid.points"
   ]
  },
  {
   "cell_type": "code",
   "execution_count": null,
   "metadata": {},
   "outputs": [],
   "source": []
  },
  {
   "cell_type": "code",
   "execution_count": null,
   "metadata": {},
   "outputs": [],
   "source": []
  },
  {
   "cell_type": "code",
   "execution_count": null,
   "metadata": {},
   "outputs": [],
   "source": []
  },
  {
   "cell_type": "code",
   "execution_count": null,
   "metadata": {},
   "outputs": [],
   "source": []
  },
  {
   "cell_type": "code",
   "execution_count": 84,
   "metadata": {},
   "outputs": [
    {
     "data": {
      "image/png": "[encoded data removed]",
      "text/plain": [
       "<PIL.Image.Image image mode=RGB size=1024x768 at 0x137A9DD68>"
      ]
     },
     "metadata": {},
     "output_type": "display_data"
    }
   ],
   "source": [
    "import pyvista as pv\n",
    "\n",
    "\n",
    "cyl = pv.Cylinder()\n",
    "arrow = pv.Arrow()\n",
    "sphere = pv.Sphere()\n",
    "plane = pv.Plane()\n",
    "line = pv.Line()\n",
    "box = pv.Box()\n",
    "cone = pv.Cone()\n",
    "poly = pv.Polygon()\n",
    "disc = pv.Disc()\n",
    "\n",
    "\n",
    "p = pv.Plotter(shape=(3, 3))\n",
    "\n",
    "# Top row\n",
    "p.subplot(0, 0)\n",
    "p.add_mesh(cyl, color=\"tan\", show_edges=True)\n",
    "p.subplot(0, 1)\n",
    "p.add_mesh(arrow, color=\"tan\", show_edges=True)\n",
    "p.subplot(0, 2)\n",
    "p.add_mesh(sphere, color=\"tan\", show_edges=True)\n",
    "\n",
    "# Middle row\n",
    "p.subplot(1, 0)\n",
    "p.add_mesh(plane, color=\"tan\", show_edges=True)\n",
    "p.subplot(1, 1)\n",
    "p.add_mesh(line, color=\"tan\", line_width=3)\n",
    "p.subplot(1, 2)\n",
    "p.add_mesh(box, color=\"tan\", show_edges=True)\n",
    "\n",
    "# Bottom row\n",
    "p.subplot(2, 0)\n",
    "p.add_mesh(cone, color=\"tan\", show_edges=True)\n",
    "p.subplot(2, 1)\n",
    "p.add_mesh(poly, color=\"tan\", show_edges=True)\n",
    "p.subplot(2, 2)\n",
    "p.add_mesh(disc, color=\"tan\", show_edges=True)\n",
    "\n",
    "# Render all of them\n",
    "# view(geometries = cone)\n",
    "p.show()"
   ]
  },
  {
   "cell_type": "code",
   "execution_count": 85,
   "metadata": {},
   "outputs": [
    {
     "data": {
      "text/plain": [
       "'0.22.1'"
      ]
     },
     "execution_count": 85,
     "metadata": {},
     "output_type": "execute_result"
    }
   ],
   "source": [
    "pv.__version__"
   ]
  },
  {
   "cell_type": "code",
   "execution_count": null,
   "metadata": {},
   "outputs": [],
   "source": []
  }
 ],
 "metadata": {
  "kernelspec": {
   "display_name": "Python 3",
   "language": "python",
   "name": "python3"
  },
  "language_info": {
   "codemirror_mode": {
    "name": "ipython",
    "version": 3
   },
   "file_extension": ".py",
   "mimetype": "text/x-python",
   "name": "python",
   "nbconvert_exporter": "python",
   "pygments_lexer": "ipython3",
   "version": "3.6.8"
  }
 },
 "nbformat": 4,
 "nbformat_minor": 2
}
