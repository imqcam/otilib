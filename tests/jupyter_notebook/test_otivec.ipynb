{
 "cells": [
  {
   "cell_type": "code",
   "execution_count": 1,
   "metadata": {
    "collapsed": true,
    "deletable": true,
    "editable": true
   },
   "outputs": [],
   "source": [
    "import spr_otilib as dn\n",
    "e= dn.e\n",
    "np = dn.np"
   ]
  },
  {
   "cell_type": "code",
   "execution_count": 2,
   "metadata": {
    "collapsed": false,
    "deletable": true,
    "editable": true
   },
   "outputs": [
    {
     "data": {
      "text/plain": [
       "spr_otinum([], [], 1)"
      ]
     },
     "execution_count": 2,
     "metadata": {},
     "output_type": "execute_result"
    }
   ],
   "source": [
    "a = 0*e(1) # 2 + 3*e([1,2]) + 20*e([1,3])\n",
    "a"
   ]
  },
  {
   "cell_type": "code",
   "execution_count": 3,
   "metadata": {
    "collapsed": false,
    "deletable": true,
    "editable": true
   },
   "outputs": [],
   "source": [
    "b = 0*e(1)#10 + 5*e([1,3])\n"
   ]
  },
  {
   "cell_type": "code",
   "execution_count": 4,
   "metadata": {
    "collapsed": false,
    "deletable": true,
    "editable": true
   },
   "outputs": [
    {
     "name": "stdout",
     "output_type": "stream",
     "text": [
      "[spr_otinum([], [], 1) spr_otinum([], [], 1)]\n"
     ]
    }
   ],
   "source": [
    "A = np.array([a,b],dtype = dn.spr_otinum)\n",
    "print(A)"
   ]
  },
  {
   "cell_type": "code",
   "execution_count": 7,
   "metadata": {
    "collapsed": false,
    "deletable": true,
    "editable": true
   },
   "outputs": [],
   "source": [
    "A_oti = dn.otivec(A,m=1)"
   ]
  },
  {
   "cell_type": "code",
   "execution_count": 8,
   "metadata": {
    "collapsed": false,
    "deletable": true,
    "editable": true
   },
   "outputs": [
    {
     "name": "stdout",
     "output_type": "stream",
     "text": [
      "(2, 2)\n",
      "[[ 0.  0.]\n",
      " [ 0.  0.]]\n"
     ]
    }
   ],
   "source": [
    "print(A_oti.coefs.shape)\n",
    "print(np.array(A_oti.coefs))\n"
   ]
  },
  {
   "cell_type": "code",
   "execution_count": 7,
   "metadata": {
    "collapsed": false,
    "deletable": true,
    "editable": true
   },
   "outputs": [],
   "source": [
    "A_oti_p = dn.otivec(A_oti.coefs,m =A_oti.m,order = A_oti.maxorder)"
   ]
  },
  {
   "cell_type": "code",
   "execution_count": 8,
   "metadata": {
    "collapsed": false,
    "deletable": true,
    "editable": true
   },
   "outputs": [
    {
     "data": {
      "text/plain": [
       "(2, 10)"
      ]
     },
     "execution_count": 8,
     "metadata": {},
     "output_type": "execute_result"
    }
   ],
   "source": [
    "A_oti_p.coefs.shape"
   ]
  },
  {
   "cell_type": "code",
   "execution_count": 9,
   "metadata": {
    "collapsed": false,
    "deletable": true,
    "editable": true
   },
   "outputs": [
    {
     "data": {
      "text/plain": [
       "< otivec with  2 oti numbers of order 2 and 3 basis >"
      ]
     },
     "execution_count": 9,
     "metadata": {},
     "output_type": "execute_result"
    }
   ],
   "source": [
    "A_oti_p"
   ]
  },
  {
   "cell_type": "code",
   "execution_count": 10,
   "metadata": {
    "collapsed": false,
    "deletable": true,
    "editable": true
   },
   "outputs": [
    {
     "name": "stdout",
     "output_type": "stream",
     "text": [
      "[  2.0 + 3.0 * e([1,2]) + 20.0 * e([1,3]) ,\n",
      "  10.0 + 5.0 * e([1,3]) ]\n"
     ]
    }
   ],
   "source": [
    "print(A_oti_p)"
   ]
  },
  {
   "cell_type": "code",
   "execution_count": 11,
   "metadata": {
    "collapsed": false,
    "deletable": true,
    "editable": true
   },
   "outputs": [
    {
     "name": "stdout",
     "output_type": "stream",
     "text": [
      "[ 20.   5.]\n"
     ]
    }
   ],
   "source": [
    "\n",
    "print(np.array(A_oti_p.getDual([1,3])))\n",
    "\n",
    "#dn.h.findIndx(np.array([1,3],dtype = np.uint16),np.array([1,1],dtype = np.uint16),np.uint8(2))"
   ]
  },
  {
   "cell_type": "code",
   "execution_count": 12,
   "metadata": {
    "collapsed": false,
    "deletable": true,
    "editable": true
   },
   "outputs": [
    {
     "name": "stdout",
     "output_type": "stream",
     "text": [
      "[  2.0 + 3.0 * e([1,2]) + 3.0 * e([[2,2]]) + 20.0 * e([1,3]) ,\n",
      "  10.0 + 4.0 * e([[2,2]]) + 5.0 * e([1,3]) ]\n"
     ]
    }
   ],
   "source": [
    "A_oti_p.setDual([[2,2]],np.array([3,4],dtype = np.float64))\n",
    "\n",
    "print(A_oti_p)"
   ]
  },
  {
   "cell_type": "code",
   "execution_count": 13,
   "metadata": {
    "collapsed": false,
    "deletable": true,
    "editable": true
   },
   "outputs": [
    {
     "data": {
      "text/plain": [
       "array([ 6.,  8.])"
      ]
     },
     "execution_count": 13,
     "metadata": {},
     "output_type": "execute_result"
    }
   ],
   "source": [
    "np.array(A_oti_p.getDeriv([[2,2]]))"
   ]
  },
  {
   "cell_type": "code",
   "execution_count": 14,
   "metadata": {
    "collapsed": false,
    "deletable": true,
    "editable": true
   },
   "outputs": [
    {
     "data": {
      "text/plain": [
       "array([ 1,  2,  3,  4, 45])"
      ]
     },
     "execution_count": 14,
     "metadata": {},
     "output_type": "execute_result"
    }
   ],
   "source": [
    "np.array((1,2,3,4,45))"
   ]
  },
  {
   "cell_type": "code",
   "execution_count": 15,
   "metadata": {
    "collapsed": false,
    "deletable": true,
    "editable": true
   },
   "outputs": [
    {
     "name": "stdout",
     "output_type": "stream",
     "text": [
      "[[spr_otinum([0,4,7], [2.,3.,20.], 2) 0.0]\n",
      " [0.0 0.0]]\n"
     ]
    }
   ],
   "source": [
    "B = np.zeros((2,2)).astype(dn.spr_otinum)\n",
    "B[0,0] = a\n",
    "print(B)"
   ]
  },
  {
   "cell_type": "code",
   "execution_count": null,
   "metadata": {
    "collapsed": true,
    "deletable": true,
    "editable": true
   },
   "outputs": [],
   "source": []
  },
  {
   "cell_type": "code",
   "execution_count": 24,
   "metadata": {
    "collapsed": false,
    "deletable": true,
    "editable": true
   },
   "outputs": [],
   "source": [
    "A = dn.otimat((2,2),A_oti.m,A_oti.maxorder,2)"
   ]
  },
  {
   "cell_type": "code",
   "execution_count": 25,
   "metadata": {
    "collapsed": false,
    "deletable": true,
    "editable": true
   },
   "outputs": [
    {
     "data": {
      "text/plain": [
       "< otimat of shape (2,2) with oti numbers of order 2 and 3 basis >"
      ]
     },
     "execution_count": 25,
     "metadata": {},
     "output_type": "execute_result"
    }
   ],
   "source": [
    "A"
   ]
  },
  {
   "cell_type": "code",
   "execution_count": 26,
   "metadata": {
    "collapsed": false,
    "deletable": true,
    "editable": true
   },
   "outputs": [
    {
     "name": "stdout",
     "output_type": "stream",
     "text": [
      "< otimat of shape (2,2) with oti numbers of order 2 and 3 basis: \n",
      "[  <2x2 sparse matrix of type '<class 'numpy.float64'>'\n",
      "\twith 0 stored elements in LInked List format>,\n",
      "  <2x2 sparse matrix of type '<class 'numpy.float64'>'\n",
      "\twith 0 stored elements in LInked List format>,\n",
      "  <2x2 sparse matrix of type '<class 'numpy.float64'>'\n",
      "\twith 0 stored elements in LInked List format>,\n",
      "  <2x2 sparse matrix of type '<class 'numpy.float64'>'\n",
      "\twith 0 stored elements in LInked List format>,\n",
      "  <2x2 sparse matrix of type '<class 'numpy.float64'>'\n",
      "\twith 0 stored elements in LInked List format>,\n",
      "  <2x2 sparse matrix of type '<class 'numpy.float64'>'\n",
      "\twith 0 stored elements in LInked List format>,\n",
      "  <2x2 sparse matrix of type '<class 'numpy.float64'>'\n",
      "\twith 0 stored elements in LInked List format>,\n",
      "  <2x2 sparse matrix of type '<class 'numpy.float64'>'\n",
      "\twith 0 stored elements in LInked List format>,\n",
      "  <2x2 sparse matrix of type '<class 'numpy.float64'>'\n",
      "\twith 0 stored elements in LInked List format>,\n",
      "  <2x2 sparse matrix of type '<class 'numpy.float64'>'\n",
      "\twith 0 stored elements in LInked List format>] >\n"
     ]
    }
   ],
   "source": [
    "print(A)"
   ]
  },
  {
   "cell_type": "code",
   "execution_count": 27,
   "metadata": {
    "collapsed": false,
    "deletable": true,
    "editable": true
   },
   "outputs": [],
   "source": [
    "A[1,1] = A_oti_p[1]\n",
    "A[0,0] = A_oti_p[0]"
   ]
  },
  {
   "cell_type": "code",
   "execution_count": 28,
   "metadata": {
    "collapsed": false,
    "deletable": true,
    "editable": true
   },
   "outputs": [
    {
     "name": "stdout",
     "output_type": "stream",
     "text": [
      "< otimat of shape (2,2) with oti numbers of order 2 and 3 basis: \n",
      "[  <2x2 sparse matrix of type '<class 'numpy.float64'>'\n",
      "\twith 2 stored elements in LInked List format>,\n",
      "  <2x2 sparse matrix of type '<class 'numpy.float64'>'\n",
      "\twith 0 stored elements in LInked List format>,\n",
      "  <2x2 sparse matrix of type '<class 'numpy.float64'>'\n",
      "\twith 0 stored elements in LInked List format>,\n",
      "  <2x2 sparse matrix of type '<class 'numpy.float64'>'\n",
      "\twith 0 stored elements in LInked List format>,\n",
      "  <2x2 sparse matrix of type '<class 'numpy.float64'>'\n",
      "\twith 1 stored elements in LInked List format>,\n",
      "  <2x2 sparse matrix of type '<class 'numpy.float64'>'\n",
      "\twith 2 stored elements in LInked List format>,\n",
      "  <2x2 sparse matrix of type '<class 'numpy.float64'>'\n",
      "\twith 0 stored elements in LInked List format>,\n",
      "  <2x2 sparse matrix of type '<class 'numpy.float64'>'\n",
      "\twith 2 stored elements in LInked List format>,\n",
      "  <2x2 sparse matrix of type '<class 'numpy.float64'>'\n",
      "\twith 0 stored elements in LInked List format>,\n",
      "  <2x2 sparse matrix of type '<class 'numpy.float64'>'\n",
      "\twith 0 stored elements in LInked List format>] >\n"
     ]
    }
   ],
   "source": [
    "print(A)"
   ]
  },
  {
   "cell_type": "code",
   "execution_count": 29,
   "metadata": {
    "collapsed": false,
    "deletable": true,
    "editable": true
   },
   "outputs": [
    {
     "name": "stdout",
     "output_type": "stream",
     "text": [
      "10\n",
      " \n",
      "[[  2.   0.]\n",
      " [  0.  10.]]\n",
      " \n",
      "[[ 0.  0.]\n",
      " [ 0.  0.]]\n",
      " \n",
      "[[ 0.  0.]\n",
      " [ 0.  0.]]\n",
      " \n",
      "[[ 0.  0.]\n",
      " [ 0.  0.]]\n",
      " \n",
      "[[ 3.  0.]\n",
      " [ 0.  0.]]\n",
      " \n",
      "[[ 3.  0.]\n",
      " [ 0.  4.]]\n",
      " \n",
      "[[ 0.  0.]\n",
      " [ 0.  0.]]\n",
      " \n",
      "[[ 20.   0.]\n",
      " [  0.   5.]]\n",
      " \n",
      "[[ 0.  0.]\n",
      " [ 0.  0.]]\n",
      " \n",
      "[[ 0.  0.]\n",
      " [ 0.  0.]]\n",
      " \n"
     ]
    }
   ],
   "source": [
    "print(A.ndir)\n",
    "print(\" \")\n",
    "\n",
    "for i in range(A.ndir):\n",
    "    print(A[i].toarray())\n",
    "    print(\" \")\n"
   ]
  },
  {
   "cell_type": "code",
   "execution_count": null,
   "metadata": {
    "collapsed": true,
    "deletable": true,
    "editable": true
   },
   "outputs": [],
   "source": []
  },
  {
   "cell_type": "code",
   "execution_count": null,
   "metadata": {
    "collapsed": true,
    "deletable": true,
    "editable": true
   },
   "outputs": [],
   "source": []
  },
  {
   "cell_type": "code",
   "execution_count": null,
   "metadata": {
    "collapsed": true,
    "deletable": true,
    "editable": true
   },
   "outputs": [],
   "source": []
  },
  {
   "cell_type": "code",
   "execution_count": null,
   "metadata": {
    "collapsed": true,
    "deletable": true,
    "editable": true
   },
   "outputs": [],
   "source": []
  },
  {
   "cell_type": "code",
   "execution_count": null,
   "metadata": {
    "collapsed": true,
    "deletable": true,
    "editable": true
   },
   "outputs": [],
   "source": [
    "class myTestClass:\n",
    "    def __init__(self):\n",
    "        self.j = 0\n",
    "    def __getitem__(self,index):\n",
    "        print(index)\n",
    "        print(type(index))\n",
    "        print(type(index) == slice)\n",
    "        "
   ]
  },
  {
   "cell_type": "code",
   "execution_count": null,
   "metadata": {
    "collapsed": false,
    "deletable": true,
    "editable": true
   },
   "outputs": [],
   "source": [
    "a = myTestClass()\n",
    "a[b]"
   ]
  },
  {
   "cell_type": "code",
   "execution_count": null,
   "metadata": {
    "collapsed": false,
    "deletable": true,
    "editable": true
   },
   "outputs": [],
   "source": [
    "b*0"
   ]
  },
  {
   "cell_type": "code",
   "execution_count": null,
   "metadata": {
    "collapsed": false,
    "deletable": true,
    "editable": true
   },
   "outputs": [],
   "source": [
    "str(dn.spr.coo_matrix((3,4)))"
   ]
  },
  {
   "cell_type": "code",
   "execution_count": null,
   "metadata": {
    "collapsed": false,
    "deletable": true,
    "editable": true
   },
   "outputs": [],
   "source": [
    "m = 6\n",
    "n = 3\n",
    "dn.comb(m+n,m,exact = True)"
   ]
  }
 ],
 "metadata": {
  "kernelspec": {
   "display_name": "Python 3",
   "language": "python",
   "name": "python3"
  },
  "language_info": {
   "codemirror_mode": {
    "name": "ipython",
    "version": 3
   },
   "file_extension": ".py",
   "mimetype": "text/x-python",
   "name": "python",
   "nbconvert_exporter": "python",
   "pygments_lexer": "ipython3",
   "version": "3.6.0"
  }
 },
 "nbformat": 4,
 "nbformat_minor": 2
}
