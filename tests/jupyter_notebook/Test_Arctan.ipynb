{
 "cells": [
  {
   "cell_type": "code",
   "execution_count": 4,
   "metadata": {
    "collapsed": true
   },
   "outputs": [],
   "source": [
    "import spr_otilib as oti\n",
    "\n",
    "np = oti.np\n",
    "e = oti.e"
   ]
  },
  {
   "cell_type": "code",
   "execution_count": 5,
   "metadata": {
    "collapsed": false
   },
   "outputs": [],
   "source": [
    "order = 3\n",
    "\n",
    "x1 = 1+e(1)\n",
    "x1.changeOrder(order)\n",
    "y1 = 2+e(2)\n",
    "y1.changeOrder(order)"
   ]
  },
  {
   "cell_type": "code",
   "execution_count": 6,
   "metadata": {
    "collapsed": false,
    "scrolled": true
   },
   "outputs": [
    {
     "name": "stdout",
     "output_type": "stream",
     "text": [
      "0.5 + 0.5 * e([1]) - 0.25 * e([2]) - 0.25 * e([1,2]) + 0.125 * e([[2,2]]) + 0.125 * e([1,[2,2]]) - 0.0625 * e([[2,3]]) \n"
     ]
    }
   ],
   "source": [
    "print((x1)/(y1))"
   ]
  },
  {
   "cell_type": "code",
   "execution_count": 7,
   "metadata": {
    "collapsed": false
   },
   "outputs": [
    {
     "name": "stdout",
     "output_type": "stream",
     "text": [
      "0.5 + 0.5 * e([1]) - 0.25 * e([2]) - 0.25 * e([1,2]) + 0.125 * e([[2,2]]) + 0.125 * e([1,[2,2]]) - 0.0625 * e([[2,3]]) \n"
     ]
    }
   ],
   "source": [
    "print((-x1)/(-y1))"
   ]
  },
  {
   "cell_type": "code",
   "execution_count": 8,
   "metadata": {
    "collapsed": false
   },
   "outputs": [
    {
     "name": "stdout",
     "output_type": "stream",
     "text": [
      "- 0.5 - 0.5 * e([1]) + 0.25 * e([2]) + 0.25 * e([1,2]) - 0.125 * e([[2,2]]) - 0.125 * e([1,[2,2]]) + 0.0625 * e([[2,3]]) \n"
     ]
    }
   ],
   "source": [
    "print((-x1)/(y1))"
   ]
  },
  {
   "cell_type": "code",
   "execution_count": 9,
   "metadata": {
    "collapsed": false,
    "scrolled": true
   },
   "outputs": [
    {
     "name": "stdout",
     "output_type": "stream",
     "text": [
      "- 0.5 - 0.5 * e([1]) + 0.25 * e([2]) + 0.25 * e([1,2]) - 0.125 * e([[2,2]]) - 0.125 * e([1,[2,2]]) + 0.0625 * e([[2,3]]) \n"
     ]
    }
   ],
   "source": [
    "print((x1)/(-y1))"
   ]
  },
  {
   "cell_type": "code",
   "execution_count": 10,
   "metadata": {
    "collapsed": true
   },
   "outputs": [],
   "source": [
    "x2_ = 1+e(1)\n",
    "x2_.changeOrder(order)\n",
    "y2_ = -2-e(2)\n",
    "y2_.changeOrder(order)\n",
    "\n",
    "x2 = -1-e(1)\n",
    "x2.changeOrder(order)\n",
    "y2 = 2+e(2)\n",
    "y2.changeOrder(order)"
   ]
  },
  {
   "cell_type": "code",
   "execution_count": 11,
   "metadata": {
    "collapsed": false
   },
   "outputs": [
    {
     "name": "stdout",
     "output_type": "stream",
     "text": [
      "- 0.5 - 0.5 * e([1]) + 0.25 * e([2]) + 0.25 * e([1,2]) - 0.125 * e([[2,2]]) - 0.125 * e([1,[2,2]]) + 0.0625 * e([[2,3]]) \n"
     ]
    }
   ],
   "source": [
    "print(x2_/y2_)"
   ]
  },
  {
   "cell_type": "code",
   "execution_count": 12,
   "metadata": {
    "collapsed": false
   },
   "outputs": [
    {
     "name": "stdout",
     "output_type": "stream",
     "text": [
      "- 0.5 - 0.5 * e([1]) + 0.25 * e([2]) + 0.25 * e([1,2]) - 0.125 * e([[2,2]]) - 0.125 * e([1,[2,2]]) + 0.0625 * e([[2,3]]) \n"
     ]
    }
   ],
   "source": [
    "print(x2/y2)"
   ]
  }
 ],
 "metadata": {
  "kernelspec": {
   "display_name": "Python 3",
   "language": "python",
   "name": "python3"
  },
  "language_info": {
   "codemirror_mode": {
    "name": "ipython",
    "version": 3
   },
   "file_extension": ".py",
   "mimetype": "text/x-python",
   "name": "python",
   "nbconvert_exporter": "python",
   "pygments_lexer": "ipython3",
   "version": "3.6.0"
  }
 },
 "nbformat": 4,
 "nbformat_minor": 2
}
