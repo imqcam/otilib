{
 "cells": [
  {
   "cell_type": "markdown",
   "metadata": {},
   "source": [
    "# Slider-crank mechanism.\n",
    "```\n",
    "Authors:\n",
    "\n",
    "Manuel Julio García Ruiz, PhD\n",
    "Angelo State University\n",
    "\n",
    "Mauricio Aristizabal Cano\n",
    "Univerisidad EAFIT\n",
    "```\n",
    "## Introduction\n",
    "\n",
    "This document presents an application of OTI numbers to compute velocity, accelerations and general time derivatives of mechanisms. The concept consists in exploiting the capacity of OTI numbers to compute high-order derivatives, as it is used to compute time-derivatives of first (velocity), second (acceleration) and third (jerk) order.\n",
    "\n",
    "This exercise is based on examples 4.11, 6.18 and 7.12 from [1]. In this case the goal is to perform a kinetic analysis to the compressor slider-crank mechanism as in the next figure.\n",
    "\n",
    "[1] Myszka, David H. Machines and mechanisms. Prentice Hall, 2004.|\n",
    "\n",
    "<img src=\"imgs/compressor.png\" alt=\"Compressor prob 4.11\" style=\"width: 500px;\">\n",
    "\n",
    "Performing a simplification of the mechanism leads to the following kinematic diagram\n",
    "\n",
    "<img src=\"imgs/compressor-kin-diag.png\" alt=\"Compressor kinematic diagram\" style=\"width: 500px;\">\n",
    "\n",
    "which shows that this mechanism is indeed an inline slider-crank mechanism, which in general has the following characteristics:\n",
    "\n",
    "<img src=\"imgs/slider-crank.png\" alt=\"Slider crank\" style=\"width: 400px;\">\n",
    "\n",
    "## Problem definition.\n",
    "\n",
    "The goal is to compute the derivatives of the different variables with respect to time. As such, we need first to import the corresponding libraries, in this case: ```pyoti``` (for OTI numbers support) as well as ```matplolib``` (for plotting).\n",
    "\n",
    "Note that importing ```pyplot``` already imports ```numpy```."
   ]
  },
  {
   "cell_type": "code",
   "execution_count": 1,
   "metadata": {},
   "outputs": [],
   "source": [
    "# 1. SET GLOBAL PATH \n",
    "import sys\n",
    "path2oti = '../../../build/'\n",
    "sys.path.append(path2oti) # Add path to OTI library.\n",
    "\n",
    "\n",
    "import  pyoti.sparse as oti\n",
    "np  = oti.np\n",
    "eps = oti.e\n",
    "\n",
    "# %matplotlib notebook\n",
    "%matplotlib widget\n",
    "# %matplotlib inline\n",
    "import matplotlib.pyplot as plt"
   ]
  },
  {
   "cell_type": "markdown",
   "metadata": {},
   "source": [
    "Next, we define the different variables. We are going to analyze the problem where L2 = 0.75, L3 = 2.00. Bar L2 retates at a *constant* angular speed of $\\omega_2=1750\\mbox{ rpm}$. We obviously convert rpm to rad/s, as shown below."
   ]
  },
  {
   "cell_type": "code",
   "execution_count": 2,
   "metadata": {},
   "outputs": [],
   "source": [
    "L1 = 0.00\n",
    "L2 = 0.75\n",
    "L3 = 2.00\n",
    "\n",
    "w  = 1750 #rpm\n",
    "\n",
    "# convert rpm to rad/s \n",
    "omega2 = w * 2 * np.pi / 60.0 \n",
    "\n",
    "alpha2 = 0.0"
   ]
  },
  {
   "cell_type": "markdown",
   "metadata": {},
   "source": [
    "Now, lets compute $\\omega_2$. As we know, the angular speed $\\omega_2$ is constant. Therefore, we know that\n",
    "\n",
    "$$\n",
    "\\frac{d\\theta_2}{dt} = \\omega_2\n",
    "$$\n",
    "\n",
    "therefore, we know that using OTI algebra, the correct way to express this is\n",
    "\n",
    "$$\n",
    "\\theta_2 ^* = \\theta_2(t)+\\frac{d\\theta_2}{dt}\\epsilon_1\n",
    "$$\n"
   ]
  },
  {
   "cell_type": "code",
   "execution_count": 3,
   "metadata": {},
   "outputs": [],
   "source": [
    "n = 100\n",
    "theta2_r=np.linspace(0,2*np.pi,n) \n",
    "\n",
    "dT = 2 * np.pi / (n-1)\n",
    "dt = dT / omega2\n",
    "\n",
    "# Define all time evaluation points.\n",
    "time = np.arange(0,dt*n,dt)\n",
    "t = time + eps(1,order = 3)\n",
    "theta2 = omega2*t\n",
    "# theta2  =theta2_r + omega2*eps(1,order=2)"
   ]
  },
  {
   "cell_type": "markdown",
   "metadata": {},
   "source": [
    "Now, using the equations of the inline slider crank mechanism, it is possible to compute the angles $\\theta_3$ and $\\gamma$ as follows\n",
    "\n",
    "$$\n",
    "\\theta_3 = \\arcsin{\\left[ \\frac{L2}{L3}\\; \\sin\\left(\\theta_2\\right)\\right]}\n",
    "$$\n",
    "\n",
    "$$\n",
    "\\gamma = \\pi -(\\theta_2+\\theta_3)\n",
    "$$\n"
   ]
  },
  {
   "cell_type": "code",
   "execution_count": 4,
   "metadata": {},
   "outputs": [],
   "source": [
    "theta3 = np.arcsin( (L2/L3)*np.sin(theta2) )\n",
    "gamma  = np.pi - ( theta2 + theta3 )\n",
    "# theta3\n",
    "# gamma"
   ]
  },
  {
   "cell_type": "markdown",
   "metadata": {},
   "source": [
    "And now the distance L4 is calculated for all times as\n",
    "\n",
    "$$\n",
    "L4 = \\sqrt{L2^2+L3^2-2\\;L2\\;L3\\cos{(\\gamma)}}\n",
    "$$"
   ]
  },
  {
   "cell_type": "code",
   "execution_count": 5,
   "metadata": {},
   "outputs": [],
   "source": [
    "# L4 = - (np.sqrt(L2**2 +L3**2 - 2*(L2) *(L3)* np.cos(gamma))-(L2+L3))\n",
    "L4 = np.sqrt( L2**2 + L3**2 - 2*L2*L3*np.cos(gamma) )\n",
    "# L4"
   ]
  },
  {
   "cell_type": "markdown",
   "metadata": {},
   "source": [
    "Finally, the derivatives are extracted as follows:\n",
    "\n",
    "$$\n",
    "\\frac{dL4}{dt} = \\mbox{Im}_{\\epsilon_1}\\left[ L4^* \\right]\n",
    "$$\n",
    "\n",
    "$$\n",
    "\\frac{d^2L4}{dt^2} = 2\\;\\mbox{Im}_{\\epsilon_1^2}\\left[ L4^* \\right]\n",
    "$$\n",
    "\n",
    "$$\n",
    "\\frac{d^3L4}{dt^3} = 6\\;\\mbox{Im}_{\\epsilon_1^3}\\left[ L4^* \\right]\n",
    "$$\n",
    "\n",
    "This is done with the use of the use of the method ```sotinum.get_deriv``` from the ```pyoti``` library."
   ]
  },
  {
   "cell_type": "code",
   "execution_count": 6,
   "metadata": {},
   "outputs": [],
   "source": [
    "L4_vel   = oti.get_deriv( L4, [1]    )\n",
    "L4_accel = oti.get_deriv( L4, [1,1]  )\n",
    "L4_jerk  = oti.get_deriv( L4, [1,1,1])\n",
    "\n",
    "theta3_vel   = oti.get_deriv(theta3,[1]    )\n",
    "theta3_accel = oti.get_deriv(theta3,[1,1]  )\n",
    "theta3_jerk  = oti.get_deriv(theta3,[1,1,1])"
   ]
  },
  {
   "cell_type": "markdown",
   "metadata": {},
   "source": [
    "## Analytic solutions\n",
    "\n",
    "The analytic solutions of the slider-crank mechanism are the following:\n",
    "\n",
    "$$\n",
    "\\omega_3 = \\omega_2\\frac{L2\\cos{(\\theta_2)}}{L3\\cos{(\\theta_3)}}\n",
    "$$\n",
    "\n",
    "$$\n",
    "v_4 = -\\omega_2\\;L2\\;\\sin{(\\theta_2)} -\\omega_3\\;L3\\;\\sin{(\\theta_3)}\n",
    "$$\n",
    "\n",
    "the accelerations are the following\n",
    "\n",
    "$$\n",
    "\\alpha_3 = \\frac{\\alpha_2\\;L2\\;\\cos{(\\theta_2)} +\\omega_3^2\\;L3\\sin{(\\theta_3)} - \\omega_2^2\\;L2\\sin{(\\theta_2)}}{L3\\cos{(\\theta_3)}}\n",
    "$$\n",
    "\n",
    "$$\n",
    "a_4 = -\\alpha_2\\;L2\\;\\sin{(\\theta_2)} -\\alpha_3\\;L3\\;\\sin{(\\theta_3)}\n",
    " -\\omega_2^2\\;L2\\;\\cos{(\\theta_2)}  -\\omega_3^2\\;L3\\;\\cos{(\\theta_3)} \n",
    "$$"
   ]
  },
  {
   "cell_type": "code",
   "execution_count": 7,
   "metadata": {},
   "outputs": [],
   "source": [
    "# Computation of analytic solutions:\n",
    "theta3_r = np.arcsin((L1+L2*np.sin(theta2_r))/(L3))\n",
    "\n",
    "L4_r     = L2*np.cos(theta2_r)+L3*np.cos(theta3_r)\n",
    "\n",
    "omega3   = omega2*(L2*np.cos(theta2_r)/(L3*np.cos(theta3_r)))\n",
    "\n",
    "v4       = -omega2*L2*np.sin(theta2_r)-omega3*L3*np.sin(theta3_r)\n",
    "\n",
    "alpha3   = (-omega2**2*L2*np.sin(theta2_r) +\n",
    "            omega3**2*L3*np.sin(theta3_r) +\n",
    "            alpha2*L2*np.cos(theta2_r) )/(L3*np.cos(theta3_r))\n",
    "\n",
    "alpha4   = -alpha2*L2*np.sin(theta2_r)-alpha3*L3*np.sin(theta3_r)-omega2**2*L2*np.cos(theta2_r)-omega3**2*L3*np.cos(theta3_r)"
   ]
  },
  {
   "cell_type": "code",
   "execution_count": 8,
   "metadata": {},
   "outputs": [
    {
     "data": {
      "application/vnd.jupyter.widget-view+json": {
       "model_id": "0082912870cf432d91f796904044e61a",
       "version_major": 2,
       "version_minor": 0
      },
      "text/plain": [
       "Canvas(toolbar=Toolbar(toolitems=[('Home', 'Reset original view', 'home', 'home'), ('Back', 'Back to previous …"
      ]
     },
     "metadata": {},
     "output_type": "display_data"
    }
   ],
   "source": [
    "plt.figure()\n",
    "plt.plot(time,omega3,'.',label=\"theta3 vel (Analytic)\")\n",
    "plt.plot(time,theta3_vel,label=\"theta3 vel\")\n",
    "plt.legend(bbox_to_anchor=(1, 1),loc=1)\n",
    "plt.grid()\n",
    "plt.show()"
   ]
  },
  {
   "cell_type": "code",
   "execution_count": 9,
   "metadata": {},
   "outputs": [
    {
     "data": {
      "application/vnd.jupyter.widget-view+json": {
       "model_id": "99dab12098874e9a9209464e4c3689b6",
       "version_major": 2,
       "version_minor": 0
      },
      "text/plain": [
       "Canvas(toolbar=Toolbar(toolitems=[('Home', 'Reset original view', 'home', 'home'), ('Back', 'Back to previous …"
      ]
     },
     "metadata": {},
     "output_type": "display_data"
    }
   ],
   "source": [
    "plt.figure()\n",
    "plt.plot(time,alpha3,'.',label=\"theta3 accel (Analytic)\")\n",
    "plt.plot(time,theta3_accel,label=\"theta3 accel\")\n",
    "plt.legend(bbox_to_anchor=(1, 1),loc=1)\n",
    "plt.grid()\n",
    "plt.show()"
   ]
  },
  {
   "cell_type": "code",
   "execution_count": null,
   "metadata": {},
   "outputs": [],
   "source": [
    "plt.figure()\n",
    "plt.plot(time,v4,'.',label=\"L4 vel (Analytic)\")\n",
    "plt.plot(time,L4_vel,label=\"L4 vel\")\n",
    "plt.legend(bbox_to_anchor=(1, 1),loc=1)\n",
    "plt.grid()\n",
    "plt.show()"
   ]
  },
  {
   "cell_type": "code",
   "execution_count": null,
   "metadata": {},
   "outputs": [],
   "source": [
    "plt.figure()\n",
    "plt.loglog(time,np.abs((v4-L4_vel+1e-15)/(v4+1e-15)),label=\"L4 vel error\")\n",
    "plt.legend(bbox_to_anchor=(1, 1),loc=1)\n",
    "plt.grid()\n",
    "plt.show()"
   ]
  },
  {
   "cell_type": "code",
   "execution_count": null,
   "metadata": {},
   "outputs": [],
   "source": [
    "plt.figure()\n",
    "plt.plot(time,alpha4,'.',label=\"a4 (Analytic)\")\n",
    "plt.plot(time,L4_accel,label=\"L4 accel\")\n",
    "plt.legend(bbox_to_anchor=(1, 1),loc=1)\n",
    "plt.grid()\n",
    "plt.show()"
   ]
  },
  {
   "cell_type": "code",
   "execution_count": null,
   "metadata": {},
   "outputs": [],
   "source": [
    "plt.figure()\n",
    "plt.loglog(time,np.abs((alpha4-L4_accel+1e-15)/(alpha4+1e-15)),label=\"L4 accel error\")\n",
    "plt.legend(bbox_to_anchor=(1, 1),loc=1)\n",
    "plt.grid()\n",
    "plt.show()"
   ]
  },
  {
   "cell_type": "code",
   "execution_count": null,
   "metadata": {},
   "outputs": [],
   "source": [
    "plt.figure()\n",
    "plt.plot(time,L4_jerk,label=\"L4 jerk\")\n",
    "plt.legend(bbox_to_anchor=(1, 1),loc=1)\n",
    "plt.grid()\n",
    "plt.show()"
   ]
  },
  {
   "cell_type": "code",
   "execution_count": null,
   "metadata": {},
   "outputs": [],
   "source": []
  }
 ],
 "metadata": {
  "kernelspec": {
   "display_name": "Python 3",
   "language": "python",
   "name": "python3"
  },
  "language_info": {
   "codemirror_mode": {
    "name": "ipython",
    "version": 3
   },
   "file_extension": ".py",
   "mimetype": "text/x-python",
   "name": "python",
   "nbconvert_exporter": "python",
   "pygments_lexer": "ipython3",
   "version": "3.7.3"
  }
 },
 "nbformat": 4,
 "nbformat_minor": 4
}
