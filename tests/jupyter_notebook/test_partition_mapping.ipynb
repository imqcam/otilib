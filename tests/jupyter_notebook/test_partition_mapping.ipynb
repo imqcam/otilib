{
 "cells": [
  {
   "cell_type": "code",
   "execution_count": 1,
   "metadata": {
    "collapsed": true
   },
   "outputs": [],
   "source": [
    "from partitionsets import partition"
   ]
  },
  {
   "cell_type": "code",
   "execution_count": 2,
   "metadata": {
    "collapsed": true
   },
   "outputs": [],
   "source": [
    "import spr_otilib as oti"
   ]
  },
  {
   "cell_type": "code",
   "execution_count": 5,
   "metadata": {
    "collapsed": false
   },
   "outputs": [
    {
     "data": {
      "text/plain": [
       "[[[1, 2, 3, 4]],\n",
       " [[1, 2, 3], [4]],\n",
       " [[1, 2, 4], [3]],\n",
       " [[1, 2], [3, 4]],\n",
       " [[1, 2], [3], [4]],\n",
       " [[1, 3, 4], [2]],\n",
       " [[1, 3], [2, 4]],\n",
       " [[1, 3], [2], [4]],\n",
       " [[1, 4], [2, 3]],\n",
       " [[1], [2, 3, 4]],\n",
       " [[1], [2, 3], [4]],\n",
       " [[1, 4], [2], [3]],\n",
       " [[1], [2, 4], [3]],\n",
       " [[1], [2], [3, 4]],\n",
       " [[1], [2], [3], [4]]]"
      ]
     },
     "execution_count": 5,
     "metadata": {},
     "output_type": "execute_result"
    }
   ],
   "source": [
    "# test\n",
    "\n",
    "list(partition.Partition([1,2,3,4]))\n",
    "\n"
   ]
  },
  {
   "cell_type": "code",
   "execution_count": 4,
   "metadata": {
    "collapsed": false
   },
   "outputs": [
    {
     "name": "stdout",
     "output_type": "stream",
     "text": [
      "[1 2 3 4] \n",
      "[1 2 3 0] [4 0 0 0] \n",
      "[1 2 4 0] [3 0 0 0] \n",
      "[1 2 0 0] [3 4 0 0] \n",
      "[1 2 0 0] [3 0 0 0] [4 0 0 0] \n",
      "[1 3 4 0] [2 0 0 0] \n",
      "[1 3 0 0] [2 4 0 0] \n",
      "[1 3 0 0] [2 0 0 0] [4 0 0 0] \n",
      "[1 4 0 0] [2 3 0 0] \n",
      "[1 0 0 0] [2 3 4 0] \n",
      "[1 0 0 0] [2 3 0 0] [4 0 0 0] \n",
      "[1 4 0 0] [2 0 0 0] [3 0 0 0] \n",
      "[1 0 0 0] [2 4 0 0] [3 0 0 0] \n",
      "[1 0 0 0] [2 0 0 0] [3 4 0 0] \n",
      "[1 0 0 0] [2 0 0 0] [3 0 0 0] [4 0 0 0] \n"
     ]
    }
   ],
   "source": [
    "oti.loadPartitionC(4)"
   ]
  }
 ],
 "metadata": {
  "kernelspec": {
   "display_name": "Python 3",
   "language": "python",
   "name": "python3"
  },
  "language_info": {
   "codemirror_mode": {
    "name": "ipython",
    "version": 3
   },
   "file_extension": ".py",
   "mimetype": "text/x-python",
   "name": "python",
   "nbconvert_exporter": "python",
   "pygments_lexer": "ipython3",
   "version": "3.6.0"
  }
 },
 "nbformat": 4,
 "nbformat_minor": 2
}
