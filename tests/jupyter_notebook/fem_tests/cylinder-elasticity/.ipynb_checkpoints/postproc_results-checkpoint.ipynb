{
 "cells": [
  {
   "cell_type": "markdown",
   "metadata": {},
   "source": []
  },
  {
   "cell_type": "code",
   "execution_count": null,
   "metadata": {},
   "outputs": [],
   "source": [
    "import scipy.sparse as spr\n",
    "import scipy.sparse.linalg as spla\n",
    "import sys\n",
    "path2oti = '../../../../build/'\n",
    "sys.path.append(path2oti) # Add path to OTI library.\n",
    "\n",
    "import pyoti.real   as r\n",
    "import pyoti.sparse as oti \n",
    "import pyoti.core   as coti\n",
    "import pyoti.fem    as fem \n",
    "\n",
    "# import pyoti.static.onumm1n1    as dual\n",
    "# import pyoti.static.mdnum2      as md2\n",
    "# import pyoti.static.mdnum3      as md3\n",
    "# import pyoti.static.mdnum5      as md5\n",
    "# import pyoti.static.mdnum6      as md6\n",
    "# import pyoti.static.mdnum10     as md10\n",
    "# import pyoti.static.onumm1n10   as om1n10\n",
    "# import pyoti.static.onumm1n2    as om1n2\n",
    "# import pyoti.static.onumm1n5    as om1n5\n",
    "# import pyoti.static.onumm5n5    as om5n5\n",
    "# import pyoti.static.onumm2n2    as om2n2\n",
    "# import pyoti.static.onumm3n3    as om3n3\n",
    "# import pyoti.static.onumm2n10    as om2n10\n",
    "\n",
    "\n",
    "%matplotlib notebook\n",
    "import matplotlib.pyplot as plt\n",
    "from mpl_toolkits.mplot3d import Axes3D\n",
    "\n",
    "e  = oti.e\n",
    "np = oti.np\n",
    "\n",
    "import pyvista as pv\n",
    "# p = pv.BackgroundPlotter()\n",
    "pv.set_plot_theme('document')\n",
    "\n",
    "global times\n",
    "from timeit import default_timer as time\n",
    "\n",
    "from matplotlib import rc\n",
    "\n",
    "## for Palatino and other serif fonts use:\n",
    "rc('font',**{'family':'serif','serif':['Palatino'], 'size':16})\n",
    "rc('text', usetex=True)"
   ]
  }
 ],
 "metadata": {
  "kernelspec": {
   "display_name": "Python 3",
   "language": "python",
   "name": "python3"
  },
  "language_info": {
   "codemirror_mode": {
    "name": "ipython",
    "version": 3
   },
   "file_extension": ".py",
   "mimetype": "text/x-python",
   "name": "python",
   "nbconvert_exporter": "python",
   "pygments_lexer": "ipython3",
   "version": "3.7.4"
  }
 },
 "nbformat": 4,
 "nbformat_minor": 4
}
