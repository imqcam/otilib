{
 "cells": [
  {
   "cell_type": "code",
   "execution_count": 1,
   "metadata": {},
   "outputs": [],
   "source": [
    "import scipy.sparse as spr\n",
    "import scipy.sparse.linalg as spla\n",
    "import sys\n",
    "path2oti = '../../../build/'\n",
    "sys.path.append(path2oti) # Add path to OTI library.\n",
    "\n",
    "import pyoti.real   as r\n",
    "import pyoti.sparse as oti \n",
    "import pyoti.core   as coti\n",
    "import pyoti.fem    as fem \n",
    "\n",
    "\n",
    "\n",
    "%matplotlib notebook\n",
    "import matplotlib.pyplot as plt\n",
    "from mpl_toolkits.mplot3d import Axes3D\n",
    "\n",
    "e  = oti.e\n",
    "np = oti.np\n",
    "\n",
    "import pyvista as pv\n",
    "# p = pv.BackgroundPlotter()\n",
    "pv.set_plot_theme('document')\n",
    "\n",
    "global times\n",
    "from timeit import default_timer as time\n",
    "\n",
    "from matplotlib import rc\n",
    "\n",
    "## for Palatino and other serif fonts use:\n",
    "rc('font',**{'family':'serif','serif':['Palatino'], 'size':16})\n",
    "rc('text', usetex=True)"
   ]
  },
  {
   "cell_type": "code",
   "execution_count": 2,
   "metadata": {},
   "outputs": [],
   "source": [
    "def cylinder(ri, ro, he = 1.0, element_order = 1, quads = False, \n",
    "           quad_incomplete = 1, quad_linear = 1, structured = False, save=False):\n",
    "    \"\"\"\n",
    "    PORPUSE: Define a cylinder section mesh.\n",
    "    \"\"\"\n",
    "    #***************************************************************************************************\n",
    "    import gmsh\n",
    "\n",
    "    gmsh.initialize()\n",
    "    # gmsh.fltk.initialize()\n",
    "\n",
    "    # Lets create a simple square element:\n",
    "    model = gmsh.model\n",
    "    geo   = model.geo\n",
    "    option= gmsh.option\n",
    "\n",
    "    P1 = geo.addPoint( 0.0, 0.0, 0.0, he, 1)\n",
    "    P2 = geo.addPoint( 0.0,  ri, 0.0, he, 2)\n",
    "    P3 = geo.addPoint(  ri, 0.0, 0.0, he, 3)\n",
    "    P4 = geo.addPoint( 0.0,  ro, 0.0, he, 4)\n",
    "    P5 = geo.addPoint(  ro, 0.0, 0.0, he, 5)\n",
    "\n",
    "    C1 = geo.addCircleArc(P2,P1,P3)\n",
    "    C2 = geo.addCircleArc(P5,P1,P4)\n",
    "    \n",
    "    geo.remove([P1])\n",
    "    \n",
    "    L1 = geo.addLine(P4,P2) # Left\n",
    "    L2 = geo.addLine(P3,P5) # bottom\n",
    "\n",
    "    loop1 = geo.addCurveLoop([C1,L2,C2,L1])\n",
    "\n",
    "    surface = geo.addPlaneSurface([loop1])\n",
    "\n",
    "    model.addPhysicalGroup( 0, [P1],        100 )\n",
    "    model.addPhysicalGroup( 0, [P2],        101 )\n",
    "    model.addPhysicalGroup( 0, [P3],        102 )\n",
    "    model.addPhysicalGroup( 0, [P4],        103 )\n",
    "    model.addPhysicalGroup( 0, [P5],        104 )\n",
    "\n",
    "    model.addPhysicalGroup( 1, [C1],        201 )\n",
    "    model.addPhysicalGroup( 1, [C2],        202 )\n",
    "    model.addPhysicalGroup( 1, [L1],        203 )\n",
    "    model.addPhysicalGroup( 1, [L2],        204 )\n",
    "\n",
    "    model.addPhysicalGroup( 2, [surface],   301 )\n",
    "    \n",
    "    model.setPhysicalName( 0, 100, \"center\"  )\n",
    "    model.setPhysicalName( 0, 101, \"ri_left\"  )\n",
    "    model.setPhysicalName( 0, 102, \"ri_right\" )\n",
    "    model.setPhysicalName( 0, 103, \"ro_left\"  )\n",
    "    model.setPhysicalName( 0, 104, \"ro_right\" )\n",
    "\n",
    "    model.setPhysicalName( 1, 201, \"ri\"    )\n",
    "    model.setPhysicalName( 1, 202, \"ro\"    )\n",
    "    model.setPhysicalName( 1, 203, \"left\"  )\n",
    "    model.setPhysicalName( 1, 204, \"right\" )\n",
    "\n",
    "    model.setPhysicalName( 2, 301, \"domain\"      )\n",
    "\n",
    "    \n",
    "    geo.synchronize()\n",
    "\n",
    "    option.setNumber('Mesh.ElementOrder',element_order)\n",
    "\n",
    "\n",
    "    # Recombine if quads are wanted.\n",
    "    if quads:\n",
    "\n",
    "        # Set body to recombine into quads.\n",
    "        option.setNumber('Mesh.SecondOrderIncomplete',quad_incomplete)\n",
    "        option.setNumber('Mesh.SecondOrderLinear',    quad_linear    )\n",
    "        option.setNumber('Mesh.RecombineAll',         1)\n",
    "\n",
    "    else:\n",
    "\n",
    "        option.setNumber('Mesh.SecondOrderIncomplete',quad_incomplete)\n",
    "        option.setNumber('Mesh.SecondOrderLinear',    quad_linear    )\n",
    "        option.setNumber('Mesh.RecombineAll',         0)\n",
    "\n",
    "    # end if \n",
    "\n",
    "    if structured:\n",
    "        nels_L = int((ro-ri)/he)+1\n",
    "        nels_C = min(int((ri*np.pi*2)/(4*he))+1,100)\n",
    "        model.mesh.setTransfiniteCurve(L1,nels_L)\n",
    "        model.mesh.setTransfiniteCurve(L2,nels_L)\n",
    "        model.mesh.setTransfiniteCurve(C1,nels_C)\n",
    "        model.mesh.setTransfiniteCurve(C2,nels_C)\n",
    "        model.mesh.setTransfiniteSurface(surface)#,\"left\",[P2,P3,P4])\n",
    "    # end if \n",
    "\n",
    "    model.mesh.generate(2)\n",
    "\n",
    "    if save:\n",
    "        gmsh.write(\"cylinder.msh\")\n",
    "    # end if \n",
    "\n",
    "    Th = fem.mesh.from_gmsh(gmsh)\n",
    "#     Th = None\n",
    "\n",
    "    gmsh.finalize()\n",
    "\n",
    "    return Th\n",
    "\n",
    "#-----------------------------------------------------------------------------------------------------"
   ]
  },
  {
   "cell_type": "code",
   "execution_count": 10,
   "metadata": {},
   "outputs": [
    {
     "data": {
      "text/plain": [
       "< mesh (pyoti.sparse) object with 10101 nodes, 10303 elements of types ( point1 (5), line2 (398), quad4 (9900) ) >"
      ]
     },
     "execution_count": 10,
     "metadata": {},
     "output_type": "execute_result"
    }
   ],
   "source": [
    "fem.set_global_algebra(oti)\n",
    "alg = fem.get_global_algebra()\n",
    "\n",
    "Th  = cylinder(1,2,he=0.01,element_order=1,quads=True,save=False, structured=True)\n",
    "Th2 = cylinder(1,2,he=0.01,element_order=1,quads=True,save=False, structured=True)\n",
    "Th"
   ]
  },
  {
   "cell_type": "code",
   "execution_count": 37,
   "metadata": {},
   "outputs": [],
   "source": [
    "order = 1\n",
    "ro = alg.number(2) + alg.e(1, order = order)\n",
    "ri = alg.number(1)\n",
    "# Perturb nodal coordinates for ro\n",
    "pc = 0.1\n",
    "for i in range(Th.x.size):\n",
    "    \n",
    "    x = Th.x[i,0]\n",
    "    y = Th.y[i,0]\n",
    "    \n",
    "    r = alg.sqrt(x**2+y**2)\n",
    "    if r.real > (ro-pc*(ro-ri)).real:\n",
    "        \n",
    "        h = (1-(ro-r)/(pc*(ro-ri))).real\n",
    "\n",
    "        hx = h*x.real/r.real\n",
    "        hy = h*y.real/r.real\n",
    "\n",
    "        Th.x[i,0] = x.real + hx*alg.e(1, order = order)\n",
    "        Th.y[i,0] = y.real + hy*alg.e(1, order = order)\n",
    "    else:\n",
    "        Th.x[i,0] = x.real\n",
    "        Th.y[i,0] = y.real\n",
    "# end for "
   ]
  },
  {
   "cell_type": "code",
   "execution_count": 38,
   "metadata": {},
   "outputs": [],
   "source": [
    "import pyvista as pv\n",
    "p = pv.BackgroundPlotter()"
   ]
  },
  {
   "cell_type": "code",
   "execution_count": 39,
   "metadata": {},
   "outputs": [
    {
     "data": {
      "text/plain": [
       "(vtkRenderingAnnotationPython.vtkCubeAxesActor)0x7fa56969f600"
      ]
     },
     "execution_count": 39,
     "metadata": {},
     "output_type": "execute_result"
    }
   ],
   "source": [
    "\n",
    "Th2.x = Th.x.taylor_integrate([1],[1.0])\n",
    "Th2.y = Th.y.taylor_integrate([1],[1.0])\n",
    "grid = Th2.to_pv(dims=2,pd=[np.sqrt(Th.x.get_deriv([1])**2+Th.y.get_deriv([1])**2).real],pd_names=['pert'])\n",
    "\n",
    "p.clear()\n",
    "\n",
    "p.add_mesh(grid, show_edges=True, line_width=2,cmap='jet')\n",
    "\n",
    "\n",
    "p.show_bounds()\n",
    "p.show_grid()"
   ]
  },
  {
   "cell_type": "code",
   "execution_count": 35,
   "metadata": {},
   "outputs": [
    {
     "data": {
      "text/plain": [
       "array([[0.        ],\n",
       "       [0.        ],\n",
       "       [0.        ],\n",
       "       ...,\n",
       "       [0.77420506],\n",
       "       [0.84618694],\n",
       "       [0.92136801]])"
      ]
     },
     "execution_count": 35,
     "metadata": {},
     "output_type": "execute_result"
    }
   ],
   "source": [
    "Th.x.get_deriv([1])**2"
   ]
  },
  {
   "cell_type": "code",
   "execution_count": null,
   "metadata": {},
   "outputs": [],
   "source": []
  }
 ],
 "metadata": {
  "kernelspec": {
   "display_name": "Python 3",
   "language": "python",
   "name": "python3"
  },
  "language_info": {
   "codemirror_mode": {
    "name": "ipython",
    "version": 3
   },
   "file_extension": ".py",
   "mimetype": "text/x-python",
   "name": "python",
   "nbconvert_exporter": "python",
   "pygments_lexer": "ipython3",
   "version": "3.7.8"
  }
 },
 "nbformat": 4,
 "nbformat_minor": 4
}
