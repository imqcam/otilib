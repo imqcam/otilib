{
 "cells": [
  {
   "cell_type": "code",
   "execution_count": 1,
   "metadata": {},
   "outputs": [],
   "source": [
    "import scipy.sparse as spr\n",
    "import sys\n",
    "path2oti = '../../../build/'\n",
    "sys.path.append(path2oti) # Add path to OTI library.\n",
    "\n",
    "import pyoti.sparse as oti \n",
    "import pyoti.core   as coti\n",
    "import pyoti.fem    as fem \n",
    "\n",
    "%matplotlib notebook\n",
    "import matplotlib.pyplot as plt\n",
    "from mpl_toolkits.mplot3d import Axes3D\n",
    "\n",
    "e  = oti.e\n",
    "np = oti.np\n"
   ]
  },
  {
   "cell_type": "code",
   "execution_count": 104,
   "metadata": {},
   "outputs": [
    {
     "name": "stdout",
     "output_type": "stream",
     "text": [
      "< mesh object with 201 nodes, 202 elements of types ( point1, line2 ) >\n"
     ]
    }
   ],
   "source": [
    "Th = fem.line(0,1,0.005)\n",
    "print(Th)"
   ]
  },
  {
   "cell_type": "code",
   "execution_count": 94,
   "metadata": {},
   "outputs": [
    {
     "data": {
      "text/plain": [
       "(vtkRenderingOpenGL2Python.vtkOpenGLActor)0x7ffccaac12e8"
      ]
     },
     "execution_count": 94,
     "metadata": {},
     "output_type": "execute_result"
    }
   ],
   "source": [
    "import pyvista as pv\n",
    "p = pv.BackgroundPlotter()\n",
    "\n",
    "grid = Th.to_pv()\n",
    "\n",
    "p.clear()\n",
    "\n",
    "# p.add_mesh(grid, show_edges=False, line_width=2,grid = True,categories=16,cmap='jet')\n",
    "p.add_mesh(grid, show_edges=True, line_width=2,grid = True,categories=16,cmap='jet')"
   ]
  },
  {
   "cell_type": "code",
   "execution_count": 9,
   "metadata": {},
   "outputs": [
    {
     "data": {
      "text/plain": [
       "{'types': array([1], dtype=int32),\n",
       " 'tags': [array([3, 4, 5, 6], dtype=uint64)],\n",
       " 'indices': [array([[0, 2],\n",
       "         [2, 3],\n",
       "         [3, 4],\n",
       "         [4, 1]], dtype=uint64)]}"
      ]
     },
     "execution_count": 9,
     "metadata": {},
     "output_type": "execute_result"
    }
   ],
   "source": [
    "# The problem to be solved:\n",
    "# \n",
    "# \n",
    "Th.elements[1]\n"
   ]
  },
  {
   "cell_type": "code",
   "execution_count": 95,
   "metadata": {},
   "outputs": [
    {
     "data": {
      "text/plain": [
       "{'types': array([15], dtype=int32),\n",
       " 'tags': [array([1, 2], dtype=uint64)],\n",
       " 'indices': [array([[0],\n",
       "         [1]], dtype=uint64)]}"
      ]
     },
     "execution_count": 95,
     "metadata": {},
     "output_type": "execute_result"
    }
   ],
   "source": [
    "Th.elements[0]"
   ]
  },
  {
   "cell_type": "code",
   "execution_count": 11,
   "metadata": {},
   "outputs": [],
   "source": [
    "elLine = fem.element[1]\n",
    "elLine.end()\n",
    "elLine.allocate(2)\n",
    "elLine.allocate_spatial(1,compute_Jinv = True)\n"
   ]
  },
  {
   "cell_type": "code",
   "execution_count": 18,
   "metadata": {},
   "outputs": [
    {
     "data": {
      "text/plain": [
       "matso< shape: (5, 1), \n",
       " - Column 0\n",
       "(0,0) 0\n",
       "(1,0) 1\n",
       "(2,0) 0.25\n",
       "(3,0) 0.5\n",
       "(4,0) 0.75\n",
       ">"
      ]
     },
     "execution_count": 18,
     "metadata": {},
     "output_type": "execute_result"
    }
   ],
   "source": [
    "Th.x"
   ]
  },
  {
   "cell_type": "code",
   "execution_count": 19,
   "metadata": {},
   "outputs": [],
   "source": [
    "elLine.set_coordinates(Th.x,Th.y,Th.z,Th.elements[1]['indices'][0][0])"
   ]
  },
  {
   "cell_type": "code",
   "execution_count": 20,
   "metadata": {},
   "outputs": [],
   "source": [
    "elLine.compute_jacobian()"
   ]
  },
  {
   "cell_type": "code",
   "execution_count": 26,
   "metadata": {},
   "outputs": [
    {
     "data": {
      "text/plain": [
       "matso< shape: (2, 2), \n",
       " - Column 0\n",
       "(0,0) -3.91667\n",
       "(1,0) 4.04167\n",
       " - Column 1\n",
       "(0,1) 4.04167\n",
       "(1,1) -3.91667\n",
       ">"
      ]
     },
     "execution_count": 26,
     "metadata": {},
     "output_type": "execute_result"
    }
   ],
   "source": [
    "oti.gauss_integrate(-oti.dot(oti.transpose(elLine.Nx),elLine.Nx)+oti.dot(oti.transpose(elLine.N),elLine.N),elLine.w_dJ)"
   ]
  },
  {
   "cell_type": "code",
   "execution_count": 28,
   "metadata": {},
   "outputs": [
    {
     "data": {
      "text/plain": [
       "matso< shape: (2, 1), \n",
       " - Column 0\n",
       "(0,0) 1.25\n",
       "(1,0) 1.25\n",
       ">"
      ]
     },
     "execution_count": 28,
     "metadata": {},
     "output_type": "execute_result"
    }
   ],
   "source": [
    "10*oti.gauss_integrate(oti.transpose(elLine.N),elLine.w_dJ)"
   ]
  },
  {
   "cell_type": "code",
   "execution_count": 30,
   "metadata": {},
   "outputs": [
    {
     "data": {
      "text/plain": [
       "<(5, 5) sparse matrix of OTI numbers with \n",
       "         0 stored elements in LInked List format>"
      ]
     },
     "execution_count": 30,
     "metadata": {},
     "output_type": "execute_result"
    }
   ],
   "source": [
    "\n",
    "K"
   ]
  },
  {
   "cell_type": "code",
   "execution_count": 96,
   "metadata": {},
   "outputs": [],
   "source": [
    "#*****************************************************************************************************\n",
    "def solve_1d_problem(Th):\n",
    "    \n",
    "    els = Th.elements[1]\n",
    "\n",
    "    fem.end_elements()\n",
    "    \n",
    "    \n",
    "    K = oti.lil_matso((Th.x.shape[0],Th.x.shape[0]))\n",
    "    f = oti.zeros((Th.x.shape[0],1))\n",
    "#     print(f)\n",
    "#     print(K)\n",
    "    #integrate 2D a fem array.\n",
    "    for j in range(els['types'].size):\n",
    "\n",
    "        elem = fem.element[ els['types'][j] ]\n",
    "\n",
    "        if not elem.is_allocated():\n",
    "\n",
    "            elem.end()\n",
    "            elem.allocate(intorder=2)\n",
    "            elem.allocate_spatial(1,compute_Jinv = True)\n",
    "\n",
    "            # Here the temporals shhould be created.\n",
    "            # - Elemental K\n",
    "#             Kel = oti.zeros( ( elem.nbasis, elem.nbasis ) )\n",
    "            # - Elemental f\n",
    "#             fel = oti.zeros( ( elem.nbasis, 1 ) )\n",
    "#             tmp1 = oti.zeros(nip=elem.nip)\n",
    "\n",
    "#             tmp2 = zero()\n",
    "\n",
    "        # end if \n",
    "\n",
    "        elm_nodes = els['indices'][j]\n",
    "\n",
    "        for i in range(elm_nodes.shape[0]):\n",
    "            \n",
    "#             Kel.set(0.0); fel.set(0.0)\n",
    "\n",
    "            elem.set_coordinates(Th.x,Th.y,Th.z,elm_nodes[i,:])\n",
    "            elem.compute_jacobian()\n",
    "\n",
    "            Nx = elem.Nx\n",
    "            N  = elem.N\n",
    "            \n",
    "            Kel = oti.gauss_integrate(-oti.dot(oti.transpose(Nx),Nx)+oti.dot(oti.transpose(N),N),elem.w_dJ)\n",
    "            fel = 10*oti.gauss_integrate(oti.transpose(N),elem.w_dJ)\n",
    "\n",
    "            assemble_globals(Kel,fel,K,f,elm_nodes[i,:])\n",
    "            \n",
    "            # integral = integral + gauss_integrate( dot_product( fh, elem.N), elem.w_dJ)\n",
    "\n",
    "            # integral = integral + oti.dot_product( fh, oti.gauss_integrate( element.N, element.w_dJ) )\n",
    "\n",
    "        # end for\n",
    "\n",
    "    # end for\n",
    "\n",
    "    fem.end_elements()   \n",
    "    \n",
    "    # Setting Dirichlet BCs using TGV.\n",
    "    TGV = 1e30\n",
    "\n",
    "    K[0,0] = TGV\n",
    "    f[0,0] = 1.0*TGV\n",
    "\n",
    "    K[1,1] = TGV\n",
    "    f[1,0] = 4.0*TGV\n",
    "    \n",
    "    u = oti.solve(K.tocsr(),f)\n",
    "\n",
    "    return u,K,f\n",
    "\n",
    "    #-----------------------------------------------------------------------------------------------------\n",
    "    \n",
    "def assemble_globals(Kel,fel,Kgl,fgl,elem):\n",
    "    \n",
    "    \n",
    "    for i in range(elem.size):\n",
    "        \n",
    "        ii=int(elem[i])\n",
    "        \n",
    "        for j in range(elem.size):\n",
    "\n",
    "            jj=int(elem[j])\n",
    "        \n",
    "            Kgl[ii,jj] = Kgl[ii,jj] + Kel[i,j]\n",
    "            \n",
    "        # end for \n",
    "        fgl[ii,0] = fgl[ii,0] + fel[i,0]\n",
    "        \n",
    "    # end for \n",
    "    "
   ]
  },
  {
   "cell_type": "code",
   "execution_count": 105,
   "metadata": {},
   "outputs": [
    {
     "name": "stdout",
     "output_type": "stream",
     "text": [
      "matso< shape: (201, 1), \n",
      " - Column 0\n",
      "(0,0) 1\n",
      "(1,0) 4\n",
      "(2,0) 0.993355\n",
      "(3,0) 0.986935\n",
      "(4,0) 0.98074\n",
      "(5,0) 0.974771\n",
      "(6,0) 0.969028\n",
      "(7,0) 0.96351\n",
      "(8,0) 0.958218\n",
      "(9,0) 0.953152\n",
      "(10,0) 0.948313\n",
      "(11,0) 0.943699\n",
      "(12,0) 0.939313\n",
      "(13,0) 0.935152\n",
      "(14,0) 0.931218\n",
      "(15,0) 0.927511\n",
      "(16,0) 0.924031\n",
      "(17,0) 0.920778\n",
      "(18,0) 0.917751\n",
      "(19,0) 0.914952\n",
      "(20,0) 0.91238\n",
      "(21,0) 0.910035\n",
      "(22,0) 0.907917\n",
      "(23,0) 0.906027\n",
      "(24,0) 0.904364\n",
      "(25,0) 0.902928\n",
      "(26,0) 0.90172\n",
      "(27,0) 0.900739\n",
      "(28,0) 0.899985\n",
      "(29,0) 0.89946\n",
      "(30,0) 0.899161\n",
      "(31,0) 0.89909\n",
      "(32,0) 0.899247\n",
      "(33,0) 0.899631\n",
      "(34,0) 0.900243\n",
      "(35,0) 0.901082\n",
      "(36,0) 0.902149\n",
      "(37,0) 0.903443\n",
      "(38,0) 0.904965\n",
      "(39,0) 0.906714\n",
      "(40,0) 0.90869\n",
      "(41,0) 0.910893\n",
      "(42,0) 0.913324\n",
      "(43,0) 0.915982\n",
      "(44,0) 0.918867\n",
      "(45,0) 0.921979\n",
      "(46,0) 0.925318\n",
      "(47,0) 0.928884\n",
      "(48,0) 0.932677\n",
      "(49,0) 0.936696\n",
      "(50,0) 0.940942\n",
      "(51,0) 0.945414\n",
      "(52,0) 0.950113\n",
      "(53,0) 0.955038\n",
      "(54,0) 0.960189\n",
      "(55,0) 0.965566\n",
      "(56,0) 0.971169\n",
      "(57,0) 0.976998\n",
      "(58,0) 0.983052\n",
      "(59,0) 0.989332\n",
      "(60,0) 0.995837\n",
      "(61,0) 1.00257\n",
      "(62,0) 1.00952\n",
      "(63,0) 1.0167\n",
      "(64,0) 1.02411\n",
      "(65,0) 1.03174\n",
      "(66,0) 1.03959\n",
      "(67,0) 1.04766\n",
      "(68,0) 1.05597\n",
      "(69,0) 1.06449\n",
      "(70,0) 1.07324\n",
      "(71,0) 1.08221\n",
      "(72,0) 1.0914\n",
      "(73,0) 1.10082\n",
      "(74,0) 1.11046\n",
      "(75,0) 1.12032\n",
      "(76,0) 1.1304\n",
      "(77,0) 1.14071\n",
      "(78,0) 1.15123\n",
      "(79,0) 1.16198\n",
      "(80,0) 1.17295\n",
      "(81,0) 1.18414\n",
      "(82,0) 1.19555\n",
      "(83,0) 1.20718\n",
      "(84,0) 1.21903\n",
      "(85,0) 1.2311\n",
      "(86,0) 1.24339\n",
      "(87,0) 1.25589\n",
      "(88,0) 1.26862\n",
      "(89,0) 1.28156\n",
      "(90,0) 1.29473\n",
      "(91,0) 1.30811\n",
      "(92,0) 1.3217\n",
      "(93,0) 1.33552\n",
      "(94,0) 1.34955\n",
      "(95,0) 1.3638\n",
      "(96,0) 1.37826\n",
      "(97,0) 1.39294\n",
      "(98,0) 1.40783\n",
      "(99,0) 1.42294\n",
      "(100,0) 1.43826\n",
      "(101,0) 1.4538\n",
      "(102,0) 1.46955\n",
      "(103,0) 1.48551\n",
      "(104,0) 1.50169\n",
      "(105,0) 1.51808\n",
      "(106,0) 1.53468\n",
      "(107,0) 1.55149\n",
      "(108,0) 1.56852\n",
      "(109,0) 1.58575\n",
      "(110,0) 1.6032\n",
      "(111,0) 1.62085\n",
      "(112,0) 1.63872\n",
      "(113,0) 1.65679\n",
      "(114,0) 1.67507\n",
      "(115,0) 1.69356\n",
      "(116,0) 1.71226\n",
      "(117,0) 1.73116\n",
      "(118,0) 1.75028\n",
      "(119,0) 1.76959\n",
      "(120,0) 1.78912\n",
      "(121,0) 1.80885\n",
      "(122,0) 1.82878\n",
      "(123,0) 1.84892\n",
      "(124,0) 1.86926\n",
      "(125,0) 1.88981\n",
      "(126,0) 1.91055\n",
      "(127,0) 1.9315\n",
      "(128,0) 1.95266\n",
      "(129,0) 1.97401\n",
      "(130,0) 1.99556\n",
      "(131,0) 2.01732\n",
      "(132,0) 2.03927\n",
      "(133,0) 2.06142\n",
      "(134,0) 2.08377\n",
      "(135,0) 2.10632\n",
      "(136,0) 2.12907\n",
      "(137,0) 2.15201\n",
      "(138,0) 2.17515\n",
      "(139,0) 2.19848\n",
      "(140,0) 2.22201\n",
      "(141,0) 2.24574\n",
      "(142,0) 2.26966\n",
      "(143,0) 2.29377\n",
      "(144,0) 2.31807\n",
      "(145,0) 2.34257\n",
      "(146,0) 2.36725\n",
      "(147,0) 2.39213\n",
      "(148,0) 2.4172\n",
      "(149,0) 2.44246\n",
      "(150,0) 2.46791\n",
      "(151,0) 2.49354\n",
      "(152,0) 2.51936\n",
      "(153,0) 2.54537\n",
      "(154,0) 2.57157\n",
      "(155,0) 2.59795\n",
      "(156,0) 2.62452\n",
      "(157,0) 2.65127\n",
      "(158,0) 2.67821\n",
      "(159,0) 2.70532\n",
      "(160,0) 2.73263\n",
      "(161,0) 2.76011\n",
      "(162,0) 2.78777\n",
      "(163,0) 2.81561\n",
      "(164,0) 2.84364\n",
      "(165,0) 2.87184\n",
      "(166,0) 2.90022\n",
      "(167,0) 2.92878\n",
      "(168,0) 2.95751\n",
      "(169,0) 2.98642\n",
      "(170,0) 3.01551\n",
      "(171,0) 3.04477\n",
      "(172,0) 3.0742\n",
      "(173,0) 3.10381\n",
      "(174,0) 3.13359\n",
      "(175,0) 3.16354\n",
      "(176,0) 3.19367\n",
      "(177,0) 3.22396\n",
      "(178,0) 3.25442\n",
      "(179,0) 3.28505\n",
      "(180,0) 3.31585\n",
      "(181,0) 3.34682\n",
      "(182,0) 3.37795\n",
      "(183,0) 3.40925\n",
      "(184,0) 3.44071\n",
      "(185,0) 3.47233\n",
      "(186,0) 3.50412\n",
      "(187,0) 3.53608\n",
      "(188,0) 3.56819\n",
      "(189,0) 3.60046\n",
      "(190,0) 3.6329\n",
      "(191,0) 3.66549\n",
      "(192,0) 3.69824\n",
      "(193,0) 3.73115\n",
      "(194,0) 3.76422\n",
      "(195,0) 3.79744\n",
      "(196,0) 3.83082\n",
      "(197,0) 3.86435\n",
      "(198,0) 3.89803\n",
      "(199,0) 3.93187\n",
      "(200,0) 3.96586\n",
      ">\n"
     ]
    }
   ],
   "source": [
    "u,K,f = solve_1d_problem(Th)\n",
    "print(u)"
   ]
  },
  {
   "cell_type": "code",
   "execution_count": 110,
   "metadata": {},
   "outputs": [],
   "source": [
    "import pyvista as pv\n",
    "p = pv.BackgroundPlotter()\n",
    "\n",
    "grid = Th.to_pv(pd=[u.real],pd_names=['u'])\n",
    "\n",
    "p.clear()\n",
    "\n",
    "# p.add_mesh(grid, show_edges=False, line_width=2,grid = True,categories=16,cmap='jet')\n",
    "p.add_mesh(grid.warp_by_scalar(), show_edges=True, line_width=2,grid = True,cmap='jet',scalar_bar_args={'interactive':True})\n",
    "p.show_bounds()\n",
    "p.show_grid()"
   ]
  },
  {
   "cell_type": "code",
   "execution_count": 36,
   "metadata": {},
   "outputs": [
    {
     "data": {
      "text/plain": [
       "9.0000 + 3.0000 * e([1])"
      ]
     },
     "execution_count": 36,
     "metadata": {},
     "output_type": "execute_result"
    }
   ],
   "source": [
    "K[1,1] = K[1,1] + 3+oti.e(1)\n",
    "K[1,1]"
   ]
  },
  {
   "cell_type": "code",
   "execution_count": 38,
   "metadata": {},
   "outputs": [
    {
     "name": "stdout",
     "output_type": "stream",
     "text": [
      "(  1,  1) 9 + 3 * e([1])\n",
      "\n"
     ]
    }
   ],
   "source": [
    "print(K)"
   ]
  }
 ],
 "metadata": {
  "kernelspec": {
   "display_name": "Python 3",
   "language": "python",
   "name": "python3"
  },
  "language_info": {
   "codemirror_mode": {
    "name": "ipython",
    "version": 3
   },
   "file_extension": ".py",
   "mimetype": "text/x-python",
   "name": "python",
   "nbconvert_exporter": "python",
   "pygments_lexer": "ipython3",
   "version": "3.7.3"
  }
 },
 "nbformat": 4,
 "nbformat_minor": 2
}
