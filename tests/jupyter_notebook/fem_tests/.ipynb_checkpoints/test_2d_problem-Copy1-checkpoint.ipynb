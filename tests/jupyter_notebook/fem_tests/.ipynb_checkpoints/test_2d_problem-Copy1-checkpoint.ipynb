{
 "cells": [
  {
   "cell_type": "code",
   "execution_count": 2,
   "metadata": {},
   "outputs": [],
   "source": [
    "import scipy.sparse as spr\n",
    "import scipy.sparse.linalg as spla\n",
    "import sys\n",
    "path2oti = '../../../build/'\n",
    "sys.path.append(path2oti) # Add path to OTI library.\n",
    "\n",
    "import pyoti.real   as r\n",
    "import pyoti.sparse as oti \n",
    "import pyoti.core   as coti\n",
    "import pyoti.fem    as fem \n",
    "\n",
    "import pyoti.static.onumm1n1   as dual\n",
    "import pyoti.static.mdnum2     as md2\n",
    "import pyoti.static.onumm1n10  as om1n10\n",
    "import pyoti.static.onumm1n2   as om1n2\n",
    "\n",
    "%matplotlib notebook\n",
    "import matplotlib.pyplot as plt\n",
    "from mpl_toolkits.mplot3d import Axes3D\n",
    "\n",
    "e  = oti.e\n",
    "np = oti.np\n",
    "\n",
    "import pyvista as pv\n",
    "# p = pv.BackgroundPlotter()\n",
    "# pv.set_plot_theme(\"document\")\n"
   ]
  },
  {
   "cell_type": "code",
   "execution_count": 13,
   "metadata": {},
   "outputs": [],
   "source": [
    "fem.set_global_algebra(om1n10)\n",
    "alg = fem.get_global_algebra()"
   ]
  },
  {
   "cell_type": "code",
   "execution_count": 14,
   "metadata": {},
   "outputs": [
    {
     "data": {
      "text/plain": [
       "< mesh (pyoti.static.onumm1n10) object with 112225 nodes, 112896 elements of types ( point1 (4), line2 (1336), quad4 (111556) ) >"
      ]
     },
     "execution_count": 14,
     "metadata": {},
     "output_type": "execute_result"
    }
   ],
   "source": [
    "Th = fem.square(1,1,he=0.003,quads=True,structured=True)\n",
    "# Th = fem.square(1,1,he=0.1,quads=False,structured=True)\n",
    "Th.x += 0.5\n",
    "Th.y += 0.5\n",
    "\n",
    "Th"
   ]
  },
  {
   "cell_type": "code",
   "execution_count": 67,
   "metadata": {},
   "outputs": [],
   "source": [
    "# Perform perturbation of all nodes\n",
    "order=1\n",
    "for i in range(Th.x.shape[0]):\n",
    "    xi = Th.x[i,0]\n",
    "    yi = Th.y[i,0]\n",
    "    Th.x[i,0] = xi + 2*(xi.real-0.5) * alg.e(1, order=order)\n",
    "    Th.y[i,0] = yi + 2*(yi.real-0.5) * alg.e(1, order=order)\n",
    "# end for "
   ]
  },
  {
   "cell_type": "code",
   "execution_count": 14,
   "metadata": {},
   "outputs": [
    {
     "ename": "AttributeError",
     "evalue": "module 'pyoti.real' has no attribute 'e'",
     "output_type": "error",
     "traceback": [
      "\u001b[0;31m---------------------------------------------------------------------------\u001b[0m",
      "\u001b[0;31mAttributeError\u001b[0m                            Traceback (most recent call last)",
      "\u001b[0;32m<ipython-input-14-e61a6ba77a07>\u001b[0m in \u001b[0;36m<module>\u001b[0;34m\u001b[0m\n\u001b[1;32m      5\u001b[0m     \u001b[0myi\u001b[0m \u001b[0;34m=\u001b[0m \u001b[0mTh\u001b[0m\u001b[0;34m.\u001b[0m\u001b[0my\u001b[0m\u001b[0;34m[\u001b[0m\u001b[0mi\u001b[0m\u001b[0;34m,\u001b[0m\u001b[0;36m0\u001b[0m\u001b[0;34m]\u001b[0m\u001b[0;34m\u001b[0m\u001b[0;34m\u001b[0m\u001b[0m\n\u001b[1;32m      6\u001b[0m     \u001b[0;32mif\u001b[0m \u001b[0mxi\u001b[0m\u001b[0;34m.\u001b[0m\u001b[0mreal\u001b[0m \u001b[0;34m>=\u001b[0m \u001b[0;36m0.5\u001b[0m\u001b[0;34m:\u001b[0m\u001b[0;34m\u001b[0m\u001b[0;34m\u001b[0m\u001b[0m\n\u001b[0;32m----> 7\u001b[0;31m         \u001b[0mTh\u001b[0m\u001b[0;34m.\u001b[0m\u001b[0mx\u001b[0m\u001b[0;34m[\u001b[0m\u001b[0mi\u001b[0m\u001b[0;34m,\u001b[0m\u001b[0;36m0\u001b[0m\u001b[0;34m]\u001b[0m \u001b[0;34m=\u001b[0m \u001b[0mxi\u001b[0m \u001b[0;34m+\u001b[0m \u001b[0;36m2\u001b[0m\u001b[0;34m*\u001b[0m\u001b[0;34m(\u001b[0m\u001b[0mxi\u001b[0m\u001b[0;34m.\u001b[0m\u001b[0mreal\u001b[0m\u001b[0;34m-\u001b[0m\u001b[0;36m0.5\u001b[0m\u001b[0;34m)\u001b[0m \u001b[0;34m*\u001b[0m \u001b[0malg\u001b[0m\u001b[0;34m.\u001b[0m\u001b[0me\u001b[0m\u001b[0;34m(\u001b[0m\u001b[0;36m1\u001b[0m\u001b[0;34m,\u001b[0m \u001b[0morder\u001b[0m\u001b[0;34m=\u001b[0m\u001b[0morder\u001b[0m\u001b[0;34m)\u001b[0m\u001b[0;34m\u001b[0m\u001b[0;34m\u001b[0m\u001b[0m\n\u001b[0m\u001b[1;32m      8\u001b[0m         \u001b[0mTh\u001b[0m\u001b[0;34m.\u001b[0m\u001b[0my\u001b[0m\u001b[0;34m[\u001b[0m\u001b[0mi\u001b[0m\u001b[0;34m,\u001b[0m\u001b[0;36m0\u001b[0m\u001b[0;34m]\u001b[0m \u001b[0;34m=\u001b[0m \u001b[0myi\u001b[0m \u001b[0;34m+\u001b[0m \u001b[0;36m2\u001b[0m\u001b[0;34m*\u001b[0m\u001b[0;34m(\u001b[0m\u001b[0myi\u001b[0m\u001b[0;34m.\u001b[0m\u001b[0mreal\u001b[0m\u001b[0;34m-\u001b[0m\u001b[0;36m0.5\u001b[0m\u001b[0;34m)\u001b[0m \u001b[0;34m*\u001b[0m \u001b[0malg\u001b[0m\u001b[0;34m.\u001b[0m\u001b[0me\u001b[0m\u001b[0;34m(\u001b[0m\u001b[0;36m2\u001b[0m\u001b[0;34m,\u001b[0m \u001b[0morder\u001b[0m\u001b[0;34m=\u001b[0m\u001b[0morder\u001b[0m\u001b[0;34m)\u001b[0m\u001b[0;34m\u001b[0m\u001b[0;34m\u001b[0m\u001b[0m\n\u001b[1;32m      9\u001b[0m     \u001b[0;31m# end if\u001b[0m\u001b[0;34m\u001b[0m\u001b[0;34m\u001b[0m\u001b[0;34m\u001b[0m\u001b[0m\n",
      "\u001b[0;31mAttributeError\u001b[0m: module 'pyoti.real' has no attribute 'e'"
     ]
    }
   ],
   "source": [
    "# Perform perturbation of at least half of the nodes\n",
    "order=1\n",
    "for i in range(Th.x.shape[0]):\n",
    "    xi = Th.x[i,0]\n",
    "    yi = Th.y[i,0]\n",
    "    if xi.real >= 0.5:\n",
    "        Th.x[i,0] = xi + 2*(xi.real-0.5) * alg.e(1, order=order)\n",
    "        Th.y[i,0] = yi + 2*(yi.real-0.5) * alg.e(2, order=order)\n",
    "    # end if "
   ]
  },
  {
   "cell_type": "code",
   "execution_count": 19,
   "metadata": {},
   "outputs": [
    {
     "data": {
      "text/plain": [
       "(vtkRenderingOpenGL2Python.vtkOpenGLActor)0x7fd14c870be8"
      ]
     },
     "execution_count": 19,
     "metadata": {},
     "output_type": "execute_result"
    }
   ],
   "source": [
    "\n",
    "grid = Th.to_pv()\n",
    "\n",
    "p.clear()\n",
    "p.enable_parallel_projection()\n",
    "\n",
    "# p.add_mesh(grid, show_edges=False, line_width=2,grid = True,categories=16,cmap='jet')\n",
    "p.add_mesh(grid, show_edges=True, line_width=2,grid = True,categories=16,cmap='jet')"
   ]
  },
  {
   "cell_type": "code",
   "execution_count": 3,
   "metadata": {},
   "outputs": [],
   "source": [
    "#*****************************************************************************************************\n",
    "def solve_2d_problem_prealloc(Th, stats=True):\n",
    "    global times\n",
    "    from timeit import default_timer as time\n",
    "    \n",
    "    start_time = time()\n",
    "    \n",
    "    ndim_analysis = 2\n",
    "    els = Th.elements[2]\n",
    "\n",
    "    fem.end_elements()\n",
    "    \n",
    "    K = alg.lil_matrix((Th.x.shape[0],Th.x.shape[0]))\n",
    "    f = alg.zeros((Th.x.shape[0],1))\n",
    "    funct = 2*(Th.x**2+Th.y**2-Th.x-Th.y)\n",
    "    # \n",
    "    for j in range(els['types'].size):\n",
    "\n",
    "        elem = fem.element[ els['types'][j] ]\n",
    "\n",
    "        if not elem.is_allocated():\n",
    "\n",
    "            elem.end()\n",
    "            elem.allocate(intorder=2)#, nbases=1 order=order)\n",
    "            elem.allocate_spatial(ndim_analysis,compute_Jinv = True)\n",
    "\n",
    "            fh = alg.zeros( ( elem.nbasis, 1 ) )\n",
    "            NN_tmp1 = alg.zeros( ( elem.nbasis, elem.nbasis ), nip = elem.nip )\n",
    "            NN_tmp2 = alg.zeros( ( elem.nbasis, elem.nbasis ), nip = elem.nip )\n",
    "            Kel = alg.zeros( ( elem.nbasis, elem.nbasis ) )\n",
    "            NT_tmp1 = alg.zeros( ( elem.nbasis, 1 ), nip = elem.nip )\n",
    "            NT_tmp2 = alg.zeros( ( elem.nbasis, 1 ), nip = elem.nip )\n",
    "            fel = alg.zeros( ( elem.nbasis, 1 ) )\n",
    "            tmp1 = alg.zero( nip=elem.nip )\n",
    "        # end if \n",
    "\n",
    "        elm_nodes = els['indices'][j]\n",
    "\n",
    "        for i in range(elm_nodes.shape[0]):\n",
    "            \n",
    "            # reinitialize values.\n",
    "#             NN_tmp1.set(0.0)\n",
    "#             NN_tmp2.set(0.0)\n",
    "#             NT_tmp1.set(0.0)\n",
    "            \n",
    "            elem.set_coordinates(Th.x,Th.y,Th.z,elm_nodes[i,:])\n",
    "            elem.compute_jacobian()\n",
    "\n",
    "            Nx = elem.Nx\n",
    "            Ny = elem.Ny\n",
    "            N  = elem.N\n",
    "            \n",
    "            for ii in range(elem.nbasis):\n",
    "                fh[ii,0] = funct[ int(elm_nodes[i,ii]),0]\n",
    "            # end for \n",
    "            \n",
    "            alg.transpose(Nx,out=NT_tmp1)\n",
    "            alg.transpose(Ny,out=NT_tmp2)\n",
    "            \n",
    "            alg.dot(NT_tmp1, Nx, out = NN_tmp1)\n",
    "            alg.dot(NT_tmp2, Ny, out = NN_tmp2)\n",
    "            \n",
    "            alg.neg(NN_tmp1, out = NN_tmp1)\n",
    "            alg.sub(NN_tmp1,NN_tmp2,out=NN_tmp1)\n",
    "            \n",
    "#             tmp = - oti.dot(oti.transpose(Nx),Nx) - oti.dot(oti.transpose(Ny),Ny) \n",
    "            \n",
    "            alg.gauss_integrate(NN_tmp1,elem.dV, out = Kel)\n",
    "            \n",
    "            alg.dot_product( fh, N, out = tmp1 )\n",
    "            alg.transpose(N, out = NT_tmp1)\n",
    "            alg.mul(tmp1,NT_tmp1, out = NT_tmp2)\n",
    "            alg.gauss_integrate(NT_tmp2, elem.dV, out = fel)\n",
    "          \n",
    "            assemble_globals(Kel,fel,K,f,elm_nodes[i,:])\n",
    " \n",
    "        # end for\n",
    "\n",
    "    # end for\n",
    "\n",
    "    fem.end_elements()   \n",
    "    \n",
    "    end_assmbly_time = time()\n",
    "    \n",
    "    # Setting Dirichlet BCs using TGV.\n",
    "    TGV = 1e30\n",
    "    \n",
    "    # Every 1D node has dirichlet bc = 0\n",
    "    els = Th.elements[1]\n",
    "    for j in range(els['types'].size):\n",
    "\n",
    "        elm_nodes = np.unique(els['indices'][j])\n",
    "\n",
    "        for ii_ in elm_nodes:\n",
    "            ii = int(ii_)\n",
    "            K[ii,ii] = TGV\n",
    "            # end for\n",
    "            f[ii,0] = 0.0\n",
    "        # end for \n",
    "        \n",
    "    # end for\n",
    "\n",
    "    end_bc_time = time()\n",
    "    \n",
    "    u = alg.solve(K.tocsr(),f)\n",
    "#     u = alg.solve_sparse_tests(K.tocsr(),f)\n",
    "    \n",
    "    end_solve_time = time()\n",
    "    \n",
    "    if stats:\n",
    "        times['assembly'].append(  end_assmbly_time - start_time       )\n",
    "        times['bc'].append( end_bc_time      - end_assmbly_time  )\n",
    "        times['solve'].append(  end_solve_time   - end_bc_time      )\n",
    "        times['total'].append( end_solve_time   - start_time        )\n",
    "        \n",
    "#         print(\"Assembly time:  {0:.6f} s \".format( end_assmbly_time - start_time       ) )\n",
    "#         print(\"Boundary time:  {0:.6f} s \".format( end_bc_time      - end_assmbly_time ) )\n",
    "#         print(\"Solution time:  {0:.6f} s \".format( end_solve_time   - end_bc_time      ) )\n",
    "        print(\"Total run time: {0:.6f} s \".format( end_solve_time   - start_time       ) )\n",
    "        print()\n",
    "    # end if \n",
    "    \n",
    "    return u,K,f\n",
    "\n",
    "#-----------------------------------------------------------------------------------------------------"
   ]
  },
  {
   "cell_type": "code",
   "execution_count": 4,
   "metadata": {},
   "outputs": [],
   "source": [
    "#*****************************************************************************************************\n",
    "def solve_2d_problem(Th, stats=True):\n",
    "    global times\n",
    "    from timeit import default_timer as time\n",
    "    \n",
    "    start_time = time()\n",
    "    \n",
    "    ndim_analysis = 2\n",
    "    els = Th.elements[2]\n",
    "    \n",
    "#         Th.x.get_active\n",
    "    \n",
    "    fem.end_elements()\n",
    "    \n",
    "    K = alg.lil_matrix((Th.x.shape[0],Th.x.shape[0]))\n",
    "    f = alg.zeros((Th.x.shape[0],1))\n",
    "    funct = 2*(Th.x**2+Th.y**2-Th.x-Th.y)\n",
    "    # \n",
    "    for j in range(els['types'].size):\n",
    "\n",
    "        elem = fem.element[ els['types'][j] ]\n",
    "\n",
    "        if not elem.is_allocated():\n",
    "\n",
    "            elem.end()\n",
    "            elem.allocate(intorder=2)#,nbases=1, order=order)\n",
    "            elem.allocate_spatial(ndim_analysis,compute_Jinv = True)\n",
    "\n",
    "            fh = alg.zeros( ( elem.nbasis, 1 ) )\n",
    "            \n",
    "        # end if \n",
    "\n",
    "        elm_nodes = els['indices'][j]\n",
    "\n",
    "        for i in range(elm_nodes.shape[0]):\n",
    "            \n",
    "            # reinitialize values.\n",
    "\n",
    "            elem.set_coordinates(Th.x,Th.y,Th.z,elm_nodes[i,:])\n",
    "            elem.compute_jacobian()\n",
    "\n",
    "            Nx = elem.Nx\n",
    "            Ny = elem.Ny\n",
    "            N  = elem.N\n",
    "            \n",
    "            for ii in range(elem.nbasis):\n",
    "                fh[ii,0] = funct[ int(elm_nodes[i,ii]),0]\n",
    "            # end for \n",
    "            \n",
    "            tmp = - alg.dot(alg.transpose(Nx),Nx) - alg.dot(alg.transpose(Ny),Ny) \n",
    "            \n",
    "            Kel = alg.gauss_integrate( tmp, elem.dV )\n",
    "            \n",
    "            tmp = alg.dot_product( fh, N)\n",
    "            fel = alg.gauss_integrate( tmp*alg.transpose(N), elem.dV )\n",
    "          \n",
    "            assemble_globals(Kel,fel,K,f,elm_nodes[i,:])\n",
    " \n",
    "        # end for\n",
    "\n",
    "    # end for\n",
    "\n",
    "    fem.end_elements()   \n",
    "    \n",
    "    end_assmbly_time = time()    \n",
    "    \n",
    "    # Setting Dirichlet BCs using TGV.\n",
    "    TGV = 1e30\n",
    "    \n",
    "    # Every 1D node has dirichlet bc = 0\n",
    "    els = Th.elements[1]\n",
    "    for j in range(els['types'].size):\n",
    "\n",
    "        elm_nodes = np.unique(els['indices'][j])\n",
    "\n",
    "        for ii_ in elm_nodes:\n",
    "            ii = int(ii_)\n",
    "            K[ii,ii] = TGV\n",
    "            # end for\n",
    "            f[ii,0] = 0.0\n",
    "        # end for \n",
    "        \n",
    "    # end for\n",
    "\n",
    "    end_bc_time = time()\n",
    "    \n",
    "#     u = alg.solve(K.tocsr(),f)\n",
    "    u = alg.solve_sparse_tests(K.tocsr(),f)\n",
    "#     u = alg.zeros(f.shape)\n",
    "    \n",
    "    end_solve_time = time()\n",
    "    \n",
    "    if stats:\n",
    "        times['assembly'].append(  end_assmbly_time - start_time       )\n",
    "        times['bc'].append(        end_bc_time      - end_assmbly_time )\n",
    "        times['solve'].append(     end_solve_time   - end_bc_time      )\n",
    "        times['total'].append(     end_solve_time   - start_time       )\n",
    "#         print(\"Assembly time:  {0:.6f} s \".format( end_assmbly_time - start_time       ) )\n",
    "#         print(\"Boundary time:  {0:.6f} s \".format( end_bc_time      - end_assmbly_time ) )\n",
    "#         print(\"Solution time:  {0:.6f} s \".format( end_solve_time   - end_bc_time      ) )\n",
    "        print(\"Total run time: {0:.6f} s \".format( end_solve_time   - start_time       ) )\n",
    "        print()\n",
    "    # end if \n",
    "    \n",
    "    return u,K,f\n",
    "\n",
    "#-----------------------------------------------------------------------------------------------------\n",
    "    \n",
    "def assemble_globals(Kel,fel,Kgl,fgl,elem):\n",
    "    \n",
    "    \n",
    "    for i in range(elem.size):\n",
    "        \n",
    "        ii=int(elem[i])\n",
    "        \n",
    "        for j in range(elem.size):\n",
    "\n",
    "            jj=int(elem[j])\n",
    "        \n",
    "            Kgl[ii,jj] = Kgl[ii,jj] + Kel[i,j]\n",
    "            \n",
    "        # end for \n",
    "        fgl[ii,0] = fgl[ii,0] + fel[i,0]\n",
    "        \n",
    "    # end for \n",
    "\n",
    "    \n",
    "def analytic_solution(Th):\n",
    "    return Th.x*(1-Th.x)*Th.y*(1-Th.y)"
   ]
  },
  {
   "cell_type": "code",
   "execution_count": 6,
   "metadata": {},
   "outputs": [
    {
     "data": {
      "text/plain": [
       "< mesh (pyoti.real) object with 447561 nodes, 448900 elements of types ( point1 (4), line2 (2672), quad4 (446224) ) >"
      ]
     },
     "execution_count": 6,
     "metadata": {},
     "output_type": "execute_result"
    }
   ],
   "source": [
    "# dual, r, md2, om1n2, om1n10\n",
    "fem.set_global_algebra(r)\n",
    "alg = fem.get_global_algebra()\n",
    "\n",
    "# Th = fem.square(1,1,he=0.003,quads=True,structured=True)\n",
    "Th = fem.square(1,1,he=0.0015,quads=True,structured=True)\n",
    "# Th = fem.square(1,1,he=0.1,quads=False,structured=True)\n",
    "b = alg.number(0.5)\n",
    "order = 1\n",
    "# for i in range(1,100+1):\n",
    "#     b += alg.e(i,order=order)\n",
    "# # end for   \n",
    "b = b**order\n",
    "Th.x += b\n",
    "Th.y += b\n",
    "\n",
    "Th"
   ]
  },
  {
   "cell_type": "code",
   "execution_count": 7,
   "metadata": {},
   "outputs": [
    {
     "name": "stdout",
     "output_type": "stream",
     "text": [
      "Total run time: 28.456028 s \n",
      "\n",
      "\n",
      "\n",
      "Times:<class 'pyoti.real.dmat'>\n",
      "- Avg Assembly time:  15.258637 s \n",
      "- Avg Boundary time:  0.002163 s \n",
      "- Avg Solution time:  13.195228 s \n",
      "- Avg Total run time: 28.456028 s \n"
     ]
    }
   ],
   "source": [
    "times = {}\n",
    "times['assembly'] = []\n",
    "times['bc'] = []\n",
    "times['solve'] = []\n",
    "times['total'] = []\n",
    "\n",
    "for i in range(1):\n",
    "# for i in range(3):\n",
    "#     u,K,f = solve_2d_problem(Th)\n",
    "    u,K,f = solve_2d_problem_prealloc(Th)\n",
    "# print(u)\n",
    "\n",
    "print('\\n\\nTimes:'+str(type(u)))\n",
    "print(\"- Avg Assembly time:  {0:.6f} s \".format(np.average(times['assembly'] ) ) )\n",
    "print(\"- Avg Boundary time:  {0:.6f} s \".format(np.average(times['bc'])      ) )\n",
    "print(\"- Avg Solution time:  {0:.6f} s \".format(np.average(times['solve'])   ) )\n",
    "print(\"- Avg Total run time: {0:.6f} s \".format(np.average(times['total'])   ) )\n",
    "# u_analytic = analytic_solution(Th)"
   ]
  },
  {
   "cell_type": "code",
   "execution_count": 8,
   "metadata": {},
   "outputs": [
    {
     "data": {
      "text/plain": [
       "<447561x447561 sparse matrix of type '<class 'numpy.float64'>'\n",
       "\twith 4020025 stored elements in Compressed Sparse Row format>"
      ]
     },
     "execution_count": 8,
     "metadata": {},
     "output_type": "execute_result"
    }
   ],
   "source": [
    "K.tocsr().real"
   ]
  },
  {
   "cell_type": "code",
   "execution_count": null,
   "metadata": {},
   "outputs": [],
   "source": [
    "# 446000 Elements (Pre-alloc)\n",
    "# Times:<class 'pyoti.real.dmat'>\n",
    "# - Avg Assembly time:  14.151064 s \n",
    "# - Avg Boundary time:  0.002262 s \n",
    "# - Avg Solution time:  12.083795 s \n",
    "# - Avg Total run time: 26.237121 s \n",
    "\n",
    "# Std solver.\n",
    "# Times:<class 'pyoti.static.mdnum2.mdmat2'>\n",
    "# - Avg Assembly time:  22.552886 s \n",
    "# - Avg Boundary time:  0.003251 s \n",
    "# - Avg Solution time:  17.348347 s \n",
    "# - Avg Total run time: 39.904484 s\n",
    "\n",
    "# Times:<class 'pyoti.static.onumm1n2.omatm1n2'>\n",
    "# - Avg Assembly time:  23.590920 s \n",
    "# - Avg Boundary time:  0.002970 s \n",
    "# - Avg Solution time:  16.416110 s \n",
    "# - Avg Total run time: 40.010000 s \n",
    "\n",
    "# Times:<class 'pyoti.static.onumm1n10.omatm1n10'>\n",
    "# - Avg Assembly time:  39.787570 s \n",
    "# - Avg Boundary time:  0.004179 s \n",
    "# - Avg Solution time:  75.329859 s \n",
    "# - Avg Total run time: 115.121608 s \n",
    "\n",
    "\n",
    "\n",
    "\n",
    "# Trunc_dot solver\n",
    "# Times:<class 'pyoti.static.onumm1n1.omatm1n1'>\n",
    "# - Avg Assembly time:  22.449261 s \n",
    "# - Avg Boundary time:  0.002927 s \n",
    "# - Avg Solution time:  13.408534 s \n",
    "# - Avg Total run time: 35.860722 s \n",
    "# Times:<class 'pyoti.static.onumm1n2.omatm1n2'>\n",
    "# - Avg Assembly time:  23.479539 s \n",
    "# - Avg Boundary time:  0.002976 s \n",
    "# - Avg Solution time:  14.701312 s \n",
    "# - Avg Total run time: 38.183826 s \n",
    "\n",
    "# Times:<class 'pyoti.static.onumm1n10.omatm1n10'>\n",
    "# - Avg Assembly time:  33.923870 s \n",
    "# - Avg Boundary time:  0.003041 s \n",
    "# - Avg Solution time:  44.063196 s \n",
    "# - Avg Total run time: 77.990107 s \n",
    "\n",
    "# Times:<class 'pyoti.sparse.matso'> (real only)\n",
    "# - Avg Assembly time:  48.587235 s \n",
    "# - Avg Boundary time:  0.006627 s \n",
    "# - Avg Solution time:  13.885102 s \n",
    "# - Avg Total run time: 62.478965 s \n",
    "\n",
    "# Times:<class 'pyoti.sparse.matso'> (n=1,m=1, all nodal coordinates)\n",
    "# - Avg Assembly time:  53.965517 s \n",
    "# - Avg Boundary time:  0.004058 s \n",
    "# - Avg Solution time:  17.867715 s \n",
    "# - Avg Total run time: 71.837290 s \n",
    "\n",
    "# Times:<class 'pyoti.sparse.matso'> (n=1,m=100, all nodal coordinates)\n",
    "# Times:<class 'pyoti.sparse.matso'>\n",
    "# - Avg Assembly time:  170.650918 s \n",
    "# - Avg Boundary time:  0.017645 s \n",
    "# - Avg Solution time:  120.130132 s \n",
    "# - Avg Total run time: 290.798695 s "
   ]
  },
  {
   "cell_type": "code",
   "execution_count": 32,
   "metadata": {},
   "outputs": [
    {
     "name": "stdout",
     "output_type": "stream",
     "text": [
      "1.27 µs ± 14 ns per loop (mean ± std. dev. of 7 runs, 1000000 loops each)\n"
     ]
    }
   ],
   "source": [
    "bout = b.copy()\n",
    "%timeit alg.div(b,b,out=bout)"
   ]
  },
  {
   "cell_type": "markdown",
   "metadata": {},
   "source": [
    "Kcsr = K.tocsr()\n",
    "%timeit Kcsr.real.tocsc()"
   ]
  },
  {
   "cell_type": "code",
   "execution_count": 8,
   "metadata": {},
   "outputs": [
    {
     "name": "stdout",
     "output_type": "stream",
     "text": [
      "185 ms ± 1.58 ms per loop (mean ± std. dev. of 7 runs, 10 loops each)\n"
     ]
    }
   ],
   "source": [
    "%timeit Kcsr.order"
   ]
  },
  {
   "cell_type": "code",
   "execution_count": 15,
   "metadata": {},
   "outputs": [],
   "source": [
    "Kcsc_r = Kcsr.real.tocsc()\n",
    "lu = spla.splu(Kcsc_r)"
   ]
  },
  {
   "cell_type": "code",
   "execution_count": 1,
   "metadata": {},
   "outputs": [
    {
     "ename": "NameError",
     "evalue": "name 'K' is not defined",
     "output_type": "error",
     "traceback": [
      "\u001b[0;31m---------------------------------------------------------------------------\u001b[0m",
      "\u001b[0;31mNameError\u001b[0m                                 Traceback (most recent call last)",
      "\u001b[0;32m<ipython-input-1-9d60f706cc3c>\u001b[0m in \u001b[0;36m<module>\u001b[0;34m\u001b[0m\n\u001b[0;32m----> 1\u001b[0;31m \u001b[0mK\u001b[0m\u001b[0;34m\u001b[0m\u001b[0;34m\u001b[0m\u001b[0m\n\u001b[0m",
      "\u001b[0;31mNameError\u001b[0m: name 'K' is not defined"
     ]
    }
   ],
   "source": [
    "K"
   ]
  },
  {
   "cell_type": "code",
   "execution_count": 14,
   "metadata": {},
   "outputs": [
    {
     "name": "stdout",
     "output_type": "stream",
     "text": [
      "11.1 s ± 132 ms per loop (mean ± std. dev. of 7 runs, 1 loop each)\n"
     ]
    }
   ],
   "source": [
    "%timeit lu = spla.splu(Kcsc_r)"
   ]
  },
  {
   "cell_type": "code",
   "execution_count": 20,
   "metadata": {},
   "outputs": [
    {
     "name": "stdout",
     "output_type": "stream",
     "text": [
      "1.46 s ± 9.6 ms per loop (mean ± std. dev. of 7 runs, 1 loop each)\n"
     ]
    }
   ],
   "source": [
    "dofs = f.shape[0]\n",
    "rhs = np.zeros((dofs,20))\n",
    "%timeit sol = lu.solve(rhs)"
   ]
  },
  {
   "cell_type": "code",
   "execution_count": 6,
   "metadata": {},
   "outputs": [],
   "source": [
    "# Times:<class 'pyoti.real.dmat'>\n",
    "# - Avg Assembly time:  4.063516 s \n",
    "# - Avg Boundary time:  0.001101 s \n",
    "# - Avg Solution time:  1.891620 s \n",
    "# - Avg Total run time: 5.956237 s \n",
    "\n",
    "# Times:<class 'pyoti.static.onumm1n10.omatm1n10'>\n",
    "# - Avg Assembly time:  12.215592 s \n",
    "# - Avg Boundary time:  0.003618 s \n",
    "# - Avg Solution time:  22.003144 s \n",
    "# - Avg Total run time: 34.222354 s \n",
    "\n",
    "\n",
    "\n",
    "# Using TESTS\n",
    "# Times:<class 'pyoti.static.onumm1n10.omatm1n10'>\n",
    "# - Avg Assembly time:  11.699303 s \n",
    "# - Avg Boundary time:  0.004151 s \n",
    "# - Avg Solution time:  11.196514 s \n",
    "# - Avg Total run time: 22.899968 s \n",
    "#\n",
    "# Changed the get/set im for the get order address form.\n",
    "# Times:<class 'pyoti.static.onumm1n10.omatm1n10'>\n",
    "# - Avg Assembly time:  11.407149 s \n",
    "# - Avg Boundary time:  0.001667 s \n",
    "# - Avg Solution time:  10.834901 s \n",
    "# - Avg Total run time: 22.243718 s \n",
    "#\n",
    "# Using Out functions\n",
    "# Times:<class 'pyoti.static.onumm1n10.omatm1n10'>\n",
    "# - Avg Assembly time:  10.884407 s \n",
    "# - Avg Boundary time:  0.001730 s \n",
    "# - Avg Solution time:  10.750995 s \n",
    "# - Avg Total run time: 21.637132 s \n",
    "\n",
    "\n",
    "\n",
    "\n",
    "\n",
    "\n",
    "\n",
    "# USing tests\n",
    "# Times:<class 'pyoti.static.mdnum2.mdmat2'>\n",
    "# - Avg Assembly time:  7.153970 s \n",
    "# - Avg Boundary time:  0.001681 s \n",
    "# - Avg Solution time:  2.932703 s \n",
    "# - Avg Total run time: 10.088355 s "
   ]
  },
  {
   "cell_type": "code",
   "execution_count": 7,
   "metadata": {},
   "outputs": [
    {
     "data": {
      "text/plain": [
       "array([[-2.97017026e-36],\n",
       "       [-2.97017026e-36],\n",
       "       [-2.97017026e-36],\n",
       "       ...,\n",
       "       [ 2.65709826e-05],\n",
       "       [ 1.77675050e-05],\n",
       "       [ 8.91051078e-06]])"
      ]
     },
     "execution_count": 7,
     "metadata": {},
     "output_type": "execute_result"
    }
   ],
   "source": [
    "u.real"
   ]
  },
  {
   "cell_type": "code",
   "execution_count": 12,
   "metadata": {},
   "outputs": [
    {
     "name": "stdout",
     "output_type": "stream",
     "text": [
      "128 ms ± 2.7 ms per loop (mean ± std. dev. of 7 runs, 10 loops each)\n"
     ]
    }
   ],
   "source": [
    "uord = u.copy()\n",
    "Kcsr=K.tocsr()\n",
    "%timeit alg.dot(Kcsr,u)"
   ]
  },
  {
   "cell_type": "code",
   "execution_count": 15,
   "metadata": {},
   "outputs": [
    {
     "name": "stdout",
     "output_type": "stream",
     "text": [
      "110 ms ± 1.22 ms per loop (mean ± std. dev. of 7 runs, 10 loops each)\n"
     ]
    }
   ],
   "source": [
    "%timeit alg.trunc_dot(1,Kcsr,1,u)"
   ]
  },
  {
   "cell_type": "code",
   "execution_count": 21,
   "metadata": {},
   "outputs": [
    {
     "data": {
      "text/plain": [
       "<(112225, 112225) sparse matrix of OTI numbers with \n",
       "         1006009 stored elements in Compressed Sparse Row format>"
      ]
     },
     "execution_count": 21,
     "metadata": {},
     "output_type": "execute_result"
    }
   ],
   "source": [
    "Kcsr = K.tocsr()\n",
    "Kcsr"
   ]
  },
  {
   "cell_type": "code",
   "execution_count": 42,
   "metadata": {},
   "outputs": [
    {
     "name": "stdout",
     "output_type": "stream",
     "text": [
      "128 ms ± 309 µs per loop (mean ± std. dev. of 7 runs, 10 loops each)\n"
     ]
    }
   ],
   "source": [
    "Kord = Kcsr.zeros_like()\n",
    "tmp = f.copy()\n",
    "# %timeit alg.get_order_im(3,f)\n",
    "%timeit alg.dot(Kcsr,f,out=tmp)"
   ]
  },
  {
   "cell_type": "code",
   "execution_count": 72,
   "metadata": {},
   "outputs": [
    {
     "name": "stdout",
     "output_type": "stream",
     "text": [
      "Assembly time:  14.034225 s \n",
      "Boundary time:  0.002524 s \n",
      "Solution time:  3.459164 s \n",
      "Total run time: 17.495913 s \n",
      "\n",
      "Assembly time:  13.489687 s \n",
      "Boundary time:  0.002084 s \n",
      "Solution time:  3.181534 s \n",
      "Total run time: 16.673305 s \n",
      "\n",
      "Assembly time:  12.527748 s \n",
      "Boundary time:  0.002040 s \n",
      "Solution time:  3.218981 s \n",
      "Total run time: 15.748769 s \n",
      "\n",
      "\n",
      "\n",
      "Times:<class 'pyoti.sparse.matso'>\n",
      "- Avg Assembly time:  13.350553 s \n",
      "- Avg Boundary time:  0.002216 s \n",
      "- Avg Solution time:  3.286560 s \n",
      "- Avg Total run time: 16.639329 s \n"
     ]
    }
   ],
   "source": [
    "times = {}\n",
    "times['assembly'] = []\n",
    "times['bc'] = []\n",
    "times['solve'] = []\n",
    "times['total'] = []\n",
    "\n",
    "for i in range(3):\n",
    "    u2,K2,f2 = solve_2d_problem_prealloc(Th)\n",
    "\n",
    "print('\\n\\nTimes:'+str(type(u)))\n",
    "print(\"- Avg Assembly time:  {0:.6f} s \".format(np.average(times['assembly'] ) ) )\n",
    "print(\"- Avg Boundary time:  {0:.6f} s \".format(np.average(times['bc'])      ) )\n",
    "print(\"- Avg Solution time:  {0:.6f} s \".format(np.average(times['solve'])   ) )\n",
    "print(\"- Avg Total run time: {0:.6f} s \".format(np.average(times['total'])   ) )\n",
    "# u_analytic = analytic_solution(Th)"
   ]
  },
  {
   "cell_type": "code",
   "execution_count": null,
   "metadata": {},
   "outputs": [],
   "source": []
  },
  {
   "cell_type": "code",
   "execution_count": null,
   "metadata": {},
   "outputs": [],
   "source": []
  },
  {
   "cell_type": "code",
   "execution_count": null,
   "metadata": {},
   "outputs": [],
   "source": []
  },
  {
   "cell_type": "code",
   "execution_count": 23,
   "metadata": {},
   "outputs": [
    {
     "data": {
      "text/plain": [
       "pyoti.real.dmat"
      ]
     },
     "execution_count": 23,
     "metadata": {},
     "output_type": "execute_result"
    }
   ],
   "source": [
    "type(u)"
   ]
  },
  {
   "cell_type": "code",
   "execution_count": 8,
   "metadata": {},
   "outputs": [
    {
     "name": "stdout",
     "output_type": "stream",
     "text": [
      "581 ms ± 13 ms per loop (mean ± std. dev. of 7 runs, 1 loop each)\n"
     ]
    }
   ],
   "source": [
    "%timeit K.tocsr()"
   ]
  },
  {
   "cell_type": "code",
   "execution_count": 8,
   "metadata": {},
   "outputs": [
    {
     "name": "stdout",
     "output_type": "stream",
     "text": [
      "858 ns ± 39.5 ns per loop (mean ± std. dev. of 7 runs, 1000000 loops each)\n"
     ]
    }
   ],
   "source": [
    "\n",
    "%timeit K[10,10]"
   ]
  },
  {
   "cell_type": "code",
   "execution_count": 7,
   "metadata": {},
   "outputs": [
    {
     "data": {
      "text/plain": [
       "pyoti.sparse.lil_matso"
      ]
     },
     "execution_count": 7,
     "metadata": {},
     "output_type": "execute_result"
    }
   ],
   "source": [
    "type(K)"
   ]
  },
  {
   "cell_type": "code",
   "execution_count": null,
   "metadata": {},
   "outputs": [],
   "source": [
    "%"
   ]
  },
  {
   "cell_type": "code",
   "execution_count": 6,
   "metadata": {},
   "outputs": [
    {
     "data": {
      "text/plain": [
       "< mesh (soti) object with 112225 nodes, 112896 elements of types ( point1 (4), line2 (1336), quad4 (111556) ) >"
      ]
     },
     "execution_count": 6,
     "metadata": {},
     "output_type": "execute_result"
    }
   ],
   "source": [
    "Th"
   ]
  },
  {
   "cell_type": "code",
   "execution_count": null,
   "metadata": {},
   "outputs": [],
   "source": [
    "# Mesh - 112896 (Quad4)\n",
    "# Assembly time:  24.293029 s \n",
    "# Boundary time:  0.002895 s \n",
    "# Solution time:  4.505786 s \n",
    "# Total run time: 28.801710 s\n",
    "\n",
    "\n",
    "# No Global Assembly\n",
    "# Assembly time:  19.667007 s # Elemental computation\n",
    "# Boundary time:  0.001495 s \n",
    "# Solution time:  0.001715 s \n",
    "# Total run time: 19.670217 s "
   ]
  },
  {
   "cell_type": "code",
   "execution_count": 10,
   "metadata": {},
   "outputs": [
    {
     "name": "stdout",
     "output_type": "stream",
     "text": [
      "903 ns ± 9.03 ns per loop (mean ± std. dev. of 7 runs, 1000000 loops each)\n"
     ]
    }
   ],
   "source": [
    "b = e(1)\n",
    "%timeit K[10,10] = K[10,10] + b"
   ]
  },
  {
   "cell_type": "code",
   "execution_count": 8,
   "metadata": {},
   "outputs": [],
   "source": [
    "# import pyvista as pv\n",
    "# p = pv.BackgroundPlotter()\n",
    "\n",
    "grid = Th.to_pv(pd = [u.real],pd_names=['u'])\n",
    "p.set_background('gray')\n",
    "p.clear()\n",
    "\n",
    "# p.add_mesh(grid, show_edges=False, line_width=2,grid = True,categories=16,cmap='jet')\n",
    "# p.add_mesh(grid, show_edges=True, line_width=2,grid = True,categories=256,cmap='jet')\n",
    "# p.add_mesh(grid.warp_by_scalar(factor = 3), show_edges=False, line_width=2,grid = True,categories=256,cmap='jet', scalar_bar_args={'interactive':True})\n",
    "p.add_mesh(grid, show_edges=True, line_width=2,grid = True,categories=256,cmap='jet', scalar_bar_args={'interactive':True})\n",
    "p.show_bounds()\n",
    "p.show_grid()"
   ]
  },
  {
   "cell_type": "code",
   "execution_count": 32,
   "metadata": {},
   "outputs": [],
   "source": [
    "# import pyvista as pv\n",
    "# p = pv.BackgroundPlotter()\n",
    "\n",
    "grid = Th.to_pv(pd = [u_analytic.real],pd_names=['u analytic'])\n",
    "\n",
    "p.clear()\n",
    "\n",
    "# p.add_mesh(grid, show_edges=False, line_width=2,grid = True,categories=16,cmap='jet')\n",
    "# p.add_mesh(grid, show_edges=True, line_width=2,grid = True,categories=256,cmap='jet')\n",
    "p.add_mesh(grid, show_edges=False, line_width=2,grid = True,categories=256,cmap='jet', scalar_bar_args={'interactive':True})\n",
    "p.show_bounds()\n",
    "p.show_grid()"
   ]
  },
  {
   "cell_type": "code",
   "execution_count": 12,
   "metadata": {},
   "outputs": [],
   "source": [
    "# import pyvista as pv\n",
    "# p = pv.BackgroundPlotter()\n",
    "\n",
    "grid = Th.to_pv(pd = [np.abs(((u_analytic-u)).real)],pd_names=['Abs $\\epsilon$ Error'])\n",
    "\n",
    "p.clear()\n",
    "\n",
    "# p.add_mesh(grid, show_edges=False, line_width=2,grid = True,categories=16,cmap='jet')\n",
    "# p.add_mesh(grid, show_edges=True, line_width=2,grid = True,categories=256,cmap='jet')\n",
    "p.add_mesh(grid.warp_by_scalar(factor = 3), show_edges=False, line_width=2,grid = True,categories=256,cmap='jet', scalar_bar_args={'interactive':True})\n",
    "p.set_background('gray')\n",
    "\n",
    "p.show_grid(xlabel='x', ylabel='y')"
   ]
  },
  {
   "cell_type": "code",
   "execution_count": 3,
   "metadata": {},
   "outputs": [],
   "source": [
    "fem.hex8.allocate(intorder = 2)\n",
    "fem.hex8.allocate_spatial(3,compute_Jinv = True)\n"
   ]
  },
  {
   "cell_type": "code",
   "execution_count": 8,
   "metadata": {},
   "outputs": [
    {
     "name": "stdout",
     "output_type": "stream",
     "text": [
      "31 µs ± 325 ns per loop (mean ± std. dev. of 7 runs, 10000 loops each)\n"
     ]
    }
   ],
   "source": [
    "a = oti.transpose(fem.hex8.N)\n",
    "b = fem.hex8.N\n",
    "\n",
    "%timeit oti.dot(a,b)"
   ]
  },
  {
   "cell_type": "code",
   "execution_count": 7,
   "metadata": {},
   "outputs": [
    {
     "data": {
      "text/plain": [
       "matsofe< nip: 8, \n",
       "(Integration point - 0) \n",
       "-------------------------\n",
       "matso< shape: (8, 8), \n",
       " - Column 0\n",
       "(0,0) 0.240652\n",
       "(1,0) 0.0644824\n",
       "(2,0) 0.017278\n",
       "(3,0) 0.0644824\n",
       "(4,0) 0.0644824\n",
       "(5,0) 0.017278\n",
       "(6,0) 0.00462963\n",
       "(7,0) 0.017278\n",
       " - Column 1\n",
       "(0,1) 0.0644824\n",
       "(1,1) 0.017278\n",
       "(2,1) 0.00462963\n",
       "(3,1) 0.017278\n",
       "(4,1) 0.017278\n",
       "(5,1) 0.00462963\n",
       "(6,1) 0.00124051\n",
       "(7,1) 0.00462963\n",
       " - Column 2\n",
       "(0,2) 0.017278\n",
       "(1,2) 0.00462963\n",
       "(2,2) 0.00124051\n",
       "(3,2) 0.00462963\n",
       "(4,2) 0.00462963\n",
       "(5,2) 0.00124051\n",
       "(6,2) 0.000332392\n",
       "(7,2) 0.00124051\n",
       " - Column 3\n",
       "(0,3) 0.0644824\n",
       "(1,3) 0.017278\n",
       "(2,3) 0.00462963\n",
       "(3,3) 0.017278\n",
       "(4,3) 0.017278\n",
       "(5,3) 0.00462963\n",
       "(6,3) 0.00124051\n",
       "(7,3) 0.00462963\n",
       " - Column 4\n",
       "(0,4) 0.0644824\n",
       "(1,4) 0.017278\n",
       "(2,4) 0.00462963\n",
       "(3,4) 0.017278\n",
       "(4,4) 0.017278\n",
       "(5,4) 0.00462963\n",
       "(6,4) 0.00124051\n",
       "(7,4) 0.00462963\n",
       " - Column 5\n",
       "(0,5) 0.017278\n",
       "(1,5) 0.00462963\n",
       "(2,5) 0.00124051\n",
       "(3,5) 0.00462963\n",
       "(4,5) 0.00462963\n",
       "(5,5) 0.00124051\n",
       "(6,5) 0.000332392\n",
       "(7,5) 0.00124051\n",
       " - Column 6\n",
       "(0,6) 0.00462963\n",
       "(1,6) 0.00124051\n",
       "(2,6) 0.000332392\n",
       "(3,6) 0.00124051\n",
       "(4,6) 0.00124051\n",
       "(5,6) 0.000332392\n",
       "(6,6) 8.90643e-05\n",
       "(7,6) 0.000332392\n",
       " - Column 7\n",
       "(0,7) 0.017278\n",
       "(1,7) 0.00462963\n",
       "(2,7) 0.00124051\n",
       "(3,7) 0.00462963\n",
       "(4,7) 0.00462963\n",
       "(5,7) 0.00124051\n",
       "(6,7) 0.000332392\n",
       "(7,7) 0.00124051\n",
       ">\n",
       "-------------------------\n",
       "(Integration point - 1) \n",
       "-------------------------\n",
       "matso< shape: (8, 8), \n",
       " - Column 0\n",
       "(0,0) 0.017278\n",
       "(1,0) 0.00462963\n",
       "(2,0) 0.00124051\n",
       "(3,0) 0.00462963\n",
       "(4,0) 0.0644824\n",
       "(5,0) 0.017278\n",
       "(6,0) 0.00462963\n",
       "(7,0) 0.017278\n",
       " - Column 1\n",
       "(0,1) 0.00462963\n",
       "(1,1) 0.00124051\n",
       "(2,1) 0.000332392\n",
       "(3,1) 0.00124051\n",
       "(4,1) 0.017278\n",
       "(5,1) 0.00462963\n",
       "(6,1) 0.00124051\n",
       "(7,1) 0.00462963\n",
       " - Column 2\n",
       "(0,2) 0.00124051\n",
       "(1,2) 0.000332392\n",
       "(2,2) 8.90643e-05\n",
       "(3,2) 0.000332392\n",
       "(4,2) 0.00462963\n",
       "(5,2) 0.00124051\n",
       "(6,2) 0.000332392\n",
       "(7,2) 0.00124051\n",
       " - Column 3\n",
       "(0,3) 0.00462963\n",
       "(1,3) 0.00124051\n",
       "(2,3) 0.000332392\n",
       "(3,3) 0.00124051\n",
       "(4,3) 0.017278\n",
       "(5,3) 0.00462963\n",
       "(6,3) 0.00124051\n",
       "(7,3) 0.00462963\n",
       " - Column 4\n",
       "(0,4) 0.0644824\n",
       "(1,4) 0.017278\n",
       "(2,4) 0.00462963\n",
       "(3,4) 0.017278\n",
       "(4,4) 0.240652\n",
       "(5,4) 0.0644824\n",
       "(6,4) 0.017278\n",
       "(7,4) 0.0644824\n",
       " - Column 5\n",
       "(0,5) 0.017278\n",
       "(1,5) 0.00462963\n",
       "(2,5) 0.00124051\n",
       "(3,5) 0.00462963\n",
       "(4,5) 0.0644824\n",
       "(5,5) 0.017278\n",
       "(6,5) 0.00462963\n",
       "(7,5) 0.017278\n",
       " - Column 6\n",
       "(0,6) 0.00462963\n",
       "(1,6) 0.00124051\n",
       "(2,6) 0.000332392\n",
       "(3,6) 0.00124051\n",
       "(4,6) 0.017278\n",
       "(5,6) 0.00462963\n",
       "(6,6) 0.00124051\n",
       "(7,6) 0.00462963\n",
       " - Column 7\n",
       "(0,7) 0.017278\n",
       "(1,7) 0.00462963\n",
       "(2,7) 0.00124051\n",
       "(3,7) 0.00462963\n",
       "(4,7) 0.0644824\n",
       "(5,7) 0.017278\n",
       "(6,7) 0.00462963\n",
       "(7,7) 0.017278\n",
       ">\n",
       "-------------------------\n",
       "(Integration point - 2) \n",
       "-------------------------\n",
       "matso< shape: (8, 8), \n",
       " - Column 0\n",
       "(0,0) 0.017278\n",
       "(1,0) 0.00462963\n",
       "(2,0) 0.017278\n",
       "(3,0) 0.0644824\n",
       "(4,0) 0.00462963\n",
       "(5,0) 0.00124051\n",
       "(6,0) 0.00462963\n",
       "(7,0) 0.017278\n",
       " - Column 1\n",
       "(0,1) 0.00462963\n",
       "(1,1) 0.00124051\n",
       "(2,1) 0.00462963\n",
       "(3,1) 0.017278\n",
       "(4,1) 0.00124051\n",
       "(5,1) 0.000332392\n",
       "(6,1) 0.00124051\n",
       "(7,1) 0.00462963\n",
       " - Column 2\n",
       "(0,2) 0.017278\n",
       "(1,2) 0.00462963\n",
       "(2,2) 0.017278\n",
       "(3,2) 0.0644824\n",
       "(4,2) 0.00462963\n",
       "(5,2) 0.00124051\n",
       "(6,2) 0.00462963\n",
       "(7,2) 0.017278\n",
       " - Column 3\n",
       "(0,3) 0.0644824\n",
       "(1,3) 0.017278\n",
       "(2,3) 0.0644824\n",
       "(3,3) 0.240652\n",
       "(4,3) 0.017278\n",
       "(5,3) 0.00462963\n",
       "(6,3) 0.017278\n",
       "(7,3) 0.0644824\n",
       " - Column 4\n",
       "(0,4) 0.00462963\n",
       "(1,4) 0.00124051\n",
       "(2,4) 0.00462963\n",
       "(3,4) 0.017278\n",
       "(4,4) 0.00124051\n",
       "(5,4) 0.000332392\n",
       "(6,4) 0.00124051\n",
       "(7,4) 0.00462963\n",
       " - Column 5\n",
       "(0,5) 0.00124051\n",
       "(1,5) 0.000332392\n",
       "(2,5) 0.00124051\n",
       "(3,5) 0.00462963\n",
       "(4,5) 0.000332392\n",
       "(5,5) 8.90643e-05\n",
       "(6,5) 0.000332392\n",
       "(7,5) 0.00124051\n",
       " - Column 6\n",
       "(0,6) 0.00462963\n",
       "(1,6) 0.00124051\n",
       "(2,6) 0.00462963\n",
       "(3,6) 0.017278\n",
       "(4,6) 0.00124051\n",
       "(5,6) 0.000332392\n",
       "(6,6) 0.00124051\n",
       "(7,6) 0.00462963\n",
       " - Column 7\n",
       "(0,7) 0.017278\n",
       "(1,7) 0.00462963\n",
       "(2,7) 0.017278\n",
       "(3,7) 0.0644824\n",
       "(4,7) 0.00462963\n",
       "(5,7) 0.00124051\n",
       "(6,7) 0.00462963\n",
       "(7,7) 0.017278\n",
       ">\n",
       "-------------------------\n",
       "(Integration point - 3) \n",
       "-------------------------\n",
       "matso< shape: (8, 8), \n",
       " - Column 0\n",
       "(0,0) 0.00124051\n",
       "(1,0) 0.000332392\n",
       "(2,0) 0.00124051\n",
       "(3,0) 0.00462963\n",
       "(4,0) 0.00462963\n",
       "(5,0) 0.00124051\n",
       "(6,0) 0.00462963\n",
       "(7,0) 0.017278\n",
       " - Column 1\n",
       "(0,1) 0.000332392\n",
       "(1,1) 8.90643e-05\n",
       "(2,1) 0.000332392\n",
       "(3,1) 0.00124051\n",
       "(4,1) 0.00124051\n",
       "(5,1) 0.000332392\n",
       "(6,1) 0.00124051\n",
       "(7,1) 0.00462963\n",
       " - Column 2\n",
       "(0,2) 0.00124051\n",
       "(1,2) 0.000332392\n",
       "(2,2) 0.00124051\n",
       "(3,2) 0.00462963\n",
       "(4,2) 0.00462963\n",
       "(5,2) 0.00124051\n",
       "(6,2) 0.00462963\n",
       "(7,2) 0.017278\n",
       " - Column 3\n",
       "(0,3) 0.00462963\n",
       "(1,3) 0.00124051\n",
       "(2,3) 0.00462963\n",
       "(3,3) 0.017278\n",
       "(4,3) 0.017278\n",
       "(5,3) 0.00462963\n",
       "(6,3) 0.017278\n",
       "(7,3) 0.0644824\n",
       " - Column 4\n",
       "(0,4) 0.00462963\n",
       "(1,4) 0.00124051\n",
       "(2,4) 0.00462963\n",
       "(3,4) 0.017278\n",
       "(4,4) 0.017278\n",
       "(5,4) 0.00462963\n",
       "(6,4) 0.017278\n",
       "(7,4) 0.0644824\n",
       " - Column 5\n",
       "(0,5) 0.00124051\n",
       "(1,5) 0.000332392\n",
       "(2,5) 0.00124051\n",
       "(3,5) 0.00462963\n",
       "(4,5) 0.00462963\n",
       "(5,5) 0.00124051\n",
       "(6,5) 0.00462963\n",
       "(7,5) 0.017278\n",
       " - Column 6\n",
       "(0,6) 0.00462963\n",
       "(1,6) 0.00124051\n",
       "(2,6) 0.00462963\n",
       "(3,6) 0.017278\n",
       "(4,6) 0.017278\n",
       "(5,6) 0.00462963\n",
       "(6,6) 0.017278\n",
       "(7,6) 0.0644824\n",
       " - Column 7\n",
       "(0,7) 0.017278\n",
       "(1,7) 0.00462963\n",
       "(2,7) 0.017278\n",
       "(3,7) 0.0644824\n",
       "(4,7) 0.0644824\n",
       "(5,7) 0.017278\n",
       "(6,7) 0.0644824\n",
       "(7,7) 0.240652\n",
       ">\n",
       "-------------------------\n",
       "(Integration point - 4) \n",
       "-------------------------\n",
       "matso< shape: (8, 8), \n",
       " - Column 0\n",
       "(0,0) 0.017278\n",
       "(1,0) 0.0644824\n",
       "(2,0) 0.017278\n",
       "(3,0) 0.00462963\n",
       "(4,0) 0.00462963\n",
       "(5,0) 0.017278\n",
       "(6,0) 0.00462963\n",
       "(7,0) 0.00124051\n",
       " - Column 1\n",
       "(0,1) 0.0644824\n",
       "(1,1) 0.240652\n",
       "(2,1) 0.0644824\n",
       "(3,1) 0.017278\n",
       "(4,1) 0.017278\n",
       "(5,1) 0.0644824\n",
       "(6,1) 0.017278\n",
       "(7,1) 0.00462963\n",
       " - Column 2\n",
       "(0,2) 0.017278\n",
       "(1,2) 0.0644824\n",
       "(2,2) 0.017278\n",
       "(3,2) 0.00462963\n",
       "(4,2) 0.00462963\n",
       "(5,2) 0.017278\n",
       "(6,2) 0.00462963\n",
       "(7,2) 0.00124051\n",
       " - Column 3\n",
       "(0,3) 0.00462963\n",
       "(1,3) 0.017278\n",
       "(2,3) 0.00462963\n",
       "(3,3) 0.00124051\n",
       "(4,3) 0.00124051\n",
       "(5,3) 0.00462963\n",
       "(6,3) 0.00124051\n",
       "(7,3) 0.000332392\n",
       " - Column 4\n",
       "(0,4) 0.00462963\n",
       "(1,4) 0.017278\n",
       "(2,4) 0.00462963\n",
       "(3,4) 0.00124051\n",
       "(4,4) 0.00124051\n",
       "(5,4) 0.00462963\n",
       "(6,4) 0.00124051\n",
       "(7,4) 0.000332392\n",
       " - Column 5\n",
       "(0,5) 0.017278\n",
       "(1,5) 0.0644824\n",
       "(2,5) 0.017278\n",
       "(3,5) 0.00462963\n",
       "(4,5) 0.00462963\n",
       "(5,5) 0.017278\n",
       "(6,5) 0.00462963\n",
       "(7,5) 0.00124051\n",
       " - Column 6\n",
       "(0,6) 0.00462963\n",
       "(1,6) 0.017278\n",
       "(2,6) 0.00462963\n",
       "(3,6) 0.00124051\n",
       "(4,6) 0.00124051\n",
       "(5,6) 0.00462963\n",
       "(6,6) 0.00124051\n",
       "(7,6) 0.000332392\n",
       " - Column 7\n",
       "(0,7) 0.00124051\n",
       "(1,7) 0.00462963\n",
       "(2,7) 0.00124051\n",
       "(3,7) 0.000332392\n",
       "(4,7) 0.000332392\n",
       "(5,7) 0.00124051\n",
       "(6,7) 0.000332392\n",
       "(7,7) 8.90643e-05\n",
       ">\n",
       "-------------------------\n",
       "(Integration point - 5) \n",
       "-------------------------\n",
       "matso< shape: (8, 8), \n",
       " - Column 0\n",
       "(0,0) 0.00124051\n",
       "(1,0) 0.00462963\n",
       "(2,0) 0.00124051\n",
       "(3,0) 0.000332392\n",
       "(4,0) 0.00462963\n",
       "(5,0) 0.017278\n",
       "(6,0) 0.00462963\n",
       "(7,0) 0.00124051\n",
       " - Column 1\n",
       "(0,1) 0.00462963\n",
       "(1,1) 0.017278\n",
       "(2,1) 0.00462963\n",
       "(3,1) 0.00124051\n",
       "(4,1) 0.017278\n",
       "(5,1) 0.0644824\n",
       "(6,1) 0.017278\n",
       "(7,1) 0.00462963\n",
       " - Column 2\n",
       "(0,2) 0.00124051\n",
       "(1,2) 0.00462963\n",
       "(2,2) 0.00124051\n",
       "(3,2) 0.000332392\n",
       "(4,2) 0.00462963\n",
       "(5,2) 0.017278\n",
       "(6,2) 0.00462963\n",
       "(7,2) 0.00124051\n",
       " - Column 3\n",
       "(0,3) 0.000332392\n",
       "(1,3) 0.00124051\n",
       "(2,3) 0.000332392\n",
       "(3,3) 8.90643e-05\n",
       "(4,3) 0.00124051\n",
       "(5,3) 0.00462963\n",
       "(6,3) 0.00124051\n",
       "(7,3) 0.000332392\n",
       " - Column 4\n",
       "(0,4) 0.00462963\n",
       "(1,4) 0.017278\n",
       "(2,4) 0.00462963\n",
       "(3,4) 0.00124051\n",
       "(4,4) 0.017278\n",
       "(5,4) 0.0644824\n",
       "(6,4) 0.017278\n",
       "(7,4) 0.00462963\n",
       " - Column 5\n",
       "(0,5) 0.017278\n",
       "(1,5) 0.0644824\n",
       "(2,5) 0.017278\n",
       "(3,5) 0.00462963\n",
       "(4,5) 0.0644824\n",
       "(5,5) 0.240652\n",
       "(6,5) 0.0644824\n",
       "(7,5) 0.017278\n",
       " - Column 6\n",
       "(0,6) 0.00462963\n",
       "(1,6) 0.017278\n",
       "(2,6) 0.00462963\n",
       "(3,6) 0.00124051\n",
       "(4,6) 0.017278\n",
       "(5,6) 0.0644824\n",
       "(6,6) 0.017278\n",
       "(7,6) 0.00462963\n",
       " - Column 7\n",
       "(0,7) 0.00124051\n",
       "(1,7) 0.00462963\n",
       "(2,7) 0.00124051\n",
       "(3,7) 0.000332392\n",
       "(4,7) 0.00462963\n",
       "(5,7) 0.017278\n",
       "(6,7) 0.00462963\n",
       "(7,7) 0.00124051\n",
       ">\n",
       "-------------------------\n",
       "(Integration point - 6) \n",
       "-------------------------\n",
       "matso< shape: (8, 8), \n",
       " - Column 0\n",
       "(0,0) 0.00124051\n",
       "(1,0) 0.00462963\n",
       "(2,0) 0.017278\n",
       "(3,0) 0.00462963\n",
       "(4,0) 0.000332392\n",
       "(5,0) 0.00124051\n",
       "(6,0) 0.00462963\n",
       "(7,0) 0.00124051\n",
       " - Column 1\n",
       "(0,1) 0.00462963\n",
       "(1,1) 0.017278\n",
       "(2,1) 0.0644824\n",
       "(3,1) 0.017278\n",
       "(4,1) 0.00124051\n",
       "(5,1) 0.00462963\n",
       "(6,1) 0.017278\n",
       "(7,1) 0.00462963\n",
       " - Column 2\n",
       "(0,2) 0.017278\n",
       "(1,2) 0.0644824\n",
       "(2,2) 0.240652\n",
       "(3,2) 0.0644824\n",
       "(4,2) 0.00462963\n",
       "(5,2) 0.017278\n",
       "(6,2) 0.0644824\n",
       "(7,2) 0.017278\n",
       " - Column 3\n",
       "(0,3) 0.00462963\n",
       "(1,3) 0.017278\n",
       "(2,3) 0.0644824\n",
       "(3,3) 0.017278\n",
       "(4,3) 0.00124051\n",
       "(5,3) 0.00462963\n",
       "(6,3) 0.017278\n",
       "(7,3) 0.00462963\n",
       " - Column 4\n",
       "(0,4) 0.000332392\n",
       "(1,4) 0.00124051\n",
       "(2,4) 0.00462963\n",
       "(3,4) 0.00124051\n",
       "(4,4) 8.90643e-05\n",
       "(5,4) 0.000332392\n",
       "(6,4) 0.00124051\n",
       "(7,4) 0.000332392\n",
       " - Column 5\n",
       "(0,5) 0.00124051\n",
       "(1,5) 0.00462963\n",
       "(2,5) 0.017278\n",
       "(3,5) 0.00462963\n",
       "(4,5) 0.000332392\n",
       "(5,5) 0.00124051\n",
       "(6,5) 0.00462963\n",
       "(7,5) 0.00124051\n",
       " - Column 6\n",
       "(0,6) 0.00462963\n",
       "(1,6) 0.017278\n",
       "(2,6) 0.0644824\n",
       "(3,6) 0.017278\n",
       "(4,6) 0.00124051\n",
       "(5,6) 0.00462963\n",
       "(6,6) 0.017278\n",
       "(7,6) 0.00462963\n",
       " - Column 7\n",
       "(0,7) 0.00124051\n",
       "(1,7) 0.00462963\n",
       "(2,7) 0.017278\n",
       "(3,7) 0.00462963\n",
       "(4,7) 0.000332392\n",
       "(5,7) 0.00124051\n",
       "(6,7) 0.00462963\n",
       "(7,7) 0.00124051\n",
       ">\n",
       "-------------------------\n",
       "(Integration point - 7) \n",
       "-------------------------\n",
       "matso< shape: (8, 8), \n",
       " - Column 0\n",
       "(0,0) 8.90643e-05\n",
       "(1,0) 0.000332392\n",
       "(2,0) 0.00124051\n",
       "(3,0) 0.000332392\n",
       "(4,0) 0.000332392\n",
       "(5,0) 0.00124051\n",
       "(6,0) 0.00462963\n",
       "(7,0) 0.00124051\n",
       " - Column 1\n",
       "(0,1) 0.000332392\n",
       "(1,1) 0.00124051\n",
       "(2,1) 0.00462963\n",
       "(3,1) 0.00124051\n",
       "(4,1) 0.00124051\n",
       "(5,1) 0.00462963\n",
       "(6,1) 0.017278\n",
       "(7,1) 0.00462963\n",
       " - Column 2\n",
       "(0,2) 0.00124051\n",
       "(1,2) 0.00462963\n",
       "(2,2) 0.017278\n",
       "(3,2) 0.00462963\n",
       "(4,2) 0.00462963\n",
       "(5,2) 0.017278\n",
       "(6,2) 0.0644824\n",
       "(7,2) 0.017278\n",
       " - Column 3\n",
       "(0,3) 0.000332392\n",
       "(1,3) 0.00124051\n",
       "(2,3) 0.00462963\n",
       "(3,3) 0.00124051\n",
       "(4,3) 0.00124051\n",
       "(5,3) 0.00462963\n",
       "(6,3) 0.017278\n",
       "(7,3) 0.00462963\n",
       " - Column 4\n",
       "(0,4) 0.000332392\n",
       "(1,4) 0.00124051\n",
       "(2,4) 0.00462963\n",
       "(3,4) 0.00124051\n",
       "(4,4) 0.00124051\n",
       "(5,4) 0.00462963\n",
       "(6,4) 0.017278\n",
       "(7,4) 0.00462963\n",
       " - Column 5\n",
       "(0,5) 0.00124051\n",
       "(1,5) 0.00462963\n",
       "(2,5) 0.017278\n",
       "(3,5) 0.00462963\n",
       "(4,5) 0.00462963\n",
       "(5,5) 0.017278\n",
       "(6,5) 0.0644824\n",
       "(7,5) 0.017278\n",
       " - Column 6\n",
       "(0,6) 0.00462963\n",
       "(1,6) 0.017278\n",
       "(2,6) 0.0644824\n",
       "(3,6) 0.017278\n",
       "(4,6) 0.017278\n",
       "(5,6) 0.0644824\n",
       "(6,6) 0.240652\n",
       "(7,6) 0.0644824\n",
       " - Column 7\n",
       "(0,7) 0.00124051\n",
       "(1,7) 0.00462963\n",
       "(2,7) 0.017278\n",
       "(3,7) 0.00462963\n",
       "(4,7) 0.00462963\n",
       "(5,7) 0.017278\n",
       "(6,7) 0.0644824\n",
       "(7,7) 0.017278\n",
       ">\n",
       "-------------------------\n",
       ">"
      ]
     },
     "execution_count": 7,
     "metadata": {},
     "output_type": "execute_result"
    }
   ],
   "source": [
    "oti.dot(a,b)"
   ]
  },
  {
   "cell_type": "code",
   "execution_count": 10,
   "metadata": {},
   "outputs": [
    {
     "data": {
      "text/plain": [
       "8"
      ]
     },
     "execution_count": 10,
     "metadata": {},
     "output_type": "execute_result"
    }
   ],
   "source": [
    "fem.hex8.nip"
   ]
  },
  {
   "cell_type": "code",
   "execution_count": 25,
   "metadata": {},
   "outputs": [],
   "source": [
    "x1 = np.zeros((8,8,1))\n",
    "x2 = np.zeros((8,1,8))"
   ]
  },
  {
   "cell_type": "code",
   "execution_count": 26,
   "metadata": {},
   "outputs": [],
   "source": [
    "def dot_fem(a,b):\n",
    "    \n",
    "    nip  = a.shape[0]\n",
    "    nrow = a.shape[1]\n",
    "    ncol = b.shape[2]\n",
    "    \n",
    "    res  = np.zeros((nip,nrow,ncol))\n",
    "    \n",
    "    for i in range(nip):\n",
    "        res[i] = np.dot(a[i],b[i])\n",
    "    # end for \n",
    "    \n",
    "    return res\n",
    "\n",
    "# end "
   ]
  },
  {
   "cell_type": "code",
   "execution_count": 27,
   "metadata": {},
   "outputs": [
    {
     "name": "stdout",
     "output_type": "stream",
     "text": [
      "22.3 µs ± 520 ns per loop (mean ± std. dev. of 7 runs, 10000 loops each)\n"
     ]
    }
   ],
   "source": [
    "%timeit dot_fem(x1,x2)"
   ]
  },
  {
   "cell_type": "code",
   "execution_count": 28,
   "metadata": {},
   "outputs": [
    {
     "name": "stdout",
     "output_type": "stream",
     "text": [
      "18.4 µs ± 91.2 ns per loop (mean ± std. dev. of 7 runs, 100000 loops each)\n"
     ]
    }
   ],
   "source": [
    "%timeit dot_fem(x2,x1)"
   ]
  },
  {
   "cell_type": "code",
   "execution_count": 30,
   "metadata": {},
   "outputs": [
    {
     "name": "stdout",
     "output_type": "stream",
     "text": [
      "3.23 µs ± 30.8 ns per loop (mean ± std. dev. of 7 runs, 100000 loops each)\n"
     ]
    }
   ],
   "source": [
    "%timeit oti.dot_product(a,b)"
   ]
  },
  {
   "cell_type": "code",
   "execution_count": 31,
   "metadata": {},
   "outputs": [
    {
     "data": {
      "text/plain": [
       "8"
      ]
     },
     "execution_count": 31,
     "metadata": {},
     "output_type": "execute_result"
    }
   ],
   "source": [
    "a.nip"
   ]
  },
  {
   "cell_type": "code",
   "execution_count": 2,
   "metadata": {},
   "outputs": [],
   "source": [
    "import sympy as sym"
   ]
  },
  {
   "cell_type": "code",
   "execution_count": 3,
   "metadata": {},
   "outputs": [],
   "source": [
    "x,y = sym.symbols(\"x y\")\n",
    "f = x*(1-x)*y*(1-y)"
   ]
  },
  {
   "cell_type": "code",
   "execution_count": 5,
   "metadata": {},
   "outputs": [],
   "source": [
    "laplace = f.diff(x,2)+f.diff(y,2)"
   ]
  },
  {
   "cell_type": "code",
   "execution_count": 6,
   "metadata": {},
   "outputs": [
    {
     "data": {
      "text/latex": [
       "$\\displaystyle 2 x^{2} - 2 x + 2 y^{2} - 2 y$"
      ],
      "text/plain": [
       "2*x**2 - 2*x + 2*y**2 - 2*y"
      ]
     },
     "execution_count": 6,
     "metadata": {},
     "output_type": "execute_result"
    }
   ],
   "source": [
    "laplace.expand()"
   ]
  },
  {
   "cell_type": "code",
   "execution_count": null,
   "metadata": {},
   "outputs": [],
   "source": []
  }
 ],
 "metadata": {
  "kernelspec": {
   "display_name": "Python 3",
   "language": "python",
   "name": "python3"
  },
  "language_info": {
   "codemirror_mode": {
    "name": "ipython",
    "version": 3
   },
   "file_extension": ".py",
   "mimetype": "text/x-python",
   "name": "python",
   "nbconvert_exporter": "python",
   "pygments_lexer": "ipython3",
   "version": "3.7.3"
  }
 },
 "nbformat": 4,
 "nbformat_minor": 2
}
