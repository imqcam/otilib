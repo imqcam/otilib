{
 "cells": [
  {
   "cell_type": "code",
   "execution_count": 1,
   "metadata": {},
   "outputs": [],
   "source": [
    "import scipy.sparse as spr\n",
    "import sys\n",
    "path2oti = '../../../build/'\n",
    "sys.path.append(path2oti) # Add path to OTI library.\n",
    "\n",
    "import pyoti.sparse as oti \n",
    "import pyoti.core   as coti\n",
    "import pyoti.fem    as fem \n",
    "\n",
    "%matplotlib notebook\n",
    "import matplotlib.pyplot as plt\n",
    "from mpl_toolkits.mplot3d import Axes3D\n",
    "\n",
    "e  = oti.e\n",
    "np = oti.np\n"
   ]
  },
  {
   "cell_type": "code",
   "execution_count": 2,
   "metadata": {},
   "outputs": [
    {
     "name": "stderr",
     "output_type": "stream",
     "text": [
      "/Users/maristi7/opt/anaconda3/envs/pyoti/lib/python3.7/site-packages/numpy/ctypeslib.py:523: RuntimeWarning: A builtin ctypes object gave a PEP3118 format string that does not match its itemsize, so a best-guess will be made of the data type. Newer versions of python may behave correctly.\n",
      "  return array(obj, copy=False)\n"
     ]
    }
   ],
   "source": [
    "Th = fem.line(0,1,0.25)\n",
    "    "
   ]
  },
  {
   "cell_type": "code",
   "execution_count": 7,
   "metadata": {},
   "outputs": [
    {
     "data": {
      "text/plain": [
       "(vtkRenderingOpenGL2Python.vtkOpenGLActor)0x7ffcc276a0a8"
      ]
     },
     "execution_count": 7,
     "metadata": {},
     "output_type": "execute_result"
    }
   ],
   "source": [
    "import pyvista as pv\n",
    "p = pv.BackgroundPlotter()\n",
    "\n",
    "grid = Th.to_pv()\n",
    "\n",
    "p.clear()\n",
    "\n",
    "# p.add_mesh(grid, show_edges=False, line_width=2,grid = True,categories=16,cmap='jet')\n",
    "p.add_mesh(grid, show_edges=True, line_width=2,grid = True,categories=16,cmap='jet')"
   ]
  },
  {
   "cell_type": "code",
   "execution_count": 9,
   "metadata": {},
   "outputs": [
    {
     "data": {
      "text/plain": [
       "{'types': array([1], dtype=int32),\n",
       " 'tags': [array([3, 4, 5, 6], dtype=uint64)],\n",
       " 'indices': [array([[0, 2],\n",
       "         [2, 3],\n",
       "         [3, 4],\n",
       "         [4, 1]], dtype=uint64)]}"
      ]
     },
     "execution_count": 9,
     "metadata": {},
     "output_type": "execute_result"
    }
   ],
   "source": [
    "# The problem to be solved:\n",
    "# \n",
    "# \n",
    "Th.elements[1]"
   ]
  },
  {
   "cell_type": "code",
   "execution_count": 11,
   "metadata": {},
   "outputs": [],
   "source": [
    "elLine = fem.element[1]\n",
    "elLine.end()\n",
    "elLine.allocate(2)\n",
    "elLine.allocate_spatial(1,compute_Jinv = True)\n"
   ]
  },
  {
   "cell_type": "code",
   "execution_count": 18,
   "metadata": {},
   "outputs": [
    {
     "data": {
      "text/plain": [
       "matso< shape: (5, 1), \n",
       " - Column 0\n",
       "(0,0) 0\n",
       "(1,0) 1\n",
       "(2,0) 0.25\n",
       "(3,0) 0.5\n",
       "(4,0) 0.75\n",
       ">"
      ]
     },
     "execution_count": 18,
     "metadata": {},
     "output_type": "execute_result"
    }
   ],
   "source": [
    "Th.x"
   ]
  },
  {
   "cell_type": "code",
   "execution_count": 19,
   "metadata": {},
   "outputs": [],
   "source": [
    "elLine.set_coordinates(Th.x,Th.y,Th.z,Th.elements[1]['indices'][0][0])"
   ]
  },
  {
   "cell_type": "code",
   "execution_count": 20,
   "metadata": {},
   "outputs": [],
   "source": [
    "elLine.compute_jacobian()"
   ]
  },
  {
   "cell_type": "code",
   "execution_count": 26,
   "metadata": {},
   "outputs": [
    {
     "data": {
      "text/plain": [
       "matso< shape: (2, 2), \n",
       " - Column 0\n",
       "(0,0) -3.91667\n",
       "(1,0) 4.04167\n",
       " - Column 1\n",
       "(0,1) 4.04167\n",
       "(1,1) -3.91667\n",
       ">"
      ]
     },
     "execution_count": 26,
     "metadata": {},
     "output_type": "execute_result"
    }
   ],
   "source": [
    "oti.gauss_integrate(-oti.dot(oti.transpose(elLine.Nx),elLine.Nx)+oti.dot(oti.transpose(elLine.N),elLine.N),elLine.w_dJ)"
   ]
  },
  {
   "cell_type": "code",
   "execution_count": 28,
   "metadata": {},
   "outputs": [
    {
     "data": {
      "text/plain": [
       "matso< shape: (2, 1), \n",
       " - Column 0\n",
       "(0,0) 1.25\n",
       "(1,0) 1.25\n",
       ">"
      ]
     },
     "execution_count": 28,
     "metadata": {},
     "output_type": "execute_result"
    }
   ],
   "source": [
    "10*oti.gauss_integrate(oti.transpose(elLine.N),elLine.w_dJ)"
   ]
  },
  {
   "cell_type": "code",
   "execution_count": 30,
   "metadata": {},
   "outputs": [
    {
     "data": {
      "text/plain": [
       "<(5, 5) sparse matrix of OTI numbers with \n",
       "         0 stored elements in LInked List format>"
      ]
     },
     "execution_count": 30,
     "metadata": {},
     "output_type": "execute_result"
    }
   ],
   "source": [
    "\n",
    "K"
   ]
  },
  {
   "cell_type": "code",
   "execution_count": 81,
   "metadata": {},
   "outputs": [],
   "source": [
    "#*****************************************************************************************************\n",
    "def solve_1d_problem(Th):\n",
    "    \n",
    "    els = Th.elements[1]\n",
    "\n",
    "    fem.end_elements()\n",
    "    K = oti.lil_matso((Th.x.shape[0],Th.x.shape[0]))\n",
    "    f = oti.zeros((Th.x.shape[0],1))\n",
    "#     print(f)\n",
    "#     print(K)\n",
    "    #integrate 2D a fem array.\n",
    "    for j in range(els['types'].size):\n",
    "\n",
    "        elem = fem.element[ els['types'][j] ]\n",
    "\n",
    "        if not elem.is_allocated():\n",
    "\n",
    "            elem.end()\n",
    "            elem.allocate(intorder=2)\n",
    "            elem.allocate_spatial(1,compute_Jinv = True)\n",
    "\n",
    "            # Here the temporals shhould be created.\n",
    "            # - Elemental K\n",
    "#             Kel = oti.zeros( ( elem.nbasis, elem.nbasis ) )\n",
    "            # - Elemental f\n",
    "#             fel = oti.zeros( ( elem.nbasis, 1 ) )\n",
    "#             tmp1 = oti.zeros(nip=elem.nip)\n",
    "\n",
    "#             tmp2 = zero()\n",
    "\n",
    "        # end if \n",
    "\n",
    "        elm_nodes = els['indices'][j]\n",
    "\n",
    "        for i in range(elm_nodes.shape[0]):\n",
    "            \n",
    "#             Kel.set(0.0); fel.set(0.0)\n",
    "\n",
    "            elem.set_coordinates(Th.x,Th.y,Th.z,elm_nodes[i,:])\n",
    "            elem.compute_jacobian()\n",
    "\n",
    "            Nx = elem.Nx\n",
    "            N  = elem.N\n",
    "            \n",
    "            Kel = oti.gauss_integrate(-oti.dot(oti.transpose(Nx),Nx)+oti.dot(oti.transpose(N),N),elem.w_dJ)\n",
    "            fel = 10*oti.gauss_integrate(oti.transpose(N),elem.w_dJ)\n",
    "            \n",
    "            \n",
    "#             print(\" ----------------------------- \")\n",
    "#             print(Kel)\n",
    "#             print(fel)\n",
    "\n",
    "            assemble_globals(Kel,fel,K,f,elm_nodes[i,:])\n",
    "            \n",
    "#             print(K)\n",
    "#             print(f)\n",
    "#             print(\" ----------------------------- \")\n",
    "#             print(\"\")            \n",
    "            # integral = integral + gauss_integrate( dot_product( fh, elem.N), elem.w_dJ)\n",
    "\n",
    "            # integral = integral + oti.dot_product( fh, oti.gauss_integrate( element.N, element.w_dJ) )\n",
    "\n",
    "        # end for\n",
    "\n",
    "    # end for\n",
    "\n",
    "    fem.end_elements()   \n",
    "    \n",
    "    # Setting Dirichlet BCs using TGV.\n",
    "    TGV = 1e30\n",
    "\n",
    "    K[0,0] = TGV\n",
    "    f[0,0] = 1.0*TGV\n",
    "\n",
    "    K[1,1] = TGV\n",
    "    f[1,0] = 4.0*TGV\n",
    "    \n",
    "    u = oti.solve(K.tocsr(),f)\n",
    "\n",
    "    return u,K,f\n",
    "\n",
    "    #-----------------------------------------------------------------------------------------------------\n",
    "    \n",
    "def assemble_globals(Kel,fel,Kgl,fgl,elem):\n",
    "    \n",
    "    \n",
    "    for i in range(elem.size):\n",
    "        \n",
    "        ii=int(elem[i])\n",
    "        \n",
    "        for j in range(elem.size):\n",
    "\n",
    "            jj=int(elem[j])\n",
    "        \n",
    "            Kgl[ii,jj] = Kgl[ii,jj] + Kel[i,j]\n",
    "            \n",
    "        # end for \n",
    "        fgl[ii,0] = fgl[ii,0] + fel[i,0]\n",
    "        \n",
    "    # end for \n",
    "    "
   ]
  },
  {
   "cell_type": "code",
   "execution_count": 82,
   "metadata": {},
   "outputs": [
    {
     "name": "stdout",
     "output_type": "stream",
     "text": [
      "(  0,  0) 1e+30\n",
      "(  0,  2) 4.04167\n",
      "(  1,  1) 1e+30\n",
      "(  1,  4) 4.04167\n",
      "(  2,  0) 4.04167\n",
      "(  2,  2) -7.83333\n",
      "(  2,  3) 4.04167\n",
      "(  3,  2) 4.04167\n",
      "(  3,  3) -7.83333\n",
      "(  3,  4) 4.04167\n",
      "(  4,  1) 4.04167\n",
      "(  4,  3) 4.04167\n",
      "(  4,  4) -7.83333\n",
      "\n"
     ]
    },
    {
     "data": {
      "text/plain": [
       "matso< shape: (5, 1), \n",
       " - Column 0\n",
       "(0,0) 1\n",
       "(1,0) 4\n",
       "(2,0) 0.950014\n",
       "(3,0) 1.45982\n",
       "(4,0) 2.49789\n",
       ">"
      ]
     },
     "execution_count": 82,
     "metadata": {},
     "output_type": "execute_result"
    }
   ],
   "source": [
    "K,f = solve_1d_problem(Th)\n",
    "oti.solve(K.tocsr(),f)"
   ]
  },
  {
   "cell_type": "code",
   "execution_count": 70,
   "metadata": {},
   "outputs": [
    {
     "name": "stdout",
     "output_type": "stream",
     "text": [
      "(  0,  0) 1e+30\n",
      "(  0,  2) -4.04167\n",
      "(  1,  1) 1e+30\n",
      "(  1,  4) -4.04167\n",
      "(  2,  0) -4.04167\n",
      "(  2,  2) 7.83333\n",
      "(  2,  3) -4.04167\n",
      "(  3,  2) -4.04167\n",
      "(  3,  3) 7.83333\n",
      "(  3,  4) -4.04167\n",
      "(  4,  1) -4.04167\n",
      "(  4,  3) -4.04167\n",
      "(  4,  4) 7.83333\n",
      "\n"
     ]
    }
   ],
   "source": [
    "print(K)"
   ]
  },
  {
   "cell_type": "code",
   "execution_count": 36,
   "metadata": {},
   "outputs": [
    {
     "data": {
      "text/plain": [
       "9.0000 + 3.0000 * e([1])"
      ]
     },
     "execution_count": 36,
     "metadata": {},
     "output_type": "execute_result"
    }
   ],
   "source": [
    "K[1,1] = K[1,1] + 3+oti.e(1)\n",
    "K[1,1]"
   ]
  },
  {
   "cell_type": "code",
   "execution_count": 38,
   "metadata": {},
   "outputs": [
    {
     "name": "stdout",
     "output_type": "stream",
     "text": [
      "(  1,  1) 9 + 3 * e([1])\n",
      "\n"
     ]
    }
   ],
   "source": [
    "print(K)"
   ]
  }
 ],
 "metadata": {
  "kernelspec": {
   "display_name": "Python 3",
   "language": "python",
   "name": "python3"
  },
  "language_info": {
   "codemirror_mode": {
    "name": "ipython",
    "version": 3
   },
   "file_extension": ".py",
   "mimetype": "text/x-python",
   "name": "python",
   "nbconvert_exporter": "python",
   "pygments_lexer": "ipython3",
   "version": "3.7.3"
  }
 },
 "nbformat": 4,
 "nbformat_minor": 2
}
