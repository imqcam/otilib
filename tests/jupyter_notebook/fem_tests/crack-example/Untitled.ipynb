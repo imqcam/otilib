{
 "cells": [
  {
   "cell_type": "code",
   "execution_count": 1,
   "metadata": {},
   "outputs": [],
   "source": [
    "import scipy.sparse as spr\n",
    "import scipy.sparse.linalg as spla\n",
    "import sys\n",
    "path2oti = '../../../../build/'\n",
    "sys.path.append(path2oti) # Add path to OTI library.\n",
    "\n",
    "import pyoti.real   as r\n",
    "import pyoti.sparse as oti \n",
    "import pyoti.core   as coti\n",
    "import pyoti.fem    as fem \n",
    "\n",
    "# import pyoti.static.onumm1n1    as dual\n",
    "# import pyoti.static.mdnum2      as md2\n",
    "# import pyoti.static.mdnum3      as md3\n",
    "# import pyoti.static.mdnum5      as md5\n",
    "# import pyoti.static.mdnum6      as md6\n",
    "# import pyoti.static.mdnum10     as md10\n",
    "# import pyoti.static.onumm1n10   as om1n10\n",
    "# import pyoti.static.onumm1n2    as om1n2\n",
    "# import pyoti.static.onumm1n5    as om1n5\n",
    "# import pyoti.static.onumm5n5    as om5n5\n",
    "# import pyoti.static.onumm2n2    as om2n2\n",
    "# import pyoti.static.onumm3n3    as om3n3\n",
    "# import pyoti.static.onumm2n10    as om2n10\n",
    "\n",
    "\n",
    "\n",
    "\n",
    "%matplotlib notebook\n",
    "import matplotlib.pyplot as plt\n",
    "from mpl_toolkits.mplot3d import Axes3D\n",
    "\n",
    "e  = oti.e\n",
    "np = oti.np\n",
    "\n",
    "import pyvista as pv\n",
    "# p = pv.BackgroundPlotter()\n",
    "pv.set_plot_theme('document')\n",
    "\n",
    "global times\n",
    "from timeit import default_timer as time\n",
    "\n",
    "from matplotlib import rc\n",
    "\n",
    "## for Palatino and other serif fonts use:\n",
    "rc('font',**{'family':'serif','serif':['Palatino'], 'size':16})\n",
    "rc('text', usetex=True)"
   ]
  },
  {
   "cell_type": "code",
   "execution_count": 2,
   "metadata": {},
   "outputs": [
    {
     "name": "stderr",
     "output_type": "stream",
     "text": [
      "A builtin ctypes object gave a PEP3118 format string that does not match its itemsize, so a best-guess will be made of the data type. Newer versions of python may behave correctly.\n"
     ]
    }
   ],
   "source": [
    "Th = fem.mesh.load('mesh.msh')\n"
   ]
  },
  {
   "cell_type": "code",
   "execution_count": 3,
   "metadata": {},
   "outputs": [],
   "source": [
    "Th2 = fem.mesh.load('mesh.msh')"
   ]
  },
  {
   "cell_type": "code",
   "execution_count": 4,
   "metadata": {},
   "outputs": [
    {
     "data": {
      "text/plain": [
       "0.0000"
      ]
     },
     "execution_count": 4,
     "metadata": {},
     "output_type": "execute_result"
    }
   ],
   "source": [
    "Th.x[5,0]"
   ]
  },
  {
   "cell_type": "code",
   "execution_count": 5,
   "metadata": {},
   "outputs": [],
   "source": [
    "# perturb\n",
    "order=10\n",
    "for i in range(Th.nnodes):\n",
    "    \n",
    "    x = Th.x[i,0].copy()\n",
    "    y = Th.y[i,0].copy()\n",
    "\n",
    "    r = oti.sqrt(x**2+y**2).real\n",
    "    if x.real ==0 and y.real == 0:\n",
    "        theta = 0\n",
    "    else:\n",
    "        theta = np.arctan2(y.real,x.real)\n",
    "    # end if \n",
    "\n",
    "    if r < 0.3:\n",
    "        Th.x[i,0] = r*oti.cos(theta +oti.e(1,order=order) )+(0.3-r)/0.3*oti.e(2,order=order)\n",
    "        Th.y[i,0] = r*oti.sin(theta +oti.e(1,order=order) )#+(0.3-r)*oti.e(2,order=order)\n",
    "    elif r < 0.6:\n",
    "        hx = (0.6-r)*oti.cos(theta +oti.e(1,order=order) )\n",
    "        hx = hx-hx.real\n",
    "        hy = (0.6-r)*oti.sin(theta +oti.e(1,order=order) )\n",
    "        hy = hy-hy.real\n",
    "\n",
    "        Th.x[i,0] = x.real + hx\n",
    "        Th.y[i,0] = y.real + hy\n",
    "            "
   ]
  },
  {
   "cell_type": "code",
   "execution_count": 6,
   "metadata": {},
   "outputs": [
    {
     "data": {
      "text/plain": [
       "-0.1000 - 0.0000 * e([1]) + 0.6667 * e([2]) + 0.0500 * e([[1,2]]) + 0.0000 * e([[1,3]]) - 0.0042 * e([[1,4]]) - 0.0000 * e([[1,5]]) + 0.0001 * e([[1,6]]) + 0.0000 * e([[1,7]]) - 0.0000 * e([[1,8]]) - 0.0000 * e([[1,9]]) + 0.0000 * e([[1,10]])"
      ]
     },
     "execution_count": 6,
     "metadata": {},
     "output_type": "execute_result"
    }
   ],
   "source": [
    "Th.x[397,0]"
   ]
  },
  {
   "cell_type": "code",
   "execution_count": 7,
   "metadata": {},
   "outputs": [
    {
     "data": {
      "text/plain": [
       "{'dim': 0,\n",
       " 'id': 6,\n",
       " 'nodes': array([5], dtype=uint64),\n",
       " 'entities': array([6], dtype=int32),\n",
       " 'members': [{'types': array([15], dtype=int32),\n",
       "   'tags': [array([2], dtype=uint64)],\n",
       "   'nodes': array([6], dtype=uint64),\n",
       "   'indices': [array([[5]], dtype=uint64)]}]}"
      ]
     },
     "execution_count": 7,
     "metadata": {},
     "output_type": "execute_result"
    }
   ],
   "source": [
    "Th.group_names['Crack']"
   ]
  },
  {
   "cell_type": "code",
   "execution_count": 8,
   "metadata": {},
   "outputs": [],
   "source": [
    "import pyvista as pv\n",
    "p = pv.BackgroundPlotter()\n",
    "args_cbar = dict(height=0.75, vertical=True, position_x=0.05, \n",
    "                 position_y=0.05, interactive=False,\n",
    "                 title_font_size=30, label_font_size=30)"
   ]
  },
  {
   "cell_type": "code",
   "execution_count": 9,
   "metadata": {},
   "outputs": [],
   "source": [
    "Th2.x = Th.x.taylor_integrate([1,2],[0.5,0.2])\n",
    "Th2.y = Th.y.taylor_integrate([1,2],[0.5,0.2])\n",
    "\n",
    "# grid = Th2.to_pv(pd = [np.sqrt(Th.x.get_deriv(2)**2+Th.y.get_deriv(2)**2).real],pd_names=['x-pert'])\n",
    "grid = Th2.to_pv(dims=1)\n",
    "\n",
    "p.clear()\n",
    "\n",
    "p.add_mesh(grid, show_edges=True, line_width=2, categories=16, cmap='jet', scalar_bar_args=args_cbar)\n",
    "\n",
    "p.show()"
   ]
  },
  {
   "cell_type": "code",
   "execution_count": null,
   "metadata": {},
   "outputs": [],
   "source": []
  },
  {
   "cell_type": "code",
   "execution_count": null,
   "metadata": {},
   "outputs": [],
   "source": []
  }
 ],
 "metadata": {
  "kernelspec": {
   "display_name": "Python 3",
   "language": "python",
   "name": "python3"
  },
  "language_info": {
   "codemirror_mode": {
    "name": "ipython",
    "version": 3
   },
   "file_extension": ".py",
   "mimetype": "text/x-python",
   "name": "python",
   "nbconvert_exporter": "python",
   "pygments_lexer": "ipython3",
   "version": "3.7.8"
  }
 },
 "nbformat": 4,
 "nbformat_minor": 4
}
