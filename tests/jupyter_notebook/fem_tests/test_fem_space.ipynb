{
 "cells": [
  {
   "cell_type": "code",
   "execution_count": 1,
   "metadata": {},
   "outputs": [],
   "source": [
    "import sys\n",
    "path2oti = '../../../build/'\n",
    "sys.path.append(path2oti) # Add path to OTI library.\n",
    "\n",
    "import pyoti.sparse as oti \n",
    "import pyoti.fem    as fem "
   ]
  },
  {
   "cell_type": "code",
   "execution_count": 2,
   "metadata": {},
   "outputs": [
    {
     "data": {
      "text/plain": [
       "<space object with \n",
       "   Order: -------------- 2\n",
       "   Special: ------------ std\n",
       "   Reduced Integration:  False\n",
       ">"
      ]
     },
     "execution_count": 2,
     "metadata": {},
     "output_type": "execute_result"
    }
   ],
   "source": [
    "Vh = fem.space(2)\n",
    "Vh"
   ]
  },
  {
   "cell_type": "code",
   "execution_count": 3,
   "metadata": {},
   "outputs": [],
   "source": [
    "u = Vh()\n",
    "v = Vh()\n",
    "c = Vh(3)\n",
    "dxu = fem.dx(u)"
   ]
  },
  {
   "cell_type": "code",
   "execution_count": 4,
   "metadata": {},
   "outputs": [
    {
     "name": "stdout",
     "output_type": "stream",
     "text": [
      "<elemental_operation with 1 operations: \n",
      "opDef        , op_id(1), result_op: op_id(1)\n",
      ">\n"
     ]
    }
   ],
   "source": [
    "print(u)"
   ]
  },
  {
   "cell_type": "code",
   "execution_count": 6,
   "metadata": {},
   "outputs": [
    {
     "name": "stdout",
     "output_type": "stream",
     "text": [
      "<elemental_operation with 3 operations: \n",
      "opDef        , op_id(2), result_op: op_id(2)\n",
      "opDef        , op_id(1), result_op: op_id(1)\n",
      "opSub        , op_id(2), op_id(1), result_op: op_id(6)\n",
      ">\n"
     ]
    }
   ],
   "source": [
    "print(v-u)"
   ]
  },
  {
   "cell_type": "code",
   "execution_count": 5,
   "metadata": {},
   "outputs": [
    {
     "name": "stdout",
     "output_type": "stream",
     "text": [
      "<elemental_operation with 1 operations: \n",
      "opDefData    , op_id(3), result_op: op_id(3)\n",
      ">\n"
     ]
    }
   ],
   "source": [
    "print(c)"
   ]
  },
  {
   "cell_type": "code",
   "execution_count": 6,
   "metadata": {},
   "outputs": [
    {
     "name": "stdout",
     "output_type": "stream",
     "text": [
      "<elemental_operation with 2 operations: \n",
      "opDef        , op_id(1), result_op: op_id(1)\n",
      "opDx         , op_id(1), result_op: op_id(4)\n",
      ">\n"
     ]
    }
   ],
   "source": [
    "print(dxu)"
   ]
  },
  {
   "cell_type": "code",
   "execution_count": 7,
   "metadata": {},
   "outputs": [
    {
     "name": "stdout",
     "output_type": "stream",
     "text": [
      "('opMul: ', 3)\n",
      "('enum2string_2', 'opMul        ')\n",
      "('enum2str[opMul]', 'opMul        ')\n",
      "<elemental_operation with 3 operations: \n",
      "opDef        , op_id(1), result_op: op_id(1)\n",
      "opDef        , op_id(2), result_op: op_id(2)\n",
      "opMul        , op_id(1), op_id(2), result_op: op_id(5)\n",
      ">\n"
     ]
    }
   ],
   "source": [
    "print(u*v)"
   ]
  },
  {
   "cell_type": "code",
   "execution_count": 8,
   "metadata": {},
   "outputs": [
    {
     "name": "stdout",
     "output_type": "stream",
     "text": [
      "('opMul: ', 3)\n",
      "('--', 3)\n",
      "('enum2string_2', 'opMul        ')\n",
      "('enum2str[opMul]', 'opMul        ')\n",
      "('--', 61)\n",
      "('--', 18)\n",
      "('--', 18)\n",
      "('--', 3)\n",
      "('--', 1)\n",
      "<elemental_operation with 5 operations: \n",
      "opDefData    , op_id(3), result_op: op_id(3)\n",
      "opDef        , op_id(1), result_op: op_id(1)\n",
      "opDef        , op_id(2), result_op: op_id(2)\n",
      "opMul        , op_id(1), op_id(2), result_op: op_id(6)\n",
      "opAdd        , op_id(3), op_id(6), result_op: op_id(7)\n",
      ">\n"
     ]
    }
   ],
   "source": [
    "print(c+u*v)"
   ]
  },
  {
   "cell_type": "code",
   "execution_count": 6,
   "metadata": {},
   "outputs": [],
   "source": [
    "enum2str = fem.get_enum2str()"
   ]
  },
  {
   "cell_type": "code",
   "execution_count": 7,
   "metadata": {},
   "outputs": [
    {
     "data": {
      "text/plain": [
       "{1: 'opAdd        ',\n",
       " 2: 'opSub        ',\n",
       " 3: 'opMul        ',\n",
       " 4: 'opTruediv    ',\n",
       " 5: 'opPowr       ',\n",
       " 6: 'opInt1d      ',\n",
       " 7: 'opInt2d      ',\n",
       " 8: 'opInt3d      ',\n",
       " 9: 'opDx         ',\n",
       " 12: 'opDxx        ',\n",
       " 10: 'opDy         ',\n",
       " 13: 'opDxy        ',\n",
       " 14: 'opDyy        ',\n",
       " 11: 'opDz         ',\n",
       " 15: 'opDxz        ',\n",
       " 16: 'opDyz        ',\n",
       " 17: 'opDzz        ',\n",
       " 18: 'opDef        ',\n",
       " 61: 'opDefData    ',\n",
       " 19: 'opOn         ',\n",
       " 20: 'opNeg        ',\n",
       " 50: 'subOpDefBasis',\n",
       " 51: 'subOpDefKnown',\n",
       " 52: 'subOpInt     ',\n",
       " 53: 'subOpNeg     ',\n",
       " 54: 'subOpMulRes  ',\n",
       " 55: 'subOpMulKnown',\n",
       " 56: 'subOpOn      ',\n",
       " 101: 'basisN       ',\n",
       " 102: 'basisNx      ',\n",
       " 105: 'basisNxx     ',\n",
       " 103: 'basisNy      ',\n",
       " 106: 'basisNxy     ',\n",
       " 107: 'basisNyy     ',\n",
       " 104: 'basisNz      ',\n",
       " 108: 'basisNxz     ',\n",
       " 109: 'basisNyz     ',\n",
       " 110: 'basisNzz     ',\n",
       " 200: 'kindOtiArr   ',\n",
       " 201: 'kindOtiNum   ',\n",
       " 202: 'kindReal     ',\n",
       " 203: 'kindScalar   ',\n",
       " 204: 'kindFunc     ',\n",
       " 301: 'feConstant   ',\n",
       " 302: 'feVariable   ',\n",
       " 400: 'elNode       ',\n",
       " 401: 'elLine       ',\n",
       " 402: 'elTriangle   ',\n",
       " 403: 'elQuadrangle ',\n",
       " 404: 'elTetrahedra ',\n",
       " 405: 'elHexahedra  ',\n",
       " 501: 'elkindIso    ',\n",
       " 502: 'elkindAff    ',\n",
       " 601: 'derN         ',\n",
       " 602: 'derNa        ',\n",
       " 605: 'derNaa       ',\n",
       " 603: 'derNb        ',\n",
       " 606: 'derNab       ',\n",
       " 607: 'derNbb       ',\n",
       " 604: 'derNc        ',\n",
       " 608: 'derNac       ',\n",
       " 609: 'derNbc       ',\n",
       " 610: 'derNcc       ',\n",
       " 701: 'feNatTest    ',\n",
       " 702: 'feNatUndef   ',\n",
       " 703: 'feNatDef     ',\n",
       " 704: 'feNatDefConst',\n",
       " 705: 'feNatOperRes ',\n",
       " 706: 'feNatPostIntK',\n",
       " 707: 'feNatPostIntF',\n",
       " 708: 'feNatBoundary'}"
      ]
     },
     "execution_count": 7,
     "metadata": {},
     "output_type": "execute_result"
    }
   ],
   "source": [
    "enum2str"
   ]
  },
  {
   "cell_type": "code",
   "execution_count": 10,
   "metadata": {},
   "outputs": [
    {
     "data": {
      "text/plain": [
       "True"
      ]
     },
     "execution_count": 10,
     "metadata": {},
     "output_type": "execute_result"
    }
   ],
   "source": [
    "3 in enum2str.keys()"
   ]
  },
  {
   "cell_type": "code",
   "execution_count": null,
   "metadata": {},
   "outputs": [],
   "source": []
  }
 ],
 "metadata": {
  "kernelspec": {
   "display_name": "Python 3",
   "language": "python",
   "name": "python3"
  },
  "language_info": {
   "codemirror_mode": {
    "name": "ipython",
    "version": 3
   },
   "file_extension": ".py",
   "mimetype": "text/x-python",
   "name": "python",
   "nbconvert_exporter": "python",
   "pygments_lexer": "ipython3",
   "version": "3.7.8"
  }
 },
 "nbformat": 4,
 "nbformat_minor": 4
}
