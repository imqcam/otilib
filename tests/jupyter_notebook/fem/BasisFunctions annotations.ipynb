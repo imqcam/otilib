{
 "cells": [
  {
   "cell_type": "code",
   "execution_count": 2,
   "metadata": {
    "collapsed": true
   },
   "outputs": [],
   "source": [
    "import sympy as sym\n",
    "\n",
    "sym.init_printing()"
   ]
  },
  {
   "cell_type": "code",
   "execution_count": 3,
   "metadata": {
    "collapsed": true
   },
   "outputs": [],
   "source": [
    "ξ, η = sym.symbols(\"xi, eta\")"
   ]
  },
  {
   "cell_type": "markdown",
   "metadata": {},
   "source": [
    "# Linear triangle"
   ]
  },
  {
   "cell_type": "code",
   "execution_count": 101,
   "metadata": {
    "collapsed": true
   },
   "outputs": [],
   "source": [
    "N1 = ((1 - ξ - η)).expand()\n",
    "N2 = ( ξ         ).expand()\n",
    "N3 = ( η         ).expand()"
   ]
  },
  {
   "cell_type": "code",
   "execution_count": 102,
   "metadata": {
    "collapsed": true
   },
   "outputs": [],
   "source": [
    "N1N1 = N1*N1\n",
    "N1N2 = N1*N2\n",
    "N1N3 = N1*N3\n",
    "N2N1 = N2*N1\n",
    "N2N2 = N2*N2\n",
    "N2N3 = N2*N3\n",
    "N3N1 = N3*N1\n",
    "N3N2 = N3*N2\n",
    "N3N3 = N3*N3"
   ]
  },
  {
   "cell_type": "code",
   "execution_count": 103,
   "metadata": {},
   "outputs": [
    {
     "data": {
      "image/png": "[encoded data removed]",
      "text/latex": [
       "$$\\left ( 0.2, \\quad 0.2, \\quad 0.6\\right )$$"
      ],
      "text/plain": [
       "(0.2, 0.2, 0.6)"
      ]
     },
     "execution_count": 103,
     "metadata": {},
     "output_type": "execute_result"
    }
   ],
   "source": [
    "# integration points\n",
    "int_pt1x = 0.3333; int_pt1y = 0.3333\n",
    "int_pt2x = 0.2000; int_pt2y = 0.2000\n",
    "int_pt3x = 0.6000; int_pt3y = 0.2000\n",
    "int_pt4x = 0.2000; int_pt4y = 0.6000\n",
    "\n",
    "\n",
    "iptx =  int_pt4x; ipty = int_pt4y\n",
    "N1.subs(ξ,iptx).subs(η,ipty ),N2.subs(ξ,iptx).subs(η,ipty ),N3.subs(ξ,iptx).subs(η,ipty )"
   ]
  },
  {
   "cell_type": "code",
   "execution_count": 104,
   "metadata": {},
   "outputs": [
    {
     "data": {
      "image/png": "[encoded data removed]",
      "text/latex": [
       "$$0.44757552$$"
      ],
      "text/plain": [
       "0.44757552"
      ]
     },
     "execution_count": 104,
     "metadata": {},
     "output_type": "execute_result"
    }
   ],
   "source": [
    "-0.2812* +  0.2604 +  0.2604  +  0.2604"
   ]
  },
  {
   "cell_type": "code",
   "execution_count": 105,
   "metadata": {},
   "outputs": [
    {
     "name": "stdout",
     "output_type": "stream",
     "text": [
      "1/12:  0.08333333333333333\n",
      "1/24:  0.041666666666666664\n"
     ]
    },
    {
     "data": {
      "image/png": "[encoded data removed]",
      "text/latex": [
       "$$\\left[\\begin{matrix}\\frac{1}{12} & \\frac{1}{24} & \\frac{1}{24}\\\\\\frac{1}{24} & \\frac{1}{12} & \\frac{1}{24}\\\\\\frac{1}{24} & \\frac{1}{24} & \\frac{1}{12}\\end{matrix}\\right]$$"
      ],
      "text/plain": [
       "⎡1/12  1/24  1/24⎤\n",
       "⎢                ⎥\n",
       "⎢1/24  1/12  1/24⎥\n",
       "⎢                ⎥\n",
       "⎣1/24  1/24  1/12⎦"
      ]
     },
     "execution_count": 105,
     "metadata": {},
     "output_type": "execute_result"
    }
   ],
   "source": [
    "intN1N1 = sym.integrate(N1N1,(η,0,1-ξ),(ξ,0,1))\n",
    "intN1N2 = sym.integrate(N1N2,(η,0,1-ξ),(ξ,0,1))\n",
    "intN1N3 = sym.integrate(N1N3,(η,0,1-ξ),(ξ,0,1))\n",
    "intN2N1 = sym.integrate(N2N1,(η,0,1-ξ),(ξ,0,1))\n",
    "intN2N2 = sym.integrate(N2N2,(η,0,1-ξ),(ξ,0,1))\n",
    "intN2N3 = sym.integrate(N2N3,(η,0,1-ξ),(ξ,0,1))\n",
    "intN3N1 = sym.integrate(N3N1,(η,0,1-ξ),(ξ,0,1))\n",
    "intN3N2 = sym.integrate(N3N2,(η,0,1-ξ),(ξ,0,1))\n",
    "intN3N3 = sym.integrate(N3N3,(η,0,1-ξ),(ξ,0,1))\n",
    "\n",
    "print(\"1/12: \", 1.0/12.0)\n",
    "print(\"1/24: \", 1.0/24.0)\n",
    "sym.Matrix([[intN1N1, intN1N2, intN1N3],[intN2N1, intN2N2, intN2N3],[intN3N1, intN3N2, intN3N3]])\n",
    "\n",
    "\n"
   ]
  },
  {
   "cell_type": "code",
   "execution_count": 106,
   "metadata": {},
   "outputs": [
    {
     "data": {
      "image/png": "[encoded data removed]",
      "text/latex": [
       "$$\\left ( 1.0 \\eta - 0.5, \\quad - 1.0 \\xi + 0.5\\right )$$"
      ],
      "text/plain": [
       "(1.0⋅η - 0.5, -1.0⋅ξ + 0.5)"
      ]
     },
     "execution_count": 106,
     "metadata": {},
     "output_type": "execute_result"
    }
   ],
   "source": [
    "x1 = -0.5 ; y1 =  0.5\n",
    "x2 = -0.5 ; y2 = -0.5\n",
    "x3 =  0.5 ; y3 =  0.5\n",
    "x4 = -0.5 ; y4 =  0.0\n",
    "x5 =  0.0 ; y5 =  0.0\n",
    "x6 =  0.0 ; y6 =  0.5\n",
    "\n",
    "\n",
    "# x1 =  0.5 ; y1 =  0.5\n",
    "# x2 = -0.5 ; y2 = -0.5\n",
    "# x3 =  0.5 ; y3 = -0.5\n",
    "# x4 =  0.0 ; y4 =  0.0\n",
    "# x5 =  0.0 ; y5 = -0.5\n",
    "# x6 =  0.5 ; y6 =  0.0\n",
    "\n",
    "\n",
    "x = x1*N1 + x2*N2 + x3*N3\n",
    "y = y1*N1 + y2*N2 + y3*N3\n",
    "\n",
    "x,y"
   ]
  },
  {
   "cell_type": "code",
   "execution_count": 107,
   "metadata": {},
   "outputs": [
    {
     "data": {
      "image/png": "[encoded data removed]",
      "text/latex": [
       "$$\\left ( \\left[\\begin{matrix}0 & -1.0\\\\1.0 & 0\\end{matrix}\\right], \\quad 1.0, \\quad \\left[\\begin{matrix}0 & 1.0\\\\-1.0 & 0\\end{matrix}\\right]\\right )$$"
      ],
      "text/plain": [
       "⎛⎡ 0   -1.0⎤       ⎡ 0    1.0⎤⎞\n",
       "⎜⎢         ⎥, 1.0, ⎢         ⎥⎟\n",
       "⎝⎣1.0   0  ⎦       ⎣-1.0   0 ⎦⎠"
      ]
     },
     "execution_count": 107,
     "metadata": {},
     "output_type": "execute_result"
    }
   ],
   "source": [
    "J = sym.Matrix([[x.diff(ξ),y.diff(ξ)],[x.diff(η),y.diff(η)]])\n",
    "\n",
    "Jdet = sym.det(J)\n",
    "Jinv = J.inv()\n",
    "J, Jdet, Jinv"
   ]
  },
  {
   "cell_type": "code",
   "execution_count": 108,
   "metadata": {},
   "outputs": [
    {
     "data": {
      "image/png": "[encoded data removed]",
      "text/latex": [
       "$$\\left ( -1.0, \\quad 0, \\quad 1.0\\right )$$"
      ],
      "text/plain": [
       "(-1.0, 0, 1.0)"
      ]
     },
     "execution_count": 108,
     "metadata": {},
     "output_type": "execute_result"
    }
   ],
   "source": [
    "# Spatial derivatives in x.\n",
    "\n",
    "dxi_dx = Jinv[0,0]\n",
    "deta_dx = Jinv[0,1]\n",
    "\n",
    "dN1dx = N1.diff(ξ)*dxi_dx + N1.diff(η)*deta_dx\n",
    "dN2dx = N2.diff(ξ)*dxi_dx + N2.diff(η)*deta_dx\n",
    "dN3dx = N3.diff(ξ)*dxi_dx + N3.diff(η)*deta_dx\n",
    "\n",
    "dN1dx,dN2dx,dN3dx\n",
    "\n",
    "\n",
    "\n",
    "\n",
    "iptx =  int_pt4x; ipty = int_pt4y\n",
    "dN1dx.subs(ξ,iptx).subs(η,ipty ),dN2dx.subs(ξ,iptx).subs(η,ipty ),dN3dx.subs(ξ,iptx).subs(η,ipty )"
   ]
  },
  {
   "cell_type": "code",
   "execution_count": 109,
   "metadata": {},
   "outputs": [
    {
     "data": {
      "image/png": "[encoded data removed]",
      "text/latex": [
       "$$\\left ( 1.0, \\quad -1.0, \\quad 0\\right )$$"
      ],
      "text/plain": [
       "(1.0, -1.0, 0)"
      ]
     },
     "execution_count": 109,
     "metadata": {},
     "output_type": "execute_result"
    }
   ],
   "source": [
    "# Spatial derivatives in y.\n",
    "\n",
    "dxi_dy = Jinv[1,0]\n",
    "deta_dy = Jinv[1,1]\n",
    "\n",
    "dN1dy = N1.diff(ξ)*dxi_dy + N1.diff(η)*deta_dy\n",
    "dN2dy = N2.diff(ξ)*dxi_dy + N2.diff(η)*deta_dy\n",
    "dN3dy = N3.diff(ξ)*dxi_dy + N3.diff(η)*deta_dy\n",
    "\n",
    "dN1dy,dN2dy,dN3dy"
   ]
  },
  {
   "cell_type": "code",
   "execution_count": 110,
   "metadata": {
    "collapsed": true
   },
   "outputs": [],
   "source": [
    "# Integration points:\n",
    "pt_x1 = 1.0/6.0; pt_y1 =1.0/6.0 \n",
    "pt_x2 = 2.0/3.0; pt_y2 =1.0/6.0 \n",
    "pt_x3 = 1.0/6.0; pt_y3 =2.0/3.0 \n",
    "\n",
    "w1 = 1.0/6.0\n",
    "w2 = 1.0/6.0\n",
    "w3 = 1.0/6.0"
   ]
  },
  {
   "cell_type": "code",
   "execution_count": 111,
   "metadata": {},
   "outputs": [
    {
     "data": {
      "image/png": "[encoded data removed]",
      "text/latex": [
       "$$0.666666666666667$$"
      ],
      "text/plain": [
       "0.666666666666667"
      ]
     },
     "execution_count": 111,
     "metadata": {},
     "output_type": "execute_result"
    }
   ],
   "source": [
    "N1.subs(ξ, pt_x1).subs(η, pt_y1)"
   ]
  },
  {
   "cell_type": "code",
   "execution_count": 112,
   "metadata": {},
   "outputs": [
    {
     "data": {
      "image/png": "[encoded data removed]",
      "text/latex": [
       "$$0.166666666666667$$"
      ],
      "text/plain": [
       "0.166666666666667"
      ]
     },
     "execution_count": 112,
     "metadata": {},
     "output_type": "execute_result"
    }
   ],
   "source": [
    "N2.subs(ξ, pt_x1).subs(η, pt_y1)"
   ]
  },
  {
   "cell_type": "code",
   "execution_count": 113,
   "metadata": {},
   "outputs": [
    {
     "data": {
      "image/png": "[encoded data removed]",
      "text/latex": [
       "$$0.166666666666667$$"
      ],
      "text/plain": [
       "0.166666666666667"
      ]
     },
     "execution_count": 113,
     "metadata": {},
     "output_type": "execute_result"
    }
   ],
   "source": [
    "N3.subs(ξ, pt_x1).subs(η, pt_y1)"
   ]
  },
  {
   "cell_type": "markdown",
   "metadata": {
    "collapsed": true
   },
   "source": [
    "# Order 2\n"
   ]
  },
  {
   "cell_type": "code",
   "execution_count": 114,
   "metadata": {
    "collapsed": true
   },
   "outputs": [],
   "source": [
    "N1_o2 = ((1 - ξ - η)*(1-2*ξ -2*η)).expand()\n",
    "N2_o2 = ( ξ*(2*ξ-1)              ).expand()\n",
    "N3_o2 = ( η*(2*η-1)              ).expand()\n",
    "N4_o2 = ( 4*ξ*(1 - ξ - η)        ).expand()\n",
    "N5_o2 = ( 4*η*ξ                  ).expand()\n",
    "N6_o2 = ( 4*η*(1 - ξ - η)        ).expand()"
   ]
  },
  {
   "cell_type": "code",
   "execution_count": 115,
   "metadata": {},
   "outputs": [
    {
     "data": {
      "image/png": "[encoded data removed]",
      "text/latex": [
       "$$\\left ( \\left[\\begin{matrix}0 & -1.0\\\\1.0 & 0\\end{matrix}\\right], \\quad 1.0, \\quad \\left[\\begin{matrix}0 & 1.0\\\\-1.0 & 0\\end{matrix}\\right]\\right )$$"
      ],
      "text/plain": [
       "⎛⎡ 0   -1.0⎤       ⎡ 0    1.0⎤⎞\n",
       "⎜⎢         ⎥, 1.0, ⎢         ⎥⎟\n",
       "⎝⎣1.0   0  ⎦       ⎣-1.0   0 ⎦⎠"
      ]
     },
     "execution_count": 115,
     "metadata": {},
     "output_type": "execute_result"
    }
   ],
   "source": [
    "x_o2 = x1*N1_o2 + x2*N2_o2 + x3*N3_o2 + x4*N4_o2 + x5*N5_o2 + x6*N6_o2\n",
    "y_o2 = y1*N1_o2 + y2*N2_o2 + y3*N3_o2 + y4*N4_o2 + y5*N5_o2 + y6*N6_o2\n",
    "x_o2\n",
    "y_o2\n",
    "\n",
    "J = sym.Matrix([[x_o2.diff(ξ),y_o2.diff(ξ)],[x_o2.diff(η),y_o2.diff(η)]])\n",
    "\n",
    "Jdet = sym.det(J)\n",
    "Jinv = J.inv()\n",
    "J, Jdet, Jinv"
   ]
  },
  {
   "cell_type": "code",
   "execution_count": 116,
   "metadata": {},
   "outputs": [
    {
     "data": {
      "image/png": "[encoded data removed]",
      "text/latex": [
       "$$\\left ( 4.0 \\eta + 4.0 \\xi - 3.0, \\quad 0, \\quad 4.0 \\eta - 1.0, \\quad - 4.0 \\xi, \\quad 4.0 \\xi, \\quad - 8.0 \\eta - 4.0 \\xi + 4.0\\right )$$"
      ],
      "text/plain": [
       "(4.0⋅η + 4.0⋅ξ - 3.0, 0, 4.0⋅η - 1.0, -4.0⋅ξ, 4.0⋅ξ, -8.0⋅η - 4.0⋅ξ + 4.0)"
      ]
     },
     "execution_count": 116,
     "metadata": {},
     "output_type": "execute_result"
    }
   ],
   "source": [
    "# derivatives\n",
    "dxi_dx = Jinv[0,0]\n",
    "deta_dx = Jinv[0,1]\n",
    "\n",
    "dN1dx_o2 = N1_o2.diff(ξ)*dxi_dx + N1_o2.diff(η)*deta_dx\n",
    "dN2dx_o2 = N2_o2.diff(ξ)*dxi_dx + N2_o2.diff(η)*deta_dx\n",
    "dN3dx_o2 = N3_o2.diff(ξ)*dxi_dx + N3_o2.diff(η)*deta_dx\n",
    "dN4dx_o2 = N4_o2.diff(ξ)*dxi_dx + N4_o2.diff(η)*deta_dx\n",
    "dN5dx_o2 = N5_o2.diff(ξ)*dxi_dx + N5_o2.diff(η)*deta_dx\n",
    "dN6dx_o2 = N6_o2.diff(ξ)*dxi_dx + N6_o2.diff(η)*deta_dx\n",
    "\n",
    "dN1dx_o2, dN2dx_o2, dN3dx_o2, dN4dx_o2, dN5dx_o2, dN6dx_o2"
   ]
  },
  {
   "cell_type": "code",
   "execution_count": 117,
   "metadata": {},
   "outputs": [
    {
     "data": {
      "image/png": "[encoded data removed]",
      "text/latex": [
       "$$\\left ( - 4.0 \\eta - 4.0 \\xi + 3.0, \\quad - 4.0 \\xi + 1.0, \\quad 0, \\quad 4.0 \\eta + 8.0 \\xi - 4.0, \\quad - 4.0 \\eta, \\quad 4.0 \\eta\\right )$$"
      ],
      "text/plain": [
       "(-4.0⋅η - 4.0⋅ξ + 3.0, -4.0⋅ξ + 1.0, 0, 4.0⋅η + 8.0⋅ξ - 4.0, -4.0⋅η, 4.0⋅η)"
      ]
     },
     "execution_count": 117,
     "metadata": {},
     "output_type": "execute_result"
    }
   ],
   "source": [
    "dxi_dy = Jinv[1,0]\n",
    "deta_dy = Jinv[1,1]\n",
    "\n",
    "\n",
    "dN1dy_o2 = N1_o2.diff(ξ)*dxi_dy + N1_o2.diff(η)*deta_dy\n",
    "dN2dy_o2 = N2_o2.diff(ξ)*dxi_dy + N2_o2.diff(η)*deta_dy\n",
    "dN3dy_o2 = N3_o2.diff(ξ)*dxi_dy + N3_o2.diff(η)*deta_dy\n",
    "dN4dy_o2 = N4_o2.diff(ξ)*dxi_dy + N4_o2.diff(η)*deta_dy\n",
    "dN5dy_o2 = N5_o2.diff(ξ)*dxi_dy + N5_o2.diff(η)*deta_dy\n",
    "dN6dy_o2 = N6_o2.diff(ξ)*dxi_dy + N6_o2.diff(η)*deta_dy\n",
    "\n",
    "dN1dy_o2,dN2dy_o2,dN3dy_o2,dN4dy_o2,dN5dy_o2,dN6dy_o2"
   ]
  },
  {
   "cell_type": "code",
   "execution_count": 118,
   "metadata": {
    "collapsed": true
   },
   "outputs": [],
   "source": [
    "# dx(p)*vx\n",
    "\n",
    "dN1dxN1_o2 = dN1dx*N1_o2\n",
    "dN1dxN2_o2 = dN1dx*N2_o2\n",
    "dN1dxN3_o2 = dN1dx*N3_o2\n",
    "dN1dxN4_o2 = dN1dx*N4_o2\n",
    "dN1dxN5_o2 = dN1dx*N5_o2\n",
    "dN1dxN6_o2 = dN1dx*N6_o2\n",
    "\n",
    "\n",
    "dN2dxN1_o2 = dN2dx*N1_o2\n",
    "dN2dxN2_o2 = dN2dx*N2_o2\n",
    "dN2dxN3_o2 = dN2dx*N3_o2\n",
    "dN2dxN4_o2 = dN2dx*N4_o2\n",
    "dN2dxN5_o2 = dN2dx*N5_o2\n",
    "dN2dxN6_o2 = dN2dx*N6_o2\n",
    "\n",
    "\n",
    "\n",
    "dN3dxN1_o2 = dN3dx*N1_o2 \n",
    "dN3dxN2_o2 = dN3dx*N2_o2\n",
    "dN3dxN3_o2 = dN3dx*N3_o2\n",
    "dN3dxN4_o2 = dN3dx*N4_o2\n",
    "dN3dxN5_o2 = dN3dx*N5_o2\n",
    "dN3dxN6_o2 = dN3dx*N6_o2"
   ]
  },
  {
   "cell_type": "code",
   "execution_count": 119,
   "metadata": {
    "collapsed": true
   },
   "outputs": [],
   "source": [
    "intdN1dxN1_o2 = sym.integrate(dN1dxN1_o2,(η,0,1-ξ),(ξ,0,1))\n",
    "intdN1dxN2_o2 = sym.integrate(dN1dxN2_o2,(η,0,1-ξ),(ξ,0,1))\n",
    "intdN1dxN3_o2 = sym.integrate(dN1dxN3_o2,(η,0,1-ξ),(ξ,0,1))\n",
    "intdN1dxN4_o2 = sym.integrate(dN1dxN4_o2,(η,0,1-ξ),(ξ,0,1))\n",
    "intdN1dxN5_o2 = sym.integrate(dN1dxN5_o2,(η,0,1-ξ),(ξ,0,1))\n",
    "intdN1dxN6_o2 = sym.integrate(dN1dxN6_o2,(η,0,1-ξ),(ξ,0,1))\n",
    "intdN2dxN1_o2 = sym.integrate(dN2dxN1_o2,(η,0,1-ξ),(ξ,0,1))\n",
    "intdN2dxN2_o2 = sym.integrate(dN2dxN2_o2,(η,0,1-ξ),(ξ,0,1))\n",
    "intdN2dxN3_o2 = sym.integrate(dN2dxN3_o2,(η,0,1-ξ),(ξ,0,1))\n",
    "intdN2dxN4_o2 = sym.integrate(dN2dxN4_o2,(η,0,1-ξ),(ξ,0,1))\n",
    "intdN2dxN5_o2 = sym.integrate(dN2dxN5_o2,(η,0,1-ξ),(ξ,0,1))\n",
    "intdN2dxN6_o2 = sym.integrate(dN2dxN6_o2,(η,0,1-ξ),(ξ,0,1))\n",
    "intdN3dxN1_o2 = sym.integrate(dN3dxN1_o2,(η,0,1-ξ),(ξ,0,1))\n",
    "intdN3dxN2_o2 = sym.integrate(dN3dxN2_o2,(η,0,1-ξ),(ξ,0,1))\n",
    "intdN3dxN3_o2 = sym.integrate(dN3dxN3_o2,(η,0,1-ξ),(ξ,0,1))\n",
    "intdN3dxN4_o2 = sym.integrate(dN3dxN4_o2,(η,0,1-ξ),(ξ,0,1))\n",
    "intdN3dxN5_o2 = sym.integrate(dN3dxN5_o2,(η,0,1-ξ),(ξ,0,1))\n",
    "intdN3dxN6_o2 = sym.integrate(dN3dxN6_o2,(η,0,1-ξ),(ξ,0,1))"
   ]
  },
  {
   "cell_type": "code",
   "execution_count": 120,
   "metadata": {},
   "outputs": [
    {
     "data": {
      "image/png": "[encoded data removed]",
      "text/latex": [
       "$$\\left[\\begin{matrix}1.11022302462516 \\cdot 10^{-16} & 0 & -1.11022302462516 \\cdot 10^{-16}\\\\0 & 0 & 0\\\\0 & 0 & -2.77555756156289 \\cdot 10^{-17}\\\\-0.166666666666667 & 0 & 0.166666666666667\\\\-0.166666666666667 & 0 & 0.166666666666667\\\\-0.166666666666667 & 0 & 0.166666666666667\\end{matrix}\\right]$$"
      ],
      "text/plain": [
       "⎡1.11022302462516e-16  0  -1.11022302462516e-16⎤\n",
       "⎢                                              ⎥\n",
       "⎢         0            0            0          ⎥\n",
       "⎢                                              ⎥\n",
       "⎢         0            0  -2.77555756156289e-17⎥\n",
       "⎢                                              ⎥\n",
       "⎢ -0.166666666666667   0    0.166666666666667  ⎥\n",
       "⎢                                              ⎥\n",
       "⎢ -0.166666666666667   0    0.166666666666667  ⎥\n",
       "⎢                                              ⎥\n",
       "⎣ -0.166666666666667   0    0.166666666666667  ⎦"
      ]
     },
     "execution_count": 120,
     "metadata": {},
     "output_type": "execute_result"
    }
   ],
   "source": [
    "\n",
    "sym.Matrix([[intdN1dxN1_o2,intdN2dxN1_o2,intdN3dxN1_o2],\n",
    "            [intdN1dxN2_o2,intdN2dxN2_o2,intdN3dxN2_o2],\n",
    "            [intdN1dxN3_o2,intdN2dxN3_o2,intdN3dxN3_o2],\n",
    "            [intdN1dxN4_o2,intdN2dxN4_o2,intdN3dxN4_o2],\n",
    "            [intdN1dxN5_o2,intdN2dxN5_o2,intdN3dxN5_o2],\n",
    "            [intdN1dxN6_o2,intdN2dxN6_o2,intdN3dxN6_o2]])"
   ]
  },
  {
   "cell_type": "code",
   "execution_count": 125,
   "metadata": {
    "collapsed": true
   },
   "outputs": [],
   "source": [
    "# dy(p)*vy\n",
    "\n",
    "dN1dyN1_o2 = dN1dy*N1_o2\n",
    "dN1dyN2_o2 = dN1dy*N2_o2\n",
    "dN1dyN3_o2 = dN1dy*N3_o2\n",
    "dN1dyN4_o2 = dN1dy*N4_o2\n",
    "dN1dyN5_o2 = dN1dy*N5_o2\n",
    "dN1dyN6_o2 = dN1dy*N6_o2\n",
    "\n",
    "\n",
    "dN2dyN1_o2 = dN2dy*N1_o2\n",
    "dN2dyN2_o2 = dN2dy*N2_o2\n",
    "dN2dyN3_o2 = dN2dy*N3_o2\n",
    "dN2dyN4_o2 = dN2dy*N4_o2\n",
    "dN2dyN5_o2 = dN2dy*N5_o2\n",
    "dN2dyN6_o2 = dN2dy*N6_o2\n",
    "\n",
    "\n",
    "\n",
    "dN3dyN1_o2 = dN3dy*N1_o2 \n",
    "dN3dyN2_o2 = dN3dy*N2_o2\n",
    "dN3dyN3_o2 = dN3dy*N3_o2\n",
    "dN3dyN4_o2 = dN3dy*N4_o2\n",
    "dN3dyN5_o2 = dN3dy*N5_o2\n",
    "dN3dyN6_o2 = dN3dy*N6_o2"
   ]
  },
  {
   "cell_type": "code",
   "execution_count": 126,
   "metadata": {
    "collapsed": true
   },
   "outputs": [],
   "source": [
    "intdN1dyN1_o2 = sym.integrate(dN1dyN1_o2,(η,0,1-ξ),(ξ,0,1))\n",
    "intdN1dyN2_o2 = sym.integrate(dN1dyN2_o2,(η,0,1-ξ),(ξ,0,1))\n",
    "intdN1dyN3_o2 = sym.integrate(dN1dyN3_o2,(η,0,1-ξ),(ξ,0,1))\n",
    "intdN1dyN4_o2 = sym.integrate(dN1dyN4_o2,(η,0,1-ξ),(ξ,0,1))\n",
    "intdN1dyN5_o2 = sym.integrate(dN1dyN5_o2,(η,0,1-ξ),(ξ,0,1))\n",
    "intdN1dyN6_o2 = sym.integrate(dN1dyN6_o2,(η,0,1-ξ),(ξ,0,1))\n",
    "intdN2dyN1_o2 = sym.integrate(dN2dyN1_o2,(η,0,1-ξ),(ξ,0,1))\n",
    "intdN2dyN2_o2 = sym.integrate(dN2dyN2_o2,(η,0,1-ξ),(ξ,0,1))\n",
    "intdN2dyN3_o2 = sym.integrate(dN2dyN3_o2,(η,0,1-ξ),(ξ,0,1))\n",
    "intdN2dyN4_o2 = sym.integrate(dN2dyN4_o2,(η,0,1-ξ),(ξ,0,1))\n",
    "intdN2dyN5_o2 = sym.integrate(dN2dyN5_o2,(η,0,1-ξ),(ξ,0,1))\n",
    "intdN2dyN6_o2 = sym.integrate(dN2dyN6_o2,(η,0,1-ξ),(ξ,0,1))\n",
    "intdN3dyN1_o2 = sym.integrate(dN3dyN1_o2,(η,0,1-ξ),(ξ,0,1))\n",
    "intdN3dyN2_o2 = sym.integrate(dN3dyN2_o2,(η,0,1-ξ),(ξ,0,1))\n",
    "intdN3dyN3_o2 = sym.integrate(dN3dyN3_o2,(η,0,1-ξ),(ξ,0,1))\n",
    "intdN3dyN4_o2 = sym.integrate(dN3dyN4_o2,(η,0,1-ξ),(ξ,0,1))\n",
    "intdN3dyN5_o2 = sym.integrate(dN3dyN5_o2,(η,0,1-ξ),(ξ,0,1))\n",
    "intdN3dyN6_o2 = sym.integrate(dN3dyN6_o2,(η,0,1-ξ),(ξ,0,1))"
   ]
  },
  {
   "cell_type": "code",
   "execution_count": 127,
   "metadata": {},
   "outputs": [
    {
     "data": {
      "image/png": "[encoded data removed]",
      "text/latex": [
       "$$\\left[\\begin{matrix}-1.11022302462516 \\cdot 10^{-16} & 1.11022302462516 \\cdot 10^{-16} & 0\\\\0 & 0 & 0\\\\-2.77555756156289 \\cdot 10^{-17} & 0 & 0\\\\0.166666666666667 & -0.166666666666667 & 0\\\\0.166666666666667 & -0.166666666666667 & 0\\\\0.166666666666667 & -0.166666666666667 & 0\\end{matrix}\\right]$$"
      ],
      "text/plain": [
       "⎡-1.11022302462516e-16  1.11022302462516e-16  0⎤\n",
       "⎢                                              ⎥\n",
       "⎢          0                     0            0⎥\n",
       "⎢                                              ⎥\n",
       "⎢-2.77555756156289e-17           0            0⎥\n",
       "⎢                                              ⎥\n",
       "⎢  0.166666666666667     -0.166666666666667   0⎥\n",
       "⎢                                              ⎥\n",
       "⎢  0.166666666666667     -0.166666666666667   0⎥\n",
       "⎢                                              ⎥\n",
       "⎣  0.166666666666667     -0.166666666666667   0⎦"
      ]
     },
     "execution_count": 127,
     "metadata": {},
     "output_type": "execute_result"
    }
   ],
   "source": [
    "sym.Matrix([[intdN1dyN1_o2,intdN2dyN1_o2,intdN3dyN1_o2],\n",
    "            [intdN1dyN2_o2,intdN2dyN2_o2,intdN3dyN2_o2],\n",
    "            [intdN1dyN3_o2,intdN2dyN3_o2,intdN3dyN3_o2],\n",
    "            [intdN1dyN4_o2,intdN2dyN4_o2,intdN3dyN4_o2],\n",
    "            [intdN1dyN5_o2,intdN2dyN5_o2,intdN3dyN5_o2],\n",
    "            [intdN1dyN6_o2,intdN2dyN6_o2,intdN3dyN6_o2]])"
   ]
  },
  {
   "cell_type": "code",
   "execution_count": null,
   "metadata": {
    "collapsed": true
   },
   "outputs": [],
   "source": []
  },
  {
   "cell_type": "code",
   "execution_count": null,
   "metadata": {
    "collapsed": true
   },
   "outputs": [],
   "source": []
  },
  {
   "cell_type": "code",
   "execution_count": null,
   "metadata": {
    "collapsed": true
   },
   "outputs": [],
   "source": []
  },
  {
   "cell_type": "code",
   "execution_count": null,
   "metadata": {
    "collapsed": true
   },
   "outputs": [],
   "source": []
  },
  {
   "cell_type": "code",
   "execution_count": null,
   "metadata": {
    "collapsed": true
   },
   "outputs": [],
   "source": []
  },
  {
   "cell_type": "code",
   "execution_count": 121,
   "metadata": {
    "collapsed": true
   },
   "outputs": [],
   "source": [
    "# dx(ux)*q\n",
    "\n",
    "dN1dx_o2N1 = dN1dx_o2*N1\n",
    "dN2dx_o2N1 = dN2dx_o2*N1\n",
    "dN3dx_o2N1 = dN3dx_o2*N1\n",
    "dN4dx_o2N1 = dN4dx_o2*N1\n",
    "dN5dx_o2N1 = dN5dx_o2*N1\n",
    "dN6dx_o2N1 = dN6dx_o2*N1\n",
    "\n",
    "\n",
    "dN1dx_o2N2 = dN1dx_o2*N2\n",
    "dN2dx_o2N2 = dN2dx_o2*N2\n",
    "dN3dx_o2N2 = dN3dx_o2*N2\n",
    "dN4dx_o2N2 = dN4dx_o2*N2\n",
    "dN5dx_o2N2 = dN5dx_o2*N2\n",
    "dN6dx_o2N2 = dN6dx_o2*N2\n",
    "\n",
    "\n",
    "\n",
    "dN1dx_o2N3 = dN1dx_o2*N3\n",
    "dN2dx_o2N3 = dN2dx_o2*N3\n",
    "dN3dx_o2N3 = dN3dx_o2*N3\n",
    "dN4dx_o2N3 = dN4dx_o2*N3\n",
    "dN5dx_o2N3 = dN5dx_o2*N3\n",
    "dN6dx_o2N3 = dN6dx_o2*N3"
   ]
  },
  {
   "cell_type": "code",
   "execution_count": 122,
   "metadata": {
    "collapsed": true
   },
   "outputs": [],
   "source": [
    "intdN1dx_o2N1 = sym.integrate(dN1dx_o2N1,(η,0,1-ξ),(ξ,0,1))\n",
    "intdN2dx_o2N1 = sym.integrate(dN2dx_o2N1,(η,0,1-ξ),(ξ,0,1))\n",
    "intdN3dx_o2N1 = sym.integrate(dN3dx_o2N1,(η,0,1-ξ),(ξ,0,1))\n",
    "intdN4dx_o2N1 = sym.integrate(dN4dx_o2N1,(η,0,1-ξ),(ξ,0,1))\n",
    "intdN5dx_o2N1 = sym.integrate(dN5dx_o2N1,(η,0,1-ξ),(ξ,0,1))\n",
    "intdN6dx_o2N1 = sym.integrate(dN6dx_o2N1,(η,0,1-ξ),(ξ,0,1))\n",
    "intdN1dx_o2N2 = sym.integrate(dN1dx_o2N2,(η,0,1-ξ),(ξ,0,1))\n",
    "intdN2dx_o2N2 = sym.integrate(dN2dx_o2N2,(η,0,1-ξ),(ξ,0,1))\n",
    "intdN3dx_o2N2 = sym.integrate(dN3dx_o2N2,(η,0,1-ξ),(ξ,0,1))\n",
    "intdN4dx_o2N2 = sym.integrate(dN4dx_o2N2,(η,0,1-ξ),(ξ,0,1))\n",
    "intdN5dx_o2N2 = sym.integrate(dN5dx_o2N2,(η,0,1-ξ),(ξ,0,1))\n",
    "intdN6dx_o2N2 = sym.integrate(dN6dx_o2N2,(η,0,1-ξ),(ξ,0,1))\n",
    "intdN1dx_o2N3 = sym.integrate(dN1dx_o2N3,(η,0,1-ξ),(ξ,0,1))\n",
    "intdN2dx_o2N3 = sym.integrate(dN2dx_o2N3,(η,0,1-ξ),(ξ,0,1))\n",
    "intdN3dx_o2N3 = sym.integrate(dN3dx_o2N3,(η,0,1-ξ),(ξ,0,1))\n",
    "intdN4dx_o2N3 = sym.integrate(dN4dx_o2N3,(η,0,1-ξ),(ξ,0,1))\n",
    "intdN5dx_o2N3 = sym.integrate(dN5dx_o2N3,(η,0,1-ξ),(ξ,0,1))\n",
    "intdN6dx_o2N3 = sym.integrate(dN6dx_o2N3,(η,0,1-ξ),(ξ,0,1))"
   ]
  },
  {
   "cell_type": "code",
   "execution_count": 123,
   "metadata": {},
   "outputs": [
    {
     "data": {
      "image/png": "[encoded data removed]",
      "text/latex": [
       "$$\\left[\\begin{matrix}-0.166666666666667 & 0 & 2.77555756156289 \\cdot 10^{-16} & -0.166666666666667 & 0.166666666666667 & 0.166666666666666\\\\0 & 0 & 0 & -0.333333333333333 & 0.333333333333333 & 0\\\\0 & 0 & 0.166666666666667 & -0.166666666666667 & 0.166666666666667 & -0.166666666666667\\end{matrix}\\right]$$"
      ],
      "text/plain": [
       "⎡-0.166666666666667  0  2.77555756156289e-16  -0.166666666666667  0.1666666666\n",
       "⎢                                                                             \n",
       "⎢        0           0           0            -0.333333333333333  0.3333333333\n",
       "⎢                                                                             \n",
       "⎣        0           0   0.166666666666667    -0.166666666666667  0.1666666666\n",
       "\n",
       "66667  0.166666666666666 ⎤\n",
       "                         ⎥\n",
       "33333          0         ⎥\n",
       "                         ⎥\n",
       "66667  -0.166666666666667⎦"
      ]
     },
     "execution_count": 123,
     "metadata": {},
     "output_type": "execute_result"
    }
   ],
   "source": [
    "sym.Matrix([[intdN1dx_o2N1,intdN2dx_o2N1,intdN3dx_o2N1,intdN4dx_o2N1,intdN5dx_o2N1,intdN6dx_o2N1],\n",
    "            [intdN1dx_o2N2,intdN2dx_o2N2,intdN3dx_o2N2,intdN4dx_o2N2,intdN5dx_o2N2,intdN6dx_o2N2],\n",
    "            [intdN1dx_o2N3,intdN2dx_o2N3,intdN3dx_o2N3,intdN4dx_o2N3,intdN5dx_o2N3,intdN6dx_o2N3]])\n",
    "            \n"
   ]
  },
  {
   "cell_type": "code",
   "execution_count": null,
   "metadata": {
    "collapsed": true
   },
   "outputs": [],
   "source": []
  },
  {
   "cell_type": "code",
   "execution_count": 30,
   "metadata": {},
   "outputs": [
    {
     "data": {
      "image/png": "[encoded data removed]",
      "text/latex": [
       "$$- 4.0 \\xi - 9.0$$"
      ],
      "text/plain": [
       "-4.0⋅ξ - 9.0"
      ]
     },
     "execution_count": 30,
     "metadata": {},
     "output_type": "execute_result"
    }
   ],
   "source": [
    "dN1dy_o2.subs(η,3)"
   ]
  },
  {
   "cell_type": "code",
   "execution_count": 24,
   "metadata": {
    "collapsed": true
   },
   "outputs": [],
   "source": [
    "N1N1_o2 = N1 * N1_o2\n",
    "N1N2_o2 = N1 * N2_o2\n",
    "N1N3_o2 = N1 * N3_o2\n",
    "N1N4_o2 = N1 * N4_o2\n",
    "N1N5_o2 = N1 * N5_o2\n",
    "N1N6_o2 = N1 * N6_o2\n",
    "N2N1_o2 = N2 * N1_o2\n",
    "N2N2_o2 = N2 * N2_o2\n",
    "N2N3_o2 = N2 * N3_o2\n",
    "N2N4_o2 = N2 * N4_o2\n",
    "N2N5_o2 = N2 * N5_o2\n",
    "N2N6_o2 = N2 * N6_o2\n",
    "N3N1_o2 = N3 * N1_o2\n",
    "N3N2_o2 = N3 * N2_o2\n",
    "N3N3_o2 = N3 * N3_o2\n",
    "N3N4_o2 = N3 * N4_o2\n",
    "N3N5_o2 = N3 * N5_o2\n",
    "N3N6_o2 = N3 * N6_o2"
   ]
  },
  {
   "cell_type": "code",
   "execution_count": null,
   "metadata": {
    "collapsed": true
   },
   "outputs": [],
   "source": []
  },
  {
   "cell_type": "code",
   "execution_count": 25,
   "metadata": {
    "collapsed": true
   },
   "outputs": [],
   "source": [
    "intN1N1_o2 = sym.integrate(N1N1_o2,(η,0,1-ξ),(ξ,0,1))\n",
    "intN1N2_o2 = sym.integrate(N1N2_o2,(η,0,1-ξ),(ξ,0,1))\n",
    "intN1N3_o2 = sym.integrate(N1N3_o2,(η,0,1-ξ),(ξ,0,1))\n",
    "intN1N4_o2 = sym.integrate(N1N4_o2,(η,0,1-ξ),(ξ,0,1))\n",
    "intN1N5_o2 = sym.integrate(N1N5_o2,(η,0,1-ξ),(ξ,0,1))\n",
    "intN1N6_o2 = sym.integrate(N1N6_o2,(η,0,1-ξ),(ξ,0,1))\n",
    "intN2N1_o2 = sym.integrate(N2N1_o2,(η,0,1-ξ),(ξ,0,1))\n",
    "intN2N2_o2 = sym.integrate(N2N2_o2,(η,0,1-ξ),(ξ,0,1))\n",
    "intN2N3_o2 = sym.integrate(N2N3_o2,(η,0,1-ξ),(ξ,0,1))\n",
    "intN2N4_o2 = sym.integrate(N2N4_o2,(η,0,1-ξ),(ξ,0,1))\n",
    "intN2N5_o2 = sym.integrate(N2N5_o2,(η,0,1-ξ),(ξ,0,1))\n",
    "intN2N6_o2 = sym.integrate(N2N6_o2,(η,0,1-ξ),(ξ,0,1))\n",
    "intN3N1_o2 = sym.integrate(N3N1_o2,(η,0,1-ξ),(ξ,0,1))\n",
    "intN3N2_o2 = sym.integrate(N3N2_o2,(η,0,1-ξ),(ξ,0,1))\n",
    "intN3N3_o2 = sym.integrate(N3N3_o2,(η,0,1-ξ),(ξ,0,1))\n",
    "intN3N4_o2 = sym.integrate(N3N4_o2,(η,0,1-ξ),(ξ,0,1))\n",
    "intN3N5_o2 = sym.integrate(N3N5_o2,(η,0,1-ξ),(ξ,0,1))\n",
    "intN3N6_o2 = sym.integrate(N3N6_o2,(η,0,1-ξ),(ξ,0,1))"
   ]
  },
  {
   "cell_type": "code",
   "execution_count": 26,
   "metadata": {},
   "outputs": [
    {
     "data": {
      "image/png": "[encoded data removed]",
      "text/latex": [
       "$$\\left[\\begin{matrix}\\frac{1}{60} & - \\frac{1}{120} & - \\frac{1}{120} & \\frac{1}{15} & \\frac{1}{30} & \\frac{1}{15}\\\\- \\frac{1}{120} & \\frac{1}{60} & - \\frac{1}{120} & \\frac{1}{15} & \\frac{1}{15} & \\frac{1}{30}\\\\- \\frac{1}{120} & - \\frac{1}{120} & \\frac{1}{60} & \\frac{1}{30} & \\frac{1}{15} & \\frac{1}{15}\\end{matrix}\\right]$$"
      ],
      "text/plain": [
       "⎡ 1/60   -1/120  -1/120  1/15  1/30  1/15⎤\n",
       "⎢                                        ⎥\n",
       "⎢-1/120   1/60   -1/120  1/15  1/15  1/30⎥\n",
       "⎢                                        ⎥\n",
       "⎣-1/120  -1/120   1/60   1/30  1/15  1/15⎦"
      ]
     },
     "execution_count": 26,
     "metadata": {},
     "output_type": "execute_result"
    }
   ],
   "source": [
    "sym.Matrix([[intN1N1_o2,intN1N2_o2,intN1N3_o2,intN1N4_o2,intN1N5_o2,intN1N6_o2],\n",
    "            [intN2N1_o2,intN2N2_o2,intN2N3_o2,intN2N4_o2,intN2N5_o2,intN2N6_o2],\n",
    "            [intN3N1_o2,intN3N2_o2,intN3N3_o2,intN3N4_o2,intN3N5_o2,intN3N6_o2]])"
   ]
  },
  {
   "cell_type": "code",
   "execution_count": 27,
   "metadata": {
    "collapsed": true
   },
   "outputs": [],
   "source": [
    "N1_o2N1 =  N1_o2 * N1 \n",
    "N2_o2N1 =  N2_o2 * N1 \n",
    "N3_o2N1 =  N3_o2 * N1 \n",
    "N4_o2N1 =  N4_o2 * N1 \n",
    "N5_o2N1 =  N5_o2 * N1 \n",
    "N6_o2N1 =  N6_o2 * N1 \n",
    "N1_o2N2 =  N1_o2 * N2 \n",
    "N2_o2N2 =  N2_o2 * N2 \n",
    "N3_o2N2 =  N3_o2 * N2 \n",
    "N4_o2N2 =  N4_o2 * N2 \n",
    "N5_o2N2 =  N5_o2 * N2 \n",
    "N6_o2N2 =  N6_o2 * N2 \n",
    "N1_o2N3 =  N1_o2 * N3 \n",
    "N2_o2N3 =  N2_o2 * N3 \n",
    "N3_o2N3 =  N3_o2 * N3 \n",
    "N4_o2N3 =  N4_o2 * N3 \n",
    "N5_o2N3 =  N5_o2 * N3 \n",
    "N6_o2N3 =  N6_o2 * N3 "
   ]
  },
  {
   "cell_type": "code",
   "execution_count": 28,
   "metadata": {
    "collapsed": true
   },
   "outputs": [],
   "source": [
    "intN1_o2N1 = sym.integrate(N1_o2N1,(η,0,1-ξ),(ξ,0,1))\n",
    "intN2_o2N1 = sym.integrate(N2_o2N1,(η,0,1-ξ),(ξ,0,1))\n",
    "intN3_o2N1 = sym.integrate(N3_o2N1,(η,0,1-ξ),(ξ,0,1))\n",
    "intN4_o2N1 = sym.integrate(N4_o2N1,(η,0,1-ξ),(ξ,0,1))\n",
    "intN5_o2N1 = sym.integrate(N5_o2N1,(η,0,1-ξ),(ξ,0,1))\n",
    "intN6_o2N1 = sym.integrate(N6_o2N1,(η,0,1-ξ),(ξ,0,1))\n",
    "intN1_o2N2 = sym.integrate(N1_o2N2,(η,0,1-ξ),(ξ,0,1))\n",
    "intN2_o2N2 = sym.integrate(N2_o2N2,(η,0,1-ξ),(ξ,0,1))\n",
    "intN3_o2N2 = sym.integrate(N3_o2N2,(η,0,1-ξ),(ξ,0,1))\n",
    "intN4_o2N2 = sym.integrate(N4_o2N2,(η,0,1-ξ),(ξ,0,1))\n",
    "intN5_o2N2 = sym.integrate(N5_o2N2,(η,0,1-ξ),(ξ,0,1))\n",
    "intN6_o2N2 = sym.integrate(N6_o2N2,(η,0,1-ξ),(ξ,0,1))\n",
    "intN1_o2N3 = sym.integrate(N1_o2N3,(η,0,1-ξ),(ξ,0,1))\n",
    "intN2_o2N3 = sym.integrate(N2_o2N3,(η,0,1-ξ),(ξ,0,1))\n",
    "intN3_o2N3 = sym.integrate(N3_o2N3,(η,0,1-ξ),(ξ,0,1))\n",
    "intN4_o2N3 = sym.integrate(N4_o2N3,(η,0,1-ξ),(ξ,0,1))\n",
    "intN5_o2N3 = sym.integrate(N5_o2N3,(η,0,1-ξ),(ξ,0,1))\n",
    "intN6_o2N3 = sym.integrate(N6_o2N3,(η,0,1-ξ),(ξ,0,1))"
   ]
  },
  {
   "cell_type": "code",
   "execution_count": 31,
   "metadata": {},
   "outputs": [
    {
     "name": "stdout",
     "output_type": "stream",
     "text": [
      "1/60:   0.016666666666666666\n",
      "1/120:  0.008333333333333333\n",
      "1/30:   0.03333333333333333\n",
      "1/15:   0.06666666666666667\n"
     ]
    },
    {
     "data": {
      "image/png": "[encoded data removed]",
      "text/latex": [
       "$$\\left[\\begin{matrix}\\frac{1}{60} & - \\frac{1}{120} & - \\frac{1}{120}\\\\- \\frac{1}{120} & \\frac{1}{60} & - \\frac{1}{120}\\\\- \\frac{1}{120} & - \\frac{1}{120} & \\frac{1}{60}\\\\\\frac{1}{15} & \\frac{1}{15} & \\frac{1}{30}\\\\\\frac{1}{30} & \\frac{1}{15} & \\frac{1}{15}\\\\\\frac{1}{15} & \\frac{1}{30} & \\frac{1}{15}\\end{matrix}\\right]$$"
      ],
      "text/plain": [
       "⎡ 1/60   -1/120  -1/120⎤\n",
       "⎢                      ⎥\n",
       "⎢-1/120   1/60   -1/120⎥\n",
       "⎢                      ⎥\n",
       "⎢-1/120  -1/120   1/60 ⎥\n",
       "⎢                      ⎥\n",
       "⎢ 1/15    1/15    1/30 ⎥\n",
       "⎢                      ⎥\n",
       "⎢ 1/30    1/15    1/15 ⎥\n",
       "⎢                      ⎥\n",
       "⎣ 1/15    1/30    1/15 ⎦"
      ]
     },
     "execution_count": 31,
     "metadata": {},
     "output_type": "execute_result"
    }
   ],
   "source": [
    "print(\"1/60:  \",1./60.)\n",
    "print(\"1/120: \",1./120.)\n",
    "print(\"1/30:  \",1./30.)\n",
    "print(\"1/15:  \",1./15.)\n",
    "\n",
    "\n",
    "sym.Matrix([[intN1_o2N1,intN1_o2N2,intN1_o2N3],\n",
    "            [intN2_o2N1,intN2_o2N2,intN2_o2N3],\n",
    "            [intN3_o2N1,intN3_o2N2,intN3_o2N3],\n",
    "            [intN4_o2N1,intN4_o2N2,intN4_o2N3],\n",
    "            [intN5_o2N1,intN5_o2N2,intN5_o2N3],\n",
    "            [intN6_o2N1,intN6_o2N2,intN6_o2N3]] )\n",
    "\n",
    "\n"
   ]
  },
  {
   "cell_type": "code",
   "execution_count": null,
   "metadata": {
    "collapsed": true
   },
   "outputs": [],
   "source": []
  },
  {
   "cell_type": "code",
   "execution_count": null,
   "metadata": {
    "collapsed": true
   },
   "outputs": [],
   "source": []
  },
  {
   "cell_type": "code",
   "execution_count": null,
   "metadata": {
    "collapsed": true
   },
   "outputs": [],
   "source": [
    "print(\"N1N1\")\n",
    "sym.integrate(N1N1,(η,0,1-ξ),(ξ,0,1))"
   ]
  },
  {
   "cell_type": "markdown",
   "metadata": {},
   "source": [
    "# Serend Quadratic Quad:\n",
    "\n",
    "\n",
    "    \n",
    "## Basis functions    "
   ]
  },
  {
   "cell_type": "code",
   "execution_count": null,
   "metadata": {
    "collapsed": true
   },
   "outputs": [],
   "source": []
  },
  {
   "cell_type": "code",
   "execution_count": 7,
   "metadata": {},
   "outputs": [],
   "source": [
    "N1 = ( 1/4*(1 - ξ )*( 1 - η)*(ξ*η)).expand()\n",
    "N1p = (-1/4*(1 - ξ )*( 1 - η)*(1.0+ξ+η)).expand()\n",
    "# N2 = (-1/4*(1 + ξ )*( 1 - η)*(ξ*η)).expand()\n",
    "# N3 = (1/4*(1 - ξ )*( 1 - η)*(ξ*η)).expand()\n",
    "# N4 = (1/4*(1 - ξ )*( 1 - η)*(ξ*η)).expand()\n",
    "# N5 = ( 4*η*ξ                  ).expand()\n",
    "# N6 = ( 4*η*(1 - ξ - η)        ).expand()\n",
    "# N8 = ( 4*η*(1 - ξ - η)        ).expand()\n",
    "# N7 = ( 4*η*(1 - ξ - η)        ).expand()"
   ]
  },
  {
   "cell_type": "code",
   "execution_count": 5,
   "metadata": {},
   "outputs": [
    {
     "data": {
      "image/png": "[encoded data removed]",
      "text/latex": [
       "$$0.25 \\eta^{2} \\xi^{2} - 0.25 \\eta^{2} \\xi - 0.25 \\eta \\xi^{2} + 0.25 \\eta \\xi$$"
      ],
      "text/plain": [
       "      2  2         2             2           \n",
       "0.25⋅η ⋅ξ  - 0.25⋅η ⋅ξ - 0.25⋅η⋅ξ  + 0.25⋅η⋅ξ"
      ]
     },
     "execution_count": 5,
     "metadata": {},
     "output_type": "execute_result"
    }
   ],
   "source": [
    "N1"
   ]
  },
  {
   "cell_type": "code",
   "execution_count": 8,
   "metadata": {},
   "outputs": [
    {
     "data": {
      "image/png": "[encoded data removed]",
      "text/latex": [
       "$$- 0.25 \\eta^{2} \\xi + 0.25 \\eta^{2} - 0.25 \\eta \\xi^{2} + 0.25 \\eta \\xi + 0.25 \\xi^{2} - 0.25$$"
      ],
      "text/plain": [
       "        2           2           2                    2       \n",
       "- 0.25⋅η ⋅ξ + 0.25⋅η  - 0.25⋅η⋅ξ  + 0.25⋅η⋅ξ + 0.25⋅ξ  - 0.25"
      ]
     },
     "execution_count": 8,
     "metadata": {},
     "output_type": "execute_result"
    }
   ],
   "source": [
    "N1p"
   ]
  },
  {
   "cell_type": "code",
   "execution_count": 9,
   "metadata": {},
   "outputs": [
    {
     "data": {
      "image/png": "[encoded data removed]",
      "text/latex": [
       "$$2 \\xi^{2} - \\xi$$"
      ],
      "text/plain": [
       "   2    \n",
       "2⋅ξ  - ξ"
      ]
     },
     "execution_count": 9,
     "metadata": {},
     "output_type": "execute_result"
    }
   ],
   "source": [
    "N2"
   ]
  },
  {
   "cell_type": "code",
   "execution_count": 10,
   "metadata": {},
   "outputs": [
    {
     "data": {
      "image/png": "[encoded data removed]",
      "text/latex": [
       "$$2 \\eta^{2} - \\eta$$"
      ],
      "text/plain": [
       "   2    \n",
       "2⋅η  - η"
      ]
     },
     "execution_count": 10,
     "metadata": {},
     "output_type": "execute_result"
    }
   ],
   "source": [
    "N3"
   ]
  },
  {
   "cell_type": "code",
   "execution_count": 11,
   "metadata": {},
   "outputs": [
    {
     "data": {
      "image/png": "[encoded data removed]",
      "text/latex": [
       "$$- 4 \\eta \\xi - 4 \\xi^{2} + 4 \\xi$$"
      ],
      "text/plain": [
       "            2      \n",
       "-4⋅η⋅ξ - 4⋅ξ  + 4⋅ξ"
      ]
     },
     "execution_count": 11,
     "metadata": {},
     "output_type": "execute_result"
    }
   ],
   "source": [
    "N4"
   ]
  },
  {
   "cell_type": "code",
   "execution_count": 12,
   "metadata": {},
   "outputs": [
    {
     "data": {
      "image/png": "[encoded data removed]",
      "text/latex": [
       "$$4 \\eta \\xi$$"
      ],
      "text/plain": [
       "4⋅η⋅ξ"
      ]
     },
     "execution_count": 12,
     "metadata": {},
     "output_type": "execute_result"
    }
   ],
   "source": [
    "N5"
   ]
  },
  {
   "cell_type": "code",
   "execution_count": 13,
   "metadata": {},
   "outputs": [
    {
     "data": {
      "image/png": "[encoded data removed]",
      "text/latex": [
       "$$- 4 \\eta^{2} - 4 \\eta \\xi + 4 \\eta$$"
      ],
      "text/plain": [
       "     2              \n",
       "- 4⋅η  - 4⋅η⋅ξ + 4⋅η"
      ]
     },
     "execution_count": 13,
     "metadata": {},
     "output_type": "execute_result"
    }
   ],
   "source": [
    "N6"
   ]
  },
  {
   "cell_type": "markdown",
   "metadata": {},
   "source": [
    "## Derivatives "
   ]
  },
  {
   "cell_type": "code",
   "execution_count": 10,
   "metadata": {},
   "outputs": [
    {
     "data": {
      "image/png": "[encoded data removed]",
      "text/latex": [
       "$$- 0.25 \\eta^{2} - 0.5 \\eta \\xi + 0.25 \\eta + 0.5 \\xi$$"
      ],
      "text/plain": [
       "        2                           \n",
       "- 0.25⋅η  - 0.5⋅η⋅ξ + 0.25⋅η + 0.5⋅ξ"
      ]
     },
     "execution_count": 10,
     "metadata": {},
     "output_type": "execute_result"
    }
   ],
   "source": [
    "N = N1p\n",
    "N.diff(ξ)"
   ]
  },
  {
   "cell_type": "code",
   "execution_count": 44,
   "metadata": {},
   "outputs": [
    {
     "data": {
      "image/png": "[encoded data removed]",
      "text/latex": [
       "$$- 8 \\eta - 4 \\xi + 4$$"
      ],
      "text/plain": [
       "-8⋅η - 4⋅ξ + 4"
      ]
     },
     "execution_count": 44,
     "metadata": {},
     "output_type": "execute_result"
    }
   ],
   "source": [
    "N.diff(η)"
   ]
  },
  {
   "cell_type": "code",
   "execution_count": 45,
   "metadata": {},
   "outputs": [
    {
     "data": {
      "image/png": "[encoded data removed]",
      "text/latex": [
       "$$0$$"
      ],
      "text/plain": [
       "0"
      ]
     },
     "execution_count": 45,
     "metadata": {},
     "output_type": "execute_result"
    }
   ],
   "source": [
    "N.diff(ξ).diff(ξ)"
   ]
  },
  {
   "cell_type": "code",
   "execution_count": 46,
   "metadata": {},
   "outputs": [
    {
     "data": {
      "image/png": "[encoded data removed]",
      "text/latex": [
       "$$-4$$"
      ],
      "text/plain": [
       "-4"
      ]
     },
     "execution_count": 46,
     "metadata": {},
     "output_type": "execute_result"
    }
   ],
   "source": [
    "N.diff(η).diff(ξ)"
   ]
  },
  {
   "cell_type": "code",
   "execution_count": 47,
   "metadata": {},
   "outputs": [
    {
     "data": {
      "image/png": "[encoded data removed]",
      "text/latex": [
       "$$-8$$"
      ],
      "text/plain": [
       "-8"
      ]
     },
     "execution_count": 47,
     "metadata": {},
     "output_type": "execute_result"
    }
   ],
   "source": [
    "N.diff(η).diff(η)"
   ]
  },
  {
   "cell_type": "code",
   "execution_count": null,
   "metadata": {
    "collapsed": true
   },
   "outputs": [],
   "source": []
  },
  {
   "cell_type": "code",
   "execution_count": 60,
   "metadata": {
    "collapsed": true
   },
   "outputs": [],
   "source": [
    "N1 = ((1 - ξ )*( 1 - η )/4).expand()\n",
    "N2 = ((1 + ξ )*( 1 - η )/4).expand()\n",
    "N3 = ((1 + ξ )*( 1 + η )/4).expand()\n",
    "N4 = ((1 - ξ )*( 1 + η )/4).expand()"
   ]
  },
  {
   "cell_type": "code",
   "execution_count": 61,
   "metadata": {},
   "outputs": [
    {
     "data": {
      "image/png": "[encoded data removed]",
      "text/latex": [
       "$$\\frac{\\eta \\xi}{4} - \\frac{\\eta}{4} - \\frac{\\xi}{4} + \\frac{1}{4}$$"
      ],
      "text/plain": [
       "η⋅ξ   η   ξ   1\n",
       "─── - ─ - ─ + ─\n",
       " 4    4   4   4"
      ]
     },
     "execution_count": 61,
     "metadata": {},
     "output_type": "execute_result"
    }
   ],
   "source": [
    "N1"
   ]
  },
  {
   "cell_type": "code",
   "execution_count": 62,
   "metadata": {},
   "outputs": [
    {
     "data": {
      "image/png": "[encoded data removed]",
      "text/latex": [
       "$$- \\frac{\\eta \\xi}{4} - \\frac{\\eta}{4} + \\frac{\\xi}{4} + \\frac{1}{4}$$"
      ],
      "text/plain": [
       "  η⋅ξ   η   ξ   1\n",
       "- ─── - ─ + ─ + ─\n",
       "   4    4   4   4"
      ]
     },
     "execution_count": 62,
     "metadata": {},
     "output_type": "execute_result"
    }
   ],
   "source": [
    "N2"
   ]
  },
  {
   "cell_type": "code",
   "execution_count": 63,
   "metadata": {},
   "outputs": [
    {
     "data": {
      "image/png": "[encoded data removed]",
      "text/latex": [
       "$$\\frac{\\eta \\xi}{4} + \\frac{\\eta}{4} + \\frac{\\xi}{4} + \\frac{1}{4}$$"
      ],
      "text/plain": [
       "η⋅ξ   η   ξ   1\n",
       "─── + ─ + ─ + ─\n",
       " 4    4   4   4"
      ]
     },
     "execution_count": 63,
     "metadata": {},
     "output_type": "execute_result"
    }
   ],
   "source": [
    "N3"
   ]
  },
  {
   "cell_type": "code",
   "execution_count": 64,
   "metadata": {},
   "outputs": [
    {
     "data": {
      "image/png": "[encoded data removed]",
      "text/latex": [
       "$$- \\frac{\\eta \\xi}{4} + \\frac{\\eta}{4} - \\frac{\\xi}{4} + \\frac{1}{4}$$"
      ],
      "text/plain": [
       "  η⋅ξ   η   ξ   1\n",
       "- ─── + ─ - ─ + ─\n",
       "   4    4   4   4"
      ]
     },
     "execution_count": 64,
     "metadata": {},
     "output_type": "execute_result"
    }
   ],
   "source": [
    "N4"
   ]
  },
  {
   "cell_type": "markdown",
   "metadata": {},
   "source": [
    "## Derivatives "
   ]
  },
  {
   "cell_type": "code",
   "execution_count": 55,
   "metadata": {},
   "outputs": [
    {
     "data": {
      "image/png": "[encoded data removed]",
      "text/latex": [
       "$$\\frac{\\eta}{4} - \\frac{1}{4}$$"
      ],
      "text/plain": [
       "η   1\n",
       "─ - ─\n",
       "4   4"
      ]
     },
     "execution_count": 55,
     "metadata": {},
     "output_type": "execute_result"
    }
   ],
   "source": [
    "N = N1\n",
    "N.diff(ξ)"
   ]
  },
  {
   "cell_type": "code",
   "execution_count": 56,
   "metadata": {},
   "outputs": [
    {
     "data": {
      "image/png": "[encoded data removed]",
      "text/latex": [
       "$$\\frac{\\xi}{4} - \\frac{1}{4}$$"
      ],
      "text/plain": [
       "ξ   1\n",
       "─ - ─\n",
       "4   4"
      ]
     },
     "execution_count": 56,
     "metadata": {},
     "output_type": "execute_result"
    }
   ],
   "source": [
    "N.diff(η)"
   ]
  },
  {
   "cell_type": "code",
   "execution_count": 57,
   "metadata": {},
   "outputs": [
    {
     "data": {
      "image/png": "[encoded data removed]",
      "text/latex": [
       "$$0$$"
      ],
      "text/plain": [
       "0"
      ]
     },
     "execution_count": 57,
     "metadata": {},
     "output_type": "execute_result"
    }
   ],
   "source": [
    "N.diff(ξ).diff(ξ)"
   ]
  },
  {
   "cell_type": "code",
   "execution_count": 58,
   "metadata": {},
   "outputs": [
    {
     "data": {
      "image/png": "[encoded data removed]",
      "text/latex": [
       "$$\\frac{1}{4}$$"
      ],
      "text/plain": [
       "1/4"
      ]
     },
     "execution_count": 58,
     "metadata": {},
     "output_type": "execute_result"
    }
   ],
   "source": [
    "N.diff(η).diff(ξ)"
   ]
  },
  {
   "cell_type": "code",
   "execution_count": 59,
   "metadata": {},
   "outputs": [
    {
     "data": {
      "image/png": "[encoded data removed]",
      "text/latex": [
       "$$0$$"
      ],
      "text/plain": [
       "0"
      ]
     },
     "execution_count": 59,
     "metadata": {},
     "output_type": "execute_result"
    }
   ],
   "source": [
    "N.diff(η).diff(η)"
   ]
  },
  {
   "cell_type": "code",
   "execution_count": null,
   "metadata": {
    "collapsed": true
   },
   "outputs": [],
   "source": []
  },
  {
   "cell_type": "code",
   "execution_count": null,
   "metadata": {
    "collapsed": true
   },
   "outputs": [],
   "source": []
  },
  {
   "cell_type": "code",
   "execution_count": null,
   "metadata": {
    "collapsed": true
   },
   "outputs": [],
   "source": []
  },
  {
   "cell_type": "code",
   "execution_count": null,
   "metadata": {
    "collapsed": true
   },
   "outputs": [],
   "source": []
  },
  {
   "cell_type": "code",
   "execution_count": null,
   "metadata": {
    "collapsed": true
   },
   "outputs": [],
   "source": []
  },
  {
   "cell_type": "code",
   "execution_count": null,
   "metadata": {
    "collapsed": true
   },
   "outputs": [],
   "source": [
    "# Serendipoty element"
   ]
  },
  {
   "cell_type": "code",
   "execution_count": 11,
   "metadata": {
    "collapsed": true
   },
   "outputs": [],
   "source": [
    "N1 = (-(1 - ξ )*( 1 - η )*( 1 + ξ + η )/4)#.expand()\n",
    "N2 = (-(1 + ξ )*( 1 - η )*( 1 - ξ + η )/4)#.expand()\n",
    "N3 = (-(1 + ξ )*( 1 + η )*( 1 - ξ - η )/4)#.expand()\n",
    "N4 = (-(1 - ξ )*( 1 + η )*( 1 + ξ - η )/4)#.expand()\n",
    "N5 = ( (1 - ξ )*( 1 + ξ )*( 1 - η )/2    )#.expand()\n",
    "N6 = ( (1 + ξ )*( 1 + η )*( 1 - η )/2    )#.expand()\n",
    "N7 = ( (1 - ξ )*( 1 + ξ )*( 1 + η )/2    )#.expand()\n",
    "N8 = ( (1 - ξ )*( 1 + η )*( 1 - η )/2    )#.expand()"
   ]
  },
  {
   "cell_type": "code",
   "execution_count": 12,
   "metadata": {},
   "outputs": [
    {
     "data": {
      "image/png": "[encoded data removed]",
      "text/latex": [
       "$$\\frac{1}{4} \\left(- \\eta + 1\\right) \\left(\\xi - 1\\right) \\left(\\eta + \\xi + 1\\right)$$"
      ],
      "text/plain": [
       "(-η + 1)⋅(ξ - 1)⋅(η + ξ + 1)\n",
       "────────────────────────────\n",
       "             4              "
      ]
     },
     "execution_count": 12,
     "metadata": {},
     "output_type": "execute_result"
    }
   ],
   "source": [
    "N1"
   ]
  },
  {
   "cell_type": "code",
   "execution_count": 13,
   "metadata": {},
   "outputs": [
    {
     "data": {
      "image/png": "[encoded data removed]",
      "text/latex": [
       "$$\\frac{1}{4} \\left(- \\eta + 1\\right) \\left(- \\xi - 1\\right) \\left(\\eta - \\xi + 1\\right)$$"
      ],
      "text/plain": [
       "(-η + 1)⋅(-ξ - 1)⋅(η - ξ + 1)\n",
       "─────────────────────────────\n",
       "              4              "
      ]
     },
     "execution_count": 13,
     "metadata": {},
     "output_type": "execute_result"
    }
   ],
   "source": [
    "N2"
   ]
  },
  {
   "cell_type": "code",
   "execution_count": 14,
   "metadata": {},
   "outputs": [
    {
     "data": {
      "image/png": "[encoded data removed]",
      "text/latex": [
       "$$\\frac{1}{4} \\left(\\eta + 1\\right) \\left(- \\xi - 1\\right) \\left(- \\eta - \\xi + 1\\right)$$"
      ],
      "text/plain": [
       "(η + 1)⋅(-ξ - 1)⋅(-η - ξ + 1)\n",
       "─────────────────────────────\n",
       "              4              "
      ]
     },
     "execution_count": 14,
     "metadata": {},
     "output_type": "execute_result"
    }
   ],
   "source": [
    "N3"
   ]
  },
  {
   "cell_type": "code",
   "execution_count": 15,
   "metadata": {},
   "outputs": [
    {
     "data": {
      "image/png": "[encoded data removed]",
      "text/latex": [
       "$$\\frac{1}{4} \\left(\\eta + 1\\right) \\left(\\xi - 1\\right) \\left(- \\eta + \\xi + 1\\right)$$"
      ],
      "text/plain": [
       "(η + 1)⋅(ξ - 1)⋅(-η + ξ + 1)\n",
       "────────────────────────────\n",
       "             4              "
      ]
     },
     "execution_count": 15,
     "metadata": {},
     "output_type": "execute_result"
    }
   ],
   "source": [
    "N4"
   ]
  },
  {
   "cell_type": "code",
   "execution_count": 16,
   "metadata": {},
   "outputs": [
    {
     "data": {
      "image/png": "[encoded data removed]",
      "text/latex": [
       "$$\\frac{1}{2} \\left(- \\eta + 1\\right) \\left(- \\xi + 1\\right) \\left(\\xi + 1\\right)$$"
      ],
      "text/plain": [
       "(-η + 1)⋅(-ξ + 1)⋅(ξ + 1)\n",
       "─────────────────────────\n",
       "            2            "
      ]
     },
     "execution_count": 16,
     "metadata": {},
     "output_type": "execute_result"
    }
   ],
   "source": [
    "N5"
   ]
  },
  {
   "cell_type": "code",
   "execution_count": 17,
   "metadata": {},
   "outputs": [
    {
     "data": {
      "image/png": "[encoded data removed]",
      "text/latex": [
       "$$\\frac{1}{2} \\left(- \\eta + 1\\right) \\left(\\eta + 1\\right) \\left(\\xi + 1\\right)$$"
      ],
      "text/plain": [
       "(-η + 1)⋅(η + 1)⋅(ξ + 1)\n",
       "────────────────────────\n",
       "           2            "
      ]
     },
     "execution_count": 17,
     "metadata": {},
     "output_type": "execute_result"
    }
   ],
   "source": [
    "N6"
   ]
  },
  {
   "cell_type": "code",
   "execution_count": 18,
   "metadata": {},
   "outputs": [
    {
     "data": {
      "image/png": "[encoded data removed]",
      "text/latex": [
       "$$\\frac{1}{2} \\left(\\eta + 1\\right) \\left(- \\xi + 1\\right) \\left(\\xi + 1\\right)$$"
      ],
      "text/plain": [
       "(η + 1)⋅(-ξ + 1)⋅(ξ + 1)\n",
       "────────────────────────\n",
       "           2            "
      ]
     },
     "execution_count": 18,
     "metadata": {},
     "output_type": "execute_result"
    }
   ],
   "source": [
    "N7 "
   ]
  },
  {
   "cell_type": "code",
   "execution_count": 19,
   "metadata": {},
   "outputs": [
    {
     "data": {
      "image/png": "[encoded data removed]",
      "text/latex": [
       "$$\\frac{1}{2} \\left(- \\eta + 1\\right) \\left(\\eta + 1\\right) \\left(- \\xi + 1\\right)$$"
      ],
      "text/plain": [
       "(-η + 1)⋅(η + 1)⋅(-ξ + 1)\n",
       "─────────────────────────\n",
       "            2            "
      ]
     },
     "execution_count": 19,
     "metadata": {},
     "output_type": "execute_result"
    }
   ],
   "source": [
    "N8"
   ]
  },
  {
   "cell_type": "code",
   "execution_count": 77,
   "metadata": {},
   "outputs": [
    {
     "data": {
      "image/png": "[encoded data removed]",
      "text/latex": [
       "$$1$$"
      ],
      "text/plain": [
       "1"
      ]
     },
     "execution_count": 77,
     "metadata": {},
     "output_type": "execute_result"
    }
   ],
   "source": []
  },
  {
   "cell_type": "markdown",
   "metadata": {},
   "source": [
    "## Derivatives "
   ]
  },
  {
   "cell_type": "code",
   "execution_count": 25,
   "metadata": {},
   "outputs": [
    {
     "data": {
      "image/png": "[encoded data removed]",
      "text/latex": [
       "$$\\left(- \\frac{\\eta}{4} + \\frac{1}{4}\\right) \\left(\\eta + 2 \\xi\\right)$$"
      ],
      "text/plain": [
       "⎛  η   1⎞          \n",
       "⎜- ─ + ─⎟⋅(η + 2⋅ξ)\n",
       "⎝  4   4⎠          "
      ]
     },
     "execution_count": 25,
     "metadata": {},
     "output_type": "execute_result"
    }
   ],
   "source": [
    "N = N1\n",
    "N.diff(ξ)"
   ]
  },
  {
   "cell_type": "code",
   "execution_count": 26,
   "metadata": {},
   "outputs": [
    {
     "data": {
      "image/png": "[encoded data removed]",
      "text/latex": [
       "$$\\left(- 2 \\eta - \\xi\\right) \\left(\\frac{\\xi}{4} - \\frac{1}{4}\\right)$$"
      ],
      "text/plain": [
       "           ⎛ξ   1⎞\n",
       "(-2⋅η - ξ)⋅⎜─ - ─⎟\n",
       "           ⎝4   4⎠"
      ]
     },
     "execution_count": 26,
     "metadata": {},
     "output_type": "execute_result"
    }
   ],
   "source": [
    "N.diff(η).factor(1-ξ)"
   ]
  },
  {
   "cell_type": "code",
   "execution_count": 22,
   "metadata": {},
   "outputs": [
    {
     "data": {
      "image/png": "[encoded data removed]",
      "text/latex": [
       "$$- \\frac{\\eta}{2} + \\frac{1}{2}$$"
      ],
      "text/plain": [
       "  η   1\n",
       "- ─ + ─\n",
       "  2   2"
      ]
     },
     "execution_count": 22,
     "metadata": {},
     "output_type": "execute_result"
    }
   ],
   "source": [
    "N.diff(ξ).diff(ξ)"
   ]
  },
  {
   "cell_type": "code",
   "execution_count": 23,
   "metadata": {},
   "outputs": [
    {
     "data": {
      "image/png": "[encoded data removed]",
      "text/latex": [
       "$$- \\frac{\\xi}{2} + \\frac{1}{2}$$"
      ],
      "text/plain": [
       "  ξ   1\n",
       "- ─ + ─\n",
       "  2   2"
      ]
     },
     "execution_count": 23,
     "metadata": {},
     "output_type": "execute_result"
    }
   ],
   "source": [
    "N.diff(η).diff(η)"
   ]
  },
  {
   "cell_type": "code",
   "execution_count": 24,
   "metadata": {},
   "outputs": [
    {
     "data": {
      "image/png": "[encoded data removed]",
      "text/latex": [
       "$$- \\frac{\\eta}{2} - \\frac{\\xi}{2} + \\frac{1}{4}$$"
      ],
      "text/plain": [
       "  η   ξ   1\n",
       "- ─ - ─ + ─\n",
       "  2   2   4"
      ]
     },
     "execution_count": 24,
     "metadata": {},
     "output_type": "execute_result"
    }
   ],
   "source": [
    "N.diff(η).diff(ξ)"
   ]
  },
  {
   "cell_type": "code",
   "execution_count": null,
   "metadata": {
    "collapsed": true
   },
   "outputs": [],
   "source": []
  }
 ],
 "metadata": {
  "kernelspec": {
   "display_name": "Python 3",
   "language": "python",
   "name": "python3"
  },
  "language_info": {
   "codemirror_mode": {
    "name": "ipython",
    "version": 3
   },
   "file_extension": ".py",
   "mimetype": "text/x-python",
   "name": "python",
   "nbconvert_exporter": "python",
   "pygments_lexer": "ipython3",
   "version": "3.6.0"
  }
 },
 "nbformat": 4,
 "nbformat_minor": 2
}
