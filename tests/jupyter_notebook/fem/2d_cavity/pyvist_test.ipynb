{
 "cells": [
  {
   "cell_type": "code",
   "execution_count": 1,
   "metadata": {},
   "outputs": [],
   "source": [
    "import numpy as np\n",
    "from numpy import pi, cos, sin, linspace, meshgrid\n",
    "import pyvista as pv\n",
    "from itkwidgets import view"
   ]
  },
  {
   "cell_type": "code",
   "execution_count": 49,
   "metadata": {},
   "outputs": [],
   "source": [
    "def x_(u, v):\n",
    "    x = -2 + 2*cos(v) - cos(u)\n",
    "    x[v<3*pi] = -2 + (2 + cos(u[v<3*pi]))*cos(v[v<3*pi])\n",
    "    x[v<2*pi] = cos(u[v<2*pi])*(2.5 - 1.5*cos(v[v<2*pi]))\n",
    "    return x\n",
    "\n",
    "def y_(u, v):\n",
    "    y = sin(u)\n",
    "    y[v<2*pi] = sin(u[v<2*pi])*(2.5 - 1.5*cos(v[v<2*pi]))\n",
    "    return y\n",
    "\n",
    "def z_(u, v):\n",
    "    z = -3*v + 12*pi\n",
    "    z[v<3*pi] = (2 + cos(u[v<3*pi]))*sin(v[v<3*pi]) + 3*pi\n",
    "    z[v<2*pi] = 3*v[v<2*pi] - 3*pi\n",
    "    z[v<pi] = -2.5*sin(v[v<pi])\n",
    "    return -z\n",
    "\n",
    " \n",
    "u = linspace(pi, 2*pi, 10)\n",
    "v = linspace(0, 4*pi, 38)\n",
    "u, v = meshgrid(u, v)\n",
    "\n",
    "x = x_(u, v)\n",
    "y = y_(u, v)\n",
    "z = z_(u, v)"
   ]
  },
  {
   "cell_type": "code",
   "execution_count": 50,
   "metadata": {},
   "outputs": [
    {
     "data": {
      "application/vnd.jupyter.widget-view+json": {
       "model_id": "df42f18deff544a19552a9f1816f3ace",
       "version_major": 2,
       "version_minor": 0
      },
      "text/plain": [
       "Viewer(cmap='Plasma (matplotlib)', geometries=[{'vtkClass': 'vtkPolyData', 'points': {'vtkClass': 'vtkPoints',…"
      ]
     },
     "metadata": {},
     "output_type": "display_data"
    }
   ],
   "source": [
    "grid = pv.StructuredGrid(x, y, z)\n",
    "grid[\"z\"] = z.T.ravel()\n",
    "view(geometries=grid, cmap=\"Plasma (matplotlib)\")"
   ]
  },
  {
   "cell_type": "code",
   "execution_count": 2,
   "metadata": {},
   "outputs": [],
   "source": [
    "object = pv.read(\"test_cavity_new.vtk\")"
   ]
  },
  {
   "cell_type": "code",
   "execution_count": 53,
   "metadata": {},
   "outputs": [],
   "source": [
    "p = pv.Plotter()"
   ]
  },
  {
   "cell_type": "code",
   "execution_count": 3,
   "metadata": {},
   "outputs": [
    {
     "data": {
      "application/vnd.jupyter.widget-view+json": {
       "model_id": "596b2ce84ee74ad7aa2ab7db474db18e",
       "version_major": 2,
       "version_minor": 0
      },
      "text/plain": [
       "Viewer(geometries=[{'vtkClass': 'vtkPolyData', 'points': {'vtkClass': 'vtkPoints', 'name': '_points', 'numberO…"
      ]
     },
     "metadata": {},
     "output_type": "display_data"
    }
   ],
   "source": [
    "view(geometries=object)"
   ]
  },
  {
   "cell_type": "code",
   "execution_count": 38,
   "metadata": {
    "scrolled": false
   },
   "outputs": [
    {
     "data": {
      "text/plain": [
       "(array([ 1,  2, 15], dtype=int32),\n",
       " [array([ 5,  6,  7,  8,  9, 10, 11, 12, 13, 14, 15, 16, 17, 18, 19, 20, 21,\n",
       "         22, 23, 24, 25, 26, 27, 28, 29, 30, 31, 32, 33, 34, 35, 36, 37, 38,\n",
       "         39, 40, 41, 42, 43, 44], dtype=uint64),\n",
       "  array([ 45,  46,  47,  48,  49,  50,  51,  52,  53,  54,  55,  56,  57,\n",
       "          58,  59,  60,  61,  62,  63,  64,  65,  66,  67,  68,  69,  70,\n",
       "          71,  72,  73,  74,  75,  76,  77,  78,  79,  80,  81,  82,  83,\n",
       "          84,  85,  86,  87,  88,  89,  90,  91,  92,  93,  94,  95,  96,\n",
       "          97,  98,  99, 100, 101, 102, 103, 104, 105, 106, 107, 108, 109,\n",
       "         110, 111, 112, 113, 114, 115, 116, 117, 118, 119, 120, 121, 122,\n",
       "         123, 124, 125, 126, 127, 128, 129, 130, 131, 132, 133, 134, 135,\n",
       "         136, 137, 138, 139, 140, 141, 142, 143, 144, 145, 146, 147, 148,\n",
       "         149, 150, 151, 152, 153, 154, 155, 156, 157, 158, 159, 160, 161,\n",
       "         162, 163, 164, 165, 166, 167, 168, 169, 170, 171, 172, 173, 174,\n",
       "         175, 176, 177, 178, 179, 180, 181, 182, 183, 184, 185, 186, 187,\n",
       "         188, 189, 190, 191, 192, 193, 194, 195, 196, 197, 198, 199, 200,\n",
       "         201, 202, 203, 204, 205, 206, 207, 208, 209, 210, 211, 212, 213,\n",
       "         214, 215, 216, 217, 218, 219, 220, 221, 222, 223, 224, 225, 226,\n",
       "         227, 228, 229, 230, 231, 232, 233, 234, 235, 236, 237, 238, 239,\n",
       "         240, 241, 242, 243, 244, 245, 246, 247, 248, 249, 250, 251, 252,\n",
       "         253, 254, 255, 256, 257, 258, 259, 260, 261, 262, 263, 264, 265,\n",
       "         266, 267, 268, 269, 270, 271, 272, 273, 274, 275, 276, 277, 278,\n",
       "         279, 280, 281, 282, 283, 284, 285, 286], dtype=uint64),\n",
       "  array([1, 2, 3, 4], dtype=uint64)],\n",
       " [array([ 1,  5,  5,  6,  6,  7,  7,  8,  8,  9,  9, 10, 10, 11, 11, 12, 12,\n",
       "         13, 13,  2,  2, 14, 14, 15, 15, 16, 16, 17, 17, 18, 18, 19, 19, 20,\n",
       "         20, 21, 21, 22, 22,  3,  3, 23, 23, 24, 24, 25, 25, 26, 26, 27, 27,\n",
       "         28, 28, 29, 29, 30, 30, 31, 31,  4,  4, 32, 32, 33, 33, 34, 34, 35,\n",
       "         35, 36, 36, 37, 37, 38, 38, 39, 39, 40, 40,  1], dtype=uint64),\n",
       "  array([  2,  14,  92,   1,   5,  93,   3,  23,  90,   4,  32,  91,  13,\n",
       "           2,  92,  40,   1,  93,  22,   3,  90,  31,   4,  91, 106,  63,\n",
       "         108,  66,  63, 106,  64, 107, 109,  64,  67, 107,  65,  69, 109,\n",
       "          65, 109, 142,  55,  83, 103,  54,  82, 102,  60,  85, 105,  58,\n",
       "          84, 104,  83,  43, 103,  82,  42, 102,  85,  45, 105,  84,  44,\n",
       "         104,  66,  46,  86,  67,  48,  87,  68,  47,  88,  69,  49,  89,\n",
       "          87,  57,  98,  86,  56,  99,  89,  61, 100,  88,  59, 101,  68,\n",
       "          65, 142,  27,  28,  70,  36,  37,  71,  18,  19,  72,   9,  10,\n",
       "          73,  72,  19, 118,  73,  10, 119,  70,  28, 120,  71,  37, 121,\n",
       "          46,  66, 130,  47,  68, 131,  67,  64, 132,  48,  67, 132,  69,\n",
       "          65, 133,  49,  69, 133,  42,  87,  98,  43,  86,  99,  44,  89,\n",
       "         100,  45,  88, 101,  63,  66, 111,  65,  68, 113, 108,  68, 142,\n",
       "          41, 106, 108, 107,  41, 109,  57,  72, 118,  61,  73, 119,  56,\n",
       "          70, 120,  59,  71, 121,  24,  25,  74,  33,  34,  75,  15,  16,\n",
       "          76,   6,   7,  77,  20,  21,  78,  11,  12,  80,  29,  30,  79,\n",
       "          38,  39,  81,  27,  70,  94,  36,  71,  95,  18,  72,  96,   9,\n",
       "          73,  97,  57,  78,  98,  56,  79,  99,  61,  80, 100,  59,  81,\n",
       "         101,  70,  46, 134,  71,  47, 135,  72,  48, 136,  73,  49, 137,\n",
       "          82,  62, 110,  83,  63, 111,  84,  64, 112,  85,  65, 113,  50,\n",
       "          74, 102,  51,  75, 103,  52,  76, 104,  53,  77, 105,  42,  82,\n",
       "         110,  43,  83, 111,  44,  84, 112,  45,  85, 113,  62, 107, 110,\n",
       "         107,  67, 110,  64, 109, 112, 109,  69, 112,  26,  27,  94,  35,\n",
       "          36,  95,  17,  18,  96,   8,   9,  97,  86,  46, 138,  87,  48,\n",
       "         140,  88,  47, 139,  89,  49, 141,  24,  74, 122,  33,  75, 123,\n",
       "          15,  76, 124,   6,  77, 125,  78,  21, 126,  80,  12, 127,  79,\n",
       "          30, 128,  81,  39, 129,  75,  55, 103,  74,  54, 102,  77,  60,\n",
       "         105,  76,  58, 104,  78,  50,  98,  79,  51,  99,  80,  52, 100,\n",
       "          81,  53, 101,  14,  15, 124,  23,  24, 122,   5,   6, 125,  32,\n",
       "          33, 123,  21,  22, 126,  12,  13, 127,  30,  31, 128,  39,  40,\n",
       "         129,  94,  70, 134,  95,  71, 135,  96,  72, 136,  97,  73, 137,\n",
       "          92,  14, 124,  93,   5, 125,  90,  23, 122,  91,  32, 123,  22,\n",
       "          90, 126,  13,  92, 127,  31,  91, 128,  40,  93, 129,  98,  50,\n",
       "         102,  99,  51, 103, 100,  52, 104, 101,  53, 105,  62,  82, 130,\n",
       "          63,  83, 131,  64,  84, 132,  65,  85, 133,  46,  70, 138,  47,\n",
       "          71, 139,  70,  56, 138,  71,  59, 139,  48,  72, 140,  49,  73,\n",
       "         141,  72,  57, 140,  73,  61, 141,  74,  25, 114,  75,  34, 115,\n",
       "          79,  56, 120,  54,  74, 114,  55,  75, 115,  78,  57, 118,  81,\n",
       "          59, 121,  80,  61, 119,  29,  79, 120,  20,  78, 118,  38,  81,\n",
       "         121,  11,  80, 119,  76,  16, 116,  77,   7, 117,  58,  76, 116,\n",
       "          60,  77, 117,  82,  46, 130,  83,  47, 131,  84,  48, 132,  85,\n",
       "          49, 133, 106,  62, 130,  66, 106, 130, 108,  63, 131,  68, 108,\n",
       "         131,  74,  50, 122,  75,  51, 123,  50,  78, 126,  76,  52, 124,\n",
       "          51,  79, 128,  77,  53, 125,  52,  80, 127,  53,  81, 129,  82,\n",
       "          54, 134,  46,  82, 134,  83,  55, 135,  47,  83, 135,  48,  84,\n",
       "         136,  84,  58, 136,  85,  60, 137,  49,  85, 137,  66,  86, 111,\n",
       "          86,  43, 111,  67,  87, 110,  87,  42, 110,  68,  88, 113,  69,\n",
       "          89, 112,  88,  45, 113,  89,  44, 112,  42,  98, 102,  43,  99,\n",
       "         103,  44, 100, 104,  45, 101, 105,  50,  90, 122,  51,  91, 123,\n",
       "          90,  50, 126,  91,  51, 128,  52,  92, 124,  92,  52, 127,  53,\n",
       "          93, 125,  93,  53, 129, 106,  41, 107,  62, 106, 107,  26,  94,\n",
       "         114,  35,  95, 115,  94,  54, 114,  95,  55, 115,  17,  96, 116,\n",
       "           8,  97, 117,  96,  58, 116,  97,  60, 117,  25,  26, 114,  34,\n",
       "          35, 115,  16,  17, 116,   7,   8, 117,  19,  20, 118,  10,  11,\n",
       "         119,  28,  29, 120,  37,  38, 121,  56,  86, 138,  57,  87, 140,\n",
       "          59,  88, 139,  61,  89, 141,  54,  94, 134,  55,  95, 135,  58,\n",
       "          96, 136,  60,  97, 137, 109,  41, 142,  41, 108, 142],\n",
       "        dtype=uint64),\n",
       "  array([1, 2, 3, 4], dtype=uint64)])"
      ]
     },
     "execution_count": 38,
     "metadata": {},
     "output_type": "execute_result"
    }
   ],
   "source": [
    "mesh.getElements()"
   ]
  },
  {
   "cell_type": "code",
   "execution_count": 38,
   "metadata": {
    "scrolled": false
   },
   "outputs": [
    {
     "data": {
      "text/plain": [
       "(array([ 1,  2, 15], dtype=int32),\n",
       " [array([ 5,  6,  7,  8,  9, 10, 11, 12, 13, 14, 15, 16, 17, 18, 19, 20, 21,\n",
       "         22, 23, 24, 25, 26, 27, 28, 29, 30, 31, 32, 33, 34, 35, 36, 37, 38,\n",
       "         39, 40, 41, 42, 43, 44], dtype=uint64),\n",
       "  array([ 45,  46,  47,  48,  49,  50,  51,  52,  53,  54,  55,  56,  57,\n",
       "          58,  59,  60,  61,  62,  63,  64,  65,  66,  67,  68,  69,  70,\n",
       "          71,  72,  73,  74,  75,  76,  77,  78,  79,  80,  81,  82,  83,\n",
       "          84,  85,  86,  87,  88,  89,  90,  91,  92,  93,  94,  95,  96,\n",
       "          97,  98,  99, 100, 101, 102, 103, 104, 105, 106, 107, 108, 109,\n",
       "         110, 111, 112, 113, 114, 115, 116, 117, 118, 119, 120, 121, 122,\n",
       "         123, 124, 125, 126, 127, 128, 129, 130, 131, 132, 133, 134, 135,\n",
       "         136, 137, 138, 139, 140, 141, 142, 143, 144, 145, 146, 147, 148,\n",
       "         149, 150, 151, 152, 153, 154, 155, 156, 157, 158, 159, 160, 161,\n",
       "         162, 163, 164, 165, 166, 167, 168, 169, 170, 171, 172, 173, 174,\n",
       "         175, 176, 177, 178, 179, 180, 181, 182, 183, 184, 185, 186, 187,\n",
       "         188, 189, 190, 191, 192, 193, 194, 195, 196, 197, 198, 199, 200,\n",
       "         201, 202, 203, 204, 205, 206, 207, 208, 209, 210, 211, 212, 213,\n",
       "         214, 215, 216, 217, 218, 219, 220, 221, 222, 223, 224, 225, 226,\n",
       "         227, 228, 229, 230, 231, 232, 233, 234, 235, 236, 237, 238, 239,\n",
       "         240, 241, 242, 243, 244, 245, 246, 247, 248, 249, 250, 251, 252,\n",
       "         253, 254, 255, 256, 257, 258, 259, 260, 261, 262, 263, 264, 265,\n",
       "         266, 267, 268, 269, 270, 271, 272, 273, 274, 275, 276, 277, 278,\n",
       "         279, 280, 281, 282, 283, 284, 285, 286], dtype=uint64),\n",
       "  array([1, 2, 3, 4], dtype=uint64)],\n",
       " [array([ 1,  5,  5,  6,  6,  7,  7,  8,  8,  9,  9, 10, 10, 11, 11, 12, 12,\n",
       "         13, 13,  2,  2, 14, 14, 15, 15, 16, 16, 17, 17, 18, 18, 19, 19, 20,\n",
       "         20, 21, 21, 22, 22,  3,  3, 23, 23, 24, 24, 25, 25, 26, 26, 27, 27,\n",
       "         28, 28, 29, 29, 30, 30, 31, 31,  4,  4, 32, 32, 33, 33, 34, 34, 35,\n",
       "         35, 36, 36, 37, 37, 38, 38, 39, 39, 40, 40,  1], dtype=uint64),\n",
       "  array([  2,  14,  92,   1,   5,  93,   3,  23,  90,   4,  32,  91,  13,\n",
       "           2,  92,  40,   1,  93,  22,   3,  90,  31,   4,  91, 106,  63,\n",
       "         108,  66,  63, 106,  64, 107, 109,  64,  67, 107,  65,  69, 109,\n",
       "          65, 109, 142,  55,  83, 103,  54,  82, 102,  60,  85, 105,  58,\n",
       "          84, 104,  83,  43, 103,  82,  42, 102,  85,  45, 105,  84,  44,\n",
       "         104,  66,  46,  86,  67,  48,  87,  68,  47,  88,  69,  49,  89,\n",
       "          87,  57,  98,  86,  56,  99,  89,  61, 100,  88,  59, 101,  68,\n",
       "          65, 142,  27,  28,  70,  36,  37,  71,  18,  19,  72,   9,  10,\n",
       "          73,  72,  19, 118,  73,  10, 119,  70,  28, 120,  71,  37, 121,\n",
       "          46,  66, 130,  47,  68, 131,  67,  64, 132,  48,  67, 132,  69,\n",
       "          65, 133,  49,  69, 133,  42,  87,  98,  43,  86,  99,  44,  89,\n",
       "         100,  45,  88, 101,  63,  66, 111,  65,  68, 113, 108,  68, 142,\n",
       "          41, 106, 108, 107,  41, 109,  57,  72, 118,  61,  73, 119,  56,\n",
       "          70, 120,  59,  71, 121,  24,  25,  74,  33,  34,  75,  15,  16,\n",
       "          76,   6,   7,  77,  20,  21,  78,  11,  12,  80,  29,  30,  79,\n",
       "          38,  39,  81,  27,  70,  94,  36,  71,  95,  18,  72,  96,   9,\n",
       "          73,  97,  57,  78,  98,  56,  79,  99,  61,  80, 100,  59,  81,\n",
       "         101,  70,  46, 134,  71,  47, 135,  72,  48, 136,  73,  49, 137,\n",
       "          82,  62, 110,  83,  63, 111,  84,  64, 112,  85,  65, 113,  50,\n",
       "          74, 102,  51,  75, 103,  52,  76, 104,  53,  77, 105,  42,  82,\n",
       "         110,  43,  83, 111,  44,  84, 112,  45,  85, 113,  62, 107, 110,\n",
       "         107,  67, 110,  64, 109, 112, 109,  69, 112,  26,  27,  94,  35,\n",
       "          36,  95,  17,  18,  96,   8,   9,  97,  86,  46, 138,  87,  48,\n",
       "         140,  88,  47, 139,  89,  49, 141,  24,  74, 122,  33,  75, 123,\n",
       "          15,  76, 124,   6,  77, 125,  78,  21, 126,  80,  12, 127,  79,\n",
       "          30, 128,  81,  39, 129,  75,  55, 103,  74,  54, 102,  77,  60,\n",
       "         105,  76,  58, 104,  78,  50,  98,  79,  51,  99,  80,  52, 100,\n",
       "          81,  53, 101,  14,  15, 124,  23,  24, 122,   5,   6, 125,  32,\n",
       "          33, 123,  21,  22, 126,  12,  13, 127,  30,  31, 128,  39,  40,\n",
       "         129,  94,  70, 134,  95,  71, 135,  96,  72, 136,  97,  73, 137,\n",
       "          92,  14, 124,  93,   5, 125,  90,  23, 122,  91,  32, 123,  22,\n",
       "          90, 126,  13,  92, 127,  31,  91, 128,  40,  93, 129,  98,  50,\n",
       "         102,  99,  51, 103, 100,  52, 104, 101,  53, 105,  62,  82, 130,\n",
       "          63,  83, 131,  64,  84, 132,  65,  85, 133,  46,  70, 138,  47,\n",
       "          71, 139,  70,  56, 138,  71,  59, 139,  48,  72, 140,  49,  73,\n",
       "         141,  72,  57, 140,  73,  61, 141,  74,  25, 114,  75,  34, 115,\n",
       "          79,  56, 120,  54,  74, 114,  55,  75, 115,  78,  57, 118,  81,\n",
       "          59, 121,  80,  61, 119,  29,  79, 120,  20,  78, 118,  38,  81,\n",
       "         121,  11,  80, 119,  76,  16, 116,  77,   7, 117,  58,  76, 116,\n",
       "          60,  77, 117,  82,  46, 130,  83,  47, 131,  84,  48, 132,  85,\n",
       "          49, 133, 106,  62, 130,  66, 106, 130, 108,  63, 131,  68, 108,\n",
       "         131,  74,  50, 122,  75,  51, 123,  50,  78, 126,  76,  52, 124,\n",
       "          51,  79, 128,  77,  53, 125,  52,  80, 127,  53,  81, 129,  82,\n",
       "          54, 134,  46,  82, 134,  83,  55, 135,  47,  83, 135,  48,  84,\n",
       "         136,  84,  58, 136,  85,  60, 137,  49,  85, 137,  66,  86, 111,\n",
       "          86,  43, 111,  67,  87, 110,  87,  42, 110,  68,  88, 113,  69,\n",
       "          89, 112,  88,  45, 113,  89,  44, 112,  42,  98, 102,  43,  99,\n",
       "         103,  44, 100, 104,  45, 101, 105,  50,  90, 122,  51,  91, 123,\n",
       "          90,  50, 126,  91,  51, 128,  52,  92, 124,  92,  52, 127,  53,\n",
       "          93, 125,  93,  53, 129, 106,  41, 107,  62, 106, 107,  26,  94,\n",
       "         114,  35,  95, 115,  94,  54, 114,  95,  55, 115,  17,  96, 116,\n",
       "           8,  97, 117,  96,  58, 116,  97,  60, 117,  25,  26, 114,  34,\n",
       "          35, 115,  16,  17, 116,   7,   8, 117,  19,  20, 118,  10,  11,\n",
       "         119,  28,  29, 120,  37,  38, 121,  56,  86, 138,  57,  87, 140,\n",
       "          59,  88, 139,  61,  89, 141,  54,  94, 134,  55,  95, 135,  58,\n",
       "          96, 136,  60,  97, 137, 109,  41, 142,  41, 108, 142],\n",
       "        dtype=uint64),\n",
       "  array([1, 2, 3, 4], dtype=uint64)])"
      ]
     },
     "execution_count": 38,
     "metadata": {},
     "output_type": "execute_result"
    }
   ],
   "source": [
    "mesh.getElements()"
   ]
  },
  {
   "cell_type": "code",
   "execution_count": null,
   "metadata": {},
   "outputs": [],
   "source": []
  },
  {
   "cell_type": "code",
   "execution_count": null,
   "metadata": {},
   "outputs": [],
   "source": []
  },
  {
   "cell_type": "code",
   "execution_count": null,
   "metadata": {},
   "outputs": [],
   "source": []
  },
  {
   "cell_type": "code",
   "execution_count": null,
   "metadata": {},
   "outputs": [],
   "source": [
    "T(x+h) = T(x) + ( T'(x) ) * h + ( T''(x)/2! ) * h**2"
   ]
  },
  {
   "cell_type": "code",
   "execution_count": null,
   "metadata": {},
   "outputs": [],
   "source": [
    "import gmsh\n",
    "import gmsh_api\n",
    "gmsh.initialize()\n",
    "gmsh.model.add(\"square\")\n",
    "gmsh.model.geo.addPoint(0, 0, 0, 0.1, 1)\n",
    "gmsh.model.geo.addPoint(1, 0, 0, 0.1, 2)\n",
    "gmsh.model.geo.addPoint(1, 1, 0, 0.1, 3)\n",
    "gmsh.model.geo.addPoint(0, 1, 0, 0.1, 4)\n",
    "gmsh.model.geo.addLine(1, 2, 1)\n",
    "gmsh.model.geo.addLine(2, 3, 2)\n",
    "gmsh.model.geo.addLine(3, 4, 3)\n",
    "# try automatic assignement of tag\n",
    "line4 = gmsh.model.geo.addLine(4, 1)\n",
    "gmsh.model.geo.addCurveLoop([1, 2, 3, line4], 1)\n",
    "gmsh.model.geo.addPlaneSurface([1], 6)\n",
    "gmsh.model.geo.synchronize()\n",
    "gmsh.model.mesh.generate(2)\n",
    "gmsh.write(\"square_testing_gmsh_python.msh\")\n",
    "# gmsh.finalize()\n"
   ]
  },
  {
   "cell_type": "code",
   "execution_count": null,
   "metadata": {},
   "outputs": [],
   "source": [
    "mesh = gmsh_api.Mesh.from_gmsh(gmsh)"
   ]
  },
  {
   "cell_type": "code",
   "execution_count": null,
   "metadata": {},
   "outputs": [],
   "source": [
    "mesh.nodes"
   ]
  },
  {
   "cell_type": "code",
   "execution_count": null,
   "metadata": {},
   "outputs": [],
   "source": [
    "ls"
   ]
  },
  {
   "cell_type": "code",
   "execution_count": null,
   "metadata": {},
   "outputs": [],
   "source": [
    "mesh=gmsh_api.Mesh.from_gmsh(\"mesh_simple_square.msh\")"
   ]
  },
  {
   "cell_type": "code",
   "execution_count": null,
   "metadata": {},
   "outputs": [],
   "source": [
    "import meshio"
   ]
  },
  {
   "cell_type": "code",
   "execution_count": null,
   "metadata": {},
   "outputs": [],
   "source": [
    "ls"
   ]
  },
  {
   "cell_type": "code",
   "execution_count": null,
   "metadata": {},
   "outputs": [],
   "source": [
    "mesh = meshio.read(\"mesh_simple_square.msh\")"
   ]
  },
  {
   "cell_type": "code",
   "execution_count": null,
   "metadata": {},
   "outputs": [],
   "source": [
    "mesh."
   ]
  },
  {
   "cell_type": "code",
   "execution_count": null,
   "metadata": {},
   "outputs": [],
   "source": [
    "mesh = gmsh.model.mesh\n",
    "vtags,vxyz,_ = mesh.getNodes()"
   ]
  },
  {
   "cell_type": "code",
   "execution_count": null,
   "metadata": {},
   "outputs": [],
   "source": [
    "ls"
   ]
  },
  {
   "cell_type": "code",
   "execution_count": null,
   "metadata": {},
   "outputs": [],
   "source": [
    "gmsh.open(\"mesh_simple_square.geo\")"
   ]
  },
  {
   "cell_type": "code",
   "execution_count": null,
   "metadata": {},
   "outputs": [],
   "source": []
  },
  {
   "cell_type": "code",
   "execution_count": null,
   "metadata": {},
   "outputs": [],
   "source": [
    "gmsh.model.mesh.getElements()"
   ]
  },
  {
   "cell_type": "code",
   "execution_count": null,
   "metadata": {},
   "outputs": [],
   "source": []
  },
  {
   "cell_type": "code",
   "execution_count": null,
   "metadata": {},
   "outputs": [],
   "source": [
    "gmsh.finalize()"
   ]
  },
  {
   "cell_type": "code",
   "execution_count": null,
   "metadata": {},
   "outputs": [],
   "source": [
    "pts.reshape((pts.size//3,3))"
   ]
  },
  {
   "cell_type": "code",
   "execution_count": null,
   "metadata": {},
   "outputs": [],
   "source": [
    "type(mesh.elements.values)"
   ]
  },
  {
   "cell_type": "code",
   "execution_count": null,
   "metadata": {},
   "outputs": [],
   "source": [
    "type(mesh.nodes[\"x\"])"
   ]
  },
  {
   "cell_type": "code",
   "execution_count": null,
   "metadata": {},
   "outputs": [],
   "source": [
    "import pyvista as pv\n",
    "\n",
    "mesh = pv.read(\"square_testing_gmsh_python.msh\")"
   ]
  },
  {
   "cell_type": "code",
   "execution_count": null,
   "metadata": {},
   "outputs": [],
   "source": [
    "view(geometries=mesh)"
   ]
  },
  {
   "cell_type": "code",
   "execution_count": null,
   "metadata": {},
   "outputs": [],
   "source": [
    "p = pv.Plotter()\n",
    "p.add_mesh(mesh)\n",
    "p.show()"
   ]
  },
  {
   "cell_type": "code",
   "execution_count": null,
   "metadata": {},
   "outputs": [],
   "source": []
  },
  {
   "cell_type": "code",
   "execution_count": null,
   "metadata": {},
   "outputs": [],
   "source": []
  },
  {
   "cell_type": "code",
   "execution_count": null,
   "metadata": {},
   "outputs": [],
   "source": []
  },
  {
   "cell_type": "code",
   "execution_count": null,
   "metadata": {},
   "outputs": [],
   "source": []
  },
  {
   "cell_type": "code",
   "execution_count": null,
   "metadata": {},
   "outputs": [],
   "source": []
  },
  {
   "cell_type": "code",
   "execution_count": null,
   "metadata": {},
   "outputs": [],
   "source": []
  },
  {
   "cell_type": "code",
   "execution_count": null,
   "metadata": {},
   "outputs": [],
   "source": []
  },
  {
   "cell_type": "code",
   "execution_count": null,
   "metadata": {},
   "outputs": [],
   "source": []
  },
  {
   "cell_type": "code",
   "execution_count": null,
   "metadata": {},
   "outputs": [],
   "source": []
  },
  {
   "cell_type": "code",
   "execution_count": null,
   "metadata": {},
   "outputs": [],
   "source": []
  },
  {
   "cell_type": "code",
   "execution_count": null,
   "metadata": {},
   "outputs": [],
   "source": []
  },
  {
   "cell_type": "code",
   "execution_count": null,
   "metadata": {},
   "outputs": [],
   "source": []
  },
  {
   "cell_type": "code",
   "execution_count": null,
   "metadata": {},
   "outputs": [],
   "source": []
  },
  {
   "cell_type": "code",
   "execution_count": 1,
   "metadata": {},
   "outputs": [],
   "source": [
    "# pip install gmsh-sdk gmsh-api\n",
    "import gmsh\n",
    "import gmsh_api\n"
   ]
  },
  {
   "cell_type": "code",
   "execution_count": 2,
   "metadata": {},
   "outputs": [],
   "source": [
    "gmsh.initialize()"
   ]
  },
  {
   "cell_type": "code",
   "execution_count": 3,
   "metadata": {},
   "outputs": [],
   "source": [
    "gmsh.open(\"mesh_simple_square.geo\")"
   ]
  },
  {
   "cell_type": "code",
   "execution_count": 4,
   "metadata": {},
   "outputs": [],
   "source": [
    "mesh = gmsh.model.mesh"
   ]
  },
  {
   "cell_type": "code",
   "execution_count": 6,
   "metadata": {},
   "outputs": [],
   "source": [
    "tags, coord, _ = mesh.getNodes()"
   ]
  },
  {
   "cell_type": "code",
   "execution_count": 7,
   "metadata": {},
   "outputs": [
    {
     "data": {
      "text/plain": [
       "array([   1,    2,    3, ..., 3719, 3720, 3721], dtype=uint64)"
      ]
     },
     "execution_count": 7,
     "metadata": {},
     "output_type": "execute_result"
    }
   ],
   "source": [
    "tags"
   ]
  },
  {
   "cell_type": "code",
   "execution_count": 8,
   "metadata": {},
   "outputs": [],
   "source": [
    "coord = coord.reshape((coord.size//3,3))"
   ]
  },
  {
   "cell_type": "code",
   "execution_count": 9,
   "metadata": {},
   "outputs": [
    {
     "data": {
      "text/plain": [
       "array([[-0.5       ,  0.5       ,  0.        ],\n",
       "       [-0.5       , -0.5       ,  0.        ],\n",
       "       [ 0.5       ,  0.5       ,  0.        ],\n",
       "       ...,\n",
       "       [ 0.45      , -0.48333333,  0.        ],\n",
       "       [ 0.46666667, -0.48333333,  0.        ],\n",
       "       [ 0.48333333, -0.48333333,  0.        ]])"
      ]
     },
     "execution_count": 9,
     "metadata": {},
     "output_type": "execute_result"
    }
   ],
   "source": [
    "coord"
   ]
  },
  {
   "cell_type": "code",
   "execution_count": 34,
   "metadata": {},
   "outputs": [
    {
     "data": {
      "text/plain": [
       "'fluid'"
      ]
     },
     "execution_count": 34,
     "metadata": {},
     "output_type": "execute_result"
    }
   ],
   "source": [
    "gmsh.model.getPhysicalName(*gmsh.model.getPhysicalGroups()[5])"
   ]
  },
  {
   "cell_type": "code",
   "execution_count": 35,
   "metadata": {},
   "outputs": [],
   "source": [
    "a = (3,\"hello\",3.8)"
   ]
  },
  {
   "cell_type": "code",
   "execution_count": 40,
   "metadata": {},
   "outputs": [
    {
     "name": "stdout",
     "output_type": "stream",
     "text": [
      "3 hello 3.8\n"
     ]
    }
   ],
   "source": [
    "print(*a)"
   ]
  },
  {
   "cell_type": "code",
   "execution_count": 41,
   "metadata": {},
   "outputs": [
    {
     "name": "stdout",
     "output_type": "stream",
     "text": [
      "3 hello 3.8\n"
     ]
    }
   ],
   "source": [
    "print( 3, \"hello\", 3.8 )"
   ]
  },
  {
   "cell_type": "code",
   "execution_count": 47,
   "metadata": {},
   "outputs": [
    {
     "name": "stdout",
     "output_type": "stream",
     "text": [
      "0 200\n"
     ]
    }
   ],
   "source": [
    "print(*gmsh.model.getPhysicalGroups()[0])"
   ]
  },
  {
   "cell_type": "code",
   "execution_count": 43,
   "metadata": {},
   "outputs": [
    {
     "ename": "TypeError",
     "evalue": "getPhysicalName() missing 2 required positional arguments: 'dim' and 'tag'",
     "output_type": "error",
     "traceback": [
      "\u001b[0;31m---------------------------------------------------------------------------\u001b[0m",
      "\u001b[0;31mTypeError\u001b[0m                                 Traceback (most recent call last)",
      "\u001b[0;32m<ipython-input-43-ae617eaac57f>\u001b[0m in \u001b[0;36m<module>\u001b[0;34m\u001b[0m\n\u001b[0;32m----> 1\u001b[0;31m \u001b[0mgmsh\u001b[0m\u001b[0;34m.\u001b[0m\u001b[0mmodel\u001b[0m\u001b[0;34m.\u001b[0m\u001b[0mgetPhysicalName\u001b[0m\u001b[0;34m(\u001b[0m\u001b[0;34m)\u001b[0m\u001b[0;34m\u001b[0m\u001b[0;34m\u001b[0m\u001b[0m\n\u001b[0m",
      "\u001b[0;31mTypeError\u001b[0m: getPhysicalName() missing 2 required positional arguments: 'dim' and 'tag'"
     ]
    }
   ],
   "source": [
    "gmsh.model.getPhysicalName()"
   ]
  },
  {
   "cell_type": "code",
   "execution_count": null,
   "metadata": {},
   "outputs": [],
   "source": []
  },
  {
   "cell_type": "code",
   "execution_count": null,
   "metadata": {},
   "outputs": [],
   "source": []
  },
  {
   "cell_type": "code",
   "execution_count": null,
   "metadata": {},
   "outputs": [],
   "source": []
  },
  {
   "cell_type": "code",
   "execution_count": null,
   "metadata": {},
   "outputs": [],
   "source": []
  },
  {
   "cell_type": "code",
   "execution_count": null,
   "metadata": {},
   "outputs": [],
   "source": []
  },
  {
   "cell_type": "code",
   "execution_count": null,
   "metadata": {},
   "outputs": [],
   "source": []
  },
  {
   "cell_type": "code",
   "execution_count": null,
   "metadata": {},
   "outputs": [],
   "source": [
    "import pyvista as pv\n"
   ]
  }
 ],
 "metadata": {
  "kernelspec": {
   "display_name": "Python 3",
   "language": "python",
   "name": "python3"
  },
  "language_info": {
   "codemirror_mode": {
    "name": "ipython",
    "version": 3
   },
   "file_extension": ".py",
   "mimetype": "text/x-python",
   "name": "python",
   "nbconvert_exporter": "python",
   "pygments_lexer": "ipython3",
   "version": "3.7.1"
  }
 },
 "nbformat": 4,
 "nbformat_minor": 2
}
