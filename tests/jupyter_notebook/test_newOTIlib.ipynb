{
 "cells": [
  {
   "cell_type": "markdown",
   "metadata": {},
   "source": [
    "# Test new OTILIB\n"
   ]
  },
  {
   "cell_type": "code",
   "execution_count": 1,
   "metadata": {
    "collapsed": true
   },
   "outputs": [],
   "source": [
    "# 1. SET GLOBAL PATH \n",
    "import sys\n",
    "# path2oti = '/Users/mauriaristi/Dropbox/EAFIT/PHD/Thesis-MAC/DUAL/otilibv0.8/'\n",
    "path2oti = '../'\n",
    "sys.path.append(path2oti) # Add path to OTI library."
   ]
  },
  {
   "cell_type": "code",
   "execution_count": 2,
   "metadata": {
    "collapsed": true
   },
   "outputs": [],
   "source": [
    "import otilib as oti\n",
    "np = oti.np\n",
    "e = oti.se"
   ]
  },
  {
   "cell_type": "code",
   "execution_count": 3,
   "metadata": {},
   "outputs": [
    {
     "name": "stdout",
     "output_type": "stream",
     "text": [
      "sotiarray( order = 2,\n",
      "shape = (3,3),\n",
      "(0,0) 1.5 \n",
      "(0,1) 2 \n",
      "(0,2) 3 \n",
      "(1,0) 4 \n",
      "(1,1) 5 \n",
      "(1,2) 6 \n",
      "(2,0) - 1 \n",
      "(2,1) - 2 \n",
      "(2,2) - 3 \n",
      " )\n"
     ]
    }
   ],
   "source": [
    "print(oti.sarray([[1.5,2  ,3  ],\n",
    "                [4  ,5  ,6  ],\n",
    "                [-1 ,-2 , -3]],order = 2)) # Create sparse array"
   ]
  },
  {
   "cell_type": "code",
   "execution_count": 4,
   "metadata": {
    "collapsed": true
   },
   "outputs": [],
   "source": [
    "a = oti.sarray([[1.5,2  ,3  ],\n",
    "            [4  ,5  ,6  ],\n",
    "            [-1 ,-2 , -3]],order = 2)\n",
    "# a = oti.sarray([[1.5,2  ],\n",
    "#                 [  4,5  ]],order = 2)"
   ]
  },
  {
   "cell_type": "code",
   "execution_count": 11,
   "metadata": {},
   "outputs": [
    {
     "data": {
      "text/plain": [
       "sotiarray( order = 2,\n",
       "shape = (3,3),\n",
       "(0,0) 1 \n",
       "(0,1) 1 \n",
       "(0,2) 1 \n",
       "(1,0) 1 \n",
       "(1,1) 1 \n",
       "(1,2) 1 \n",
       "(2,0) 1 \n",
       "(2,1) 1 \n",
       "(2,2) 1 \n",
       " )"
      ]
     },
     "execution_count": 11,
     "metadata": {},
     "output_type": "execute_result"
    }
   ],
   "source": [
    "a/a"
   ]
  },
  {
   "cell_type": "code",
   "execution_count": 5,
   "metadata": {},
   "outputs": [
    {
     "data": {
      "text/plain": [
       "sotiarray( order = 2,\n",
       "shape = (3,3),\n",
       "(0,0) - 1.5 \n",
       "(0,1) - 4 \n",
       "(0,2) 1 \n",
       "(1,0) - 2 \n",
       "(1,1) - 5 \n",
       "(1,2) 2 \n",
       "(2,0) - 3 \n",
       "(2,1) - 6 \n",
       "(2,2) 3 \n",
       " )"
      ]
     },
     "execution_count": 5,
     "metadata": {},
     "output_type": "execute_result"
    }
   ],
   "source": [
    "-a.T # get the transpose of the matrix"
   ]
  },
  {
   "cell_type": "code",
   "execution_count": 19,
   "metadata": {},
   "outputs": [
    {
     "data": {
      "text/plain": [
       "sotinum([0,1,2], [-1.5,-1.0,0.0], 2)"
      ]
     },
     "execution_count": 19,
     "metadata": {},
     "output_type": "execute_result"
    }
   ],
   "source": [
    "oti.det(a+e(1,order = 2))\n"
   ]
  },
  {
   "cell_type": "code",
   "execution_count": null,
   "metadata": {
    "collapsed": true
   },
   "outputs": [],
   "source": []
  },
  {
   "cell_type": "code",
   "execution_count": 17,
   "metadata": {},
   "outputs": [
    {
     "name": "stdout",
     "output_type": "stream",
     "text": [
      "22.7 µs ± 657 ns per loop (mean ± std. dev. of 7 runs, 10000 loops each)\n"
     ]
    }
   ],
   "source": [
    "%timeit oti.inv(a+e(1,order = 2))"
   ]
  },
  {
   "cell_type": "code",
   "execution_count": 5,
   "metadata": {},
   "outputs": [
    {
     "name": "stdout",
     "output_type": "stream",
     "text": [
      "2.47 µs ± 63.3 ns per loop (mean ± std. dev. of 7 runs, 100000 loops each)\n"
     ]
    }
   ],
   "source": [
    "b = 0.5*e(1,order = 2)\n",
    "\n",
    "%timeit a*b\n"
   ]
  },
  {
   "cell_type": "code",
   "execution_count": 6,
   "metadata": {},
   "outputs": [
    {
     "name": "stdout",
     "output_type": "stream",
     "text": [
      "12.2 µs ± 156 ns per loop (mean ± std. dev. of 7 runs, 100000 loops each)\n"
     ]
    }
   ],
   "source": [
    "\n",
    "%timeit oti.dot(a,a)"
   ]
  },
  {
   "cell_type": "code",
   "execution_count": 13,
   "metadata": {
    "collapsed": true
   },
   "outputs": [],
   "source": [
    "a_np = np.array([[1.5,2  ,3  ],\n",
    "            [4  ,5  ,6  ],\n",
    "            [-1 ,-2 , -3]])\n",
    "\n",
    "# a_np = np.array([[ 1.5, 2  ],\n",
    "#                  [ 4  , 5  ]])\n",
    "# %timeit np.dot(a_np,a_np)"
   ]
  },
  {
   "cell_type": "code",
   "execution_count": 14,
   "metadata": {},
   "outputs": [
    {
     "data": {
      "text/plain": [
       "array([[ 2.  ,  1.5 ,  1.  ],\n",
       "       [ 0.75,  0.6 ,  0.5 ],\n",
       "       [-3.  , -1.5 , -1.  ]])"
      ]
     },
     "execution_count": 14,
     "metadata": {},
     "output_type": "execute_result"
    }
   ],
   "source": [
    "3.0/a_np"
   ]
  },
  {
   "cell_type": "code",
   "execution_count": 16,
   "metadata": {},
   "outputs": [
    {
     "name": "stdout",
     "output_type": "stream",
     "text": [
      "8.7 µs ± 102 ns per loop (mean ± std. dev. of 7 runs, 100000 loops each)\n"
     ]
    }
   ],
   "source": [
    "%timeit np.linalg.inv(a_np)"
   ]
  },
  {
   "cell_type": "code",
   "execution_count": 11,
   "metadata": {},
   "outputs": [
    {
     "name": "stdout",
     "output_type": "stream",
     "text": [
      "217 ns ± 4.1 ns per loop (mean ± std. dev. of 7 runs, 1000000 loops each)\n"
     ]
    }
   ],
   "source": [
    "%timeit a_np.T"
   ]
  },
  {
   "cell_type": "code",
   "execution_count": 10,
   "metadata": {},
   "outputs": [
    {
     "name": "stdout",
     "output_type": "stream",
     "text": [
      "70.5 ns ± 0.776 ns per loop (mean ± std. dev. of 7 runs, 10000000 loops each)\n"
     ]
    }
   ],
   "source": [
    "%timeit type == type"
   ]
  },
  {
   "cell_type": "code",
   "execution_count": 3,
   "metadata": {
    "collapsed": true
   },
   "outputs": [],
   "source": [
    "b = oti.spzeros(shape=(2,3),order=1)"
   ]
  },
  {
   "cell_type": "code",
   "execution_count": 4,
   "metadata": {
    "scrolled": false
   },
   "outputs": [
    {
     "name": "stdout",
     "output_type": "stream",
     "text": [
      "sotiarray( order = 1,\n",
      "shape = (2,3),\n",
      "(0,0) 0.0\n",
      "(0,1) 0.0\n",
      "(0,2) 0.0\n",
      "(1,0) 0.0\n",
      "(1,1) 0.0\n",
      "(1,2) 0.0\n",
      " )\n"
     ]
    }
   ],
   "source": [
    "print(b)"
   ]
  },
  {
   "cell_type": "code",
   "execution_count": 5,
   "metadata": {
    "collapsed": true
   },
   "outputs": [],
   "source": [
    "b[1,2] = 5.5"
   ]
  },
  {
   "cell_type": "code",
   "execution_count": 6,
   "metadata": {},
   "outputs": [
    {
     "data": {
      "text/plain": [
       "sotiarray( order = 1,\n",
       "shape = (2,3),\n",
       "(0,0) 0.0\n",
       "(0,1) 0.0\n",
       "(0,2) 0.0\n",
       "(1,0) 0.0\n",
       "(1,1) 0.0\n",
       "(1,2) 5.5 \n",
       " )"
      ]
     },
     "execution_count": 6,
     "metadata": {},
     "output_type": "execute_result"
    }
   ],
   "source": [
    "b"
   ]
  },
  {
   "cell_type": "code",
   "execution_count": 7,
   "metadata": {
    "collapsed": true
   },
   "outputs": [],
   "source": [
    "b[0,1] = 4.558*e(2)"
   ]
  },
  {
   "cell_type": "code",
   "execution_count": 8,
   "metadata": {},
   "outputs": [
    {
     "data": {
      "text/plain": [
       "sotiarray( order = 1,\n",
       "shape = (2,3),\n",
       "(0,0) 0.0\n",
       "(0,1) 4.558 * e([2]) \n",
       "(0,2) 0.0\n",
       "(1,0) 0.0\n",
       "(1,1) 0.0\n",
       "(1,2) 5.5 \n",
       " )"
      ]
     },
     "execution_count": 8,
     "metadata": {},
     "output_type": "execute_result"
    }
   ],
   "source": [
    "b"
   ]
  },
  {
   "cell_type": "code",
   "execution_count": 11,
   "metadata": {},
   "outputs": [
    {
     "name": "stdout",
     "output_type": "stream",
     "text": [
      "0 1\n"
     ]
    },
    {
     "data": {
      "text/plain": [
       "sotinum([2], [4.558], 1)"
      ]
     },
     "execution_count": 11,
     "metadata": {},
     "output_type": "execute_result"
    }
   ],
   "source": [
    "b[0,1]"
   ]
  },
  {
   "cell_type": "code",
   "execution_count": null,
   "metadata": {
    "collapsed": true
   },
   "outputs": [],
   "source": []
  },
  {
   "cell_type": "code",
   "execution_count": null,
   "metadata": {
    "collapsed": true
   },
   "outputs": [],
   "source": []
  },
  {
   "cell_type": "code",
   "execution_count": null,
   "metadata": {
    "collapsed": true
   },
   "outputs": [],
   "source": []
  },
  {
   "cell_type": "code",
   "execution_count": null,
   "metadata": {
    "collapsed": true
   },
   "outputs": [],
   "source": []
  },
  {
   "cell_type": "code",
   "execution_count": 11,
   "metadata": {
    "collapsed": true
   },
   "outputs": [],
   "source": [
    "a = oti.np.array([[1,2,3],[4,5,6]])"
   ]
  },
  {
   "cell_type": "code",
   "execution_count": 13,
   "metadata": {},
   "outputs": [
    {
     "data": {
      "text/plain": [
       "2"
      ]
     },
     "execution_count": 13,
     "metadata": {},
     "output_type": "execute_result"
    }
   ],
   "source": [
    "a.ndim"
   ]
  },
  {
   "cell_type": "code",
   "execution_count": null,
   "metadata": {
    "collapsed": true
   },
   "outputs": [],
   "source": []
  },
  {
   "cell_type": "code",
   "execution_count": null,
   "metadata": {
    "collapsed": true
   },
   "outputs": [],
   "source": []
  },
  {
   "cell_type": "code",
   "execution_count": null,
   "metadata": {
    "collapsed": true
   },
   "outputs": [],
   "source": []
  },
  {
   "cell_type": "code",
   "execution_count": null,
   "metadata": {
    "collapsed": true
   },
   "outputs": [],
   "source": []
  },
  {
   "cell_type": "code",
   "execution_count": null,
   "metadata": {
    "collapsed": true
   },
   "outputs": [],
   "source": []
  },
  {
   "cell_type": "code",
   "execution_count": 4,
   "metadata": {},
   "outputs": [
    {
     "name": "stdout",
     "output_type": "stream",
     "text": [
      "sotinum([0,10,210,5050], [0.4,1.0,1.0,1.0], 2)\n",
      "0.4 + 1 * e([4]) + 1 * e([20]) + 1 * e([100]) \n",
      "0.16 + 0.8 * e([4]) + 1 * e([[4,2]]) + 0.8 * e([20]) + 2 * e([4,20]) + 1 * e([[20,2]]) + 0.8 * e([100]) + 2 * e([4,100]) + 2 * e([20,100]) + 1 * e([[100,2]]) \n"
     ]
    }
   ],
   "source": [
    "a_s = 0.4 + 1.0 * e([100],order = 2) + 1.0 * e([4],order=2)  + 1.0*e([20], order = 2)\n",
    "print(repr(a_s))\n",
    "print(a_s)\n",
    "print(a_s*a_s)\n",
    "# %timeit a_s*a_s"
   ]
  },
  {
   "cell_type": "code",
   "execution_count": 11,
   "metadata": {},
   "outputs": [
    {
     "name": "stdout",
     "output_type": "stream",
     "text": [
      "2.5 - 6.25 * e([4]) + 15.625 * e([[4,2]]) - 6.25 * e([20]) + 31.25 * e([4,20]) + 15.625 * e([[20,2]]) - 6.25 * e([100]) + 31.25 * e([4,100]) + 31.25 * e([20,100]) + 15.625 * e([[100,2]]) \n"
     ]
    }
   ],
   "source": [
    "print(1/a_s)"
   ]
  },
  {
   "cell_type": "code",
   "execution_count": 5,
   "metadata": {
    "collapsed": true
   },
   "outputs": [],
   "source": [
    "b = a_s*0.0"
   ]
  },
  {
   "cell_type": "code",
   "execution_count": 6,
   "metadata": {},
   "outputs": [
    {
     "data": {
      "text/plain": [
       "sotinum([], [], 2)"
      ]
     },
     "execution_count": 6,
     "metadata": {},
     "output_type": "execute_result"
    }
   ],
   "source": [
    "-3.5*b"
   ]
  },
  {
   "cell_type": "code",
   "execution_count": 8,
   "metadata": {},
   "outputs": [
    {
     "name": "stdout",
     "output_type": "stream",
     "text": [
      "1 \n"
     ]
    }
   ],
   "source": [
    "print(oti.scos(b))"
   ]
  },
  {
   "cell_type": "code",
   "execution_count": 5,
   "metadata": {},
   "outputs": [
    {
     "data": {
      "text/plain": [
       "sotinum([0,10,14,210,214,230,5050,5054,5070,5150], [1.6069380442589999e-40,4.017345110647497e-38,4.9714645744262774e-36,4.017345110647497e-38,9.942929148852555e-36,4.9714645744262774e-36,4.017345110647497e-38,9.942929148852555e-36,9.942929148852555e-36,4.9714645744262774e-36], 2)"
      ]
     },
     "execution_count": 5,
     "metadata": {},
     "output_type": "execute_result"
    }
   ],
   "source": [
    "a_s.power(100)"
   ]
  },
  {
   "cell_type": "code",
   "execution_count": 6,
   "metadata": {},
   "outputs": [
    {
     "name": "stdout",
     "output_type": "stream",
     "text": [
      "2.29 µs ± 76.3 ns per loop (mean ± std. dev. of 7 runs, 100000 loops each)\n"
     ]
    }
   ],
   "source": [
    "%timeit a_s**100"
   ]
  },
  {
   "cell_type": "code",
   "execution_count": 7,
   "metadata": {},
   "outputs": [
    {
     "data": {
      "text/plain": [
       "sotinum([0,10,14,210,214,230,5050,5054,5070,5150], [1.0,0.0,8.881784197001252e-16,0.0,1.7763568394002505e-15,8.881784197001252e-16,0.0,1.7763568394002505e-15,1.7763568394002505e-15,8.881784197001252e-16], 2)"
      ]
     },
     "execution_count": 7,
     "metadata": {},
     "output_type": "execute_result"
    }
   ],
   "source": [
    "a_s*a_s**(-1)"
   ]
  },
  {
   "cell_type": "code",
   "execution_count": 8,
   "metadata": {},
   "outputs": [
    {
     "name": "stdout",
     "output_type": "stream",
     "text": [
      "0.0256 + 0.256 * e([4]) + 0.96 * e([[4,2]]) + 0.256 * e([20]) + 1.92 * e([4,20]) + 0.96 * e([[20,2]]) + 0.256 * e([100]) + 1.92 * e([4,100]) + 1.92 * e([20,100]) + 0.96 * e([[100,2]]) \n"
     ]
    }
   ],
   "source": [
    "print(a_s**4)"
   ]
  },
  {
   "cell_type": "code",
   "execution_count": 9,
   "metadata": {},
   "outputs": [
    {
     "name": "stdout",
     "output_type": "stream",
     "text": [
      "2.32 µs ± 55.1 ns per loop (mean ± std. dev. of 7 runs, 100000 loops each)\n"
     ]
    }
   ],
   "source": [
    "%timeit a_s**10"
   ]
  },
  {
   "cell_type": "code",
   "execution_count": 11,
   "metadata": {},
   "outputs": [
    {
     "name": "stdout",
     "output_type": "stream",
     "text": [
      "0.0256 + 0.256 * e([4]) + 0.96 * e([[4,2]]) + 0.256 * e([100]) + 1.92 * e([4,100]) + 0.96 * e([[100,2]]) \n"
     ]
    }
   ],
   "source": [
    "print(a_s*a_s*a_s*a_s)"
   ]
  },
  {
   "cell_type": "code",
   "execution_count": 10,
   "metadata": {},
   "outputs": [
    {
     "data": {
      "text/plain": [
       "sotinum([0,10,14,210,214,230,5050,5054,5070,5150], [0.3894183423086505,0.9210609940028851,-0.19470917115432526,0.9210609940028851,-0.3894183423086505,-0.19470917115432526,0.9210609940028851,-0.3894183423086505,-0.3894183423086505,-0.19470917115432526], 2)"
      ]
     },
     "execution_count": 10,
     "metadata": {},
     "output_type": "execute_result"
    }
   ],
   "source": [
    "oti.ssin(a_s)"
   ]
  },
  {
   "cell_type": "code",
   "execution_count": 12,
   "metadata": {},
   "outputs": [
    {
     "name": "stdout",
     "output_type": "stream",
     "text": [
      "6.64 µs ± 226 ns per loop (mean ± std. dev. of 7 runs, 100000 loops each)\n"
     ]
    }
   ],
   "source": [
    "%timeit a_s*a_s*a_s*a_s*a_s*a_s*a_s*a_s*a_s*a_s"
   ]
  },
  {
   "cell_type": "code",
   "execution_count": 6,
   "metadata": {
    "collapsed": true
   },
   "outputs": [],
   "source": [
    "a = oti.sotinum([0,10,5050],[0.4,0.6,0.8],2)"
   ]
  },
  {
   "cell_type": "code",
   "execution_count": 7,
   "metadata": {
    "collapsed": true
   },
   "outputs": [],
   "source": [
    "b = oti.sotinum([1,8],[0.3,0.4],2)"
   ]
  },
  {
   "cell_type": "code",
   "execution_count": 8,
   "metadata": {},
   "outputs": [
    {
     "name": "stdout",
     "output_type": "stream",
     "text": [
      "0.4 + 0.6 * e([4]) + 0.8 * e([100]) \n"
     ]
    }
   ],
   "source": [
    "print(a)"
   ]
  },
  {
   "cell_type": "code",
   "execution_count": 20,
   "metadata": {},
   "outputs": [
    {
     "name": "stdout",
     "output_type": "stream",
     "text": [
      "- 1 * e([1]) \n"
     ]
    }
   ],
   "source": [
    "print(-e(1))"
   ]
  },
  {
   "cell_type": "code",
   "execution_count": 10,
   "metadata": {},
   "outputs": [
    {
     "name": "stdout",
     "output_type": "stream",
     "text": [
      "0.3 * e([1]) + 0.4 * e([2,3]) \n"
     ]
    }
   ],
   "source": [
    "print(b)"
   ]
  },
  {
   "cell_type": "code",
   "execution_count": 11,
   "metadata": {},
   "outputs": [
    {
     "name": "stdout",
     "output_type": "stream",
     "text": [
      "678 ns ± 17.8 ns per loop (mean ± std. dev. of 7 runs, 1000000 loops each)\n"
     ]
    }
   ],
   "source": [
    "%timeit a*a"
   ]
  },
  {
   "cell_type": "code",
   "execution_count": 23,
   "metadata": {},
   "outputs": [
    {
     "name": "stdout",
     "output_type": "stream",
     "text": [
      "0.16 + 0.48 * e([4]) + 0.36 * e([[4,2]]) + 0.64 * e([100]) + 0.96 * e([4,100]) + 0.64 * e([[100,2]]) \n"
     ]
    }
   ],
   "source": [
    "\n",
    "print(a*a)"
   ]
  },
  {
   "cell_type": "code",
   "execution_count": 8,
   "metadata": {},
   "outputs": [
    {
     "data": {
      "text/plain": [
       "sotinum([0,6], [1.0,3.5], 2)"
      ]
     },
     "execution_count": 8,
     "metadata": {},
     "output_type": "execute_result"
    }
   ],
   "source": [
    "\n",
    "x = 1.0+3.5*e(3,order=2)\n",
    "x"
   ]
  },
  {
   "cell_type": "code",
   "execution_count": null,
   "metadata": {
    "collapsed": true
   },
   "outputs": [],
   "source": [
    "print(x**2)"
   ]
  },
  {
   "cell_type": "code",
   "execution_count": null,
   "metadata": {
    "collapsed": true
   },
   "outputs": [],
   "source": []
  },
  {
   "cell_type": "code",
   "execution_count": null,
   "metadata": {
    "collapsed": true
   },
   "outputs": [],
   "source": []
  },
  {
   "cell_type": "code",
   "execution_count": null,
   "metadata": {
    "collapsed": true
   },
   "outputs": [],
   "source": []
  },
  {
   "cell_type": "code",
   "execution_count": null,
   "metadata": {
    "collapsed": true
   },
   "outputs": [],
   "source": []
  },
  {
   "cell_type": "code",
   "execution_count": null,
   "metadata": {
    "collapsed": true
   },
   "outputs": [],
   "source": []
  },
  {
   "cell_type": "code",
   "execution_count": null,
   "metadata": {
    "collapsed": true
   },
   "outputs": [],
   "source": []
  },
  {
   "cell_type": "code",
   "execution_count": null,
   "metadata": {
    "collapsed": true
   },
   "outputs": [],
   "source": []
  },
  {
   "cell_type": "code",
   "execution_count": null,
   "metadata": {
    "collapsed": true
   },
   "outputs": [],
   "source": []
  },
  {
   "cell_type": "code",
   "execution_count": null,
   "metadata": {
    "collapsed": true
   },
   "outputs": [],
   "source": []
  },
  {
   "cell_type": "code",
   "execution_count": null,
   "metadata": {
    "collapsed": true
   },
   "outputs": [],
   "source": []
  },
  {
   "cell_type": "code",
   "execution_count": null,
   "metadata": {
    "collapsed": true
   },
   "outputs": [],
   "source": []
  },
  {
   "cell_type": "code",
   "execution_count": null,
   "metadata": {
    "collapsed": true
   },
   "outputs": [],
   "source": []
  },
  {
   "cell_type": "code",
   "execution_count": null,
   "metadata": {
    "collapsed": true
   },
   "outputs": [],
   "source": []
  },
  {
   "cell_type": "code",
   "execution_count": null,
   "metadata": {
    "collapsed": true
   },
   "outputs": [],
   "source": []
  },
  {
   "cell_type": "code",
   "execution_count": null,
   "metadata": {
    "collapsed": true
   },
   "outputs": [],
   "source": []
  },
  {
   "cell_type": "code",
   "execution_count": null,
   "metadata": {
    "collapsed": true
   },
   "outputs": [],
   "source": []
  },
  {
   "cell_type": "code",
   "execution_count": null,
   "metadata": {
    "collapsed": true
   },
   "outputs": [],
   "source": []
  },
  {
   "cell_type": "code",
   "execution_count": null,
   "metadata": {
    "collapsed": true
   },
   "outputs": [],
   "source": []
  },
  {
   "cell_type": "code",
   "execution_count": null,
   "metadata": {
    "collapsed": true
   },
   "outputs": [],
   "source": []
  },
  {
   "cell_type": "code",
   "execution_count": 3,
   "metadata": {
    "collapsed": true
   },
   "outputs": [],
   "source": [
    "ed = oti.e\n",
    "np = oti.np"
   ]
  },
  {
   "cell_type": "code",
   "execution_count": 4,
   "metadata": {
    "collapsed": true
   },
   "outputs": [],
   "source": [
    "x0 = 1\n",
    "y0 = 2\n",
    "z0 = 3\n",
    "\n",
    "x = x0+ed(1,order = 2,m=3)\n",
    "y = y0+ed(2,order = 2,m=3)\n",
    "z = z0+ed(3,order = 2,m=3)\n",
    "g = oti.sin(x*y*z)\n",
    "gp = g-g[0]"
   ]
  },
  {
   "cell_type": "code",
   "execution_count": 5,
   "metadata": {
    "collapsed": true
   },
   "outputs": [],
   "source": [
    "f = [g[0]**5,5*g[0]**4,20*g[0]**3/2]"
   ]
  },
  {
   "cell_type": "code",
   "execution_count": 6,
   "metadata": {},
   "outputs": [
    {
     "data": {
      "text/plain": [
       "[-0.0017031482639837496, 0.030476982754392843, -0.21814811956275376]"
      ]
     },
     "execution_count": 6,
     "metadata": {},
     "output_type": "execute_result"
    }
   ],
   "source": [
    "f"
   ]
  },
  {
   "cell_type": "code",
   "execution_count": 7,
   "metadata": {
    "collapsed": true
   },
   "outputs": [],
   "source": [
    "xp = x-1"
   ]
  },
  {
   "cell_type": "code",
   "execution_count": 8,
   "metadata": {},
   "outputs": [
    {
     "name": "stdout",
     "output_type": "stream",
     "text": [
      "- 0.00170315 + 0.175579 * e([1]) - 7.08692 * e([[1,2]]) + 0.0877893 * e([2]) - 6.99913 * e([1,2]) - 1.77173 * e([[2,2]]) + 0.0585262 * e([3]) - 4.66608 * e([1,3]) - 2.33304 * e([2,3]) - 0.787435 * e([[3,2]]) \n"
     ]
    }
   ],
   "source": [
    "f_eval = f[0] + f[1]*gp + f[2]*gp**2\n",
    "print(f_eval )"
   ]
  },
  {
   "cell_type": "code",
   "execution_count": null,
   "metadata": {
    "collapsed": true
   },
   "outputs": [],
   "source": []
  },
  {
   "cell_type": "code",
   "execution_count": 9,
   "metadata": {},
   "outputs": [
    {
     "name": "stdout",
     "output_type": "stream",
     "text": [
      "- 0.00170315 + 0.175579 * e([1]) - 7.08692 * e([[1,2]]) + 0.0877893 * e([2]) - 6.99913 * e([1,2]) - 1.77173 * e([[2,2]]) + 0.0585262 * e([3]) - 4.66608 * e([1,3]) - 2.33304 * e([2,3]) - 0.787435 * e([[3,2]]) \n"
     ]
    }
   ],
   "source": [
    "print(g**5)"
   ]
  },
  {
   "cell_type": "code",
   "execution_count": 10,
   "metadata": {},
   "outputs": [
    {
     "name": "stdout",
     "output_type": "stream",
     "text": [
      "0.4 + 0 * e([1]) + 0 * e([[1,2]]) + 0 * e([2]) + 0 * e([1,2]) + 0 * e([[2,2]]) + 0 * e([3]) + 0 * e([1,3]) + 0 * e([2,3]) + 0 * e([[3,2]]) + 0.6 * e([4]) + 0 * e([1,4]) + 0 * e([2,4]) + 0 * e([3,4]) + 0 * e([[4,2]]) + 0 * e([5]) + 0 * e([1,5]) + 0 * e([2,5]) + 0 * e([3,5]) + 0 * e([4,5]) + 0 * e([[5,2]]) + 0 * e([6]) + 0 * e([1,6]) + 0 * e([2,6]) + 0 * e([3,6]) + 0 * e([4,6]) + 0 * e([5,6]) + 0 * e([[6,2]]) + 0 * e([7]) + 0 * e([1,7]) + 0 * e([2,7]) + 0 * e([3,7]) + 0 * e([4,7]) + 0 * e([5,7]) + 0 * e([6,7]) + 0 * e([[7,2]]) + 0 * e([8]) + 0 * e([1,8]) + 0 * e([2,8]) + 0 * e([3,8]) + 0 * e([4,8]) + 0 * e([5,8]) + 0 * e([6,8]) + 0 * e([7,8]) + 0 * e([[8,2]]) + 0 * e([9]) + 0 * e([1,9]) + 0 * e([2,9]) + 0 * e([3,9]) + 0 * e([4,9]) + 0 * e([5,9]) + 0 * e([6,9]) + 0 * e([7,9]) + 0 * e([8,9]) + 0 * e([[9,2]]) + 0 * e([10]) + 0 * e([1,10]) + 0 * e([2,10]) + 0 * e([3,10]) + 0 * e([4,10]) + 0 * e([5,10]) + 0 * e([6,10]) + 0 * e([7,10]) + 0 * e([8,10]) + 0 * e([9,10]) + 0 * e([[10,2]]) + 0 * e([11]) + 0 * e([1,11]) + 0 * e([2,11]) + 0 * e([3,11]) + 0 * e([4,11]) + 0 * e([5,11]) + 0 * e([6,11]) + 0 * e([7,11]) + 0 * e([8,11]) + 0 * e([9,11]) + 0 * e([10,11]) + 0 * e([[11,2]]) + 0 * e([12]) + 0 * e([1,12]) + 0 * e([2,12]) + 0 * e([3,12]) + 0 * e([4,12]) + 0 * e([5,12]) + 0 * e([6,12]) + 0 * e([7,12]) + 0 * e([8,12]) + 0 * e([9,12]) + 0 * e([10,12]) + 0 * e([11,12]) + 0 * e([[12,2]]) + 0 * e([13]) + 0 * e([1,13]) + 0 * e([2,13]) + 0 * e([3,13]) + 0 * e([4,13]) + 0 * e([5,13]) + 0 * e([6,13]) + 0 * e([7,13]) + 0 * e([8,13]) + 0 * e([9,13]) + 0 * e([10,13]) + 0 * e([11,13]) + 0 * e([12,13]) + 0 * e([[13,2]]) + 0 * e([14]) + 0 * e([1,14]) + 0 * e([2,14]) + 0 * e([3,14]) + 0 * e([4,14]) + 0 * e([5,14]) + 0 * e([6,14]) + 0 * e([7,14]) + 0 * e([8,14]) + 0 * e([9,14]) + 0 * e([10,14]) + 0 * e([11,14]) + 0 * e([12,14]) + 0 * e([13,14]) + 0 * e([[14,2]]) + 0 * e([15]) + 0 * e([1,15]) + 0 * e([2,15]) + 0 * e([3,15]) + 0 * e([4,15]) + 0 * e([5,15]) + 0 * e([6,15]) + 0 * e([7,15]) + 0 * e([8,15]) + 0 * e([9,15]) + 0 * e([10,15]) + 0 * e([11,15]) + 0 * e([12,15]) + 0 * e([13,15]) + 0 * e([14,15]) + 0 * e([[15,2]]) + 0 * e([16]) + 0 * e([1,16]) + 0 * e([2,16]) + 0 * e([3,16]) + 0 * e([4,16]) + 0 * e([5,16]) + 0 * e([6,16]) + 0 * e([7,16]) + 0 * e([8,16]) + 0 * e([9,16]) + 0 * e([10,16]) + 0 * e([11,16]) + 0 * e([12,16]) + 0 * e([13,16]) + 0 * e([14,16]) + 0 * e([15,16]) + 0 * e([[16,2]]) + 0 * e([17]) + 0 * e([1,17]) + 0 * e([2,17]) + 0 * e([3,17]) + 0 * e([4,17]) + 0 * e([5,17]) + 0 * e([6,17]) + 0 * e([7,17]) + 0 * e([8,17]) + 0 * e([9,17]) + 0 * e([10,17]) + 0 * e([11,17]) + 0 * e([12,17]) + 0 * e([13,17]) + 0 * e([14,17]) + 0 * e([15,17]) + 0 * e([16,17]) + 0 * e([[17,2]]) + 0 * e([18]) + 0 * e([1,18]) + 0 * e([2,18]) + 0 * e([3,18]) + 0 * e([4,18]) + 0 * e([5,18]) + 0 * e([6,18]) + 0 * e([7,18]) + 0 * e([8,18]) + 0 * e([9,18]) + 0 * e([10,18]) + 0 * e([11,18]) + 0 * e([12,18]) + 0 * e([13,18]) + 0 * e([14,18]) + 0 * e([15,18]) + 0 * e([16,18]) + 0 * e([17,18]) + 0 * e([[18,2]]) + 0 * e([19]) + 0 * e([1,19]) + 0 * e([2,19]) + 0 * e([3,19]) + 0 * e([4,19]) + 0 * e([5,19]) + 0 * e([6,19]) + 0 * e([7,19]) + 0 * e([8,19]) + 0 * e([9,19]) + 0 * e([10,19]) + 0 * e([11,19]) + 0 * e([12,19]) + 0 * e([13,19]) + 0 * e([14,19]) + 0 * e([15,19]) + 0 * e([16,19]) + 0 * e([17,19]) + 0 * e([18,19]) + 0 * e([[19,2]]) + 0 * e([20]) + 0 * e([1,20]) + 0 * e([2,20]) + 0 * e([3,20]) + 0 * e([4,20]) + 0 * e([5,20]) + 0 * e([6,20]) + 0 * e([7,20]) + 0 * e([8,20]) + 0 * e([9,20]) + 0 * e([10,20]) + 0 * e([11,20]) + 0 * e([12,20]) + 0 * e([13,20]) + 0 * e([14,20]) + 0 * e([15,20]) + 0 * e([16,20]) + 0 * e([17,20]) + 0 * e([18,20]) + 0 * e([19,20]) + 0 * e([[20,2]]) + 0 * e([21]) + 0 * e([1,21]) + 0 * e([2,21]) + 0 * e([3,21]) + 0 * e([4,21]) + 0 * e([5,21]) + 0 * e([6,21]) + 0 * e([7,21]) + 0 * e([8,21]) + 0 * e([9,21]) + 0 * e([10,21]) + 0 * e([11,21]) + 0 * e([12,21]) + 0 * e([13,21]) + 0 * e([14,21]) + 0 * e([15,21]) + 0 * e([16,21]) + 0 * e([17,21]) + 0 * e([18,21]) + 0 * e([19,21]) + 0 * e([20,21]) + 0 * e([[21,2]]) + 0 * e([22]) + 0 * e([1,22]) + 0 * e([2,22]) + 0 * e([3,22]) + 0 * e([4,22]) + 0 * e([5,22]) + 0 * e([6,22]) + 0 * e([7,22]) + 0 * e([8,22]) + 0 * e([9,22]) + 0 * e([10,22]) + 0 * e([11,22]) + 0 * e([12,22]) + 0 * e([13,22]) + 0 * e([14,22]) + 0 * e([15,22]) + 0 * e([16,22]) + 0 * e([17,22]) + 0 * e([18,22]) + 0 * e([19,22]) + 0 * e([20,22]) + 0 * e([21,22]) + 0 * e([[22,2]]) + 0 * e([23]) + 0 * e([1,23]) + 0 * e([2,23]) + 0 * e([3,23]) + 0 * e([4,23]) + 0 * e([5,23]) + 0 * e([6,23]) + 0 * e([7,23]) + 0 * e([8,23]) + 0 * e([9,23]) + 0 * e([10,23]) + 0 * e([11,23]) + 0 * e([12,23]) + 0 * e([13,23]) + 0 * e([14,23]) + 0 * e([15,23]) + 0 * e([16,23]) + 0 * e([17,23]) + 0 * e([18,23]) + 0 * e([19,23]) + 0 * e([20,23]) + 0 * e([21,23]) + 0 * e([22,23]) + 0 * e([[23,2]]) + 0 * e([24]) + 0 * e([1,24]) + 0 * e([2,24]) + 0 * e([3,24]) + 0 * e([4,24]) + 0 * e([5,24]) + 0 * e([6,24]) + 0 * e([7,24]) + 0 * e([8,24]) + 0 * e([9,24]) + 0 * e([10,24]) + 0 * e([11,24]) + 0 * e([12,24]) + 0 * e([13,24]) + 0 * e([14,24]) + 0 * e([15,24]) + 0 * e([16,24]) + 0 * e([17,24]) + 0 * e([18,24]) + 0 * e([19,24]) + 0 * e([20,24]) + 0 * e([21,24]) + 0 * e([22,24]) + 0 * e([23,24]) + 0 * e([[24,2]]) + 0 * e([25]) + 0 * e([1,25]) + 0 * e([2,25]) + 0 * e([3,25]) + 0 * e([4,25]) + 0 * e([5,25]) + 0 * e([6,25]) + 0 * e([7,25]) + 0 * e([8,25]) + 0 * e([9,25]) + 0 * e([10,25]) + 0 * e([11,25]) + 0 * e([12,25]) + 0 * e([13,25]) + 0 * e([14,25]) + 0 * e([15,25]) + 0 * e([16,25]) + 0 * e([17,25]) + 0 * e([18,25]) + 0 * e([19,25]) + 0 * e([20,25]) + 0 * e([21,25]) + 0 * e([22,25]) + 0 * e([23,25]) + 0 * e([24,25]) + 0 * e([[25,2]]) + 0 * e([26]) + 0 * e([1,26]) + 0 * e([2,26]) + 0 * e([3,26]) + 0 * e([4,26]) + 0 * e([5,26]) + 0 * e([6,26]) + 0 * e([7,26]) + 0 * e([8,26]) + 0 * e([9,26]) + 0 * e([10,26]) + 0 * e([11,26]) + 0 * e([12,26]) + 0 * e([13,26]) + 0 * e([14,26]) + 0 * e([15,26]) + 0 * e([16,26]) + 0 * e([17,26]) + 0 * e([18,26]) + 0 * e([19,26]) + 0 * e([20,26]) + 0 * e([21,26]) + 0 * e([22,26]) + 0 * e([23,26]) + 0 * e([24,26]) + 0 * e([25,26]) + 0 * e([[26,2]]) + 0 * e([27]) + 0 * e([1,27]) + 0 * e([2,27]) + 0 * e([3,27]) + 0 * e([4,27]) + 0 * e([5,27]) + 0 * e([6,27]) + 0 * e([7,27]) + 0 * e([8,27]) + 0 * e([9,27]) + 0 * e([10,27]) + 0 * e([11,27]) + 0 * e([12,27]) + 0 * e([13,27]) + 0 * e([14,27]) + 0 * e([15,27]) + 0 * e([16,27]) + 0 * e([17,27]) + 0 * e([18,27]) + 0 * e([19,27]) + 0 * e([20,27]) + 0 * e([21,27]) + 0 * e([22,27]) + 0 * e([23,27]) + 0 * e([24,27]) + 0 * e([25,27]) + 0 * e([26,27]) + 0 * e([[27,2]]) + 0 * e([28]) + 0 * e([1,28]) + 0 * e([2,28]) + 0 * e([3,28]) + 0 * e([4,28]) + 0 * e([5,28]) + 0 * e([6,28]) + 0 * e([7,28]) + 0 * e([8,28]) + 0 * e([9,28]) + 0 * e([10,28]) + 0 * e([11,28]) + 0 * e([12,28]) + 0 * e([13,28]) + 0 * e([14,28]) + 0 * e([15,28]) + 0 * e([16,28]) + 0 * e([17,28]) + 0 * e([18,28]) + 0 * e([19,28]) + 0 * e([20,28]) + 0 * e([21,28]) + 0 * e([22,28]) + 0 * e([23,28]) + 0 * e([24,28]) + 0 * e([25,28]) + 0 * e([26,28]) + 0 * e([27,28]) + 0 * e([[28,2]]) + 0 * e([29]) + 0 * e([1,29]) + 0 * e([2,29]) + 0 * e([3,29]) + 0 * e([4,29]) + 0 * e([5,29]) + 0 * e([6,29]) + 0 * e([7,29]) + 0 * e([8,29]) + 0 * e([9,29]) + 0 * e([10,29]) + 0 * e([11,29]) + 0 * e([12,29]) + 0 * e([13,29]) + 0 * e([14,29]) + 0 * e([15,29]) + 0 * e([16,29]) + 0 * e([17,29]) + 0 * e([18,29]) + 0 * e([19,29]) + 0 * e([20,29]) + 0 * e([21,29]) + 0 * e([22,29]) + 0 * e([23,29]) + 0 * e([24,29]) + 0 * e([25,29]) + 0 * e([26,29]) + 0 * e([27,29]) + 0 * e([28,29]) + 0 * e([[29,2]]) + 0 * e([30]) + 0 * e([1,30]) + 0 * e([2,30]) + 0 * e([3,30]) + 0 * e([4,30]) + 0 * e([5,30]) + 0 * e([6,30]) + 0 * e([7,30]) + 0 * e([8,30]) + 0 * e([9,30]) + 0 * e([10,30]) + 0 * e([11,30]) + 0 * e([12,30]) + 0 * e([13,30]) + 0 * e([14,30]) + 0 * e([15,30]) + 0 * e([16,30]) + 0 * e([17,30]) + 0 * e([18,30]) + 0 * e([19,30]) + 0 * e([20,30]) + 0 * e([21,30]) + 0 * e([22,30]) + 0 * e([23,30]) + 0 * e([24,30]) + 0 * e([25,30]) + 0 * e([26,30]) + 0 * e([27,30]) + 0 * e([28,30]) + 0 * e([29,30]) + 0 * e([[30,2]]) + 0 * e([31]) + 0 * e([1,31]) + 0 * e([2,31]) + 0 * e([3,31]) + 0 * e([4,31]) + 0 * e([5,31]) + 0 * e([6,31]) + 0 * e([7,31]) + 0 * e([8,31]) + 0 * e([9,31]) + 0 * e([10,31]) + 0 * e([11,31]) + 0 * e([12,31]) + 0 * e([13,31]) + 0 * e([14,31]) + 0 * e([15,31]) + 0 * e([16,31]) + 0 * e([17,31]) + 0 * e([18,31]) + 0 * e([19,31]) + 0 * e([20,31]) + 0 * e([21,31]) + 0 * e([22,31]) + 0 * e([23,31]) + 0 * e([24,31]) + 0 * e([25,31]) + 0 * e([26,31]) + 0 * e([27,31]) + 0 * e([28,31]) + 0 * e([29,31]) + 0 * e([30,31]) + 0 * e([[31,2]]) + 0 * e([32]) + 0 * e([1,32]) + 0 * e([2,32]) + 0 * e([3,32]) + 0 * e([4,32]) + 0 * e([5,32]) + 0 * e([6,32]) + 0 * e([7,32]) + 0 * e([8,32]) + 0 * e([9,32]) + 0 * e([10,32]) + 0 * e([11,32]) + 0 * e([12,32]) + 0 * e([13,32]) + 0 * e([14,32]) + 0 * e([15,32]) + 0 * e([16,32]) + 0 * e([17,32]) + 0 * e([18,32]) + 0 * e([19,32]) + 0 * e([20,32]) + 0 * e([21,32]) + 0 * e([22,32]) + 0 * e([23,32]) + 0 * e([24,32]) + 0 * e([25,32]) + 0 * e([26,32]) + 0 * e([27,32]) + 0 * e([28,32]) + 0 * e([29,32]) + 0 * e([30,32]) + 0 * e([31,32]) + 0 * e([[32,2]]) + 0 * e([33]) + 0 * e([1,33]) + 0 * e([2,33]) + 0 * e([3,33]) + 0 * e([4,33]) + 0 * e([5,33]) + 0 * e([6,33]) + 0 * e([7,33]) + 0 * e([8,33]) + 0 * e([9,33]) + 0 * e([10,33]) + 0 * e([11,33]) + 0 * e([12,33]) + 0 * e([13,33]) + 0 * e([14,33]) + 0 * e([15,33]) + 0 * e([16,33]) + 0 * e([17,33]) + 0 * e([18,33]) + 0 * e([19,33]) + 0 * e([20,33]) + 0 * e([21,33]) + 0 * e([22,33]) + 0 * e([23,33]) + 0 * e([24,33]) + 0 * e([25,33]) + 0 * e([26,33]) + 0 * e([27,33]) + 0 * e([28,33]) + 0 * e([29,33]) + 0 * e([30,33]) + 0 * e([31,33]) + 0 * e([32,33]) + 0 * e([[33,2]]) + 0 * e([34]) + 0 * e([1,34]) + 0 * e([2,34]) + 0 * e([3,34]) + 0 * e([4,34]) + 0 * e([5,34]) + 0 * e([6,34]) + 0 * e([7,34]) + 0 * e([8,34]) + 0 * e([9,34]) + 0 * e([10,34]) + 0 * e([11,34]) + 0 * e([12,34]) + 0 * e([13,34]) + 0 * e([14,34]) + 0 * e([15,34]) + 0 * e([16,34]) + 0 * e([17,34]) + 0 * e([18,34]) + 0 * e([19,34]) + 0 * e([20,34]) + 0 * e([21,34]) + 0 * e([22,34]) + 0 * e([23,34]) + 0 * e([24,34]) + 0 * e([25,34]) + 0 * e([26,34]) + 0 * e([27,34]) + 0 * e([28,34]) + 0 * e([29,34]) + 0 * e([30,34]) + 0 * e([31,34]) + 0 * e([32,34]) + 0 * e([33,34]) + 0 * e([[34,2]]) + 0 * e([35]) + 0 * e([1,35]) + 0 * e([2,35]) + 0 * e([3,35]) + 0 * e([4,35]) + 0 * e([5,35]) + 0 * e([6,35]) + 0 * e([7,35]) + 0 * e([8,35]) + 0 * e([9,35]) + 0 * e([10,35]) + 0 * e([11,35]) + 0 * e([12,35]) + 0 * e([13,35]) + 0 * e([14,35]) + 0 * e([15,35]) + 0 * e([16,35]) + 0 * e([17,35]) + 0 * e([18,35]) + 0 * e([19,35]) + 0 * e([20,35]) + 0 * e([21,35]) + 0 * e([22,35]) + 0 * e([23,35]) + 0 * e([24,35]) + 0 * e([25,35]) + 0 * e([26,35]) + 0 * e([27,35]) + 0 * e([28,35]) + 0 * e([29,35]) + 0 * e([30,35]) + 0 * e([31,35]) + 0 * e([32,35]) + 0 * e([33,35]) + 0 * e([34,35]) + 0 * e([[35,2]]) + 0 * e([36]) + 0 * e([1,36]) + 0 * e([2,36]) + 0 * e([3,36]) + 0 * e([4,36]) + 0 * e([5,36]) + 0 * e([6,36]) + 0 * e([7,36]) + 0 * e([8,36]) + 0 * e([9,36]) + 0 * e([10,36]) + 0 * e([11,36]) + 0 * e([12,36]) + 0 * e([13,36]) + 0 * e([14,36]) + 0 * e([15,36]) + 0 * e([16,36]) + 0 * e([17,36]) + 0 * e([18,36]) + 0 * e([19,36]) + 0 * e([20,36]) + 0 * e([21,36]) + 0 * e([22,36]) + 0 * e([23,36]) + 0 * e([24,36]) + 0 * e([25,36]) + 0 * e([26,36]) + 0 * e([27,36]) + 0 * e([28,36]) + 0 * e([29,36]) + 0 * e([30,36]) + 0 * e([31,36]) + 0 * e([32,36]) + 0 * e([33,36]) + 0 * e([34,36]) + 0 * e([35,36]) + 0 * e([[36,2]]) + 0 * e([37]) + 0 * e([1,37]) + 0 * e([2,37]) + 0 * e([3,37]) + 0 * e([4,37]) + 0 * e([5,37]) + 0 * e([6,37]) + 0 * e([7,37]) + 0 * e([8,37]) + 0 * e([9,37]) + 0 * e([10,37]) + 0 * e([11,37]) + 0 * e([12,37]) + 0 * e([13,37]) + 0 * e([14,37]) + 0 * e([15,37]) + 0 * e([16,37]) + 0 * e([17,37]) + 0 * e([18,37]) + 0 * e([19,37]) + 0 * e([20,37]) + 0 * e([21,37]) + 0 * e([22,37]) + 0 * e([23,37]) + 0 * e([24,37]) + 0 * e([25,37]) + 0 * e([26,37]) + 0 * e([27,37]) + 0 * e([28,37]) + 0 * e([29,37]) + 0 * e([30,37]) + 0 * e([31,37]) + 0 * e([32,37]) + 0 * e([33,37]) + 0 * e([34,37]) + 0 * e([35,37]) + 0 * e([36,37]) + 0 * e([[37,2]]) + 0 * e([38]) + 0 * e([1,38]) + 0 * e([2,38]) + 0 * e([3,38]) + 0 * e([4,38]) + 0 * e([5,38]) + 0 * e([6,38]) + 0 * e([7,38]) + 0 * e([8,38]) + 0 * e([9,38]) + 0 * e([10,38]) + 0 * e([11,38]) + 0 * e([12,38]) + 0 * e([13,38]) + 0 * e([14,38]) + 0 * e([15,38]) + 0 * e([16,38]) + 0 * e([17,38]) + 0 * e([18,38]) + 0 * e([19,38]) + 0 * e([20,38]) + 0 * e([21,38]) + 0 * e([22,38]) + 0 * e([23,38]) + 0 * e([24,38]) + 0 * e([25,38]) + 0 * e([26,38]) + 0 * e([27,38]) + 0 * e([28,38]) + 0 * e([29,38]) + 0 * e([30,38]) + 0 * e([31,38]) + 0 * e([32,38]) + 0 * e([33,38]) + 0 * e([34,38]) + 0 * e([35,38]) + 0 * e([36,38]) + 0 * e([37,38]) + 0 * e([[38,2]]) + 0 * e([39]) + 0 * e([1,39]) + 0 * e([2,39]) + 0 * e([3,39]) + 0 * e([4,39]) + 0 * e([5,39]) + 0 * e([6,39]) + 0 * e([7,39]) + 0 * e([8,39]) + 0 * e([9,39]) + 0 * e([10,39]) + 0 * e([11,39]) + 0 * e([12,39]) + 0 * e([13,39]) + 0 * e([14,39]) + 0 * e([15,39]) + 0 * e([16,39]) + 0 * e([17,39]) + 0 * e([18,39]) + 0 * e([19,39]) + 0 * e([20,39]) + 0 * e([21,39]) + 0 * e([22,39]) + 0 * e([23,39]) + 0 * e([24,39]) + 0 * e([25,39]) + 0 * e([26,39]) + 0 * e([27,39]) + 0 * e([28,39]) + 0 * e([29,39]) + 0 * e([30,39]) + 0 * e([31,39]) + 0 * e([32,39]) + 0 * e([33,39]) + 0 * e([34,39]) + 0 * e([35,39]) + 0 * e([36,39]) + 0 * e([37,39]) + 0 * e([38,39]) + 0 * e([[39,2]]) + 0 * e([40]) + 0 * e([1,40]) + 0 * e([2,40]) + 0 * e([3,40]) + 0 * e([4,40]) + 0 * e([5,40]) + 0 * e([6,40]) + 0 * e([7,40]) + 0 * e([8,40]) + 0 * e([9,40]) + 0 * e([10,40]) + 0 * e([11,40]) + 0 * e([12,40]) + 0 * e([13,40]) + 0 * e([14,40]) + 0 * e([15,40]) + 0 * e([16,40]) + 0 * e([17,40]) + 0 * e([18,40]) + 0 * e([19,40]) + 0 * e([20,40]) + 0 * e([21,40]) + 0 * e([22,40]) + 0 * e([23,40]) + 0 * e([24,40]) + 0 * e([25,40]) + 0 * e([26,40]) + 0 * e([27,40]) + 0 * e([28,40]) + 0 * e([29,40]) + 0 * e([30,40]) + 0 * e([31,40]) + 0 * e([32,40]) + 0 * e([33,40]) + 0 * e([34,40]) + 0 * e([35,40]) + 0 * e([36,40]) + 0 * e([37,40]) + 0 * e([38,40]) + 0 * e([39,40]) + 0 * e([[40,2]]) + 0 * e([41]) + 0 * e([1,41]) + 0 * e([2,41]) + 0 * e([3,41]) + 0 * e([4,41]) + 0 * e([5,41]) + 0 * e([6,41]) + 0 * e([7,41]) + 0 * e([8,41]) + 0 * e([9,41]) + 0 * e([10,41]) + 0 * e([11,41]) + 0 * e([12,41]) + 0 * e([13,41]) + 0 * e([14,41]) + 0 * e([15,41]) + 0 * e([16,41]) + 0 * e([17,41]) + 0 * e([18,41]) + 0 * e([19,41]) + 0 * e([20,41]) + 0 * e([21,41]) + 0 * e([22,41]) + 0 * e([23,41]) + 0 * e([24,41]) + 0 * e([25,41]) + 0 * e([26,41]) + 0 * e([27,41]) + 0 * e([28,41]) + 0 * e([29,41]) + 0 * e([30,41]) + 0 * e([31,41]) + 0 * e([32,41]) + 0 * e([33,41]) + 0 * e([34,41]) + 0 * e([35,41]) + 0 * e([36,41]) + 0 * e([37,41]) + 0 * e([38,41]) + 0 * e([39,41]) + 0 * e([40,41]) + 0 * e([[41,2]]) + 0 * e([42]) + 0 * e([1,42]) + 0 * e([2,42]) + 0 * e([3,42]) + 0 * e([4,42]) + 0 * e([5,42]) + 0 * e([6,42]) + 0 * e([7,42]) + 0 * e([8,42]) + 0 * e([9,42]) + 0 * e([10,42]) + 0 * e([11,42]) + 0 * e([12,42]) + 0 * e([13,42]) + 0 * e([14,42]) + 0 * e([15,42]) + 0 * e([16,42]) + 0 * e([17,42]) + 0 * e([18,42]) + 0 * e([19,42]) + 0 * e([20,42]) + 0 * e([21,42]) + 0 * e([22,42]) + 0 * e([23,42]) + 0 * e([24,42]) + 0 * e([25,42]) + 0 * e([26,42]) + 0 * e([27,42]) + 0 * e([28,42]) + 0 * e([29,42]) + 0 * e([30,42]) + 0 * e([31,42]) + 0 * e([32,42]) + 0 * e([33,42]) + 0 * e([34,42]) + 0 * e([35,42]) + 0 * e([36,42]) + 0 * e([37,42]) + 0 * e([38,42]) + 0 * e([39,42]) + 0 * e([40,42]) + 0 * e([41,42]) + 0 * e([[42,2]]) + 0 * e([43]) + 0 * e([1,43]) + 0 * e([2,43]) + 0 * e([3,43]) + 0 * e([4,43]) + 0 * e([5,43]) + 0 * e([6,43]) + 0 * e([7,43]) + 0 * e([8,43]) + 0 * e([9,43]) + 0 * e([10,43]) + 0 * e([11,43]) + 0 * e([12,43]) + 0 * e([13,43]) + 0 * e([14,43]) + 0 * e([15,43]) + 0 * e([16,43]) + 0 * e([17,43]) + 0 * e([18,43]) + 0 * e([19,43]) + 0 * e([20,43]) + 0 * e([21,43]) + 0 * e([22,43]) + 0 * e([23,43]) + 0 * e([24,43]) + 0 * e([25,43]) + 0 * e([26,43]) + 0 * e([27,43]) + 0 * e([28,43]) + 0 * e([29,43]) + 0 * e([30,43]) + 0 * e([31,43]) + 0 * e([32,43]) + 0 * e([33,43]) + 0 * e([34,43]) + 0 * e([35,43]) + 0 * e([36,43]) + 0 * e([37,43]) + 0 * e([38,43]) + 0 * e([39,43]) + 0 * e([40,43]) + 0 * e([41,43]) + 0 * e([42,43]) + 0 * e([[43,2]]) + 0 * e([44]) + 0 * e([1,44]) + 0 * e([2,44]) + 0 * e([3,44]) + 0 * e([4,44]) + 0 * e([5,44]) + 0 * e([6,44]) + 0 * e([7,44]) + 0 * e([8,44]) + 0 * e([9,44]) + 0 * e([10,44]) + 0 * e([11,44]) + 0 * e([12,44]) + 0 * e([13,44]) + 0 * e([14,44]) + 0 * e([15,44]) + 0 * e([16,44]) + 0 * e([17,44]) + 0 * e([18,44]) + 0 * e([19,44]) + 0 * e([20,44]) + 0 * e([21,44]) + 0 * e([22,44]) + 0 * e([23,44]) + 0 * e([24,44]) + 0 * e([25,44]) + 0 * e([26,44]) + 0 * e([27,44]) + 0 * e([28,44]) + 0 * e([29,44]) + 0 * e([30,44]) + 0 * e([31,44]) + 0 * e([32,44]) + 0 * e([33,44]) + 0 * e([34,44]) + 0 * e([35,44]) + 0 * e([36,44]) + 0 * e([37,44]) + 0 * e([38,44]) + 0 * e([39,44]) + 0 * e([40,44]) + 0 * e([41,44]) + 0 * e([42,44]) + 0 * e([43,44]) + 0 * e([[44,2]]) + 0 * e([45]) + 0 * e([1,45]) + 0 * e([2,45]) + 0 * e([3,45]) + 0 * e([4,45]) + 0 * e([5,45]) + 0 * e([6,45]) + 0 * e([7,45]) + 0 * e([8,45]) + 0 * e([9,45]) + 0 * e([10,45]) + 0 * e([11,45]) + 0 * e([12,45]) + 0 * e([13,45]) + 0 * e([14,45]) + 0 * e([15,45]) + 0 * e([16,45]) + 0 * e([17,45]) + 0 * e([18,45]) + 0 * e([19,45]) + 0 * e([20,45]) + 0 * e([21,45]) + 0 * e([22,45]) + 0 * e([23,45]) + 0 * e([24,45]) + 0 * e([25,45]) + 0 * e([26,45]) + 0 * e([27,45]) + 0 * e([28,45]) + 0 * e([29,45]) + 0 * e([30,45]) + 0 * e([31,45]) + 0 * e([32,45]) + 0 * e([33,45]) + 0 * e([34,45]) + 0 * e([35,45]) + 0 * e([36,45]) + 0 * e([37,45]) + 0 * e([38,45]) + 0 * e([39,45]) + 0 * e([40,45]) + 0 * e([41,45]) + 0 * e([42,45]) + 0 * e([43,45]) + 0 * e([44,45]) + 0 * e([[45,2]]) + 0 * e([46]) + 0 * e([1,46]) + 0 * e([2,46]) + 0 * e([3,46]) + 0 * e([4,46]) + 0 * e([5,46]) + 0 * e([6,46]) + 0 * e([7,46]) + 0 * e([8,46]) + 0 * e([9,46]) + 0 * e([10,46]) + 0 * e([11,46]) + 0 * e([12,46]) + 0 * e([13,46]) + 0 * e([14,46]) + 0 * e([15,46]) + 0 * e([16,46]) + 0 * e([17,46]) + 0 * e([18,46]) + 0 * e([19,46]) + 0 * e([20,46]) + 0 * e([21,46]) + 0 * e([22,46]) + 0 * e([23,46]) + 0 * e([24,46]) + 0 * e([25,46]) + 0 * e([26,46]) + 0 * e([27,46]) + 0 * e([28,46]) + 0 * e([29,46]) + 0 * e([30,46]) + 0 * e([31,46]) + 0 * e([32,46]) + 0 * e([33,46]) + 0 * e([34,46]) + 0 * e([35,46]) + 0 * e([36,46]) + 0 * e([37,46]) + 0 * e([38,46]) + 0 * e([39,46]) + 0 * e([40,46]) + 0 * e([41,46]) + 0 * e([42,46]) + 0 * e([43,46]) + 0 * e([44,46]) + 0 * e([45,46]) + 0 * e([[46,2]]) + 0 * e([47]) + 0 * e([1,47]) + 0 * e([2,47]) + 0 * e([3,47]) + 0 * e([4,47]) + 0 * e([5,47]) + 0 * e([6,47]) + 0 * e([7,47]) + 0 * e([8,47]) + 0 * e([9,47]) + 0 * e([10,47]) + 0 * e([11,47]) + 0 * e([12,47]) + 0 * e([13,47]) + 0 * e([14,47]) + 0 * e([15,47]) + 0 * e([16,47]) + 0 * e([17,47]) + 0 * e([18,47]) + 0 * e([19,47]) + 0 * e([20,47]) + 0 * e([21,47]) + 0 * e([22,47]) + 0 * e([23,47]) + 0 * e([24,47]) + 0 * e([25,47]) + 0 * e([26,47]) + 0 * e([27,47]) + 0 * e([28,47]) + 0 * e([29,47]) + 0 * e([30,47]) + 0 * e([31,47]) + 0 * e([32,47]) + 0 * e([33,47]) + 0 * e([34,47]) + 0 * e([35,47]) + 0 * e([36,47]) + 0 * e([37,47]) + 0 * e([38,47]) + 0 * e([39,47]) + 0 * e([40,47]) + 0 * e([41,47]) + 0 * e([42,47]) + 0 * e([43,47]) + 0 * e([44,47]) + 0 * e([45,47]) + 0 * e([46,47]) + 0 * e([[47,2]]) + 0 * e([48]) + 0 * e([1,48]) + 0 * e([2,48]) + 0 * e([3,48]) + 0 * e([4,48]) + 0 * e([5,48]) + 0 * e([6,48]) + 0 * e([7,48]) + 0 * e([8,48]) + 0 * e([9,48]) + 0 * e([10,48]) + 0 * e([11,48]) + 0 * e([12,48]) + 0 * e([13,48]) + 0 * e([14,48]) + 0 * e([15,48]) + 0 * e([16,48]) + 0 * e([17,48]) + 0 * e([18,48]) + 0 * e([19,48]) + 0 * e([20,48]) + 0 * e([21,48]) + 0 * e([22,48]) + 0 * e([23,48]) + 0 * e([24,48]) + 0 * e([25,48]) + 0 * e([26,48]) + 0 * e([27,48]) + 0 * e([28,48]) + 0 * e([29,48]) + 0 * e([30,48]) + 0 * e([31,48]) + 0 * e([32,48]) + 0 * e([33,48]) + 0 * e([34,48]) + 0 * e([35,48]) + 0 * e([36,48]) + 0 * e([37,48]) + 0 * e([38,48]) + 0 * e([39,48]) + 0 * e([40,48]) + 0 * e([41,48]) + 0 * e([42,48]) + 0 * e([43,48]) + 0 * e([44,48]) + 0 * e([45,48]) + 0 * e([46,48]) + 0 * e([47,48]) + 0 * e([[48,2]]) + 0 * e([49]) + 0 * e([1,49]) + 0 * e([2,49]) + 0 * e([3,49]) + 0 * e([4,49]) + 0 * e([5,49]) + 0 * e([6,49]) + 0 * e([7,49]) + 0 * e([8,49]) + 0 * e([9,49]) + 0 * e([10,49]) + 0 * e([11,49]) + 0 * e([12,49]) + 0 * e([13,49]) + 0 * e([14,49]) + 0 * e([15,49]) + 0 * e([16,49]) + 0 * e([17,49]) + 0 * e([18,49]) + 0 * e([19,49]) + 0 * e([20,49]) + 0 * e([21,49]) + 0 * e([22,49]) + 0 * e([23,49]) + 0 * e([24,49]) + 0 * e([25,49]) + 0 * e([26,49]) + 0 * e([27,49]) + 0 * e([28,49]) + 0 * e([29,49]) + 0 * e([30,49]) + 0 * e([31,49]) + 0 * e([32,49]) + 0 * e([33,49]) + 0 * e([34,49]) + 0 * e([35,49]) + 0 * e([36,49]) + 0 * e([37,49]) + 0 * e([38,49]) + 0 * e([39,49]) + 0 * e([40,49]) + 0 * e([41,49]) + 0 * e([42,49]) + 0 * e([43,49]) + 0 * e([44,49]) + 0 * e([45,49]) + 0 * e([46,49]) + 0 * e([47,49]) + 0 * e([48,49]) + 0 * e([[49,2]]) + 0 * e([50]) + 0 * e([1,50]) + 0 * e([2,50]) + 0 * e([3,50]) + 0 * e([4,50]) + 0 * e([5,50]) + 0 * e([6,50]) + 0 * e([7,50]) + 0 * e([8,50]) + 0 * e([9,50]) + 0 * e([10,50]) + 0 * e([11,50]) + 0 * e([12,50]) + 0 * e([13,50]) + 0 * e([14,50]) + 0 * e([15,50]) + 0 * e([16,50]) + 0 * e([17,50]) + 0 * e([18,50]) + 0 * e([19,50]) + 0 * e([20,50]) + 0 * e([21,50]) + 0 * e([22,50]) + 0 * e([23,50]) + 0 * e([24,50]) + 0 * e([25,50]) + 0 * e([26,50]) + 0 * e([27,50]) + 0 * e([28,50]) + 0 * e([29,50]) + 0 * e([30,50]) + 0 * e([31,50]) + 0 * e([32,50]) + 0 * e([33,50]) + 0 * e([34,50]) + 0 * e([35,50]) + 0 * e([36,50]) + 0 * e([37,50]) + 0 * e([38,50]) + 0 * e([39,50]) + 0 * e([40,50]) + 0 * e([41,50]) + 0 * e([42,50]) + 0 * e([43,50]) + 0 * e([44,50]) + 0 * e([45,50]) + 0 * e([46,50]) + 0 * e([47,50]) + 0 * e([48,50]) + 0 * e([49,50]) + 0 * e([[50,2]]) + 0 * e([51]) + 0 * e([1,51]) + 0 * e([2,51]) + 0 * e([3,51]) + 0 * e([4,51]) + 0 * e([5,51]) + 0 * e([6,51]) + 0 * e([7,51]) + 0 * e([8,51]) + 0 * e([9,51]) + 0 * e([10,51]) + 0 * e([11,51]) + 0 * e([12,51]) + 0 * e([13,51]) + 0 * e([14,51]) + 0 * e([15,51]) + 0 * e([16,51]) + 0 * e([17,51]) + 0 * e([18,51]) + 0 * e([19,51]) + 0 * e([20,51]) + 0 * e([21,51]) + 0 * e([22,51]) + 0 * e([23,51]) + 0 * e([24,51]) + 0 * e([25,51]) + 0 * e([26,51]) + 0 * e([27,51]) + 0 * e([28,51]) + 0 * e([29,51]) + 0 * e([30,51]) + 0 * e([31,51]) + 0 * e([32,51]) + 0 * e([33,51]) + 0 * e([34,51]) + 0 * e([35,51]) + 0 * e([36,51]) + 0 * e([37,51]) + 0 * e([38,51]) + 0 * e([39,51]) + 0 * e([40,51]) + 0 * e([41,51]) + 0 * e([42,51]) + 0 * e([43,51]) + 0 * e([44,51]) + 0 * e([45,51]) + 0 * e([46,51]) + 0 * e([47,51]) + 0 * e([48,51]) + 0 * e([49,51]) + 0 * e([50,51]) + 0 * e([[51,2]]) + 0 * e([52]) + 0 * e([1,52]) + 0 * e([2,52]) + 0 * e([3,52]) + 0 * e([4,52]) + 0 * e([5,52]) + 0 * e([6,52]) + 0 * e([7,52]) + 0 * e([8,52]) + 0 * e([9,52]) + 0 * e([10,52]) + 0 * e([11,52]) + 0 * e([12,52]) + 0 * e([13,52]) + 0 * e([14,52]) + 0 * e([15,52]) + 0 * e([16,52]) + 0 * e([17,52]) + 0 * e([18,52]) + 0 * e([19,52]) + 0 * e([20,52]) + 0 * e([21,52]) + 0 * e([22,52]) + 0 * e([23,52]) + 0 * e([24,52]) + 0 * e([25,52]) + 0 * e([26,52]) + 0 * e([27,52]) + 0 * e([28,52]) + 0 * e([29,52]) + 0 * e([30,52]) + 0 * e([31,52]) + 0 * e([32,52]) + 0 * e([33,52]) + 0 * e([34,52]) + 0 * e([35,52]) + 0 * e([36,52]) + 0 * e([37,52]) + 0 * e([38,52]) + 0 * e([39,52]) + 0 * e([40,52]) + 0 * e([41,52]) + 0 * e([42,52]) + 0 * e([43,52]) + 0 * e([44,52]) + 0 * e([45,52]) + 0 * e([46,52]) + 0 * e([47,52]) + 0 * e([48,52]) + 0 * e([49,52]) + 0 * e([50,52]) + 0 * e([51,52]) + 0 * e([[52,2]]) + 0 * e([53]) + 0 * e([1,53]) + 0 * e([2,53]) + 0 * e([3,53]) + 0 * e([4,53]) + 0 * e([5,53]) + 0 * e([6,53]) + 0 * e([7,53]) + 0 * e([8,53]) + 0 * e([9,53]) + 0 * e([10,53]) + 0 * e([11,53]) + 0 * e([12,53]) + 0 * e([13,53]) + 0 * e([14,53]) + 0 * e([15,53]) + 0 * e([16,53]) + 0 * e([17,53]) + 0 * e([18,53]) + 0 * e([19,53]) + 0 * e([20,53]) + 0 * e([21,53]) + 0 * e([22,53]) + 0 * e([23,53]) + 0 * e([24,53]) + 0 * e([25,53]) + 0 * e([26,53]) + 0 * e([27,53]) + 0 * e([28,53]) + 0 * e([29,53]) + 0 * e([30,53]) + 0 * e([31,53]) + 0 * e([32,53]) + 0 * e([33,53]) + 0 * e([34,53]) + 0 * e([35,53]) + 0 * e([36,53]) + 0 * e([37,53]) + 0 * e([38,53]) + 0 * e([39,53]) + 0 * e([40,53]) + 0 * e([41,53]) + 0 * e([42,53]) + 0 * e([43,53]) + 0 * e([44,53]) + 0 * e([45,53]) + 0 * e([46,53]) + 0 * e([47,53]) + 0 * e([48,53]) + 0 * e([49,53]) + 0 * e([50,53]) + 0 * e([51,53]) + 0 * e([52,53]) + 0 * e([[53,2]]) + 0 * e([54]) + 0 * e([1,54]) + 0 * e([2,54]) + 0 * e([3,54]) + 0 * e([4,54]) + 0 * e([5,54]) + 0 * e([6,54]) + 0 * e([7,54]) + 0 * e([8,54]) + 0 * e([9,54]) + 0 * e([10,54]) + 0 * e([11,54]) + 0 * e([12,54]) + 0 * e([13,54]) + 0 * e([14,54]) + 0 * e([15,54]) + 0 * e([16,54]) + 0 * e([17,54]) + 0 * e([18,54]) + 0 * e([19,54]) + 0 * e([20,54]) + 0 * e([21,54]) + 0 * e([22,54]) + 0 * e([23,54]) + 0 * e([24,54]) + 0 * e([25,54]) + 0 * e([26,54]) + 0 * e([27,54]) + 0 * e([28,54]) + 0 * e([29,54]) + 0 * e([30,54]) + 0 * e([31,54]) + 0 * e([32,54]) + 0 * e([33,54]) + 0 * e([34,54]) + 0 * e([35,54]) + 0 * e([36,54]) + 0 * e([37,54]) + 0 * e([38,54]) + 0 * e([39,54]) + 0 * e([40,54]) + 0 * e([41,54]) + 0 * e([42,54]) + 0 * e([43,54]) + 0 * e([44,54]) + 0 * e([45,54]) + 0 * e([46,54]) + 0 * e([47,54]) + 0 * e([48,54]) + 0 * e([49,54]) + 0 * e([50,54]) + 0 * e([51,54]) + 0 * e([52,54]) + 0 * e([53,54]) + 0 * e([[54,2]]) + 0 * e([55]) + 0 * e([1,55]) + 0 * e([2,55]) + 0 * e([3,55]) + 0 * e([4,55]) + 0 * e([5,55]) + 0 * e([6,55]) + 0 * e([7,55]) + 0 * e([8,55]) + 0 * e([9,55]) + 0 * e([10,55]) + 0 * e([11,55]) + 0 * e([12,55]) + 0 * e([13,55]) + 0 * e([14,55]) + 0 * e([15,55]) + 0 * e([16,55]) + 0 * e([17,55]) + 0 * e([18,55]) + 0 * e([19,55]) + 0 * e([20,55]) + 0 * e([21,55]) + 0 * e([22,55]) + 0 * e([23,55]) + 0 * e([24,55]) + 0 * e([25,55]) + 0 * e([26,55]) + 0 * e([27,55]) + 0 * e([28,55]) + 0 * e([29,55]) + 0 * e([30,55]) + 0 * e([31,55]) + 0 * e([32,55]) + 0 * e([33,55]) + 0 * e([34,55]) + 0 * e([35,55]) + 0 * e([36,55]) + 0 * e([37,55]) + 0 * e([38,55]) + 0 * e([39,55]) + 0 * e([40,55]) + 0 * e([41,55]) + 0 * e([42,55]) + 0 * e([43,55]) + 0 * e([44,55]) + 0 * e([45,55]) + 0 * e([46,55]) + 0 * e([47,55]) + 0 * e([48,55]) + 0 * e([49,55]) + 0 * e([50,55]) + 0 * e([51,55]) + 0 * e([52,55]) + 0 * e([53,55]) + 0 * e([54,55]) + 0 * e([[55,2]]) + 0 * e([56]) + 0 * e([1,56]) + 0 * e([2,56]) + 0 * e([3,56]) + 0 * e([4,56]) + 0 * e([5,56]) + 0 * e([6,56]) + 0 * e([7,56]) + 0 * e([8,56]) + 0 * e([9,56]) + 0 * e([10,56]) + 0 * e([11,56]) + 0 * e([12,56]) + 0 * e([13,56]) + 0 * e([14,56]) + 0 * e([15,56]) + 0 * e([16,56]) + 0 * e([17,56]) + 0 * e([18,56]) + 0 * e([19,56]) + 0 * e([20,56]) + 0 * e([21,56]) + 0 * e([22,56]) + 0 * e([23,56]) + 0 * e([24,56]) + 0 * e([25,56]) + 0 * e([26,56]) + 0 * e([27,56]) + 0 * e([28,56]) + 0 * e([29,56]) + 0 * e([30,56]) + 0 * e([31,56]) + 0 * e([32,56]) + 0 * e([33,56]) + 0 * e([34,56]) + 0 * e([35,56]) + 0 * e([36,56]) + 0 * e([37,56]) + 0 * e([38,56]) + 0 * e([39,56]) + 0 * e([40,56]) + 0 * e([41,56]) + 0 * e([42,56]) + 0 * e([43,56]) + 0 * e([44,56]) + 0 * e([45,56]) + 0 * e([46,56]) + 0 * e([47,56]) + 0 * e([48,56]) + 0 * e([49,56]) + 0 * e([50,56]) + 0 * e([51,56]) + 0 * e([52,56]) + 0 * e([53,56]) + 0 * e([54,56]) + 0 * e([55,56]) + 0 * e([[56,2]]) + 0 * e([57]) + 0 * e([1,57]) + 0 * e([2,57]) + 0 * e([3,57]) + 0 * e([4,57]) + 0 * e([5,57]) + 0 * e([6,57]) + 0 * e([7,57]) + 0 * e([8,57]) + 0 * e([9,57]) + 0 * e([10,57]) + 0 * e([11,57]) + 0 * e([12,57]) + 0 * e([13,57]) + 0 * e([14,57]) + 0 * e([15,57]) + 0 * e([16,57]) + 0 * e([17,57]) + 0 * e([18,57]) + 0 * e([19,57]) + 0 * e([20,57]) + 0 * e([21,57]) + 0 * e([22,57]) + 0 * e([23,57]) + 0 * e([24,57]) + 0 * e([25,57]) + 0 * e([26,57]) + 0 * e([27,57]) + 0 * e([28,57]) + 0 * e([29,57]) + 0 * e([30,57]) + 0 * e([31,57]) + 0 * e([32,57]) + 0 * e([33,57]) + 0 * e([34,57]) + 0 * e([35,57]) + 0 * e([36,57]) + 0 * e([37,57]) + 0 * e([38,57]) + 0 * e([39,57]) + 0 * e([40,57]) + 0 * e([41,57]) + 0 * e([42,57]) + 0 * e([43,57]) + 0 * e([44,57]) + 0 * e([45,57]) + 0 * e([46,57]) + 0 * e([47,57]) + 0 * e([48,57]) + 0 * e([49,57]) + 0 * e([50,57]) + 0 * e([51,57]) + 0 * e([52,57]) + 0 * e([53,57]) + 0 * e([54,57]) + 0 * e([55,57]) + 0 * e([56,57]) + 0 * e([[57,2]]) + 0 * e([58]) + 0 * e([1,58]) + 0 * e([2,58]) + 0 * e([3,58]) + 0 * e([4,58]) + 0 * e([5,58]) + 0 * e([6,58]) + 0 * e([7,58]) + 0 * e([8,58]) + 0 * e([9,58]) + 0 * e([10,58]) + 0 * e([11,58]) + 0 * e([12,58]) + 0 * e([13,58]) + 0 * e([14,58]) + 0 * e([15,58]) + 0 * e([16,58]) + 0 * e([17,58]) + 0 * e([18,58]) + 0 * e([19,58]) + 0 * e([20,58]) + 0 * e([21,58]) + 0 * e([22,58]) + 0 * e([23,58]) + 0 * e([24,58]) + 0 * e([25,58]) + 0 * e([26,58]) + 0 * e([27,58]) + 0 * e([28,58]) + 0 * e([29,58]) + 0 * e([30,58]) + 0 * e([31,58]) + 0 * e([32,58]) + 0 * e([33,58]) + 0 * e([34,58]) + 0 * e([35,58]) + 0 * e([36,58]) + 0 * e([37,58]) + 0 * e([38,58]) + 0 * e([39,58]) + 0 * e([40,58]) + 0 * e([41,58]) + 0 * e([42,58]) + 0 * e([43,58]) + 0 * e([44,58]) + 0 * e([45,58]) + 0 * e([46,58]) + 0 * e([47,58]) + 0 * e([48,58]) + 0 * e([49,58]) + 0 * e([50,58]) + 0 * e([51,58]) + 0 * e([52,58]) + 0 * e([53,58]) + 0 * e([54,58]) + 0 * e([55,58]) + 0 * e([56,58]) + 0 * e([57,58]) + 0 * e([[58,2]]) + 0 * e([59]) + 0 * e([1,59]) + 0 * e([2,59]) + 0 * e([3,59]) + 0 * e([4,59]) + 0 * e([5,59]) + 0 * e([6,59]) + 0 * e([7,59]) + 0 * e([8,59]) + 0 * e([9,59]) + 0 * e([10,59]) + 0 * e([11,59]) + 0 * e([12,59]) + 0 * e([13,59]) + 0 * e([14,59]) + 0 * e([15,59]) + 0 * e([16,59]) + 0 * e([17,59]) + 0 * e([18,59]) + 0 * e([19,59]) + 0 * e([20,59]) + 0 * e([21,59]) + 0 * e([22,59]) + 0 * e([23,59]) + 0 * e([24,59]) + 0 * e([25,59]) + 0 * e([26,59]) + 0 * e([27,59]) + 0 * e([28,59]) + 0 * e([29,59]) + 0 * e([30,59]) + 0 * e([31,59]) + 0 * e([32,59]) + 0 * e([33,59]) + 0 * e([34,59]) + 0 * e([35,59]) + 0 * e([36,59]) + 0 * e([37,59]) + 0 * e([38,59]) + 0 * e([39,59]) + 0 * e([40,59]) + 0 * e([41,59]) + 0 * e([42,59]) + 0 * e([43,59]) + 0 * e([44,59]) + 0 * e([45,59]) + 0 * e([46,59]) + 0 * e([47,59]) + 0 * e([48,59]) + 0 * e([49,59]) + 0 * e([50,59]) + 0 * e([51,59]) + 0 * e([52,59]) + 0 * e([53,59]) + 0 * e([54,59]) + 0 * e([55,59]) + 0 * e([56,59]) + 0 * e([57,59]) + 0 * e([58,59]) + 0 * e([[59,2]]) + 0 * e([60]) + 0 * e([1,60]) + 0 * e([2,60]) + 0 * e([3,60]) + 0 * e([4,60]) + 0 * e([5,60]) + 0 * e([6,60]) + 0 * e([7,60]) + 0 * e([8,60]) + 0 * e([9,60]) + 0 * e([10,60]) + 0 * e([11,60]) + 0 * e([12,60]) + 0 * e([13,60]) + 0 * e([14,60]) + 0 * e([15,60]) + 0 * e([16,60]) + 0 * e([17,60]) + 0 * e([18,60]) + 0 * e([19,60]) + 0 * e([20,60]) + 0 * e([21,60]) + 0 * e([22,60]) + 0 * e([23,60]) + 0 * e([24,60]) + 0 * e([25,60]) + 0 * e([26,60]) + 0 * e([27,60]) + 0 * e([28,60]) + 0 * e([29,60]) + 0 * e([30,60]) + 0 * e([31,60]) + 0 * e([32,60]) + 0 * e([33,60]) + 0 * e([34,60]) + 0 * e([35,60]) + 0 * e([36,60]) + 0 * e([37,60]) + 0 * e([38,60]) + 0 * e([39,60]) + 0 * e([40,60]) + 0 * e([41,60]) + 0 * e([42,60]) + 0 * e([43,60]) + 0 * e([44,60]) + 0 * e([45,60]) + 0 * e([46,60]) + 0 * e([47,60]) + 0 * e([48,60]) + 0 * e([49,60]) + 0 * e([50,60]) + 0 * e([51,60]) + 0 * e([52,60]) + 0 * e([53,60]) + 0 * e([54,60]) + 0 * e([55,60]) + 0 * e([56,60]) + 0 * e([57,60]) + 0 * e([58,60]) + 0 * e([59,60]) + 0 * e([[60,2]]) + 0 * e([61]) + 0 * e([1,61]) + 0 * e([2,61]) + 0 * e([3,61]) + 0 * e([4,61]) + 0 * e([5,61]) + 0 * e([6,61]) + 0 * e([7,61]) + 0 * e([8,61]) + 0 * e([9,61]) + 0 * e([10,61]) + 0 * e([11,61]) + 0 * e([12,61]) + 0 * e([13,61]) + 0 * e([14,61]) + 0 * e([15,61]) + 0 * e([16,61]) + 0 * e([17,61]) + 0 * e([18,61]) + 0 * e([19,61]) + 0 * e([20,61]) + 0 * e([21,61]) + 0 * e([22,61]) + 0 * e([23,61]) + 0 * e([24,61]) + 0 * e([25,61]) + 0 * e([26,61]) + 0 * e([27,61]) + 0 * e([28,61]) + 0 * e([29,61]) + 0 * e([30,61]) + 0 * e([31,61]) + 0 * e([32,61]) + 0 * e([33,61]) + 0 * e([34,61]) + 0 * e([35,61]) + 0 * e([36,61]) + 0 * e([37,61]) + 0 * e([38,61]) + 0 * e([39,61]) + 0 * e([40,61]) + 0 * e([41,61]) + 0 * e([42,61]) + 0 * e([43,61]) + 0 * e([44,61]) + 0 * e([45,61]) + 0 * e([46,61]) + 0 * e([47,61]) + 0 * e([48,61]) + 0 * e([49,61]) + 0 * e([50,61]) + 0 * e([51,61]) + 0 * e([52,61]) + 0 * e([53,61]) + 0 * e([54,61]) + 0 * e([55,61]) + 0 * e([56,61]) + 0 * e([57,61]) + 0 * e([58,61]) + 0 * e([59,61]) + 0 * e([60,61]) + 0 * e([[61,2]]) + 0 * e([62]) + 0 * e([1,62]) + 0 * e([2,62]) + 0 * e([3,62]) + 0 * e([4,62]) + 0 * e([5,62]) + 0 * e([6,62]) + 0 * e([7,62]) + 0 * e([8,62]) + 0 * e([9,62]) + 0 * e([10,62]) + 0 * e([11,62]) + 0 * e([12,62]) + 0 * e([13,62]) + 0 * e([14,62]) + 0 * e([15,62]) + 0 * e([16,62]) + 0 * e([17,62]) + 0 * e([18,62]) + 0 * e([19,62]) + 0 * e([20,62]) + 0 * e([21,62]) + 0 * e([22,62]) + 0 * e([23,62]) + 0 * e([24,62]) + 0 * e([25,62]) + 0 * e([26,62]) + 0 * e([27,62]) + 0 * e([28,62]) + 0 * e([29,62]) + 0 * e([30,62]) + 0 * e([31,62]) + 0 * e([32,62]) + 0 * e([33,62]) + 0 * e([34,62]) + 0 * e([35,62]) + 0 * e([36,62]) + 0 * e([37,62]) + 0 * e([38,62]) + 0 * e([39,62]) + 0 * e([40,62]) + 0 * e([41,62]) + 0 * e([42,62]) + 0 * e([43,62]) + 0 * e([44,62]) + 0 * e([45,62]) + 0 * e([46,62]) + 0 * e([47,62]) + 0 * e([48,62]) + 0 * e([49,62]) + 0 * e([50,62]) + 0 * e([51,62]) + 0 * e([52,62]) + 0 * e([53,62]) + 0 * e([54,62]) + 0 * e([55,62]) + 0 * e([56,62]) + 0 * e([57,62]) + 0 * e([58,62]) + 0 * e([59,62]) + 0 * e([60,62]) + 0 * e([61,62]) + 0 * e([[62,2]]) + 0 * e([63]) + 0 * e([1,63]) + 0 * e([2,63]) + 0 * e([3,63]) + 0 * e([4,63]) + 0 * e([5,63]) + 0 * e([6,63]) + 0 * e([7,63]) + 0 * e([8,63]) + 0 * e([9,63]) + 0 * e([10,63]) + 0 * e([11,63]) + 0 * e([12,63]) + 0 * e([13,63]) + 0 * e([14,63]) + 0 * e([15,63]) + 0 * e([16,63]) + 0 * e([17,63]) + 0 * e([18,63]) + 0 * e([19,63]) + 0 * e([20,63]) + 0 * e([21,63]) + 0 * e([22,63]) + 0 * e([23,63]) + 0 * e([24,63]) + 0 * e([25,63]) + 0 * e([26,63]) + 0 * e([27,63]) + 0 * e([28,63]) + 0 * e([29,63]) + 0 * e([30,63]) + 0 * e([31,63]) + 0 * e([32,63]) + 0 * e([33,63]) + 0 * e([34,63]) + 0 * e([35,63]) + 0 * e([36,63]) + 0 * e([37,63]) + 0 * e([38,63]) + 0 * e([39,63]) + 0 * e([40,63]) + 0 * e([41,63]) + 0 * e([42,63]) + 0 * e([43,63]) + 0 * e([44,63]) + 0 * e([45,63]) + 0 * e([46,63]) + 0 * e([47,63]) + 0 * e([48,63]) + 0 * e([49,63]) + 0 * e([50,63]) + 0 * e([51,63]) + 0 * e([52,63]) + 0 * e([53,63]) + 0 * e([54,63]) + 0 * e([55,63]) + 0 * e([56,63]) + 0 * e([57,63]) + 0 * e([58,63]) + 0 * e([59,63]) + 0 * e([60,63]) + 0 * e([61,63]) + 0 * e([62,63]) + 0 * e([[63,2]]) + 0 * e([64]) + 0 * e([1,64]) + 0 * e([2,64]) + 0 * e([3,64]) + 0 * e([4,64]) + 0 * e([5,64]) + 0 * e([6,64]) + 0 * e([7,64]) + 0 * e([8,64]) + 0 * e([9,64]) + 0 * e([10,64]) + 0 * e([11,64]) + 0 * e([12,64]) + 0 * e([13,64]) + 0 * e([14,64]) + 0 * e([15,64]) + 0 * e([16,64]) + 0 * e([17,64]) + 0 * e([18,64]) + 0 * e([19,64]) + 0 * e([20,64]) + 0 * e([21,64]) + 0 * e([22,64]) + 0 * e([23,64]) + 0 * e([24,64]) + 0 * e([25,64]) + 0 * e([26,64]) + 0 * e([27,64]) + 0 * e([28,64]) + 0 * e([29,64]) + 0 * e([30,64]) + 0 * e([31,64]) + 0 * e([32,64]) + 0 * e([33,64]) + 0 * e([34,64]) + 0 * e([35,64]) + 0 * e([36,64]) + 0 * e([37,64]) + 0 * e([38,64]) + 0 * e([39,64]) + 0 * e([40,64]) + 0 * e([41,64]) + 0 * e([42,64]) + 0 * e([43,64]) + 0 * e([44,64]) + 0 * e([45,64]) + 0 * e([46,64]) + 0 * e([47,64]) + 0 * e([48,64]) + 0 * e([49,64]) + 0 * e([50,64]) + 0 * e([51,64]) + 0 * e([52,64]) + 0 * e([53,64]) + 0 * e([54,64]) + 0 * e([55,64]) + 0 * e([56,64]) + 0 * e([57,64]) + 0 * e([58,64]) + 0 * e([59,64]) + 0 * e([60,64]) + 0 * e([61,64]) + 0 * e([62,64]) + 0 * e([63,64]) + 0 * e([[64,2]]) + 0 * e([65]) + 0 * e([1,65]) + 0 * e([2,65]) + 0 * e([3,65]) + 0 * e([4,65]) + 0 * e([5,65]) + 0 * e([6,65]) + 0 * e([7,65]) + 0 * e([8,65]) + 0 * e([9,65]) + 0 * e([10,65]) + 0 * e([11,65]) + 0 * e([12,65]) + 0 * e([13,65]) + 0 * e([14,65]) + 0 * e([15,65]) + 0 * e([16,65]) + 0 * e([17,65]) + 0 * e([18,65]) + 0 * e([19,65]) + 0 * e([20,65]) + 0 * e([21,65]) + 0 * e([22,65]) + 0 * e([23,65]) + 0 * e([24,65]) + 0 * e([25,65]) + 0 * e([26,65]) + 0 * e([27,65]) + 0 * e([28,65]) + 0 * e([29,65]) + 0 * e([30,65]) + 0 * e([31,65]) + 0 * e([32,65]) + 0 * e([33,65]) + 0 * e([34,65]) + 0 * e([35,65]) + 0 * e([36,65]) + 0 * e([37,65]) + 0 * e([38,65]) + 0 * e([39,65]) + 0 * e([40,65]) + 0 * e([41,65]) + 0 * e([42,65]) + 0 * e([43,65]) + 0 * e([44,65]) + 0 * e([45,65]) + 0 * e([46,65]) + 0 * e([47,65]) + 0 * e([48,65]) + 0 * e([49,65]) + 0 * e([50,65]) + 0 * e([51,65]) + 0 * e([52,65]) + 0 * e([53,65]) + 0 * e([54,65]) + 0 * e([55,65]) + 0 * e([56,65]) + 0 * e([57,65]) + 0 * e([58,65]) + 0 * e([59,65]) + 0 * e([60,65]) + 0 * e([61,65]) + 0 * e([62,65]) + 0 * e([63,65]) + 0 * e([64,65]) + 0 * e([[65,2]]) + 0 * e([66]) + 0 * e([1,66]) + 0 * e([2,66]) + 0 * e([3,66]) + 0 * e([4,66]) + 0 * e([5,66]) + 0 * e([6,66]) + 0 * e([7,66]) + 0 * e([8,66]) + 0 * e([9,66]) + 0 * e([10,66]) + 0 * e([11,66]) + 0 * e([12,66]) + 0 * e([13,66]) + 0 * e([14,66]) + 0 * e([15,66]) + 0 * e([16,66]) + 0 * e([17,66]) + 0 * e([18,66]) + 0 * e([19,66]) + 0 * e([20,66]) + 0 * e([21,66]) + 0 * e([22,66]) + 0 * e([23,66]) + 0 * e([24,66]) + 0 * e([25,66]) + 0 * e([26,66]) + 0 * e([27,66]) + 0 * e([28,66]) + 0 * e([29,66]) + 0 * e([30,66]) + 0 * e([31,66]) + 0 * e([32,66]) + 0 * e([33,66]) + 0 * e([34,66]) + 0 * e([35,66]) + 0 * e([36,66]) + 0 * e([37,66]) + 0 * e([38,66]) + 0 * e([39,66]) + 0 * e([40,66]) + 0 * e([41,66]) + 0 * e([42,66]) + 0 * e([43,66]) + 0 * e([44,66]) + 0 * e([45,66]) + 0 * e([46,66]) + 0 * e([47,66]) + 0 * e([48,66]) + 0 * e([49,66]) + 0 * e([50,66]) + 0 * e([51,66]) + 0 * e([52,66]) + 0 * e([53,66]) + 0 * e([54,66]) + 0 * e([55,66]) + 0 * e([56,66]) + 0 * e([57,66]) + 0 * e([58,66]) + 0 * e([59,66]) + 0 * e([60,66]) + 0 * e([61,66]) + 0 * e([62,66]) + 0 * e([63,66]) + 0 * e([64,66]) + 0 * e([65,66]) + 0 * e([[66,2]]) + 0 * e([67]) + 0 * e([1,67]) + 0 * e([2,67]) + 0 * e([3,67]) + 0 * e([4,67]) + 0 * e([5,67]) + 0 * e([6,67]) + 0 * e([7,67]) + 0 * e([8,67]) + 0 * e([9,67]) + 0 * e([10,67]) + 0 * e([11,67]) + 0 * e([12,67]) + 0 * e([13,67]) + 0 * e([14,67]) + 0 * e([15,67]) + 0 * e([16,67]) + 0 * e([17,67]) + 0 * e([18,67]) + 0 * e([19,67]) + 0 * e([20,67]) + 0 * e([21,67]) + 0 * e([22,67]) + 0 * e([23,67]) + 0 * e([24,67]) + 0 * e([25,67]) + 0 * e([26,67]) + 0 * e([27,67]) + 0 * e([28,67]) + 0 * e([29,67]) + 0 * e([30,67]) + 0 * e([31,67]) + 0 * e([32,67]) + 0 * e([33,67]) + 0 * e([34,67]) + 0 * e([35,67]) + 0 * e([36,67]) + 0 * e([37,67]) + 0 * e([38,67]) + 0 * e([39,67]) + 0 * e([40,67]) + 0 * e([41,67]) + 0 * e([42,67]) + 0 * e([43,67]) + 0 * e([44,67]) + 0 * e([45,67]) + 0 * e([46,67]) + 0 * e([47,67]) + 0 * e([48,67]) + 0 * e([49,67]) + 0 * e([50,67]) + 0 * e([51,67]) + 0 * e([52,67]) + 0 * e([53,67]) + 0 * e([54,67]) + 0 * e([55,67]) + 0 * e([56,67]) + 0 * e([57,67]) + 0 * e([58,67]) + 0 * e([59,67]) + 0 * e([60,67]) + 0 * e([61,67]) + 0 * e([62,67]) + 0 * e([63,67]) + 0 * e([64,67]) + 0 * e([65,67]) + 0 * e([66,67]) + 0 * e([[67,2]]) + 0 * e([68]) + 0 * e([1,68]) + 0 * e([2,68]) + 0 * e([3,68]) + 0 * e([4,68]) + 0 * e([5,68]) + 0 * e([6,68]) + 0 * e([7,68]) + 0 * e([8,68]) + 0 * e([9,68]) + 0 * e([10,68]) + 0 * e([11,68]) + 0 * e([12,68]) + 0 * e([13,68]) + 0 * e([14,68]) + 0 * e([15,68]) + 0 * e([16,68]) + 0 * e([17,68]) + 0 * e([18,68]) + 0 * e([19,68]) + 0 * e([20,68]) + 0 * e([21,68]) + 0 * e([22,68]) + 0 * e([23,68]) + 0 * e([24,68]) + 0 * e([25,68]) + 0 * e([26,68]) + 0 * e([27,68]) + 0 * e([28,68]) + 0 * e([29,68]) + 0 * e([30,68]) + 0 * e([31,68]) + 0 * e([32,68]) + 0 * e([33,68]) + 0 * e([34,68]) + 0 * e([35,68]) + 0 * e([36,68]) + 0 * e([37,68]) + 0 * e([38,68]) + 0 * e([39,68]) + 0 * e([40,68]) + 0 * e([41,68]) + 0 * e([42,68]) + 0 * e([43,68]) + 0 * e([44,68]) + 0 * e([45,68]) + 0 * e([46,68]) + 0 * e([47,68]) + 0 * e([48,68]) + 0 * e([49,68]) + 0 * e([50,68]) + 0 * e([51,68]) + 0 * e([52,68]) + 0 * e([53,68]) + 0 * e([54,68]) + 0 * e([55,68]) + 0 * e([56,68]) + 0 * e([57,68]) + 0 * e([58,68]) + 0 * e([59,68]) + 0 * e([60,68]) + 0 * e([61,68]) + 0 * e([62,68]) + 0 * e([63,68]) + 0 * e([64,68]) + 0 * e([65,68]) + 0 * e([66,68]) + 0 * e([67,68]) + 0 * e([[68,2]]) + 0 * e([69]) + 0 * e([1,69]) + 0 * e([2,69]) + 0 * e([3,69]) + 0 * e([4,69]) + 0 * e([5,69]) + 0 * e([6,69]) + 0 * e([7,69]) + 0 * e([8,69]) + 0 * e([9,69]) + 0 * e([10,69]) + 0 * e([11,69]) + 0 * e([12,69]) + 0 * e([13,69]) + 0 * e([14,69]) + 0 * e([15,69]) + 0 * e([16,69]) + 0 * e([17,69]) + 0 * e([18,69]) + 0 * e([19,69]) + 0 * e([20,69]) + 0 * e([21,69]) + 0 * e([22,69]) + 0 * e([23,69]) + 0 * e([24,69]) + 0 * e([25,69]) + 0 * e([26,69]) + 0 * e([27,69]) + 0 * e([28,69]) + 0 * e([29,69]) + 0 * e([30,69]) + 0 * e([31,69]) + 0 * e([32,69]) + 0 * e([33,69]) + 0 * e([34,69]) + 0 * e([35,69]) + 0 * e([36,69]) + 0 * e([37,69]) + 0 * e([38,69]) + 0 * e([39,69]) + 0 * e([40,69]) + 0 * e([41,69]) + 0 * e([42,69]) + 0 * e([43,69]) + 0 * e([44,69]) + 0 * e([45,69]) + 0 * e([46,69]) + 0 * e([47,69]) + 0 * e([48,69]) + 0 * e([49,69]) + 0 * e([50,69]) + 0 * e([51,69]) + 0 * e([52,69]) + 0 * e([53,69]) + 0 * e([54,69]) + 0 * e([55,69]) + 0 * e([56,69]) + 0 * e([57,69]) + 0 * e([58,69]) + 0 * e([59,69]) + 0 * e([60,69]) + 0 * e([61,69]) + 0 * e([62,69]) + 0 * e([63,69]) + 0 * e([64,69]) + 0 * e([65,69]) + 0 * e([66,69]) + 0 * e([67,69]) + 0 * e([68,69]) + 0 * e([[69,2]]) + 0 * e([70]) + 0 * e([1,70]) + 0 * e([2,70]) + 0 * e([3,70]) + 0 * e([4,70]) + 0 * e([5,70]) + 0 * e([6,70]) + 0 * e([7,70]) + 0 * e([8,70]) + 0 * e([9,70]) + 0 * e([10,70]) + 0 * e([11,70]) + 0 * e([12,70]) + 0 * e([13,70]) + 0 * e([14,70]) + 0 * e([15,70]) + 0 * e([16,70]) + 0 * e([17,70]) + 0 * e([18,70]) + 0 * e([19,70]) + 0 * e([20,70]) + 0 * e([21,70]) + 0 * e([22,70]) + 0 * e([23,70]) + 0 * e([24,70]) + 0 * e([25,70]) + 0 * e([26,70]) + 0 * e([27,70]) + 0 * e([28,70]) + 0 * e([29,70]) + 0 * e([30,70]) + 0 * e([31,70]) + 0 * e([32,70]) + 0 * e([33,70]) + 0 * e([34,70]) + 0 * e([35,70]) + 0 * e([36,70]) + 0 * e([37,70]) + 0 * e([38,70]) + 0 * e([39,70]) + 0 * e([40,70]) + 0 * e([41,70]) + 0 * e([42,70]) + 0 * e([43,70]) + 0 * e([44,70]) + 0 * e([45,70]) + 0 * e([46,70]) + 0 * e([47,70]) + 0 * e([48,70]) + 0 * e([49,70]) + 0 * e([50,70]) + 0 * e([51,70]) + 0 * e([52,70]) + 0 * e([53,70]) + 0 * e([54,70]) + 0 * e([55,70]) + 0 * e([56,70]) + 0 * e([57,70]) + 0 * e([58,70]) + 0 * e([59,70]) + 0 * e([60,70]) + 0 * e([61,70]) + 0 * e([62,70]) + 0 * e([63,70]) + 0 * e([64,70]) + 0 * e([65,70]) + 0 * e([66,70]) + 0 * e([67,70]) + 0 * e([68,70]) + 0 * e([69,70]) + 0 * e([[70,2]]) + 0 * e([71]) + 0 * e([1,71]) + 0 * e([2,71]) + 0 * e([3,71]) + 0 * e([4,71]) + 0 * e([5,71]) + 0 * e([6,71]) + 0 * e([7,71]) + 0 * e([8,71]) + 0 * e([9,71]) + 0 * e([10,71]) + 0 * e([11,71]) + 0 * e([12,71]) + 0 * e([13,71]) + 0 * e([14,71]) + 0 * e([15,71]) + 0 * e([16,71]) + 0 * e([17,71]) + 0 * e([18,71]) + 0 * e([19,71]) + 0 * e([20,71]) + 0 * e([21,71]) + 0 * e([22,71]) + 0 * e([23,71]) + 0 * e([24,71]) + 0 * e([25,71]) + 0 * e([26,71]) + 0 * e([27,71]) + 0 * e([28,71]) + 0 * e([29,71]) + 0 * e([30,71]) + 0 * e([31,71]) + 0 * e([32,71]) + 0 * e([33,71]) + 0 * e([34,71]) + 0 * e([35,71]) + 0 * e([36,71]) + 0 * e([37,71]) + 0 * e([38,71]) + 0 * e([39,71]) + 0 * e([40,71]) + 0 * e([41,71]) + 0 * e([42,71]) + 0 * e([43,71]) + 0 * e([44,71]) + 0 * e([45,71]) + 0 * e([46,71]) + 0 * e([47,71]) + 0 * e([48,71]) + 0 * e([49,71]) + 0 * e([50,71]) + 0 * e([51,71]) + 0 * e([52,71]) + 0 * e([53,71]) + 0 * e([54,71]) + 0 * e([55,71]) + 0 * e([56,71]) + 0 * e([57,71]) + 0 * e([58,71]) + 0 * e([59,71]) + 0 * e([60,71]) + 0 * e([61,71]) + 0 * e([62,71]) + 0 * e([63,71]) + 0 * e([64,71]) + 0 * e([65,71]) + 0 * e([66,71]) + 0 * e([67,71]) + 0 * e([68,71]) + 0 * e([69,71]) + 0 * e([70,71]) + 0 * e([[71,2]]) + 0 * e([72]) + 0 * e([1,72]) + 0 * e([2,72]) + 0 * e([3,72]) + 0 * e([4,72]) + 0 * e([5,72]) + 0 * e([6,72]) + 0 * e([7,72]) + 0 * e([8,72]) + 0 * e([9,72]) + 0 * e([10,72]) + 0 * e([11,72]) + 0 * e([12,72]) + 0 * e([13,72]) + 0 * e([14,72]) + 0 * e([15,72]) + 0 * e([16,72]) + 0 * e([17,72]) + 0 * e([18,72]) + 0 * e([19,72]) + 0 * e([20,72]) + 0 * e([21,72]) + 0 * e([22,72]) + 0 * e([23,72]) + 0 * e([24,72]) + 0 * e([25,72]) + 0 * e([26,72]) + 0 * e([27,72]) + 0 * e([28,72]) + 0 * e([29,72]) + 0 * e([30,72]) + 0 * e([31,72]) + 0 * e([32,72]) + 0 * e([33,72]) + 0 * e([34,72]) + 0 * e([35,72]) + 0 * e([36,72]) + 0 * e([37,72]) + 0 * e([38,72]) + 0 * e([39,72]) + 0 * e([40,72]) + 0 * e([41,72]) + 0 * e([42,72]) + 0 * e([43,72]) + 0 * e([44,72]) + 0 * e([45,72]) + 0 * e([46,72]) + 0 * e([47,72]) + 0 * e([48,72]) + 0 * e([49,72]) + 0 * e([50,72]) + 0 * e([51,72]) + 0 * e([52,72]) + 0 * e([53,72]) + 0 * e([54,72]) + 0 * e([55,72]) + 0 * e([56,72]) + 0 * e([57,72]) + 0 * e([58,72]) + 0 * e([59,72]) + 0 * e([60,72]) + 0 * e([61,72]) + 0 * e([62,72]) + 0 * e([63,72]) + 0 * e([64,72]) + 0 * e([65,72]) + 0 * e([66,72]) + 0 * e([67,72]) + 0 * e([68,72]) + 0 * e([69,72]) + 0 * e([70,72]) + 0 * e([71,72]) + 0 * e([[72,2]]) + 0 * e([73]) + 0 * e([1,73]) + 0 * e([2,73]) + 0 * e([3,73]) + 0 * e([4,73]) + 0 * e([5,73]) + 0 * e([6,73]) + 0 * e([7,73]) + 0 * e([8,73]) + 0 * e([9,73]) + 0 * e([10,73]) + 0 * e([11,73]) + 0 * e([12,73]) + 0 * e([13,73]) + 0 * e([14,73]) + 0 * e([15,73]) + 0 * e([16,73]) + 0 * e([17,73]) + 0 * e([18,73]) + 0 * e([19,73]) + 0 * e([20,73]) + 0 * e([21,73]) + 0 * e([22,73]) + 0 * e([23,73]) + 0 * e([24,73]) + 0 * e([25,73]) + 0 * e([26,73]) + 0 * e([27,73]) + 0 * e([28,73]) + 0 * e([29,73]) + 0 * e([30,73]) + 0 * e([31,73]) + 0 * e([32,73]) + 0 * e([33,73]) + 0 * e([34,73]) + 0 * e([35,73]) + 0 * e([36,73]) + 0 * e([37,73]) + 0 * e([38,73]) + 0 * e([39,73]) + 0 * e([40,73]) + 0 * e([41,73]) + 0 * e([42,73]) + 0 * e([43,73]) + 0 * e([44,73]) + 0 * e([45,73]) + 0 * e([46,73]) + 0 * e([47,73]) + 0 * e([48,73]) + 0 * e([49,73]) + 0 * e([50,73]) + 0 * e([51,73]) + 0 * e([52,73]) + 0 * e([53,73]) + 0 * e([54,73]) + 0 * e([55,73]) + 0 * e([56,73]) + 0 * e([57,73]) + 0 * e([58,73]) + 0 * e([59,73]) + 0 * e([60,73]) + 0 * e([61,73]) + 0 * e([62,73]) + 0 * e([63,73]) + 0 * e([64,73]) + 0 * e([65,73]) + 0 * e([66,73]) + 0 * e([67,73]) + 0 * e([68,73]) + 0 * e([69,73]) + 0 * e([70,73]) + 0 * e([71,73]) + 0 * e([72,73]) + 0 * e([[73,2]]) + 0 * e([74]) + 0 * e([1,74]) + 0 * e([2,74]) + 0 * e([3,74]) + 0 * e([4,74]) + 0 * e([5,74]) + 0 * e([6,74]) + 0 * e([7,74]) + 0 * e([8,74]) + 0 * e([9,74]) + 0 * e([10,74]) + 0 * e([11,74]) + 0 * e([12,74]) + 0 * e([13,74]) + 0 * e([14,74]) + 0 * e([15,74]) + 0 * e([16,74]) + 0 * e([17,74]) + 0 * e([18,74]) + 0 * e([19,74]) + 0 * e([20,74]) + 0 * e([21,74]) + 0 * e([22,74]) + 0 * e([23,74]) + 0 * e([24,74]) + 0 * e([25,74]) + 0 * e([26,74]) + 0 * e([27,74]) + 0 * e([28,74]) + 0 * e([29,74]) + 0 * e([30,74]) + 0 * e([31,74]) + 0 * e([32,74]) + 0 * e([33,74]) + 0 * e([34,74]) + 0 * e([35,74]) + 0 * e([36,74]) + 0 * e([37,74]) + 0 * e([38,74]) + 0 * e([39,74]) + 0 * e([40,74]) + 0 * e([41,74]) + 0 * e([42,74]) + 0 * e([43,74]) + 0 * e([44,74]) + 0 * e([45,74]) + 0 * e([46,74]) + 0 * e([47,74]) + 0 * e([48,74]) + 0 * e([49,74]) + 0 * e([50,74]) + 0 * e([51,74]) + 0 * e([52,74]) + 0 * e([53,74]) + 0 * e([54,74]) + 0 * e([55,74]) + 0 * e([56,74]) + 0 * e([57,74]) + 0 * e([58,74]) + 0 * e([59,74]) + 0 * e([60,74]) + 0 * e([61,74]) + 0 * e([62,74]) + 0 * e([63,74]) + 0 * e([64,74]) + 0 * e([65,74]) + 0 * e([66,74]) + 0 * e([67,74]) + 0 * e([68,74]) + 0 * e([69,74]) + 0 * e([70,74]) + 0 * e([71,74]) + 0 * e([72,74]) + 0 * e([73,74]) + 0 * e([[74,2]]) + 0 * e([75]) + 0 * e([1,75]) + 0 * e([2,75]) + 0 * e([3,75]) + 0 * e([4,75]) + 0 * e([5,75]) + 0 * e([6,75]) + 0 * e([7,75]) + 0 * e([8,75]) + 0 * e([9,75]) + 0 * e([10,75]) + 0 * e([11,75]) + 0 * e([12,75]) + 0 * e([13,75]) + 0 * e([14,75]) + 0 * e([15,75]) + 0 * e([16,75]) + 0 * e([17,75]) + 0 * e([18,75]) + 0 * e([19,75]) + 0 * e([20,75]) + 0 * e([21,75]) + 0 * e([22,75]) + 0 * e([23,75]) + 0 * e([24,75]) + 0 * e([25,75]) + 0 * e([26,75]) + 0 * e([27,75]) + 0 * e([28,75]) + 0 * e([29,75]) + 0 * e([30,75]) + 0 * e([31,75]) + 0 * e([32,75]) + 0 * e([33,75]) + 0 * e([34,75]) + 0 * e([35,75]) + 0 * e([36,75]) + 0 * e([37,75]) + 0 * e([38,75]) + 0 * e([39,75]) + 0 * e([40,75]) + 0 * e([41,75]) + 0 * e([42,75]) + 0 * e([43,75]) + 0 * e([44,75]) + 0 * e([45,75]) + 0 * e([46,75]) + 0 * e([47,75]) + 0 * e([48,75]) + 0 * e([49,75]) + 0 * e([50,75]) + 0 * e([51,75]) + 0 * e([52,75]) + 0 * e([53,75]) + 0 * e([54,75]) + 0 * e([55,75]) + 0 * e([56,75]) + 0 * e([57,75]) + 0 * e([58,75]) + 0 * e([59,75]) + 0 * e([60,75]) + 0 * e([61,75]) + 0 * e([62,75]) + 0 * e([63,75]) + 0 * e([64,75]) + 0 * e([65,75]) + 0 * e([66,75]) + 0 * e([67,75]) + 0 * e([68,75]) + 0 * e([69,75]) + 0 * e([70,75]) + 0 * e([71,75]) + 0 * e([72,75]) + 0 * e([73,75]) + 0 * e([74,75]) + 0 * e([[75,2]]) + 0 * e([76]) + 0 * e([1,76]) + 0 * e([2,76]) + 0 * e([3,76]) + 0 * e([4,76]) + 0 * e([5,76]) + 0 * e([6,76]) + 0 * e([7,76]) + 0 * e([8,76]) + 0 * e([9,76]) + 0 * e([10,76]) + 0 * e([11,76]) + 0 * e([12,76]) + 0 * e([13,76]) + 0 * e([14,76]) + 0 * e([15,76]) + 0 * e([16,76]) + 0 * e([17,76]) + 0 * e([18,76]) + 0 * e([19,76]) + 0 * e([20,76]) + 0 * e([21,76]) + 0 * e([22,76]) + 0 * e([23,76]) + 0 * e([24,76]) + 0 * e([25,76]) + 0 * e([26,76]) + 0 * e([27,76]) + 0 * e([28,76]) + 0 * e([29,76]) + 0 * e([30,76]) + 0 * e([31,76]) + 0 * e([32,76]) + 0 * e([33,76]) + 0 * e([34,76]) + 0 * e([35,76]) + 0 * e([36,76]) + 0 * e([37,76]) + 0 * e([38,76]) + 0 * e([39,76]) + 0 * e([40,76]) + 0 * e([41,76]) + 0 * e([42,76]) + 0 * e([43,76]) + 0 * e([44,76]) + 0 * e([45,76]) + 0 * e([46,76]) + 0 * e([47,76]) + 0 * e([48,76]) + 0 * e([49,76]) + 0 * e([50,76]) + 0 * e([51,76]) + 0 * e([52,76]) + 0 * e([53,76]) + 0 * e([54,76]) + 0 * e([55,76]) + 0 * e([56,76]) + 0 * e([57,76]) + 0 * e([58,76]) + 0 * e([59,76]) + 0 * e([60,76]) + 0 * e([61,76]) + 0 * e([62,76]) + 0 * e([63,76]) + 0 * e([64,76]) + 0 * e([65,76]) + 0 * e([66,76]) + 0 * e([67,76]) + 0 * e([68,76]) + 0 * e([69,76]) + 0 * e([70,76]) + 0 * e([71,76]) + 0 * e([72,76]) + 0 * e([73,76]) + 0 * e([74,76]) + 0 * e([75,76]) + 0 * e([[76,2]]) + 0 * e([77]) + 0 * e([1,77]) + 0 * e([2,77]) + 0 * e([3,77]) + 0 * e([4,77]) + 0 * e([5,77]) + 0 * e([6,77]) + 0 * e([7,77]) + 0 * e([8,77]) + 0 * e([9,77]) + 0 * e([10,77]) + 0 * e([11,77]) + 0 * e([12,77]) + 0 * e([13,77]) + 0 * e([14,77]) + 0 * e([15,77]) + 0 * e([16,77]) + 0 * e([17,77]) + 0 * e([18,77]) + 0 * e([19,77]) + 0 * e([20,77]) + 0 * e([21,77]) + 0 * e([22,77]) + 0 * e([23,77]) + 0 * e([24,77]) + 0 * e([25,77]) + 0 * e([26,77]) + 0 * e([27,77]) + 0 * e([28,77]) + 0 * e([29,77]) + 0 * e([30,77]) + 0 * e([31,77]) + 0 * e([32,77]) + 0 * e([33,77]) + 0 * e([34,77]) + 0 * e([35,77]) + 0 * e([36,77]) + 0 * e([37,77]) + 0 * e([38,77]) + 0 * e([39,77]) + 0 * e([40,77]) + 0 * e([41,77]) + 0 * e([42,77]) + 0 * e([43,77]) + 0 * e([44,77]) + 0 * e([45,77]) + 0 * e([46,77]) + 0 * e([47,77]) + 0 * e([48,77]) + 0 * e([49,77]) + 0 * e([50,77]) + 0 * e([51,77]) + 0 * e([52,77]) + 0 * e([53,77]) + 0 * e([54,77]) + 0 * e([55,77]) + 0 * e([56,77]) + 0 * e([57,77]) + 0 * e([58,77]) + 0 * e([59,77]) + 0 * e([60,77]) + 0 * e([61,77]) + 0 * e([62,77]) + 0 * e([63,77]) + 0 * e([64,77]) + 0 * e([65,77]) + 0 * e([66,77]) + 0 * e([67,77]) + 0 * e([68,77]) + 0 * e([69,77]) + 0 * e([70,77]) + 0 * e([71,77]) + 0 * e([72,77]) + 0 * e([73,77]) + 0 * e([74,77]) + 0 * e([75,77]) + 0 * e([76,77]) + 0 * e([[77,2]]) + 0 * e([78]) + 0 * e([1,78]) + 0 * e([2,78]) + 0 * e([3,78]) + 0 * e([4,78]) + 0 * e([5,78]) + 0 * e([6,78]) + 0 * e([7,78]) + 0 * e([8,78]) + 0 * e([9,78]) + 0 * e([10,78]) + 0 * e([11,78]) + 0 * e([12,78]) + 0 * e([13,78]) + 0 * e([14,78]) + 0 * e([15,78]) + 0 * e([16,78]) + 0 * e([17,78]) + 0 * e([18,78]) + 0 * e([19,78]) + 0 * e([20,78]) + 0 * e([21,78]) + 0 * e([22,78]) + 0 * e([23,78]) + 0 * e([24,78]) + 0 * e([25,78]) + 0 * e([26,78]) + 0 * e([27,78]) + 0 * e([28,78]) + 0 * e([29,78]) + 0 * e([30,78]) + 0 * e([31,78]) + 0 * e([32,78]) + 0 * e([33,78]) + 0 * e([34,78]) + 0 * e([35,78]) + 0 * e([36,78]) + 0 * e([37,78]) + 0 * e([38,78]) + 0 * e([39,78]) + 0 * e([40,78]) + 0 * e([41,78]) + 0 * e([42,78]) + 0 * e([43,78]) + 0 * e([44,78]) + 0 * e([45,78]) + 0 * e([46,78]) + 0 * e([47,78]) + 0 * e([48,78]) + 0 * e([49,78]) + 0 * e([50,78]) + 0 * e([51,78]) + 0 * e([52,78]) + 0 * e([53,78]) + 0 * e([54,78]) + 0 * e([55,78]) + 0 * e([56,78]) + 0 * e([57,78]) + 0 * e([58,78]) + 0 * e([59,78]) + 0 * e([60,78]) + 0 * e([61,78]) + 0 * e([62,78]) + 0 * e([63,78]) + 0 * e([64,78]) + 0 * e([65,78]) + 0 * e([66,78]) + 0 * e([67,78]) + 0 * e([68,78]) + 0 * e([69,78]) + 0 * e([70,78]) + 0 * e([71,78]) + 0 * e([72,78]) + 0 * e([73,78]) + 0 * e([74,78]) + 0 * e([75,78]) + 0 * e([76,78]) + 0 * e([77,78]) + 0 * e([[78,2]]) + 0 * e([79]) + 0 * e([1,79]) + 0 * e([2,79]) + 0 * e([3,79]) + 0 * e([4,79]) + 0 * e([5,79]) + 0 * e([6,79]) + 0 * e([7,79]) + 0 * e([8,79]) + 0 * e([9,79]) + 0 * e([10,79]) + 0 * e([11,79]) + 0 * e([12,79]) + 0 * e([13,79]) + 0 * e([14,79]) + 0 * e([15,79]) + 0 * e([16,79]) + 0 * e([17,79]) + 0 * e([18,79]) + 0 * e([19,79]) + 0 * e([20,79]) + 0 * e([21,79]) + 0 * e([22,79]) + 0 * e([23,79]) + 0 * e([24,79]) + 0 * e([25,79]) + 0 * e([26,79]) + 0 * e([27,79]) + 0 * e([28,79]) + 0 * e([29,79]) + 0 * e([30,79]) + 0 * e([31,79]) + 0 * e([32,79]) + 0 * e([33,79]) + 0 * e([34,79]) + 0 * e([35,79]) + 0 * e([36,79]) + 0 * e([37,79]) + 0 * e([38,79]) + 0 * e([39,79]) + 0 * e([40,79]) + 0 * e([41,79]) + 0 * e([42,79]) + 0 * e([43,79]) + 0 * e([44,79]) + 0 * e([45,79]) + 0 * e([46,79]) + 0 * e([47,79]) + 0 * e([48,79]) + 0 * e([49,79]) + 0 * e([50,79]) + 0 * e([51,79]) + 0 * e([52,79]) + 0 * e([53,79]) + 0 * e([54,79]) + 0 * e([55,79]) + 0 * e([56,79]) + 0 * e([57,79]) + 0 * e([58,79]) + 0 * e([59,79]) + 0 * e([60,79]) + 0 * e([61,79]) + 0 * e([62,79]) + 0 * e([63,79]) + 0 * e([64,79]) + 0 * e([65,79]) + 0 * e([66,79]) + 0 * e([67,79]) + 0 * e([68,79]) + 0 * e([69,79]) + 0 * e([70,79]) + 0 * e([71,79]) + 0 * e([72,79]) + 0 * e([73,79]) + 0 * e([74,79]) + 0 * e([75,79]) + 0 * e([76,79]) + 0 * e([77,79]) + 0 * e([78,79]) + 0 * e([[79,2]]) + 0 * e([80]) + 0 * e([1,80]) + 0 * e([2,80]) + 0 * e([3,80]) + 0 * e([4,80]) + 0 * e([5,80]) + 0 * e([6,80]) + 0 * e([7,80]) + 0 * e([8,80]) + 0 * e([9,80]) + 0 * e([10,80]) + 0 * e([11,80]) + 0 * e([12,80]) + 0 * e([13,80]) + 0 * e([14,80]) + 0 * e([15,80]) + 0 * e([16,80]) + 0 * e([17,80]) + 0 * e([18,80]) + 0 * e([19,80]) + 0 * e([20,80]) + 0 * e([21,80]) + 0 * e([22,80]) + 0 * e([23,80]) + 0 * e([24,80]) + 0 * e([25,80]) + 0 * e([26,80]) + 0 * e([27,80]) + 0 * e([28,80]) + 0 * e([29,80]) + 0 * e([30,80]) + 0 * e([31,80]) + 0 * e([32,80]) + 0 * e([33,80]) + 0 * e([34,80]) + 0 * e([35,80]) + 0 * e([36,80]) + 0 * e([37,80]) + 0 * e([38,80]) + 0 * e([39,80]) + 0 * e([40,80]) + 0 * e([41,80]) + 0 * e([42,80]) + 0 * e([43,80]) + 0 * e([44,80]) + 0 * e([45,80]) + 0 * e([46,80]) + 0 * e([47,80]) + 0 * e([48,80]) + 0 * e([49,80]) + 0 * e([50,80]) + 0 * e([51,80]) + 0 * e([52,80]) + 0 * e([53,80]) + 0 * e([54,80]) + 0 * e([55,80]) + 0 * e([56,80]) + 0 * e([57,80]) + 0 * e([58,80]) + 0 * e([59,80]) + 0 * e([60,80]) + 0 * e([61,80]) + 0 * e([62,80]) + 0 * e([63,80]) + 0 * e([64,80]) + 0 * e([65,80]) + 0 * e([66,80]) + 0 * e([67,80]) + 0 * e([68,80]) + 0 * e([69,80]) + 0 * e([70,80]) + 0 * e([71,80]) + 0 * e([72,80]) + 0 * e([73,80]) + 0 * e([74,80]) + 0 * e([75,80]) + 0 * e([76,80]) + 0 * e([77,80]) + 0 * e([78,80]) + 0 * e([79,80]) + 0 * e([[80,2]]) + 0 * e([81]) + 0 * e([1,81]) + 0 * e([2,81]) + 0 * e([3,81]) + 0 * e([4,81]) + 0 * e([5,81]) + 0 * e([6,81]) + 0 * e([7,81]) + 0 * e([8,81]) + 0 * e([9,81]) + 0 * e([10,81]) + 0 * e([11,81]) + 0 * e([12,81]) + 0 * e([13,81]) + 0 * e([14,81]) + 0 * e([15,81]) + 0 * e([16,81]) + 0 * e([17,81]) + 0 * e([18,81]) + 0 * e([19,81]) + 0 * e([20,81]) + 0 * e([21,81]) + 0 * e([22,81]) + 0 * e([23,81]) + 0 * e([24,81]) + 0 * e([25,81]) + 0 * e([26,81]) + 0 * e([27,81]) + 0 * e([28,81]) + 0 * e([29,81]) + 0 * e([30,81]) + 0 * e([31,81]) + 0 * e([32,81]) + 0 * e([33,81]) + 0 * e([34,81]) + 0 * e([35,81]) + 0 * e([36,81]) + 0 * e([37,81]) + 0 * e([38,81]) + 0 * e([39,81]) + 0 * e([40,81]) + 0 * e([41,81]) + 0 * e([42,81]) + 0 * e([43,81]) + 0 * e([44,81]) + 0 * e([45,81]) + 0 * e([46,81]) + 0 * e([47,81]) + 0 * e([48,81]) + 0 * e([49,81]) + 0 * e([50,81]) + 0 * e([51,81]) + 0 * e([52,81]) + 0 * e([53,81]) + 0 * e([54,81]) + 0 * e([55,81]) + 0 * e([56,81]) + 0 * e([57,81]) + 0 * e([58,81]) + 0 * e([59,81]) + 0 * e([60,81]) + 0 * e([61,81]) + 0 * e([62,81]) + 0 * e([63,81]) + 0 * e([64,81]) + 0 * e([65,81]) + 0 * e([66,81]) + 0 * e([67,81]) + 0 * e([68,81]) + 0 * e([69,81]) + 0 * e([70,81]) + 0 * e([71,81]) + 0 * e([72,81]) + 0 * e([73,81]) + 0 * e([74,81]) + 0 * e([75,81]) + 0 * e([76,81]) + 0 * e([77,81]) + 0 * e([78,81]) + 0 * e([79,81]) + 0 * e([80,81]) + 0 * e([[81,2]]) + 0 * e([82]) + 0 * e([1,82]) + 0 * e([2,82]) + 0 * e([3,82]) + 0 * e([4,82]) + 0 * e([5,82]) + 0 * e([6,82]) + 0 * e([7,82]) + 0 * e([8,82]) + 0 * e([9,82]) + 0 * e([10,82]) + 0 * e([11,82]) + 0 * e([12,82]) + 0 * e([13,82]) + 0 * e([14,82]) + 0 * e([15,82]) + 0 * e([16,82]) + 0 * e([17,82]) + 0 * e([18,82]) + 0 * e([19,82]) + 0 * e([20,82]) + 0 * e([21,82]) + 0 * e([22,82]) + 0 * e([23,82]) + 0 * e([24,82]) + 0 * e([25,82]) + 0 * e([26,82]) + 0 * e([27,82]) + 0 * e([28,82]) + 0 * e([29,82]) + 0 * e([30,82]) + 0 * e([31,82]) + 0 * e([32,82]) + 0 * e([33,82]) + 0 * e([34,82]) + 0 * e([35,82]) + 0 * e([36,82]) + 0 * e([37,82]) + 0 * e([38,82]) + 0 * e([39,82]) + 0 * e([40,82]) + 0 * e([41,82]) + 0 * e([42,82]) + 0 * e([43,82]) + 0 * e([44,82]) + 0 * e([45,82]) + 0 * e([46,82]) + 0 * e([47,82]) + 0 * e([48,82]) + 0 * e([49,82]) + 0 * e([50,82]) + 0 * e([51,82]) + 0 * e([52,82]) + 0 * e([53,82]) + 0 * e([54,82]) + 0 * e([55,82]) + 0 * e([56,82]) + 0 * e([57,82]) + 0 * e([58,82]) + 0 * e([59,82]) + 0 * e([60,82]) + 0 * e([61,82]) + 0 * e([62,82]) + 0 * e([63,82]) + 0 * e([64,82]) + 0 * e([65,82]) + 0 * e([66,82]) + 0 * e([67,82]) + 0 * e([68,82]) + 0 * e([69,82]) + 0 * e([70,82]) + 0 * e([71,82]) + 0 * e([72,82]) + 0 * e([73,82]) + 0 * e([74,82]) + 0 * e([75,82]) + 0 * e([76,82]) + 0 * e([77,82]) + 0 * e([78,82]) + 0 * e([79,82]) + 0 * e([80,82]) + 0 * e([81,82]) + 0 * e([[82,2]]) + 0 * e([83]) + 0 * e([1,83]) + 0 * e([2,83]) + 0 * e([3,83]) + 0 * e([4,83]) + 0 * e([5,83]) + 0 * e([6,83]) + 0 * e([7,83]) + 0 * e([8,83]) + 0 * e([9,83]) + 0 * e([10,83]) + 0 * e([11,83]) + 0 * e([12,83]) + 0 * e([13,83]) + 0 * e([14,83]) + 0 * e([15,83]) + 0 * e([16,83]) + 0 * e([17,83]) + 0 * e([18,83]) + 0 * e([19,83]) + 0 * e([20,83]) + 0 * e([21,83]) + 0 * e([22,83]) + 0 * e([23,83]) + 0 * e([24,83]) + 0 * e([25,83]) + 0 * e([26,83]) + 0 * e([27,83]) + 0 * e([28,83]) + 0 * e([29,83]) + 0 * e([30,83]) + 0 * e([31,83]) + 0 * e([32,83]) + 0 * e([33,83]) + 0 * e([34,83]) + 0 * e([35,83]) + 0 * e([36,83]) + 0 * e([37,83]) + 0 * e([38,83]) + 0 * e([39,83]) + 0 * e([40,83]) + 0 * e([41,83]) + 0 * e([42,83]) + 0 * e([43,83]) + 0 * e([44,83]) + 0 * e([45,83]) + 0 * e([46,83]) + 0 * e([47,83]) + 0 * e([48,83]) + 0 * e([49,83]) + 0 * e([50,83]) + 0 * e([51,83]) + 0 * e([52,83]) + 0 * e([53,83]) + 0 * e([54,83]) + 0 * e([55,83]) + 0 * e([56,83]) + 0 * e([57,83]) + 0 * e([58,83]) + 0 * e([59,83]) + 0 * e([60,83]) + 0 * e([61,83]) + 0 * e([62,83]) + 0 * e([63,83]) + 0 * e([64,83]) + 0 * e([65,83]) + 0 * e([66,83]) + 0 * e([67,83]) + 0 * e([68,83]) + 0 * e([69,83]) + 0 * e([70,83]) + 0 * e([71,83]) + 0 * e([72,83]) + 0 * e([73,83]) + 0 * e([74,83]) + 0 * e([75,83]) + 0 * e([76,83]) + 0 * e([77,83]) + 0 * e([78,83]) + 0 * e([79,83]) + 0 * e([80,83]) + 0 * e([81,83]) + 0 * e([82,83]) + 0 * e([[83,2]]) + 0 * e([84]) + 0 * e([1,84]) + 0 * e([2,84]) + 0 * e([3,84]) + 0 * e([4,84]) + 0 * e([5,84]) + 0 * e([6,84]) + 0 * e([7,84]) + 0 * e([8,84]) + 0 * e([9,84]) + 0 * e([10,84]) + 0 * e([11,84]) + 0 * e([12,84]) + 0 * e([13,84]) + 0 * e([14,84]) + 0 * e([15,84]) + 0 * e([16,84]) + 0 * e([17,84]) + 0 * e([18,84]) + 0 * e([19,84]) + 0 * e([20,84]) + 0 * e([21,84]) + 0 * e([22,84]) + 0 * e([23,84]) + 0 * e([24,84]) + 0 * e([25,84]) + 0 * e([26,84]) + 0 * e([27,84]) + 0 * e([28,84]) + 0 * e([29,84]) + 0 * e([30,84]) + 0 * e([31,84]) + 0 * e([32,84]) + 0 * e([33,84]) + 0 * e([34,84]) + 0 * e([35,84]) + 0 * e([36,84]) + 0 * e([37,84]) + 0 * e([38,84]) + 0 * e([39,84]) + 0 * e([40,84]) + 0 * e([41,84]) + 0 * e([42,84]) + 0 * e([43,84]) + 0 * e([44,84]) + 0 * e([45,84]) + 0 * e([46,84]) + 0 * e([47,84]) + 0 * e([48,84]) + 0 * e([49,84]) + 0 * e([50,84]) + 0 * e([51,84]) + 0 * e([52,84]) + 0 * e([53,84]) + 0 * e([54,84]) + 0 * e([55,84]) + 0 * e([56,84]) + 0 * e([57,84]) + 0 * e([58,84]) + 0 * e([59,84]) + 0 * e([60,84]) + 0 * e([61,84]) + 0 * e([62,84]) + 0 * e([63,84]) + 0 * e([64,84]) + 0 * e([65,84]) + 0 * e([66,84]) + 0 * e([67,84]) + 0 * e([68,84]) + 0 * e([69,84]) + 0 * e([70,84]) + 0 * e([71,84]) + 0 * e([72,84]) + 0 * e([73,84]) + 0 * e([74,84]) + 0 * e([75,84]) + 0 * e([76,84]) + 0 * e([77,84]) + 0 * e([78,84]) + 0 * e([79,84]) + 0 * e([80,84]) + 0 * e([81,84]) + 0 * e([82,84]) + 0 * e([83,84]) + 0 * e([[84,2]]) + 0 * e([85]) + 0 * e([1,85]) + 0 * e([2,85]) + 0 * e([3,85]) + 0 * e([4,85]) + 0 * e([5,85]) + 0 * e([6,85]) + 0 * e([7,85]) + 0 * e([8,85]) + 0 * e([9,85]) + 0 * e([10,85]) + 0 * e([11,85]) + 0 * e([12,85]) + 0 * e([13,85]) + 0 * e([14,85]) + 0 * e([15,85]) + 0 * e([16,85]) + 0 * e([17,85]) + 0 * e([18,85]) + 0 * e([19,85]) + 0 * e([20,85]) + 0 * e([21,85]) + 0 * e([22,85]) + 0 * e([23,85]) + 0 * e([24,85]) + 0 * e([25,85]) + 0 * e([26,85]) + 0 * e([27,85]) + 0 * e([28,85]) + 0 * e([29,85]) + 0 * e([30,85]) + 0 * e([31,85]) + 0 * e([32,85]) + 0 * e([33,85]) + 0 * e([34,85]) + 0 * e([35,85]) + 0 * e([36,85]) + 0 * e([37,85]) + 0 * e([38,85]) + 0 * e([39,85]) + 0 * e([40,85]) + 0 * e([41,85]) + 0 * e([42,85]) + 0 * e([43,85]) + 0 * e([44,85]) + 0 * e([45,85]) + 0 * e([46,85]) + 0 * e([47,85]) + 0 * e([48,85]) + 0 * e([49,85]) + 0 * e([50,85]) + 0 * e([51,85]) + 0 * e([52,85]) + 0 * e([53,85]) + 0 * e([54,85]) + 0 * e([55,85]) + 0 * e([56,85]) + 0 * e([57,85]) + 0 * e([58,85]) + 0 * e([59,85]) + 0 * e([60,85]) + 0 * e([61,85]) + 0 * e([62,85]) + 0 * e([63,85]) + 0 * e([64,85]) + 0 * e([65,85]) + 0 * e([66,85]) + 0 * e([67,85]) + 0 * e([68,85]) + 0 * e([69,85]) + 0 * e([70,85]) + 0 * e([71,85]) + 0 * e([72,85]) + 0 * e([73,85]) + 0 * e([74,85]) + 0 * e([75,85]) + 0 * e([76,85]) + 0 * e([77,85]) + 0 * e([78,85]) + 0 * e([79,85]) + 0 * e([80,85]) + 0 * e([81,85]) + 0 * e([82,85]) + 0 * e([83,85]) + 0 * e([84,85]) + 0 * e([[85,2]]) + 0 * e([86]) + 0 * e([1,86]) + 0 * e([2,86]) + 0 * e([3,86]) + 0 * e([4,86]) + 0 * e([5,86]) + 0 * e([6,86]) + 0 * e([7,86]) + 0 * e([8,86]) + 0 * e([9,86]) + 0 * e([10,86]) + 0 * e([11,86]) + 0 * e([12,86]) + 0 * e([13,86]) + 0 * e([14,86]) + 0 * e([15,86]) + 0 * e([16,86]) + 0 * e([17,86]) + 0 * e([18,86]) + 0 * e([19,86]) + 0 * e([20,86]) + 0 * e([21,86]) + 0 * e([22,86]) + 0 * e([23,86]) + 0 * e([24,86]) + 0 * e([25,86]) + 0 * e([26,86]) + 0 * e([27,86]) + 0 * e([28,86]) + 0 * e([29,86]) + 0 * e([30,86]) + 0 * e([31,86]) + 0 * e([32,86]) + 0 * e([33,86]) + 0 * e([34,86]) + 0 * e([35,86]) + 0 * e([36,86]) + 0 * e([37,86]) + 0 * e([38,86]) + 0 * e([39,86]) + 0 * e([40,86]) + 0 * e([41,86]) + 0 * e([42,86]) + 0 * e([43,86]) + 0 * e([44,86]) + 0 * e([45,86]) + 0 * e([46,86]) + 0 * e([47,86]) + 0 * e([48,86]) + 0 * e([49,86]) + 0 * e([50,86]) + 0 * e([51,86]) + 0 * e([52,86]) + 0 * e([53,86]) + 0 * e([54,86]) + 0 * e([55,86]) + 0 * e([56,86]) + 0 * e([57,86]) + 0 * e([58,86]) + 0 * e([59,86]) + 0 * e([60,86]) + 0 * e([61,86]) + 0 * e([62,86]) + 0 * e([63,86]) + 0 * e([64,86]) + 0 * e([65,86]) + 0 * e([66,86]) + 0 * e([67,86]) + 0 * e([68,86]) + 0 * e([69,86]) + 0 * e([70,86]) + 0 * e([71,86]) + 0 * e([72,86]) + 0 * e([73,86]) + 0 * e([74,86]) + 0 * e([75,86]) + 0 * e([76,86]) + 0 * e([77,86]) + 0 * e([78,86]) + 0 * e([79,86]) + 0 * e([80,86]) + 0 * e([81,86]) + 0 * e([82,86]) + 0 * e([83,86]) + 0 * e([84,86]) + 0 * e([85,86]) + 0 * e([[86,2]]) + 0 * e([87]) + 0 * e([1,87]) + 0 * e([2,87]) + 0 * e([3,87]) + 0 * e([4,87]) + 0 * e([5,87]) + 0 * e([6,87]) + 0 * e([7,87]) + 0 * e([8,87]) + 0 * e([9,87]) + 0 * e([10,87]) + 0 * e([11,87]) + 0 * e([12,87]) + 0 * e([13,87]) + 0 * e([14,87]) + 0 * e([15,87]) + 0 * e([16,87]) + 0 * e([17,87]) + 0 * e([18,87]) + 0 * e([19,87]) + 0 * e([20,87]) + 0 * e([21,87]) + 0 * e([22,87]) + 0 * e([23,87]) + 0 * e([24,87]) + 0 * e([25,87]) + 0 * e([26,87]) + 0 * e([27,87]) + 0 * e([28,87]) + 0 * e([29,87]) + 0 * e([30,87]) + 0 * e([31,87]) + 0 * e([32,87]) + 0 * e([33,87]) + 0 * e([34,87]) + 0 * e([35,87]) + 0 * e([36,87]) + 0 * e([37,87]) + 0 * e([38,87]) + 0 * e([39,87]) + 0 * e([40,87]) + 0 * e([41,87]) + 0 * e([42,87]) + 0 * e([43,87]) + 0 * e([44,87]) + 0 * e([45,87]) + 0 * e([46,87]) + 0 * e([47,87]) + 0 * e([48,87]) + 0 * e([49,87]) + 0 * e([50,87]) + 0 * e([51,87]) + 0 * e([52,87]) + 0 * e([53,87]) + 0 * e([54,87]) + 0 * e([55,87]) + 0 * e([56,87]) + 0 * e([57,87]) + 0 * e([58,87]) + 0 * e([59,87]) + 0 * e([60,87]) + 0 * e([61,87]) + 0 * e([62,87]) + 0 * e([63,87]) + 0 * e([64,87]) + 0 * e([65,87]) + 0 * e([66,87]) + 0 * e([67,87]) + 0 * e([68,87]) + 0 * e([69,87]) + 0 * e([70,87]) + 0 * e([71,87]) + 0 * e([72,87]) + 0 * e([73,87]) + 0 * e([74,87]) + 0 * e([75,87]) + 0 * e([76,87]) + 0 * e([77,87]) + 0 * e([78,87]) + 0 * e([79,87]) + 0 * e([80,87]) + 0 * e([81,87]) + 0 * e([82,87]) + 0 * e([83,87]) + 0 * e([84,87]) + 0 * e([85,87]) + 0 * e([86,87]) + 0 * e([[87,2]]) + 0 * e([88]) + 0 * e([1,88]) + 0 * e([2,88]) + 0 * e([3,88]) + 0 * e([4,88]) + 0 * e([5,88]) + 0 * e([6,88]) + 0 * e([7,88]) + 0 * e([8,88]) + 0 * e([9,88]) + 0 * e([10,88]) + 0 * e([11,88]) + 0 * e([12,88]) + 0 * e([13,88]) + 0 * e([14,88]) + 0 * e([15,88]) + 0 * e([16,88]) + 0 * e([17,88]) + 0 * e([18,88]) + 0 * e([19,88]) + 0 * e([20,88]) + 0 * e([21,88]) + 0 * e([22,88]) + 0 * e([23,88]) + 0 * e([24,88]) + 0 * e([25,88]) + 0 * e([26,88]) + 0 * e([27,88]) + 0 * e([28,88]) + 0 * e([29,88]) + 0 * e([30,88]) + 0 * e([31,88]) + 0 * e([32,88]) + 0 * e([33,88]) + 0 * e([34,88]) + 0 * e([35,88]) + 0 * e([36,88]) + 0 * e([37,88]) + 0 * e([38,88]) + 0 * e([39,88]) + 0 * e([40,88]) + 0 * e([41,88]) + 0 * e([42,88]) + 0 * e([43,88]) + 0 * e([44,88]) + 0 * e([45,88]) + 0 * e([46,88]) + 0 * e([47,88]) + 0 * e([48,88]) + 0 * e([49,88]) + 0 * e([50,88]) + 0 * e([51,88]) + 0 * e([52,88]) + 0 * e([53,88]) + 0 * e([54,88]) + 0 * e([55,88]) + 0 * e([56,88]) + 0 * e([57,88]) + 0 * e([58,88]) + 0 * e([59,88]) + 0 * e([60,88]) + 0 * e([61,88]) + 0 * e([62,88]) + 0 * e([63,88]) + 0 * e([64,88]) + 0 * e([65,88]) + 0 * e([66,88]) + 0 * e([67,88]) + 0 * e([68,88]) + 0 * e([69,88]) + 0 * e([70,88]) + 0 * e([71,88]) + 0 * e([72,88]) + 0 * e([73,88]) + 0 * e([74,88]) + 0 * e([75,88]) + 0 * e([76,88]) + 0 * e([77,88]) + 0 * e([78,88]) + 0 * e([79,88]) + 0 * e([80,88]) + 0 * e([81,88]) + 0 * e([82,88]) + 0 * e([83,88]) + 0 * e([84,88]) + 0 * e([85,88]) + 0 * e([86,88]) + 0 * e([87,88]) + 0 * e([[88,2]]) + 0 * e([89]) + 0 * e([1,89]) + 0 * e([2,89]) + 0 * e([3,89]) + 0 * e([4,89]) + 0 * e([5,89]) + 0 * e([6,89]) + 0 * e([7,89]) + 0 * e([8,89]) + 0 * e([9,89]) + 0 * e([10,89]) + 0 * e([11,89]) + 0 * e([12,89]) + 0 * e([13,89]) + 0 * e([14,89]) + 0 * e([15,89]) + 0 * e([16,89]) + 0 * e([17,89]) + 0 * e([18,89]) + 0 * e([19,89]) + 0 * e([20,89]) + 0 * e([21,89]) + 0 * e([22,89]) + 0 * e([23,89]) + 0 * e([24,89]) + 0 * e([25,89]) + 0 * e([26,89]) + 0 * e([27,89]) + 0 * e([28,89]) + 0 * e([29,89]) + 0 * e([30,89]) + 0 * e([31,89]) + 0 * e([32,89]) + 0 * e([33,89]) + 0 * e([34,89]) + 0 * e([35,89]) + 0 * e([36,89]) + 0 * e([37,89]) + 0 * e([38,89]) + 0 * e([39,89]) + 0 * e([40,89]) + 0 * e([41,89]) + 0 * e([42,89]) + 0 * e([43,89]) + 0 * e([44,89]) + 0 * e([45,89]) + 0 * e([46,89]) + 0 * e([47,89]) + 0 * e([48,89]) + 0 * e([49,89]) + 0 * e([50,89]) + 0 * e([51,89]) + 0 * e([52,89]) + 0 * e([53,89]) + 0 * e([54,89]) + 0 * e([55,89]) + 0 * e([56,89]) + 0 * e([57,89]) + 0 * e([58,89]) + 0 * e([59,89]) + 0 * e([60,89]) + 0 * e([61,89]) + 0 * e([62,89]) + 0 * e([63,89]) + 0 * e([64,89]) + 0 * e([65,89]) + 0 * e([66,89]) + 0 * e([67,89]) + 0 * e([68,89]) + 0 * e([69,89]) + 0 * e([70,89]) + 0 * e([71,89]) + 0 * e([72,89]) + 0 * e([73,89]) + 0 * e([74,89]) + 0 * e([75,89]) + 0 * e([76,89]) + 0 * e([77,89]) + 0 * e([78,89]) + 0 * e([79,89]) + 0 * e([80,89]) + 0 * e([81,89]) + 0 * e([82,89]) + 0 * e([83,89]) + 0 * e([84,89]) + 0 * e([85,89]) + 0 * e([86,89]) + 0 * e([87,89]) + 0 * e([88,89]) + 0 * e([[89,2]]) + 0 * e([90]) + 0 * e([1,90]) + 0 * e([2,90]) + 0 * e([3,90]) + 0 * e([4,90]) + 0 * e([5,90]) + 0 * e([6,90]) + 0 * e([7,90]) + 0 * e([8,90]) + 0 * e([9,90]) + 0 * e([10,90]) + 0 * e([11,90]) + 0 * e([12,90]) + 0 * e([13,90]) + 0 * e([14,90]) + 0 * e([15,90]) + 0 * e([16,90]) + 0 * e([17,90]) + 0 * e([18,90]) + 0 * e([19,90]) + 0 * e([20,90]) + 0 * e([21,90]) + 0 * e([22,90]) + 0 * e([23,90]) + 0 * e([24,90]) + 0 * e([25,90]) + 0 * e([26,90]) + 0 * e([27,90]) + 0 * e([28,90]) + 0 * e([29,90]) + 0 * e([30,90]) + 0 * e([31,90]) + 0 * e([32,90]) + 0 * e([33,90]) + 0 * e([34,90]) + 0 * e([35,90]) + 0 * e([36,90]) + 0 * e([37,90]) + 0 * e([38,90]) + 0 * e([39,90]) + 0 * e([40,90]) + 0 * e([41,90]) + 0 * e([42,90]) + 0 * e([43,90]) + 0 * e([44,90]) + 0 * e([45,90]) + 0 * e([46,90]) + 0 * e([47,90]) + 0 * e([48,90]) + 0 * e([49,90]) + 0 * e([50,90]) + 0 * e([51,90]) + 0 * e([52,90]) + 0 * e([53,90]) + 0 * e([54,90]) + 0 * e([55,90]) + 0 * e([56,90]) + 0 * e([57,90]) + 0 * e([58,90]) + 0 * e([59,90]) + 0 * e([60,90]) + 0 * e([61,90]) + 0 * e([62,90]) + 0 * e([63,90]) + 0 * e([64,90]) + 0 * e([65,90]) + 0 * e([66,90]) + 0 * e([67,90]) + 0 * e([68,90]) + 0 * e([69,90]) + 0 * e([70,90]) + 0 * e([71,90]) + 0 * e([72,90]) + 0 * e([73,90]) + 0 * e([74,90]) + 0 * e([75,90]) + 0 * e([76,90]) + 0 * e([77,90]) + 0 * e([78,90]) + 0 * e([79,90]) + 0 * e([80,90]) + 0 * e([81,90]) + 0 * e([82,90]) + 0 * e([83,90]) + 0 * e([84,90]) + 0 * e([85,90]) + 0 * e([86,90]) + 0 * e([87,90]) + 0 * e([88,90]) + 0 * e([89,90]) + 0 * e([[90,2]]) + 0 * e([91]) + 0 * e([1,91]) + 0 * e([2,91]) + 0 * e([3,91]) + 0 * e([4,91]) + 0 * e([5,91]) + 0 * e([6,91]) + 0 * e([7,91]) + 0 * e([8,91]) + 0 * e([9,91]) + 0 * e([10,91]) + 0 * e([11,91]) + 0 * e([12,91]) + 0 * e([13,91]) + 0 * e([14,91]) + 0 * e([15,91]) + 0 * e([16,91]) + 0 * e([17,91]) + 0 * e([18,91]) + 0 * e([19,91]) + 0 * e([20,91]) + 0 * e([21,91]) + 0 * e([22,91]) + 0 * e([23,91]) + 0 * e([24,91]) + 0 * e([25,91]) + 0 * e([26,91]) + 0 * e([27,91]) + 0 * e([28,91]) + 0 * e([29,91]) + 0 * e([30,91]) + 0 * e([31,91]) + 0 * e([32,91]) + 0 * e([33,91]) + 0 * e([34,91]) + 0 * e([35,91]) + 0 * e([36,91]) + 0 * e([37,91]) + 0 * e([38,91]) + 0 * e([39,91]) + 0 * e([40,91]) + 0 * e([41,91]) + 0 * e([42,91]) + 0 * e([43,91]) + 0 * e([44,91]) + 0 * e([45,91]) + 0 * e([46,91]) + 0 * e([47,91]) + 0 * e([48,91]) + 0 * e([49,91]) + 0 * e([50,91]) + 0 * e([51,91]) + 0 * e([52,91]) + 0 * e([53,91]) + 0 * e([54,91]) + 0 * e([55,91]) + 0 * e([56,91]) + 0 * e([57,91]) + 0 * e([58,91]) + 0 * e([59,91]) + 0 * e([60,91]) + 0 * e([61,91]) + 0 * e([62,91]) + 0 * e([63,91]) + 0 * e([64,91]) + 0 * e([65,91]) + 0 * e([66,91]) + 0 * e([67,91]) + 0 * e([68,91]) + 0 * e([69,91]) + 0 * e([70,91]) + 0 * e([71,91]) + 0 * e([72,91]) + 0 * e([73,91]) + 0 * e([74,91]) + 0 * e([75,91]) + 0 * e([76,91]) + 0 * e([77,91]) + 0 * e([78,91]) + 0 * e([79,91]) + 0 * e([80,91]) + 0 * e([81,91]) + 0 * e([82,91]) + 0 * e([83,91]) + 0 * e([84,91]) + 0 * e([85,91]) + 0 * e([86,91]) + 0 * e([87,91]) + 0 * e([88,91]) + 0 * e([89,91]) + 0 * e([90,91]) + 0 * e([[91,2]]) + 0 * e([92]) + 0 * e([1,92]) + 0 * e([2,92]) + 0 * e([3,92]) + 0 * e([4,92]) + 0 * e([5,92]) + 0 * e([6,92]) + 0 * e([7,92]) + 0 * e([8,92]) + 0 * e([9,92]) + 0 * e([10,92]) + 0 * e([11,92]) + 0 * e([12,92]) + 0 * e([13,92]) + 0 * e([14,92]) + 0 * e([15,92]) + 0 * e([16,92]) + 0 * e([17,92]) + 0 * e([18,92]) + 0 * e([19,92]) + 0 * e([20,92]) + 0 * e([21,92]) + 0 * e([22,92]) + 0 * e([23,92]) + 0 * e([24,92]) + 0 * e([25,92]) + 0 * e([26,92]) + 0 * e([27,92]) + 0 * e([28,92]) + 0 * e([29,92]) + 0 * e([30,92]) + 0 * e([31,92]) + 0 * e([32,92]) + 0 * e([33,92]) + 0 * e([34,92]) + 0 * e([35,92]) + 0 * e([36,92]) + 0 * e([37,92]) + 0 * e([38,92]) + 0 * e([39,92]) + 0 * e([40,92]) + 0 * e([41,92]) + 0 * e([42,92]) + 0 * e([43,92]) + 0 * e([44,92]) + 0 * e([45,92]) + 0 * e([46,92]) + 0 * e([47,92]) + 0 * e([48,92]) + 0 * e([49,92]) + 0 * e([50,92]) + 0 * e([51,92]) + 0 * e([52,92]) + 0 * e([53,92]) + 0 * e([54,92]) + 0 * e([55,92]) + 0 * e([56,92]) + 0 * e([57,92]) + 0 * e([58,92]) + 0 * e([59,92]) + 0 * e([60,92]) + 0 * e([61,92]) + 0 * e([62,92]) + 0 * e([63,92]) + 0 * e([64,92]) + 0 * e([65,92]) + 0 * e([66,92]) + 0 * e([67,92]) + 0 * e([68,92]) + 0 * e([69,92]) + 0 * e([70,92]) + 0 * e([71,92]) + 0 * e([72,92]) + 0 * e([73,92]) + 0 * e([74,92]) + 0 * e([75,92]) + 0 * e([76,92]) + 0 * e([77,92]) + 0 * e([78,92]) + 0 * e([79,92]) + 0 * e([80,92]) + 0 * e([81,92]) + 0 * e([82,92]) + 0 * e([83,92]) + 0 * e([84,92]) + 0 * e([85,92]) + 0 * e([86,92]) + 0 * e([87,92]) + 0 * e([88,92]) + 0 * e([89,92]) + 0 * e([90,92]) + 0 * e([91,92]) + 0 * e([[92,2]]) + 0 * e([93]) + 0 * e([1,93]) + 0 * e([2,93]) + 0 * e([3,93]) + 0 * e([4,93]) + 0 * e([5,93]) + 0 * e([6,93]) + 0 * e([7,93]) + 0 * e([8,93]) + 0 * e([9,93]) + 0 * e([10,93]) + 0 * e([11,93]) + 0 * e([12,93]) + 0 * e([13,93]) + 0 * e([14,93]) + 0 * e([15,93]) + 0 * e([16,93]) + 0 * e([17,93]) + 0 * e([18,93]) + 0 * e([19,93]) + 0 * e([20,93]) + 0 * e([21,93]) + 0 * e([22,93]) + 0 * e([23,93]) + 0 * e([24,93]) + 0 * e([25,93]) + 0 * e([26,93]) + 0 * e([27,93]) + 0 * e([28,93]) + 0 * e([29,93]) + 0 * e([30,93]) + 0 * e([31,93]) + 0 * e([32,93]) + 0 * e([33,93]) + 0 * e([34,93]) + 0 * e([35,93]) + 0 * e([36,93]) + 0 * e([37,93]) + 0 * e([38,93]) + 0 * e([39,93]) + 0 * e([40,93]) + 0 * e([41,93]) + 0 * e([42,93]) + 0 * e([43,93]) + 0 * e([44,93]) + 0 * e([45,93]) + 0 * e([46,93]) + 0 * e([47,93]) + 0 * e([48,93]) + 0 * e([49,93]) + 0 * e([50,93]) + 0 * e([51,93]) + 0 * e([52,93]) + 0 * e([53,93]) + 0 * e([54,93]) + 0 * e([55,93]) + 0 * e([56,93]) + 0 * e([57,93]) + 0 * e([58,93]) + 0 * e([59,93]) + 0 * e([60,93]) + 0 * e([61,93]) + 0 * e([62,93]) + 0 * e([63,93]) + 0 * e([64,93]) + 0 * e([65,93]) + 0 * e([66,93]) + 0 * e([67,93]) + 0 * e([68,93]) + 0 * e([69,93]) + 0 * e([70,93]) + 0 * e([71,93]) + 0 * e([72,93]) + 0 * e([73,93]) + 0 * e([74,93]) + 0 * e([75,93]) + 0 * e([76,93]) + 0 * e([77,93]) + 0 * e([78,93]) + 0 * e([79,93]) + 0 * e([80,93]) + 0 * e([81,93]) + 0 * e([82,93]) + 0 * e([83,93]) + 0 * e([84,93]) + 0 * e([85,93]) + 0 * e([86,93]) + 0 * e([87,93]) + 0 * e([88,93]) + 0 * e([89,93]) + 0 * e([90,93]) + 0 * e([91,93]) + 0 * e([92,93]) + 0 * e([[93,2]]) + 0 * e([94]) + 0 * e([1,94]) + 0 * e([2,94]) + 0 * e([3,94]) + 0 * e([4,94]) + 0 * e([5,94]) + 0 * e([6,94]) + 0 * e([7,94]) + 0 * e([8,94]) + 0 * e([9,94]) + 0 * e([10,94]) + 0 * e([11,94]) + 0 * e([12,94]) + 0 * e([13,94]) + 0 * e([14,94]) + 0 * e([15,94]) + 0 * e([16,94]) + 0 * e([17,94]) + 0 * e([18,94]) + 0 * e([19,94]) + 0 * e([20,94]) + 0 * e([21,94]) + 0 * e([22,94]) + 0 * e([23,94]) + 0 * e([24,94]) + 0 * e([25,94]) + 0 * e([26,94]) + 0 * e([27,94]) + 0 * e([28,94]) + 0 * e([29,94]) + 0 * e([30,94]) + 0 * e([31,94]) + 0 * e([32,94]) + 0 * e([33,94]) + 0 * e([34,94]) + 0 * e([35,94]) + 0 * e([36,94]) + 0 * e([37,94]) + 0 * e([38,94]) + 0 * e([39,94]) + 0 * e([40,94]) + 0 * e([41,94]) + 0 * e([42,94]) + 0 * e([43,94]) + 0 * e([44,94]) + 0 * e([45,94]) + 0 * e([46,94]) + 0 * e([47,94]) + 0 * e([48,94]) + 0 * e([49,94]) + 0 * e([50,94]) + 0 * e([51,94]) + 0 * e([52,94]) + 0 * e([53,94]) + 0 * e([54,94]) + 0 * e([55,94]) + 0 * e([56,94]) + 0 * e([57,94]) + 0 * e([58,94]) + 0 * e([59,94]) + 0 * e([60,94]) + 0 * e([61,94]) + 0 * e([62,94]) + 0 * e([63,94]) + 0 * e([64,94]) + 0 * e([65,94]) + 0 * e([66,94]) + 0 * e([67,94]) + 0 * e([68,94]) + 0 * e([69,94]) + 0 * e([70,94]) + 0 * e([71,94]) + 0 * e([72,94]) + 0 * e([73,94]) + 0 * e([74,94]) + 0 * e([75,94]) + 0 * e([76,94]) + 0 * e([77,94]) + 0 * e([78,94]) + 0 * e([79,94]) + 0 * e([80,94]) + 0 * e([81,94]) + 0 * e([82,94]) + 0 * e([83,94]) + 0 * e([84,94]) + 0 * e([85,94]) + 0 * e([86,94]) + 0 * e([87,94]) + 0 * e([88,94]) + 0 * e([89,94]) + 0 * e([90,94]) + 0 * e([91,94]) + 0 * e([92,94]) + 0 * e([93,94]) + 0 * e([[94,2]]) + 0 * e([95]) + 0 * e([1,95]) + 0 * e([2,95]) + 0 * e([3,95]) + 0 * e([4,95]) + 0 * e([5,95]) + 0 * e([6,95]) + 0 * e([7,95]) + 0 * e([8,95]) + 0 * e([9,95]) + 0 * e([10,95]) + 0 * e([11,95]) + 0 * e([12,95]) + 0 * e([13,95]) + 0 * e([14,95]) + 0 * e([15,95]) + 0 * e([16,95]) + 0 * e([17,95]) + 0 * e([18,95]) + 0 * e([19,95]) + 0 * e([20,95]) + 0 * e([21,95]) + 0 * e([22,95]) + 0 * e([23,95]) + 0 * e([24,95]) + 0 * e([25,95]) + 0 * e([26,95]) + 0 * e([27,95]) + 0 * e([28,95]) + 0 * e([29,95]) + 0 * e([30,95]) + 0 * e([31,95]) + 0 * e([32,95]) + 0 * e([33,95]) + 0 * e([34,95]) + 0 * e([35,95]) + 0 * e([36,95]) + 0 * e([37,95]) + 0 * e([38,95]) + 0 * e([39,95]) + 0 * e([40,95]) + 0 * e([41,95]) + 0 * e([42,95]) + 0 * e([43,95]) + 0 * e([44,95]) + 0 * e([45,95]) + 0 * e([46,95]) + 0 * e([47,95]) + 0 * e([48,95]) + 0 * e([49,95]) + 0 * e([50,95]) + 0 * e([51,95]) + 0 * e([52,95]) + 0 * e([53,95]) + 0 * e([54,95]) + 0 * e([55,95]) + 0 * e([56,95]) + 0 * e([57,95]) + 0 * e([58,95]) + 0 * e([59,95]) + 0 * e([60,95]) + 0 * e([61,95]) + 0 * e([62,95]) + 0 * e([63,95]) + 0 * e([64,95]) + 0 * e([65,95]) + 0 * e([66,95]) + 0 * e([67,95]) + 0 * e([68,95]) + 0 * e([69,95]) + 0 * e([70,95]) + 0 * e([71,95]) + 0 * e([72,95]) + 0 * e([73,95]) + 0 * e([74,95]) + 0 * e([75,95]) + 0 * e([76,95]) + 0 * e([77,95]) + 0 * e([78,95]) + 0 * e([79,95]) + 0 * e([80,95]) + 0 * e([81,95]) + 0 * e([82,95]) + 0 * e([83,95]) + 0 * e([84,95]) + 0 * e([85,95]) + 0 * e([86,95]) + 0 * e([87,95]) + 0 * e([88,95]) + 0 * e([89,95]) + 0 * e([90,95]) + 0 * e([91,95]) + 0 * e([92,95]) + 0 * e([93,95]) + 0 * e([94,95]) + 0 * e([[95,2]]) + 0 * e([96]) + 0 * e([1,96]) + 0 * e([2,96]) + 0 * e([3,96]) + 0 * e([4,96]) + 0 * e([5,96]) + 0 * e([6,96]) + 0 * e([7,96]) + 0 * e([8,96]) + 0 * e([9,96]) + 0 * e([10,96]) + 0 * e([11,96]) + 0 * e([12,96]) + 0 * e([13,96]) + 0 * e([14,96]) + 0 * e([15,96]) + 0 * e([16,96]) + 0 * e([17,96]) + 0 * e([18,96]) + 0 * e([19,96]) + 0 * e([20,96]) + 0 * e([21,96]) + 0 * e([22,96]) + 0 * e([23,96]) + 0 * e([24,96]) + 0 * e([25,96]) + 0 * e([26,96]) + 0 * e([27,96]) + 0 * e([28,96]) + 0 * e([29,96]) + 0 * e([30,96]) + 0 * e([31,96]) + 0 * e([32,96]) + 0 * e([33,96]) + 0 * e([34,96]) + 0 * e([35,96]) + 0 * e([36,96]) + 0 * e([37,96]) + 0 * e([38,96]) + 0 * e([39,96]) + 0 * e([40,96]) + 0 * e([41,96]) + 0 * e([42,96]) + 0 * e([43,96]) + 0 * e([44,96]) + 0 * e([45,96]) + 0 * e([46,96]) + 0 * e([47,96]) + 0 * e([48,96]) + 0 * e([49,96]) + 0 * e([50,96]) + 0 * e([51,96]) + 0 * e([52,96]) + 0 * e([53,96]) + 0 * e([54,96]) + 0 * e([55,96]) + 0 * e([56,96]) + 0 * e([57,96]) + 0 * e([58,96]) + 0 * e([59,96]) + 0 * e([60,96]) + 0 * e([61,96]) + 0 * e([62,96]) + 0 * e([63,96]) + 0 * e([64,96]) + 0 * e([65,96]) + 0 * e([66,96]) + 0 * e([67,96]) + 0 * e([68,96]) + 0 * e([69,96]) + 0 * e([70,96]) + 0 * e([71,96]) + 0 * e([72,96]) + 0 * e([73,96]) + 0 * e([74,96]) + 0 * e([75,96]) + 0 * e([76,96]) + 0 * e([77,96]) + 0 * e([78,96]) + 0 * e([79,96]) + 0 * e([80,96]) + 0 * e([81,96]) + 0 * e([82,96]) + 0 * e([83,96]) + 0 * e([84,96]) + 0 * e([85,96]) + 0 * e([86,96]) + 0 * e([87,96]) + 0 * e([88,96]) + 0 * e([89,96]) + 0 * e([90,96]) + 0 * e([91,96]) + 0 * e([92,96]) + 0 * e([93,96]) + 0 * e([94,96]) + 0 * e([95,96]) + 0 * e([[96,2]]) + 0 * e([97]) + 0 * e([1,97]) + 0 * e([2,97]) + 0 * e([3,97]) + 0 * e([4,97]) + 0 * e([5,97]) + 0 * e([6,97]) + 0 * e([7,97]) + 0 * e([8,97]) + 0 * e([9,97]) + 0 * e([10,97]) + 0 * e([11,97]) + 0 * e([12,97]) + 0 * e([13,97]) + 0 * e([14,97]) + 0 * e([15,97]) + 0 * e([16,97]) + 0 * e([17,97]) + 0 * e([18,97]) + 0 * e([19,97]) + 0 * e([20,97]) + 0 * e([21,97]) + 0 * e([22,97]) + 0 * e([23,97]) + 0 * e([24,97]) + 0 * e([25,97]) + 0 * e([26,97]) + 0 * e([27,97]) + 0 * e([28,97]) + 0 * e([29,97]) + 0 * e([30,97]) + 0 * e([31,97]) + 0 * e([32,97]) + 0 * e([33,97]) + 0 * e([34,97]) + 0 * e([35,97]) + 0 * e([36,97]) + 0 * e([37,97]) + 0 * e([38,97]) + 0 * e([39,97]) + 0 * e([40,97]) + 0 * e([41,97]) + 0 * e([42,97]) + 0 * e([43,97]) + 0 * e([44,97]) + 0 * e([45,97]) + 0 * e([46,97]) + 0 * e([47,97]) + 0 * e([48,97]) + 0 * e([49,97]) + 0 * e([50,97]) + 0 * e([51,97]) + 0 * e([52,97]) + 0 * e([53,97]) + 0 * e([54,97]) + 0 * e([55,97]) + 0 * e([56,97]) + 0 * e([57,97]) + 0 * e([58,97]) + 0 * e([59,97]) + 0 * e([60,97]) + 0 * e([61,97]) + 0 * e([62,97]) + 0 * e([63,97]) + 0 * e([64,97]) + 0 * e([65,97]) + 0 * e([66,97]) + 0 * e([67,97]) + 0 * e([68,97]) + 0 * e([69,97]) + 0 * e([70,97]) + 0 * e([71,97]) + 0 * e([72,97]) + 0 * e([73,97]) + 0 * e([74,97]) + 0 * e([75,97]) + 0 * e([76,97]) + 0 * e([77,97]) + 0 * e([78,97]) + 0 * e([79,97]) + 0 * e([80,97]) + 0 * e([81,97]) + 0 * e([82,97]) + 0 * e([83,97]) + 0 * e([84,97]) + 0 * e([85,97]) + 0 * e([86,97]) + 0 * e([87,97]) + 0 * e([88,97]) + 0 * e([89,97]) + 0 * e([90,97]) + 0 * e([91,97]) + 0 * e([92,97]) + 0 * e([93,97]) + 0 * e([94,97]) + 0 * e([95,97]) + 0 * e([96,97]) + 0 * e([[97,2]]) + 0 * e([98]) + 0 * e([1,98]) + 0 * e([2,98]) + 0 * e([3,98]) + 0 * e([4,98]) + 0 * e([5,98]) + 0 * e([6,98]) + 0 * e([7,98]) + 0 * e([8,98]) + 0 * e([9,98]) + 0 * e([10,98]) + 0 * e([11,98]) + 0 * e([12,98]) + 0 * e([13,98]) + 0 * e([14,98]) + 0 * e([15,98]) + 0 * e([16,98]) + 0 * e([17,98]) + 0 * e([18,98]) + 0 * e([19,98]) + 0 * e([20,98]) + 0 * e([21,98]) + 0 * e([22,98]) + 0 * e([23,98]) + 0 * e([24,98]) + 0 * e([25,98]) + 0 * e([26,98]) + 0 * e([27,98]) + 0 * e([28,98]) + 0 * e([29,98]) + 0 * e([30,98]) + 0 * e([31,98]) + 0 * e([32,98]) + 0 * e([33,98]) + 0 * e([34,98]) + 0 * e([35,98]) + 0 * e([36,98]) + 0 * e([37,98]) + 0 * e([38,98]) + 0 * e([39,98]) + 0 * e([40,98]) + 0 * e([41,98]) + 0 * e([42,98]) + 0 * e([43,98]) + 0 * e([44,98]) + 0 * e([45,98]) + 0 * e([46,98]) + 0 * e([47,98]) + 0 * e([48,98]) + 0 * e([49,98]) + 0 * e([50,98]) + 0 * e([51,98]) + 0 * e([52,98]) + 0 * e([53,98]) + 0 * e([54,98]) + 0 * e([55,98]) + 0 * e([56,98]) + 0 * e([57,98]) + 0 * e([58,98]) + 0 * e([59,98]) + 0 * e([60,98]) + 0 * e([61,98]) + 0 * e([62,98]) + 0 * e([63,98]) + 0 * e([64,98]) + 0 * e([65,98]) + 0 * e([66,98]) + 0 * e([67,98]) + 0 * e([68,98]) + 0 * e([69,98]) + 0 * e([70,98]) + 0 * e([71,98]) + 0 * e([72,98]) + 0 * e([73,98]) + 0 * e([74,98]) + 0 * e([75,98]) + 0 * e([76,98]) + 0 * e([77,98]) + 0 * e([78,98]) + 0 * e([79,98]) + 0 * e([80,98]) + 0 * e([81,98]) + 0 * e([82,98]) + 0 * e([83,98]) + 0 * e([84,98]) + 0 * e([85,98]) + 0 * e([86,98]) + 0 * e([87,98]) + 0 * e([88,98]) + 0 * e([89,98]) + 0 * e([90,98]) + 0 * e([91,98]) + 0 * e([92,98]) + 0 * e([93,98]) + 0 * e([94,98]) + 0 * e([95,98]) + 0 * e([96,98]) + 0 * e([97,98]) + 0 * e([[98,2]]) + 0 * e([99]) + 0 * e([1,99]) + 0 * e([2,99]) + 0 * e([3,99]) + 0 * e([4,99]) + 0 * e([5,99]) + 0 * e([6,99]) + 0 * e([7,99]) + 0 * e([8,99]) + 0 * e([9,99]) + 0 * e([10,99]) + 0 * e([11,99]) + 0 * e([12,99]) + 0 * e([13,99]) + 0 * e([14,99]) + 0 * e([15,99]) + 0 * e([16,99]) + 0 * e([17,99]) + 0 * e([18,99]) + 0 * e([19,99]) + 0 * e([20,99]) + 0 * e([21,99]) + 0 * e([22,99]) + 0 * e([23,99]) + 0 * e([24,99]) + 0 * e([25,99]) + 0 * e([26,99]) + 0 * e([27,99]) + 0 * e([28,99]) + 0 * e([29,99]) + 0 * e([30,99]) + 0 * e([31,99]) + 0 * e([32,99]) + 0 * e([33,99]) + 0 * e([34,99]) + 0 * e([35,99]) + 0 * e([36,99]) + 0 * e([37,99]) + 0 * e([38,99]) + 0 * e([39,99]) + 0 * e([40,99]) + 0 * e([41,99]) + 0 * e([42,99]) + 0 * e([43,99]) + 0 * e([44,99]) + 0 * e([45,99]) + 0 * e([46,99]) + 0 * e([47,99]) + 0 * e([48,99]) + 0 * e([49,99]) + 0 * e([50,99]) + 0 * e([51,99]) + 0 * e([52,99]) + 0 * e([53,99]) + 0 * e([54,99]) + 0 * e([55,99]) + 0 * e([56,99]) + 0 * e([57,99]) + 0 * e([58,99]) + 0 * e([59,99]) + 0 * e([60,99]) + 0 * e([61,99]) + 0 * e([62,99]) + 0 * e([63,99]) + 0 * e([64,99]) + 0 * e([65,99]) + 0 * e([66,99]) + 0 * e([67,99]) + 0 * e([68,99]) + 0 * e([69,99]) + 0 * e([70,99]) + 0 * e([71,99]) + 0 * e([72,99]) + 0 * e([73,99]) + 0 * e([74,99]) + 0 * e([75,99]) + 0 * e([76,99]) + 0 * e([77,99]) + 0 * e([78,99]) + 0 * e([79,99]) + 0 * e([80,99]) + 0 * e([81,99]) + 0 * e([82,99]) + 0 * e([83,99]) + 0 * e([84,99]) + 0 * e([85,99]) + 0 * e([86,99]) + 0 * e([87,99]) + 0 * e([88,99]) + 0 * e([89,99]) + 0 * e([90,99]) + 0 * e([91,99]) + 0 * e([92,99]) + 0 * e([93,99]) + 0 * e([94,99]) + 0 * e([95,99]) + 0 * e([96,99]) + 0 * e([97,99]) + 0 * e([98,99]) + 0 * e([[99,2]]) + 0.5 * e([100]) + 0 * e([1,100]) + 0 * e([2,100]) + 0 * e([3,100]) + 0 * e([4,100]) + 0 * e([5,100]) + 0 * e([6,100]) + 0 * e([7,100]) + 0 * e([8,100]) + 0 * e([9,100]) + 0 * e([10,100]) + 0 * e([11,100]) + 0 * e([12,100]) + 0 * e([13,100]) + 0 * e([14,100]) + 0 * e([15,100]) + 0 * e([16,100]) + 0 * e([17,100]) + 0 * e([18,100]) + 0 * e([19,100]) + 0 * e([20,100]) + 0 * e([21,100]) + 0 * e([22,100]) + 0 * e([23,100]) + 0 * e([24,100]) + 0 * e([25,100]) + 0 * e([26,100]) + 0 * e([27,100]) + 0 * e([28,100]) + 0 * e([29,100]) + 0 * e([30,100]) + 0 * e([31,100]) + 0 * e([32,100]) + 0 * e([33,100]) + 0 * e([34,100]) + 0 * e([35,100]) + 0 * e([36,100]) + 0 * e([37,100]) + 0 * e([38,100]) + 0 * e([39,100]) + 0 * e([40,100]) + 0 * e([41,100]) + 0 * e([42,100]) + 0 * e([43,100]) + 0 * e([44,100]) + 0 * e([45,100]) + 0 * e([46,100]) + 0 * e([47,100]) + 0 * e([48,100]) + 0 * e([49,100]) + 0 * e([50,100]) + 0 * e([51,100]) + 0 * e([52,100]) + 0 * e([53,100]) + 0 * e([54,100]) + 0 * e([55,100]) + 0 * e([56,100]) + 0 * e([57,100]) + 0 * e([58,100]) + 0 * e([59,100]) + 0 * e([60,100]) + 0 * e([61,100]) + 0 * e([62,100]) + 0 * e([63,100]) + 0 * e([64,100]) + 0 * e([65,100]) + 0 * e([66,100]) + 0 * e([67,100]) + 0 * e([68,100]) + 0 * e([69,100]) + 0 * e([70,100]) + 0 * e([71,100]) + 0 * e([72,100]) + 0 * e([73,100]) + 0 * e([74,100]) + 0 * e([75,100]) + 0 * e([76,100]) + 0 * e([77,100]) + 0 * e([78,100]) + 0 * e([79,100]) + 0 * e([80,100]) + 0 * e([81,100]) + 0 * e([82,100]) + 0 * e([83,100]) + 0 * e([84,100]) + 0 * e([85,100]) + 0 * e([86,100]) + 0 * e([87,100]) + 0 * e([88,100]) + 0 * e([89,100]) + 0 * e([90,100]) + 0 * e([91,100]) + 0 * e([92,100]) + 0 * e([93,100]) + 0 * e([94,100]) + 0 * e([95,100]) + 0 * e([96,100]) + 0 * e([97,100]) + 0 * e([98,100]) + 0 * e([99,100]) + 0 * e([[100,2]]) \n"
     ]
    }
   ],
   "source": [
    "ad = 0.4 + 0.5 * ed([100],order = 2) + 0.6 * ed([4],order = 2) \n",
    "print(ad)"
   ]
  },
  {
   "cell_type": "code",
   "execution_count": 11,
   "metadata": {},
   "outputs": [
    {
     "name": "stdout",
     "output_type": "stream",
     "text": [
      "209 ms ± 4.95 ms per loop (mean ± std. dev. of 7 runs, 1 loop each)\n"
     ]
    }
   ],
   "source": [
    "%timeit ad*ad"
   ]
  },
  {
   "cell_type": "code",
   "execution_count": null,
   "metadata": {
    "collapsed": true
   },
   "outputs": [],
   "source": []
  },
  {
   "cell_type": "code",
   "execution_count": null,
   "metadata": {
    "collapsed": true
   },
   "outputs": [],
   "source": []
  },
  {
   "cell_type": "code",
   "execution_count": null,
   "metadata": {
    "collapsed": true
   },
   "outputs": [],
   "source": []
  },
  {
   "cell_type": "code",
   "execution_count": null,
   "metadata": {
    "collapsed": true
   },
   "outputs": [],
   "source": []
  },
  {
   "cell_type": "code",
   "execution_count": 11,
   "metadata": {
    "collapsed": true
   },
   "outputs": [],
   "source": [
    "h= oti.get_dHelp()"
   ]
  },
  {
   "cell_type": "code",
   "execution_count": 12,
   "metadata": {},
   "outputs": [
    {
     "data": {
      "text/plain": [
       "1"
      ]
     },
     "execution_count": 12,
     "metadata": {},
     "output_type": "execute_result"
    }
   ],
   "source": [
    "order = 2\n",
    "h.multIndxFast(7,3,order)"
   ]
  },
  {
   "cell_type": "code",
   "execution_count": 13,
   "metadata": {},
   "outputs": [
    {
     "data": {
      "text/plain": [
       "1"
      ]
     },
     "execution_count": 13,
     "metadata": {},
     "output_type": "execute_result"
    }
   ],
   "source": [
    "h.merror"
   ]
  },
  {
   "cell_type": "code",
   "execution_count": 14,
   "metadata": {},
   "outputs": [
    {
     "name": "stdout",
     "output_type": "stream",
     "text": [
      "4\n",
      "[1, 2]\n",
      "5\n",
      "[[2, 2]]\n",
      "12\n",
      "[2, 4]\n",
      "16\n",
      "[1, 5]\n",
      "17\n",
      "[2, 5]\n",
      "19\n",
      "[4, 5]\n"
     ]
    }
   ],
   "source": [
    "i1 = [1,3,7,1,3,7,10,10,1,3,7,10]\n",
    "i2 = [3,3,3,8,8,8,3,8,15,15,15,15]\n",
    "order = 2\n",
    "for i in range(len(i1)):\n",
    "\n",
    "    indx = h.multIndxFast(i1[i],i2[i],order)\n",
    "    if h.merror == 0:\n",
    "        print(indx)\n",
    "        print(oti.getDirArray(indx,order))\n"
   ]
  },
  {
   "cell_type": "code",
   "execution_count": 15,
   "metadata": {
    "collapsed": true
   },
   "outputs": [],
   "source": [
    "a = oti.sotinum([1,3,7,10],[1,1,1,1],order)\n",
    "\n",
    "b = oti.sotinum([3,8,15],[1,1,1],order)\n",
    "\n"
   ]
  },
  {
   "cell_type": "code",
   "execution_count": 16,
   "metadata": {},
   "outputs": [
    {
     "data": {
      "text/plain": [
       "sotinum([4,5,12,16,17,19], [1.0,1.0,1.0,1.0,1.0,1.0], 2)"
      ]
     },
     "execution_count": 16,
     "metadata": {},
     "output_type": "execute_result"
    }
   ],
   "source": [
    "a*b"
   ]
  },
  {
   "cell_type": "markdown",
   "metadata": {},
   "source": []
  },
  {
   "cell_type": "code",
   "execution_count": null,
   "metadata": {
    "collapsed": true
   },
   "outputs": [],
   "source": []
  },
  {
   "cell_type": "code",
   "execution_count": null,
   "metadata": {
    "collapsed": true
   },
   "outputs": [],
   "source": []
  },
  {
   "cell_type": "code",
   "execution_count": null,
   "metadata": {
    "collapsed": true
   },
   "outputs": [],
   "source": []
  },
  {
   "cell_type": "code",
   "execution_count": null,
   "metadata": {
    "collapsed": true
   },
   "outputs": [],
   "source": []
  },
  {
   "cell_type": "code",
   "execution_count": null,
   "metadata": {
    "collapsed": true
   },
   "outputs": [],
   "source": []
  },
  {
   "cell_type": "code",
   "execution_count": null,
   "metadata": {
    "collapsed": true
   },
   "outputs": [],
   "source": []
  },
  {
   "cell_type": "code",
   "execution_count": null,
   "metadata": {
    "collapsed": true
   },
   "outputs": [],
   "source": []
  },
  {
   "cell_type": "code",
   "execution_count": 26,
   "metadata": {},
   "outputs": [
    {
     "name": "stdout",
     "output_type": "stream",
     "text": [
      "picking between  [1, 3]  and  [3, 1]\n",
      "0  -> multiplying:  1 3\n",
      "picking between  [1, 8]  and  [3, 3]\n",
      "1  -> multiplying:  3 3\n",
      "picking between  [1, 8]  and  [3, 7]\n",
      "2  -> multiplying:  7 3\n",
      "picking between  [1, 8]  and  [3, 10]\n",
      "3  -> multiplying:  1 8\n",
      "picking between  [1, 15]  and  [3, 10]\n",
      "4  -> multiplying:  10 3\n",
      "picking between  [1, 15]  and  [8, 3]\n",
      "5  -> multiplying:  3 8\n",
      "picking between  [1, 15]  and  [8, 7]\n",
      "6  -> multiplying:  7 8\n",
      "picking between  [1, 15]  and  [8, 10]\n",
      "7  -> multiplying:  10 8\n",
      "picking between  [1, 15]  and  [15, 3]\n",
      "8  -> multiplying:  1 15\n"
     ]
    },
    {
     "ename": "IndexError",
     "evalue": "list index out of range",
     "output_type": "error",
     "traceback": [
      "\u001b[0;31m---------------------------------------------------------------------------\u001b[0m",
      "\u001b[0;31mIndexError\u001b[0m                                Traceback (most recent call last)",
      "\u001b[0;32m<ipython-input-26-53913fb24bde>\u001b[0m in \u001b[0;36m<module>\u001b[0;34m()\u001b[0m\n\u001b[1;32m     21\u001b[0m \u001b[0;34m\u001b[0m\u001b[0m\n\u001b[1;32m     22\u001b[0m     \u001b[0mdi1\u001b[0m \u001b[0;34m=\u001b[0m \u001b[0marray1\u001b[0m\u001b[0;34m[\u001b[0m\u001b[0mi_current\u001b[0m\u001b[0;34m]\u001b[0m\u001b[0;34m\u001b[0m\u001b[0m\n\u001b[0;32m---> 23\u001b[0;31m     \u001b[0mdi2\u001b[0m \u001b[0;34m=\u001b[0m \u001b[0marray2\u001b[0m\u001b[0;34m[\u001b[0m\u001b[0mi_pick\u001b[0m\u001b[0;34m]\u001b[0m\u001b[0;34m\u001b[0m\u001b[0m\n\u001b[0m\u001b[1;32m     24\u001b[0m \u001b[0;34m\u001b[0m\u001b[0m\n\u001b[1;32m     25\u001b[0m     \u001b[0mdj1\u001b[0m \u001b[0;34m=\u001b[0m \u001b[0marray2\u001b[0m\u001b[0;34m[\u001b[0m\u001b[0mj_current\u001b[0m\u001b[0;34m]\u001b[0m\u001b[0;34m\u001b[0m\u001b[0m\n",
      "\u001b[0;31mIndexError\u001b[0m: list index out of range"
     ]
    }
   ],
   "source": [
    "array1 = [1,3,7,10]\n",
    "array2 = [3,8,15]\n",
    "size_a1 = len(array1)\n",
    "size_a2 = len(array2)\n",
    "\n",
    "niter = size_a1*size_a2\n",
    "\n",
    "\n",
    "i_pick =0\n",
    "i_current = 0\n",
    "di1 = array1[i_current]\n",
    "di2 = array2[i_pick]\n",
    "\n",
    "j_pick =0\n",
    "j_current = 0\n",
    "\n",
    "dj1 = array2[j_current]\n",
    "dj2 = array1[j_pick]\n",
    "\n",
    "for i in range(niter):\n",
    "    \n",
    "    di1 = array1[i_current]\n",
    "    di2 = array2[i_pick]\n",
    "    \n",
    "    dj1 = array2[j_current]\n",
    "    dj2 = array1[j_pick]\n",
    "    \n",
    "    print(\"picking between \",[di1,di2],\" and \",[dj1,dj2])\n",
    "    \n",
    "    di_max = max(di1,di2)\n",
    "    dj_max = max(dj1,dj2)\n",
    "\n",
    "    if  di_max <= dj_max:\n",
    "        \n",
    "        print(i,\" -> multiplying: \", di1, di2 )\n",
    "        \n",
    "        if i==0:\n",
    "            \n",
    "            i_pick+=1\n",
    "            j_pick+=1\n",
    "            \n",
    "        else:\n",
    "            \n",
    "            i_pick +=1\n",
    "\n",
    "            if i_pick == size_a2:\n",
    "\n",
    "                i_pick = j_current + 1\n",
    "                i_current += 1\n",
    "\n",
    "            # end if \n",
    "    \n",
    "    else:\n",
    "        \n",
    "        print(i,\" -> multiplying: \",  dj2,dj1 )\n",
    "        \n",
    "        if i==0:\n",
    "            i_pick+=1\n",
    "            j_pick+=1\n",
    "        else:\n",
    "            j_pick +=1\n",
    "\n",
    "            if j_pick == size_a1:\n",
    "\n",
    "                j_pick = i_current + 1\n",
    "                j_current += 1\n",
    "\n",
    "            # end if \n",
    "        \n",
    "    \n",
    "#     if i ==0 || i==niter:\n",
    "#         i_pick+=1\n",
    "#         j_pick+=1\n",
    "        \n",
    "    \n",
    "    \n",
    "    \n",
    "    \n"
   ]
  },
  {
   "cell_type": "code",
   "execution_count": null,
   "metadata": {
    "collapsed": true
   },
   "outputs": [],
   "source": []
  },
  {
   "cell_type": "code",
   "execution_count": null,
   "metadata": {
    "collapsed": true
   },
   "outputs": [],
   "source": []
  },
  {
   "cell_type": "code",
   "execution_count": null,
   "metadata": {
    "collapsed": true
   },
   "outputs": [],
   "source": []
  },
  {
   "cell_type": "code",
   "execution_count": null,
   "metadata": {
    "collapsed": true
   },
   "outputs": [],
   "source": []
  },
  {
   "cell_type": "code",
   "execution_count": null,
   "metadata": {
    "collapsed": true
   },
   "outputs": [],
   "source": []
  },
  {
   "cell_type": "code",
   "execution_count": null,
   "metadata": {
    "collapsed": true
   },
   "outputs": [],
   "source": []
  },
  {
   "cell_type": "code",
   "execution_count": null,
   "metadata": {
    "collapsed": true
   },
   "outputs": [],
   "source": []
  },
  {
   "cell_type": "code",
   "execution_count": null,
   "metadata": {
    "collapsed": true
   },
   "outputs": [],
   "source": []
  },
  {
   "cell_type": "code",
   "execution_count": null,
   "metadata": {
    "collapsed": true
   },
   "outputs": [],
   "source": []
  },
  {
   "cell_type": "code",
   "execution_count": null,
   "metadata": {
    "collapsed": true
   },
   "outputs": [],
   "source": []
  },
  {
   "cell_type": "code",
   "execution_count": null,
   "metadata": {
    "collapsed": true
   },
   "outputs": [],
   "source": []
  },
  {
   "cell_type": "code",
   "execution_count": null,
   "metadata": {
    "collapsed": true
   },
   "outputs": [],
   "source": []
  },
  {
   "cell_type": "code",
   "execution_count": null,
   "metadata": {
    "collapsed": true
   },
   "outputs": [],
   "source": []
  },
  {
   "cell_type": "code",
   "execution_count": null,
   "metadata": {
    "collapsed": true
   },
   "outputs": [],
   "source": []
  },
  {
   "cell_type": "code",
   "execution_count": null,
   "metadata": {
    "collapsed": true
   },
   "outputs": [],
   "source": []
  },
  {
   "cell_type": "code",
   "execution_count": null,
   "metadata": {
    "collapsed": true
   },
   "outputs": [],
   "source": []
  },
  {
   "cell_type": "code",
   "execution_count": null,
   "metadata": {
    "collapsed": true
   },
   "outputs": [],
   "source": []
  },
  {
   "cell_type": "code",
   "execution_count": 4,
   "metadata": {},
   "outputs": [
    {
     "name": "stdout",
     "output_type": "stream",
     "text": [
      "0 + 0 * e([1]) + 0 * e([[1,2]]) + 0 * e([[1,3]]) + 0 * e([[1,4]]) + 0 * e([[1,5]]) + 0 * e([2]) + 0 * e([1,2]) + 0 * e([[1,2],2]) + 0 * e([[1,3],2]) + 0 * e([[1,4],2]) + 0 * e([[2,2]]) + 0 * e([1,[2,2]]) + 0 * e([[1,2],[2,2]]) + 0 * e([[1,3],[2,2]]) + 0 * e([[2,3]]) + 0 * e([1,[2,3]]) + 0 * e([[1,2],[2,3]]) + 0 * e([[2,4]]) + 0 * e([1,[2,4]]) + 0 * e([[2,5]]) + 0 * e([3]) + 0 * e([1,3]) + 0 * e([[1,2],3]) + 0 * e([[1,3],3]) + 0 * e([[1,4],3]) + 0 * e([2,3]) + 0 * e([1,2,3]) + 0 * e([[1,2],2,3]) + 0 * e([[1,3],2,3]) + 0 * e([[2,2],3]) + 0 * e([1,[2,2],3]) + 0 * e([[1,2],[2,2],3]) + 0 * e([[2,3],3]) + 0 * e([1,[2,3],3]) + 0 * e([[2,4],3]) + 0 * e([[3,2]]) + 0 * e([1,[3,2]]) + 0 * e([[1,2],[3,2]]) + 0 * e([[1,3],[3,2]]) + 0 * e([2,[3,2]]) + 0 * e([1,2,[3,2]]) + 0 * e([[1,2],2,[3,2]]) + 0 * e([[2,2],[3,2]]) + 0 * e([1,[2,2],[3,2]]) + 0 * e([[2,3],[3,2]]) + 0 * e([[3,3]]) + 0 * e([1,[3,3]]) + 0 * e([[1,2],[3,3]]) + 0 * e([2,[3,3]]) + 0 * e([1,2,[3,3]]) + 0 * e([[2,2],[3,3]]) + 0 * e([[3,4]]) + 0 * e([1,[3,4]]) + 0 * e([2,[3,4]]) + 0 * e([[3,5]]) + 0 * e([4]) + 0 * e([1,4]) + 0 * e([[1,2],4]) + 0 * e([[1,3],4]) + 0 * e([[1,4],4]) + 0 * e([2,4]) + 0 * e([1,2,4]) + 0 * e([[1,2],2,4]) + 0 * e([[1,3],2,4]) + 0 * e([[2,2],4]) + 0 * e([1,[2,2],4]) + 0 * e([[1,2],[2,2],4]) + 0 * e([[2,3],4]) + 0 * e([1,[2,3],4]) + 0 * e([[2,4],4]) + 0 * e([3,4]) + 0 * e([1,3,4]) + 0 * e([[1,2],3,4]) + 0 * e([[1,3],3,4]) + 0 * e([2,3,4]) + 0 * e([1,2,3,4]) + 0 * e([[1,2],2,3,4]) + 0 * e([[2,2],3,4]) + 0 * e([1,[2,2],3,4]) + 0 * e([[2,3],3,4]) + 0 * e([[3,2],4]) + 0 * e([1,[3,2],4]) + 0 * e([[1,2],[3,2],4]) + 0 * e([2,[3,2],4]) + 0 * e([1,2,[3,2],4]) + 0 * e([[2,2],[3,2],4]) + 0 * e([[3,3],4]) + 0 * e([1,[3,3],4]) + 0 * e([2,[3,3],4]) + 0 * e([[3,4],4]) + 0 * e([[4,2]]) + 0 * e([1,[4,2]]) + 0 * e([[1,2],[4,2]]) + 0 * e([[1,3],[4,2]]) + 0 * e([2,[4,2]]) + 0 * e([1,2,[4,2]]) + 0 * e([[1,2],2,[4,2]]) + 0 * e([[2,2],[4,2]]) + 0 * e([1,[2,2],[4,2]]) + 0 * e([[2,3],[4,2]]) + 0 * e([3,[4,2]]) + 0 * e([1,3,[4,2]]) + 0 * e([[1,2],3,[4,2]]) + 0 * e([2,3,[4,2]]) + 0 * e([1,2,3,[4,2]]) + 0 * e([[2,2],3,[4,2]]) + 0 * e([[3,2],[4,2]]) + 0 * e([1,[3,2],[4,2]]) + 0 * e([2,[3,2],[4,2]]) + 0 * e([[3,3],[4,2]]) + 0 * e([[4,3]]) + 0 * e([1,[4,3]]) + 0 * e([[1,2],[4,3]]) + 0 * e([2,[4,3]]) + 0 * e([1,2,[4,3]]) + 0 * e([[2,2],[4,3]]) + 0 * e([3,[4,3]]) + 0 * e([1,3,[4,3]]) + 0 * e([2,3,[4,3]]) + 0 * e([[3,2],[4,3]]) + 0 * e([[4,4]]) + 0 * e([1,[4,4]]) + 0 * e([2,[4,4]]) + 0 * e([3,[4,4]]) + 0 * e([[4,5]]) + 0 * e([5]) + 0 * e([1,5]) + 0 * e([[1,2],5]) + 0 * e([[1,3],5]) + 0 * e([[1,4],5]) + 0 * e([2,5]) + 0 * e([1,2,5]) + 0 * e([[1,2],2,5]) + 0 * e([[1,3],2,5]) + 0 * e([[2,2],5]) + 0 * e([1,[2,2],5]) + 0 * e([[1,2],[2,2],5]) + 0 * e([[2,3],5]) + 0 * e([1,[2,3],5]) + 0 * e([[2,4],5]) + 0 * e([3,5]) + 0 * e([1,3,5]) + 0 * e([[1,2],3,5]) + 0 * e([[1,3],3,5]) + 0 * e([2,3,5]) + 0 * e([1,2,3,5]) + 0 * e([[1,2],2,3,5]) + 0 * e([[2,2],3,5]) + 0 * e([1,[2,2],3,5]) + 0 * e([[2,3],3,5]) + 0 * e([[3,2],5]) + 0 * e([1,[3,2],5]) + 0 * e([[1,2],[3,2],5]) + 0 * e([2,[3,2],5]) + 0 * e([1,2,[3,2],5]) + 0 * e([[2,2],[3,2],5]) + 0 * e([[3,3],5]) + 0 * e([1,[3,3],5]) + 0 * e([2,[3,3],5]) + 0 * e([[3,4],5]) + 0 * e([4,5]) + 0 * e([1,4,5]) + 0 * e([[1,2],4,5]) + 0 * e([[1,3],4,5]) + 0 * e([2,4,5]) + 0 * e([1,2,4,5]) + 0 * e([[1,2],2,4,5]) + 0 * e([[2,2],4,5]) + 0 * e([1,[2,2],4,5]) + 0 * e([[2,3],4,5]) + 0 * e([3,4,5]) + 0 * e([1,3,4,5]) + 0 * e([[1,2],3,4,5]) + 0 * e([2,3,4,5]) + 0 * e([1,2,3,4,5]) + 0 * e([[2,2],3,4,5]) + 0 * e([[3,2],4,5]) + 0 * e([1,[3,2],4,5]) + 0 * e([2,[3,2],4,5]) + 0 * e([[3,3],4,5]) + 0 * e([[4,2],5]) + 0 * e([1,[4,2],5]) + 0 * e([[1,2],[4,2],5]) + 0 * e([2,[4,2],5]) + 0 * e([1,2,[4,2],5]) + 0 * e([[2,2],[4,2],5]) + 0 * e([3,[4,2],5]) + 0 * e([1,3,[4,2],5]) + 0 * e([2,3,[4,2],5]) + 0 * e([[3,2],[4,2],5]) + 0 * e([[4,3],5]) + 0 * e([1,[4,3],5]) + 0 * e([2,[4,3],5]) + 0 * e([3,[4,3],5]) + 0 * e([[4,4],5]) + 0 * e([[5,2]]) + 0 * e([1,[5,2]]) + 0 * e([[1,2],[5,2]]) + 0 * e([[1,3],[5,2]]) + 0 * e([2,[5,2]]) + 0 * e([1,2,[5,2]]) + 0 * e([[1,2],2,[5,2]]) + 0 * e([[2,2],[5,2]]) + 0 * e([1,[2,2],[5,2]]) + 0 * e([[2,3],[5,2]]) + 0 * e([3,[5,2]]) + 0 * e([1,3,[5,2]]) + 0 * e([[1,2],3,[5,2]]) + 0 * e([2,3,[5,2]]) + 0 * e([1,2,3,[5,2]]) + 0 * e([[2,2],3,[5,2]]) + 0 * e([[3,2],[5,2]]) + 0 * e([1,[3,2],[5,2]]) + 0 * e([2,[3,2],[5,2]]) + 0 * e([[3,3],[5,2]]) + 0 * e([4,[5,2]]) + 0 * e([1,4,[5,2]]) + 0 * e([[1,2],4,[5,2]]) + 0 * e([2,4,[5,2]]) + 0 * e([1,2,4,[5,2]]) + 0 * e([[2,2],4,[5,2]]) + 0 * e([3,4,[5,2]]) + 0 * e([1,3,4,[5,2]]) + 0 * e([2,3,4,[5,2]]) + 0 * e([[3,2],4,[5,2]]) + 0 * e([[4,2],[5,2]]) + 0 * e([1,[4,2],[5,2]]) + 0 * e([2,[4,2],[5,2]]) + 0 * e([3,[4,2],[5,2]]) + 0 * e([[4,3],[5,2]]) + 0 * e([[5,3]]) + 0 * e([1,[5,3]]) + 0 * e([[1,2],[5,3]]) + 0 * e([2,[5,3]]) + 0 * e([1,2,[5,3]]) + 0 * e([[2,2],[5,3]]) + 0 * e([3,[5,3]]) + 0 * e([1,3,[5,3]]) + 0 * e([2,3,[5,3]]) + 0 * e([[3,2],[5,3]]) + 0 * e([4,[5,3]]) + 0 * e([1,4,[5,3]]) + 0 * e([2,4,[5,3]]) + 0 * e([3,4,[5,3]]) + 0 * e([[4,2],[5,3]]) + 0 * e([[5,4]]) + 0 * e([1,[5,4]]) + 0 * e([2,[5,4]]) + 0 * e([3,[5,4]]) + 0 * e([4,[5,4]]) + 1 * e([[5,5]]) \n"
     ]
    }
   ],
   "source": [
    "\n",
    "print( e([[5,2]]) )"
   ]
  },
  {
   "cell_type": "code",
   "execution_count": null,
   "metadata": {
    "collapsed": true
   },
   "outputs": [],
   "source": []
  },
  {
   "cell_type": "code",
   "execution_count": null,
   "metadata": {
    "collapsed": true
   },
   "outputs": [],
   "source": []
  },
  {
   "cell_type": "code",
   "execution_count": null,
   "metadata": {
    "collapsed": true
   },
   "outputs": [],
   "source": []
  },
  {
   "cell_type": "code",
   "execution_count": 11,
   "metadata": {
    "collapsed": true
   },
   "outputs": [],
   "source": [
    "c = otic.dHelp.merror"
   ]
  },
  {
   "cell_type": "code",
   "execution_count": 12,
   "metadata": {},
   "outputs": [
    {
     "data": {
      "text/plain": [
       "<attribute 'merror' of 'oticore.dHelp' objects>"
      ]
     },
     "execution_count": 12,
     "metadata": {},
     "output_type": "execute_result"
    }
   ],
   "source": [
    "c"
   ]
  },
  {
   "cell_type": "code",
   "execution_count": null,
   "metadata": {
    "collapsed": true
   },
   "outputs": [],
   "source": []
  },
  {
   "cell_type": "code",
   "execution_count": null,
   "metadata": {
    "collapsed": true
   },
   "outputs": [],
   "source": []
  },
  {
   "cell_type": "code",
   "execution_count": 14,
   "metadata": {
    "collapsed": true
   },
   "outputs": [],
   "source": [
    "import sympy as sym\n",
    "x,y,z = sym.symbols(\"x y z\")\n",
    "sym.init_printing()"
   ]
  },
  {
   "cell_type": "code",
   "execution_count": 10,
   "metadata": {
    "collapsed": true
   },
   "outputs": [],
   "source": [
    "f = sym.Function('f')(x,y,z)\n",
    "g = sym.Function('g')(f)"
   ]
  },
  {
   "cell_type": "code",
   "execution_count": 11,
   "metadata": {},
   "outputs": [
    {
     "data": {
      "text/plain": [
       "f(x, y, z)"
      ]
     },
     "execution_count": 11,
     "metadata": {},
     "output_type": "execute_result"
    }
   ],
   "source": [
    "\n",
    "f"
   ]
  },
  {
   "cell_type": "code",
   "execution_count": 12,
   "metadata": {},
   "outputs": [
    {
     "data": {
      "text/plain": [
       "g(f(x, y, z))"
      ]
     },
     "execution_count": 12,
     "metadata": {},
     "output_type": "execute_result"
    }
   ],
   "source": [
    "g"
   ]
  },
  {
   "cell_type": "code",
   "execution_count": 16,
   "metadata": {},
   "outputs": [
    {
     "data": {
      "image/png": "[encoded data removed]",
      "text/latex": [
       "$$\\left(\\frac{\\partial}{\\partial x} f{\\left (x,y,z \\right )}\\right)^{2} \\frac{\\partial^{2}}{\\partial f{\\left (x,y,z \\right )}^{2}}  g{\\left (f{\\left (x,y,z \\right )} \\right )} + \\frac{\\partial^{2}}{\\partial x^{2}}  f{\\left (x,y,z \\right )} \\left. \\frac{d}{d \\xi_{1}} g{\\left (\\xi_{1} \\right )} \\right|_{\\substack{ \\xi_{1}=f{\\left (x,y,z \\right )} }}$$"
      ],
      "text/plain": [
       "                2       2                         2                           \n",
       "⎛∂             ⎞       ∂                         ∂              ⎛ d        ⎞│ \n",
       "⎜──(f(x, y, z))⎟ ⋅────────────(g(f(x, y, z))) + ───(f(x, y, z))⋅⎜───(g(ξ₁))⎟│ \n",
       "⎝∂x            ⎠             2                    2             ⎝dξ₁       ⎠│ξ\n",
       "                  ∂f(x, y, z)                   ∂x                            \n",
       "\n",
       "            \n",
       "            \n",
       "            \n",
       "₁=f(x, y, z)\n",
       "            "
      ]
     },
     "execution_count": 16,
     "metadata": {},
     "output_type": "execute_result"
    }
   ],
   "source": [
    "g.diff(x,2)"
   ]
  },
  {
   "cell_type": "code",
   "execution_count": 21,
   "metadata": {},
   "outputs": [
    {
     "data": {
      "image/png": "[encoded data removed]",
      "text/latex": [
       "$$\\frac{\\partial}{\\partial x} f{\\left (x,y,z \\right )} \\frac{\\partial}{\\partial y} f{\\left (x,y,z \\right )} \\frac{\\partial}{\\partial z} f{\\left (x,y,z \\right )} \\frac{\\partial^{3}}{\\partial f{\\left (x,y,z \\right )}^{3}}  g{\\left (f{\\left (x,y,z \\right )} \\right )} + \\frac{\\partial}{\\partial x} f{\\left (x,y,z \\right )} \\frac{\\partial^{2}}{\\partial y\\partial z}  f{\\left (x,y,z \\right )} \\frac{\\partial^{2}}{\\partial f{\\left (x,y,z \\right )}^{2}}  g{\\left (f{\\left (x,y,z \\right )} \\right )} + \\frac{\\partial}{\\partial y} f{\\left (x,y,z \\right )} \\frac{\\partial^{2}}{\\partial x\\partial z}  f{\\left (x,y,z \\right )} \\frac{\\partial^{2}}{\\partial f{\\left (x,y,z \\right )}^{2}}  g{\\left (f{\\left (x,y,z \\right )} \\right )} + \\frac{\\partial}{\\partial z} f{\\left (x,y,z \\right )} \\frac{\\partial^{2}}{\\partial x\\partial y}  f{\\left (x,y,z \\right )} \\frac{\\partial^{2}}{\\partial f{\\left (x,y,z \\right )}^{2}}  g{\\left (f{\\left (x,y,z \\right )} \\right )} + \\frac{\\partial^{3}}{\\partial x\\partial y\\partial z}  f{\\left (x,y,z \\right )} \\left. \\frac{d}{d \\xi_{1}} g{\\left (\\xi_{1} \\right )} \\right|_{\\substack{ \\xi_{1}=f{\\left (x,y,z \\right )} }}$$"
      ],
      "text/plain": [
       "                                                   3                          \n",
       "∂              ∂              ∂                   ∂                        ∂  \n",
       "──(f(x, y, z))⋅──(f(x, y, z))⋅──(f(x, y, z))⋅────────────(g(f(x, y, z))) + ──(\n",
       "∂x             ∂y             ∂z                        3                  ∂x \n",
       "                                             ∂f(x, y, z)                      \n",
       "\n",
       "               2                    2                                         \n",
       "              ∂                    ∂                        ∂                ∂\n",
       "f(x, y, z))⋅─────(f(x, y, z))⋅────────────(g(f(x, y, z))) + ──(f(x, y, z))⋅───\n",
       "            ∂z ∂y                        2                  ∂y             ∂z \n",
       "                              ∂f(x, y, z)                                     \n",
       "\n",
       "2                    2                                         2              \n",
       "                    ∂                        ∂                ∂               \n",
       "──(f(x, y, z))⋅────────────(g(f(x, y, z))) + ──(f(x, y, z))⋅─────(f(x, y, z))⋅\n",
       "∂x                        2                  ∂z             ∂y ∂x             \n",
       "               ∂f(x, y, z)                                                    \n",
       "\n",
       "      2                           3                                          \n",
       "     ∂                           ∂                 ⎛ d        ⎞│             \n",
       "────────────(g(f(x, y, z))) + ────────(f(x, y, z))⋅⎜───(g(ξ₁))⎟│             \n",
       "           2                  ∂z ∂y ∂x             ⎝dξ₁       ⎠│ξ₁=f(x, y, z)\n",
       "∂f(x, y, z)                                                                  "
      ]
     },
     "execution_count": 21,
     "metadata": {},
     "output_type": "execute_result"
    }
   ],
   "source": [
    "g.diff(x).diff(y).diff(z).evalf()"
   ]
  },
  {
   "cell_type": "code",
   "execution_count": null,
   "metadata": {
    "collapsed": true
   },
   "outputs": [],
   "source": []
  },
  {
   "cell_type": "code",
   "execution_count": null,
   "metadata": {
    "collapsed": true
   },
   "outputs": [],
   "source": []
  },
  {
   "cell_type": "code",
   "execution_count": null,
   "metadata": {
    "collapsed": true
   },
   "outputs": [],
   "source": []
  },
  {
   "cell_type": "code",
   "execution_count": null,
   "metadata": {
    "collapsed": true
   },
   "outputs": [],
   "source": []
  },
  {
   "cell_type": "code",
   "execution_count": null,
   "metadata": {
    "collapsed": true
   },
   "outputs": [],
   "source": []
  },
  {
   "cell_type": "code",
   "execution_count": 34,
   "metadata": {
    "collapsed": true
   },
   "outputs": [],
   "source": [
    "order = 2\n",
    "multiple = [0,0,0,0]\n"
   ]
  },
  {
   "cell_type": "code",
   "execution_count": 60,
   "metadata": {},
   "outputs": [
    {
     "data": {
      "text/plain": [
       "[1, 2, 2, 0]"
      ]
     },
     "execution_count": 60,
     "metadata": {},
     "output_type": "execute_result"
    }
   ],
   "source": [
    "passed = 0\n",
    "k=0\n",
    "while passed == 0:\n",
    "\n",
    "    if (multiple[k]+1)>order:\n",
    "\n",
    "        multiple[k] = 0\n",
    "        k += 1\n",
    "\n",
    "    else:\n",
    "\n",
    "        multiple[k] += 1\n",
    "        passed = 1\n",
    " \n",
    "    # end if\n",
    "    \n",
    "# end while\n",
    "multiple"
   ]
  },
  {
   "cell_type": "code",
   "execution_count": null,
   "metadata": {
    "collapsed": true
   },
   "outputs": [],
   "source": []
  }
 ],
 "metadata": {
  "kernelspec": {
   "display_name": "Python 3",
   "language": "python",
   "name": "python3"
  },
  "language_info": {
   "codemirror_mode": {
    "name": "ipython",
    "version": 3
   },
   "file_extension": ".py",
   "mimetype": "text/x-python",
   "name": "python",
   "nbconvert_exporter": "python",
   "pygments_lexer": "ipython3",
   "version": "3.6.0"
  }
 },
 "nbformat": 4,
 "nbformat_minor": 2
}
