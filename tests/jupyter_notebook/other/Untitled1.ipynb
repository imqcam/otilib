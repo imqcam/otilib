{
 "cells": [
  {
   "cell_type": "code",
   "execution_count": 1,
   "metadata": {},
   "outputs": [],
   "source": [
    "import sympy as sym\n",
    "sym.init_printing()\n",
    "one = sym.sympify(1)"
   ]
  },
  {
   "cell_type": "code",
   "execution_count": 2,
   "metadata": {},
   "outputs": [],
   "source": [
    "# Helper functions.\n",
    "def get_real(expr):\n",
    "    tmp = sym.collect((expr/e2).expand(),1/e2,exact=True, evaluate=False)[1/e2]\n",
    "    tmp = sym.collect((tmp/e1).expand(),1/e1,exact=True, evaluate=False)[1/e1]\n",
    "    return tmp\n",
    "   \n",
    "def convert(expr):\n",
    "    tmp = expr\n",
    "    for pair in equiv:\n",
    "        tmp = tmp.replace(pair[0],pair[1])\n",
    "    return tmp"
   ]
  },
  {
   "cell_type": "code",
   "execution_count": 3,
   "metadata": {},
   "outputs": [],
   "source": [
    "e1, e2 = sym.symbols(\"\\epsilon_1 \\epsilon_2\")\n",
    "fr = sym.symbols('f_r')\n",
    "fe1, fe2 = sym.symbols('f_{e1} f_{e2}')\n",
    "fe11, fe12, fe22 = sym.symbols('f_{e11} f_{e12} f_{e22}')\n",
    "fe111, fe112, fe122, fe222 = sym.symbols('f_{e111} f_{e112} f_{e122} f_{e222} ')\n",
    "\n",
    "f = sym.symbols('f')\n",
    "fx, fy = sym.symbols('f_{t} f_{y}')\n",
    "fxx, fxy, fyy = sym.symbols('f_{tt} f_{ty} f_{yy}')\n",
    "fxxx, fxxy, fxyy, fyyy = sym.symbols('f_{ttt} f_{tty} f_{tyy} f_{yyy} ')\n",
    "\n",
    "equiv = [ \n",
    "    [fr,f],\n",
    "    [fe1,fx],\n",
    "    [fe2,fy],\n",
    "    [fe11,fxx/2],\n",
    "    [fe12,fxy],\n",
    "    [fe22,fyy/2],\n",
    "    [fe111,fxxx/6],\n",
    "    [fe112,fxxy/2],\n",
    "    [fe122,fxyy/2],\n",
    "    [fe222,fyyy/6],\n",
    "]"
   ]
  },
  {
   "cell_type": "code",
   "execution_count": 4,
   "metadata": {},
   "outputs": [
    {
     "data": {
      "image/png": "[encoded data removed]",
      "text/latex": [
       "$\\displaystyle \\epsilon_1^{2} f_{e11} + \\epsilon_1 \\epsilon_2 f_{e12} + \\epsilon_1 f_{e1} + \\epsilon_2^{2} f_{e22} + \\epsilon_2 f_{e2} + f_{r}$"
      ],
      "text/plain": [
       "         2                                                                    \n",
       "\\epsilon₁ ⋅f_{e11} + \\epsilon₁⋅\\epsilon₂⋅f_{e12} + \\epsilon₁⋅f_{e1} + \\epsilon\n",
       "\n",
       " 2                                \n",
       "₂ ⋅f_{e22} + \\epsilon₂⋅f_{e2} + fᵣ"
      ]
     },
     "execution_count": 4,
     "metadata": {},
     "output_type": "execute_result"
    }
   ],
   "source": [
    "f_oti = fr                                                      # Real\n",
    "f_oti += (fe1*e1+fe2*e2)                                         # Order 1\n",
    "f_oti += (fe11*e1**2+fe12*e1*e2+fe22*e2**2)                      # Order 2 \n",
    "# f_oti += (fe111*e1**3+fe112*e1**2*e2+fe122*e1*e2**2+fe222*e2**3) # Order 3\n",
    "f_oti"
   ]
  },
  {
   "cell_type": "code",
   "execution_count": 5,
   "metadata": {},
   "outputs": [],
   "source": [
    "f0_e1 = sym.collect((f_oti/e1).expand(),1/e1,exact=True,evaluate=False)[one]\n",
    "f0_e2 = sym.collect((f_oti/e2).expand(),1/e2,exact=True,evaluate=False)[one]"
   ]
  },
  {
   "cell_type": "code",
   "execution_count": 6,
   "metadata": {},
   "outputs": [
    {
     "data": {
      "image/png": "[encoded data removed]",
      "text/latex": [
       "$\\displaystyle \\epsilon_1 f_{e12} + \\epsilon_2 f_{e22} + f_{e2}$"
      ],
      "text/plain": [
       "\\epsilon₁⋅f_{e12} + \\epsilon₂⋅f_{e22} + f_{e2}"
      ]
     },
     "execution_count": 6,
     "metadata": {},
     "output_type": "execute_result"
    }
   ],
   "source": [
    "f0_e2"
   ]
  },
  {
   "cell_type": "code",
   "execution_count": 7,
   "metadata": {},
   "outputs": [],
   "source": [
    "f0 = f_oti.copy()"
   ]
  },
  {
   "cell_type": "code",
   "execution_count": 14,
   "metadata": {},
   "outputs": [],
   "source": [
    "f1 = f0_e1 + f0_e2*get_real(f0)\n",
    "f1_e1 = sym.collect((f1/e1).expand(),1/e1,exact=True,evaluate=False)[one]\n",
    "f1_e2 = sym.collect((f1/e2).expand(),1/e2,exact=True,evaluate=False)[one]\n",
    "\n"
   ]
  },
  {
   "cell_type": "code",
   "execution_count": 15,
   "metadata": {},
   "outputs": [
    {
     "data": {
      "image/png": "[encoded data removed]",
      "text/latex": [
       "$\\displaystyle f_{r} f_{e12} + f_{e11}$"
      ],
      "text/plain": [
       "fᵣ⋅f_{e12} + f_{e11}"
      ]
     },
     "execution_count": 15,
     "metadata": {},
     "output_type": "execute_result"
    }
   ],
   "source": [
    "f1_e1"
   ]
  },
  {
   "cell_type": "code",
   "execution_count": 16,
   "metadata": {},
   "outputs": [
    {
     "data": {
      "image/png": "[encoded data removed]",
      "text/latex": [
       "$\\displaystyle f_{r} f_{e22} + f_{e12}$"
      ],
      "text/plain": [
       "fᵣ⋅f_{e22} + f_{e12}"
      ]
     },
     "execution_count": 16,
     "metadata": {},
     "output_type": "execute_result"
    }
   ],
   "source": [
    "f1_e2"
   ]
  },
  {
   "cell_type": "code",
   "execution_count": 17,
   "metadata": {},
   "outputs": [],
   "source": [
    "f2 = f1_e1 + f1_e2*get_real(f1)"
   ]
  },
  {
   "cell_type": "code",
   "execution_count": 18,
   "metadata": {},
   "outputs": [
    {
     "data": {
      "image/png": "[encoded data removed]",
      "text/latex": [
       "$\\displaystyle f_{r} f_{e12} + f_{e11} + \\left(f_{r} f_{e22} + f_{e12}\\right) \\left(f_{r} f_{e2} + f_{e1}\\right)$"
      ],
      "text/plain": [
       "fᵣ⋅f_{e12} + f_{e11} + (fᵣ⋅f_{e22} + f_{e12})⋅(fᵣ⋅f_{e2} + f_{e1})"
      ]
     },
     "execution_count": 18,
     "metadata": {},
     "output_type": "execute_result"
    }
   ],
   "source": [
    "f2"
   ]
  },
  {
   "cell_type": "code",
   "execution_count": null,
   "metadata": {},
   "outputs": [],
   "source": []
  },
  {
   "cell_type": "code",
   "execution_count": 19,
   "metadata": {},
   "outputs": [
    {
     "data": {
      "image/png": "[encoded data removed]",
      "text/latex": [
       "$\\displaystyle f$"
      ],
      "text/plain": [
       "f"
      ]
     },
     "execution_count": 19,
     "metadata": {},
     "output_type": "execute_result"
    }
   ],
   "source": [
    "convert(get_real(f0))"
   ]
  },
  {
   "cell_type": "code",
   "execution_count": 20,
   "metadata": {},
   "outputs": [
    {
     "data": {
      "image/png": "[encoded data removed]",
      "text/latex": [
       "$\\displaystyle f f_{y} + f_{t}$"
      ],
      "text/plain": [
       "f⋅f_{y} + f_{t}"
      ]
     },
     "execution_count": 20,
     "metadata": {},
     "output_type": "execute_result"
    }
   ],
   "source": [
    "convert((get_real(f1)))\n"
   ]
  },
  {
   "cell_type": "code",
   "execution_count": 21,
   "metadata": {},
   "outputs": [
    {
     "data": {
      "image/png": "[encoded data removed]",
      "text/latex": [
       "$\\displaystyle \\frac{f^{2} f_{yy} f_{y}}{2} + f f_{ty} f_{y} + f f_{ty} + \\frac{f f_{t} f_{yy}}{2} + \\frac{f_{tt}}{2} + f_{ty} f_{t}$"
      ],
      "text/plain": [
       " 2                                                                            \n",
       "f ⋅f_{yy}⋅f_{y}                               f⋅f_{t}⋅f_{yy}   f_{tt}         \n",
       "─────────────── + f⋅f_{ty}⋅f_{y} + f⋅f_{ty} + ────────────── + ────── + f_{ty}\n",
       "       2                                            2            2            \n",
       "\n",
       "      \n",
       "      \n",
       "⋅f_{t}\n",
       "      "
      ]
     },
     "execution_count": 21,
     "metadata": {},
     "output_type": "execute_result"
    }
   ],
   "source": [
    "convert(get_real(f2))"
   ]
  },
  {
   "cell_type": "code",
   "execution_count": null,
   "metadata": {},
   "outputs": [],
   "source": []
  },
  {
   "cell_type": "code",
   "execution_count": 29,
   "metadata": {},
   "outputs": [],
   "source": [
    "t,y = sym.symbols('t, y')\n"
   ]
  },
  {
   "cell_type": "code",
   "execution_count": 32,
   "metadata": {},
   "outputs": [],
   "source": [
    "f = sym.Function('f')(y,t)"
   ]
  },
  {
   "cell_type": "code",
   "execution_count": 34,
   "metadata": {},
   "outputs": [],
   "source": [
    "\n",
    "f1 = sym.diff(f,t)+sym.diff(f,y)\n"
   ]
  },
  {
   "cell_type": "code",
   "execution_count": 80,
   "metadata": {},
   "outputs": [],
   "source": [
    "\n",
    "\n",
    "f_tt = \"d^2/dt^2(f(t, y(t))) = y''(t) f^(0, 1)(t, y(t)) + y'(t)^2 f^(0, 2)(t, y(t)) + 2 y'(t) f^(1, 1)(t, y(t)) + f^(2, 0)(t, y(t))\"\n",
    "f_ttt = \"d^3/dt^3(f(t, y(t))) = y^(3)(t) f^(0, 1)(t, y(t)) + 3 y''(t) f^(1, 1)(t, y(t)) + y'(t)^3 f^(0, 3)(t, y(t)) + 3 y'(t)^2 f^(1, 2)(t, y(t)) + 3 y'(t) (y''(t) f^(0, 2)(t, y(t)) + f^(2, 1)(t, y(t))) + f^(3, 0)(t, y(t))\"\n",
    "def parse_wolframAlpha(expr):\n",
    "    \n",
    "    # Clean Up\n",
    "    expr = expr.replace(\" \",\"\").replace(\"(t,y(t))\",\"\").replace(\"(t)\",\"\")\n",
    "    rhs = expr.split(\"=\")[-1]\n",
    "    \n",
    "    print('rhs:',rhs)\n",
    "    \n",
    "    terms = rhs.split(\"+\")\n",
    "    i=1\n",
    "    out = \"\"\n",
    "    for term in terms:\n",
    "        y_term,f_deriv = term.split(\"f^\")\n",
    "        f_deriv = f_deriv.split(',')\n",
    "        f_dt = int(f_deriv[0][1:])\n",
    "        f_dy = int(f_deriv[1][:-1])\n",
    "        y_deriv = y_term.count(\"'\")\n",
    "        y_term = y_term.replace(\"'\",\"\")\n",
    "\n",
    "        y_text = \"\"\n",
    "        if y_deriv ==1:\n",
    "            y_text = '\\\\frac{dy}{dt}'\n",
    "        elif y_deriv != 0:\n",
    "            y_text = '\\\\frac{{d^{{{0}}}y}}{{dt^{0}}}'.format(y_deriv)\n",
    "        # end if\n",
    "        \n",
    "        out+= y_term.replace(\"y\",y_text)\n",
    "#         print(out)\n",
    "        \n",
    "        print(i,term, y_deriv, f_dt, f_dy)\n",
    "#         print(y_text)\n",
    "        i+=1\n",
    "        out+= \" + \"\n",
    "    \n",
    "    "
   ]
  },
  {
   "cell_type": "code",
   "execution_count": 77,
   "metadata": {},
   "outputs": [
    {
     "name": "stdout",
     "output_type": "stream",
     "text": [
      "rhs: y''f^(0,1)+y'^2f^(0,2)+2y'f^(1,1)+f^(2,0)\n",
      "1 y''f^(0,1) 2 0 1\n",
      "2 y'^2f^(0,2) 1 0 2\n",
      "3 2y'f^(1,1) 1 1 1\n",
      "4 f^(2,0) 0 2 0\n"
     ]
    }
   ],
   "source": [
    "parse_wolframAlpha(f_tt)"
   ]
  },
  {
   "cell_type": "code",
   "execution_count": 79,
   "metadata": {},
   "outputs": [
    {
     "name": "stdout",
     "output_type": "stream",
     "text": [
      "rhs: y^(3)f^(0,1)+3y''f^(1,1)+y'^3f^(0,3)+3y'^2f^(1,2)+3y'(y''f^(0,2)+f^(2,1))+f^(3,0)\n",
      "1 y^(3)f^(0,1) 0 0 1\n",
      "2 3y''f^(1,1) 2 1 1\n",
      "3 y'^3f^(0,3) 1 0 3\n",
      "4 3y'^2f^(1,2) 1 1 2\n",
      "5 3y'(y''f^(0,2) 3 0 2\n"
     ]
    },
    {
     "ename": "ValueError",
     "evalue": "invalid literal for int() with base 10: '1)'",
     "output_type": "error",
     "traceback": [
      "\u001b[0;31m---------------------------------------------------------------------------\u001b[0m",
      "\u001b[0;31mValueError\u001b[0m                                Traceback (most recent call last)",
      "\u001b[0;32m<ipython-input-79-86c059ec56fa>\u001b[0m in \u001b[0;36m<module>\u001b[0;34m\u001b[0m\n\u001b[0;32m----> 1\u001b[0;31m \u001b[0mparse_wolframAlpha\u001b[0m\u001b[0;34m(\u001b[0m\u001b[0mf_ttt\u001b[0m\u001b[0;34m)\u001b[0m\u001b[0;34m\u001b[0m\u001b[0;34m\u001b[0m\u001b[0m\n\u001b[0m",
      "\u001b[0;32m<ipython-input-78-add9d2ad4d79>\u001b[0m in \u001b[0;36mparse_wolframAlpha\u001b[0;34m(expr)\u001b[0m\n\u001b[1;32m     15\u001b[0m         \u001b[0mf_deriv\u001b[0m \u001b[0;34m=\u001b[0m \u001b[0mf_deriv\u001b[0m\u001b[0;34m.\u001b[0m\u001b[0msplit\u001b[0m\u001b[0;34m(\u001b[0m\u001b[0;34m','\u001b[0m\u001b[0;34m)\u001b[0m\u001b[0;34m\u001b[0m\u001b[0;34m\u001b[0m\u001b[0m\n\u001b[1;32m     16\u001b[0m         \u001b[0mf_dt\u001b[0m \u001b[0;34m=\u001b[0m \u001b[0mint\u001b[0m\u001b[0;34m(\u001b[0m\u001b[0mf_deriv\u001b[0m\u001b[0;34m[\u001b[0m\u001b[0;36m0\u001b[0m\u001b[0;34m]\u001b[0m\u001b[0;34m[\u001b[0m\u001b[0;36m1\u001b[0m\u001b[0;34m:\u001b[0m\u001b[0;34m]\u001b[0m\u001b[0;34m)\u001b[0m\u001b[0;34m\u001b[0m\u001b[0;34m\u001b[0m\u001b[0m\n\u001b[0;32m---> 17\u001b[0;31m         \u001b[0mf_dy\u001b[0m \u001b[0;34m=\u001b[0m \u001b[0mint\u001b[0m\u001b[0;34m(\u001b[0m\u001b[0mf_deriv\u001b[0m\u001b[0;34m[\u001b[0m\u001b[0;36m1\u001b[0m\u001b[0;34m]\u001b[0m\u001b[0;34m[\u001b[0m\u001b[0;34m:\u001b[0m\u001b[0;34m-\u001b[0m\u001b[0;36m1\u001b[0m\u001b[0;34m]\u001b[0m\u001b[0;34m)\u001b[0m\u001b[0;34m\u001b[0m\u001b[0;34m\u001b[0m\u001b[0m\n\u001b[0m\u001b[1;32m     18\u001b[0m         \u001b[0my_deriv\u001b[0m \u001b[0;34m=\u001b[0m \u001b[0my_term\u001b[0m\u001b[0;34m.\u001b[0m\u001b[0mcount\u001b[0m\u001b[0;34m(\u001b[0m\u001b[0;34m\"'\"\u001b[0m\u001b[0;34m)\u001b[0m\u001b[0;34m\u001b[0m\u001b[0;34m\u001b[0m\u001b[0m\n\u001b[1;32m     19\u001b[0m         \u001b[0my_term\u001b[0m \u001b[0;34m=\u001b[0m \u001b[0my_term\u001b[0m\u001b[0;34m.\u001b[0m\u001b[0mreplace\u001b[0m\u001b[0;34m(\u001b[0m\u001b[0;34m\"'\"\u001b[0m\u001b[0;34m,\u001b[0m\u001b[0;34m\"\"\u001b[0m\u001b[0;34m)\u001b[0m\u001b[0;34m\u001b[0m\u001b[0;34m\u001b[0m\u001b[0m\n",
      "\u001b[0;31mValueError\u001b[0m: invalid literal for int() with base 10: '1)'"
     ]
    }
   ],
   "source": [
    "parse_wolframAlpha(f_ttt)"
   ]
  },
  {
   "cell_type": "code",
   "execution_count": null,
   "metadata": {},
   "outputs": [],
   "source": []
  }
 ],
 "metadata": {
  "kernelspec": {
   "display_name": "Python 3",
   "language": "python",
   "name": "python3"
  },
  "language_info": {
   "codemirror_mode": {
    "name": "ipython",
    "version": 3
   },
   "file_extension": ".py",
   "mimetype": "text/x-python",
   "name": "python",
   "nbconvert_exporter": "python",
   "pygments_lexer": "ipython3",
   "version": "3.7.3"
  }
 },
 "nbformat": 4,
 "nbformat_minor": 2
}
