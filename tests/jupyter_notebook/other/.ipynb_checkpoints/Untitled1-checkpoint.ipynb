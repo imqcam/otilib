{
 "cells": [
  {
   "cell_type": "code",
   "execution_count": 41,
   "metadata": {},
   "outputs": [],
   "source": [
    "import sympy as sym\n",
    "sym.init_printing()\n",
    "one = sym.sympify(1)"
   ]
  },
  {
   "cell_type": "code",
   "execution_count": 30,
   "metadata": {},
   "outputs": [],
   "source": [
    "e1, e2 = sym.symbols(\"\\epsilon_1 \\epsilon_2\")\n",
    "fr = sym.symbols('f_r')\n",
    "fe1, fe2 = sym.symbols('f_{e1} f_{e2}')\n",
    "fe11, fe12, fe22 = sym.symbols('f_{e11} f_{e12} f_{e22}')\n",
    "fe111, fe112, fe122, fe222 = sym.symbols('f_{e111} f_{e112} f_{e122} f_{e222} ')"
   ]
  },
  {
   "cell_type": "code",
   "execution_count": 31,
   "metadata": {},
   "outputs": [
    {
     "data": {
      "image/png": "[encoded data removed]",
      "text/latex": [
       "$\\displaystyle \\epsilon_1^{3} f_{e111} + \\epsilon_1^{2} \\epsilon_2 f_{e112} + \\epsilon_1^{2} f_{e11} + \\epsilon_1 \\epsilon_2^{2} f_{e122} + \\epsilon_1 \\epsilon_2 f_{e12} + \\epsilon_1 f_{e1} + \\epsilon_2^{3} f_{e222} + \\epsilon_2^{2} f_{e22} + \\epsilon_2 f_{e2} + f_{r}$"
      ],
      "text/plain": [
       "         3                     2                               2              \n",
       "\\epsilon₁ ⋅f_{e111} + \\epsilon₁ ⋅\\epsilon₂⋅f_{e112} + \\epsilon₁ ⋅f_{e11} + \\ep\n",
       "\n",
       "                2                                                             \n",
       "silon₁⋅\\epsilon₂ ⋅f_{e122} + \\epsilon₁⋅\\epsilon₂⋅f_{e12} + \\epsilon₁⋅f_{e1} + \n",
       "\n",
       "         3                     2                                \n",
       "\\epsilon₂ ⋅f_{e222} + \\epsilon₂ ⋅f_{e22} + \\epsilon₂⋅f_{e2} + fᵣ"
      ]
     },
     "execution_count": 31,
     "metadata": {},
     "output_type": "execute_result"
    }
   ],
   "source": [
    "f_oti = fr+(fe1*e1+fe2*e2)+(fe11*e1**2+fe12*e1*e2+fe22*e2**2)+(fe111*e1**3+fe112*e1**2*e2+fe122*e1*e2**2+fe222*e2**3)\n",
    "f_oti"
   ]
  },
  {
   "cell_type": "code",
   "execution_count": 42,
   "metadata": {
    "scrolled": true
   },
   "outputs": [],
   "source": [
    "collected = sym.collect(f_oti,e1,exact=True,evaluate=False)"
   ]
  },
  {
   "cell_type": "code",
   "execution_count": 43,
   "metadata": {},
   "outputs": [
    {
     "data": {
      "image/png": "[encoded data removed]",
      "text/latex": [
       "$\\displaystyle \\epsilon_1^{3} f_{e111} + \\epsilon_1^{2} \\epsilon_2 f_{e112} + \\epsilon_1^{2} f_{e11} + \\epsilon_2^{3} f_{e222} + \\epsilon_2^{2} f_{e22} + \\epsilon_2 f_{e2} + f_{r}$"
      ],
      "text/plain": [
       "         3                     2                               2              \n",
       "\\epsilon₁ ⋅f_{e111} + \\epsilon₁ ⋅\\epsilon₂⋅f_{e112} + \\epsilon₁ ⋅f_{e11} + \\ep\n",
       "\n",
       "      3                     2                                \n",
       "silon₂ ⋅f_{e222} + \\epsilon₂ ⋅f_{e22} + \\epsilon₂⋅f_{e2} + fᵣ"
      ]
     },
     "execution_count": 43,
     "metadata": {},
     "output_type": "execute_result"
    }
   ],
   "source": [
    "collected[one]"
   ]
  },
  {
   "cell_type": "code",
   "execution_count": 62,
   "metadata": {},
   "outputs": [],
   "source": [
    "f_e1 = sym.collect((f_oti/e1).expand(),1/e1,exact=True,evaluate=False)[one]"
   ]
  },
  {
   "cell_type": "code",
   "execution_count": 63,
   "metadata": {},
   "outputs": [],
   "source": [
    "f_e2 = sym.collect((f_oti/e2).expand(),1/e2,exact=True,evaluate=False)[one]\n"
   ]
  },
  {
   "cell_type": "code",
   "execution_count": 64,
   "metadata": {},
   "outputs": [
    {
     "data": {
      "image/png": "[encoded data removed]",
      "text/latex": [
       "$\\displaystyle \\epsilon_1^{2} f_{e112} + \\epsilon_1 \\epsilon_2 f_{e122} + \\epsilon_1 f_{e12} + \\epsilon_2^{2} f_{e222} + \\epsilon_2 f_{e22} + f_{e2}$"
      ],
      "text/plain": [
       "         2                                                                    \n",
       "\\epsilon₁ ⋅f_{e112} + \\epsilon₁⋅\\epsilon₂⋅f_{e122} + \\epsilon₁⋅f_{e12} + \\epsi\n",
       "\n",
       "    2                                      \n",
       "lon₂ ⋅f_{e222} + \\epsilon₂⋅f_{e22} + f_{e2}"
      ]
     },
     "execution_count": 64,
     "metadata": {},
     "output_type": "execute_result"
    }
   ],
   "source": [
    "f_e2"
   ]
  },
  {
   "cell_type": "code",
   "execution_count": 65,
   "metadata": {},
   "outputs": [],
   "source": [
    "f0 = f_oti.copy()"
   ]
  },
  {
   "cell_type": "code",
   "execution_count": 66,
   "metadata": {},
   "outputs": [],
   "source": [
    "f1 = f0_e1 + f0_e2*f0\n"
   ]
  },
  {
   "cell_type": "code",
   "execution_count": 73,
   "metadata": {},
   "outputs": [
    {
     "data": {
      "image/png": "[encoded data removed]",
      "text/latex": [
       "$\\displaystyle \\epsilon_1^{2} f_{e111} + \\epsilon_1 \\epsilon_2 f_{e112} + \\epsilon_1 f_{e11} + \\epsilon_2^{2} f_{e122} + \\epsilon_2 f_{e12} + f_{e1} + \\left(\\epsilon_1^{2} f_{e112} + \\epsilon_1 \\epsilon_2 f_{e122} + \\epsilon_1 f_{e12} + \\epsilon_2^{2} f_{e222} + \\epsilon_2 f_{e22} + f_{e2}\\right) \\left(\\epsilon_1^{3} f_{e111} + \\epsilon_1^{2} \\epsilon_2 f_{e112} + \\epsilon_1^{2} f_{e11} + \\epsilon_1 \\epsilon_2^{2} f_{e122} + \\epsilon_1 \\epsilon_2 f_{e12} + \\epsilon_1 f_{e1} + \\epsilon_2^{3} f_{e222} + \\epsilon_2^{2} f_{e22} + \\epsilon_2 f_{e2} + f_{r}\\right)$"
      ],
      "text/plain": [
       "         2                                                                    \n",
       "\\epsilon₁ ⋅f_{e111} + \\epsilon₁⋅\\epsilon₂⋅f_{e112} + \\epsilon₁⋅f_{e11} + \\epsi\n",
       "\n",
       "    2                                         ⎛         2                     \n",
       "lon₂ ⋅f_{e122} + \\epsilon₂⋅f_{e12} + f_{e1} + ⎝\\epsilon₁ ⋅f_{e112} + \\epsilon₁\n",
       "\n",
       "                                                   2                          \n",
       "⋅\\epsilon₂⋅f_{e122} + \\epsilon₁⋅f_{e12} + \\epsilon₂ ⋅f_{e222} + \\epsilon₂⋅f_{e\n",
       "\n",
       "            ⎞ ⎛         3                     2                               \n",
       "22} + f_{e2}⎠⋅⎝\\epsilon₁ ⋅f_{e111} + \\epsilon₁ ⋅\\epsilon₂⋅f_{e112} + \\epsilon₁\n",
       "\n",
       "2                              2                                              \n",
       " ⋅f_{e11} + \\epsilon₁⋅\\epsilon₂ ⋅f_{e122} + \\epsilon₁⋅\\epsilon₂⋅f_{e12} + \\eps\n",
       "\n",
       "                        3                     2                               \n",
       "ilon₁⋅f_{e1} + \\epsilon₂ ⋅f_{e222} + \\epsilon₂ ⋅f_{e22} + \\epsilon₂⋅f_{e2} + f\n",
       "\n",
       " ⎞\n",
       "ᵣ⎠"
      ]
     },
     "execution_count": 73,
     "metadata": {},
     "output_type": "execute_result"
    }
   ],
   "source": []
  },
  {
   "cell_type": "code",
   "execution_count": null,
   "metadata": {},
   "outputs": [],
   "source": []
  }
 ],
 "metadata": {
  "kernelspec": {
   "display_name": "Python 3",
   "language": "python",
   "name": "python3"
  },
  "language_info": {
   "codemirror_mode": {
    "name": "ipython",
    "version": 3
   },
   "file_extension": ".py",
   "mimetype": "text/x-python",
   "name": "python",
   "nbconvert_exporter": "python",
   "pygments_lexer": "ipython3",
   "version": "3.7.3"
  }
 },
 "nbformat": 4,
 "nbformat_minor": 2
}
