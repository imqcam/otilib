{
 "cells": [
  {
   "cell_type": "markdown",
   "metadata": {},
   "source": [
    "# Implementation Check.\n",
    "\n",
    "This file is intended to check all the methods in the spr_dualnum class:\n",
    "\n",
    "So first, start with the creation of the spr_dualnum"
   ]
  },
  {
   "cell_type": "code",
   "execution_count": 2,
   "metadata": {
    "collapsed": true
   },
   "outputs": [],
   "source": [
    "import spr_duallib as dn\n",
    "np = dn.np\n",
    "e= dn.e"
   ]
  },
  {
   "cell_type": "code",
   "execution_count": 12,
   "metadata": {
    "collapsed": false
   },
   "outputs": [],
   "source": [
    "nnum = 20\n",
    "indx = np.arange(0,nnum*2,2)\n",
    "coefficients = np.arange(1,nnum+1)"
   ]
  },
  {
   "cell_type": "code",
   "execution_count": 29,
   "metadata": {
    "collapsed": false
   },
   "outputs": [
    {
     "name": "stdout",
     "output_type": "stream",
     "text": [
      "spr_dualnum([0,2,4,6,8,10,12,14,16,18,20,22,24,26,28,30,32,34,36,38], [1.,2.,3.,4.,5.,6.,7.,8.,9.,10.,11.,12.,13.,14.,\n",
      "15.,16.,17.,18.,19.,20.], 1)\n"
     ]
    },
    {
     "data": {
      "text/plain": [
       "True"
      ]
     },
     "execution_count": 29,
     "metadata": {},
     "output_type": "execute_result"
    }
   ],
   "source": [
    "#create a new spr_dualnumber:\n",
    "a = dn.spr_dualnum(indx,coefficients,1)\n",
    "\n",
    "expected_string= 'spr_dualnum([0,2,4,6,8,10,12,14,16,18,20,22,24,26,28,30,32,34,36,38], [1.,2.,3.,4.,5.,6.,7.,8.,9.,10.,11.,12.,13.,14.,\\n15.,16.,17.,18.,19.,20.], 1)'\n",
    "print(repr(a))\n",
    "repr(a) == expected_string\n",
    "\n",
    "\n",
    "\n",
    "# Here we would expect:\n",
    "# spr_dualnum([0,2,4,6,8,10,12,14,16,18,20,22,24,26,28,30,32,34,36,38], \n",
    "# [1.,2.,3.,4.,5.,6.,7.,8.,9.,10.,11.,12.,13.,14.,15.,16.,17.,18.,19.,20.], 1)"
   ]
  },
  {
   "cell_type": "code",
   "execution_count": 30,
   "metadata": {
    "collapsed": false
   },
   "outputs": [
    {
     "name": "stdout",
     "output_type": "stream",
     "text": [
      "1.0 + 2.0 * e([2]) + 3.0 * e([4]) + 4.0 * e([6]) + 5.0 * e([8]) + 6.0 * e([10]) + 7.0 * e([12]) + 8.0 * e([14]) + 9.0 * e([16]) + 10.0 * e([18]) + 11.0 * e([20]) + 12.0 * e([22]) + 13.0 * e([24]) + 14.0 * e([26]) + 15.0 * e([28]) + 16.0 * e([30]) + 17.0 * e([32]) + 18.0 * e([34]) + 19.0 * e([36]) + 20.0 * e([38]) \n"
     ]
    },
    {
     "data": {
      "text/plain": [
       "True"
      ]
     },
     "execution_count": 30,
     "metadata": {},
     "output_type": "execute_result"
    }
   ],
   "source": [
    "print(a)\n",
    "expected_string = '1.0 + 2.0 * e([2]) + 3.0 * e([4]) + 4.0 * e([6]) + 5.0 * e([8]) + 6.0 * e([10]) + 7.0 * e([12]) + 8.0 * e([14]) + 9.0 * e([16]) + 10.0 * e([18]) + 11.0 * e([20]) + 12.0 * e([22]) + 13.0 * e([24]) + 14.0 * e([26]) + 15.0 * e([28]) + 16.0 * e([30]) + 17.0 * e([32]) + 18.0 * e([34]) + 19.0 * e([36]) + 20.0 * e([38]) '\n",
    "str(a) == expected_string\n",
    "# Here we would expect:\n",
    "# 1.0 + 2.0 * e([2]) + 3.0 * e([4]) + 4.0 * e([6]) + 5.0 * e([8]) \n",
    "# + 6.0 * e([10]) + 7.0 * e([12]) + 8.0 * e([14]) \n",
    "# + 9.0 * e([16]) + 10.0 * e([18]) + 11.0 * e([20]) \n",
    "# + 12.0 * e([22]) + 13.0 * e([24]) + 14.0 * e([26]) \n",
    "# + 15.0 * e([28]) + 16.0 * e([30]) + 17.0 * e([32]) \n",
    "# + 18.0 * e([34]) + 19.0 * e([36]) + 20.0 * e([38]) "
   ]
  },
  {
   "cell_type": "code",
   "execution_count": 32,
   "metadata": {
    "collapsed": false
   },
   "outputs": [
    {
     "name": "stdout",
     "output_type": "stream",
     "text": [
      "spr_dualnum([0,2,4,6,8,10,12,14,16,18,20,22,24,26,28,30,32,34,36,38], [1.,2.,3.,4.,5.,6.,7.,8.,9.,10.,11.,12.,13.,14.,\n",
      "15.,16.,17.,18.,19.,20.], 2)\n"
     ]
    },
    {
     "data": {
      "text/plain": [
       "True"
      ]
     },
     "execution_count": 32,
     "metadata": {},
     "output_type": "execute_result"
    }
   ],
   "source": [
    "#create a new spr_dualnumber:\n",
    "a = dn.spr_dualnum(indx,coefficients,2)\n",
    "expected_string= 'spr_dualnum([0,2,4,6,8,10,12,14,16,18,20,22,24,26,28,30,32,34,36,38], [1.,2.,3.,4.,5.,6.,7.,8.,9.,10.,11.,12.,13.,14.,\\n15.,16.,17.,18.,19.,20.], 2)'\n",
    "\n",
    "print(repr(a))\n",
    "repr(a) == expected_string\n",
    "\n",
    "\n",
    "# Here we would expect:\n",
    "# spr_dualnum([0,2,4,6,8,10,12,14,16,18,20,22,24,26,28,30,32,34,36,38], \n",
    "# [1.,2.,3.,4.,5.,6.,7.,8.,9.,10.,11.,12.,13.,14.,15.,16.,17.,18.,19.,20.],\n",
    "# 1)"
   ]
  },
  {
   "cell_type": "code",
   "execution_count": 33,
   "metadata": {
    "collapsed": false
   },
   "outputs": [
    {
     "name": "stdout",
     "output_type": "stream",
     "text": [
      "1.0 + 2.0 * e([[1,2]]) + 3.0 * e([1,2]) + 4.0 * e([3]) + 5.0 * e([2,3]) + 6.0 * e([4]) + 7.0 * e([2,4]) + 8.0 * e([[4,2]]) + 9.0 * e([1,5]) + 10.0 * e([3,5]) + 11.0 * e([[5,2]]) + 12.0 * e([1,6]) + 13.0 * e([3,6]) + 14.0 * e([5,6]) + 15.0 * e([7]) + 16.0 * e([2,7]) + 17.0 * e([4,7]) + 18.0 * e([6,7]) + 19.0 * e([8]) + 20.0 * e([2,8]) \n"
     ]
    },
    {
     "data": {
      "text/plain": [
       "True"
      ]
     },
     "execution_count": 33,
     "metadata": {},
     "output_type": "execute_result"
    }
   ],
   "source": [
    "print(a)\n",
    "expected_string = '1.0 + 2.0 * e([[1,2]]) + 3.0 * e([1,2]) + 4.0 * e([3]) + 5.0 * e([2,3]) + 6.0 * e([4]) + 7.0 * e([2,4]) + 8.0 * e([[4,2]]) + 9.0 * e([1,5]) + 10.0 * e([3,5]) + 11.0 * e([[5,2]]) + 12.0 * e([1,6]) + 13.0 * e([3,6]) + 14.0 * e([5,6]) + 15.0 * e([7]) + 16.0 * e([2,7]) + 17.0 * e([4,7]) + 18.0 * e([6,7]) + 19.0 * e([8]) + 20.0 * e([2,8]) '\n",
    "str(a) == expected_string\n",
    "# Here we would expect:\n",
    "# 1.0 + 2.0 * e([[1,2]]) + 3.0 * e([1,2]) + 4.0 * e([3]) \n",
    "# + 5.0 * e([2,3]) + 6.0 * e([4]) + 7.0 * e([2,4]) \n",
    "# + 8.0 * e([[4,2]]) + 9.0 * e([1,5]) + 10.0 * e([3,5]) \n",
    "# + 11.0 * e([[5,2]]) + 12.0 * e([1,6]) + 13.0 * e([3,6]) \n",
    "# + 14.0 * e([5,6]) + 15.0 * e([7]) + 16.0 * e([2,7]) \n",
    "# + 17.0 * e([4,7]) + 18.0 * e([6,7]) + 19.0 * e([8]) + 20.0 * e([2,8])  "
   ]
  },
  {
   "cell_type": "markdown",
   "metadata": {},
   "source": [
    "## Addition and Substraction\n",
    "\n",
    "\n",
    "Hint: Check Coef array results.\n",
    "\n"
   ]
  },
  {
   "cell_type": "code",
   "execution_count": null,
   "metadata": {
    "collapsed": true
   },
   "outputs": [],
   "source": []
  },
  {
   "cell_type": "code",
   "execution_count": null,
   "metadata": {
    "collapsed": true
   },
   "outputs": [],
   "source": []
  },
  {
   "cell_type": "code",
   "execution_count": null,
   "metadata": {
    "collapsed": true
   },
   "outputs": [],
   "source": []
  },
  {
   "cell_type": "code",
   "execution_count": null,
   "metadata": {
    "collapsed": true
   },
   "outputs": [],
   "source": []
  },
  {
   "cell_type": "code",
   "execution_count": null,
   "metadata": {
    "collapsed": true
   },
   "outputs": [],
   "source": []
  },
  {
   "cell_type": "code",
   "execution_count": null,
   "metadata": {
    "collapsed": true
   },
   "outputs": [],
   "source": []
  },
  {
   "cell_type": "code",
   "execution_count": null,
   "metadata": {
    "collapsed": true
   },
   "outputs": [],
   "source": []
  },
  {
   "cell_type": "code",
   "execution_count": null,
   "metadata": {
    "collapsed": true
   },
   "outputs": [],
   "source": []
  },
  {
   "cell_type": "code",
   "execution_count": null,
   "metadata": {
    "collapsed": true
   },
   "outputs": [],
   "source": []
  }
 ],
 "metadata": {
  "kernelspec": {
   "display_name": "Python 3",
   "language": "python",
   "name": "python3"
  },
  "language_info": {
   "codemirror_mode": {
    "name": "ipython",
    "version": 3
   },
   "file_extension": ".py",
   "mimetype": "text/x-python",
   "name": "python",
   "nbconvert_exporter": "python",
   "pygments_lexer": "ipython3",
   "version": "3.4.3"
  }
 },
 "nbformat": 4,
 "nbformat_minor": 2
}
