{
 "cells": [
  {
   "cell_type": "code",
   "execution_count": 1,
   "metadata": {
    "collapsed": true
   },
   "outputs": [],
   "source": [
    "import numpy as np\n"
   ]
  },
  {
   "cell_type": "code",
   "execution_count": 2,
   "metadata": {
    "collapsed": true
   },
   "outputs": [],
   "source": [
    "a = np.array([[ - 0.7756 ],\n",
    "           [ - 0.6905 ],\n",
    "           [ - 0.3806 ],\n",
    "           [   2.0567 ],\n",
    "           [ - 2.4377 ],\n",
    "           [   2.2277 ]])"
   ]
  },
  {
   "cell_type": "code",
   "execution_count": 3,
   "metadata": {
    "collapsed": true
   },
   "outputs": [],
   "source": [
    "b = np.array([[ - 0.7756 , - 0.6905 , - 0.3806 ,   2.0567 , - 2.4377 ,   2.2277 ]])"
   ]
  },
  {
   "cell_type": "code",
   "execution_count": 4,
   "metadata": {},
   "outputs": [
    {
     "data": {
      "text/plain": [
       "array([[ 0.60155536,  0.5355518 ,  0.29519336, -1.59517652,  1.89068012,\n",
       "        -1.72780412],\n",
       "       [ 0.5355518 ,  0.47679025,  0.2628043 , -1.42015135,  1.68323185,\n",
       "        -1.53822685],\n",
       "       [ 0.29519336,  0.2628043 ,  0.14485636, -0.78278002,  0.92778862,\n",
       "        -0.84786262],\n",
       "       [-1.59517652, -1.42015135, -0.78278002,  4.23001489, -5.01361759,\n",
       "         4.58171059],\n",
       "       [ 1.89068012,  1.68323185,  0.92778862, -5.01361759,  5.94238129,\n",
       "        -5.43046429],\n",
       "       [-1.72780412, -1.53822685, -0.84786262,  4.58171059, -5.43046429,\n",
       "         4.96264729]])"
      ]
     },
     "execution_count": 4,
     "metadata": {},
     "output_type": "execute_result"
    }
   ],
   "source": [
    "np.dot(a,b)"
   ]
  },
  {
   "cell_type": "code",
   "execution_count": null,
   "metadata": {
    "collapsed": true
   },
   "outputs": [],
   "source": []
  }
 ],
 "metadata": {
  "kernelspec": {
   "display_name": "Python 3",
   "language": "python",
   "name": "python3"
  },
  "language_info": {
   "codemirror_mode": {
    "name": "ipython",
    "version": 3
   },
   "file_extension": ".py",
   "mimetype": "text/x-python",
   "name": "python",
   "nbconvert_exporter": "python",
   "pygments_lexer": "ipython3",
   "version": "3.6.0"
  }
 },
 "nbformat": 4,
 "nbformat_minor": 2
}
