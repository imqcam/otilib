{
 "cells": [
  {
   "cell_type": "code",
   "execution_count": 1,
   "metadata": {
    "collapsed": true,
    "scrolled": true
   },
   "outputs": [],
   "source": [
    "# 1. SET GLOBAL PATH \n",
    "import sys\n",
    "# path2oti = '/Users/mauriaristi/Dropbox/EAFIT/PHD/Thesis-MAC/DUAL/otilibv0.8/'\n",
    "path2oti = '../../'\n",
    "sys.path.append(path2oti) # Add path to OTI library.\n",
    "\n",
    "\n",
    "# 2. IMPORT OTI LIBRARY.\n",
    "import otilib as oti\n",
    "np = oti.np \n",
    "\n",
    "# Rename imaginary direction module.\n",
    "e  = oti.se \n",
    "\n",
    "# Rename integration functions\n",
    "intV = oti.intOmega\n",
    "intS = oti.intGamma\n",
    "on = oti.on\n",
    "\n",
    "# Rename derivation functions\n",
    "dx = oti.dx\n",
    "dy = oti.dy"
   ]
  },
  {
   "cell_type": "code",
   "execution_count": 2,
   "metadata": {},
   "outputs": [
    {
     "name": "stdout",
     "output_type": "stream",
     "text": [
      "new2old: \n",
      "[   1    2    3 ..., 3719 3720 3721]\n",
      "\n",
      "old2new: \n",
      "[   1    2    3 ..., 3719 3720 3721]\n"
     ]
    }
   ],
   "source": [
    "Th = oti.mesh(\"mesh_simple_square.msh\",otiorder = 1)\n",
    "\n",
    "Vh = oti.fespace2(Th,oti.TriP2)\n",
    "Qh = oti.fespace2(Th,oti.TriP1)\n",
    "\n",
    "# State functions\n",
    "ux = Vh.newUndefinedFunction()\n",
    "uy = Vh.newUndefinedFunction()\n",
    "p  = Qh.newUndefinedFunction()\n",
    "\n",
    "# Test functions\n",
    "vx = Vh.newTestFunction()\n",
    "vy = Vh.newTestFunction()\n",
    "q  = Qh.newTestFunction()\n",
    "\n",
    "ux_left = Vh.newFunction(0)\n",
    "uy_left = Vh.newFunction(0)"
   ]
  },
  {
   "cell_type": "code",
   "execution_count": null,
   "metadata": {},
   "outputs": [],
   "source": []
  },
  {
   "cell_type": "code",
   "execution_count": 3,
   "metadata": {
    "collapsed": true
   },
   "outputs": [],
   "source": [
    "\n",
    "problem = intV( dx(ux)*dx(vx) + dx(ux)*dy(vy) ) + \\\n",
    "    intV( dy(uy)*dx(vx) + dy(uy)*dy(vy)) + \\\n",
    "    intV( dx(ux)*dx(vx) + dy(uy)*dy(vy)) + \\\n",
    "    intV( dy(ux)*dy(vx) + dy(ux)*dx(vy)) + \\\n",
    "    intV( dx(uy)*dy(vx) + dx(uy)*dx(vy)) + \\\n",
    "    intV( p*q  ) + \\\n",
    "    intV( vy ) + \\\n",
    "    on('left',ux,ux_left) +on('left',uy,uy_left)\n"
   ]
  },
  {
   "cell_type": "code",
   "execution_count": 4,
   "metadata": {
    "scrolled": false
   },
   "outputs": [
    {
     "name": "stdout",
     "output_type": "stream",
     "text": [
      "Elemental DOFs:  15\n",
      "Elemental DOFs offset per state variable:  [ 0  6 12 15]\n",
      "\n",
      "Elemental DOFs for the boundaries:  [3, 8, 0]\n",
      "Elemental DOFs offset per state variable for the boundaries:  [array([0, 1, 2, 3], dtype=uint64), array([0, 3, 6, 8], dtype=uint64), array([0, 0, 0, 0], dtype=uint64)]\n",
      "\n",
      "Global DOFs :  8403\n",
      "Global DOFs offsets :  [   0 3721 7442 8403]\n",
      "Global DOF per system DOF :  [   0 3721 3721  961]\n",
      "\n",
      "Global DOFs  for the boundaries:  [3, 600, 0]\n",
      "Global DOFs offsets  for the boundaries:  [array([   0, 3721, 7442, 8403], dtype=uint64), array([   0, 3721, 7442, 8403], dtype=uint64), array([0, 0, 0, 0], dtype=uint64)]\n",
      "Global DOF per system DOF  for the boundaries:  [array([0, 1, 1, 1], dtype=uint64), array([  0, 240, 240, 120], dtype=uint64), array([0, 0, 0, 0], dtype=uint64)]\n",
      "\n",
      "Node id corresponding to each element DOF:  [0 1 2 3 4 5 0 1 2 3 4 5 0 1 2]\n",
      "\n",
      "Node id corresponding to each element DOF for the boundaries:  [array([0, 0, 0], dtype=uint64), array([0, 1, 2, 0, 1, 2, 0, 1], dtype=uint64), array([], dtype=uint64)]\n",
      "\n",
      "Global offsets per node:  [   0    0    0    0    0    0 3721 3721 3721 3721 3721 3721 7442 7442 7442]\n",
      "\n",
      "Global offsets per node for the boundaries:  [array([   0, 3721, 7442], dtype=uint64), array([   0,    0,    0, 3721, 3721, 3721, 7442, 7442], dtype=uint64), array([], dtype=uint64)]\n"
     ]
    }
   ],
   "source": [
    "ex1 = oti.feproblem([ ux, uy, p ], [ vx, vy, q ],  problem  )"
   ]
  },
  {
   "cell_type": "code",
   "execution_count": 5,
   "metadata": {},
   "outputs": [
    {
     "data": {
      "text/plain": [
       "array([[ 50,   0,   1,   6,   0,   0,   0,   0,   0,   0,   0,   0,   0,\n",
       "          0,   0],\n",
       "       [ 50,   1,   1,   6,   0,   0,   0,   1,   0,   0,   0,   0,   0,\n",
       "          0,   0],\n",
       "       [ 50,   2,   6,   1,   0,   0,   0,   0,   0,   0,   0,   0,   0,\n",
       "          0,   0],\n",
       "       [ 50,   3,   6,   1,   0,   0,   0,   1,   0,   0,   0,   0,   0,\n",
       "          0,   0],\n",
       "       [ 54,   4,   6,   6,   0,   0,   3,   1,   0,   0,   0,   0,   0,\n",
       "          0,   0],\n",
       "       [ 50,   5,   1,   6,   0,   0,   0,   1,   0,   0,   0,   0,   0,\n",
       "          0,   0],\n",
       "       [ 50,   6,   6,   1,   6,   0,   0,   0,   0,   0,   0,   0,   0,\n",
       "          0,   0],\n",
       "       [ 50,   7,   6,   1,   6,   0,   0,   3,   0,   0,   0,   0,   0,\n",
       "          0,   0],\n",
       "       [ 54,   8,   6,   6,   6,   0,   7,   5,   0,   0,   0,   0,   0,\n",
       "          0,   0],\n",
       "       [ 52,  -1,   2,   4,   8,   0,   0,   0,   0,   0,   0,   0,   0,\n",
       "          0,   0],\n",
       "       [ 50,   9,   1,   6,   6,   0,   0,   0,   0,   0,   0,   0,   0,\n",
       "          0,   0],\n",
       "       [ 50,  10,   1,   6,   6,   0,   0,   3,   0,   0,   0,   0,   0,\n",
       "          0,   0],\n",
       "       [ 50,  11,   6,   1,   0,   0,   0,   1,   0,   0,   0,   0,   0,\n",
       "          0,   0],\n",
       "       [ 54,  12,   6,   6,   0,   6,  11,  10,   0,   0,   0,   0,   0,\n",
       "          0,   0],\n",
       "       [ 50,  13,   1,   6,   6,   0,   0,   3,   0,   0,   0,   0,   0,\n",
       "          0,   0],\n",
       "       [ 50,  14,   6,   1,   6,   0,   0,   3,   0,   0,   0,   0,   0,\n",
       "          0,   0],\n",
       "       [ 54,  15,   6,   6,   6,   6,  14,  13,   0,   0,   0,   0,   0,\n",
       "          0,   0],\n",
       "       [ 52,  -1,   2,  12,  15,   0,   0,   0,   0,   0,   0,   0,   0,\n",
       "          0,   0],\n",
       "       [ 50,  16,   1,   6,   0,   0,   0,   1,   0,   0,   0,   0,   0,\n",
       "          0,   0],\n",
       "       [ 50,  17,   6,   1,   0,   0,   0,   1,   0,   0,   0,   0,   0,\n",
       "          0,   0],\n",
       "       [ 54,  18,   6,   6,   0,   0,  17,  16,   0,   0,   0,   0,   0,\n",
       "          0,   0],\n",
       "       [ 50,  19,   1,   6,   6,   0,   0,   3,   0,   0,   0,   0,   0,\n",
       "          0,   0],\n",
       "       [ 50,  20,   6,   1,   6,   0,   0,   3,   0,   0,   0,   0,   0,\n",
       "          0,   0],\n",
       "       [ 54,  21,   6,   6,   6,   6,  20,  19,   0,   0,   0,   0,   0,\n",
       "          0,   0],\n",
       "       [ 52,  -1,   2,  18,  21,   0,   0,   0,   0,   0,   0,   0,   0,\n",
       "          0,   0],\n",
       "       [ 50,  22,   1,   6,   0,   0,   0,   3,   0,   0,   0,   0,   0,\n",
       "          0,   0],\n",
       "       [ 50,  23,   6,   1,   0,   0,   0,   3,   0,   0,   0,   0,   0,\n",
       "          0,   0],\n",
       "       [ 54,  24,   6,   6,   0,   0,  23,  22,   0,   0,   0,   0,   0,\n",
       "          0,   0],\n",
       "       [ 50,  25,   1,   6,   0,   0,   0,   3,   0,   0,   0,   0,   0,\n",
       "          0,   0],\n",
       "       [ 50,  26,   6,   1,   6,   0,   0,   1,   0,   0,   0,   0,   0,\n",
       "          0,   0],\n",
       "       [ 54,  27,   6,   6,   6,   0,  26,  25,   0,   0,   0,   0,   0,\n",
       "          0,   0],\n",
       "       [ 52,  -1,   2,  24,  27,   0,   0,   0,   0,   0,   0,   0,   0,\n",
       "          0,   0],\n",
       "       [ 50,  28,   1,   6,   6,   0,   0,   1,   0,   0,   0,   0,   0,\n",
       "          0,   0],\n",
       "       [ 50,  29,   6,   1,   0,   0,   0,   3,   0,   0,   0,   0,   0,\n",
       "          0,   0],\n",
       "       [ 54,  30,   6,   6,   0,   6,  29,  28,   0,   0,   0,   0,   0,\n",
       "          0,   0],\n",
       "       [ 50,  31,   1,   6,   6,   0,   0,   1,   0,   0,   0,   0,   0,\n",
       "          0,   0],\n",
       "       [ 50,  32,   6,   1,   6,   0,   0,   1,   0,   0,   0,   0,   0,\n",
       "          0,   0],\n",
       "       [ 54,  33,   6,   6,   6,   6,  32,  31,   0,   0,   0,   0,   0,\n",
       "          0,   0],\n",
       "       [ 52,  -1,   2,  30,  33,   0,   0,   0,   0,   0,   0,   0,   0,\n",
       "          0,   0],\n",
       "       [ 50,  34,   1,   3,  12,   0,   1,   0,   0,   0,   0,   0,   0,\n",
       "          0,   0],\n",
       "       [ 50,  35,   3,   1,  12,   0,   1,   0,   0,   0,   0,   0,   0,\n",
       "          0,   0],\n",
       "       [ 54,  36,   3,   3,  12,  12,  35,  34,   0,   0,   0,   0,   0,\n",
       "          0,   0],\n",
       "       [ 52,  -1,   1,  36,   0,   0,   0,   0,   0,   0,   0,   0,   0,\n",
       "          0,   0],\n",
       "       [ 52,  -1,   1,   6,   0,   0,   0,   0,   0,   0,   0,   0,   0,\n",
       "          0,   0],\n",
       "       [ 51,  37,   1,   1,   0,   1,   0,   0,   0, 203,   0,   0,   0,\n",
       "          0,   0],\n",
       "       [ 56, 201,   1,   1,   0,   1,   0, 203,   0,   0,   0,   0,   0,\n",
       "          0,   0],\n",
       "       [ 51,  38,   1,   1,   0,   1,   0,   0,   1, 203,   0,   0,   0,\n",
       "          0,   0],\n",
       "       [ 56, 201,   1,   1,   0,   1,   1, 203,   0,   0,   0,   0,   0,\n",
       "          0,   0]])"
      ]
     },
     "execution_count": 5,
     "metadata": {},
     "output_type": "execute_result"
    }
   ],
   "source": [
    "ex1.operMat"
   ]
  },
  {
   "cell_type": "code",
   "execution_count": 6,
   "metadata": {},
   "outputs": [
    {
     "data": {
      "text/plain": [
       "[array([0, 1, 2], dtype=uint64),\n",
       " array([0, 3, 6], dtype=uint64),\n",
       " array([0, 0, 0], dtype=uint64)]"
      ]
     },
     "execution_count": 6,
     "metadata": {},
     "output_type": "execute_result"
    }
   ],
   "source": [
    "ex1.eDOF_per_solBound"
   ]
  },
  {
   "cell_type": "code",
   "execution_count": 25,
   "metadata": {},
   "outputs": [
    {
     "data": {
      "text/plain": [
       "[[1, 1], [1, 3], []]"
      ]
     },
     "execution_count": 25,
     "metadata": {},
     "output_type": "execute_result"
    }
   ],
   "source": [
    "res.shapeBounds"
   ]
  },
  {
   "cell_type": "code",
   "execution_count": 9,
   "metadata": {},
   "outputs": [
    {
     "data": {
      "text/plain": [
       "array([   1,    5,  120,  962, 1082, 1081,  301], dtype=uint64)"
      ]
     },
     "execution_count": 9,
     "metadata": {},
     "output_type": "execute_result"
    }
   ],
   "source": [
    "Th.domainElements[0,:]"
   ]
  },
  {
   "cell_type": "code",
   "execution_count": 3,
   "metadata": {},
   "outputs": [
    {
     "name": "stdout",
     "output_type": "stream",
     "text": [
      "Global DOFs :  11\n",
      "Global DOF per system DOF :  [ 0 11]\n"
     ]
    }
   ],
   "source": [
    "ex1 = oti.feproblem([u],[v],   intV(-dx(u)*dx(v))+intV(dx(u)*v)+intV(u*v) )"
   ]
  },
  {
   "cell_type": "code",
   "execution_count": null,
   "metadata": {
    "collapsed": true
   },
   "outputs": [],
   "source": []
  },
  {
   "cell_type": "code",
   "execution_count": null,
   "metadata": {
    "collapsed": true,
    "scrolled": false
   },
   "outputs": [],
   "source": [
    "ex1.assembleSystem()"
   ]
  },
  {
   "cell_type": "code",
   "execution_count": 6,
   "metadata": {},
   "outputs": [
    {
     "name": "stdout",
     "output_type": "stream",
     "text": [
      "< otimat of shape (5,5) with oti numbers of order 2 and 1 basis: \n",
      "[  <5x5 sparse matrix of type '<class 'numpy.float64'>'\n",
      "\twith 0 stored elements in LInked List format>,\n",
      "  <5x5 sparse matrix of type '<class 'numpy.float64'>'\n",
      "\twith 0 stored elements in LInked List format>,\n",
      "  <5x5 sparse matrix of type '<class 'numpy.float64'>'\n",
      "\twith 0 stored elements in LInked List format>] >\n"
     ]
    }
   ],
   "source": [
    "print(ex1.K)"
   ]
  },
  {
   "cell_type": "code",
   "execution_count": null,
   "metadata": {
    "collapsed": true
   },
   "outputs": [],
   "source": []
  },
  {
   "cell_type": "code",
   "execution_count": null,
   "metadata": {
    "collapsed": true
   },
   "outputs": [],
   "source": []
  },
  {
   "cell_type": "code",
   "execution_count": null,
   "metadata": {
    "collapsed": true
   },
   "outputs": [],
   "source": []
  },
  {
   "cell_type": "code",
   "execution_count": 2,
   "metadata": {
    "collapsed": true
   },
   "outputs": [],
   "source": [
    "# Define the mesh\n",
    "Th = oti.mesh(\"simpleSquare2.msh\", otiorder = 2)   # print(Th)\n",
    "\n",
    "# Define a Finite Element space: \n",
    "Vh = oti.fespace2( Th, oti.TriP2) # Define common FE space\n",
    "Qh = oti.fespace2( Th, oti.TriP1) # Define common FE space\n",
    "\n",
    "\n",
    "x = Th.x\n",
    "y = Th.y\n",
    "\n",
    "# Declare variables that belong to the space Vh\n",
    "# This step is mandatory.\n",
    "\n",
    "ux = Vh.newUndefinedFunction()       \n",
    "vx = Vh.newTestFunction()\n",
    "\n",
    "uy = Vh.newUndefinedFunction()      \n",
    "vy = Vh.newTestFunction()\n",
    "\n",
    "# p  = Qh.newUndefinedFunction()\n",
    "# q  = Qh.newTestFunction() \n",
    " "
   ]
  },
  {
   "cell_type": "markdown",
   "metadata": {},
   "source": [
    "# Laplace 2D example"
   ]
  },
  {
   "cell_type": "code",
   "execution_count": 3,
   "metadata": {
    "scrolled": false
   },
   "outputs": [
    {
     "name": "stdout",
     "output_type": "stream",
     "text": [
      "Global DOFs :  114\n",
      "Global DOF per system DOF :  [ 0 57 57]\n"
     ]
    }
   ],
   "source": [
    "laplace2D = oti.feproblem([ux,uy],[vx,vy], intV( dx(ux)*dx(vx) + dy(uy)*dy(vy) ) +    \\\n",
    "                           intV(vx+vy) +                                              \\\n",
    "                          intS(502,vx+vy) + intS(503,vx+vy) +                         \\\n",
    "                          on(1,ux,x) + on(1,uy,y) )"
   ]
  },
  {
   "cell_type": "code",
   "execution_count": 4,
   "metadata": {},
   "outputs": [
    {
     "data": {
      "text/plain": [
       "array([[ 50,   0,   1,   6,   0,   0,   0,   0,   0,   0],\n",
       "       [ 50,   1,   1,   6,   0,   0,   0,   1,   0,   0],\n",
       "       [ 50,   2,   6,   1,   0,   0,   0,   0,   0,   0],\n",
       "       [ 50,   3,   6,   1,   0,   0,   0,   1,   0,   0],\n",
       "       [ 54,   4,   6,   6,   0,   0,   3,   1,   0,   0],\n",
       "       [ 50,   5,   1,   6,   6,   0,   0,   0,   0,   0],\n",
       "       [ 50,   6,   1,   6,   6,   0,   0,   3,   0,   0],\n",
       "       [ 50,   7,   6,   1,   6,   0,   0,   0,   0,   0],\n",
       "       [ 50,   8,   6,   1,   6,   0,   0,   3,   0,   0],\n",
       "       [ 54,   9,   6,   6,   6,   6,   8,   6,   0,   0],\n",
       "       [ 52,  -1,   2,   4,   9,   0,   0,   0,   0,   0],\n",
       "       [ 52,  -1,   2,   2,   7,   0,   0,   0,   0,   0],\n",
       "       [ 50,  10,   6,   1,   0,   0,   0,   0,   0,   0],\n",
       "       [ 52, 502,   2,  10,   7,   0,   0,   0,   0,   0],\n",
       "       [ 52, 503,   2,  10,   7,   0,   0,   0,   0,   0],\n",
       "       [ 51,  11,   1,   1,   0,   0,   0,   0,   0, 204],\n",
       "       [ 56,   1,   1,   1,   0,   0,   0, 204,   0,   0],\n",
       "       [ 51,  12,   1,   1,   0,   0,   0,   0,   1, 204],\n",
       "       [ 56,   1,   1,   1,   0,   0,   1, 204,   0,   0]])"
      ]
     },
     "execution_count": 4,
     "metadata": {},
     "output_type": "execute_result"
    }
   ],
   "source": [
    "laplace2D.operMat"
   ]
  },
  {
   "cell_type": "code",
   "execution_count": 4,
   "metadata": {
    "scrolled": false
   },
   "outputs": [
    {
     "name": "stdout",
     "output_type": "stream",
     "text": [
      "++++++++++++++++++++++++++++++++++++++++++++++++++++++++++++++++++++++++++\n",
      "                        Assembling FE problem.                            \n",
      "++++++++++++++++++++++++++++++++++++++++++++++++++++++++++++++++++++++++++\n",
      " - 1. Allocating data.\n",
      " - 1.1  Adding constant data to the stack.\n",
      "       Setting element  0  as  kindFunc     \n",
      "       Setting element  1  as  kindFunc     \n",
      " - 2. Initializing element types.\n",
      "       * Detected number of elements types in the mesh:  2\n",
      "\n",
      " Defined Interpolation type  0\n",
      "Element Definition:\n",
      "   - nbasis:       6,\n",
      "   - order:        2,\n",
      "   - geomBase:     elTriangle   ,\n",
      "   - kind:         elkindIso    ,\n",
      "   - ndim:         2,\n",
      "   - nIntPts:      3,\n",
      "   - nder:         6,\n",
      "   - isInit:       1,\n",
      "   - otiorder:     2,\n",
      "   - nDimAnalysis: 2,\n",
      "   - integration points:\n",
      "darray([[  0.1667,  0.1667],\n",
      "        [  0.6667,  0.1667],\n",
      "        [  0.1667,  0.6667]] shape = (3,2)  )\n",
      "   - Integration weights:\n",
      "darray([[  0.1667],\n",
      "        [  0.1667],\n",
      "        [  0.1667]] shape = (3,1)  )\n",
      "   - Evaluated basis functions: \n",
      "    derN         :\n",
      "darray([[  0.2222, -0.1111, -0.1111],\n",
      "        [ -0.1111,  0.2222, -0.1111],\n",
      "        [ -0.1111, -0.1111,  0.2222],\n",
      "        [  0.4444,  0.4444,  0.1111],\n",
      "        [  0.1111,  0.4444,  0.4444],\n",
      "        [  0.4444,  0.1111,  0.4444]] shape = (6,3)  )\n",
      "\n",
      "    derNa        :\n",
      "darray([[ -1.6667,  0.3333,  0.3333],\n",
      "        [ -0.3333,  1.6667, -0.3333],\n",
      "        [  0.0000,  0.0000,  0.0000],\n",
      "        [  2.0000, -2.0000, -0.0000],\n",
      "        [  0.6667,  0.6667,  2.6667],\n",
      "        [ -0.6667, -0.6667, -2.6667]] shape = (6,3)  )\n",
      "\n",
      "    derNaa       :\n",
      "darray([[  4.0000,  4.0000,  4.0000],\n",
      "        [  4.0000,  4.0000,  4.0000],\n",
      "        [  0.0000,  0.0000,  0.0000],\n",
      "        [ -8.0000, -8.0000, -8.0000],\n",
      "        [  0.0000,  0.0000,  0.0000],\n",
      "        [  0.0000,  0.0000,  0.0000]] shape = (6,3)  )\n",
      "\n",
      "    derNb        :\n",
      "darray([[ -1.6667,  0.3333,  0.3333],\n",
      "        [  0.0000,  0.0000,  0.0000],\n",
      "        [ -0.3333, -0.3333,  1.6667],\n",
      "        [ -0.6667, -2.6667, -0.6667],\n",
      "        [  0.6667,  2.6667,  0.6667],\n",
      "        [  2.0000, -0.0000, -2.0000]] shape = (6,3)  )\n",
      "\n",
      "    derNab       :\n",
      "darray([[  4.0000,  4.0000,  4.0000],\n",
      "        [  0.0000,  0.0000,  0.0000],\n",
      "        [  0.0000,  0.0000,  0.0000],\n",
      "        [ -4.0000, -4.0000, -4.0000],\n",
      "        [  4.0000,  4.0000,  4.0000],\n",
      "        [ -4.0000, -4.0000, -4.0000]] shape = (6,3)  )\n",
      "\n",
      "    derNbb       :\n",
      "darray([[  4.0000,  4.0000,  4.0000],\n",
      "        [  0.0000,  0.0000,  0.0000],\n",
      "        [  4.0000,  4.0000,  4.0000],\n",
      "        [  0.0000,  0.0000,  0.0000],\n",
      "        [  0.0000,  0.0000,  0.0000],\n",
      "        [ -8.0000, -8.0000, -8.0000]] shape = (6,3)  )\n",
      "\n",
      "\n",
      "\n",
      " Defined Interpolation type  1\n",
      "Element Definition:\n",
      "   - nbasis:       3,\n",
      "   - order:        1,\n",
      "   - geomBase:     elTriangle   ,\n",
      "   - kind:         elkindIso    ,\n",
      "   - ndim:         2,\n",
      "   - nIntPts:      3,\n",
      "   - nder:         6,\n",
      "   - isInit:       1,\n",
      "   - otiorder:     2,\n",
      "   - nDimAnalysis: 2,\n",
      "   - integration points:\n",
      "darray([[  0.1667,  0.1667],\n",
      "        [  0.6667,  0.1667],\n",
      "        [  0.1667,  0.6667]] shape = (3,2)  )\n",
      "   - Integration weights:\n",
      "darray([[  0.1667],\n",
      "        [  0.1667],\n",
      "        [  0.1667]] shape = (3,1)  )\n",
      "   - Evaluated basis functions: \n",
      "    derN         :\n",
      "darray([[  0.6667,  0.1667,  0.1667],\n",
      "        [  0.1667,  0.6667,  0.1667],\n",
      "        [  0.1667,  0.1667,  0.6667]] shape = (3,3)  )\n",
      "\n",
      "    derNa        :\n",
      "darray([[ -1.0000, -1.0000, -1.0000],\n",
      "        [  1.0000,  1.0000,  1.0000],\n",
      "        [  0.0000,  0.0000,  0.0000]] shape = (3,3)  )\n",
      "\n",
      "    derNaa       :\n",
      "darray([[  0.0000,  0.0000,  0.0000],\n",
      "        [  0.0000,  0.0000,  0.0000],\n",
      "        [  0.0000,  0.0000,  0.0000]] shape = (3,3)  )\n",
      "\n",
      "    derNb        :\n",
      "darray([[ -1.0000, -1.0000, -1.0000],\n",
      "        [  0.0000,  0.0000,  0.0000],\n",
      "        [  1.0000,  1.0000,  1.0000]] shape = (3,3)  )\n",
      "\n",
      "    derNab       :\n",
      "darray([[  0.0000,  0.0000,  0.0000],\n",
      "        [  0.0000,  0.0000,  0.0000],\n",
      "        [  0.0000,  0.0000,  0.0000]] shape = (3,3)  )\n",
      "\n",
      "    derNbb       :\n",
      "darray([[  0.0000,  0.0000,  0.0000],\n",
      "        [  0.0000,  0.0000,  0.0000],\n",
      "        [  0.0000,  0.0000,  0.0000]] shape = (3,3)  )\n",
      "\n",
      "\n",
      " - 3. Initializing temporal functions:\n",
      "\n",
      "     * Initializing temporal function  0  of shape  [1, 6]  and offset  [0, 0]\n",
      "     * Initializing temporal function  1  of shape  [1, 6]  and offset  [0, 0]\n",
      "     * Initializing temporal function  2  of shape  [6, 1]  and offset  [0, 0]\n",
      "     * Initializing temporal function  3  of shape  [6, 1]  and offset  [0, 0]\n",
      "     * Initializing temporal function  4  of shape  [6, 6]  and offset  [0, 0]\n",
      "     * Initializing temporal function  5  of shape  [1, 6]  and offset  [6, 0]\n",
      "     * Initializing temporal function  6  of shape  [1, 6]  and offset  [6, 0]\n",
      "     * Initializing temporal function  7  of shape  [6, 1]  and offset  [6, 0]\n",
      "     * Initializing temporal function  8  of shape  [6, 1]  and offset  [6, 0]\n",
      "     * Initializing temporal function  9  of shape  [6, 6]  and offset  [6, 6]\n",
      "     * Initializing temporal function  10  of shape  [6, 1]  and offset  [0, 0]\n",
      "     * Initializing temporal function  11  of shape  [1, 1]  and offset  [0, 0]\n",
      "     * Initializing temporal function  12  of shape  [1, 1]  and offset  [0, 0]\n",
      " - 4. Initializing global Stiffness and Force arrays.\n",
      " - 5. Allocating Elemental Stiffness matrix: \n",
      "\n",
      "sotiarray([[ 0.0, 0.0, 0.0, 0.0, 0.0, 0.0, 0.0, 0.0, 0.0, 0.0, 0.0, 0.0],\n",
      "           [ 0.0, 0.0, 0.0, 0.0, 0.0, 0.0, 0.0, 0.0, 0.0, 0.0, 0.0, 0.0],\n",
      "           [ 0.0, 0.0, 0.0, 0.0, 0.0, 0.0, 0.0, 0.0, 0.0, 0.0, 0.0, 0.0],\n",
      "           [ 0.0, 0.0, 0.0, 0.0, 0.0, 0.0, 0.0, 0.0, 0.0, 0.0, 0.0, 0.0],\n",
      "           [ 0.0, 0.0, 0.0, 0.0, 0.0, 0.0, 0.0, 0.0, 0.0, 0.0, 0.0, 0.0],\n",
      "           [ 0.0, 0.0, 0.0, 0.0, 0.0, 0.0, 0.0, 0.0, 0.0, 0.0, 0.0, 0.0],\n",
      "           [ 0.0, 0.0, 0.0, 0.0, 0.0, 0.0, 0.0, 0.0, 0.0, 0.0, 0.0, 0.0],\n",
      "           [ 0.0, 0.0, 0.0, 0.0, 0.0, 0.0, 0.0, 0.0, 0.0, 0.0, 0.0, 0.0],\n",
      "           [ 0.0, 0.0, 0.0, 0.0, 0.0, 0.0, 0.0, 0.0, 0.0, 0.0, 0.0, 0.0],\n",
      "           [ 0.0, 0.0, 0.0, 0.0, 0.0, 0.0, 0.0, 0.0, 0.0, 0.0, 0.0, 0.0],\n",
      "           [ 0.0, 0.0, 0.0, 0.0, 0.0, 0.0, 0.0, 0.0, 0.0, 0.0, 0.0, 0.0],\n",
      "           [ 0.0, 0.0, 0.0, 0.0, 0.0, 0.0, 0.0, 0.0, 0.0, 0.0, 0.0, 0.0]] order = 2, shape = (12,12)  )\n",
      "\n",
      " - 6. Allocating Elemental force vector: \n",
      "\n",
      "sotiarray([[ 0.0],\n",
      "           [ 0.0],\n",
      "           [ 0.0],\n",
      "           [ 0.0],\n",
      "           [ 0.0],\n",
      "           [ 0.0],\n",
      "           [ 0.0],\n",
      "           [ 0.0],\n",
      "           [ 0.0],\n",
      "           [ 0.0],\n",
      "           [ 0.0],\n",
      "           [ 0.0]] order = 2, shape = (12,1)  )\n",
      "\n",
      " - 7. Allocating elemental coord arrays for  6  nodes per element:\n",
      " \n",
      "==============================================================================\n",
      "                      Loop per element in the mesh                            \n",
      "==============================================================================\n",
      " \n",
      "  ---------------------------------------------------------------------\n",
      "  >>>> Element  0  in region  301   [ 19  26  25  31  32  33 301]\n",
      "  ---------------------------------------------------------------------\n",
      "  Initializing Elemental stiffness matrix.\n",
      "sotiarray([[ 0.0, 0.0, 0.0, 0.0, 0.0, 0.0, 0.0, 0.0, 0.0, 0.0, 0.0, 0.0],\n",
      "           [ 0.0, 0.0, 0.0, 0.0, 0.0, 0.0, 0.0, 0.0, 0.0, 0.0, 0.0, 0.0],\n",
      "           [ 0.0, 0.0, 0.0, 0.0, 0.0, 0.0, 0.0, 0.0, 0.0, 0.0, 0.0, 0.0],\n",
      "           [ 0.0, 0.0, 0.0, 0.0, 0.0, 0.0, 0.0, 0.0, 0.0, 0.0, 0.0, 0.0],\n",
      "           [ 0.0, 0.0, 0.0, 0.0, 0.0, 0.0, 0.0, 0.0, 0.0, 0.0, 0.0, 0.0],\n",
      "           [ 0.0, 0.0, 0.0, 0.0, 0.0, 0.0, 0.0, 0.0, 0.0, 0.0, 0.0, 0.0],\n",
      "           [ 0.0, 0.0, 0.0, 0.0, 0.0, 0.0, 0.0, 0.0, 0.0, 0.0, 0.0, 0.0],\n",
      "           [ 0.0, 0.0, 0.0, 0.0, 0.0, 0.0, 0.0, 0.0, 0.0, 0.0, 0.0, 0.0],\n",
      "           [ 0.0, 0.0, 0.0, 0.0, 0.0, 0.0, 0.0, 0.0, 0.0, 0.0, 0.0, 0.0],\n",
      "           [ 0.0, 0.0, 0.0, 0.0, 0.0, 0.0, 0.0, 0.0, 0.0, 0.0, 0.0, 0.0],\n",
      "           [ 0.0, 0.0, 0.0, 0.0, 0.0, 0.0, 0.0, 0.0, 0.0, 0.0, 0.0, 0.0],\n",
      "           [ 0.0, 0.0, 0.0, 0.0, 0.0, 0.0, 0.0, 0.0, 0.0, 0.0, 0.0, 0.0]] order = 2, shape = (12,12)  )\n",
      "\n",
      "  Initializing Elemental force vector.\n",
      "sotiarray([[ 0.0],\n",
      "           [ 0.0],\n",
      "           [ 0.0],\n",
      "           [ 0.0],\n",
      "           [ 0.0],\n",
      "           [ 0.0],\n",
      "           [ 0.0],\n",
      "           [ 0.0],\n",
      "           [ 0.0],\n",
      "           [ 0.0],\n",
      "           [ 0.0],\n",
      "           [ 0.0]] order = 2, shape = (12,1)  )\n",
      "\n",
      "  Got the following coordinates: \n",
      "    * X: \n",
      "sotiarray([[   1.0000 ],\n",
      "           [   0.4079 ],\n",
      "           [   1.5616 ],\n",
      "           [   0.7039 ],\n",
      "           [   0.9848 ],\n",
      "           [   1.2808 ]] order = 2, shape = (6,1)  )\n",
      "\n",
      "    * Y: \n",
      "sotiarray([[   1.0000 ],\n",
      "           [   0.0149 ],\n",
      "           [ - 0.0191 ],\n",
      "           [   0.5074 ],\n",
      "           [ - 0.0021 ],\n",
      "           [   0.4904 ]] order = 2, shape = (6,1)  )\n",
      "\n",
      "    * Z: \n",
      "sotiarray([[ 0.0],\n",
      "           [ 0.0],\n",
      "           [ 0.0],\n",
      "           [ 0.0],\n",
      "           [ 0.0],\n",
      "           [ 0.0]] order = 2, shape = (6,1)  )\n",
      "\n",
      " \n",
      "  Initializing the local interpolation data: \n",
      "           Initializing information of interpolations  0\n",
      "           Computation flags:  0b1011\n",
      "Per Element Properties of elTriangle    of order 2\n",
      "   - Jacobian:\n",
      "femarray( order = 2, shape = (2,2), offset = (0,0), data:\n",
      "int point 0\n",
      "sotiarray([[ - 0.5921 , - 0.9851 ],\n",
      "           [   0.5616 , - 1.0191 ]] order = 2, shape = (2,2)  )\n",
      "\n",
      "int point 1\n",
      "sotiarray([[ - 0.5921 , - 0.9851 ],\n",
      "           [   0.5616 , - 1.0191 ]] order = 2, shape = (2,2)  )\n",
      "\n",
      "int point 2\n",
      "sotiarray([[ - 0.5921 , - 0.9851 ],\n",
      "           [   0.5616 , - 1.0191 ]] order = 2, shape = (2,2)  )\n",
      "\n",
      " )\n",
      "   - Jacobian Inverse:\n",
      "femarray( order = 2, shape = (2,2), offset = (0,0), data:\n",
      "int point 0\n",
      "sotiarray([[ - 0.8810 ,   0.8516 ],\n",
      "           [ - 0.4855 , - 0.5119 ]] order = 2, shape = (2,2)  )\n",
      "\n",
      "int point 1\n",
      "sotiarray([[ - 0.8810 ,   0.8516 ],\n",
      "           [ - 0.4855 , - 0.5119 ]] order = 2, shape = (2,2)  )\n",
      "\n",
      "int point 2\n",
      "sotiarray([[ - 0.8810 ,   0.8516 ],\n",
      "           [ - 0.4855 , - 0.5119 ]] order = 2, shape = (2,2)  )\n",
      "\n",
      " )\n",
      "   - Jacobian Determinant:\n",
      "femarray( order = 2, shape = (1,1), offset = (0,0), data:\n",
      "int point 0\n",
      "sotiarray([[   1.1568 ]] order = 2, shape = (1,1)  )\n",
      "\n",
      "int point 1\n",
      "sotiarray([[   1.1568 ]] order = 2, shape = (1,1)  )\n",
      "\n",
      "int point 2\n",
      "sotiarray([[   1.1568 ]] order = 2, shape = (1,1)  )\n",
      "\n",
      " )\n",
      "   - Integration weights times Jacobian:\n",
      "femarray( order = 2, shape = (1,1), offset = (0,0), data:\n",
      "int point 0\n",
      "sotiarray([[   0.1928 ]] order = 2, shape = (1,1)  )\n",
      "\n",
      "int point 1\n",
      "sotiarray([[   0.1928 ]] order = 2, shape = (1,1)  )\n",
      "\n",
      "int point 2\n",
      "sotiarray([[   0.1928 ]] order = 2, shape = (1,1)  )\n",
      "\n",
      " )\n",
      "   - spacial defined basis functions: \n",
      "    basisN        at 0x107335680:\n",
      "femarray( order = 2, shape = (1,6), offset = (0,0), data:\n",
      "int point 0\n",
      "sotiarray([[   0.2222 , - 0.1111 , - 0.1111 ,   0.4444 ,   0.1111 ,   0.4444 ]] order = 2, shape = (1,6)  )\n",
      "\n",
      "int point 1\n",
      "sotiarray([[ - 0.1111 ,   0.2222 , - 0.1111 ,   0.4444 ,   0.4444 ,   0.1111 ]] order = 2, shape = (1,6)  )\n",
      "\n",
      "int point 2\n",
      "sotiarray([[ - 0.1111 , - 0.1111 ,   0.2222 ,   0.1111 ,   0.4444 ,   0.4444 ]] order = 2, shape = (1,6)  )\n",
      "\n",
      " )\n",
      "    basisNx       at 0x1073356c0:\n",
      "femarray( order = 2, shape = (1,6), offset = (0,0), data:\n",
      "int point 0\n",
      "sotiarray([[   0.0490 ,   0.2937 , - 0.2839 , - 2.3298 , - 0.0196 ,   2.2906 ]] order = 2, shape = (1,6)  )\n",
      "\n",
      "int point 1\n",
      "sotiarray([[ - 0.0098 , - 1.4684 , - 0.2839 , - 0.5089 ,   1.6836 ,   0.5873 ]] order = 2, shape = (1,6)  )\n",
      "\n",
      "int point 2\n",
      "sotiarray([[ - 0.0098 ,   0.2937 ,   1.4194 , - 0.5677 , - 1.7816 ,   0.6461 ]] order = 2, shape = (1,6)  )\n",
      "\n",
      " )\n",
      "    basisNxx      at 0x107335700:\n",
      "femarray( order = 2, shape = (1,6), offset = (0,0), data:\n",
      "int point 0\n",
      "sotiarray([[ 0.0, 0.0, 0.0, 0.0, 0.0, 0.0]] order = 2, shape = (1,6)  )\n",
      "\n",
      "int point 1\n",
      "sotiarray([[ 0.0, 0.0, 0.0, 0.0, 0.0, 0.0]] order = 2, shape = (1,6)  )\n",
      "\n",
      "int point 2\n",
      "sotiarray([[ 0.0, 0.0, 0.0, 0.0, 0.0, 0.0]] order = 2, shape = (1,6)  )\n",
      "\n",
      " )\n",
      "    basisNy       at 0x107335740:\n",
      "femarray( order = 2, shape = (1,6), offset = (0,0), data:\n",
      "int point 0\n",
      "sotiarray([[   1.6624 ,   0.1618 ,   0.1706 , - 0.6298 , - 0.6650 , - 0.7001 ]] order = 2, shape = (1,6)  )\n",
      "\n",
      "int point 1\n",
      "sotiarray([[ - 0.3325 , - 0.8092 ,   0.1706 ,   2.3361 , - 1.6887 ,   0.3237 ]] order = 2, shape = (1,6)  )\n",
      "\n",
      "int point 2\n",
      "sotiarray([[ - 0.3325 ,   0.1618 , - 0.8532 ,   0.3413 , - 1.6360 ,   2.3185 ]] order = 2, shape = (1,6)  )\n",
      "\n",
      " )\n",
      "    basisNxy      at 0x107335780:\n",
      "femarray( order = 2, shape = (1,6), offset = (0,0), data:\n",
      "int point 0\n",
      "sotiarray([[ 0.0, 0.0, 0.0, 0.0, 0.0, 0.0]] order = 2, shape = (1,6)  )\n",
      "\n",
      "int point 1\n",
      "sotiarray([[ 0.0, 0.0, 0.0, 0.0, 0.0, 0.0]] order = 2, shape = (1,6)  )\n",
      "\n",
      "int point 2\n",
      "sotiarray([[ 0.0, 0.0, 0.0, 0.0, 0.0, 0.0]] order = 2, shape = (1,6)  )\n",
      "\n",
      " )\n",
      "    basisNyy      at 0x1073357c0:\n",
      "femarray( order = 2, shape = (1,6), offset = (0,0), data:\n",
      "int point 0\n",
      "sotiarray([[ 0.0, 0.0, 0.0, 0.0, 0.0, 0.0]] order = 2, shape = (1,6)  )\n",
      "\n",
      "int point 1\n",
      "sotiarray([[ 0.0, 0.0, 0.0, 0.0, 0.0, 0.0]] order = 2, shape = (1,6)  )\n",
      "\n",
      "int point 2\n",
      "sotiarray([[ 0.0, 0.0, 0.0, 0.0, 0.0, 0.0]] order = 2, shape = (1,6)  )\n",
      "\n",
      " )\n",
      "\n",
      " \n",
      "\n",
      "\n",
      "\n",
      "\n",
      "  ----------------------------------------------------------------------------\n",
      "              Looping for each operation of Stiffness matrix                  \n",
      "  ----------------------------------------------------------------------------\n",
      "\n",
      "    * Got operation  subOpDefBasis\n",
      "\n",
      "       Defined temporal  0\n",
      "femarray( order = 2, shape = (1,6), offset = (0,0), data:\n",
      "int point 0\n",
      "sotiarray([[   0.2222 , - 0.1111 , - 0.1111 ,   0.4444 ,   0.1111 ,   0.4444 ]] order = 2, shape = (1,6)  )\n",
      "\n",
      "int point 1\n",
      "sotiarray([[ - 0.1111 ,   0.2222 , - 0.1111 ,   0.4444 ,   0.4444 ,   0.1111 ]] order = 2, shape = (1,6)  )\n",
      "\n",
      "int point 2\n",
      "sotiarray([[ - 0.1111 , - 0.1111 ,   0.2222 ,   0.1111 ,   0.4444 ,   0.4444 ]] order = 2, shape = (1,6)  )\n",
      "\n",
      " )\n",
      "\n",
      "\n",
      "\n",
      "    * Got operation  subOpDefBasis\n",
      "\n",
      "       Defined temporal  1\n",
      "femarray( order = 2, shape = (1,6), offset = (0,0), data:\n",
      "int point 0\n",
      "sotiarray([[   0.0490 ,   0.2937 , - 0.2839 , - 2.3298 , - 0.0196 ,   2.2906 ]] order = 2, shape = (1,6)  )\n",
      "\n",
      "int point 1\n",
      "sotiarray([[ - 0.0098 , - 1.4684 , - 0.2839 , - 0.5089 ,   1.6836 ,   0.5873 ]] order = 2, shape = (1,6)  )\n",
      "\n",
      "int point 2\n",
      "sotiarray([[ - 0.0098 ,   0.2937 ,   1.4194 , - 0.5677 , - 1.7816 ,   0.6461 ]] order = 2, shape = (1,6)  )\n",
      "\n",
      " )\n",
      "\n",
      "\n",
      "\n",
      "    * Got operation  subOpDefBasis\n",
      "\n",
      "       Defined temporal  2\n",
      "femarray( order = 2, shape = (6,1), offset = (0,0), data:\n",
      "int point 0\n",
      "sotiarray([[   0.2222 ],\n",
      "           [ - 0.1111 ],\n",
      "           [ - 0.1111 ],\n",
      "           [   0.4444 ],\n",
      "           [   0.1111 ],\n",
      "           [   0.4444 ]] order = 2, shape = (6,1)  )\n",
      "\n",
      "int point 1\n",
      "sotiarray([[ - 0.1111 ],\n",
      "           [   0.2222 ],\n",
      "           [ - 0.1111 ],\n",
      "           [   0.4444 ],\n",
      "           [   0.4444 ],\n",
      "           [   0.1111 ]] order = 2, shape = (6,1)  )\n",
      "\n",
      "int point 2\n",
      "sotiarray([[ - 0.1111 ],\n",
      "           [ - 0.1111 ],\n",
      "           [   0.2222 ],\n",
      "           [   0.1111 ],\n",
      "           [   0.4444 ],\n",
      "           [   0.4444 ]] order = 2, shape = (6,1)  )\n",
      "\n",
      " )\n",
      "\n",
      "\n",
      "\n",
      "    * Got operation  subOpDefBasis\n",
      "\n",
      "       Defined temporal  3\n",
      "femarray( order = 2, shape = (6,1), offset = (0,0), data:\n",
      "int point 0\n",
      "sotiarray([[   0.0490 ],\n",
      "           [   0.2937 ],\n",
      "           [ - 0.2839 ],\n",
      "           [ - 2.3298 ],\n",
      "           [ - 0.0196 ],\n",
      "           [   2.2906 ]] order = 2, shape = (6,1)  )\n",
      "\n",
      "int point 1\n",
      "sotiarray([[ - 0.0098 ],\n",
      "           [ - 1.4684 ],\n",
      "           [ - 0.2839 ],\n",
      "           [ - 0.5089 ],\n",
      "           [   1.6836 ],\n",
      "           [   0.5873 ]] order = 2, shape = (6,1)  )\n",
      "\n",
      "int point 2\n",
      "sotiarray([[ - 0.0098 ],\n",
      "           [   0.2937 ],\n",
      "           [   1.4194 ],\n",
      "           [ - 0.5677 ],\n",
      "           [ - 1.7816 ],\n",
      "           [   0.6461 ]] order = 2, shape = (6,1)  )\n",
      "\n",
      " )\n",
      "\n",
      "\n",
      "\n",
      "    * Got operation  subOpMulRes  \n",
      "\n",
      "          Computed temporal  4\n",
      "femarray( order = 2, shape = (6,6), offset = (0,0), data:\n",
      "int point 0\n",
      "sotiarray([[   0.0024 ,   0.0144 , - 0.0139 , - 0.1142 , - 0.0010 ,   0.1122 ],\n",
      "           [   0.0144 ,   0.0862 , - 0.0834 , - 0.6842 , - 0.0058 ,   0.6727 ],\n",
      "           [ - 0.0139 , - 0.0834 ,   0.0806 ,   0.6614 ,   0.0056 , - 0.6502 ],\n",
      "           [ - 0.1142 , - 0.6842 ,   0.6614 ,   5.4280 ,   0.0457 , - 5.3366 ],\n",
      "           [ - 0.0010 , - 0.0058 ,   0.0056 ,   0.0457 ,   0.0004 , - 0.0449 ],\n",
      "           [   0.1122 ,   0.6727 , - 0.6502 , - 5.3366 , - 0.0449 ,   5.2468 ]] order = 2, shape = (6,6)  )\n",
      "\n",
      "int point 1\n",
      "sotiarray([[   0.0001 ,   0.0144 ,   0.0028 ,   0.0050 , - 0.0165 , - 0.0058 ],\n",
      "           [   0.0144 ,   2.1561 ,   0.4168 ,   0.7473 , - 2.4722 , - 0.8624 ],\n",
      "           [   0.0028 ,   0.4168 ,   0.0806 ,   0.1445 , - 0.4779 , - 0.1667 ],\n",
      "           [   0.0050 ,   0.7473 ,   0.1445 ,   0.2590 , - 0.8569 , - 0.2989 ],\n",
      "           [ - 0.0165 , - 2.4722 , - 0.4779 , - 0.8569 ,   2.8347 ,   0.9889 ],\n",
      "           [ - 0.0058 , - 0.8624 , - 0.1667 , - 0.2989 ,   0.9889 ,   0.3450 ]] order = 2, shape = (6,6)  )\n",
      "\n",
      "int point 2\n",
      "sotiarray([[   0.0001 , - 0.0029 , - 0.0139 ,   0.0056 ,   0.0175 , - 0.0063 ],\n",
      "           [ - 0.0029 ,   0.0862 ,   0.4168 , - 0.1667 , - 0.5232 ,   0.1898 ],\n",
      "           [ - 0.0139 ,   0.4168 ,   2.0146 , - 0.8058 , - 2.5288 ,   0.9171 ],\n",
      "           [   0.0056 , - 0.1667 , - 0.8058 ,   0.3223 ,   1.0115 , - 0.3669 ],\n",
      "           [   0.0175 , - 0.5232 , - 2.5288 ,   1.0115 ,   3.1743 , - 1.1512 ],\n",
      "           [ - 0.0063 ,   0.1898 ,   0.9171 , - 0.3669 , - 1.1512 ,   0.4175 ]] order = 2, shape = (6,6)  )\n",
      "\n",
      " )\n",
      "\n",
      "\n",
      "\n",
      "    * Got operation  subOpDefBasis\n",
      "\n",
      "       Defined temporal  5\n",
      "femarray( order = 2, shape = (1,6), offset = (6,0), data:\n",
      "int point 0\n",
      "sotiarray([[   0.2222 , - 0.1111 , - 0.1111 ,   0.4444 ,   0.1111 ,   0.4444 ]] order = 2, shape = (1,6)  )\n",
      "\n",
      "int point 1\n",
      "sotiarray([[ - 0.1111 ,   0.2222 , - 0.1111 ,   0.4444 ,   0.4444 ,   0.1111 ]] order = 2, shape = (1,6)  )\n",
      "\n",
      "int point 2\n",
      "sotiarray([[ - 0.1111 , - 0.1111 ,   0.2222 ,   0.1111 ,   0.4444 ,   0.4444 ]] order = 2, shape = (1,6)  )\n",
      "\n",
      " )\n",
      "\n",
      "\n",
      "\n",
      "    * Got operation  subOpDefBasis\n",
      "\n",
      "       Defined temporal  6\n",
      "femarray( order = 2, shape = (1,6), offset = (6,0), data:\n",
      "int point 0\n",
      "sotiarray([[   1.6624 ,   0.1618 ,   0.1706 , - 0.6298 , - 0.6650 , - 0.7001 ]] order = 2, shape = (1,6)  )\n",
      "\n",
      "int point 1\n",
      "sotiarray([[ - 0.3325 , - 0.8092 ,   0.1706 ,   2.3361 , - 1.6887 ,   0.3237 ]] order = 2, shape = (1,6)  )\n",
      "\n",
      "int point 2\n",
      "sotiarray([[ - 0.3325 ,   0.1618 , - 0.8532 ,   0.3413 , - 1.6360 ,   2.3185 ]] order = 2, shape = (1,6)  )\n",
      "\n",
      " )\n",
      "\n",
      "\n",
      "\n",
      "    * Got operation  subOpDefBasis\n",
      "\n",
      "       Defined temporal  7\n",
      "femarray( order = 2, shape = (6,1), offset = (6,0), data:\n",
      "int point 0\n",
      "sotiarray([[   0.2222 ],\n",
      "           [ - 0.1111 ],\n",
      "           [ - 0.1111 ],\n",
      "           [   0.4444 ],\n",
      "           [   0.1111 ],\n",
      "           [   0.4444 ]] order = 2, shape = (6,1)  )\n",
      "\n",
      "int point 1\n",
      "sotiarray([[ - 0.1111 ],\n",
      "           [   0.2222 ],\n",
      "           [ - 0.1111 ],\n",
      "           [   0.4444 ],\n",
      "           [   0.4444 ],\n",
      "           [   0.1111 ]] order = 2, shape = (6,1)  )\n",
      "\n",
      "int point 2\n",
      "sotiarray([[ - 0.1111 ],\n",
      "           [ - 0.1111 ],\n",
      "           [   0.2222 ],\n",
      "           [   0.1111 ],\n",
      "           [   0.4444 ],\n",
      "           [   0.4444 ]] order = 2, shape = (6,1)  )\n",
      "\n",
      " )\n",
      "\n",
      "\n",
      "\n",
      "    * Got operation  subOpDefBasis\n",
      "\n",
      "       Defined temporal  8\n",
      "femarray( order = 2, shape = (6,1), offset = (6,0), data:\n",
      "int point 0\n",
      "sotiarray([[   1.6624 ],\n",
      "           [   0.1618 ],\n",
      "           [   0.1706 ],\n",
      "           [ - 0.6298 ],\n",
      "           [ - 0.6650 ],\n",
      "           [ - 0.7001 ]] order = 2, shape = (6,1)  )\n",
      "\n",
      "int point 1\n",
      "sotiarray([[ - 0.3325 ],\n",
      "           [ - 0.8092 ],\n",
      "           [   0.1706 ],\n",
      "           [   2.3361 ],\n",
      "           [ - 1.6887 ],\n",
      "           [   0.3237 ]] order = 2, shape = (6,1)  )\n",
      "\n",
      "int point 2\n",
      "sotiarray([[ - 0.3325 ],\n",
      "           [   0.1618 ],\n",
      "           [ - 0.8532 ],\n",
      "           [   0.3413 ],\n",
      "           [ - 1.6360 ],\n",
      "           [   2.3185 ]] order = 2, shape = (6,1)  )\n",
      "\n",
      " )\n",
      "\n",
      "\n",
      "\n",
      "    * Got operation  subOpMulRes  \n",
      "\n",
      "          Computed temporal  9\n",
      "femarray( order = 2, shape = (6,6), offset = (6,6), data:\n",
      "int point 0\n",
      "sotiarray([[   2.7635 ,   0.2690 ,   0.2837 , - 1.0470 , - 1.1054 , - 1.1638 ],\n",
      "           [   0.2690 ,   0.0262 ,   0.0276 , - 0.1019 , - 0.1076 , - 0.1133 ],\n",
      "           [   0.2837 ,   0.0276 ,   0.0291 , - 0.1075 , - 0.1135 , - 0.1195 ],\n",
      "           [ - 1.0470 , - 0.1019 , - 0.1075 ,   0.3967 ,   0.4188 ,   0.4409 ],\n",
      "           [ - 1.1054 , - 0.1076 , - 0.1135 ,   0.4188 ,   0.4422 ,   0.4655 ],\n",
      "           [ - 1.1638 , - 0.1133 , - 0.1195 ,   0.4409 ,   0.4655 ,   0.4901 ]] order = 2, shape = (6,6)  )\n",
      "\n",
      "int point 1\n",
      "sotiarray([[   0.1105 ,   0.2690 , - 0.0567 , - 0.7767 ,   0.5615 , - 0.1076 ],\n",
      "           [   0.2690 ,   0.6549 , - 0.1381 , - 1.8905 ,   1.3666 , - 0.2619 ],\n",
      "           [ - 0.0567 , - 0.1381 ,   0.0291 ,   0.3986 , - 0.2881 ,   0.0552 ],\n",
      "           [ - 0.7767 , - 1.8905 ,   0.3986 ,   5.4575 , - 3.9451 ,   0.7562 ],\n",
      "           [   0.5615 ,   1.3666 , - 0.2881 , - 3.9451 ,   2.8518 , - 0.5466 ],\n",
      "           [ - 0.1076 , - 0.2619 ,   0.0552 ,   0.7562 , - 0.5466 ,   0.1048 ]] order = 2, shape = (6,6)  )\n",
      "\n",
      "int point 2\n",
      "sotiarray([[   0.1105 , - 0.0538 ,   0.2837 , - 0.1135 ,   0.5439 , - 0.7709 ],\n",
      "           [ - 0.0538 ,   0.0262 , - 0.1381 ,   0.0552 , - 0.2648 ,   0.3752 ],\n",
      "           [   0.2837 , - 0.1381 ,   0.7279 , - 0.2911 ,   1.3958 , - 1.9781 ],\n",
      "           [ - 0.1135 ,   0.0552 , - 0.2911 ,   0.1165 , - 0.5583 ,   0.7912 ],\n",
      "           [   0.5439 , - 0.2648 ,   1.3958 , - 0.5583 ,   2.6766 , - 3.7932 ],\n",
      "           [ - 0.7709 ,   0.3752 , - 1.9781 ,   0.7912 , - 3.7932 ,   5.3757 ]] order = 2, shape = (6,6)  )\n",
      "\n",
      " )\n",
      "\n",
      "\n",
      "\n",
      "    * Got operation  subOpInt     \n",
      "             Integrating element  4\n",
      "\n",
      " Ke:\n",
      "sotiarray([[   0.0005 ,   0.0050 , - 0.0048 , - 0.0200 , - 0.0000 ,   0.0193 , 0.0, 0.0, 0.0, 0.0, 0.0, 0.0],\n",
      "           [   0.0050 ,   0.4489 ,   0.1447 , - 0.0200 , - 0.5786 , - 0.0000 , 0.0, 0.0, 0.0, 0.0, 0.0, 0.0],\n",
      "           [ - 0.0048 ,   0.1447 ,   0.4195 , - 0.0000 , - 0.5786 ,   0.0193 , 0.0, 0.0, 0.0, 0.0, 0.0, 0.0],\n",
      "           [ - 0.0200 , - 0.0200 , - 0.0000 ,   1.1586 ,   0.0386 , - 1.1572 , 0.0, 0.0, 0.0, 0.0, 0.0, 0.0],\n",
      "           [ - 0.0000 , - 0.5786 , - 0.5786 ,   0.0386 ,   1.1586 , - 0.0399 , 0.0, 0.0, 0.0, 0.0, 0.0, 0.0],\n",
      "           [   0.0193 , - 0.0000 ,   0.0193 , - 1.1572 , - 0.0399 ,   1.1586 , 0.0, 0.0, 0.0, 0.0, 0.0, 0.0],\n",
      "           [ 0.0, 0.0, 0.0, 0.0, 0.0, 0.0, 0.0, 0.0, 0.0, 0.0, 0.0, 0.0],\n",
      "           [ 0.0, 0.0, 0.0, 0.0, 0.0, 0.0, 0.0, 0.0, 0.0, 0.0, 0.0, 0.0],\n",
      "           [ 0.0, 0.0, 0.0, 0.0, 0.0, 0.0, 0.0, 0.0, 0.0, 0.0, 0.0, 0.0],\n",
      "           [ 0.0, 0.0, 0.0, 0.0, 0.0, 0.0, 0.0, 0.0, 0.0, 0.0, 0.0, 0.0],\n",
      "           [ 0.0, 0.0, 0.0, 0.0, 0.0, 0.0, 0.0, 0.0, 0.0, 0.0, 0.0, 0.0],\n",
      "           [ 0.0, 0.0, 0.0, 0.0, 0.0, 0.0, 0.0, 0.0, 0.0, 0.0, 0.0, 0.0]] order = 2, shape = (12,12)  )\n",
      "\n",
      "             Integrating element  9\n",
      "\n",
      " Ke:\n",
      "sotiarray([[   0.0005 ,   0.0050 , - 0.0048 , - 0.0200 , - 0.0000 ,   0.0193 , 0.0, 0.0, 0.0, 0.0, 0.0, 0.0],\n",
      "           [   0.0050 ,   0.4489 ,   0.1447 , - 0.0200 , - 0.5786 , - 0.0000 , 0.0, 0.0, 0.0, 0.0, 0.0, 0.0],\n",
      "           [ - 0.0048 ,   0.1447 ,   0.4195 , - 0.0000 , - 0.5786 ,   0.0193 , 0.0, 0.0, 0.0, 0.0, 0.0, 0.0],\n",
      "           [ - 0.0200 , - 0.0200 , - 0.0000 ,   1.1586 ,   0.0386 , - 1.1572 , 0.0, 0.0, 0.0, 0.0, 0.0, 0.0],\n",
      "           [ - 0.0000 , - 0.5786 , - 0.5786 ,   0.0386 ,   1.1586 , - 0.0399 , 0.0, 0.0, 0.0, 0.0, 0.0, 0.0],\n",
      "           [   0.0193 , - 0.0000 ,   0.0193 , - 1.1572 , - 0.0399 ,   1.1586 , 0.0, 0.0, 0.0, 0.0, 0.0, 0.0],\n",
      "           [ 0.0, 0.0, 0.0, 0.0, 0.0, 0.0,   0.5754 ,   0.0934 ,   0.0984 , - 0.3735 ,   0.0000 , - 0.3937 ],\n",
      "           [ 0.0, 0.0, 0.0, 0.0, 0.0, 0.0,   0.0934 ,   0.1364 , - 0.0479 , - 0.3735 ,   0.1917 , - 0.0000 ],\n",
      "           [ 0.0, 0.0, 0.0, 0.0, 0.0, 0.0,   0.0984 , - 0.0479 ,   0.1516 , - 0.0000 ,   0.1917 , - 0.3937 ],\n",
      "           [ 0.0, 0.0, 0.0, 0.0, 0.0, 0.0, - 0.3735 , - 0.3735 , - 0.0000 ,   1.1511 , - 0.7875 ,   0.3833 ],\n",
      "           [ 0.0, 0.0, 0.0, 0.0, 0.0, 0.0,   0.0000 ,   0.1917 ,   0.1917 , - 0.7875 ,   1.1511 , - 0.7469 ],\n",
      "           [ 0.0, 0.0, 0.0, 0.0, 0.0, 0.0, - 0.3937 , - 0.0000 , - 0.3937 ,   0.3833 , - 0.7469 ,   1.1511 ]] order = 2, shape = (12,12)  )\n",
      "\n",
      " \n",
      "  After performing the operations, the following is obtained;\n",
      " \n",
      "  Ke:\n",
      "sotiarray([[   0.0005 ,   0.0050 , - 0.0048 , - 0.0200 , - 0.0000 ,   0.0193 , 0.0, 0.0, 0.0, 0.0, 0.0, 0.0],\n",
      "           [   0.0050 ,   0.4489 ,   0.1447 , - 0.0200 , - 0.5786 , - 0.0000 , 0.0, 0.0, 0.0, 0.0, 0.0, 0.0],\n",
      "           [ - 0.0048 ,   0.1447 ,   0.4195 , - 0.0000 , - 0.5786 ,   0.0193 , 0.0, 0.0, 0.0, 0.0, 0.0, 0.0],\n",
      "           [ - 0.0200 , - 0.0200 , - 0.0000 ,   1.1586 ,   0.0386 , - 1.1572 , 0.0, 0.0, 0.0, 0.0, 0.0, 0.0],\n",
      "           [ - 0.0000 , - 0.5786 , - 0.5786 ,   0.0386 ,   1.1586 , - 0.0399 , 0.0, 0.0, 0.0, 0.0, 0.0, 0.0],\n",
      "           [   0.0193 , - 0.0000 ,   0.0193 , - 1.1572 , - 0.0399 ,   1.1586 , 0.0, 0.0, 0.0, 0.0, 0.0, 0.0],\n",
      "           [ 0.0, 0.0, 0.0, 0.0, 0.0, 0.0,   0.5754 ,   0.0934 ,   0.0984 , - 0.3735 ,   0.0000 , - 0.3937 ],\n",
      "           [ 0.0, 0.0, 0.0, 0.0, 0.0, 0.0,   0.0934 ,   0.1364 , - 0.0479 , - 0.3735 ,   0.1917 , - 0.0000 ],\n",
      "           [ 0.0, 0.0, 0.0, 0.0, 0.0, 0.0,   0.0984 , - 0.0479 ,   0.1516 , - 0.0000 ,   0.1917 , - 0.3937 ],\n",
      "           [ 0.0, 0.0, 0.0, 0.0, 0.0, 0.0, - 0.3735 , - 0.3735 , - 0.0000 ,   1.1511 , - 0.7875 ,   0.3833 ],\n",
      "           [ 0.0, 0.0, 0.0, 0.0, 0.0, 0.0,   0.0000 ,   0.1917 ,   0.1917 , - 0.7875 ,   1.1511 , - 0.7469 ],\n",
      "           [ 0.0, 0.0, 0.0, 0.0, 0.0, 0.0, - 0.3937 , - 0.0000 , - 0.3937 ,   0.3833 , - 0.7469 ,   1.1511 ]] order = 2, shape = (12,12)  )\n",
      "\n",
      " \n",
      "  fe:\n",
      "sotiarray([[ 0.0],\n",
      "           [ 0.0],\n",
      "           [ 0.0],\n",
      "           [ 0.0],\n",
      "           [ 0.0],\n",
      "           [ 0.0],\n",
      "           [ 0.0],\n",
      "           [ 0.0],\n",
      "           [ 0.0],\n",
      "           [ 0.0],\n",
      "           [ 0.0],\n",
      "           [ 0.0]] order = 2, shape = (12,1)  )\n",
      "\n",
      " \n",
      "  ---------------------------------------------------------------------\n",
      "  >>>> Element  1  in region  301   [  9  25  26  34  32  35 301]\n",
      "  ---------------------------------------------------------------------\n",
      "  Initializing Elemental stiffness matrix.\n",
      "sotiarray([[ 0.0, 0.0, 0.0, 0.0, 0.0, 0.0, 0.0, 0.0, 0.0, 0.0, 0.0, 0.0],\n",
      "           [ 0.0, 0.0, 0.0, 0.0, 0.0, 0.0, 0.0, 0.0, 0.0, 0.0, 0.0, 0.0],\n",
      "           [ 0.0, 0.0, 0.0, 0.0, 0.0, 0.0, 0.0, 0.0, 0.0, 0.0, 0.0, 0.0],\n",
      "           [ 0.0, 0.0, 0.0, 0.0, 0.0, 0.0, 0.0, 0.0, 0.0, 0.0, 0.0, 0.0],\n",
      "           [ 0.0, 0.0, 0.0, 0.0, 0.0, 0.0, 0.0, 0.0, 0.0, 0.0, 0.0, 0.0],\n",
      "           [ 0.0, 0.0, 0.0, 0.0, 0.0, 0.0, 0.0, 0.0, 0.0, 0.0, 0.0, 0.0],\n",
      "           [ 0.0, 0.0, 0.0, 0.0, 0.0, 0.0, 0.0, 0.0, 0.0, 0.0, 0.0, 0.0],\n",
      "           [ 0.0, 0.0, 0.0, 0.0, 0.0, 0.0, 0.0, 0.0, 0.0, 0.0, 0.0, 0.0],\n",
      "           [ 0.0, 0.0, 0.0, 0.0, 0.0, 0.0, 0.0, 0.0, 0.0, 0.0, 0.0, 0.0],\n",
      "           [ 0.0, 0.0, 0.0, 0.0, 0.0, 0.0, 0.0, 0.0, 0.0, 0.0, 0.0, 0.0],\n",
      "           [ 0.0, 0.0, 0.0, 0.0, 0.0, 0.0, 0.0, 0.0, 0.0, 0.0, 0.0, 0.0],\n",
      "           [ 0.0, 0.0, 0.0, 0.0, 0.0, 0.0, 0.0, 0.0, 0.0, 0.0, 0.0, 0.0]] order = 2, shape = (12,12)  )\n",
      "\n",
      "  Initializing Elemental force vector.\n",
      "sotiarray([[ 0.0],\n",
      "           [ 0.0],\n",
      "           [ 0.0],\n",
      "           [ 0.0],\n",
      "           [ 0.0],\n",
      "           [ 0.0],\n",
      "           [ 0.0],\n",
      "           [ 0.0],\n",
      "           [ 0.0],\n",
      "           [ 0.0],\n",
      "           [ 0.0],\n",
      "           [ 0.0]] order = 2, shape = (12,1)  )\n",
      "\n",
      "  Got the following coordinates: \n",
      "    * X: \n",
      "sotiarray([[   1.0000 ],\n",
      "           [   1.5616 ],\n",
      "           [   0.4079 ],\n",
      "           [   1.2808 ],\n",
      "           [   0.9848 ],\n",
      "           [   0.7039 ]] order = 2, shape = (6,1)  )\n",
      "\n",
      "    * Y: \n",
      "sotiarray([[ - 1.0000 ],\n",
      "           [ - 0.0191 ],\n",
      "           [   0.0149 ],\n",
      "           [ - 0.5096 ],\n",
      "           [ - 0.0021 ],\n",
      "           [ - 0.4926 ]] order = 2, shape = (6,1)  )\n",
      "\n",
      "    * Z: \n",
      "sotiarray([[ 0.0],\n",
      "           [ 0.0],\n",
      "           [ 0.0],\n",
      "           [ 0.0],\n",
      "           [ 0.0],\n",
      "           [ 0.0]] order = 2, shape = (6,1)  )\n",
      "\n",
      " \n",
      "  Initializing the local interpolation data: \n",
      "           Initializing information of interpolations  0\n",
      "           Computation flags:  0b1011\n",
      "Per Element Properties of elTriangle    of order 2\n",
      "   - Jacobian:\n",
      "femarray( order = 2, shape = (2,2), offset = (0,0), data:\n",
      "int point 0\n",
      "sotiarray([[   0.5616 ,   0.9809 ],\n",
      "           [ - 0.5921 ,   1.0149 ]] order = 2, shape = (2,2)  )\n",
      "\n",
      "int point 1\n",
      "sotiarray([[   0.5616 ,   0.9809 ],\n",
      "           [ - 0.5921 ,   1.0149 ]] order = 2, shape = (2,2)  )\n",
      "\n",
      "int point 2\n",
      "sotiarray([[   0.5616 ,   0.9809 ],\n",
      "           [ - 0.5921 ,   1.0149 ]] order = 2, shape = (2,2)  )\n",
      "\n",
      " )\n",
      "   - Jacobian Inverse:\n",
      "femarray( order = 2, shape = (2,2), offset = (0,0), data:\n",
      "int point 0\n",
      "sotiarray([[   0.8819 , - 0.8523 ],\n",
      "           [   0.5145 ,   0.4880 ]] order = 2, shape = (2,2)  )\n",
      "\n",
      "int point 1\n",
      "sotiarray([[   0.8819 , - 0.8523 ],\n",
      "           [   0.5145 ,   0.4880 ]] order = 2, shape = (2,2)  )\n",
      "\n",
      "int point 2\n",
      "sotiarray([[   0.8819 , - 0.8523 ],\n",
      "           [   0.5145 ,   0.4880 ]] order = 2, shape = (2,2)  )\n",
      "\n",
      " )\n",
      "   - Jacobian Determinant:\n",
      "femarray( order = 2, shape = (1,1), offset = (0,0), data:\n",
      "int point 0\n",
      "sotiarray([[   1.1508 ]] order = 2, shape = (1,1)  )\n",
      "\n",
      "int point 1\n",
      "sotiarray([[   1.1508 ]] order = 2, shape = (1,1)  )\n",
      "\n",
      "int point 2\n",
      "sotiarray([[   1.1508 ]] order = 2, shape = (1,1)  )\n",
      "\n",
      " )\n",
      "   - Integration weights times Jacobian:\n",
      "femarray( order = 2, shape = (1,1), offset = (0,0), data:\n",
      "int point 0\n",
      "sotiarray([[   0.1918 ]] order = 2, shape = (1,1)  )\n",
      "\n",
      "int point 1\n",
      "sotiarray([[   0.1918 ]] order = 2, shape = (1,1)  )\n",
      "\n",
      "int point 2\n",
      "sotiarray([[   0.1918 ]] order = 2, shape = (1,1)  )\n",
      "\n",
      " )\n",
      "   - spacial defined basis functions: \n",
      "    basisN        at 0x107335680:\n",
      "femarray( order = 2, shape = (1,6), offset = (0,0), data:\n",
      "int point 0\n",
      "sotiarray([[   0.2222 , - 0.1111 , - 0.1111 ,   0.4444 ,   0.1111 ,   0.4444 ]] order = 2, shape = (1,6)  )\n",
      "\n",
      "int point 1\n",
      "sotiarray([[ - 0.1111 ,   0.2222 , - 0.1111 ,   0.4444 ,   0.4444 ,   0.1111 ]] order = 2, shape = (1,6)  )\n",
      "\n",
      "int point 2\n",
      "sotiarray([[ - 0.1111 , - 0.1111 ,   0.2222 ,   0.1111 ,   0.4444 ,   0.4444 ]] order = 2, shape = (1,6)  )\n",
      "\n",
      " )\n",
      "    basisNx       at 0x1073356c0:\n",
      "femarray( order = 2, shape = (1,6), offset = (0,0), data:\n",
      "int point 0\n",
      "sotiarray([[ - 0.0493 , - 0.2940 ,   0.2841 ,   2.3320 ,   0.0197 , - 2.2926 ]] order = 2, shape = (1,6)  )\n",
      "\n",
      "int point 1\n",
      "sotiarray([[   0.0099 ,   1.4698 ,   0.2841 ,   0.5091 , - 1.6850 , - 0.5879 ]] order = 2, shape = (1,6)  )\n",
      "\n",
      "int point 2\n",
      "sotiarray([[   0.0099 , - 0.2940 , - 1.4205 ,   0.5682 ,   1.7835 , - 0.6470 ]] order = 2, shape = (1,6)  )\n",
      "\n",
      " )\n",
      "    basisNxx      at 0x107335700:\n",
      "femarray( order = 2, shape = (1,6), offset = (0,0), data:\n",
      "int point 0\n",
      "sotiarray([[ 0.0, 0.0, 0.0, 0.0, 0.0, 0.0]] order = 2, shape = (1,6)  )\n",
      "\n",
      "int point 1\n",
      "sotiarray([[ 0.0, 0.0, 0.0, 0.0, 0.0, 0.0]] order = 2, shape = (1,6)  )\n",
      "\n",
      "int point 2\n",
      "sotiarray([[ 0.0, 0.0, 0.0, 0.0, 0.0, 0.0]] order = 2, shape = (1,6)  )\n",
      "\n",
      " )\n",
      "    basisNy       at 0x107335740:\n",
      "femarray( order = 2, shape = (1,6), offset = (0,0), data:\n",
      "int point 0\n",
      "sotiarray([[ - 1.6710 , - 0.1715 , - 0.1627 ,   0.7037 ,   0.6684 ,   0.6331 ]] order = 2, shape = (1,6)  )\n",
      "\n",
      "int point 1\n",
      "sotiarray([[   0.3342 ,   0.8576 , - 0.1627 , - 2.3305 ,   1.6445 , - 0.3430 ]] order = 2, shape = (1,6)  )\n",
      "\n",
      "int point 2\n",
      "sotiarray([[   0.3342 , - 0.1715 ,   0.8134 , - 0.3254 ,   1.6975 , - 2.3482 ]] order = 2, shape = (1,6)  )\n",
      "\n",
      " )\n",
      "    basisNxy      at 0x107335780:\n",
      "femarray( order = 2, shape = (1,6), offset = (0,0), data:\n",
      "int point 0\n",
      "sotiarray([[ 0.0, 0.0, 0.0, 0.0, 0.0, 0.0]] order = 2, shape = (1,6)  )\n",
      "\n",
      "int point 1\n",
      "sotiarray([[ 0.0, 0.0, 0.0, 0.0, 0.0, 0.0]] order = 2, shape = (1,6)  )\n",
      "\n",
      "int point 2\n",
      "sotiarray([[ 0.0, 0.0, 0.0, 0.0, 0.0, 0.0]] order = 2, shape = (1,6)  )\n",
      "\n",
      " )\n",
      "    basisNyy      at 0x1073357c0:\n",
      "femarray( order = 2, shape = (1,6), offset = (0,0), data:\n",
      "int point 0\n",
      "sotiarray([[ 0.0, 0.0, 0.0, 0.0, 0.0, 0.0]] order = 2, shape = (1,6)  )\n",
      "\n",
      "int point 1\n",
      "sotiarray([[ 0.0, 0.0, 0.0, 0.0, 0.0, 0.0]] order = 2, shape = (1,6)  )\n",
      "\n",
      "int point 2\n",
      "sotiarray([[ 0.0, 0.0, 0.0, 0.0, 0.0, 0.0]] order = 2, shape = (1,6)  )\n",
      "\n",
      " )\n",
      "\n",
      " \n",
      "\n",
      "\n",
      "\n",
      "\n",
      "  ----------------------------------------------------------------------------\n",
      "              Looping for each operation of Stiffness matrix                  \n",
      "  ----------------------------------------------------------------------------\n",
      "\n",
      "    * Got operation  subOpDefBasis\n",
      "\n",
      "       Defined temporal  0\n",
      "femarray( order = 2, shape = (1,6), offset = (0,0), data:\n",
      "int point 0\n",
      "sotiarray([[   0.2222 , - 0.1111 , - 0.1111 ,   0.4444 ,   0.1111 ,   0.4444 ]] order = 2, shape = (1,6)  )\n",
      "\n",
      "int point 1\n",
      "sotiarray([[ - 0.1111 ,   0.2222 , - 0.1111 ,   0.4444 ,   0.4444 ,   0.1111 ]] order = 2, shape = (1,6)  )\n",
      "\n",
      "int point 2\n",
      "sotiarray([[ - 0.1111 , - 0.1111 ,   0.2222 ,   0.1111 ,   0.4444 ,   0.4444 ]] order = 2, shape = (1,6)  )\n",
      "\n",
      " )\n",
      "\n",
      "\n",
      "\n",
      "    * Got operation  subOpDefBasis\n",
      "\n",
      "       Defined temporal  1\n",
      "femarray( order = 2, shape = (1,6), offset = (0,0), data:\n",
      "int point 0\n",
      "sotiarray([[ - 0.0493 , - 0.2940 ,   0.2841 ,   2.3320 ,   0.0197 , - 2.2926 ]] order = 2, shape = (1,6)  )\n",
      "\n",
      "int point 1\n",
      "sotiarray([[   0.0099 ,   1.4698 ,   0.2841 ,   0.5091 , - 1.6850 , - 0.5879 ]] order = 2, shape = (1,6)  )\n",
      "\n",
      "int point 2\n",
      "sotiarray([[   0.0099 , - 0.2940 , - 1.4205 ,   0.5682 ,   1.7835 , - 0.6470 ]] order = 2, shape = (1,6)  )\n",
      "\n",
      " )\n",
      "\n",
      "\n",
      "\n",
      "    * Got operation  subOpDefBasis\n",
      "\n",
      "       Defined temporal  2\n",
      "femarray( order = 2, shape = (6,1), offset = (0,0), data:\n",
      "int point 0\n",
      "sotiarray([[   0.2222 ],\n",
      "           [ - 0.1111 ],\n",
      "           [ - 0.1111 ],\n",
      "           [   0.4444 ],\n",
      "           [   0.1111 ],\n",
      "           [   0.4444 ]] order = 2, shape = (6,1)  )\n",
      "\n",
      "int point 1\n",
      "sotiarray([[ - 0.1111 ],\n",
      "           [   0.2222 ],\n",
      "           [ - 0.1111 ],\n",
      "           [   0.4444 ],\n",
      "           [   0.4444 ],\n",
      "           [   0.1111 ]] order = 2, shape = (6,1)  )\n",
      "\n",
      "int point 2\n",
      "sotiarray([[ - 0.1111 ],\n",
      "           [ - 0.1111 ],\n",
      "           [   0.2222 ],\n",
      "           [   0.1111 ],\n",
      "           [   0.4444 ],\n",
      "           [   0.4444 ]] order = 2, shape = (6,1)  )\n",
      "\n",
      " )\n",
      "\n",
      "\n",
      "\n",
      "    * Got operation  subOpDefBasis\n",
      "\n",
      "       Defined temporal  3\n",
      "femarray( order = 2, shape = (6,1), offset = (0,0), data:\n",
      "int point 0\n",
      "sotiarray([[ - 0.0493 ],\n",
      "           [ - 0.2940 ],\n",
      "           [   0.2841 ],\n",
      "           [   2.3320 ],\n",
      "           [   0.0197 ],\n",
      "           [ - 2.2926 ]] order = 2, shape = (6,1)  )\n",
      "\n",
      "int point 1\n",
      "sotiarray([[   0.0099 ],\n",
      "           [   1.4698 ],\n",
      "           [   0.2841 ],\n",
      "           [   0.5091 ],\n",
      "           [ - 1.6850 ],\n",
      "           [ - 0.5879 ]] order = 2, shape = (6,1)  )\n",
      "\n",
      "int point 2\n",
      "sotiarray([[   0.0099 ],\n",
      "           [ - 0.2940 ],\n",
      "           [ - 1.4205 ],\n",
      "           [   0.5682 ],\n",
      "           [   1.7835 ],\n",
      "           [ - 0.6470 ]] order = 2, shape = (6,1)  )\n",
      "\n",
      " )\n",
      "\n",
      "\n",
      "\n",
      "    * Got operation  subOpMulRes  \n",
      "\n",
      "          Computed temporal  4\n",
      "femarray( order = 2, shape = (6,6), offset = (0,0), data:\n",
      "int point 0\n",
      "sotiarray([[   0.0024 ,   0.0145 , - 0.0140 , - 0.1149 , - 0.0010 ,   0.1129 ],\n",
      "           [   0.0145 ,   0.0864 , - 0.0835 , - 0.6855 , - 0.0058 ,   0.6739 ],\n",
      "           [ - 0.0140 , - 0.0835 ,   0.0807 ,   0.6625 ,   0.0056 , - 0.6513 ],\n",
      "           [ - 0.1149 , - 0.6855 ,   0.6625 ,   5.4381 ,   0.0459 , - 5.3462 ],\n",
      "           [ - 0.0010 , - 0.0058 ,   0.0056 ,   0.0459 ,   0.0004 , - 0.0452 ],\n",
      "           [   0.1129 ,   0.6739 , - 0.6513 , - 5.3462 , - 0.0452 ,   5.2559 ]] order = 2, shape = (6,6)  )\n",
      "\n",
      "int point 1\n",
      "sotiarray([[   0.0001 ,   0.0145 ,   0.0028 ,   0.0050 , - 0.0166 , - 0.0058 ],\n",
      "           [   0.0145 ,   2.1603 ,   0.4176 ,   0.7483 , - 2.4765 , - 0.8641 ],\n",
      "           [   0.0028 ,   0.4176 ,   0.0807 ,   0.1446 , - 0.4787 , - 0.1670 ],\n",
      "           [   0.0050 ,   0.7483 ,   0.1446 ,   0.2592 , - 0.8578 , - 0.2993 ],\n",
      "           [ - 0.0166 , - 2.4765 , - 0.4787 , - 0.8578 ,   2.8391 ,   0.9906 ],\n",
      "           [ - 0.0058 , - 0.8641 , - 0.1670 , - 0.2993 ,   0.9906 ,   0.3456 ]] order = 2, shape = (6,6)  )\n",
      "\n",
      "int point 2\n",
      "sotiarray([[   0.0001 , - 0.0029 , - 0.0140 ,   0.0056 ,   0.0176 , - 0.0064 ],\n",
      "           [ - 0.0029 ,   0.0864 ,   0.4176 , - 0.1670 , - 0.5243 ,   0.1902 ],\n",
      "           [ - 0.0140 ,   0.4176 ,   2.0179 , - 0.8072 , - 2.5335 ,   0.9191 ],\n",
      "           [   0.0056 , - 0.1670 , - 0.8072 ,   0.3229 ,   1.0134 , - 0.3677 ],\n",
      "           [   0.0176 , - 0.5243 , - 2.5335 ,   1.0134 ,   3.1807 , - 1.1539 ],\n",
      "           [ - 0.0064 ,   0.1902 ,   0.9191 , - 0.3677 , - 1.1539 ,   0.4186 ]] order = 2, shape = (6,6)  )\n",
      "\n",
      " )\n",
      "\n",
      "\n",
      "\n",
      "    * Got operation  subOpDefBasis\n",
      "\n",
      "       Defined temporal  5\n",
      "femarray( order = 2, shape = (1,6), offset = (6,0), data:\n",
      "int point 0\n",
      "sotiarray([[   0.2222 , - 0.1111 , - 0.1111 ,   0.4444 ,   0.1111 ,   0.4444 ]] order = 2, shape = (1,6)  )\n",
      "\n",
      "int point 1\n",
      "sotiarray([[ - 0.1111 ,   0.2222 , - 0.1111 ,   0.4444 ,   0.4444 ,   0.1111 ]] order = 2, shape = (1,6)  )\n",
      "\n",
      "int point 2\n",
      "sotiarray([[ - 0.1111 , - 0.1111 ,   0.2222 ,   0.1111 ,   0.4444 ,   0.4444 ]] order = 2, shape = (1,6)  )\n",
      "\n",
      " )\n",
      "\n",
      "\n",
      "\n",
      "    * Got operation  subOpDefBasis\n",
      "\n",
      "       Defined temporal  6\n",
      "femarray( order = 2, shape = (1,6), offset = (6,0), data:\n",
      "int point 0\n",
      "sotiarray([[ - 1.6710 , - 0.1715 , - 0.1627 ,   0.7037 ,   0.6684 ,   0.6331 ]] order = 2, shape = (1,6)  )\n",
      "\n",
      "int point 1\n",
      "sotiarray([[   0.3342 ,   0.8576 , - 0.1627 , - 2.3305 ,   1.6445 , - 0.3430 ]] order = 2, shape = (1,6)  )\n",
      "\n",
      "int point 2\n",
      "sotiarray([[   0.3342 , - 0.1715 ,   0.8134 , - 0.3254 ,   1.6975 , - 2.3482 ]] order = 2, shape = (1,6)  )\n",
      "\n",
      " )\n",
      "\n",
      "\n",
      "\n",
      "    * Got operation  subOpDefBasis\n",
      "\n",
      "       Defined temporal  7\n",
      "femarray( order = 2, shape = (6,1), offset = (6,0), data:\n",
      "int point 0\n",
      "sotiarray([[   0.2222 ],\n",
      "           [ - 0.1111 ],\n",
      "           [ - 0.1111 ],\n",
      "           [   0.4444 ],\n",
      "           [   0.1111 ],\n",
      "           [   0.4444 ]] order = 2, shape = (6,1)  )\n",
      "\n",
      "int point 1\n",
      "sotiarray([[ - 0.1111 ],\n",
      "           [   0.2222 ],\n",
      "           [ - 0.1111 ],\n",
      "           [   0.4444 ],\n",
      "           [   0.4444 ],\n",
      "           [   0.1111 ]] order = 2, shape = (6,1)  )\n",
      "\n",
      "int point 2\n",
      "sotiarray([[ - 0.1111 ],\n",
      "           [ - 0.1111 ],\n",
      "           [   0.2222 ],\n",
      "           [   0.1111 ],\n",
      "           [   0.4444 ],\n",
      "           [   0.4444 ]] order = 2, shape = (6,1)  )\n",
      "\n",
      " )\n",
      "\n",
      "\n",
      "\n",
      "    * Got operation  subOpDefBasis\n",
      "\n",
      "       Defined temporal  8\n",
      "femarray( order = 2, shape = (6,1), offset = (6,0), data:\n",
      "int point 0\n",
      "sotiarray([[ - 1.6710 ],\n",
      "           [ - 0.1715 ],\n",
      "           [ - 0.1627 ],\n",
      "           [   0.7037 ],\n",
      "           [   0.6684 ],\n",
      "           [   0.6331 ]] order = 2, shape = (6,1)  )\n",
      "\n",
      "int point 1\n",
      "sotiarray([[   0.3342 ],\n",
      "           [   0.8576 ],\n",
      "           [ - 0.1627 ],\n",
      "           [ - 2.3305 ],\n",
      "           [   1.6445 ],\n",
      "           [ - 0.3430 ]] order = 2, shape = (6,1)  )\n",
      "\n",
      "int point 2\n",
      "sotiarray([[   0.3342 ],\n",
      "           [ - 0.1715 ],\n",
      "           [   0.8134 ],\n",
      "           [ - 0.3254 ],\n",
      "           [   1.6975 ],\n",
      "           [ - 2.3482 ]] order = 2, shape = (6,1)  )\n",
      "\n",
      " )\n",
      "\n",
      "\n",
      "\n",
      "    * Got operation  subOpMulRes  \n",
      "\n",
      "          Computed temporal  9\n",
      "femarray( order = 2, shape = (6,6), offset = (6,6), data:\n",
      "int point 0\n",
      "sotiarray([[   2.7922 ,   0.2866 ,   0.2718 , - 1.1759 , - 1.1169 , - 1.0578 ],\n",
      "           [   0.2866 ,   0.0294 ,   0.0279 , - 0.1207 , - 0.1146 , - 0.1086 ],\n",
      "           [   0.2718 ,   0.0279 ,   0.0265 , - 0.1145 , - 0.1087 , - 0.1030 ],\n",
      "           [ - 1.1759 , - 0.1207 , - 0.1145 ,   0.4952 ,   0.4704 ,   0.4455 ],\n",
      "           [ - 1.1169 , - 0.1146 , - 0.1087 ,   0.4704 ,   0.4467 ,   0.4231 ],\n",
      "           [ - 1.0578 , - 0.1086 , - 0.1030 ,   0.4455 ,   0.4231 ,   0.4008 ]] order = 2, shape = (6,6)  )\n",
      "\n",
      "int point 1\n",
      "sotiarray([[   0.1117 ,   0.2866 , - 0.0544 , - 0.7789 ,   0.5496 , - 0.1146 ],\n",
      "           [   0.2866 ,   0.7354 , - 0.1395 , - 1.9986 ,   1.4102 , - 0.2942 ],\n",
      "           [ - 0.0544 , - 0.1395 ,   0.0265 ,   0.3791 , - 0.2675 ,   0.0558 ],\n",
      "           [ - 0.7789 , - 1.9986 ,   0.3791 ,   5.4314 , - 3.8325 ,   0.7994 ],\n",
      "           [   0.5496 ,   1.4102 , - 0.2675 , - 3.8325 ,   2.7043 , - 0.5641 ],\n",
      "           [ - 0.1146 , - 0.2942 ,   0.0558 ,   0.7994 , - 0.5641 ,   0.1177 ]] order = 2, shape = (6,6)  )\n",
      "\n",
      "int point 2\n",
      "sotiarray([[   0.1117 , - 0.0573 ,   0.2718 , - 0.1087 ,   0.5673 , - 0.7848 ],\n",
      "           [ - 0.0573 ,   0.0294 , - 0.1395 ,   0.0558 , - 0.2911 ,   0.4027 ],\n",
      "           [   0.2718 , - 0.1395 ,   0.6616 , - 0.2647 ,   1.3807 , - 1.9100 ],\n",
      "           [ - 0.1087 ,   0.0558 , - 0.2647 ,   0.1059 , - 0.5523 ,   0.7640 ],\n",
      "           [   0.5673 , - 0.2911 ,   1.3807 , - 0.5523 ,   2.8814 , - 3.9860 ],\n",
      "           [ - 0.7848 ,   0.4027 , - 1.9100 ,   0.7640 , - 3.9860 ,   5.5140 ]] order = 2, shape = (6,6)  )\n",
      "\n",
      " )\n",
      "\n",
      "\n",
      "\n",
      "    * Got operation  subOpInt     \n",
      "             Integrating element  4\n",
      "\n",
      " Ke:\n",
      "sotiarray([[   0.0005 ,   0.0050 , - 0.0048 , - 0.0200 ,   0.0000 ,   0.0193 , 0.0, 0.0, 0.0, 0.0, 0.0, 0.0],\n",
      "           [   0.0050 ,   0.4475 ,   0.1442 , - 0.0200 , - 0.5767 , - 0.0000 , 0.0, 0.0, 0.0, 0.0, 0.0, 0.0],\n",
      "           [ - 0.0048 ,   0.1442 ,   0.4180 , - 0.0000 , - 0.5767 ,   0.0193 , 0.0, 0.0, 0.0, 0.0, 0.0, 0.0],\n",
      "           [ - 0.0200 , - 0.0200 , - 0.0000 ,   1.1547 ,   0.0386 , - 1.1533 , 0.0, 0.0, 0.0, 0.0, 0.0, 0.0],\n",
      "           [   0.0000 , - 0.5767 , - 0.5767 ,   0.0386 ,   1.1547 , - 0.0400 , 0.0, 0.0, 0.0, 0.0, 0.0, 0.0],\n",
      "           [   0.0193 , - 0.0000 ,   0.0193 , - 1.1533 , - 0.0400 ,   1.1547 , 0.0, 0.0, 0.0, 0.0, 0.0, 0.0],\n",
      "           [ 0.0, 0.0, 0.0, 0.0, 0.0, 0.0, 0.0, 0.0, 0.0, 0.0, 0.0, 0.0],\n",
      "           [ 0.0, 0.0, 0.0, 0.0, 0.0, 0.0, 0.0, 0.0, 0.0, 0.0, 0.0, 0.0],\n",
      "           [ 0.0, 0.0, 0.0, 0.0, 0.0, 0.0, 0.0, 0.0, 0.0, 0.0, 0.0, 0.0],\n",
      "           [ 0.0, 0.0, 0.0, 0.0, 0.0, 0.0, 0.0, 0.0, 0.0, 0.0, 0.0, 0.0],\n",
      "           [ 0.0, 0.0, 0.0, 0.0, 0.0, 0.0, 0.0, 0.0, 0.0, 0.0, 0.0, 0.0],\n",
      "           [ 0.0, 0.0, 0.0, 0.0, 0.0, 0.0, 0.0, 0.0, 0.0, 0.0, 0.0, 0.0]] order = 2, shape = (12,12)  )\n",
      "\n",
      "             Integrating element  9\n",
      "\n",
      " Ke:\n",
      "sotiarray([[   0.0005 ,   0.0050 , - 0.0048 , - 0.0200 ,   0.0000 ,   0.0193 , 0.0, 0.0, 0.0, 0.0, 0.0, 0.0],\n",
      "           [   0.0050 ,   0.4475 ,   0.1442 , - 0.0200 , - 0.5767 , - 0.0000 , 0.0, 0.0, 0.0, 0.0, 0.0, 0.0],\n",
      "           [ - 0.0048 ,   0.1442 ,   0.4180 , - 0.0000 , - 0.5767 ,   0.0193 , 0.0, 0.0, 0.0, 0.0, 0.0, 0.0],\n",
      "           [ - 0.0200 , - 0.0200 , - 0.0000 ,   1.1547 ,   0.0386 , - 1.1533 , 0.0, 0.0, 0.0, 0.0, 0.0, 0.0],\n",
      "           [   0.0000 , - 0.5767 , - 0.5767 ,   0.0386 ,   1.1547 , - 0.0400 , 0.0, 0.0, 0.0, 0.0, 0.0, 0.0],\n",
      "           [   0.0193 , - 0.0000 ,   0.0193 , - 1.1533 , - 0.0400 ,   1.1547 , 0.0, 0.0, 0.0, 0.0, 0.0, 0.0],\n",
      "           [ 0.0, 0.0, 0.0, 0.0, 0.0, 0.0,   0.5784 ,   0.0989 ,   0.0939 , - 0.3958 ,   0.0000 , - 0.3754 ],\n",
      "           [ 0.0, 0.0, 0.0, 0.0, 0.0, 0.0,   0.0989 ,   0.1523 , - 0.0482 , - 0.3958 ,   0.1927 , - 0.0000 ],\n",
      "           [ 0.0, 0.0, 0.0, 0.0, 0.0, 0.0,   0.0939 , - 0.0482 ,   0.1371 , - 0.0000 ,   0.1927 , - 0.3754 ],\n",
      "           [ 0.0, 0.0, 0.0, 0.0, 0.0, 0.0, - 0.3958 , - 0.3958 , - 0.0000 ,   1.1570 , - 0.7508 ,   0.3853 ],\n",
      "           [ 0.0, 0.0, 0.0, 0.0, 0.0, 0.0,   0.0000 ,   0.1927 ,   0.1927 , - 0.7508 ,   1.1570 , - 0.7916 ],\n",
      "           [ 0.0, 0.0, 0.0, 0.0, 0.0, 0.0, - 0.3754 , - 0.0000 , - 0.3754 ,   0.3853 , - 0.7916 ,   1.1570 ]] order = 2, shape = (12,12)  )\n",
      "\n",
      " \n",
      "  After performing the operations, the following is obtained;\n",
      " \n",
      "  Ke:\n",
      "sotiarray([[   0.0005 ,   0.0050 , - 0.0048 , - 0.0200 ,   0.0000 ,   0.0193 , 0.0, 0.0, 0.0, 0.0, 0.0, 0.0],\n",
      "           [   0.0050 ,   0.4475 ,   0.1442 , - 0.0200 , - 0.5767 , - 0.0000 , 0.0, 0.0, 0.0, 0.0, 0.0, 0.0],\n",
      "           [ - 0.0048 ,   0.1442 ,   0.4180 , - 0.0000 , - 0.5767 ,   0.0193 , 0.0, 0.0, 0.0, 0.0, 0.0, 0.0],\n",
      "           [ - 0.0200 , - 0.0200 , - 0.0000 ,   1.1547 ,   0.0386 , - 1.1533 , 0.0, 0.0, 0.0, 0.0, 0.0, 0.0],\n",
      "           [   0.0000 , - 0.5767 , - 0.5767 ,   0.0386 ,   1.1547 , - 0.0400 , 0.0, 0.0, 0.0, 0.0, 0.0, 0.0],\n",
      "           [   0.0193 , - 0.0000 ,   0.0193 , - 1.1533 , - 0.0400 ,   1.1547 , 0.0, 0.0, 0.0, 0.0, 0.0, 0.0],\n",
      "           [ 0.0, 0.0, 0.0, 0.0, 0.0, 0.0,   0.5784 ,   0.0989 ,   0.0939 , - 0.3958 ,   0.0000 , - 0.3754 ],\n",
      "           [ 0.0, 0.0, 0.0, 0.0, 0.0, 0.0,   0.0989 ,   0.1523 , - 0.0482 , - 0.3958 ,   0.1927 , - 0.0000 ],\n",
      "           [ 0.0, 0.0, 0.0, 0.0, 0.0, 0.0,   0.0939 , - 0.0482 ,   0.1371 , - 0.0000 ,   0.1927 , - 0.3754 ],\n",
      "           [ 0.0, 0.0, 0.0, 0.0, 0.0, 0.0, - 0.3958 , - 0.3958 , - 0.0000 ,   1.1570 , - 0.7508 ,   0.3853 ],\n",
      "           [ 0.0, 0.0, 0.0, 0.0, 0.0, 0.0,   0.0000 ,   0.1927 ,   0.1927 , - 0.7508 ,   1.1570 , - 0.7916 ],\n",
      "           [ 0.0, 0.0, 0.0, 0.0, 0.0, 0.0, - 0.3754 , - 0.0000 , - 0.3754 ,   0.3853 , - 0.7916 ,   1.1570 ]] order = 2, shape = (12,12)  )\n",
      "\n",
      " \n",
      "  fe:\n",
      "sotiarray([[ 0.0],\n",
      "           [ 0.0],\n",
      "           [ 0.0],\n",
      "           [ 0.0],\n",
      "           [ 0.0],\n",
      "           [ 0.0],\n",
      "           [ 0.0],\n",
      "           [ 0.0],\n",
      "           [ 0.0],\n",
      "           [ 0.0],\n",
      "           [ 0.0],\n",
      "           [ 0.0]] order = 2, shape = (12,1)  )\n",
      "\n"
     ]
    }
   ],
   "source": [
    "laplace2D.assembleSystem()"
   ]
  },
  {
   "cell_type": "code",
   "execution_count": null,
   "metadata": {
    "collapsed": true
   },
   "outputs": [],
   "source": []
  },
  {
   "cell_type": "code",
   "execution_count": 5,
   "metadata": {},
   "outputs": [
    {
     "data": {
      "text/plain": [
       "array([[ 50,   0,   1,   6,   0,   0,   0,   0,   0,   0],\n",
       "       [ 50,   1,   1,   6,   0,   0,   0,   1,   0,   0],\n",
       "       [ 50,   2,   6,   1,   0,   0,   0,   0,   0,   0],\n",
       "       [ 50,   3,   6,   1,   0,   0,   0,   1,   0,   0],\n",
       "       [ 54,   4,   6,   6,   0,   0,   3,   1,   0,   0],\n",
       "       [ 50,   5,   1,   6,   6,   0,   0,   0,   0,   0],\n",
       "       [ 50,   6,   1,   6,   6,   0,   0,   3,   0,   0],\n",
       "       [ 50,   7,   6,   1,   6,   0,   0,   0,   0,   0],\n",
       "       [ 50,   8,   6,   1,   6,   0,   0,   3,   0,   0],\n",
       "       [ 54,   9,   6,   6,   6,   6,   8,   6,   0,   0],\n",
       "       [ 52,  -1,   2,   4,   9,   0,   0,   0,   0,   0],\n",
       "       [ 54,  10,   6,   6,   0,   0,   2,   0,   0,   0],\n",
       "       [ 54,  11,   6,   6,   6,   6,   7,   5,   0,   0],\n",
       "       [ 52,  -1,   2,  10,  11,   0,   0,   0,   0,   0],\n",
       "       [ 51,  12,   1,   1,   0,   0,   0,   0,   0, 204],\n",
       "       [ 55,  13,   6,   1,   0,   0,   2,   0, 204,   0],\n",
       "       [ 51,  14,   1,   1,   0,   0,   0,   0,   1, 204],\n",
       "       [ 55,  15,   6,   1,   6,   0,   7,   1, 204,   0],\n",
       "       [ 52,  -1,   2,  13,  15,   0,   0,   0,   0,   0],\n",
       "       [ 50,  16,   6,   1,   0,   0,   0,   0,   0,   0],\n",
       "       [ 52, 502,   2,  16,   7,   0,   0,   0,   0,   0],\n",
       "       [ 52, 503,   2,  16,   7,   0,   0,   0,   0,   0],\n",
       "       [ 51,  17,   1,   1,   0,   0,   0,   0,   2, 204],\n",
       "       [ 56,   1,   1,   1,   0,   0,   2, 204,   0,   0],\n",
       "       [ 51,  18,   1,   1,   0,   0,   0,   0,   3, 204],\n",
       "       [ 56,   1,   1,   1,   0,   0,   3, 204,   0,   0]])"
      ]
     },
     "execution_count": 5,
     "metadata": {},
     "output_type": "execute_result"
    }
   ],
   "source": [
    "laplace2D.operMat"
   ]
  },
  {
   "cell_type": "code",
   "execution_count": null,
   "metadata": {
    "collapsed": true
   },
   "outputs": [],
   "source": []
  },
  {
   "cell_type": "code",
   "execution_count": null,
   "metadata": {
    "collapsed": true
   },
   "outputs": [],
   "source": []
  },
  {
   "cell_type": "code",
   "execution_count": null,
   "metadata": {
    "collapsed": true
   },
   "outputs": [],
   "source": []
  },
  {
   "cell_type": "code",
   "execution_count": 5,
   "metadata": {},
   "outputs": [
    {
     "data": {
      "text/plain": [
       "'0x10'"
      ]
     },
     "execution_count": 5,
     "metadata": {},
     "output_type": "execute_result"
    }
   ],
   "source": [
    "hex(16)"
   ]
  },
  {
   "cell_type": "code",
   "execution_count": null,
   "metadata": {
    "collapsed": true
   },
   "outputs": [],
   "source": []
  },
  {
   "cell_type": "code",
   "execution_count": null,
   "metadata": {
    "collapsed": true
   },
   "outputs": [],
   "source": []
  },
  {
   "cell_type": "code",
   "execution_count": null,
   "metadata": {
    "collapsed": true
   },
   "outputs": [],
   "source": []
  },
  {
   "cell_type": "code",
   "execution_count": null,
   "metadata": {
    "collapsed": true
   },
   "outputs": [],
   "source": []
  },
  {
   "cell_type": "code",
   "execution_count": null,
   "metadata": {
    "collapsed": true
   },
   "outputs": [],
   "source": []
  },
  {
   "cell_type": "code",
   "execution_count": null,
   "metadata": {
    "collapsed": true
   },
   "outputs": [],
   "source": []
  },
  {
   "cell_type": "code",
   "execution_count": null,
   "metadata": {
    "collapsed": true
   },
   "outputs": [],
   "source": []
  },
  {
   "cell_type": "code",
   "execution_count": null,
   "metadata": {
    "collapsed": true
   },
   "outputs": [],
   "source": []
  },
  {
   "cell_type": "code",
   "execution_count": null,
   "metadata": {
    "collapsed": true
   },
   "outputs": [],
   "source": []
  },
  {
   "cell_type": "code",
   "execution_count": null,
   "metadata": {
    "collapsed": true
   },
   "outputs": [],
   "source": []
  },
  {
   "cell_type": "code",
   "execution_count": null,
   "metadata": {
    "collapsed": true
   },
   "outputs": [],
   "source": []
  },
  {
   "cell_type": "code",
   "execution_count": null,
   "metadata": {
    "collapsed": true
   },
   "outputs": [],
   "source": []
  },
  {
   "cell_type": "code",
   "execution_count": 5,
   "metadata": {},
   "outputs": [
    {
     "data": {
      "text/plain": [
       "array([[ 50,   0,   1,   6,   0,   0,   0,   0,   0,   0],\n",
       "       [ 50,   1,   1,   6,   0,   0,   0,   1,   0,   0],\n",
       "       [ 50,   2,   6,   1,   0,   0,   0,   0,   0,   0],\n",
       "       [ 50,   3,   6,   1,   0,   0,   0,   1,   0,   0],\n",
       "       [ 54,   4,   6,   6,   0,   0,   3,   1,   0,   0],\n",
       "       [ 50,   5,   1,   6,   6,   0,   0,   0,   0,   0],\n",
       "       [ 50,   6,   1,   6,   6,   0,   0,   3,   0,   0],\n",
       "       [ 50,   7,   6,   1,   6,   0,   0,   0,   0,   0],\n",
       "       [ 50,   8,   6,   1,   6,   0,   0,   3,   0,   0],\n",
       "       [ 54,   9,   6,   6,   6,   6,   8,   6,   0,   0],\n",
       "       [ 52,  -1,   2,   4,   9,   0,   0,   0,   0,   0],\n",
       "       [ 54,  10,   6,   6,   0,   0,   2,   0,   0,   0],\n",
       "       [ 54,  11,   6,   6,   6,   6,   7,   5,   0,   0],\n",
       "       [ 52,  -1,   2,  10,  11,   0,   0,   0,   0,   0],\n",
       "       [ 51,  12,   1,   1,   0,   0,   0,   0,   0, 204],\n",
       "       [ 55,  13,   6,   1,   0,   0,   2,   0, 204,   0],\n",
       "       [ 51,  14,   1,   1,   0,   0,   0,   0,   1, 204],\n",
       "       [ 55,  15,   6,   1,   6,   0,   7,   1, 204,   0],\n",
       "       [ 52,  -1,   2,  13,  15,   0,   0,   0,   0,   0],\n",
       "       [ 50,  16,   6,   1,   0,   0,   0,   0,   0,   0],\n",
       "       [ 52, 502,   2,  16,   7,   0,   0,   0,   0,   0],\n",
       "       [ 52, 503,   2,  16,   7,   0,   0,   0,   0,   0],\n",
       "       [ 51,  17,   1,   1,   0,   0,   0,   0,   2, 204],\n",
       "       [ 56,   1,   1,   1,   0,   0,   2, 204,   0,   0],\n",
       "       [ 51,  18,   1,   1,   0,   0,   0,   0,   3, 204],\n",
       "       [ 56,   1,   1,   1,   0,   0,   3, 204,   0,   0]])"
      ]
     },
     "execution_count": 5,
     "metadata": {},
     "output_type": "execute_result"
    }
   ],
   "source": []
  },
  {
   "cell_type": "code",
   "execution_count": null,
   "metadata": {
    "collapsed": true
   },
   "outputs": [],
   "source": []
  },
  {
   "cell_type": "code",
   "execution_count": 6,
   "metadata": {},
   "outputs": [
    {
     "name": "stdout",
     "output_type": "stream",
     "text": [
      "19\n"
     ]
    },
    {
     "data": {
      "text/plain": [
       "[[[1, 6], [0, 0]],\n",
       " [[1, 6], [0, 0]],\n",
       " [[6, 1], [0, 0]],\n",
       " [[6, 1], [0, 0]],\n",
       " [[6, 6], [0, 0]],\n",
       " [[1, 6], [6, 0]],\n",
       " [[1, 6], [6, 0]],\n",
       " [[6, 1], [6, 0]],\n",
       " [[6, 1], [6, 0]],\n",
       " [[6, 6], [6, 6]],\n",
       " [[6, 6], [0, 0]],\n",
       " [[6, 6], [6, 6]],\n",
       " [[1, 1], [0, 0]],\n",
       " [[6, 1], [0, 0]],\n",
       " [[1, 1], [0, 0]],\n",
       " [[6, 1], [6, 0]],\n",
       " [[6, 1], [0, 0]],\n",
       " [[1, 1], [0, 0]],\n",
       " [[1, 1], [0, 0]]]"
      ]
     },
     "execution_count": 6,
     "metadata": {},
     "output_type": "execute_result"
    }
   ],
   "source": [
    "print(len(laplace2D.tmpShapesOffsets))\n",
    "laplace2D.tmpShapesOffsets"
   ]
  },
  {
   "cell_type": "code",
   "execution_count": 8,
   "metadata": {},
   "outputs": [
    {
     "data": {
      "text/plain": [
       "19"
      ]
     },
     "execution_count": 8,
     "metadata": {},
     "output_type": "execute_result"
    }
   ],
   "source": [
    "laplace2D.tmp_indx"
   ]
  },
  {
   "cell_type": "code",
   "execution_count": 1,
   "metadata": {},
   "outputs": [
    {
     "data": {
      "text/plain": [
       "[[[6, 1], [0, 0]],\n",
       " [[6, 1], [0, 0]],\n",
       " [[6, 1], [0, 0]],\n",
       " [[6, 1], [0, 0]],\n",
       " [[6, 6], [0, 0]],\n",
       " [[6, 1], [6, 0]],\n",
       " [[6, 1], [6, 0]],\n",
       " [[6, 1], [6, 0]],\n",
       " [[6, 1], [6, 0]],\n",
       " [[6, 6], [6, 6]],\n",
       " [[6, 6], [0, 0]],\n",
       " [[6, 6], [6, 6]],\n",
       " [[1, 1], [0, 0]],\n",
       " [[6, 1], [0, 0]],\n",
       " [[1, 1], [0, 0]],\n",
       " [[6, 1], [6, 0]],\n",
       " [[6, 1], [0, 0]],\n",
       " [[1, 1], [0, 0]],\n",
       " [[1, 1], [0, 0]]]"
      ]
     },
     "execution_count": 1,
     "metadata": {},
     "output_type": "execute_result"
    }
   ],
   "source": [
    "[[[6, 1], [0, 0]],\n",
    " [[6, 1], [0, 0]],\n",
    " [[6, 1], [0, 0]],\n",
    " [[6, 1], [0, 0]],\n",
    " [[6, 6], [0, 0]],\n",
    " [[6, 1], [6, 0]],\n",
    " [[6, 1], [6, 0]],\n",
    " [[6, 1], [6, 0]],\n",
    " [[6, 1], [6, 0]],\n",
    " [[6, 6], [6, 6]],\n",
    " [[6, 6], [0, 0]],\n",
    " [[6, 6], [6, 6]],\n",
    " [[1, 1], [0, 0]],\n",
    " [[6, 1], [0, 0]],\n",
    " [[1, 1], [0, 0]],\n",
    " [[6, 1], [6, 0]],\n",
    " [[6, 1], [0, 0]],\n",
    " [[1, 1], [0, 0]],\n",
    " [[1, 1], [0, 0]]]"
   ]
  },
  {
   "cell_type": "code",
   "execution_count": null,
   "metadata": {
    "collapsed": true
   },
   "outputs": [],
   "source": []
  },
  {
   "cell_type": "code",
   "execution_count": null,
   "metadata": {
    "collapsed": true
   },
   "outputs": [],
   "source": []
  },
  {
   "cell_type": "code",
   "execution_count": null,
   "metadata": {
    "collapsed": true
   },
   "outputs": [],
   "source": []
  },
  {
   "cell_type": "code",
   "execution_count": null,
   "metadata": {
    "collapsed": true
   },
   "outputs": [],
   "source": []
  },
  {
   "cell_type": "code",
   "execution_count": null,
   "metadata": {
    "collapsed": true
   },
   "outputs": [],
   "source": []
  },
  {
   "cell_type": "code",
   "execution_count": null,
   "metadata": {
    "collapsed": true
   },
   "outputs": [],
   "source": []
  },
  {
   "cell_type": "code",
   "execution_count": null,
   "metadata": {
    "collapsed": true
   },
   "outputs": [],
   "source": []
  },
  {
   "cell_type": "markdown",
   "metadata": {
    "collapsed": true
   },
   "source": [
    "# Example for problem Laplace 1D."
   ]
  },
  {
   "cell_type": "code",
   "execution_count": 6,
   "metadata": {
    "collapsed": true,
    "scrolled": false
   },
   "outputs": [],
   "source": [
    "laplace1D = oti.feproblem([ux],[vx], intV(dx(ux)*dx(vx))+   \\\n",
    "                          intV(vx)+on(1,ux,x) )"
   ]
  },
  {
   "cell_type": "code",
   "execution_count": 7,
   "metadata": {
    "scrolled": false
   },
   "outputs": [
    {
     "name": "stdout",
     "output_type": "stream",
     "text": [
      "Total of operations for K and F:  7\n",
      "Number of operations for K:  6\n",
      "expanded operation vector F:  1\n",
      "[[50  0  6  1  0  0  0  0  0  0]\n",
      " [50  1  6  1  0  0  0  1  0  0]\n",
      " [50  2  6  1  0  0  0  0  0  0]\n",
      " [50  3  6  1  0  0  0  1  0  0]\n",
      " [54  4  6  6  0  0  1  3  0  0]\n",
      " [52  1  4  0  0  0  0  0  0  0]\n",
      " [52  1  2  0  0  0  0  0  0  0]]\n",
      "\n",
      "Global DOFs :  57\n",
      "Global DOF per system DOF :  [ 0 57]\n"
     ]
    }
   ],
   "source": [
    "laplace1D.assembleSystem()"
   ]
  },
  {
   "cell_type": "code",
   "execution_count": null,
   "metadata": {
    "collapsed": true
   },
   "outputs": [],
   "source": []
  },
  {
   "cell_type": "code",
   "execution_count": null,
   "metadata": {
    "collapsed": true
   },
   "outputs": [],
   "source": []
  },
  {
   "cell_type": "code",
   "execution_count": null,
   "metadata": {
    "collapsed": true
   },
   "outputs": [],
   "source": []
  },
  {
   "cell_type": "code",
   "execution_count": null,
   "metadata": {
    "collapsed": true
   },
   "outputs": [],
   "source": []
  },
  {
   "cell_type": "code",
   "execution_count": 8,
   "metadata": {},
   "outputs": [
    {
     "data": {
      "text/plain": [
       "1"
      ]
     },
     "execution_count": 8,
     "metadata": {},
     "output_type": "execute_result"
    }
   ],
   "source": [
    "15//8"
   ]
  },
  {
   "cell_type": "code",
   "execution_count": null,
   "metadata": {
    "collapsed": true
   },
   "outputs": [],
   "source": []
  },
  {
   "cell_type": "code",
   "execution_count": null,
   "metadata": {
    "collapsed": true
   },
   "outputs": [],
   "source": []
  },
  {
   "cell_type": "code",
   "execution_count": null,
   "metadata": {
    "collapsed": true
   },
   "outputs": [],
   "source": []
  },
  {
   "cell_type": "code",
   "execution_count": null,
   "metadata": {
    "collapsed": true
   },
   "outputs": [],
   "source": []
  },
  {
   "cell_type": "code",
   "execution_count": null,
   "metadata": {
    "collapsed": true
   },
   "outputs": [],
   "source": []
  },
  {
   "cell_type": "code",
   "execution_count": null,
   "metadata": {
    "collapsed": true
   },
   "outputs": [],
   "source": []
  },
  {
   "cell_type": "code",
   "execution_count": null,
   "metadata": {
    "collapsed": true
   },
   "outputs": [],
   "source": []
  },
  {
   "cell_type": "code",
   "execution_count": null,
   "metadata": {
    "collapsed": true
   },
   "outputs": [],
   "source": []
  },
  {
   "cell_type": "code",
   "execution_count": null,
   "metadata": {
    "collapsed": true
   },
   "outputs": [],
   "source": []
  },
  {
   "cell_type": "code",
   "execution_count": null,
   "metadata": {
    "collapsed": true
   },
   "outputs": [],
   "source": []
  },
  {
   "cell_type": "code",
   "execution_count": null,
   "metadata": {
    "collapsed": true
   },
   "outputs": [],
   "source": []
  },
  {
   "cell_type": "code",
   "execution_count": null,
   "metadata": {
    "collapsed": true
   },
   "outputs": [],
   "source": []
  },
  {
   "cell_type": "markdown",
   "metadata": {},
   "source": [
    "# Test Gauss points Integration"
   ]
  },
  {
   "cell_type": "code",
   "execution_count": 87,
   "metadata": {
    "collapsed": true
   },
   "outputs": [],
   "source": [
    "def integrateGauss(f,weights):\n",
    "    res = 0.0\n",
    "    for i in range(f.shape[0]):\n",
    "        res += weights[i]*f[i]\n",
    "    return res\n",
    "\n",
    "def f(x,y,z):\n",
    "    return x**2 + 3*y**3 + x**2*y**2 - 4*x*y*z"
   ]
  },
  {
   "cell_type": "code",
   "execution_count": 106,
   "metadata": {
    "collapsed": true
   },
   "outputs": [],
   "source": [
    "elLine        =  401\n",
    "elTriangle    =  402\n",
    "elQuadrangle  =  403\n",
    "elTetrahedra  =  404\n",
    "elHexahedra   =  405\n",
    "\n",
    "order = 10 # Order of polynomial ~\n",
    "points, weights = oti.fem_integrationPointsWeights(order, elTriangle)\n",
    "\n",
    "# For triangles, the final result must be divided by two!"
   ]
  },
  {
   "cell_type": "code",
   "execution_count": 118,
   "metadata": {},
   "outputs": [
    {
     "name": "stdout",
     "output_type": "stream",
     "text": [
      "[[ 0.33333333  0.33333333]\n",
      " [ 0.48557763  0.48557763]\n",
      " [ 0.02884473  0.48557763]\n",
      " [ 0.48557763  0.02884473]\n",
      " [ 0.10948158  0.10948158]\n",
      " [ 0.78103685  0.10948158]\n",
      " [ 0.10948158  0.78103685]\n",
      " [ 0.30793984  0.55035294]\n",
      " [ 0.55035294  0.30793984]\n",
      " [ 0.14170722  0.55035294]\n",
      " [ 0.55035294  0.14170722]\n",
      " [ 0.14170722  0.30793984]\n",
      " [ 0.30793984  0.14170722]\n",
      " [ 0.24667256  0.7283239 ]\n",
      " [ 0.7283239   0.24667256]\n",
      " [ 0.02500353  0.7283239 ]\n",
      " [ 0.7283239   0.02500353]\n",
      " [ 0.02500353  0.24667256]\n",
      " [ 0.24667256  0.02500353]\n",
      " [ 0.06680325  0.92365593]\n",
      " [ 0.92365593  0.06680325]\n",
      " [ 0.00954082  0.92365593]\n",
      " [ 0.92365593  0.00954082]\n",
      " [ 0.00954082  0.06680325]\n",
      " [ 0.06680325  0.00954082]]\n",
      "\n",
      "[[ 0.09081799]\n",
      " [ 0.03672596]\n",
      " [ 0.03672596]\n",
      " [ 0.03672596]\n",
      " [ 0.04532106]\n",
      " [ 0.04532106]\n",
      " [ 0.04532106]\n",
      " [ 0.07275792]\n",
      " [ 0.07275792]\n",
      " [ 0.07275792]\n",
      " [ 0.07275792]\n",
      " [ 0.07275792]\n",
      " [ 0.07275792]\n",
      " [ 0.02832724]\n",
      " [ 0.02832724]\n",
      " [ 0.02832724]\n",
      " [ 0.02832724]\n",
      " [ 0.02832724]\n",
      " [ 0.02832724]\n",
      " [ 0.00942167]\n",
      " [ 0.00942167]\n",
      " [ 0.00942167]\n",
      " [ 0.00942167]\n",
      " [ 0.00942167]\n",
      " [ 0.00942167]]\n"
     ]
    }
   ],
   "source": [
    "print( points )\n",
    "print()\n",
    "print( weights )\n"
   ]
  },
  {
   "cell_type": "code",
   "execution_count": 109,
   "metadata": {},
   "outputs": [
    {
     "data": {
      "text/plain": [
       "array([ 0.47777778])"
      ]
     },
     "execution_count": 109,
     "metadata": {},
     "output_type": "execute_result"
    }
   ],
   "source": [
    "x = points[:,0]\n",
    "y = points[:,1]\n",
    "z = 0\n",
    "integrateGauss(f(x,y,z),weights)"
   ]
  },
  {
   "cell_type": "code",
   "execution_count": 105,
   "metadata": {
    "collapsed": true
   },
   "outputs": [],
   "source": [
    "import sympy as sym\n",
    "\n",
    "xs,ys = sym.symbols(\"x,y\")"
   ]
  },
  {
   "cell_type": "code",
   "execution_count": 88,
   "metadata": {
    "collapsed": true
   },
   "outputs": [],
   "source": [
    "f_s = xs**2 + 3*ys**3 + xs**2*ys**2"
   ]
  },
  {
   "cell_type": "code",
   "execution_count": 110,
   "metadata": {},
   "outputs": [
    {
     "data": {
      "text/plain": [
       "43/180"
      ]
     },
     "execution_count": 110,
     "metadata": {},
     "output_type": "execute_result"
    }
   ],
   "source": [
    "sym.integrate(sym.integrate(f_s,(ys,0,1-xs)),(xs,0,1))#.evalf()"
   ]
  },
  {
   "cell_type": "code",
   "execution_count": 7,
   "metadata": {
    "collapsed": true
   },
   "outputs": [],
   "source": [
    "a = [1,2,3]"
   ]
  },
  {
   "cell_type": "code",
   "execution_count": 8,
   "metadata": {
    "collapsed": true
   },
   "outputs": [],
   "source": [
    "b = a.copy()"
   ]
  },
  {
   "cell_type": "code",
   "execution_count": 12,
   "metadata": {},
   "outputs": [
    {
     "data": {
      "text/plain": [
       "[]"
      ]
     },
     "execution_count": 12,
     "metadata": {},
     "output_type": "execute_result"
    }
   ],
   "source": [
    "\n",
    "list(set([]+[]))"
   ]
  },
  {
   "cell_type": "code",
   "execution_count": 18,
   "metadata": {},
   "outputs": [
    {
     "data": {
      "text/plain": [
       "[1, 2, 3]"
      ]
     },
     "execution_count": 18,
     "metadata": {},
     "output_type": "execute_result"
    }
   ],
   "source": [
    "a"
   ]
  },
  {
   "cell_type": "code",
   "execution_count": 19,
   "metadata": {},
   "outputs": [
    {
     "data": {
      "text/plain": [
       "[10, 2, 3]"
      ]
     },
     "execution_count": 19,
     "metadata": {},
     "output_type": "execute_result"
    }
   ],
   "source": [
    "b"
   ]
  },
  {
   "cell_type": "code",
   "execution_count": null,
   "metadata": {
    "collapsed": true
   },
   "outputs": [],
   "source": []
  }
 ],
 "metadata": {
  "kernelspec": {
   "display_name": "Python 3",
   "language": "python",
   "name": "python3"
  },
  "language_info": {
   "codemirror_mode": {
    "name": "ipython",
    "version": 3
   },
   "file_extension": ".py",
   "mimetype": "text/x-python",
   "name": "python",
   "nbconvert_exporter": "python",
   "pygments_lexer": "ipython3",
   "version": "3.6.0"
  }
 },
 "nbformat": 4,
 "nbformat_minor": 2
}
