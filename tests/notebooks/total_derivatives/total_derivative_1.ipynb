{
 "cells": [
  {
   "cell_type": "markdown",
   "id": "73b9a851",
   "metadata": {},
   "source": [
    "# Using OTIs within OTIs A.K.A. 'OTI-Inception'\n",
    "# Application: Total derivatives with OTI numbers.\n",
    "```\n",
    "Author: Mauricio Aristizabal, PhD\n",
    "Date: 06/20/2023\n",
    "```\n",
    "\n",
    "The goal of this document is to show different approaches to obtain total derivatives with OTI numbers, in different applications. One of the approaches being evaluating an OTI with another OTI number.\n",
    "\n",
    "For this, first import the library:"
   ]
  },
  {
   "cell_type": "code",
   "execution_count": 1,
   "id": "b9ea45dd",
   "metadata": {},
   "outputs": [],
   "source": [
    "import pyoti.sparse as oti\n",
    "import numpy as np\n",
    "oti.set_printoptions(terms_print=-1)"
   ]
  },
  {
   "cell_type": "markdown",
   "id": "3094ce3d",
   "metadata": {},
   "source": [
    "# 1. Example 1\n",
    "\n",
    "Consider the function \n",
    "\n",
    "$$\n",
    "f(x,y) = x \\sin(y)\n",
    "$$\n",
    "\n",
    "## 1.1 Partial derivatives\n",
    "The partial derivatives of this function with respect to x and y are as follows:\n",
    "\n",
    "\n",
    "$$\n",
    "\\begin{array}{rcl}\n",
    "\\partial f/\\partial x &= &\\sin(y) \\\\\n",
    "\\partial f/\\partial y &= &x\\cos(y) \\\\\n",
    "\\end{array}\n",
    "$$\n",
    "and its second order partial derivatives are as follows:\n",
    "\n",
    "$$\n",
    "\\begin{array}{rcl}\n",
    "\\partial^2 f/\\partial x^2  &= &0 \\\\\n",
    "\\partial^2 f/\\partial x\\partial y &= &\\cos(y) \\\\\n",
    "\\partial^2 f/\\partial y^2 &= &-x\\sin(y) \\\\\n",
    "\\end{array}\n",
    "$$\n",
    "\n",
    "In order to compute these with OTIs, we simply define apply independent imaginary perturbations to each variable. Lets consider $x=1.5$ and $y=2.25$"
   ]
  },
  {
   "cell_type": "code",
   "execution_count": 2,
   "id": "b81b1753",
   "metadata": {},
   "outputs": [],
   "source": [
    "def func(x,y):\n",
    "    return x * oti.sin(y)\n"
   ]
  },
  {
   "cell_type": "code",
   "execution_count": 3,
   "id": "7e3239c5",
   "metadata": {},
   "outputs": [],
   "source": [
    "x = 1.5+oti.e(1,order=2)\n",
    "y = 2.25+oti.e(2,order=2)"
   ]
  },
  {
   "cell_type": "code",
   "execution_count": 4,
   "id": "8989f2ae",
   "metadata": {},
   "outputs": [
    {
     "data": {
      "text/plain": [
       "1.16711 + 0.778073 * e([1]) - 0.94226 * e([2]) - 0.628174 * e([1,2]) - 0.583555 * e([[2,2]])"
      ]
     },
     "execution_count": 4,
     "metadata": {},
     "output_type": "execute_result"
    }
   ],
   "source": [
    "f1 = func(x,y)\n",
    "f1"
   ]
  },
  {
   "cell_type": "markdown",
   "id": "81df38a0",
   "metadata": {},
   "source": [
    "Lets compare the results with the analytical solution values"
   ]
  },
  {
   "cell_type": "code",
   "execution_count": 5,
   "id": "caa7f6bc",
   "metadata": {},
   "outputs": [
    {
     "data": {
      "text/plain": [
       "(0.7780731968879212, 0.7780731968879213)"
      ]
     },
     "execution_count": 5,
     "metadata": {},
     "output_type": "execute_result"
    }
   ],
   "source": [
    "f1.get_deriv(1), np.sin(y.real)"
   ]
  },
  {
   "cell_type": "code",
   "execution_count": 6,
   "id": "ba9f7cc0",
   "metadata": {},
   "outputs": [
    {
     "data": {
      "text/plain": [
       "(-0.9422604340841088, -0.9422604340841085)"
      ]
     },
     "execution_count": 6,
     "metadata": {},
     "output_type": "execute_result"
    }
   ],
   "source": [
    "f1.get_deriv(2), x.real * np.cos(y.real)"
   ]
  },
  {
   "cell_type": "code",
   "execution_count": 7,
   "id": "45c24367",
   "metadata": {},
   "outputs": [
    {
     "data": {
      "text/plain": [
       "(0.0, 0)"
      ]
     },
     "execution_count": 7,
     "metadata": {},
     "output_type": "execute_result"
    }
   ],
   "source": [
    "f1.get_deriv([1,1]), 0"
   ]
  },
  {
   "cell_type": "code",
   "execution_count": 8,
   "id": "1b527361",
   "metadata": {},
   "outputs": [
    {
     "data": {
      "text/plain": [
       "(-0.6281736227227391, -0.628173622722739)"
      ]
     },
     "execution_count": 8,
     "metadata": {},
     "output_type": "execute_result"
    }
   ],
   "source": [
    "f1.get_deriv([1,2]), np.cos(y.real)"
   ]
  },
  {
   "cell_type": "code",
   "execution_count": 9,
   "id": "862d9f33",
   "metadata": {},
   "outputs": [
    {
     "data": {
      "text/plain": [
       "(-1.1671097953318819, -1.167109795331882)"
      ]
     },
     "execution_count": 9,
     "metadata": {},
     "output_type": "execute_result"
    }
   ],
   "source": [
    "f1.get_deriv([2,2]), -x.real*np.sin(y.real)"
   ]
  },
  {
   "cell_type": "markdown",
   "id": "bdee818f",
   "metadata": {},
   "source": [
    "## 1.2 Total derivatives\n",
    "Now consider the case $y$ is a function of x, say $y(x)=x^2$. The total derivative of $f$ with respect to $x$ is defined as:\n",
    "\n",
    "$$\n",
    "\\frac{Df}{Dx} = \\frac{\\partial f}{\\partial x} +  \\frac{\\partial f}{\\partial y}\\frac{\\partial y}{\\partial x}\n",
    "$$\n",
    "for the particular ase of $f(x,y)=x\\sin(y)$ \n",
    "$$\n",
    "\\frac{Df}{Dx}=\\sin(y)+2x^2\\cos(y) \n",
    "$$\n",
    "\n",
    "\n",
    "\n",
    "The second order partial derivative is as follows\n",
    "$$\n",
    "\\frac{D^2f}{Dx^2} = \\frac{\\partial^2 f}{\\partial x^2} +\n",
    "2\\frac{\\partial^2 f}{\\partial x\\partial y}\\frac{\\partial y}{\\partial x}+\n",
    "\\frac{\\partial^2 f}{\\partial y^2}\\left(\\frac{\\partial y}{\\partial x}\\right)^2+\n",
    "\\frac{\\partial f}{\\partial y}\\frac{\\partial^2 y}{\\partial x^2}\n",
    "$$\n",
    "and for the function\n",
    "$$\n",
    "\\frac{D^2f}{Dx^2} = 6x\\cos(y)-4x^3\\sin(y)\n",
    "$$\n",
    "\n",
    "There are multiple ways to find this total derivatives with OTIs. \n",
    "\n",
    "**The most straight forward way** is if the function $y(x)$ is explicitly known prior to the computation of $f(x,y)$, then we can evaluate y at the OTI-perturbed value of x, i.e. $y(x+\\epsilon_1)$."
   ]
  },
  {
   "cell_type": "code",
   "execution_count": 10,
   "id": "952a86ab",
   "metadata": {},
   "outputs": [
    {
     "data": {
      "text/plain": [
       "2.25 + 3 * e([1]) + 1 * e([[1,2]])"
      ]
     },
     "execution_count": 10,
     "metadata": {},
     "output_type": "execute_result"
    }
   ],
   "source": [
    "y2 = x**2\n",
    "y2"
   ]
  },
  {
   "cell_type": "markdown",
   "id": "386879e5",
   "metadata": {},
   "source": [
    "After this, we can use the new perturbed value of $y$ to compute the total derivative of $f$ with respect to $x$."
   ]
  },
  {
   "cell_type": "code",
   "execution_count": 11,
   "id": "b1706262",
   "metadata": {},
   "outputs": [
    {
     "data": {
      "text/plain": [
       "1.16711 - 2.04871 * e([1]) - 8.07878 * e([[1,2]])"
      ]
     },
     "execution_count": 11,
     "metadata": {},
     "output_type": "execute_result"
    }
   ],
   "source": [
    "f2 = func(x,y2)\n",
    "f2"
   ]
  },
  {
   "cell_type": "markdown",
   "id": "cde9366c",
   "metadata": {},
   "source": [
    "Comparing this with the analytical values, we obtain:"
   ]
  },
  {
   "cell_type": "code",
   "execution_count": 12,
   "id": "ed5d32ed",
   "metadata": {},
   "outputs": [
    {
     "data": {
      "text/plain": [
       "(-2.048708105364405, -2.0487081053644047)"
      ]
     },
     "execution_count": 12,
     "metadata": {},
     "output_type": "execute_result"
    }
   ],
   "source": [
    "f2.get_deriv(1),np.sin(y.real)+2*x.real**2*np.cos(y.real)"
   ]
  },
  {
   "cell_type": "code",
   "execution_count": 13,
   "id": "ebeb0b6b",
   "metadata": {},
   "outputs": [
    {
     "data": {
      "text/plain": [
       "(-16.15755076249159, -16.15755076249159)"
      ]
     },
     "execution_count": 13,
     "metadata": {},
     "output_type": "execute_result"
    }
   ],
   "source": [
    "f2.get_deriv([1,1]),6*x.real*np.cos(y.real)-4*x.real**3*np.sin(y.real)"
   ]
  },
  {
   "cell_type": "markdown",
   "id": "b203f268",
   "metadata": {},
   "source": [
    "**An alternative way** to compute the total derivative is to reuse the partial derivatives computed in the first run in a Taylor series, and evaluate such taylor series in the now known function $y(x)$. \n",
    "\n",
    "That is, evaluate the surrogate of the function at the values of the now known derivatives of $y$ with respect to x. For this we need:\n",
    "1. The new OTI-form of y with respect to x (this is in ```y2```).\n",
    "$$\n",
    "y(x+\\epsilon_1) = y+\\frac{dy}{dx}\\epsilon_1 + \\frac{1}{2}\\frac{dy}{dx}\\epsilon_1^2\n",
    "$$\n",
    "2. The expansion of partial derivatives of f (see section 1.1)\n",
    "\n",
    "We use the ```.rom_eval_object(imDirList, varDeltaList)``` in order to evaluate the Taylor series along the correspondign values. From the first OTI result in ```f1```, we know that $\\epsilon_1$ is associated to $x$ and $\\epsilon_2$ associated to $y$. \n",
    "\n",
    "We dont want to change anything with respect to $x$ at this point, so we neet to \"replace\" $\\epsilon_1$ by $\\epsilon_1$ with the same truncation conditions. What we want is to transform the terms of $y$ by the new known relation, thus we want to transform the $\\epsilon_2$ (derivatives with respect to $y$) by the new derivatives known from $y(x+\\epsilon_1)$, that is \n",
    "\n",
    "$$\\Delta y = y(x+\\epsilon_1) - y = \\frac{dy}{dx}\\epsilon_1 + \\frac{1}{2}\\frac{dy}{dx}\\epsilon_1^2 $$\n",
    "\n",
    "So now we evaluate the first function result using the following command\n",
    "\n",
    "```f1.rom_eval_object([ 1, 2],[oti.e(1,order=2),y2-y.real])```"
   ]
  },
  {
   "cell_type": "code",
   "execution_count": 14,
   "id": "16d74730",
   "metadata": {},
   "outputs": [
    {
     "data": {
      "text/plain": [
       "1.16711 - 2.04871 * e([1]) - 8.07878 * e([[1,2]])"
      ]
     },
     "execution_count": 14,
     "metadata": {},
     "output_type": "execute_result"
    }
   ],
   "source": [
    "f3 = f1.rom_eval_object([ 1, 2],[oti.e(1,order=2),y2-y.real])\n",
    "f3"
   ]
  },
  {
   "cell_type": "code",
   "execution_count": 15,
   "id": "dd1f6b6a",
   "metadata": {},
   "outputs": [
    {
     "data": {
      "text/plain": [
       "(-2.048708105364405, -2.0487081053644047)"
      ]
     },
     "execution_count": 15,
     "metadata": {},
     "output_type": "execute_result"
    }
   ],
   "source": [
    "f3.get_deriv(1),np.sin(y.real)+2*x.real**2*np.cos(y.real)"
   ]
  },
  {
   "cell_type": "code",
   "execution_count": 16,
   "id": "df8a2a2a",
   "metadata": {},
   "outputs": [
    {
     "data": {
      "text/plain": [
       "(-16.15755076249159, -16.15755076249159)"
      ]
     },
     "execution_count": 16,
     "metadata": {},
     "output_type": "execute_result"
    }
   ],
   "source": [
    "f3.get_deriv([1,1]),6*x.real*np.cos(y.real)-4*x.real**3*np.sin(y.real)"
   ]
  },
  {
   "cell_type": "code",
   "execution_count": null,
   "id": "3da119e9",
   "metadata": {},
   "outputs": [],
   "source": []
  }
 ],
 "metadata": {
  "kernelspec": {
   "display_name": "pyoti",
   "language": "python",
   "name": "pyoti"
  },
  "language_info": {
   "codemirror_mode": {
    "name": "ipython",
    "version": 3
   },
   "file_extension": ".py",
   "mimetype": "text/x-python",
   "name": "python",
   "nbconvert_exporter": "python",
   "pygments_lexer": "ipython3",
   "version": "3.9.13"
  }
 },
 "nbformat": 4,
 "nbformat_minor": 5
}
