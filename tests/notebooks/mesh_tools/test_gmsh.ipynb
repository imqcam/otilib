{
 "cells": [
  {
   "cell_type": "code",
   "execution_count": 1,
   "metadata": {},
   "outputs": [],
   "source": [
    "\n",
    "\n",
    "import gmsh\n",
    "\n",
    "# Allways initialize gmsh if not so."
   ]
  },
  {
   "cell_type": "code",
   "execution_count": 2,
   "metadata": {},
   "outputs": [],
   "source": [
    "# gmsh.finalize()\n",
    "gmsh.initialize()\n",
    "# gmsh.fltk.initialize()\n",
    "\n",
    "# Lets create a simple square element:\n",
    "model = gmsh.model\n",
    "geo   = model.geo\n",
    "option= gmsh.option\n",
    "\n",
    "\n",
    "\n",
    "hight = 1\n",
    "width = 1\n",
    "he    = 1.0/30\n",
    "\n",
    "P1 = geo.addPoint(     -width/2.0,    hight/2.0, 0, he, 1)\n",
    "P2 = geo.addPoint(     -width/2.0,   -hight/2.0, 0, he, 2)\n",
    "P3 = geo.addPoint(width-width/2.0,    hight/2.0, 0, he, 3)\n",
    "P4 = geo.addPoint(width-width/2.0,   -hight/2.0, 0, he, 4)\n",
    "\n",
    "L1 = geo.addLine(P1,P2) # Left\n",
    "L2 = geo.addLine(P2,P4) # bottom\n",
    "L3 = geo.addLine(P4,P3) # right\n",
    "L4 = geo.addLine(P3,P1) # up\n",
    "\n",
    "loop1 = geo.addCurveLoop([L1,L2,L3,L4])\n",
    "\n",
    "surface = geo.addPlaneSurface([loop1],tag = 150)\n",
    "\n",
    "model.addPhysicalGroup(0, [P2], 200 )\n",
    "model.addPhysicalGroup(1, [L1], 201 )\n",
    "model.addPhysicalGroup(1, [L2], 202 )\n",
    "model.addPhysicalGroup(1, [L3], 203 )\n",
    "model.addPhysicalGroup(1, [L4], 204 )\n",
    "model.addPhysicalGroup(2, [surface], 301 )\n",
    "\n",
    "model.setPhysicalName(0,200,\"Pressure\")\n",
    "model.setPhysicalName(0,201,\"left\")\n",
    "model.setPhysicalName(0,202,\"bottom\")\n",
    "model.setPhysicalName(0,203,\"right\")\n",
    "model.setPhysicalName(0,204,\"up\")\n",
    "model.setPhysicalName(0,301,\"fluid\")\n",
    "\n",
    "\n",
    "geo.synchronize()\n",
    "\n",
    "# model.mesh.setRecombine(2)\n",
    "option.setNumber('Mesh.ElementOrder',2)\n",
    "\n",
    "\n",
    "model.mesh.generate(2)\n",
    "\n",
    "\n",
    "# gmsh.fltk.run()\n",
    "\n",
    "# gmsh.fltk.finalize()\n",
    "\n",
    "# gmsh.finalize()"
   ]
  },
  {
   "cell_type": "code",
   "execution_count": 3,
   "metadata": {},
   "outputs": [],
   "source": [
    "model = gmsh.model\n",
    "mesh = gmsh.model.mesh"
   ]
  },
  {
   "cell_type": "code",
   "execution_count": 4,
   "metadata": {},
   "outputs": [
    {
     "data": {
      "text/plain": [
       "[(0, 200), (1, 201), (1, 202), (1, 203), (1, 204), (2, 301)]"
      ]
     },
     "execution_count": 4,
     "metadata": {},
     "output_type": "execute_result"
    }
   ],
   "source": [
    "pg = model.getPhysicalGroups()\n",
    "pg"
   ]
  },
  {
   "cell_type": "code",
   "execution_count": 5,
   "metadata": {},
   "outputs": [
    {
     "data": {
      "text/plain": [
       "[array([2], dtype=int32),\n",
       " array([1], dtype=int32),\n",
       " array([2], dtype=int32),\n",
       " array([3], dtype=int32),\n",
       " array([4], dtype=int32),\n",
       " array([150], dtype=int32)]"
      ]
     },
     "execution_count": 5,
     "metadata": {},
     "output_type": "execute_result"
    }
   ],
   "source": [
    "i = 1\n",
    "entities = []\n",
    "\n",
    "for pgp in pg:\n",
    "    entities.append(model.getEntitiesForPhysicalGroup(*pgp))\n",
    "entities"
   ]
  },
  {
   "cell_type": "code",
   "execution_count": 6,
   "metadata": {},
   "outputs": [
    {
     "data": {
      "text/plain": [
       "[array([2], dtype=int32),\n",
       " array([1], dtype=int32),\n",
       " array([2], dtype=int32),\n",
       " array([3], dtype=int32),\n",
       " array([4], dtype=int32),\n",
       " array([1], dtype=int32)]"
      ]
     },
     "execution_count": 6,
     "metadata": {},
     "output_type": "execute_result"
    }
   ],
   "source": [
    "entities"
   ]
  },
  {
   "cell_type": "code",
   "execution_count": 8,
   "metadata": {},
   "outputs": [
    {
     "name": "stdout",
     "output_type": "stream",
     "text": [
      "[15] [array([1], dtype=uint64)] [array([2], dtype=uint64)]\n",
      "[8] [array([ 2,  3,  4,  5,  6,  7,  8,  9, 10, 11, 12, 13, 14, 15, 16, 17, 18,\n",
      "       19, 20, 21, 22, 23, 24, 25, 26, 27, 28, 29, 30, 31], dtype=uint64)] [array([ 1,  5, 34,  5,  6, 35,  6,  7, 36,  7,  8, 37,  8,  9, 38,  9, 10,\n",
      "       39, 10, 11, 40, 11, 12, 41, 12, 13, 42, 13, 14, 43, 14, 15, 44, 15,\n",
      "       16, 45, 16, 17, 46, 17, 18, 47, 18, 19, 48, 19, 20, 49, 20, 21, 50,\n",
      "       21, 22, 51, 22, 23, 52, 23, 24, 53, 24, 25, 54, 25, 26, 55, 26, 27,\n",
      "       56, 27, 28, 57, 28, 29, 58, 29, 30, 59, 30, 31, 60, 31, 32, 61, 32,\n",
      "       33, 62, 33,  2, 63], dtype=uint64)]\n",
      "[8] [array([32, 33, 34, 35, 36, 37, 38, 39, 40, 41, 42, 43, 44, 45, 46, 47, 48,\n",
      "       49, 50, 51, 52, 53, 54, 55, 56, 57, 58, 59, 60, 61], dtype=uint64)] [array([  2,  64,  93,  64,  65,  94,  65,  66,  95,  66,  67,  96,  67,\n",
      "        68,  97,  68,  69,  98,  69,  70,  99,  70,  71, 100,  71,  72,\n",
      "       101,  72,  73, 102,  73,  74, 103,  74,  75, 104,  75,  76, 105,\n",
      "        76,  77, 106,  77,  78, 107,  78,  79, 108,  79,  80, 109,  80,\n",
      "        81, 110,  81,  82, 111,  82,  83, 112,  83,  84, 113,  84,  85,\n",
      "       114,  85,  86, 115,  86,  87, 116,  87,  88, 117,  88,  89, 118,\n",
      "        89,  90, 119,  90,  91, 120,  91,  92, 121,  92,   4, 122],\n",
      "      dtype=uint64)]\n",
      "[8] [array([62, 63, 64, 65, 66, 67, 68, 69, 70, 71, 72, 73, 74, 75, 76, 77, 78,\n",
      "       79, 80, 81, 82, 83, 84, 85, 86, 87, 88, 89, 90, 91], dtype=uint64)] [array([  4, 123, 152, 123, 124, 153, 124, 125, 154, 125, 126, 155, 126,\n",
      "       127, 156, 127, 128, 157, 128, 129, 158, 129, 130, 159, 130, 131,\n",
      "       160, 131, 132, 161, 132, 133, 162, 133, 134, 163, 134, 135, 164,\n",
      "       135, 136, 165, 136, 137, 166, 137, 138, 167, 138, 139, 168, 139,\n",
      "       140, 169, 140, 141, 170, 141, 142, 171, 142, 143, 172, 143, 144,\n",
      "       173, 144, 145, 174, 145, 146, 175, 146, 147, 176, 147, 148, 177,\n",
      "       148, 149, 178, 149, 150, 179, 150, 151, 180, 151,   3, 181],\n",
      "      dtype=uint64)]\n",
      "[8] [array([ 92,  93,  94,  95,  96,  97,  98,  99, 100, 101, 102, 103, 104,\n",
      "       105, 106, 107, 108, 109, 110, 111, 112, 113, 114, 115, 116, 117,\n",
      "       118, 119, 120, 121], dtype=uint64)] [array([  3, 182, 211, 182, 183, 212, 183, 184, 213, 184, 185, 214, 185,\n",
      "       186, 215, 186, 187, 216, 187, 188, 217, 188, 189, 218, 189, 190,\n",
      "       219, 190, 191, 220, 191, 192, 221, 192, 193, 222, 193, 194, 223,\n",
      "       194, 195, 224, 195, 196, 225, 196, 197, 226, 197, 198, 227, 198,\n",
      "       199, 228, 199, 200, 229, 200, 201, 230, 201, 202, 231, 202, 203,\n",
      "       232, 203, 204, 233, 204, 205, 234, 205, 206, 235, 206, 207, 236,\n",
      "       207, 208, 237, 208, 209, 238, 209, 210, 239, 210,   1, 240],\n",
      "      dtype=uint64)]\n",
      "[9] [array([ 122,  123,  124, ..., 2441, 2442, 2443], dtype=uint64)] [array([ 580,  333,  615, ..., 3708, 4756, 4745], dtype=uint64)]\n"
     ]
    }
   ],
   "source": [
    "\n",
    "for i in range(len(entities)):\n",
    "    elementTypes, elementTags, nodeTags = mesh.getElements(dim=pg[i][0],tag=entities[i])\n",
    "    print(elementTypes, elementTags, nodeTags)"
   ]
  },
  {
   "cell_type": "code",
   "execution_count": 7,
   "metadata": {},
   "outputs": [
    {
     "ename": "NameError",
     "evalue": "name 'elementTypes' is not defined",
     "output_type": "error",
     "traceback": [
      "\u001b[0;31m---------------------------------------------------------------------------\u001b[0m",
      "\u001b[0;31mNameError\u001b[0m                                 Traceback (most recent call last)",
      "\u001b[0;32m<ipython-input-7-b6b3267f7529>\u001b[0m in \u001b[0;36m<module>\u001b[0;34m\u001b[0m\n\u001b[0;32m----> 1\u001b[0;31m \u001b[0melementTypes\u001b[0m\u001b[0;34m\u001b[0m\u001b[0;34m\u001b[0m\u001b[0m\n\u001b[0m",
      "\u001b[0;31mNameError\u001b[0m: name 'elementTypes' is not defined"
     ]
    }
   ],
   "source": [
    "elementTypes"
   ]
  },
  {
   "cell_type": "code",
   "execution_count": 13,
   "metadata": {},
   "outputs": [
    {
     "data": {
      "text/plain": [
       "[array([  2,   3,   4,   5,   6,   7,   8,   9,  10,  11,  12,  13,  14,\n",
       "         15,  16,  17,  18,  19,  20,  21,  22,  23,  24,  25,  26,  27,\n",
       "         28,  29,  30,  31,  32,  33,  34,  35,  36,  37,  38,  39,  40,\n",
       "         41,  42,  43,  44,  45,  46,  47,  48,  49,  50,  51,  52,  53,\n",
       "         54,  55,  56,  57,  58,  59,  60,  61,  62,  63,  64,  65,  66,\n",
       "         67,  68,  69,  70,  71,  72,  73,  74,  75,  76,  77,  78,  79,\n",
       "         80,  81,  82,  83,  84,  85,  86,  87,  88,  89,  90,  91,  92,\n",
       "         93,  94,  95,  96,  97,  98,  99, 100, 101, 102, 103, 104, 105,\n",
       "        106, 107, 108, 109, 110, 111, 112, 113, 114, 115, 116, 117, 118,\n",
       "        119, 120, 121], dtype=uint64)]"
      ]
     },
     "execution_count": 13,
     "metadata": {},
     "output_type": "execute_result"
    }
   ],
   "source": [
    "elementTags"
   ]
  },
  {
   "cell_type": "code",
   "execution_count": 8,
   "metadata": {},
   "outputs": [
    {
     "data": {
      "text/plain": [
       "3"
      ]
     },
     "execution_count": 8,
     "metadata": {},
     "output_type": "execute_result"
    }
   ],
   "source": [
    "len(elementTags)\n"
   ]
  },
  {
   "cell_type": "code",
   "execution_count": 10,
   "metadata": {},
   "outputs": [
    {
     "data": {
      "text/plain": [
       "120"
      ]
     },
     "execution_count": 10,
     "metadata": {},
     "output_type": "execute_result"
    }
   ],
   "source": [
    "elementTags[0].size"
   ]
  },
  {
   "cell_type": "code",
   "execution_count": null,
   "metadata": {},
   "outputs": [],
   "source": []
  },
  {
   "cell_type": "code",
   "execution_count": null,
   "metadata": {},
   "outputs": [],
   "source": []
  },
  {
   "cell_type": "code",
   "execution_count": null,
   "metadata": {},
   "outputs": [],
   "source": []
  },
  {
   "cell_type": "code",
   "execution_count": 11,
   "metadata": {},
   "outputs": [
    {
     "data": {
      "text/plain": [
       "360"
      ]
     },
     "execution_count": 11,
     "metadata": {},
     "output_type": "execute_result"
    }
   ],
   "source": [
    "nodeTags[0].size\n"
   ]
  },
  {
   "cell_type": "code",
   "execution_count": 30,
   "metadata": {},
   "outputs": [
    {
     "data": {
      "text/plain": [
       "46"
      ]
     },
     "execution_count": 30,
     "metadata": {},
     "output_type": "execute_result"
    }
   ],
   "source": [
    "mesh.getElementType('triangle',10)"
   ]
  },
  {
   "cell_type": "code",
   "execution_count": null,
   "metadata": {},
   "outputs": [],
   "source": []
  },
  {
   "cell_type": "code",
   "execution_count": 7,
   "metadata": {},
   "outputs": [
    {
     "name": "stderr",
     "output_type": "stream",
     "text": [
      "/Library/Frameworks/Python.framework/Versions/3.7/lib/python3.7/site-packages/numpy/ctypeslib.py:523: RuntimeWarning: A builtin ctypes object gave a PEP3118 format string that does not match its itemsize, so a best-guess will be made of the data type. Newer versions of python may behave correctly.\n",
      "  return array(obj, copy=False)\n"
     ]
    },
    {
     "data": {
      "text/plain": [
       "(array([   1,    2,    3, ..., 4763, 4764, 4765], dtype=uint64),\n",
       " array([-0.5       ,  0.5       ,  0.        , ..., -0.12989261,\n",
       "         0.11177698,  0.        ]),\n",
       " array([], dtype=float64))"
      ]
     },
     "execution_count": 7,
     "metadata": {},
     "output_type": "execute_result"
    }
   ],
   "source": [
    "mesh.getNodes()"
   ]
  },
  {
   "cell_type": "code",
   "execution_count": 5,
   "metadata": {},
   "outputs": [
    {
     "ename": "NameError",
     "evalue": "name 'elementTypes' is not defined",
     "output_type": "error",
     "traceback": [
      "\u001b[0;31m---------------------------------------------------------------------------\u001b[0m",
      "\u001b[0;31mNameError\u001b[0m                                 Traceback (most recent call last)",
      "\u001b[0;32m<ipython-input-5-e8f7266b2b95>\u001b[0m in \u001b[0;36m<module>\u001b[0;34m\u001b[0m\n\u001b[1;32m      1\u001b[0m \u001b[0melementName\u001b[0m\u001b[0;34m,\u001b[0m \u001b[0mdim\u001b[0m\u001b[0;34m,\u001b[0m\u001b[0morder\u001b[0m\u001b[0;34m,\u001b[0m\u001b[0mnumNodes\u001b[0m\u001b[0;34m,\u001b[0m\u001b[0mnodeCoord\u001b[0m \u001b[0;34m=\u001b[0m \u001b[0mmesh\u001b[0m\u001b[0;34m.\u001b[0m\u001b[0mgetElementProperties\u001b[0m\u001b[0;34m(\u001b[0m\u001b[0;36m8\u001b[0m\u001b[0;34m)\u001b[0m\u001b[0;34m\u001b[0m\u001b[0;34m\u001b[0m\u001b[0m\n\u001b[0;32m----> 2\u001b[0;31m \u001b[0;32mfor\u001b[0m \u001b[0metype\u001b[0m \u001b[0;32min\u001b[0m \u001b[0melementTypes\u001b[0m\u001b[0;34m:\u001b[0m\u001b[0;34m\u001b[0m\u001b[0;34m\u001b[0m\u001b[0m\n\u001b[0m\u001b[1;32m      3\u001b[0m     \u001b[0mprops\u001b[0m \u001b[0;34m=\u001b[0m \u001b[0mmesh\u001b[0m\u001b[0;34m.\u001b[0m\u001b[0mgetElementProperties\u001b[0m\u001b[0;34m(\u001b[0m\u001b[0metype\u001b[0m\u001b[0;34m)\u001b[0m\u001b[0;34m\u001b[0m\u001b[0;34m\u001b[0m\u001b[0m\n\u001b[1;32m      4\u001b[0m     \u001b[0mstring\u001b[0m \u001b[0;34m=\u001b[0m \u001b[0;34m\"\"\u001b[0m\u001b[0;34m\u001b[0m\u001b[0;34m\u001b[0m\u001b[0m\n\u001b[1;32m      5\u001b[0m     \u001b[0mstring\u001b[0m \u001b[0;34m+=\u001b[0m \u001b[0;34m\"Name:  -- \"\u001b[0m\u001b[0;34m+\u001b[0m\u001b[0mstr\u001b[0m\u001b[0;34m(\u001b[0m\u001b[0mprops\u001b[0m\u001b[0;34m[\u001b[0m\u001b[0;36m0\u001b[0m\u001b[0;34m]\u001b[0m\u001b[0;34m)\u001b[0m \u001b[0;34m+\u001b[0m \u001b[0;34m\"\\n\"\u001b[0m\u001b[0;34m\u001b[0m\u001b[0;34m\u001b[0m\u001b[0m\n",
      "\u001b[0;31mNameError\u001b[0m: name 'elementTypes' is not defined"
     ]
    }
   ],
   "source": [
    "elementName, dim,order,numNodes,nodeCoord = mesh.getElementProperties(8)\n",
    "for etype in elementTypes:\n",
    "    props = mesh.getElementProperties(etype) \n",
    "    string = \"\"\n",
    "    string += \"Name:  -- \"+str(props[0]) + \"\\n\"\n",
    "    string += \"ndim:  -- \"+str(props[1]) + \"\\n\"\n",
    "    string += \"order: -- \"+str(props[2]) + \"\\n\"\n",
    "    string += \"nNodes:-- \"+str(props[3]) + \"\\n\"\n",
    "    if props[1]!=0:\n",
    "        string += \"coords:\\n\"+str(props[4].reshape(props[4].size//props[1],props[1])) \n",
    "    else:\n",
    "        string += \"coords:\\n\"+str(props[4]) \n",
    "        \n",
    "        \n",
    "\n",
    "    print(string)\n",
    "    print()\n",
    "    "
   ]
  },
  {
   "cell_type": "code",
   "execution_count": null,
   "metadata": {},
   "outputs": [],
   "source": []
  },
  {
   "cell_type": "code",
   "execution_count": null,
   "metadata": {},
   "outputs": [],
   "source": []
  },
  {
   "cell_type": "code",
   "execution_count": 3,
   "metadata": {},
   "outputs": [
    {
     "data": {
      "text/plain": [
       "[(0, 200), (1, 201), (1, 202), (1, 203), (1, 204), (1, 301)]"
      ]
     },
     "execution_count": 3,
     "metadata": {},
     "output_type": "execute_result"
    }
   ],
   "source": [
    "model.getPhysicalGroups()\n"
   ]
  },
  {
   "cell_type": "code",
   "execution_count": 3,
   "metadata": {},
   "outputs": [],
   "source": [
    "gmsh.write(\"mesh_test.msh\")"
   ]
  },
  {
   "cell_type": "code",
   "execution_count": 5,
   "metadata": {},
   "outputs": [],
   "source": [
    "gmsh.finalize()"
   ]
  },
  {
   "cell_type": "code",
   "execution_count": null,
   "metadata": {},
   "outputs": [],
   "source": []
  }
 ],
 "metadata": {
  "kernelspec": {
   "display_name": "Python 3",
   "language": "python",
   "name": "python3"
  },
  "language_info": {
   "codemirror_mode": {
    "name": "ipython",
    "version": 3
   },
   "file_extension": ".py",
   "mimetype": "text/x-python",
   "name": "python",
   "nbconvert_exporter": "python",
   "pygments_lexer": "ipython3",
   "version": "3.7.3"
  }
 },
 "nbformat": 4,
 "nbformat_minor": 2
}
