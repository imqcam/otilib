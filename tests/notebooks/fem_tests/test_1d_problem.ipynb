{
 "cells": [
  {
   "cell_type": "code",
   "execution_count": 1,
   "metadata": {},
   "outputs": [],
   "source": [
    "import scipy.sparse as spr\n",
    "import sys\n",
    "path2oti = '../../../build/'\n",
    "sys.path.append(path2oti) # Add path to OTI library.\n",
    "\n",
    "import pyoti.real   as r\n",
    "import pyoti.sparse as oti \n",
    "import pyoti.core   as coti\n",
    "import pyoti.fem    as fem \n",
    "\n",
    "import pyoti.static.onumm1n1   as dual\n",
    "\n",
    "\n",
    "\n",
    "\n",
    "\n",
    "%matplotlib notebook\n",
    "import matplotlib.pyplot as plt\n",
    "from mpl_toolkits.mplot3d import Axes3D\n",
    "\n",
    "e  = oti.e\n",
    "np = oti.np\n"
   ]
  },
  {
   "cell_type": "code",
   "execution_count": 2,
   "metadata": {},
   "outputs": [],
   "source": [
    "fem.set_global_algebra(dual)\n",
    "alg = fem.get_global_algebra()"
   ]
  },
  {
   "cell_type": "code",
   "execution_count": 3,
   "metadata": {},
   "outputs": [
    {
     "name": "stdout",
     "output_type": "stream",
     "text": [
      "< mesh (pyoti.static.onumm1n1) object with 201 nodes, 202 elements of types: point1 (2), line2 (200) >\n"
     ]
    },
    {
     "name": "stderr",
     "output_type": "stream",
     "text": [
      "/Users/maristi7/opt/anaconda3/envs/pyoti/lib/python3.7/site-packages/numpy/ctypeslib.py:523: RuntimeWarning: A builtin ctypes object gave a PEP3118 format string that does not match its itemsize, so a best-guess will be made of the data type. Newer versions of python may behave correctly.\n",
      "  return array(obj, copy=False)\n"
     ]
    }
   ],
   "source": [
    "Th = fem.line(0,1,0.005)\n",
    "print(Th)"
   ]
  },
  {
   "cell_type": "code",
   "execution_count": 3,
   "metadata": {},
   "outputs": [
    {
     "name": "stdout",
     "output_type": "stream",
     "text": [
      "< mesh (pyoti.real) object with 201 nodes, 202 elements of types: point1 (2), line2 (200) >\n"
     ]
    },
    {
     "name": "stderr",
     "output_type": "stream",
     "text": [
      "/Users/maristi7/opt/anaconda3/envs/pyoti/lib/python3.7/site-packages/numpy/ctypeslib.py:523: RuntimeWarning: A builtin ctypes object gave a PEP3118 format string that does not match its itemsize, so a best-guess will be made of the data type. Newer versions of python may behave correctly.\n",
      "  return array(obj, copy=False)\n"
     ]
    }
   ],
   "source": [
    "import pyvista as pv\n",
    "p = pv.BackgroundPlotter()\n",
    "\n",
    "grid = Th.to_pv()\n",
    "\n",
    "p.clear()\n",
    "\n",
    "# p.add_mesh(grid, show_edges=False, line_width=2,grid = True,categories=16,cmap='jet')\n",
    "p.add_mesh(grid, show_edges=True, line_width=2,grid = True,categories=16,cmap='jet')"
   ]
  },
  {
   "cell_type": "code",
   "execution_count": 5,
   "metadata": {},
   "outputs": [
    {
     "data": {
      "text/plain": [
       "{'types': array([1], dtype=int32),\n",
       " 'tags': [array([  3,   4,   5,   6,   7,   8,   9,  10,  11,  12,  13,  14,  15,\n",
       "          16,  17,  18,  19,  20,  21,  22,  23,  24,  25,  26,  27,  28,\n",
       "          29,  30,  31,  32,  33,  34,  35,  36,  37,  38,  39,  40,  41,\n",
       "          42,  43,  44,  45,  46,  47,  48,  49,  50,  51,  52,  53,  54,\n",
       "          55,  56,  57,  58,  59,  60,  61,  62,  63,  64,  65,  66,  67,\n",
       "          68,  69,  70,  71,  72,  73,  74,  75,  76,  77,  78,  79,  80,\n",
       "          81,  82,  83,  84,  85,  86,  87,  88,  89,  90,  91,  92,  93,\n",
       "          94,  95,  96,  97,  98,  99, 100, 101, 102, 103, 104, 105, 106,\n",
       "         107, 108, 109, 110, 111, 112, 113, 114, 115, 116, 117, 118, 119,\n",
       "         120, 121, 122, 123, 124, 125, 126, 127, 128, 129, 130, 131, 132,\n",
       "         133, 134, 135, 136, 137, 138, 139, 140, 141, 142, 143, 144, 145,\n",
       "         146, 147, 148, 149, 150, 151, 152, 153, 154, 155, 156, 157, 158,\n",
       "         159, 160, 161, 162, 163, 164, 165, 166, 167, 168, 169, 170, 171,\n",
       "         172, 173, 174, 175, 176, 177, 178, 179, 180, 181, 182, 183, 184,\n",
       "         185, 186, 187, 188, 189, 190, 191, 192, 193, 194, 195, 196, 197,\n",
       "         198, 199, 200, 201, 202], dtype=uint64)],\n",
       " 'indices': [array([[  0,   2],\n",
       "         [  2,   3],\n",
       "         [  3,   4],\n",
       "         [  4,   5],\n",
       "         [  5,   6],\n",
       "         [  6,   7],\n",
       "         [  7,   8],\n",
       "         [  8,   9],\n",
       "         [  9,  10],\n",
       "         [ 10,  11],\n",
       "         [ 11,  12],\n",
       "         [ 12,  13],\n",
       "         [ 13,  14],\n",
       "         [ 14,  15],\n",
       "         [ 15,  16],\n",
       "         [ 16,  17],\n",
       "         [ 17,  18],\n",
       "         [ 18,  19],\n",
       "         [ 19,  20],\n",
       "         [ 20,  21],\n",
       "         [ 21,  22],\n",
       "         [ 22,  23],\n",
       "         [ 23,  24],\n",
       "         [ 24,  25],\n",
       "         [ 25,  26],\n",
       "         [ 26,  27],\n",
       "         [ 27,  28],\n",
       "         [ 28,  29],\n",
       "         [ 29,  30],\n",
       "         [ 30,  31],\n",
       "         [ 31,  32],\n",
       "         [ 32,  33],\n",
       "         [ 33,  34],\n",
       "         [ 34,  35],\n",
       "         [ 35,  36],\n",
       "         [ 36,  37],\n",
       "         [ 37,  38],\n",
       "         [ 38,  39],\n",
       "         [ 39,  40],\n",
       "         [ 40,  41],\n",
       "         [ 41,  42],\n",
       "         [ 42,  43],\n",
       "         [ 43,  44],\n",
       "         [ 44,  45],\n",
       "         [ 45,  46],\n",
       "         [ 46,  47],\n",
       "         [ 47,  48],\n",
       "         [ 48,  49],\n",
       "         [ 49,  50],\n",
       "         [ 50,  51],\n",
       "         [ 51,  52],\n",
       "         [ 52,  53],\n",
       "         [ 53,  54],\n",
       "         [ 54,  55],\n",
       "         [ 55,  56],\n",
       "         [ 56,  57],\n",
       "         [ 57,  58],\n",
       "         [ 58,  59],\n",
       "         [ 59,  60],\n",
       "         [ 60,  61],\n",
       "         [ 61,  62],\n",
       "         [ 62,  63],\n",
       "         [ 63,  64],\n",
       "         [ 64,  65],\n",
       "         [ 65,  66],\n",
       "         [ 66,  67],\n",
       "         [ 67,  68],\n",
       "         [ 68,  69],\n",
       "         [ 69,  70],\n",
       "         [ 70,  71],\n",
       "         [ 71,  72],\n",
       "         [ 72,  73],\n",
       "         [ 73,  74],\n",
       "         [ 74,  75],\n",
       "         [ 75,  76],\n",
       "         [ 76,  77],\n",
       "         [ 77,  78],\n",
       "         [ 78,  79],\n",
       "         [ 79,  80],\n",
       "         [ 80,  81],\n",
       "         [ 81,  82],\n",
       "         [ 82,  83],\n",
       "         [ 83,  84],\n",
       "         [ 84,  85],\n",
       "         [ 85,  86],\n",
       "         [ 86,  87],\n",
       "         [ 87,  88],\n",
       "         [ 88,  89],\n",
       "         [ 89,  90],\n",
       "         [ 90,  91],\n",
       "         [ 91,  92],\n",
       "         [ 92,  93],\n",
       "         [ 93,  94],\n",
       "         [ 94,  95],\n",
       "         [ 95,  96],\n",
       "         [ 96,  97],\n",
       "         [ 97,  98],\n",
       "         [ 98,  99],\n",
       "         [ 99, 100],\n",
       "         [100, 101],\n",
       "         [101, 102],\n",
       "         [102, 103],\n",
       "         [103, 104],\n",
       "         [104, 105],\n",
       "         [105, 106],\n",
       "         [106, 107],\n",
       "         [107, 108],\n",
       "         [108, 109],\n",
       "         [109, 110],\n",
       "         [110, 111],\n",
       "         [111, 112],\n",
       "         [112, 113],\n",
       "         [113, 114],\n",
       "         [114, 115],\n",
       "         [115, 116],\n",
       "         [116, 117],\n",
       "         [117, 118],\n",
       "         [118, 119],\n",
       "         [119, 120],\n",
       "         [120, 121],\n",
       "         [121, 122],\n",
       "         [122, 123],\n",
       "         [123, 124],\n",
       "         [124, 125],\n",
       "         [125, 126],\n",
       "         [126, 127],\n",
       "         [127, 128],\n",
       "         [128, 129],\n",
       "         [129, 130],\n",
       "         [130, 131],\n",
       "         [131, 132],\n",
       "         [132, 133],\n",
       "         [133, 134],\n",
       "         [134, 135],\n",
       "         [135, 136],\n",
       "         [136, 137],\n",
       "         [137, 138],\n",
       "         [138, 139],\n",
       "         [139, 140],\n",
       "         [140, 141],\n",
       "         [141, 142],\n",
       "         [142, 143],\n",
       "         [143, 144],\n",
       "         [144, 145],\n",
       "         [145, 146],\n",
       "         [146, 147],\n",
       "         [147, 148],\n",
       "         [148, 149],\n",
       "         [149, 150],\n",
       "         [150, 151],\n",
       "         [151, 152],\n",
       "         [152, 153],\n",
       "         [153, 154],\n",
       "         [154, 155],\n",
       "         [155, 156],\n",
       "         [156, 157],\n",
       "         [157, 158],\n",
       "         [158, 159],\n",
       "         [159, 160],\n",
       "         [160, 161],\n",
       "         [161, 162],\n",
       "         [162, 163],\n",
       "         [163, 164],\n",
       "         [164, 165],\n",
       "         [165, 166],\n",
       "         [166, 167],\n",
       "         [167, 168],\n",
       "         [168, 169],\n",
       "         [169, 170],\n",
       "         [170, 171],\n",
       "         [171, 172],\n",
       "         [172, 173],\n",
       "         [173, 174],\n",
       "         [174, 175],\n",
       "         [175, 176],\n",
       "         [176, 177],\n",
       "         [177, 178],\n",
       "         [178, 179],\n",
       "         [179, 180],\n",
       "         [180, 181],\n",
       "         [181, 182],\n",
       "         [182, 183],\n",
       "         [183, 184],\n",
       "         [184, 185],\n",
       "         [185, 186],\n",
       "         [186, 187],\n",
       "         [187, 188],\n",
       "         [188, 189],\n",
       "         [189, 190],\n",
       "         [190, 191],\n",
       "         [191, 192],\n",
       "         [192, 193],\n",
       "         [193, 194],\n",
       "         [194, 195],\n",
       "         [195, 196],\n",
       "         [196, 197],\n",
       "         [197, 198],\n",
       "         [198, 199],\n",
       "         [199, 200],\n",
       "         [200,   1]], dtype=uint64)]}"
      ]
     },
     "execution_count": 5,
     "metadata": {},
     "output_type": "execute_result"
    }
   ],
   "source": [
    "# The problem to be solved:\n",
    "# \n",
    "# \n",
    "Th.elements[1]\n"
   ]
  },
  {
   "cell_type": "code",
   "execution_count": 8,
   "metadata": {},
   "outputs": [
    {
     "data": {
      "text/plain": [
       "{'types': array([15], dtype=int32),\n",
       " 'tags': [array([1, 2], dtype=uint64)],\n",
       " 'indices': [array([[0],\n",
       "         [1]], dtype=uint64)]}"
      ]
     },
     "execution_count": 8,
     "metadata": {},
     "output_type": "execute_result"
    }
   ],
   "source": [
    "Th.elements[0]"
   ]
  },
  {
   "cell_type": "code",
   "execution_count": 9,
   "metadata": {},
   "outputs": [
    {
     "data": {
      "text/plain": [
       "< elm_help object: \n",
       " - Object allocation: -------------- Not allocated\n",
       "end elm_help object >"
      ]
     },
     "execution_count": 9,
     "metadata": {},
     "output_type": "execute_result"
    }
   ],
   "source": [
    "x = oti.elm_help()\n",
    "x"
   ]
  },
  {
   "cell_type": "code",
   "execution_count": 6,
   "metadata": {},
   "outputs": [],
   "source": [
    "elLine = fem.element[1]\n",
    "elLine.end()\n",
    "elLine.allocate(4)\n",
    "elLine.allocate_spatial(1,compute_Jinv = True)\n"
   ]
  },
  {
   "cell_type": "code",
   "execution_count": 7,
   "metadata": {},
   "outputs": [
    {
     "data": {
      "text/plain": [
       "feomatm1n1< nip: 4, \n",
       "(Integration point - 0) \n",
       "-------------------------\n",
       "omatm1n1< shape: (1, 2), \n",
       " - Column 0\n",
       "(0,0) 0.9306 + 0.0000 * e([1])\n",
       " - Column 1\n",
       "(0,1) 0.0694 + 0.0000 * e([1])\n",
       ">\n",
       "-------------------------\n",
       "(Integration point - 1) \n",
       "-------------------------\n",
       "omatm1n1< shape: (1, 2), \n",
       " - Column 0\n",
       "(0,0) 0.0694 + 0.0000 * e([1])\n",
       " - Column 1\n",
       "(0,1) 0.9306 + 0.0000 * e([1])\n",
       ">\n",
       "-------------------------\n",
       "(Integration point - 2) \n",
       "-------------------------\n",
       "omatm1n1< shape: (1, 2), \n",
       " - Column 0\n",
       "(0,0) 0.6700 + 0.0000 * e([1])\n",
       " - Column 1\n",
       "(0,1) 0.3300 + 0.0000 * e([1])\n",
       ">\n",
       "-------------------------\n",
       "(Integration point - 3) \n",
       "-------------------------\n",
       "omatm1n1< shape: (1, 2), \n",
       " - Column 0\n",
       "(0,0) 0.3300 + 0.0000 * e([1])\n",
       " - Column 1\n",
       "(0,1) 0.6700 + 0.0000 * e([1])\n",
       ">\n",
       "-------------------------\n",
       ">"
      ]
     },
     "execution_count": 7,
     "metadata": {},
     "output_type": "execute_result"
    }
   ],
   "source": [
    "elLine.N"
   ]
  },
  {
   "cell_type": "code",
   "execution_count": 8,
   "metadata": {},
   "outputs": [],
   "source": [
    "elLine.set_coordinates(Th.x,Th.y,Th.z,Th.elements[1]['indices'][0][199])"
   ]
  },
  {
   "cell_type": "code",
   "execution_count": 9,
   "metadata": {},
   "outputs": [],
   "source": [
    "elLine.compute_jacobian()"
   ]
  },
  {
   "cell_type": "code",
   "execution_count": 10,
   "metadata": {},
   "outputs": [
    {
     "data": {
      "text/plain": [
       "omatm1n1< shape: (2, 2), \n",
       " - Column 0\n",
       "(0,0) -199.9983 + 0.0000 * e([1])\n",
       "(1,0) 200.0008 + 0.0000 * e([1])\n",
       " - Column 1\n",
       "(0,1) 200.0008 + 0.0000 * e([1])\n",
       "(1,1) -199.9983 + 0.0000 * e([1])\n",
       ">"
      ]
     },
     "execution_count": 10,
     "metadata": {},
     "output_type": "execute_result"
    }
   ],
   "source": [
    "alg.gauss_integrate(-alg.dot(alg.transpose(elLine.Nx),elLine.Nx)+alg.dot(alg.transpose(elLine.N),elLine.N),elLine.dV)"
   ]
  },
  {
   "cell_type": "code",
   "execution_count": 11,
   "metadata": {},
   "outputs": [
    {
     "data": {
      "text/plain": [
       "array([200,   1], dtype=uint64)"
      ]
     },
     "execution_count": 11,
     "metadata": {},
     "output_type": "execute_result"
    }
   ],
   "source": [
    "Th.elements[1]['indices'][0][199]"
   ]
  },
  {
   "cell_type": "code",
   "execution_count": 12,
   "metadata": {},
   "outputs": [
    {
     "data": {
      "text/plain": [
       "0.004200574877454433"
      ]
     },
     "execution_count": 12,
     "metadata": {},
     "output_type": "execute_result"
    }
   ],
   "source": [
    "f = alg.sin(Th.x)\n",
    "fh = alg.zeros((2,1))\n",
    "fh[0,0] = f[200,0]\n",
    "fh[1,0] = f[1,0]\n",
    "\n",
    "f_eval = alg.dot_product(elLine.N,fh)\n",
    "\n",
    "\n",
    "alg.gauss_integrate(f_eval,elLine.dV).real\n",
    "#0.004200574877454433"
   ]
  },
  {
   "cell_type": "code",
   "execution_count": 53,
   "metadata": {},
   "outputs": [
    {
     "data": {
      "text/plain": [
       "0.004200583628662935"
      ]
     },
     "execution_count": 53,
     "metadata": {},
     "output_type": "execute_result"
    }
   ],
   "source": [
    "-np.cos(1.0)+np.cos(1-0.005)"
   ]
  },
  {
   "cell_type": "code",
   "execution_count": 19,
   "metadata": {},
   "outputs": [
    {
     "data": {
      "text/plain": [
       "dnumfe< nip: 4, \n",
       "(0) 0.8389472666250167\n",
       "(1) 0.8412826843523152\n",
       "(2) 0.8396539580252034\n",
       "(3) 0.8405759929521288\n",
       ">"
      ]
     },
     "execution_count": 19,
     "metadata": {},
     "output_type": "execute_result"
    }
   ],
   "source": [
    "f_eval"
   ]
  },
  {
   "cell_type": "code",
   "execution_count": 22,
   "metadata": {},
   "outputs": [
    {
     "data": {
      "text/plain": [
       "1.249997396e-05"
      ]
     },
     "execution_count": 22,
     "metadata": {},
     "output_type": "execute_result"
    }
   ],
   "source": [
    "0.00001249997396"
   ]
  },
  {
   "cell_type": "code",
   "execution_count": 30,
   "metadata": {},
   "outputs": [
    {
     "data": {
      "text/plain": [
       "<(5, 5) sparse matrix of OTI numbers with \n",
       "         0 stored elements in LInked List format>"
      ]
     },
     "execution_count": 30,
     "metadata": {},
     "output_type": "execute_result"
    }
   ],
   "source": [
    "\n",
    "K"
   ]
  },
  {
   "cell_type": "code",
   "execution_count": 4,
   "metadata": {},
   "outputs": [],
   "source": [
    "#*****************************************************************************************************\n",
    "def solve_1d_problem(Th):\n",
    "    \n",
    "    els = Th.elements[1]\n",
    "\n",
    "    fem.end_elements()\n",
    "    \n",
    "    alg = fem.get_global_algebra()\n",
    "    K = alg.lil_matrix((Th.x.shape[0],Th.x.shape[0]))\n",
    "    f = alg.zeros((Th.x.shape[0],1))\n",
    "#     print(f)\n",
    "#     print(K)\n",
    "    #integrate 2D a fem array.\n",
    "    for j in range(els['types'].size):\n",
    "\n",
    "        elem = fem.element[ els['types'][j] ]\n",
    "\n",
    "        if not elem.is_allocated():\n",
    "\n",
    "            elem.end()\n",
    "            elem.allocate(intorder=2)\n",
    "            elem.allocate_spatial(1,compute_Jinv = True)\n",
    "\n",
    "            # Here the temporals shhould be created.\n",
    "            # - Elemental K\n",
    "#             Kel = oti.zeros( ( elem.nbasis, elem.nbasis ) )\n",
    "            # - Elemental f\n",
    "#             fel = oti.zeros( ( elem.nbasis, 1 ) )\n",
    "#             tmp1 = oti.zeros(nip=elem.nip)\n",
    "\n",
    "#             tmp2 = zero()\n",
    "\n",
    "        # end if \n",
    "\n",
    "        elm_nodes = els['indices'][j]\n",
    "\n",
    "        for i in range(elm_nodes.shape[0]):\n",
    "            \n",
    "#             Kel.set(0.0); fel.set(0.0)\n",
    "\n",
    "            elem.set_coordinates(Th.x,Th.y,Th.z,elm_nodes[i,:])\n",
    "            elem.compute_jacobian()\n",
    "\n",
    "            Nx = elem.Nx\n",
    "            N  = elem.N\n",
    "            \n",
    "            Kel = alg.gauss_integrate(-alg.dot(alg.transpose(Nx),Nx)+alg.dot(alg.transpose(N),N),elem.dV)\n",
    "            fel = 10*alg.gauss_integrate(alg.transpose(N),elem.dV)\n",
    "\n",
    "            assemble_globals(Kel,fel,K,f,elm_nodes[i,:])\n",
    "            \n",
    "            # integral = integral + gauss_integrate( dot_product( fh, elem.N), elem.w_dJ)\n",
    "\n",
    "            # integral = integral + oti.dot_product( fh, oti.gauss_integrate( element.N, element.w_dJ) )\n",
    "\n",
    "        # end for\n",
    "\n",
    "    # end for\n",
    "\n",
    "    fem.end_elements()   \n",
    "    \n",
    "    # Setting Dirichlet BCs using TGV.\n",
    "    TGV = 1e30\n",
    "\n",
    "    K[0,0] = TGV\n",
    "    f[0,0] = 1.0*TGV\n",
    "\n",
    "    K[1,1] = TGV\n",
    "    f[1,0] = 4.0*TGV\n",
    "    \n",
    "    u = alg.solve(K.tocsr(),f)\n",
    "\n",
    "    return u,K,f\n",
    "\n",
    "    #-----------------------------------------------------------------------------------------------------\n",
    "    \n",
    "def assemble_globals(Kel,fel,Kgl,fgl,elem):\n",
    "    \n",
    "    \n",
    "    for i in range(elem.size):\n",
    "        \n",
    "        ii=int(elem[i])\n",
    "        \n",
    "        for j in range(elem.size):\n",
    "\n",
    "            jj=int(elem[j])\n",
    "        \n",
    "            Kgl[ii,jj] = Kgl[ii,jj] + Kel[i,j]\n",
    "            \n",
    "        # end for \n",
    "        fgl[ii,0] = fgl[ii,0] + fel[i,0]\n",
    "        \n",
    "    # end for \n",
    "    "
   ]
  },
  {
   "cell_type": "code",
   "execution_count": 5,
   "metadata": {},
   "outputs": [
    {
     "name": "stdout",
     "output_type": "stream",
     "text": [
      "omatm1n1< shape: (201, 1), \n",
      " - Column 0\n",
      "(0,0) 1.0000 + 0.0000 * e([1])\n",
      "(1,0) 4.0000 + 0.0000 * e([1])\n",
      "(2,0) 0.9934 + 0.0000 * e([1])\n",
      "(3,0) 0.9869 + 0.0000 * e([1])\n",
      "(4,0) 0.9807 + 0.0000 * e([1])\n",
      "(5,0) 0.9748 + 0.0000 * e([1])\n",
      "(6,0) 0.9690 + 0.0000 * e([1])\n",
      "(7,0) 0.9635 + 0.0000 * e([1])\n",
      "(8,0) 0.9582 + 0.0000 * e([1])\n",
      "(9,0) 0.9532 + 0.0000 * e([1])\n",
      "(10,0) 0.9483 + 0.0000 * e([1])\n",
      "(11,0) 0.9437 + 0.0000 * e([1])\n",
      "(12,0) 0.9393 + 0.0000 * e([1])\n",
      "(13,0) 0.9352 + 0.0000 * e([1])\n",
      "(14,0) 0.9312 + 0.0000 * e([1])\n",
      "(15,0) 0.9275 + 0.0000 * e([1])\n",
      "(16,0) 0.9240 + 0.0000 * e([1])\n",
      "(17,0) 0.9208 + 0.0000 * e([1])\n",
      "(18,0) 0.9178 + 0.0000 * e([1])\n",
      "(19,0) 0.9150 + 0.0000 * e([1])\n",
      "(20,0) 0.9124 + 0.0000 * e([1])\n",
      "(21,0) 0.9100 + 0.0000 * e([1])\n",
      "(22,0) 0.9079 + 0.0000 * e([1])\n",
      "(23,0) 0.9060 + 0.0000 * e([1])\n",
      "(24,0) 0.9044 + 0.0000 * e([1])\n",
      "(25,0) 0.9029 + 0.0000 * e([1])\n",
      "(26,0) 0.9017 + 0.0000 * e([1])\n",
      "(27,0) 0.9007 + 0.0000 * e([1])\n",
      "(28,0) 0.9000 + 0.0000 * e([1])\n",
      "(29,0) 0.8995 + 0.0000 * e([1])\n",
      "(30,0) 0.8992 + 0.0000 * e([1])\n",
      "(31,0) 0.8991 + 0.0000 * e([1])\n",
      "(32,0) 0.8992 + 0.0000 * e([1])\n",
      "(33,0) 0.8996 + 0.0000 * e([1])\n",
      "(34,0) 0.9002 + 0.0000 * e([1])\n",
      "(35,0) 0.9011 + 0.0000 * e([1])\n",
      "(36,0) 0.9021 + 0.0000 * e([1])\n",
      "(37,0) 0.9034 + 0.0000 * e([1])\n",
      "(38,0) 0.9050 + 0.0000 * e([1])\n",
      "(39,0) 0.9067 + 0.0000 * e([1])\n",
      "(40,0) 0.9087 + 0.0000 * e([1])\n",
      "(41,0) 0.9109 + 0.0000 * e([1])\n",
      "(42,0) 0.9133 + 0.0000 * e([1])\n",
      "(43,0) 0.9160 + 0.0000 * e([1])\n",
      "(44,0) 0.9189 + 0.0000 * e([1])\n",
      "(45,0) 0.9220 + 0.0000 * e([1])\n",
      "(46,0) 0.9253 + 0.0000 * e([1])\n",
      "(47,0) 0.9289 + 0.0000 * e([1])\n",
      "(48,0) 0.9327 + 0.0000 * e([1])\n",
      "(49,0) 0.9367 + 0.0000 * e([1])\n",
      "(50,0) 0.9409 + 0.0000 * e([1])\n",
      "(51,0) 0.9454 + 0.0000 * e([1])\n",
      "(52,0) 0.9501 + 0.0000 * e([1])\n",
      "(53,0) 0.9550 + 0.0000 * e([1])\n",
      "(54,0) 0.9602 + 0.0000 * e([1])\n",
      "(55,0) 0.9656 + 0.0000 * e([1])\n",
      "(56,0) 0.9712 + 0.0000 * e([1])\n",
      "(57,0) 0.9770 + 0.0000 * e([1])\n",
      "(58,0) 0.9831 + 0.0000 * e([1])\n",
      "(59,0) 0.9893 + 0.0000 * e([1])\n",
      "(60,0) 0.9958 + 0.0000 * e([1])\n",
      "(61,0) 1.0026 + 0.0000 * e([1])\n",
      "(62,0) 1.0095 + 0.0000 * e([1])\n",
      "(63,0) 1.0167 + 0.0000 * e([1])\n",
      "(64,0) 1.0241 + 0.0000 * e([1])\n",
      "(65,0) 1.0317 + 0.0000 * e([1])\n",
      "(66,0) 1.0396 + 0.0000 * e([1])\n",
      "(67,0) 1.0477 + 0.0000 * e([1])\n",
      "(68,0) 1.0560 + 0.0000 * e([1])\n",
      "(69,0) 1.0645 + 0.0000 * e([1])\n",
      "(70,0) 1.0732 + 0.0000 * e([1])\n",
      "(71,0) 1.0822 + 0.0000 * e([1])\n",
      "(72,0) 1.0914 + 0.0000 * e([1])\n",
      "(73,0) 1.1008 + 0.0000 * e([1])\n",
      "(74,0) 1.1105 + 0.0000 * e([1])\n",
      "(75,0) 1.1203 + 0.0000 * e([1])\n",
      "(76,0) 1.1304 + 0.0000 * e([1])\n",
      "(77,0) 1.1407 + 0.0000 * e([1])\n",
      "(78,0) 1.1512 + 0.0000 * e([1])\n",
      "(79,0) 1.1620 + 0.0000 * e([1])\n",
      "(80,0) 1.1730 + 0.0000 * e([1])\n",
      "(81,0) 1.1841 + 0.0000 * e([1])\n",
      "(82,0) 1.1955 + 0.0000 * e([1])\n",
      "(83,0) 1.2072 + 0.0000 * e([1])\n",
      "(84,0) 1.2190 + 0.0000 * e([1])\n",
      "(85,0) 1.2311 + 0.0000 * e([1])\n",
      "(86,0) 1.2434 + 0.0000 * e([1])\n",
      "(87,0) 1.2559 + 0.0000 * e([1])\n",
      "(88,0) 1.2686 + 0.0000 * e([1])\n",
      "(89,0) 1.2816 + 0.0000 * e([1])\n",
      "(90,0) 1.2947 + 0.0000 * e([1])\n",
      "(91,0) 1.3081 + 0.0000 * e([1])\n",
      "(92,0) 1.3217 + 0.0000 * e([1])\n",
      "(93,0) 1.3355 + 0.0000 * e([1])\n",
      "(94,0) 1.3495 + 0.0000 * e([1])\n",
      "(95,0) 1.3638 + 0.0000 * e([1])\n",
      "(96,0) 1.3783 + 0.0000 * e([1])\n",
      "(97,0) 1.3929 + 0.0000 * e([1])\n",
      "(98,0) 1.4078 + 0.0000 * e([1])\n",
      "(99,0) 1.4229 + 0.0000 * e([1])\n",
      "(100,0) 1.4383 + 0.0000 * e([1])\n",
      "(101,0) 1.4538 + 0.0000 * e([1])\n",
      "(102,0) 1.4695 + 0.0000 * e([1])\n",
      "(103,0) 1.4855 + 0.0000 * e([1])\n",
      "(104,0) 1.5017 + 0.0000 * e([1])\n",
      "(105,0) 1.5181 + 0.0000 * e([1])\n",
      "(106,0) 1.5347 + 0.0000 * e([1])\n",
      "(107,0) 1.5515 + 0.0000 * e([1])\n",
      "(108,0) 1.5685 + 0.0000 * e([1])\n",
      "(109,0) 1.5858 + 0.0000 * e([1])\n",
      "(110,0) 1.6032 + 0.0000 * e([1])\n",
      "(111,0) 1.6209 + 0.0000 * e([1])\n",
      "(112,0) 1.6387 + 0.0000 * e([1])\n",
      "(113,0) 1.6568 + 0.0000 * e([1])\n",
      "(114,0) 1.6751 + 0.0000 * e([1])\n",
      "(115,0) 1.6936 + 0.0000 * e([1])\n",
      "(116,0) 1.7123 + 0.0000 * e([1])\n",
      "(117,0) 1.7312 + 0.0000 * e([1])\n",
      "(118,0) 1.7503 + 0.0000 * e([1])\n",
      "(119,0) 1.7696 + 0.0000 * e([1])\n",
      "(120,0) 1.7891 + 0.0000 * e([1])\n",
      "(121,0) 1.8088 + 0.0000 * e([1])\n",
      "(122,0) 1.8288 + 0.0000 * e([1])\n",
      "(123,0) 1.8489 + 0.0000 * e([1])\n",
      "(124,0) 1.8693 + 0.0000 * e([1])\n",
      "(125,0) 1.8898 + 0.0000 * e([1])\n",
      "(126,0) 1.9106 + 0.0000 * e([1])\n",
      "(127,0) 1.9315 + 0.0000 * e([1])\n",
      "(128,0) 1.9527 + 0.0000 * e([1])\n",
      "(129,0) 1.9740 + 0.0000 * e([1])\n",
      "(130,0) 1.9956 + 0.0000 * e([1])\n",
      "(131,0) 2.0173 + 0.0000 * e([1])\n",
      "(132,0) 2.0393 + 0.0000 * e([1])\n",
      "(133,0) 2.0614 + 0.0000 * e([1])\n",
      "(134,0) 2.0838 + 0.0000 * e([1])\n",
      "(135,0) 2.1063 + 0.0000 * e([1])\n",
      "(136,0) 2.1291 + 0.0000 * e([1])\n",
      "(137,0) 2.1520 + 0.0000 * e([1])\n",
      "(138,0) 2.1751 + 0.0000 * e([1])\n",
      "(139,0) 2.1985 + 0.0000 * e([1])\n",
      "(140,0) 2.2220 + 0.0000 * e([1])\n",
      "(141,0) 2.2457 + 0.0000 * e([1])\n",
      "(142,0) 2.2697 + 0.0000 * e([1])\n",
      "(143,0) 2.2938 + 0.0000 * e([1])\n",
      "(144,0) 2.3181 + 0.0000 * e([1])\n",
      "(145,0) 2.3426 + 0.0000 * e([1])\n",
      "(146,0) 2.3673 + 0.0000 * e([1])\n",
      "(147,0) 2.3921 + 0.0000 * e([1])\n",
      "(148,0) 2.4172 + 0.0000 * e([1])\n",
      "(149,0) 2.4425 + 0.0000 * e([1])\n",
      "(150,0) 2.4679 + 0.0000 * e([1])\n",
      "(151,0) 2.4935 + 0.0000 * e([1])\n",
      "(152,0) 2.5194 + 0.0000 * e([1])\n",
      "(153,0) 2.5454 + 0.0000 * e([1])\n",
      "(154,0) 2.5716 + 0.0000 * e([1])\n",
      "(155,0) 2.5980 + 0.0000 * e([1])\n",
      "(156,0) 2.6245 + 0.0000 * e([1])\n",
      "(157,0) 2.6513 + 0.0000 * e([1])\n",
      "(158,0) 2.6782 + 0.0000 * e([1])\n",
      "(159,0) 2.7053 + 0.0000 * e([1])\n",
      "(160,0) 2.7326 + 0.0000 * e([1])\n",
      "(161,0) 2.7601 + 0.0000 * e([1])\n",
      "(162,0) 2.7878 + 0.0000 * e([1])\n",
      "(163,0) 2.8156 + 0.0000 * e([1])\n",
      "(164,0) 2.8436 + 0.0000 * e([1])\n",
      "(165,0) 2.8718 + 0.0000 * e([1])\n",
      "(166,0) 2.9002 + 0.0000 * e([1])\n",
      "(167,0) 2.9288 + 0.0000 * e([1])\n",
      "(168,0) 2.9575 + 0.0000 * e([1])\n",
      "(169,0) 2.9864 + 0.0000 * e([1])\n",
      "(170,0) 3.0155 + 0.0000 * e([1])\n",
      "(171,0) 3.0448 + 0.0000 * e([1])\n",
      "(172,0) 3.0742 + 0.0000 * e([1])\n",
      "(173,0) 3.1038 + 0.0000 * e([1])\n",
      "(174,0) 3.1336 + 0.0000 * e([1])\n",
      "(175,0) 3.1635 + 0.0000 * e([1])\n",
      "(176,0) 3.1937 + 0.0000 * e([1])\n",
      "(177,0) 3.2240 + 0.0000 * e([1])\n",
      "(178,0) 3.2544 + 0.0000 * e([1])\n",
      "(179,0) 3.2851 + 0.0000 * e([1])\n",
      "(180,0) 3.3158 + 0.0000 * e([1])\n",
      "(181,0) 3.3468 + 0.0000 * e([1])\n",
      "(182,0) 3.3779 + 0.0000 * e([1])\n",
      "(183,0) 3.4092 + 0.0000 * e([1])\n",
      "(184,0) 3.4407 + 0.0000 * e([1])\n",
      "(185,0) 3.4723 + 0.0000 * e([1])\n",
      "(186,0) 3.5041 + 0.0000 * e([1])\n",
      "(187,0) 3.5361 + 0.0000 * e([1])\n",
      "(188,0) 3.5682 + 0.0000 * e([1])\n",
      "(189,0) 3.6005 + 0.0000 * e([1])\n",
      "(190,0) 3.6329 + 0.0000 * e([1])\n",
      "(191,0) 3.6655 + 0.0000 * e([1])\n",
      "(192,0) 3.6982 + 0.0000 * e([1])\n",
      "(193,0) 3.7312 + 0.0000 * e([1])\n",
      "(194,0) 3.7642 + 0.0000 * e([1])\n",
      "(195,0) 3.7974 + 0.0000 * e([1])\n",
      "(196,0) 3.8308 + 0.0000 * e([1])\n",
      "(197,0) 3.8643 + 0.0000 * e([1])\n",
      "(198,0) 3.8980 + 0.0000 * e([1])\n",
      "(199,0) 3.9319 + 0.0000 * e([1])\n",
      "(200,0) 3.9659 + 0.0000 * e([1])\n",
      ">\n"
     ]
    }
   ],
   "source": [
    "u,K,f = solve_1d_problem(Th)\n",
    "print(u)"
   ]
  },
  {
   "cell_type": "code",
   "execution_count": 6,
   "metadata": {},
   "outputs": [],
   "source": [
    "import pyvista as pv\n",
    "p = pv.BackgroundPlotter()\n",
    "\n",
    "grid = Th.to_pv(pd=[u.real],pd_names=['u'])\n",
    "\n",
    "p.clear()\n",
    "\n",
    "# p.add_mesh(grid, show_edges=False, line_width=2,grid = True,categories=16,cmap='jet')\n",
    "p.add_mesh(grid.warp_by_scalar(), show_edges=True, line_width=2,grid = True,cmap='jet',scalar_bar_args={'interactive':True})\n",
    "p.show_bounds()\n",
    "p.show_grid()"
   ]
  },
  {
   "cell_type": "code",
   "execution_count": 36,
   "metadata": {},
   "outputs": [
    {
     "data": {
      "text/plain": [
       "9.0000 + 3.0000 * e([1])"
      ]
     },
     "execution_count": 36,
     "metadata": {},
     "output_type": "execute_result"
    }
   ],
   "source": [
    "K[1,1] = K[1,1] + 3+oti.e(1)\n",
    "K[1,1]"
   ]
  },
  {
   "cell_type": "code",
   "execution_count": 38,
   "metadata": {},
   "outputs": [
    {
     "name": "stdout",
     "output_type": "stream",
     "text": [
      "(  1,  1) 9 + 3 * e([1])\n",
      "\n"
     ]
    }
   ],
   "source": [
    "print(K)"
   ]
  }
 ],
 "metadata": {
  "kernelspec": {
   "display_name": "Python 3",
   "language": "python",
   "name": "python3"
  },
  "language_info": {
   "codemirror_mode": {
    "name": "ipython",
    "version": 3
   },
   "file_extension": ".py",
   "mimetype": "text/x-python",
   "name": "python",
   "nbconvert_exporter": "python",
   "pygments_lexer": "ipython3",
   "version": "3.7.4"
  }
 },
 "nbformat": 4,
 "nbformat_minor": 2
}
