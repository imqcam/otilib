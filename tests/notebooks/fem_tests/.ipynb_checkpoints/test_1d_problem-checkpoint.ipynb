{
 "cells": [
  {
   "cell_type": "code",
   "execution_count": 1,
   "metadata": {},
   "outputs": [],
   "source": [
    "import scipy.sparse as spr\n",
    "import sys\n",
    "path2oti = '../../../build/'\n",
    "sys.path.append(path2oti) # Add path to OTI library.\n",
    "\n",
    "import pyoti.real   as r\n",
    "import pyoti.sparse as oti \n",
    "import pyoti.core   as coti\n",
    "import pyoti.fem    as fem \n",
    "\n",
    "\n",
    "%matplotlib notebook\n",
    "import matplotlib.pyplot as plt\n",
    "from mpl_toolkits.mplot3d import Axes3D\n",
    "\n",
    "e  = oti.e\n",
    "np = oti.np\n"
   ]
  },
  {
   "cell_type": "code",
   "execution_count": 2,
   "metadata": {},
   "outputs": [],
   "source": [
    "fem.set_global_algebra(r)\n",
    "alg = fem.get_global_algebra()"
   ]
  },
  {
   "cell_type": "code",
   "execution_count": 6,
   "metadata": {},
   "outputs": [
    {
     "name": "stdout",
     "output_type": "stream",
     "text": [
      "< mesh (pyoti.real) object with 201 nodes, 202 elements of types: point1 (2), line2 (200) >\n"
     ]
    },
    {
     "name": "stderr",
     "output_type": "stream",
     "text": [
      "/Users/maristi7/opt/anaconda3/envs/pyoti/lib/python3.7/site-packages/numpy/ctypeslib.py:523: RuntimeWarning: A builtin ctypes object gave a PEP3118 format string that does not match its itemsize, so a best-guess will be made of the data type. Newer versions of python may behave correctly.\n",
      "  return array(obj, copy=False)\n"
     ]
    }
   ],
   "source": [
    "Th = fem.line(0,1,0.005)\n",
    "print(Th)"
   ]
  },
  {
   "cell_type": "code",
   "execution_count": 3,
   "metadata": {},
   "outputs": [
    {
     "name": "stdout",
     "output_type": "stream",
     "text": [
      "< mesh (pyoti.real) object with 201 nodes, 202 elements of types: point1 (2), line2 (200) >\n"
     ]
    },
    {
     "name": "stderr",
     "output_type": "stream",
     "text": [
      "/Users/maristi7/opt/anaconda3/envs/pyoti/lib/python3.7/site-packages/numpy/ctypeslib.py:523: RuntimeWarning: A builtin ctypes object gave a PEP3118 format string that does not match its itemsize, so a best-guess will be made of the data type. Newer versions of python may behave correctly.\n",
      "  return array(obj, copy=False)\n"
     ]
    }
   ],
   "source": [
    "import pyvista as pv\n",
    "p = pv.BackgroundPlotter()\n",
    "\n",
    "grid = Th.to_pv()\n",
    "\n",
    "p.clear()\n",
    "\n",
    "# p.add_mesh(grid, show_edges=False, line_width=2,grid = True,categories=16,cmap='jet')\n",
    "p.add_mesh(grid, show_edges=True, line_width=2,grid = True,categories=16,cmap='jet')"
   ]
  },
  {
   "cell_type": "code",
   "execution_count": 7,
   "metadata": {},
   "outputs": [
    {
     "data": {
      "text/plain": [
       "{'types': array([1], dtype=int32),\n",
       " 'tags': [array([  3,   4,   5,   6,   7,   8,   9,  10,  11,  12,  13,  14,  15,\n",
       "          16,  17,  18,  19,  20,  21,  22,  23,  24,  25,  26,  27,  28,\n",
       "          29,  30,  31,  32,  33,  34,  35,  36,  37,  38,  39,  40,  41,\n",
       "          42,  43,  44,  45,  46,  47,  48,  49,  50,  51,  52,  53,  54,\n",
       "          55,  56,  57,  58,  59,  60,  61,  62,  63,  64,  65,  66,  67,\n",
       "          68,  69,  70,  71,  72,  73,  74,  75,  76,  77,  78,  79,  80,\n",
       "          81,  82,  83,  84,  85,  86,  87,  88,  89,  90,  91,  92,  93,\n",
       "          94,  95,  96,  97,  98,  99, 100, 101, 102, 103, 104, 105, 106,\n",
       "         107, 108, 109, 110, 111, 112, 113, 114, 115, 116, 117, 118, 119,\n",
       "         120, 121, 122, 123, 124, 125, 126, 127, 128, 129, 130, 131, 132,\n",
       "         133, 134, 135, 136, 137, 138, 139, 140, 141, 142, 143, 144, 145,\n",
       "         146, 147, 148, 149, 150, 151, 152, 153, 154, 155, 156, 157, 158,\n",
       "         159, 160, 161, 162, 163, 164, 165, 166, 167, 168, 169, 170, 171,\n",
       "         172, 173, 174, 175, 176, 177, 178, 179, 180, 181, 182, 183, 184,\n",
       "         185, 186, 187, 188, 189, 190, 191, 192, 193, 194, 195, 196, 197,\n",
       "         198, 199, 200, 201, 202], dtype=uint64)],\n",
       " 'indices': [array([[  0,   2],\n",
       "         [  2,   3],\n",
       "         [  3,   4],\n",
       "         [  4,   5],\n",
       "         [  5,   6],\n",
       "         [  6,   7],\n",
       "         [  7,   8],\n",
       "         [  8,   9],\n",
       "         [  9,  10],\n",
       "         [ 10,  11],\n",
       "         [ 11,  12],\n",
       "         [ 12,  13],\n",
       "         [ 13,  14],\n",
       "         [ 14,  15],\n",
       "         [ 15,  16],\n",
       "         [ 16,  17],\n",
       "         [ 17,  18],\n",
       "         [ 18,  19],\n",
       "         [ 19,  20],\n",
       "         [ 20,  21],\n",
       "         [ 21,  22],\n",
       "         [ 22,  23],\n",
       "         [ 23,  24],\n",
       "         [ 24,  25],\n",
       "         [ 25,  26],\n",
       "         [ 26,  27],\n",
       "         [ 27,  28],\n",
       "         [ 28,  29],\n",
       "         [ 29,  30],\n",
       "         [ 30,  31],\n",
       "         [ 31,  32],\n",
       "         [ 32,  33],\n",
       "         [ 33,  34],\n",
       "         [ 34,  35],\n",
       "         [ 35,  36],\n",
       "         [ 36,  37],\n",
       "         [ 37,  38],\n",
       "         [ 38,  39],\n",
       "         [ 39,  40],\n",
       "         [ 40,  41],\n",
       "         [ 41,  42],\n",
       "         [ 42,  43],\n",
       "         [ 43,  44],\n",
       "         [ 44,  45],\n",
       "         [ 45,  46],\n",
       "         [ 46,  47],\n",
       "         [ 47,  48],\n",
       "         [ 48,  49],\n",
       "         [ 49,  50],\n",
       "         [ 50,  51],\n",
       "         [ 51,  52],\n",
       "         [ 52,  53],\n",
       "         [ 53,  54],\n",
       "         [ 54,  55],\n",
       "         [ 55,  56],\n",
       "         [ 56,  57],\n",
       "         [ 57,  58],\n",
       "         [ 58,  59],\n",
       "         [ 59,  60],\n",
       "         [ 60,  61],\n",
       "         [ 61,  62],\n",
       "         [ 62,  63],\n",
       "         [ 63,  64],\n",
       "         [ 64,  65],\n",
       "         [ 65,  66],\n",
       "         [ 66,  67],\n",
       "         [ 67,  68],\n",
       "         [ 68,  69],\n",
       "         [ 69,  70],\n",
       "         [ 70,  71],\n",
       "         [ 71,  72],\n",
       "         [ 72,  73],\n",
       "         [ 73,  74],\n",
       "         [ 74,  75],\n",
       "         [ 75,  76],\n",
       "         [ 76,  77],\n",
       "         [ 77,  78],\n",
       "         [ 78,  79],\n",
       "         [ 79,  80],\n",
       "         [ 80,  81],\n",
       "         [ 81,  82],\n",
       "         [ 82,  83],\n",
       "         [ 83,  84],\n",
       "         [ 84,  85],\n",
       "         [ 85,  86],\n",
       "         [ 86,  87],\n",
       "         [ 87,  88],\n",
       "         [ 88,  89],\n",
       "         [ 89,  90],\n",
       "         [ 90,  91],\n",
       "         [ 91,  92],\n",
       "         [ 92,  93],\n",
       "         [ 93,  94],\n",
       "         [ 94,  95],\n",
       "         [ 95,  96],\n",
       "         [ 96,  97],\n",
       "         [ 97,  98],\n",
       "         [ 98,  99],\n",
       "         [ 99, 100],\n",
       "         [100, 101],\n",
       "         [101, 102],\n",
       "         [102, 103],\n",
       "         [103, 104],\n",
       "         [104, 105],\n",
       "         [105, 106],\n",
       "         [106, 107],\n",
       "         [107, 108],\n",
       "         [108, 109],\n",
       "         [109, 110],\n",
       "         [110, 111],\n",
       "         [111, 112],\n",
       "         [112, 113],\n",
       "         [113, 114],\n",
       "         [114, 115],\n",
       "         [115, 116],\n",
       "         [116, 117],\n",
       "         [117, 118],\n",
       "         [118, 119],\n",
       "         [119, 120],\n",
       "         [120, 121],\n",
       "         [121, 122],\n",
       "         [122, 123],\n",
       "         [123, 124],\n",
       "         [124, 125],\n",
       "         [125, 126],\n",
       "         [126, 127],\n",
       "         [127, 128],\n",
       "         [128, 129],\n",
       "         [129, 130],\n",
       "         [130, 131],\n",
       "         [131, 132],\n",
       "         [132, 133],\n",
       "         [133, 134],\n",
       "         [134, 135],\n",
       "         [135, 136],\n",
       "         [136, 137],\n",
       "         [137, 138],\n",
       "         [138, 139],\n",
       "         [139, 140],\n",
       "         [140, 141],\n",
       "         [141, 142],\n",
       "         [142, 143],\n",
       "         [143, 144],\n",
       "         [144, 145],\n",
       "         [145, 146],\n",
       "         [146, 147],\n",
       "         [147, 148],\n",
       "         [148, 149],\n",
       "         [149, 150],\n",
       "         [150, 151],\n",
       "         [151, 152],\n",
       "         [152, 153],\n",
       "         [153, 154],\n",
       "         [154, 155],\n",
       "         [155, 156],\n",
       "         [156, 157],\n",
       "         [157, 158],\n",
       "         [158, 159],\n",
       "         [159, 160],\n",
       "         [160, 161],\n",
       "         [161, 162],\n",
       "         [162, 163],\n",
       "         [163, 164],\n",
       "         [164, 165],\n",
       "         [165, 166],\n",
       "         [166, 167],\n",
       "         [167, 168],\n",
       "         [168, 169],\n",
       "         [169, 170],\n",
       "         [170, 171],\n",
       "         [171, 172],\n",
       "         [172, 173],\n",
       "         [173, 174],\n",
       "         [174, 175],\n",
       "         [175, 176],\n",
       "         [176, 177],\n",
       "         [177, 178],\n",
       "         [178, 179],\n",
       "         [179, 180],\n",
       "         [180, 181],\n",
       "         [181, 182],\n",
       "         [182, 183],\n",
       "         [183, 184],\n",
       "         [184, 185],\n",
       "         [185, 186],\n",
       "         [186, 187],\n",
       "         [187, 188],\n",
       "         [188, 189],\n",
       "         [189, 190],\n",
       "         [190, 191],\n",
       "         [191, 192],\n",
       "         [192, 193],\n",
       "         [193, 194],\n",
       "         [194, 195],\n",
       "         [195, 196],\n",
       "         [196, 197],\n",
       "         [197, 198],\n",
       "         [198, 199],\n",
       "         [199, 200],\n",
       "         [200,   1]], dtype=uint64)]}"
      ]
     },
     "execution_count": 7,
     "metadata": {},
     "output_type": "execute_result"
    }
   ],
   "source": [
    "# The problem to be solved:\n",
    "# \n",
    "# \n",
    "Th.elements[1]\n"
   ]
  },
  {
   "cell_type": "code",
   "execution_count": 8,
   "metadata": {},
   "outputs": [
    {
     "data": {
      "text/plain": [
       "{'types': array([15], dtype=int32),\n",
       " 'tags': [array([1, 2], dtype=uint64)],\n",
       " 'indices': [array([[0],\n",
       "         [1]], dtype=uint64)]}"
      ]
     },
     "execution_count": 8,
     "metadata": {},
     "output_type": "execute_result"
    }
   ],
   "source": [
    "Th.elements[0]"
   ]
  },
  {
   "cell_type": "code",
   "execution_count": 9,
   "metadata": {},
   "outputs": [
    {
     "data": {
      "text/plain": [
       "< elm_help object: \n",
       " - Object allocation: -------------- Not allocated\n",
       "end elm_help object >"
      ]
     },
     "execution_count": 9,
     "metadata": {},
     "output_type": "execute_result"
    }
   ],
   "source": [
    "x = oti.elm_help()\n",
    "x"
   ]
  },
  {
   "cell_type": "code",
   "execution_count": 10,
   "metadata": {},
   "outputs": [],
   "source": [
    "elLine = fem.element[1]\n",
    "elLine.end()\n",
    "elLine.allocate(4)\n",
    "elLine.allocate_spatial(1,compute_Jinv = True)\n"
   ]
  },
  {
   "cell_type": "code",
   "execution_count": 11,
   "metadata": {},
   "outputs": [
    {
     "data": {
      "text/plain": [
       "dmatfe< nip: 4, \n",
       "(Integration point - 0) \n",
       "-------------------------\n",
       "[[0.93056816 0.06943184]]\n",
       "-------------------------\n",
       "(Integration point - 1) \n",
       "-------------------------\n",
       "[[0.06943184 0.93056816]]\n",
       "-------------------------\n",
       "(Integration point - 2) \n",
       "-------------------------\n",
       "[[0.66999052 0.33000948]]\n",
       "-------------------------\n",
       "(Integration point - 3) \n",
       "-------------------------\n",
       "[[0.33000948 0.66999052]]\n",
       "-------------------------\n",
       ">"
      ]
     },
     "execution_count": 11,
     "metadata": {},
     "output_type": "execute_result"
    }
   ],
   "source": [
    "elLine.N"
   ]
  },
  {
   "cell_type": "code",
   "execution_count": 12,
   "metadata": {},
   "outputs": [],
   "source": [
    "elLine.set_coordinates(Th.x,Th.y,Th.z,Th.elements[1]['indices'][0][199])"
   ]
  },
  {
   "cell_type": "code",
   "execution_count": 13,
   "metadata": {},
   "outputs": [],
   "source": [
    "elLine.compute_jacobian()"
   ]
  },
  {
   "cell_type": "code",
   "execution_count": 15,
   "metadata": {},
   "outputs": [
    {
     "data": {
      "text/plain": [
       "array([[-199.99833333,  200.00083333],\n",
       "       [ 200.00083333, -199.99833333]])"
      ]
     },
     "execution_count": 15,
     "metadata": {},
     "output_type": "execute_result"
    }
   ],
   "source": [
    "alg.gauss_integrate(-alg.dot(alg.transpose(elLine.Nx),elLine.Nx)+alg.dot(alg.transpose(elLine.N),elLine.N),elLine.dV)"
   ]
  },
  {
   "cell_type": "code",
   "execution_count": 16,
   "metadata": {},
   "outputs": [
    {
     "data": {
      "text/plain": [
       "array([200,   1], dtype=uint64)"
      ]
     },
     "execution_count": 16,
     "metadata": {},
     "output_type": "execute_result"
    }
   ],
   "source": [
    "Th.elements[1]['indices'][0][199]"
   ]
  },
  {
   "cell_type": "code",
   "execution_count": 18,
   "metadata": {},
   "outputs": [
    {
     "data": {
      "text/plain": [
       "0.004200574877454433"
      ]
     },
     "execution_count": 18,
     "metadata": {},
     "output_type": "execute_result"
    }
   ],
   "source": [
    "f = alg.sin(Th.x)\n",
    "fh = alg.zeros((2,1))\n",
    "fh[0,0] = f[200,0]\n",
    "fh[1,0] = f[1,0]\n",
    "\n",
    "f_eval = alg.dot_product(elLine.N,fh)\n",
    "\n",
    "\n",
    "alg.gauss_integrate(f_eval,elLine.dV).real"
   ]
  },
  {
   "cell_type": "code",
   "execution_count": 53,
   "metadata": {},
   "outputs": [
    {
     "data": {
      "text/plain": [
       "0.004200583628662935"
      ]
     },
     "execution_count": 53,
     "metadata": {},
     "output_type": "execute_result"
    }
   ],
   "source": [
    "-np.cos(1.0)+np.cos(1-0.005)"
   ]
  },
  {
   "cell_type": "code",
   "execution_count": 19,
   "metadata": {},
   "outputs": [
    {
     "data": {
      "text/plain": [
       "dnumfe< nip: 4, \n",
       "(0) 0.8389472666250167\n",
       "(1) 0.8412826843523152\n",
       "(2) 0.8396539580252034\n",
       "(3) 0.8405759929521288\n",
       ">"
      ]
     },
     "execution_count": 19,
     "metadata": {},
     "output_type": "execute_result"
    }
   ],
   "source": [
    "f_eval"
   ]
  },
  {
   "cell_type": "code",
   "execution_count": 22,
   "metadata": {},
   "outputs": [
    {
     "data": {
      "text/plain": [
       "1.249997396e-05"
      ]
     },
     "execution_count": 22,
     "metadata": {},
     "output_type": "execute_result"
    }
   ],
   "source": [
    "0.00001249997396"
   ]
  },
  {
   "cell_type": "code",
   "execution_count": 30,
   "metadata": {},
   "outputs": [
    {
     "data": {
      "text/plain": [
       "<(5, 5) sparse matrix of OTI numbers with \n",
       "         0 stored elements in LInked List format>"
      ]
     },
     "execution_count": 30,
     "metadata": {},
     "output_type": "execute_result"
    }
   ],
   "source": [
    "\n",
    "K"
   ]
  },
  {
   "cell_type": "code",
   "execution_count": 24,
   "metadata": {},
   "outputs": [],
   "source": [
    "#*****************************************************************************************************\n",
    "def solve_1d_problem(Th):\n",
    "    \n",
    "    els = Th.elements[1]\n",
    "\n",
    "    fem.end_elements()\n",
    "    \n",
    "    alg = fem.get_global_algebra()\n",
    "    K = alg.lil_matrix((Th.x.shape[0],Th.x.shape[0]))\n",
    "    f = alg.zeros((Th.x.shape[0],1))\n",
    "#     print(f)\n",
    "#     print(K)\n",
    "    #integrate 2D a fem array.\n",
    "    for j in range(els['types'].size):\n",
    "\n",
    "        elem = fem.element[ els['types'][j] ]\n",
    "\n",
    "        if not elem.is_allocated():\n",
    "\n",
    "            elem.end()\n",
    "            elem.allocate(intorder=2)\n",
    "            elem.allocate_spatial(1,compute_Jinv = True)\n",
    "\n",
    "            # Here the temporals shhould be created.\n",
    "            # - Elemental K\n",
    "#             Kel = oti.zeros( ( elem.nbasis, elem.nbasis ) )\n",
    "            # - Elemental f\n",
    "#             fel = oti.zeros( ( elem.nbasis, 1 ) )\n",
    "#             tmp1 = oti.zeros(nip=elem.nip)\n",
    "\n",
    "#             tmp2 = zero()\n",
    "\n",
    "        # end if \n",
    "\n",
    "        elm_nodes = els['indices'][j]\n",
    "\n",
    "        for i in range(elm_nodes.shape[0]):\n",
    "            \n",
    "#             Kel.set(0.0); fel.set(0.0)\n",
    "\n",
    "            elem.set_coordinates(Th.x,Th.y,Th.z,elm_nodes[i,:])\n",
    "            elem.compute_jacobian()\n",
    "\n",
    "            Nx = elem.Nx\n",
    "            N  = elem.N\n",
    "            \n",
    "            Kel = alg.gauss_integrate(-alg.dot(alg.transpose(Nx),Nx)+alg.dot(alg.transpose(N),N),elem.dV)\n",
    "            fel = 10*alg.gauss_integrate(alg.transpose(N),elem.dV)\n",
    "\n",
    "            assemble_globals(Kel,fel,K,f,elm_nodes[i,:])\n",
    "            \n",
    "            # integral = integral + gauss_integrate( dot_product( fh, elem.N), elem.w_dJ)\n",
    "\n",
    "            # integral = integral + oti.dot_product( fh, oti.gauss_integrate( element.N, element.w_dJ) )\n",
    "\n",
    "        # end for\n",
    "\n",
    "    # end for\n",
    "\n",
    "    fem.end_elements()   \n",
    "    \n",
    "    # Setting Dirichlet BCs using TGV.\n",
    "    TGV = 1e30\n",
    "\n",
    "    K[0,0] = TGV\n",
    "    f[0,0] = 1.0*TGV\n",
    "\n",
    "    K[1,1] = TGV\n",
    "    f[1,0] = 4.0*TGV\n",
    "    \n",
    "    u = alg.solve(K.tocsr(),f)\n",
    "\n",
    "    return u,K,f\n",
    "\n",
    "    #-----------------------------------------------------------------------------------------------------\n",
    "    \n",
    "def assemble_globals(Kel,fel,Kgl,fgl,elem):\n",
    "    \n",
    "    \n",
    "    for i in range(elem.size):\n",
    "        \n",
    "        ii=int(elem[i])\n",
    "        \n",
    "        for j in range(elem.size):\n",
    "\n",
    "            jj=int(elem[j])\n",
    "        \n",
    "            Kgl[ii,jj] = Kgl[ii,jj] + Kel[i,j]\n",
    "            \n",
    "        # end for \n",
    "        fgl[ii,0] = fgl[ii,0] + fel[i,0]\n",
    "        \n",
    "    # end for \n",
    "    "
   ]
  },
  {
   "cell_type": "code",
   "execution_count": 25,
   "metadata": {},
   "outputs": [
    {
     "name": "stdout",
     "output_type": "stream",
     "text": [
      "[[1.        ]\n",
      " [4.        ]\n",
      " [0.99335489]\n",
      " [0.98693495]\n",
      " [0.98074033]\n",
      " [0.97477119]\n",
      " [0.96902769]\n",
      " [0.96350995]\n",
      " [0.95821813]\n",
      " [0.95315235]\n",
      " [0.94831274]\n",
      " [0.94369943]\n",
      " [0.93931251]\n",
      " [0.93515212]\n",
      " [0.93121835]\n",
      " [0.92751129]\n",
      " [0.92403105]\n",
      " [0.9207777 ]\n",
      " [0.91775133]\n",
      " [0.91495202]\n",
      " [0.91237984]\n",
      " [0.91003484]\n",
      " [0.90791709]\n",
      " [0.90602664]\n",
      " [0.90436354]\n",
      " [0.90292784]\n",
      " [0.90171955]\n",
      " [0.90073873]\n",
      " [0.89998538]\n",
      " [0.89945953]\n",
      " [0.8991612 ]\n",
      " [0.89909038]\n",
      " [0.89924709]\n",
      " [0.89963132]\n",
      " [0.90024305]\n",
      " [0.90108228]\n",
      " [0.90214898]\n",
      " [0.90344312]\n",
      " [0.90496468]\n",
      " [0.90671361]\n",
      " [0.90868987]\n",
      " [0.91089342]\n",
      " [0.91332419]\n",
      " [0.91598213]\n",
      " [0.91886716]\n",
      " [0.92197923]\n",
      " [0.92531824]\n",
      " [0.92888412]\n",
      " [0.93267678]\n",
      " [0.93669612]\n",
      " [0.94094204]\n",
      " [0.94541443]\n",
      " [0.95011319]\n",
      " [0.9550382 ]\n",
      " [0.96018933]\n",
      " [0.96556645]\n",
      " [0.97116944]\n",
      " [0.97699814]\n",
      " [0.98305242]\n",
      " [0.98933212]\n",
      " [0.99583708]\n",
      " [1.00256715]\n",
      " [1.00952216]\n",
      " [1.01670192]\n",
      " [1.02410627]\n",
      " [1.03173501]\n",
      " [1.03958796]\n",
      " [1.04766492]\n",
      " [1.05596568]\n",
      " [1.06449005]\n",
      " [1.0732378 ]\n",
      " [1.08220872]\n",
      " [1.09140259]\n",
      " [1.10081916]\n",
      " [1.11045822]\n",
      " [1.12031952]\n",
      " [1.1304028 ]\n",
      " [1.14070782]\n",
      " [1.15123433]\n",
      " [1.16198205]\n",
      " [1.17295073]\n",
      " [1.18414008]\n",
      " [1.19554982]\n",
      " [1.20717968]\n",
      " [1.21902935]\n",
      " [1.23109855]\n",
      " [1.24338697]\n",
      " [1.2558943 ]\n",
      " [1.26862024]\n",
      " [1.28156446]\n",
      " [1.29472664]\n",
      " [1.30810645]\n",
      " [1.32170355]\n",
      " [1.33551762]\n",
      " [1.34954829]\n",
      " [1.36379522]\n",
      " [1.37825806]\n",
      " [1.39293644]\n",
      " [1.40783   ]\n",
      " [1.42293836]\n",
      " [1.43826115]\n",
      " [1.45379798]\n",
      " [1.46954846]\n",
      " [1.4855122 ]\n",
      " [1.50168881]\n",
      " [1.51807787]\n",
      " [1.53467898]\n",
      " [1.55149172]\n",
      " [1.56851567]\n",
      " [1.58575041]\n",
      " [1.6031955 ]\n",
      " [1.62085052]\n",
      " [1.63871501]\n",
      " [1.65678853]\n",
      " [1.67507063]\n",
      " [1.69356086]\n",
      " [1.71225874]\n",
      " [1.73116382]\n",
      " [1.75027562]\n",
      " [1.76959366]\n",
      " [1.78911745]\n",
      " [1.80884652]\n",
      " [1.82878037]\n",
      " [1.8489185 ]\n",
      " [1.8692604 ]\n",
      " [1.88980557]\n",
      " [1.9105535 ]\n",
      " [1.93150366]\n",
      " [1.95265553]\n",
      " [1.97400859]\n",
      " [1.99556229]\n",
      " [2.01731611]\n",
      " [2.03926949]\n",
      " [2.06142188]\n",
      " [2.08377275]\n",
      " [2.10632151]\n",
      " [2.12906762]\n",
      " [2.1520105 ]\n",
      " [2.17514958]\n",
      " [2.19848428]\n",
      " [2.22201401]\n",
      " [2.2457382 ]\n",
      " [2.26965624]\n",
      " [2.29376754]\n",
      " [2.31807149]\n",
      " [2.34256749]\n",
      " [2.36725493]\n",
      " [2.39213318]\n",
      " [2.41720163]\n",
      " [2.44245965]\n",
      " [2.46790661]\n",
      " [2.49354187]\n",
      " [2.51936479]\n",
      " [2.54537472]\n",
      " [2.57157102]\n",
      " [2.59795303]\n",
      " [2.62452009]\n",
      " [2.65127153]\n",
      " [2.6782067 ]\n",
      " [2.7053249 ]\n",
      " [2.73262548]\n",
      " [2.76010773]\n",
      " [2.78777099]\n",
      " [2.81561454]\n",
      " [2.84363771]\n",
      " [2.87183979]\n",
      " [2.90022007]\n",
      " [2.92877784]\n",
      " [2.95751239]\n",
      " [2.986423  ]\n",
      " [3.01550896]\n",
      " [3.04476952]\n",
      " [3.07420396]\n",
      " [3.10381155]\n",
      " [3.13359155]\n",
      " [3.1635432 ]\n",
      " [3.19366576]\n",
      " [3.22395848]\n",
      " [3.2544206 ]\n",
      " [3.28505136]\n",
      " [3.31584999]\n",
      " [3.34681573]\n",
      " [3.37794779]\n",
      " [3.40924541]\n",
      " [3.44070779]\n",
      " [3.47233415]\n",
      " [3.50412371]\n",
      " [3.53607566]\n",
      " [3.56818921]\n",
      " [3.60046355]\n",
      " [3.63289788]\n",
      " [3.66549139]\n",
      " [3.69824326]\n",
      " [3.73115268]\n",
      " [3.76421881]\n",
      " [3.79744084]\n",
      " [3.83081793]\n",
      " [3.86434925]\n",
      " [3.89803396]\n",
      " [3.93187122]\n",
      " [3.96586018]]\n"
     ]
    }
   ],
   "source": [
    "u,K,f = solve_1d_problem(Th)\n",
    "print(u)"
   ]
  },
  {
   "cell_type": "code",
   "execution_count": 26,
   "metadata": {},
   "outputs": [],
   "source": [
    "import pyvista as pv\n",
    "p = pv.BackgroundPlotter()\n",
    "\n",
    "grid = Th.to_pv(pd=[u.real],pd_names=['u'])\n",
    "\n",
    "p.clear()\n",
    "\n",
    "# p.add_mesh(grid, show_edges=False, line_width=2,grid = True,categories=16,cmap='jet')\n",
    "p.add_mesh(grid.warp_by_scalar(), show_edges=True, line_width=2,grid = True,cmap='jet',scalar_bar_args={'interactive':True})\n",
    "p.show_bounds()\n",
    "p.show_grid()"
   ]
  },
  {
   "cell_type": "code",
   "execution_count": 36,
   "metadata": {},
   "outputs": [
    {
     "data": {
      "text/plain": [
       "9.0000 + 3.0000 * e([1])"
      ]
     },
     "execution_count": 36,
     "metadata": {},
     "output_type": "execute_result"
    }
   ],
   "source": [
    "K[1,1] = K[1,1] + 3+oti.e(1)\n",
    "K[1,1]"
   ]
  },
  {
   "cell_type": "code",
   "execution_count": 38,
   "metadata": {},
   "outputs": [
    {
     "name": "stdout",
     "output_type": "stream",
     "text": [
      "(  1,  1) 9 + 3 * e([1])\n",
      "\n"
     ]
    }
   ],
   "source": [
    "print(K)"
   ]
  }
 ],
 "metadata": {
  "kernelspec": {
   "display_name": "Python 3",
   "language": "python",
   "name": "python3"
  },
  "language_info": {
   "codemirror_mode": {
    "name": "ipython",
    "version": 3
   },
   "file_extension": ".py",
   "mimetype": "text/x-python",
   "name": "python",
   "nbconvert_exporter": "python",
   "pygments_lexer": "ipython3",
   "version": "3.7.3"
  }
 },
 "nbformat": 4,
 "nbformat_minor": 2
}
