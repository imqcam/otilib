{
 "cells": [
  {
   "cell_type": "code",
   "execution_count": 1,
   "id": "8288508e",
   "metadata": {},
   "outputs": [],
   "source": [
    "import pyoti.sparse as oti\n"
   ]
  },
  {
   "cell_type": "code",
   "execution_count": 4,
   "id": "11493d84",
   "metadata": {},
   "outputs": [],
   "source": [
    "x = 1*oti.e(1,order = 3)"
   ]
  },
  {
   "cell_type": "code",
   "execution_count": 5,
   "id": "bf0b52d1",
   "metadata": {},
   "outputs": [
    {
     "data": {
      "text/plain": [
       "0.0000 + inf * e([1]) - inf * e([[1,2]]) + inf * e([[1,3]])"
      ]
     },
     "execution_count": 5,
     "metadata": {},
     "output_type": "execute_result"
    }
   ],
   "source": [
    "x**0.5"
   ]
  },
  {
   "cell_type": "code",
   "execution_count": null,
   "id": "4f509ee3",
   "metadata": {},
   "outputs": [],
   "source": []
  }
 ],
 "metadata": {
  "kernelspec": {
   "display_name": "pyoti",
   "language": "python",
   "name": "pyoti"
  },
  "language_info": {
   "codemirror_mode": {
    "name": "ipython",
    "version": 3
   },
   "file_extension": ".py",
   "mimetype": "text/x-python",
   "name": "python",
   "nbconvert_exporter": "python",
   "pygments_lexer": "ipython3",
   "version": "3.8.10"
  }
 },
 "nbformat": 4,
 "nbformat_minor": 5
}
