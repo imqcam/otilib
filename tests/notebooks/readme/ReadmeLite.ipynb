{
 "cells": [
  {
   "cell_type": "markdown",
   "metadata": {},
   "source": [
    "#  ```pyoti``` library Readme\n",
    "### Lite version\n",
    "# V 1.1\n",
    "```python\n",
    "\"\"\" \n",
    "Contributors to this file:\n",
    "Mauricio Aristizabal Cano\n",
    "\n",
    "Date of creation:  20 04 2016\n",
    "Last modification: 11 08 2022\n",
    "Universidad EAFIT, Medellin, Colombia.\n",
    "University of Texas at San Antonio\n",
    "\"\"\"\n",
    "```\n",
    "\n",
    "## 0. Introduction\n",
    "\n",
    "The main purpose of this document is to explain the capabilities of the sparse OTI library for python 3: ```pyoti``` . As a basis for the explanation, several examples will be given in order to show and understand the capabilities of the library, as well as its basic advantages.\n",
    "\n",
    "As a result, there will be several justifications based on an \"a priori\" utilisation of the library.\n",
    "\n",
    "\n",
    "## 1. Getting started\n",
    "In order to import the libary, one way of doing so is to call it with the following command:"
   ]
  },
  {
   "cell_type": "code",
   "execution_count": 1,
   "metadata": {
    "jupyter": {
     "outputs_hidden": false
    }
   },
   "outputs": [],
   "source": [
    "import pyoti.sparse as oti  # Import the library. 'oti' stands for 'Order Truncated Imaginary number'"
   ]
  },
  {
   "cell_type": "markdown",
   "metadata": {},
   "source": [
    "### 1.1 Basics\n",
    "#### 1.1.1 OTI number creation\n",
    "\n",
    "In order to create an OTI number, one manner to do so is as follows"
   ]
  },
  {
   "cell_type": "code",
   "execution_count": 2,
   "metadata": {
    "jupyter": {
     "outputs_hidden": false
    }
   },
   "outputs": [],
   "source": [
    "a = 10 + oti.e(1) + 5.2* oti.e([3,4]) + 3*oti.e([[2,3],4])"
   ]
  },
  {
   "cell_type": "markdown",
   "metadata": {},
   "source": [
    "The OTI number ```a``` has been created. This number represents the following:\n",
    "\n",
    "$$\n",
    "a = 10 + \\epsilon_1 + 5.2 \\ \\epsilon_3\\epsilon_4+3 \\ \\epsilon_2^3\\epsilon_4 \n",
    "$$\n",
    "\n",
    "therefore, the 'direction array' given as a parameter to the function ```dn.e(dirArray)``` correspond as follows:\n",
    "\n",
    "- ```oti.e(i)``` :$\\epsilon_i$ (notice it is just an  unsigned integer)\n",
    "\n",
    "- ```oti.e([i,j,k,l])``` : $\\epsilon_i\\epsilon_j\\epsilon_k\\epsilon_l$ (Notice it's a one level array, with $n$ elements)\n",
    "\n",
    "- ```oti.e([[i,m],j,[k,n],l])``` : $\\epsilon_i^m\\epsilon_j\\epsilon_k^n\\epsilon_l$ (Notice it has some positions where there are other arrays. Those arrays indicate the exponent of the number. Usually $m$, $n$ are greater than 1.)\n",
    "\n",
    "\n",
    "To visualize the number, it can be done in two ways:\n",
    "\n",
    "- A compact representation, which will show the constructor of the class:"
   ]
  },
  {
   "cell_type": "code",
   "execution_count": 5,
   "metadata": {
    "jupyter": {
     "outputs_hidden": false
    }
   },
   "outputs": [
    {
     "data": {
      "text/plain": [
       "10 + 1 * e([1]) + 5.2 * e([3,4]) + 3 * e([[2,3],4])"
      ]
     },
     "execution_count": 5,
     "metadata": {},
     "output_type": "execute_result"
    }
   ],
   "source": [
    "a"
   ]
  },
  {
   "cell_type": "markdown",
   "metadata": {},
   "source": [
    "- Using string conversion, or just the print command. This will show a human readable version of the number."
   ]
  },
  {
   "cell_type": "code",
   "execution_count": 6,
   "metadata": {
    "jupyter": {
     "outputs_hidden": false
    }
   },
   "outputs": [
    {
     "name": "stdout",
     "output_type": "stream",
     "text": [
      "10 + 1 * e([1]) + 5.2 * e([3,4]) + 3 * e([[2,3],4])\n"
     ]
    }
   ],
   "source": [
    "print(a)"
   ]
  },
  {
   "cell_type": "markdown",
   "metadata": {},
   "source": [
    "The number has been created with the maximum truncation order corresponding to the maximum order of the given term. To know the order of the number, just call the atribute 'order'"
   ]
  },
  {
   "cell_type": "code",
   "execution_count": 7,
   "metadata": {
    "jupyter": {
     "outputs_hidden": false
    }
   },
   "outputs": [
    {
     "name": "stdout",
     "output_type": "stream",
     "text": [
      "4\n"
     ]
    }
   ],
   "source": [
    "print(a.order)"
   ]
  },
  {
   "cell_type": "markdown",
   "metadata": {},
   "source": [
    "For more advanced users, there is a shorter representation of the number. To access it call the method ```short_repr()``` as indicated below. It shows only the real part. the total number of non-zero imaginary directions and the truncation order of the number."
   ]
  },
  {
   "cell_type": "code",
   "execution_count": 9,
   "metadata": {},
   "outputs": [
    {
     "name": "stdout",
     "output_type": "stream",
     "text": [
      "sotinum(10.0, nnz: 4, order: 4)\n"
     ]
    }
   ],
   "source": [
    "print(a.short_repr())"
   ]
  },
  {
   "cell_type": "markdown",
   "metadata": {},
   "source": [
    "#### 1.1.2 Display options\n",
    "Each OTI number is displayed with a maximum of 4 imaginary directions and with format \"%g\". \n",
    "\n",
    "The current version of the library supports changing the representation using the ```set_printoptions``` function as follows:\n",
    "\n",
    "```\n",
    "oti.set_printoptions(float_format=\"g\",terms_print=4)\n",
    "```\n",
    "- ```float_format:``` sets the format to print the coefficients in the OTI number.\n",
    "- ```terms_print:``` sets the number of terms to print from an OTI number."
   ]
  },
  {
   "cell_type": "code",
   "execution_count": 22,
   "metadata": {},
   "outputs": [
    {
     "name": "stdout",
     "output_type": "stream",
     "text": [
      "Help on built-in function set_printoptions in module pyoti.sparse:\n",
      "\n",
      "set_printoptions(...)\n",
      "    PURPOSE:   Set the print options for OTI numbers.\n",
      "    \n",
      "    INPUTS:\n",
      "        - float_format: (Default \"g\") Define the print format for t\n",
      "        - terms_print: Number of terms to print\n",
      "\n"
     ]
    }
   ],
   "source": [
    "help(oti.set_printoptions)"
   ]
  },
  {
   "cell_type": "markdown",
   "metadata": {},
   "source": [
    "### 1.2 Math\n",
    "\n",
    "In ```pyoti```, OTI numbers have overloaded operators so that operations work as similar as other scalar types in Python, like ```float``` or ```int```. The followign provides a summary of operations supported in ```pyoti```:\n",
    "\n",
    "| Operation | Symbol | \n",
    "|---:|:---:|\n",
    "| Addition | ```a+b``` |\n",
    "| Subtraction | ```a-b``` |\n",
    "| Multiplication | ```a*b``` |\n",
    "| Division | ```a/b``` |\n",
    "| Power | ```a**b``` |\n",
    "| Subtraction | ```-``` |\n",
    "\n",
    "\n",
    "#### 1.2.1. Arithmetic operations\n",
    "\n",
    "--> **Addition**\n",
    "\n",
    "To add two OTIs simply use the ```+``` operator:"
   ]
  },
  {
   "cell_type": "code",
   "execution_count": 16,
   "metadata": {
    "jupyter": {
     "outputs_hidden": false
    }
   },
   "outputs": [
    {
     "name": "stdout",
     "output_type": "stream",
     "text": [
      "The result is: 20 + 3.5 * e([1]) + 0 * e([3,4]) + 3 * e([[2,3],4])\n",
      "With truncation order: 4\n"
     ]
    }
   ],
   "source": [
    "a = 10.0 +     oti.e([1]) + 3.0*oti.e([[2,3],4]) + 5.2*oti.e([3,4]) \n",
    "b = 10.0 + 2.5*oti.e([1])                        - 5.2*oti.e([3,4])\n",
    "\n",
    "sum_result = a+b\n",
    "print('The result is:', sum_result)\n",
    "print(\"With truncation order:\", sum_result.order)"
   ]
  },
  {
   "cell_type": "markdown",
   "metadata": {},
   "source": [
    "Notice that the result has order 4, despite adding two numbers with different orders ($O($ ```a``` $) = 4$, $O($ ```b``` $) = 2$). **Addition preserves the maximum truncation order**."
   ]
  },
  {
   "cell_type": "markdown",
   "metadata": {},
   "source": [
    "--> **Multiplication**\n",
    "\n",
    "In order to Multiply two OTI numbers in the library, just use the ```*``` operator:"
   ]
  },
  {
   "cell_type": "code",
   "execution_count": 17,
   "metadata": {
    "jupyter": {
     "outputs_hidden": false
    }
   },
   "outputs": [
    {
     "name": "stdout",
     "output_type": "stream",
     "text": [
      "The result of a*b: 100 + 35 * e([1]) + 2.5 * e([[1,2]]) + 0 * e([3,4]) + ... \n",
      "Order of a*b:      4\n"
     ]
    }
   ],
   "source": [
    "mult_result = a*b\n",
    "print(\"The result of a*b:\",mult_result)\n",
    "print(\"Order of a*b:     \",mult_result.order)"
   ]
  },
  {
   "cell_type": "markdown",
   "metadata": {},
   "source": [
    "Notice that the order of the result is 4. Therefore, for the multiplication, the **maximum truncation order** is preserved.\n",
    "\n"
   ]
  },
  {
   "cell_type": "markdown",
   "metadata": {},
   "source": [
    "--> **Subtraction**\n",
    "\n",
    "To subtract two OTI numbers, use ```-``` operator:"
   ]
  },
  {
   "cell_type": "code",
   "execution_count": 18,
   "metadata": {
    "jupyter": {
     "outputs_hidden": false
    }
   },
   "outputs": [
    {
     "name": "stdout",
     "output_type": "stream",
     "text": [
      "The result of a-b:  - 1.5 * e([1]) + 10.4 * e([3,4]) + 3 * e([[2,3],4])\n",
      "Order of a-b:      4\n"
     ]
    }
   ],
   "source": [
    "sub_result = a-b\n",
    "\n",
    "print(\"The result of a-b:\",sub_result)\n",
    "print(\"Order of a-b:     \",sub_result.order)"
   ]
  },
  {
   "cell_type": "markdown",
   "metadata": {},
   "source": [
    "--> **Division**\n",
    "\n",
    "Division between two OTIs is performed as follows:"
   ]
  },
  {
   "cell_type": "code",
   "execution_count": 23,
   "metadata": {},
   "outputs": [
    {
     "name": "stdout",
     "output_type": "stream",
     "text": [
      "The result of a/b: 1 - 0.15 * e([1]) + 0.0375 * e([[1,2]]) + 1.04 * e([3,4]) + ... \n",
      "Order of a/b:      4\n"
     ]
    }
   ],
   "source": [
    "div_result = a/b\n",
    "print(\"The result of a/b:\",div_result)\n",
    "print(\"Order of a/b:     \",div_result.order)"
   ]
  },
  {
   "cell_type": "markdown",
   "metadata": {},
   "source": [
    "### 1.3 Get and set coefficients of a HOMDN number.\n",
    "\n",
    "\n",
    "#### 1.3.1 Get coefficients of a HOMDN number.\n",
    "\n",
    "To get a coefficient, just invoque the method '```getDual(dirArray)```' and place the direction array coefficient you want.\n"
   ]
  },
  {
   "cell_type": "code",
   "execution_count": 24,
   "metadata": {
    "jupyter": {
     "outputs_hidden": false
    }
   },
   "outputs": [
    {
     "name": "stdout",
     "output_type": "stream",
     "text": [
      "10 + 1 * e([1]) + 5.2 * e([3,4]) + 3 * e([[2,3],4])\n"
     ]
    }
   ],
   "source": [
    "a = 10.0 + oti.e([1]) + 3.0*oti.e([[2,3],4]) + 5.2*oti.e([3,4]) \n",
    "print(a)"
   ]
  },
  {
   "cell_type": "markdown",
   "metadata": {},
   "source": [
    "To get the coefficient of the direction $\\epsilon_1$ use:"
   ]
  },
  {
   "cell_type": "code",
   "execution_count": 25,
   "metadata": {
    "jupyter": {
     "outputs_hidden": false
    }
   },
   "outputs": [
    {
     "name": "stdout",
     "output_type": "stream",
     "text": [
      "1.0\n"
     ]
    }
   ],
   "source": [
    "print(a.get_im(1))"
   ]
  },
  {
   "cell_type": "markdown",
   "metadata": {},
   "source": [
    "or"
   ]
  },
  {
   "cell_type": "code",
   "execution_count": 26,
   "metadata": {
    "jupyter": {
     "outputs_hidden": false
    }
   },
   "outputs": [
    {
     "name": "stdout",
     "output_type": "stream",
     "text": [
      "1.0\n"
     ]
    }
   ],
   "source": [
    "print(a.get_im([1]))"
   ]
  },
  {
   "cell_type": "markdown",
   "metadata": {},
   "source": [
    "To get the coefficient of $\\epsilon_2^3\\epsilon_4$ use:"
   ]
  },
  {
   "cell_type": "code",
   "execution_count": 27,
   "metadata": {
    "jupyter": {
     "outputs_hidden": false
    }
   },
   "outputs": [
    {
     "name": "stdout",
     "output_type": "stream",
     "text": [
      "3.0\n"
     ]
    }
   ],
   "source": [
    "print(a.get_im([[2,3],4]))"
   ]
  },
  {
   "cell_type": "markdown",
   "metadata": {},
   "source": [
    "or"
   ]
  },
  {
   "cell_type": "code",
   "execution_count": 28,
   "metadata": {},
   "outputs": [
    {
     "name": "stdout",
     "output_type": "stream",
     "text": [
      "3.0\n"
     ]
    }
   ],
   "source": [
    "print(a.get_im([2,2,2,4]))"
   ]
  },
  {
   "cell_type": "markdown",
   "metadata": {},
   "source": [
    "Coefficients that are not contained within the number will return zero. For example, the coefficient along direction $\\epsilon_1\\epsilon_2^2$ is:"
   ]
  },
  {
   "cell_type": "code",
   "execution_count": 30,
   "metadata": {
    "jupyter": {
     "outputs_hidden": false
    }
   },
   "outputs": [
    {
     "name": "stdout",
     "output_type": "stream",
     "text": [
      "0.0\n"
     ]
    }
   ],
   "source": [
    "print(a.get_im([1,[2,2]]))"
   ]
  },
  {
   "cell_type": "markdown",
   "metadata": {},
   "source": [
    "There are two ways to get the real coefficient: Get the real "
   ]
  },
  {
   "cell_type": "code",
   "execution_count": 31,
   "metadata": {
    "jupyter": {
     "outputs_hidden": false
    }
   },
   "outputs": [
    {
     "name": "stdout",
     "output_type": "stream",
     "text": [
      "10.0\n"
     ]
    }
   ],
   "source": [
    "print(a.get_im(0))"
   ]
  },
  {
   "cell_type": "code",
   "execution_count": 33,
   "metadata": {},
   "outputs": [
    {
     "data": {
      "text/plain": [
       "10.0"
      ]
     },
     "execution_count": 33,
     "metadata": {},
     "output_type": "execute_result"
    }
   ],
   "source": [
    "a.real"
   ]
  },
  {
   "cell_type": "markdown",
   "metadata": {},
   "source": [
    "#### 1.3.2 Set coefficients of a HOMDN number \n",
    "\n",
    "Similar to the methods of getting coefficients, setting the values of coefficients works in the same way. If the coefficient already exist, it will be modified, and if the coefficient does not exist, it will be created. Use the method '```setDual(dirArray,newValue)```' to do so.\n"
   ]
  },
  {
   "cell_type": "code",
   "execution_count": 16,
   "metadata": {
    "jupyter": {
     "outputs_hidden": false
    }
   },
   "outputs": [
    {
     "name": "stdout",
     "output_type": "stream",
     "text": [
      "10.0 + 1.0 * e([1]) + 3.0 * e([[2,3],4]) + 5.2 * e([3,4]) \n"
     ]
    }
   ],
   "source": [
    "a = 10.0 + dn.e([1]) + 3.0*dn.e([[2,3],4]) + 5.2*dn.e([3,4]) \n",
    "print(a)"
   ]
  },
  {
   "cell_type": "code",
   "execution_count": 17,
   "metadata": {
    "jupyter": {
     "outputs_hidden": false
    }
   },
   "outputs": [
    {
     "name": "stdout",
     "output_type": "stream",
     "text": [
      "10.0 + 1.0 * e([1]) + 3.0 * e([[2,3],4]) + 7.3 * e([3,4]) \n"
     ]
    }
   ],
   "source": [
    "a.setDual([3,4],7.3)\n",
    "print(a)"
   ]
  },
  {
   "cell_type": "code",
   "execution_count": 18,
   "metadata": {
    "jupyter": {
     "outputs_hidden": false
    }
   },
   "outputs": [
    {
     "name": "stdout",
     "output_type": "stream",
     "text": [
      "10.0 + 1.0 * e([1]) + 4.2 * e([1,[1,2]]) + 3.0 * e([[2,3],4]) + 7.3 * e([3,4]) \n"
     ]
    }
   ],
   "source": [
    "a.setDual([1,[1,2]],4.2)\n",
    "print(a)"
   ]
  },
  {
   "cell_type": "markdown",
   "metadata": {},
   "source": [
    "### 1.4 Conjugate\n",
    "\n",
    "The conjugate of a dual number works just as the conjugate of a complex number. The idea is that given a dual number ```a```, the goal is to obtain a dual number ```b``` such that when multiplyed by ```a``` the result is a real number (hopefully different than zero)."
   ]
  },
  {
   "cell_type": "code",
   "execution_count": 19,
   "metadata": {
    "jupyter": {
     "outputs_hidden": false
    }
   },
   "outputs": [
    {
     "name": "stdout",
     "output_type": "stream",
     "text": [
      "0.5 + 1.0 * e([1]) + 3.0 * e([[2,3],4]) + 5.2 * e([3,4]) \n"
     ]
    }
   ],
   "source": [
    "a = 0.5 + dn.e([1]) + 3.0*dn.e([[2,3],4]) + 5.2*dn.e([3,4]) \n",
    "print(a)"
   ]
  },
  {
   "cell_type": "markdown",
   "metadata": {},
   "source": [
    "In order to get the conjugate number, use the method ```conj()```, which returns the conjugate of the number (without modifying the original number:"
   ]
  },
  {
   "cell_type": "code",
   "execution_count": 20,
   "metadata": {
    "jupyter": {
     "outputs_hidden": false
    }
   },
   "outputs": [
    {
     "name": "stdout",
     "output_type": "stream",
     "text": [
      "1.0 - 2.0 * e([1]) + 4.0 * e([[1,2]]) - 8.0 * e([[1,3]]) + 16.0 * e([[1,4]]) - 6.0 * e([[2,3],4]) - 10.4 * e([3,4]) + 41.6 * e([1,3,4]) - 124.8 * e([[1,2],3,4]) + 108.16 * e([[3,2],[4,2]]) \n"
     ]
    }
   ],
   "source": [
    "conj_a = a.conj()\n",
    "print(conj_a)"
   ]
  },
  {
   "cell_type": "markdown",
   "metadata": {},
   "source": [
    "In order to corroborate the results, then"
   ]
  },
  {
   "cell_type": "code",
   "execution_count": 21,
   "metadata": {
    "jupyter": {
     "outputs_hidden": false
    }
   },
   "outputs": [
    {
     "name": "stdout",
     "output_type": "stream",
     "text": [
      "0.5 + 2.48689957516e-14 * e([[1,2],3,4]) \n"
     ]
    }
   ],
   "source": [
    "mult_result_conjmult = a*conj_a\n",
    "print(mult_result_conjmult)"
   ]
  },
  {
   "cell_type": "code",
   "execution_count": 22,
   "metadata": {
    "jupyter": {
     "outputs_hidden": false
    }
   },
   "outputs": [
    {
     "name": "stdout",
     "output_type": "stream",
     "text": [
      "- 1.0 * e([[2,2]]) \n"
     ]
    }
   ],
   "source": [
    "b=dn.e([2,2]) \n",
    "# Compute the conjugate of the number.\n",
    "conj_b=b.conj()\n",
    "print(conj_b)"
   ]
  },
  {
   "cell_type": "code",
   "execution_count": 23,
   "metadata": {
    "jupyter": {
     "outputs_hidden": false
    }
   },
   "outputs": [
    {
     "name": "stdout",
     "output_type": "stream",
     "text": [
      "0.0\n"
     ]
    }
   ],
   "source": [
    "print(b*conj_b)"
   ]
  },
  {
   "cell_type": "markdown",
   "metadata": {},
   "source": [
    "# 2. Matrix form of HOMDN\n",
    "\n",
    "HOMDN can be manipulated using matrix algebra. This gives an advantage when dealing with the numbers when dealing woth problems that should be solved using matrices (like linear systems of equations).\n",
    "\n",
    "## 2.1 Convert to Vector form.\n",
    "In order to convert to vector form, use the method '```toVector()```'."
   ]
  },
  {
   "cell_type": "code",
   "execution_count": 86,
   "metadata": {
    "jupyter": {
     "outputs_hidden": false
    }
   },
   "outputs": [
    {
     "name": "stdout",
     "output_type": "stream",
     "text": [
      "0.5 + 1.0 * e([1]) + 3.0 * e([[2,3],4]) + 5.2 * e([3,4]) + 1.0 * e([10000]) \n",
      "\n",
      "2 3\n",
      "3 6\n",
      "4 10\n",
      "5 15\n",
      "6 21\n",
      "7 28\n",
      "8 36\n",
      "9 45\n",
      "10 55\n",
      "11 66\n",
      "12 78\n",
      "13 91\n",
      "14 105\n",
      "\n"
     ]
    },
    {
     "data": {
      "text/plain": [
       "5001.0"
      ]
     },
     "execution_count": 86,
     "metadata": {},
     "output_type": "execute_result"
    }
   ],
   "source": [
    "a = 0.5 + dn.e([1]) + 3.0*dn.e([[2,3],4]) + 5.2*dn.e([3,4]) +dn.e(10000)\n",
    "print(a)\n",
    "\n",
    "print()\n",
    "res = 1\n",
    "order =13\n",
    "\n",
    "nvar = 2\n",
    "for i in range(order):\n",
    "  #diff = -dn.findComb(nvar,i+1)\n",
    "  res += dn.findComb(nvar,i+1)\n",
    "  print(dn.findComb(nvar,i+1),res)\n",
    "  \n",
    "  \n",
    "print()\n",
    "res\n"
   ]
  },
  {
   "cell_type": "code",
   "execution_count": 51,
   "metadata": {
    "jupyter": {
     "outputs_hidden": false
    }
   },
   "outputs": [
    {
     "ename": "KeyboardInterrupt",
     "evalue": "",
     "output_type": "error",
     "traceback": [
      "\u001b[1;31m---------------------------------------------------------------------------\u001b[0m",
      "\u001b[1;31mKeyboardInterrupt\u001b[0m                         Traceback (most recent call last)",
      "\u001b[1;32m<ipython-input-51-bcb8a763e9a2>\u001b[0m in \u001b[0;36m<module>\u001b[1;34m()\u001b[0m\n\u001b[0;32m      1\u001b[0m \u001b[0ma\u001b[0m\u001b[1;33m.\u001b[0m\u001b[0mchangeOrder\u001b[0m\u001b[1;33m(\u001b[0m\u001b[1;36m2\u001b[0m\u001b[1;33m)\u001b[0m\u001b[1;33m\u001b[0m\u001b[0m\n\u001b[1;32m----> 2\u001b[1;33m \u001b[0mdn\u001b[0m\u001b[1;33m.\u001b[0m\u001b[0mnp\u001b[0m\u001b[1;33m.\u001b[0m\u001b[0mshape\u001b[0m\u001b[1;33m(\u001b[0m\u001b[1;33m(\u001b[0m\u001b[0ma\u001b[0m\u001b[1;33m.\u001b[0m\u001b[0mtoMatrix\u001b[0m\u001b[1;33m(\u001b[0m\u001b[0misspr\u001b[0m \u001b[1;33m=\u001b[0m \u001b[1;36m1\u001b[0m\u001b[1;33m)\u001b[0m\u001b[1;33m)\u001b[0m\u001b[1;33m)\u001b[0m\u001b[1;33m\u001b[0m\u001b[0m\n\u001b[0m",
      "\u001b[1;32m/home/maristi7/Dropbox/EAFIT/PHD/Thesis-MAC/DUAL/spr_duallib/spr_duallib.py\u001b[0m in \u001b[0;36mtoMatrix\u001b[1;34m(self, ismat, isshape, isspr)\u001b[0m\n\u001b[0;32m   1756\u001b[0m   \u001b[1;31m#************************************************************************\u001b[0m\u001b[1;33m\u001b[0m\u001b[1;33m\u001b[0m\u001b[0m\n\u001b[0;32m   1757\u001b[0m \u001b[1;33m\u001b[0m\u001b[0m\n\u001b[1;32m-> 1758\u001b[1;33m     \u001b[1;32mreturn\u001b[0m \u001b[0mself\u001b[0m\u001b[1;33m.\u001b[0m\u001b[0mexpand\u001b[0m\u001b[1;33m(\u001b[0m\u001b[0mismat\u001b[0m \u001b[1;33m=\u001b[0m \u001b[0mismat\u001b[0m\u001b[1;33m,\u001b[0m \u001b[0misshape\u001b[0m \u001b[1;33m=\u001b[0m \u001b[0misshape\u001b[0m\u001b[1;33m,\u001b[0m \u001b[0misspr\u001b[0m \u001b[1;33m=\u001b[0m \u001b[0misspr\u001b[0m\u001b[1;33m)\u001b[0m\u001b[1;33m\u001b[0m\u001b[0m\n\u001b[0m\u001b[0;32m   1759\u001b[0m   \u001b[1;31m#------------------------------------------------------------------------\u001b[0m\u001b[1;33m\u001b[0m\u001b[1;33m\u001b[0m\u001b[0m\n\u001b[0;32m   1760\u001b[0m \u001b[1;33m\u001b[0m\u001b[0m\n",
      "\u001b[1;32m/home/maristi7/Dropbox/EAFIT/PHD/Thesis-MAC/DUAL/spr_duallib/spr_duallib.py\u001b[0m in \u001b[0;36mexpand\u001b[1;34m(self, ismat, isshape, isspr)\u001b[0m\n\u001b[0;32m   1846\u001b[0m         \u001b[1;32mfor\u001b[0m \u001b[0mi\u001b[0m \u001b[1;32min\u001b[0m \u001b[0mrange\u001b[0m\u001b[1;33m(\u001b[0m\u001b[1;36m0\u001b[0m\u001b[1;33m,\u001b[0m\u001b[0mfinalshape\u001b[0m\u001b[1;33m)\u001b[0m\u001b[1;33m:\u001b[0m\u001b[1;33m\u001b[0m\u001b[0m\n\u001b[0;32m   1847\u001b[0m \u001b[1;33m\u001b[0m\u001b[0m\n\u001b[1;32m-> 1848\u001b[1;33m           \u001b[0mmat\u001b[0m\u001b[1;33m[\u001b[0m\u001b[0mi\u001b[0m\u001b[1;33m,\u001b[0m\u001b[0mi\u001b[0m\u001b[1;33m]\u001b[0m \u001b[1;33m=\u001b[0m \u001b[0mdatum\u001b[0m\u001b[1;33m\u001b[0m\u001b[0m\n\u001b[0m\u001b[0;32m   1849\u001b[0m \u001b[1;33m\u001b[0m\u001b[0m\n\u001b[0;32m   1850\u001b[0m         \u001b[1;31m# end for\u001b[0m\u001b[1;33m\u001b[0m\u001b[1;33m\u001b[0m\u001b[0m\n",
      "\u001b[1;32m/usr/lib64/python3.4/site-packages/scipy/sparse/lil.py\u001b[0m in \u001b[0;36m__setitem__\u001b[1;34m(self, index, x)\u001b[0m\n\u001b[0;32m    280\u001b[0m                     \u001b[1;32mraise\u001b[0m \u001b[0mValueError\u001b[0m\u001b[1;33m(\u001b[0m\u001b[1;34m\"Trying to assign a sequence to an item\"\u001b[0m\u001b[1;33m)\u001b[0m\u001b[1;33m\u001b[0m\u001b[0m\n\u001b[0;32m    281\u001b[0m                 _csparsetools.lil_insert(self.shape[0], self.shape[1],\n\u001b[1;32m--> 282\u001b[1;33m                                          self.rows, self.data, i, j, x)\n\u001b[0m\u001b[0;32m    283\u001b[0m                 \u001b[1;32mreturn\u001b[0m\u001b[1;33m\u001b[0m\u001b[0m\n\u001b[0;32m    284\u001b[0m \u001b[1;33m\u001b[0m\u001b[0m\n",
      "\u001b[1;31mKeyboardInterrupt\u001b[0m: "
     ]
    }
   ],
   "source": [
    "a.changeOrder(2)\n",
    "dn.np.shape((a.toMatrix(isspr = 1)))"
   ]
  },
  {
   "cell_type": "markdown",
   "metadata": {},
   "source": [
    "## 2.2 convert to Matrix form.\n",
    "In order to convert a dual number to a matrix, use the method '```toMatrix()```'."
   ]
  },
  {
   "cell_type": "code",
   "execution_count": null,
   "metadata": {
    "collapsed": true,
    "jupyter": {
     "outputs_hidden": true
    }
   },
   "outputs": [],
   "source": []
  },
  {
   "cell_type": "markdown",
   "metadata": {},
   "source": [
    "## 3. Applications\n",
    "\n",
    "In general, dual numbers have most applications into finding derivatives of functions in an exact way. In this sense let's see some applications, different approaches to get the results and some comparisons with other methods such as multicomplex numbers.\n",
    "\n",
    "### 3.1 Derivatives of polynomials\n",
    "Dual numbers in general can be used to find derivatives of functions (whichever they are). The most strightforward way to use them is into polynomials.\n",
    "\n",
    "#### 3.1.1 Single variable functions\n",
    "\n",
    "Consider a $C^n$ function $f: \\mathbb{R} \\rightarrow \\mathbb{R}$. Taking into account the Taylor series expansion of any function\n",
    "\n",
    "$$\n",
    "f(z) = \\sum_{k=0}^{\\infty}    \\frac{f^k(a)}{k!}(z-a)^k\n",
    "$$\n",
    "\n",
    "Let´s take $z=x_0+\\epsilon_1$ and $a=x_0$. Then what we get is the following:\n",
    "\n",
    "$$\n",
    "f(x_0+\\epsilon) = f(x_0) + f_x(x_0)\\epsilon_1 +\n",
    "\\frac{f_{xx}(x_0)}{2!}{\\epsilon_1^2} +\n",
    "\\frac{f_{xxx}(x_0)}{3!}{\\epsilon_1^3} + \n",
    "\\frac{f_{xxxx}(x_0)}{4!}{\\epsilon_1^4} + ...\n",
    "$$\n",
    "\n",
    "Notice that we get at each $i$'th order direction the $i$'th order derivative evaluated at $a=x_0$. \n",
    "\n",
    "To apply this in a real example let's consider the following function:\n",
    "\n",
    "$$\n",
    "f(x)= 10x^5-3x^3+2x-10\n",
    "$$"
   ]
  },
  {
   "cell_type": "code",
   "execution_count": null,
   "metadata": {
    "collapsed": true,
    "jupyter": {
     "outputs_hidden": true
    }
   },
   "outputs": [],
   "source": [
    "def funct_1(x):\n",
    "    return 10.0*x**5 -3.0*x**3+2.0*x-10.0"
   ]
  },
  {
   "cell_type": "markdown",
   "metadata": {},
   "source": [
    "The analytical defivatives of the funciton are:\n",
    "$$\n",
    "f_{x}(x)= 50x^4-9x^2+2, \\\\ \n",
    "f_{xx}(x)= 200x^3-18x,  \\\\ \n",
    "f_{xxx}(x)= 600x^2-18, \\\\ \n",
    "f_{xxxx}(x)= 1200x, \\\\ \n",
    "f_{xxxxx}(x)= 1200,\n",
    "$$\n",
    "\n",
    "If we consider an $x_0=2.5$, then each derivative we obtain becomes:\n",
    "$$\n",
    "f(2.5) = 924.6875 \\\\\n",
    "f_{x}(2.5)= 1898.875, \\\\ \n",
    "f_{xx}(2.5)= 3080,  \\\\ \n",
    "f_{xxx}(2.5)= 3732, \\\\ \n",
    "f_{xxxx}(2.5)= 3000, \\\\ \n",
    "f_{xxxxx}(2.5)= 1200,\n",
    "$$\n",
    "\n",
    "Let's now apply the taylor series expansion to the number. Therefore let's define $x_e = 2.5+\\epsilon_1$. Since we want to obtain higher order terms, we need to redefine the order of the number. Therefore we will redefine it to order 5 (because we want to get  up to the fifth derivative)."
   ]
  },
  {
   "cell_type": "code",
   "execution_count": null,
   "metadata": {
    "jupyter": {
     "outputs_hidden": false
    }
   },
   "outputs": [],
   "source": [
    "x_e=2.5+e([1])\n",
    "x_e.changeOrder(5)\n",
    "print(x_e)\n",
    "x_e"
   ]
  },
  {
   "cell_type": "markdown",
   "metadata": {},
   "source": [
    "Now let's evaluate the function in $x_e$"
   ]
  },
  {
   "cell_type": "code",
   "execution_count": null,
   "metadata": {
    "jupyter": {
     "outputs_hidden": false
    }
   },
   "outputs": [],
   "source": [
    "result_1=funct_1(x_e)\n",
    "print(result_1)\n",
    "result_1"
   ]
  },
  {
   "cell_type": "markdown",
   "metadata": {},
   "source": [
    "We see that the first two values correspond to the function and first derivative evaluated at $2.5$, but let's see what happens with the numbers. In order to retreive the values of the other derivatives, the solution must take into account the following:\n",
    "\n",
    "if our number results in something like\n",
    "$$\n",
    "\\mbox{result} = a_0 + a_1\\epsilon_1 + a_2\\epsilon_1^2 + a_3\\epsilon_1^3 + a_4\\epsilon_1^4+... \n",
    "$$\n",
    "\n",
    "and considering that \n",
    "$$\n",
    "f(x_0+\\epsilon) = f(x_0) + f_x(x_0)\\epsilon_1 +\n",
    "\\frac{f_{xx}(x_0)}{2!}{\\epsilon_1^2} +\n",
    "\\frac{f_{xxx}(x_0)}{3!}{\\epsilon_1^3} + \n",
    "\\frac{f_{xxxx}(x_0)}{4!}{\\epsilon_1^4} + ...\n",
    "$$\n",
    "\n",
    "then to retreive the functions, we most do the following:\n",
    "$$\n",
    "f(x_0) = a_0 \\\\\n",
    "f_x(x_0) = a_1 \\\\\n",
    "f_{xx}(x_0)=a_2*2! \\\\\n",
    "f_{xxx}(x_0)=a_3*3! \\\\ \n",
    "f_{xxxx}(x_0)=a_4*4! \\\\ \n",
    "\\mbox{and so on...}\n",
    "$$\n",
    "\n",
    "As a result, in order to evaluate the result, consider the following:"
   ]
  },
  {
   "cell_type": "code",
   "execution_count": null,
   "metadata": {
    "jupyter": {
     "outputs_hidden": false
    }
   },
   "outputs": [],
   "source": [
    "f=result_1.getDual([0])\n",
    "\n",
    "f_x=result_1.getDual([1])\n",
    "\n",
    "f_xx=result_1.getDual([[1,2]]) * 2*1\n",
    "\n",
    "f_xxx=result_1.getDual([[1,3]]) * 3*2*1\n",
    "\n",
    "f_xxxx=result_1.getDual([[1,4]]) * 4*3*2*1\n",
    "\n",
    "f_xxxxx=result_1.getDual([[1,5]]) * 5*4*3*2*1\n",
    "\n",
    "# Print results:\n",
    "\n",
    "print(\"f:\")\n",
    "print(f)\n",
    "\n",
    "print(\"\\nf_x:\")\n",
    "print(f_x)\n",
    "\n",
    "print(\"\\nf_xx:\")\n",
    "print(f_xx)\n",
    "\n",
    "print(\"\\nf_xxx:\")\n",
    "print(f_xxx)\n",
    "\n",
    "print(\"\\nf_xxxx:\")\n",
    "print(f_xxxx)\n",
    "\n",
    "print(\"\\nf_xxxxx:\")\n",
    "print(f_xxxxx)"
   ]
  },
  {
   "cell_type": "markdown",
   "metadata": {},
   "source": [
    "Which for the sake of comparison, let's recall the results:\n",
    "\n",
    "$$\n",
    "f(2.5) = 924.6875 \\\\\n",
    "f_{x}(2.5)= 1898.875, \\\\ \n",
    "f_{xx}(2.5)= 3080,  \\\\ \n",
    "f_{xxx}(2.5)= 3732, \\\\ \n",
    "f_{xxxx}(2.5)= 3000, \\\\ \n",
    "f_{xxxxx}(2.5)= 1200\n",
    "$$\n",
    "\n",
    "We see exact computation of the function's derivatives."
   ]
  },
  {
   "cell_type": "markdown",
   "metadata": {},
   "source": [
    "#### 3.1.2 Multi variable functions\n",
    "\n",
    "Consider a function $f: \\mathbb{R}^n \\rightarrow \\mathbb{R}$,  $f(x_1,x_2,...,x_n)$. Taking into account the Taylor series expansion of multivariable functions\n",
    "\n",
    "$$\n",
    "f(z_1,z_2,...,z_n) = \\\\\n",
    "\\sum_{k_1=0}^{\\infty}\\sum_{k_2=0}^{\\infty}...\\sum_{k_n=0}^{\\infty}    \n",
    "\\frac{(z_1-a_1)^{k_1}(z_2-a_2)^{k_2}...(z_n-a_n)^{k_n}}{k_1!k_2!...k_n!}\n",
    "\\left(\n",
    "\\frac{ \\partial^{k_1+k_2+...+k_n}f }{ \\partial x_1^{k_1} \\partial x_2^{k_2} ... \\partial x_n^{k_n} }\n",
    "\\right)\n",
    "(a_1,a_2,...,a_n)\n",
    "$$\n",
    "\n",
    "\n",
    "Now consider $z_1=x_{1_0}+\\epsilon_1$, $z_2=x_{2_0}+\\epsilon_2$, ..., $z_n=x_{n_0}+\\epsilon_n$; and $a_1 = x_{1_0}$, $a_2 = x_{2_0}$, ...,$a_n = x_{n_0}$, we obtain:\n",
    "\n",
    "$$\n",
    "f(x_{1_0}+\\epsilon_1,x_{2_0}+\\epsilon_2,...,x_{n_0}+\\epsilon_n) = \\\\\n",
    "\\sum_{k_1=0}^{\\infty}\\sum_{k_2=0}^{\\infty}...\\sum_{k_n=0}^{\\infty}    \n",
    "\\frac{\\epsilon_1^{k_1}\\epsilon_2^{k_2}...\\epsilon_n^{k_n}}{k_1!k_2!...k_n!}\n",
    "\\left(\n",
    "\\frac{ \\partial^{k_1+k_2+...+k_n}f }{ \\partial x_1^{k_1} \\partial x_2^{k_2} ... \\partial x_n^{k_n} }\n",
    "\\right)\n",
    "(x_{1_0},x_{2_0},...,x_{n_0})\n",
    "$$\n",
    "\n",
    "\n",
    "Notice again that the order of the derivative is the same order of the dual number that we get, i.e., the sum $k_1+k_2+...+k_n$ determines the order of the dual direction and the order of the derivative to associate.\n",
    "\n",
    "For example, a two variable function up to order 2 derivatives gives:\n",
    "\n",
    "$$\n",
    "f(x_{1_0}+\\epsilon_1,x_{2_0}+\\epsilon_2) = \\\\\n",
    "f(x_{1_0},x_{2_0}) + \\\\\n",
    "\\frac{\\partial f }{ \\partial x_1} \\ \\epsilon_1 + \n",
    "\\frac{1}{2!}\\frac{\\partial^2 f }{ \\partial x_1^2}(x_{1_0},x_{2_0})  \\ \\epsilon_1^2 +\\\\\n",
    "\\frac{\\partial f }{ \\partial x_2}(x_{1_0},x_{2_0})  \\ \\epsilon_2 + \n",
    "\\frac{\\partial^2 f }{ \\partial x_1\\partial x_2}(x_{1_0},x_{2_0})  \\ \\epsilon_2\\epsilon_1 +\n",
    "\\frac{1}{2!}\\frac{\\partial^2 f }{ \\partial x_2^2}(x_{1_0},x_{2_0}) \\  \\epsilon_2^2\n",
    "$$\n",
    "\n",
    "To apply this to a simple example, let's consider the function \n",
    "\n",
    "$$\n",
    "f(x,y) = 4x^5y^4\n",
    "$$\n",
    "\n",
    "Let's define the function in the python environment:"
   ]
  },
  {
   "cell_type": "code",
   "execution_count": null,
   "metadata": {
    "collapsed": true,
    "jupyter": {
     "outputs_hidden": true
    }
   },
   "outputs": [],
   "source": [
    "def funct_2(x,y):\n",
    "    return 4*x**5*y**4"
   ]
  },
  {
   "cell_type": "markdown",
   "metadata": {},
   "source": [
    "Analitically, let's define the derivatives of the function:\n",
    "$$\n",
    "f_x(x,y) = 20x^4y^4, \\ \\ f_y(x,y) = 16x^5y^3\n",
    "$$\n",
    "\n",
    "Now, how do we retreive the function's first derivatives by just evaluating the function with dual numbers? It's easy! \n",
    "\n",
    "According to the taylor series expansion of the function, we can retreive the function derivatives by evaluating the function at the point we want, say $(x_0,y_0)$ with a perturbation on the dual direction. In this case, the perturbation will occur as follows: $(x_0+\\epsilon_1,y_0+\\epsilon_2)$\n",
    "\n",
    "To get first derivatives we most only evaluate the function into dual numbers of order one. In this way, we define the point $(x_0=2,y_0=3)$ and we get:"
   ]
  },
  {
   "cell_type": "code",
   "execution_count": null,
   "metadata": {
    "collapsed": true,
    "jupyter": {
     "outputs_hidden": true
    }
   },
   "outputs": [],
   "source": [
    "x=2.0+e([1])\n",
    "y=3.0+e([2])"
   ]
  },
  {
   "cell_type": "code",
   "execution_count": null,
   "metadata": {
    "jupyter": {
     "outputs_hidden": false
    }
   },
   "outputs": [],
   "source": [
    "result_2 = funct_2(x,y)\n",
    "print(result_2)"
   ]
  },
  {
   "cell_type": "markdown",
   "metadata": {},
   "source": [
    "Analitically, the results of evaluating all function and its derivatives are:\n",
    "$$\n",
    "f(2,3) = 10368\n",
    "$$\n",
    "$$\n",
    "f_x(2,3) = 25920\n",
    "$$\n",
    "$$\n",
    "f_y(2,3) = 13824\n",
    "$$"
   ]
  },
  {
   "cell_type": "markdown",
   "metadata": {},
   "source": [
    "Now, interestingly, the coefficients that we obtain are the following:\n",
    "``` 2048.0 ``` on the real part, wich represents the function evaluated at $(2,2)$, the coefficient of $\\epsilon_1$ is the first derivative with respect to $x$ (as is) and the coefficient of $\\epsilon_2$ is the first derivative with respect to $y$ function evaluated.\n",
    "\n",
    "The seccond derivatives of the function are:\n",
    "$$\n",
    "f_{xx}(x,y) = 80x^3y^4, \\\\\n",
    "f_{xy}(x,y) = 80x^4y^3, \\\\\n",
    "f_{yy}(x,y) = 48x^5y^2\n",
    "$$\n",
    "\n",
    "Wich evaluated at $(2,3)$ gives\n",
    "$$\n",
    "f_{xx}(2,3) = 51840, \\\\ \n",
    "f_{xy}(2,3) = 34560, \\\\\n",
    "f_{yy}(2,3) = 13824\n",
    "$$\n",
    "\n",
    "\n",
    "Lets now change the order of both numbers, and see what we get:\n"
   ]
  },
  {
   "cell_type": "code",
   "execution_count": null,
   "metadata": {
    "jupyter": {
     "outputs_hidden": false
    }
   },
   "outputs": [],
   "source": [
    "x.changeOrder(2)\n",
    "y.changeOrder(2)\n",
    "result_2_order2 = funct_2(x,y)\n",
    "print(result_2_order2)"
   ]
  },
  {
   "cell_type": "markdown",
   "metadata": {},
   "source": [
    "\n"
   ]
  },
  {
   "cell_type": "markdown",
   "metadata": {},
   "source": [
    "We can extract, based on the Taylor series, the different terms. However, in order to get an easy form to extract them, the function ```getDerivative(dualnum,dirArray)``` helps in retreiving the derivatives according to the specifyed direction. It works as follows:"
   ]
  },
  {
   "cell_type": "code",
   "execution_count": null,
   "metadata": {
    "jupyter": {
     "outputs_hidden": false
    }
   },
   "outputs": [],
   "source": [
    "print(\"Get the f(x_0, y_0):\")\n",
    "print(getDerivative(result_2_order2,[0]))\n",
    "\n",
    "print(\"\\nGet the f_x(x_0, y_0):\")\n",
    "print(getDerivative(result_2_order2,[1]))\n",
    "\n",
    "print(\"\\nGet the f_xx(x_0, y_0):\")\n",
    "print(getDerivative(result_2_order2,[[1,2]]))\n",
    "\n",
    "print(\"\\nGet the f_y(x_0, y_0):\")\n",
    "print(getDerivative(result_2_order2,[2]))\n",
    "\n",
    "print(\"\\nGet the f_xy(x_0, y_0):\")\n",
    "print(getDerivative(result_2_order2,[1,2]))\n",
    "\n",
    "print(\"\\nGet the f_yy(x_0, y_0):\")\n",
    "print(getDerivative(result_2_order2,[[2,2]]))"
   ]
  },
  {
   "cell_type": "markdown",
   "metadata": {},
   "source": [
    "This finalizes the method to obtain the derivatives of polynomial functions."
   ]
  },
  {
   "cell_type": "markdown",
   "metadata": {},
   "source": [
    "### 3.2 General functions\n",
    "\n",
    "We have already learnt how the derivative of a function that depends just on $x$ works. Therefore when $x = x_0+\\epsilon_1$ the evaluation of $f(x)$ is straight forward. However, what happens if we want to evaluate $f(z)$ when $z = a_0+a_1\\epsilon_1+a_2\\epsilon_1^2+a_3\\epsilon_2+... $? This is what we will try to solve in this section. \n",
    "\n",
    "As a general implementation, let's analyze it from another perspective. How do we get a number with several coefficients? we get a complete number when we evaluate a function $f(x_1,x_2,...,x_n)$ in $f(x_1+\\epsilon_1,x_2+\\epsilon_2,...,x_n+\\epsilon_n)$. Here the result of evaluating this function is $z=f(x_1+\\epsilon_1,x_2+\\epsilon_2,...,x_n+\\epsilon_n)$, where \n",
    "\n",
    "$$\n",
    "z= a_0 + a_1\\epsilon_1+a_2\\epsilon_1^2+a_3\\epsilon_2+a_4\\epsilon_1\\epsilon_2+a_5\\epsilon_2^2+\n",
    "...\n",
    "$$\n",
    "\n",
    "where\n",
    "\n",
    "$$\n",
    "a_0 = f(x_1,x_2,\\dots,x_n)\\\\\n",
    "a_1 = \\frac{\\partial f}{\\partial x_1}(x_1,x_2,\\dots,x_n)\\\\\n",
    "a_2 = \\frac{1}{2!}\\frac{\\partial^2 f}{\\partial x_1^2}(x_1,x_2,\\dots,x_n)\\\\\n",
    "a_3 = \\frac{\\partial f}{\\partial x_2}(x_1,x_2,\\dots,x_n)\\\\\n",
    "a_4 = \\frac{\\partial^2 f}{\\partial x_1\\partial x_2}(x_1,x_2,\\dots,x_n)\\\\\n",
    "a_5 = \\frac{1}{2!}\\frac{\\partial^2 f}{\\partial x_2^2}(x_1,x_2,\\dots,x_n)\\\\\n",
    "\\mbox{and so on...}\n",
    "$$\n",
    "\n",
    "\n",
    "As a result, to evaluate any function $g(z)$ is the same as if we analyze $g(f(x_1+\\epsilon_1 ,x_2+\\epsilon_2 ,\\dots ,x_n+\\epsilon_n))$. To retrieve this behaviour, we need to asssume that the behavior of the function $g(z)$ will be the same as in $f(x)$, this is, therefore\n",
    "\n",
    "$$\n",
    "g(z) = \n",
    "g(f(x_{1_0},\\dots,x_{n_0}))+\n",
    "\\frac{\\partial g}{\\partial x_1}(f(x_{1_0},\\dots,x_{n_0})) \\ \\epsilon_1+\n",
    "\\frac{1}{2!}\\frac{\\partial^2 g}{\\partial x_1^2}(f(x_{1_0},\\dots,x_{n_0})) \\ \\epsilon_1^2 + \\\\\n",
    "\\frac{\\partial g}{\\partial x_2}(f(x_{1_0},\\dots,x_{n_0})) \\ \\epsilon_2 + \n",
    "\\frac{\\partial^2 g}{\\partial x_1 \\partial x_2}(f(x_{1_0},\\dots,x_{n_0})) \\ \\epsilon_1\\epsilon_2 + \n",
    "\\frac{1}{2!}\\frac{\\partial^2 g}{\\partial x_2^2}(f(x_{1_0},\\dots,x_{n_0})) \\ \\epsilon_2^2 + \\dots\n",
    "$$\n",
    "\n",
    "\n",
    "\n",
    "####3.2.1 Single variable functions, high order derivatives\n",
    "Let's first consider the behavior of a single variable function. In this case we are considering $g(f(x))$. \n",
    "\n",
    "\n",
    "As a result if we list the derivatives of the functions, we get:\n",
    "\n",
    "$$\n",
    "\\frac{\\partial g(f(x_0))}{\\partial x}= \\frac{\\partial g}{\\partial f}(f(x_0))\\frac{df}{dx}(x_0)\n",
    "$$\n",
    "\n",
    "Here and from now on, we will consider $g'=\\frac{\\partial g}{\\partial f}(f(x_0))$ and $ f'=\\frac{df}{dx}(x_0) $. Therefore the other derivatives we will get will be:\n",
    "\n",
    "$$\n",
    "\\frac{\\partial^2 g(f(x_0))}{\\partial^2 x}= \n",
    "g''(f')^2 +g'f''\n",
    "$$\n",
    "\n",
    "$$\n",
    "\\frac{\\partial^3 g(f(x_0))}{\\partial^3 x}= \n",
    "g'''(f')^3 + 2g''f'f'' + g''f'f'' + g' f ''' = g'''(f')^3 + 3g''f'f'' + g' f '''\n",
    "$$\n",
    "\n",
    "$$\n",
    "\\frac{\\partial^4 g(f(x_0))}{\\partial^4 x}= \n",
    "g''''(f')^4 + 3 g''' (f')^2f'' + 3 g'''(f')^2f'' + 3g''f''^2 + 3g''f'f''' + g''f'f'''+g'f'''' \\\\ \n",
    "=g''''(f')^4 + 6 g''' (f')^2f'' + 3g''(f'')^2 + 4g''f'f'''+g'f''''\n",
    "$$\n",
    "\n",
    "In the general form, see Faá di Bruno formula in https://en.wikipedia.org/wiki/Fa%C3%A0_di_Bruno%27s_formula\n"
   ]
  },
  {
   "cell_type": "markdown",
   "metadata": {},
   "source": [
    "# WORK IN PROGRESS"
   ]
  },
  {
   "cell_type": "code",
   "execution_count": null,
   "metadata": {
    "collapsed": true,
    "jupyter": {
     "outputs_hidden": true
    }
   },
   "outputs": [],
   "source": []
  },
  {
   "cell_type": "code",
   "execution_count": null,
   "metadata": {
    "collapsed": true,
    "jupyter": {
     "outputs_hidden": true
    }
   },
   "outputs": [],
   "source": []
  },
  {
   "cell_type": "code",
   "execution_count": null,
   "metadata": {
    "collapsed": true,
    "jupyter": {
     "outputs_hidden": true
    }
   },
   "outputs": [],
   "source": []
  },
  {
   "cell_type": "code",
   "execution_count": null,
   "metadata": {
    "collapsed": true,
    "jupyter": {
     "outputs_hidden": true
    }
   },
   "outputs": [],
   "source": []
  },
  {
   "cell_type": "code",
   "execution_count": null,
   "metadata": {
    "collapsed": true,
    "jupyter": {
     "outputs_hidden": true
    }
   },
   "outputs": [],
   "source": []
  },
  {
   "cell_type": "markdown",
   "metadata": {},
   "source": [
    "##4. Matrices and vectors of ```spr_dualnum```\n",
    "\n",
    "In this section we will see how to handle matrices and vectors with ```spr_dualnum```s. This will require you to understand that the matrices are implemented in a sparse way. More specifically in a CSR format."
   ]
  },
  {
   "cell_type": "code",
   "execution_count": null,
   "metadata": {
    "collapsed": true,
    "jupyter": {
     "outputs_hidden": true
    }
   },
   "outputs": [],
   "source": [
    "matA = spr_dualmat(,shape=())"
   ]
  },
  {
   "cell_type": "markdown",
   "metadata": {},
   "source": []
  },
  {
   "cell_type": "code",
   "execution_count": null,
   "metadata": {
    "collapsed": true,
    "jupyter": {
     "outputs_hidden": true
    }
   },
   "outputs": [],
   "source": []
  },
  {
   "cell_type": "code",
   "execution_count": null,
   "metadata": {
    "collapsed": true,
    "jupyter": {
     "outputs_hidden": true
    }
   },
   "outputs": [],
   "source": []
  },
  {
   "cell_type": "code",
   "execution_count": null,
   "metadata": {
    "collapsed": true,
    "jupyter": {
     "outputs_hidden": true
    }
   },
   "outputs": [],
   "source": []
  },
  {
   "cell_type": "code",
   "execution_count": null,
   "metadata": {
    "collapsed": true,
    "jupyter": {
     "outputs_hidden": true
    }
   },
   "outputs": [],
   "source": []
  }
 ],
 "metadata": {
  "kernelspec": {
   "display_name": "pyoti",
   "language": "python",
   "name": "pyoti"
  },
  "language_info": {
   "codemirror_mode": {
    "name": "ipython",
    "version": 3
   },
   "file_extension": ".py",
   "mimetype": "text/x-python",
   "name": "python",
   "nbconvert_exporter": "python",
   "pygments_lexer": "ipython3",
   "version": "3.9.13"
  }
 },
 "nbformat": 4,
 "nbformat_minor": 4
}
