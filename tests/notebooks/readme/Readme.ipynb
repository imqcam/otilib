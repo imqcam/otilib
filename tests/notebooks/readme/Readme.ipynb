{
 "cells": [
  {
   "cell_type": "markdown",
   "metadata": {},
   "source": [
    "# Order Truncated Imaginary Python Library documentation:\n",
    "# V 1.1\n",
    "```python\n",
    "\"\"\" \n",
    "Contributors to this file:\n",
    "Mauricio Aristizabal Cano\n",
    "\n",
    "Date of creation:  04 20 2016\n",
    "Last modification: 11 08 2022\n",
    "Universidad EAFIT, Medellin, Colombia.\n",
    "\"\"\"\n",
    "```\n",
    "\n",
    "## 0. Introduction\n",
    "\n",
    "The main purpose of this document is to explain the capabilities of the sparse Dual Number library for python 3: ```spr_dualnum.py``` . As a basis for the explanation, several examples will be given in order to show and understand the capabilities of the library, as well as its basic advantages.\n",
    "\n",
    "As a result, there will be several justifications based on an \"a priori\" utilisation of the library.\n",
    "\n",
    "\n",
    "## 1. Getting started\n",
    "In order to import the libary, one way of doing so is to call it with the following command:"
   ]
  },
  {
   "cell_type": "code",
   "execution_count": 1,
   "metadata": {},
   "outputs": [],
   "source": [
    "import pyoti.sparse as oti\n",
    "np.set_printoptions(linewidth=120)"
   ]
  },
  {
   "cell_type": "markdown",
   "metadata": {},
   "source": [
    "After calling the library, any (hyper) dual number can be created using the constructor ```spr_dualnum```. This will be explained shortly.\n",
    "\n",
    "\n",
    "For now a brief introduction to dual numbers. A pure dual number is considered as a number composed by a real component and a coeficient in a dual direction $\\epsilon$. This dual direction has the property that it is a number that does not belong to $\\mathbb{R}$, but $\\epsilon^2=0$. This is called a \"nilpotent\" condition. The number can be represented as follows:\n",
    "\n",
    "$$\n",
    "a+b\\epsilon, \\ \\ a,b\\in \\mathbb{R}\n",
    "$$\n",
    "\n",
    "\n",
    "Now considering a hyper-dual number, lets consider that there is not only one possible dual number $\\epsilon$, but there exist also $n$ dual numbers at which the nilpotent condition is effective (assume there is indeed this condition). As a result the dual number is extended to many dual directions, and so the number might be directed towards $\\epsilon_1$, $\\epsilon_2$, ...,  $\\epsilon_n$ directions. Notice there are different directions, so the combination $\\epsilon_i$$\\epsilon_j$ exist as another direction (combination of the principal directions). As a result, since the only condition there really exist is $\\epsilon_i^k=0$ for $i=1,...,n$ and $k\\geq 2$. So in this case, $\\epsilon_1 \\epsilon_2 \\epsilon_4$ exist (it's not zero) since the nilpotent condition is not applicable. An example of this is the following hyperdual number:\n",
    "\n",
    "$$\n",
    "a+b\\epsilon_1+c\\epsilon_2+d\\epsilon_1\\epsilon_2, \\ \\ \\ a,b,c,d \\in \\mathbb{R}\n",
    "$$\n",
    "\n",
    "Higher order dual numbers (called multidual numbers in \"Multidual numbers and multidual functions\" by Farid Messelmi) can be created as well. In this case, the nilpotent condition will be considered to happen to exponents higher than a certain value $p$, and therefore $\\epsilon^k=0$ only for values of $k > p$. So for example, a number with order $p=2$ could be as:\n",
    "\n",
    "$$\n",
    "a+b\\epsilon + c\\epsilon^2, \\ \\ a,b,c \\in \\mathbb{R} \n",
    "$$\n",
    "\n",
    "In this case, $c$ exists separate of $b$ since it is attached to a different direction. Clearly $\\epsilon \\neq \\epsilon^2$, and as a result both should be considered as separate directions. An example of a number combining all possible directions and orders is the following:\n",
    "\n",
    "\n",
    "$$\n",
    "a + b\\epsilon_1 + c\\epsilon_1^2 + d\\epsilon_2 + e\\epsilon_1\\epsilon_2 + \n",
    "f\\epsilon_1^2\\epsilon_2 + g\\epsilon_2^2 + h\\epsilon_1\\epsilon_2^2 + i\\epsilon_1^2\\epsilon_2^2,\n",
    "\\ \\ \\ a,b,c,d,e,f,g,h,i \\in \\mathbb{R}\n",
    "$$\n",
    "\n",
    "And as a result things can get really messy in handling the numbers with all orders. However, ```spr_dualnum``` shows an approach to this. So let's get started.\n",
    "\n",
    "### 1.1 Dual Numbers\n",
    "\n",
    "In order to create a dual number, the constructor has to be used as follows\n",
    "\n",
    "```\n",
    "my_spr_dualnum = spr_dualnum(index,coefs,maxorder)\n",
    "```\n",
    "\n",
    "Here, in the most general case, the term ```index``` and ```coefs``` are arrays that contains the index values and the coefficients of the dual number respectively (they will be explained shortly). The term ```maxorder``` tells the number the maximum number of multiplyed numbers that will be taken into account in the number."
   ]
  },
  {
   "cell_type": "markdown",
   "metadata": {},
   "source": [
    "But let's wait for a second the explanation, and first implement one simple number, for example\n",
    "\n",
    "$$\n",
    "5+\\epsilon_1\n",
    "$$\n",
    "\n",
    "(Remember the library is created to handle many dual directions)\n",
    "\n",
    "To create this we use the following:"
   ]
  },
  {
   "cell_type": "code",
   "execution_count": 2,
   "metadata": {},
   "outputs": [],
   "source": [
    "a = spr_dualnum([0,1],[5,1],1)"
   ]
  },
  {
   "cell_type": "markdown",
   "metadata": {},
   "source": [
    "The dual number a has been created. Now how do I see what have I done? In order to show the representation of the number, it can be done in two ways:\n",
    "\n",
    "- A compact representation, which will show something very similar to the constructor of the class"
   ]
  },
  {
   "cell_type": "code",
   "execution_count": 3,
   "metadata": {},
   "outputs": [
    {
     "data": {
      "text/plain": [
       "spr_dualnum([0,1], [5.,1.], 1)"
      ]
     },
     "execution_count": 3,
     "metadata": {},
     "output_type": "execute_result"
    }
   ],
   "source": [
    "a"
   ]
  },
  {
   "cell_type": "markdown",
   "metadata": {},
   "source": [
    "- Using string conversion, or just the print command. This will show human readable version of the number."
   ]
  },
  {
   "cell_type": "code",
   "execution_count": 4,
   "metadata": {},
   "outputs": [
    {
     "name": "stdout",
     "output_type": "stream",
     "text": [
      "5.0 + 1.0 * e([1]) \n"
     ]
    }
   ],
   "source": [
    "print(a)"
   ]
  },
  {
   "cell_type": "markdown",
   "metadata": {},
   "source": [
    "In this case, notice that the dual direction 1 ($\\epsilon_1$) is represented as ```e([1]) ```. Note that the direction is given as an array, which will make more sense as we continue. \n",
    "\n",
    "* **Alternative way to create a dual number**\n",
    "\n",
    "An alternative way to create a dual number is using the 'human readable' representation. In order to create it, it can be done in two ways. In this example we will be focused on the creation which is exactly the same as in the human readable print out"
   ]
  },
  {
   "cell_type": "code",
   "execution_count": 5,
   "metadata": {},
   "outputs": [
    {
     "name": "stdout",
     "output_type": "stream",
     "text": [
      "Alternative way number 1: Using the same Human readable repr.\n",
      "5.0 + 1.0 * e([1]) \n"
     ]
    }
   ],
   "source": [
    "print(\"Alternative way number 1: Using the same Human readable repr.\")\n",
    "print(5+e([1]))"
   ]
  },
  {
   "cell_type": "markdown",
   "metadata": {},
   "source": [
    "Let's analyze which are the components that we created of the number. First, notice both **index and coeficients must have the same number of elements**, otherwise the number cannot be created.\n",
    "\n",
    "Index array: It has two elements, 0 and 1, zero is related to the real number, and 1 is related to $\\epsilon_1$ direction. Further detail will be given later on.\n",
    "\n",
    "Coefs array: Has all non-zero coeficients of the number.\n",
    "\n",
    "maxorder: we will see that in a moment.\n",
    "\n",
    "The number now has three main attributes, which are mainly the 3 arguments of its constructor. In order to get them, just:\n"
   ]
  },
  {
   "cell_type": "code",
   "execution_count": 6,
   "metadata": {},
   "outputs": [
    {
     "name": "stdout",
     "output_type": "stream",
     "text": [
      "To get the index array:\n",
      "[0 1]\n",
      "\n",
      "To get the coefs array:\n",
      "[ 5.  1.]\n",
      "\n",
      "To get the maxorder of the number:\n",
      "1\n"
     ]
    }
   ],
   "source": [
    "print(\"To get the index array:\")\n",
    "print(a.indx)\n",
    "\n",
    "print(\"\\nTo get the coefs array:\")\n",
    "print(a.coefs)\n",
    "\n",
    "print(\"\\nTo get the maxorder of the number:\")\n",
    "print(a.maxorder)"
   ]
  },
  {
   "cell_type": "markdown",
   "metadata": {},
   "source": [
    "Now, lets create another number, in this case\n",
    "$$\n",
    "3\\epsilon_1\n",
    "$$"
   ]
  },
  {
   "cell_type": "code",
   "execution_count": 7,
   "metadata": {},
   "outputs": [
    {
     "name": "stdout",
     "output_type": "stream",
     "text": [
      "3.0 * e([1]) \n"
     ]
    }
   ],
   "source": [
    "b = spr_dualnum([1],[3],1)\n",
    "print(b)"
   ]
  },
  {
   "cell_type": "markdown",
   "metadata": {},
   "source": [
    "Interestingly, the number does not have any coeficient on the real part, because index 0 is not present in the index array, and because the real coefficient is zero. Therefore, the library will know that all coefficients that are not present, are zero (it's a sparse library).\n",
    "\n",
    "#### 1.1.1. Sum\n",
    "\n",
    "What happens if we sum a+b?, we must get the following:\n",
    "\n",
    "$$\n",
    "(5+\\epsilon_1)+3\\epsilon_1= 5+4\\epsilon_1\n",
    "$$\n",
    "\n",
    "in the library we just simply use the ```+``` operator and write:"
   ]
  },
  {
   "cell_type": "code",
   "execution_count": 8,
   "metadata": {},
   "outputs": [],
   "source": [
    "sum_result = a+b\n"
   ]
  },
  {
   "cell_type": "markdown",
   "metadata": {
    "collapsed": true
   },
   "source": [
    "#### 1.1.2 Multiplication\n",
    "Now, let's think about what would happen if we multiply the number times another element, lets say we compute ``` a * b```. We will be operating in a distributive way all elements from the two numbers.\n",
    "$$\n",
    "(5+\\epsilon_1)\\times(3\\epsilon_1) = 15\\epsilon_1 + 3\\epsilon_1^2\n",
    "$$\n",
    "In order to implement it in the library, just use the ```*``` operator:"
   ]
  },
  {
   "cell_type": "code",
   "execution_count": 9,
   "metadata": {},
   "outputs": [
    {
     "name": "stdout",
     "output_type": "stream",
     "text": [
      "15.0 * e([1]) \n"
     ]
    }
   ],
   "source": [
    "mult_result = a*b\n",
    "\n",
    "print(mult_result)\n"
   ]
  },
  {
   "cell_type": "markdown",
   "metadata": {
    "collapsed": true
   },
   "source": [
    "But... wait a second. Why do we get this result? This is related to the maxorder that is defined in the constructor of the class. Since in this case the order is $1$, every dual direction that has an order greater than $1$ is cancelled due to the nilpotent condition. \n",
    "\n",
    "#### 1.1.3 Change of Order\n",
    "Let's see this from another perspective. Can we change the order of an already defined number? Yes, and it is performed using the following method "
   ]
  },
  {
   "cell_type": "code",
   "execution_count": 10,
   "metadata": {},
   "outputs": [
    {
     "name": "stdout",
     "output_type": "stream",
     "text": [
      "Number a is now:\n",
      "5.0 + 1.0 * e([1]) \n"
     ]
    },
    {
     "data": {
      "text/plain": [
       "spr_dualnum([0,1], [5.,1.], 2)"
      ]
     },
     "execution_count": 10,
     "metadata": {},
     "output_type": "execute_result"
    }
   ],
   "source": [
    "a.changeOrder(2)\n",
    "b.changeOrder(2)\n",
    "print(\"Number a is now:\")\n",
    "print(a)\n",
    "a"
   ]
  },
  {
   "cell_type": "code",
   "execution_count": 11,
   "metadata": {},
   "outputs": [
    {
     "name": "stdout",
     "output_type": "stream",
     "text": [
      "Number b is now:\n",
      "3.0 * e([1]) \n"
     ]
    },
    {
     "data": {
      "text/plain": [
       "spr_dualnum([1], [3.], 2)"
      ]
     },
     "execution_count": 11,
     "metadata": {},
     "output_type": "execute_result"
    }
   ],
   "source": [
    "print(\"Number b is now:\")\n",
    "print(b)\n",
    "b"
   ]
  },
  {
   "cell_type": "markdown",
   "metadata": {},
   "source": [
    "Notice that apparently nothing has changed, but interestingly there has been a major change: Now the numbers can understand that we want them to contain (and produce in the operations) dual numbers of orders 1 and 2. In this case:"
   ]
  },
  {
   "cell_type": "code",
   "execution_count": 12,
   "metadata": {},
   "outputs": [
    {
     "name": "stdout",
     "output_type": "stream",
     "text": [
      "15.0 * e([1]) + 3.0 * e([[1,2]]) \n"
     ]
    }
   ],
   "source": [
    "mult_result_order_2 = a*b\n",
    "print(mult_result_order_2)"
   ]
  },
  {
   "cell_type": "markdown",
   "metadata": {},
   "source": [
    "Here we are representing the fact that there are two numbers, in which one of them is $\\epsilon_1$ and the other is $\\epsilon_1^2$. Notice the convention:\n",
    "\n",
    "If the argument of ```e``` is ```[1]```, i.e. an array with only numbers inside, it represents that the coeficient is directed in the principal direction with an exponent of $1$. But if the argument of ```e``` is a double level array ```[ [1,2] ]``` (like in the example), this means that the dual direction is $\\epsilon_1^2$. Let's generalize the expressions: lets take the last number and multily it by ```b``` again, we will get:\n",
    "\n",
    "$$\n",
    "(15\\epsilon_1 + 3\\epsilon_1^2)\\times(3\\epsilon_1) = (45\\epsilon_1^2 + 9\\epsilon_1^3)\n",
    "$$\n",
    "\n",
    "(if we allow order 3 elements to be in)."
   ]
  },
  {
   "cell_type": "code",
   "execution_count": 13,
   "metadata": {},
   "outputs": [
    {
     "name": "stdout",
     "output_type": "stream",
     "text": [
      "45.0 * e([[1,2]]) + 9.0 * e([[1,3]]) \n"
     ]
    }
   ],
   "source": [
    "# We are allowing order 3 numbers to exist with these expressions.\n",
    "mult_result_order_2.changeOrder(3)\n",
    "b.changeOrder(3) \n",
    "\n",
    "mult_result_3 = mult_result_order_2*b\n",
    "print(mult_result_3)"
   ]
  },
  {
   "cell_type": "markdown",
   "metadata": {},
   "source": [
    "Now, as a general rule:\n",
    "\n",
    "```e([i])``` Is a dual number in the direction $\\epsilon_i$\n",
    "\n",
    "```e([[i,j]])``` Is a dual number in the direction $\\epsilon_i^j$\n",
    "\n",
    "#### 1.1.4 Index array structure\n",
    "\n",
    "Let's see how the internal structure behaves so that we can make some deductions."
   ]
  },
  {
   "cell_type": "code",
   "execution_count": 14,
   "metadata": {},
   "outputs": [
    {
     "name": "stdout",
     "output_type": "stream",
     "text": [
      "5.0 + 1.0 * e([1]) \n"
     ]
    },
    {
     "data": {
      "text/plain": [
       "spr_dualnum([0,1], [5.,1.], 2)"
      ]
     },
     "execution_count": 14,
     "metadata": {},
     "output_type": "execute_result"
    }
   ],
   "source": [
    "print(a)\n",
    "a"
   ]
  },
  {
   "cell_type": "code",
   "execution_count": 15,
   "metadata": {},
   "outputs": [
    {
     "name": "stdout",
     "output_type": "stream",
     "text": [
      "3.0 * e([1]) \n"
     ]
    },
    {
     "data": {
      "text/plain": [
       "spr_dualnum([1], [3.], 3)"
      ]
     },
     "execution_count": 15,
     "metadata": {},
     "output_type": "execute_result"
    }
   ],
   "source": [
    "print(b)\n",
    "b"
   ]
  },
  {
   "cell_type": "code",
   "execution_count": 16,
   "metadata": {},
   "outputs": [
    {
     "name": "stdout",
     "output_type": "stream",
     "text": [
      "15.0 * e([1]) + 3.0 * e([[1,2]]) \n"
     ]
    },
    {
     "data": {
      "text/plain": [
       "spr_dualnum([1,2], [15.,3.], 3)"
      ]
     },
     "execution_count": 16,
     "metadata": {},
     "output_type": "execute_result"
    }
   ],
   "source": [
    "print(mult_result_order_2)\n",
    "mult_result_order_2"
   ]
  },
  {
   "cell_type": "code",
   "execution_count": 17,
   "metadata": {},
   "outputs": [
    {
     "name": "stdout",
     "output_type": "stream",
     "text": [
      "45.0 * e([[1,2]]) + 9.0 * e([[1,3]]) \n"
     ]
    },
    {
     "data": {
      "text/plain": [
       "spr_dualnum([2,3], [45.,9.], 3)"
      ]
     },
     "execution_count": 17,
     "metadata": {},
     "output_type": "execute_result"
    }
   ],
   "source": [
    "print(mult_result_3)\n",
    "mult_result_3"
   ]
  },
  {
   "cell_type": "markdown",
   "metadata": {},
   "source": [
    "The numbers of the index array do not appear to have any sense, but they actually do. Let's see them in binary representation:"
   ]
  },
  {
   "cell_type": "markdown",
   "metadata": {},
   "source": [
    "Let's now see how the indexing number works.\n",
    "\n",
    "Notice that when we have a real number, the index number is zero. It means that no dual direction is present for that coeficient. As a result the first coeficient of the term a is associated to a zero index value, and that means that it belongs to $\\mathbb{R}$.\n",
    "\n",
    "On the other hand, the terms that are associated to dual direction $\\epsilon_1$, have an index value of 1 (in binary also 1).\n",
    "\n",
    "The terms that are associated to dual direction $\\epsilon_1^2$ have an index value of 2 (in binary: 10). This means that the second position in the binary number index correspond to the direction $\\epsilon_1^2$.\n",
    "\n",
    "The terms that are associated to dual direction $\\epsilon_1^3$ have an index value of 4 (in binary: 100). This means that the third position in the binary number index correspond to the direction $\\epsilon_1^3$.\n",
    "\n",
    "In the most general case, we can consider the indexing behaving in the following way for pure dual directions (we will see in the following how the system behaves with more directions:\n",
    "\n",
    "\n",
    "For order = 1, then the correlation looks as follows. \n",
    "\n",
    "|Index value|  Meaning \n",
    "|---:|:---:\n",
    "|0|  real direction\n",
    "|1| $\\epsilon_1$\n",
    "|2| $\\epsilon_2$\n",
    "|3| $\\epsilon_3$\n",
    "|4| $\\epsilon_4$\n",
    "\n",
    "\n",
    "For order = 2,  the index correlation looks as follows. \n",
    "\n",
    "|Index value |  Meaning \n",
    "|---:|:---:\n",
    "|0|  real direction\n",
    "|1|  $\\epsilon_1$\n",
    "|2|  $\\epsilon_1^2$\n",
    "|3|  $\\epsilon_2$\n",
    "|4|  $\\epsilon_2^2$\n",
    "|5| $\\epsilon_3$\n",
    "|6| $\\epsilon_3^2$\n",
    "\n",
    "\n",
    "For order = 3,  the index correlation looks as follows.\n",
    "\n",
    "|Index value |  Meaning |\n",
    "|---:|:---:\n",
    "|0|  real direction\n",
    "|1|  $\\epsilon_1$\n",
    "|2|  $\\epsilon_1^2$\n",
    "|3|  $\\epsilon_1^3$\n",
    "|4|  $\\epsilon_2$\n",
    "|5| $\\epsilon_2^2$\n",
    "|6| $\\epsilon_2^3$\n",
    "\n",
    "\n",
    "Notice the index number is interpreted differently according to its order. As a result, it is important to have in mind the order of the numbers before defining them."
   ]
  },
  {
   "cell_type": "markdown",
   "metadata": {},
   "source": [
    "### 1.2 Hyper-dual numbers\n",
    "\n",
    "Let's introduce how to handle hyper-dual numbers. Now that we know how the structure works, let's redefine the number ```b``` as $3\\epsilon_2$ using the constructor. Later we will see how we can manipulate the index array to get this working. In this case we will define the number with order 2 (later we will se why).\n"
   ]
  },
  {
   "cell_type": "code",
   "execution_count": 18,
   "metadata": {},
   "outputs": [
    {
     "name": "stdout",
     "output_type": "stream",
     "text": [
      "3.0 * e([2]) \n"
     ]
    },
    {
     "data": {
      "text/plain": [
       "spr_dualnum([3], [3.], 2)"
      ]
     },
     "execution_count": 18,
     "metadata": {},
     "output_type": "execute_result"
    }
   ],
   "source": [
    "b = 3*e(2)\n",
    "b.changeOrder(2)\n",
    "print(b)\n",
    "b"
   ]
  },
  {
   "cell_type": "markdown",
   "metadata": {},
   "source": [
    "In this case, we have successfully created a dual number in the direction $2$. Now, let's multiply it by the original number ```a``` with order 2. what should we get?\n",
    "\n",
    "$$\n",
    "(5+\\epsilon_1)\\times(3\\epsilon_2)= 15\\epsilon_2 +3\\epsilon_1\\epsilon_2 \n",
    "$$"
   ]
  },
  {
   "cell_type": "code",
   "execution_count": 19,
   "metadata": {},
   "outputs": [
    {
     "name": "stdout",
     "output_type": "stream",
     "text": [
      "15.0 * e([2]) + 3.0 * e([1,2]) \n"
     ]
    },
    {
     "data": {
      "text/plain": [
       "spr_dualnum([3,4], [15.,3.], 2)"
      ]
     },
     "execution_count": 19,
     "metadata": {},
     "output_type": "execute_result"
    }
   ],
   "source": [
    "mult_result_hyper= a*b\n",
    "print(mult_result_hyper)\n",
    "mult_result_hyper"
   ]
  },
  {
   "cell_type": "markdown",
   "metadata": {},
   "source": [
    "Notice that the result has correctly placed the coefficients, but is the human readable representation right?.\n",
    "\n",
    "Yes it is! Have in mind that there is a different notation when handling the argument of the direction ```e``` than what we have seen so far. In this case, different from the $\\epsilon_1^2$ notation (``` [[1,2]]```, double level array) the index does not have the second level in the array, only first level numbers. As a result, the given value represents a combination of two directions: $1$ and $2$. The second level will allways represent the direction with the  exponent of that direction.\n",
    "\n",
    "As a result, the notations and indexing will come as follow:\n",
    "\n",
    "**Notation:**\n",
    "\n",
    "The notation will be expressed in the following way: just one level (of the array) for each direction that appears  with no exponent and a second level of array for each direction that contains an order higher or equal than 2: \n",
    "\n",
    "| Notation | Meaning  \n",
    "| :---: | :---:\n",
    "| ``` e([1,2,4,6,8])``` | $\\epsilon_1\\epsilon_2\\epsilon_4\\epsilon_6\\epsilon_8$ \n",
    "| ``` e([[1,3],2])``` |$\\epsilon_1^3\\epsilon_2$\n",
    "| ``` e([1,3,[4,2]])```|$\\epsilon_1\\epsilon_3\\epsilon_4^2$\n",
    "| ``` e([[2,2],[3,3],[4,2]])```|$\\epsilon_2^2\\epsilon_3^3\\epsilon_4^2$\n",
    "\n",
    "**Indexing:**\n",
    "\n",
    "Indexing has the same behaviour as explained before: the directions that exist will set to high (1) the \"bit\" that correspond to its location. The index value is indeed $4$ for direction $\\epsilon_2$  (as discussed previously) but the mixed term $\\epsilon_1\\epsilon_2$ has an index value of $5$. Let's have in mind how the index element works.\n",
    "\n",
    "\n",
    "The following example shows how the index array would be formed for some directions of an order 3 hyper dual number:\n",
    "\n",
    "|Index value|  Meaning \n",
    "|---:|:---:|:---:\n",
    "|0|   real number\n",
    "|1|   $\\epsilon_1$\n",
    "|2|   $\\epsilon_1^2$\n",
    "|3|   $\\epsilon_1^3$\n",
    "|4|   $\\epsilon_2$\n",
    "|5|   $\\epsilon_1\\epsilon_2$\n",
    "|6|  $\\epsilon_1^2\\epsilon_2$\n",
    "|7|  $\\epsilon_2^2$\n",
    "|8|  $\\epsilon_1\\epsilon_2^2$\n",
    "|9|  $\\epsilon_2^3$\n",
    "|10|  $\\epsilon_3$\n",
    "|11|  $\\epsilon_1\\epsilon_3$\n",
    "|12|  $\\epsilon_1^2\\epsilon_3$\n",
    "|13|  $\\epsilon_2\\epsilon_3$\n",
    "|14|  $\\epsilon_1\\epsilon_2\\epsilon_3$\n",
    "|15|  $\\epsilon_2^2\\epsilon_3$\n",
    "|16| $\\epsilon_3^2$\n",
    "|17| $\\epsilon_1\\epsilon_3^2$\n",
    "|18| $\\epsilon_2\\epsilon_3^2$\n",
    "|19| $\\epsilon_3^3$\n",
    "\n",
    "\n",
    "Notice something important in the table above: If for each term you sum  all the exponents of the different directions, you will allways get 3 or less. This has something to do with the purpose of this library and menas that any number with a direction that has an order greater than the order of the number will be considered zero, and therefore discarded. This will have more sense in the section 3: Applications."
   ]
  },
  {
   "cell_type": "markdown",
   "metadata": {},
   "source": [
    "### 1.3 Get and set coefficients of a ```spr_dualnum``` number.\n",
    "\n",
    "In order to get a particular coefficient, there are two ways of getting it in this library: knowing the index value at which the number belongs or just knowing the directions at which the value is located.\n",
    "\n",
    "#### 1.3.1 Get coefficients of a ```spr_dualnum``` number.\n",
    "\n",
    "Let's create a number with different directions, and with different orders\n",
    "\n"
   ]
  },
  {
   "cell_type": "code",
   "execution_count": 20,
   "metadata": {},
   "outputs": [
    {
     "name": "stdout",
     "output_type": "stream",
     "text": [
      "spr_dualnum([1], [2.], 1)\n",
      "spr_dualnum([2], [3.], 2)\n",
      "spr_dualnum([2], [4.], 1)\n",
      "spr_dualnum([5052], [5.], 2)\n",
      "spr_dualnum([5], [6.], 2)\n",
      "spr_dualnum([3], [7.], 1)\n",
      "spr_dualnum([7], [8.], 2)\n",
      "spr_dualnum([8], [9.], 2)\n",
      "spr_dualnum([9], [10.], 2)\n",
      "\n",
      "2.0 * e([1]) \n",
      "3.0 * e([[1,2]]) \n",
      "4.0 * e([2]) \n",
      "5.0 * e([2,100]) \n",
      "6.0 * e([[2,2]]) \n",
      "7.0 * e([3]) \n",
      "8.0 * e([1,3]) \n",
      "9.0 * e([2,3]) \n",
      "10.0 * e([[3,2]]) \n",
      "1.0 + 2.0 * e([1]) + 3.0 * e([[1,2]]) + 4.0 * e([2]) + 7.0 * e([3]) \n",
      "100 loops, best of 3: 1.7 ms per loop\n"
     ]
    }
   ],
   "source": [
    "#c =spr_dualnum([0,1,2,3,4,5,6,7,8,9],[1,2,3,4,5,6,7,8,9,10],2)\n",
    "#c = 1.0 + 2.0 * e([1]) + 3.0 * e([[1,2]]) + 4.0 * e([2]) + 5.0 * e([100,2]) + 6.0 * e([[2,2]]) + 7.0 * e([3]) + 8.0 * e([1,3]) + 9.0 * e([2,3]) + 10.0 * e([[3,2]])\n",
    "\n",
    "c = 1.0 + 2.0 * e([1]) + 3.0 * e([[1,2]]) + 4.0 * e([2]) + 7.0 * e([3]) \n",
    "\n",
    "print(repr( 2.0 * e([1])       ))\n",
    "print(repr( 3.0 * e([[1,2]])   ))\n",
    "print(repr( 4.0 * e([2])       ))\n",
    "print(repr( 5.0 * e([100,2])   ))\n",
    "print(repr( 6.0 * e([[2,2]])   ))\n",
    "print(repr( 7.0 * e([3])       ))\n",
    "print(repr( 8.0 * e([1,3])     ))\n",
    "print(repr( 9.0 * e([2,3])     ))\n",
    "print(repr( 10.0 * e([[3,2]])  ))\n",
    "\n",
    "\n",
    "print()\n",
    "\n",
    "\n",
    "print(( 2.0 * e([1])       ))\n",
    "print(( 3.0 * e([[1,2]])   ))\n",
    "print(( 4.0 * e([2])       ))\n",
    "print(( 5.0 * e([100,2])   ))\n",
    "print(( 6.0 * e([[2,2]])   ))\n",
    "print(( 7.0 * e([3])       ))\n",
    "print(( 8.0 * e([1,3])     ))\n",
    "print(( 9.0 * e([2,3])     ))\n",
    "print(( 10.0 * e([[3,2]])  ))\n",
    "print(c)\n",
    "\n",
    "%timeit c.toMatrix(isspr = 1)\n",
    "\n",
    "#getIndxPos([5],1)\n",
    "\n",
    "# 1.0 + 2.0 * e([1]) + 3.0 * e([[1,2]]) + 4.0 * e([2]) + 5.0 * e([1,2]) + 6.0 * e([[2,2]]) + 7.0 * e([3]) + 8.0 * e([1,3]) + 9.0 * e([2,3]) + 10.0 * e([[3,2]])\n",
    "# v4: 1000 loops, best of 3: 1.58 ms per loop"
   ]
  },
  {
   "cell_type": "code",
   "execution_count": 21,
   "metadata": {},
   "outputs": [
    {
     "name": "stdout",
     "output_type": "stream",
     "text": [
      "[[ 1.  0.  0.  0.  0.  0.  0.  0.  0.  0.  0.  0.  0.  0.  0.  0.  0.  0.  0.  0.]\n",
      " [ 2.  1.  0.  0.  0.  0.  0.  0.  0.  0.  0.  0.  0.  0.  0.  0.  0.  0.  0.  0.]\n",
      " [ 3.  2.  1.  0.  0.  0.  0.  0.  0.  0.  0.  0.  0.  0.  0.  0.  0.  0.  0.  0.]\n",
      " [ 0.  3.  2.  1.  0.  0.  0.  0.  0.  0.  0.  0.  0.  0.  0.  0.  0.  0.  0.  0.]\n",
      " [ 4.  0.  0.  0.  1.  0.  0.  0.  0.  0.  0.  0.  0.  0.  0.  0.  0.  0.  0.  0.]\n",
      " [ 0.  4.  0.  0.  2.  1.  0.  0.  0.  0.  0.  0.  0.  0.  0.  0.  0.  0.  0.  0.]\n",
      " [ 0.  0.  4.  0.  3.  2.  1.  0.  0.  0.  0.  0.  0.  0.  0.  0.  0.  0.  0.  0.]\n",
      " [ 0.  0.  0.  0.  4.  0.  0.  1.  0.  0.  0.  0.  0.  0.  0.  0.  0.  0.  0.  0.]\n",
      " [ 0.  0.  0.  0.  0.  4.  0.  2.  1.  0.  0.  0.  0.  0.  0.  0.  0.  0.  0.  0.]\n",
      " [ 0.  0.  0.  0.  0.  0.  0.  4.  0.  1.  0.  0.  0.  0.  0.  0.  0.  0.  0.  0.]\n",
      " [ 7.  0.  0.  0.  0.  0.  0.  0.  0.  0.  1.  0.  0.  0.  0.  0.  0.  0.  0.  0.]\n",
      " [ 0.  7.  0.  0.  0.  0.  0.  0.  0.  0.  2.  1.  0.  0.  0.  0.  0.  0.  0.  0.]\n",
      " [ 0.  0.  7.  0.  0.  0.  0.  0.  0.  0.  3.  2.  1.  0.  0.  0.  0.  0.  0.  0.]\n",
      " [ 0.  0.  0.  0.  7.  0.  0.  0.  0.  0.  4.  0.  0.  1.  0.  0.  0.  0.  0.  0.]\n",
      " [ 0.  0.  0.  0.  0.  7.  0.  0.  0.  0.  0.  4.  0.  2.  1.  0.  0.  0.  0.  0.]\n",
      " [ 0.  0.  0.  0.  0.  0.  0.  7.  0.  0.  0.  0.  0.  4.  0.  1.  0.  0.  0.  0.]\n",
      " [ 0.  0.  0.  0.  0.  0.  0.  0.  0.  0.  7.  0.  0.  0.  0.  0.  1.  0.  0.  0.]\n",
      " [ 0.  0.  0.  0.  0.  0.  0.  0.  0.  0.  0.  7.  0.  0.  0.  0.  2.  1.  0.  0.]\n",
      " [ 0.  0.  0.  0.  0.  0.  0.  0.  0.  0.  0.  0.  0.  7.  0.  0.  4.  0.  1.  0.]\n",
      " [ 0.  0.  0.  0.  0.  0.  0.  0.  0.  0.  0.  0.  0.  0.  0.  0.  7.  0.  0.  1.]]\n"
     ]
    }
   ],
   "source": [
    "c.changeOrder(3)\n",
    "print(c.toMatrix())"
   ]
  },
  {
   "cell_type": "code",
   "execution_count": 45,
   "metadata": {},
   "outputs": [
    {
     "name": "stdout",
     "output_type": "stream",
     "text": [
      "[[ 1.  0.  0.  0.  0.  0.  0.  0.  0.  0.  0.  0.  0.  0.  0.  0.  0.  0.  0.  0.]\n",
      " [ 2.  1.  0.  0.  0.  0.  0.  0.  0.  0.  0.  0.  0.  0.  0.  0.  0.  0.  0.  0.]\n",
      " [ 3.  2.  1.  0.  0.  0.  0.  0.  0.  0.  0.  0.  0.  0.  0.  0.  0.  0.  0.  0.]\n",
      " [ 0.  3.  2.  1.  0.  0.  0.  0.  0.  0.  0.  0.  0.  0.  0.  0.  0.  0.  0.  0.]\n",
      " [ 4.  0.  0.  0.  1.  0.  0.  0.  0.  0.  0.  0.  0.  0.  0.  0.  0.  0.  0.  0.]\n",
      " [ 0.  4.  0.  0.  2.  1.  0.  0.  0.  0.  0.  0.  0.  0.  0.  0.  0.  0.  0.  0.]\n",
      " [ 0.  0.  4.  0.  3.  2.  1.  0.  0.  0.  0.  0.  0.  0.  0.  0.  0.  0.  0.  0.]\n",
      " [ 0.  0.  0.  0.  4.  0.  0.  1.  0.  0.  0.  0.  0.  0.  0.  0.  0.  0.  0.  0.]\n",
      " [ 0.  0.  0.  0.  0.  4.  0.  2.  1.  0.  0.  0.  0.  0.  0.  0.  0.  0.  0.  0.]\n",
      " [ 0.  0.  0.  0.  0.  0.  0.  4.  0.  1.  0.  0.  0.  0.  0.  0.  0.  0.  0.  0.]\n",
      " [ 7.  0.  0.  0.  0.  0.  0.  0.  0.  0.  1.  0.  0.  0.  0.  0.  0.  0.  0.  0.]\n",
      " [ 0.  7.  0.  0.  0.  0.  0.  0.  0.  0.  2.  1.  0.  0.  0.  0.  0.  0.  0.  0.]\n",
      " [ 0.  0.  7.  0.  0.  0.  0.  0.  0.  0.  3.  2.  1.  0.  0.  0.  0.  0.  0.  0.]\n",
      " [ 0.  0.  0.  0.  7.  0.  0.  0.  0.  0.  4.  0.  0.  1.  0.  0.  0.  0.  0.  0.]\n",
      " [ 0.  0.  0.  0.  0.  7.  0.  0.  0.  0.  0.  4.  0.  2.  1.  0.  0.  0.  0.  0.]\n",
      " [ 0.  0.  0.  0.  0.  0.  0.  7.  0.  0.  0.  0.  0.  4.  0.  1.  0.  0.  0.  0.]\n",
      " [ 0.  0.  0.  0.  0.  0.  0.  0.  0.  0.  7.  0.  0.  0.  0.  0.  1.  0.  0.  0.]\n",
      " [ 0.  0.  0.  0.  0.  0.  0.  0.  0.  0.  0.  7.  0.  0.  0.  0.  2.  1.  0.  0.]\n",
      " [ 0.  0.  0.  0.  0.  0.  0.  0.  0.  0.  0.  0.  0.  7.  0.  0.  4.  0.  1.  0.]\n",
      " [ 0.  0.  0.  0.  0.  0.  0.  0.  0.  0.  0.  0.  0.  0.  0.  0.  7.  0.  0.  1.]]\n",
      "1.0 + 2.0 * e([1]) + 3.0 * e([[1,2]]) + 4.0 * e([2]) + 7.0 * e([3]) \n"
     ]
    }
   ],
   "source": [
    "print(c.expand_spr())\n",
    "print(c)"
   ]
  },
  {
   "cell_type": "code",
   "execution_count": 47,
   "metadata": {},
   "outputs": [],
   "source": [
    "a=spr_dualnum([0,1,2,3,4,5,6,7,8,9,10,11,12,13,14,15,16,17,18,19],[1,2,3,4,5,6,7,8,9,10,11,12,13,14,15,16,17,18,19,20],3)"
   ]
  },
  {
   "cell_type": "code",
   "execution_count": null,
   "metadata": {
    "collapsed": true
   },
   "outputs": [],
   "source": [
    "1.0 \n",
    "+ 2.0 * e([1]) \n",
    "+ 3.0 * e([[1,2]]) \n",
    "+ 4.0 * e([2]) \n",
    "+ 5.0 * e([1,2]) \n",
    "+ 6.0 * e([[2,2]]) \n",
    "+ 7.0 * e([3]) \n",
    "+ 8.0 * e([1,3]) \n",
    "+ 9.0 * e([2,3]) \n",
    "+ 10.0 * e([[3,2]])"
   ]
  },
  {
   "cell_type": "code",
   "execution_count": 56,
   "metadata": {},
   "outputs": [
    {
     "name": "stdout",
     "output_type": "stream",
     "text": [
      "1.0 + 2.0 * e([1]) + 3.0 * e([[1,2]]) + 4.0 * e([[1,3]]) + 5.0 * e([2]) + 6.0 * e([1,2]) + 7.0 * e([[1,2],2]) + 8.0 * e([[2,2]]) + 9.0 * e([1,[2,2]]) + 10.0 * e([[2,3]]) + 11.0 * e([3]) + 12.0 * e([1,3]) + 13.0 * e([[1,2],3]) + 14.0 * e([2,3]) + 15.0 * e([1,2,3]) + 16.0 * e([[2,2],3]) + 17.0 * e([[3,2]]) + 18.0 * e([1,[3,2]]) + 19.0 * e([2,[3,2]]) + 20.0 * e([[3,3]]) \n"
     ]
    }
   ],
   "source": [
    "print(a)"
   ]
  },
  {
   "cell_type": "code",
   "execution_count": 58,
   "metadata": {},
   "outputs": [
    {
     "name": "stdout",
     "output_type": "stream",
     "text": [
      "1.0 + 2.0 * e([1]) + 3.0 * e([[1,2]]) + 4.0 * e([[1,3]]) + 5.0 * e([2]) + 6.0 * e([1,2]) + 7.0 * e([[1,2],2]) + 8.0 * e([[2,2]]) + 9.0 * e([1,[2,2]]) + 10.0 * e([[2,3]]) + 11.0 * e([3]) + 12.0 * e([1,3]) + 13.0 * e([[1,2],3]) + 14.0 * e([2,3]) + 15.0 * e([1,2,3]) + 16.0 * e([[2,2],3]) + 17.0 * e([[3,2]]) + 18.0 * e([1,[3,2]]) + 19.0 * e([2,[3,2]]) + 20.0 * e([[3,3]]) \n",
      "100 loops, best of 3: 5.61 ms per loop\n"
     ]
    }
   ],
   "source": [
    "a.changeOrder(3)\n",
    "print(a)\n",
    "% timeit a.toMatrix()"
   ]
  },
  {
   "cell_type": "code",
   "execution_count": 57,
   "metadata": {},
   "outputs": [
    {
     "name": "stdout",
     "output_type": "stream",
     "text": [
      "100 loops, best of 3: 5.71 ms per loop\n"
     ]
    }
   ],
   "source": [
    "%timeit a.expand_spr()"
   ]
  },
  {
   "cell_type": "code",
   "execution_count": 26,
   "metadata": {},
   "outputs": [
    {
     "name": "stdout",
     "output_type": "stream",
     "text": [
      "7.0 * e([[3,2]]) \n"
     ]
    }
   ],
   "source": [
    "getDirArray(5,1)\n",
    "a =  7.0 * e([3])\n",
    "a.changeOrder(2)\n",
    "print(a)"
   ]
  },
  {
   "cell_type": "code",
   "execution_count": 22,
   "metadata": {},
   "outputs": [
    {
     "name": "stdout",
     "output_type": "stream",
     "text": [
      "4.0 + 15.0 * e([1]) + 3.0 * e([[1,2]]) - 10.0 * e([[1,2],[3,5]]) \n"
     ]
    },
    {
     "data": {
      "text/plain": [
       "array([[  4.,  15.,  15., ...,   0.,   0.,   0.],\n",
       "       [  0.,   3.,   3., ...,   0.,   0.,   0.],\n",
       "       [  0.,   0.,   4., ...,   0.,   0.,   0.],\n",
       "       ..., \n",
       "       [  0.,   0.,   0., ...,   0.,   0.,   0.],\n",
       "       [  0.,   0.,   0., ...,   0.,   0.,   0.],\n",
       "       [  0.,   0.,   0., ...,   0.,   0.,   0.]])"
      ]
     },
     "execution_count": 22,
     "metadata": {},
     "output_type": "execute_result"
    }
   ],
   "source": [
    "c =4.0- 10.0 * e([[1,2],[3,5]]) + 15.0 * e([1]) + 3.0 * e([[1,2]]) \n",
    "print(c)\n",
    "#4.0 + 15.0 * e([1]) + 3.0 * e([[1,2]]) - 10.0 * e([[1,2],[3,5]]) "
   ]
  },
  {
   "cell_type": "markdown",
   "metadata": {},
   "source": [
    "Notice first that the order of the number is 7 because the highest order term is $\\epsilon_1^2\\epsilon_3^5$ which has order 7 (the sum of all exponents for this term is 7).\n",
    "\n",
    "Now: What if we want to get the coefficient of ``` e([[1,2]])```? It's easy! \n",
    "\n",
    "If you know the corresponding index number (binary indexing), then just place the index just like getting a coefficient of a list in python. In this case we know that the binary indexing for ``` e([[1,2]])``` is 2, then, in order to get that coefficient (3.0), we just need to call ```c[2]```"
   ]
  },
  {
   "cell_type": "code",
   "execution_count": 21,
   "metadata": {},
   "outputs": [
    {
     "data": {
      "text/plain": [
       "3.0"
      ]
     },
     "execution_count": 21,
     "metadata": {},
     "output_type": "execute_result"
    }
   ],
   "source": [
    "c[2]"
   ]
  },
  {
   "cell_type": "markdown",
   "metadata": {},
   "source": [
    "Also, to get the other coefficients"
   ]
  },
  {
   "cell_type": "code",
   "execution_count": 22,
   "metadata": {},
   "outputs": [
    {
     "name": "stdout",
     "output_type": "stream",
     "text": [
      "Coefficient of e([1]):\n",
      "15.0\n",
      "\n",
      "Coefficient of e([[1,2],[3,5]]):\n",
      "-10.0\n"
     ]
    }
   ],
   "source": [
    "print('Coefficient of e([1]):')\n",
    "print(c[1])\n",
    "\n",
    "print('\\nCoefficient of e([[1,2],[3,5]]):')\n",
    "print(c[112])"
   ]
  },
  {
   "cell_type": "markdown",
   "metadata": {},
   "source": [
    "However, what happens if we want to get the coefficient of a number that does not belong to the array, like for example ```e([2])```? Let's try (recall the binary indexing for the case of an order 7 number is 128). "
   ]
  },
  {
   "cell_type": "code",
   "execution_count": 23,
   "metadata": {},
   "outputs": [
    {
     "data": {
      "text/plain": [
       "0.0"
      ]
     },
     "execution_count": 23,
     "metadata": {},
     "output_type": "execute_result"
    }
   ],
   "source": [
    "c[8]"
   ]
  },
  {
   "cell_type": "markdown",
   "metadata": {},
   "source": [
    "Interestingly, the result is ok, because as said before, each of the coefficients that does not exist in the coefs array means that that coefficient is zero. \n",
    "\n",
    "However, it's very difficult to understand how the index number works in a number we almost forgot that its order was 7. \n",
    "\n",
    "Hence, in order to get that coefficient in a more human frendly environment, the library has implemented a method called getDual(dirArray), to which we input the direction array (as in the human readable print version). It is used as shown"
   ]
  },
  {
   "cell_type": "code",
   "execution_count": 24,
   "metadata": {},
   "outputs": [
    {
     "name": "stdout",
     "output_type": "stream",
     "text": [
      "Get coefficient of direction e([1])\n",
      "15.0\n",
      "\n",
      "Get coefficient of direction e([[1,2]])\n",
      "3.0\n",
      "\n",
      "Get coefficient of direction e([[1,2],[3,5]])\n",
      "-10.0\n",
      "\n",
      "Get coefficient of direction e([2])\n",
      "0.0\n"
     ]
    }
   ],
   "source": [
    "print(\"Get coefficient of direction e([1])\")\n",
    "print(c.getDual([1]))\n",
    "\n",
    "print(\"\\nGet coefficient of direction e([[1,2]])\")\n",
    "print(c.getDual([[1,2]]))\n",
    "\n",
    "print(\"\\nGet coefficient of direction e([[1,2],[3,5]])\")\n",
    "print(c.getDual([[1,2],[3,5]]))\n",
    "\n",
    "print(\"\\nGet coefficient of direction e([2])\")\n",
    "print(c.getDual([2]))\n",
    "\n",
    "# Get coefficient of direction e([1])\n",
    "# 15.0\n",
    "\n",
    "# Get coefficient of direction e([[1,2]])\n",
    "# 3.0\n",
    "\n",
    "# Get coefficient of direction e([[1,2],[3,5]])\n",
    "# -10.0\n",
    "\n",
    "# Get coefficient of direction e([2])\n",
    "# 0.0"
   ]
  },
  {
   "cell_type": "markdown",
   "metadata": {},
   "source": [
    "In order to get the real part of the number we can use both ```c[0]``` or the method ```getDual([0])```. "
   ]
  },
  {
   "cell_type": "code",
   "execution_count": 25,
   "metadata": {},
   "outputs": [
    {
     "name": "stdout",
     "output_type": "stream",
     "text": [
      "Get real coefficient using c[0]\n",
      "4.0\n",
      "\n",
      "Get real coefficient using the method getDual([0])\n",
      "4.0\n"
     ]
    }
   ],
   "source": [
    "print(\"Get real coefficient using c[0]\")\n",
    "print(c[0])\n",
    "\n",
    "print(\"\\nGet real coefficient using the method getDual([0])\")\n",
    "print(c.getDual([0]))"
   ]
  },
  {
   "cell_type": "markdown",
   "metadata": {},
   "source": [
    "#### 1.3.2 Set coefficients of a ```spr_dualnum``` number \n",
    "\n",
    "Similar to the methods of getting coefficients, setting the values of coefficients works in the same way. If the coefficient already exist, it will be modified\n"
   ]
  },
  {
   "cell_type": "code",
   "execution_count": 26,
   "metadata": {},
   "outputs": [
    {
     "name": "stdout",
     "output_type": "stream",
     "text": [
      "4.0 + 15.0 * e([1]) + 3.0 * e([[1,2]]) - 10.0 * e([[1,2],[3,5]]) \n"
     ]
    },
    {
     "data": {
      "text/plain": [
       "spr_dualnum([0,1,2,112], [4.,15.,3.,-10.], 7)"
      ]
     },
     "execution_count": 26,
     "metadata": {},
     "output_type": "execute_result"
    }
   ],
   "source": [
    "print(c)\n",
    "c"
   ]
  },
  {
   "cell_type": "code",
   "execution_count": 27,
   "metadata": {},
   "outputs": [
    {
     "name": "stdout",
     "output_type": "stream",
     "text": [
      "4.0 + 15.0 * e([1]) + 180.5 * e([[1,2]]) - 10.0 * e([[1,2],[3,5]]) \n"
     ]
    }
   ],
   "source": [
    "c[2]=180.5\n",
    "print(c)\n",
    "#4.0 + 15.0 * e([1]) + 180.5 * e([[1,2]]) - 10.0 * e([[1,2],[3,5]]) "
   ]
  },
  {
   "cell_type": "markdown",
   "metadata": {},
   "source": [
    "They can also be modified using inline operations, such as:"
   ]
  },
  {
   "cell_type": "code",
   "execution_count": 28,
   "metadata": {},
   "outputs": [
    {
     "name": "stdout",
     "output_type": "stream",
     "text": [
      "- 1.0 + 17.0 * e([1]) + 180.5 * e([[1,2]]) - 30.0 * e([[1,2],[3,5]]) \n"
     ]
    }
   ],
   "source": [
    "c[112]*=3\n",
    "c[1]+=2\n",
    "c[0] -= 5.0\n",
    "print(c)"
   ]
  },
  {
   "cell_type": "markdown",
   "metadata": {},
   "source": [
    "But, what happens if the coefficient does not exist? The library will create it for you! In this case, if we know the direction on index 128, which points to ```e([2])```, then what we most do is the following:"
   ]
  },
  {
   "cell_type": "code",
   "execution_count": 29,
   "metadata": {},
   "outputs": [
    {
     "name": "stdout",
     "output_type": "stream",
     "text": [
      "- 1.0 + 17.0 * e([1]) + 180.5 * e([[1,2]]) + 100.0 * e([2]) - 30.0 * e([[1,2],[3,5]]) \n"
     ]
    }
   ],
   "source": [
    "c[8]=100\n",
    "print(c)"
   ]
  },
  {
   "cell_type": "markdown",
   "metadata": {},
   "source": [
    "And if the coefficient results in zero (or less than an internal value of tolerance, which by default is $10^{-13}$ then the value is removed from the array"
   ]
  },
  {
   "cell_type": "code",
   "execution_count": 30,
   "metadata": {},
   "outputs": [
    {
     "name": "stdout",
     "output_type": "stream",
     "text": [
      "17.0 * e([1]) + 180.5 * e([[1,2]]) + 100.0 * e([2]) - 30.0 * e([[1,2],[3,5]]) \n"
     ]
    },
    {
     "data": {
      "text/plain": [
       "spr_dualnum([1,2,8,112], [17.,180.5,100.,-30.], 7)"
      ]
     },
     "execution_count": 30,
     "metadata": {},
     "output_type": "execute_result"
    }
   ],
   "source": [
    "c[0]+=1.0\n",
    "\n",
    "print(c)\n",
    "#c.checkZeros()\n",
    "\n",
    "\n",
    "c\n"
   ]
  },
  {
   "cell_type": "markdown",
   "metadata": {},
   "source": [
    "The real coefficient was removed from the index and coefs arrays, because the value is less than the tolerance value.\n",
    "\n",
    "The library has also a human friendly interface for setting coefficients. The method to be used is ```setDual(dirArray,value)```, and works the same as explained before: the ```dirArray``` argument is the human readable direiction and value is the value of the coefficient of that direction.  Here are some examples"
   ]
  },
  {
   "cell_type": "code",
   "execution_count": 31,
   "metadata": {},
   "outputs": [
    {
     "name": "stdout",
     "output_type": "stream",
     "text": [
      "Set real coefficient to 2.0\n",
      "2.0 + 17.0 * e([1]) + 180.5 * e([[1,2]]) + 100.0 * e([2]) - 30.0 * e([[1,2],[3,5]]) \n",
      "\n",
      "Set e([1]) coefficient to 0.0\n",
      "2.0 + 180.5 * e([[1,2]]) + 100.0 * e([2]) - 30.0 * e([[1,2],[3,5]]) \n",
      "\n",
      "Set e([[1,2],[3,5]]) coefficient to 0.5\n",
      "2.0 + 180.5 * e([[1,2]]) + 100.0 * e([2]) + 0.5 * e([[1,2],[3,5]]) \n",
      "\n",
      "Set e([[3,7]]) coefficient to 4.0\n",
      "2.0 + 180.5 * e([[1,2]]) + 100.0 * e([2]) + 0.5 * e([[1,2],[3,5]]) + 4.0 * e([[3,7]]) \n"
     ]
    }
   ],
   "source": [
    "print(\"Set real coefficient to 2.0\")\n",
    "c.setDual([0],2)\n",
    "print(c)\n",
    "\n",
    "print(\"\\nSet e([1]) coefficient to 0.0\")\n",
    "c.setDual([1],0.0)\n",
    "print(c)\n",
    "\n",
    "print(\"\\nSet e([[1,2],[3,5]]) coefficient to 0.5\")\n",
    "c.setDual([[1,2],[3,5]],0.5)\n",
    "print(c)\n",
    "\n",
    "print(\"\\nSet e([[3,7]]) coefficient to 4.0\")\n",
    "c.setDual([[3,7]],4.0)\n",
    "print(c)\n",
    "# Set real coefficient to 1.0\n",
    "# 2.0 + 17.0 * e([1]) + 180.5 * e([[1,2]]) + 100.0 * e([2]) - 30.0 * e([[1,2],[3,5]]) \n",
    "\n",
    "# Set e([1]) coefficient to 0.0\n",
    "# 2.0 + 180.5 * e([[1,2]]) + 100.0 * e([2]) - 30.0 * e([[1,2],[3,5]]) \n",
    "\n",
    "# Set e([[1,2],[3,5]]) coefficient to 0.5\n",
    "# 2.0 + 180.5 * e([[1,2]]) + 100.0 * e([2]) + 0.5 * e([[1,2],[3,5]]) \n",
    "\n",
    "# Set e([[3,7]]) coefficient to 4.0\n",
    "# 2.0 + 180.5 * e([[1,2]]) + 100.0 * e([2]) + 0.5 * e([[1,2],[3,5]]) + 4.0 * e([[3,7]]) "
   ]
  },
  {
   "cell_type": "markdown",
   "metadata": {},
   "source": [
    "### 1.4 Conjugate\n",
    "\n",
    "The conjugate of a dual number works just as the conjugate of a complex number. Here, the idea is given a dual number ```a```, the goal is to obtain a dual number ```b``` such that when multiplyed by ```a``` the result is a real number (hopefully different than zero).\n",
    "\n",
    "In order to get the conjugate number, the class ```spr_dualnum``` has implemented a method called ```conj()```, which returns the conjugate of the number. Let's see an example:"
   ]
  },
  {
   "cell_type": "code",
   "execution_count": 35,
   "metadata": {},
   "outputs": [
    {
     "name": "stdout",
     "output_type": "stream",
     "text": [
      "Number a, as defined above:\n",
      "5.0 + 1.0 * e([1]) \n",
      "125.0 - 25.0 * e([1]) + 5.0 * e([[1,2]]) \n"
     ]
    },
    {
     "data": {
      "text/plain": [
       "spr_dualnum([0,1,2], [125.,-25.,5.], 2)"
      ]
     },
     "execution_count": 35,
     "metadata": {},
     "output_type": "execute_result"
    }
   ],
   "source": [
    "print(\"Number a, as defined above:\")\n",
    "print(a)\n",
    "conj_a = a.conj()\n",
    "print(conj_a)\n",
    "conj_a"
   ]
  },
  {
   "cell_type": "code",
   "execution_count": 36,
   "metadata": {},
   "outputs": [
    {
     "data": {
      "text/plain": [
       "spr_dualnum([0,1], [5.,1.], 2)"
      ]
     },
     "execution_count": 36,
     "metadata": {},
     "output_type": "execute_result"
    }
   ],
   "source": [
    "a"
   ]
  },
  {
   "cell_type": "code",
   "execution_count": 37,
   "metadata": {},
   "outputs": [
    {
     "name": "stdout",
     "output_type": "stream",
     "text": [
      "625.0 \n"
     ]
    },
    {
     "data": {
      "text/plain": [
       "spr_dualnum([0], [625.], 2)"
      ]
     },
     "execution_count": 37,
     "metadata": {},
     "output_type": "execute_result"
    }
   ],
   "source": [
    "mult_result_conjmult = a*conj_a\n",
    "print(mult_result_conjmult)\n",
    "mult_result_conjmult"
   ]
  },
  {
   "cell_type": "markdown",
   "metadata": {},
   "source": [
    "We see effectively that this conjugate number sets its multiplication with respect to the original value into a real number. Have in mind that the only restriction there is, is that the real part of the number must be different than zero, otherwise the conjugate will be zero as well. \n",
    "\n",
    "The reason is very simple: once any coeficient is placed in a dual direction it can never be operated to result in a pure real direction, i.e. the exponents of the dual directions will allways be rising (or staying the same), and therefore no direction of any coefficient can be placed into the real components.  "
   ]
  },
  {
   "cell_type": "code",
   "execution_count": 38,
   "metadata": {},
   "outputs": [
    {
     "name": "stdout",
     "output_type": "stream",
     "text": [
      "0.0\n"
     ]
    },
    {
     "data": {
      "text/plain": [
       "spr_dualnum([], [], 2)"
      ]
     },
     "execution_count": 38,
     "metadata": {},
     "output_type": "execute_result"
    }
   ],
   "source": [
    "b=spr_dualnum([1], [6.], 2)\n",
    "# Compute the conjugate of the number.\n",
    "conj_b=b.conj()\n",
    "print(conj_b)\n",
    "conj_b"
   ]
  },
  {
   "cell_type": "markdown",
   "metadata": {},
   "source": [
    "Notice that this is the representation of number zero in the library.\n",
    "\n",
    "This method is also applicable to other numbers, such as ```c``` as defined above.\n"
   ]
  },
  {
   "cell_type": "code",
   "execution_count": 39,
   "metadata": {},
   "outputs": [
    {
     "name": "stdout",
     "output_type": "stream",
     "text": [
      "Recall c:\n",
      "2.0 + 180.5 * e([[1,2]]) + 100.0 * e([2]) + 0.5 * e([[1,2],[3,5]]) + 4.0 * e([[3,7]]) \n",
      "\n",
      "Now compute the conjugate of c:\n",
      "\n",
      "128.0 - 11552.0 * e([[1,2]]) + 1042568.0 * e([[1,4]]) - 94091762.0 * e([[1,6]]) - 6400.0 * e([2]) + 1155200.0 * e([[1,2],2]) - 156385200.0 * e([[1,4],2]) + 18818352400.0 * e([[1,6],2]) + 320000.0 * e([[2,2]]) - 86640000.0 * e([[1,2],[2,2]]) + 15638520000.0 * e([[1,4],[2,2]]) - 16000000.0 * e([[2,3]]) + 5776000000.0 * e([[1,2],[2,3]]) - 1.30321e+12 * e([[1,4],[2,3]]) + 800000000.0 * e([[2,4]]) - 361000000000.0 * e([[1,2],[2,4]]) - 40000000000.0 * e([[2,5]]) + 2.166e+13 * e([[1,2],[2,5]]) + 2e+12 * e([[2,6]]) - 1e+14 * e([[2,7]]) - 32.0 * e([[1,2],[3,5]]) - 256.0 * e([[3,7]]) \n"
     ]
    },
    {
     "data": {
      "text/plain": [
       "spr_dualnum([0,2,8,32,128,130,136,160,256,258,264,512,514,520,1024,1026,2048,2050,4096,8192,262146,1048576], [1.28000000e+02,-1.15520000e+04,1.04256800e+06,-9.40917620e+07,\n",
       "-6.40000000e+03,1.15520000e+06,-1.56385200e+08,1.88183524e+10,\n",
       "3.20000000e+05,-8.66400000e+07,1.56385200e+10,-1.60000000e+07,\n",
       "5.77600000e+09,-1.30321000e+12,8.00000000e+08,-3.61000000e+11,\n",
       "-4.00000000e+10,2.16600000e+13,2.00000000e+12,-1.00000000e+14,\n",
       "-3.20000000e+01,-2.56000000e+02], 7)"
      ]
     },
     "execution_count": 39,
     "metadata": {},
     "output_type": "execute_result"
    }
   ],
   "source": [
    "print('Recall c:')\n",
    "print(c)\n",
    "\n",
    "\n",
    "print('\\nNow compute the conjugate of c:\\n')\n",
    "conj_c = c.conj()\n",
    "print(conj_c)\n",
    "conj_c"
   ]
  },
  {
   "cell_type": "code",
   "execution_count": 40,
   "metadata": {},
   "outputs": [
    {
     "data": {
      "text/plain": [
       "spr_dualnum([0], [256.], 7)"
      ]
     },
     "execution_count": 40,
     "metadata": {},
     "output_type": "execute_result"
    }
   ],
   "source": [
    "c*conj_c"
   ]
  },
  {
   "cell_type": "markdown",
   "metadata": {},
   "source": [
    "Another interesting application of the ```conj()``` method is to implement it with the attribute ```div=1```. What this will do is, if the real coefficient of the number is not zero, then it will return the conjugate of the number, so that when multiplied by the number the result is 1."
   ]
  },
  {
   "cell_type": "code",
   "execution_count": 41,
   "metadata": {},
   "outputs": [
    {
     "name": "stdout",
     "output_type": "stream",
     "text": [
      "0.2 - 0.04 * e([1]) + 0.008 * e([[1,2]]) \n"
     ]
    },
    {
     "data": {
      "text/plain": [
       "spr_dualnum([0,1,2], [0.2,-0.04,0.008], 2)"
      ]
     },
     "execution_count": 41,
     "metadata": {},
     "output_type": "execute_result"
    }
   ],
   "source": [
    "conj_a_div=a.conj(div=1)\n",
    "\n",
    "print(conj_a_div)\n",
    "conj_a_div\n"
   ]
  },
  {
   "cell_type": "code",
   "execution_count": 42,
   "metadata": {},
   "outputs": [
    {
     "name": "stdout",
     "output_type": "stream",
     "text": [
      "1.0 \n"
     ]
    },
    {
     "data": {
      "text/plain": [
       "spr_dualnum([0], [1.], 2)"
      ]
     },
     "execution_count": 42,
     "metadata": {},
     "output_type": "execute_result"
    }
   ],
   "source": [
    "print(a*conj_a_div)\n",
    "a*conj_a_div"
   ]
  },
  {
   "cell_type": "markdown",
   "metadata": {},
   "source": [
    " "
   ]
  },
  {
   "cell_type": "markdown",
   "metadata": {
    "collapsed": true
   },
   "source": [
    "## 2.  Creation of high order hyper dual numbers, general rules\n",
    "\n",
    "We have just seen that the library is capable of handling the situations described above. However, some rules are placed into the library so that the application of the numbers is straight forward and efficient. In this sense we most be aware of the \n",
    "\n",
    "\n",
    "### 2.1 Creation\n",
    "Notice the library has no implementation to detect creation errors. For example, two arrays of the same number of elements most be created, and also the array of index numbers must be in accordance with the order and must contain no errors within it \n",
    "\n",
    "**If you are not expert in (or do not understand completelly) the manipulation of the index terms, it is highly recomended to use the human friendly method like ```e([[1,2],3])```.**\n",
    "\n",
    "The index array must be ordered in an ascending mode, with no errors containing for example terms with $\\epsilon_1\\epsilon_1^3$ elements. The library cannot handle sums or substractions with these. In summary, in the binary indexing (and in the human friendly creation) only one element of each direction must appear (e.g., only one $\\epsilon_1$, only one $\\epsilon_2$ at each term).\n",
    "\n",
    "\n",
    "### 2.2 Summation\n",
    "Summation of two numbers has the property to preserve the maximum order of the numbers. In this sense, if one creates a number using the ```e([[1,2],3])``` alike method, then the maximum order of the number will be the order of the term that has the maximum order. We can see this in the following example:"
   ]
  },
  {
   "cell_type": "code",
   "execution_count": 43,
   "metadata": {},
   "outputs": [
    {
     "name": "stdout",
     "output_type": "stream",
     "text": [
      "Create a number with coefficient of e([1]):\n",
      "2.0 * e([1]) \n",
      "With an order of:\n",
      "1\n"
     ]
    }
   ],
   "source": [
    "print(\"Create a number with coefficient of e([1]):\")\n",
    "d = 2*e([1]) \n",
    "print(d)\n",
    "print(\"With an order of:\")\n",
    "print(d.maxorder)"
   ]
  },
  {
   "cell_type": "code",
   "execution_count": 44,
   "metadata": {},
   "outputs": [
    {
     "name": "stdout",
     "output_type": "stream",
     "text": [
      "Create a number with coefficient of e([1]) and e([1,2,3]):\n",
      "2.0 * e([1]) - 4.0 * e([1,2,3]) \n",
      "With an order of:\n",
      "3\n"
     ]
    }
   ],
   "source": [
    "print(\"Create a number with coefficient of e([1]) and e([1,2,3]):\")\n",
    "d = 2*e([1]) -4*e([1,2,3])\n",
    "print(d)\n",
    "print(\"With an order of:\")\n",
    "print(d.maxorder)"
   ]
  },
  {
   "cell_type": "markdown",
   "metadata": {},
   "source": [
    "### 2.3 Multiplication\n",
    "\n",
    "\n",
    "It only preserves the lowest order between the two multipliers. If we want to preserve the maximum order we must explicitly modify the lowest order number."
   ]
  },
  {
   "cell_type": "code",
   "execution_count": 45,
   "metadata": {},
   "outputs": [
    {
     "data": {
      "text/plain": [
       "spr_dualnum([0,9], [2.5,3.], 3)"
      ]
     },
     "execution_count": 45,
     "metadata": {},
     "output_type": "execute_result"
    }
   ],
   "source": [
    "# Create a number and change its order to order 3:\n",
    "f = 2.5+3*e([1,2])\n",
    "f.changeOrder(3)\n",
    "f\n"
   ]
  },
  {
   "cell_type": "code",
   "execution_count": 46,
   "metadata": {},
   "outputs": [
    {
     "data": {
      "text/plain": [
       "spr_dualnum([0,65], [5.,3.], 5)"
      ]
     },
     "execution_count": 46,
     "metadata": {},
     "output_type": "execute_result"
    }
   ],
   "source": [
    "# Create a number and change its order to order 5:\n",
    "g = 5.0+3*e([1,[2,2]])\n",
    "g.changeOrder(5)\n",
    "g"
   ]
  },
  {
   "cell_type": "code",
   "execution_count": 47,
   "metadata": {},
   "outputs": [
    {
     "name": "stdout",
     "output_type": "stream",
     "text": [
      "Result without changing the orders of the numbers.\n",
      "12.5 + 15.0 * e([1,2]) + 7.5 * e([1,[2,2]]) \n"
     ]
    },
    {
     "data": {
      "text/plain": [
       "spr_dualnum([0,9,17], [12.5,15.,7.5], 3)"
      ]
     },
     "execution_count": 47,
     "metadata": {},
     "output_type": "execute_result"
    }
   ],
   "source": [
    "print(\"Result without changing the orders of the numbers.\")\n",
    "mult_result_fg=f*g\n",
    "print(mult_result_fg)\n",
    "mult_result_fg"
   ]
  },
  {
   "cell_type": "code",
   "execution_count": 48,
   "metadata": {},
   "outputs": [
    {
     "name": "stdout",
     "output_type": "stream",
     "text": [
      "Result changing the orders of the numbers.\n",
      "12.5 + 15.0 * e([1,2]) + 7.5 * e([1,[2,2]]) + 9.0 * e([[1,2],[2,3]]) \n"
     ]
    },
    {
     "data": {
      "text/plain": [
       "spr_dualnum([0,33,65,130], [12.5,15.,7.5,9.], 5)"
      ]
     },
     "execution_count": 48,
     "metadata": {},
     "output_type": "execute_result"
    }
   ],
   "source": [
    "h=f.copy()\n",
    "h.changeOrder(5)\n",
    "print(\"Result changing the orders of the numbers.\")\n",
    "mult_result_hg_order=h*g\n",
    "print(mult_result_hg_order)\n",
    "mult_result_hg_order"
   ]
  },
  {
   "cell_type": "markdown",
   "metadata": {},
   "source": [
    "As we see, the resulting number in the first scenario has order 3, and therefore deprecates higher order terms. However letting both multiplyed numebers be of the same maximum order, then the multiplication gives an extra term."
   ]
  },
  {
   "cell_type": "markdown",
   "metadata": {},
   "source": [
    "## 3. Applications\n",
    "\n",
    "In general, dual numbers have most applications into finding derivatives of functions in an exact way. In this sense let's see some applications, different approaches to get the results and some comparisons with other methods such as multicomplex numbers.\n",
    "\n",
    "### 3.1 Derivatives of polynomials\n",
    "Dual numbers in general can be used to find derivatives of functions (whichever they are). The most strightforward way to use them is into polynomials.\n",
    "\n",
    "#### 3.1.1 Single variable functions\n",
    "\n",
    "Consider a $C^n$ function $f: \\mathbb{R} \\rightarrow \\mathbb{R}$. Taking into account the Taylor series expansion of any function\n",
    "\n",
    "$$\n",
    "f(z) = \\sum_{k=0}^{\\infty}    \\frac{f^k(a)}{k!}(z-a)^k\n",
    "$$\n",
    "\n",
    "Let´s take $z=x_0+\\epsilon_1$ and $a=x_0$. Then what we get is the following:\n",
    "\n",
    "$$\n",
    "f(x_0+\\epsilon) = f(x_0) + f_x(x_0)\\epsilon_1 +\n",
    "\\frac{f_{xx}(x_0)}{2!}{\\epsilon_1^2} +\n",
    "\\frac{f_{xxx}(x_0)}{3!}{\\epsilon_1^3} + \n",
    "\\frac{f_{xxxx}(x_0)}{4!}{\\epsilon_1^4} + ...\n",
    "$$\n",
    "\n",
    "Notice that we get at each $i$'th order direction the $i$'th order derivative evaluated at $a=x_0$. \n",
    "\n",
    "To apply this in a real example let's consider the following function:\n",
    "\n",
    "$$\n",
    "f(x)= 10x^5-3x^3+2x-10\n",
    "$$"
   ]
  },
  {
   "cell_type": "code",
   "execution_count": 49,
   "metadata": {
    "collapsed": true
   },
   "outputs": [],
   "source": [
    "def funct_1(x):\n",
    "    return 10.0*x**5 -3.0*x**3+2.0*x-10.0"
   ]
  },
  {
   "cell_type": "markdown",
   "metadata": {},
   "source": [
    "The analytical defivatives of the funciton are:\n",
    "$$\n",
    "f_{x}(x)= 50x^4-9x^2+2, \\\\ \n",
    "f_{xx}(x)= 200x^3-18x,  \\\\ \n",
    "f_{xxx}(x)= 600x^2-18, \\\\ \n",
    "f_{xxxx}(x)= 1200x, \\\\ \n",
    "f_{xxxxx}(x)= 1200,\n",
    "$$\n",
    "\n",
    "If we consider an $x_0=2.5$, then each derivative we obtain becomes:\n",
    "$$\n",
    "f(2.5) = 924.6875 \\\\\n",
    "f_{x}(2.5)= 1898.875, \\\\ \n",
    "f_{xx}(2.5)= 3080,  \\\\ \n",
    "f_{xxx}(2.5)= 3732, \\\\ \n",
    "f_{xxxx}(2.5)= 3000, \\\\ \n",
    "f_{xxxxx}(2.5)= 1200,\n",
    "$$\n",
    "\n",
    "Let's now apply the taylor series expansion to the number. Therefore let's define $x_e = 2.5+\\epsilon_1$. Since we want to obtain higher order terms, we need to redefine the order of the number. Therefore we will redefine it to order 5 (because we want to get  up to the fifth derivative)."
   ]
  },
  {
   "cell_type": "code",
   "execution_count": 50,
   "metadata": {},
   "outputs": [
    {
     "name": "stdout",
     "output_type": "stream",
     "text": [
      "2.5 + 1.0 * e([1]) \n"
     ]
    },
    {
     "data": {
      "text/plain": [
       "spr_dualnum([0,1], [2.5,1.], 5)"
      ]
     },
     "execution_count": 50,
     "metadata": {},
     "output_type": "execute_result"
    }
   ],
   "source": [
    "x_e=2.5+e([1])\n",
    "x_e.changeOrder(5)\n",
    "print(x_e)\n",
    "x_e"
   ]
  },
  {
   "cell_type": "markdown",
   "metadata": {},
   "source": [
    "Now let's evaluate the function in $x_e$"
   ]
  },
  {
   "cell_type": "code",
   "execution_count": 51,
   "metadata": {},
   "outputs": [
    {
     "name": "stdout",
     "output_type": "stream",
     "text": [
      "924.6875 + 1898.875 * e([1]) + 1540.0 * e([[1,2]]) + 622.0 * e([[1,3]]) + 125.0 * e([[1,4]]) + 10.0 * e([[1,5]]) \n"
     ]
    },
    {
     "data": {
      "text/plain": [
       "spr_dualnum([0,1,2,4,8,16], [924.6875,1898.875,1540.,622.,125.,10.], 5)"
      ]
     },
     "execution_count": 51,
     "metadata": {},
     "output_type": "execute_result"
    }
   ],
   "source": [
    "result_1=funct_1(x_e)\n",
    "print(result_1)\n",
    "result_1"
   ]
  },
  {
   "cell_type": "markdown",
   "metadata": {},
   "source": [
    "We see that the first two values correspond to the function and first derivative evaluated at $2.5$, but let's see what happens with the numbers. In order to retreive the values of the other derivatives, the solution must take into account the following:\n",
    "\n",
    "if our number results in something like\n",
    "$$\n",
    "\\mbox{result} = a_0 + a_1\\epsilon_1 + a_2\\epsilon_1^2 + a_3\\epsilon_1^3 + a_4\\epsilon_1^4+... \n",
    "$$\n",
    "\n",
    "and considering that \n",
    "$$\n",
    "f(x_0+\\epsilon) = f(x_0) + f_x(x_0)\\epsilon_1 +\n",
    "\\frac{f_{xx}(x_0)}{2!}{\\epsilon_1^2} +\n",
    "\\frac{f_{xxx}(x_0)}{3!}{\\epsilon_1^3} + \n",
    "\\frac{f_{xxxx}(x_0)}{4!}{\\epsilon_1^4} + ...\n",
    "$$\n",
    "\n",
    "then to retreive the functions, we most do the following:\n",
    "$$\n",
    "f(x_0) = a_0 \\\\\n",
    "f_x(x_0) = a_1 \\\\\n",
    "f_{xx}(x_0)=a_2*2! \\\\\n",
    "f_{xxx}(x_0)=a_3*3! \\\\ \n",
    "f_{xxxx}(x_0)=a_4*4! \\\\ \n",
    "\\mbox{and so on...}\n",
    "$$\n",
    "\n",
    "As a result, in order to evaluate the result, consider the following:"
   ]
  },
  {
   "cell_type": "code",
   "execution_count": 52,
   "metadata": {},
   "outputs": [
    {
     "name": "stdout",
     "output_type": "stream",
     "text": [
      "f:\n",
      "924.6875\n",
      "\n",
      "f_x:\n",
      "1898.875\n",
      "\n",
      "f_xx:\n",
      "3080.0\n",
      "\n",
      "f_xxx:\n",
      "3732.0\n",
      "\n",
      "f_xxxx:\n",
      "3000.0\n",
      "\n",
      "f_xxxxx:\n",
      "1200.0\n"
     ]
    }
   ],
   "source": [
    "f=result_1.getDual([0])\n",
    "\n",
    "f_x=result_1.getDual([1])\n",
    "\n",
    "f_xx=result_1.getDual([[1,2]]) * 2*1\n",
    "\n",
    "f_xxx=result_1.getDual([[1,3]]) * 3*2*1\n",
    "\n",
    "f_xxxx=result_1.getDual([[1,4]]) * 4*3*2*1\n",
    "\n",
    "f_xxxxx=result_1.getDual([[1,5]]) * 5*4*3*2*1\n",
    "\n",
    "# Print results:\n",
    "\n",
    "print(\"f:\")\n",
    "print(f)\n",
    "\n",
    "print(\"\\nf_x:\")\n",
    "print(f_x)\n",
    "\n",
    "print(\"\\nf_xx:\")\n",
    "print(f_xx)\n",
    "\n",
    "print(\"\\nf_xxx:\")\n",
    "print(f_xxx)\n",
    "\n",
    "print(\"\\nf_xxxx:\")\n",
    "print(f_xxxx)\n",
    "\n",
    "print(\"\\nf_xxxxx:\")\n",
    "print(f_xxxxx)"
   ]
  },
  {
   "cell_type": "markdown",
   "metadata": {},
   "source": [
    "Which for the sake of comparison, let's recall the results:\n",
    "\n",
    "$$\n",
    "f(2.5) = 924.6875 \\\\\n",
    "f_{x}(2.5)= 1898.875, \\\\ \n",
    "f_{xx}(2.5)= 3080,  \\\\ \n",
    "f_{xxx}(2.5)= 3732, \\\\ \n",
    "f_{xxxx}(2.5)= 3000, \\\\ \n",
    "f_{xxxxx}(2.5)= 1200\n",
    "$$\n",
    "\n",
    "We see exact computation of the function's derivatives."
   ]
  },
  {
   "cell_type": "markdown",
   "metadata": {},
   "source": [
    "#### 3.1.2 Multi variable functions\n",
    "\n",
    "Consider a function $f: \\mathbb{R}^n \\rightarrow \\mathbb{R}$,  $f(x_1,x_2,...,x_n)$. Taking into account the Taylor series expansion of multivariable functions\n",
    "\n",
    "$$\n",
    "f(z_1,z_2,...,z_n) = \\\\\n",
    "\\sum_{k_1=0}^{\\infty}\\sum_{k_2=0}^{\\infty}...\\sum_{k_n=0}^{\\infty}    \n",
    "\\frac{(z_1-a_1)^{k_1}(z_2-a_2)^{k_2}...(z_n-a_n)^{k_n}}{k_1!k_2!...k_n!}\n",
    "\\left(\n",
    "\\frac{ \\partial^{k_1+k_2+...+k_n}f }{ \\partial x_1^{k_1} \\partial x_2^{k_2} ... \\partial x_n^{k_n} }\n",
    "\\right)\n",
    "(a_1,a_2,...,a_n)\n",
    "$$\n",
    "\n",
    "\n",
    "Now consider $z_1=x_{1_0}+\\epsilon_1$, $z_2=x_{2_0}+\\epsilon_2$, ..., $z_n=x_{n_0}+\\epsilon_n$; and $a_1 = x_{1_0}$, $a_2 = x_{2_0}$, ...,$a_n = x_{n_0}$, we obtain:\n",
    "\n",
    "$$\n",
    "f(x_{1_0}+\\epsilon_1,x_{2_0}+\\epsilon_2,...,x_{n_0}+\\epsilon_n) = \\\\\n",
    "\\sum_{k_1=0}^{\\infty}\\sum_{k_2=0}^{\\infty}...\\sum_{k_n=0}^{\\infty}    \n",
    "\\frac{\\epsilon_1^{k_1}\\epsilon_2^{k_2}...\\epsilon_n^{k_n}}{k_1!k_2!...k_n!}\n",
    "\\left(\n",
    "\\frac{ \\partial^{k_1+k_2+...+k_n}f }{ \\partial x_1^{k_1} \\partial x_2^{k_2} ... \\partial x_n^{k_n} }\n",
    "\\right)\n",
    "(x_{1_0},x_{2_0},...,x_{n_0})\n",
    "$$\n",
    "\n",
    "\n",
    "Notice again that the order of the derivative is the same order of the dual number that we get, i.e., the sum $k_1+k_2+...+k_n$ determines the order of the dual direction and the order of the derivative to associate.\n",
    "\n",
    "For example, a two variable function up to order 2 derivatives gives:\n",
    "\n",
    "$$\n",
    "f(x_{1_0}+\\epsilon_1,x_{2_0}+\\epsilon_2) = \\\\\n",
    "f(x_{1_0},x_{2_0}) + \\\\\n",
    "\\frac{\\partial f }{ \\partial x_1} \\ \\epsilon_1 + \n",
    "\\frac{1}{2!}\\frac{\\partial^2 f }{ \\partial x_1^2}(x_{1_0},x_{2_0})  \\ \\epsilon_1^2 +\\\\\n",
    "\\frac{\\partial f }{ \\partial x_2}(x_{1_0},x_{2_0})  \\ \\epsilon_2 + \n",
    "\\frac{\\partial^2 f }{ \\partial x_1\\partial x_2}(x_{1_0},x_{2_0})  \\ \\epsilon_2\\epsilon_1 +\n",
    "\\frac{1}{2!}\\frac{\\partial^2 f }{ \\partial x_2^2}(x_{1_0},x_{2_0}) \\  \\epsilon_2^2\n",
    "$$\n",
    "\n",
    "To apply this to a simple example, let's consider the function \n",
    "\n",
    "$$\n",
    "f(x,y) = 4x^5y^4\n",
    "$$\n",
    "\n",
    "Let's define the function in the python environment:"
   ]
  },
  {
   "cell_type": "code",
   "execution_count": 53,
   "metadata": {
    "collapsed": true
   },
   "outputs": [],
   "source": [
    "def funct_2(x,y):\n",
    "    return 4*x**5*y**4"
   ]
  },
  {
   "cell_type": "markdown",
   "metadata": {},
   "source": [
    "Analitically, let's define the derivatives of the function:\n",
    "$$\n",
    "f_x(x,y) = 20x^4y^4, \\ \\ f_y(x,y) = 16x^5y^3\n",
    "$$\n",
    "\n",
    "Now, how do we retreive the function's first derivatives by just evaluating the function with dual numbers? It's easy! \n",
    "\n",
    "According to the taylor series expansion of the function, we can retreive the function derivatives by evaluating the function at the point we want, say $(x_0,y_0)$ with a perturbation on the dual direction. In this case, the perturbation will occur as follows: $(x_0+\\epsilon_1,y_0+\\epsilon_2)$\n",
    "\n",
    "To get first derivatives we most only evaluate the function into dual numbers of order one. In this way, we define the point $(x_0=2,y_0=3)$ and we get:"
   ]
  },
  {
   "cell_type": "code",
   "execution_count": 54,
   "metadata": {
    "collapsed": true
   },
   "outputs": [],
   "source": [
    "x=2.0+e([1])\n",
    "y=3.0+e([2])"
   ]
  },
  {
   "cell_type": "code",
   "execution_count": 55,
   "metadata": {},
   "outputs": [
    {
     "name": "stdout",
     "output_type": "stream",
     "text": [
      "10368.0 + 25920.0 * e([1]) + 13824.0 * e([2]) \n"
     ]
    }
   ],
   "source": [
    "result_2 = funct_2(x,y)\n",
    "print(result_2)"
   ]
  },
  {
   "cell_type": "markdown",
   "metadata": {},
   "source": [
    "Analitically, the results of evaluating all function and its derivatives are:\n",
    "$$\n",
    "f(2,3) = 10368\n",
    "$$\n",
    "$$\n",
    "f_x(2,3) = 25920\n",
    "$$\n",
    "$$\n",
    "f_y(2,3) = 13824\n",
    "$$"
   ]
  },
  {
   "cell_type": "markdown",
   "metadata": {},
   "source": [
    "Now, interestingly, the coefficients that we obtain are the following:\n",
    "``` 2048.0 ``` on the real part, wich represents the function evaluated at $(2,2)$, the coefficient of $\\epsilon_1$ is the first derivative with respect to $x$ (as is) and the coefficient of $\\epsilon_2$ is the first derivative with respect to $y$ function evaluated.\n",
    "\n",
    "The seccond derivatives of the function are:\n",
    "$$\n",
    "f_{xx}(x,y) = 80x^3y^4, \\\\\n",
    "f_{xy}(x,y) = 80x^4y^3, \\\\\n",
    "f_{yy}(x,y) = 48x^5y^2\n",
    "$$\n",
    "\n",
    "Wich evaluated at $(2,3)$ gives\n",
    "$$\n",
    "f_{xx}(2,3) = 51840, \\\\ \n",
    "f_{xy}(2,3) = 34560, \\\\\n",
    "f_{yy}(2,3) = 13824\n",
    "$$\n",
    "\n",
    "\n",
    "Lets now change the order of both numbers, and see what we get:\n"
   ]
  },
  {
   "cell_type": "code",
   "execution_count": 56,
   "metadata": {},
   "outputs": [
    {
     "name": "stdout",
     "output_type": "stream",
     "text": [
      "10368.0 + 25920.0 * e([1]) + 25920.0 * e([[1,2]]) + 13824.0 * e([2]) + 34560.0 * e([1,2]) + 6912.0 * e([[2,2]]) \n"
     ]
    }
   ],
   "source": [
    "x.changeOrder(2)\n",
    "y.changeOrder(2)\n",
    "result_2_order2 = funct_2(x,y)\n",
    "print(result_2_order2)"
   ]
  },
  {
   "cell_type": "markdown",
   "metadata": {
    "collapsed": true
   },
   "source": [
    "\n"
   ]
  },
  {
   "cell_type": "markdown",
   "metadata": {
    "collapsed": true
   },
   "source": [
    "We can extract, based on the Taylor series, the different terms. However, in order to get an easy form to extract them, the function ```getDerivative(dualnum,dirArray)``` helps in retreiving the derivatives according to the specifyed direction. It works as follows:"
   ]
  },
  {
   "cell_type": "code",
   "execution_count": 57,
   "metadata": {},
   "outputs": [
    {
     "name": "stdout",
     "output_type": "stream",
     "text": [
      "Get the f(x_0, y_0):\n",
      "10368.0\n",
      "\n",
      "Get the f_x(x_0, y_0):\n",
      "25920.0\n",
      "\n",
      "Get the f_xx(x_0, y_0):\n",
      "51840.0\n",
      "\n",
      "Get the f_y(x_0, y_0):\n",
      "13824.0\n",
      "\n",
      "Get the f_xy(x_0, y_0):\n",
      "34560.0\n",
      "\n",
      "Get the f_yy(x_0, y_0):\n",
      "13824.0\n"
     ]
    }
   ],
   "source": [
    "print(\"Get the f(x_0, y_0):\")\n",
    "print(getDerivative(result_2_order2,[0]))\n",
    "\n",
    "print(\"\\nGet the f_x(x_0, y_0):\")\n",
    "print(getDerivative(result_2_order2,[1]))\n",
    "\n",
    "print(\"\\nGet the f_xx(x_0, y_0):\")\n",
    "print(getDerivative(result_2_order2,[[1,2]]))\n",
    "\n",
    "print(\"\\nGet the f_y(x_0, y_0):\")\n",
    "print(getDerivative(result_2_order2,[2]))\n",
    "\n",
    "print(\"\\nGet the f_xy(x_0, y_0):\")\n",
    "print(getDerivative(result_2_order2,[1,2]))\n",
    "\n",
    "print(\"\\nGet the f_yy(x_0, y_0):\")\n",
    "print(getDerivative(result_2_order2,[[2,2]]))"
   ]
  },
  {
   "cell_type": "markdown",
   "metadata": {
    "collapsed": true
   },
   "source": [
    "This finalizes the method to obtain the derivatives of polynomial functions."
   ]
  },
  {
   "cell_type": "markdown",
   "metadata": {
    "collapsed": true
   },
   "source": [
    "### 3.2 General functions\n",
    "\n",
    "We have already learnt how the derivative of a function that depends just on $x$ works. Therefore when $x = x_0+\\epsilon_1$ the evaluation of $f(x)$ is straight forward. However, what happens if we want to evaluate $f(z)$ when $z = a_0+a_1\\epsilon_1+a_2\\epsilon_1^2+a_3\\epsilon_2+... $? This is what we will try to solve in this section. \n",
    "\n",
    "As a general implementation, let's analyze it from another perspective. How do we get a number with several coefficients? we get a complete number when we evaluate a function $f(x_1,x_2,...,x_n)$ in $f(x_1+\\epsilon_1,x_2+\\epsilon_2,...,x_n+\\epsilon_n)$. Here the result of evaluating this function is $z=f(x_1+\\epsilon_1,x_2+\\epsilon_2,...,x_n+\\epsilon_n)$, where \n",
    "\n",
    "$$\n",
    "z= a_0 + a_1\\epsilon_1+a_2\\epsilon_1^2+a_3\\epsilon_2+a_4\\epsilon_1\\epsilon_2+a_5\\epsilon_2^2+\n",
    "...\n",
    "$$\n",
    "\n",
    "where\n",
    "\n",
    "$$\n",
    "a_0 = f(x_1,x_2,\\dots,x_n)\\\\\n",
    "a_1 = \\frac{\\partial f}{\\partial x_1}(x_1,x_2,\\dots,x_n)\\\\\n",
    "a_2 = \\frac{1}{2!}\\frac{\\partial^2 f}{\\partial x_1^2}(x_1,x_2,\\dots,x_n)\\\\\n",
    "a_3 = \\frac{\\partial f}{\\partial x_2}(x_1,x_2,\\dots,x_n)\\\\\n",
    "a_4 = \\frac{\\partial^2 f}{\\partial x_1\\partial x_2}(x_1,x_2,\\dots,x_n)\\\\\n",
    "a_5 = \\frac{1}{2!}\\frac{\\partial^2 f}{\\partial x_2^2}(x_1,x_2,\\dots,x_n)\\\\\n",
    "\\mbox{and so on...}\n",
    "$$\n",
    "\n",
    "\n",
    "As a result, to evaluate any function $g(z)$ is the same as if we analyze $g(f(x_1+\\epsilon_1 ,x_2+\\epsilon_2 ,\\dots ,x_n+\\epsilon_n))$. To retrieve this behaviour, we need to asssume that the behavior of the function $g(z)$ will be the same as in $f(x)$, this is, therefore\n",
    "\n",
    "$$\n",
    "g(z) = \n",
    "g(f(x_{1_0},\\dots,x_{n_0}))+\n",
    "\\frac{\\partial g}{\\partial x_1}(f(x_{1_0},\\dots,x_{n_0})) \\ \\epsilon_1+\n",
    "\\frac{1}{2!}\\frac{\\partial^2 g}{\\partial x_1^2}(f(x_{1_0},\\dots,x_{n_0})) \\ \\epsilon_1^2 + \\\\\n",
    "\\frac{\\partial g}{\\partial x_2}(f(x_{1_0},\\dots,x_{n_0})) \\ \\epsilon_2 + \n",
    "\\frac{\\partial^2 g}{\\partial x_1 \\partial x_2}(f(x_{1_0},\\dots,x_{n_0})) \\ \\epsilon_1\\epsilon_2 + \n",
    "\\frac{1}{2!}\\frac{\\partial^2 g}{\\partial x_2^2}(f(x_{1_0},\\dots,x_{n_0})) \\ \\epsilon_2^2 + \\dots\n",
    "$$\n",
    "\n",
    "\n",
    "\n",
    "####3.2.1 Single variable functions, high order derivatives\n",
    "Let's first consider the behavior of a single variable function. In this case we are considering $g(f(x))$. \n",
    "\n",
    "\n",
    "As a result if we list the derivatives of the functions, we get:\n",
    "\n",
    "$$\n",
    "\\frac{\\partial g(f(x_0))}{\\partial x}= \\frac{\\partial g}{\\partial f}(f(x_0))\\frac{df}{dx}(x_0)\n",
    "$$\n",
    "\n",
    "Here and from now on, we will consider $g'=\\frac{\\partial g}{\\partial f}(f(x_0))$ and $ f'=\\frac{df}{dx}(x_0) $. Therefore the other derivatives we will get will be:\n",
    "\n",
    "$$\n",
    "\\frac{\\partial^2 g(f(x_0))}{\\partial^2 x}= \n",
    "g''(f')^2 +g'f''\n",
    "$$\n",
    "\n",
    "$$\n",
    "\\frac{\\partial^3 g(f(x_0))}{\\partial^3 x}= \n",
    "g'''(f')^3 + 2g''f'f'' + g''f'f'' + g' f ''' = g'''(f')^3 + 3g''f'f'' + g' f '''\n",
    "$$\n",
    "\n",
    "$$\n",
    "\\frac{\\partial^4 g(f(x_0))}{\\partial^4 x}= \n",
    "g''''(f')^4 + 3 g''' (f')^2f'' + 3 g'''(f')^2f'' + 3g''f''^2 + 3g''f'f''' + g''f'f'''+g'f'''' \\\\ \n",
    "=g''''(f')^4 + 6 g''' (f')^2f'' + 3g''(f'')^2 + 4g''f'f'''+g'f''''\n",
    "$$\n",
    "\n",
    "In the general form, see Faá di Bruno formula in https://en.wikipedia.org/wiki/Fa%C3%A0_di_Bruno%27s_formula\n"
   ]
  },
  {
   "cell_type": "markdown",
   "metadata": {},
   "source": [
    "# WORK IN PROGRESS"
   ]
  },
  {
   "cell_type": "code",
   "execution_count": null,
   "metadata": {
    "collapsed": true
   },
   "outputs": [],
   "source": []
  },
  {
   "cell_type": "code",
   "execution_count": null,
   "metadata": {
    "collapsed": true
   },
   "outputs": [],
   "source": []
  },
  {
   "cell_type": "code",
   "execution_count": null,
   "metadata": {
    "collapsed": true
   },
   "outputs": [],
   "source": []
  },
  {
   "cell_type": "code",
   "execution_count": null,
   "metadata": {
    "collapsed": true
   },
   "outputs": [],
   "source": []
  },
  {
   "cell_type": "code",
   "execution_count": null,
   "metadata": {
    "collapsed": true
   },
   "outputs": [],
   "source": []
  },
  {
   "cell_type": "markdown",
   "metadata": {},
   "source": [
    "##4. Matrices and vectors of ```spr_dualnum```\n",
    "\n",
    "In this section we will see how to handle matrices and vectors with ```spr_dualnum```s. This will require you to understand that the matrices are implemented in a sparse way. More specifically in a CSR format."
   ]
  },
  {
   "cell_type": "code",
   "execution_count": null,
   "metadata": {
    "collapsed": true
   },
   "outputs": [],
   "source": [
    "matA = spr_dualmat(,shape=())"
   ]
  },
  {
   "cell_type": "markdown",
   "metadata": {},
   "source": []
  },
  {
   "cell_type": "code",
   "execution_count": null,
   "metadata": {
    "collapsed": true
   },
   "outputs": [],
   "source": []
  },
  {
   "cell_type": "code",
   "execution_count": null,
   "metadata": {
    "collapsed": true
   },
   "outputs": [],
   "source": []
  },
  {
   "cell_type": "code",
   "execution_count": null,
   "metadata": {
    "collapsed": true
   },
   "outputs": [],
   "source": []
  },
  {
   "cell_type": "code",
   "execution_count": null,
   "metadata": {
    "collapsed": true
   },
   "outputs": [],
   "source": []
  }
 ],
 "metadata": {
  "kernelspec": {
   "display_name": "Python 3 (ipykernel)",
   "language": "python",
   "name": "python3"
  },
  "language_info": {
   "codemirror_mode": {
    "name": "ipython",
    "version": 3
   },
   "file_extension": ".py",
   "mimetype": "text/x-python",
   "name": "python",
   "nbconvert_exporter": "python",
   "pygments_lexer": "ipython3",
   "version": "3.9.12"
  }
 },
 "nbformat": 4,
 "nbformat_minor": 1
}
