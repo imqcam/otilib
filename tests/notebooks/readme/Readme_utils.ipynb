{
 "cells": [
  {
   "cell_type": "markdown",
   "metadata": {},
   "source": [
    "# Readme: Utilities in PyOTI library.\n",
    "```\n",
    "Mauricio Aristizabal Cano\n",
    "07 Apr 2020\n",
    "```\n",
    "\n",
    "\n",
    "# 1. Accessing the library\n"
   ]
  },
  {
   "cell_type": "code",
   "execution_count": 1,
   "metadata": {},
   "outputs": [],
   "source": [
    "# 1. SET GLOBAL PATH \n",
    "import sys\n",
    "path2oti = '../../../build/'\n",
    "sys.path.append(path2oti) # Add path to OTI library.\n",
    "\n",
    "\n",
    "# Import core module only from pyoti.\n",
    "import pyoti.core as oti\n",
    "np = oti.np"
   ]
  },
  {
   "cell_type": "markdown",
   "metadata": {},
   "source": [
    "## 2. Getting the utility libraries:\n"
   ]
  },
  {
   "cell_type": "code",
   "execution_count": 2,
   "metadata": {},
   "outputs": [
    {
     "data": {
      "text/plain": [
       "'/Users/maristi7/coding/otilib/build/pyoti/'"
      ]
     },
     "execution_count": 2,
     "metadata": {},
     "output_type": "execute_result"
    }
   ],
   "source": [
    "# Location of the library can be accesed by:\n",
    "oti.whereotilib.getpath()"
   ]
  },
  {
   "cell_type": "code",
   "execution_count": 4,
   "metadata": {},
   "outputs": [
    {
     "data": {
      "text/plain": [
       "35"
      ]
     },
     "execution_count": 4,
     "metadata": {},
     "output_type": "execute_result"
    }
   ],
   "source": [
    "oti.ndir_order( 5, 3)"
   ]
  },
  {
   "cell_type": "code",
   "execution_count": 5,
   "metadata": {},
   "outputs": [
    {
     "name": "stdout",
     "output_type": "stream",
     "text": [
      "Multiplication table for order 2 directions:\n"
     ]
    },
    {
     "data": {
      "text/plain": [
       "array([[0, 1, 3],\n",
       "       [1, 2, 4],\n",
       "       [3, 4, 5]], dtype=uint64)"
      ]
     },
     "execution_count": 5,
     "metadata": {},
     "output_type": "execute_result"
    }
   ],
   "source": [
    "print(\"Multiplication table for order 2 directions:\")\n",
    "mult_table = np.load(path2oti+'data/multtabl_n2_0.npy')\n",
    "mult_table[:3,:3]"
   ]
  },
  {
   "cell_type": "code",
   "execution_count": 13,
   "metadata": {},
   "outputs": [
    {
     "name": "stdout",
     "output_type": "stream",
     "text": [
      "Multiplication table for order 3 directions:\n"
     ]
    },
    {
     "data": {
      "text/plain": [
       "array([[0, 1, 2, 4, 5, 7],\n",
       "       [1, 2, 3, 5, 6, 8],\n",
       "       [4, 5, 6, 7, 8, 9]], dtype=uint64)"
      ]
     },
     "execution_count": 13,
     "metadata": {},
     "output_type": "execute_result"
    }
   ],
   "source": [
    "print(\"Multiplication table for order 3 directions:\")\n",
    "mult_table = np.load('/Users/maristi7/coding/otilib/build/data/multtabl_n3_0.npy')\n",
    "mult_table[:3,:6]"
   ]
  },
  {
   "cell_type": "code",
   "execution_count": 46,
   "metadata": {},
   "outputs": [
    {
     "name": "stdout",
     "output_type": "stream",
     "text": [
      "\n",
      "\\epsilon_{1}^{2}\n",
      "\\epsilon_{1}\\epsilon_{2}\n",
      "\\epsilon_{2}^{2}\n",
      "\\epsilon_{1}\\epsilon_{3}\n",
      "\\epsilon_{2}\\epsilon_{3}\n",
      "\\epsilon_{3}^{2}\n",
      "\\epsilon_{1}^{2}\n",
      "\\fill[white!0] circle[radius=\\radius,at=(m-1-1)] node[black] at (m-1-1){$\\epsilon_{1}^{4}$};\n",
      "\\fill[white!0] circle[radius=\\radius,at=(m-1-2)] node[black] at (m-1-2){$\\epsilon_{1}^{3}\\epsilon_{2}$};\n",
      "\\fill[white!0] circle[radius=\\radius,at=(m-1-3)] node[black] at (m-1-3){$\\epsilon_{1}^{2}\\epsilon_{2}^{2}$};\n",
      "\\fill[white!0] circle[radius=\\radius,at=(m-1-4)] node[black] at (m-1-4){$\\epsilon_{1}^{3}\\epsilon_{3}$};\n",
      "\\fill[white!0] circle[radius=\\radius,at=(m-1-5)] node[black] at (m-1-5){$\\epsilon_{1}^{2}\\epsilon_{2}\\epsilon_{3}$};\n",
      "\\fill[white!0] circle[radius=\\radius,at=(m-1-6)] node[black] at (m-1-6){$\\epsilon_{1}^{2}\\epsilon_{3}^{2}$};\n",
      "\\epsilon_{1}\\epsilon_{2}\n",
      "\\fill[white!0] circle[radius=\\radius,at=(m-2-1)] node[black] at (m-2-1){$\\epsilon_{1}^{3}\\epsilon_{2}$};\n",
      "\\fill[white!0] circle[radius=\\radius,at=(m-2-2)] node[black] at (m-2-2){$\\epsilon_{1}^{2}\\epsilon_{2}^{2}$};\n",
      "\\fill[white!0] circle[radius=\\radius,at=(m-2-3)] node[black] at (m-2-3){$\\epsilon_{1}\\epsilon_{2}^{3}$};\n",
      "\\fill[white!0] circle[radius=\\radius,at=(m-2-4)] node[black] at (m-2-4){$\\epsilon_{1}^{2}\\epsilon_{2}\\epsilon_{3}$};\n",
      "\\fill[white!0] circle[radius=\\radius,at=(m-2-5)] node[black] at (m-2-5){$\\epsilon_{1}\\epsilon_{2}^{2}\\epsilon_{3}$};\n",
      "\\fill[white!0] circle[radius=\\radius,at=(m-2-6)] node[black] at (m-2-6){$\\epsilon_{1}\\epsilon_{2}\\epsilon_{3}^{2}$};\n",
      "\\epsilon_{2}^{2}\n",
      "\\fill[white!0] circle[radius=\\radius,at=(m-3-1)] node[black] at (m-3-1){$\\epsilon_{1}^{2}\\epsilon_{2}^{2}$};\n",
      "\\fill[white!0] circle[radius=\\radius,at=(m-3-2)] node[black] at (m-3-2){$\\epsilon_{1}\\epsilon_{2}^{3}$};\n",
      "\\fill[white!0] circle[radius=\\radius,at=(m-3-3)] node[black] at (m-3-3){$\\epsilon_{2}^{4}$};\n",
      "\\fill[white!0] circle[radius=\\radius,at=(m-3-4)] node[black] at (m-3-4){$\\epsilon_{1}\\epsilon_{2}^{2}\\epsilon_{3}$};\n",
      "\\fill[white!0] circle[radius=\\radius,at=(m-3-5)] node[black] at (m-3-5){$\\epsilon_{2}^{3}\\epsilon_{3}$};\n",
      "\\fill[white!0] circle[radius=\\radius,at=(m-3-6)] node[black] at (m-3-6){$\\epsilon_{2}^{2}\\epsilon_{3}^{2}$};\n",
      "\\epsilon_{1}\\epsilon_{3}\n",
      "\\fill[white!0] circle[radius=\\radius,at=(m-4-1)] node[black] at (m-4-1){$\\epsilon_{1}^{3}\\epsilon_{3}$};\n",
      "\\fill[white!0] circle[radius=\\radius,at=(m-4-2)] node[black] at (m-4-2){$\\epsilon_{1}^{2}\\epsilon_{2}\\epsilon_{3}$};\n",
      "\\fill[white!0] circle[radius=\\radius,at=(m-4-3)] node[black] at (m-4-3){$\\epsilon_{1}\\epsilon_{2}^{2}\\epsilon_{3}$};\n",
      "\\fill[white!0] circle[radius=\\radius,at=(m-4-4)] node[black] at (m-4-4){$\\epsilon_{1}^{2}\\epsilon_{3}^{2}$};\n",
      "\\fill[white!0] circle[radius=\\radius,at=(m-4-5)] node[black] at (m-4-5){$\\epsilon_{1}\\epsilon_{2}\\epsilon_{3}^{2}$};\n",
      "\\fill[white!0] circle[radius=\\radius,at=(m-4-6)] node[black] at (m-4-6){$\\epsilon_{1}\\epsilon_{3}^{3}$};\n",
      "\\epsilon_{2}\\epsilon_{3}\n",
      "\\fill[white!0] circle[radius=\\radius,at=(m-5-1)] node[black] at (m-5-1){$\\epsilon_{1}^{2}\\epsilon_{2}\\epsilon_{3}$};\n",
      "\\fill[white!0] circle[radius=\\radius,at=(m-5-2)] node[black] at (m-5-2){$\\epsilon_{1}\\epsilon_{2}^{2}\\epsilon_{3}$};\n",
      "\\fill[white!0] circle[radius=\\radius,at=(m-5-3)] node[black] at (m-5-3){$\\epsilon_{2}^{3}\\epsilon_{3}$};\n",
      "\\fill[white!0] circle[radius=\\radius,at=(m-5-4)] node[black] at (m-5-4){$\\epsilon_{1}\\epsilon_{2}\\epsilon_{3}^{2}$};\n",
      "\\fill[white!0] circle[radius=\\radius,at=(m-5-5)] node[black] at (m-5-5){$\\epsilon_{2}^{2}\\epsilon_{3}^{2}$};\n",
      "\\fill[white!0] circle[radius=\\radius,at=(m-5-6)] node[black] at (m-5-6){$\\epsilon_{2}\\epsilon_{3}^{3}$};\n",
      "\\epsilon_{3}^{2}\n",
      "\\fill[white!0] circle[radius=\\radius,at=(m-6-1)] node[black] at (m-6-1){$\\epsilon_{1}^{2}\\epsilon_{3}^{2}$};\n",
      "\\fill[white!0] circle[radius=\\radius,at=(m-6-2)] node[black] at (m-6-2){$\\epsilon_{1}\\epsilon_{2}\\epsilon_{3}^{2}$};\n",
      "\\fill[white!0] circle[radius=\\radius,at=(m-6-3)] node[black] at (m-6-3){$\\epsilon_{2}^{2}\\epsilon_{3}^{2}$};\n",
      "\\fill[white!0] circle[radius=\\radius,at=(m-6-4)] node[black] at (m-6-4){$\\epsilon_{1}\\epsilon_{3}^{3}$};\n",
      "\\fill[white!0] circle[radius=\\radius,at=(m-6-5)] node[black] at (m-6-5){$\\epsilon_{2}\\epsilon_{3}^{3}$};\n",
      "\\fill[white!0] circle[radius=\\radius,at=(m-6-6)] node[black] at (m-6-6){$\\epsilon_{3}^{4}$};\n"
     ]
    }
   ],
   "source": [
    "o1   = 2\n",
    "m1   = 3\n",
    "n1   = oti.ndir_order( m1, o1)\n",
    "\n",
    "o2   = 2\n",
    "m2   = m1\n",
    "n2   = oti.ndir_order( m2, o2)\n",
    "\n",
    "o_res = o1 + o2\n",
    "\n",
    "o_min = int(o1 - 1)\n",
    "\n",
    "# print(path2oti+'data/multtabl_n'+str(o_res)+'_'+str(o_min)+'.npy')\n",
    "\n",
    "mult_table = np.load(path2oti+'data/multtabl_n'+str(o_res)+'_'+str(o_min)+'.npy')[:n1,:n2]\n",
    "\n",
    "# print(mult_table)\n",
    "string = \"\"\n",
    "\n",
    "for i1 in range(-1,n1): \n",
    "        \n",
    "    for i2 in range(-1,n2):\n",
    "        \n",
    "        if i2 == -1 and not i1 == -1:\n",
    "            string += oti.get_latex_dir(i1,o1)\n",
    "        elif i1 == -1 and not i2 == -1:\n",
    "            string += oti.get_latex_dir(i2,o2) \n",
    "        elif i1 != -1 and i2 != -1:\n",
    "            string+= \"\\\\fill[white!0] circle[radius=\\\\radius,at=\"\n",
    "            pos = \"(m-\"\n",
    "            pos += str(int(i1+1))\n",
    "            pos += \"-\"\n",
    "            pos += str(int(i2+1))\n",
    "            pos += \")\"\n",
    "            string += pos\n",
    "            string += \"] node[black] at \"\n",
    "            string += pos\n",
    "            string += \"{$\"\n",
    "            string += oti.get_latex_dir(mult_table[i1,i2],o_res)\n",
    "            string += \"$};\"\n",
    "        # end if\n",
    "            \n",
    "        string += \"\\n\"    \n",
    "\n",
    "    \n",
    "    # end for \n",
    "    \n",
    "#     string = string[:-1] + \"\\n\"\n",
    "    \n",
    "# end for \n",
    "\n",
    "string = string[:-1]\n",
    "\n",
    "# print(\"\\\\begin{bmatrix}\")        \n",
    "print(string)\n",
    "# print(\"\\end{bmatrix}\")        "
   ]
  },
  {
   "cell_type": "code",
   "execution_count": 24,
   "metadata": {},
   "outputs": [
    {
     "data": {
      "text/plain": [
       "array([[0, 1, 2, 4, 5, 7],\n",
       "       [1, 2, 3, 5, 6, 8],\n",
       "       [4, 5, 6, 7, 8, 9]], dtype=uint64)"
      ]
     },
     "execution_count": 24,
     "metadata": {},
     "output_type": "execute_result"
    }
   ],
   "source": [
    "mult_table"
   ]
  },
  {
   "cell_type": "code",
   "execution_count": 18,
   "metadata": {},
   "outputs": [
    {
     "data": {
      "text/plain": [
       "6"
      ]
     },
     "execution_count": 18,
     "metadata": {},
     "output_type": "execute_result"
    }
   ],
   "source": []
  },
  {
   "cell_type": "code",
   "execution_count": null,
   "metadata": {},
   "outputs": [],
   "source": []
  },
  {
   "cell_type": "markdown",
   "metadata": {},
   "source": [
    "## 4. Direction helper ```h```\n",
    "\n",
    "In order to get the direction helper ```h``` do the following:"
   ]
  },
  {
   "cell_type": "code",
   "execution_count": 5,
   "metadata": {},
   "outputs": [],
   "source": [
    "h = oti.get_dHelp()"
   ]
  },
  {
   "cell_type": "markdown",
   "metadata": {},
   "source": [
    "### 4.1 Getting the text form of a direction"
   ]
  },
  {
   "cell_type": "code",
   "execution_count": 9,
   "metadata": {},
   "outputs": [
    {
     "data": {
      "text/plain": [
       "array([1, 1, 3], dtype=uint16)"
      ]
     },
     "execution_count": 9,
     "metadata": {},
     "output_type": "execute_result"
    }
   ],
   "source": [
    "h.get_fulldir(4,3)"
   ]
  },
  {
   "cell_type": "code",
   "execution_count": 7,
   "metadata": {},
   "outputs": [
    {
     "data": {
      "text/plain": [
       "'[1,1,3]'"
      ]
     },
     "execution_count": 7,
     "metadata": {},
     "output_type": "execute_result"
    }
   ],
   "source": [
    "h.get_str_fulldir(4,3)"
   ]
  },
  {
   "cell_type": "code",
   "execution_count": null,
   "metadata": {},
   "outputs": [],
   "source": []
  }
 ],
 "metadata": {
  "kernelspec": {
   "display_name": "Python 3 (ipykernel)",
   "language": "python",
   "name": "python3"
  },
  "language_info": {
   "codemirror_mode": {
    "name": "ipython",
    "version": 3
   },
   "file_extension": ".py",
   "mimetype": "text/x-python",
   "name": "python",
   "nbconvert_exporter": "python",
   "pygments_lexer": "ipython3",
   "version": "3.9.12"
  }
 },
 "nbformat": 4,
 "nbformat_minor": 2
}
