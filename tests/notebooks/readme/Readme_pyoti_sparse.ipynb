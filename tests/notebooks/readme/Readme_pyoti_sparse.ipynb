{
 "cells": [
  {
   "cell_type": "markdown",
   "metadata": {},
   "source": [
    "#  ```pyoti``` library Readme\n",
    "### Lite version\n",
    "# V 1.2\n",
    "```python\n",
    "\"\"\" \n",
    "Contributors to this file:\n",
    "Mauricio Aristizabal Cano\n",
    "\n",
    "Date of creation:  20 04 2016\n",
    "Last modification: 27 03 2023\n",
    "Universidad EAFIT, Medellin, Colombia.\n",
    "University of Texas at San Antonio\n",
    "\"\"\"\n",
    "```\n",
    "\n",
    "## 0. Introduction\n",
    "\n",
    "The main purpose of this document is to explain the capabilities of the sparse OTI library for python 3: ```pyoti``` . As a basis for the explanation, several examples will be given in order to show and understand the capabilities of the library, as well as its basic advantages.\n",
    "\n",
    "As a result, there will be several justifications based on an \"a priori\" utilisation of the library.\n",
    "\n",
    "\n",
    "## 1. Getting started\n",
    "In order to import the libary, one way of doing so is to call it with the following command:"
   ]
  },
  {
   "cell_type": "code",
   "execution_count": 1,
   "metadata": {
    "jupyter": {
     "outputs_hidden": false
    }
   },
   "outputs": [],
   "source": [
    "import pyoti.sparse as oti  # Import the library. 'oti' stands for 'Order Truncated Imaginary number'"
   ]
  },
  {
   "cell_type": "markdown",
   "metadata": {},
   "source": [
    "### 1.1 Basics\n",
    "#### 1.1.1 OTI number creation\n",
    "\n",
    "In order to create an OTI number, one manner to do so is as follows"
   ]
  },
  {
   "cell_type": "code",
   "execution_count": 46,
   "metadata": {
    "jupyter": {
     "outputs_hidden": false
    }
   },
   "outputs": [
    {
     "name": "stdout",
     "output_type": "stream",
     "text": [
      "10 + 1 * e([1]) + 5.2 * e([3,4]) + 3 * e([[2,3],4])\n"
     ]
    }
   ],
   "source": [
    "a = 10 + oti.e(1) + 5.2* oti.e([3,4]) + 3*oti.e([[2,3],4])\n",
    "print(a)"
   ]
  },
  {
   "cell_type": "code",
   "execution_count": 48,
   "metadata": {},
   "outputs": [
    {
     "name": "stdout",
     "output_type": "stream",
     "text": [
      "10 + 1 * e([1]) + 5.2 * e([3,4]) + 3 * e([[2,3],4])\n"
     ]
    }
   ],
   "source": [
    "a = 10 + oti.e(1) + 5.2* oti.e([3,4]) + 3*oti.e([2,2,2,4])\n",
    "print(a)"
   ]
  },
  {
   "cell_type": "markdown",
   "metadata": {},
   "source": [
    "The OTI number ```a``` has been created. This number represents the following:\n",
    "\n",
    "$$\n",
    "a = 10 + \\epsilon_1 + 5.2 \\ \\epsilon_3\\epsilon_4+3 \\ \\epsilon_2^3\\epsilon_4 \n",
    "$$\n",
    "\n",
    "therefore, the 'direction array' given as a parameter to the function ```oti.e(dirArray)``` correspond as follows:\n",
    "\n",
    "- ```oti.e(i)``` :$\\epsilon_i$ (notice it is just an  unsigned integer)\n",
    "\n",
    "- ```oti.e([i,j,k,l])``` : $\\epsilon_i\\epsilon_j\\epsilon_k\\epsilon_l$ (Notice it's a one level array, with $n$ elements)\n",
    "\n",
    "- ```oti.e([[i,m],j,[k,n],l])``` : $\\epsilon_i^m\\epsilon_j\\epsilon_k^n\\epsilon_l$ (Notice it has some positions where there are other arrays. Those arrays indicate the exponent of the number. Usually $m$, $n$ are greater than 1.)\n",
    "\n",
    "\n",
    "To visualize the number, it can be done in two ways:\n",
    "\n",
    "- A compact representation, which will show the constructor of the class:"
   ]
  },
  {
   "cell_type": "code",
   "execution_count": 49,
   "metadata": {
    "jupyter": {
     "outputs_hidden": false
    }
   },
   "outputs": [
    {
     "data": {
      "text/plain": [
       "10 + 1 * e([1]) + 5.2 * e([3,4]) + 3 * e([[2,3],4])"
      ]
     },
     "execution_count": 49,
     "metadata": {},
     "output_type": "execute_result"
    }
   ],
   "source": [
    "a"
   ]
  },
  {
   "cell_type": "markdown",
   "metadata": {},
   "source": [
    "- Using string conversion, or just the print command. This will show a human readable version of the number."
   ]
  },
  {
   "cell_type": "code",
   "execution_count": 50,
   "metadata": {
    "jupyter": {
     "outputs_hidden": false
    }
   },
   "outputs": [
    {
     "name": "stdout",
     "output_type": "stream",
     "text": [
      "10 + 1 * e([1]) + 5.2 * e([3,4]) + 3 * e([[2,3],4])\n"
     ]
    }
   ],
   "source": [
    "print(a)"
   ]
  },
  {
   "cell_type": "markdown",
   "metadata": {},
   "source": [
    "The number has been created with the maximum truncation order corresponding to the maximum order of the given term. To know the order of the number, just call the atribute 'order'"
   ]
  },
  {
   "cell_type": "code",
   "execution_count": 6,
   "metadata": {
    "jupyter": {
     "outputs_hidden": false
    }
   },
   "outputs": [
    {
     "name": "stdout",
     "output_type": "stream",
     "text": [
      "4\n"
     ]
    }
   ],
   "source": [
    "print(a.order)"
   ]
  },
  {
   "cell_type": "markdown",
   "metadata": {},
   "source": [
    "For more advanced users, there is a shorter representation of the number. To access it call the method ```short_repr()``` as indicated below. It shows only the real part. the total number of non-zero imaginary directions and the truncation order of the number."
   ]
  },
  {
   "cell_type": "code",
   "execution_count": 7,
   "metadata": {},
   "outputs": [
    {
     "name": "stdout",
     "output_type": "stream",
     "text": [
      "sotinum(10.0, nnz: 4, order: 4)\n"
     ]
    }
   ],
   "source": [
    "print(a.short_repr())"
   ]
  },
  {
   "cell_type": "markdown",
   "metadata": {},
   "source": [
    "There is also a long representation available, accessible through the call ```long_repr()```, as shown below:"
   ]
  },
  {
   "cell_type": "code",
   "execution_count": 9,
   "metadata": {},
   "outputs": [
    {
     "name": "stdout",
     "output_type": "stream",
     "text": [
      "sotinum(10.0, nnz: 4, alloc: 4, actual order: 4, truncation order: 4, flag: 1\n",
      "  - Order 1->   nnz: 1  size: 1 \n",
      "  - Order 2->   nnz: 1  size: 1 \n",
      "  - Order 3->   nnz: 0  size: 0 \n",
      "  - Order 4->   nnz: 1  size: 1 \n",
      ")\n"
     ]
    }
   ],
   "source": [
    "print(a.long_repr())"
   ]
  },
  {
   "cell_type": "markdown",
   "metadata": {},
   "source": [
    "#### 1.1.2 Display options\n",
    "Each OTI number is displayed with a maximum of 4 imaginary directions and with format \"%g\". \n",
    "\n",
    "The current version of the library supports changing the representation using the ```set_printoptions``` function as follows:\n",
    "\n",
    "```\n",
    "oti.set_printoptions(float_format=\"g\",terms_print=4)\n",
    "```\n",
    "- ```float_format:``` sets the format to print the coefficients in the OTI number.\n",
    "- ```terms_print:``` sets the number of terms to print from an OTI number."
   ]
  },
  {
   "cell_type": "code",
   "execution_count": 10,
   "metadata": {},
   "outputs": [
    {
     "name": "stdout",
     "output_type": "stream",
     "text": [
      "Help on built-in function set_printoptions in module pyoti.sparse:\n",
      "\n",
      "set_printoptions(...)\n",
      "    PURPOSE:   Set the print options for OTI numbers.\n",
      "    \n",
      "    INPUTS:\n",
      "        - float_format: (Default \"g\") Define the print format for t\n",
      "        - terms_print: (Default 4) Number of terms to print.\n",
      "    \n",
      "    In order to reset the values to defaults, just call set_printoptions() with no arguments.\n",
      "\n"
     ]
    }
   ],
   "source": [
    "help(oti.set_printoptions)"
   ]
  },
  {
   "cell_type": "markdown",
   "metadata": {},
   "source": [
    "### 1.2 Math\n",
    "\n",
    "In ```pyoti```, OTI numbers have overloaded operators so that operations work as similar as other scalar types in Python, like ```float``` or ```int```. The followign provides a summary of operations supported in ```pyoti```:\n",
    "\n",
    "| Operation | Symbol | \n",
    "|---:|:---:|\n",
    "| Addition | ```a+b``` |\n",
    "| Subtraction | ```a-b``` |\n",
    "| Multiplication | ```a*b``` |\n",
    "| Division | ```a/b``` |\n",
    "| Power | ```a**b``` |\n",
    "| Subtraction | ```-``` |\n",
    "\n",
    "\n",
    "#### 1.2.1. Arithmetic operations\n",
    "\n",
    "--> **Addition**\n",
    "\n",
    "To add two OTIs simply use the ```+``` operator:\n",
    "\n",
    "For example, adding the numbers \n",
    "\n",
    "$$\n",
    "a = 10 + \\phantom{2.5 } \\epsilon_1 + 5.2 \\ \\epsilon_3\\epsilon_4+3 \\ \\epsilon_2^3\\epsilon_4\n",
    "$$\n",
    "\n",
    "$$\n",
    "b = 10 + 2.5 \\ \\epsilon_1 -5.2 \\ \\epsilon_3^3\\epsilon_4 \\phantom{+3 \\ \\epsilon_2^3\\epsilon_4}\n",
    "$$\n",
    "\n",
    "$$\n",
    "a+b = 20 + 3.5  \\ \\epsilon_1 +0 \\ \\epsilon_3\\epsilon_4 + 3 \\ \\epsilon_2^3\\epsilon_4\n",
    "$$"
   ]
  },
  {
   "cell_type": "code",
   "execution_count": 51,
   "metadata": {
    "jupyter": {
     "outputs_hidden": false
    }
   },
   "outputs": [
    {
     "name": "stdout",
     "output_type": "stream",
     "text": [
      "The result is: 20 + 3.5 * e([1]) + 0 * e([3,4]) + 3 * e([[2,3],4])\n",
      "With truncation order: 4\n"
     ]
    }
   ],
   "source": [
    "a = 10.0 +     oti.e([1]) + 3.0*oti.e([[2,3],4]) + 5.2*oti.e([3,4]) \n",
    "b = 10.0 + 2.5*oti.e([1])                        - 5.2*oti.e([3,4])\n",
    "\n",
    "sum_result = a+b\n",
    "print('The result is:', sum_result)\n",
    "print(\"With truncation order:\", sum_result.order)"
   ]
  },
  {
   "cell_type": "markdown",
   "metadata": {},
   "source": [
    "Notice that the result has order 4, despite adding two numbers with different orders ($O($ ```a``` $) = 4$, $O($ ```b``` $) = 2$). **Addition preserves the maximum truncation order**."
   ]
  },
  {
   "cell_type": "markdown",
   "metadata": {},
   "source": [
    "--> **Multiplication**\n",
    "\n",
    "In order to Multiply two OTI numbers in the library, just use the ```*``` operator:"
   ]
  },
  {
   "cell_type": "code",
   "execution_count": 24,
   "metadata": {
    "jupyter": {
     "outputs_hidden": false
    }
   },
   "outputs": [
    {
     "name": "stdout",
     "output_type": "stream",
     "text": [
      "The result of a*b: 100 + 35 * e([1]) + 2.5 * e([[1,2]]) + 0 * e([3,4]) + ... \n",
      "Order of a*b:      4\n"
     ]
    }
   ],
   "source": [
    "mult_result = a*b\n",
    "print(\"The result of a*b:\",mult_result)\n",
    "print(\"Order of a*b:     \",mult_result.order)"
   ]
  },
  {
   "cell_type": "markdown",
   "metadata": {},
   "source": [
    "Notice that the order of the result is 4. Therefore, for the multiplication, the **maximum truncation order** is preserved.\n",
    "\n"
   ]
  },
  {
   "cell_type": "markdown",
   "metadata": {},
   "source": [
    "--> **Subtraction**\n",
    "\n",
    "To subtract two OTI numbers, use ```-``` operator:"
   ]
  },
  {
   "cell_type": "code",
   "execution_count": 25,
   "metadata": {
    "jupyter": {
     "outputs_hidden": false
    }
   },
   "outputs": [
    {
     "name": "stdout",
     "output_type": "stream",
     "text": [
      "The result of a-b:  - 1.5 * e([1]) + 10.4 * e([3,4]) + 3 * e([[2,3],4])\n",
      "Order of a-b:      4\n"
     ]
    }
   ],
   "source": [
    "sub_result = a-b\n",
    "\n",
    "print(\"The result of a-b:\",sub_result)\n",
    "print(\"Order of a-b:     \",sub_result.order)"
   ]
  },
  {
   "cell_type": "markdown",
   "metadata": {},
   "source": [
    "--> **Division**\n",
    "\n",
    "Division between two OTIs is performed as follows:"
   ]
  },
  {
   "cell_type": "code",
   "execution_count": 26,
   "metadata": {},
   "outputs": [
    {
     "name": "stdout",
     "output_type": "stream",
     "text": [
      "The result of a/b: 1 - 0.15 * e([1]) + 0.0375 * e([[1,2]]) + 1.04 * e([3,4]) + ... \n",
      "Order of a/b:      4\n"
     ]
    }
   ],
   "source": [
    "div_result = a/b\n",
    "print(\"The result of a/b:\",div_result)\n",
    "print(\"Order of a/b:     \",div_result.order)"
   ]
  },
  {
   "cell_type": "markdown",
   "metadata": {},
   "source": [
    "#### --> Elementary functions.\n",
    "\n",
    "```pyoti``` supports multiple functions, such as sin, cos, asin, acos, tan, atan, log(natural log), log10, exp, cosh, sinh, etc."
   ]
  },
  {
   "cell_type": "code",
   "execution_count": 29,
   "metadata": {},
   "outputs": [
    {
     "name": "stdout",
     "output_type": "stream",
     "text": [
      "0.14112 - 1.97998 * e([1]) - 0.28224 * e([[1,2]]) + 4.25697 * e([2,3])\n"
     ]
    }
   ],
   "source": [
    "x = 3 + 2*oti.e([1]) - 4.3 * oti.e([2,3])\n",
    "f = oti.sin(x)\n",
    "print(f)"
   ]
  },
  {
   "cell_type": "markdown",
   "metadata": {},
   "source": [
    "### 1.3 Get and set coefficients of an OTI number.\n",
    "\n",
    "\n",
    "#### 1.3.1 Get coefficients of an OTI number.\n",
    "\n",
    "To get a coefficient, just call the method '```get_im(dirArray)```' and place the direction array coefficient you want.\n"
   ]
  },
  {
   "cell_type": "code",
   "execution_count": 12,
   "metadata": {
    "jupyter": {
     "outputs_hidden": false
    }
   },
   "outputs": [
    {
     "name": "stdout",
     "output_type": "stream",
     "text": [
      "10 + 1 * e([1]) + 5.2 * e([3,4]) + 3 * e([[2,3],4])\n"
     ]
    }
   ],
   "source": [
    "a = 10.0 + oti.e([1]) + 3.0*oti.e([[2,3],4]) + 5.2*oti.e([3,4]) \n",
    "print(a)"
   ]
  },
  {
   "cell_type": "markdown",
   "metadata": {},
   "source": [
    "To get the coefficient of the direction $\\epsilon_1$ use:"
   ]
  },
  {
   "cell_type": "code",
   "execution_count": 13,
   "metadata": {
    "jupyter": {
     "outputs_hidden": false
    }
   },
   "outputs": [
    {
     "name": "stdout",
     "output_type": "stream",
     "text": [
      "1.0\n"
     ]
    }
   ],
   "source": [
    "print(a.get_im(1))"
   ]
  },
  {
   "cell_type": "markdown",
   "metadata": {},
   "source": [
    "or"
   ]
  },
  {
   "cell_type": "code",
   "execution_count": 14,
   "metadata": {
    "jupyter": {
     "outputs_hidden": false
    }
   },
   "outputs": [
    {
     "name": "stdout",
     "output_type": "stream",
     "text": [
      "1.0\n"
     ]
    }
   ],
   "source": [
    "print(a.get_im([1]))"
   ]
  },
  {
   "cell_type": "markdown",
   "metadata": {},
   "source": [
    "To get the coefficient of $\\epsilon_2^3\\epsilon_4$ use:"
   ]
  },
  {
   "cell_type": "code",
   "execution_count": 15,
   "metadata": {
    "jupyter": {
     "outputs_hidden": false
    }
   },
   "outputs": [
    {
     "name": "stdout",
     "output_type": "stream",
     "text": [
      "3.0\n"
     ]
    }
   ],
   "source": [
    "print(a.get_im([[2,3],4]))"
   ]
  },
  {
   "cell_type": "markdown",
   "metadata": {},
   "source": [
    "or"
   ]
  },
  {
   "cell_type": "code",
   "execution_count": 16,
   "metadata": {},
   "outputs": [
    {
     "name": "stdout",
     "output_type": "stream",
     "text": [
      "3.0\n"
     ]
    }
   ],
   "source": [
    "print(a.get_im([2,2,2,4]))"
   ]
  },
  {
   "cell_type": "markdown",
   "metadata": {},
   "source": [
    "Coefficients that are not contained within the number will return zero. For example, the coefficient along direction $\\epsilon_1\\epsilon_2^2$ is:"
   ]
  },
  {
   "cell_type": "code",
   "execution_count": 17,
   "metadata": {
    "jupyter": {
     "outputs_hidden": false
    }
   },
   "outputs": [
    {
     "name": "stdout",
     "output_type": "stream",
     "text": [
      "0.0\n"
     ]
    }
   ],
   "source": [
    "print(a.get_im([1,[2,2]]))"
   ]
  },
  {
   "cell_type": "markdown",
   "metadata": {},
   "source": [
    "There are two ways to get the real coefficient: Get the real "
   ]
  },
  {
   "cell_type": "code",
   "execution_count": 52,
   "metadata": {
    "jupyter": {
     "outputs_hidden": false
    }
   },
   "outputs": [
    {
     "name": "stdout",
     "output_type": "stream",
     "text": [
      "10.0\n"
     ]
    }
   ],
   "source": [
    "print(a.get_im(0))"
   ]
  },
  {
   "cell_type": "code",
   "execution_count": 53,
   "metadata": {},
   "outputs": [
    {
     "data": {
      "text/plain": [
       "10.0"
      ]
     },
     "execution_count": 53,
     "metadata": {},
     "output_type": "execute_result"
    }
   ],
   "source": [
    "a.real"
   ]
  },
  {
   "cell_type": "markdown",
   "metadata": {},
   "source": [
    "#### 1.3.2 Set coefficients of an OTI number \n",
    "\n",
    "Similar to the methods of getting coefficients, setting the values of coefficients works in the same way. If the coefficient already exist, it will be modified, and if the coefficient does not exist, it will be created. Use the method '```set_im(newValue,dirArray)```' to do so.\n"
   ]
  },
  {
   "cell_type": "code",
   "execution_count": 20,
   "metadata": {
    "jupyter": {
     "outputs_hidden": false
    }
   },
   "outputs": [
    {
     "name": "stdout",
     "output_type": "stream",
     "text": [
      "10 + 1 * e([1]) + 5.2 * e([3,4]) + 3 * e([[2,3],4])\n"
     ]
    }
   ],
   "source": [
    "a = 10.0 + oti.e([1]) + 3.0*oti.e([[2,3],4]) + 5.2*oti.e([3,4]) \n",
    "print(a)"
   ]
  },
  {
   "cell_type": "code",
   "execution_count": 21,
   "metadata": {
    "jupyter": {
     "outputs_hidden": false
    }
   },
   "outputs": [
    {
     "name": "stdout",
     "output_type": "stream",
     "text": [
      "10 + 1 * e([1]) + 7.3 * e([3,4]) + 3 * e([[2,3],4])\n"
     ]
    }
   ],
   "source": [
    "a.set_im(7.3,[3,4])\n",
    "print(a)"
   ]
  },
  {
   "cell_type": "code",
   "execution_count": 22,
   "metadata": {
    "jupyter": {
     "outputs_hidden": false
    }
   },
   "outputs": [
    {
     "name": "stdout",
     "output_type": "stream",
     "text": [
      "10 + 1 * e([1]) + 7.3 * e([3,4]) + 4.2 * e([1,[3,2]]) + ... \n"
     ]
    }
   ],
   "source": [
    "a.set_im(4.2,[1,[3,2]])\n",
    "print(a)"
   ]
  },
  {
   "cell_type": "markdown",
   "metadata": {},
   "source": [
    "## 3. Applications\n",
    "\n",
    "In general, dual numbers have most applications into finding derivatives of functions in an exact way. In this sense let's see some applications, different approaches to get the results and some comparisons with other methods such as multicomplex numbers.\n",
    "\n",
    "### 3.1 Derivatives of polynomials\n",
    "Dual numbers in general can be used to find derivatives of functions (whichever they are). The most strightforward way to use them is into polynomials.\n",
    "\n",
    "#### 3.1.1 Single variable functions\n",
    "\n",
    "Consider a $C^n$ function $f: \\mathbb{R} \\rightarrow \\mathbb{R}$. Taking into account the Taylor series expansion of any function\n",
    "\n",
    "$$\n",
    "f(z) = \\sum_{k=0}^{\\infty}    \\frac{f^k(a)}{k!}(z-a)^k\n",
    "$$\n",
    "\n",
    "Let´s take $z=x_0+\\epsilon_1$ and $a=x_0$. Then what we get is the following:\n",
    "\n",
    "$$\n",
    "f(x_0+\\epsilon) = f(x_0) + f_x(x_0)\\epsilon_1 +\n",
    "\\frac{f_{xx}(x_0)}{2!}{\\epsilon_1^2} +\n",
    "\\frac{f_{xxx}(x_0)}{3!}{\\epsilon_1^3} + \n",
    "\\frac{f_{xxxx}(x_0)}{4!}{\\epsilon_1^4} + ...\n",
    "$$\n",
    "\n",
    "Notice that we get at each $i$'th order direction the $i$'th order derivative evaluated at $a=x_0$. \n",
    "\n",
    "To apply this in a real example let's consider the following function:\n",
    "\n",
    "$$\n",
    "f(x)= 10x^5-3x^3+2x-10\n",
    "$$"
   ]
  },
  {
   "cell_type": "code",
   "execution_count": 54,
   "metadata": {
    "jupyter": {
     "outputs_hidden": true
    }
   },
   "outputs": [],
   "source": [
    "def funct_1(x):\n",
    "    return 10.0*x**5 -3.0*x**3+2.0*x-10.0"
   ]
  },
  {
   "cell_type": "markdown",
   "metadata": {},
   "source": [
    "The analytical defivatives of the funciton are:\n",
    "$$\n",
    "f_{x}(x)= 50x^4-9x^2+2, \\\\ \n",
    "f_{xx}(x)= 200x^3-18x,  \\\\ \n",
    "f_{xxx}(x)= 600x^2-18, \\\\ \n",
    "f_{xxxx}(x)= 1200x, \\\\ \n",
    "f_{xxxxx}(x)= 1200,\n",
    "$$\n",
    "\n",
    "If we consider an $x_0=2.5$, then each derivative we obtain becomes:\n",
    "$$\n",
    "f(2.5) = 924.6875 \\\\\n",
    "f_{x}(2.5)= 1898.875, \\\\ \n",
    "f_{xx}(2.5)= 3080,  \\\\ \n",
    "f_{xxx}(2.5)= 3732, \\\\ \n",
    "f_{xxxx}(2.5)= 3000, \\\\ \n",
    "f_{xxxxx}(2.5)= 1200,\n",
    "$$\n",
    "\n",
    "Let's now apply the taylor series expansion to the number. Therefore let's define $x_e = 2.5+\\epsilon_1$. Since we want to obtain higher order terms, we need to redefine the order of the number. Therefore we will redefine it to order 5 (because we want to get  up to the fifth derivative)."
   ]
  },
  {
   "cell_type": "code",
   "execution_count": 56,
   "metadata": {
    "jupyter": {
     "outputs_hidden": false
    }
   },
   "outputs": [
    {
     "name": "stdout",
     "output_type": "stream",
     "text": [
      "2.5 + 1 * e([1])\n",
      "5\n"
     ]
    }
   ],
   "source": [
    "x_e=2.5+oti.e([1],order=5)\n",
    "\n",
    "print(x_e)\n",
    "print(x_e.order)"
   ]
  },
  {
   "cell_type": "markdown",
   "metadata": {},
   "source": [
    "Now let's evaluate the function in $x_e$"
   ]
  },
  {
   "cell_type": "code",
   "execution_count": 57,
   "metadata": {
    "jupyter": {
     "outputs_hidden": false
    }
   },
   "outputs": [
    {
     "name": "stdout",
     "output_type": "stream",
     "text": [
      "924.688 + 1898.88 * e([1]) + 1540 * e([[1,2]]) + 622 * e([[1,3]]) + ... \n"
     ]
    },
    {
     "data": {
      "text/plain": [
       "924.688 + 1898.88 * e([1]) + 1540 * e([[1,2]]) + 622 * e([[1,3]]) + ... "
      ]
     },
     "execution_count": 57,
     "metadata": {},
     "output_type": "execute_result"
    }
   ],
   "source": [
    "result_1=funct_1(x_e)\n",
    "print(result_1)\n",
    "result_1"
   ]
  },
  {
   "cell_type": "markdown",
   "metadata": {},
   "source": [
    "We see that the first two values correspond to the function and first derivative evaluated at $2.5$, but let's see what happens with the numbers. In order to retreive the values of the other derivatives, the solution must take into account the following:\n",
    "\n",
    "if our number results in something like\n",
    "$$\n",
    "\\mbox{result} = a_0 + a_1\\epsilon_1 + a_2\\epsilon_1^2 + a_3\\epsilon_1^3 + a_4\\epsilon_1^4+... \n",
    "$$\n",
    "\n",
    "and considering that \n",
    "$$\n",
    "f(x_0+\\epsilon) = f(x_0) + f_x(x_0)\\epsilon_1 +\n",
    "\\frac{f_{xx}(x_0)}{2!}{\\epsilon_1^2} +\n",
    "\\frac{f_{xxx}(x_0)}{3!}{\\epsilon_1^3} + \n",
    "\\frac{f_{xxxx}(x_0)}{4!}{\\epsilon_1^4} + ...\n",
    "$$\n",
    "\n",
    "then to retreive the functions, we most do the following:\n",
    "$$\n",
    "f(x_0) = a_0 \\\\\n",
    "f_x(x_0) = a_1 \\\\\n",
    "f_{xx}(x_0)=a_2*2! \\\\\n",
    "f_{xxx}(x_0)=a_3*3! \\\\ \n",
    "f_{xxxx}(x_0)=a_4*4! \\\\ \n",
    "\\mbox{and so on...}\n",
    "$$\n",
    "\n",
    "As a result, in order to evaluate the result, consider the following:"
   ]
  },
  {
   "cell_type": "code",
   "execution_count": 58,
   "metadata": {
    "jupyter": {
     "outputs_hidden": false
    }
   },
   "outputs": [
    {
     "name": "stdout",
     "output_type": "stream",
     "text": [
      "f:\n",
      "924.6875\n",
      "\n",
      "f_x:\n",
      "1898.875\n",
      "\n",
      "f_xx:\n",
      "3080.0\n",
      "\n",
      "f_xxx:\n",
      "3732.0\n",
      "\n",
      "f_xxxx:\n",
      "3000.0\n",
      "\n",
      "f_xxxxx:\n",
      "1200.0\n"
     ]
    }
   ],
   "source": [
    "f=result_1.get_im([0])\n",
    "\n",
    "f_x=result_1.get_im([1])\n",
    "\n",
    "f_xx=result_1.get_im([[1,2]]) * 2*1\n",
    "\n",
    "f_xxx=result_1.get_im([[1,3]]) * 3*2*1\n",
    "\n",
    "f_xxxx=result_1.get_im([[1,4]]) * 4*3*2*1\n",
    "\n",
    "f_xxxxx=result_1.get_im([[1,5]]) * 5*4*3*2*1\n",
    "\n",
    "# Print results:\n",
    "\n",
    "print(\"f:\")\n",
    "print(f)\n",
    "\n",
    "print(\"\\nf_x:\")\n",
    "print(f_x)\n",
    "\n",
    "print(\"\\nf_xx:\")\n",
    "print(f_xx)\n",
    "\n",
    "print(\"\\nf_xxx:\")\n",
    "print(f_xxx)\n",
    "\n",
    "print(\"\\nf_xxxx:\")\n",
    "print(f_xxxx)\n",
    "\n",
    "print(\"\\nf_xxxxx:\")\n",
    "print(f_xxxxx)"
   ]
  },
  {
   "cell_type": "markdown",
   "metadata": {},
   "source": [
    "An easier way to do this is to use the method ```get_deriv()``` which applies directly the factor to obtain the derivative."
   ]
  },
  {
   "cell_type": "code",
   "execution_count": 63,
   "metadata": {},
   "outputs": [
    {
     "name": "stdout",
     "output_type": "stream",
     "text": [
      "f_xxx:\n",
      "3732.0\n"
     ]
    }
   ],
   "source": [
    "print(\"f_xxx:\")\n",
    "print(result_1.get_deriv([1,1,1]))"
   ]
  },
  {
   "cell_type": "markdown",
   "metadata": {},
   "source": [
    "Which for the sake of comparison, let's recall the results:\n",
    "\n",
    "$$\n",
    "f(2.5) = 924.6875 \\\\\n",
    "f_{x}(2.5)= 1898.875, \\\\ \n",
    "f_{xx}(2.5)= 3080,  \\\\ \n",
    "f_{xxx}(2.5)= 3732, \\\\ \n",
    "f_{xxxx}(2.5)= 3000, \\\\ \n",
    "f_{xxxxx}(2.5)= 1200\n",
    "$$\n",
    "\n",
    "We see exact computation of the function's derivatives."
   ]
  },
  {
   "cell_type": "markdown",
   "metadata": {},
   "source": [
    "#### 3.1.2 Multi variable functions\n",
    "\n",
    "Consider a function $f: \\mathbb{R}^n \\rightarrow \\mathbb{R}$,  $f(x_1,x_2,...,x_n)$. Taking into account the Taylor series expansion of multivariable functions\n",
    "\n",
    "$$\n",
    "f(z_1,z_2,...,z_n) = \\\\\n",
    "\\sum_{k_1=0}^{\\infty}\\sum_{k_2=0}^{\\infty}...\\sum_{k_n=0}^{\\infty}    \n",
    "\\frac{(z_1-a_1)^{k_1}(z_2-a_2)^{k_2}...(z_n-a_n)^{k_n}}{k_1!k_2!...k_n!}\n",
    "\\left(\n",
    "\\frac{ \\partial^{k_1+k_2+...+k_n}f }{ \\partial x_1^{k_1} \\partial x_2^{k_2} ... \\partial x_n^{k_n} }\n",
    "\\right)\n",
    "(a_1,a_2,...,a_n)\n",
    "$$\n",
    "\n",
    "\n",
    "Now consider $z_1=x_{1_0}+\\epsilon_1$, $z_2=x_{2_0}+\\epsilon_2$, ..., $z_n=x_{n_0}+\\epsilon_n$; and $a_1 = x_{1_0}$, $a_2 = x_{2_0}$, ...,$a_n = x_{n_0}$, we obtain:\n",
    "\n",
    "$$\n",
    "f(x_{1_0}+\\epsilon_1,x_{2_0}+\\epsilon_2,...,x_{n_0}+\\epsilon_n) = \\\\\n",
    "\\sum_{k_1=0}^{\\infty}\\sum_{k_2=0}^{\\infty}...\\sum_{k_n=0}^{\\infty}    \n",
    "\\frac{\\epsilon_1^{k_1}\\epsilon_2^{k_2}...\\epsilon_n^{k_n}}{k_1!k_2!...k_n!}\n",
    "\\left(\n",
    "\\frac{ \\partial^{k_1+k_2+...+k_n}f }{ \\partial x_1^{k_1} \\partial x_2^{k_2} ... \\partial x_n^{k_n} }\n",
    "\\right)\n",
    "(x_{1_0},x_{2_0},...,x_{n_0})\n",
    "$$\n",
    "\n",
    "\n",
    "Notice again that the order of the derivative is the same order of the dual number that we get, i.e., the sum $k_1+k_2+...+k_n$ determines the order of the dual direction and the order of the derivative to associate.\n",
    "\n",
    "For example, a two variable function up to order 2 derivatives gives:\n",
    "\n",
    "$$\n",
    "f(x_{1_0}+\\epsilon_1,x_{2_0}+\\epsilon_2) = \\\\\n",
    "f(x_{1_0},x_{2_0}) + \\\\\n",
    "\\frac{\\partial f }{ \\partial x_1} \\ \\epsilon_1 + \n",
    "\\frac{1}{2!}\\frac{\\partial^2 f }{ \\partial x_1^2}(x_{1_0},x_{2_0})  \\ \\epsilon_1^2 +\\\\\n",
    "\\frac{\\partial f }{ \\partial x_2}(x_{1_0},x_{2_0})  \\ \\epsilon_2 + \n",
    "\\frac{\\partial^2 f }{ \\partial x_1\\partial x_2}(x_{1_0},x_{2_0})  \\ \\epsilon_2\\epsilon_1 +\n",
    "\\frac{1}{2!}\\frac{\\partial^2 f }{ \\partial x_2^2}(x_{1_0},x_{2_0}) \\  \\epsilon_2^2\n",
    "$$\n",
    "\n",
    "To apply this to a simple example, let's consider the function \n",
    "\n",
    "$$\n",
    "f(x,y) = 4x^5y^4\n",
    "$$\n",
    "\n",
    "Let's define the function in the python environment:"
   ]
  },
  {
   "cell_type": "code",
   "execution_count": 64,
   "metadata": {
    "jupyter": {
     "outputs_hidden": true
    }
   },
   "outputs": [],
   "source": [
    "def funct_2(x,y):\n",
    "    return 4*x**5*y**4"
   ]
  },
  {
   "cell_type": "markdown",
   "metadata": {},
   "source": [
    "Analitically, let's define the derivatives of the function:\n",
    "$$\n",
    "f_x(x,y) = 20x^4y^4, \\ \\ f_y(x,y) = 16x^5y^3\n",
    "$$\n",
    "\n",
    "Now, how do we retreive the function's first derivatives by just evaluating the function with dual numbers? It's easy! \n",
    "\n",
    "According to the taylor series expansion of the function, we can retreive the function derivatives by evaluating the function at the point we want, say $(x_0,y_0)$ with a perturbation on the dual direction. In this case, the perturbation will occur as follows: $(x_0+\\epsilon_1,y_0+\\epsilon_2)$\n",
    "\n",
    "To get first derivatives we most only evaluate the function into dual numbers of order one. In this way, we define the point $(x_0=2,y_0=3)$ and we get:"
   ]
  },
  {
   "cell_type": "code",
   "execution_count": 66,
   "metadata": {
    "jupyter": {
     "outputs_hidden": true
    }
   },
   "outputs": [],
   "source": [
    "x=2.0+oti.e([1])\n",
    "y=3.0+oti.e([2])"
   ]
  },
  {
   "cell_type": "code",
   "execution_count": 67,
   "metadata": {
    "jupyter": {
     "outputs_hidden": false
    }
   },
   "outputs": [
    {
     "name": "stdout",
     "output_type": "stream",
     "text": [
      "10368 + 25920 * e([1]) + 13824 * e([2])\n"
     ]
    }
   ],
   "source": [
    "result_2 = funct_2(x,y)\n",
    "print(result_2)"
   ]
  },
  {
   "cell_type": "markdown",
   "metadata": {},
   "source": [
    "Analitically, the results of evaluating all function and its derivatives are:\n",
    "$$\n",
    "f(2,3) = 10368\n",
    "$$\n",
    "$$\n",
    "f_x(2,3) = 25920\n",
    "$$\n",
    "$$\n",
    "f_y(2,3) = 13824\n",
    "$$"
   ]
  },
  {
   "cell_type": "markdown",
   "metadata": {},
   "source": [
    "Now, interestingly, the coefficients that we obtain are the following:\n",
    "``` 2048.0 ``` on the real part, wich represents the function evaluated at $(2,3)$, the coefficient of $\\epsilon_1$ is the first derivative with respect to $x$ (as is) and the coefficient of $\\epsilon_2$ is the first derivative with respect to $y$ function evaluated.\n",
    "\n",
    "The seccond derivatives of the function are:\n",
    "$$\n",
    "f_{xx}(x,y) = 80x^3y^4, \\\\\n",
    "f_{xy}(x,y) = 80x^4y^3, \\\\\n",
    "f_{yy}(x,y) = 48x^5y^2\n",
    "$$\n",
    "\n",
    "Wich evaluated at $(2,3)$ gives\n",
    "$$\n",
    "f_{xx}(2,3) = 51840, \\\\ \n",
    "f_{xy}(2,3) = 34560, \\\\\n",
    "f_{yy}(2,3) = 13824\n",
    "$$\n",
    "\n",
    "\n",
    "Lets now change the order of both numbers, and see what we get:\n"
   ]
  },
  {
   "cell_type": "code",
   "execution_count": 44,
   "metadata": {
    "jupyter": {
     "outputs_hidden": false
    }
   },
   "outputs": [
    {
     "name": "stdout",
     "output_type": "stream",
     "text": [
      "10368 + 25920 * e([1]) + 13824 * e([2]) + 25920 * e([[1,2]]) + ... \n"
     ]
    }
   ],
   "source": [
    "# To change the order on the fly, perturb by zero-coefficient OTI numbers with desired truncation order.\n",
    "x = x + 0*oti.e([1],order=2) \n",
    "y = y + 0*oti.e([1],order=2) \n",
    "result_2_order2 = funct_2(x,y)\n",
    "print(result_2_order2)"
   ]
  },
  {
   "cell_type": "markdown",
   "metadata": {},
   "source": [
    "\n"
   ]
  },
  {
   "cell_type": "markdown",
   "metadata": {},
   "source": [
    "We can extract, based on the Taylor series, the different terms. However, in order to get an easy form to extract them, the function ```getDerivative(dualnum,dirArray)``` helps in retreiving the derivatives according to the specifyed direction. It works as follows:"
   ]
  },
  {
   "cell_type": "code",
   "execution_count": 45,
   "metadata": {
    "jupyter": {
     "outputs_hidden": false
    }
   },
   "outputs": [
    {
     "name": "stdout",
     "output_type": "stream",
     "text": [
      "Get the f(x_0, y_0):\n",
      "10368.0\n",
      "\n",
      "Get the f_x(x_0, y_0):\n",
      "25920.0\n",
      "\n",
      "Get the f_xx(x_0, y_0):\n",
      "51840.0\n",
      "\n",
      "Get the f_y(x_0, y_0):\n",
      "13824.0\n",
      "\n",
      "Get the f_xy(x_0, y_0):\n",
      "34560.0\n",
      "\n",
      "Get the f_yy(x_0, y_0):\n",
      "13824.0\n"
     ]
    }
   ],
   "source": [
    "print(\"Get the f(x_0, y_0):\")\n",
    "print(result_2_order2.get_deriv([0]))\n",
    "\n",
    "print(\"\\nGet the f_x(x_0, y_0):\")\n",
    "print(result_2_order2.get_deriv([1]))\n",
    "\n",
    "print(\"\\nGet the f_xx(x_0, y_0):\")\n",
    "print(result_2_order2.get_deriv([[1,2]]))\n",
    "\n",
    "print(\"\\nGet the f_y(x_0, y_0):\")\n",
    "print(result_2_order2.get_deriv([2]))\n",
    "\n",
    "print(\"\\nGet the f_xy(x_0, y_0):\")\n",
    "print(result_2_order2.get_deriv([1,2]))\n",
    "\n",
    "print(\"\\nGet the f_yy(x_0, y_0):\")\n",
    "print(result_2_order2.get_deriv([[2,2]]))"
   ]
  },
  {
   "cell_type": "markdown",
   "metadata": {},
   "source": [
    "This finalizes the method to obtain the derivatives of polynomial functions."
   ]
  },
  {
   "cell_type": "markdown",
   "metadata": {},
   "source": [
    "## 4 Linear Algebra\n",
    "\n",
    "```pyoti``` includes support for linear algebra operations (such as matrix multiplication, dot product, etc)."
   ]
  },
  {
   "cell_type": "code",
   "execution_count": null,
   "metadata": {
    "jupyter": {
     "outputs_hidden": true
    }
   },
   "outputs": [],
   "source": []
  },
  {
   "cell_type": "code",
   "execution_count": null,
   "metadata": {
    "jupyter": {
     "outputs_hidden": true
    }
   },
   "outputs": [],
   "source": []
  },
  {
   "cell_type": "code",
   "execution_count": null,
   "metadata": {
    "jupyter": {
     "outputs_hidden": true
    }
   },
   "outputs": [],
   "source": []
  },
  {
   "cell_type": "code",
   "execution_count": null,
   "metadata": {
    "jupyter": {
     "outputs_hidden": true
    }
   },
   "outputs": [],
   "source": []
  }
 ],
 "metadata": {
  "kernelspec": {
   "display_name": "pyoti",
   "language": "python",
   "name": "pyoti"
  },
  "language_info": {
   "codemirror_mode": {
    "name": "ipython",
    "version": 3
   },
   "file_extension": ".py",
   "mimetype": "text/x-python",
   "name": "python",
   "nbconvert_exporter": "python",
   "pygments_lexer": "ipython3",
   "version": "3.9.13"
  }
 },
 "nbformat": 4,
 "nbformat_minor": 4
}
