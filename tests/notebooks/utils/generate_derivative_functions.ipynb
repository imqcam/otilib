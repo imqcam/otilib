{
 "cells": [
  {
   "cell_type": "code",
   "execution_count": 1,
   "metadata": {},
   "outputs": [],
   "source": [
    "import sympy as sym\n",
    "from sympy.printing import ccode"
   ]
  },
  {
   "cell_type": "code",
   "execution_count": 2,
   "metadata": {},
   "outputs": [
    {
     "data": {
      "text/plain": [
       "(None, None)"
      ]
     },
     "execution_count": 2,
     "metadata": {},
     "output_type": "execute_result"
    }
   ],
   "source": [
    "singvar_functs  = []\n",
    "singvar_names   = []\n",
    "multivar_functs = []\n",
    "\n",
    "# Single variable functions:\n",
    "\n",
    "# Inverse trigonometric.\n",
    "singvar_functs.append( sym.asin  ), singvar_names.append(\"asin\"     )\n",
    "singvar_functs.append( sym.acos  ), singvar_names.append(\"acos\"     )\n",
    "singvar_functs.append( sym.atan  ), singvar_names.append(\"atan\"     )\n",
    "\n",
    "# Inverse Hyperbolic\n",
    "singvar_functs.append( sym.asinh ), singvar_names.append(\"asinh\"    )\n",
    "singvar_functs.append( sym.acosh ), singvar_names.append(\"acosh\"    )\n",
    "singvar_functs.append( sym.atanh ), singvar_names.append(\"atanh\"    )\n",
    "\n",
    "# Error function\n",
    "\n",
    "singvar_functs.append( sym.erf ), singvar_names.append(\"erf\"    )\n",
    "\n",
    "\n",
    "# Slower functions.\n",
    "singvar_functs.append( sym.tan   ), singvar_names.append(\"tan\"      )\n",
    "singvar_functs.append( sym.tanh  ), singvar_names.append(\"tanh\"     )\n",
    "\n",
    "# Special functions.\n",
    "# Depends on multiple inputs.\n",
    "\n",
    "# singvar_functs.append( sym.log10 ), singvar_names.append(\"log10\"    )\n",
    "# singvar_functs.append( sym.logb  ), singvar_names.append(\"logb\"     )\n",
    "\n",
    "# Multivariable functions.\n",
    "# multivar_functs.append( sym.power ), multivar_names.append(\"power\"    ) # x^y, x variable, y variable.\n",
    "# multivar_functs.append( sym.atan2 ), multivar_names.append(\"atan2\"    ) # atan2(x,y), x variable, y variable.\n",
    "# multivar_functs.append(    x/y    ), multivar_names.append(\"atan2\"    ) # atan2(x,y), x variable, y variable.\n",
    "\n"
   ]
  },
  {
   "cell_type": "code",
   "execution_count": 3,
   "metadata": {},
   "outputs": [],
   "source": [
    "str_funct_start = \"// ****************************************************************************************************\\n\"\n",
    "str_funct_end   = \"// ----------------------------------------------------------------------------------------------------\\n\"\n",
    "tab_sep = \" \"*4 # Four spaces.\n",
    "endl=\"\\n\"\n",
    "\n",
    "special_functs = ['tan','tanh']\n",
    "\n",
    "def write_tan_funct(string_out, fx, x, deriv_order, level):\n",
    "    string_out += tab_sep*level\n",
    "    string_out += \"ord_t i;\"+endl\n",
    "    string_out += tab_sep*level\n",
    "    string_out += \"coeff_t tx = tan(x0);\"+endl\n",
    "\n",
    "    string_out += tab_sep*level\n",
    "    string_out += \"coeff_t tx2 = pow(tx,2);\"+endl\n",
    "\n",
    "    # Write function evaluation.\n",
    "\n",
    "    string_out += tab_sep*level\n",
    "    string_out += \"derivs[0]=\"\n",
    "    string_out += ccode(fx).replace(\" \",\"\").replace(\"tan(x0)\",\"tx\").replace(\"pow(tx,2)\",\"tx2\")\n",
    "\n",
    "    string_out += \";\"+endl\n",
    "\n",
    "    string_out += tab_sep*level\n",
    "    string_out += \"for(i=1;i<=order;i++){\"+endl\n",
    "    level += 1\n",
    "\n",
    "    string_out += tab_sep*level\n",
    "    string_out += \"switch(i){\"+endl\n",
    "    level+=1    \n",
    "\n",
    "    for order in range(1,deriv_order+1):\n",
    "\n",
    "        print(\" -- Writing derivative \",order)\n",
    "        string_out += tab_sep*level\n",
    "        string_out+=\"case \"+str(order)+\":\"+endl\n",
    "        level+=1\n",
    "        string_out += tab_sep*level\n",
    "        string_out += \"derivs[\"+str(order)+\"]=\"\n",
    "        fx = fx.diff(x)\n",
    "        \n",
    "        code = ccode(fx.evalf())\n",
    "        code = code.replace(\" \",\"\")\n",
    "        code = code.replace(\"tan(x0)\",\"tx\")\n",
    "        code = code.replace(\"pow(tx,2)\",\"tx2\")\n",
    "        \n",
    "        code = code.replace(\".0+\",\".+\")\n",
    "        code = code.replace(\".0-\",\".-\")\n",
    "        code = code.replace(\".0*\",\".*\")\n",
    "        code = code.replace(\".0/\",\"./\")\n",
    "        code = code.replace(\".0,\",\".,\")\n",
    "        \n",
    "        string_out += code\n",
    "        string_out += \";\"+endl\n",
    "        level-=1\n",
    "\n",
    "    # end for \n",
    "\n",
    "\n",
    "    # ending SWITCH.\n",
    "    level-=1\n",
    "    string_out += tab_sep*level\n",
    "    string_out += \"}\"+endl\n",
    "\n",
    "\n",
    "    # ending FOR.\n",
    "    level-=1\n",
    "    string_out += tab_sep*level\n",
    "    string_out += \"}\"+endl\n",
    "    \n",
    "    return string_out\n",
    "    \n",
    "    \n",
    "def write_tanh_funct(string_out, fx, x, deriv_order, level):\n",
    "\n",
    "    \n",
    "    string_out += tab_sep*level\n",
    "    string_out += \"ord_t i;\"+endl\n",
    "    string_out += tab_sep*level\n",
    "    string_out += \"coeff_t tx = tanh(x0);\"+endl\n",
    "\n",
    "    string_out += tab_sep*level\n",
    "    string_out += \"coeff_t tx2 = pow(tx,2);\"+endl\n",
    "\n",
    "    # Write function evaluation.\n",
    "\n",
    "    string_out += tab_sep*level\n",
    "    string_out += \"derivs[0]=\"\n",
    "    string_out += ccode(fx).replace(\" \",\"\").replace(\"tanh(x0)\",\"tx\").replace(\"pow(tx,2)\",\"tx2\")\n",
    "\n",
    "    string_out += \";\"+endl\n",
    "\n",
    "    string_out += tab_sep*level\n",
    "    string_out += \"for(i=1;i<=order;i++){\"+endl\n",
    "    level += 1\n",
    "\n",
    "    string_out += tab_sep*level\n",
    "    string_out += \"switch(i){\"+endl\n",
    "    level+=1    \n",
    "\n",
    "    for order in range(1,deriv_order+1):\n",
    "\n",
    "        print(\" -- Writing derivative \",order)\n",
    "        string_out += tab_sep*level\n",
    "        string_out+=\"case \"+str(order)+\":\"+endl\n",
    "        level+=1\n",
    "        string_out += tab_sep*level\n",
    "        string_out += \"derivs[\"+str(order)+\"]=\"\n",
    "        fx = fx.diff(x)\n",
    "        \n",
    "        code = ccode(fx.evalf())\n",
    "        code = code.replace(\" \",\"\")\n",
    "        code = code.replace(\"tanh(x0)\",\"tx\")\n",
    "        code = code.replace(\"pow(tx,2)\",\"tx2\")\n",
    "        \n",
    "        code = code.replace(\".0+\",\".+\")\n",
    "        code = code.replace(\".0-\",\".-\")\n",
    "        code = code.replace(\".0*\",\".*\")\n",
    "        code = code.replace(\".0/\",\"./\")\n",
    "        code = code.replace(\".0,\",\".,\")\n",
    "        code = code.replace(\".0;\",\".;\")\n",
    "        code = code.replace(\".0)\",\".)\")\n",
    "        \n",
    "        string_out += code\n",
    "        string_out += \";\"+endl\n",
    "        level-=1\n",
    "\n",
    "    # end for \n",
    "\n",
    "\n",
    "    # ending SWITCH.\n",
    "    level-=1\n",
    "    string_out += tab_sep*level\n",
    "    string_out += \"}\"+endl\n",
    "\n",
    "\n",
    "    # ending FOR.\n",
    "    level-=1\n",
    "    string_out += tab_sep*level\n",
    "    string_out += \"}\"+endl\n",
    "\n",
    "    return string_out\n",
    "    \n",
    "    \n",
    "def write_function(string_out, function, funct_name, deriv_order):\n",
    "    \n",
    "    x = sym.symbols('x0')\n",
    "    fx = function(x)\n",
    "    \n",
    "    level = 0\n",
    "    \n",
    "    # Write initialization\n",
    "    string_out += \"\\n\"\n",
    "    string_out += str_funct_start\n",
    "    \n",
    "    string_out += \"void der_r_\"+funct_name+\"(coeff_t x0, ord_t order, coeff_t* derivs){\" + endl\n",
    "    level+=1\n",
    "    \n",
    "    # declarations?\n",
    "    string_out += endl # Space.\n",
    "    \n",
    "    if (funct_name in special_functs):\n",
    "        if funct_name == 'tan':\n",
    "\n",
    "            string_out = write_tan_funct(string_out, fx, x, deriv_order,level)\n",
    "            \n",
    "        elif funct_name == 'tanh':\n",
    "            \n",
    "            string_out = write_tanh_funct(string_out, fx, x, deriv_order, level)\n",
    "            \n",
    "        # end if \n",
    "    else:\n",
    "        string_out += tab_sep*level\n",
    "        string_out += \"ord_t i;\"+endl\n",
    "        string_out += tab_sep*level\n",
    "        string_out += \"coeff_t x2 = pow(x0,2);\"+endl\n",
    "\n",
    "        # Write function evaluation.\n",
    "\n",
    "        string_out += tab_sep*level\n",
    "        string_out += \"derivs[0]=\"\n",
    "        string_out += ccode(fx).replace(\" \",\"\")\n",
    "\n",
    "        string_out += \";\"+endl\n",
    "\n",
    "        string_out += tab_sep*level\n",
    "        string_out += \"for(i=1;i<=order;i++){\"+endl\n",
    "        level += 1\n",
    "\n",
    "        string_out += tab_sep*level\n",
    "        string_out += \"switch(i){\"+endl\n",
    "        level+=1    \n",
    "\n",
    "        for order in range(1,deriv_order+1):\n",
    "\n",
    "            print(\" -- Writing derivative \",order)\n",
    "            string_out += tab_sep*level\n",
    "            string_out+=\"case \"+str(order)+\":\"+endl\n",
    "            level+=1\n",
    "            string_out += tab_sep*level\n",
    "            string_out += \"derivs[\"+str(order)+\"]=\"\n",
    "            fx = fx.diff(x)\n",
    "            \n",
    "            code = ccode(fx.evalf())\n",
    "            code = code.replace(\" \",\"\")\n",
    "            code = code.replace(\"pow(x0,2)\",\"x2\")\n",
    "\n",
    "            code = code.replace(\".0+\",\".+\")\n",
    "            code = code.replace(\".0-\",\".-\")\n",
    "            code = code.replace(\".0*\",\".*\")\n",
    "            code = code.replace(\".0/\",\"./\")\n",
    "            code = code.replace(\".0,\",\".,\")\n",
    "\n",
    "            string_out += code\n",
    "            string_out += \";\"+endl\n",
    "            level-=1\n",
    "\n",
    "        # end for \n",
    "\n",
    "\n",
    "        # ending SWITCH.\n",
    "        level-=1\n",
    "        string_out += tab_sep*level\n",
    "        string_out += \"}\"+endl\n",
    "\n",
    "\n",
    "        # ending FOR.\n",
    "        level-=1\n",
    "        string_out += tab_sep*level\n",
    "        string_out += \"}\"+endl\n",
    "        \n",
    "    # end if \n",
    "    \n",
    "    string_out += \"}\"+endl\n",
    "    string_out += str_funct_end\n",
    "    \n",
    "    return string_out\n",
    "# end"
   ]
  },
  {
   "cell_type": "code",
   "execution_count": null,
   "metadata": {},
   "outputs": [],
   "source": []
  },
  {
   "cell_type": "code",
   "execution_count": 4,
   "metadata": {
    "scrolled": false
   },
   "outputs": [
    {
     "name": "stdout",
     "output_type": "stream",
     "text": [
      "Writing the derivatives of function: asin\n",
      " -- Writing derivative  1\n",
      " -- Writing derivative  2\n",
      " -- Writing derivative  3\n",
      " -- Writing derivative  4\n",
      " -- Writing derivative  5\n",
      " -- Writing derivative  6\n",
      " -- Writing derivative  7\n",
      " -- Writing derivative  8\n",
      " -- Writing derivative  9\n",
      " -- Writing derivative  10\n",
      "Writing the derivatives of function: acos\n",
      " -- Writing derivative  1\n",
      " -- Writing derivative  2\n",
      " -- Writing derivative  3\n",
      " -- Writing derivative  4\n",
      " -- Writing derivative  5\n",
      " -- Writing derivative  6\n",
      " -- Writing derivative  7\n",
      " -- Writing derivative  8\n",
      " -- Writing derivative  9\n",
      " -- Writing derivative  10\n",
      "Writing the derivatives of function: atan\n",
      " -- Writing derivative  1\n",
      " -- Writing derivative  2\n",
      " -- Writing derivative  3\n",
      " -- Writing derivative  4\n",
      " -- Writing derivative  5\n",
      " -- Writing derivative  6\n",
      " -- Writing derivative  7\n",
      " -- Writing derivative  8\n",
      " -- Writing derivative  9\n",
      " -- Writing derivative  10\n",
      "Writing the derivatives of function: asinh\n",
      " -- Writing derivative  1\n",
      " -- Writing derivative  2\n",
      " -- Writing derivative  3\n",
      " -- Writing derivative  4\n",
      " -- Writing derivative  5\n",
      " -- Writing derivative  6\n",
      " -- Writing derivative  7\n",
      " -- Writing derivative  8\n",
      " -- Writing derivative  9\n",
      " -- Writing derivative  10\n",
      "Writing the derivatives of function: acosh\n",
      " -- Writing derivative  1\n",
      " -- Writing derivative  2\n",
      " -- Writing derivative  3\n",
      " -- Writing derivative  4\n",
      " -- Writing derivative  5\n",
      " -- Writing derivative  6\n",
      " -- Writing derivative  7\n",
      " -- Writing derivative  8\n",
      " -- Writing derivative  9\n",
      " -- Writing derivative  10\n",
      "Writing the derivatives of function: atanh\n",
      " -- Writing derivative  1\n",
      " -- Writing derivative  2\n",
      " -- Writing derivative  3\n",
      " -- Writing derivative  4\n",
      " -- Writing derivative  5\n",
      " -- Writing derivative  6\n",
      " -- Writing derivative  7\n",
      " -- Writing derivative  8\n",
      " -- Writing derivative  9\n",
      " -- Writing derivative  10\n",
      "Writing the derivatives of function: erf\n",
      " -- Writing derivative  1\n",
      " -- Writing derivative  2\n",
      " -- Writing derivative  3\n",
      " -- Writing derivative  4\n",
      " -- Writing derivative  5\n",
      " -- Writing derivative  6\n",
      " -- Writing derivative  7\n",
      " -- Writing derivative  8\n",
      " -- Writing derivative  9\n",
      " -- Writing derivative  10\n",
      "Writing the derivatives of function: tan\n",
      " -- Writing derivative  1\n",
      " -- Writing derivative  2\n",
      " -- Writing derivative  3\n",
      " -- Writing derivative  4\n",
      " -- Writing derivative  5\n",
      " -- Writing derivative  6\n",
      " -- Writing derivative  7\n",
      " -- Writing derivative  8\n",
      " -- Writing derivative  9\n",
      " -- Writing derivative  10\n",
      "Writing the derivatives of function: tanh\n",
      " -- Writing derivative  1\n",
      " -- Writing derivative  2\n",
      " -- Writing derivative  3\n",
      " -- Writing derivative  4\n",
      " -- Writing derivative  5\n",
      " -- Writing derivative  6\n",
      " -- Writing derivative  7\n",
      " -- Writing derivative  8\n",
      " -- Writing derivative  9\n",
      " -- Writing derivative  10\n"
     ]
    }
   ],
   "source": [
    "string=\"\"\n",
    "deriv_order = 10\n",
    "for i in range(len(singvar_functs)):\n",
    "    print(\"Writing the derivatives of function: \"+singvar_names[i])\n",
    "    string = write_function(string, singvar_functs[i], singvar_names[i], deriv_order)\n",
    "    \n",
    "    # Write progress.\n",
    "    filename = \"function_derivatives_test3.c\"\n",
    "    f = open(filename,'w')\n",
    "    f.write(string)\n",
    "    f.close()\n",
    "# filename = \"function_derivatives_test2.c\"\n",
    "# f = open(filename,'w')\n",
    "# f.write(string)\n",
    "# f.close()"
   ]
  },
  {
   "cell_type": "code",
   "execution_count": null,
   "metadata": {},
   "outputs": [],
   "source": [
    "A = \"tan(x0)*pow(tan(x0),2)\"\n",
    "A.replace(\"tan(x0)\",\"tx\")"
   ]
  },
  {
   "cell_type": "code",
   "execution_count": 5,
   "metadata": {
    "scrolled": false
   },
   "outputs": [
    {
     "name": "stdout",
     "output_type": "stream",
     "text": [
      "order =     0\n",
      "factor =    0.5\n",
      "exponent =  -0.5\n",
      "\n",
      "order =     1\n",
      "factor =    -0.25\n",
      "exponent =  -1.5\n",
      "\n",
      "order =     2\n",
      "factor =    0.375\n",
      "exponent =  -2.5\n",
      "\n",
      "order =     3\n",
      "factor =    -0.9375\n",
      "exponent =  -3.5\n",
      "\n",
      "order =     4\n",
      "factor =    3.28125\n",
      "exponent =  -4.5\n",
      "\n",
      "order =     5\n",
      "factor =    -14.765625\n",
      "exponent =  -5.5\n",
      "\n",
      "order =     6\n",
      "factor =    81.2109375\n",
      "exponent =  -6.5\n",
      "\n",
      "order =     7\n",
      "factor =    -527.87109375\n",
      "exponent =  -7.5\n",
      "\n",
      "order =     8\n",
      "factor =    3959.033203125\n",
      "exponent =  -8.5\n",
      "\n",
      "order =     9\n",
      "factor =    -33651.7822265625\n",
      "exponent =  -9.5\n",
      "\n",
      "order =     10\n",
      "factor =    319691.93115234375\n",
      "exponent =  -10.5\n",
      "\n"
     ]
    }
   ],
   "source": [
    "1exponent = 1.0/2.0\n",
    "\n",
    "base = \"x0\"\n",
    "\n",
    "factor = 1\n",
    "order = 10\n",
    "for i in range(order + 1):\n",
    "    factor = factor * exponent\n",
    "    exponent = exponent - 1\n",
    "    \n",
    "    print(\"order =    \",i)\n",
    "    print(\"factor =   \",factor)\n",
    "    print(\"exponent = \",exponent)\n",
    "    print()\n"
   ]
  },
  {
   "cell_type": "code",
   "execution_count": 9,
   "metadata": {},
   "outputs": [
    {
     "data": {
      "text/plain": [
       "14.765625"
      ]
     },
     "execution_count": 9,
     "metadata": {},
     "output_type": "execute_result"
    }
   ],
   "source": [
    "945/64"
   ]
  },
  {
   "cell_type": "code",
   "execution_count": 3,
   "metadata": {},
   "outputs": [],
   "source": [
    "x = sym.symbols(\"x\")\n",
    "f = 2**x"
   ]
  },
  {
   "cell_type": "code",
   "execution_count": 4,
   "metadata": {},
   "outputs": [
    {
     "data": {
      "text/latex": [
       "$\\displaystyle 2^{x} \\log{\\left(2 \\right)}$"
      ],
      "text/plain": [
       "2**x*log(2)"
      ]
     },
     "execution_count": 4,
     "metadata": {},
     "output_type": "execute_result"
    }
   ],
   "source": [
    "f.diff(x)"
   ]
  },
  {
   "cell_type": "code",
   "execution_count": 5,
   "metadata": {},
   "outputs": [
    {
     "data": {
      "text/latex": [
       "$\\displaystyle 2^{x} \\log{\\left(2 \\right)}^{2}$"
      ],
      "text/plain": [
       "2**x*log(2)**2"
      ]
     },
     "execution_count": 5,
     "metadata": {},
     "output_type": "execute_result"
    }
   ],
   "source": [
    "f.diff(x,2)"
   ]
  },
  {
   "cell_type": "code",
   "execution_count": 11,
   "metadata": {},
   "outputs": [
    {
     "data": {
      "text/latex": [
       "$\\displaystyle 0.0256008632895631 \\cdot 2.0^{x}$"
      ],
      "text/plain": [
       "0.0256008632895631*2.0**x"
      ]
     },
     "execution_count": 11,
     "metadata": {},
     "output_type": "execute_result"
    }
   ],
   "source": [
    "f.diff(x,10).doit().expand().evalf()"
   ]
  },
  {
   "cell_type": "code",
   "execution_count": 13,
   "metadata": {},
   "outputs": [
    {
     "name": "stdout",
     "output_type": "stream",
     "text": [
      "Help on method evalf in module sympy.core.evalf:\n",
      "\n",
      "evalf(n=15, subs=None, maxn=100, chop=False, strict=False, quad=None, verbose=False) method of sympy.core.power.Pow instance\n",
      "    Evaluate the given formula to an accuracy of n digits.\n",
      "    Optional keyword arguments:\n",
      "    \n",
      "        subs=<dict>\n",
      "            Substitute numerical values for symbols, e.g.\n",
      "            subs={x:3, y:1+pi}. The substitutions must be given as a\n",
      "            dictionary.\n",
      "    \n",
      "        maxn=<integer>\n",
      "            Allow a maximum temporary working precision of maxn digits\n",
      "            (default=100)\n",
      "    \n",
      "        chop=<bool>\n",
      "            Replace tiny real or imaginary parts in subresults\n",
      "            by exact zeros (default=False)\n",
      "    \n",
      "        strict=<bool>\n",
      "            Raise PrecisionExhausted if any subresult fails to evaluate\n",
      "            to full accuracy, given the available maxprec\n",
      "            (default=False)\n",
      "    \n",
      "        quad=<str>\n",
      "            Choose algorithm for numerical quadrature. By default,\n",
      "            tanh-sinh quadrature is used. For oscillatory\n",
      "            integrals on an infinite interval, try quad='osc'.\n",
      "    \n",
      "        verbose=<bool>\n",
      "            Print debug information (default=False)\n",
      "    \n",
      "    Notes\n",
      "    =====\n",
      "    \n",
      "    When Floats are naively substituted into an expression, precision errors\n",
      "    may adversely affect the result. For example, adding 1e16 (a Float) to 1\n",
      "    will truncate to 1e16; if 1e16 is then subtracted, the result will be 0.\n",
      "    That is exactly what happens in the following:\n",
      "    \n",
      "    >>> from sympy.abc import x, y, z\n",
      "    >>> values = {x: 1e16, y: 1, z: 1e16}\n",
      "    >>> (x + y - z).subs(values)\n",
      "    0\n",
      "    \n",
      "    Using the subs argument for evalf is the accurate way to evaluate such an\n",
      "    expression:\n",
      "    \n",
      "    >>> (x + y - z).evalf(subs=values)\n",
      "    1.00000000000000\n",
      "\n"
     ]
    }
   ],
   "source": [
    "help(f.evalf)"
   ]
  },
  {
   "cell_type": "code",
   "execution_count": 17,
   "metadata": {},
   "outputs": [
    {
     "name": "stdout",
     "output_type": "stream",
     "text": [
      "tan(x)\n"
     ]
    }
   ],
   "source": [
    "\n",
    "f = sym.tan(x)\n",
    "print(f)"
   ]
  },
  {
   "cell_type": "code",
   "execution_count": 15,
   "metadata": {},
   "outputs": [
    {
     "name": "stdout",
     "output_type": "stream",
     "text": [
      "tan(x)**2 + 1\n"
     ]
    }
   ],
   "source": [
    "df = f.diff(x)\n",
    "print(df)"
   ]
  },
  {
   "cell_type": "code",
   "execution_count": 19,
   "metadata": {},
   "outputs": [
    {
     "name": "stdout",
     "output_type": "stream",
     "text": [
      "(2*tan(x)**2 + 2)*tan(x)\n"
     ]
    }
   ],
   "source": [
    "ddf = df.diff(x)\n",
    "print(ddf)"
   ]
  },
  {
   "cell_type": "code",
   "execution_count": 20,
   "metadata": {},
   "outputs": [
    {
     "name": "stdout",
     "output_type": "stream",
     "text": [
      "(2*tan(x)**2 + 2)*tan(x)\n"
     ]
    }
   ],
   "source": [
    "val = sym.symbols(\"df\")\n",
    "print(ddf.subs(df,val))"
   ]
  },
  {
   "cell_type": "code",
   "execution_count": null,
   "metadata": {},
   "outputs": [],
   "source": [
    "dddf = ddf.diff(x)\n",
    "print()"
   ]
  },
  {
   "cell_type": "code",
   "execution_count": 22,
   "metadata": {},
   "outputs": [
    {
     "name": "stdout",
     "output_type": "stream",
     "text": [
      "Help on function diff in module sympy.core.function:\n",
      "\n",
      "diff(f, *symbols, **kwargs)\n",
      "    Differentiate f with respect to symbols.\n",
      "    \n",
      "    This is just a wrapper to unify .diff() and the Derivative class; its\n",
      "    interface is similar to that of integrate().  You can use the same\n",
      "    shortcuts for multiple variables as with Derivative.  For example,\n",
      "    diff(f(x), x, x, x) and diff(f(x), x, 3) both return the third derivative\n",
      "    of f(x).\n",
      "    \n",
      "    You can pass evaluate=False to get an unevaluated Derivative class.  Note\n",
      "    that if there are 0 symbols (such as diff(f(x), x, 0), then the result will\n",
      "    be the function (the zeroth derivative), even if evaluate=False.\n",
      "    \n",
      "    Examples\n",
      "    ========\n",
      "    \n",
      "    >>> from sympy import sin, cos, Function, diff\n",
      "    >>> from sympy.abc import x, y\n",
      "    >>> f = Function('f')\n",
      "    \n",
      "    >>> diff(sin(x), x)\n",
      "    cos(x)\n",
      "    >>> diff(f(x), x, x, x)\n",
      "    Derivative(f(x), (x, 3))\n",
      "    >>> diff(f(x), x, 3)\n",
      "    Derivative(f(x), (x, 3))\n",
      "    >>> diff(sin(x)*cos(y), x, 2, y, 2)\n",
      "    sin(x)*cos(y)\n",
      "    \n",
      "    >>> type(diff(sin(x), x))\n",
      "    cos\n",
      "    >>> type(diff(sin(x), x, evaluate=False))\n",
      "    <class 'sympy.core.function.Derivative'>\n",
      "    >>> type(diff(sin(x), x, 0))\n",
      "    sin\n",
      "    >>> type(diff(sin(x), x, 0, evaluate=False))\n",
      "    sin\n",
      "    \n",
      "    >>> diff(sin(x))\n",
      "    cos(x)\n",
      "    >>> diff(sin(x*y))\n",
      "    Traceback (most recent call last):\n",
      "    ...\n",
      "    ValueError: specify differentiation variables to differentiate sin(x*y)\n",
      "    \n",
      "    Note that ``diff(sin(x))`` syntax is meant only for convenience\n",
      "    in interactive sessions and should be avoided in library code.\n",
      "    \n",
      "    References\n",
      "    ==========\n",
      "    \n",
      "    http://reference.wolfram.com/legacy/v5_2/Built-inFunctions/AlgebraicComputation/Calculus/D.html\n",
      "    \n",
      "    See Also\n",
      "    ========\n",
      "    \n",
      "    Derivative\n",
      "    sympy.geometry.util.idiff: computes the derivative implicitly\n",
      "\n"
     ]
    }
   ],
   "source": [
    "help(sym.diff)"
   ]
  },
  {
   "cell_type": "code",
   "execution_count": null,
   "metadata": {},
   "outputs": [],
   "source": []
  },
  {
   "cell_type": "code",
   "execution_count": 24,
   "metadata": {},
   "outputs": [
    {
     "ename": "TypeError",
     "evalue": "idiff() missing 1 required positional argument: 'x'",
     "output_type": "error",
     "traceback": [
      "\u001b[0;31m---------------------------------------------------------------------------\u001b[0m",
      "\u001b[0;31mTypeError\u001b[0m                                 Traceback (most recent call last)",
      "\u001b[0;32m<ipython-input-24-f746a54fa145>\u001b[0m in \u001b[0;36m<module>\u001b[0;34m\u001b[0m\n\u001b[0;32m----> 1\u001b[0;31m \u001b[0msym\u001b[0m\u001b[0;34m.\u001b[0m\u001b[0mgeometry\u001b[0m\u001b[0;34m.\u001b[0m\u001b[0mutil\u001b[0m\u001b[0;34m.\u001b[0m\u001b[0midiff\u001b[0m\u001b[0;34m(\u001b[0m\u001b[0mf\u001b[0m\u001b[0;34m,\u001b[0m\u001b[0mx\u001b[0m\u001b[0;34m)\u001b[0m\u001b[0;34m\u001b[0m\u001b[0;34m\u001b[0m\u001b[0m\n\u001b[0m",
      "\u001b[0;31mTypeError\u001b[0m: idiff() missing 1 required positional argument: 'x'"
     ]
    }
   ],
   "source": [
    "sym.geometry.util.idiff(f,x)"
   ]
  },
  {
   "cell_type": "code",
   "execution_count": null,
   "metadata": {},
   "outputs": [],
   "source": []
  }
 ],
 "metadata": {
  "kernelspec": {
   "display_name": "pyoti",
   "language": "python",
   "name": "pyoti"
  },
  "language_info": {
   "codemirror_mode": {
    "name": "ipython",
    "version": 3
   },
   "file_extension": ".py",
   "mimetype": "text/x-python",
   "name": "python",
   "nbconvert_exporter": "python",
   "pygments_lexer": "ipython3",
   "version": "3.8.10"
  }
 },
 "nbformat": 4,
 "nbformat_minor": 2
}
