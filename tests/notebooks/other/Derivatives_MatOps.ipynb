{
 "cells": [
  {
   "cell_type": "code",
   "execution_count": 1,
   "metadata": {},
   "outputs": [],
   "source": [
    "import sympy as sym\n",
    "\n",
    "a11,a12,a13,a21,a22,a23,a31,a32,a33=sym.symbols('a11 a12 a13 a21 a22 a23 a31 a32 a33')"
   ]
  },
  {
   "cell_type": "code",
   "execution_count": 2,
   "metadata": {},
   "outputs": [
    {
     "data": {
      "text/plain": [
       "a11"
      ]
     },
     "execution_count": 2,
     "metadata": {},
     "output_type": "execute_result"
    }
   ],
   "source": [
    "a11"
   ]
  },
  {
   "cell_type": "code",
   "execution_count": 3,
   "metadata": {},
   "outputs": [],
   "source": [
    "\n",
    "M2x2 = sym.Matrix([[a11,a12],\n",
    "                   [a21,a22]])\n",
    "M3x3 = sym.Matrix([[a11,a12,a13],\n",
    "                   [a21,a22,a23],\n",
    "                   [a31,a32,a33]])\n"
   ]
  },
  {
   "cell_type": "code",
   "execution_count": 7,
   "metadata": {},
   "outputs": [
    {
     "ename": "AttributeError",
     "evalue": "module 'sympy' has no attribute 'inv'",
     "output_type": "error",
     "traceback": [
      "\u001b[0;31m---------------------------------------------------------------------------\u001b[0m",
      "\u001b[0;31mAttributeError\u001b[0m                            Traceback (most recent call last)",
      "\u001b[0;32m<ipython-input-7-1e0bf34bdeb0>\u001b[0m in \u001b[0;36m<module>\u001b[0;34m\u001b[0m\n\u001b[0;32m----> 1\u001b[0;31m \u001b[0msym\u001b[0m\u001b[0;34m.\u001b[0m\u001b[0minv\u001b[0m\u001b[0;34m(\u001b[0m\u001b[0mM2x2\u001b[0m\u001b[0;34m)\u001b[0m\u001b[0;34m\u001b[0m\u001b[0;34m\u001b[0m\u001b[0m\n\u001b[0m",
      "\u001b[0;31mAttributeError\u001b[0m: module 'sympy' has no attribute 'inv'"
     ]
    }
   ],
   "source": [
    "sym.inv(M2x2)"
   ]
  },
  {
   "cell_type": "code",
   "execution_count": 9,
   "metadata": {},
   "outputs": [
    {
     "data": {
      "text/plain": [
       "Matrix([\n",
       "[(a11*a22*((a11*a22 - a12*a21)*(a11*a33 - a13*a31) - (a11*a23 - a13*a21)*(a11*a32 - a12*a31)) - (-a12*(a11*a23 - a13*a21) + a13*(a11*a22 - a12*a21))*(a21*(a11*a32 - a12*a31) - a31*(a11*a22 - a12*a21)))/(a11*(a11*a22 - a12*a21)*((a11*a22 - a12*a21)*(a11*a33 - a13*a31) - (a11*a23 - a13*a21)*(a11*a32 - a12*a31))), (-a11*a12*((a11*a22 - a12*a21)*(a11*a33 - a13*a31) - (a11*a23 - a13*a21)*(a11*a32 - a12*a31)) + a11*(a11*a32 - a12*a31)*(-a12*(a11*a23 - a13*a21) + a13*(a11*a22 - a12*a21)))/(a11*(a11*a22 - a12*a21)*((a11*a22 - a12*a21)*(a11*a33 - a13*a31) - (a11*a23 - a13*a21)*(a11*a32 - a12*a31))), -(-a12*(a11*a23 - a13*a21) + a13*(a11*a22 - a12*a21))/((a11*a22 - a12*a21)*(a11*a33 - a13*a31) - (a11*a23 - a13*a21)*(a11*a32 - a12*a31))],\n",
       "[                                        (-a21*((a11*a22 - a12*a21)*(a11*a33 - a13*a31) - (a11*a23 - a13*a21)*(a11*a32 - a12*a31)) - (a11*a23 - a13*a21)*(a21*(a11*a32 - a12*a31) - a31*(a11*a22 - a12*a21)))/((a11*a22 - a12*a21)*((a11*a22 - a12*a21)*(a11*a33 - a13*a31) - (a11*a23 - a13*a21)*(a11*a32 - a12*a31))),                                           (a11*(a11*a23 - a13*a21)*(a11*a32 - a12*a31) + a11*((a11*a22 - a12*a21)*(a11*a33 - a13*a31) - (a11*a23 - a13*a21)*(a11*a32 - a12*a31)))/((a11*a22 - a12*a21)*((a11*a22 - a12*a21)*(a11*a33 - a13*a31) - (a11*a23 - a13*a21)*(a11*a32 - a12*a31))),                              -a11*(a11*a23 - a13*a21)/((a11*a22 - a12*a21)*(a11*a33 - a13*a31) - (a11*a23 - a13*a21)*(a11*a32 - a12*a31))],\n",
       "[                                                                                                                                                                               (a21*(a11*a32 - a12*a31) - a31*(a11*a22 - a12*a21))/((a11*a22 - a12*a21)*(a11*a33 - a13*a31) - (a11*a23 - a13*a21)*(a11*a32 - a12*a31)),                                                                                                                                                                                -a11*(a11*a32 - a12*a31)/((a11*a22 - a12*a21)*(a11*a33 - a13*a31) - (a11*a23 - a13*a21)*(a11*a32 - a12*a31)),                               a11*(a11*a22 - a12*a21)/((a11*a22 - a12*a21)*(a11*a33 - a13*a31) - (a11*a23 - a13*a21)*(a11*a32 - a12*a31))]])"
      ]
     },
     "execution_count": 9,
     "metadata": {},
     "output_type": "execute_result"
    }
   ],
   "source": []
  },
  {
   "cell_type": "code",
   "execution_count": null,
   "metadata": {},
   "outputs": [],
   "source": []
  }
 ],
 "metadata": {
  "kernelspec": {
   "display_name": "Python 3",
   "language": "python",
   "name": "python3"
  },
  "language_info": {
   "codemirror_mode": {
    "name": "ipython",
    "version": 3
   },
   "file_extension": ".py",
   "mimetype": "text/x-python",
   "name": "python",
   "nbconvert_exporter": "python",
   "pygments_lexer": "ipython3",
   "version": "3.7.1"
  }
 },
 "nbformat": 4,
 "nbformat_minor": 2
}
