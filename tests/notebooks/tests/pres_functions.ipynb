{
 "cells": [
  {
   "cell_type": "code",
   "execution_count": null,
   "metadata": {
    "collapsed": true
   },
   "outputs": [],
   "source": [
    "# IMPORT OTI LIBRARY\n",
    "import spr_otilib as dn\n",
    "dnfloat =  dn.np.float64\n",
    "e = dn.e\n",
    "dn.np.set_printoptions(precision=4)\n",
    "np = dn.np\n",
    "\n",
    "\n",
    "# IMPORT SYMBOLIC TOOL FOR COMPARISON PORPUSES\n",
    "import sympy as sym\n",
    "sym.init_printing()\n",
    "\n",
    "# IMPORT AUXILIARY TOOLS\n",
    "import auxFunctions as auxfun\n"
   ]
  },
  {
   "cell_type": "code",
   "execution_count": null,
   "metadata": {},
   "outputs": [],
   "source": [
    "x1n=dnfloat(1.5)\n",
    "x2n=dnfloat(2)\n",
    "x3n=dnfloat(3)\n",
    "x4n=dnfloat(0.4)\n",
    "x5n=dnfloat(0.5)\n",
    "x6n=dnfloat(0.6)\n",
    "x7n=dnfloat(0.7)\n",
    "x8n=dnfloat(0.8)\n",
    "x9n=dnfloat(0.9)\n",
    "x10n = dnfloat(0.01)\n",
    "\n",
    "var_n = [x1n,x2n,x3n,x4n,x5n,x6n,x7n,x8n,x9n,x10n]\n",
    "\n",
    "# Define dual directions for each number.\n",
    "x1_dir = 1 \n",
    "x2_dir = 2\n",
    "x3_dir = 3\n",
    "x4_dir = 4 \n",
    "x5_dir = 5 \n",
    "x6_dir = 6 \n",
    "x7_dir = 7 \n",
    "x8_dir = 8 \n",
    "x9_dir = 9 \n",
    "x10_dir = 10 \n",
    "\n",
    "\n",
    "# Dual numbers\n",
    "x1d = x1n + e(x1_dir)\n",
    "x2d = x2n + e(x2_dir)\n",
    "x3d = x3n + e(x3_dir)\n",
    "x4d = x4n + e(x4_dir)\n",
    "x5d = x5n + e(x5_dir)\n",
    "x6d = x6n + e(x6_dir)\n",
    "x7d = x7n + e(x7_dir)\n",
    "x8d = x8n + e(x8_dir)\n",
    "x9d = x9n + e(x9_dir)\n",
    "x10d = x10n + e(x10_dir)\n",
    "\n",
    "print(x1d)\n",
    "print(x2d)\n",
    "print(x3d)\n",
    "print(x4d)\n",
    "print(x5d)\n",
    "print(x6d)\n",
    "print(x7d)\n",
    "print(x8d)\n",
    "print(x9d)\n",
    "print(x10d)\n",
    "\n",
    "\n",
    "newOrder = 3\n",
    "\n",
    "x1d.changeOrder(newOrder)\n",
    "x2d.changeOrder(newOrder)\n",
    "x3d.changeOrder(newOrder)\n",
    "x4d.changeOrder(newOrder)\n",
    "x5d.changeOrder(newOrder)\n",
    "x6d.changeOrder(newOrder)\n",
    "x7d.changeOrder(newOrder)\n",
    "x8d.changeOrder(newOrder)\n",
    "x9d.changeOrder(newOrder)\n",
    "x10d.changeOrder(newOrder)"
   ]
  },
  {
   "cell_type": "code",
   "execution_count": null,
   "metadata": {
    "collapsed": true
   },
   "outputs": [],
   "source": [
    "# CREATE SYMBOLIC VARIABLES \n",
    "x1s, x2s, x3s, x4s, x5s, x6s, x7s, x8s, x9s, x10s = sym.symbols('x1 x2 x3 x4 x5 x6 x7 x8 x9 x10')\n",
    "\n",
    "var_s = [x1s, x2s, x3s, x4s, x5s, x6s, x7s, x8s, x9s, x10s]"
   ]
  },
  {
   "cell_type": "code",
   "execution_count": null,
   "metadata": {
    "collapsed": true
   },
   "outputs": [],
   "source": [
    "# DEFINE THE FUNCTION FOR OTI NUMBERS\n",
    "# Create a function to be evaluated with dual numbers.\n",
    "\n",
    "def f1o(x1d,x2d,x3d):\n",
    "    \n",
    "    return dn.sin(dn.log(x1d**2*dn.exp(x2d*x3d**3))*dn.cos(x1d**3*x2d**2*x3d**4)) \n"
   ]
  },
  {
   "cell_type": "code",
   "execution_count": null,
   "metadata": {},
   "outputs": [],
   "source": [
    "\n",
    "f1s  = sym.sin(sym.log(x1s**2*sym.exp(x2s*x3s**3))*sym.cos(x1s**3*x2s**2*x3s**4))\n",
    "\n",
    "f1s"
   ]
  },
  {
   "cell_type": "code",
   "execution_count": null,
   "metadata": {},
   "outputs": [],
   "source": [
    "# THIRD ORDER DERIVATIVE\n",
    "\n",
    "f1s.diff(x1s,1).diff(x2s,1).diff(x3s,1)"
   ]
  },
  {
   "cell_type": "code",
   "execution_count": null,
   "metadata": {},
   "outputs": [],
   "source": [
    "auxfun.compareResults(f1o(x1d,x2d,x3d),f1s,var_n,var_s,dnfloat, val=True,rel=True,absolute = True,m=3,n=newOrder)"
   ]
  },
  {
   "cell_type": "code",
   "execution_count": null,
   "metadata": {
    "collapsed": true
   },
   "outputs": [],
   "source": []
  },
  {
   "cell_type": "code",
   "execution_count": null,
   "metadata": {
    "collapsed": true
   },
   "outputs": [],
   "source": []
  }
 ],
 "metadata": {
  "kernelspec": {
   "display_name": "Python 3 (ipykernel)",
   "language": "python",
   "name": "python3"
  },
  "language_info": {
   "codemirror_mode": {
    "name": "ipython",
    "version": 3
   },
   "file_extension": ".py",
   "mimetype": "text/x-python",
   "name": "python",
   "nbconvert_exporter": "python",
   "pygments_lexer": "ipython3",
   "version": "3.9.7"
  }
 },
 "nbformat": 4,
 "nbformat_minor": 2
}
