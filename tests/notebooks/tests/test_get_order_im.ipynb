{
 "cells": [
  {
   "cell_type": "code",
   "execution_count": 2,
   "metadata": {},
   "outputs": [],
   "source": [
    "import sys\n",
    "path2oti = '../../../build/'\n",
    "sys.path.append(path2oti) # Add path to OTI library.\n",
    "\n",
    "import pyoti.sparse as oti \n",
    "import pyoti.static.onumm10n2 as onm10n2 "
   ]
  },
  {
   "cell_type": "code",
   "execution_count": 4,
   "metadata": {},
   "outputs": [],
   "source": [
    "x = onm10n2.e([[1,2]]) + 3.5"
   ]
  },
  {
   "cell_type": "code",
   "execution_count": 7,
   "metadata": {},
   "outputs": [
    {
     "name": "stdout",
     "output_type": "stream",
     "text": [
      "384 ns ± 9.95 ns per loop (mean ± std. dev. of 7 runs, 1000000 loops each)\n"
     ]
    }
   ],
   "source": [
    "%timeit x**2"
   ]
  },
  {
   "cell_type": "code",
   "execution_count": 3,
   "metadata": {},
   "outputs": [
    {
     "data": {
      "text/plain": [
       "0.0000 + 1.0000 * e([1]) + 0.0000 * e([2]) + 0.0000 * e([3]) + 0.0000 * e([4]) + 0.0000 * e([5]) + 0.0000 * e([6]) + 0.0000 * e([7]) + 0.0000 * e([8]) + 0.0000 * e([9]) + 0.0000 * e([10]) + 0.0000 * e([[1,2]]) + 0.0000 * e([1,2]) + 0.0000 * e([[2,2]]) + 0.0000 * e([1,3]) + 0.0000 * e([2,3]) + 0.0000 * e([[3,2]]) + 0.0000 * e([1,4]) + 0.0000 * e([2,4]) + 0.0000 * e([3,4]) + 0.0000 * e([[4,2]]) + 0.0000 * e([1,5]) + 0.0000 * e([2,5]) + 0.0000 * e([3,5]) + 0.0000 * e([4,5]) + 0.0000 * e([[5,2]]) + 0.0000 * e([1,6]) + 0.0000 * e([2,6]) + 0.0000 * e([3,6]) + 0.0000 * e([4,6]) + 0.0000 * e([5,6]) + 0.0000 * e([[6,2]]) + 0.0000 * e([1,7]) + 0.0000 * e([2,7]) + 0.0000 * e([3,7]) + 0.0000 * e([4,7]) + 0.0000 * e([5,7]) + 0.0000 * e([6,7]) + 0.0000 * e([[7,2]]) + 0.0000 * e([1,8]) + 0.0000 * e([2,8]) + 0.0000 * e([3,8]) + 0.0000 * e([4,8]) + 0.0000 * e([5,8]) + 0.0000 * e([6,8]) + 0.0000 * e([7,8]) + 0.0000 * e([[8,2]]) + 0.0000 * e([1,9]) + 0.0000 * e([2,9]) + 0.0000 * e([3,9]) + 0.0000 * e([4,9]) + 0.0000 * e([5,9]) + 0.0000 * e([6,9]) + 0.0000 * e([7,9]) + 0.0000 * e([8,9]) + 0.0000 * e([[9,2]]) + 0.0000 * e([1,10]) + 0.0000 * e([2,10]) + 0.0000 * e([3,10]) + 0.0000 * e([4,10]) + 0.0000 * e([5,10]) + 0.0000 * e([6,10]) + 0.0000 * e([7,10]) + 0.0000 * e([8,10]) + 0.0000 * e([9,10]) + 0.0000 * e([[10,2]])"
      ]
     },
     "execution_count": 3,
     "metadata": {},
     "output_type": "execute_result"
    }
   ],
   "source": [
    "%timeit x = onm10n2.e(1)"
   ]
  },
  {
   "cell_type": "code",
   "execution_count": 23,
   "metadata": {},
   "outputs": [
    {
     "name": "stdout",
     "output_type": "stream",
     "text": [
      "omatm10n2< shape: (2, 1), \n",
      " - Column 0\n",
      "(0,0) 1.0000 - 0.5000 * e([1]) + 0.5000 * e([2]) + 0.0000 * e([3]) + 0.0000 * e([4]) + 0.0000 * e([5]) + 0.0000 * e([6]) + 0.0000 * e([7]) + 0.0000 * e([8]) + 0.0000 * e([9]) + 0.0000 * e([10]) + 0.2500 * e([[1,2]]) - 0.2500 * e([1,2]) + 0.0000 * e([[2,2]]) + 0.0000 * e([1,3]) + 0.0000 * e([2,3]) + 0.0000 * e([[3,2]]) + 0.0000 * e([1,4]) + 0.0000 * e([2,4]) + 0.0000 * e([3,4]) + 0.0000 * e([[4,2]]) + 0.0000 * e([1,5]) + 0.0000 * e([2,5]) + 0.0000 * e([3,5]) + 0.0000 * e([4,5]) + 0.0000 * e([[5,2]]) + 0.0000 * e([1,6]) + 0.0000 * e([2,6]) + 0.0000 * e([3,6]) + 0.0000 * e([4,6]) + 0.0000 * e([5,6]) + 0.0000 * e([[6,2]]) + 0.0000 * e([1,7]) + 0.0000 * e([2,7]) + 0.0000 * e([3,7]) + 0.0000 * e([4,7]) + 0.0000 * e([5,7]) + 0.0000 * e([6,7]) + 0.0000 * e([[7,2]]) + 0.0000 * e([1,8]) + 0.0000 * e([2,8]) + 0.0000 * e([3,8]) + 0.0000 * e([4,8]) + 0.0000 * e([5,8]) + 0.0000 * e([6,8]) + 0.0000 * e([7,8]) + 0.0000 * e([[8,2]]) + 0.0000 * e([1,9]) + 0.0000 * e([2,9]) + 0.0000 * e([3,9]) + 0.0000 * e([4,9]) + 0.0000 * e([5,9]) + 0.0000 * e([6,9]) + 0.0000 * e([7,9]) + 0.0000 * e([8,9]) + 0.0000 * e([[9,2]]) + 0.0000 * e([1,10]) + 0.0000 * e([2,10]) + 0.0000 * e([3,10]) + 0.0000 * e([4,10]) + 0.0000 * e([5,10]) + 0.0000 * e([6,10]) + 0.0000 * e([7,10]) + 0.0000 * e([8,10]) + 0.0000 * e([9,10]) + 0.0000 * e([[10,2]])\n",
      "(1,0) 1.0000 - 0.5000 * e([1]) + 0.5000 * e([2]) + 0.0000 * e([3]) + 0.0000 * e([4]) + 0.0000 * e([5]) + 0.0000 * e([6]) + 0.0000 * e([7]) + 0.0000 * e([8]) + 0.0000 * e([9]) + 0.0000 * e([10]) + 0.2500 * e([[1,2]]) - 0.2500 * e([1,2]) + 0.0000 * e([[2,2]]) + 0.0000 * e([1,3]) + 0.0000 * e([2,3]) + 0.0000 * e([[3,2]]) + 0.0000 * e([1,4]) + 0.0000 * e([2,4]) + 0.0000 * e([3,4]) + 0.0000 * e([[4,2]]) + 0.0000 * e([1,5]) + 0.0000 * e([2,5]) + 0.0000 * e([3,5]) + 0.0000 * e([4,5]) + 0.0000 * e([[5,2]]) + 0.0000 * e([1,6]) + 0.0000 * e([2,6]) + 0.0000 * e([3,6]) + 0.0000 * e([4,6]) + 0.0000 * e([5,6]) + 0.0000 * e([[6,2]]) + 0.0000 * e([1,7]) + 0.0000 * e([2,7]) + 0.0000 * e([3,7]) + 0.0000 * e([4,7]) + 0.0000 * e([5,7]) + 0.0000 * e([6,7]) + 0.0000 * e([[7,2]]) + 0.0000 * e([1,8]) + 0.0000 * e([2,8]) + 0.0000 * e([3,8]) + 0.0000 * e([4,8]) + 0.0000 * e([5,8]) + 0.0000 * e([6,8]) + 0.0000 * e([7,8]) + 0.0000 * e([[8,2]]) + 0.0000 * e([1,9]) + 0.0000 * e([2,9]) + 0.0000 * e([3,9]) + 0.0000 * e([4,9]) + 0.0000 * e([5,9]) + 0.0000 * e([6,9]) + 0.0000 * e([7,9]) + 0.0000 * e([8,9]) + 0.0000 * e([[9,2]]) + 0.0000 * e([1,10]) + 0.0000 * e([2,10]) + 0.0000 * e([3,10]) + 0.0000 * e([4,10]) + 0.0000 * e([5,10]) + 0.0000 * e([6,10]) + 0.0000 * e([7,10]) + 0.0000 * e([8,10]) + 0.0000 * e([9,10]) + 0.0000 * e([[10,2]])\n",
      ">\n",
      "[[-0.5]\n",
      " [-0.5]]\n"
     ]
    }
   ],
   "source": [
    "K = onm10n2.lil_matrix((2,2))\n",
    "K[0,0] = 2+onm10n2.e(1)\n",
    "K[1,1] = 2+onm10n2.e(1)\n",
    "# print(K.real)\n",
    "\n",
    "f = 2*onm10n2.ones((2,1))+onm10n2.e(2)\n",
    "K = K.tocsr()\n",
    "x = onm10n2.solve(K,f)\n",
    "print(x)\n",
    "print(x.get_deriv(1))"
   ]
  },
  {
   "cell_type": "code",
   "execution_count": null,
   "metadata": {},
   "outputs": [],
   "source": []
  },
  {
   "cell_type": "code",
   "execution_count": null,
   "metadata": {},
   "outputs": [],
   "source": []
  },
  {
   "cell_type": "code",
   "execution_count": 18,
   "metadata": {},
   "outputs": [
    {
     "name": "stdout",
     "output_type": "stream",
     "text": [
      "(  0,  0) 2 + 1 * e([1])\n",
      "(  1,  1) 2 + 1 * e([1])\n",
      "\n"
     ]
    }
   ],
   "source": [
    "K = oti.lil_matrix((2,2))\n",
    "K[0,0] = 2+oti.e(1)\n",
    "K[1,1] = 2+oti.e(1)\n",
    "print(K)"
   ]
  },
  {
   "cell_type": "code",
   "execution_count": 19,
   "metadata": {},
   "outputs": [
    {
     "data": {
      "text/plain": [
       "pyoti.sparse.sotinum"
      ]
     },
     "execution_count": 19,
     "metadata": {},
     "output_type": "execute_result"
    }
   ],
   "source": [
    "type(K[0,0])"
   ]
  },
  {
   "cell_type": "code",
   "execution_count": 20,
   "metadata": {},
   "outputs": [
    {
     "name": "stdout",
     "output_type": "stream",
     "text": [
      "matso< shape: (2, 1), \n",
      " - Column 0\n",
      "(0,0) 2 + 1 * e([2])\n",
      "(1,0) 2 + 1 * e([2])\n",
      ">\n"
     ]
    },
    {
     "data": {
      "text/plain": [
       "matso< shape: (2, 1), \n",
       " - Column 0\n",
       "(0,0) 1 - 0.5 * e([1]) + 0.5 * e([2])\n",
       "(1,0) 1 - 0.5 * e([1]) + 0.5 * e([2])\n",
       ">"
      ]
     },
     "execution_count": 20,
     "metadata": {},
     "output_type": "execute_result"
    }
   ],
   "source": [
    "K = K.tocsr()\n",
    "f = 2*oti.ones((2,1))+oti.e(2)\n",
    "\n",
    "print(f)\n",
    "\n",
    "oti.solve(K,f)"
   ]
  },
  {
   "cell_type": "code",
   "execution_count": 13,
   "metadata": {},
   "outputs": [
    {
     "data": {
      "text/plain": [
       "matso< shape: (2, 1), \n",
       " - Column 0\n",
       "(0,0) 1 + 0.5 * e([1])\n",
       "(1,0) 1 + 0.5 * e([1])\n",
       ">"
      ]
     },
     "execution_count": 13,
     "metadata": {},
     "output_type": "execute_result"
    }
   ],
   "source": [
    "K2 = 2*oti.eye(2)\n",
    "f2 = 2*oti.ones((2,1))+oti.e(1)\n",
    "\n",
    "K2inv = oti.inv(K2)\n",
    "oti.dot(K2inv,f2)"
   ]
  },
  {
   "cell_type": "code",
   "execution_count": null,
   "metadata": {},
   "outputs": [],
   "source": []
  },
  {
   "cell_type": "code",
   "execution_count": null,
   "metadata": {},
   "outputs": [],
   "source": []
  },
  {
   "cell_type": "code",
   "execution_count": null,
   "metadata": {},
   "outputs": [],
   "source": []
  },
  {
   "cell_type": "code",
   "execution_count": null,
   "metadata": {},
   "outputs": [],
   "source": []
  },
  {
   "cell_type": "code",
   "execution_count": 3,
   "metadata": {},
   "outputs": [
    {
     "name": "stdout",
     "output_type": "stream",
     "text": [
      "1.54 + 1 * e([1]) + 1 * e([2])\n",
      "75.0252 + 487.177 * e([1]) + 487.177 * e([2]) + 1423.57 * e([[1,2]]) + 2847.14 * e([1,2]) + 1423.57 * e([[2,2]]) + 2465.05 * e([[1,3]]) + 7395.16 * e([[1,2],2]) + 7395.16 * e([1,[2,2]]) + 2465.05 * e([[2,3]]) + 2801.2 * e([[1,4]]) + 11204.8 * e([[1,3],2]) + 16807.2 * e([[1,2],[2,2]]) + 11204.8 * e([1,[2,3]]) + 2801.2 * e([[2,4]]) + 2182.75 * e([[1,5]]) + 10913.8 * e([[1,4],2]) + 21827.5 * e([[1,3],[2,2]]) + 21827.5 * e([[1,2],[2,3]]) + 10913.8 * e([1,[2,4]]) + 2182.75 * e([[2,5]])\n"
     ]
    }
   ],
   "source": [
    "x = 1.54+oti.e(1,order = 5)+oti.e(2,order=5)\n",
    "y = x**10\n",
    "print(x)\n",
    "print(y)"
   ]
  },
  {
   "cell_type": "code",
   "execution_count": 7,
   "metadata": {},
   "outputs": [
    {
     "data": {
      "text/plain": [
       "0.0000 + 1423.5682 * e([[1,2]]) + 2847.1364 * e([1,2]) + 1423.5682 * e([[2,2]])"
      ]
     },
     "execution_count": 7,
     "metadata": {},
     "output_type": "execute_result"
    }
   ],
   "source": [
    "y.get_order_im(2)"
   ]
  },
  {
   "cell_type": "code",
   "execution_count": null,
   "metadata": {},
   "outputs": [],
   "source": []
  }
 ],
 "metadata": {
  "kernelspec": {
   "display_name": "Python 3",
   "language": "python",
   "name": "python3"
  },
  "language_info": {
   "codemirror_mode": {
    "name": "ipython",
    "version": 3
   },
   "file_extension": ".py",
   "mimetype": "text/x-python",
   "name": "python",
   "nbconvert_exporter": "python",
   "pygments_lexer": "ipython3",
   "version": "3.8.8"
  }
 },
 "nbformat": 4,
 "nbformat_minor": 4
}
