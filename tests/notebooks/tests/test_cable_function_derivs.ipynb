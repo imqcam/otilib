{
 "cells": [
  {
   "cell_type": "code",
   "execution_count": 1,
   "metadata": {},
   "outputs": [],
   "source": [
    "import sys\n",
    "path2oti = '../../../build/'\n",
    "sys.path.append(path2oti) # Add path to OTI library.\n",
    "\n",
    "import pyoti.sparse as oti \n",
    "\n",
    "import sympy as sym"
   ]
  },
  {
   "cell_type": "code",
   "execution_count": 14,
   "metadata": {},
   "outputs": [],
   "source": [
    "xs = sym.symbols('x')\n",
    "\n",
    "fs = sym.sqrt(xs)"
   ]
  },
  {
   "cell_type": "code",
   "execution_count": 15,
   "metadata": {},
   "outputs": [
    {
     "data": {
      "text/latex": [
       "$\\displaystyle \\sqrt{x}$"
      ],
      "text/plain": [
       "sqrt(x)"
      ]
     },
     "execution_count": 15,
     "metadata": {},
     "output_type": "execute_result"
    }
   ],
   "source": [
    "fs"
   ]
  },
  {
   "cell_type": "code",
   "execution_count": 17,
   "metadata": {},
   "outputs": [
    {
     "data": {
      "text/latex": [
       "$\\displaystyle - \\frac{34459425}{1024 x^{\\frac{19}{2}}}$"
      ],
      "text/plain": [
       "-34459425/(1024*x**(19/2))"
      ]
     },
     "execution_count": 17,
     "metadata": {},
     "output_type": "execute_result"
    }
   ],
   "source": [
    "fs.diff(xs,10)"
   ]
  },
  {
   "cell_type": "code",
   "execution_count": 18,
   "metadata": {},
   "outputs": [],
   "source": [
    "\n",
    "x_oti = 1+oti.e(1, order = 10)\n",
    "f_oti = oti.sqrt(x_oti)"
   ]
  },
  {
   "cell_type": "code",
   "execution_count": 19,
   "metadata": {},
   "outputs": [],
   "source": [
    "dfdx_oti = f_oti.get_deriv([[1,10]])"
   ]
  },
  {
   "cell_type": "code",
   "execution_count": 20,
   "metadata": {},
   "outputs": [
    {
     "name": "stdout",
     "output_type": "stream",
     "text": [
      "error:  0.0\n"
     ]
    }
   ],
   "source": [
    "dfdx_sym = float(fs.diff(xs,10).replace(xs,x_oti.real).evalf().doit())\n",
    "print(\"error: \",abs((dfdx_oti-dfdx_sym)/dfdx_sym))"
   ]
  },
  {
   "cell_type": "code",
   "execution_count": 52,
   "metadata": {},
   "outputs": [],
   "source": [
    "def func(x,gamma,delta,beta,Psi,Sigmas):\n",
    "    f = [0,0]\n",
    "    sum_gi = 0\n",
    "    sum_fi = 0\n",
    "    \n",
    "    sumPsi = 0\n",
    "    \n",
    "    for i in range(len(Psi)):\n",
    "        sumPsi = sumPsi + Psi[i]\n",
    "    #end for \n",
    "    \n",
    "    for i in range(len(Sigmas)):\n",
    "        sum_gi = sum_gi + sym.asinh((x[1]-Psi[i+1]-Sigmas[i])/x[0]) - sym.asinh((x[1]-Psi[i]-Sigmas[i])/x[0])\n",
    "        sum_fi = sum_fi + beta*Psi[i+1]*(Sigmas[i]-1) + sym.sqrt((x[1]-Psi[i+1]-Sigmas[i])**2 + x[0]**2) - sym.sqrt((x[1]-Psi[i]-Sigmas[i])**2 + x[0]**2)\n",
    "    # end for \n",
    "    \n",
    "    f[0] = beta - gamma/x[0] + sym.asinh(x[1]/x[0]) - sym.asinh((x[1]-sumPsi-1)/x[0]) + sum_gi\n",
    "    f[1] = beta*(x[1]-0.5) - delta + sym.sqrt(x[1]**2+x[0]**2) - sym.sqrt((x[1]-sumPsi-1)**2 + x[0]**2) + sum_fi\n",
    "    return f\n",
    "\n",
    "\n",
    "\n",
    "\n",
    "def func_oti(x,gamma,delta,beta,Psi,Sigmas):\n",
    "    f = [0,0]\n",
    "    sum_gi = 0\n",
    "    sum_fi = 0\n",
    "    \n",
    "    sumPsi = 0\n",
    "    \n",
    "    for i in range(len(Psi)):\n",
    "        sumPsi = sumPsi + Psi[i]\n",
    "    #end for \n",
    "    \n",
    "    for i in range(len(Sigmas)):\n",
    "        sum_gi = sum_gi + oti.asinh((x[1]-Psi[i+1]-Sigmas[i])/x[0]) - oti.asinh((x[1]-Psi[i]-Sigmas[i])/x[0])\n",
    "        sum_fi = sum_fi + beta*Psi[i+1]*(Sigmas[i]-1) + oti.sqrt((x[1]-Psi[i+1]-Sigmas[i])**2 + x[0]**2) - oti.sqrt((x[1]-Psi[i]-Sigmas[i])**2 + x[0]**2)\n",
    "    # end for \n",
    "    \n",
    "    f[0] = beta - gamma/x[0] + oti.asinh(x[1]/x[0]) - oti.asinh((x[1]-sumPsi-1)/x[0]) + sum_gi\n",
    "    f[1] = beta*(x[1]-0.5) - delta + oti.sqrt(x[1]**2+x[0]**2) - oti.sqrt((x[1]-sumPsi-1)**2 + x[0]**2) + sum_fi\n",
    "    return f"
   ]
  },
  {
   "cell_type": "code",
   "execution_count": 48,
   "metadata": {},
   "outputs": [],
   "source": [
    "x0s, x1s, gammas, deltas, betas, psis, sigmas = sym.symbols('x0 x1 gamma delta beta psi sigma')\n",
    "x     = [0.3,0.4]\n",
    "gamma = 0.8333\n",
    "delta = 0.0\n",
    "beta  = 0.0003\n",
    "Psi   = [0,0,0.196]\n",
    "Sigmas= [0,0.275]\n",
    "\n",
    "x     = [x0s,x1s]\n",
    "gamma = gammas\n",
    "delta = deltas\n",
    "beta  = betas\n",
    "Psi   = [0,0,psis]\n",
    "Sigmas= [0,sigmas]\n",
    "\n",
    "fs = func(x,gamma,delta,beta,Psi,Sigmas)"
   ]
  },
  {
   "cell_type": "code",
   "execution_count": 83,
   "metadata": {},
   "outputs": [
    {
     "name": "stdout",
     "output_type": "stream",
     "text": [
      "5559172872.07397\n",
      "-329762805.830591\n"
     ]
    }
   ],
   "source": [
    "x     = [0.3,0.4]\n",
    "gamma = 0.8333\n",
    "delta = 0.0\n",
    "beta  = 0.0003\n",
    "Psi   = [0,0,0.196]\n",
    "Sigmas= [0,0.275]\n",
    "\n",
    "for f in fs:\n",
    "    val = f.diff(sigmas,10).replace(x0s,x[0]).replace(x1s,x[1]).replace(gammas,gamma).replace(betas,beta).replace(deltas,delta).replace(psis,Psi[-1]).replace(sigmas,Sigmas[-1]).doit().evalf()\n",
    "    print(val)"
   ]
  },
  {
   "cell_type": "code",
   "execution_count": 50,
   "metadata": {},
   "outputs": [
    {
     "data": {
      "text/latex": [
       "$\\displaystyle x_{0}$"
      ],
      "text/plain": [
       "x0"
      ]
     },
     "execution_count": 50,
     "metadata": {},
     "output_type": "execute_result"
    }
   ],
   "source": [
    "x[0]"
   ]
  },
  {
   "cell_type": "code",
   "execution_count": 81,
   "metadata": {},
   "outputs": [],
   "source": [
    "x     = [0.3,0.4]\n",
    "gamma = 0.8333 #+oti.e(1,order=10)\n",
    "delta = 0.0    #+oti.e(2,order=10)\n",
    "beta  = 0.0003 #+oti.e(3, order=10)\n",
    "Psi   = [0,0,0.196]#+oti.e(4, order=10)]\n",
    "Sigmas= [0,0.275+oti.e(5, order=10)]\n",
    "\n",
    "f_oti = func_oti(x,gamma,delta,beta,Psi,Sigmas)"
   ]
  },
  {
   "cell_type": "code",
   "execution_count": 82,
   "metadata": {},
   "outputs": [
    {
     "name": "stdout",
     "output_type": "stream",
     "text": [
      "5559172872.073995\n",
      "-329762805.83059186\n"
     ]
    }
   ],
   "source": [
    "for f in f_oti:\n",
    "    print(f.get_deriv([[5,10]]))"
   ]
  },
  {
   "cell_type": "code",
   "execution_count": null,
   "metadata": {},
   "outputs": [],
   "source": []
  }
 ],
 "metadata": {
  "kernelspec": {
   "display_name": "Python 3",
   "language": "python",
   "name": "python3"
  },
  "language_info": {
   "codemirror_mode": {
    "name": "ipython",
    "version": 3
   },
   "file_extension": ".py",
   "mimetype": "text/x-python",
   "name": "python",
   "nbconvert_exporter": "python",
   "pygments_lexer": "ipython3",
   "version": "3.7.3"
  }
 },
 "nbformat": 4,
 "nbformat_minor": 2
}
