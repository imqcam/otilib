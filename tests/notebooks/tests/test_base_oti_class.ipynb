{
 "cells": [
  {
   "cell_type": "code",
   "execution_count": 2,
   "metadata": {},
   "outputs": [],
   "source": [
    "# 1. SET GLOBAL PATH \n",
    "import sys\n",
    "path2oti = '../../../build'\n",
    "sys.path.append(path2oti) # Add path to OTI library.\n",
    "\n",
    "import pyoti.dense as oti\n",
    "np = oti.np\n",
    "eps = oti.e"
   ]
  },
  {
   "cell_type": "code",
   "execution_count": 7,
   "metadata": {},
   "outputs": [],
   "source": [
    "# Change print options.\n",
    "\n",
    "oti.print_options['im_obj_separator'] = \" \"\n",
    "oti.print_options['term_separator']   = \"*\""
   ]
  },
  {
   "cell_type": "code",
   "execution_count": 10,
   "metadata": {},
   "outputs": [],
   "source": [
    "\n",
    "num = oti.otibase(3,nbases=2,dtype = float,zero = 10)"
   ]
  },
  {
   "cell_type": "code",
   "execution_count": 11,
   "metadata": {},
   "outputs": [
    {
     "data": {
      "text/plain": [
       "10 +e([1])*10 +e([2])*10 +e([[1,2]])*10 +e([1,2])*10 +e([[2,2]])*10 +e([[1,3]])*10 +e([[1,2],2])*10 +e([1,[2,2]])*10 +e([[2,3]])*10"
      ]
     },
     "execution_count": 11,
     "metadata": {},
     "output_type": "execute_result"
    }
   ],
   "source": [
    "num"
   ]
  },
  {
   "cell_type": "code",
   "execution_count": 12,
   "metadata": {},
   "outputs": [
    {
     "data": {
      "text/plain": [
       "-10 +e([1])*-10 +e([2])*-10 +e([[1,2]])*-10 +e([1,2])*-10 +e([[2,2]])*-10 +e([[1,3]])*-10 +e([[1,2],2])*-10 +e([1,[2,2]])*-10 +e([[2,3]])*-10"
      ]
     },
     "execution_count": 12,
     "metadata": {},
     "output_type": "execute_result"
    }
   ],
   "source": [
    "-num"
   ]
  },
  {
   "cell_type": "code",
   "execution_count": 13,
   "metadata": {},
   "outputs": [
    {
     "data": {
      "text/plain": [
       "True"
      ]
     },
     "execution_count": 13,
     "metadata": {},
     "output_type": "execute_result"
    }
   ],
   "source": [
    "isinstance(num,oti.otibase)"
   ]
  },
  {
   "cell_type": "code",
   "execution_count": 14,
   "metadata": {},
   "outputs": [
    {
     "data": {
      "text/plain": [
       "float"
      ]
     },
     "execution_count": 14,
     "metadata": {},
     "output_type": "execute_result"
    }
   ],
   "source": [
    "num.dtype"
   ]
  },
  {
   "cell_type": "code",
   "execution_count": 15,
   "metadata": {},
   "outputs": [
    {
     "data": {
      "text/plain": [
       "dtype('O')"
      ]
     },
     "execution_count": 15,
     "metadata": {},
     "output_type": "execute_result"
    }
   ],
   "source": [
    "num.p_im[0].dtype"
   ]
  },
  {
   "cell_type": "code",
   "execution_count": 16,
   "metadata": {},
   "outputs": [],
   "source": [
    "num2 = oti.otibase(3, nbases=2, dtype = np.ndarray, zero=np.ones((2,1)))"
   ]
  },
  {
   "cell_type": "code",
   "execution_count": 17,
   "metadata": {},
   "outputs": [
    {
     "data": {
      "text/plain": [
       "[[-1.]\n",
       " [-1.]] +e([1])*[[-1.]\n",
       " [-1.]] +e([2])*[[-1.]\n",
       " [-1.]] +e([[1,2]])*[[-1.]\n",
       " [-1.]] +e([1,2])*[[-1.]\n",
       " [-1.]] +e([[2,2]])*[[-1.]\n",
       " [-1.]] +e([[1,3]])*[[-1.]\n",
       " [-1.]] +e([[1,2],2])*[[-1.]\n",
       " [-1.]] +e([1,[2,2]])*[[-1.]\n",
       " [-1.]] +e([[2,3]])*[[-1.]\n",
       " [-1.]]"
      ]
     },
     "execution_count": 17,
     "metadata": {},
     "output_type": "execute_result"
    }
   ],
   "source": [
    "-num2"
   ]
  },
  {
   "cell_type": "code",
   "execution_count": 18,
   "metadata": {},
   "outputs": [
    {
     "data": {
      "text/plain": [
       "1.0 +e([1])*1.0 +e([2])*1.0 +e([[1,2]])*1.0 +e([1,2])*1.0 +e([[2,2]])*1.0 +e([[1,3]])*1.0 +e([[1,2],2])*1.0 +e([1,[2,2]])*1.0 +e([[2,3]])*1.0"
      ]
     },
     "execution_count": 18,
     "metadata": {},
     "output_type": "execute_result"
    }
   ],
   "source": [
    "num2[0,0]"
   ]
  },
  {
   "cell_type": "code",
   "execution_count": 19,
   "metadata": {},
   "outputs": [
    {
     "data": {
      "text/plain": [
       "array([array([[1.],\n",
       "       [1.]]), array([[1.],\n",
       "       [1.]]),\n",
       "       array([[1.],\n",
       "       [1.]])], dtype=object)"
      ]
     },
     "execution_count": 19,
     "metadata": {},
     "output_type": "execute_result"
    }
   ],
   "source": [
    "num2.p_im[1]"
   ]
  },
  {
   "cell_type": "code",
   "execution_count": 12,
   "metadata": {},
   "outputs": [
    {
     "data": {
      "text/plain": [
       "array([[11.],\n",
       "       [11.]])"
      ]
     },
     "execution_count": 12,
     "metadata": {},
     "output_type": "execute_result"
    }
   ],
   "source": [
    "num.re+num2.re"
   ]
  },
  {
   "cell_type": "code",
   "execution_count": 13,
   "metadata": {},
   "outputs": [
    {
     "data": {
      "text/plain": [
       "array([[11.],\n",
       "       [11.]])"
      ]
     },
     "execution_count": 13,
     "metadata": {},
     "output_type": "execute_result"
    }
   ],
   "source": [
    "\n",
    "num.p_im[0][0]+num2.p_im[0][0]"
   ]
  },
  {
   "cell_type": "code",
   "execution_count": 14,
   "metadata": {},
   "outputs": [
    {
     "data": {
      "text/plain": [
       "[[11.]\n",
       " [11.]]\n",
       "+e([1])*\n",
       "[[11.]\n",
       " [11.]]\n",
       "+e([2])*\n",
       "[[11.]\n",
       " [11.]]\n",
       "+e([[1,2]])*\n",
       "[[11.]\n",
       " [11.]]\n",
       "+e([1,2])*\n",
       "[[11.]\n",
       " [11.]]\n",
       "+e([[2,2]])*\n",
       "[[11.]\n",
       " [11.]]\n",
       "+e([[1,3]])*\n",
       "[[11.]\n",
       " [11.]]\n",
       "+e([[1,2],2])*\n",
       "[[11.]\n",
       " [11.]]\n",
       "+e([1,[2,2]])*\n",
       "[[11.]\n",
       " [11.]]\n",
       "+e([[2,3]])*\n",
       "[[11.]\n",
       " [11.]]"
      ]
     },
     "execution_count": 14,
     "metadata": {},
     "output_type": "execute_result"
    }
   ],
   "source": [
    "num+num2"
   ]
  },
  {
   "cell_type": "code",
   "execution_count": 20,
   "metadata": {},
   "outputs": [
    {
     "data": {
      "text/plain": [
       "None +e([1])*None +e([2])*None +e([[1,2]])*None +e([1,2])*None +e([[2,2]])*None +e([[1,3]])*None +e([[1,2],2])*None +e([1,[2,2]])*None +e([[2,3]])*None"
      ]
     },
     "execution_count": 20,
     "metadata": {},
     "output_type": "execute_result"
    }
   ],
   "source": [
    "num2.empty_like()"
   ]
  },
  {
   "cell_type": "code",
   "execution_count": 16,
   "metadata": {},
   "outputs": [],
   "source": [
    "\n",
    "#%timeit num+num2"
   ]
  },
  {
   "cell_type": "code",
   "execution_count": null,
   "metadata": {},
   "outputs": [],
   "source": []
  },
  {
   "cell_type": "code",
   "execution_count": 21,
   "metadata": {},
   "outputs": [
    {
     "data": {
      "text/plain": [
       "[[4.5]\n",
       " [4.5]] +e([1])*[[4.5]\n",
       " [4.5]] +e([2])*[[4.5]\n",
       " [4.5]] +e([[1,2]])*[[4.5]\n",
       " [4.5]] +e([1,2])*[[4.5]\n",
       " [4.5]] +e([[2,2]])*[[4.5]\n",
       " [4.5]] +e([[1,3]])*[[4.5]\n",
       " [4.5]] +e([[1,2],2])*[[4.5]\n",
       " [4.5]] +e([1,[2,2]])*[[4.5]\n",
       " [4.5]] +e([[2,3]])*[[4.5]\n",
       " [4.5]]"
      ]
     },
     "execution_count": 21,
     "metadata": {},
     "output_type": "execute_result"
    }
   ],
   "source": [
    "4.5*num2"
   ]
  },
  {
   "cell_type": "code",
   "execution_count": 18,
   "metadata": {},
   "outputs": [
    {
     "data": {
      "text/plain": [
       "[[10.]\n",
       " [10.]]\n",
       "+e([1])*\n",
       "[[20.]\n",
       " [20.]]\n",
       "+e([2])*\n",
       "[[20.]\n",
       " [20.]]\n",
       "+e([[1,2]])*\n",
       "[[30.]\n",
       " [30.]]\n",
       "+e([1,2])*\n",
       "[[40.]\n",
       " [40.]]\n",
       "+e([[2,2]])*\n",
       "[[30.]\n",
       " [30.]]\n",
       "+e([[1,3]])*\n",
       "[[40.]\n",
       " [40.]]\n",
       "+e([[1,2],2])*\n",
       "[[60.]\n",
       " [60.]]\n",
       "+e([1,[2,2]])*\n",
       "[[60.]\n",
       " [60.]]\n",
       "+e([[2,3]])*\n",
       "[[40.]\n",
       " [40.]]"
      ]
     },
     "execution_count": 18,
     "metadata": {},
     "output_type": "execute_result"
    }
   ],
   "source": [
    "\n",
    "num*num2"
   ]
  },
  {
   "cell_type": "code",
   "execution_count": 22,
   "metadata": {},
   "outputs": [
    {
     "data": {
      "text/plain": [
       "10"
      ]
     },
     "execution_count": 22,
     "metadata": {},
     "output_type": "execute_result"
    }
   ],
   "source": [
    "num.getIm(oti.imdir([1]))"
   ]
  },
  {
   "cell_type": "code",
   "execution_count": 25,
   "metadata": {},
   "outputs": [],
   "source": [
    "num.setIm(oti.imdir([1]),17)"
   ]
  },
  {
   "cell_type": "code",
   "execution_count": 26,
   "metadata": {},
   "outputs": [
    {
     "data": {
      "text/plain": [
       "3.5 +e([1])*17 +e([2])*3.5 +e([[1,2]])*3.5 +e([1,2])*3.5 +e([[2,2]])*3.5 +e([[1,3]])*3.5 +e([[1,2],2])*3.5 +e([1,[2,2]])*3.5 +e([[2,3]])*3.5"
      ]
     },
     "execution_count": 26,
     "metadata": {},
     "output_type": "execute_result"
    }
   ],
   "source": [
    "num"
   ]
  },
  {
   "cell_type": "code",
   "execution_count": 27,
   "metadata": {},
   "outputs": [],
   "source": [
    "num = oti.otibase( 3, nbases=2, zero=3.5 )"
   ]
  },
  {
   "cell_type": "code",
   "execution_count": null,
   "metadata": {},
   "outputs": [],
   "source": []
  },
  {
   "cell_type": "code",
   "execution_count": 28,
   "metadata": {},
   "outputs": [],
   "source": [
    "# Mixing Scipy with OTI library:\n",
    "\n",
    "import sympy as sym\n",
    "\n",
    "f_r = sym.symbols('f_r')\n",
    "f_e1 = sym.symbols('f_{e1}')\n",
    "f_e2 = sym.symbols('f_{e2}')\n",
    "f_e11 = sym.symbols('f_{e11}')\n",
    "f_e12 = sym.symbols('f_{e12}')\n",
    "f_e22 = sym.symbols('f_{e22}')\n",
    "f_e111 = sym.symbols('f_{e111}')\n",
    "f_e112 = sym.symbols('f_{e112}')\n",
    "f_e122 = sym.symbols('f_{e122}')\n",
    "f_e222 = sym.symbols('f_{e222}')\n",
    "\n",
    "\n",
    "f_r = sym.symbols('f_r')\n",
    "f_e1 = sym.symbols('f_{x}')\n",
    "f_e2 = sym.symbols('f_{y}')\n",
    "f_e11 = sym.symbols('f_{xx}')/2\n",
    "f_e12 = sym.symbols('f_{xy}')\n",
    "f_e22 = sym.symbols('f_{yy}')/2\n",
    "f_e111 = sym.symbols('f_{xxx}')/6\n",
    "f_e112 = sym.symbols('f_{xxy}')/2\n",
    "f_e122 = sym.symbols('f_{xyy}')/2\n",
    "f_e222 = sym.symbols('f_{yyy}')/6\n"
   ]
  },
  {
   "cell_type": "code",
   "execution_count": 29,
   "metadata": {},
   "outputs": [],
   "source": [
    "f = oti.otibase(3,nbases=2)\n",
    "\n",
    "f.re = f_r\n",
    "f.p_im[0][0] = f_e1  # |\n",
    "f.p_im[0][1] = f_e2  # | Order 1\n",
    "f.p_im[1][0] = f_e11 # -\n",
    "f.p_im[1][1] = f_e12 # | Order 2 \n",
    "f.p_im[1][2] = f_e22 # -\n",
    "f.p_im[2][0] = f_e111 # -\n",
    "f.p_im[2][1] = f_e112 # |\n",
    "f.p_im[2][2] = f_e122 # | Order 3\n",
    "f.p_im[2][3] = f_e122 # -"
   ]
  },
  {
   "cell_type": "code",
   "execution_count": 30,
   "metadata": {},
   "outputs": [
    {
     "data": {
      "text/plain": [
       "f_r +e([1])*f_{x} +e([2])*f_{y} +e([[1,2]])*f_{xx}/2 +e([1,2])*f_{xy} +e([[2,2]])*f_{yy}/2 +e([[1,3]])*f_{xxx}/6 +e([[1,2],2])*f_{xxy}/2 +e([1,[2,2]])*f_{xyy}/2 +e([[2,3]])*f_{xyy}/2"
      ]
     },
     "execution_count": 30,
     "metadata": {},
     "output_type": "execute_result"
    }
   ],
   "source": [
    "f"
   ]
  },
  {
   "cell_type": "code",
   "execution_count": 25,
   "metadata": {},
   "outputs": [],
   "source": [
    "f0 = f.copy()"
   ]
  },
  {
   "cell_type": "code",
   "execution_count": 26,
   "metadata": {},
   "outputs": [],
   "source": [
    "f0_e1=f0.extractIm(oti.imdir([1]))\n",
    "f0_e2=f0.extractIm(oti.imdir([2]))\n",
    "f0.order -= 1\n",
    "\n",
    "f1 = f0_e1+f0_e2*f0"
   ]
  },
  {
   "cell_type": "code",
   "execution_count": 28,
   "metadata": {},
   "outputs": [
    {
     "data": {
      "text/plain": [
       "f_r*f_{y} + f_{x}\n",
       "+e([1])*\n",
       "1.0*f_r*f_{xy} + 1.0*f_{xx} + f_{x}*f_{y}\n",
       "+e([2])*\n",
       "1.0*f_r*f_{yy} + 1.0*f_{xy} + f_{y}**2\n",
       "+e([[1,2]])*\n",
       "0.5*f_r*f_{xxy} + 0.5*f_{xxx} + f_{xx}*f_{y}/2 + 1.0*f_{xy}*f_{x}\n",
       "+e([1,2])*\n",
       "1.0*f_r*f_{xyy} + 1.0*f_{xxy} + 2.0*f_{xy}*f_{y} + 1.0*f_{x}*f_{yy}\n",
       "+e([[2,2]])*\n",
       "1.5*f_r*f_{xyy} + 0.5*f_{xyy} + 1.5*f_{yy}*f_{y}"
      ]
     },
     "execution_count": 28,
     "metadata": {},
     "output_type": "execute_result"
    }
   ],
   "source": [
    "f1."
   ]
  },
  {
   "cell_type": "code",
   "execution_count": 29,
   "metadata": {},
   "outputs": [],
   "source": [
    "f1_e1=f1.extractIm(oti.imdir([1]))\n",
    "f1_e2=f1.extractIm(oti.imdir([2]))\n",
    "f0.order -= 1\n",
    "\n",
    "f2 = f1_e1+f1_e2*f0"
   ]
  },
  {
   "cell_type": "code",
   "execution_count": 30,
   "metadata": {},
   "outputs": [
    {
     "data": {
      "text/plain": [
       "1.0*f_r*f_{xy} + f_r*(1.0*f_r*f_{yy} + 1.0*f_{xy} + f_{y}**2) + 1.0*f_{xx} + f_{x}*f_{y}\n",
       "+e([1])*\n",
       "1.0*f_r*f_{xxy} + f_r*(1.0*f_r*f_{xyy} + 1.0*f_{xxy} + 2.0*f_{xy}*f_{y} + 1.0*f_{x}*f_{yy}) + 1.0*f_{xxx} + 1.0*f_{xx}*f_{y} + 2.0*f_{xy}*f_{x} + f_{x}*(1.0*f_r*f_{yy} + 1.0*f_{xy} + f_{y}**2)\n",
       "+e([2])*\n",
       "1.0*f_r*f_{xyy} + f_r*(3.0*f_r*f_{xyy} + 1.0*f_{xyy} + 3.0*f_{yy}*f_{y}) + 1.0*f_{xxy} + 2.0*f_{xy}*f_{y} + 1.0*f_{x}*f_{yy} + f_{y}*(1.0*f_r*f_{yy} + 1.0*f_{xy} + f_{y}**2)"
      ]
     },
     "execution_count": 30,
     "metadata": {},
     "output_type": "execute_result"
    }
   ],
   "source": [
    "f2"
   ]
  },
  {
   "cell_type": "code",
   "execution_count": 31,
   "metadata": {},
   "outputs": [
    {
     "data": {
      "text/latex": [
       "$\\displaystyle 1.0 f_{r}^{2} f_{yy} + 2.0 f_{r} f_{xy} + f_{r} f_{y}^{2} + 1.0 f_{xx} + f_{x} f_{y}$"
      ],
      "text/plain": [
       "1.0*f_r**2*f_{yy} + 2.0*f_r*f_{xy} + f_r*f_{y}**2 + 1.0*f_{xx} + f_{x}*f_{y}"
      ]
     },
     "execution_count": 31,
     "metadata": {},
     "output_type": "execute_result"
    }
   ],
   "source": [
    "f2.re.expand()"
   ]
  },
  {
   "cell_type": "code",
   "execution_count": 32,
   "metadata": {},
   "outputs": [],
   "source": [
    "f2_e1=f2.extractIm(oti.imdir([1]))\n",
    "f2_e2=f2.extractIm(oti.imdir([2]))\n",
    "f0.order -= 1\n",
    "\n",
    "f3 = f2_e1+f2_e2*f0"
   ]
  },
  {
   "cell_type": "code",
   "execution_count": 33,
   "metadata": {},
   "outputs": [
    {
     "data": {
      "text/plain": [
       "1.0*f_r*f_{xxy} + f_r*(1.0*f_r*f_{xyy} + 1.0*f_{xxy} + 2.0*f_{xy}*f_{y} + 1.0*f_{x}*f_{yy}) + f_r*(1.0*f_r*f_{xyy} + f_r*(3.0*f_r*f_{xyy} + 1.0*f_{xyy} + 3.0*f_{yy}*f_{y}) + 1.0*f_{xxy} + 2.0*f_{xy}*f_{y} + 1.0*f_{x}*f_{yy} + f_{y}*(1.0*f_r*f_{yy} + 1.0*f_{xy} + f_{y}**2)) + 1.0*f_{xxx} + 1.0*f_{xx}*f_{y} + 2.0*f_{xy}*f_{x} + f_{x}*(1.0*f_r*f_{yy} + 1.0*f_{xy} + f_{y}**2)"
      ]
     },
     "execution_count": 33,
     "metadata": {},
     "output_type": "execute_result"
    }
   ],
   "source": [
    "\n",
    "f3"
   ]
  },
  {
   "cell_type": "code",
   "execution_count": 34,
   "metadata": {
    "scrolled": false
   },
   "outputs": [
    {
     "data": {
      "text/latex": [
       "$\\displaystyle 3.0 f_{r}^{3} f_{xyy} + 3.0 f_{r}^{2} f_{xyy} + 4.0 f_{r}^{2} f_{yy} f_{y} + 3.0 f_{r} f_{xxy} + 5.0 f_{r} f_{xy} f_{y} + 3.0 f_{r} f_{x} f_{yy} + f_{r} f_{y}^{3} + 1.0 f_{xxx} + 1.0 f_{xx} f_{y} + 3.0 f_{xy} f_{x} + f_{x} f_{y}^{2}$"
      ],
      "text/plain": [
       "3.0*f_r**3*f_{xyy} + 3.0*f_r**2*f_{xyy} + 4.0*f_r**2*f_{yy}*f_{y} + 3.0*f_r*f_{xxy} + 5.0*f_r*f_{xy}*f_{y} + 3.0*f_r*f_{x}*f_{yy} + f_r*f_{y}**3 + 1.0*f_{xxx} + 1.0*f_{xx}*f_{y} + 3.0*f_{xy}*f_{x} + f_{x}*f_{y}**2"
      ]
     },
     "execution_count": 34,
     "metadata": {},
     "output_type": "execute_result"
    }
   ],
   "source": [
    "f3.re.expand()\n"
   ]
  },
  {
   "cell_type": "code",
   "execution_count": null,
   "metadata": {},
   "outputs": [],
   "source": []
  }
 ],
 "metadata": {
  "kernelspec": {
   "display_name": "Python 3",
   "language": "python",
   "name": "python3"
  },
  "language_info": {
   "codemirror_mode": {
    "name": "ipython",
    "version": 3
   },
   "file_extension": ".py",
   "mimetype": "text/x-python",
   "name": "python",
   "nbconvert_exporter": "python",
   "pygments_lexer": "ipython3",
   "version": "3.7.3"
  }
 },
 "nbformat": 4,
 "nbformat_minor": 2
}
