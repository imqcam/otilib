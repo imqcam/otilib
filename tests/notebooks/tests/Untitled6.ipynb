{
 "cells": [
  {
   "cell_type": "code",
   "execution_count": 1,
   "id": "027e9b15",
   "metadata": {},
   "outputs": [],
   "source": [
    "import pyoti.sparse as oti\n",
    "import pyoti.core as coti"
   ]
  },
  {
   "cell_type": "code",
   "execution_count": 12,
   "id": "74368a5a",
   "metadata": {},
   "outputs": [],
   "source": [
    "x = 0.5 + oti.e(1, order = 20)\n",
    "y = 0.6 + oti.e(2, order = 20)\n",
    "f = oti.sqrt(x**2 + y**2)"
   ]
  },
  {
   "cell_type": "code",
   "execution_count": 13,
   "id": "3ffabc28",
   "metadata": {
    "scrolled": false
   },
   "outputs": [
    {
     "data": {
      "text/plain": [
       "0.7810 + 0.6402 * e([1]) + 0.7682 * e([2])"
      ]
     },
     "execution_count": 13,
     "metadata": {},
     "output_type": "execute_result"
    }
   ],
   "source": [
    "f.truncate_order(1)"
   ]
  },
  {
   "cell_type": "code",
   "execution_count": 28,
   "id": "04ef3516",
   "metadata": {},
   "outputs": [
    {
     "data": {
      "text/plain": [
       "2.048742233527199e-06"
      ]
     },
     "execution_count": 28,
     "metadata": {},
     "output_type": "execute_result"
    }
   ],
   "source": [
    "Δx = 0.5\n",
    "Δy = 0.15\n",
    "abs(f.truncate_order(20).rom_eval([1,2],[Δx,Δy]).real - f.truncate_order(19).rom_eval([1,2],[Δx,Δy]).real)/abs(f.real)"
   ]
  },
  {
   "cell_type": "code",
   "execution_count": 6,
   "id": "d451f2d5",
   "metadata": {},
   "outputs": [
    {
     "data": {
      "text/plain": [
       "1.4866068747318506"
      ]
     },
     "execution_count": 6,
     "metadata": {},
     "output_type": "execute_result"
    }
   ],
   "source": [
    "oti.sqrt(1**2 + 1.1**2)"
   ]
  },
  {
   "cell_type": "code",
   "execution_count": 7,
   "id": "fe9f1ce6",
   "metadata": {},
   "outputs": [
    {
     "data": {
      "text/plain": [
       "1.224744871391589"
      ]
     },
     "execution_count": 7,
     "metadata": {},
     "output_type": "execute_result"
    }
   ],
   "source": [
    "oti.sqrt(1.5)"
   ]
  },
  {
   "cell_type": "code",
   "execution_count": 8,
   "id": "ca0bf25a",
   "metadata": {},
   "outputs": [
    {
     "data": {
      "text/plain": [
       "2.121320343559643"
      ]
     },
     "execution_count": 8,
     "metadata": {},
     "output_type": "execute_result"
    }
   ],
   "source": [
    "xr = 0.5\n",
    "\n",
    "3/8*(xr**(-5/2))"
   ]
  },
  {
   "cell_type": "code",
   "execution_count": 9,
   "id": "1ff1d5a6",
   "metadata": {},
   "outputs": [
    {
     "data": {
      "text/plain": [
       "2.1216"
      ]
     },
     "execution_count": 9,
     "metadata": {},
     "output_type": "execute_result"
    }
   ],
   "source": [
    "0.3536*3*2"
   ]
  },
  {
   "cell_type": "code",
   "execution_count": 10,
   "id": "153d2964",
   "metadata": {},
   "outputs": [
    {
     "data": {
      "text/plain": [
       "-1.8581003806440155"
      ]
     },
     "execution_count": 10,
     "metadata": {},
     "output_type": "execute_result"
    }
   ],
   "source": [
    "f.get_deriv([1,1,1])"
   ]
  },
  {
   "cell_type": "code",
   "execution_count": null,
   "id": "95cfbb23",
   "metadata": {},
   "outputs": [],
   "source": []
  },
  {
   "cell_type": "code",
   "execution_count": null,
   "id": "124f18c3",
   "metadata": {},
   "outputs": [],
   "source": []
  },
  {
   "cell_type": "code",
   "execution_count": null,
   "id": "cb879cfa",
   "metadata": {},
   "outputs": [],
   "source": []
  },
  {
   "cell_type": "code",
   "execution_count": null,
   "id": "af8cee66",
   "metadata": {},
   "outputs": [],
   "source": []
  },
  {
   "cell_type": "code",
   "execution_count": 20,
   "id": "068bb717",
   "metadata": {},
   "outputs": [
    {
     "data": {
      "text/plain": [
       "66"
      ]
     },
     "execution_count": 20,
     "metadata": {},
     "output_type": "execute_result"
    }
   ],
   "source": [
    "coti.ndir_total(10,2)"
   ]
  },
  {
   "cell_type": "code",
   "execution_count": 22,
   "id": "7c110cf2",
   "metadata": {},
   "outputs": [
    {
     "data": {
      "text/plain": [
       "4"
      ]
     },
     "execution_count": 22,
     "metadata": {},
     "output_type": "execute_result"
    }
   ],
   "source": [
    "coti.ndir_order(2,3)"
   ]
  },
  {
   "cell_type": "code",
   "execution_count": 23,
   "id": "f5087377",
   "metadata": {},
   "outputs": [],
   "source": [
    "h = coti.get_dHelp()"
   ]
  },
  {
   "cell_type": "code",
   "execution_count": 35,
   "id": "9124b919",
   "metadata": {},
   "outputs": [
    {
     "data": {
      "text/plain": [
       "array([1, 1, 4], dtype=uint16)"
      ]
     },
     "execution_count": 35,
     "metadata": {},
     "output_type": "execute_result"
    }
   ],
   "source": [
    "h.get_fulldir(10,3)"
   ]
  },
  {
   "cell_type": "code",
   "execution_count": 31,
   "id": "4f2e4a2e",
   "metadata": {},
   "outputs": [
    {
     "name": "stdout",
     "output_type": "stream",
     "text": [
      " Order  Nbases    Ndir\n",
      "     1   65000   65000\n",
      "     2    1000  500500\n",
      "     3     100  171700\n",
      "     4     100 4421275\n",
      "     5      10    2002\n",
      "     6      10    5005\n",
      "     7      10   11440\n",
      "     8      10   24310\n",
      "     9      10   48620\n",
      "    10      10   92378\n",
      "    11       5    1365\n",
      "    12       5    1820\n",
      "    13       5    2380\n",
      "    14       5    3060\n",
      "    15       5    3876\n",
      "    16       5    4845\n",
      "    17       5    5985\n",
      "    18       5    7315\n",
      "    19       5    8855\n",
      "    20       5   10626\n",
      "    21       3     253\n",
      "    22       3     276\n",
      "    23       3     300\n",
      "    24       3     325\n",
      "    25       3     351\n",
      "    26       3     378\n",
      "    27       3     406\n",
      "    28       3     435\n",
      "    29       3     465\n",
      "    30       3     496\n",
      "    31       3     528\n",
      "    32       3     561\n",
      "    33       3     595\n",
      "    34       3     630\n",
      "    35       3     666\n",
      "    36       3     703\n",
      "    37       3     741\n",
      "    38       3     780\n",
      "    39       3     820\n",
      "    40       3     861\n",
      "    41       3     903\n",
      "    42       3     946\n",
      "    43       3     990\n",
      "    44       3    1035\n",
      "    45       3    1081\n",
      "    46       3    1128\n",
      "    47       3    1176\n",
      "    48       3    1225\n",
      "    49       3    1275\n",
      "    50       3    1326\n",
      "    51       2      52\n",
      "    52       2      53\n",
      "    53       2      54\n",
      "    54       2      55\n",
      "    55       2      56\n",
      "    56       2      57\n",
      "    57       2      58\n",
      "    58       2      59\n",
      "    59       2      60\n",
      "    60       2      61\n",
      "    61       2      62\n",
      "    62       2      63\n",
      "    63       2      64\n",
      "    64       2      65\n",
      "    65       2      66\n",
      "    66       2      67\n",
      "    67       2      68\n",
      "    68       2      69\n",
      "    69       2      70\n",
      "    70       2      71\n",
      "    71       2      72\n",
      "    72       2      73\n",
      "    73       2      74\n",
      "    74       2      75\n",
      "    75       2      76\n",
      "    76       2      77\n",
      "    77       2      78\n",
      "    78       2      79\n",
      "    79       2      80\n",
      "    80       2      81\n",
      "    81       2      82\n",
      "    82       2      83\n",
      "    83       2      84\n",
      "    84       2      85\n",
      "    85       2      86\n",
      "    86       2      87\n",
      "    87       2      88\n",
      "    88       2      89\n",
      "    89       2      90\n",
      "    90       2      91\n",
      "    91       2      92\n",
      "    92       2      93\n",
      "    93       2      94\n",
      "    94       2      95\n",
      "    95       2      96\n",
      "    96       2      97\n",
      "    97       2      98\n",
      "    98       2      99\n",
      "    99       2     100\n",
      "   100       2     101\n",
      "   101       2     102\n",
      "   102       2     103\n",
      "   103       2     104\n",
      "   104       2     105\n",
      "   105       2     106\n",
      "   106       2     107\n",
      "   107       2     108\n",
      "   108       2     109\n",
      "   109       2     110\n",
      "   110       2     111\n",
      "   111       2     112\n",
      "   112       2     113\n",
      "   113       2     114\n",
      "   114       2     115\n",
      "   115       2     116\n",
      "   116       2     117\n",
      "   117       2     118\n",
      "   118       2     119\n",
      "   119       2     120\n",
      "   120       2     121\n",
      "   121       2     122\n",
      "   122       2     123\n",
      "   123       2     124\n",
      "   124       2     125\n",
      "   125       2     126\n",
      "   126       2     127\n",
      "   127       2     128\n",
      "   128       2     129\n",
      "   129       2     130\n",
      "   130       2     131\n",
      "   131       2     132\n",
      "   132       2     133\n",
      "   133       2     134\n",
      "   134       2     135\n",
      "   135       2     136\n",
      "   136       2     137\n",
      "   137       2     138\n",
      "   138       2     139\n",
      "   139       2     140\n",
      "   140       2     141\n",
      "   141       2     142\n",
      "   142       2     143\n",
      "   143       2     144\n",
      "   144       2     145\n",
      "   145       2     146\n",
      "   146       2     147\n",
      "   147       2     148\n",
      "   148       2     149\n",
      "   149       2     150\n",
      "   150       2     151\n"
     ]
    }
   ],
   "source": [
    "coti.print_capabilities()"
   ]
  },
  {
   "cell_type": "code",
   "execution_count": null,
   "id": "0d88d4a5",
   "metadata": {},
   "outputs": [],
   "source": []
  }
 ],
 "metadata": {
  "kernelspec": {
   "display_name": "pyoti",
   "language": "python",
   "name": "pyoti"
  },
  "language_info": {
   "codemirror_mode": {
    "name": "ipython",
    "version": 3
   },
   "file_extension": ".py",
   "mimetype": "text/x-python",
   "name": "python",
   "nbconvert_exporter": "python",
   "pygments_lexer": "ipython3",
   "version": "3.8.10"
  }
 },
 "nbformat": 4,
 "nbformat_minor": 5
}
