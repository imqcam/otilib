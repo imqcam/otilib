{
 "cells": [
  {
   "cell_type": "code",
   "execution_count": 1,
   "metadata": {},
   "outputs": [],
   "source": [
    "# 1. SET GLOBAL PATH \n",
    "import sys\n",
    "path2oti = '../../../build'\n",
    "sys.path.append(path2oti) # Add path to OTI library.\n",
    "\n",
    "import pyoti.dense as oti\n",
    "np = oti.np\n",
    "eps = oti.e\n",
    "\n",
    "import sympy as sym"
   ]
  },
  {
   "cell_type": "code",
   "execution_count": 2,
   "metadata": {},
   "outputs": [],
   "source": [
    "# Change print options.\n",
    "\n",
    "oti.print_options['im_obj_separator'] = \" \"\n",
    "oti.print_options['term_separator']   = \"*\"\n",
    "oti.print_options['epsilon']          = \" e\""
   ]
  },
  {
   "cell_type": "code",
   "execution_count": null,
   "metadata": {},
   "outputs": [],
   "source": []
  },
  {
   "cell_type": "code",
   "execution_count": 12,
   "metadata": {},
   "outputs": [],
   "source": [
    "f = oti.otibase(3,nbases=2)\n",
    "\n",
    "f_r = sym.symbols('f_r')\n",
    "f_e1 = sym.symbols('f_{e1}')\n",
    "f_e2 = sym.symbols('f_{e2}')\n",
    "f_e11 = sym.symbols('f_{e11}')\n",
    "f_e12 = sym.symbols('f_{e12}')\n",
    "f_e22 = sym.symbols('f_{e22}')\n",
    "f_e111 = sym.symbols('f_{e111}')\n",
    "f_e112 = sym.symbols('f_{e112}')\n",
    "f_e122 = sym.symbols('f_{e122}')\n",
    "f_e222 = sym.symbols('f_{e222}')\n",
    "f_e1111 = sym.symbols('f_{e1111}')\n",
    "f_e1112 = sym.symbols('f_{e1112}')\n",
    "f_e1122 = sym.symbols('f_{e1122}')\n",
    "f_e1222 = sym.symbols('f_{e1222}')\n",
    "f_e2222 = sym.symbols('f_{e2222}')\n",
    "\n",
    "\n",
    "f_r = sym.symbols('f')\n",
    "f_e1 = sym.symbols('f_{t}')\n",
    "f_e2 = sym.symbols('f_{y}')\n",
    "f_e11 = sym.symbols('f_{tt}')/2\n",
    "f_e12 = sym.symbols('f_{ty}')\n",
    "f_e22 = sym.symbols('f_{yy}')/2\n",
    "f_e111 = sym.symbols('f_{ttt}')/6\n",
    "f_e112 = sym.symbols('f_{tty}')/2\n",
    "f_e122 = sym.symbols('f_{tyy}')/2\n",
    "f_e222 = sym.symbols('f_{yyy}')/6\n",
    "\n",
    "f_e1111 = sym.symbols('f_{tttt}')/24\n",
    "f_e1112 = sym.symbols('f_{ttty}')/6\n",
    "f_e1122 = sym.symbols('f_{ttyy}')/4\n",
    "f_e1222 = sym.symbols('f_{tyyy}')/6\n",
    "f_e2222 = sym.symbols('f_{yyyy}')/24\n",
    "\n"
   ]
  },
  {
   "cell_type": "code",
   "execution_count": 13,
   "metadata": {},
   "outputs": [],
   "source": [
    "order  = 4\n",
    "nbases = 2\n",
    "f = oti.otibase( order,nbases=nbases)\n",
    "\n",
    "f.re = f_r            \n",
    "f.p_im[0][0] = f_e1  # -\n",
    "f.p_im[0][1] = f_e2  # | Order 1\n",
    "f.p_im[1][0] = f_e11 # -\n",
    "f.p_im[1][1] = f_e12 # | Order 2 \n",
    "f.p_im[1][2] = f_e22 # -\n",
    "f.p_im[2][0] = f_e111 # -\n",
    "f.p_im[2][1] = f_e112 # |\n",
    "f.p_im[2][2] = f_e122 # | Order 3\n",
    "f.p_im[2][3] = f_e222 # -\n",
    "f.p_im[3][0] = f_e1111 # -\n",
    "f.p_im[3][1] = f_e1112 # |\n",
    "f.p_im[3][2] = f_e1122 # | Order 4\n",
    "f.p_im[3][3] = f_e1222 # |\n",
    "f.p_im[3][4] = f_e2222 # -\n"
   ]
  },
  {
   "cell_type": "code",
   "execution_count": 14,
   "metadata": {},
   "outputs": [
    {
     "data": {
      "text/plain": [
       "f + e([1])*f_{t} + e([2])*f_{y} + e([[1,2]])*f_{tt}/2 + e([1,2])*f_{ty} + e([[2,2]])*f_{yy}/2 + e([[1,3]])*f_{ttt}/6 + e([[1,2],2])*f_{tty}/2 + e([1,[2,2]])*f_{tyy}/2 + e([[2,3]])*f_{yyy}/6 + e([[1,4]])*f_{tttt}/24 + e([[1,3],2])*f_{ttty}/6 + e([[1,2],[2,2]])*f_{ttyy}/4 + e([1,[2,3]])*f_{tyyy}/6 + e([[2,4]])*f_{yyyy}/24"
      ]
     },
     "execution_count": 14,
     "metadata": {},
     "output_type": "execute_result"
    }
   ],
   "source": [
    "f"
   ]
  },
  {
   "cell_type": "code",
   "execution_count": 15,
   "metadata": {},
   "outputs": [
    {
     "data": {
      "text/plain": [
       "f_{tt}/2 + e([1])*f_{ttt}/6 + e([2])*f_{tty}/2 + e([[1,2]])*f_{tttt}/24 + e([1,2])*f_{ttty}/6 + e([[2,2]])*f_{ttyy}/4"
      ]
     },
     "execution_count": 15,
     "metadata": {},
     "output_type": "execute_result"
    }
   ],
   "source": [
    "f.extract_im(oti.imdir([[1,2]]))"
   ]
  },
  {
   "cell_type": "code",
   "execution_count": 16,
   "metadata": {},
   "outputs": [
    {
     "data": {
      "text/plain": [
       "f_{t} + e([1])*f_{tt} + e([2])*f_{ty} + e([[1,2]])*f_{ttt}/2 + e([1,2])*f_{tty} + e([[2,2]])*f_{tyy}/2 + e([[1,3]])*f_{tttt}/6 + e([[1,2],2])*f_{ttty}/2 + e([1,[2,2]])*f_{ttyy}/2 + e([[2,3]])*f_{tyyy}/6"
      ]
     },
     "execution_count": 16,
     "metadata": {},
     "output_type": "execute_result"
    }
   ],
   "source": [
    "f.extract_deriv(oti.imdir([[1,1]]))"
   ]
  },
  {
   "cell_type": "code",
   "execution_count": 17,
   "metadata": {},
   "outputs": [],
   "source": [
    "f0 = f.copy()"
   ]
  },
  {
   "cell_type": "code",
   "execution_count": 18,
   "metadata": {},
   "outputs": [],
   "source": [
    "f0_e1=f0.extract_deriv(oti.imdir([1]))\n",
    "f0_e2=f0.extract_deriv(oti.imdir([2]))\n",
    "f0.order -= 1\n",
    "\n",
    "f1 = f0_e1+f0_e2*f0"
   ]
  },
  {
   "cell_type": "code",
   "execution_count": 19,
   "metadata": {},
   "outputs": [
    {
     "data": {
      "text/plain": [
       "f*f_{y} + f_{t} + e([1])*f*f_{ty} + f_{tt} + f_{t}*f_{y} + e([2])*f*f_{yy} + f_{ty} + f_{y}**2 + e([[1,2]])*f*f_{tty}/2 + f_{ttt}/2 + f_{tt}*f_{y}/2 + f_{ty}*f_{t} + e([1,2])*f*f_{tyy} + f_{tty} + 2*f_{ty}*f_{y} + f_{t}*f_{yy} + e([[2,2]])*f*f_{yyy}/2 + f_{tyy}/2 + 3*f_{yy}*f_{y}/2 + e([[1,3]])*f*f_{ttty}/6 + f_{tttt}/6 + f_{ttt}*f_{y}/6 + f_{tty}*f_{t}/2 + f_{tt}*f_{ty}/2 + e([[1,2],2])*f*f_{ttyy}/2 + f_{ttty}/2 + f_{tty}*f_{y} + f_{tt}*f_{yy}/2 + f_{tyy}*f_{t} + f_{ty}**2 + e([1,[2,2]])*f*f_{tyyy}/2 + f_{ttyy}/2 + 3*f_{tyy}*f_{y}/2 + 3*f_{ty}*f_{yy}/2 + f_{t}*f_{yyy}/2 + e([[2,3]])*f*f_{yyyy}/6 + f_{tyyy}/6 + 2*f_{yyy}*f_{y}/3 + f_{yy}**2/2"
      ]
     },
     "execution_count": 19,
     "metadata": {},
     "output_type": "execute_result"
    }
   ],
   "source": [
    "f1"
   ]
  },
  {
   "cell_type": "code",
   "execution_count": 20,
   "metadata": {},
   "outputs": [
    {
     "data": {
      "text/latex": [
       "$\\displaystyle f f_{y} + f_{t}$"
      ],
      "text/plain": [
       "f*f_{y} + f_{t}"
      ]
     },
     "execution_count": 20,
     "metadata": {},
     "output_type": "execute_result"
    }
   ],
   "source": [
    "f1.re.expand()"
   ]
  },
  {
   "cell_type": "code",
   "execution_count": 21,
   "metadata": {},
   "outputs": [],
   "source": [
    "f1_e1=f1.extract_deriv(oti.imdir([1]))\n",
    "f1_e2=f1.extract_deriv(oti.imdir([2]))\n",
    "f0.order -= 1\n",
    "\n",
    "f2 = f1_e1+f1_e2*f0"
   ]
  },
  {
   "cell_type": "code",
   "execution_count": 22,
   "metadata": {},
   "outputs": [
    {
     "data": {
      "text/latex": [
       "$\\displaystyle f^{2} f_{yy} + 2 f f_{ty} + f f_{y}^{2} + f_{tt} + f_{t} f_{y}$"
      ],
      "text/plain": [
       "f**2*f_{yy} + 2*f*f_{ty} + f*f_{y}**2 + f_{tt} + f_{t}*f_{y}"
      ]
     },
     "execution_count": 22,
     "metadata": {},
     "output_type": "execute_result"
    }
   ],
   "source": [
    "f2.re.expand()"
   ]
  },
  {
   "cell_type": "code",
   "execution_count": 23,
   "metadata": {},
   "outputs": [],
   "source": [
    "f2_e1=f2.extract_deriv(oti.imdir([1]))\n",
    "f2_e2=f2.extract_deriv(oti.imdir([2]))\n",
    "f0.order -= 1\n",
    "\n",
    "f3 = f2_e1+f2_e2*f0"
   ]
  },
  {
   "cell_type": "code",
   "execution_count": 24,
   "metadata": {},
   "outputs": [
    {
     "data": {
      "text/latex": [
       "$\\displaystyle f^{3} f_{yyy} + 3 f^{2} f_{tyy} + 4 f^{2} f_{yy} f_{y} + 3 f f_{tty} + 5 f f_{ty} f_{y} + 3 f f_{t} f_{yy} + f f_{y}^{3} + f_{ttt} + f_{tt} f_{y} + 3 f_{ty} f_{t} + f_{t} f_{y}^{2}$"
      ],
      "text/plain": [
       "f**3*f_{yyy} + 3*f**2*f_{tyy} + 4*f**2*f_{yy}*f_{y} + 3*f*f_{tty} + 5*f*f_{ty}*f_{y} + 3*f*f_{t}*f_{yy} + f*f_{y}**3 + f_{ttt} + f_{tt}*f_{y} + 3*f_{ty}*f_{t} + f_{t}*f_{y}**2"
      ]
     },
     "execution_count": 24,
     "metadata": {},
     "output_type": "execute_result"
    }
   ],
   "source": [
    "\n",
    "f3.re.expand()"
   ]
  },
  {
   "cell_type": "code",
   "execution_count": 31,
   "metadata": {
    "scrolled": false
   },
   "outputs": [],
   "source": [
    "f3_e1=f3.extract_deriv(oti.imdir([1]))\n",
    "f3_e2=f3.extract_deriv(oti.imdir([2]))\n",
    "f0.order -= 1\n",
    "\n",
    "f4 = f3_e1+f3_e2*f0"
   ]
  },
  {
   "cell_type": "code",
   "execution_count": 32,
   "metadata": {},
   "outputs": [
    {
     "data": {
      "text/latex": [
       "$\\displaystyle \\frac{f^{4} f_{yyyy}}{24} + \\frac{2 f^{3} f_{xyyy}}{3} + \\frac{2 f^{3} f_{yyy} f_{y}}{3} + \\frac{f^{3} f_{yy}^{2}}{2} + \\frac{3 f^{2} f_{xxyy}}{2} + \\frac{11 f^{2} f_{xyy} f_{y}}{2} + \\frac{9 f^{2} f_{xy} f_{yy}}{2} + f^{2} f_{x} f_{yyy} + 3 f^{2} f_{yy} f_{y}^{2} + \\frac{2 f f_{xxxy}}{3} + \\frac{9 f f_{xxy} f_{y}}{2} + f f_{xx} f_{yy} + 4 f f_{xyy} f_{x} + 5 f f_{xy}^{2} + 9 f f_{xy} f_{y}^{2} + 5 f f_{x} f_{yy} f_{y} + f f_{y}^{4} + \\frac{f_{xxxx}}{24} + \\frac{f_{xxx} f_{y}}{6} + \\frac{3 f_{xxy} f_{x}}{2} + f_{xx} f_{xy} + \\frac{f_{xx} f_{y}^{2}}{2} + 5 f_{xy} f_{x} f_{y} + f_{x}^{2} f_{yy} + f_{x} f_{y}^{3}$"
      ],
      "text/plain": [
       "f**4*f_{yyyy}/24 + 2*f**3*f_{xyyy}/3 + 2*f**3*f_{yyy}*f_{y}/3 + f**3*f_{yy}**2/2 + 3*f**2*f_{xxyy}/2 + 11*f**2*f_{xyy}*f_{y}/2 + 9*f**2*f_{xy}*f_{yy}/2 + f**2*f_{x}*f_{yyy} + 3*f**2*f_{yy}*f_{y}**2 + 2*f*f_{xxxy}/3 + 9*f*f_{xxy}*f_{y}/2 + f*f_{xx}*f_{yy} + 4*f*f_{xyy}*f_{x} + 5*f*f_{xy}**2 + 9*f*f_{xy}*f_{y}**2 + 5*f*f_{x}*f_{yy}*f_{y} + f*f_{y}**4 + f_{xxxx}/24 + f_{xxx}*f_{y}/6 + 3*f_{xxy}*f_{x}/2 + f_{xx}*f_{xy} + f_{xx}*f_{y}**2/2 + 5*f_{xy}*f_{x}*f_{y} + f_{x}**2*f_{yy} + f_{x}*f_{y}**3"
      ]
     },
     "execution_count": 32,
     "metadata": {},
     "output_type": "execute_result"
    }
   ],
   "source": [
    "f4.re.expand()"
   ]
  },
  {
   "cell_type": "code",
   "execution_count": null,
   "metadata": {},
   "outputs": [],
   "source": []
  }
 ],
 "metadata": {
  "kernelspec": {
   "display_name": "Python 3",
   "language": "python",
   "name": "python3"
  },
  "language_info": {
   "codemirror_mode": {
    "name": "ipython",
    "version": 3
   },
   "file_extension": ".py",
   "mimetype": "text/x-python",
   "name": "python",
   "nbconvert_exporter": "python",
   "pygments_lexer": "ipython3",
   "version": "3.7.3"
  }
 },
 "nbformat": 4,
 "nbformat_minor": 2
}
