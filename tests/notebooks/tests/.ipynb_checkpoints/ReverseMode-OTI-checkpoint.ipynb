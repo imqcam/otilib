{
 "cells": [
  {
   "cell_type": "markdown",
   "id": "413a92f7",
   "metadata": {},
   "source": [
    "# A Reverse mode way to compute high order derivatives with OTI numbers\n",
    "```\n",
    "Mauricio Aristizabal, PhD\n",
    "06/22/2023\n",
    "```\n",
    "\n",
    "This document implements an initial version of the Reverse mode approach with OTI numbers.\n",
    "\n",
    "First, import the librarires."
   ]
  },
  {
   "cell_type": "code",
   "execution_count": 1,
   "id": "64dfdc46",
   "metadata": {},
   "outputs": [],
   "source": [
    "import pyoti.sparse as oti\n",
    "import pyoti.core as coti\n",
    "import numpy as np\n",
    "import math"
   ]
  },
  {
   "cell_type": "markdown",
   "id": "813b445b",
   "metadata": {},
   "source": [
    "The test function is the following\n",
    "\n",
    "$$\n",
    "f(x_1,\\ldots, x_m)=\\cos\\left(\\sin\\left(\\log\\left(\\sum_{i=1}^{m} x_i\\right)\\right)\\right)\n",
    "$$\n",
    "\n",
    "for a total number of variables $m$.\n",
    "\n",
    "The following three functions implement the concept using numpy, math and oti in forward and reverse mode."
   ]
  },
  {
   "cell_type": "code",
   "execution_count": 2,
   "id": "79ee49f7",
   "metadata": {},
   "outputs": [],
   "source": [
    "# *****************************************************************************************\n",
    "def f_x_fwd_numpy(X):\n",
    "    '''\n",
    "    The following function implement the test function using numpy.\n",
    "\n",
    "    INPUTS:\n",
    "    - X: List of input parameters. The lenght of X is the number of variables.\n",
    "    '''\n",
    "    return np.cos( np.sin( np.log( np.sum(X)**5 ) ) )\n",
    "# =========================================================================================\n",
    "\n",
    "# *****************************************************************************************\n",
    "def f_x_fwd_oti(X):\n",
    "    '''\n",
    "    The following function implement the test function using OTI in full forward mode.\n",
    "\n",
    "    INPUTS:\n",
    "    - X: List of input parameters. The lenght of X is the number of variables.\n",
    "    '''\n",
    "    return oti.cos( oti.sin( oti.log( np.sum(X)**5 ) ) )\n",
    "# =========================================================================================\n",
    "# *****************************************************************************************\n",
    "def f_x_rev_oti(X):\n",
    "    '''\n",
    "    The following function implement the test function using OTIs in 'reverse' mode.\n",
    "\n",
    "    INPUTS:\n",
    "    - X: List of input parameters. The lenght of X is the number of variables.\n",
    "    '''\n",
    "    w1 = np.sum(X)\n",
    "    w2 = (w1.real + oti.e(1,order=w1.order))**5\n",
    "    w3 = oti.log(w2.real + oti.e(1,order=w2.order))\n",
    "    w4 = oti.sin(w3.real + oti.e(1,order=w3.order))\n",
    "    w5 = oti.cos(w4.real + oti.e(1,order=w4.order))\n",
    "\n",
    "    res = w5.rom_eval_object([1],[w4-w4.real])\n",
    "    res = res.rom_eval_object([1],[w3-w3.real])\n",
    "    res = res.rom_eval_object([1],[w2-w2.real])\n",
    "    res = res.rom_eval_object([1],[w1-w1.real])\n",
    "    return res\n",
    "# ========================================================================================="
   ]
  },
  {
   "cell_type": "code",
   "execution_count": 3,
   "id": "f0a3167f",
   "metadata": {},
   "outputs": [
    {
     "name": "stdout",
     "output_type": "stream",
     "text": [
      "Total number of derivatives to be computed: 184756\n"
     ]
    }
   ],
   "source": [
    "order = 10\n",
    "nvars = 10\n",
    "\n",
    "X_r = [i+0.5 for i in range(1,nvars+1)]\n",
    "X   = [i+0.5+oti.e(i,order=order) for i in range(1,nvars+1)]\n",
    "\n",
    "print('Total number of derivatives to be computed: {}'.format(coti.ndir_total(nvars,order)))"
   ]
  },
  {
   "cell_type": "code",
   "execution_count": 4,
   "id": "023161f4",
   "metadata": {},
   "outputs": [
    {
     "name": "stdout",
     "output_type": "stream",
     "text": [
      "6.06 µs ± 422 ns per loop (mean ± std. dev. of 4 runs, 100,000 loops each)\n"
     ]
    }
   ],
   "source": [
    "%timeit -r 4 f_x_fwd_numpy(X_r)"
   ]
  },
  {
   "cell_type": "code",
   "execution_count": 5,
   "id": "09f6da75",
   "metadata": {},
   "outputs": [
    {
     "name": "stdout",
     "output_type": "stream",
     "text": [
      "7.35 s ± 221 ms per loop (mean ± std. dev. of 4 runs, 1 loop each)\n"
     ]
    }
   ],
   "source": [
    "%timeit -r 4 f_x_fwd_oti(X)"
   ]
  },
  {
   "cell_type": "code",
   "execution_count": 6,
   "id": "68c8b21f",
   "metadata": {},
   "outputs": [
    {
     "name": "stdout",
     "output_type": "stream",
     "text": [
      "11.1 ms ± 563 µs per loop (mean ± std. dev. of 4 runs, 100 loops each)\n"
     ]
    }
   ],
   "source": [
    "%timeit -r 4 f_x_rev_oti(X)"
   ]
  },
  {
   "cell_type": "code",
   "execution_count": 7,
   "id": "5d22f1f0",
   "metadata": {},
   "outputs": [
    {
     "name": "stdout",
     "output_type": "stream",
     "text": [
      "fwd/real: 1212871.29\n",
      "rev/real: 1831.68\n",
      "fwd/rev : 662.16x (speedup of reverse w.r.t fwd.)\n"
     ]
    }
   ],
   "source": [
    "# Ratios from the run:\n",
    "convFact = {}\n",
    "convFact['ns']=1e-9\n",
    "convFact['µs']=1e-6\n",
    "convFact['ms']=1e-3\n",
    "convFact['s'] =1\n",
    "\n",
    "# Change to the values obtained in your computer.\n",
    "\n",
    "realRun   = 6.06*convFact['µs'] # 6.06 µs ± 422 ns per loop (mean ± std. dev. of 4 runs, 100,000 loops each)\n",
    "otiFwdRun = 7.35*convFact['s']  # 7.35 s ± 221 ms  per loop (mean ± std. dev. of 4 runs, 1 loop each)\n",
    "otiRevRun = 11.1*convFact['ms'] # 11.1 ms ± 563 µs per loop (mean ± std. dev. of 4 runs, 100 loops each)\n",
    "\n",
    "print('fwd/real: {0:.2f}'.format(otiFwdRun/realRun))\n",
    "print('rev/real: {0:.2f}'.format(otiRevRun/realRun))\n",
    "print('fwd/rev : {0:.2f}x (speedup of reverse w.r.t fwd.)'.format(otiFwdRun/otiRevRun))"
   ]
  },
  {
   "cell_type": "code",
   "execution_count": 8,
   "id": "3da74545",
   "metadata": {},
   "outputs": [],
   "source": [
    "f_fwd = f_x_fwd_oti(X)\n",
    "f_rev = f_x_rev_oti(X)"
   ]
  },
  {
   "cell_type": "code",
   "execution_count": 9,
   "id": "9a911a3e",
   "metadata": {},
   "outputs": [
    {
     "name": "stdout",
     "output_type": "stream",
     "text": [
      " + 0 * e([1]) + 0 * e([2]) + 0 * e([3]) + 0 * e([4]) + ... \n"
     ]
    }
   ],
   "source": [
    "diff = f_rev - f_fwd\n",
    "print(diff)"
   ]
  },
  {
   "cell_type": "code",
   "execution_count": 10,
   "id": "6c3b6fc6",
   "metadata": {},
   "outputs": [
    {
     "data": {
      "text/plain": [
       " - 6.12156e-28 * e([[1,10]]) - 9.56731e-27 * e([[1,9],2]) - 7.73462e-26 * e([[1,8],[2,2]]) - 8.07794e-26 * e([[1,7],[2,3]]) + ... "
      ]
     },
     "execution_count": 10,
     "metadata": {},
     "output_type": "execute_result"
    }
   ],
   "source": [
    "diff.get_order_im(10)"
   ]
  },
  {
   "cell_type": "code",
   "execution_count": 11,
   "id": "1b1da2d3",
   "metadata": {},
   "outputs": [
    {
     "data": {
      "text/plain": [
       " - 2.64698e-23 * e([[1,5]]) - 9.52912e-22 * e([[1,4],2]) - 2.96462e-21 * e([[1,3],[2,2]]) - 3.38813e-21 * e([[1,2],[2,3]]) + ... "
      ]
     },
     "execution_count": 11,
     "metadata": {},
     "output_type": "execute_result"
    }
   ],
   "source": [
    "diff.get_order_im(5)"
   ]
  },
  {
   "cell_type": "code",
   "execution_count": null,
   "id": "3a9f32be",
   "metadata": {},
   "outputs": [],
   "source": []
  }
 ],
 "metadata": {
  "kernelspec": {
   "display_name": "pyoti",
   "language": "python",
   "name": "pyoti"
  },
  "language_info": {
   "codemirror_mode": {
    "name": "ipython",
    "version": 3
   },
   "file_extension": ".py",
   "mimetype": "text/x-python",
   "name": "python",
   "nbconvert_exporter": "python",
   "pygments_lexer": "ipython3",
   "version": "3.9.13"
  }
 },
 "nbformat": 4,
 "nbformat_minor": 5
}
