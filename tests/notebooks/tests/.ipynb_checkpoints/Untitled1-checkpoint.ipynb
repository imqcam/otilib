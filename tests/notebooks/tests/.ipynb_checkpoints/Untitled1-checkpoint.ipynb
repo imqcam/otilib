{
 "cells": [
  {
   "cell_type": "code",
   "execution_count": 21,
   "metadata": {},
   "outputs": [
    {
     "name": "stdout",
     "output_type": "stream",
     "text": [
      "../../../include/oti/static\n",
      "['onumm2n2', 'onumm2n5', 'mdnum3', 'mdnum4', 'mdnum5', 'mdnum2', 'onumm1n3', 'onumm1n2', 'onumm1n5', 'onumm10n1', 'onumm3n3', 'onumm1n10', 'onumm3n2', 'onumm1n1']\n",
      "onumm2n2\n",
      "onumm2n5\n",
      "mdnum3\n",
      "mdnum4\n",
      "mdnum5\n",
      "mdnum2\n",
      "onumm1n3\n",
      "onumm1n2\n",
      "onumm1n5\n",
      "onumm10n1\n",
      "onumm3n3\n",
      "onumm1n10\n",
      "onumm3n2\n",
      "onumm1n1\n"
     ]
    }
   ],
   "source": [
    "import os\n",
    "\n",
    "\n",
    "folders={}\n",
    "\n",
    "files_to_process = []\n",
    "\n",
    "location = '../../../include/oti/'+ key\n",
    "# r=>root, d=>directories, f=>files\n",
    "for r, d, f in os.walk(location):\n",
    "    print(r)\n",
    "    print(d)\n",
    "    for item in d:\n",
    "        print(item)\n",
    "        folders[os.path.join(r,item)]=[]\n",
    "    #\n",
    "    break\n",
    "#\n",
    "# r=>root, d=>directories, f=>files\n",
    "for key, files_in_dir in folders.items():\n",
    "  location = key\n",
    "  for r, d, f in os.walk(location):\n",
    "    for item in f:\n",
    "      if '.h' in item:\n",
    "        files_in_dir.append(os.path.join(r, item))\n",
    "      #\n",
    "    #\n",
    "  #\n",
    "#"
   ]
  },
  {
   "cell_type": "code",
   "execution_count": 23,
   "metadata": {},
   "outputs": [
    {
     "data": {
      "text/plain": [
       "['../../../include/oti/static/onumm2n2/array/utils.h',\n",
       " '../../../include/oti/static/onumm2n2/array/algebra_elementwise.h',\n",
       " '../../../include/oti/static/onumm2n2/array/algebra_matops.h',\n",
       " '../../../include/oti/static/onumm2n2/array/gauss.h',\n",
       " '../../../include/oti/static/onumm2n2/array/functions.h',\n",
       " '../../../include/oti/static/onumm2n2/array/structures.h',\n",
       " '../../../include/oti/static/onumm2n2/array/base.h',\n",
       " '../../../include/oti/static/onumm2n2/array/gauss/utils.h',\n",
       " '../../../include/oti/static/onumm2n2/array/gauss/algebra.h',\n",
       " '../../../include/oti/static/onumm2n2/array/gauss/functions.h',\n",
       " '../../../include/oti/static/onumm2n2/array/gauss/structures.h',\n",
       " '../../../include/oti/static/onumm2n2/array/gauss/base.h',\n",
       " '../../../include/oti/static/onumm2n2/scalar/utils.h',\n",
       " '../../../include/oti/static/onumm2n2/scalar/algebra.h',\n",
       " '../../../include/oti/static/onumm2n2/scalar/gauss.h',\n",
       " '../../../include/oti/static/onumm2n2/scalar/functions.h',\n",
       " '../../../include/oti/static/onumm2n2/scalar/structures.h',\n",
       " '../../../include/oti/static/onumm2n2/scalar/base.h',\n",
       " '../../../include/oti/static/onumm2n2/scalar/gauss/utils.h',\n",
       " '../../../include/oti/static/onumm2n2/scalar/gauss/algebra.h',\n",
       " '../../../include/oti/static/onumm2n2/scalar/gauss/functions.h',\n",
       " '../../../include/oti/static/onumm2n2/scalar/gauss/structures.h',\n",
       " '../../../include/oti/static/onumm2n2/scalar/gauss/base.h']"
      ]
     },
     "execution_count": 23,
     "metadata": {},
     "output_type": "execute_result"
    }
   ],
   "source": [
    "folders['../../../include/oti/static/onumm2n2']"
   ]
  },
  {
   "cell_type": "code",
   "execution_count": 3,
   "metadata": {},
   "outputs": [
    {
     "data": {
      "text/plain": [
       "['mdnum5.h',\n",
       " 'onumm2n2',\n",
       " 'onumm2n5',\n",
       " 'mdnum3',\n",
       " 'mdnum4',\n",
       " 'onumm1n3.h',\n",
       " 'mdnum5',\n",
       " 'mdnum2',\n",
       " 'onumm3n3.h',\n",
       " 'onumm1n3',\n",
       " 'mdnum2.h',\n",
       " 'onumm1n2',\n",
       " 'onumm1n5',\n",
       " 'onumm10n1.h',\n",
       " 'mdnum3.h',\n",
       " 'onumm1n1.h',\n",
       " 'onumm2n5.h',\n",
       " 'onumm10n1',\n",
       " 'onumm1n5.h',\n",
       " 'onumm3n3',\n",
       " 'mdnum4.h',\n",
       " 'onumm1n10',\n",
       " 'onumm3n2',\n",
       " 'onumm1n1',\n",
       " 'onumm1n2.h',\n",
       " 'onumm1n10.h',\n",
       " 'onumm3n2.h',\n",
       " 'onumm2n2.h']"
      ]
     },
     "execution_count": 3,
     "metadata": {},
     "output_type": "execute_result"
    }
   ],
   "source": [
    "\n",
    "os.listdir('../../../include/oti/static/')"
   ]
  },
  {
   "cell_type": "code",
   "execution_count": 1,
   "metadata": {},
   "outputs": [],
   "source": [
    "import scipy.sparse as spr\n",
    "import scipy.sparse.linalg as spla\n",
    "import sys\n",
    "import os\n",
    "path2oti = '../../../build/'\n",
    "sys.path.append(path2oti) # Add path to OTI library.\n",
    "\n",
    "import pyoti.sparse as oti\n",
    "import pyoti.core   as coti"
   ]
  },
  {
   "cell_type": "code",
   "execution_count": 2,
   "metadata": {},
   "outputs": [],
   "source": [
    "import pyoti.static.onumm1n1 as dual"
   ]
  },
  {
   "cell_type": "code",
   "execution_count": null,
   "metadata": {},
   "outputs": [],
   "source": []
  }
 ],
 "metadata": {
  "kernelspec": {
   "display_name": "Python 3",
   "language": "python",
   "name": "python3"
  },
  "language_info": {
   "codemirror_mode": {
    "name": "ipython",
    "version": 3
   },
   "file_extension": ".py",
   "mimetype": "text/x-python",
   "name": "python",
   "nbconvert_exporter": "python",
   "pygments_lexer": "ipython3",
   "version": "3.7.3"
  }
 },
 "nbformat": 4,
 "nbformat_minor": 2
}
