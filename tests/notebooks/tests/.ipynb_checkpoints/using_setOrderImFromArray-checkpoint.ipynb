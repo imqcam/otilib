{
 "cells": [
  {
   "cell_type": "code",
   "execution_count": 2,
   "id": "ecb58b59",
   "metadata": {},
   "outputs": [],
   "source": [
    "import pyoti.sparse as oti\n",
    "import numpy as np"
   ]
  },
  {
   "cell_type": "code",
   "execution_count": 5,
   "id": "b939900b",
   "metadata": {},
   "outputs": [
    {
     "data": {
      "text/plain": [
       "matso< shape: (3, 2), \n",
       " - Column 0\n",
       "(0,0)  + 1 * e([[1,2]]) + 1 * e([1,2]) + 1 * e([[2,2]])\n",
       "(1,0)  + 1 * e([[1,2]]) + 1 * e([1,2]) + 1 * e([[2,2]])\n",
       "(2,0)  + 1 * e([[1,2]]) + 1 * e([1,2]) + 1 * e([[2,2]])\n",
       " - Column 1\n",
       "(0,1)  + 1 * e([[1,2]]) + 1 * e([1,2]) + 1 * e([[2,2]])\n",
       "(1,1)  + 1 * e([[1,2]]) + 1 * e([1,2]) + 1 * e([[2,2]])\n",
       "(2,1)  + 1 * e([[1,2]]) + 1 * e([1,2]) + 1 * e([[2,2]])\n",
       ">"
      ]
     },
     "execution_count": 5,
     "metadata": {},
     "output_type": "execute_result"
    }
   ],
   "source": [
    "X = oti.zeros((3,2))\n",
    "X_im_2 = np.ones((3,2*3))# Second order terms. The shape should be (nrows,ncols*nimDir_pOrder)\n",
    "oti.set_order_im_from_array(2,X_im_2,X)\n",
    "print(X)"
   ]
  },
  {
   "cell_type": "code",
   "execution_count": 4,
   "id": "4acbaa6b",
   "metadata": {},
   "outputs": [
    {
     "name": "stdout",
     "output_type": "stream",
     "text": [
      "Help on built-in function set_order_im_from_array in module pyoti.sparse:\n",
      "\n",
      "set_order_im_from_array(...)\n",
      "    PURPOSE:   Set a specific order from an array.\n",
      "    \n",
      "    INPUTS:\n",
      "      - ordi: Order to set the array.\n",
      "      - arr: Array to be set.\n",
      "      - tmp: matso array that receives the imaginary directions.\n",
      "\n"
     ]
    }
   ],
   "source": [
    "help(oti.set_order_im_from_array)"
   ]
  },
  {
   "cell_type": "code",
   "execution_count": null,
   "id": "ae1206d8",
   "metadata": {},
   "outputs": [],
   "source": []
  }
 ],
 "metadata": {
  "kernelspec": {
   "display_name": "pyoti",
   "language": "python",
   "name": "pyoti"
  },
  "language_info": {
   "codemirror_mode": {
    "name": "ipython",
    "version": 3
   },
   "file_extension": ".py",
   "mimetype": "text/x-python",
   "name": "python",
   "nbconvert_exporter": "python",
   "pygments_lexer": "ipython3",
   "version": "3.9.13"
  }
 },
 "nbformat": 4,
 "nbformat_minor": 5
}
