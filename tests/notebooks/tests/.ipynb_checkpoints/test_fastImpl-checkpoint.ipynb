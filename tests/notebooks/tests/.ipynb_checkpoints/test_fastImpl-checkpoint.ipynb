{
 "cells": [
  {
   "cell_type": "markdown",
   "metadata": {},
   "source": [
    "# Test of the modifications for fast implementation.\n",
    "\n",
    "\n",
    "This is ment to test the new implementation for the fast implementation methods.\n"
   ]
  },
  {
   "cell_type": "code",
   "execution_count": 1,
   "metadata": {
    "collapsed": true
   },
   "outputs": [],
   "source": [
    "import otilib as oti\n",
    "np = oti.np\n",
    "h = oti.get_dHelp()\n",
    "e = oti.e\n",
    "import scipy as sp\n"
   ]
  },
  {
   "cell_type": "code",
   "execution_count": 4,
   "metadata": {},
   "outputs": [
    {
     "name": "stdout",
     "output_type": "stream",
     "text": [
      "[[[ 0., 0., 0.],\n",
      "  [ 0., 0., 0.]],\n",
      "\n",
      " [[ 0., 0., 0.],\n",
      "  [ 0., 0., 0.]],\n",
      "\n",
      " [[ 0., 0., 0.],\n",
      "  [ 0., 0., 0.]]]\n"
     ]
    }
   ],
   "source": [
    "A = oti.zeros(shape=(3,2),maxorder = 2,m=1)\n",
    "print(A)\n",
    "# print(A.size)"
   ]
  },
  {
   "cell_type": "code",
   "execution_count": 3,
   "metadata": {},
   "outputs": [
    {
     "name": "stdout",
     "output_type": "stream",
     "text": [
      "0 + 0 * e([1]) + 3.5 * e([[1,2]]) \n",
      "[[[ 0. , 0. , 0. ],\n",
      "  [ 0. , 0. , 0. ]],\n",
      "\n",
      " [[ 0. , 0. , 0. ],\n",
      "  [ 0. , 0. , 0. ]],\n",
      "\n",
      " [[ 0. , 0. , 3.5],\n",
      "  [ 0. , 0. , 0. ]]]\n"
     ]
    }
   ],
   "source": [
    "a_oti = A[2,0]\n",
    "\n",
    "a_oti[2]=3.5\n",
    "\n",
    "\n",
    "print(a_oti)\n",
    "\n",
    "print(A)"
   ]
  },
  {
   "cell_type": "code",
   "execution_count": 4,
   "metadata": {
    "collapsed": true
   },
   "outputs": [],
   "source": [
    "A[0,0] = a_oti"
   ]
  },
  {
   "cell_type": "code",
   "execution_count": 5,
   "metadata": {},
   "outputs": [
    {
     "data": {
      "text/plain": [
       "otiarray( order = 2,\n",
       "[[[ 0. , 0. , 3.5],\n",
       "  [ 0. , 0. , 0. ]],\n",
       "\n",
       " [[ 0. , 0. , 0. ],\n",
       "  [ 0. , 0. , 0. ]],\n",
       "\n",
       " [[ 0. , 0. , 3.5],\n",
       "  [ 0. , 0. , 0. ]]] \n",
       " )"
      ]
     },
     "execution_count": 5,
     "metadata": {},
     "output_type": "execute_result"
    }
   ],
   "source": [
    "A\n"
   ]
  },
  {
   "cell_type": "code",
   "execution_count": 6,
   "metadata": {},
   "outputs": [
    {
     "data": {
      "text/plain": [
       "array([[ 3.5,  0. ],\n",
       "       [ 0. ,  0. ],\n",
       "       [ 3.5,  0. ]])"
      ]
     },
     "execution_count": 6,
     "metadata": {},
     "output_type": "execute_result"
    }
   ],
   "source": [
    "A.getDual([[1,2]])"
   ]
  },
  {
   "cell_type": "code",
   "execution_count": null,
   "metadata": {
    "collapsed": true
   },
   "outputs": [],
   "source": []
  },
  {
   "cell_type": "code",
   "execution_count": 7,
   "metadata": {},
   "outputs": [
    {
     "name": "stdout",
     "output_type": "stream",
     "text": [
      "174 ns ± 5.45 ns per loop (mean ± std. dev. of 7 runs, 10000000 loops each)\n"
     ]
    }
   ],
   "source": [
    "# %timeit a_oti = A[0,0] # Does not take much...\n",
    "% timeit a_oti = A[0,0] # Does not take much..."
   ]
  },
  {
   "cell_type": "code",
   "execution_count": 8,
   "metadata": {},
   "outputs": [
    {
     "data": {
      "text/plain": [
       "otinum([0.0,3.5,3.5], 2)"
      ]
     },
     "execution_count": 8,
     "metadata": {},
     "output_type": "execute_result"
    }
   ],
   "source": [
    "a_oti = A[0,0]\n",
    "\n",
    "a_oti[1] = 3.5\n",
    "a_oti\n",
    "# a_oti = A[0,0] # Does not take much..."
   ]
  },
  {
   "cell_type": "code",
   "execution_count": 9,
   "metadata": {
    "collapsed": true
   },
   "outputs": [],
   "source": [
    "\n",
    "# a_oti[5]=2.5\n",
    "# a_oti*a_oti"
   ]
  },
  {
   "cell_type": "code",
   "execution_count": 10,
   "metadata": {},
   "outputs": [
    {
     "data": {
      "text/plain": [
       "otiarray( order = 2,\n",
       "[[[ 0. , 3.5, 3.5],\n",
       "  [ 0. , 0. , 0. ]],\n",
       "\n",
       " [[ 0. , 0. , 0. ],\n",
       "  [ 0. , 0. , 0. ]],\n",
       "\n",
       " [[ 0. , 0. , 3.5],\n",
       "  [ 0. , 0. , 0. ]]] \n",
       " )"
      ]
     },
     "execution_count": 10,
     "metadata": {},
     "output_type": "execute_result"
    }
   ],
   "source": [
    "A"
   ]
  },
  {
   "cell_type": "code",
   "execution_count": 13,
   "metadata": {},
   "outputs": [
    {
     "data": {
      "text/plain": [
       "array([[ 7.,  0.],\n",
       "       [ 0.,  0.],\n",
       "       [ 7.,  0.]])"
      ]
     },
     "execution_count": 13,
     "metadata": {},
     "output_type": "execute_result"
    }
   ],
   "source": [
    "A.getDeriv([[1,2]])"
   ]
  },
  {
   "cell_type": "code",
   "execution_count": null,
   "metadata": {
    "collapsed": true
   },
   "outputs": [],
   "source": []
  },
  {
   "cell_type": "code",
   "execution_count": 7,
   "metadata": {},
   "outputs": [
    {
     "name": "stdout",
     "output_type": "stream",
     "text": [
      "1 - 2.5366 * e([1]) + 3 * e([[1,2]]) + 4 * e([[1,3]]) + 5 * e([[1,4]]) + 6 * e([[1,5]]) + 7 * e([2]) + 8 * e([1,2]) + 9 * e([[1,2],2]) + 10 * e([[1,3],2]) + 0 * e([[1,4],2]) + 0 * e([[2,2]]) + 0 * e([1,[2,2]]) + 0 * e([[1,2],[2,2]]) + 0 * e([[1,3],[2,2]]) + 0 * e([[2,3]]) + 0 * e([1,[2,3]]) + 0 * e([[1,2],[2,3]]) + 0 * e([[2,4]]) + 0 * e([1,[2,4]]) + 0 * e([[2,5]]) \n"
     ]
    },
    {
     "data": {
      "text/plain": [
       "21"
      ]
     },
     "execution_count": 7,
     "metadata": {},
     "output_type": "execute_result"
    }
   ],
   "source": [
    "x = oti.otinum([1.,-2.5366,3,4,5,6,7,8,9,10],5)\n",
    "print(x)\n",
    "x.Ndir"
   ]
  },
  {
   "cell_type": "code",
   "execution_count": 6,
   "metadata": {},
   "outputs": [
    {
     "data": {
      "text/plain": [
       "21"
      ]
     },
     "execution_count": 6,
     "metadata": {},
     "output_type": "execute_result"
    }
   ],
   "source": [
    "len(x.toVector())"
   ]
  },
  {
   "cell_type": "code",
   "execution_count": 4,
   "metadata": {},
   "outputs": [
    {
     "name": "stdout",
     "output_type": "stream",
     "text": [
      "307 ns ± 3.51 ns per loop (mean ± std. dev. of 7 runs, 1000000 loops each)\n"
     ]
    },
    {
     "data": {
      "text/plain": [
       "otinum([0.8414709848078965,-1.3705308290651232,1.6209069176044193,2.161209223472559,2.701511529340699,3.2418138352088386,3.7821161410769784,4.322418446945118,4.862720752813258,5.403023058681398], 1)"
      ]
     },
     "execution_count": 4,
     "metadata": {},
     "output_type": "execute_result"
    }
   ],
   "source": [
    "%timeit oti.sin(x)\n",
    "oti.sin(x)"
   ]
  },
  {
   "cell_type": "code",
   "execution_count": 3,
   "metadata": {},
   "outputs": [
    {
     "name": "stdout",
     "output_type": "stream",
     "text": [
      "[[  1.       0.       0.       0.       0.       0.       0.       0.       0.\n",
      "    0.    ]\n",
      " [ -2.5366   1.       0.       0.       0.       0.       0.       0.       0.\n",
      "    0.    ]\n",
      " [  3.       0.       1.       0.       0.       0.       0.       0.       0.\n",
      "    0.    ]\n",
      " [  4.       0.       0.       1.       0.       0.       0.       0.       0.\n",
      "    0.    ]\n",
      " [  5.       0.       0.       0.       1.       0.       0.       0.       0.\n",
      "    0.    ]\n",
      " [  6.       0.       0.       0.       0.       1.       0.       0.       0.\n",
      "    0.    ]\n",
      " [  7.       0.       0.       0.       0.       0.       1.       0.       0.\n",
      "    0.    ]\n",
      " [  8.       0.       0.       0.       0.       0.       0.       1.       0.\n",
      "    0.    ]\n",
      " [  9.       0.       0.       0.       0.       0.       0.       0.       1.\n",
      "    0.    ]\n",
      " [ 10.       0.       0.       0.       0.       0.       0.       0.       0.\n",
      "    1.    ]]\n",
      "598 µs ± 6.81 µs per loop (mean ± std. dev. of 7 runs, 1000 loops each)\n"
     ]
    },
    {
     "data": {
      "text/plain": [
       "array([ 0.84147098, -1.37053083,  1.62090692,  2.16120922,  2.70151153,\n",
       "        3.24181384,  3.78211614,  4.32241845,  4.86272075,  5.40302306])"
      ]
     },
     "execution_count": 3,
     "metadata": {},
     "output_type": "execute_result"
    }
   ],
   "source": [
    "X = x.toMatrix()\n",
    "print(X)\n",
    "%timeit sp.linalg.sinm(X)\n",
    "\n",
    "sp.linalg.sinm(X)[:,0]\n",
    "\n",
    "\n",
    "\n",
    "%timeit oti.sin(x)\n",
    "oti.sin(x)"
   ]
  },
  {
   "cell_type": "code",
   "execution_count": 5,
   "metadata": {},
   "outputs": [
    {
     "name": "stdout",
     "output_type": "stream",
     "text": [
      "537 ns ± 27.5 ns per loop (mean ± std. dev. of 7 runs, 1000000 loops each)\n"
     ]
    }
   ],
   "source": [
    "%timeit x*x"
   ]
  },
  {
   "cell_type": "code",
   "execution_count": 36,
   "metadata": {},
   "outputs": [
    {
     "name": "stdout",
     "output_type": "stream",
     "text": [
      "639 ns ± 12.6 ns per loop (mean ± std. dev. of 7 runs, 1000000 loops each)\n"
     ]
    }
   ],
   "source": [
    "%timeit oti.tan(x)"
   ]
  },
  {
   "cell_type": "code",
   "execution_count": 12,
   "metadata": {
    "collapsed": true
   },
   "outputs": [],
   "source": [
    "a = oti.otinum([1.,3.,5.], 2)\n",
    "b = oti.otinum([7.,9.,11.], 2)"
   ]
  },
  {
   "cell_type": "code",
   "execution_count": 4,
   "metadata": {},
   "outputs": [
    {
     "data": {
      "text/plain": [
       "otinum([1.0,-3.0,4.0], 2)"
      ]
     },
     "execution_count": 4,
     "metadata": {},
     "output_type": "execute_result"
    }
   ],
   "source": [
    "oti.power(a,-1)"
   ]
  },
  {
   "cell_type": "code",
   "execution_count": 7,
   "metadata": {},
   "outputs": [
    {
     "name": "stdout",
     "output_type": "stream",
     "text": [
      "632 ns ± 4.74 ns per loop (mean ± std. dev. of 7 runs, 1000000 loops each)\n"
     ]
    }
   ],
   "source": [
    "%timeit a**(10)"
   ]
  },
  {
   "cell_type": "code",
   "execution_count": 13,
   "metadata": {},
   "outputs": [
    {
     "data": {
      "text/plain": [
       "otinum([0.14285714285714285,0.24489795918367346,0.17492711370262393], 2)"
      ]
     },
     "execution_count": 13,
     "metadata": {},
     "output_type": "execute_result"
    }
   ],
   "source": [
    "(a)*b**(-1)"
   ]
  },
  {
   "cell_type": "code",
   "execution_count": null,
   "metadata": {
    "collapsed": true
   },
   "outputs": [],
   "source": []
  },
  {
   "cell_type": "code",
   "execution_count": null,
   "metadata": {
    "collapsed": true
   },
   "outputs": [],
   "source": [
    "\n"
   ]
  },
  {
   "cell_type": "code",
   "execution_count": null,
   "metadata": {
    "collapsed": true
   },
   "outputs": [],
   "source": [
    "\n"
   ]
  },
  {
   "cell_type": "code",
   "execution_count": 13,
   "metadata": {},
   "outputs": [
    {
     "data": {
      "text/plain": [
       "[1.55740772,\n",
       " -8.68917104,\n",
       " 44.6033042,\n",
       " -221.738295,\n",
       " 17.1275941,\n",
       " -114.772708,\n",
       " 933.751419,\n",
       " 160.777387,\n",
       " -1663.50624,\n",
       " 1642.36204]"
      ]
     },
     "execution_count": 13,
     "metadata": {},
     "output_type": "execute_result"
    }
   ],
   "source": [
    "[1.55740772e+00,-8.68917104e+00,4.46033042e+01,-2.21738295e+02,\n",
    "1.71275941e+01,-1.14772708e+02,9.33751419e+02,1.60777387e+02,\n",
    "-1.66350624e+03,1.64236204e+03]"
   ]
  },
  {
   "cell_type": "code",
   "execution_count": 14,
   "metadata": {
    "collapsed": true
   },
   "outputs": [],
   "source": [
    "b = (oti.tan2(x))"
   ]
  },
  {
   "cell_type": "code",
   "execution_count": 7,
   "metadata": {},
   "outputs": [
    {
     "ename": "TypeError",
     "evalue": "power() takes exactly 2 positional arguments (0 given)",
     "output_type": "error",
     "traceback": [
      "\u001b[0;31m---------------------------------------------------------------------------\u001b[0m",
      "\u001b[0;31mTypeError\u001b[0m                                 Traceback (most recent call last)",
      "\u001b[0;32m<ipython-input-7-3f5f344870fb>\u001b[0m in \u001b[0;36m<module>\u001b[0;34m()\u001b[0m\n\u001b[0;32m----> 1\u001b[0;31m \u001b[0moti\u001b[0m\u001b[0;34m.\u001b[0m\u001b[0mpower\u001b[0m\u001b[0;34m(\u001b[0m\u001b[0;34m)\u001b[0m\u001b[0;34m\u001b[0m\u001b[0m\n\u001b[0m",
      "\u001b[0;32m/Users/mauriaristi/Dropbox/EAFIT/PHD/Thesis-MAC/DUAL/spr_otilibv0.7/otilib.pyx\u001b[0m in \u001b[0;36motilib.power (otilib.c:14395)\u001b[0;34m()\u001b[0m\n\u001b[1;32m   8029\u001b[0m \u001b[0;34m\u001b[0m\u001b[0m\n\u001b[1;32m   8030\u001b[0m \u001b[0;31m#*****************************************************************************************************\u001b[0m\u001b[0;34m\u001b[0m\u001b[0;34m\u001b[0m\u001b[0m\n\u001b[0;32m-> 8031\u001b[0;31m \u001b[0;32mdef\u001b[0m \u001b[0mpower\u001b[0m\u001b[0;34m(\u001b[0m\u001b[0motinum\u001b[0m \u001b[0mval\u001b[0m\u001b[0;34m,\u001b[0m \u001b[0mdouble\u001b[0m \u001b[0mexponent\u001b[0m\u001b[0;34m)\u001b[0m\u001b[0;34m:\u001b[0m\u001b[0;34m\u001b[0m\u001b[0m\n\u001b[0m\u001b[1;32m   8032\u001b[0m   \"\"\"\n\u001b[1;32m   8033\u001b[0m   \u001b[0mPURPOSE\u001b[0m\u001b[0;34m:\u001b[0m  \u001b[0mPower\u001b[0m \u001b[0mfunction\u001b[0m \u001b[0;32mfor\u001b[0m \u001b[0mOTI\u001b[0m \u001b[0mnumbers\u001b[0m\u001b[0;34m,\u001b[0m \u001b[0;32mfor\u001b[0m \u001b[0mnon\u001b[0m \u001b[0minteger\u001b[0m \u001b[0mexponents\u001b[0m\u001b[0;34m.\u001b[0m\u001b[0;34m\u001b[0m\u001b[0m\n",
      "\u001b[0;31mTypeError\u001b[0m: power() takes exactly 2 positional arguments (0 given)"
     ]
    }
   ],
   "source": [
    "oti.power()"
   ]
  },
  {
   "cell_type": "code",
   "execution_count": 42,
   "metadata": {},
   "outputs": [
    {
     "name": "stdout",
     "output_type": "stream",
     "text": [
      "1 + 2.5366 * e([1]) + 3.43434 * e([[1,2]]) - 2.89825 * e([[1,3]]) - 5 * e([2]) - 31.366 * e([1,2]) - 103.954 * e([[1,2],2]) + 17 * e([[2,2]]) + 200.659 * e([1,[2,2]]) - 55 * e([[2,3]]) \n",
      "[   0.            0.            3.43433956   -2.89825427   -5.          -31.366\n",
      " -103.9542934    17.          200.6594      -55.        ]\n"
     ]
    }
   ],
   "source": [
    "print(oti.power(x,-1))\n",
    "print(oti.power(x,-1).coefs)\n",
    "# [1.0,2.5366,3.4343395599999997,-2.8982542721040025,-5.0,-31.366,-103.95429339999998,17.0,200.6594,-55.0]"
   ]
  },
  {
   "cell_type": "code",
   "execution_count": 6,
   "metadata": {},
   "outputs": [
    {
     "data": {
      "text/plain": [
       "[1.0,\n",
       " 2.5366,\n",
       " 3.43433956,\n",
       " -2.89825427,\n",
       " -5.0,\n",
       " -31.366,\n",
       " -103.9542934,\n",
       " 17.0,\n",
       " 200.6594,\n",
       " -55.0]"
      ]
     },
     "execution_count": 6,
     "metadata": {},
     "output_type": "execute_result"
    }
   ],
   "source": [
    "[1.,2.5366,3.43433956,-2.89825427,-5.,\n",
    "-31.366,-103.9542934,17.,200.6594,-55.]"
   ]
  },
  {
   "cell_type": "code",
   "execution_count": 4,
   "metadata": {},
   "outputs": [
    {
     "data": {
      "text/plain": [
       "array([ -1.55740772e+00,   8.68917104e+00,  -4.46033042e+01,\n",
       "         2.21738295e+02,  -1.71275941e+01,   1.14772708e+02,\n",
       "        -9.33751419e+02,  -1.60777387e+02,   1.66350624e+03,\n",
       "        -1.64236204e+03])"
      ]
     },
     "execution_count": 4,
     "metadata": {},
     "output_type": "execute_result"
    }
   ],
   "source": [
    "b.coefs"
   ]
  },
  {
   "cell_type": "code",
   "execution_count": null,
   "metadata": {
    "collapsed": true
   },
   "outputs": [],
   "source": []
  },
  {
   "cell_type": "code",
   "execution_count": 2,
   "metadata": {},
   "outputs": [
    {
     "name": "stdout",
     "output_type": "stream",
     "text": [
      "1 - 2.5366 * e([1]) + 3 * e([[1,2]]) + 4 * e([[1,3]]) + 5 * e([2]) + 6 * e([1,2]) + 7 * e([[1,2],2]) + 8 * e([[2,2]]) + 9 * e([1,[2,2]]) + 10 * e([[2,3]]) \n"
     ]
    }
   ],
   "source": [
    "x = oti.otinum([1.,-2.5366,3,4,5,6,7,8,9,10],3)\n",
    "print(x)"
   ]
  },
  {
   "cell_type": "code",
   "execution_count": 3,
   "metadata": {},
   "outputs": [
    {
     "data": {
      "text/plain": [
       "otinum([2.718281828459045,-6.895193686069214,16.90001963741872,-17.20678999572769,13.591409142295225,-18.1662774595918,62.15690886989162,55.72477748341042,-35.33847925451614,192.54496284918238], 3)"
      ]
     },
     "execution_count": 3,
     "metadata": {},
     "output_type": "execute_result"
    }
   ],
   "source": [
    "oti.exp(x)"
   ]
  },
  {
   "cell_type": "code",
   "execution_count": null,
   "metadata": {
    "collapsed": true
   },
   "outputs": [],
   "source": []
  },
  {
   "cell_type": "code",
   "execution_count": null,
   "metadata": {
    "collapsed": true
   },
   "outputs": [],
   "source": []
  },
  {
   "cell_type": "code",
   "execution_count": null,
   "metadata": {
    "collapsed": true
   },
   "outputs": [],
   "source": []
  },
  {
   "cell_type": "code",
   "execution_count": null,
   "metadata": {
    "collapsed": true
   },
   "outputs": [],
   "source": []
  },
  {
   "cell_type": "code",
   "execution_count": null,
   "metadata": {
    "collapsed": true
   },
   "outputs": [],
   "source": []
  },
  {
   "cell_type": "code",
   "execution_count": null,
   "metadata": {
    "collapsed": true
   },
   "outputs": [],
   "source": []
  },
  {
   "cell_type": "code",
   "execution_count": 6,
   "metadata": {},
   "outputs": [
    {
     "name": "stdout",
     "output_type": "stream",
     "text": [
      "1 - 2.5366 * e([1]) + 3 * e([[1,2]]) + 4 * e([[1,3]]) + 5 * e([2]) + 6 * e([1,2]) + 7 * e([[1,2],2]) + 8 * e([[2,2]]) + 9 * e([1,[2,2]]) + 10 * e([[2,3]]) \n"
     ]
    }
   ],
   "source": [
    "x = oti.otinum([1.,-2.5366,3,4,5,6,7,8,9,10],3)\n",
    "print(x)"
   ]
  },
  {
   "cell_type": "code",
   "execution_count": 5,
   "metadata": {},
   "outputs": [
    {
     "data": {
      "text/plain": [
       "otinum([1.0,-253.66,32149.980821999998,-2714098.6242007827,500.0,-124961.7,15605016.56278,124550.0,-30665615.22,20609500.0], 3)"
      ]
     },
     "execution_count": 5,
     "metadata": {},
     "output_type": "execute_result"
    }
   ],
   "source": [
    "oti.power(x,100.)"
   ]
  },
  {
   "cell_type": "code",
   "execution_count": 4,
   "metadata": {},
   "outputs": [
    {
     "name": "stdout",
     "output_type": "stream",
     "text": [
      "7.38 µs ± 62.3 ns per loop (mean ± std. dev. of 7 runs, 100000 loops each)\n"
     ]
    }
   ],
   "source": [
    "%timeit oti.power(x,100.)"
   ]
  },
  {
   "cell_type": "code",
   "execution_count": 5,
   "metadata": {},
   "outputs": [
    {
     "name": "stdout",
     "output_type": "stream",
     "text": [
      "11.6 µs ± 73.4 ns per loop (mean ± std. dev. of 7 runs, 100000 loops each)\n"
     ]
    }
   ],
   "source": [
    "%timeit x*x*x*x*x*x*x*x*x*x # power 10\n"
   ]
  },
  {
   "cell_type": "code",
   "execution_count": null,
   "metadata": {
    "collapsed": true
   },
   "outputs": [],
   "source": []
  },
  {
   "cell_type": "code",
   "execution_count": null,
   "metadata": {
    "collapsed": true
   },
   "outputs": [],
   "source": []
  },
  {
   "cell_type": "code",
   "execution_count": null,
   "metadata": {
    "collapsed": true
   },
   "outputs": [],
   "source": []
  },
  {
   "cell_type": "code",
   "execution_count": null,
   "metadata": {
    "collapsed": true
   },
   "outputs": [],
   "source": []
  },
  {
   "cell_type": "code",
   "execution_count": null,
   "metadata": {
    "collapsed": true
   },
   "outputs": [],
   "source": []
  },
  {
   "cell_type": "code",
   "execution_count": null,
   "metadata": {
    "collapsed": true
   },
   "outputs": [],
   "source": []
  },
  {
   "cell_type": "code",
   "execution_count": null,
   "metadata": {
    "collapsed": true
   },
   "outputs": [],
   "source": [
    "print(oti.otinum(5.3,5,m=2))"
   ]
  },
  {
   "cell_type": "code",
   "execution_count": null,
   "metadata": {
    "collapsed": true
   },
   "outputs": [],
   "source": []
  },
  {
   "cell_type": "code",
   "execution_count": null,
   "metadata": {
    "collapsed": true
   },
   "outputs": [],
   "source": []
  },
  {
   "cell_type": "code",
   "execution_count": null,
   "metadata": {
    "collapsed": true
   },
   "outputs": [],
   "source": []
  },
  {
   "cell_type": "code",
   "execution_count": null,
   "metadata": {
    "collapsed": true
   },
   "outputs": [],
   "source": []
  },
  {
   "cell_type": "code",
   "execution_count": null,
   "metadata": {
    "collapsed": true
   },
   "outputs": [],
   "source": []
  },
  {
   "cell_type": "code",
   "execution_count": null,
   "metadata": {
    "collapsed": true
   },
   "outputs": [],
   "source": []
  },
  {
   "cell_type": "code",
   "execution_count": null,
   "metadata": {
    "collapsed": true
   },
   "outputs": [],
   "source": [
    "x = e(1,order = 2)\n",
    "print(x)"
   ]
  },
  {
   "cell_type": "code",
   "execution_count": null,
   "metadata": {
    "collapsed": true
   },
   "outputs": [],
   "source": [
    "% timeit oti.power(x,2)"
   ]
  },
  {
   "cell_type": "code",
   "execution_count": null,
   "metadata": {
    "collapsed": true
   },
   "outputs": [],
   "source": []
  },
  {
   "cell_type": "code",
   "execution_count": null,
   "metadata": {
    "collapsed": true
   },
   "outputs": [],
   "source": []
  },
  {
   "cell_type": "code",
   "execution_count": null,
   "metadata": {
    "collapsed": true
   },
   "outputs": [],
   "source": []
  },
  {
   "cell_type": "code",
   "execution_count": null,
   "metadata": {
    "collapsed": true
   },
   "outputs": [],
   "source": []
  },
  {
   "cell_type": "code",
   "execution_count": null,
   "metadata": {
    "collapsed": true
   },
   "outputs": [],
   "source": []
  },
  {
   "cell_type": "code",
   "execution_count": null,
   "metadata": {
    "collapsed": true
   },
   "outputs": [],
   "source": []
  },
  {
   "cell_type": "code",
   "execution_count": null,
   "metadata": {
    "collapsed": true
   },
   "outputs": [],
   "source": []
  },
  {
   "cell_type": "code",
   "execution_count": null,
   "metadata": {
    "collapsed": true
   },
   "outputs": [],
   "source": [
    "%timeit oti.findComb(11,2)\n",
    "%timeit h.getNels(10,2)"
   ]
  },
  {
   "cell_type": "code",
   "execution_count": null,
   "metadata": {
    "collapsed": true
   },
   "outputs": [],
   "source": [
    "gg = 10.5*e([[1,3]], m=2, order = 4)+4.5*e([[1,2],[2,2]], m=2, order = 4)\n",
    "print(gg)\n",
    "%timeit e([[1,3]], m=2, order = 4)"
   ]
  },
  {
   "cell_type": "code",
   "execution_count": null,
   "metadata": {
    "collapsed": true
   },
   "outputs": [],
   "source": [
    "# a = oti.otinum(range(1000),5)\n",
    "# b = oti.otinum(range(1000),5)\n",
    "\n",
    "a = oti.otinum(range(1,10),2)\n",
    "b = oti.otinum(range(1,10),2)\n",
    "\n",
    "# a = oti.otinum([1.,-2.5366,3,4,5,6,7,8,9,10],3)\n",
    "# b = oti.otinum([1.,5,6,7,9,10,17],3)"
   ]
  },
  {
   "cell_type": "code",
   "execution_count": null,
   "metadata": {
    "collapsed": true
   },
   "outputs": [],
   "source": [
    "print(a)"
   ]
  },
  {
   "cell_type": "code",
   "execution_count": null,
   "metadata": {
    "collapsed": true
   },
   "outputs": [],
   "source": [
    "10.5*a"
   ]
  },
  {
   "cell_type": "code",
   "execution_count": null,
   "metadata": {
    "collapsed": true
   },
   "outputs": [],
   "source": [
    "\n",
    "h.multIndxFast(0,2,3),h.merror"
   ]
  },
  {
   "cell_type": "code",
   "execution_count": null,
   "metadata": {
    "collapsed": true
   },
   "outputs": [],
   "source": [
    "%timeit a.toMatrix()"
   ]
  },
  {
   "cell_type": "code",
   "execution_count": null,
   "metadata": {
    "collapsed": true
   },
   "outputs": [],
   "source": [
    "b.Ndir"
   ]
  },
  {
   "cell_type": "code",
   "execution_count": null,
   "metadata": {
    "collapsed": true
   },
   "outputs": [],
   "source": [
    "b"
   ]
  },
  {
   "cell_type": "code",
   "execution_count": null,
   "metadata": {
    "collapsed": true
   },
   "outputs": [],
   "source": [
    "print(b)"
   ]
  },
  {
   "cell_type": "code",
   "execution_count": null,
   "metadata": {
    "collapsed": true
   },
   "outputs": [],
   "source": [
    "%timeit b.coefs\n",
    "np_b = b.coefs\n",
    "np_b"
   ]
  },
  {
   "cell_type": "code",
   "execution_count": null,
   "metadata": {
    "collapsed": true
   },
   "outputs": [],
   "source": [
    "print(np_b.base)"
   ]
  },
  {
   "cell_type": "code",
   "execution_count": null,
   "metadata": {
    "collapsed": true
   },
   "outputs": [],
   "source": [
    "a[2] = 200"
   ]
  },
  {
   "cell_type": "code",
   "execution_count": null,
   "metadata": {
    "collapsed": true
   },
   "outputs": [],
   "source": [
    "a"
   ]
  },
  {
   "cell_type": "code",
   "execution_count": null,
   "metadata": {
    "collapsed": true
   },
   "outputs": [],
   "source": [
    "b"
   ]
  },
  {
   "cell_type": "code",
   "execution_count": null,
   "metadata": {
    "collapsed": true
   },
   "outputs": [],
   "source": [
    "b.getDeriv([[1,3]])"
   ]
  },
  {
   "cell_type": "code",
   "execution_count": null,
   "metadata": {
    "collapsed": true
   },
   "outputs": [],
   "source": []
  },
  {
   "cell_type": "code",
   "execution_count": null,
   "metadata": {
    "collapsed": true
   },
   "outputs": [],
   "source": []
  },
  {
   "cell_type": "code",
   "execution_count": null,
   "metadata": {
    "collapsed": true
   },
   "outputs": [],
   "source": []
  },
  {
   "cell_type": "code",
   "execution_count": null,
   "metadata": {
    "collapsed": true
   },
   "outputs": [],
   "source": [
    "b.getDual([[1,2],2])"
   ]
  },
  {
   "cell_type": "code",
   "execution_count": null,
   "metadata": {
    "collapsed": true
   },
   "outputs": [],
   "source": [
    "\n",
    "%timeit a*b\n",
    "# list((a*b).coefs)"
   ]
  },
  {
   "cell_type": "code",
   "execution_count": null,
   "metadata": {
    "collapsed": true
   },
   "outputs": [],
   "source": [
    "print(a)\n",
    "print()\n",
    "print(b)"
   ]
  },
  {
   "cell_type": "code",
   "execution_count": null,
   "metadata": {
    "collapsed": true
   },
   "outputs": [],
   "source": [
    "print(a+b)"
   ]
  },
  {
   "cell_type": "code",
   "execution_count": null,
   "metadata": {
    "collapsed": true
   },
   "outputs": [],
   "source": [
    "a-=a\n",
    "print(a)"
   ]
  },
  {
   "cell_type": "code",
   "execution_count": null,
   "metadata": {
    "collapsed": true
   },
   "outputs": [],
   "source": [
    "%timeit a+b\n",
    "\n",
    "# With same order\n",
    "# With self.__class__: 257 ns ± 5.16 ns per loop (mean ± std. dev. of 7 runs, 1000000 loops each)\n",
    "# With type(self):     211 ns ± 5.9 ns per loop (mean ± std. dev. of 7 runs, 1000000 loops each)\n",
    "# BEFORE:             20.2 µs ± 1.22 µs per loop (mean ± std. dev. of 7 runs, 10000 loops each)\n",
    "\n",
    "\n",
    "\n",
    "# Changing order:      1.93 µs ± 21.5 ns per loop (mean ± std. dev. of 7 runs, 1000000 loops each)\n",
    "# BEFORE:              68.7 µs ± 1.94 µs per loop (mean ± std. dev. of 7 runs, 10000 loops each)"
   ]
  },
  {
   "cell_type": "code",
   "execution_count": null,
   "metadata": {
    "collapsed": true
   },
   "outputs": [],
   "source": [
    "print(b-a)"
   ]
  },
  {
   "cell_type": "code",
   "execution_count": null,
   "metadata": {
    "collapsed": true
   },
   "outputs": [],
   "source": [
    "%timeit a-b"
   ]
  },
  {
   "cell_type": "code",
   "execution_count": null,
   "metadata": {
    "collapsed": true,
    "scrolled": false
   },
   "outputs": [],
   "source": [
    "# sum big numers (with lots of directions)\n",
    "abig = oti.otinum(range(1000),2)\n",
    "bbig = oti.otinum(range(1000),2)\n",
    "# print(abig)\n",
    "# print()\n",
    "# print(bbig)\n",
    "bbig.Ndir"
   ]
  },
  {
   "cell_type": "code",
   "execution_count": null,
   "metadata": {
    "collapsed": true
   },
   "outputs": [],
   "source": [
    "%timeit abig+bbig"
   ]
  },
  {
   "cell_type": "code",
   "execution_count": null,
   "metadata": {
    "collapsed": true
   },
   "outputs": [],
   "source": [
    "(a*b).coefs\n",
    "\n"
   ]
  },
  {
   "cell_type": "code",
   "execution_count": null,
   "metadata": {
    "collapsed": true
   },
   "outputs": [],
   "source": [
    "print(b)"
   ]
  },
  {
   "cell_type": "code",
   "execution_count": null,
   "metadata": {
    "collapsed": true
   },
   "outputs": [],
   "source": [
    "%timeit a.coefs"
   ]
  },
  {
   "cell_type": "code",
   "execution_count": null,
   "metadata": {
    "collapsed": true
   },
   "outputs": [],
   "source": [
    "mv_a = np.array(a.coefs)"
   ]
  },
  {
   "cell_type": "code",
   "execution_count": null,
   "metadata": {
    "collapsed": true
   },
   "outputs": [],
   "source": [
    "ai = 30\n",
    "bi = 50.5\n",
    "\n",
    "# %timeit ai+ai+ai"
   ]
  },
  {
   "cell_type": "code",
   "execution_count": null,
   "metadata": {
    "collapsed": true
   },
   "outputs": [],
   "source": [
    "type(a.__class__)"
   ]
  },
  {
   "cell_type": "code",
   "execution_count": null,
   "metadata": {
    "collapsed": true
   },
   "outputs": [],
   "source": [
    "%timeit ai.__class__"
   ]
  },
  {
   "cell_type": "code",
   "execution_count": null,
   "metadata": {
    "collapsed": true
   },
   "outputs": [],
   "source": [
    "%timeit type(ai)"
   ]
  },
  {
   "cell_type": "code",
   "execution_count": null,
   "metadata": {
    "collapsed": true
   },
   "outputs": [],
   "source": []
  },
  {
   "cell_type": "code",
   "execution_count": null,
   "metadata": {
    "collapsed": true
   },
   "outputs": [],
   "source": []
  },
  {
   "cell_type": "code",
   "execution_count": null,
   "metadata": {
    "collapsed": true
   },
   "outputs": [],
   "source": [
    "mv_a[0] = 100.5"
   ]
  },
  {
   "cell_type": "code",
   "execution_count": null,
   "metadata": {
    "collapsed": true,
    "scrolled": false
   },
   "outputs": [],
   "source": [
    "print(a)\n",
    "# for i in range(10):\n",
    "#     print(oti.getDirArray(i,5),oti.printOrderPos(oti.getDirArray(i,5)))"
   ]
  },
  {
   "cell_type": "code",
   "execution_count": null,
   "metadata": {
    "collapsed": true
   },
   "outputs": [],
   "source": [
    "a.changeOrder(5)"
   ]
  },
  {
   "cell_type": "code",
   "execution_count": null,
   "metadata": {
    "collapsed": true
   },
   "outputs": [],
   "source": [
    "type(mv_a)==np.ndarray"
   ]
  },
  {
   "cell_type": "code",
   "execution_count": null,
   "metadata": {
    "collapsed": true
   },
   "outputs": [],
   "source": [
    "a.Ndir"
   ]
  },
  {
   "cell_type": "code",
   "execution_count": null,
   "metadata": {
    "collapsed": true
   },
   "outputs": [],
   "source": [
    "%timeit a.changeOrder(1)          # Takes about 900 ns\n",
    "print(\"New Number of directions: \",a.Ndir)\n",
    "\n",
    "\n",
    "print(a)"
   ]
  },
  {
   "cell_type": "code",
   "execution_count": null,
   "metadata": {
    "collapsed": true
   },
   "outputs": [],
   "source": [
    "\n",
    "\n",
    "%timeit a.changeOrder(2)\n",
    "print(\"New Number of directions: \",a.Ndir)\n",
    "\n",
    "\n",
    "print(a)"
   ]
  },
  {
   "cell_type": "code",
   "execution_count": null,
   "metadata": {
    "collapsed": true
   },
   "outputs": [],
   "source": [
    "-a"
   ]
  },
  {
   "cell_type": "code",
   "execution_count": null,
   "metadata": {
    "collapsed": true
   },
   "outputs": [],
   "source": [
    "%timeit a[1]        # before: 473 ns"
   ]
  },
  {
   "cell_type": "code",
   "execution_count": null,
   "metadata": {
    "collapsed": true
   },
   "outputs": [],
   "source": [
    "%timeit (-a)       # before: 2.87 µs"
   ]
  },
  {
   "cell_type": "code",
   "execution_count": null,
   "metadata": {
    "collapsed": true
   },
   "outputs": [],
   "source": [
    "%timeit (a.copy())   # before: 1.89 µs"
   ]
  },
  {
   "cell_type": "code",
   "execution_count": null,
   "metadata": {
    "collapsed": true
   },
   "outputs": [],
   "source": [
    "c = a\n",
    "c[0] = -5.0\n",
    "a"
   ]
  },
  {
   "cell_type": "code",
   "execution_count": null,
   "metadata": {
    "collapsed": true
   },
   "outputs": [],
   "source": [
    "\n",
    "# % timeit -n 1000 float in oti.number_types\n",
    "oti.number_types\n",
    "\n",
    "t1 = type(8)\n",
    "t2 = type(10)\n",
    "\n",
    "%timeit (t1 is t2)"
   ]
  },
  {
   "cell_type": "code",
   "execution_count": null,
   "metadata": {
    "collapsed": true
   },
   "outputs": [],
   "source": [
    "isinstance(oti.np.float32,oti.np.float)"
   ]
  },
  {
   "cell_type": "code",
   "execution_count": null,
   "metadata": {
    "collapsed": true
   },
   "outputs": [],
   "source": []
  },
  {
   "cell_type": "code",
   "execution_count": null,
   "metadata": {
    "collapsed": true
   },
   "outputs": [],
   "source": [
    "%timeit a[100] = 3.0 # before 487 ns"
   ]
  },
  {
   "cell_type": "code",
   "execution_count": null,
   "metadata": {
    "collapsed": true
   },
   "outputs": [],
   "source": [
    "a[100] = 3.0\n",
    "a\n"
   ]
  },
  {
   "cell_type": "code",
   "execution_count": null,
   "metadata": {
    "collapsed": true
   },
   "outputs": [],
   "source": [
    "h.findMaxDir(100,2)"
   ]
  },
  {
   "cell_type": "code",
   "execution_count": null,
   "metadata": {
    "collapsed": true
   },
   "outputs": [],
   "source": [
    "h.getNels(13,2)"
   ]
  },
  {
   "cell_type": "code",
   "execution_count": null,
   "metadata": {
    "collapsed": true
   },
   "outputs": [],
   "source": []
  },
  {
   "cell_type": "code",
   "execution_count": null,
   "metadata": {
    "collapsed": true
   },
   "outputs": [],
   "source": []
  },
  {
   "cell_type": "code",
   "execution_count": null,
   "metadata": {
    "collapsed": true
   },
   "outputs": [],
   "source": []
  },
  {
   "cell_type": "code",
   "execution_count": null,
   "metadata": {
    "collapsed": true
   },
   "outputs": [],
   "source": []
  },
  {
   "cell_type": "code",
   "execution_count": null,
   "metadata": {
    "collapsed": true
   },
   "outputs": [],
   "source": []
  },
  {
   "cell_type": "code",
   "execution_count": null,
   "metadata": {
    "collapsed": true
   },
   "outputs": [],
   "source": [
    "\n",
    "multRes = np.load(\"data/multres_n4_m10.npy\")\n",
    "multInd = np.load(\"data/multind_n4_m10.npy\")"
   ]
  },
  {
   "cell_type": "code",
   "execution_count": null,
   "metadata": {
    "collapsed": true
   },
   "outputs": [],
   "source": [
    "i = 15\n",
    "j = 6\n",
    "\n",
    "(i-1)*((i-1)+1)//2+(j-1)"
   ]
  },
  {
   "cell_type": "code",
   "execution_count": null,
   "metadata": {
    "collapsed": true
   },
   "outputs": [],
   "source": [
    "multInd[27]\n",
    "# multRes[27]"
   ]
  },
  {
   "cell_type": "code",
   "execution_count": null,
   "metadata": {
    "collapsed": true
   },
   "outputs": [],
   "source": [
    "multRes[23]\n",
    "\n",
    "print(h.getDirA(15,4), h.getExpA(15,4))\n",
    "print(h.getDirA(6,4), h.getExpA(6,4))\n",
    "print(h.getDirA(20,4), h.getExpA(20,4))"
   ]
  },
  {
   "cell_type": "code",
   "execution_count": null,
   "metadata": {
    "collapsed": true
   },
   "outputs": [],
   "source": [
    "indx\n",
    "\n",
    "\n"
   ]
  },
  {
   "cell_type": "code",
   "execution_count": null,
   "metadata": {
    "collapsed": true
   },
   "outputs": [],
   "source": [
    "multRes"
   ]
  },
  {
   "cell_type": "code",
   "execution_count": null,
   "metadata": {
    "collapsed": true
   },
   "outputs": [],
   "source": []
  },
  {
   "cell_type": "code",
   "execution_count": null,
   "metadata": {
    "collapsed": true,
    "scrolled": false
   },
   "outputs": [],
   "source": [
    "# How many directions can be passed to a number of N bytes\n",
    "N = 16 # 128 bits\n",
    "N = 8  # 64 bits\n",
    "\n",
    "\n",
    "\n",
    "Nbits = N*8\n",
    "maxnum = (2**(N*8)-1)\n",
    "nchars = len(str(maxnum))\n",
    "\n",
    "# Get the maximum number of basis that can be represented by this number \n",
    "for i in range(1,100):\n",
    "    print(\"\\n ==== \\nFor order: \",i)\n",
    "    baseRep = np.base_repr(maxnum,i+1)\n",
    "    \n",
    "#     print(baseRep)\n",
    "    if (int(baseRep[0],i+1) == i):\n",
    "        maxBasis = len(baseRep)\n",
    "    else:\n",
    "        maxBasis = len(baseRep)-1\n",
    "    print(\"Maximum number of directions: \", maxBasis)\n",
    "    \n"
   ]
  },
  {
   "cell_type": "code",
   "execution_count": null,
   "metadata": {
    "collapsed": true
   },
   "outputs": [],
   "source": []
  },
  {
   "cell_type": "code",
   "execution_count": null,
   "metadata": {
    "collapsed": true
   },
   "outputs": [],
   "source": []
  },
  {
   "cell_type": "code",
   "execution_count": null,
   "metadata": {
    "collapsed": true
   },
   "outputs": [],
   "source": []
  },
  {
   "cell_type": "code",
   "execution_count": null,
   "metadata": {
    "collapsed": true
   },
   "outputs": [],
   "source": []
  },
  {
   "cell_type": "code",
   "execution_count": null,
   "metadata": {
    "collapsed": true
   },
   "outputs": [],
   "source": []
  },
  {
   "cell_type": "code",
   "execution_count": null,
   "metadata": {
    "collapsed": true
   },
   "outputs": [],
   "source": []
  },
  {
   "cell_type": "code",
   "execution_count": null,
   "metadata": {
    "collapsed": true
   },
   "outputs": [],
   "source": []
  },
  {
   "cell_type": "code",
   "execution_count": null,
   "metadata": {
    "collapsed": true
   },
   "outputs": [],
   "source": []
  },
  {
   "cell_type": "code",
   "execution_count": null,
   "metadata": {
    "collapsed": true
   },
   "outputs": [],
   "source": []
  },
  {
   "cell_type": "code",
   "execution_count": null,
   "metadata": {
    "collapsed": true
   },
   "outputs": [],
   "source": []
  },
  {
   "cell_type": "code",
   "execution_count": null,
   "metadata": {
    "collapsed": true
   },
   "outputs": [],
   "source": []
  },
  {
   "cell_type": "code",
   "execution_count": null,
   "metadata": {
    "collapsed": true
   },
   "outputs": [],
   "source": []
  },
  {
   "cell_type": "code",
   "execution_count": null,
   "metadata": {
    "collapsed": true
   },
   "outputs": [],
   "source": []
  },
  {
   "cell_type": "code",
   "execution_count": null,
   "metadata": {
    "collapsed": true
   },
   "outputs": [],
   "source": []
  },
  {
   "cell_type": "code",
   "execution_count": null,
   "metadata": {
    "collapsed": true
   },
   "outputs": [],
   "source": []
  },
  {
   "cell_type": "code",
   "execution_count": null,
   "metadata": {
    "collapsed": true
   },
   "outputs": [],
   "source": [
    "%timeit h.multIndx(6,15,2)       # before: 1.6 µs (current 647 ns  2.4x faster)"
   ]
  },
  {
   "cell_type": "code",
   "execution_count": null,
   "metadata": {
    "collapsed": true
   },
   "outputs": [],
   "source": [
    "# binary search for direction array:\n",
    "index = 120\n",
    "order = 2\n",
    "print('Direction: ',h.getDirA(index,order),h.getExpA(index,order))\n",
    "Dir = h.getDirA(index,order)\n",
    "Exp = h.getExpA(index,order)\n",
    "\n",
    "print(\"Index of direction is\", h.findIndx(h.getDirA(index,order),h.getExpA(index,order)) )\n",
    "\n",
    "%timeit h.findIndx(Dir,Exp)\n",
    "\n",
    "h.getNels(10,order)\n"
   ]
  },
  {
   "cell_type": "code",
   "execution_count": null,
   "metadata": {
    "collapsed": true
   },
   "outputs": [],
   "source": [
    "# Check partitions...\n",
    "# Check the number of partitions.\n",
    "for i in range(1,11):\n",
    "    print(h.getNParts(i),\"\\t\",len(oti.partition.Partition(range(0,i)))==h.getNParts(i))"
   ]
  },
  {
   "cell_type": "code",
   "execution_count": null,
   "metadata": {
    "collapsed": true
   },
   "outputs": [],
   "source": [
    "# Find maximum directions\n",
    "# 60 (maximum direction for order 2 is 10)\n",
    "indx = 0\n",
    "order = 6\n",
    "print(\"Max direction is: \",h.findMaxDir(indx,order))\n",
    "print(\"Directions in index are: \",h.getDirA(indx,order))\n",
    "%timeit h.findMaxDir(indx,order)"
   ]
  },
  {
   "cell_type": "code",
   "execution_count": null,
   "metadata": {
    "collapsed": true
   },
   "outputs": [],
   "source": [
    "# Check partitions...\n",
    "# Check the partition set.\n",
    "for order in range(1,5+1):\n",
    "    \n",
    "    print(\"\\n\\n ORDER: \",order)\n",
    "    \n",
    "    for i in range(0,h.getNParts(order)):\n",
    "        string = \"[\"\n",
    "        for j in range(0,order):\n",
    "            string += str(h.getSet(order,i,j)) + \",\\t\"\n",
    "        string+=\"]\"\n",
    "        print(string)"
   ]
  },
  {
   "cell_type": "code",
   "execution_count": null,
   "metadata": {
    "collapsed": true
   },
   "outputs": [],
   "source": [
    "m = 10\n",
    "n = 9\n",
    "print(h.getNels(m,n) )\n",
    "print(oti.comb(m+n,m,exact = True))"
   ]
  },
  {
   "cell_type": "code",
   "execution_count": null,
   "metadata": {
    "collapsed": true
   },
   "outputs": [],
   "source": [
    "order = 2\n",
    "list(oti.partition.Partition(range(1,order+1)))"
   ]
  },
  {
   "cell_type": "code",
   "execution_count": null,
   "metadata": {
    "collapsed": true
   },
   "outputs": [],
   "source": [
    "h.getNParts(1)"
   ]
  },
  {
   "cell_type": "code",
   "execution_count": null,
   "metadata": {
    "collapsed": true
   },
   "outputs": [],
   "source": [
    "\n",
    "h.getSet(order,i,j)"
   ]
  },
  {
   "cell_type": "code",
   "execution_count": null,
   "metadata": {
    "collapsed": true
   },
   "outputs": [],
   "source": [
    "(16**16).bit_length()"
   ]
  },
  {
   "cell_type": "code",
   "execution_count": null,
   "metadata": {
    "collapsed": true
   },
   "outputs": [],
   "source": [
    "(2**64-1).bit_length()"
   ]
  },
  {
   "cell_type": "code",
   "execution_count": null,
   "metadata": {
    "collapsed": true
   },
   "outputs": [],
   "source": [
    "# multiply directions\n",
    "\n",
    "index1 = 1\n",
    "index2 = 10\n",
    "order = 2\n",
    "print('Direction 1: ',h.getDirA(index1,order),h.getExpA(index1,order))\n",
    "print('Direction 2: ',h.getDirA(index2,order),h.getExpA(index2,order))\n",
    "indres = h.multIndx(index1,index2,order)\n",
    "if h.merror == 0:\n",
    "    \n",
    "    print(\"resulting direction: \",indres,h.getDirA(indres,order),h.getExpA(indres,order))\n",
    "    \n",
    "else:\n",
    "    \n",
    "    print(\"multiplication not possible.\")\n",
    "    \n",
    "% timeit h.multIndx(index1,index2,order)\n"
   ]
  },
  {
   "cell_type": "code",
   "execution_count": null,
   "metadata": {
    "collapsed": true
   },
   "outputs": [],
   "source": [
    "\n",
    "len(oti.np.array([[1,2,3],[4,5,6]]))"
   ]
  },
  {
   "cell_type": "code",
   "execution_count": null,
   "metadata": {
    "collapsed": true
   },
   "outputs": [],
   "source": [
    "len(1)"
   ]
  },
  {
   "cell_type": "code",
   "execution_count": null,
   "metadata": {
    "collapsed": true
   },
   "outputs": [],
   "source": [
    "%timeit  h.multIndxFast(2,2,2)\n",
    "# SLOW: 443 ns ± 6.19 ns per loop (mean ± std. dev. of 7 runs, 1000000 loops each)\n",
    "# FAST: 245 ns ± 5.31 ns per loop (mean ± std. dev. of 7 runs, 1000000 loops each)"
   ]
  },
  {
   "cell_type": "code",
   "execution_count": null,
   "metadata": {
    "collapsed": true
   },
   "outputs": [],
   "source": [
    "h.multIndx(2,2,4)"
   ]
  },
  {
   "cell_type": "code",
   "execution_count": null,
   "metadata": {
    "collapsed": true
   },
   "outputs": [],
   "source": [
    "h.multIndxFast(2,2,4)"
   ]
  },
  {
   "cell_type": "code",
   "execution_count": null,
   "metadata": {
    "collapsed": true
   },
   "outputs": [],
   "source": []
  },
  {
   "cell_type": "code",
   "execution_count": null,
   "metadata": {
    "collapsed": true
   },
   "outputs": [],
   "source": []
  },
  {
   "cell_type": "code",
   "execution_count": null,
   "metadata": {
    "collapsed": true
   },
   "outputs": [],
   "source": []
  },
  {
   "cell_type": "code",
   "execution_count": null,
   "metadata": {
    "collapsed": true
   },
   "outputs": [],
   "source": []
  },
  {
   "cell_type": "code",
   "execution_count": null,
   "metadata": {
    "collapsed": true
   },
   "outputs": [],
   "source": []
  },
  {
   "cell_type": "code",
   "execution_count": null,
   "metadata": {
    "collapsed": true
   },
   "outputs": [],
   "source": []
  }
 ],
 "metadata": {
  "kernelspec": {
   "display_name": "Python 3",
   "language": "python",
   "name": "python3"
  },
  "language_info": {
   "codemirror_mode": {
    "name": "ipython",
    "version": 3
   },
   "file_extension": ".py",
   "mimetype": "text/x-python",
   "name": "python",
   "nbconvert_exporter": "python",
   "pygments_lexer": "ipython3",
   "version": "3.6.8"
  }
 },
 "nbformat": 4,
 "nbformat_minor": 2
}
