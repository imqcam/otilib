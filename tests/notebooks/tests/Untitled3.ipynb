{
 "cells": [
  {
   "cell_type": "code",
   "execution_count": 1,
   "metadata": {},
   "outputs": [],
   "source": [
    "import sys\n",
    "path2oti = '../../../build/'\n",
    "sys.path.append(path2oti) # Add path to OTI library.\n",
    "\n",
    "import pyoti.real   as r\n",
    "import pyoti.sparse as oti \n",
    "import pyoti.core   as coti\n",
    "\n",
    "np = oti.np"
   ]
  },
  {
   "cell_type": "code",
   "execution_count": 2,
   "metadata": {},
   "outputs": [],
   "source": [
    "x = 3.5+oti.e(1,order=3)\n",
    "y = 4.5+oti.e(2,order=3)"
   ]
  },
  {
   "cell_type": "code",
   "execution_count": 4,
   "metadata": {},
   "outputs": [],
   "source": [
    "\n",
    "X = oti.array([[x, 2*x,  x*y],[ y, 2*y, y*x],[ x, y, x/y]])"
   ]
  },
  {
   "cell_type": "code",
   "execution_count": 7,
   "metadata": {},
   "outputs": [
    {
     "name": "stdout",
     "output_type": "stream",
     "text": [
      "15.4 µs ± 322 ns per loop (mean ± std. dev. of 7 runs, 100000 loops each)\n"
     ]
    }
   ],
   "source": [
    "%timeit oti.dot(X,X)"
   ]
  },
  {
   "cell_type": "code",
   "execution_count": 8,
   "metadata": {},
   "outputs": [
    {
     "data": {
      "text/plain": [
       "matso< shape: (3, 3), \n",
       " - Column 0\n",
       "(0,0) 1.62222 + 0.324444 * e([1]) - 0.533827 * e([2]) + 1.36267 * e([[1,2]]) - 2.2481 * e([1,2]) + 0.960406 * e([[2,2]]) + 0.532089 * e([[1,3]]) - 2.08361 * e([[1,2],2]) + 2.31131 * e([1,[2,2]]) - 0.787824 * e([[2,3]])\n",
       "(1,0) -1.31111 - 0.662222 * e([1]) + 0.766914 * e([2]) - 1.18133 * e([[1,2]]) + 2.12405 * e([1,2]) - 0.980203 * e([[2,2]]) - 0.766044 * e([[1,3]]) + 2.54181 * e([[1,2],2]) - 2.65566 * e([1,[2,2]]) + 0.893912 * e([[2,3]])\n",
       "(2,0) 0.285714 + 0.204082 * e([1]) - 0.285714 * e([2]) + 0.227405 * e([[1,2]]) - 0.489796 * e([1,2]) + 0.285714 * e([[2,2]]) + 0.220741 * e([[1,3]]) - 0.717201 * e([[1,2],2]) + 0.77551 * e([1,[2,2]]) - 0.285714 * e([[2,3]])\n",
       " - Column 1\n",
       "(0,1) -1.66173 - 0.29284 * e([1]) + 0.535583 * e([2]) - 1.38795 * e([[1,2]]) + 2.25934 * e([1,2]) - 0.965556 * e([[2,2]]) - 0.511862 * e([[1,3]]) + 2.06451 * e([[1,2],2]) - 2.3027 * e([1,[2,2]]) + 0.787498 * e([[2,3]])\n",
       "(1,1) 1.33086 + 0.64642 * e([1]) - 0.767791 * e([2]) + 1.19398 * e([[1,2]]) - 2.12967 * e([1,2]) + 0.982778 * e([[2,2]]) + 0.755931 * e([[1,3]]) - 2.53226 * e([[1,2],2]) + 2.65135 * e([1,[2,2]]) - 0.893749 * e([[2,3]])\n",
       "(2,1) -0.222222 - 0.222222 * e([1]) + 0.271605 * e([2]) - 0.222222 * e([[1,2]]) + 0.493827 * e([1,2]) - 0.282579 * e([[2,2]]) - 0.222222 * e([[1,3]]) + 0.716049 * e([[1,2],2]) - 0.776406 * e([1,[2,2]]) + 0.285018 * e([[2,3]])\n",
       " - Column 2\n",
       "(0,2) 0.8 - 0.64 * e([1]) + 0.32 * e([2]) + 0.512 * e([[1,2]]) - 0.512 * e([1,2]) + 0.128 * e([[2,2]]) - 0.4096 * e([[1,3]]) + 0.6144 * e([[1,2],2]) - 0.3072 * e([1,[2,2]]) + 0.0512 * e([[2,3]])\n",
       "(1,2) -0.4 + 0.32 * e([1]) - 0.16 * e([2]) - 0.256 * e([[1,2]]) + 0.256 * e([1,2]) - 0.064 * e([[2,2]]) + 0.2048 * e([[1,3]]) - 0.3072 * e([[1,2],2]) + 0.1536 * e([1,[2,2]]) - 0.0256 * e([[2,3]])\n",
       "(2,2) -0 - 0 * e([1]) - 0 * e([2]) + 0 * e([[1,2]]) + 0 * e([1,2]) + 0 * e([[2,2]]) - 0 * e([[1,3]]) + 0 * e([[1,2],2]) + 0 * e([1,[2,2]]) - 0 * e([[2,3]])\n",
       ">"
      ]
     },
     "execution_count": 8,
     "metadata": {},
     "output_type": "execute_result"
    }
   ],
   "source": [
    "oti.inv(X)"
   ]
  },
  {
   "cell_type": "code",
   "execution_count": 9,
   "metadata": {},
   "outputs": [
    {
     "data": {
      "text/plain": [
       "array([[ 3.5       ,  7.        , 15.75      ],\n",
       "       [ 4.5       ,  9.        , 15.75      ],\n",
       "       [ 3.5       ,  4.5       ,  0.77777778]])"
      ]
     },
     "execution_count": 9,
     "metadata": {},
     "output_type": "execute_result"
    }
   ],
   "source": [
    "X.real"
   ]
  },
  {
   "cell_type": "code",
   "execution_count": 10,
   "metadata": {},
   "outputs": [
    {
     "data": {
      "text/plain": [
       "array([[ 1.62222222e+00, -1.66172840e+00,  8.00000000e-01],\n",
       "       [-1.31111111e+00,  1.33086420e+00, -4.00000000e-01],\n",
       "       [ 2.85714286e-01, -2.22222222e-01,  1.01506105e-16]])"
      ]
     },
     "execution_count": 10,
     "metadata": {},
     "output_type": "execute_result"
    }
   ],
   "source": [
    "np.linalg.inv(X.real)"
   ]
  },
  {
   "cell_type": "code",
   "execution_count": 13,
   "metadata": {},
   "outputs": [
    {
     "data": {
      "text/plain": [
       "matso< shape: (3, 3), \n",
       " - Column 0\n",
       "(0,0) 0.285714 - 0.0816327 * e([1]) + 0 * e([2]) + 0.0233236 * e([[1,2]]) + 0 * e([1,2]) + 2.58944e-18 * e([[2,2]]) - 0.00666389 * e([[1,3]]) + 0 * e([[1,2],2]) - 2.21952e-18 * e([1,[2,2]]) + 0 * e([[2,3]])\n",
       "(1,0) 0\n",
       "(2,0) 0\n",
       " - Column 1\n",
       "(0,1) 0\n",
       "(1,1) 0.222222 - 2.77556e-17 * e([1]) - 0.0493827 * e([2]) + 0 * e([[1,2]]) + 6.93889e-18 * e([1,2]) + 0.0109739 * e([[2,2]]) - 1.38778e-17 * e([[1,3]]) + 0 * e([[1,2],2]) - 2.60209e-18 * e([1,[2,2]]) - 0.00243865 * e([[2,3]])\n",
       "(2,1) 0\n",
       " - Column 2\n",
       "(0,2) 0\n",
       "(1,2) 0\n",
       "(2,2) 1.28571 - 0.367347 * e([1]) + 0.285714 * e([2]) + 0.104956 * e([[1,2]]) - 0.0816327 * e([1,2]) + 1.16525e-17 * e([[2,2]]) - 0.0299875 * e([[1,3]]) + 0.0233236 * e([[1,2],2]) - 9.98785e-18 * e([1,[2,2]]) + 2.58944e-18 * e([[2,3]])\n",
       ">"
      ]
     },
     "execution_count": 13,
     "metadata": {},
     "output_type": "execute_result"
    }
   ],
   "source": [
    "X = oti.array([[x, 0,  0],[ 0, y, 0],[ 0, 0, x/y]])\n",
    "oti.inv(X)"
   ]
  },
  {
   "cell_type": "code",
   "execution_count": 15,
   "metadata": {},
   "outputs": [
    {
     "name": "stdout",
     "output_type": "stream",
     "text": [
      "30 µs ± 260 ns per loop (mean ± std. dev. of 7 runs, 10000 loops each)\n"
     ]
    }
   ],
   "source": [
    "%timeit oti.inv(X)"
   ]
  },
  {
   "cell_type": "code",
   "execution_count": 16,
   "metadata": {},
   "outputs": [
    {
     "data": {
      "text/plain": [
       "12.2500 + 7.0000 * e([1]) + 0.0000 * e([2]) + 1.0000 * e([[1,2]]) + 0.0000 * e([1,2]) - 0.0000 * e([[2,2]]) + 0.0000 * e([[1,2],2]) + 0.0000 * e([1,[2,2]]) + 0.0000 * e([[2,3]])"
      ]
     },
     "execution_count": 16,
     "metadata": {},
     "output_type": "execute_result"
    }
   ],
   "source": [
    "oti.det(X)"
   ]
  },
  {
   "cell_type": "code",
   "execution_count": null,
   "metadata": {},
   "outputs": [],
   "source": []
  }
 ],
 "metadata": {
  "kernelspec": {
   "display_name": "Python 3",
   "language": "python",
   "name": "python3"
  },
  "language_info": {
   "codemirror_mode": {
    "name": "ipython",
    "version": 3
   },
   "file_extension": ".py",
   "mimetype": "text/x-python",
   "name": "python",
   "nbconvert_exporter": "python",
   "pygments_lexer": "ipython3",
   "version": "3.7.8"
  }
 },
 "nbformat": 4,
 "nbformat_minor": 4
}
