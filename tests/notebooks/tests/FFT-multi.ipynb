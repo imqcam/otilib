{
 "cells": [
  {
   "cell_type": "code",
   "execution_count": 11,
   "id": "747fbecd",
   "metadata": {},
   "outputs": [],
   "source": [
    "import pyoti.sparse as oti\n",
    "import pyoti.core as coti\n",
    "\n",
    "import numpy as np"
   ]
  },
  {
   "cell_type": "code",
   "execution_count": 26,
   "id": "c14f33f6",
   "metadata": {},
   "outputs": [
    {
     "name": "stdout",
     "output_type": "stream",
     "text": [
      "10626 9977.19348509483 1.065028959884805\n"
     ]
    }
   ],
   "source": [
    "m = 10\n",
    "order = 5\n",
    "\n",
    "N = coti.ndir_total(m,order)\n",
    "\n",
    "O_mult_oti = coti.ndir_total(2*m,order)\n",
    "O_FFT = N*np.log2(N)\n",
    "\n",
    "print(O_mult_oti,O_FFT,O_mult_oti/O_FFT)"
   ]
  },
  {
   "cell_type": "code",
   "execution_count": null,
   "id": "88f9a98d",
   "metadata": {},
   "outputs": [],
   "source": []
  }
 ],
 "metadata": {
  "kernelspec": {
   "display_name": "pyoti",
   "language": "python",
   "name": "pyoti"
  },
  "language_info": {
   "codemirror_mode": {
    "name": "ipython",
    "version": 3
   },
   "file_extension": ".py",
   "mimetype": "text/x-python",
   "name": "python",
   "nbconvert_exporter": "python",
   "pygments_lexer": "ipython3",
   "version": "3.9.13"
  }
 },
 "nbformat": 4,
 "nbformat_minor": 5
}
