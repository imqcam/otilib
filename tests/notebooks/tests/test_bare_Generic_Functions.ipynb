{
 "cells": [
  {
   "cell_type": "code",
   "execution_count": 1,
   "metadata": {},
   "outputs": [],
   "source": [
    "import sys\n",
    "path2oti = '../../../build/'\n",
    "sys.path.append(path2oti) # Add path to OTI library.\n",
    "import pyoti.sparse as dn \n",
    "\n",
    "e = dn.e\n",
    "dn.np.set_printoptions(precision=4)\n",
    "np = dn.np\n",
    "\n",
    "import sympy as sym\n",
    "# sym.init_printing()"
   ]
  },
  {
   "cell_type": "code",
   "execution_count": 4,
   "metadata": {},
   "outputs": [
    {
     "name": "stdout",
     "output_type": "stream",
     "text": [
      "0.5 + 1 * e([1])\n"
     ]
    }
   ],
   "source": [
    "x_t  = 0.5 + e(1, order = 10, nbases = 2)\n",
    "y_t  = 1.5 + e(2, order = 10, nbases = 2)\n",
    "print(x_t)"
   ]
  },
  {
   "cell_type": "code",
   "execution_count": 5,
   "metadata": {},
   "outputs": [
    {
     "data": {
      "text/plain": [
       "0.7500 + 1.5000 * e([1]) + 0.5000 * e([2]) + 1.0000 * e([1,2])"
      ]
     },
     "execution_count": 5,
     "metadata": {},
     "output_type": "execute_result"
    }
   ],
   "source": [
    "x_t*y_t"
   ]
  },
  {
   "cell_type": "code",
   "execution_count": 6,
   "metadata": {},
   "outputs": [
    {
     "data": {
      "text/plain": [
       "0.3333 + 0.6667 * e([1]) - 0.2222 * e([2]) - 0.4444 * e([1,2]) + 0.1481 * e([[2,2]]) + 0.2963 * e([1,[2,2]]) - 0.0988 * e([[2,3]]) - 0.1975 * e([1,[2,3]]) + 0.0658 * e([[2,4]]) + 0.1317 * e([1,[2,4]]) - 0.0439 * e([[2,5]]) - 0.0878 * e([1,[2,5]]) + 0.0293 * e([[2,6]]) + 0.0585 * e([1,[2,6]]) - 0.0195 * e([[2,7]]) - 0.0390 * e([1,[2,7]]) + 0.0130 * e([[2,8]]) + 0.0260 * e([1,[2,8]]) - 0.0087 * e([[2,9]]) - 0.0173 * e([1,[2,9]]) + 0.0058 * e([[2,10]])"
      ]
     },
     "execution_count": 6,
     "metadata": {},
     "output_type": "execute_result"
    }
   ],
   "source": [
    "x_t/y_t"
   ]
  },
  {
   "cell_type": "code",
   "execution_count": 7,
   "metadata": {},
   "outputs": [
    {
     "data": {
      "text/plain": [
       "0.6667 - 0.4444 * e([2]) + 0.2963 * e([[2,2]]) - 0.1975 * e([[2,3]]) + 0.1317 * e([[2,4]]) - 0.0878 * e([[2,5]]) + 0.0585 * e([[2,6]]) - 0.0390 * e([[2,7]]) + 0.0260 * e([[2,8]]) - 0.0173 * e([[2,9]]) + 0.0116 * e([[2,10]])"
      ]
     },
     "execution_count": 7,
     "metadata": {},
     "output_type": "execute_result"
    }
   ],
   "source": [
    "1/y_t"
   ]
  },
  {
   "cell_type": "code",
   "execution_count": 6,
   "metadata": {},
   "outputs": [
    {
     "data": {
      "text/plain": [
       "otinum([0.3217505543966422,0.5999999999999999, ..., -7.766016000017573e-05,0.010210508800005519,], 10)"
      ]
     },
     "execution_count": 6,
     "metadata": {},
     "output_type": "execute_result"
    }
   ],
   "source": [
    "fx = dn.atan2(x_t,y_t)\n",
    "fx"
   ]
  },
  {
   "cell_type": "code",
   "execution_count": 7,
   "metadata": {},
   "outputs": [
    {
     "data": {
      "text/plain": [
       "-3705.189433343598"
      ]
     },
     "execution_count": 7,
     "metadata": {},
     "output_type": "execute_result"
    }
   ],
   "source": [
    "fx.get_deriv([[1,1]])\n",
    "fx.get_deriv([[1,2]])\n",
    "fx.get_deriv([[1,3]])\n",
    "fx.get_deriv([[1,3],[2,7]])"
   ]
  },
  {
   "cell_type": "code",
   "execution_count": 8,
   "metadata": {},
   "outputs": [
    {
     "data": {
      "text/plain": [
       "-3705.189433344002"
      ]
     },
     "execution_count": 8,
     "metadata": {},
     "output_type": "execute_result"
    }
   ],
   "source": [
    "x0s,b, y0s = sym.symbols(\"x0,b,y0\")\n",
    "np.float(sym.diff(sym.atan(x0s/y0s),y0s,7).diff(x0s,3).replace(x0s,0.5).replace(y0s,1.5))"
   ]
  },
  {
   "cell_type": "code",
   "execution_count": 9,
   "metadata": {},
   "outputs": [
    {
     "name": "stdout",
     "output_type": "stream",
     "text": [
      " \n",
      "atan(x0)\n",
      " \n",
      "1.0/(pow(x0, 2) + 1)\n",
      " \n",
      "-2*x0/pow(pow(x0, 2) + 1, 2)\n",
      " \n",
      "2*(4*pow(x0, 2)/(pow(x0, 2) + 1) - 1)/pow(pow(x0, 2) + 1, 2)\n",
      " \n",
      "24*x0*(-2*pow(x0, 2)/(pow(x0, 2) + 1) + 1)/pow(pow(x0, 2) + 1, 3)\n",
      " \n",
      "24*(16*pow(x0, 4)/pow(pow(x0, 2) + 1, 2) - 12*pow(x0, 2)/(pow(x0, 2) + 1) + 1)/pow(pow(x0, 2) + 1, 3)\n",
      " \n",
      "240*x0*(-16*pow(x0, 4)/pow(pow(x0, 2) + 1, 2) + 16*pow(x0, 2)/(pow(x0, 2) + 1) - 3)/pow(pow(x0, 2) + 1, 4)\n",
      " \n",
      "720*(64*pow(x0, 6)/pow(pow(x0, 2) + 1, 3) - 80*pow(x0, 4)/pow(pow(x0, 2) + 1, 2) + 24*pow(x0, 2)/(pow(x0, 2) + 1) - 1)/pow(pow(x0, 2) + 1, 4)\n",
      " \n",
      "40320*x0*(-16*pow(x0, 6)/pow(pow(x0, 2) + 1, 3) + 24*pow(x0, 4)/pow(pow(x0, 2) + 1, 2) - 10*pow(x0, 2)/(pow(x0, 2) + 1) + 1)/pow(pow(x0, 2) + 1, 5)\n",
      " \n",
      "40320*(256*pow(x0, 8)/pow(pow(x0, 2) + 1, 4) - 448*pow(x0, 6)/pow(pow(x0, 2) + 1, 3) + 240*pow(x0, 4)/pow(pow(x0, 2) + 1, 2) - 40*pow(x0, 2)/(pow(x0, 2) + 1) + 1)/pow(pow(x0, 2) + 1, 5)\n",
      " \n",
      "725760*x0*(-256*pow(x0, 8)/pow(pow(x0, 2) + 1, 4) + 512*pow(x0, 6)/pow(pow(x0, 2) + 1, 3) - 336*pow(x0, 4)/pow(pow(x0, 2) + 1, 2) + 80*pow(x0, 2)/(pow(x0, 2) + 1) - 5)/pow(pow(x0, 2) + 1, 6)\n"
     ]
    }
   ],
   "source": [
    "for i in range(0,11):\n",
    "#     print(\"\\n\\n -------------------------- \")\n",
    "    print(\" \")\n",
    "#     print(\"Order: \",i)\n",
    "    print(sym.ccode(sym.diff(sym.atan(x0s),x0s,i)))\n",
    "    "
   ]
  },
  {
   "cell_type": "code",
   "execution_count": 10,
   "metadata": {},
   "outputs": [
    {
     "data": {
      "text/plain": [
       "0.96242365011920694"
      ]
     },
     "execution_count": 10,
     "metadata": {},
     "output_type": "execute_result"
    }
   ],
   "source": [
    "\n",
    "np.arccosh(1.5)"
   ]
  },
  {
   "cell_type": "code",
   "execution_count": 17,
   "metadata": {
    "collapsed": true
   },
   "outputs": [],
   "source": [
    "aRe,ae1,ae2,ae3 = sym.symbols(\"a_Re,a_e1,a_e2,a_e3\")\n",
    "M = sym.Matrix([[aRe,0,0],[ae1,aRe,0],[ae2,0,aRe]])"
   ]
  },
  {
   "cell_type": "code",
   "execution_count": 18,
   "metadata": {},
   "outputs": [
    {
     "data": {
      "text/plain": [
       "Matrix([\n",
       "[a_Re,    0,    0],\n",
       "[a_e1, a_Re,    0],\n",
       "[a_e2,    0, a_Re]])"
      ]
     },
     "execution_count": 18,
     "metadata": {},
     "output_type": "execute_result"
    }
   ],
   "source": [
    "M"
   ]
  },
  {
   "cell_type": "code",
   "execution_count": 29,
   "metadata": {},
   "outputs": [
    {
     "data": {
      "text/plain": [
       "[(a_Re, 3, [Matrix([\n",
       "   [0],\n",
       "   [1],\n",
       "   [0]]), Matrix([\n",
       "   [0],\n",
       "   [0],\n",
       "   [1]])])]"
      ]
     },
     "execution_count": 29,
     "metadata": {},
     "output_type": "execute_result"
    }
   ],
   "source": [
    "M.eigenvects()"
   ]
  },
  {
   "cell_type": "code",
   "execution_count": 19,
   "metadata": {},
   "outputs": [
    {
     "data": {
      "text/plain": [
       "Matrix([\n",
       "[       1/a_Re,      0,      0],\n",
       "[-a_e1/a_Re**2, 1/a_Re,      0],\n",
       "[-a_e2/a_Re**2,      0, 1/a_Re]])"
      ]
     },
     "execution_count": 19,
     "metadata": {},
     "output_type": "execute_result"
    }
   ],
   "source": [
    "M.inv()"
   ]
  },
  {
   "cell_type": "code",
   "execution_count": 13,
   "metadata": {
    "collapsed": true
   },
   "outputs": [],
   "source": [
    "def factorialfunct(n):\n",
    "    nn = np.uint64(n)\n",
    "    res = np.uint64(1)\n",
    "    \n",
    "    for i in range(n):\n",
    "        res*=nn\n",
    "        nn-=1\n",
    "    print(res)\n",
    "        \n"
   ]
  },
  {
   "cell_type": "code",
   "execution_count": 17,
   "metadata": {},
   "outputs": [
    {
     "name": "stdout",
     "output_type": "stream",
     "text": [
      "9.33262154439e+157\n"
     ]
    }
   ],
   "source": [
    "factorialfunct(100)"
   ]
  },
  {
   "cell_type": "code",
   "execution_count": 20,
   "metadata": {
    "collapsed": true
   },
   "outputs": [],
   "source": [
    "def oticomb(m,n):\n",
    "    mm = np.uint64(m)\n",
    "    mpn_res = np.uint64(1)\n",
    "    nn = np.uint64(n)\n",
    "    n_res = np.uint64(1)\n",
    "    for i in range(n):\n",
    "        mpn_res *=(mm+nn)\n",
    "        n_res   *= nn\n",
    "        nn-=1\n",
    "    print(np.uint64(mpn_res/n_res))"
   ]
  },
  {
   "cell_type": "code",
   "execution_count": 40,
   "metadata": {},
   "outputs": [
    {
     "name": "stdout",
     "output_type": "stream",
     "text": [
      "56\n"
     ]
    }
   ],
   "source": [
    "oticomb(3,5)\n"
   ]
  },
  {
   "cell_type": "code",
   "execution_count": 49,
   "metadata": {},
   "outputs": [
    {
     "data": {
      "text/plain": [
       "66"
      ]
     },
     "execution_count": 49,
     "metadata": {},
     "output_type": "execute_result"
    }
   ],
   "source": [
    "dn.findComb(2+1,10)"
   ]
  },
  {
   "cell_type": "code",
   "execution_count": 45,
   "metadata": {},
   "outputs": [
    {
     "data": {
      "text/plain": [
       "66"
      ]
     },
     "execution_count": 45,
     "metadata": {},
     "output_type": "execute_result"
    }
   ],
   "source": [
    "x_t.Ndir"
   ]
  },
  {
   "cell_type": "code",
   "execution_count": null,
   "metadata": {
    "collapsed": true
   },
   "outputs": [],
   "source": []
  },
  {
   "cell_type": "code",
   "execution_count": 12,
   "metadata": {
    "collapsed": true
   },
   "outputs": [],
   "source": [
    "a = 2+2*e(1,order = 2,m=2)"
   ]
  },
  {
   "cell_type": "code",
   "execution_count": 43,
   "metadata": {},
   "outputs": [
    {
     "data": {
      "text/plain": [
       "array([  1,   2,   3,   4,   5,   6,   7,   8,   9,  10,  11,  12,  13,\n",
       "        14,  15,  16,  17,  18,  19,  20,  21,  22,  23,  24,  25,  26,\n",
       "        27,  28,  29,  30,  31,  32,  33,  34,  35,  36,  37,  38,  39,\n",
       "        40,  41,  42,  43,  44,  45,  46,  47,  48,  49,  50,  51,  52,\n",
       "        53,  54,  55,  56,  57,  58,  59,  60,  61,  62,  63,  64,  65,\n",
       "        66,  67,  68,  69,  70,  71,  72,  73,  74,  75,  76,  77,  78,\n",
       "        79,  80,  81,  82,  83,  84,  85,  86,  87,  88,  89,  90,  91,\n",
       "        92,  93,  94,  95,  96,  97,  98,  99, 100, 101, 102, 103, 104,\n",
       "       105, 106, 107, 108, 109, 110, 111, 112, 113, 114, 115, 116, 117,\n",
       "       118, 119, 120, 121, 122, 123, 124, 125, 126, 127, 128, 129, 130,\n",
       "       131, 132, 133, 134, 135, 136, 137, 138, 139, 140, 141, 142, 143,\n",
       "       144, 145, 146, 147, 148, 149, 150, 151, 152, 153, 154, 155, 156,\n",
       "       157, 158, 159, 160, 161, 162, 163, 164, 165, 166, 167, 168, 169,\n",
       "       170, 171, 172, 173, 174, 175, 176, 177, 178, 179, 180, 181, 182,\n",
       "       183, 184, 185, 186, 187, 188, 189, 190, 191, 192, 193, 194, 195,\n",
       "       196, 197, 198, 199, 200, 201, 202, 203, 204, 205, 206, 207, 208,\n",
       "       209, 210, 211, 212, 213, 214, 215, 216, 217, 218, 219, 220, 221,\n",
       "       222, 223, 224, 225, 226, 227, 228, 229, 230, 231])"
      ]
     },
     "execution_count": 43,
     "metadata": {},
     "output_type": "execute_result"
    }
   ],
   "source": [
    "np.array(range(1,dn.findComb(20+1,2)+1))"
   ]
  },
  {
   "cell_type": "code",
   "execution_count": 48,
   "metadata": {},
   "outputs": [
    {
     "name": "stdout",
     "output_type": "stream",
     "text": [
      "[   1.    2.    3.    4.    5.    6.    7.    8.    9.   10.   11.   12.\n",
      "   13.   14.   15.   16.   17.   18.   19.   20.   21.   22.   23.   24.\n",
      "   25.   26.   27.   28.   29.   30.   31.   32.   33.   34.   35.   36.\n",
      "   37.   38.   39.   40.   41.   42.   43.   44.   45.   46.   47.   48.\n",
      "   49.   50.   51.   52.   53.   54.   55.   56.   57.   58.   59.   60.\n",
      "   61.   62.   63.   64.   65.   66.   67.   68.   69.   70.   71.   72.\n",
      "   73.   74.   75.   76.   77.   78.   79.   80.   81.   82.   83.   84.\n",
      "   85.   86.   87.   88.   89.   90.   91.   92.   93.   94.   95.   96.\n",
      "   97.   98.   99.  100.  101.  102.  103.  104.  105.  106.  107.  108.\n",
      "  109.  110.  111.  112.  113.  114.  115.  116.  117.  118.  119.  120.\n",
      "  121.  122.  123.  124.  125.  126.  127.  128.  129.  130.  131.  132.\n",
      "  133.  134.  135.  136.  137.  138.  139.  140.  141.  142.  143.  144.\n",
      "  145.  146.  147.  148.  149.  150.  151.  152.  153.  154.  155.  156.\n",
      "  157.  158.  159.  160.  161.  162.  163.  164.  165.  166.  167.  168.\n",
      "  169.  170.  171.  172.  173.  174.  175.  176.  177.  178.  179.  180.\n",
      "  181.  182.  183.  184.  185.  186.  187.  188.  189.  190.  191.  192.\n",
      "  193.  194.  195.  196.  197.  198.  199.  200.  201.  202.  203.  204.\n",
      "  205.  206.  207.  208.  209.  210.  211.  212.  213.  214.  215.  216.\n",
      "  217.  218.  219.  220.  221.  222.  223.  224.  225.  226.  227.  228.\n",
      "  229.  230.  231.]\n"
     ]
    }
   ],
   "source": [
    "\n",
    "a = dn.otinum(np.array(range(1,dn.findComb(20+1,2)+1),dtype = np.double),2)\n",
    "a.toMatrix()\n",
    "print(a.coefs)"
   ]
  },
  {
   "cell_type": "code",
   "execution_count": 14,
   "metadata": {
    "collapsed": true
   },
   "outputs": [],
   "source": [
    "b = 3+e(2,order = 2,m=2)"
   ]
  },
  {
   "cell_type": "code",
   "execution_count": 34,
   "metadata": {},
   "outputs": [
    {
     "data": {
      "text/plain": [
       "otinum([3.0,6.0,9.0,13.0,17.0,22.0], 2)"
      ]
     },
     "execution_count": 34,
     "metadata": {},
     "output_type": "execute_result"
    }
   ],
   "source": [
    "a*b"
   ]
  },
  {
   "cell_type": "code",
   "execution_count": 35,
   "metadata": {},
   "outputs": [
    {
     "name": "stdout",
     "output_type": "stream",
     "text": [
      "546 ns ± 26.7 ns per loop (mean ± std. dev. of 7 runs, 1000000 loops each)\n"
     ]
    }
   ],
   "source": [
    "%timeit a*b"
   ]
  },
  {
   "cell_type": "code",
   "execution_count": 40,
   "metadata": {},
   "outputs": [
    {
     "data": {
      "text/plain": [
       "231"
      ]
     },
     "execution_count": 40,
     "metadata": {},
     "output_type": "execute_result"
    }
   ],
   "source": [
    "dn.findComb(20+1,2)#*8/1024/1024 # --> MB"
   ]
  },
  {
   "cell_type": "code",
   "execution_count": 54,
   "metadata": {},
   "outputs": [
    {
     "name": "stdout",
     "output_type": "stream",
     "text": [
      "1.83 ms ± 8.39 µs per loop (mean ± std. dev. of 7 runs, 1000 loops each)\n"
     ]
    }
   ],
   "source": [
    "%timeit mat = dn.OTI_GEN_INDX_MatForm(30,2)\n",
    "csr_mat = mat.tocsr()\n",
    "# mat.todense()"
   ]
  },
  {
   "cell_type": "code",
   "execution_count": 23,
   "metadata": {},
   "outputs": [
    {
     "data": {
      "text/plain": [
       "15"
      ]
     },
     "execution_count": 23,
     "metadata": {},
     "output_type": "execute_result"
    }
   ],
   "source": [
    "mat.data.size"
   ]
  },
  {
   "cell_type": "code",
   "execution_count": 24,
   "metadata": {},
   "outputs": [
    {
     "data": {
      "text/plain": [
       "(6, 6)"
      ]
     },
     "execution_count": 24,
     "metadata": {},
     "output_type": "execute_result"
    }
   ],
   "source": [
    "mat.shape\n"
   ]
  },
  {
   "cell_type": "code",
   "execution_count": 25,
   "metadata": {},
   "outputs": [
    {
     "data": {
      "text/plain": [
       "array([1, 2, 3, 4, 5, 6, 1, 2, 4, 1, 1, 2, 4, 1, 1], dtype=uint64)"
      ]
     },
     "execution_count": 25,
     "metadata": {},
     "output_type": "execute_result"
    }
   ],
   "source": [
    "mat.data"
   ]
  },
  {
   "cell_type": "code",
   "execution_count": 26,
   "metadata": {},
   "outputs": [
    {
     "data": {
      "text/plain": [
       "matrix([[1, 0, 0, 0, 0, 0],\n",
       "        [2, 1, 0, 0, 0, 0],\n",
       "        [3, 2, 1, 0, 0, 0],\n",
       "        [4, 0, 0, 1, 0, 0],\n",
       "        [5, 4, 0, 2, 1, 0],\n",
       "        [6, 0, 0, 4, 0, 1]], dtype=uint64)"
      ]
     },
     "execution_count": 26,
     "metadata": {},
     "output_type": "execute_result"
    }
   ],
   "source": [
    "mat.todense()"
   ]
  },
  {
   "cell_type": "code",
   "execution_count": 31,
   "metadata": {
    "collapsed": true
   },
   "outputs": [],
   "source": [
    "csr_a = dn.spr.csr_matrix(a.toMatrix())"
   ]
  },
  {
   "cell_type": "code",
   "execution_count": 36,
   "metadata": {},
   "outputs": [
    {
     "name": "stdout",
     "output_type": "stream",
     "text": [
      "5.39 µs ± 75.4 ns per loop (mean ± std. dev. of 7 runs, 100000 loops each)\n"
     ]
    }
   ],
   "source": [
    "vec_b = b.coefs\n",
    "%timeit csr_a.dot(vec_b)"
   ]
  },
  {
   "cell_type": "code",
   "execution_count": null,
   "metadata": {
    "collapsed": true
   },
   "outputs": [],
   "source": []
  },
  {
   "cell_type": "code",
   "execution_count": null,
   "metadata": {
    "collapsed": true
   },
   "outputs": [],
   "source": []
  },
  {
   "cell_type": "code",
   "execution_count": null,
   "metadata": {
    "collapsed": true
   },
   "outputs": [],
   "source": []
  },
  {
   "cell_type": "code",
   "execution_count": null,
   "metadata": {
    "collapsed": true
   },
   "outputs": [],
   "source": []
  },
  {
   "cell_type": "code",
   "execution_count": null,
   "metadata": {
    "collapsed": true
   },
   "outputs": [],
   "source": []
  },
  {
   "cell_type": "code",
   "execution_count": null,
   "metadata": {
    "collapsed": true
   },
   "outputs": [],
   "source": []
  },
  {
   "cell_type": "code",
   "execution_count": null,
   "metadata": {
    "collapsed": true
   },
   "outputs": [],
   "source": []
  },
  {
   "cell_type": "code",
   "execution_count": null,
   "metadata": {
    "collapsed": true
   },
   "outputs": [],
   "source": [
    "# Quadrature integration\n",
    "\n",
    "\n",
    "def quadrature_int():"
   ]
  },
  {
   "cell_type": "code",
   "execution_count": null,
   "metadata": {
    "collapsed": true
   },
   "outputs": [],
   "source": []
  },
  {
   "cell_type": "code",
   "execution_count": null,
   "metadata": {
    "collapsed": true
   },
   "outputs": [],
   "source": []
  },
  {
   "cell_type": "code",
   "execution_count": null,
   "metadata": {
    "collapsed": true
   },
   "outputs": [],
   "source": []
  },
  {
   "cell_type": "code",
   "execution_count": null,
   "metadata": {
    "collapsed": true
   },
   "outputs": [],
   "source": []
  },
  {
   "cell_type": "code",
   "execution_count": null,
   "metadata": {
    "collapsed": true
   },
   "outputs": [],
   "source": []
  },
  {
   "cell_type": "code",
   "execution_count": null,
   "metadata": {
    "collapsed": true
   },
   "outputs": [],
   "source": []
  },
  {
   "cell_type": "code",
   "execution_count": null,
   "metadata": {
    "collapsed": true
   },
   "outputs": [],
   "source": []
  },
  {
   "cell_type": "code",
   "execution_count": null,
   "metadata": {
    "collapsed": true
   },
   "outputs": [],
   "source": []
  },
  {
   "cell_type": "code",
   "execution_count": 20,
   "metadata": {},
   "outputs": [
    {
     "data": {
      "text/plain": [
       "y(x0)"
      ]
     },
     "execution_count": 20,
     "metadata": {},
     "output_type": "execute_result"
    }
   ],
   "source": [
    "y = sym.Function('y')(x0s)\n",
    "y"
   ]
  },
  {
   "cell_type": "code",
   "execution_count": 22,
   "metadata": {},
   "outputs": [
    {
     "data": {
      "text/plain": [
       "Derivative(y(x0), x0, x0)"
      ]
     },
     "execution_count": 22,
     "metadata": {},
     "output_type": "execute_result"
    }
   ],
   "source": [
    "sym.diff(y,x0s,2).doit()"
   ]
  },
  {
   "cell_type": "code",
   "execution_count": null,
   "metadata": {
    "collapsed": true
   },
   "outputs": [],
   "source": []
  }
 ],
 "metadata": {
  "kernelspec": {
   "display_name": "Python 3",
   "language": "python",
   "name": "python3"
  },
  "language_info": {
   "codemirror_mode": {
    "name": "ipython",
    "version": 3
   },
   "file_extension": ".py",
   "mimetype": "text/x-python",
   "name": "python",
   "nbconvert_exporter": "python",
   "pygments_lexer": "ipython3",
   "version": "3.7.3"
  }
 },
 "nbformat": 4,
 "nbformat_minor": 2
}
