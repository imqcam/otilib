{
 "cells": [
  {
   "cell_type": "code",
   "execution_count": 2,
   "id": "b13abd59",
   "metadata": {},
   "outputs": [],
   "source": [
    "from scipy.special import factorial\n",
    "from sys import path\n",
    "path.append('/Users/zkj327/coding/otilib/build/')\n",
    "import pyoti.sparse as oti\n",
    "\n",
    "# Hermite polynomial\n",
    "def generate_hermite(N):\n",
    "    x2_2N = (oti.e(1,order=N+N)**2)/2\n",
    "    x2_N = (oti.e(1,order=N)**2)/2\n",
    "    h_base = oti.exp(-x2_2N)\n",
    "    h1 = ((-1)**N)*oti.exp(x2_N)*h_base.extract_deriv([[1,N]])\n",
    "    h1\n",
    "    return h1\n",
    "\n",
    "# Legandre  polynomials\n",
    "def generate_legendre(N):\n",
    "    x2_2N = (oti.e(1,order=N+N)**2)\n",
    "    h_base = (x2_2N-1)**N\n",
    "    h1 = 1/(2**N*factorial(N))*h_base.extract_deriv([[1,N]])\n",
    "    return h1"
   ]
  },
  {
   "cell_type": "code",
   "execution_count": 4,
   "id": "4a0e41fe",
   "metadata": {},
   "outputs": [
    {
     "data": {
      "text/plain": [
       " - 3 * e([1]) + 1 * e([[1,3]])"
      ]
     },
     "execution_count": 4,
     "metadata": {},
     "output_type": "execute_result"
    }
   ],
   "source": [
    "generate_hermite(3)"
   ]
  },
  {
   "cell_type": "code",
   "execution_count": null,
   "id": "a411bd03",
   "metadata": {},
   "outputs": [],
   "source": []
  }
 ],
 "metadata": {
  "kernelspec": {
   "display_name": "pyoti",
   "language": "python",
   "name": "pyoti"
  },
  "language_info": {
   "codemirror_mode": {
    "name": "ipython",
    "version": 3
   },
   "file_extension": ".py",
   "mimetype": "text/x-python",
   "name": "python",
   "nbconvert_exporter": "python",
   "pygments_lexer": "ipython3",
   "version": "3.9.13"
  }
 },
 "nbformat": 4,
 "nbformat_minor": 5
}
