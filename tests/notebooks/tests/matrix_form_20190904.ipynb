{
 "cells": [
  {
   "cell_type": "code",
   "execution_count": 1,
   "metadata": {},
   "outputs": [],
   "source": [
    "# 1. SET GLOBAL PATH \n",
    "import sys\n",
    "path2oti = '../../../build/'\n",
    "sys.path.append(path2oti) # Add path to OTI library.\n",
    "\n",
    "from IPython.display import display, Math\n",
    "\n",
    "from pyoti.core import dhelp_get_matrix_form\n",
    "\n",
    "def display_string(string, head = \"\", tail = \"\"):\n",
    "    display(Math(head+string+tail))\n",
    "# end "
   ]
  },
  {
   "cell_type": "code",
   "execution_count": 6,
   "metadata": {
    "scrolled": false
   },
   "outputs": [
    {
     "data": {
      "text/latex": [
       "$\\displaystyle \\begin{bmatrix}_{\\mbox{Re}} & 0 & 0 & 0 & 0 & 0 & 0 & 0 & 0 & 0 & 0 & 0 & 0 & 0 & 0 & 0 & 0 & 0 & 0 & 0 \\\\\n",
       "\\epsilon_{1} & _{\\mbox{Re}} & 0 & 0 & 0 & 0 & 0 & 0 & 0 & 0 & 0 & 0 & 0 & 0 & 0 & 0 & 0 & 0 & 0 & 0 \\\\\n",
       "\\epsilon_{2} & 0 & _{\\mbox{Re}} & 0 & 0 & 0 & 0 & 0 & 0 & 0 & 0 & 0 & 0 & 0 & 0 & 0 & 0 & 0 & 0 & 0 \\\\\n",
       "\\epsilon_{3} & 0 & 0 & _{\\mbox{Re}} & 0 & 0 & 0 & 0 & 0 & 0 & 0 & 0 & 0 & 0 & 0 & 0 & 0 & 0 & 0 & 0 \\\\\n",
       "\\epsilon_{1}^{2} & \\epsilon_{1} & 0 & 0 & _{\\mbox{Re}} & 0 & 0 & 0 & 0 & 0 & 0 & 0 & 0 & 0 & 0 & 0 & 0 & 0 & 0 & 0 \\\\\n",
       "\\epsilon_{1}\\epsilon_{2} & \\epsilon_{2} & \\epsilon_{1} & 0 & 0 & _{\\mbox{Re}} & 0 & 0 & 0 & 0 & 0 & 0 & 0 & 0 & 0 & 0 & 0 & 0 & 0 & 0 \\\\\n",
       "\\epsilon_{2}^{2} & 0 & \\epsilon_{2} & 0 & 0 & 0 & _{\\mbox{Re}} & 0 & 0 & 0 & 0 & 0 & 0 & 0 & 0 & 0 & 0 & 0 & 0 & 0 \\\\\n",
       "\\epsilon_{1}\\epsilon_{3} & \\epsilon_{3} & 0 & \\epsilon_{1} & 0 & 0 & 0 & _{\\mbox{Re}} & 0 & 0 & 0 & 0 & 0 & 0 & 0 & 0 & 0 & 0 & 0 & 0 \\\\\n",
       "\\epsilon_{2}\\epsilon_{3} & 0 & \\epsilon_{3} & \\epsilon_{2} & 0 & 0 & 0 & 0 & _{\\mbox{Re}} & 0 & 0 & 0 & 0 & 0 & 0 & 0 & 0 & 0 & 0 & 0 \\\\\n",
       "\\epsilon_{3}^{2} & 0 & 0 & \\epsilon_{3} & 0 & 0 & 0 & 0 & 0 & _{\\mbox{Re}} & 0 & 0 & 0 & 0 & 0 & 0 & 0 & 0 & 0 & 0 \\\\\n",
       "\\epsilon_{1}^{3} & \\epsilon_{1}^{2} & 0 & 0 & \\epsilon_{1} & 0 & 0 & 0 & 0 & 0 & _{\\mbox{Re}} & 0 & 0 & 0 & 0 & 0 & 0 & 0 & 0 & 0 \\\\\n",
       "\\epsilon_{1}^{2}\\epsilon_{2} & \\epsilon_{1}\\epsilon_{2} & \\epsilon_{1}^{2} & 0 & \\epsilon_{2} & \\epsilon_{1} & 0 & 0 & 0 & 0 & 0 & _{\\mbox{Re}} & 0 & 0 & 0 & 0 & 0 & 0 & 0 & 0 \\\\\n",
       "\\epsilon_{1}\\epsilon_{2}^{2} & \\epsilon_{2}^{2} & \\epsilon_{1}\\epsilon_{2} & 0 & 0 & \\epsilon_{2} & \\epsilon_{1} & 0 & 0 & 0 & 0 & 0 & _{\\mbox{Re}} & 0 & 0 & 0 & 0 & 0 & 0 & 0 \\\\\n",
       "\\epsilon_{2}^{3} & 0 & \\epsilon_{2}^{2} & 0 & 0 & 0 & \\epsilon_{2} & 0 & 0 & 0 & 0 & 0 & 0 & _{\\mbox{Re}} & 0 & 0 & 0 & 0 & 0 & 0 \\\\\n",
       "\\epsilon_{1}^{2}\\epsilon_{3} & \\epsilon_{1}\\epsilon_{3} & 0 & \\epsilon_{1}^{2} & \\epsilon_{3} & 0 & 0 & \\epsilon_{1} & 0 & 0 & 0 & 0 & 0 & 0 & _{\\mbox{Re}} & 0 & 0 & 0 & 0 & 0 \\\\\n",
       "\\epsilon_{1}\\epsilon_{2}\\epsilon_{3} & \\epsilon_{2}\\epsilon_{3} & \\epsilon_{1}\\epsilon_{3} & \\epsilon_{1}\\epsilon_{2} & 0 & \\epsilon_{3} & 0 & \\epsilon_{2} & \\epsilon_{1} & 0 & 0 & 0 & 0 & 0 & 0 & _{\\mbox{Re}} & 0 & 0 & 0 & 0 \\\\\n",
       "\\epsilon_{2}^{2}\\epsilon_{3} & 0 & \\epsilon_{2}\\epsilon_{3} & \\epsilon_{2}^{2} & 0 & 0 & \\epsilon_{3} & 0 & \\epsilon_{2} & 0 & 0 & 0 & 0 & 0 & 0 & 0 & _{\\mbox{Re}} & 0 & 0 & 0 \\\\\n",
       "\\epsilon_{1}\\epsilon_{3}^{2} & \\epsilon_{3}^{2} & 0 & \\epsilon_{1}\\epsilon_{3} & 0 & 0 & 0 & \\epsilon_{3} & 0 & \\epsilon_{1} & 0 & 0 & 0 & 0 & 0 & 0 & 0 & _{\\mbox{Re}} & 0 & 0 \\\\\n",
       "\\epsilon_{2}\\epsilon_{3}^{2} & 0 & \\epsilon_{3}^{2} & \\epsilon_{2}\\epsilon_{3} & 0 & 0 & 0 & 0 & \\epsilon_{3} & \\epsilon_{2} & 0 & 0 & 0 & 0 & 0 & 0 & 0 & 0 & _{\\mbox{Re}} & 0 \\\\\n",
       "\\epsilon_{3}^{3} & 0 & 0 & \\epsilon_{3}^{2} & 0 & 0 & 0 & 0 & 0 & \\epsilon_{3} & 0 & 0 & 0 & 0 & 0 & 0 & 0 & 0 & 0 & _{\\mbox{Re}} \\\\\n",
       "\\end{bmatrix}$"
      ],
      "text/plain": [
       "<IPython.core.display.Math object>"
      ]
     },
     "metadata": {},
     "output_type": "display_data"
    }
   ],
   "source": [
    "# Generate matrix forms\n",
    "\n",
    "n_variables = 3\n",
    "deriv_order = 3\n",
    "\n",
    "latex = dhelp_get_matrix_form( n_variables, deriv_order, export_latex=True)\n",
    "display_string(latex, head = '\\\\begin{bmatrix}', tail = '\\\\end{bmatrix}')"
   ]
  },
  {
   "cell_type": "code",
   "execution_count": 7,
   "metadata": {},
   "outputs": [
    {
     "name": "stdout",
     "output_type": "stream",
     "text": [
      "\\begin{bmatrix}\n",
      "_{\\mbox{Re}} & 0 & 0 & 0 & 0 & 0 & 0 & 0 & 0 & 0 & 0 & 0 & 0 & 0 & 0 & 0 & 0 & 0 & 0 & 0 \\\\\n",
      "\\epsilon_{1} & _{\\mbox{Re}} & 0 & 0 & 0 & 0 & 0 & 0 & 0 & 0 & 0 & 0 & 0 & 0 & 0 & 0 & 0 & 0 & 0 & 0 \\\\\n",
      "\\epsilon_{2} & 0 & _{\\mbox{Re}} & 0 & 0 & 0 & 0 & 0 & 0 & 0 & 0 & 0 & 0 & 0 & 0 & 0 & 0 & 0 & 0 & 0 \\\\\n",
      "\\epsilon_{3} & 0 & 0 & _{\\mbox{Re}} & 0 & 0 & 0 & 0 & 0 & 0 & 0 & 0 & 0 & 0 & 0 & 0 & 0 & 0 & 0 & 0 \\\\\n",
      "\\epsilon_{1}^{2} & \\epsilon_{1} & 0 & 0 & _{\\mbox{Re}} & 0 & 0 & 0 & 0 & 0 & 0 & 0 & 0 & 0 & 0 & 0 & 0 & 0 & 0 & 0 \\\\\n",
      "\\epsilon_{1}\\epsilon_{2} & \\epsilon_{2} & \\epsilon_{1} & 0 & 0 & _{\\mbox{Re}} & 0 & 0 & 0 & 0 & 0 & 0 & 0 & 0 & 0 & 0 & 0 & 0 & 0 & 0 \\\\\n",
      "\\epsilon_{2}^{2} & 0 & \\epsilon_{2} & 0 & 0 & 0 & _{\\mbox{Re}} & 0 & 0 & 0 & 0 & 0 & 0 & 0 & 0 & 0 & 0 & 0 & 0 & 0 \\\\\n",
      "\\epsilon_{1}\\epsilon_{3} & \\epsilon_{3} & 0 & \\epsilon_{1} & 0 & 0 & 0 & _{\\mbox{Re}} & 0 & 0 & 0 & 0 & 0 & 0 & 0 & 0 & 0 & 0 & 0 & 0 \\\\\n",
      "\\epsilon_{2}\\epsilon_{3} & 0 & \\epsilon_{3} & \\epsilon_{2} & 0 & 0 & 0 & 0 & _{\\mbox{Re}} & 0 & 0 & 0 & 0 & 0 & 0 & 0 & 0 & 0 & 0 & 0 \\\\\n",
      "\\epsilon_{3}^{2} & 0 & 0 & \\epsilon_{3} & 0 & 0 & 0 & 0 & 0 & _{\\mbox{Re}} & 0 & 0 & 0 & 0 & 0 & 0 & 0 & 0 & 0 & 0 \\\\\n",
      "\\epsilon_{1}^{3} & \\epsilon_{1}^{2} & 0 & 0 & \\epsilon_{1} & 0 & 0 & 0 & 0 & 0 & _{\\mbox{Re}} & 0 & 0 & 0 & 0 & 0 & 0 & 0 & 0 & 0 \\\\\n",
      "\\epsilon_{1}^{2}\\epsilon_{2} & \\epsilon_{1}\\epsilon_{2} & \\epsilon_{1}^{2} & 0 & \\epsilon_{2} & \\epsilon_{1} & 0 & 0 & 0 & 0 & 0 & _{\\mbox{Re}} & 0 & 0 & 0 & 0 & 0 & 0 & 0 & 0 \\\\\n",
      "\\epsilon_{1}\\epsilon_{2}^{2} & \\epsilon_{2}^{2} & \\epsilon_{1}\\epsilon_{2} & 0 & 0 & \\epsilon_{2} & \\epsilon_{1} & 0 & 0 & 0 & 0 & 0 & _{\\mbox{Re}} & 0 & 0 & 0 & 0 & 0 & 0 & 0 \\\\\n",
      "\\epsilon_{2}^{3} & 0 & \\epsilon_{2}^{2} & 0 & 0 & 0 & \\epsilon_{2} & 0 & 0 & 0 & 0 & 0 & 0 & _{\\mbox{Re}} & 0 & 0 & 0 & 0 & 0 & 0 \\\\\n",
      "\\epsilon_{1}^{2}\\epsilon_{3} & \\epsilon_{1}\\epsilon_{3} & 0 & \\epsilon_{1}^{2} & \\epsilon_{3} & 0 & 0 & \\epsilon_{1} & 0 & 0 & 0 & 0 & 0 & 0 & _{\\mbox{Re}} & 0 & 0 & 0 & 0 & 0 \\\\\n",
      "\\epsilon_{1}\\epsilon_{2}\\epsilon_{3} & \\epsilon_{2}\\epsilon_{3} & \\epsilon_{1}\\epsilon_{3} & \\epsilon_{1}\\epsilon_{2} & 0 & \\epsilon_{3} & 0 & \\epsilon_{2} & \\epsilon_{1} & 0 & 0 & 0 & 0 & 0 & 0 & _{\\mbox{Re}} & 0 & 0 & 0 & 0 \\\\\n",
      "\\epsilon_{2}^{2}\\epsilon_{3} & 0 & \\epsilon_{2}\\epsilon_{3} & \\epsilon_{2}^{2} & 0 & 0 & \\epsilon_{3} & 0 & \\epsilon_{2} & 0 & 0 & 0 & 0 & 0 & 0 & 0 & _{\\mbox{Re}} & 0 & 0 & 0 \\\\\n",
      "\\epsilon_{1}\\epsilon_{3}^{2} & \\epsilon_{3}^{2} & 0 & \\epsilon_{1}\\epsilon_{3} & 0 & 0 & 0 & \\epsilon_{3} & 0 & \\epsilon_{1} & 0 & 0 & 0 & 0 & 0 & 0 & 0 & _{\\mbox{Re}} & 0 & 0 \\\\\n",
      "\\epsilon_{2}\\epsilon_{3}^{2} & 0 & \\epsilon_{3}^{2} & \\epsilon_{2}\\epsilon_{3} & 0 & 0 & 0 & 0 & \\epsilon_{3} & \\epsilon_{2} & 0 & 0 & 0 & 0 & 0 & 0 & 0 & 0 & _{\\mbox{Re}} & 0 \\\\\n",
      "\\epsilon_{3}^{3} & 0 & 0 & \\epsilon_{3}^{2} & 0 & 0 & 0 & 0 & 0 & \\epsilon_{3} & 0 & 0 & 0 & 0 & 0 & 0 & 0 & 0 & 0 & _{\\mbox{Re}} \\\\\n",
      "\\end{bmatrix}\n",
      "\n"
     ]
    }
   ],
   "source": [
    "head = \"\\\\begin{bmatrix}\\n\"\n",
    "tail = \"\\\\end{bmatrix}\\n\"\n",
    "print(head+latex+tail)"
   ]
  },
  {
   "cell_type": "code",
   "execution_count": 7,
   "metadata": {},
   "outputs": [],
   "source": [
    "import pyoti.dense as oti\n",
    "import pyoti.core as otic\n",
    "\n",
    "np    = oti.np\n",
    "\n",
    "shape = 10\n",
    "\n",
    "A = oti.eye( shape,   nbases=n_variables,order=deriv_order)\n",
    "b = oti.ones(shape, 1,nbases=n_variables,order=deriv_order)*50\n"
   ]
  },
  {
   "cell_type": "code",
   "execution_count": 8,
   "metadata": {},
   "outputs": [
    {
     "data": {
      "text/plain": [
       "omat<shape: (10, 10), ndir: 5, order: 5, re:\n",
       "array([[1., 0., 0., 0., 0., 0., 0., 0., 0., 0.],\n",
       "       [0., 1., 0., 0., 0., 0., 0., 0., 0., 0.],\n",
       "       [0., 0., 1., 0., 0., 0., 0., 0., 0., 0.],\n",
       "       [0., 0., 0., 1., 0., 0., 0., 0., 0., 0.],\n",
       "       [0., 0., 0., 0., 1., 0., 0., 0., 0., 0.],\n",
       "       [0., 0., 0., 0., 0., 1., 0., 0., 0., 0.],\n",
       "       [0., 0., 0., 0., 0., 0., 1., 0., 0., 0.],\n",
       "       [0., 0., 0., 0., 0., 0., 0., 1., 0., 0.],\n",
       "       [0., 0., 0., 0., 0., 0., 0., 0., 1., 0.],\n",
       "       [0., 0., 0., 0., 0., 0., 0., 0., 0., 1.]])>"
      ]
     },
     "execution_count": 8,
     "metadata": {},
     "output_type": "execute_result"
    }
   ],
   "source": [
    "A"
   ]
  },
  {
   "cell_type": "code",
   "execution_count": 11,
   "metadata": {},
   "outputs": [
    {
     "data": {
      "text/plain": [
       "omat<shape: (10, 1), ndir: 5, order: 5, re:\n",
       "array([[50.],\n",
       "       [50.],\n",
       "       [50.],\n",
       "       [50.],\n",
       "       [50.],\n",
       "       [50.],\n",
       "       [50.],\n",
       "       [50.],\n",
       "       [50.],\n",
       "       [50.]])>"
      ]
     },
     "execution_count": 11,
     "metadata": {},
     "output_type": "execute_result"
    }
   ],
   "source": [
    "b"
   ]
  },
  {
   "cell_type": "code",
   "execution_count": 12,
   "metadata": {
    "scrolled": false
   },
   "outputs": [],
   "source": [
    "x = oti.solve(A,b)"
   ]
  },
  {
   "cell_type": "code",
   "execution_count": 13,
   "metadata": {},
   "outputs": [
    {
     "name": "stdout",
     "output_type": "stream",
     "text": [
      "505 µs ± 2.82 µs per loop (mean ± std. dev. of 7 runs, 1000 loops each)\n"
     ]
    }
   ],
   "source": [
    "%timeit oti.solve(A,b)"
   ]
  },
  {
   "cell_type": "code",
   "execution_count": 14,
   "metadata": {},
   "outputs": [
    {
     "name": "stdout",
     "output_type": "stream",
     "text": [
      "2.24 µs ± 15 ns per loop (mean ± std. dev. of 7 runs, 100000 loops each)\n"
     ]
    }
   ],
   "source": [
    "%timeit oti.dot(A,b)"
   ]
  },
  {
   "cell_type": "code",
   "execution_count": 51,
   "metadata": {},
   "outputs": [],
   "source": [
    "Ar = A.get_im(0)\n",
    "br = b.get_im(0)"
   ]
  },
  {
   "cell_type": "code",
   "execution_count": 52,
   "metadata": {},
   "outputs": [
    {
     "data": {
      "text/plain": [
       "array([[1., 0., 0., ..., 0., 0., 0.],\n",
       "       [0., 1., 0., ..., 0., 0., 0.],\n",
       "       [0., 0., 1., ..., 0., 0., 0.],\n",
       "       ...,\n",
       "       [0., 0., 0., ..., 1., 0., 0.],\n",
       "       [0., 0., 0., ..., 0., 1., 0.],\n",
       "       [0., 0., 0., ..., 0., 0., 1.]])"
      ]
     },
     "execution_count": 52,
     "metadata": {},
     "output_type": "execute_result"
    }
   ],
   "source": [
    "Ar"
   ]
  },
  {
   "cell_type": "code",
   "execution_count": 53,
   "metadata": {},
   "outputs": [
    {
     "data": {
      "text/plain": [
       "array([[50.],\n",
       "       [50.],\n",
       "       [50.],\n",
       "       ...,\n",
       "       [50.],\n",
       "       [50.],\n",
       "       [50.]])"
      ]
     },
     "execution_count": 53,
     "metadata": {},
     "output_type": "execute_result"
    }
   ],
   "source": [
    "br"
   ]
  },
  {
   "cell_type": "code",
   "execution_count": 54,
   "metadata": {},
   "outputs": [
    {
     "name": "stdout",
     "output_type": "stream",
     "text": [
      "7.99 s ± 212 ms per loop (mean ± std. dev. of 7 runs, 1 loop each)\n"
     ]
    }
   ],
   "source": [
    "%timeit np.linalg.solve(Ar,br)"
   ]
  },
  {
   "cell_type": "code",
   "execution_count": null,
   "metadata": {},
   "outputs": [],
   "source": []
  },
  {
   "cell_type": "code",
   "execution_count": 59,
   "metadata": {},
   "outputs": [
    {
     "data": {
      "text/plain": [
       "1.0851063829787233"
      ]
     },
     "execution_count": 59,
     "metadata": {},
     "output_type": "execute_result"
    }
   ],
   "source": [
    "8.67/7.99 #5 derivs , 7.7s (2var, 2ord)\n",
    "# 1.1259"
   ]
  },
  {
   "cell_type": "code",
   "execution_count": 56,
   "metadata": {},
   "outputs": [
    {
     "data": {
      "text/plain": [
       "1.1777221526908637"
      ]
     },
     "execution_count": 56,
     "metadata": {},
     "output_type": "execute_result"
    }
   ],
   "source": [
    "9.41/7.99 # 14 derivs, 7.7s (4vars, 2ord)\n",
    "# 1.222"
   ]
  },
  {
   "cell_type": "code",
   "execution_count": 58,
   "metadata": {},
   "outputs": [
    {
     "data": {
      "text/plain": [
       "0.08535178777393312"
      ]
     },
     "execution_count": 58,
     "metadata": {},
     "output_type": "execute_result"
    }
   ],
   "source": [
    "(9.41-8.67)/8.67"
   ]
  },
  {
   "cell_type": "code",
   "execution_count": null,
   "metadata": {},
   "outputs": [],
   "source": []
  },
  {
   "cell_type": "code",
   "execution_count": 62,
   "metadata": {},
   "outputs": [],
   "source": [
    "K = oti.spr_omat((3,3), nbases = n_variables, order=deriv_order)"
   ]
  },
  {
   "cell_type": "code",
   "execution_count": 67,
   "metadata": {},
   "outputs": [
    {
     "name": "stdout",
     "output_type": "stream",
     "text": [
      "< spr_omat class, shape: (3,3), ndir: 14, nbases: 4, order: 2, \n",
      "  (1, 2)\t8.5\n",
      "  (2, 2)\t5.3\n",
      "+ e([1]) * \n",
      "\n",
      "+ e([2]) * \n",
      "\n",
      "+ e([3]) * \n",
      "\n",
      "+ e([4]) * \n",
      "\n",
      "+ e([[1,2]]) * \n",
      "\n",
      "+ e([1,2]) * \n",
      "\n",
      "+ e([[2,2]]) * \n",
      "\n",
      "+ e([1,3]) * \n",
      "\n",
      "+ e([2,3]) * \n",
      "\n",
      "+ e([[3,2]]) * \n",
      "\n",
      "+ e([1,4]) * \n",
      "  (1, 2)\t5.0\n",
      "+ e([2,4]) * \n",
      "\n",
      "+ e([3,4]) * \n",
      "\n",
      "+ e([[4,2]]) * \n",
      "\n",
      " >\n"
     ]
    }
   ],
   "source": [
    "K[2,2] = 5.3\n",
    "K[1,2] = 8.5 + 5 * oti.e([1,4])\n",
    "\n",
    "print(K)"
   ]
  },
  {
   "cell_type": "code",
   "execution_count": null,
   "metadata": {},
   "outputs": [],
   "source": []
  },
  {
   "cell_type": "code",
   "execution_count": null,
   "metadata": {},
   "outputs": [],
   "source": []
  },
  {
   "cell_type": "code",
   "execution_count": null,
   "metadata": {},
   "outputs": [],
   "source": []
  },
  {
   "cell_type": "code",
   "execution_count": 23,
   "metadata": {},
   "outputs": [
    {
     "name": "stdout",
     "output_type": "stream",
     "text": [
      "A:\n",
      " [[3. 2.]\n",
      " [0. 4.]]\n",
      "+ e([1]) * \n",
      "[[ 3.  0.]\n",
      " [ 0. -4.]]\n",
      "+ e([2]) * \n",
      "[[0. 0.]\n",
      " [0. 0.]]\n",
      "+ e([[1,2]]) * \n",
      "[[0. 0.]\n",
      " [0. 4.]]\n",
      "+ e([1,2]) * \n",
      "[[0. 0.]\n",
      " [0. 0.]]\n",
      "+ e([[2,2]]) * \n",
      "[[0. 0.]\n",
      " [0. 0.]]\n",
      "\n",
      "b:\n",
      " [[2.]\n",
      " [3.]]\n",
      "+ e([1]) * \n",
      "[[0.]\n",
      " [0.]]\n",
      "+ e([2]) * \n",
      "[[0.]\n",
      " [0.]]\n",
      "+ e([[1,2]]) * \n",
      "[[0.]\n",
      " [0.]]\n",
      "+ e([1,2]) * \n",
      "[[0.]\n",
      " [0.]]\n",
      "+ e([[2,2]]) * \n",
      "[[0.]\n",
      " [0.]]\n",
      "\n"
     ]
    }
   ],
   "source": [
    "alpha = 1+oti.e(1,nbases=n_variables,order=deriv_order)\n",
    "\n",
    "A[0,0] = 3*alpha\n",
    "A[0,1] = 2.0\n",
    "A[1,0] = 0.0\n",
    "A[1,1] = 4/alpha\n",
    "print(\"A:\\n\",A)\n",
    "\n",
    "b[0,0] = 2.0\n",
    "b[1,0] = 3.0\n",
    "print(\"b:\\n\",b)"
   ]
  },
  {
   "cell_type": "code",
   "execution_count": 5,
   "metadata": {},
   "outputs": [
    {
     "name": "stdout",
     "output_type": "stream",
     "text": [
      "[[-80.]\n",
      " [  0.]]\n"
     ]
    }
   ],
   "source": [
    "x = oti.solve(A,b)\n",
    "\n",
    "print(x.get_deriv([[1,5]]))"
   ]
  },
  {
   "cell_type": "code",
   "execution_count": 8,
   "metadata": {},
   "outputs": [
    {
     "name": "stdout",
     "output_type": "stream",
     "text": [
      "472 µs ± 8.54 µs per loop (mean ± std. dev. of 7 runs, 1000 loops each)\n"
     ]
    }
   ],
   "source": [
    "%timeit oti.solve(A,b)\n"
   ]
  },
  {
   "cell_type": "code",
   "execution_count": null,
   "metadata": {},
   "outputs": [],
   "source": []
  },
  {
   "cell_type": "code",
   "execution_count": 15,
   "metadata": {},
   "outputs": [
    {
     "data": {
      "text/plain": [
       "array([[2],\n",
       "       [3]])"
      ]
     },
     "execution_count": 15,
     "metadata": {},
     "output_type": "execute_result"
    }
   ],
   "source": [
    "Ar = np.array([[3,2],[0,4]])\n",
    "Ar\n",
    "br = np.array([[2],[3]])\n",
    "br"
   ]
  },
  {
   "cell_type": "code",
   "execution_count": 16,
   "metadata": {},
   "outputs": [
    {
     "data": {
      "text/plain": [
       "array([[0.16666667],\n",
       "       [0.75      ]])"
      ]
     },
     "execution_count": 16,
     "metadata": {},
     "output_type": "execute_result"
    }
   ],
   "source": [
    "xr = np.linalg.solve(Ar,br)\n",
    "xr"
   ]
  },
  {
   "cell_type": "code",
   "execution_count": 17,
   "metadata": {},
   "outputs": [
    {
     "name": "stdout",
     "output_type": "stream",
     "text": [
      "[[-0.5]\n",
      " [ 3. ]]\n",
      "[[-0.66666667]\n",
      " [ 0.75      ]]\n"
     ]
    }
   ],
   "source": [
    "Ap = np.array([[3,0],[0,-4]])\n",
    "bp = np.array([[0],[0]])\n",
    "\n",
    "print(bp-np.dot(Ap,xr))\n",
    "xp = np.linalg.solve(Ar,bp-np.dot(Ap,xr))\n",
    "print(xp)"
   ]
  },
  {
   "cell_type": "code",
   "execution_count": 18,
   "metadata": {},
   "outputs": [
    {
     "name": "stdout",
     "output_type": "stream",
     "text": [
      "[[2.]\n",
      " [0.]]\n",
      "[[0.66666667]\n",
      " [0.        ]]\n"
     ]
    }
   ],
   "source": [
    "App = np.array([[0,0],[0,4]])\n",
    "bpp = np.array([[0],[0]])\n",
    "\n",
    "print(bpp-np.dot(Ap,xp)-np.dot(App,xr))\n",
    "xpp = np.linalg.solve(Ar,bpp-np.dot(Ap,xp)-np.dot(App,xr))\n",
    "print(xpp)"
   ]
  },
  {
   "cell_type": "code",
   "execution_count": 19,
   "metadata": {},
   "outputs": [
    {
     "data": {
      "text/plain": [
       "1.3333333332"
      ]
     },
     "execution_count": 19,
     "metadata": {},
     "output_type": "execute_result"
    }
   ],
   "source": [
    "0.6666666666*2"
   ]
  },
  {
   "cell_type": "code",
   "execution_count": 20,
   "metadata": {},
   "outputs": [
    {
     "data": {
      "text/plain": [
       "4 - 4 * e([1]) + 4 * e([[1,2]]) - 4 * e([[1,3]]) + 4 * e([[1,4]]) - 4 * e([[1,5]])"
      ]
     },
     "execution_count": 20,
     "metadata": {},
     "output_type": "execute_result"
    }
   ],
   "source": [
    "4/alpha"
   ]
  },
  {
   "cell_type": "code",
   "execution_count": 21,
   "metadata": {},
   "outputs": [
    {
     "name": "stdout",
     "output_type": "stream",
     "text": [
      "[[0.16666667]\n",
      " [0.75      ]]\n",
      "+ e([1]) * \n",
      "[[-0.66666667]\n",
      " [ 0.75      ]]\n",
      "+ e([[1,2]]) * \n",
      "[[0.66666667]\n",
      " [0.        ]]\n",
      "+ e([[1,3]]) * \n",
      "[[-0.66666667]\n",
      " [ 0.        ]]\n",
      "+ e([[1,4]]) * \n",
      "[[0.66666667]\n",
      " [0.        ]]\n",
      "+ e([[1,5]]) * \n",
      "[[-0.66666667]\n",
      " [ 0.        ]]\n",
      "\n"
     ]
    }
   ],
   "source": [
    "x = oti.solve(A,b)\n",
    "print(x)"
   ]
  },
  {
   "cell_type": "code",
   "execution_count": 22,
   "metadata": {},
   "outputs": [
    {
     "data": {
      "text/plain": [
       "0.16666666666666666"
      ]
     },
     "execution_count": 22,
     "metadata": {},
     "output_type": "execute_result"
    }
   ],
   "source": [
    "(4-3)/6"
   ]
  },
  {
   "cell_type": "code",
   "execution_count": 13,
   "metadata": {},
   "outputs": [
    {
     "data": {
      "text/latex": [
       "$\\displaystyle \\begin{align}A_{re}x_{re}&=b_{re}\\\\A_{re}x_{\\epsilon_{1}} &= b_{\\epsilon_{1}} -A_{\\epsilon_{1}}x_{re} \\\\ A_{re}x_{\\epsilon_{2}} &= b_{\\epsilon_{2}} -A_{\\epsilon_{2}}x_{re} \\\\ A_{re}x_{\\epsilon_{3}} &= b_{\\epsilon_{3}} -A_{\\epsilon_{3}}x_{re} \\\\ A_{re}x_{\\epsilon_{1}^{2}} &= b_{\\epsilon_{1}^{2}} -A_{\\epsilon_{1}^{2}}x_{re} -A_{\\epsilon_{1}}x_{\\epsilon_{1}} \\\\ A_{re}x_{\\epsilon_{1}\\epsilon_{2}} &= b_{\\epsilon_{1}\\epsilon_{2}} -A_{\\epsilon_{1}\\epsilon_{2}}x_{re} -A_{\\epsilon_{2}}x_{\\epsilon_{1}} -A_{\\epsilon_{1}}x_{\\epsilon_{2}} \\\\ A_{re}x_{\\epsilon_{2}^{2}} &= b_{\\epsilon_{2}^{2}} -A_{\\epsilon_{2}^{2}}x_{re} -A_{\\epsilon_{2}}x_{\\epsilon_{2}} \\\\ A_{re}x_{\\epsilon_{1}\\epsilon_{3}} &= b_{\\epsilon_{1}\\epsilon_{3}} -A_{\\epsilon_{1}\\epsilon_{3}}x_{re} -A_{\\epsilon_{3}}x_{\\epsilon_{1}} -A_{\\epsilon_{1}}x_{\\epsilon_{3}} \\\\ A_{re}x_{\\epsilon_{2}\\epsilon_{3}} &= b_{\\epsilon_{2}\\epsilon_{3}} -A_{\\epsilon_{2}\\epsilon_{3}}x_{re} -A_{\\epsilon_{3}}x_{\\epsilon_{2}} -A_{\\epsilon_{2}}x_{\\epsilon_{3}} \\\\ A_{re}x_{\\epsilon_{3}^{2}} &= b_{\\epsilon_{3}^{2}} -A_{\\epsilon_{3}^{2}}x_{re} -A_{\\epsilon_{3}}x_{\\epsilon_{3}} \\\\ A_{re}x_{\\epsilon_{1}^{3}} &= b_{\\epsilon_{1}^{3}} -A_{\\epsilon_{1}^{3}}x_{re} -A_{\\epsilon_{1}^{2}}x_{\\epsilon_{1}} -A_{\\epsilon_{1}}x_{\\epsilon_{1}^{2}} \\\\ A_{re}x_{\\epsilon_{1}^{2}\\epsilon_{2}} &= b_{\\epsilon_{1}^{2}\\epsilon_{2}} -A_{\\epsilon_{1}^{2}\\epsilon_{2}}x_{re} -A_{\\epsilon_{1}\\epsilon_{2}}x_{\\epsilon_{1}} -A_{\\epsilon_{1}^{2}}x_{\\epsilon_{2}} -A_{\\epsilon_{2}}x_{\\epsilon_{1}^{2}} -A_{\\epsilon_{1}}x_{\\epsilon_{1}\\epsilon_{2}} \\\\ A_{re}x_{\\epsilon_{1}\\epsilon_{2}^{2}} &= b_{\\epsilon_{1}\\epsilon_{2}^{2}} -A_{\\epsilon_{1}\\epsilon_{2}^{2}}x_{re} -A_{\\epsilon_{2}^{2}}x_{\\epsilon_{1}} -A_{\\epsilon_{1}\\epsilon_{2}}x_{\\epsilon_{2}} -A_{\\epsilon_{2}}x_{\\epsilon_{1}\\epsilon_{2}} -A_{\\epsilon_{1}}x_{\\epsilon_{2}^{2}} \\\\ A_{re}x_{\\epsilon_{2}^{3}} &= b_{\\epsilon_{2}^{3}} -A_{\\epsilon_{2}^{3}}x_{re} -A_{\\epsilon_{2}^{2}}x_{\\epsilon_{2}} -A_{\\epsilon_{2}}x_{\\epsilon_{2}^{2}} \\\\ A_{re}x_{\\epsilon_{1}^{2}\\epsilon_{3}} &= b_{\\epsilon_{1}^{2}\\epsilon_{3}} -A_{\\epsilon_{1}^{2}\\epsilon_{3}}x_{re} -A_{\\epsilon_{1}\\epsilon_{3}}x_{\\epsilon_{1}} -A_{\\epsilon_{1}^{2}}x_{\\epsilon_{3}} -A_{\\epsilon_{3}}x_{\\epsilon_{1}^{2}} -A_{\\epsilon_{1}}x_{\\epsilon_{1}\\epsilon_{3}} \\\\ A_{re}x_{\\epsilon_{1}\\epsilon_{2}\\epsilon_{3}} &= b_{\\epsilon_{1}\\epsilon_{2}\\epsilon_{3}} -A_{\\epsilon_{1}\\epsilon_{2}\\epsilon_{3}}x_{re} -A_{\\epsilon_{2}\\epsilon_{3}}x_{\\epsilon_{1}} -A_{\\epsilon_{1}\\epsilon_{3}}x_{\\epsilon_{2}} -A_{\\epsilon_{1}\\epsilon_{2}}x_{\\epsilon_{3}} -A_{\\epsilon_{3}}x_{\\epsilon_{1}\\epsilon_{2}} -A_{\\epsilon_{2}}x_{\\epsilon_{1}\\epsilon_{3}} -A_{\\epsilon_{1}}x_{\\epsilon_{2}\\epsilon_{3}} \\\\ A_{re}x_{\\epsilon_{2}^{2}\\epsilon_{3}} &= b_{\\epsilon_{2}^{2}\\epsilon_{3}} -A_{\\epsilon_{2}^{2}\\epsilon_{3}}x_{re} -A_{\\epsilon_{2}\\epsilon_{3}}x_{\\epsilon_{2}} -A_{\\epsilon_{2}^{2}}x_{\\epsilon_{3}} -A_{\\epsilon_{3}}x_{\\epsilon_{2}^{2}} -A_{\\epsilon_{2}}x_{\\epsilon_{2}\\epsilon_{3}} \\\\ A_{re}x_{\\epsilon_{1}\\epsilon_{3}^{2}} &= b_{\\epsilon_{1}\\epsilon_{3}^{2}} -A_{\\epsilon_{1}\\epsilon_{3}^{2}}x_{re} -A_{\\epsilon_{3}^{2}}x_{\\epsilon_{1}} -A_{\\epsilon_{1}\\epsilon_{3}}x_{\\epsilon_{3}} -A_{\\epsilon_{3}}x_{\\epsilon_{1}\\epsilon_{3}} -A_{\\epsilon_{1}}x_{\\epsilon_{3}^{2}} \\\\ A_{re}x_{\\epsilon_{2}\\epsilon_{3}^{2}} &= b_{\\epsilon_{2}\\epsilon_{3}^{2}} -A_{\\epsilon_{2}\\epsilon_{3}^{2}}x_{re} -A_{\\epsilon_{3}^{2}}x_{\\epsilon_{2}} -A_{\\epsilon_{2}\\epsilon_{3}}x_{\\epsilon_{3}} -A_{\\epsilon_{3}}x_{\\epsilon_{2}\\epsilon_{3}} -A_{\\epsilon_{2}}x_{\\epsilon_{3}^{2}} \\\\ A_{re}x_{\\epsilon_{3}^{3}} &= b_{\\epsilon_{3}^{3}} -A_{\\epsilon_{3}^{3}}x_{re} -A_{\\epsilon_{3}^{2}}x_{\\epsilon_{3}} -A_{\\epsilon_{3}}x_{\\epsilon_{3}^{2}} \\\\ \\end{align}$"
      ],
      "text/plain": [
       "<IPython.core.display.Math object>"
      ]
     },
     "metadata": {},
     "output_type": "display_data"
    }
   ],
   "source": [
    "display_string( oti.solve_latex(n_variables, deriv_order) ) "
   ]
  },
  {
   "cell_type": "code",
   "execution_count": 37,
   "metadata": {},
   "outputs": [
    {
     "name": "stdout",
     "output_type": "stream",
     "text": [
      "2.38 µs ± 8.5 ns per loop (mean ± std. dev. of 7 runs, 100000 loops each)\n"
     ]
    },
    {
     "data": {
      "text/plain": [
       "-0.6666666666666666"
      ]
     },
     "execution_count": 37,
     "metadata": {},
     "output_type": "execute_result"
    }
   ],
   "source": [
    "%timeit x=(4-3*alpha)/(6*alpha)\n",
    "x.get_deriv([[1,1]])"
   ]
  },
  {
   "cell_type": "code",
   "execution_count": 8,
   "metadata": {},
   "outputs": [
    {
     "data": {
      "text/plain": [
       "omat< ndir: 0, order: 0>\n",
       "re:\n",
       "array([[2.],\n",
       "       [3.]])"
      ]
     },
     "execution_count": 8,
     "metadata": {},
     "output_type": "execute_result"
    }
   ],
   "source": [
    "b"
   ]
  },
  {
   "cell_type": "code",
   "execution_count": 9,
   "metadata": {},
   "outputs": [
    {
     "name": "stdout",
     "output_type": "stream",
     "text": [
      "[[0.16666667]\n",
      " [0.75      ]]\n",
      "+ e([1]) * \n",
      "[[-0.66666667]\n",
      " [ 0.75      ]]\n",
      "+ e([2]) * \n",
      "[[0.]\n",
      " [0.]]\n",
      "+ e([[1,2]]) * \n",
      "[[0.66666667]\n",
      " [0.        ]]\n",
      "+ e([1,2]) * \n",
      "[[0.]\n",
      " [0.]]\n",
      "+ e([[2,2]]) * \n",
      "[[0.]\n",
      " [0.]]\n",
      "+ e([[1,3]]) * \n",
      "[[-0.66666667]\n",
      " [ 0.        ]]\n",
      "+ e([[1,2],2]) * \n",
      "[[0.]\n",
      " [0.]]\n",
      "+ e([1,[2,2]]) * \n",
      "[[0.]\n",
      " [0.]]\n",
      "+ e([[2,3]]) * \n",
      "[[0.]\n",
      " [0.]]\n",
      "+ e([[1,4]]) * \n",
      "[[0.66666667]\n",
      " [0.        ]]\n",
      "+ e([[1,3],2]) * \n",
      "[[0.]\n",
      " [0.]]\n",
      "+ e([[1,2],[2,2]]) * \n",
      "[[0.]\n",
      " [0.]]\n",
      "+ e([1,[2,3]]) * \n",
      "[[0.]\n",
      " [0.]]\n",
      "+ e([[2,4]]) * \n",
      "[[0.]\n",
      " [0.]]\n",
      "+ e([[1,5]]) * \n",
      "[[-0.66666667]\n",
      " [ 0.        ]]\n",
      "+ e([[1,4],2]) * \n",
      "[[0.]\n",
      " [0.]]\n",
      "+ e([[1,3],[2,2]]) * \n",
      "[[0.]\n",
      " [0.]]\n",
      "+ e([[1,2],[2,3]]) * \n",
      "[[0.]\n",
      " [0.]]\n",
      "+ e([1,[2,4]]) * \n",
      "[[0.]\n",
      " [0.]]\n",
      "+ e([[2,5]]) * \n",
      "[[0.]\n",
      " [0.]]\n",
      "\n"
     ]
    }
   ],
   "source": [
    "x = oti.solve(A,b)\n",
    "print(x)"
   ]
  },
  {
   "cell_type": "code",
   "execution_count": 9,
   "metadata": {},
   "outputs": [
    {
     "name": "stdout",
     "output_type": "stream",
     "text": [
      "87.3 µs ± 1.58 µs per loop (mean ± std. dev. of 7 runs, 10000 loops each)\n"
     ]
    }
   ],
   "source": [
    "%timeit otic.dhelp_get_matrix_form(n_variables,deriv_order,export_sparse=True)"
   ]
  },
  {
   "cell_type": "code",
   "execution_count": 14,
   "metadata": {},
   "outputs": [
    {
     "data": {
      "text/plain": [
       "68.16074188562597"
      ]
     },
     "execution_count": 14,
     "metadata": {},
     "output_type": "execute_result"
    }
   ],
   "source": [
    "441/6.47"
   ]
  },
  {
   "cell_type": "code",
   "execution_count": 11,
   "metadata": {},
   "outputs": [
    {
     "data": {
      "text/plain": [
       "array([[1., 0.],\n",
       "       [0., 1.]])"
      ]
     },
     "execution_count": 11,
     "metadata": {},
     "output_type": "execute_result"
    }
   ],
   "source": [
    "b.get_im(0)\n",
    "A.get_im(0)"
   ]
  },
  {
   "cell_type": "code",
   "execution_count": 12,
   "metadata": {},
   "outputs": [],
   "source": [
    "matA = A.get_im(0)\n",
    "matb = b.get_im(0)"
   ]
  },
  {
   "cell_type": "code",
   "execution_count": 13,
   "metadata": {},
   "outputs": [
    {
     "name": "stdout",
     "output_type": "stream",
     "text": [
      "6.47 µs ± 31.1 ns per loop (mean ± std. dev. of 7 runs, 100000 loops each)\n"
     ]
    }
   ],
   "source": [
    "%timeit oti.np.linalg.solve(matA,matb)"
   ]
  },
  {
   "cell_type": "code",
   "execution_count": 77,
   "metadata": {},
   "outputs": [
    {
     "name": "stdout",
     "output_type": "stream",
     "text": [
      "6.68 s ± 690 ms per loop (mean ± std. dev. of 7 runs, 1 loop each)\n"
     ]
    }
   ],
   "source": [
    "from scipy.linalg import lu_factor, lu_solve\n",
    "\n",
    "fact = lu_factor(matA)\n",
    "\n",
    "%timeit lu_factor(matA)\n"
   ]
  },
  {
   "cell_type": "code",
   "execution_count": 78,
   "metadata": {},
   "outputs": [
    {
     "name": "stdout",
     "output_type": "stream",
     "text": [
      "47.8 ms ± 791 µs per loop (mean ± std. dev. of 7 runs, 10 loops each)\n"
     ]
    }
   ],
   "source": [
    "%timeit lu_solve(fact,matb)"
   ]
  },
  {
   "cell_type": "code",
   "execution_count": 79,
   "metadata": {},
   "outputs": [
    {
     "name": "stdout",
     "output_type": "stream",
     "text": [
      "6.37 s ± 352 ms per loop (mean ± std. dev. of 7 runs, 1 loop each)\n"
     ]
    }
   ],
   "source": [
    "%timeit lu_solve(lu_factor(matA),matb)"
   ]
  },
  {
   "cell_type": "code",
   "execution_count": 80,
   "metadata": {},
   "outputs": [
    {
     "name": "stdout",
     "output_type": "stream",
     "text": [
      "44 ms ± 2.23 ms per loop (mean ± std. dev. of 7 runs, 10 loops each)\n"
     ]
    }
   ],
   "source": [
    "%timeit oti.np.dot(matA,matb)-matb"
   ]
  },
  {
   "cell_type": "code",
   "execution_count": null,
   "metadata": {},
   "outputs": [],
   "source": []
  },
  {
   "cell_type": "code",
   "execution_count": null,
   "metadata": {},
   "outputs": [],
   "source": []
  },
  {
   "cell_type": "code",
   "execution_count": null,
   "metadata": {},
   "outputs": [],
   "source": []
  },
  {
   "cell_type": "code",
   "execution_count": null,
   "metadata": {},
   "outputs": [],
   "source": []
  },
  {
   "cell_type": "code",
   "execution_count": 7,
   "metadata": {},
   "outputs": [],
   "source": [
    "idx_coo, ord_coo = dhelp_get_matrix_form(n_variables,deriv_order,export_sparse=True)"
   ]
  },
  {
   "cell_type": "code",
   "execution_count": 13,
   "metadata": {},
   "outputs": [
    {
     "data": {
      "text/plain": [
       "15"
      ]
     },
     "execution_count": 13,
     "metadata": {},
     "output_type": "execute_result"
    }
   ],
   "source": [
    "idx_coo.getnnz()"
   ]
  },
  {
   "cell_type": "code",
   "execution_count": 16,
   "metadata": {},
   "outputs": [],
   "source": [
    "data = oti.np.arange(1,idx_coo.getnnz()+1)"
   ]
  },
  {
   "cell_type": "code",
   "execution_count": 15,
   "metadata": {},
   "outputs": [
    {
     "data": {
      "text/plain": [
       "array([0, 1, 2, 3, 4, 5, 1, 2, 3, 4, 5, 3, 4, 4, 5], dtype=int32)"
      ]
     },
     "execution_count": 15,
     "metadata": {},
     "output_type": "execute_result"
    }
   ],
   "source": [
    "idx_coo.row"
   ]
  },
  {
   "cell_type": "code",
   "execution_count": 17,
   "metadata": {},
   "outputs": [],
   "source": [
    "import scipy.sparse as spr"
   ]
  },
  {
   "cell_type": "code",
   "execution_count": 18,
   "metadata": {},
   "outputs": [],
   "source": [
    "dummy_mat = spr.coo_matrix( (data,(idx_coo.row,idx_coo.col)) )"
   ]
  },
  {
   "cell_type": "code",
   "execution_count": 21,
   "metadata": {},
   "outputs": [],
   "source": [
    "\n",
    "dummy_csr = dummy_mat.tocsr()\n",
    "\n"
   ]
  },
  {
   "cell_type": "code",
   "execution_count": 22,
   "metadata": {},
   "outputs": [
    {
     "data": {
      "text/plain": [
       "array([ 1,  7,  2,  8,  3,  9, 12,  4, 10, 14, 13,  5, 11, 15,  6],\n",
       "      dtype=int64)"
      ]
     },
     "execution_count": 22,
     "metadata": {},
     "output_type": "execute_result"
    }
   ],
   "source": [
    "dummy_csr.data\n"
   ]
  },
  {
   "cell_type": "code",
   "execution_count": 25,
   "metadata": {},
   "outputs": [],
   "source": [
    "indices = dummy_csr.data.copy()"
   ]
  },
  {
   "cell_type": "code",
   "execution_count": 29,
   "metadata": {},
   "outputs": [],
   "source": [
    "# First system of equations\n",
    "\n",
    "first_column = dummy_csr[:,0]"
   ]
  },
  {
   "cell_type": "code",
   "execution_count": 34,
   "metadata": {},
   "outputs": [
    {
     "data": {
      "text/plain": [
       "(array([0, 0, 1, 0, 1, 2], dtype=uint64),\n",
       " array([0, 1, 1, 2, 2, 2], dtype=uint8))"
      ]
     },
     "execution_count": 34,
     "metadata": {},
     "output_type": "execute_result"
    }
   ],
   "source": [
    "first_column.todense()\n",
    "idx_coo.data[first_column.data-1],ord_coo.data[first_column.data-1]"
   ]
  },
  {
   "cell_type": "code",
   "execution_count": 28,
   "metadata": {},
   "outputs": [
    {
     "data": {
      "text/plain": [
       "<1x6 sparse matrix of type '<class 'numpy.int64'>'\n",
       "\twith 4 stored elements in Compressed Sparse Row format>"
      ]
     },
     "execution_count": 28,
     "metadata": {},
     "output_type": "execute_result"
    }
   ],
   "source": [
    "dummy_csr[0]\n",
    "dummy_csr[1]\n",
    "dummy_csr[2]\n",
    "dummy_csr[3]\n",
    "dummy_csr[4]"
   ]
  },
  {
   "cell_type": "code",
   "execution_count": 37,
   "metadata": {},
   "outputs": [],
   "source": [
    "AA = A.get_im(0,copy=False)\n"
   ]
  },
  {
   "cell_type": "code",
   "execution_count": 38,
   "metadata": {},
   "outputs": [],
   "source": [
    "A[1,1]=3"
   ]
  },
  {
   "cell_type": "code",
   "execution_count": 39,
   "metadata": {},
   "outputs": [
    {
     "data": {
      "text/plain": [
       "omat< ndir: 5, order: 2>\n",
       "re:\n",
       "array([[1., 0.],\n",
       "       [0., 3.]])"
      ]
     },
     "execution_count": 39,
     "metadata": {},
     "output_type": "execute_result"
    }
   ],
   "source": [
    "A"
   ]
  },
  {
   "cell_type": "code",
   "execution_count": 40,
   "metadata": {},
   "outputs": [
    {
     "data": {
      "text/plain": [
       "array([[1., 0.],\n",
       "       [0., 3.]])"
      ]
     },
     "execution_count": 40,
     "metadata": {},
     "output_type": "execute_result"
    }
   ],
   "source": [
    "AA\n"
   ]
  },
  {
   "cell_type": "code",
   "execution_count": null,
   "metadata": {},
   "outputs": [],
   "source": []
  }
 ],
 "metadata": {
  "kernelspec": {
   "display_name": "Python 3",
   "language": "python",
   "name": "python3"
  },
  "language_info": {
   "codemirror_mode": {
    "name": "ipython",
    "version": 3
   },
   "file_extension": ".py",
   "mimetype": "text/x-python",
   "name": "python",
   "nbconvert_exporter": "python",
   "pygments_lexer": "ipython3",
   "version": "3.8.10"
  }
 },
 "nbformat": 4,
 "nbformat_minor": 2
}
