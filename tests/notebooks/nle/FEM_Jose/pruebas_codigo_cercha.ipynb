{
 "cells": [
  {
   "cell_type": "code",
   "execution_count": 1,
   "metadata": {},
   "outputs": [],
   "source": [
    "%reset -f\n",
    "import sys\n",
    "sys.path.append(\"/home/jose/Documents/Maestria/Codigo/otilib/build/\")\n",
    "import pyoti.sparse as oti\n",
    "import Malla\n",
    "import Ens_K as ens\n",
    "import Solucion as sol\n",
    "import numpy as np\n",
    "import pylab"
   ]
  },
  {
   "cell_type": "markdown",
   "metadata": {},
   "source": [
    "### Solucion mediante Forma matricial de Duals\n",
    "Se usa librería complex o OTIs"
   ]
  },
  {
   "cell_type": "code",
   "execution_count": 28,
   "metadata": {},
   "outputs": [],
   "source": [
    "def dir_ima (mat, iD, eD, ima, h): #Asigna direccion imaginaria a la variable iD del elemento eD en la matriz mat\n",
    "    if ima == \"duals_complex\" or ima == \"complex\":\n",
    "        m = mat.astype(\"complex\")  \n",
    "        m[eD,iD] = m[eD,iD] + h*1j \n",
    "    elif ima == \"duals_oti\":\n",
    "        m = mat + 0*oti.e(1)\n",
    "        m[eD,iD] = m[eD,iD] + oti.e(1)\n",
    "    else:\n",
    "        print (\"numero imaginario no valido\")\n",
    "    return(m)"
   ]
  },
  {
   "cell_type": "code",
   "execution_count": 29,
   "metadata": {},
   "outputs": [],
   "source": [
    "def calc(ima, h, K_tgv, f): #Soluciona FEM desplazamiento y la derivada mediante numeros imaginarios\n",
    "    if ima == \"duals_complex\":\n",
    "        ur, ueph = sol.MDuals_complex(K_tgv,f) #Solucion con Duals matricial y libreria estandar complejos\n",
    "        uep = ueph/h    \n",
    "    elif ima == \"duals_oti\":\n",
    "        ur, uep = sol.MDuals_oti(K_tgv,f)   #Solucion con Duals matricial y libreria otilib\n",
    "    elif ima == \"complex\":\n",
    "        ur, uih = sol.complex(K_tgv,f)\n",
    "        uep = uih/h\n",
    "    else:\n",
    "        print (\"numero imaginario no valido\") \n",
    "    return(ur, uep)"
   ]
  },
  {
   "cell_type": "code",
   "execution_count": 30,
   "metadata": {},
   "outputs": [],
   "source": [
    "def main(ima, h):\n",
    "    nodos, eles, mat, Cond_front = Malla.lect2D(\"cercha2D\")\n",
    "    dof = 2 #grados de libertad (2 para cercha 2D)\n",
    "    iD = 0 #Variable para derivar desplazamiento (u): 0 para A (seccion transversal) // 1 para E (Modulo elast.)\n",
    "    eD = 2 #Elemento al que se le quiere derivar iD (inicia en 0)\n",
    "    m = dir_ima(mat, iD, eD, ima, h)\n",
    "    K = ens.K(dof, eles, nodos, m)       #Forma matriz K\n",
    "    K_tgv,f = sol.cf(K, Cond_front, dof) #Aplica Condiciones de frontera metodo TGV\n",
    "    ur, uep = calc(ima, h, K_tgv, f) #solucion u_real, u_imag\n",
    "    return(ur, uep)"
   ]
  },
  {
   "cell_type": "code",
   "execution_count": 61,
   "metadata": {},
   "outputs": [],
   "source": [
    "def plot(ur_exacto, uep_exacto, ima, comp):\n",
    "#def plot(ur_exacto, ima, comp):\n",
    "    nevals =10\n",
    "    e = np.zeros([nevals,2])\n",
    "    h = np.zeros(nevals)\n",
    "    for i in range(nevals):\n",
    "        h[i] = 10**(-i)\n",
    "        ur, uep = main(ima, h[i])\n",
    "        e[i,0] = abs(ur_exacto - ur[comp])/abs(ur_exacto)\n",
    "        e[i,1] = abs(uep_exacto - uep[comp])/abs(uep_exacto)\n",
    "    pylab.plot(h, e[:,0], '.-', label = 'Solucion MEF')\n",
    "    pylab.plot(h, e[:,1], '--' , label='Derivada')\n",
    "    pylab.legend(loc='upper right')\n",
    "    pylab.xscale('log')\n",
    "    #pylab.yscale('log')\n",
    "    pylab.xlabel('h')\n",
    "    pylab.ylabel('Error relativo') \n",
    "    return "
   ]
  },
  {
   "cell_type": "code",
   "execution_count": 62,
   "metadata": {},
   "outputs": [
    {
     "data": {
      "image/png": "[encoded data removed]",
      "text/plain": [
       "<Figure size 432x288 with 1 Axes>"
      ]
     },
     "metadata": {
      "needs_background": "light"
     },
     "output_type": "display_data"
    }
   ],
   "source": [
    "ima = \"complex\" #numeros imaginarios y librerias empleadas \"complex\", \"duals_comp\" o \"duals_oti\"\n",
    "ur, uep = main(\"duals_oti\", 1)\n",
    "comp = 3 #componente del sistema a la que se va a graficar la funcion\n",
    "ur_exacto = ur[comp]\n",
    "uep_exacto = uep[comp]\n",
    "#ur_exacto = -6.898e-7\n",
    "plot(ur_exacto, uep_exacto, ima, comp)\n",
    "#plot(ur_exacto, ima, comp)\n",
    "\n",
    "#ima = \"duals_complex\"\n",
    "#plot(ur_exacto, ima, comp)\n",
    "\n",
    "#ima = \"duals_oti\"\n",
    "#plot(ur_exacto, ima, comp)\n",
    "\n",
    "pylab.gca().invert_xaxis()\n",
    "pylab.grid()\n",
    "pylab.savefig(\"solu.pdf\")\n",
    "pylab.show()"
   ]
  },
  {
   "cell_type": "code",
   "execution_count": null,
   "metadata": {},
   "outputs": [],
   "source": []
  }
 ],
 "metadata": {
  "kernelspec": {
   "display_name": "Python 3",
   "language": "python",
   "name": "python3"
  },
  "language_info": {
   "codemirror_mode": {
    "name": "ipython",
    "version": 3
   },
   "file_extension": ".py",
   "mimetype": "text/x-python",
   "name": "python",
   "nbconvert_exporter": "python",
   "pygments_lexer": "ipython3",
   "version": "3.6.9"
  }
 },
 "nbformat": 4,
 "nbformat_minor": 2
}
