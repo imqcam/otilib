{
 "cells": [
  {
   "cell_type": "code",
   "execution_count": 6,
   "metadata": {},
   "outputs": [],
   "source": [
    "%reset -f\n",
    "import sys\n",
    "sys.path.append(\"/home/jose/Documents/Maestria/Codigo/otilib/build/\")\n",
    "import pyoti.sparse as oti\n",
    "import Malla\n",
    "import Ens_K as ens\n",
    "import Solucion as sol\n",
    "import numpy as np"
   ]
  },
  {
   "cell_type": "markdown",
   "metadata": {},
   "source": [
    "### Solucion mediante Forma matricial de Duals\n",
    "Se usa librería complex o OTIs"
   ]
  },
  {
   "cell_type": "code",
   "execution_count": 7,
   "metadata": {},
   "outputs": [],
   "source": [
    "def dir_ima (mat, iD, eD, ima, h): #Asigna direccion imaginaria a la variable iD del elemento eD en la matriz mat\n",
    "    if ima == \"duals_comp\" or ima == \"complex\":\n",
    "        m = mat.astype(\"complex\")  \n",
    "        m[eD,iD] = m[eD,iD] + h*1j \n",
    "    elif ima == \"duals_oti\":\n",
    "        m = mat + 0*oti.e(1)\n",
    "        m[eD,iD] = m[eD,iD] + oti.e(1)\n",
    "    else:\n",
    "        print (\"numero imaginario no valido\")\n",
    "    return(m)"
   ]
  },
  {
   "cell_type": "code",
   "execution_count": 8,
   "metadata": {},
   "outputs": [],
   "source": [
    "def calc(ima, h, K_tgv, f): #Soluciona FEM desplazamiento y la derivada mediante numeros imaginarios\n",
    "    if ima == \"duals_comp\":\n",
    "        ur, ueph = sol.MDuals_complex(K_tgv,f) #Solucion con Duals matricial y libreria estandar complejos\n",
    "        uep = ueph/h    \n",
    "    elif ima == \"duals_oti\":\n",
    "        ur, uep = sol.MDuals_oti(K_tgv,f)   #Solucion con Duals matricial y libreria otilib\n",
    "    elif ima == \"complex\":\n",
    "        ur, uep = sol.complex(K_tgv,f)\n",
    "    else:\n",
    "        print (\"numero imaginario no valido\") \n",
    "    return(ur, uep)"
   ]
  },
  {
   "cell_type": "code",
   "execution_count": 9,
   "metadata": {},
   "outputs": [
    {
     "ename": "AttributeError",
     "evalue": "module 'Solucion' has no attribute 'complex'",
     "output_type": "error",
     "traceback": [
      "\u001b[0;31m---------------------------------------------------------------------------\u001b[0m",
      "\u001b[0;31mAttributeError\u001b[0m                            Traceback (most recent call last)",
      "\u001b[0;32m<ipython-input-9-997c3642541e>\u001b[0m in \u001b[0;36m<module>\u001b[0;34m\u001b[0m\n\u001b[1;32m      9\u001b[0m \u001b[0mK\u001b[0m \u001b[0;34m=\u001b[0m \u001b[0mens\u001b[0m\u001b[0;34m.\u001b[0m\u001b[0mK\u001b[0m\u001b[0;34m(\u001b[0m\u001b[0mdof\u001b[0m\u001b[0;34m,\u001b[0m \u001b[0meles\u001b[0m\u001b[0;34m,\u001b[0m \u001b[0mnodos\u001b[0m\u001b[0;34m,\u001b[0m \u001b[0mm\u001b[0m\u001b[0;34m)\u001b[0m       \u001b[0;31m#Forma matriz K\u001b[0m\u001b[0;34m\u001b[0m\u001b[0;34m\u001b[0m\u001b[0m\n\u001b[1;32m     10\u001b[0m \u001b[0mK_tgv\u001b[0m\u001b[0;34m,\u001b[0m\u001b[0mf\u001b[0m \u001b[0;34m=\u001b[0m \u001b[0msol\u001b[0m\u001b[0;34m.\u001b[0m\u001b[0mcf\u001b[0m\u001b[0;34m(\u001b[0m\u001b[0mK\u001b[0m\u001b[0;34m,\u001b[0m \u001b[0mCond_front\u001b[0m\u001b[0;34m,\u001b[0m \u001b[0mdof\u001b[0m\u001b[0;34m)\u001b[0m \u001b[0;31m#Aplica Condiciones de frontera metodo TGV\u001b[0m\u001b[0;34m\u001b[0m\u001b[0;34m\u001b[0m\u001b[0m\n\u001b[0;32m---> 11\u001b[0;31m \u001b[0mur\u001b[0m\u001b[0;34m,\u001b[0m \u001b[0muep\u001b[0m \u001b[0;34m=\u001b[0m \u001b[0mcalc\u001b[0m\u001b[0;34m(\u001b[0m\u001b[0mima\u001b[0m\u001b[0;34m,\u001b[0m \u001b[0mh\u001b[0m\u001b[0;34m,\u001b[0m \u001b[0mK_tgv\u001b[0m\u001b[0;34m,\u001b[0m \u001b[0mf\u001b[0m\u001b[0;34m)\u001b[0m \u001b[0;31m#solucion u_real, u_imag\u001b[0m\u001b[0;34m\u001b[0m\u001b[0;34m\u001b[0m\u001b[0m\n\u001b[0m",
      "\u001b[0;32m<ipython-input-8-715cf15cab46>\u001b[0m in \u001b[0;36mcalc\u001b[0;34m(ima, h, K_tgv, f)\u001b[0m\n\u001b[1;32m      6\u001b[0m         \u001b[0mur\u001b[0m\u001b[0;34m,\u001b[0m \u001b[0muep\u001b[0m \u001b[0;34m=\u001b[0m \u001b[0msol\u001b[0m\u001b[0;34m.\u001b[0m\u001b[0mMDuals_oti\u001b[0m\u001b[0;34m(\u001b[0m\u001b[0mK_tgv\u001b[0m\u001b[0;34m,\u001b[0m\u001b[0mf\u001b[0m\u001b[0;34m)\u001b[0m   \u001b[0;31m#Solucion con Duals matricial y libreria otilib\u001b[0m\u001b[0;34m\u001b[0m\u001b[0;34m\u001b[0m\u001b[0m\n\u001b[1;32m      7\u001b[0m     \u001b[0;32melif\u001b[0m \u001b[0mima\u001b[0m \u001b[0;34m==\u001b[0m \u001b[0;34m\"complex\"\u001b[0m\u001b[0;34m:\u001b[0m\u001b[0;34m\u001b[0m\u001b[0;34m\u001b[0m\u001b[0m\n\u001b[0;32m----> 8\u001b[0;31m         \u001b[0mur\u001b[0m\u001b[0;34m,\u001b[0m \u001b[0muep\u001b[0m \u001b[0;34m=\u001b[0m \u001b[0msol\u001b[0m\u001b[0;34m.\u001b[0m\u001b[0mcomplex\u001b[0m\u001b[0;34m(\u001b[0m\u001b[0mK_tgv\u001b[0m\u001b[0;34m,\u001b[0m\u001b[0mf\u001b[0m\u001b[0;34m)\u001b[0m\u001b[0;34m\u001b[0m\u001b[0;34m\u001b[0m\u001b[0m\n\u001b[0m\u001b[1;32m      9\u001b[0m     \u001b[0;32melse\u001b[0m\u001b[0;34m:\u001b[0m\u001b[0;34m\u001b[0m\u001b[0;34m\u001b[0m\u001b[0m\n\u001b[1;32m     10\u001b[0m         \u001b[0mprint\u001b[0m \u001b[0;34m(\u001b[0m\u001b[0;34m\"numero imaginario no valido\"\u001b[0m\u001b[0;34m)\u001b[0m\u001b[0;34m\u001b[0m\u001b[0;34m\u001b[0m\u001b[0m\n",
      "\u001b[0;31mAttributeError\u001b[0m: module 'Solucion' has no attribute 'complex'"
     ]
    }
   ],
   "source": [
    "ima = \"complex\" #numeros imaginarios y librerias empleadas \"complex\", \"duals_comp\" o \"duals_oti\"\n",
    "h = 1\n",
    "\n",
    "nodos, eles, mat, Cond_front = Malla.lect2D(\"cercha2D\")\n",
    "dof = 2 #grados de libertad (2 para cercha 2D)\n",
    "iD = 1 #Variable para derivar desplazamiento (u): 0 para A (seccion transversal) // 1 para E (Modulo elast.)\n",
    "eD = 1 #Elemento al que se le quiere derivar iD (inicia en 0)\n",
    "m = dir_ima(mat, iD, eD, ima, h)\n",
    "K = ens.K(dof, eles, nodos, m)       #Forma matriz K\n",
    "K_tgv,f = sol.cf(K, Cond_front, dof) #Aplica Condiciones de frontera metodo TGV\n",
    "ur, uep = calc(ima, h, K_tgv, f) #solucion u_real, u_imag"
   ]
  },
  {
   "cell_type": "code",
   "execution_count": 10,
   "metadata": {},
   "outputs": [
    {
     "ename": "NameError",
     "evalue": "name 'ur' is not defined",
     "output_type": "error",
     "traceback": [
      "\u001b[0;31m---------------------------------------------------------------------------\u001b[0m",
      "\u001b[0;31mNameError\u001b[0m                                 Traceback (most recent call last)",
      "\u001b[0;32m<ipython-input-10-7f2a6a606615>\u001b[0m in \u001b[0;36m<module>\u001b[0;34m\u001b[0m\n\u001b[0;32m----> 1\u001b[0;31m \u001b[0mur\u001b[0m\u001b[0;34m\u001b[0m\u001b[0;34m\u001b[0m\u001b[0m\n\u001b[0m",
      "\u001b[0;31mNameError\u001b[0m: name 'ur' is not defined"
     ]
    }
   ],
   "source": [
    "ur"
   ]
  },
  {
   "cell_type": "code",
   "execution_count": 6,
   "metadata": {
    "collapsed": true
   },
   "outputs": [
    {
     "data": {
      "text/plain": [
       "array([0.00000000e+00, 0.00000000e+00, 0.00000000e+00, 2.04081633e-18,\n",
       "       0.00000000e+00, 2.04081633e-18])"
      ]
     },
     "execution_count": 6,
     "metadata": {},
     "output_type": "execute_result"
    }
   ],
   "source": [
    "uep"
   ]
  },
  {
   "cell_type": "code",
   "execution_count": null,
   "metadata": {},
   "outputs": [],
   "source": []
  }
 ],
 "metadata": {
  "kernelspec": {
   "display_name": "Python 3",
   "language": "python",
   "name": "python3"
  },
  "language_info": {
   "codemirror_mode": {
    "name": "ipython",
    "version": 3
   },
   "file_extension": ".py",
   "mimetype": "text/x-python",
   "name": "python",
   "nbconvert_exporter": "python",
   "pygments_lexer": "ipython3",
   "version": "3.6.9"
  }
 },
 "nbformat": 4,
 "nbformat_minor": 2
}
