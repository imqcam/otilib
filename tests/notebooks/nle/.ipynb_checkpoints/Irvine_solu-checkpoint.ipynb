{
 "cells": [
  {
   "cell_type": "code",
   "execution_count": 2,
   "metadata": {},
   "outputs": [],
   "source": [
    "%reset -f\n",
    "import sys\n",
    "sys.path.append(\"/home/jose/Documents/Maestria/Codigo/OTI/build/\")\n",
    "import Calc_Cable as cab\n",
    "import pyoti.sparse as oti\n",
    "import numpy as np"
   ]
  },
  {
   "cell_type": "code",
   "execution_count": 3,
   "metadata": {
    "scrolled": false
   },
   "outputs": [
    {
     "ename": "TypeError",
     "evalue": "object of type 'pyoti.sparse.matso' has no len()",
     "output_type": "error",
     "traceback": [
      "\u001b[0;31m---------------------------------------------------------------------------\u001b[0m",
      "\u001b[0;31mTypeError\u001b[0m                                 Traceback (most recent call last)",
      "\u001b[0;32m<ipython-input-3-0dcad7ea3df7>\u001b[0m in \u001b[0;36m<module>\u001b[0;34m\u001b[0m\n\u001b[1;32m     30\u001b[0m     \u001b[0;31m#calcular curva\u001b[0m\u001b[0;34m\u001b[0m\u001b[0;34m\u001b[0m\u001b[0;34m\u001b[0m\u001b[0m\n\u001b[1;32m     31\u001b[0m     \u001b[0mp\u001b[0m \u001b[0;34m=\u001b[0m \u001b[0;36m100\u001b[0m \u001b[0;31m#puntos de la curva\u001b[0m\u001b[0;34m\u001b[0m\u001b[0;34m\u001b[0m\u001b[0m\n\u001b[0;32m---> 32\u001b[0;31m     \u001b[0mA\u001b[0m \u001b[0;34m=\u001b[0m \u001b[0mcab\u001b[0m\u001b[0;34m.\u001b[0m\u001b[0mcurva\u001b[0m\u001b[0;34m(\u001b[0m\u001b[0mnbases\u001b[0m\u001b[0;34m,\u001b[0m\u001b[0morder\u001b[0m\u001b[0;34m,\u001b[0m\u001b[0mgi\u001b[0m\u001b[0;34m,\u001b[0m\u001b[0mfi\u001b[0m\u001b[0;34m,\u001b[0m\u001b[0mbeta\u001b[0m\u001b[0;34m,\u001b[0m\u001b[0mPsi\u001b[0m\u001b[0;34m,\u001b[0m\u001b[0mSigmas\u001b[0m\u001b[0;34m,\u001b[0m\u001b[0mp\u001b[0m\u001b[0;34m)\u001b[0m\u001b[0;34m\u001b[0m\u001b[0;34m\u001b[0m\u001b[0m\n\u001b[0m\u001b[1;32m     33\u001b[0m \u001b[0;34m\u001b[0m\u001b[0m\n\u001b[1;32m     34\u001b[0m     \u001b[0;31m#Convertir a dimensionales\u001b[0m\u001b[0;34m\u001b[0m\u001b[0;34m\u001b[0m\u001b[0;34m\u001b[0m\u001b[0m\n",
      "\u001b[0;32m~/Dropbox/Maestria/Codigo/Calc_Cable.py\u001b[0m in \u001b[0;36mcurva\u001b[0;34m(nbases, order, gi, fi, beta, Psi, Sigmas, p)\u001b[0m\n\u001b[1;32m    107\u001b[0m \u001b[0;32mdef\u001b[0m \u001b[0mcurva\u001b[0m\u001b[0;34m(\u001b[0m\u001b[0mnbases\u001b[0m\u001b[0;34m,\u001b[0m\u001b[0morder\u001b[0m\u001b[0;34m,\u001b[0m\u001b[0mgi\u001b[0m\u001b[0;34m,\u001b[0m\u001b[0mfi\u001b[0m\u001b[0;34m,\u001b[0m\u001b[0mbeta\u001b[0m\u001b[0;34m,\u001b[0m\u001b[0mPsi\u001b[0m\u001b[0;34m,\u001b[0m\u001b[0mSigmas\u001b[0m\u001b[0;34m,\u001b[0m\u001b[0mp\u001b[0m\u001b[0;34m)\u001b[0m\u001b[0;34m:\u001b[0m\u001b[0;34m\u001b[0m\u001b[0;34m\u001b[0m\u001b[0m\n\u001b[1;32m    108\u001b[0m     \u001b[0mS\u001b[0m \u001b[0;34m=\u001b[0m \u001b[0mnp\u001b[0m\u001b[0;34m.\u001b[0m\u001b[0mlinspace\u001b[0m\u001b[0;34m(\u001b[0m\u001b[0;36m0\u001b[0m\u001b[0;34m,\u001b[0m\u001b[0;36m1\u001b[0m\u001b[0;34m,\u001b[0m\u001b[0mp\u001b[0m\u001b[0;34m)\u001b[0m\u001b[0;34m\u001b[0m\u001b[0;34m\u001b[0m\u001b[0m\n\u001b[0;32m--> 109\u001b[0;31m     \u001b[0mN\u001b[0m \u001b[0;34m=\u001b[0m \u001b[0mlen\u001b[0m\u001b[0;34m(\u001b[0m\u001b[0mSigmas\u001b[0m\u001b[0;34m)\u001b[0m \u001b[0;34m-\u001b[0m \u001b[0;36m1\u001b[0m\u001b[0;34m\u001b[0m\u001b[0;34m\u001b[0m\u001b[0m\n\u001b[0m\u001b[1;32m    110\u001b[0m     \u001b[0ma\u001b[0m \u001b[0;34m=\u001b[0m \u001b[0mp\u001b[0m \u001b[0;34m+\u001b[0m \u001b[0mN\u001b[0m\u001b[0;34m\u001b[0m\u001b[0;34m\u001b[0m\u001b[0m\n\u001b[1;32m    111\u001b[0m     \u001b[0mA\u001b[0m \u001b[0;34m=\u001b[0m \u001b[0moti\u001b[0m\u001b[0;34m.\u001b[0m\u001b[0mzeros\u001b[0m\u001b[0;34m(\u001b[0m\u001b[0;34m(\u001b[0m\u001b[0ma\u001b[0m\u001b[0;34m,\u001b[0m\u001b[0;36m3\u001b[0m\u001b[0;34m)\u001b[0m\u001b[0;34m,\u001b[0m\u001b[0mnbases\u001b[0m\u001b[0;34m=\u001b[0m\u001b[0mnbases\u001b[0m\u001b[0;34m,\u001b[0m\u001b[0morder\u001b[0m\u001b[0;34m=\u001b[0m\u001b[0morder\u001b[0m\u001b[0;34m)\u001b[0m\u001b[0;34m\u001b[0m\u001b[0;34m\u001b[0m\u001b[0m\n",
      "\u001b[0;31mTypeError\u001b[0m: object of type 'pyoti.sparse.matso' has no len()"
     ]
    }
   ],
   "source": [
    "#SOLUCION PARA EL CABLE DEL PAPER IRVINE\n",
    "order = 2\n",
    "nbases = 6\n",
    "\n",
    "for u in range(3):\n",
    "    #Lectura de datos de entrada\n",
    "    l,h,L0,A0,E,w,cargas = cab.leer_entradas(\"Irvine_\"+str(u))\n",
    "    \n",
    "    #Pertubar parametros (no sirve para perturbar cargas y ubicacion s de las cargas)\n",
    "    e1 = oti.e(1,nbases=nbases, order=order)\n",
    "    e2 = oti.e(2,nbases=nbases, order=order)\n",
    "    e3 = oti.e(3,nbases=nbases, order=order)\n",
    "    e4 = oti.e(4,nbases=nbases, order=order)\n",
    "    e5 = oti.e(5,nbases=nbases, order=order)\n",
    "    e6 = oti.e(6,nbases=nbases, order=order)\n",
    "    l = l + e1\n",
    "    h = h + e2\n",
    "    L0 = L0 + e3\n",
    "    A0 = A0 + e4\n",
    "    E = E + e5\n",
    "    w = w + e6\n",
    "\n",
    "    #convertir adimensionales\n",
    "    gamma,delta,beta,Psi,Sigmas = cab.param_adim(l,h,L0,A0,E,w,cargas)\n",
    "\n",
    "    #calcular las incognitas gi fi\n",
    "    gi_0, fi_0 = 0.3, 0.4 #valores iniciales para iterar en newton\n",
    "    gi,fi = cab.calc_gi_fi(order,nbases,gamma,delta,beta,Psi,Sigmas,gi_0,fi_0)\n",
    "\n",
    "    #calcular curva\n",
    "    p = 100 #puntos de la curva\n",
    "    A = cab.curva(nbases,order,gi,fi,beta,Psi,Sigmas,p)\n",
    "\n",
    "    #Convertir a dimensionales    \n",
    "    x = (A[:,0]*L0).get_deriv(0)\n",
    "    y = (A[:,1]*L0).get_deriv(0)\n",
    "    T = (A[:,2]*w*L0).get_deriv(0)\n",
    "\n",
    "    #Graficar cable\n",
    "    cab.plot_curva(x,y,T,u)"
   ]
  },
  {
   "cell_type": "code",
   "execution_count": null,
   "metadata": {},
   "outputs": [],
   "source": []
  }
 ],
 "metadata": {
  "kernelspec": {
   "display_name": "Python 3",
   "language": "python",
   "name": "python3"
  },
  "language_info": {
   "codemirror_mode": {
    "name": "ipython",
    "version": 3
   },
   "file_extension": ".py",
   "mimetype": "text/x-python",
   "name": "python",
   "nbconvert_exporter": "python",
   "pygments_lexer": "ipython3",
   "version": "3.6.9"
  }
 },
 "nbformat": 4,
 "nbformat_minor": 2
}
