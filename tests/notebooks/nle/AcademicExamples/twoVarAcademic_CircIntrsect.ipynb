{
 "cells": [
  {
   "cell_type": "code",
   "execution_count": 17,
   "id": "30d2d20a",
   "metadata": {},
   "outputs": [],
   "source": [
    "import pyoti.core as coti\n",
    "import pyoti.sparse as oti\n",
    "import numpy as np\n",
    "%matplotlib notebook\n",
    "import matplotlib.pyplot as plt\n",
    "import matplotlib.ticker as ticker\n",
    "\n",
    "import sympy as sym\n",
    "\n",
    "plt.rcParams.update({\n",
    "    \"text.usetex\": True,\n",
    "    \"font.family\": \"Computer Modern Roman\",\n",
    "    \"font.size\": 12,\n",
    "    \"font.sans-serif\": [\"Helvetica\"]\n",
    "})\n",
    "\n",
    "np.set_printoptions(linewidth=120)"
   ]
  },
  {
   "cell_type": "code",
   "execution_count": 2,
   "id": "65559609",
   "metadata": {},
   "outputs": [],
   "source": [
    "def fun2(X,r,m,b):\n",
    "    #INTERSECTION BETWEEN CURVES.\n",
    "    f = oti.zeros((2,1))\n",
    "    x = X[0,0].copy()\n",
    "    y = X[1,0].copy()\n",
    "    f[0,0] = x**2 + y**2 - r**2 \n",
    "    f[1,0] = y - ( m * x + b )\n",
    "    return f\n",
    "\n",
    "def Jfun2(X,func,verbose,r,m,b):\n",
    "    #INTERSECTION BETWEEN CURVES.\n",
    "    J = oti.zeros((2,2))\n",
    "    x = X[0,0].copy()\n",
    "    y = X[1,0].copy()\n",
    "    J[0,0] = 2 * x \n",
    "    J[1,0] = - m \n",
    "    J[0,1] = 2 * y \n",
    "    J[1,1] = 1\n",
    "    return J\n",
    "\n",
    "def fun2_curves(x,r,m,b):\n",
    "    #CURVES.\n",
    "    y = oti.zeros((x.shape[0],3))\n",
    "    y[:,0] =  oti.sqrt(r**2 - x**2)\n",
    "    y[:,1] = -oti.sqrt(r**2 - x**2)\n",
    "    y[:,2] = m * x + b\n",
    "    return y\n",
    "\n",
    "\n",
    "def intersect_pts(r,m,b,alg=oti):\n",
    "    #CURVES.\n",
    "        \n",
    "    #     x[0,0] = (-m*b + oti.sqrt( (m*b)**2 - (m+1)*(b**2-r**2) ) )/( (m+1) )\n",
    "    #     x[1,0] = (-m*b - oti.sqrt( (m*b)**2 - (m+1)*(b**2-r**2) ) )/( (m+1) )\n",
    "    x1 = alg.zeros((2,1))\n",
    "    x1[0,0] = (-b*m + alg.sqrt(-b**2 + m**2*r**2 + r**2))/(m**2 + 1)\n",
    "    x1[1,0] = m * x1[0,0] + b\n",
    "    \n",
    "    x2 = alg.zeros((2,1))\n",
    "    x2[0,0] = (-b*m - alg.sqrt(-b**2 + m**2*r**2 + r**2))/(m**2 + 1)\n",
    "    x2[1,0] = m * x2[0,0] + b\n",
    "        \n",
    "    return x1,x2"
   ]
  },
  {
   "cell_type": "code",
   "execution_count": 3,
   "id": "b44fc535",
   "metadata": {},
   "outputs": [],
   "source": [
    "# utils\n",
    "def newton_otisis(func, jaco, x, tol, maxiter=50, args=(), verbose=False,eps = 1e-16):\n",
    "    error = 1e30\n",
    "    n = 0\n",
    "    nx = x.shape[0]\n",
    "    dx = oti.zeros( (nx,1), order=x.order)\n",
    "    \n",
    "    argv = (func,verbose)+args\n",
    "    while error > tol:\n",
    "\n",
    "        if n==maxiter:\n",
    "            print(\"Did not converge. \", maxiter, \"iters.\")\n",
    "            break\n",
    "        if verbose:\n",
    "            print(\"Iteration {0}\".format(n))\n",
    "        mJ = -jaco(x,*argv)\n",
    "#         print(mJ.shape)\n",
    "        f_eval = func(x,*args)\n",
    "#         print(f_eval.shape)\n",
    "\n",
    "        \n",
    "        dx = oti.dot(oti.inv(mJ),f_eval)\n",
    "        x += dx\n",
    "        error = oti.norm(dx)/(oti.norm(x)+eps)\n",
    "        error = (error).get_deriv(0)\n",
    "        \n",
    "        if verbose:\n",
    "            print(\"\\nf\")\n",
    "            print(f_eval)\n",
    "            print(\"\\nJ\")\n",
    "            print(-mJ)\n",
    "            print('\\ndx')\n",
    "            print(dx)\n",
    "            print(\"\\nx i+1\")\n",
    "            print(x)\n",
    "            print(\"Error\")\n",
    "            print(\"{0:.10f}\".format(error))\n",
    "            print(\"\\n\"+100*\"=\")\n",
    "        n += 1\n",
    "    print(\"niter: \",n)\n",
    "#     print(\"rel_err:\",(oti.norm(dx)/oti.norm(x)).get_deriv(0))\n",
    "    return x\n",
    "\n",
    "def j_DF (x, func, *args):\n",
    "    h = 1e-8\n",
    "    nx = x.shape[0]\n",
    "    J = oti.zeros((nx,nx), order=x.order)\n",
    "    for i in range(nx):\n",
    "        xh = x.copy()\n",
    "        xh[i,0]+= h\n",
    "        dfdxi = (func(xh,*args) - func(x,*args))/h\n",
    "        for j in range(nx):\n",
    "            J[j,i] = dfdxi[j,0]\n",
    "    return J\n",
    "\n",
    "def j_oti (x, func,verbose, *args):\n",
    "    nx = x.shape[0]\n",
    "    active_bases = func(x,*args).get_active_bases()\n",
    "    if len(active_bases)==0:\n",
    "        next_base = 1 \n",
    "    else:\n",
    "        next_base = max(active_bases) + 1\n",
    "    # end if \n",
    "    \n",
    "    e_x = oti.zeros((nx,1), order=(x.order+1))\n",
    "    for i in range(nx):\n",
    "        e_x[i] = oti.e(next_base + i, order = (x.order+1))  \n",
    "    # end for \n",
    "    J = oti.zeros((nx,nx), order=x.order)\n",
    "    fun = func(x+e_x, *args) \n",
    "    if verbose:\n",
    "        print('\\nf for jacobian')\n",
    "        print(fun)\n",
    "    for n in range(nx):\n",
    "        J_col = fun.extract_deriv(next_base + n)\n",
    "        \n",
    "        for j in range(nx):\n",
    "            J_col = J_col.truncate(next_base + j)\n",
    "        # end for \n",
    "        for m in range(nx):\n",
    "            J[m,n] = J_col[m,0]\n",
    "        # end for \n",
    "    # end for \n",
    "    return J"
   ]
  },
  {
   "cell_type": "code",
   "execution_count": 4,
   "id": "90b772e4",
   "metadata": {},
   "outputs": [
    {
     "data": {
      "text/plain": [
       "(matso< shape: (2, 1), \n",
       "  - Column 0\n",
       " (0,0) 2.4\n",
       " (1,0) 3.2\n",
       " >,\n",
       " matso< shape: (2, 1), \n",
       "  - Column 0\n",
       " (0,0) 0\n",
       " (1,0) -4\n",
       " >)"
      ]
     },
     "execution_count": 4,
     "metadata": {},
     "output_type": "execute_result"
    }
   ],
   "source": [
    "intersect_pts(4,3,-4,alg=oti)"
   ]
  },
  {
   "cell_type": "code",
   "execution_count": 5,
   "id": "b94ae53b",
   "metadata": {},
   "outputs": [
    {
     "data": {
      "text/plain": [
       "2.4"
      ]
     },
     "execution_count": 5,
     "metadata": {},
     "output_type": "execute_result"
    }
   ],
   "source": [
    "r = 4\n",
    "m = 3\n",
    "b = -4\n",
    "\n",
    "(-m*b+np.sqrt(r*r*(m*m+1)-b*b))/(m*m+1)"
   ]
  },
  {
   "cell_type": "code",
   "execution_count": 6,
   "id": "9f30e290",
   "metadata": {},
   "outputs": [
    {
     "data": {
      "text/plain": [
       "144"
      ]
     },
     "execution_count": 6,
     "metadata": {},
     "output_type": "execute_result"
    }
   ],
   "source": [
    "r*r*(m*m+1)-b*b"
   ]
  },
  {
   "cell_type": "code",
   "execution_count": 7,
   "id": "28082fd2",
   "metadata": {},
   "outputs": [
    {
     "data": {
      "text/plain": [
       "3.2"
      ]
     },
     "execution_count": 7,
     "metadata": {},
     "output_type": "execute_result"
    }
   ],
   "source": [
    "(b+m*np.sqrt(r*r*(m*m+1)-b*b))/(m*m+1)"
   ]
  },
  {
   "cell_type": "code",
   "execution_count": 8,
   "id": "90e22ddc",
   "metadata": {},
   "outputs": [
    {
     "name": "stdout",
     "output_type": "stream",
     "text": [
      "matso< shape: (2, 1), \n",
      " - Column 0\n",
      "(0,0)  + 4.8 * e([1]) + 6.4 * e([2])\n",
      "(1,0) 8.88178e-16 - 3 * e([1]) + 1 * e([2])\n",
      ">\n"
     ]
    },
    {
     "data": {
      "text/plain": [
       "array([[ 4.8,  6.4],\n",
       "       [-3. ,  1. ]])"
      ]
     },
     "execution_count": 8,
     "metadata": {},
     "output_type": "execute_result"
    }
   ],
   "source": [
    "# Define known solution:\n",
    "x1 = 2.4 + oti.e(1) # 2.4,  0\n",
    "x2 = 3.2 + oti.e(2) # 3.2, -4\n",
    "\n",
    "X = oti.array([x1,x2])\n",
    "res = fun2(X,r,m,b)\n",
    "print(res)\n",
    "\n",
    "# Define tangent matrix:\n",
    "T = np.zeros((2,2)) \n",
    "T[:,0:1] = res.get_im([1])\n",
    "T[:,1:2] = res.get_im([2])\n",
    "T"
   ]
  },
  {
   "cell_type": "code",
   "execution_count": 13,
   "id": "9efb4f40",
   "metadata": {},
   "outputs": [
    {
     "data": {
      "text/plain": [
       "matso< shape: (2, 1), \n",
       " - Column 0\n",
       "(0,0) 2.4\n",
       "(1,0) 3.2\n",
       ">"
      ]
     },
     "execution_count": 13,
     "metadata": {},
     "output_type": "execute_result"
    }
   ],
   "source": [
    "# Perturb input variables to compute the derivatives wanted.\n",
    "# Using first truncation order 1.\n",
    "order = 1\n",
    "r = r.real + oti.e(1,order=order)\n",
    "m = m.real + oti.e(2,order=order)\n",
    "b = b.real + oti.e(3,order=order)\n",
    "\n",
    "# Define the solution values from the real values known.\n",
    "# No imaginary perturbations!\n",
    "x1 = x1.real \n",
    "x2 = x2.real \n",
    "\n",
    "X = oti.array([x1,x2])\n",
    "X # X has no OTI perturbations yet."
   ]
  },
  {
   "cell_type": "code",
   "execution_count": 14,
   "id": "f186f564",
   "metadata": {},
   "outputs": [
    {
     "name": "stdout",
     "output_type": "stream",
     "text": [
      "matso< shape: (2, 1), \n",
      " - Column 0\n",
      "(0,0) 2.4 + 0.333333 * e([1]) - 0.64 * e([2]) - 0.266667 * e([3]) + ... \n",
      "(1,0) 3.2 + 1 * e([1]) + 0.48 * e([2]) + 0.2 * e([3]) + ... \n",
      ">\n"
     ]
    }
   ],
   "source": [
    "# Define maximum order of derivative to compute:\n",
    "order = 3\n",
    "for p in range(1,order+1):\n",
    "    \n",
    "    # Set truncation order for desing and state variables to ordi.\n",
    "    \n",
    "    r = r + 0*oti.e(1,order=p)\n",
    "    m = m + 0*oti.e(1,order=p)\n",
    "    b = b + 0*oti.e(1,order=p)\n",
    "\n",
    "    X = X + 0*oti.e(1,order=p)\n",
    "    \n",
    "    # Evaluate residual equation:\n",
    "    # Evaluate the residual at the known solution.\n",
    "    res = fun2(X,r,m,b)\n",
    "    \n",
    "\n",
    "\n",
    "    # Compute p'th order RHS\n",
    "    rhsp = oti.get_order_im_array(p,res)\n",
    "    \n",
    "    # Solve p'th order imdir of solution .\n",
    "    Xp = np.dot(Tinv,-rhsp)\n",
    "    \n",
    "    # Apply imdirs along OTI solution vector X\n",
    "    oti.set_order_im_from_array(p,Xp,X)\n",
    "print(X)"
   ]
  },
  {
   "cell_type": "code",
   "execution_count": 18,
   "id": "d7822dad",
   "metadata": {},
   "outputs": [
    {
     "name": "stdout",
     "output_type": "stream",
     "text": [
      "Total derivative of order 1\n",
      "[[ 0.00000000e+00 -4.44089210e-16  0.00000000e+00]\n",
      " [ 2.22044605e-16  4.44089210e-16  1.66533454e-16]]\n",
      "Total derivative of order 2\n",
      "[[-1.11022302e-16 -1.11022302e-16  0.00000000e+00  0.00000000e+00  0.00000000e+00  0.00000000e+00]\n",
      " [-3.46944695e-18  4.53341068e-17 -1.38777878e-16 -1.04083409e-17 -2.77555756e-17 -1.73472348e-18]]\n",
      "Total derivative of order 3\n",
      "[[ 8.67361738e-19  6.93889390e-18 -5.55111512e-17 -5.55111512e-17 -6.93889390e-18  0.00000000e+00  2.77555756e-17\n",
      "  -3.46944695e-18  3.46944695e-18  0.00000000e+00]\n",
      " [ 8.67361738e-19  1.73472348e-18 -2.34380416e-17  4.16333634e-17  1.73472348e-18  6.93889390e-18  1.38777878e-17\n",
      "   8.67361738e-19  1.73472348e-18  1.08420217e-19]]\n"
     ]
    }
   ],
   "source": [
    "# Check residual calculation:\n",
    "res = fun2(X,r,m,b)\n",
    "for p in range(1,order+1):\n",
    "    RESp = oti.get_order_im_array(p,res)\n",
    "    print('Total derivative of order {0}'.format(p))\n",
    "    print(RESp)"
   ]
  },
  {
   "cell_type": "code",
   "execution_count": null,
   "id": "83ed0b41",
   "metadata": {},
   "outputs": [],
   "source": []
  },
  {
   "cell_type": "code",
   "execution_count": null,
   "id": "bdb99097",
   "metadata": {},
   "outputs": [],
   "source": []
  }
 ],
 "metadata": {
  "kernelspec": {
   "display_name": "pyoti",
   "language": "python",
   "name": "pyoti"
  },
  "language_info": {
   "codemirror_mode": {
    "name": "ipython",
    "version": 3
   },
   "file_extension": ".py",
   "mimetype": "text/x-python",
   "name": "python",
   "nbconvert_exporter": "python",
   "pygments_lexer": "ipython3",
   "version": "3.9.13"
  }
 },
 "nbformat": 4,
 "nbformat_minor": 5
}
