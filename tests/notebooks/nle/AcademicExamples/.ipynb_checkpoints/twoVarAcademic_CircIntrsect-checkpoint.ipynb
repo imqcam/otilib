{
 "cells": [
  {
   "cell_type": "code",
   "execution_count": 1,
   "id": "30d2d20a",
   "metadata": {},
   "outputs": [],
   "source": [
    "import pyoti.core as coti\n",
    "import pyoti.sparse as oti\n",
    "import numpy as np\n",
    "%matplotlib notebook\n",
    "import matplotlib.pyplot as plt\n",
    "import matplotlib.ticker as ticker\n",
    "\n",
    "import sympy as sym\n",
    "\n",
    "plt.rcParams.update({\n",
    "    \"text.usetex\": True,\n",
    "    \"font.family\": \"Computer Modern Roman\",\n",
    "    \"font.size\": 12,\n",
    "    \"font.sans-serif\": [\"Helvetica\"]\n",
    "})"
   ]
  },
  {
   "cell_type": "code",
   "execution_count": 2,
   "id": "65559609",
   "metadata": {},
   "outputs": [],
   "source": [
    "def fun2(X,r,m,b):\n",
    "    #INTERSECTION BETWEEN CURVES.\n",
    "    f = oti.zeros((2,1))\n",
    "    x = X[0,0].copy()\n",
    "    y = X[1,0].copy()\n",
    "    f[0,0] = x**2 + y**2 - r**2 \n",
    "    f[1,0] = y - ( m * x + b )\n",
    "    return f\n",
    "\n",
    "def Jfun2(X,func,verbose,r,m,b):\n",
    "    #INTERSECTION BETWEEN CURVES.\n",
    "    J = oti.zeros((2,2))\n",
    "    x = X[0,0].copy()\n",
    "    y = X[1,0].copy()\n",
    "    J[0,0] = 2 * x \n",
    "    J[1,0] = - m \n",
    "    J[0,1] = 2 * y \n",
    "    J[1,1] = 1\n",
    "    return J\n",
    "\n",
    "def fun2_curves(x,r,m,b):\n",
    "    #CURVES.\n",
    "    y = oti.zeros((x.shape[0],3))\n",
    "    y[:,0] =  oti.sqrt(r**2 - x**2)\n",
    "    y[:,1] = -oti.sqrt(r**2 - x**2)\n",
    "    y[:,2] = m * x + b\n",
    "    return y\n",
    "\n",
    "\n",
    "def intersect_pts(r,m,b,alg=oti):\n",
    "    #CURVES.\n",
    "        \n",
    "    #     x[0,0] = (-m*b + oti.sqrt( (m*b)**2 - (m+1)*(b**2-r**2) ) )/( (m+1) )\n",
    "    #     x[1,0] = (-m*b - oti.sqrt( (m*b)**2 - (m+1)*(b**2-r**2) ) )/( (m+1) )\n",
    "    x1 = alg.zeros((2,1))\n",
    "    x1[0,0] = (-b*m + alg.sqrt(-b**2 + m**2*r**2 + r**2))/(m**2 + 1)\n",
    "    x1[1,0] = m * x1[0,0] + b\n",
    "    \n",
    "    x2 = alg.zeros((2,1))\n",
    "    x2[0,0] = (-b*m - alg.sqrt(-b**2 + m**2*r**2 + r**2))/(m**2 + 1)\n",
    "    x2[1,0] = m * x2[0,0] + b\n",
    "        \n",
    "    return x1,x2"
   ]
  },
  {
   "cell_type": "code",
   "execution_count": 3,
   "id": "b44fc535",
   "metadata": {},
   "outputs": [],
   "source": [
    "# utils\n",
    "def newton_otisis(func, jaco, x, tol, maxiter=50, args=(), verbose=False,eps = 1e-16):\n",
    "    error = 1e30\n",
    "    n = 0\n",
    "    nx = x.shape[0]\n",
    "    dx = oti.zeros( (nx,1), order=x.order)\n",
    "    \n",
    "    argv = (func,verbose)+args\n",
    "    while error > tol:\n",
    "\n",
    "        if n==maxiter:\n",
    "            print(\"Did not converge. \", maxiter, \"iters.\")\n",
    "            break\n",
    "        if verbose:\n",
    "            print(\"Iteration {0}\".format(n))\n",
    "        mJ = -jaco(x,*argv)\n",
    "#         print(mJ.shape)\n",
    "        f_eval = func(x,*args)\n",
    "#         print(f_eval.shape)\n",
    "\n",
    "        \n",
    "        dx = oti.dot(oti.inv(mJ),f_eval)\n",
    "        x += dx\n",
    "        error = oti.norm(dx)/(oti.norm(x)+eps)\n",
    "        error = (error).get_deriv(0)\n",
    "        \n",
    "        if verbose:\n",
    "            print(\"\\nf\")\n",
    "            print(f_eval)\n",
    "            print(\"\\nJ\")\n",
    "            print(-mJ)\n",
    "            print('\\ndx')\n",
    "            print(dx)\n",
    "            print(\"\\nx i+1\")\n",
    "            print(x)\n",
    "            print(\"Error\")\n",
    "            print(\"{0:.10f}\".format(error))\n",
    "            print(\"\\n\"+100*\"=\")\n",
    "        n += 1\n",
    "    print(\"niter: \",n)\n",
    "#     print(\"rel_err:\",(oti.norm(dx)/oti.norm(x)).get_deriv(0))\n",
    "    return x\n",
    "\n",
    "def j_DF (x, func, *args):\n",
    "    h = 1e-8\n",
    "    nx = x.shape[0]\n",
    "    J = oti.zeros((nx,nx), order=x.order)\n",
    "    for i in range(nx):\n",
    "        xh = x.copy()\n",
    "        xh[i,0]+= h\n",
    "        dfdxi = (func(xh,*args) - func(x,*args))/h\n",
    "        for j in range(nx):\n",
    "            J[j,i] = dfdxi[j,0]\n",
    "    return J\n",
    "\n",
    "def j_oti (x, func,verbose, *args):\n",
    "    nx = x.shape[0]\n",
    "    active_bases = func(x,*args).get_active_bases()\n",
    "    if len(active_bases)==0:\n",
    "        next_base = 1 \n",
    "    else:\n",
    "        next_base = max(active_bases) + 1\n",
    "    # end if \n",
    "    \n",
    "    e_x = oti.zeros((nx,1), order=(x.order+1))\n",
    "    for i in range(nx):\n",
    "        e_x[i] = oti.e(next_base + i, order = (x.order+1))  \n",
    "    # end for \n",
    "    J = oti.zeros((nx,nx), order=x.order)\n",
    "    fun = func(x+e_x, *args) \n",
    "    if verbose:\n",
    "        print('\\nf for jacobian')\n",
    "        print(fun)\n",
    "    for n in range(nx):\n",
    "        J_col = fun.extract_deriv(next_base + n)\n",
    "        \n",
    "        for j in range(nx):\n",
    "            J_col = J_col.truncate(next_base + j)\n",
    "        # end for \n",
    "        for m in range(nx):\n",
    "            J[m,n] = J_col[m,0]\n",
    "        # end for \n",
    "    # end for \n",
    "    return J"
   ]
  },
  {
   "cell_type": "code",
   "execution_count": 4,
   "id": "90b772e4",
   "metadata": {},
   "outputs": [
    {
     "data": {
      "text/plain": [
       "(matso< shape: (2, 1), \n",
       "  - Column 0\n",
       " (0,0) 2.4\n",
       " (1,0) 3.2\n",
       " >,\n",
       " matso< shape: (2, 1), \n",
       "  - Column 0\n",
       " (0,0) 0\n",
       " (1,0) -4\n",
       " >)"
      ]
     },
     "execution_count": 4,
     "metadata": {},
     "output_type": "execute_result"
    }
   ],
   "source": [
    "intersect_pts(4,3,-4,alg=oti)"
   ]
  },
  {
   "cell_type": "code",
   "execution_count": 5,
   "id": "b94ae53b",
   "metadata": {},
   "outputs": [
    {
     "data": {
      "text/plain": [
       "2.4"
      ]
     },
     "execution_count": 5,
     "metadata": {},
     "output_type": "execute_result"
    }
   ],
   "source": [
    "r = 4\n",
    "m = 3\n",
    "b = -4\n",
    "\n",
    "(-m*b+np.sqrt(r*r*(m*m+1)-b*b))/(m*m+1)"
   ]
  },
  {
   "cell_type": "code",
   "execution_count": 6,
   "id": "9f30e290",
   "metadata": {},
   "outputs": [
    {
     "data": {
      "text/plain": [
       "144"
      ]
     },
     "execution_count": 6,
     "metadata": {},
     "output_type": "execute_result"
    }
   ],
   "source": [
    "r*r*(m*m+1)-b*b"
   ]
  },
  {
   "cell_type": "code",
   "execution_count": 7,
   "id": "28082fd2",
   "metadata": {},
   "outputs": [
    {
     "data": {
      "text/plain": [
       "3.2"
      ]
     },
     "execution_count": 7,
     "metadata": {},
     "output_type": "execute_result"
    }
   ],
   "source": [
    "(b+m*np.sqrt(r*r*(m*m+1)-b*b))/(m*m+1)"
   ]
  },
  {
   "cell_type": "code",
   "execution_count": 8,
   "id": "90e22ddc",
   "metadata": {},
   "outputs": [
    {
     "name": "stdout",
     "output_type": "stream",
     "text": [
      "matso< shape: (2, 1), \n",
      " - Column 0\n",
      "(0,0)  + 4.8 * e([1]) + 6.4 * e([2])\n",
      "(1,0) 8.88178e-16 - 3 * e([1]) + 1 * e([2])\n",
      ">\n"
     ]
    },
    {
     "data": {
      "text/plain": [
       "array([[ 4.8,  6.4],\n",
       "       [-3. ,  1. ]])"
      ]
     },
     "execution_count": 8,
     "metadata": {},
     "output_type": "execute_result"
    }
   ],
   "source": [
    "# Define known solution:\n",
    "x1 = 2.4 + oti.e(1) # 2.4,  0\n",
    "x2 = 3.2 + oti.e(2) # 3.2, -4\n",
    "\n",
    "X = oti.array([x1,x2])\n",
    "res = fun2(X,r,m,b)\n",
    "print(res)\n",
    "\n",
    "# Define tangent matrix:\n",
    "T = np.zeros((2,2)) \n",
    "T[:,0:1] = res.get_im([1])\n",
    "T[:,1:2] = res.get_im([2])\n",
    "T"
   ]
  },
  {
   "cell_type": "code",
   "execution_count": 9,
   "id": "639fa0ea",
   "metadata": {},
   "outputs": [],
   "source": [
    "# Compute inverse tangent matrix:\n",
    "Tinv = np.linalg.inv(T)"
   ]
  },
  {
   "cell_type": "code",
   "execution_count": 10,
   "id": "4de2d0da",
   "metadata": {},
   "outputs": [],
   "source": [
    "# Solve first order system:"
   ]
  },
  {
   "cell_type": "code",
   "execution_count": 11,
   "id": "687c409b",
   "metadata": {},
   "outputs": [
    {
     "data": {
      "text/plain": [
       "matso< shape: (2, 1), \n",
       " - Column 0\n",
       "(0,0) 2.4\n",
       "(1,0) 3.2\n",
       ">"
      ]
     },
     "execution_count": 11,
     "metadata": {},
     "output_type": "execute_result"
    }
   ],
   "source": [
    "# Perturb input variables to compute the derivatives wanted.\n",
    "# Using first truncation order 1.\n",
    "order = 1\n",
    "r = r.real + oti.e(1,order=order)\n",
    "m = m.real + oti.e(2,order=order)\n",
    "b = b.real + oti.e(3,order=order)\n",
    "\n",
    "# Define the solution values from the real values known.\n",
    "# No imaginary perturbations!\n",
    "x1 = x1.real \n",
    "x2 = x2.real \n",
    "\n",
    "X = oti.array([x1,x2])\n",
    "X # X has no OTI perturbations yet."
   ]
  },
  {
   "cell_type": "code",
   "execution_count": 12,
   "id": "b74ac3e8",
   "metadata": {},
   "outputs": [
    {
     "name": "stdout",
     "output_type": "stream",
     "text": [
      "matso< shape: (2, 1), \n",
      " - Column 0\n",
      "(0,0)  - 8 * e([1])\n",
      "(1,0) 8.88178e-16 - 2.4 * e([2]) - 1 * e([3])\n",
      ">\n"
     ]
    },
    {
     "data": {
      "text/plain": [
       "array([[-8. ,  0. ,  0. ],\n",
       "       [ 0. , -2.4, -1. ]])"
      ]
     },
     "execution_count": 12,
     "metadata": {},
     "output_type": "execute_result"
    }
   ],
   "source": [
    "# Evaluate the residual at the known solution.\n",
    "res1 = fun2(X,r,m,b)\n",
    "print(res1)\n",
    "\n",
    "# RHS for order 1:\n",
    "rhs1 = oti.get_order_im_array(1,res1)\n",
    "rhs1"
   ]
  },
  {
   "cell_type": "code",
   "execution_count": 13,
   "id": "1d69d666",
   "metadata": {},
   "outputs": [
    {
     "data": {
      "text/plain": [
       "array([[ 0.33333333, -0.64      , -0.26666667],\n",
       "       [ 1.        ,  0.48      ,  0.2       ]])"
      ]
     },
     "execution_count": 13,
     "metadata": {},
     "output_type": "execute_result"
    }
   ],
   "source": [
    "# Solve first order terms:\n",
    "U1 = np.dot(Tinv,-rhs1)\n",
    "U1"
   ]
  },
  {
   "cell_type": "code",
   "execution_count": 14,
   "id": "ebaacaf5",
   "metadata": {},
   "outputs": [
    {
     "name": "stdout",
     "output_type": "stream",
     "text": [
      "matso< shape: (2, 1), \n",
      " - Column 0\n",
      "(0,0) 2.4 + 0.333333 * e([1]) - 0.64 * e([2]) - 0.266667 * e([3])\n",
      "(1,0) 3.2 + 1 * e([1]) + 0.48 * e([2]) + 0.2 * e([3])\n",
      ">\n"
     ]
    }
   ],
   "source": [
    "# Set the first order imdirs\n",
    "oti.set_order_im_from_array(1,U1,X)\n",
    "print(X)"
   ]
  },
  {
   "cell_type": "code",
   "execution_count": 15,
   "id": "6fb7b52f",
   "metadata": {},
   "outputs": [],
   "source": [
    "# Solve second order Imaginary directions."
   ]
  },
  {
   "cell_type": "code",
   "execution_count": 17,
   "id": "ecb3ba01",
   "metadata": {},
   "outputs": [
    {
     "data": {
      "text/plain": [
       "matso< shape: (2, 1), \n",
       " - Column 0\n",
       "(0,0) 2.4 + 0.333333 * e([1]) - 0.64 * e([2]) - 0.266667 * e([3])\n",
       "(1,0) 3.2 + 1 * e([1]) + 0.48 * e([2]) + 0.2 * e([3])\n",
       ">"
      ]
     },
     "execution_count": 17,
     "metadata": {},
     "output_type": "execute_result"
    }
   ],
   "source": [
    "# Change truncation order to 2 for both input parameters and \n",
    "# design variables\n",
    "order = 2\n",
    "r = r + 0*oti.e(1,order=order)\n",
    "m = m + 0*oti.e(1,order=order)\n",
    "b = b + 0*oti.e(1,order=order)\n",
    "\n",
    "X = X + 0*oti.e(1,order=order)\n",
    "X"
   ]
  },
  {
   "cell_type": "code",
   "execution_count": 18,
   "id": "733c321c",
   "metadata": {},
   "outputs": [
    {
     "name": "stdout",
     "output_type": "stream",
     "text": [
      "matso< shape: (2, 1), \n",
      " - Column 0\n",
      "(0,0)  + 0 * e([1]) - 4.44089e-16 * e([2]) + 0 * e([3]) + 0.111111 * e([[1,2]]) + ... \n",
      "(1,0) 8.88178e-16 + 2.22045e-16 * e([1]) + 4.44089e-16 * e([2]) + 1.66533e-16 * e([3]) + ... \n",
      ">\n"
     ]
    },
    {
     "data": {
      "text/plain": [
       "array([[ 0.11111111,  0.53333333,  0.64      ,  0.22222222,  0.53333333,\n",
       "         0.11111111],\n",
       "       [-0.        , -0.33333333,  0.64      ,  0.        ,  0.26666667,\n",
       "         0.        ]])"
      ]
     },
     "execution_count": 18,
     "metadata": {},
     "output_type": "execute_result"
    }
   ],
   "source": [
    "# Evaluate the residual at the known solution.\n",
    "res2 = fun2(X,r,m,b)\n",
    "print(res2)\n",
    "\n",
    "\n",
    "# RHS for second order\n",
    "rhs2 = oti.get_order_im_array(2,res2)\n",
    "rhs2"
   ]
  },
  {
   "cell_type": "code",
   "execution_count": 19,
   "id": "11b98288",
   "metadata": {},
   "outputs": [
    {
     "data": {
      "text/plain": [
       "array([[ 4.62962963e-03,  1.11111111e-01, -1.44000000e-01,\n",
       "         9.25925926e-03, -4.88888889e-02,  4.62962963e-03],\n",
       "       [ 1.38888889e-02,  1.01770444e-17,  2.08000000e-01,\n",
       "         2.77777778e-02,  1.20000000e-01,  1.38888889e-02]])"
      ]
     },
     "execution_count": 19,
     "metadata": {},
     "output_type": "execute_result"
    }
   ],
   "source": [
    "U2 = np.dot(Tinv,rhs2)\n",
    "U2"
   ]
  },
  {
   "cell_type": "code",
   "execution_count": 20,
   "id": "1bebc299",
   "metadata": {},
   "outputs": [
    {
     "data": {
      "text/plain": [
       "array([[ 4.62962963e-03,  1.11111111e-01, -1.44000000e-01,\n",
       "         9.25925926e-03, -4.88888889e-02,  4.62962963e-03],\n",
       "       [ 1.38888889e-02,  1.01770444e-17,  2.08000000e-01,\n",
       "         2.77777778e-02,  1.20000000e-01,  1.38888889e-02]])"
      ]
     },
     "execution_count": 20,
     "metadata": {},
     "output_type": "execute_result"
    }
   ],
   "source": [
    "# Set the derivatives along the second order:\n",
    "oti.set_order_im_from_array(2,U2,X)\n",
    "\n",
    "oti.get_order_im_array(2, X)"
   ]
  },
  {
   "cell_type": "code",
   "execution_count": null,
   "id": "9efb4f40",
   "metadata": {},
   "outputs": [],
   "source": [
    "# Perturb input variables to compute the derivatives wanted.\n",
    "# Using first truncation order 1.\n",
    "order = 1\n",
    "r = r.real + oti.e(1,order=order)\n",
    "m = m.real + oti.e(2,order=order)\n",
    "b = b.real + oti.e(3,order=order)\n",
    "\n",
    "# Define the solution values from the real values known.\n",
    "# No imaginary perturbations!\n",
    "x1 = x1.real \n",
    "x2 = x2.real \n",
    "\n",
    "X = oti.array([x1,x2])\n",
    "X # X has no OTI perturbations yet."
   ]
  },
  {
   "cell_type": "code",
   "execution_count": null,
   "id": "a24fa108",
   "metadata": {},
   "outputs": [],
   "source": [
    "# Define maximum order of derivative to compute:\n",
    "order = 3\n",
    "for p in range(1,order+1):\n",
    "    \n",
    "    # Set truncation order for desing and state variables to ordi.\n",
    "    \n",
    "    r = r + 0*oti.e(1,order=p)\n",
    "    m = m + 0*oti.e(1,order=p)\n",
    "    b = b + 0*oti.e(1,order=p)\n",
    "\n",
    "    X = X + 0*oti.e(1,order=p)\n",
    "    \n",
    "    # Evaluate residual equation:\n",
    "    # Evaluate the residual at the known solution.\n",
    "    res = fun2(X,r,m,b)\n",
    "    \n",
    "\n",
    "\n",
    "    # RHS for second order\n",
    "    rhsp = oti.get_order_im_array(p,res)\n",
    "    Up = np.dot(Tinv,-rhsp)\n",
    "    \n",
    "    oti.set_order_im_from_array(p,Up,X)\n",
    "print(X)"
   ]
  },
  {
   "cell_type": "code",
   "execution_count": null,
   "id": "ea280d0f",
   "metadata": {},
   "outputs": [],
   "source": [
    "fun2(X,r,m,b)"
   ]
  },
  {
   "cell_type": "code",
   "execution_count": null,
   "id": "a49160bf",
   "metadata": {},
   "outputs": [],
   "source": []
  },
  {
   "cell_type": "code",
   "execution_count": null,
   "id": "f1c3c1d8",
   "metadata": {},
   "outputs": [],
   "source": []
  },
  {
   "cell_type": "code",
   "execution_count": null,
   "id": "3b296370",
   "metadata": {},
   "outputs": [],
   "source": []
  },
  {
   "cell_type": "code",
   "execution_count": null,
   "id": "82447c66",
   "metadata": {},
   "outputs": [],
   "source": []
  },
  {
   "cell_type": "code",
   "execution_count": 148,
   "id": "884b332b",
   "metadata": {},
   "outputs": [],
   "source": [
    "order = 6\n",
    "x0 = oti.array([1,1])\n",
    "r  = 4+oti.e(1, order = order)\n",
    "m  = 3+oti.e(2, order = order)\n",
    "b = -4+oti.e(3, order = order)"
   ]
  },
  {
   "cell_type": "code",
   "execution_count": 154,
   "id": "d39419dd",
   "metadata": {},
   "outputs": [
    {
     "name": "stdout",
     "output_type": "stream",
     "text": [
      "matso< shape: (2, 1), \n",
      " - Column 0\n",
      "(0,0) 2.4 + 0.333333 * e([1]) - 0.64 * e([2]) - 0.266667 * e([3]) + ... \n",
      "(1,0) 3.2 + 1 * e([1]) + 0.48 * e([2]) + 0.2 * e([3]) + ... \n",
      ">\n"
     ]
    }
   ],
   "source": [
    "# Compute the analytical solution\n",
    "u1,u2 = intersect_pts(r,m,b)\n",
    "print(u1)"
   ]
  },
  {
   "cell_type": "code",
   "execution_count": 168,
   "id": "d38616cc",
   "metadata": {
    "scrolled": false
   },
   "outputs": [
    {
     "name": "stdout",
     "output_type": "stream",
     "text": [
      "niter:  6\n",
      "matso< shape: (2, 1), \n",
      " - Column 0\n",
      "(0,0) 2.4 + 0.333333 * e([1]) - 0.64 * e([2]) - 0.266667 * e([3]) + ... \n",
      "(1,0) 3.2 + 1 * e([1]) + 0.48 * e([2]) + 0.2 * e([3]) + ... \n",
      ">\n",
      "Error with respect to analytical solution:  1.4043333874306805e-15\n"
     ]
    }
   ],
   "source": [
    "# Solve the real system.\n",
    "X = newton_otisis(fun2,j_oti,x0,1e-6, args = (r,m,b), verbose=False)\n",
    "print(X)\n",
    "err = np.linalg.norm(X.real-u1.real)\n",
    "print('Error with respect to analytical solution: ',err)"
   ]
  },
  {
   "cell_type": "code",
   "execution_count": 152,
   "id": "6e598b17",
   "metadata": {
    "scrolled": false
   },
   "outputs": [
    {
     "name": "stdout",
     "output_type": "stream",
     "text": [
      "niter:  6\n"
     ]
    },
    {
     "data": {
      "text/plain": [
       "matso< shape: (2, 1), \n",
       " - Column 0\n",
       "(0,0) 2.4\n",
       "(1,0) 3.2\n",
       ">"
      ]
     },
     "execution_count": 152,
     "metadata": {},
     "output_type": "execute_result"
    }
   ],
   "source": [
    "Xr = newton_otisis(fun2,j_oti,x0,1e-6, args = (r.real,m.real,b.real), verbose=False)\n",
    "print(Xr)\n"
   ]
  },
  {
   "cell_type": "markdown",
   "id": "6600fe07",
   "metadata": {},
   "source": [
    "## First order derivatives:"
   ]
  },
  {
   "cell_type": "code",
   "execution_count": 106,
   "id": "1b162405",
   "metadata": {},
   "outputs": [
    {
     "name": "stdout",
     "output_type": "stream",
     "text": [
      "matso< shape: (2, 1), \n",
      " - Column 0\n",
      "(0,0) -1.77636e-15 + 4.8 * e([4]) + 6.4 * e([5]) + 1 * e([[4,2]]) + ... \n",
      "(1,0) 4.44089e-16 - 3 * e([4]) + 1 * e([5])\n",
      ">\n"
     ]
    },
    {
     "data": {
      "text/plain": [
       "array([[ 0.04166667, -0.26666667],\n",
       "       [ 0.125     ,  0.2       ]])"
      ]
     },
     "execution_count": 106,
     "metadata": {},
     "output_type": "execute_result"
    }
   ],
   "source": [
    "Xev = Xr.copy()\n",
    "Xev[0,0] = Xev[0,0] + oti.e(4,order=order)\n",
    "Xev[1,0] = Xev[1,0] + oti.e(5,order=order)\n",
    "residual = fun2(Xev,r.real,m.real,b.real)\n",
    "print(residual)\n",
    "\n",
    "J = oti.zeros((2,2))\n",
    "J[:,0] = oti.array(residual.get_deriv(4))\n",
    "J[:,1] = oti.array(residual.get_deriv(5))\n",
    "\n",
    "Jinv = np.linalg.inv(J.real)\n",
    "Jinv"
   ]
  },
  {
   "cell_type": "markdown",
   "id": "7bb23224",
   "metadata": {},
   "source": [
    "# Compute First order derivatives:"
   ]
  },
  {
   "cell_type": "code",
   "execution_count": 143,
   "id": "3b0dee83",
   "metadata": {},
   "outputs": [
    {
     "name": "stdout",
     "output_type": "stream",
     "text": [
      "-1.77636e-15 - 8 * e([1]) - 1 * e([[1,2]])\n",
      "[[-8.   0.   0. ]\n",
      " [ 0.  -2.4 -1. ]]\n",
      "[[ 0.33333333 -0.64       -0.26666667]\n",
      " [ 1.          0.48        0.2       ]]\n",
      "matso< shape: (2, 1), \n",
      " - Column 0\n",
      "(0,0) 2.4 + 0.333333 * e([1]) - 0.64 * e([2]) - 0.266667 * e([3])\n",
      "(1,0) 3.2 + 1 * e([1]) + 0.48 * e([2]) + 0.2 * e([3])\n",
      ">\n"
     ]
    }
   ],
   "source": [
    "\n",
    "# Evaluate residual with real solution and perturbed inputs:\n",
    "\n",
    "X2 = Xr.copy()\n",
    "\n",
    "res1 = fun2(X2,r,m,b)\n",
    "print(r1)\n",
    "\n",
    "dres_da = oti.get_order_im_array(1,res1)\n",
    "print(dres_da)\n",
    "\n",
    "du_da = -np.matmul(Jinv,dres_da)\n",
    "print(du_da)\n",
    "\n",
    "oti.set_order_im_from_array(1,du_da,X2)\n",
    "print(X2)"
   ]
  },
  {
   "cell_type": "markdown",
   "id": "68443b65",
   "metadata": {},
   "source": [
    "# Compute second order derivatives"
   ]
  },
  {
   "cell_type": "code",
   "execution_count": 144,
   "id": "8eac7248",
   "metadata": {},
   "outputs": [
    {
     "name": "stdout",
     "output_type": "stream",
     "text": [
      "matso< shape: (2, 1), \n",
      " - Column 0\n",
      "(0,0) 2.4 + 0.333333 * e([1]) - 0.64 * e([2]) - 0.266667 * e([3])\n",
      "(1,0) 3.2 + 1 * e([1]) + 0.48 * e([2]) + 0.2 * e([3])\n",
      ">\n",
      "matso< shape: (2, 1), \n",
      " - Column 0\n",
      "(0,0) 2.4 + 0.333333 * e([1]) - 0.64 * e([2]) - 0.266667 * e([3]) + ... \n",
      "(1,0) 3.2 + 1 * e([1]) + 0.48 * e([2]) + 0.2 * e([3]) + ... \n",
      ">\n"
     ]
    }
   ],
   "source": [
    "# Need to update the truncation order of the number.\n",
    "print(X2)\n",
    "X2[0,0]=X2[0,0]+oti.e(1,order=2)-oti.e(1,order=2)\n",
    "X2[1,0]=X2[1,0]+oti.e(1,order=2)-oti.e(1,order=2)\n",
    "\n",
    "res1 = fun2(X2, r, m, b)\n",
    "# print(res1)\n",
    "\n",
    "dres_da = oti.get_order_im_array(2,res1)\n",
    "# print(dres_da)\n",
    "\n",
    "du_da = -np.matmul(Jinv,dres_da)\n",
    "\n",
    "# print(du_da)\n",
    "\n",
    "oti.set_order_im_from_array(2,du_da,X2)\n",
    "print(X2)"
   ]
  },
  {
   "cell_type": "code",
   "execution_count": 145,
   "id": "cf76e3a6",
   "metadata": {},
   "outputs": [
    {
     "name": "stdout",
     "output_type": "stream",
     "text": [
      "[[ 5.37764278e-17  4.16333634e-17  0.00000000e+00  3.46944695e-18\n",
      "   2.08166817e-17  2.60208521e-18]\n",
      " [ 1.56125113e-16 -1.15839229e-17  0.00000000e+00 -6.93889390e-18\n",
      "   0.00000000e+00  1.73472348e-18]]\n"
     ]
    }
   ],
   "source": [
    "print(oti.get_order_im_array(2,X) - oti.get_order_im_array(2,X2))"
   ]
  },
  {
   "cell_type": "markdown",
   "id": "32e10e54",
   "metadata": {},
   "source": [
    "# Compute third order derivatives"
   ]
  },
  {
   "cell_type": "code",
   "execution_count": 146,
   "id": "19f2a505",
   "metadata": {},
   "outputs": [
    {
     "name": "stdout",
     "output_type": "stream",
     "text": [
      "matso< shape: (2, 1), \n",
      " - Column 0\n",
      "(0,0) 2.4 + 0.333333 * e([1]) - 0.64 * e([2]) - 0.266667 * e([3]) + ... \n",
      "(1,0) 3.2 + 1 * e([1]) + 0.48 * e([2]) + 0.2 * e([3]) + ... \n",
      ">\n",
      "matso< shape: (2, 1), \n",
      " - Column 0\n",
      "(0,0) 2.4 + 0.333333 * e([1]) - 0.64 * e([2]) - 0.266667 * e([3]) + ... \n",
      "(1,0) 3.2 + 1 * e([1]) + 0.48 * e([2]) + 0.2 * e([3]) + ... \n",
      ">\n"
     ]
    }
   ],
   "source": [
    "# Need to update the truncation order of the number.\n",
    "print(X2)\n",
    "X2[0,0]=X2[0,0]+oti.e(1,order=3)-oti.e(1,order=3)\n",
    "X2[1,0]=X2[1,0]+oti.e(1,order=3)-oti.e(1,order=3)\n",
    "\n",
    "res1 = fun2(X2, r, m, b)\n",
    "# print(res1)\n",
    "\n",
    "dres_da = oti.get_order_im_array(3,res1)\n",
    "# print(dres_da)\n",
    "\n",
    "du_da = -np.matmul(Jinv,dres_da)\n",
    "\n",
    "# print(du_da)\n",
    "\n",
    "oti.set_order_im_from_array(3,du_da,X2)\n",
    "print(X2)"
   ]
  },
  {
   "cell_type": "code",
   "execution_count": 147,
   "id": "2ed6af70",
   "metadata": {},
   "outputs": [
    {
     "name": "stdout",
     "output_type": "stream",
     "text": [
      "[[ 1.41596804e-16  4.51028104e-17  0.00000000e+00 -6.93889390e-18\n",
      "  -6.50521303e-18  0.00000000e+00 -1.14925430e-17  4.33680869e-19\n",
      "  -1.73472348e-18 -5.42101086e-20]\n",
      " [ 4.26741975e-16  1.94289029e-16  5.10939268e-17 -1.38777878e-17\n",
      "  -1.56125113e-17  6.93889390e-18  6.93889390e-18  3.46944695e-18\n",
      "   3.46944695e-18  0.00000000e+00]]\n"
     ]
    }
   ],
   "source": [
    "print(oti.get_order_im_array(3,X) - oti.get_order_im_array(3,X2))"
   ]
  },
  {
   "cell_type": "code",
   "execution_count": null,
   "id": "8083c906",
   "metadata": {},
   "outputs": [],
   "source": []
  },
  {
   "cell_type": "code",
   "execution_count": 133,
   "id": "0f91ead7",
   "metadata": {},
   "outputs": [
    {
     "data": {
      "text/plain": [
       "array([[-0.00462963],\n",
       "       [-0.01388889]])"
      ]
     },
     "execution_count": 133,
     "metadata": {},
     "output_type": "execute_result"
    }
   ],
   "source": []
  },
  {
   "cell_type": "code",
   "execution_count": null,
   "id": "8bed64af",
   "metadata": {},
   "outputs": [],
   "source": []
  },
  {
   "cell_type": "code",
   "execution_count": null,
   "id": "3a8e57f5",
   "metadata": {},
   "outputs": [],
   "source": []
  },
  {
   "cell_type": "code",
   "execution_count": null,
   "id": "47cd38b8",
   "metadata": {},
   "outputs": [],
   "source": []
  },
  {
   "cell_type": "code",
   "execution_count": null,
   "id": "185dd10c",
   "metadata": {},
   "outputs": [],
   "source": []
  },
  {
   "cell_type": "code",
   "execution_count": null,
   "id": "7aa6b5cd",
   "metadata": {},
   "outputs": [],
   "source": []
  },
  {
   "cell_type": "code",
   "execution_count": 101,
   "id": "694c2e04",
   "metadata": {},
   "outputs": [
    {
     "data": {
      "text/plain": [
       "matso< shape: (2, 1), \n",
       " - Column 0\n",
       "(0,0) 0 + 0.333333 * e([1]) - 0.64 * e([2]) - 0.266667 * e([3])\n",
       "(1,0) 0 + 1 * e([1]) + 0.48 * e([2]) + 0.2 * e([3])\n",
       ">"
      ]
     },
     "execution_count": 101,
     "metadata": {},
     "output_type": "execute_result"
    }
   ],
   "source": [
    "sol_order = 1\n",
    "R1 = oti.zeros((2,1))\n",
    "R1[0,0] = r1.rom_eval_object([1,2,3,4,5],[oti.e(1,order=order),oti.e(2,order=order),oti.e(3,order=order),0*oti.e(4,order=order),0*oti.e(5,order=order)])\n",
    "R1[1,0] = r2.rom_eval_object([1,2,3,4,5],[oti.e(1,order=order),oti.e(2,order=order),oti.e(3,order=order),0*oti.e(4,order=order),0*oti.e(5,order=order)])\n",
    "R1 = R1.truncate_order(1)\n",
    "R1 = R1.truncate(4).truncate(5)\n",
    "R1 = R1.get_order_im(sol_order)\n",
    "X1 = oti.dot(Jinv,-R1)\n",
    "Xsol += X1\n",
    "X1"
   ]
  },
  {
   "cell_type": "code",
   "execution_count": 102,
   "id": "befdb450",
   "metadata": {},
   "outputs": [
    {
     "data": {
      "text/plain": [
       "matso< shape: (2, 1), \n",
       " - Column 0\n",
       "(0,0) 0 - 0.00462963 * e([[1,2]]) - 0.111111 * e([1,2]) + 0.144 * e([[2,2]]) - 0.00925926 * e([1,3]) + 0.0488889 * e([2,3]) - 0.00462963 * e([[3,2]])\n",
       "(1,0) 0 - 0.0138889 * e([[1,2]]) - 1.38778e-17 * e([1,2]) - 0.208 * e([[2,2]]) - 0.0277778 * e([1,3]) - 0.12 * e([2,3]) - 0.0138889 * e([[3,2]])\n",
       ">"
      ]
     },
     "execution_count": 102,
     "metadata": {},
     "output_type": "execute_result"
    }
   ],
   "source": [
    "sol_order = 2\n",
    "R2 = oti.zeros((2,1))\n",
    "R2[0,0] = r1.rom_eval_object([1,2,3,4,5],[oti.e(1,order=order),oti.e(2,order=order),oti.e(3,order=order),X1[0,0],X1[1,0]])\n",
    "R2[1,0] = r2.rom_eval_object([1,2,3,4,5],[oti.e(1,order=order),oti.e(2,order=order),oti.e(3,order=order),X1[0,0],X1[1,0]])\n",
    "R2 = R2.truncate_order(sol_order)\n",
    "R2 = R2.truncate(4).truncate(5)\n",
    "R2 = R2.get_order_im(sol_order)\n",
    "X2 = oti.dot(Jinv,-R2)\n",
    "Xsol += X2\n",
    "X2"
   ]
  },
  {
   "cell_type": "code",
   "execution_count": 103,
   "id": "e6a7539f",
   "metadata": {},
   "outputs": [
    {
     "data": {
      "text/plain": [
       "matso< shape: (2, 1), \n",
       " - Column 0\n",
       "(0,0) 0 + 0.00128601 * e([[1,3]]) + 0.00462963 * e([[1,2],2]) + 0.037037 * e([1,[2,2]]) - 0.0224 * e([[2,3]]) + 0.00270062 * e([[1,2],3]) + 0.00925926 * e([1,2,3]) + 0.00103704 * e([[2,2],3]) + 0.00154321 * e([1,[3,2]]) + 0.00462963 * e([2,[3,2]]) + 0.000128601 * e([[3,3]])\n",
       "(1,0) 0 + 0.00385802 * e([[1,3]]) + 0.00925926 * e([[1,2],2]) + 3.46945e-18 * e([1,[2,2]]) + 0.0768 * e([[2,3]]) + 0.00810185 * e([[1,2],3]) + 0.0185185 * e([1,2,3]) + 0.052 * e([[2,2],3]) + 0.00462963 * e([1,[3,2]]) + 0.00925926 * e([2,[3,2]]) + 0.000385802 * e([[3,3]])\n",
       ">"
      ]
     },
     "execution_count": 103,
     "metadata": {},
     "output_type": "execute_result"
    }
   ],
   "source": [
    "sol_order = 3\n",
    "R3 = oti.zeros((2,1))\n",
    "R3[0,0] = r1.rom_eval_object([1,2,3,4,5],[oti.e(1,order=order),oti.e(2,order=order),oti.e(3,order=order),Xsol[0,0],Xsol[1,0]])\n",
    "R3[1,0] = r2.rom_eval_object([1,2,3,4,5],[oti.e(1,order=order),oti.e(2,order=order),oti.e(3,order=order),Xsol[0,0],Xsol[1,0]])\n",
    "R3 = R3.truncate_order(sol_order)\n",
    "R3 = R3.truncate(4).truncate(5)\n",
    "R3 = R3.get_order_im(sol_order)\n",
    "X3 = oti.dot(Jinv,-R3)\n",
    "Xsol += X3\n",
    "X3"
   ]
  },
  {
   "cell_type": "code",
   "execution_count": 104,
   "id": "38a937ce",
   "metadata": {},
   "outputs": [
    {
     "data": {
      "text/plain": [
       "matso< shape: (2, 1), \n",
       " - Column 0\n",
       "(0,0) 0 + 0.00128601 * e([[1,3]]) + 0.00462963 * e([[1,2],2]) + 0.037037 * e([1,[2,2]]) - 0.0224 * e([[2,3]]) + 0.00270062 * e([[1,2],3]) + 0.00925926 * e([1,2,3]) + 0.00103704 * e([[2,2],3]) + 0.00154321 * e([1,[3,2]]) + 0.00462963 * e([2,[3,2]]) + 0.000128601 * e([[3,3]])\n",
       "(1,0) 0 + 0.00385802 * e([[1,3]]) + 0.00925926 * e([[1,2],2]) + 2.97376e-17 * e([1,[2,2]]) + 0.0768 * e([[2,3]]) + 0.00810185 * e([[1,2],3]) + 0.0185185 * e([1,2,3]) + 0.052 * e([[2,2],3]) + 0.00462963 * e([1,[3,2]]) + 0.00925926 * e([2,[3,2]]) + 0.000385802 * e([[3,3]])\n",
       ">"
      ]
     },
     "execution_count": 104,
     "metadata": {},
     "output_type": "execute_result"
    }
   ],
   "source": [
    "X.get_order_im(3)"
   ]
  },
  {
   "cell_type": "code",
   "execution_count": 69,
   "id": "44468d76",
   "metadata": {},
   "outputs": [
    {
     "name": "stdout",
     "output_type": "stream",
     "text": [
      "matso< shape: (2, 1), \n",
      " - Column 0\n",
      "(0,0) -0.0000 - 8.0000 * e([1]) - 1.0000 * e([[1,2]])\n",
      "(1,0) 0.0000 - 2.4000 * e([2]) - 1.0000 * e([3])\n",
      ">\n"
     ]
    }
   ],
   "source": [
    "# Compute Jacobian at this iteration:\n",
    "\n",
    "J = j_oti(Xr,fun2,False,r.real,m.real,b.real)\n",
    "\n",
    "residual = fun2(Xr,r,m,b)\n",
    "print(residual)\n",
    "dresdr = oti.array(residual.get_deriv(1))\n",
    "dxdr = -oti.dot(Jinv,oti.array(residual.get_deriv(1)))\n",
    "dxdm = -oti.dot(Jinv,oti.array(residual.get_deriv(2)))\n",
    "dxdb = -oti.dot(Jinv,oti.array(residual.get_deriv(3)))\n"
   ]
  },
  {
   "cell_type": "code",
   "execution_count": 62,
   "id": "9db94cd2",
   "metadata": {},
   "outputs": [
    {
     "name": "stdout",
     "output_type": "stream",
     "text": [
      "[[0.33333333]\n",
      " [1.        ]]\n",
      "[[0.33333333]\n",
      " [1.        ]]\n"
     ]
    },
    {
     "data": {
      "text/plain": [
       "1.1102230246251565e-16"
      ]
     },
     "execution_count": 62,
     "metadata": {},
     "output_type": "execute_result"
    }
   ],
   "source": [
    "print(dxdr.real)\n",
    "print(X.get_deriv(1).real)\n",
    "oti.norm(oti.array(X.get_deriv(1))-dxdr).real"
   ]
  },
  {
   "cell_type": "code",
   "execution_count": 64,
   "id": "a7646b26",
   "metadata": {},
   "outputs": [
    {
     "name": "stdout",
     "output_type": "stream",
     "text": [
      "[[-0.64]\n",
      " [ 0.48]]\n",
      "[[-0.64]\n",
      " [ 0.48]]\n"
     ]
    },
    {
     "data": {
      "text/plain": [
       "2.2887833992611187e-16"
      ]
     },
     "execution_count": 64,
     "metadata": {},
     "output_type": "execute_result"
    }
   ],
   "source": [
    "print(dxdm.real)\n",
    "print(X.get_deriv(2))\n",
    "oti.norm(oti.array(X.get_deriv(2))-dxdm).real"
   ]
  },
  {
   "cell_type": "code",
   "execution_count": 67,
   "id": "2a0a7364",
   "metadata": {},
   "outputs": [
    {
     "name": "stdout",
     "output_type": "stream",
     "text": [
      "[[-0.26666667]\n",
      " [ 0.2       ]]\n",
      "[[-0.26666667]\n",
      " [ 0.2       ]]\n"
     ]
    },
    {
     "data": {
      "text/plain": [
       "5.551115123125783e-17"
      ]
     },
     "execution_count": 67,
     "metadata": {},
     "output_type": "execute_result"
    }
   ],
   "source": [
    "print(dxdb.real)\n",
    "print(X.get_deriv(3))\n",
    "oti.norm(oti.array(X.get_deriv(3))-dxdb).real"
   ]
  },
  {
   "cell_type": "markdown",
   "id": "4897ba6e",
   "metadata": {},
   "source": [
    "## Second order derivatives"
   ]
  },
  {
   "cell_type": "code",
   "execution_count": null,
   "id": "3b21ea3b",
   "metadata": {},
   "outputs": [],
   "source": [
    "rhs = oti.array(residual.get_deriv([[1,2]])) + \n",
    "d2xdrr = -oti.dot(Jinv,-)"
   ]
  },
  {
   "cell_type": "code",
   "execution_count": 9,
   "id": "e9c8b271",
   "metadata": {},
   "outputs": [
    {
     "data": {
      "text/plain": [
       "matso< shape: (2, 1), \n",
       " - Column 0\n",
       "(0,0) 0.0000 - 0.0046 * e([[1,2]]) - 0.1111 * e([1,2]) + 0.1440 * e([[2,2]]) - 0.0093 * e([1,3]) + 0.0489 * e([2,3]) - 0.0046 * e([[3,2]])\n",
       "(1,0) 0.0000 - 0.0139 * e([[1,2]]) + 0.0000 * e([1,2]) - 0.2080 * e([[2,2]]) - 0.0278 * e([1,3]) - 0.1200 * e([2,3]) - 0.0139 * e([[3,2]])\n",
       ">"
      ]
     },
     "execution_count": 9,
     "metadata": {},
     "output_type": "execute_result"
    }
   ],
   "source": [
    "X.get_order_im(2)"
   ]
  },
  {
   "cell_type": "code",
   "execution_count": 10,
   "id": "9d49495e",
   "metadata": {},
   "outputs": [
    {
     "ename": "NameError",
     "evalue": "name 'residual' is not defined",
     "output_type": "error",
     "traceback": [
      "\u001b[0;31m---------------------------------------------------------------------------\u001b[0m",
      "\u001b[0;31mNameError\u001b[0m                                 Traceback (most recent call last)",
      "Input \u001b[0;32mIn [10]\u001b[0m, in \u001b[0;36m<cell line: 1>\u001b[0;34m()\u001b[0m\n\u001b[0;32m----> 1\u001b[0m \u001b[43mresidual\u001b[49m\n",
      "\u001b[0;31mNameError\u001b[0m: name 'residual' is not defined"
     ]
    }
   ],
   "source": [
    "residual"
   ]
  },
  {
   "cell_type": "code",
   "execution_count": null,
   "id": "4e2d02e9",
   "metadata": {},
   "outputs": [],
   "source": []
  }
 ],
 "metadata": {
  "kernelspec": {
   "display_name": "pyoti",
   "language": "python",
   "name": "pyoti"
  },
  "language_info": {
   "codemirror_mode": {
    "name": "ipython",
    "version": 3
   },
   "file_extension": ".py",
   "mimetype": "text/x-python",
   "name": "python",
   "nbconvert_exporter": "python",
   "pygments_lexer": "ipython3",
   "version": "3.9.13"
  }
 },
 "nbformat": 4,
 "nbformat_minor": 5
}
