{
 "cells": [
  {
   "cell_type": "code",
   "execution_count": 1,
   "metadata": {},
   "outputs": [],
   "source": [
    "%reset -f\n",
    "import sys\n",
    "sys.path.append(\"/home/jose/Documents/Maestria/Codigo/OTI/build/\")\n",
    "import Calc_Cable as cab\n",
    "import pyoti.sparse as oti\n",
    "import numpy as np\n",
    "from scipy.optimize import fsolve\n",
    "import matplotlib.pyplot as plt\n",
    "import pyoti.core as coti"
   ]
  },
  {
   "cell_type": "code",
   "execution_count": 38,
   "metadata": {
    "scrolled": false
   },
   "outputs": [
    {
     "name": "stdout",
     "output_type": "stream",
     "text": [
      "gi, fi\n",
      "[[0.48072921]] [[0.6621794]]\n",
      "[[-1.75770757]] [[-0.00149706]]\n",
      "X, Y0\n",
      "[[24.03646052]] [[33.10896976]]\n",
      "[[-67.85499479]] [[27.51595534]]\n"
     ]
    }
   ],
   "source": [
    "#Lectura de datos de entrada\n",
    "l,h,L0,A0,E,w,cargas = cab.leer_entradas(\"Irvine_1\")\n",
    "\n",
    "#Pertubar parametros (no sirve para perturbar cargas y ubicacion s de las cargas)\n",
    "order = 1\n",
    "nbases = 6\n",
    "e1 = oti.e(1, order=order)\n",
    "e2 = oti.e(2, order=order)\n",
    "e3 = oti.e(3, order=order)\n",
    "e4 = oti.e(4, order=order)\n",
    "e5 = oti.e(5, order=order)\n",
    "e6 = oti.e(6, order=order)\n",
    "#l = l + e1\n",
    "#h = h + e2\n",
    "L0 = L0 + e3 \n",
    "#A0 = A0 + e4\n",
    "#E = E + e5\n",
    "#w = w + e6\n",
    "\n",
    "#convertir adimensionales\n",
    "gamma,delta,beta,Psi,Sigmas = cab.param_adim(l,h,L0,A0,E,w,cargas)\n",
    "\n",
    "#calcular las incognitas gi fi\n",
    "gi_0, fi_0 = 0.3, 0.4 #valores iniciales para iterar en newton\n",
    "gi,fi = cab.calc_gi_fi(order,nbases,gamma,delta,beta,Psi,Sigmas,gi_0,fi_0)\n",
    "\n",
    "#Reacciones\n",
    "\n",
    "X = gi*w*L0\n",
    "Y0 = fi*w*L0\n",
    "\n",
    "#dX/dL0 , dY0/dL0\n",
    "d = 3\n",
    "print(\"gi, fi\")\n",
    "print(gi.get_deriv(0), fi.get_deriv(0))\n",
    "print(gi.get_deriv(d), fi.get_deriv(d))\n",
    "\n",
    "#dX/dL0 , dY0/dL0\n",
    "d = 3\n",
    "print(\"X, Y0\")\n",
    "print(X.get_deriv(0), Y0.get_deriv(0))\n",
    "print(X.get_im(d), Y0.get_im(d))\n",
    "\n",
    "#puntos de la carga 1\n",
    "n = 1\n",
    "xi, eta, tau = cab.solu(gi,fi,beta,Psi,Sigmas,Sigmas[n],n)\n",
    "x = xi*L0\n",
    "y = eta*L0\n",
    "\n",
    "#dx/dL0 , dy/dL0\n",
    "# d = 3\n",
    "# print(\"x, y\")\n",
    "# print(x.get_deriv(0), y.get_deriv(0))\n",
    "# print(x.get_deriv(d), y.get_deriv(d))"
   ]
  },
  {
   "cell_type": "code",
   "execution_count": 14,
   "metadata": {},
   "outputs": [],
   "source": [
    "def root(x0, ht=0):\n",
    "    l,h,L0,A0,E,w,cargas = cab.leer_entradas(\"Irvine_1\")\n",
    "    L0 += 1j*ht\n",
    "    gamma,delta,beta,Psi,Sigmas = param_adim(l,h,L0,A0,E,w,cargas)\n",
    "    root = fsolve(real_f, x0, args=(gamma,delta,beta,Psi,Sigmas))\n",
    "    XY0 = np.array([root[0] + 1j*root[1], root[2] + 1j*root[3]])*w*L0\n",
    "    return XY0"
   ]
  },
  {
   "cell_type": "code",
   "execution_count": 31,
   "metadata": {},
   "outputs": [],
   "source": [
    "def param_adim(l,h,L0,A0,E,w,cargas):\n",
    "    W = w*L0\n",
    "    gamma = l/L0\n",
    "    delta = h/L0\n",
    "    beta = W/(E*A0)\n",
    "    Psi = np.append([0,0],cargas[:,0])/W\n",
    "    Sigmas = np.append([0],cargas[:,1])/L0\n",
    "    return (gamma,delta,beta,Psi,Sigmas)"
   ]
  },
  {
   "cell_type": "code",
   "execution_count": 32,
   "metadata": {},
   "outputs": [],
   "source": [
    "def func(x,gamma,delta,beta,Psi,Sigmas):\n",
    "    f = np.zeros(2, dtype=\"complex\")\n",
    "    sum_gi = 0\n",
    "    sum_fi = 0\n",
    "    for i in range(len(Sigmas)):\n",
    "        sum_gi = sum_gi + np.arcsinh((x[1]-Psi[i+1]-Sigmas[i])/x[0]) - np.arcsinh((x[1]-Psi[i]-Sigmas[i])/x[0])\n",
    "        sum_fi = sum_fi + beta*Psi[i+1]*(Sigmas[i]-1) + np.sqrt((x[1]-Psi[i+1]-Sigmas[i])**2 + x[0]**2) - np.sqrt((x[1]-Psi[i]-Sigmas[i])**2 + x[0]**2)\n",
    "    f[0] = beta - gamma/x[0] + np.arcsinh(x[1]/x[0]) - np.arcsinh((x[1]-np.sum(Psi)-1)/x[0]) + sum_gi\n",
    "    f[1] = beta*(x[1]-0.5) - delta + np.sqrt(x[1]**2+x[0]**2) - np.sqrt((x[1]-np.sum(Psi)-1)**2 + x[0]**2) + sum_fi\n",
    "    return f"
   ]
  },
  {
   "cell_type": "code",
   "execution_count": 33,
   "metadata": {},
   "outputs": [],
   "source": [
    "def real_f(x0, gamma,delta,beta,Psi,Sigmas):\n",
    "    r1, c1, r2, c2 = x0\n",
    "    x = np.array([r1 + 1j*c1, r2 + 1j*c2])\n",
    "    f_4 = func(x,gamma,delta,beta,Psi,Sigmas)\n",
    "    return np.array([np.real(f_4[0]), np.imag(f_4[0]), np.real(f_4[1]), np.imag(f_4[1])])"
   ]
  },
  {
   "cell_type": "code",
   "execution_count": 40,
   "metadata": {},
   "outputs": [
    {
     "name": "stdout",
     "output_type": "stream",
     "text": [
      "(X, Y0) =  [24.03646052 33.10896976]\n",
      "(dX/dL0, dY0/dL0) =  [-67.24632462  27.50894951]\n"
     ]
    }
   ],
   "source": [
    "x0 = np.array([0.3, 0, 0.4, 0])\n",
    "ht = 1e-8\n",
    "\n",
    "r = root(x0,ht)\n",
    "print(\"(X, Y0) = \", np.real(r))\n",
    "print(\"(dX/dL0, dY0/dL0) = \", np.imag(r)/ht)"
   ]
  }
 ],
 "metadata": {
  "kernelspec": {
   "display_name": "Python 3",
   "language": "python",
   "name": "python3"
  },
  "language_info": {
   "codemirror_mode": {
    "name": "ipython",
    "version": 3
   },
   "file_extension": ".py",
   "mimetype": "text/x-python",
   "name": "python",
   "nbconvert_exporter": "python",
   "pygments_lexer": "ipython3",
   "version": "3.6.9"
  }
 },
 "nbformat": 4,
 "nbformat_minor": 2
}
