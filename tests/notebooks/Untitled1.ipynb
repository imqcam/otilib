{
 "cells": [
  {
   "cell_type": "code",
   "execution_count": 1,
   "metadata": {},
   "outputs": [],
   "source": [
    "import pyoti.sparse as oti"
   ]
  },
  {
   "cell_type": "code",
   "execution_count": 2,
   "metadata": {},
   "outputs": [
    {
     "name": "stdout",
     "output_type": "stream",
     "text": [
      "Help on class csr_matrix in module pyoti.sparse:\n",
      "\n",
      "class csr_matrix(builtins.object)\n",
      " |  Methods defined here:\n",
      " |  \n",
      " |  __init__(...)\n",
      " |      PURPOSE:      Python level constructor of the csr_matrix class.\n",
      " |      \n",
      " |      DESCRIPTION:  Creates a new empty csr_matrix matrix. Note that this matrix does not support \n",
      " |                    slicing or item get or set operations.\n",
      " |      \n",
      " |      INPUTS:\n",
      " |            - arg1:        Given constructors:\n",
      " |      \n",
      " |                            arg1 = lil_matrix. LIL matrix is converted to CSR type of sparse matrix.\n",
      " |      \n",
      " |                            arg1 = (data, indices, indptr). Matrix is created from given arrays.\n",
      " |      \n",
      " |                            arg1 = (data, ( rows, cols ) ). Coordinate creator. Currently not supported.\n",
      " |      \n",
      " |                            arg1 = (nrows, ncols). Empty matrix creator.\n",
      " |      \n",
      " |            - shape:       Default None. Defines the shape of the matrix. If not given, then it is inferred \n",
      " |                           from the data. \n",
      " |      \n",
      " |            - copy:        Default True. No use currently.\n",
      " |      \n",
      " |            - preserve_in: Default False. If True, the input matrix from arg1 is slowly freed in memory\n",
      " |                           with memory preservation in mind.\n",
      " |  \n",
      " |  __pow__(...)\n",
      " |      PURPOSE:      Power function oversload\n",
      " |  \n",
      " |  __reduce__ = __reduce_cython__(...)\n",
      " |  \n",
      " |  __repr__(...)\n",
      " |      PURPOSE:      Representation of the object.\n",
      " |  \n",
      " |  __rpow__(self, value, mod=None, /)\n",
      " |      Return pow(value, self, mod).\n",
      " |  \n",
      " |  __setstate__ = __setstate_cython__(...)\n",
      " |  \n",
      " |  __str__(...)\n",
      " |      PURPOSE:      Create a string representation of the object.\n",
      " |  \n",
      " |  copy(...)\n",
      " |      PURPOSE: Deep copy to a new object.\n",
      " |  \n",
      " |  extract_deriv(...)\n",
      " |      PURPOSE: Get the corresponding derivative in the object, as OTI number.\n",
      " |  \n",
      " |  extract_im(...)\n",
      " |      PURPOSE: Get the corresponding imaginary direction in the object.\n",
      " |  \n",
      " |  get_active_bases(...)\n",
      " |      PORPUSE: Get the bases with non-zero coefficients in the OTI number.\n",
      " |  \n",
      " |  get_deriv(...)\n",
      " |      PURPOSE: Get the corresponding derivative of the system.\n",
      " |  \n",
      " |  get_im(...)\n",
      " |      PURPOSE: Get the corresponding derivative of the system.\n",
      " |  \n",
      " |  get_order_im(...)\n",
      " |      PURPOSE: Get the corresponding derivative in the object, as OTI number.\n",
      " |  \n",
      " |  truncate(...)\n",
      " |      PURPOSE:      to set a specific imaginary direction as given.\n",
      " |  \n",
      " |  zeros_like(...)\n",
      " |      PURPOSE: Create new object with OTI zeros in positions.\n",
      " |  \n",
      " |  ----------------------------------------------------------------------\n",
      " |  Static methods defined here:\n",
      " |  \n",
      " |  __new__(*args, **kwargs) from builtins.type\n",
      " |      Create and return a new object.  See help(type) for accurate signature.\n",
      " |  \n",
      " |  ----------------------------------------------------------------------\n",
      " |  Data descriptors defined here:\n",
      " |  \n",
      " |  data\n",
      " |      PURPOSE:      Return the data array of the stored matrix.\n",
      " |  \n",
      " |  indices\n",
      " |      PURPOSE:      Return the indices array the stored matrix.\n",
      " |  \n",
      " |  indptr\n",
      " |      PURPOSE:      Return the indptr array the stored matrix.\n",
      " |  \n",
      " |  ncols\n",
      " |  \n",
      " |  nnz\n",
      " |      PURPOSE:      Return the number of non-zero elements in the stored matrix.\n",
      " |  \n",
      " |  nrows\n",
      " |  \n",
      " |  order\n",
      " |      PURPOSE:      Return the shape of the stored matrix.\n",
      " |  \n",
      " |  real\n",
      " |      PURPOSE:      Get a numpy array with all coefficients in the real direction.\n",
      " |  \n",
      " |  shape\n",
      " |      PURPOSE:      Return the shape of the stored matrix.\n",
      " |  \n",
      " |  size\n",
      " |  \n",
      " |  ----------------------------------------------------------------------\n",
      " |  Data and other attributes defined here:\n",
      " |  \n",
      " |  __pyx_vtable__ = <capsule object NULL>\n",
      "\n"
     ]
    }
   ],
   "source": [
    "help(oti.csr_matrix)"
   ]
  },
  {
   "cell_type": "code",
   "execution_count": 6,
   "metadata": {},
   "outputs": [],
   "source": [
    "import numpy as np\n",
    "import scipy.sparse as spr"
   ]
  },
  {
   "cell_type": "code",
   "execution_count": 4,
   "metadata": {},
   "outputs": [],
   "source": [
    "A = np.array([[1.,0,0],\n",
    "          [0,2.3,3],\n",
    "          [0,0,4]\n",
    "         ])"
   ]
  },
  {
   "cell_type": "code",
   "execution_count": 7,
   "metadata": {},
   "outputs": [],
   "source": [
    "Aspr = spr.csr_matrix(A)"
   ]
  },
  {
   "cell_type": "code",
   "execution_count": 12,
   "metadata": {},
   "outputs": [
    {
     "ename": "TypeError",
     "evalue": "must be real number, not pyoti.sparse.matso",
     "output_type": "error",
     "traceback": [
      "\u001b[0;31m---------------------------------------------------------------------------\u001b[0m",
      "\u001b[0;31mTypeError\u001b[0m                                 Traceback (most recent call last)",
      "Cell \u001b[0;32mIn [12], line 1\u001b[0m\n\u001b[0;32m----> 1\u001b[0m Aoti \u001b[38;5;241m=\u001b[39m \u001b[43moti\u001b[49m\u001b[38;5;241;43m.\u001b[39;49m\u001b[43mcsr_matrix\u001b[49m\u001b[43m(\u001b[49m\u001b[43m(\u001b[49m\u001b[43moti\u001b[49m\u001b[38;5;241;43m.\u001b[39;49m\u001b[43marray\u001b[49m\u001b[43m(\u001b[49m\u001b[43mAspr\u001b[49m\u001b[38;5;241;43m.\u001b[39;49m\u001b[43mdata\u001b[49m\u001b[43m)\u001b[49m\u001b[43m,\u001b[49m\u001b[43mAspr\u001b[49m\u001b[38;5;241;43m.\u001b[39;49m\u001b[43mindices\u001b[49m\u001b[43m,\u001b[49m\u001b[43mAspr\u001b[49m\u001b[38;5;241;43m.\u001b[39;49m\u001b[43mindptr\u001b[49m\u001b[43m)\u001b[49m\u001b[43m)\u001b[49m\n",
      "File \u001b[0;32mbase.pxi:152\u001b[0m, in \u001b[0;36mpyoti.sparse.csr_matrix.__init__\u001b[0;34m()\u001b[0m\n",
      "\u001b[0;31mTypeError\u001b[0m: must be real number, not pyoti.sparse.matso"
     ]
    }
   ],
   "source": [
    "Aoti = oti.csr_matrix((Aspr.data,Aspr.indices,Aspr.indptr))"
   ]
  },
  {
   "cell_type": "code",
   "execution_count": 11,
   "metadata": {},
   "outputs": [
    {
     "data": {
      "text/plain": [
       "<(3, 3) sparse matrix of OTI numbers with \n",
       "         4 stored elements in Compressed Sparse Row format>"
      ]
     },
     "execution_count": 11,
     "metadata": {},
     "output_type": "execute_result"
    }
   ],
   "source": [
    "Aoti."
   ]
  },
  {
   "cell_type": "code",
   "execution_count": 15,
   "metadata": {},
   "outputs": [],
   "source": [
    "Aoti.data[:,:]=Aoti.data+oti.e(1)"
   ]
  },
  {
   "cell_type": "code",
   "execution_count": 16,
   "metadata": {},
   "outputs": [
    {
     "data": {
      "text/plain": [
       "matso< shape: (4, 1), \n",
       " - Column 0\n",
       "(0,0) 1 + 1 * e([1])\n",
       "(1,0) 2.3 + 1 * e([1])\n",
       "(2,0) 3 + 1 * e([1])\n",
       "(3,0) 4 + 1 * e([1])\n",
       ">"
      ]
     },
     "execution_count": 16,
     "metadata": {},
     "output_type": "execute_result"
    }
   ],
   "source": [
    "Aoti.data"
   ]
  },
  {
   "cell_type": "code",
   "execution_count": null,
   "metadata": {},
   "outputs": [],
   "source": []
  }
 ],
 "metadata": {
  "kernelspec": {
   "display_name": "pyoti",
   "language": "python",
   "name": "pyoti"
  },
  "language_info": {
   "codemirror_mode": {
    "name": "ipython",
    "version": 3
   },
   "file_extension": ".py",
   "mimetype": "text/x-python",
   "name": "python",
   "nbconvert_exporter": "python",
   "pygments_lexer": "ipython3",
   "version": "3.9.13"
  }
 },
 "nbformat": 4,
 "nbformat_minor": 2
}
