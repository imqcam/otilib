{
 "cells": [
  {
   "cell_type": "code",
   "execution_count": 2,
   "id": "57ea451c",
   "metadata": {},
   "outputs": [],
   "source": [
    "# 1. SET GLOBAL PATH \n",
    "import sys\n",
    "path2oti = '../../../build'\n",
    "sys.path.append(path2oti) # Add path to OTI library.\n",
    "\n",
    "import pyoti.sparse as oti\n",
    "from pyoti.core import imdir\n",
    "\n",
    "import numpy as np"
   ]
  },
  {
   "cell_type": "code",
   "execution_count": 11,
   "id": "dfd4b07f",
   "metadata": {},
   "outputs": [
    {
     "name": "stdout",
     "output_type": "stream",
     "text": [
      "Help on built-in function zero in module pyoti.sparse:\n",
      "\n",
      "zero(...)\n",
      "    PURPOSE:  To create a scalar with real value 0 and every imaginary coefficient as zeros.\n",
      "\n"
     ]
    }
   ],
   "source": [
    "help(oti.zero)"
   ]
  },
  {
   "cell_type": "code",
   "execution_count": 32,
   "id": "1375b420",
   "metadata": {},
   "outputs": [],
   "source": [
    "X = oti.ones((4,4)) + oti.e(1)\n",
    "x = 4.5 + 2*oti.e(1)"
   ]
  },
  {
   "cell_type": "code",
   "execution_count": 26,
   "id": "3587b824",
   "metadata": {},
   "outputs": [
    {
     "data": {
      "text/plain": [
       "matso< shape: (4, 4), \n",
       " - Column 0\n",
       "(0,0) 0 + 1 * e([1])\n",
       "(1,0) 0 + 1 * e([1])\n",
       "(2,0) 0 + 1 * e([1])\n",
       "(3,0) 0 + 1 * e([1])\n",
       " - Column 1\n",
       "(0,1) 0 + 1 * e([1])\n",
       "(1,1) 0 + 1 * e([1])\n",
       "(2,1) 0 + 1 * e([1])\n",
       "(3,1) 0 + 1 * e([1])\n",
       " - Column 2\n",
       "(0,2) 0 + 1 * e([1])\n",
       "(1,2) 0 + 1 * e([1])\n",
       "(2,2) 0 + 1 * e([1])\n",
       "(3,2) 0 + 1 * e([1])\n",
       " - Column 3\n",
       "(0,3) 0 + 1 * e([1])\n",
       "(1,3) 0 + 1 * e([1])\n",
       "(2,3) 0 + 1 * e([1])\n",
       "(3,3) 0 + 1 * e([1])\n",
       ">"
      ]
     },
     "execution_count": 26,
     "metadata": {},
     "output_type": "execute_result"
    }
   ],
   "source": [
    "X.get_order_im(1)"
   ]
  },
  {
   "cell_type": "code",
   "execution_count": 28,
   "id": "765ba9cf",
   "metadata": {},
   "outputs": [
    {
     "name": "stdout",
     "output_type": "stream",
     "text": [
      "4 + 4 * e([2]) + 1 * e([[2,2]])\n"
     ]
    }
   ],
   "source": [
    "y = 2 + oti.e(2,order = 2)\n",
    "y = y**2\n",
    "print(y)"
   ]
  },
  {
   "cell_type": "code",
   "execution_count": 33,
   "id": "17bed057",
   "metadata": {},
   "outputs": [
    {
     "data": {
      "text/plain": [
       "4.5000 + 2.0000 * e([1])"
      ]
     },
     "execution_count": 33,
     "metadata": {},
     "output_type": "execute_result"
    }
   ],
   "source": [
    "\n",
    "x"
   ]
  }
 ],
 "metadata": {
  "kernelspec": {
   "display_name": "pyoti",
   "language": "python",
   "name": "pyoti"
  },
  "language_info": {
   "codemirror_mode": {
    "name": "ipython",
    "version": 3
   },
   "file_extension": ".py",
   "mimetype": "text/x-python",
   "name": "python",
   "nbconvert_exporter": "python",
   "pygments_lexer": "ipython3",
   "version": "3.8.10"
  }
 },
 "nbformat": 4,
 "nbformat_minor": 5
}
