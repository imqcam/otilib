{
 "cells": [
  {
   "cell_type": "code",
   "execution_count": 1,
   "id": "f2151d1f",
   "metadata": {},
   "outputs": [],
   "source": [
    "import pyoti.sparse as oti"
   ]
  },
  {
   "cell_type": "code",
   "execution_count": 6,
   "id": "412457ac",
   "metadata": {},
   "outputs": [],
   "source": [
    "oti.set_printoptions(terms_print=-1)"
   ]
  },
  {
   "cell_type": "code",
   "execution_count": 7,
   "id": "72967d91",
   "metadata": {},
   "outputs": [],
   "source": [
    "#Lets consider a two varaiable function:\n",
    "def funct(x,y):\n",
    "    return oti.sin((x+y +x*y)**-2)"
   ]
  },
  {
   "cell_type": "code",
   "execution_count": 9,
   "id": "a0d4dd57",
   "metadata": {},
   "outputs": [],
   "source": [
    "e1 = oti.e(1,order=5)\n",
    "e2 = oti.e(2,order=5)\n",
    "e3 = oti.e(3,order=5)"
   ]
  },
  {
   "cell_type": "code",
   "execution_count": 10,
   "id": "a12ceb02",
   "metadata": {},
   "outputs": [
    {
     "data": {
      "text/plain": [
       "0.0204067 - 0.0233188 * e([1]) - 0.0116594 * e([2]) + 0.019982 * e([[1,2]]) + 0.0141523 * e([1,2]) + 0.00499549 * e([[2,2]]) - 0.0152169 * e([[1,3]]) - 0.0128344 * e([[1,2],2]) - 0.00641722 * e([1,[2,2]]) - 0.00190212 * e([[2,3]]) + 0.0108608 * e([[1,4]]) + 0.0103089 * e([[1,3],2]) + 0.00612735 * e([[1,2],[2,2]]) + 0.00257722 * e([1,[2,3]]) + 0.000678799 * e([[2,4]]) - 0.0074387 * e([[1,5]]) - 0.00773596 * e([[1,4],2]) - 0.00515874 * e([[1,3],[2,2]]) - 0.00257937 * e([[1,2],[2,3]]) - 0.000966995 * e([1,[2,4]]) - 0.000232459 * e([[2,5]])"
      ]
     },
     "execution_count": 10,
     "metadata": {},
     "output_type": "execute_result"
    }
   ],
   "source": [
    "x = 1+e1\n",
    "y = 3+e2\n",
    "f_oti =  funct(x,y)\n",
    "f_oti"
   ]
  },
  {
   "cell_type": "code",
   "execution_count": null,
   "id": "85d84e11",
   "metadata": {},
   "outputs": [],
   "source": [
    "x1 = x.real + 1*e1 + 0*e2 + 0*e3\n",
    "y1 = y.real + 0*e1 + 0*e2 + 0*e3\n",
    "f1 = funct(x1,y1)"
   ]
  },
  {
   "cell_type": "code",
   "execution_count": null,
   "id": "fad78b48",
   "metadata": {},
   "outputs": [],
   "source": [
    "x2 = x.real + 0*e1 + 1*e2 + 0*e3\n",
    "y2 = y.real + 0*e1 + 1*e2 + 0*e3\n",
    "f2 = funct(x2,y2)"
   ]
  },
  {
   "cell_type": "code",
   "execution_count": null,
   "id": "8e229e36",
   "metadata": {},
   "outputs": [],
   "source": [
    "x3 = x.real + 0*e1 + 0*e2 + 0*e3\n",
    "y3 = y.real + 0*e1 + 0*e2 + 1*e3\n",
    "f3 = funct(x3,y3)"
   ]
  }
 ],
 "metadata": {
  "kernelspec": {
   "display_name": "pyoti",
   "language": "python",
   "name": "pyoti"
  },
  "language_info": {
   "codemirror_mode": {
    "name": "ipython",
    "version": 3
   },
   "file_extension": ".py",
   "mimetype": "text/x-python",
   "name": "python",
   "nbconvert_exporter": "python",
   "pygments_lexer": "ipython3",
   "version": "3.9.13"
  }
 },
 "nbformat": 4,
 "nbformat_minor": 5
}
