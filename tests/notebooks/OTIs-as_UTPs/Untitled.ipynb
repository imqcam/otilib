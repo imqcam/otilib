{
 "cells": [
  {
   "cell_type": "code",
   "execution_count": 1,
   "id": "135b2056",
   "metadata": {},
   "outputs": [],
   "source": [
    "import pyoti.sparse as oti\n",
    "np = oti.np"
   ]
  },
  {
   "cell_type": "code",
   "execution_count": 2,
   "id": "134099db",
   "metadata": {},
   "outputs": [],
   "source": [
    "oti.set_printoptions(terms_print=-1)"
   ]
  },
  {
   "cell_type": "code",
   "execution_count": 3,
   "id": "2a51ed61",
   "metadata": {},
   "outputs": [],
   "source": [
    "#Lets consider a two varaiable function:\n",
    "def funct(x,y):\n",
    "    return oti.sin((x+y +x*y)**-2)"
   ]
  },
  {
   "cell_type": "code",
   "execution_count": 4,
   "id": "44df2ee2",
   "metadata": {},
   "outputs": [],
   "source": [
    "e1 = oti.e(1,order=2)\n",
    "e2 = oti.e(2,order=2)\n",
    "e3 = oti.e(3,order=2)"
   ]
  },
  {
   "cell_type": "code",
   "execution_count": 5,
   "id": "60e59cb1",
   "metadata": {},
   "outputs": [
    {
     "data": {
      "text/plain": [
       "0.0204067 - 0.0233188 * e([1]) - 0.0116594 * e([2]) + 0.019982 * e([[1,2]]) + 0.0141523 * e([1,2]) + 0.00499549 * e([[2,2]])"
      ]
     },
     "execution_count": 5,
     "metadata": {},
     "output_type": "execute_result"
    }
   ],
   "source": [
    "x = 1+e1\n",
    "y = 3+e2\n",
    "f_oti =  funct(x,y)\n",
    "f_oti"
   ]
  },
  {
   "cell_type": "code",
   "execution_count": 6,
   "id": "70dbb649",
   "metadata": {},
   "outputs": [
    {
     "data": {
      "text/plain": [
       "0.0204067 - 0.0233188 * e([1]) + 0.019982 * e([[1,2]])"
      ]
     },
     "execution_count": 6,
     "metadata": {},
     "output_type": "execute_result"
    }
   ],
   "source": [
    "x1 = x.real + 1*e1\n",
    "y1 = y.real + 0*e1\n",
    "f1 = funct(x1,y1)\n",
    "f1"
   ]
  },
  {
   "cell_type": "code",
   "execution_count": 9,
   "id": "450816a8",
   "metadata": {},
   "outputs": [
    {
     "data": {
      "text/plain": [
       "0.0204067 - 0.0494666 * e([2]) + 0.0782594 * e([[2,2]])"
      ]
     },
     "execution_count": 9,
     "metadata": {},
     "output_type": "execute_result"
    }
   ],
   "source": [
    "x2 = x.real + np.sqrt(2)*e2\n",
    "y2 = y.real + np.sqrt(2)*e2\n",
    "f2 = funct(x2,y2)\n",
    "f2"
   ]
  },
  {
   "cell_type": "code",
   "execution_count": 10,
   "id": "0ce8feec",
   "metadata": {},
   "outputs": [
    {
     "data": {
      "text/plain": [
       "0.0204067 - 0.0116594 * e([3]) + 0.00499549 * e([[3,2]])"
      ]
     },
     "execution_count": 10,
     "metadata": {},
     "output_type": "execute_result"
    }
   ],
   "source": [
    "x3 = x.real + 0*e3\n",
    "y3 = y.real + 1*e3\n",
    "f3 = funct(x3,y3)\n",
    "f3"
   ]
  },
  {
   "cell_type": "code",
   "execution_count": 12,
   "id": "f9942117",
   "metadata": {},
   "outputs": [
    {
     "data": {
      "text/plain": [
       "0.0204067 - 0.0233188 * e([1]) + 0.019982 * e([[1,2]])"
      ]
     },
     "execution_count": 12,
     "metadata": {},
     "output_type": "execute_result"
    }
   ],
   "source": [
    "f1_eval = f1.rom_eval_object([1,2,3],[e1,0,0])\n",
    "f1_eval"
   ]
  },
  {
   "cell_type": "code",
   "execution_count": 13,
   "id": "a9b9b049",
   "metadata": {},
   "outputs": [
    {
     "data": {
      "text/plain": [
       "0.0204067 - 0.0116594 * e([2]) + 0.00499549 * e([[2,2]])"
      ]
     },
     "execution_count": 13,
     "metadata": {},
     "output_type": "execute_result"
    }
   ],
   "source": [
    "f3_eval = f3.rom_eval_object([1,2,3],[0,0,e2])\n",
    "f3_eval"
   ]
  },
  {
   "cell_type": "code",
   "execution_count": 14,
   "id": "35127b1c",
   "metadata": {},
   "outputs": [
    {
     "data": {
      "text/plain": [
       "0.0204067 + 0.0011535 * e([1]) + 0.000576749 * e([2]) - 0.000945884 * e([[1,2]]) + 4.25547e-05 * e([1,2]) - 0.000236471 * e([[2,2]])"
      ]
     },
     "execution_count": 14,
     "metadata": {},
     "output_type": "execute_result"
    }
   ],
   "source": [
    "f2_eval = f2.rom_eval_object([1,2,3],[0,f1_eval+f3_eval-2*f2.real,0])\n",
    "f2_eval "
   ]
  },
  {
   "cell_type": "code",
   "execution_count": 12,
   "id": "24aadbe3",
   "metadata": {},
   "outputs": [
    {
     "data": {
      "text/plain": [
       "0.0204067 - 0.0233188 * e([1]) - 0.0116594 * e([2]) + 0.019982 * e([[1,2]]) + 0.0141523 * e([1,2]) + 0.00499549 * e([[2,2]])"
      ]
     },
     "execution_count": 12,
     "metadata": {},
     "output_type": "execute_result"
    }
   ],
   "source": [
    "f_oti"
   ]
  },
  {
   "cell_type": "code",
   "execution_count": 13,
   "id": "e2446f0c",
   "metadata": {},
   "outputs": [
    {
     "data": {
      "text/plain": [
       " + 0 * e([1]) + 0 * e([[1,2]])"
      ]
     },
     "execution_count": 13,
     "metadata": {},
     "output_type": "execute_result"
    }
   ],
   "source": [
    "f_oti.rom_eval_object([1,2],[e1, 0])-f1"
   ]
  },
  {
   "cell_type": "code",
   "execution_count": 15,
   "id": "ea850ec0",
   "metadata": {},
   "outputs": [
    {
     "data": {
      "text/plain": [
       " + 0.0144884 * e([2]) - 0.0391297 * e([[2,2]])"
      ]
     },
     "execution_count": 15,
     "metadata": {},
     "output_type": "execute_result"
    }
   ],
   "source": [
    "f_oti.rom_eval_object([1,2],[e2,e2])-f2"
   ]
  },
  {
   "cell_type": "code",
   "execution_count": 15,
   "id": "99185d02",
   "metadata": {},
   "outputs": [
    {
     "data": {
      "text/plain": [
       " + 0 * e([3]) + 0 * e([[3,2]])"
      ]
     },
     "execution_count": 15,
     "metadata": {},
     "output_type": "execute_result"
    }
   ],
   "source": [
    "f_oti.rom_eval_object([1,2],[ 0,e3])-f3"
   ]
  },
  {
   "cell_type": "code",
   "execution_count": null,
   "id": "c2d30532",
   "metadata": {},
   "outputs": [],
   "source": []
  },
  {
   "cell_type": "code",
   "execution_count": null,
   "id": "b6d3207d",
   "metadata": {},
   "outputs": [],
   "source": []
  },
  {
   "cell_type": "code",
   "execution_count": null,
   "id": "ab031376",
   "metadata": {},
   "outputs": [],
   "source": []
  }
 ],
 "metadata": {
  "kernelspec": {
   "display_name": "pyoti",
   "language": "python",
   "name": "pyoti"
  },
  "language_info": {
   "codemirror_mode": {
    "name": "ipython",
    "version": 3
   },
   "file_extension": ".py",
   "mimetype": "text/x-python",
   "name": "python",
   "nbconvert_exporter": "python",
   "pygments_lexer": "ipython3",
   "version": "3.9.13"
  }
 },
 "nbformat": 4,
 "nbformat_minor": 5
}
