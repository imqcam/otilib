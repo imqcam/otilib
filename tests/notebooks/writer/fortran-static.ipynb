{
 "cells": [
  {
   "cell_type": "markdown",
   "id": "3987b482",
   "metadata": {},
   "source": [
    "# Generate FORTRAN static modules with OTI or Multidual algebras.\n",
    "```\n",
    "Author: Mauricio Aristizabal\n",
    "Date last modified: Jan 21 2022\n",
    "Initial date: Jan 13 2022\n",
    "Contact: mauriaristi@gmail.com\n",
    "```\n",
    "\n",
    "This Notebook lets you generate Fortran modules that implements static versions of the library.\n",
    "\n",
    "They implement the so called semi-sparse implementation to avoid computational overheads.\n"
   ]
  },
  {
   "cell_type": "code",
   "execution_count": 2,
   "id": "97c4e44c",
   "metadata": {
    "scrolled": false
   },
   "outputs": [],
   "source": [
    "import pyoti.core   as coti\n",
    "from pyoti.fmod_writer import writer"
   ]
  },
  {
   "cell_type": "code",
   "execution_count": 4,
   "id": "6e495d45",
   "metadata": {},
   "outputs": [
    {
     "name": "stdout",
     "output_type": "stream",
     "text": [
      "1\n"
     ]
    }
   ],
   "source": [
    "# Write OTIs for 4 variables and first order derivatives.\n",
    "order   = 1\n",
    "nImBase = 8+22\n",
    "w = writer( nImBase, order, mdual=False)\n",
    "w.write_file(tab = '   ', is_std_matmul=True, elemental_feval= True, real_utils=True)"
   ]
  },
  {
   "cell_type": "code",
   "execution_count": null,
   "id": "7e9e0e3a",
   "metadata": {},
   "outputs": [],
   "source": [
    "w.name_imdir"
   ]
  },
  {
   "cell_type": "code",
   "execution_count": null,
   "id": "2991b039",
   "metadata": {},
   "outputs": [],
   "source": [
    "print(w.write_scalar_function_print( tab=\"   \", level = 0,mode ='M'))"
   ]
  },
  {
   "cell_type": "code",
   "execution_count": 3,
   "id": "6f981852",
   "metadata": {},
   "outputs": [
    {
     "name": "stdout",
     "output_type": "stream",
     "text": [
      "FUNCTION ONUMM3N2_INV3x3(A)&\n",
      "   RESULT(RES)\n",
      "   IMPLICIT NONE\n",
      "   TYPE(ONUMM3N2) , INTENT(IN) :: A(3,3) \n",
      "   TYPE(ONUMM3N2) :: RES(SIZE(A,1),SIZE(A,2)) \n",
      "\n",
      "   ! Get real part \n",
      "   RES%R=INV3x3(A%R)\n",
      "\n",
      "   ! Order 1\n",
      "   RES%E1=-MATMUL(RES%R,(MATMUL(RES%E1,A%R)))\n",
      "   RES%E2=-MATMUL(RES%R,(MATMUL(RES%E2,A%R)))\n",
      "   RES%E3=-MATMUL(RES%R,(MATMUL(RES%E3,A%R)))\n",
      "\n",
      "   ! Order 2\n",
      "   RES%E11=-MATMUL(RES%R,(MATMUL(RES%E11,A%R)+MATMUL(RES%E1,A%E1)))\n",
      "   RES%E12=-MATMUL(RES%R,(MATMUL(RES%E12,A%R)+MATMUL(RES%E1,A%E2)+&\n",
      "          MATMUL(RES%E2,A%E1)))\n",
      "   RES%E22=-MATMUL(RES%R,(MATMUL(RES%E22,A%R)+MATMUL(RES%E2,A%E2)))\n",
      "   RES%E13=-MATMUL(RES%R,(MATMUL(RES%E13,A%R)+MATMUL(RES%E1,A%E3)+&\n",
      "          MATMUL(RES%E3,A%E1)))\n",
      "   RES%E23=-MATMUL(RES%R,(MATMUL(RES%E23,A%R)+MATMUL(RES%E2,A%E3)+&\n",
      "          MATMUL(RES%E3,A%E2)))\n",
      "   RES%E33=-MATMUL(RES%R,(MATMUL(RES%E33,A%R)+MATMUL(RES%E3,A%E3)))\n",
      "\n",
      "END FUNCTION ONUMM3N2_INV3x3\n",
      "\n"
     ]
    }
   ],
   "source": [
    "print(w.write_blocksolver_function(function_name = \"INV3x3\", is_elemental = False, level = 0, tab = \"   \", \n",
    "    f_name = \"inv3x3\", var_type= \"O\", res_type= \"O\", separator = \",\", matSize='3',\n",
    "    f_open = \"(\", f_close = \")\", addition = \"+\",generator = None,    overload = None ))"
   ]
  },
  {
   "cell_type": "code",
   "execution_count": 12,
   "id": "a0e29ee2",
   "metadata": {},
   "outputs": [
    {
     "data": {
      "text/plain": [
       "3"
      ]
     },
     "execution_count": 12,
     "metadata": {},
     "output_type": "execute_result"
    }
   ],
   "source": [
    "len(w.mult_res_total[2])"
   ]
  },
  {
   "cell_type": "code",
   "execution_count": 25,
   "id": "d294fe84",
   "metadata": {},
   "outputs": [
    {
     "name": "stdout",
     "output_type": "stream",
     "text": [
      "\n",
      "E1 = E1 - E1*R\n",
      "E2 = E2 - E2*R\n",
      "\n",
      "E11 = E11 - E11*R - E1*E1\n",
      "E12 = E12 - E12*R - E1*E2 - E2*E1\n",
      "E22 = E22 - E22*R - E2*E2\n",
      "\n",
      "E111 = E111 - E111*R - E1*E11 - E11*E1\n",
      "E112 = E112 - E112*R - E1*E12 - E12*E1 - E2*E11 - E11*E2\n",
      "E122 = E122 - E122*R - E1*E22 - E22*E1 - E2*E12 - E12*E2\n",
      "E222 = E222 - E222*R - E2*E22 - E22*E2\n"
     ]
    }
   ],
   "source": [
    "for i in range(1,w.order+1):\n",
    "    \n",
    "    mult_res = w.mult_res_total[i]\n",
    "    names = w.name_imdir[i]\n",
    "    print(\"\")\n",
    "    \n",
    "    for j in range(len(mult_res)):\n",
    "        imdir = names[j]\n",
    "        multres = mult_res[j]\n",
    "        print(imdir+\" = \"+imdir,end=\"\")\n",
    "        for k in range(1,len(multres)):\n",
    "            lhs = multres[k][0][2]\n",
    "            rhs = multres[k][1][2]\n",
    "            print(\" - \"+lhs+'*'+rhs,end=\"\")\n",
    "        # end for\n",
    "        \n",
    "        print(\"\")\n",
    "        \n",
    "    #\n",
    "   \n",
    "#\n",
    "        \n",
    "    "
   ]
  },
  {
   "cell_type": "code",
   "execution_count": 18,
   "id": "54cc5aff",
   "metadata": {},
   "outputs": [
    {
     "data": {
      "text/plain": [
       "[['R'], ['E1', 'E2'], ['E11', 'E12', 'E22'], ['E111', 'E112', 'E122', 'E222']]"
      ]
     },
     "execution_count": 18,
     "metadata": {},
     "output_type": "execute_result"
    }
   ],
   "source": [
    "w.name_imdir"
   ]
  },
  {
   "cell_type": "code",
   "execution_count": null,
   "id": "5b63b911",
   "metadata": {},
   "outputs": [],
   "source": []
  },
  {
   "cell_type": "code",
   "execution_count": null,
   "id": "9cb00922",
   "metadata": {},
   "outputs": [],
   "source": []
  },
  {
   "cell_type": "code",
   "execution_count": 2,
   "id": "cf9c9779",
   "metadata": {},
   "outputs": [],
   "source": [
    "h = coti.get_dHelp()"
   ]
  },
  {
   "cell_type": "code",
   "execution_count": 10,
   "id": "5adbb35f",
   "metadata": {},
   "outputs": [
    {
     "data": {
      "text/plain": [
       "0"
      ]
     },
     "execution_count": 10,
     "metadata": {},
     "output_type": "execute_result"
    }
   ],
   "source": [
    "coti.np.count_nonzero(h.get_fulldir(3,3)==1)"
   ]
  },
  {
   "cell_type": "code",
   "execution_count": 7,
   "id": "9beb00bd",
   "metadata": {},
   "outputs": [
    {
     "data": {
      "text/plain": [
       "2.0"
      ]
     },
     "execution_count": 7,
     "metadata": {},
     "output_type": "execute_result"
    }
   ],
   "source": [
    "coti.get_deriv_factor(h.get_fulldir(1,3))"
   ]
  },
  {
   "cell_type": "code",
   "execution_count": 8,
   "id": "068e1b7a",
   "metadata": {},
   "outputs": [],
   "source": [
    "order   = 3\n",
    "nImBase = order \n",
    "w = writer( nImBase, order, mdual=True)"
   ]
  },
  {
   "cell_type": "code",
   "execution_count": 9,
   "id": "fafa4a56",
   "metadata": {},
   "outputs": [
    {
     "data": {
      "text/plain": [
       "[['R'], ['E1', 'E2', 'E3'], ['E12', 'E13', 'E23'], ['E123']]"
      ]
     },
     "execution_count": 9,
     "metadata": {},
     "output_type": "execute_result"
    }
   ],
   "source": [
    "w.name_imdir"
   ]
  },
  {
   "cell_type": "code",
   "execution_count": 2,
   "id": "b1873e69",
   "metadata": {},
   "outputs": [],
   "source": [
    "# Generate all mduals up to order:\n",
    "\n",
    "max_order = 3\n",
    "for order in range(1,max_order+1):\n",
    "    w = writer(order, order, mdual=True)\n",
    "    w.write_file(tab = '  ', is_std_matmul=True, elemental_feval= True)"
   ]
  },
  {
   "cell_type": "code",
   "execution_count": 6,
   "id": "8b4f31ad",
   "metadata": {},
   "outputs": [
    {
     "data": {
      "text/plain": [
       "['MDNUM3_LOG', 'MDNUM3_LOG']"
      ]
     },
     "execution_count": 6,
     "metadata": {},
     "output_type": "execute_result"
    }
   ],
   "source": [
    "w.overloads['LOG']"
   ]
  },
  {
   "cell_type": "code",
   "execution_count": 4,
   "id": "c52b2fb9",
   "metadata": {
    "scrolled": false
   },
   "outputs": [
    {
     "name": "stdout",
     "output_type": "stream",
     "text": [
      "ELEMENTAL FUNCTION MDNUM3_TAN(X) RESULT(RES)\n",
      "\n",
      " TYPE(MDNUM3), INTENT(IN) :: X\n",
      " REAL(DP) :: DER0,DER1,DER2,DER3\n",
      " \n",
      " DER0 = TAN(X%R)\n",
      " DER1 = TAN(X%R)**2 + 1\n",
      " DER2 = 2*(TAN(X%R)**2 + 1)*TAN(X%R)\n",
      " DER3 = 2*(TAN(X%R)**2 + 1)*(3*TAN(X%R)**2 + 1)\n",
      "\n",
      " RES = FEVAL(X,DER0,DER1,DER2,DER3)\n",
      "\n",
      "END FUNCTION MDNUM3_TAN\n",
      "\n",
      "ELEMENTAL FUNCTION MDNUM3_COS(X) RESULT(RES)\n",
      "\n",
      " TYPE(MDNUM3), INTENT(IN) :: X\n",
      " REAL(DP) :: DER0,DER1,DER2,DER3\n",
      " \n",
      " DER0 = COS(X%R)\n",
      " DER1 = -SIN(X%R)\n",
      " DER2 = -COS(X%R)\n",
      " DER3 = SIN(X%R)\n",
      "\n",
      " RES = FEVAL(X,DER0,DER1,DER2,DER3)\n",
      "\n",
      "END FUNCTION MDNUM3_COS\n",
      "\n",
      "ELEMENTAL FUNCTION MDNUM3_SIN(X) RESULT(RES)\n",
      "\n",
      " TYPE(MDNUM3), INTENT(IN) :: X\n",
      " REAL(DP) :: DER0,DER1,DER2,DER3\n",
      " \n",
      " DER0 = SIN(X%R)\n",
      " DER1 = COS(X%R)\n",
      " DER2 = -SIN(X%R)\n",
      " DER3 = -COS(X%R)\n",
      "\n",
      " RES = FEVAL(X,DER0,DER1,DER2,DER3)\n",
      "\n",
      "END FUNCTION MDNUM3_SIN\n",
      "\n",
      "ELEMENTAL FUNCTION MDNUM3_ATAN(X) RESULT(RES)\n",
      "\n",
      " TYPE(MDNUM3), INTENT(IN) :: X\n",
      " REAL(DP) :: DER0,DER1,DER2,DER3\n",
      " \n",
      " DER0 = ATAN(X%R)\n",
      " DER1 = 1D0/(X%R**2 + 1)\n",
      " DER2 = -2*X%R/(X%R**2 + 1)**2\n",
      " DER3 = 2*(4*X%R**2/(X%R**2 + 1) - 1)/(X%R**2 + 1)**2\n",
      "\n",
      " RES = FEVAL(X,DER0,DER1,DER2,DER3)\n",
      "\n",
      "END FUNCTION MDNUM3_ATAN\n",
      "\n",
      "ELEMENTAL FUNCTION MDNUM3_ACOS(X) RESULT(RES)\n",
      "\n",
      " TYPE(MDNUM3), INTENT(IN) :: X\n",
      " REAL(DP) :: DER0,DER1,DER2,DER3\n",
      " \n",
      " DER0 = ACOS(X%R)\n",
      " DER1 = -1/SQRT(1 - X%R**2)\n",
      " DER2 = -X%R/(1 - X%R**2)**(3.0D0/2.0D0)\n",
      " DER3 = -(3*X%R**2/(1 - X%R**2) + 1)/(1 - X%R**2)**(3.0D0/2.0D0)\n",
      "\n",
      " RES = FEVAL(X,DER0,DER1,DER2,DER3)\n",
      "\n",
      "END FUNCTION MDNUM3_ACOS\n",
      "\n",
      "ELEMENTAL FUNCTION MDNUM3_ASIN(X) RESULT(RES)\n",
      "\n",
      " TYPE(MDNUM3), INTENT(IN) :: X\n",
      " REAL(DP) :: DER0,DER1,DER2,DER3\n",
      " \n",
      " DER0 = ASIN(X%R)\n",
      " DER1 = 1/SQRT(1 - X%R**2)\n",
      " DER2 = X%R/(1 - X%R**2)**(3.0D0/2.0D0)\n",
      " DER3 = (3*X%R**2/(1 - X%R**2) + 1)/(1 - X%R**2)**(3.0D0/2.0D0)\n",
      "\n",
      " RES = FEVAL(X,DER0,DER1,DER2,DER3)\n",
      "\n",
      "END FUNCTION MDNUM3_ASIN\n",
      "\n",
      "ELEMENTAL FUNCTION MDNUM3_TANH(X) RESULT(RES)\n",
      "\n",
      " TYPE(MDNUM3), INTENT(IN) :: X\n",
      " REAL(DP) :: DER0,DER1,DER2,DER3\n",
      " \n",
      " DER0 = TANH(X%R)\n",
      " DER1 = 1 - TANH(X%R)**2\n",
      " DER2 = 2*(TANH(X%R)**2 - 1)*TANH(X%R)\n",
      " DER3 = -2*(TANH(X%R)**2 - 1)*(3*TANH(X%R)**2 - 1)\n",
      "\n",
      " RES = FEVAL(X,DER0,DER1,DER2,DER3)\n",
      "\n",
      "END FUNCTION MDNUM3_TANH\n",
      "\n",
      "ELEMENTAL FUNCTION MDNUM3_COSH(X) RESULT(RES)\n",
      "\n",
      " TYPE(MDNUM3), INTENT(IN) :: X\n",
      " REAL(DP) :: DER0,DER1,DER2,DER3\n",
      " \n",
      " DER0 = COSH(X%R)\n",
      " DER1 = SINH(X%R)\n",
      " DER2 = COSH(X%R)\n",
      " DER3 = SINH(X%R)\n",
      "\n",
      " RES = FEVAL(X,DER0,DER1,DER2,DER3)\n",
      "\n",
      "END FUNCTION MDNUM3_COSH\n",
      "\n",
      "ELEMENTAL FUNCTION MDNUM3_SINH(X) RESULT(RES)\n",
      "\n",
      " TYPE(MDNUM3), INTENT(IN) :: X\n",
      " REAL(DP) :: DER0,DER1,DER2,DER3\n",
      " \n",
      " DER0 = SINH(X%R)\n",
      " DER1 = COSH(X%R)\n",
      " DER2 = SINH(X%R)\n",
      " DER3 = COSH(X%R)\n",
      "\n",
      " RES = FEVAL(X,DER0,DER1,DER2,DER3)\n",
      "\n",
      "END FUNCTION MDNUM3_SINH\n",
      "\n",
      "ELEMENTAL FUNCTION MDNUM3_EXP(X) RESULT(RES)\n",
      "\n",
      " TYPE(MDNUM3), INTENT(IN) :: X\n",
      " REAL(DP) :: DER0,DER1,DER2,DER3\n",
      " \n",
      " DER0 = EXP(X%R)\n",
      " DER1 = EXP(X%R)\n",
      " DER2 = EXP(X%R)\n",
      " DER3 = EXP(X%R)\n",
      "\n",
      " RES = FEVAL(X,DER0,DER1,DER2,DER3)\n",
      "\n",
      "END FUNCTION MDNUM3_EXP\n",
      "\n",
      "ELEMENTAL FUNCTION MDNUM3_LOG(X) RESULT(RES)\n",
      "\n",
      " TYPE(MDNUM3), INTENT(IN) :: X\n",
      " REAL(DP) :: DER0,DER1,DER2,DER3\n",
      " \n",
      " DER0 = LOG(X%R)\n",
      " DER1 = 1D0/X%R\n",
      " DER2 = -1/X%R**2\n",
      " DER3 = 2/X%R**3\n",
      "\n",
      " RES = FEVAL(X,DER0,DER1,DER2,DER3)\n",
      "\n",
      "END FUNCTION MDNUM3_LOG\n",
      "\n",
      "ELEMENTAL FUNCTION MDNUM3_POW(X,E) RESULT(RES)\n",
      "\n",
      " TYPE(MDNUM3), INTENT(IN) :: X\n",
      " REAL(DP) :: E,DER0,DER1,DER2,DER3\n",
      " \n",
      " DER0 = X%R**E\n",
      " DER1 = E*X%R**E/X%R\n",
      " DER2 = E*X%R**E*(E - 1)/X%R**2\n",
      " DER3 = E*X%R**E*(E**2 - 3*E + 2)/X%R**3\n",
      "\n",
      " RES = FEVAL(X,DER0,DER1,DER2,DER3)\n",
      "\n",
      "END FUNCTION MDNUM3_POW\n",
      "\n",
      "\n"
     ]
    }
   ],
   "source": [
    "print(w.write_elementary_functions())"
   ]
  },
  {
   "cell_type": "code",
   "execution_count": 3,
   "id": "e8881738",
   "metadata": {
    "scrolled": false
   },
   "outputs": [
    {
     "name": "stdout",
     "output_type": "stream",
     "text": [
      "ELEMENTAL FUNCTION MDNUM3_FEVAL(X,DER0,DER1,DER2,DER3)&\n",
      "    RESULT(RES)\n",
      "    IMPLICIT NONE\n",
      "    !  Definitions\n",
      "    REAL(DP) :: FACTOR, COEF\n",
      "    TYPE(MDNUM3), INTENT(IN)  :: X\n",
      "    REAL(DP), INTENT(IN)  :: DER0,DER1,DER2,DER3\n",
      "    TYPE(MDNUM3) :: RES\n",
      "    TYPE(MDNUM3) :: DX, DX_P\n",
      "\n",
      "    FACTOR = 1.0_DP\n",
      "    COEF   = 0.0_DP\n",
      "    DX     = X\n",
      "    DX_P   = X\n",
      "\n",
      "    !  Set real part of deltas zero.\n",
      "    DX%R = 0.0_DP\n",
      "    DX_P%R = 0.0_DP\n",
      "\n",
      "    ! Sets real part\n",
      "    RES = DER0\n",
      "\n",
      "    ! Sets order 1\n",
      "    FACTOR = FACTOR * 1\n",
      "    COEF = DER1 / FACTOR\n",
      "    ! RES = RES COEF * DX_P\n",
      "    ! Order 1\n",
      "    RES%E1 = RES%E1+COEF*DX_P%E1\n",
      "    RES%E2 = RES%E2+COEF*DX_P%E2\n",
      "    RES%E3 = RES%E3+COEF*DX_P%E3\n",
      "    ! Order 2\n",
      "    RES%E12 = RES%E12+COEF*DX_P%E12\n",
      "    RES%E13 = RES%E13+COEF*DX_P%E13\n",
      "    RES%E23 = RES%E23+COEF*DX_P%E23\n",
      "    ! Order 3\n",
      "    RES%E123 = RES%E123+COEF*DX_P%E123\n",
      "    ! DX_P = DX_P * DX\n",
      "    ! Order 2\n",
      "    DX_P%E12 = DX_P%E1*DX%E2+DX_P%E2*DX%E1\n",
      "    DX_P%E13 = DX_P%E1*DX%E3+DX_P%E3*DX%E1\n",
      "    DX_P%E23 = DX_P%E2*DX%E3+DX_P%E3*DX%E2\n",
      "    ! Order 3\n",
      "    DX_P%E123 = DX_P%E1*DX%E23+DX_P%E23*DX%E1+ &\n",
      "             DX_P%E2*DX%E13+DX_P%E13*DX%E2+DX_P%E3*DX%E12+ &\n",
      "             DX_P%E12*DX%E3\n",
      "    \n",
      "    ! Sets order 2\n",
      "    FACTOR = FACTOR * 2\n",
      "    COEF = DER2 / FACTOR\n",
      "    ! RES = RES COEF * DX_P\n",
      "    ! Order 2\n",
      "    RES%E12 = RES%E12+COEF*DX_P%E12\n",
      "    RES%E13 = RES%E13+COEF*DX_P%E13\n",
      "    RES%E23 = RES%E23+COEF*DX_P%E23\n",
      "    ! Order 3\n",
      "    RES%E123 = RES%E123+COEF*DX_P%E123\n",
      "    ! DX_P = DX_P * DX\n",
      "    ! Order 3\n",
      "    DX_P%E123 = DX_P%E23*DX%E1+DX_P%E13*DX%E2+ &\n",
      "             DX_P%E12*DX%E3\n",
      "    \n",
      "    ! Sets order 3\n",
      "    FACTOR = FACTOR * 3\n",
      "    COEF = DER3 / FACTOR\n",
      "    ! RES = RES COEF * DX_P\n",
      "    ! Order 3\n",
      "    RES%E123 = RES%E123+COEF*DX_P%E123\n",
      "    \n",
      "END FUNCTION MDNUM3_FEVAL\n",
      "\n",
      "\n"
     ]
    }
   ],
   "source": [
    "print(w.write_scalar_feval_elemental(function_name = \"FEVAL\", is_elemental = True, level = 0, tab = \"    \", \n",
    "    f_name = \"FUNCTION\",  separator = \",\", lhs_type= \"O\", lhs_ptr = False,\n",
    "    f_open = \"(\", f_close = \")\", addition = \" + \", to = False,\n",
    "    overload = None, write_charact=True ))"
   ]
  },
  {
   "cell_type": "code",
   "execution_count": 1,
   "id": "50e04286",
   "metadata": {},
   "outputs": [
    {
     "ename": "NameError",
     "evalue": "name 'w' is not defined",
     "output_type": "error",
     "traceback": [
      "\u001b[0;31m---------------------------------------------------------------------------\u001b[0m",
      "\u001b[0;31mNameError\u001b[0m                                 Traceback (most recent call last)",
      "\u001b[0;32m<ipython-input-1-7860a0ee3bb8>\u001b[0m in \u001b[0;36m<module>\u001b[0;34m\u001b[0m\n\u001b[0;32m----> 1\u001b[0;31m print(w.multiplication_like_function_oo( level = \"\", f_name = \"\", lhs_name= \"LHS\", \n\u001b[0m\u001b[1;32m      2\u001b[0m     \u001b[0mrhs_name\u001b[0m\u001b[0;34m=\u001b[0m \u001b[0;34m\"RHS\"\u001b[0m\u001b[0;34m,\u001b[0m \u001b[0mres_name\u001b[0m \u001b[0;34m=\u001b[0m \u001b[0;34m\"LHS\"\u001b[0m\u001b[0;34m,\u001b[0m \u001b[0mseparator\u001b[0m \u001b[0;34m=\u001b[0m \u001b[0;34m\" * \"\u001b[0m\u001b[0;34m,\u001b[0m \u001b[0mf_open\u001b[0m \u001b[0;34m=\u001b[0m \u001b[0;34m\"\"\u001b[0m\u001b[0;34m,\u001b[0m \u001b[0mf_close\u001b[0m \u001b[0;34m=\u001b[0m \u001b[0;34m\"\"\u001b[0m\u001b[0;34m,\u001b[0m\u001b[0;34m\u001b[0m\u001b[0;34m\u001b[0m\u001b[0m\n\u001b[1;32m      3\u001b[0m     addition = \" + \", lhs_order = 2, rhs_order = 1, comment = False ))\n",
      "\u001b[0;31mNameError\u001b[0m: name 'w' is not defined"
     ]
    }
   ],
   "source": [
    "print(w.multiplication_like_function_oo( level = \"\", f_name = \"\", lhs_name= \"LHS\", \n",
    "    rhs_name= \"RHS\", res_name = \"LHS\", separator = \" * \", f_open = \"\", f_close = \"\", \n",
    "    addition = \" + \", lhs_order = 2, rhs_order = 1, comment = False ))"
   ]
  },
  {
   "cell_type": "code",
   "execution_count": 13,
   "id": "1764ef08",
   "metadata": {},
   "outputs": [
    {
     "name": "stdout",
     "output_type": "stream",
     "text": [
      "! Order 3\n",
      "RES%E123 = RES%E123 + COEF * DX_P%E123\n",
      "\n"
     ]
    }
   ],
   "source": [
    "print(w.gem_like_function_ro(level = \"\", f_name = \"\", a_name= \"COEF\",\n",
    "    b_name= \"DX_P\", c_name= \"RES\", res_name = \"RES\", separator = \" * \", \n",
    "    f_open = \"\", f_close = \"\",  addition = \" + \", b_order = 3, comment = False ))"
   ]
  },
  {
   "cell_type": "code",
   "execution_count": 14,
   "id": "a04beb1b",
   "metadata": {},
   "outputs": [
    {
     "name": "stdout",
     "output_type": "stream",
     "text": [
      "! Sets real part\n",
      "RES = DERIVS(1)\n",
      "\n",
      "! Sets order 1\n",
      "FACTOR = FACTOR * 1\n",
      "COEF = DERIVS(2) / FACTOR\n",
      "RES = GEM(COEF,DX_P,RES)\n",
      "DX_P = DX_P*DX\n",
      "\n",
      "! Sets order 2\n",
      "FACTOR = FACTOR * 2\n",
      "COEF = DERIVS(3) / FACTOR\n",
      "RES = GEM(COEF,DX_P,RES)\n",
      "DX_P = DX_P*DX\n",
      "\n",
      "! Sets order 3\n",
      "FACTOR = FACTOR * 3\n",
      "COEF = DERIVS(4) / FACTOR\n",
      "RES = GEM(COEF,DX_P,RES)\n",
      "\n"
     ]
    }
   ],
   "source": [
    "print(w.feval_function_o( level = \"\", lhs_name= \"X\", deriv_name= \"DERIVS\", res_name = \"RES\"  ))"
   ]
  },
  {
   "cell_type": "code",
   "execution_count": 10,
   "id": "8aabc79e",
   "metadata": {},
   "outputs": [
    {
     "data": {
      "text/plain": [
       "[[[[0, 0, 'R'], [0, 1, 'E1']], [[0, 1, 'E1'], [0, 0, 'R']]],\n",
       " [[[0, 0, 'R'], [1, 1, 'E2']], [[1, 1, 'E2'], [0, 0, 'R']]]]"
      ]
     },
     "execution_count": 10,
     "metadata": {},
     "output_type": "execute_result"
    }
   ],
   "source": [
    "w.mult_res_total[1]"
   ]
  },
  {
   "cell_type": "code",
   "execution_count": null,
   "id": "9df84b74",
   "metadata": {},
   "outputs": [],
   "source": []
  },
  {
   "cell_type": "code",
   "execution_count": 3,
   "id": "d60ea220",
   "metadata": {},
   "outputs": [],
   "source": []
  },
  {
   "cell_type": "code",
   "execution_count": 4,
   "id": "0e2e4313",
   "metadata": {},
   "outputs": [
    {
     "name": "stdout",
     "output_type": "stream",
     "text": [
      "FUNCTION MDNUM1_TO_CR_MAT_M(VAL) RESULT(RES)\n",
      "   IMPLICIT NONE\n",
      "   TYPE(MDNUM1), INTENT(IN) :: VAL(:,:)\n",
      "   REAL(DP) :: RES(NUM_IM_DIR*SIZE(VAL,1),NUM_IM_DIR*SIZE(VAL,2)) \n",
      "   INTEGER :: NCOLS=1, NROWS=1\n",
      "\n",
      "   NCOLS = SIZE(VAL,1)\n",
      "   NROWS = SIZE(VAL,2)\n",
      "\n",
      "   ! R x R -> R (1, 1)\n",
      "   RES(1+NROWS*0:NROWS*1,1+NCOLS*0:NCOLS*1) = VAL%R\n",
      "   ! R x E1 -> E1 (2, 2)\n",
      "   RES(1+NROWS*1:NROWS*2,1+NCOLS*1:NCOLS*2) = VAL%R\n",
      "   ! E1 x R -> E1 (2, 1)\n",
      "   RES(1+NROWS*1:NROWS*2,1+NCOLS*0:NCOLS*1) = VAL%E1\n",
      "END FUNCTION MDNUM1_TO_CR_MAT_M\n",
      "\n"
     ]
    }
   ],
   "source": [
    "print(w.write_cr_matrix_form(tab=\"   \",val_shape = \"M\"))"
   ]
  },
  {
   "cell_type": "code",
   "execution_count": 10,
   "id": "977b688a",
   "metadata": {},
   "outputs": [
    {
     "name": "stdout",
     "output_type": "stream",
     "text": [
      "FUNCTION MDNUMM3N3_SUM_OR_MS(LHS,RHS)&\n",
      "    RESULT(RES)\n",
      "    IMPLICIT NONE\n",
      "    TYPE(MDNUMM3N3), INTENT(IN) :: LHS(:,:)\n",
      "    REAL(DP), INTENT(IN) :: RHS\n",
      "    TYPE(MDNUMM3N3) :: RES(SIZE(LHS,1),SIZE(LHS,2)) \n",
      "\n",
      "    !  Multiplication like function 'LHS*RHS'\n",
      "\n",
      "    ! Order 0\n",
      "    RES%R = LHS%R*RHS%R\n",
      "\n",
      "    ! Order 1\n",
      "    RES%E1 = LHS%R*RHS%E1 + LHS%E1*RHS%R\n",
      "    RES%E2 = LHS%R*RHS%E2 + LHS%E2*RHS%R\n",
      "    RES%E3 = LHS%R*RHS%E3 + LHS%E3*RHS%R\n",
      "\n",
      "    ! Order 2\n",
      "    RES%E12 = LHS%R*RHS%E12 + LHS%E12*RHS%R + LHS%E1*RHS%E2 &\n",
      "            + LHS%E2*RHS%E1\n",
      "    RES%E13 = LHS%R*RHS%E13 + LHS%E13*RHS%R + LHS%E1*RHS%E3 &\n",
      "            + LHS%E3*RHS%E1\n",
      "    RES%E23 = LHS%R*RHS%E23 + LHS%E23*RHS%R + LHS%E2*RHS%E3 &\n",
      "            + LHS%E3*RHS%E2\n",
      "\n",
      "    ! Order 3\n",
      "    RES%E123 = LHS%R*RHS%E123 + LHS%E123*RHS%R + LHS%E1*RHS%E23 &\n",
      "             + LHS%E23*RHS%E1 + LHS%E2*RHS%E13 + LHS%E13*RHS%E2 &\n",
      "             + LHS%E3*RHS%E12 + LHS%E12*RHS%E3\n",
      "\n",
      "END FUNCTION MDNUMM3N3_SUM_OR_MS\n",
      "\n"
     ]
    }
   ],
   "source": [
    "print( w.write_scalar_function(function_name = \"SUM\", is_elemental = True, level = 0, \n",
    "tab = \"    \", f_name = \"\", lhs_type= \"O\",lhs_shape='M', rhs_type= \"R\",rhs_shape='S', \n",
    "separator = \"*\", f_open = \"\",  f_close = \"\", \n",
    "generator = w.multiplication_like_function_oo, overload = \"*\" ) )"
   ]
  },
  {
   "cell_type": "code",
   "execution_count": 3,
   "id": "3d0df82d",
   "metadata": {},
   "outputs": [
    {
     "name": "stdout",
     "output_type": "stream",
     "text": [
      "! Constant imaginary directions.\n",
      "! Order 1\n",
      "TYPE(MDNUMM3N3) :: E1 = MDNUMM3N3(0.0_DP,1.0_DP,0.0_DP,0.0_DP,0.0_DP,0.0_DP,0.0_DP,0.0_DP)\n",
      "TYPE(MDNUMM3N3) :: E2 = MDNUMM3N3(0.0_DP,0.0_DP,1.0_DP,0.0_DP,0.0_DP,0.0_DP,0.0_DP,0.0_DP)\n",
      "TYPE(MDNUMM3N3) :: E3 = MDNUMM3N3(0.0_DP,0.0_DP,0.0_DP,1.0_DP,0.0_DP,0.0_DP,0.0_DP,0.0_DP)\n",
      "! Order 2\n",
      "TYPE(MDNUMM3N3) :: E12 = MDNUMM3N3(0.0_DP,0.0_DP,0.0_DP,0.0_DP,1.0_DP,0.0_DP,0.0_DP,0.0_DP)\n",
      "TYPE(MDNUMM3N3) :: E13 = MDNUMM3N3(0.0_DP,0.0_DP,0.0_DP,0.0_DP,0.0_DP,1.0_DP,0.0_DP,0.0_DP)\n",
      "TYPE(MDNUMM3N3) :: E23 = MDNUMM3N3(0.0_DP,0.0_DP,0.0_DP,0.0_DP,0.0_DP,0.0_DP,1.0_DP,0.0_DP)\n",
      "! Order 3\n",
      "TYPE(MDNUMM3N3) :: E123 = MDNUMM3N3(0.0_DP,0.0_DP,0.0_DP,0.0_DP,0.0_DP,0.0_DP,0.0_DP,1.0_DP)\n",
      "\n"
     ]
    }
   ],
   "source": [
    "print(w.set_type_constants( level = \"\"))"
   ]
  },
  {
   "cell_type": "code",
   "execution_count": 3,
   "id": "24a6a5cf",
   "metadata": {},
   "outputs": [
    {
     "name": "stdout",
     "output_type": "stream",
     "text": [
      "PRIVATE :: DP,DER_R_COS,DER_R_SIN, &\n",
      "           DER_R_LOG,DER_R_EXP,DER_R_POW\n",
      "\n"
     ]
    }
   ],
   "source": [
    "print(w.write_private(level = \"\", tab = \"  \"))"
   ]
  },
  {
   "cell_type": "code",
   "execution_count": 3,
   "id": "902aa1bd",
   "metadata": {},
   "outputs": [
    {
     "name": "stdout",
     "output_type": "stream",
     "text": [
      "ELEMENTAL FUNCTION MDNUMM3N3_FEVAL(X,DERIVS)&\n",
      "    RESULT(RES)\n",
      "    IMPLICIT NONE\n",
      "    !  Definitions\n",
      "    REAL(DP) :: FACTOR=1, COEF=0.0_DP\n",
      "    TYPE(MDNUMM3N3), INTENT(IN)  :: X\n",
      "    TYPE(MDNUMM3N3), INTENT(IN)  :: DERIVS(4)\n",
      "    TYPE(MDNUMM3N3), INTENT(OUT) :: RES\n",
      "    TYPE(MDNUMM3N3) :: DX = X, DX_P = X\n",
      "\n",
      "    !  Set real part of deltas zero.\n",
      "    DX%R = 0.0_DP\n",
      "    DX_P%R = 0.0_DP\n",
      "\n",
      "    ! Sets real part\n",
      "    RES = DERIVS(1)\n",
      "\n",
      "    ! Sets order 1\n",
      "    FACTOR = FACTOR * 1\n",
      "    COEF = DERIVS(2) / FACTOR\n",
      "    RES = GEM(COEF,DX_P,RES)\n",
      "    DX_P = DX_P*DX\n",
      "    \n",
      "    ! Sets order 2\n",
      "    FACTOR = FACTOR * 2\n",
      "    COEF = DERIVS(3) / FACTOR\n",
      "    RES = GEM(COEF,DX_P,RES)\n",
      "    DX_P = DX_P*DX\n",
      "    \n",
      "    ! Sets order 3\n",
      "    FACTOR = FACTOR * 3\n",
      "    COEF = DERIVS(4) / FACTOR\n",
      "    RES = GEM(COEF,DX_P,RES)\n",
      "    \n",
      "END FUNCTION MDNUMM3N3_FEVAL\n",
      "\n",
      "\n"
     ]
    }
   ],
   "source": [
    "print(w.write_scalar_feval(function_name = \"FEVAL\", is_elemental = True, level = 0, tab = \"    \", \n",
    "    f_name = \"FUNCTION\",  separator = \",\", lhs_type= \"O\", lhs_ptr = False,\n",
    "    f_open = \"(\", f_close = \")\", addition = \" + \", to = False,\n",
    "    overload = None, write_charact=True ))"
   ]
  },
  {
   "cell_type": "code",
   "execution_count": 7,
   "id": "dcc412f0",
   "metadata": {},
   "outputs": [
    {
     "name": "stdout",
     "output_type": "stream",
     "text": [
      "! feval function\n",
      "RES=0.0_dp\n",
      "!  Real\n",
      "RES%R = DERIVS(1)\n",
      "\n"
     ]
    }
   ],
   "source": [
    "print(w.feval_function_o(level = \"\", lhs_name= \"X\", deriv_name= \"DERIVS\", res_name = \"RES\"  ) ) "
   ]
  },
  {
   "cell_type": "code",
   "execution_count": 3,
   "id": "d82055f5",
   "metadata": {},
   "outputs": [
    {
     "name": "stdout",
     "output_type": "stream",
     "text": [
      "!  General multiplication like function 'A*B + C'\n",
      "\n",
      "! Order 0\n",
      "RES%R = C%R + A%R*B%R\n",
      "\n",
      "! Order 1\n",
      "RES%E1 = C%E1 + A%R*B%E1 + A%E1*B%R\n",
      "RES%E2 = C%E2 + A%R*B%E2 + A%E2*B%R\n",
      "RES%E3 = C%E3 + A%R*B%E3 + A%E3*B%R\n",
      "\n",
      "! Order 2\n",
      "RES%E12 = C%E12 + A%R*B%E12 + A%E12*B%R + A%E1*B%E2 &\n",
      "        + A%E2*B%E1\n",
      "RES%E13 = C%E13 + A%R*B%E13 + A%E13*B%R + A%E1*B%E3 &\n",
      "        + A%E3*B%E1\n",
      "RES%E23 = C%E23 + A%R*B%E23 + A%E23*B%R + A%E2*B%E3 &\n",
      "        + A%E3*B%E2\n",
      "\n",
      "! Order 3\n",
      "RES%E123 = C%E123 + A%R*B%E123 + A%E123*B%R + A%E1*B%E23 &\n",
      "         + A%E23*B%E1 + A%E2*B%E13 + A%E13*B%E2 &\n",
      "         + A%E3*B%E12 + A%E12*B%E3\n",
      "\n"
     ]
    }
   ],
   "source": [
    "\n",
    "print(w.gem_like_function_oo( level = \"\", f_name = \"\", a_name= \"A\",\n",
    "    b_name= \"B\", c_name= \"C\", res_name = \"RES\", separator = \"*\", \n",
    "    f_open = \"\", f_close = \"\",  addition = \" + \" ) ) "
   ]
  },
  {
   "cell_type": "code",
   "execution_count": 4,
   "id": "06eda870",
   "metadata": {},
   "outputs": [
    {
     "name": "stdout",
     "output_type": "stream",
     "text": [
      "ELEMENTAL FUNCTION MDNUMM3N3_GEM_RO(A,B,C)&\n",
      "  RESULT(RES)\n",
      "  IMPLICIT NONE\n",
      "  REAL(DP), INTENT(IN) :: A \n",
      "  TYPE(MDNUMM3N3), INTENT(IN) :: B \n",
      "  TYPE(MDNUMM3N3), INTENT(IN) :: C \n",
      "  TYPE(MDNUMM3N3) :: RES \n",
      "\n",
      "  !  General multiplication like function 'A*B + C'\n",
      "\n",
      "  ! Order 0\n",
      "  RES%R = C%R + A%R*B%R\n",
      "\n",
      "  ! Order 1\n",
      "  RES%E1 = C%E1 + A%R*B%E1 + A%E1*B%R\n",
      "  RES%E2 = C%E2 + A%R*B%E2 + A%E2*B%R\n",
      "  RES%E3 = C%E3 + A%R*B%E3 + A%E3*B%R\n",
      "\n",
      "  ! Order 2\n",
      "  RES%E12 = C%E12 + A%R*B%E12 + A%E12*B%R + A%E1*B%E2 &\n",
      "          + A%E2*B%E1\n",
      "  RES%E13 = C%E13 + A%R*B%E13 + A%E13*B%R + A%E1*B%E3 &\n",
      "          + A%E3*B%E1\n",
      "  RES%E23 = C%E23 + A%R*B%E23 + A%E23*B%R + A%E2*B%E3 &\n",
      "          + A%E3*B%E2\n",
      "\n",
      "  ! Order 3\n",
      "  RES%E123 = C%E123 + A%R*B%E123 + A%E123*B%R + A%E1*B%E23 &\n",
      "           + A%E23*B%E1 + A%E2*B%E13 + A%E13*B%E2 &\n",
      "           + A%E3*B%E12 + A%E12*B%E3\n",
      "\n",
      "END FUNCTION MDNUMM3N3_GEM_RO\n",
      "\n"
     ]
    }
   ],
   "source": [
    "print(w.write_scalar_trivar( function_name = \"GEM\", is_elemental = True, level = 0, tab = \"  \", \n",
    "    f_name = \"\", a_type= \"R\",  b_type= \"O\", c_type= \"O\", \n",
    "    separator = \"*\", f_open = \"\", f_close = \"\", addition = \" + \",generator = w.gem_like_function_oo, \n",
    "    overload = None, write_charact=True ))"
   ]
  },
  {
   "cell_type": "code",
   "execution_count": 6,
   "id": "cfa273dd",
   "metadata": {},
   "outputs": [
    {
     "data": {
      "text/plain": [
       "[[],\n",
       " [[], [], []],\n",
       " [[['E1', 'E2'], ['E2', 'E1']],\n",
       "  [['E1', 'E3'], ['E3', 'E1']],\n",
       "  [['E2', 'E3'], ['E3', 'E2']]],\n",
       " [[['E1', 'E23'],\n",
       "   ['E23', 'E1'],\n",
       "   ['E2', 'E13'],\n",
       "   ['E13', 'E2'],\n",
       "   ['E3', 'E12'],\n",
       "   ['E12', 'E3']]]]"
      ]
     },
     "execution_count": 6,
     "metadata": {},
     "output_type": "execute_result"
    }
   ],
   "source": [
    "w.mult_res"
   ]
  },
  {
   "cell_type": "code",
   "execution_count": 7,
   "id": "176a7d5f",
   "metadata": {},
   "outputs": [
    {
     "data": {
      "text/plain": [
       "[[[[[0, 0, 'R'], [0, 0, 'R']]]],\n",
       " [[[[0, 0, 'R'], [0, 1, 'E1']], [[0, 1, 'E1'], [0, 0, 'R']]],\n",
       "  [[[0, 0, 'R'], [1, 1, 'E2']], [[1, 1, 'E2'], [0, 0, 'R']]],\n",
       "  [[[0, 0, 'R'], [2, 1, 'E3']], [[2, 1, 'E3'], [0, 0, 'R']]]],\n",
       " [[[[0, 0, 'R'], [1, 2, 'E12']],\n",
       "   [[1, 2, 'E12'], [0, 0, 'R']],\n",
       "   [[0, 1, 'E1'], [1, 1, 'E2']],\n",
       "   [[1, 1, 'E2'], [0, 1, 'E1']]],\n",
       "  [[[0, 0, 'R'], [3, 2, 'E13']],\n",
       "   [[3, 2, 'E13'], [0, 0, 'R']],\n",
       "   [[0, 1, 'E1'], [2, 1, 'E3']],\n",
       "   [[2, 1, 'E3'], [0, 1, 'E1']]],\n",
       "  [[[0, 0, 'R'], [4, 2, 'E23']],\n",
       "   [[4, 2, 'E23'], [0, 0, 'R']],\n",
       "   [[1, 1, 'E2'], [2, 1, 'E3']],\n",
       "   [[2, 1, 'E3'], [1, 1, 'E2']]]],\n",
       " [[[[0, 0, 'R'], [5, 3, 'E123']],\n",
       "   [[5, 3, 'E123'], [0, 0, 'R']],\n",
       "   [[0, 1, 'E1'], [4, 2, 'E23']],\n",
       "   [[4, 2, 'E23'], [0, 1, 'E1']],\n",
       "   [[1, 1, 'E2'], [3, 2, 'E13']],\n",
       "   [[3, 2, 'E13'], [1, 1, 'E2']],\n",
       "   [[2, 1, 'E3'], [1, 2, 'E12']],\n",
       "   [[1, 2, 'E12'], [2, 1, 'E3']]]]]"
      ]
     },
     "execution_count": 7,
     "metadata": {},
     "output_type": "execute_result"
    }
   ],
   "source": [
    "w.mult_res_total"
   ]
  },
  {
   "cell_type": "code",
   "execution_count": 8,
   "id": "4eb0aebd",
   "metadata": {},
   "outputs": [
    {
     "data": {
      "text/plain": [
       "[['R'], ['E1', 'E2', 'E3'], ['E12', 'E13', 'E23'], ['E123']]"
      ]
     },
     "execution_count": 8,
     "metadata": {},
     "output_type": "execute_result"
    }
   ],
   "source": [
    "w.name_imdir"
   ]
  },
  {
   "cell_type": "code",
   "execution_count": 3,
   "id": "bb5d1231",
   "metadata": {},
   "outputs": [
    {
     "name": "stdout",
     "output_type": "stream",
     "text": [
      "!  Addition like operation ' + '\n",
      "!  Real\n",
      "RES%R = LHS%R + RHS%R\n",
      "! Order 1\n",
      "RES%E1 = LHS%E1 + RHS%E1\n",
      "RES%E2 = LHS%E2 + RHS%E2\n",
      "RES%E3 = LHS%E3 + RHS%E3\n",
      "! Order 2\n",
      "RES%E12 = LHS%E12 + RHS%E12\n",
      "RES%E13 = LHS%E13 + RHS%E13\n",
      "RES%E23 = LHS%E23 + RHS%E23\n",
      "! Order 3\n",
      "RES%E123 = LHS%E123 + RHS%E123\n",
      "\n"
     ]
    }
   ],
   "source": [
    "print(w.addition_like_oo(level = \"\", operator = \" + \", lhs_name= \"LHS\", rhs_name= \"RHS\", res_name = \"RES\"))"
   ]
  },
  {
   "cell_type": "code",
   "execution_count": 3,
   "id": "3c47f42c",
   "metadata": {},
   "outputs": [],
   "source": []
  },
  {
   "cell_type": "code",
   "execution_count": 20,
   "id": "4724b3b4",
   "metadata": {},
   "outputs": [
    {
     "data": {
      "text/plain": [
       "[['R'], ['E1', 'E2'], ['E11', 'E12', 'E22'], ['E111', 'E112', 'E122', 'E222']]"
      ]
     },
     "execution_count": 20,
     "metadata": {},
     "output_type": "execute_result"
    }
   ],
   "source": [
    "w.name_imdir"
   ]
  },
  {
   "cell_type": "code",
   "execution_count": null,
   "id": "f1f27fef",
   "metadata": {},
   "outputs": [],
   "source": []
  }
 ],
 "metadata": {
  "kernelspec": {
   "display_name": "pyoti",
   "language": "python",
   "name": "pyoti"
  },
  "language_info": {
   "codemirror_mode": {
    "name": "ipython",
    "version": 3
   },
   "file_extension": ".py",
   "mimetype": "text/x-python",
   "name": "python",
   "nbconvert_exporter": "python",
   "pygments_lexer": "ipython3",
   "version": "3.9.10"
  }
 },
 "nbformat": 4,
 "nbformat_minor": 5
}
