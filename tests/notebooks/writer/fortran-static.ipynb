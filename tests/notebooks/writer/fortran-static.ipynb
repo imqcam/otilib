{
 "cells": [
  {
   "cell_type": "markdown",
   "id": "3987b482",
   "metadata": {},
   "source": [
    "# Generate FORTRAN static modules with OTI or Multidual algebras.\n",
    "```\n",
    "Author: Mauricio Aristizabal\n",
    "Date last modified: Jan 13 2022\n",
    "Initial date: Jan 13 2022\n",
    "Contact: mauriaristi@gmail.com\n",
    "```\n",
    "\n",
    "This Notebook lets you generate Fortran modules that implements static versions of the library.\n",
    "\n",
    "They implement the so called semi-sparse implementation to avoid computational overheads.\n"
   ]
  },
  {
   "cell_type": "code",
   "execution_count": 1,
   "id": "97c4e44c",
   "metadata": {
    "scrolled": false
   },
   "outputs": [],
   "source": [
    "import sys\n",
    "import os\n",
    "path2oti = '../../../build/'\n",
    "sys.path.append(path2oti) # Add path to OTI library.\n",
    "\n",
    "import pyoti.core   as coti\n",
    "from pyoti.fmod_writer import writer\n",
    "# from pyoti.whereotilib import getpath"
   ]
  },
  {
   "cell_type": "code",
   "execution_count": 7,
   "id": "1a1bc8bc",
   "metadata": {},
   "outputs": [],
   "source": [
    "nbases = 2\n",
    "order  = 3\n",
    "w = writer(nbases, order)"
   ]
  },
  {
   "cell_type": "code",
   "execution_count": 5,
   "id": "3c47f42c",
   "metadata": {},
   "outputs": [],
   "source": [
    "w.write_file(filename = None, tab = '  ', is_std_matmul=True)"
   ]
  },
  {
   "cell_type": "code",
   "execution_count": 8,
   "id": "d82055f5",
   "metadata": {},
   "outputs": [
    {
     "name": "stdout",
     "output_type": "stream",
     "text": [
      "!  Multiplication like function 'LHS*RHS'\n",
      "! Real\n",
      "RES%R = LHS%R*RHS%R\n",
      "! Order 1\n",
      "RES%E1 = LHS%R*RHS%E1 + LHS%E1*RHS%R\n",
      "RES%E2 = LHS%R*RHS%E2 + LHS%E2*RHS%R\n",
      "! Order 2\n",
      "RES%E11 = LHS%R*RHS%E11 + LHS%E11*RHS%R + LHS%E1*RHS%E1\n",
      "RES%E12 = LHS%R*RHS%E12 + LHS%E12*RHS%R + LHS%E1*RHS%E2 &\n",
      "        + LHS%E2*RHS%E1\n",
      "RES%E22 = LHS%R*RHS%E22 + LHS%E22*RHS%R + LHS%E2*RHS%E2\n",
      "! Order 3\n",
      "RES%E111 = LHS%R*RHS%E111 + LHS%E111*RHS%R + LHS%E1*RHS%E11 &\n",
      "         + LHS%E11*RHS%E1\n",
      "RES%E112 = LHS%R*RHS%E112 + LHS%E112*RHS%R + LHS%E1*RHS%E12 &\n",
      "         + LHS%E12*RHS%E1 + LHS%E2*RHS%E11 + LHS%E11*RHS%E2\n",
      "RES%E122 = LHS%R*RHS%E122 + LHS%E122*RHS%R + LHS%E1*RHS%E22 &\n",
      "         + LHS%E22*RHS%E1 + LHS%E2*RHS%E12 + LHS%E12*RHS%E2\n",
      "RES%E222 = LHS%R*RHS%E222 + LHS%E222*RHS%R + LHS%E2*RHS%E22 &\n",
      "         + LHS%E22*RHS%E2\n",
      "\n"
     ]
    }
   ],
   "source": [
    "print(w.multiplication_like_function_oo( level = \"\", f_name = \"\", lhs_name= \"LHS\",\n",
    "    rhs_name= \"RHS\", res_name = \"RES\", separator = \"*\", f_open = \"\", f_close = \"\", \n",
    "    addition = \" + \"))"
   ]
  },
  {
   "cell_type": "code",
   "execution_count": null,
   "id": "cfa273dd",
   "metadata": {},
   "outputs": [],
   "source": []
  }
 ],
 "metadata": {
  "kernelspec": {
   "display_name": "pyoti",
   "language": "python",
   "name": "pyoti"
  },
  "language_info": {
   "codemirror_mode": {
    "name": "ipython",
    "version": 3
   },
   "file_extension": ".py",
   "mimetype": "text/x-python",
   "name": "python",
   "nbconvert_exporter": "python",
   "pygments_lexer": "ipython3",
   "version": "3.8.10"
  }
 },
 "nbformat": 4,
 "nbformat_minor": 5
}
