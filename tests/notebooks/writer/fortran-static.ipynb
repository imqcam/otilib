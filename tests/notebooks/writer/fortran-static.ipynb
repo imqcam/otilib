{
 "cells": [
  {
   "cell_type": "markdown",
   "id": "3987b482",
   "metadata": {},
   "source": [
    "# Generate FORTRAN static modules with OTI or Multidual algebras.\n",
    "```\n",
    "Author: Mauricio Aristizabal\n",
    "Date last modified: Jan 17 2022\n",
    "Initial date: Jan 13 2022\n",
    "Contact: mauriaristi@gmail.com\n",
    "```\n",
    "\n",
    "This Notebook lets you generate Fortran modules that implements static versions of the library.\n",
    "\n",
    "They implement the so called semi-sparse implementation to avoid computational overheads.\n"
   ]
  },
  {
   "cell_type": "code",
   "execution_count": 1,
   "id": "97c4e44c",
   "metadata": {
    "scrolled": false
   },
   "outputs": [],
   "source": [
    "import pyoti.core   as coti\n",
    "from pyoti.fmod_writer import writer"
   ]
  },
  {
   "cell_type": "code",
   "execution_count": 2,
   "id": "1a1bc8bc",
   "metadata": {},
   "outputs": [],
   "source": [
    "nbases = 3\n",
    "order  = 3\n",
    "w = writer(nbases, order, mdual=True)"
   ]
  },
  {
   "cell_type": "code",
   "execution_count": 3,
   "id": "d5b058e1",
   "metadata": {},
   "outputs": [],
   "source": [
    "w.write_file(filename = \"mdual3_matmul.f90\", tab = '  ', is_std_matmul=False)"
   ]
  },
  {
   "cell_type": "code",
   "execution_count": 3,
   "id": "745adc4c",
   "metadata": {},
   "outputs": [
    {
     "name": "stdout",
     "output_type": "stream",
     "text": [
      "! Constant imaginary directions.\n",
      "! Order 1\n",
      "TYPE(MDNUMM3N3) :: E1 = MDNUMM3N3(0.0_DP,1.0_DP,0.0_DP,0.0_DP,0.0_DP,0.0_DP,0.0_DP,0.0_DP)\n",
      "TYPE(MDNUMM3N3) :: E2 = MDNUMM3N3(0.0_DP,0.0_DP,1.0_DP,0.0_DP,0.0_DP,0.0_DP,0.0_DP,0.0_DP)\n",
      "TYPE(MDNUMM3N3) :: E3 = MDNUMM3N3(0.0_DP,0.0_DP,0.0_DP,1.0_DP,0.0_DP,0.0_DP,0.0_DP,0.0_DP)\n",
      "! Order 2\n",
      "TYPE(MDNUMM3N3) :: E12 = MDNUMM3N3(0.0_DP,0.0_DP,0.0_DP,0.0_DP,1.0_DP,0.0_DP,0.0_DP,0.0_DP)\n",
      "TYPE(MDNUMM3N3) :: E13 = MDNUMM3N3(0.0_DP,0.0_DP,0.0_DP,0.0_DP,0.0_DP,1.0_DP,0.0_DP,0.0_DP)\n",
      "TYPE(MDNUMM3N3) :: E23 = MDNUMM3N3(0.0_DP,0.0_DP,0.0_DP,0.0_DP,0.0_DP,0.0_DP,1.0_DP,0.0_DP)\n",
      "! Order 3\n",
      "TYPE(MDNUMM3N3) :: E123 = MDNUMM3N3(0.0_DP,0.0_DP,0.0_DP,0.0_DP,0.0_DP,0.0_DP,0.0_DP,1.0_DP)\n",
      "\n"
     ]
    }
   ],
   "source": [
    "print(w.set_type_constants( level = \"\"))"
   ]
  },
  {
   "cell_type": "code",
   "execution_count": 3,
   "id": "12c635b2",
   "metadata": {},
   "outputs": [
    {
     "name": "stdout",
     "output_type": "stream",
     "text": [
      "PRIVATE :: DP,DER_R_COS,DER_R_SIN, &\n",
      "           DER_R_LOG,DER_R_EXP,DER_R_POW\n",
      "\n"
     ]
    }
   ],
   "source": [
    "print(w.write_private(level = \"\", tab = \"  \"))"
   ]
  },
  {
   "cell_type": "code",
   "execution_count": 3,
   "id": "902aa1bd",
   "metadata": {},
   "outputs": [
    {
     "name": "stdout",
     "output_type": "stream",
     "text": [
      "ELEMENTAL FUNCTION MDNUMM3N3_FEVAL(X,DERIVS)&\n",
      "    RESULT(RES)\n",
      "    IMPLICIT NONE\n",
      "    !  Definitions\n",
      "    REAL(DP) :: FACTOR=1, COEF=0.0_DP\n",
      "    TYPE(MDNUMM3N3), INTENT(IN)  :: X\n",
      "    TYPE(MDNUMM3N3), INTENT(IN)  :: DERIVS(4)\n",
      "    TYPE(MDNUMM3N3), INTENT(OUT) :: RES\n",
      "    TYPE(MDNUMM3N3) :: DX = X, DX_P = X\n",
      "\n",
      "    !  Set real part of deltas zero.\n",
      "    DX%R = 0.0_DP\n",
      "    DX_P%R = 0.0_DP\n",
      "\n",
      "    ! Sets real part\n",
      "    RES = DERIVS(1)\n",
      "\n",
      "    ! Sets order 1\n",
      "    FACTOR = FACTOR * 1\n",
      "    COEF = DERIVS(2) / FACTOR\n",
      "    RES = GEM(COEF,DX_P,RES)\n",
      "    DX_P = DX_P*DX\n",
      "    \n",
      "    ! Sets order 2\n",
      "    FACTOR = FACTOR * 2\n",
      "    COEF = DERIVS(3) / FACTOR\n",
      "    RES = GEM(COEF,DX_P,RES)\n",
      "    DX_P = DX_P*DX\n",
      "    \n",
      "    ! Sets order 3\n",
      "    FACTOR = FACTOR * 3\n",
      "    COEF = DERIVS(4) / FACTOR\n",
      "    RES = GEM(COEF,DX_P,RES)\n",
      "    \n",
      "END FUNCTION MDNUMM3N3_FEVAL\n",
      "\n",
      "\n"
     ]
    }
   ],
   "source": [
    "print(w.write_scalar_feval(function_name = \"FEVAL\", is_elemental = True, level = 0, tab = \"    \", \n",
    "    f_name = \"FUNCTION\",  separator = \",\", lhs_type= \"O\", lhs_ptr = False,\n",
    "    f_open = \"(\", f_close = \")\", addition = \" + \", to = False,\n",
    "    overload = None, write_charact=True ))"
   ]
  },
  {
   "cell_type": "code",
   "execution_count": 7,
   "id": "dcc412f0",
   "metadata": {},
   "outputs": [
    {
     "name": "stdout",
     "output_type": "stream",
     "text": [
      "! feval function\n",
      "RES=0.0_dp\n",
      "!  Real\n",
      "RES%R = DERIVS(1)\n",
      "\n"
     ]
    }
   ],
   "source": [
    "print(w.feval_function_o(level = \"\", lhs_name= \"X\", deriv_name= \"DERIVS\", res_name = \"RES\"  ) ) "
   ]
  },
  {
   "cell_type": "code",
   "execution_count": 3,
   "id": "d82055f5",
   "metadata": {},
   "outputs": [
    {
     "name": "stdout",
     "output_type": "stream",
     "text": [
      "!  General multiplication like function 'A*B + C'\n",
      "\n",
      "! Order 0\n",
      "RES%R = C%R + A%R*B%R\n",
      "\n",
      "! Order 1\n",
      "RES%E1 = C%E1 + A%R*B%E1 + A%E1*B%R\n",
      "RES%E2 = C%E2 + A%R*B%E2 + A%E2*B%R\n",
      "RES%E3 = C%E3 + A%R*B%E3 + A%E3*B%R\n",
      "\n",
      "! Order 2\n",
      "RES%E12 = C%E12 + A%R*B%E12 + A%E12*B%R + A%E1*B%E2 &\n",
      "        + A%E2*B%E1\n",
      "RES%E13 = C%E13 + A%R*B%E13 + A%E13*B%R + A%E1*B%E3 &\n",
      "        + A%E3*B%E1\n",
      "RES%E23 = C%E23 + A%R*B%E23 + A%E23*B%R + A%E2*B%E3 &\n",
      "        + A%E3*B%E2\n",
      "\n",
      "! Order 3\n",
      "RES%E123 = C%E123 + A%R*B%E123 + A%E123*B%R + A%E1*B%E23 &\n",
      "         + A%E23*B%E1 + A%E2*B%E13 + A%E13*B%E2 &\n",
      "         + A%E3*B%E12 + A%E12*B%E3\n",
      "\n"
     ]
    }
   ],
   "source": [
    "\n",
    "print(w.gem_like_function_oo( level = \"\", f_name = \"\", a_name= \"A\",\n",
    "    b_name= \"B\", c_name= \"C\", res_name = \"RES\", separator = \"*\", \n",
    "    f_open = \"\", f_close = \"\",  addition = \" + \" ) ) "
   ]
  },
  {
   "cell_type": "code",
   "execution_count": 4,
   "id": "06eda870",
   "metadata": {},
   "outputs": [
    {
     "name": "stdout",
     "output_type": "stream",
     "text": [
      "ELEMENTAL FUNCTION MDNUMM3N3_GEM_RO(A,B,C)&\n",
      "  RESULT(RES)\n",
      "  IMPLICIT NONE\n",
      "  REAL(DP), INTENT(IN) :: A \n",
      "  TYPE(MDNUMM3N3), INTENT(IN) :: B \n",
      "  TYPE(MDNUMM3N3), INTENT(IN) :: C \n",
      "  TYPE(MDNUMM3N3) :: RES \n",
      "\n",
      "  !  General multiplication like function 'A*B + C'\n",
      "\n",
      "  ! Order 0\n",
      "  RES%R = C%R + A%R*B%R\n",
      "\n",
      "  ! Order 1\n",
      "  RES%E1 = C%E1 + A%R*B%E1 + A%E1*B%R\n",
      "  RES%E2 = C%E2 + A%R*B%E2 + A%E2*B%R\n",
      "  RES%E3 = C%E3 + A%R*B%E3 + A%E3*B%R\n",
      "\n",
      "  ! Order 2\n",
      "  RES%E12 = C%E12 + A%R*B%E12 + A%E12*B%R + A%E1*B%E2 &\n",
      "          + A%E2*B%E1\n",
      "  RES%E13 = C%E13 + A%R*B%E13 + A%E13*B%R + A%E1*B%E3 &\n",
      "          + A%E3*B%E1\n",
      "  RES%E23 = C%E23 + A%R*B%E23 + A%E23*B%R + A%E2*B%E3 &\n",
      "          + A%E3*B%E2\n",
      "\n",
      "  ! Order 3\n",
      "  RES%E123 = C%E123 + A%R*B%E123 + A%E123*B%R + A%E1*B%E23 &\n",
      "           + A%E23*B%E1 + A%E2*B%E13 + A%E13*B%E2 &\n",
      "           + A%E3*B%E12 + A%E12*B%E3\n",
      "\n",
      "END FUNCTION MDNUMM3N3_GEM_RO\n",
      "\n"
     ]
    }
   ],
   "source": [
    "print(w.write_scalar_trivar( function_name = \"GEM\", is_elemental = True, level = 0, tab = \"  \", \n",
    "    f_name = \"\", a_type= \"R\",  b_type= \"O\", c_type= \"O\", \n",
    "    separator = \"*\", f_open = \"\", f_close = \"\", addition = \" + \",generator = w.gem_like_function_oo, \n",
    "    overload = None, write_charact=True ))"
   ]
  },
  {
   "cell_type": "code",
   "execution_count": 6,
   "id": "cfa273dd",
   "metadata": {},
   "outputs": [
    {
     "data": {
      "text/plain": [
       "[[],\n",
       " [[], [], []],\n",
       " [[['E1', 'E2'], ['E2', 'E1']],\n",
       "  [['E1', 'E3'], ['E3', 'E1']],\n",
       "  [['E2', 'E3'], ['E3', 'E2']]],\n",
       " [[['E1', 'E23'],\n",
       "   ['E23', 'E1'],\n",
       "   ['E2', 'E13'],\n",
       "   ['E13', 'E2'],\n",
       "   ['E3', 'E12'],\n",
       "   ['E12', 'E3']]]]"
      ]
     },
     "execution_count": 6,
     "metadata": {},
     "output_type": "execute_result"
    }
   ],
   "source": [
    "w.mult_res"
   ]
  },
  {
   "cell_type": "code",
   "execution_count": 7,
   "id": "176a7d5f",
   "metadata": {},
   "outputs": [
    {
     "data": {
      "text/plain": [
       "[[[[[0, 0, 'R'], [0, 0, 'R']]]],\n",
       " [[[[0, 0, 'R'], [0, 1, 'E1']], [[0, 1, 'E1'], [0, 0, 'R']]],\n",
       "  [[[0, 0, 'R'], [1, 1, 'E2']], [[1, 1, 'E2'], [0, 0, 'R']]],\n",
       "  [[[0, 0, 'R'], [2, 1, 'E3']], [[2, 1, 'E3'], [0, 0, 'R']]]],\n",
       " [[[[0, 0, 'R'], [1, 2, 'E12']],\n",
       "   [[1, 2, 'E12'], [0, 0, 'R']],\n",
       "   [[0, 1, 'E1'], [1, 1, 'E2']],\n",
       "   [[1, 1, 'E2'], [0, 1, 'E1']]],\n",
       "  [[[0, 0, 'R'], [3, 2, 'E13']],\n",
       "   [[3, 2, 'E13'], [0, 0, 'R']],\n",
       "   [[0, 1, 'E1'], [2, 1, 'E3']],\n",
       "   [[2, 1, 'E3'], [0, 1, 'E1']]],\n",
       "  [[[0, 0, 'R'], [4, 2, 'E23']],\n",
       "   [[4, 2, 'E23'], [0, 0, 'R']],\n",
       "   [[1, 1, 'E2'], [2, 1, 'E3']],\n",
       "   [[2, 1, 'E3'], [1, 1, 'E2']]]],\n",
       " [[[[0, 0, 'R'], [5, 3, 'E123']],\n",
       "   [[5, 3, 'E123'], [0, 0, 'R']],\n",
       "   [[0, 1, 'E1'], [4, 2, 'E23']],\n",
       "   [[4, 2, 'E23'], [0, 1, 'E1']],\n",
       "   [[1, 1, 'E2'], [3, 2, 'E13']],\n",
       "   [[3, 2, 'E13'], [1, 1, 'E2']],\n",
       "   [[2, 1, 'E3'], [1, 2, 'E12']],\n",
       "   [[1, 2, 'E12'], [2, 1, 'E3']]]]]"
      ]
     },
     "execution_count": 7,
     "metadata": {},
     "output_type": "execute_result"
    }
   ],
   "source": [
    "w.mult_res_total"
   ]
  },
  {
   "cell_type": "code",
   "execution_count": 8,
   "id": "4eb0aebd",
   "metadata": {},
   "outputs": [
    {
     "data": {
      "text/plain": [
       "[['R'], ['E1', 'E2', 'E3'], ['E12', 'E13', 'E23'], ['E123']]"
      ]
     },
     "execution_count": 8,
     "metadata": {},
     "output_type": "execute_result"
    }
   ],
   "source": [
    "w.name_imdir"
   ]
  },
  {
   "cell_type": "code",
   "execution_count": 3,
   "id": "bb5d1231",
   "metadata": {},
   "outputs": [
    {
     "name": "stdout",
     "output_type": "stream",
     "text": [
      "!  Addition like operation ' + '\n",
      "!  Real\n",
      "RES%R = LHS%R + RHS%R\n",
      "! Order 1\n",
      "RES%E1 = LHS%E1 + RHS%E1\n",
      "RES%E2 = LHS%E2 + RHS%E2\n",
      "RES%E3 = LHS%E3 + RHS%E3\n",
      "! Order 2\n",
      "RES%E12 = LHS%E12 + RHS%E12\n",
      "RES%E13 = LHS%E13 + RHS%E13\n",
      "RES%E23 = LHS%E23 + RHS%E23\n",
      "! Order 3\n",
      "RES%E123 = LHS%E123 + RHS%E123\n",
      "\n"
     ]
    }
   ],
   "source": [
    "print(w.addition_like_oo(level = \"\", operator = \" + \", lhs_name= \"LHS\", rhs_name= \"RHS\", res_name = \"RES\"))"
   ]
  },
  {
   "cell_type": "code",
   "execution_count": 3,
   "id": "3c47f42c",
   "metadata": {},
   "outputs": [],
   "source": []
  },
  {
   "cell_type": "code",
   "execution_count": 20,
   "id": "4724b3b4",
   "metadata": {},
   "outputs": [
    {
     "data": {
      "text/plain": [
       "[['R'], ['E1', 'E2'], ['E11', 'E12', 'E22'], ['E111', 'E112', 'E122', 'E222']]"
      ]
     },
     "execution_count": 20,
     "metadata": {},
     "output_type": "execute_result"
    }
   ],
   "source": [
    "w.name_imdir"
   ]
  },
  {
   "cell_type": "code",
   "execution_count": null,
   "id": "f1f27fef",
   "metadata": {},
   "outputs": [],
   "source": []
  }
 ],
 "metadata": {
  "kernelspec": {
   "display_name": "pyoti",
   "language": "python",
   "name": "pyoti"
  },
  "language_info": {
   "codemirror_mode": {
    "name": "ipython",
    "version": 3
   },
   "file_extension": ".py",
   "mimetype": "text/x-python",
   "name": "python",
   "nbconvert_exporter": "python",
   "pygments_lexer": "ipython3",
   "version": "3.8.10"
  }
 },
 "nbformat": 4,
 "nbformat_minor": 5
}
