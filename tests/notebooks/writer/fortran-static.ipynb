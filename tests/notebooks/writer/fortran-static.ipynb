{
 "cells": [
  {
   "cell_type": "markdown",
   "id": "3987b482",
   "metadata": {},
   "source": [
    "# Generate FORTRAN static modules with OTI or Multidual algebras.\n",
    "```\n",
    "Author: Mauricio Aristizabal\n",
    "Date last modified: Jan 17 2022\n",
    "Initial date: Jan 13 2022\n",
    "Contact: mauriaristi@gmail.com\n",
    "```\n",
    "\n",
    "This Notebook lets you generate Fortran modules that implements static versions of the library.\n",
    "\n",
    "They implement the so called semi-sparse implementation to avoid computational overheads.\n"
   ]
  },
  {
   "cell_type": "code",
   "execution_count": 1,
   "id": "97c4e44c",
   "metadata": {
    "scrolled": false
   },
   "outputs": [],
   "source": [
    "import pyoti.core   as coti\n",
    "from pyoti.fmod_writer import writer"
   ]
  },
  {
   "cell_type": "code",
   "execution_count": 10,
   "id": "1a1bc8bc",
   "metadata": {},
   "outputs": [],
   "source": [
    "nbases = 3\n",
    "order  = 3\n",
    "w = writer(nbases, order,mdual=True)"
   ]
  },
  {
   "cell_type": "code",
   "execution_count": 11,
   "id": "d82055f5",
   "metadata": {},
   "outputs": [
    {
     "name": "stdout",
     "output_type": "stream",
     "text": [
      "!  Multiplication like function 'LHS*RHS'\n",
      "! Order 0\n",
      "RES%R = LHS%R*RHS%R\n",
      "! Order 1\n",
      "RES%E1 = LHS%R*RHS%E1 + LHS%E1*RHS%R\n",
      "RES%E2 = LHS%R*RHS%E2 + LHS%E2*RHS%R\n",
      "RES%E3 = LHS%R*RHS%E3 + LHS%E3*RHS%R\n",
      "! Order 2\n",
      "RES%E12 = LHS%R*RHS%E12 + LHS%E12*RHS%R + LHS%E1*RHS%E2 &\n",
      "        + LHS%E2*RHS%E1\n",
      "RES%E13 = LHS%R*RHS%E13 + LHS%E13*RHS%R + LHS%E1*RHS%E3 &\n",
      "        + LHS%E3*RHS%E1\n",
      "RES%E23 = LHS%R*RHS%E23 + LHS%E23*RHS%R + LHS%E2*RHS%E3 &\n",
      "        + LHS%E3*RHS%E2\n",
      "! Order 3\n",
      "RES%E123 = LHS%R*RHS%E123 + LHS%E123*RHS%R + LHS%E1*RHS%E23 &\n",
      "         + LHS%E23*RHS%E1 + LHS%E2*RHS%E13 + LHS%E13*RHS%E2 &\n",
      "         + LHS%E3*RHS%E12 + LHS%E12*RHS%E3\n",
      "\n"
     ]
    }
   ],
   "source": [
    "\n",
    "print(w.multiplication_like_function_oo( level = \"\", f_name = \"\", lhs_name= \"LHS\", rhs_name= \"RHS\", \n",
    "       res_name = \"RES\", separator = \"*\", f_open = \"\", f_close = \"\",  addition = \" + \"))"
   ]
  },
  {
   "cell_type": "code",
   "execution_count": 13,
   "id": "cfa273dd",
   "metadata": {},
   "outputs": [
    {
     "data": {
      "text/plain": [
       "[[],\n",
       " [[], []],\n",
       " [[['E1', 'E1']], [['E1', 'E2'], ['E2', 'E1']], [['E2', 'E2']]],\n",
       " [[['E1', 'E11'], ['E11', 'E1']],\n",
       "  [['E1', 'E12'], ['E12', 'E1'], ['E2', 'E11'], ['E11', 'E2']],\n",
       "  [['E1', 'E22'], ['E22', 'E1'], ['E2', 'E12'], ['E12', 'E2']],\n",
       "  [['E2', 'E22'], ['E22', 'E2']]]]"
      ]
     },
     "execution_count": 13,
     "metadata": {},
     "output_type": "execute_result"
    }
   ],
   "source": [
    "w.mult_res"
   ]
  },
  {
   "cell_type": "code",
   "execution_count": 21,
   "id": "176a7d5f",
   "metadata": {},
   "outputs": [
    {
     "data": {
      "text/plain": [
       "[[[0, 0, 'R'], [0, 0, 'R']]]"
      ]
     },
     "execution_count": 21,
     "metadata": {},
     "output_type": "execute_result"
    }
   ],
   "source": [
    "w.mult_res_total[0][0]"
   ]
  },
  {
   "cell_type": "code",
   "execution_count": 6,
   "id": "4eb0aebd",
   "metadata": {},
   "outputs": [
    {
     "data": {
      "text/plain": [
       "[['0'], ['E1', 'E2', 'E3'], ['E12', 'E13', 'E23'], ['E123']]"
      ]
     },
     "execution_count": 6,
     "metadata": {},
     "output_type": "execute_result"
    }
   ],
   "source": [
    "w.name_imdir"
   ]
  },
  {
   "cell_type": "code",
   "execution_count": 7,
   "id": "bb5d1231",
   "metadata": {},
   "outputs": [
    {
     "name": "stdout",
     "output_type": "stream",
     "text": [
      "!  Addition like operation ' + '\n",
      "!  Real\n",
      "RES%R = LHS%R + RHS%R\n",
      "! Order 1\n",
      "RES%E1 = LHS%E1 + RHS%E1\n",
      "RES%E2 = LHS%E2 + RHS%E2\n",
      "RES%E3 = LHS%E3 + RHS%E3\n",
      "! Order 2\n",
      "RES%E12 = LHS%E12 + RHS%E12\n",
      "RES%E13 = LHS%E13 + RHS%E13\n",
      "RES%E23 = LHS%E23 + RHS%E23\n",
      "! Order 3\n",
      "RES%E123 = LHS%E123 + RHS%E123\n",
      "\n"
     ]
    }
   ],
   "source": [
    "print(w.addition_like_oo(level = \"\", operator = \" + \", lhs_name= \"LHS\", rhs_name= \"RHS\", res_name = \"RES\"))"
   ]
  },
  {
   "cell_type": "code",
   "execution_count": 12,
   "id": "3c47f42c",
   "metadata": {},
   "outputs": [],
   "source": [
    "w.write_file(filename = None, tab = '  ', is_std_matmul=True)"
   ]
  },
  {
   "cell_type": "code",
   "execution_count": 20,
   "id": "4724b3b4",
   "metadata": {},
   "outputs": [
    {
     "data": {
      "text/plain": [
       "[['R'], ['E1', 'E2'], ['E11', 'E12', 'E22'], ['E111', 'E112', 'E122', 'E222']]"
      ]
     },
     "execution_count": 20,
     "metadata": {},
     "output_type": "execute_result"
    }
   ],
   "source": [
    "w.name_imdir"
   ]
  },
  {
   "cell_type": "code",
   "execution_count": null,
   "id": "f1f27fef",
   "metadata": {},
   "outputs": [],
   "source": []
  }
 ],
 "metadata": {
  "kernelspec": {
   "display_name": "pyoti",
   "language": "python",
   "name": "pyoti"
  },
  "language_info": {
   "codemirror_mode": {
    "name": "ipython",
    "version": 3
   },
   "file_extension": ".py",
   "mimetype": "text/x-python",
   "name": "python",
   "nbconvert_exporter": "python",
   "pygments_lexer": "ipython3",
   "version": "3.8.10"
  }
 },
 "nbformat": 4,
 "nbformat_minor": 5
}
