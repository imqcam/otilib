{
 "cells": [
  {
   "cell_type": "markdown",
   "id": "3987b482",
   "metadata": {},
   "source": [
    "# Generate FORTRAN static modules with OTI or Multidual algebras.\n",
    "```\n",
    "Author: Mauricio Aristizabal\n",
    "Date last modified: Jan 21 2022\n",
    "Initial date: Jan 13 2022\n",
    "Contact: mauriaristi@gmail.com\n",
    "```\n",
    "\n",
    "This Notebook lets you generate Fortran modules that implements static versions of the library.\n",
    "\n",
    "They implement the so called semi-sparse implementation to avoid computational overheads.\n"
   ]
  },
  {
   "cell_type": "code",
   "execution_count": 1,
   "id": "97c4e44c",
   "metadata": {
    "scrolled": false
   },
   "outputs": [],
   "source": [
    "import pyoti.core   as coti\n",
    "from pyoti.fmod_writer import writer"
   ]
  },
  {
   "cell_type": "code",
   "execution_count": 13,
   "id": "1a1bc8bc",
   "metadata": {},
   "outputs": [],
   "source": [
    "nbases = 3\n",
    "order  = 3\n",
    "w = writer(nbases, order, mdual=True)"
   ]
  },
  {
   "cell_type": "code",
   "execution_count": 14,
   "id": "d60ea220",
   "metadata": {},
   "outputs": [],
   "source": [
    "w.write_file(tab = '  ', is_std_matmul=True)"
   ]
  },
  {
   "cell_type": "code",
   "execution_count": 4,
   "id": "0e2e4313",
   "metadata": {},
   "outputs": [
    {
     "name": "stdout",
     "output_type": "stream",
     "text": [
      "FUNCTION MDNUM3_TO_CR_MAT_M(VAL) RESULT(RES)\n",
      "   IMPLICIT NONE\n",
      "   TYPE(MDNUM3), INTENT(IN) :: VAL(:,:)\n",
      "   REAL(DP) :: RES(NUM_IM_DIR*SIZE(VAL,1),NUM_IM_DIR*SIZE(VAL,2)) \n",
      "   INTEGER :: NCOLS=1, NROWS=1\n",
      "\n",
      "   NCOLS = SIZE(VAL,1)\n",
      "   NROWS = SIZE(VAL,2)\n",
      "\n",
      "   ! R x R -> R (1, 1)\n",
      "   RES(1+NROWS*0:NROWS*1,1+NCOLS*0:NCOLS*1) = VAL%R\n",
      "   ! R x E1 -> E1 (2, 2)\n",
      "   RES(1+NROWS*1:NROWS*2,1+NCOLS*1:NCOLS*2) = VAL%R\n",
      "   ! E1 x R -> E1 (2, 1)\n",
      "   RES(1+NROWS*1:NROWS*2,1+NCOLS*0:NCOLS*1) = VAL%E1\n",
      "   ! R x E2 -> E2 (3, 3)\n",
      "   RES(1+NROWS*2:NROWS*3,1+NCOLS*2:NCOLS*3) = VAL%R\n",
      "   ! E2 x R -> E2 (3, 1)\n",
      "   RES(1+NROWS*2:NROWS*3,1+NCOLS*0:NCOLS*1) = VAL%E2\n",
      "   ! R x E3 -> E3 (4, 4)\n",
      "   RES(1+NROWS*3:NROWS*4,1+NCOLS*3:NCOLS*4) = VAL%R\n",
      "   ! E3 x R -> E3 (4, 1)\n",
      "   RES(1+NROWS*3:NROWS*4,1+NCOLS*0:NCOLS*1) = VAL%E3\n",
      "   ! R x E12 -> E12 (5, 5)\n",
      "   RES(1+NROWS*4:NROWS*5,1+NCOLS*4:NCOLS*5) = VAL%R\n",
      "   ! E12 x R -> E12 (5, 1)\n",
      "   RES(1+NROWS*4:NROWS*5,1+NCOLS*0:NCOLS*1) = VAL%E12\n",
      "   ! E1 x E2 -> E12 (5, 3)\n",
      "   RES(1+NROWS*4:NROWS*5,1+NCOLS*2:NCOLS*3) = VAL%E1\n",
      "   ! E2 x E1 -> E12 (5, 2)\n",
      "   RES(1+NROWS*4:NROWS*5,1+NCOLS*1:NCOLS*2) = VAL%E2\n",
      "   ! R x E13 -> E13 (6, 6)\n",
      "   RES(1+NROWS*5:NROWS*6,1+NCOLS*5:NCOLS*6) = VAL%R\n",
      "   ! E13 x R -> E13 (6, 1)\n",
      "   RES(1+NROWS*5:NROWS*6,1+NCOLS*0:NCOLS*1) = VAL%E13\n",
      "   ! E1 x E3 -> E13 (6, 4)\n",
      "   RES(1+NROWS*5:NROWS*6,1+NCOLS*3:NCOLS*4) = VAL%E1\n",
      "   ! E3 x E1 -> E13 (6, 2)\n",
      "   RES(1+NROWS*5:NROWS*6,1+NCOLS*1:NCOLS*2) = VAL%E3\n",
      "   ! R x E23 -> E23 (7, 7)\n",
      "   RES(1+NROWS*6:NROWS*7,1+NCOLS*6:NCOLS*7) = VAL%R\n",
      "   ! E23 x R -> E23 (7, 1)\n",
      "   RES(1+NROWS*6:NROWS*7,1+NCOLS*0:NCOLS*1) = VAL%E23\n",
      "   ! E2 x E3 -> E23 (7, 4)\n",
      "   RES(1+NROWS*6:NROWS*7,1+NCOLS*3:NCOLS*4) = VAL%E2\n",
      "   ! E3 x E2 -> E23 (7, 3)\n",
      "   RES(1+NROWS*6:NROWS*7,1+NCOLS*2:NCOLS*3) = VAL%E3\n",
      "   ! R x E123 -> E123 (8, 8)\n",
      "   RES(1+NROWS*7:NROWS*8,1+NCOLS*7:NCOLS*8) = VAL%R\n",
      "   ! E123 x R -> E123 (8, 1)\n",
      "   RES(1+NROWS*7:NROWS*8,1+NCOLS*0:NCOLS*1) = VAL%E123\n",
      "   ! E1 x E23 -> E123 (8, 7)\n",
      "   RES(1+NROWS*7:NROWS*8,1+NCOLS*6:NCOLS*7) = VAL%E1\n",
      "   ! E23 x E1 -> E123 (8, 2)\n",
      "   RES(1+NROWS*7:NROWS*8,1+NCOLS*1:NCOLS*2) = VAL%E23\n",
      "   ! E2 x E13 -> E123 (8, 6)\n",
      "   RES(1+NROWS*7:NROWS*8,1+NCOLS*5:NCOLS*6) = VAL%E2\n",
      "   ! E13 x E2 -> E123 (8, 3)\n",
      "   RES(1+NROWS*7:NROWS*8,1+NCOLS*2:NCOLS*3) = VAL%E13\n",
      "   ! E3 x E12 -> E123 (8, 5)\n",
      "   RES(1+NROWS*7:NROWS*8,1+NCOLS*4:NCOLS*5) = VAL%E3\n",
      "   ! E12 x E3 -> E123 (8, 4)\n",
      "   RES(1+NROWS*7:NROWS*8,1+NCOLS*3:NCOLS*4) = VAL%E12\n",
      "END FUNCTION MDNUM3_TO_CR_MAT_M\n",
      "\n"
     ]
    }
   ],
   "source": [
    "print(w.write_cr_matrix_form(tab=\"   \",val_shape = \"M\"))"
   ]
  },
  {
   "cell_type": "code",
   "execution_count": 10,
   "id": "977b688a",
   "metadata": {},
   "outputs": [
    {
     "name": "stdout",
     "output_type": "stream",
     "text": [
      "FUNCTION MDNUMM3N3_SUM_OR_MS(LHS,RHS)&\n",
      "    RESULT(RES)\n",
      "    IMPLICIT NONE\n",
      "    TYPE(MDNUMM3N3), INTENT(IN) :: LHS(:,:)\n",
      "    REAL(DP), INTENT(IN) :: RHS\n",
      "    TYPE(MDNUMM3N3) :: RES(SIZE(LHS,1),SIZE(LHS,2)) \n",
      "\n",
      "    !  Multiplication like function 'LHS*RHS'\n",
      "\n",
      "    ! Order 0\n",
      "    RES%R = LHS%R*RHS%R\n",
      "\n",
      "    ! Order 1\n",
      "    RES%E1 = LHS%R*RHS%E1 + LHS%E1*RHS%R\n",
      "    RES%E2 = LHS%R*RHS%E2 + LHS%E2*RHS%R\n",
      "    RES%E3 = LHS%R*RHS%E3 + LHS%E3*RHS%R\n",
      "\n",
      "    ! Order 2\n",
      "    RES%E12 = LHS%R*RHS%E12 + LHS%E12*RHS%R + LHS%E1*RHS%E2 &\n",
      "            + LHS%E2*RHS%E1\n",
      "    RES%E13 = LHS%R*RHS%E13 + LHS%E13*RHS%R + LHS%E1*RHS%E3 &\n",
      "            + LHS%E3*RHS%E1\n",
      "    RES%E23 = LHS%R*RHS%E23 + LHS%E23*RHS%R + LHS%E2*RHS%E3 &\n",
      "            + LHS%E3*RHS%E2\n",
      "\n",
      "    ! Order 3\n",
      "    RES%E123 = LHS%R*RHS%E123 + LHS%E123*RHS%R + LHS%E1*RHS%E23 &\n",
      "             + LHS%E23*RHS%E1 + LHS%E2*RHS%E13 + LHS%E13*RHS%E2 &\n",
      "             + LHS%E3*RHS%E12 + LHS%E12*RHS%E3\n",
      "\n",
      "END FUNCTION MDNUMM3N3_SUM_OR_MS\n",
      "\n"
     ]
    }
   ],
   "source": [
    "print( w.write_scalar_function(function_name = \"SUM\", is_elemental = True, level = 0, \n",
    "tab = \"    \", f_name = \"\", lhs_type= \"O\",lhs_shape='M', rhs_type= \"R\",rhs_shape='S', \n",
    "separator = \"*\", f_open = \"\",  f_close = \"\", \n",
    "generator = w.multiplication_like_function_oo, overload = \"*\" ) )"
   ]
  },
  {
   "cell_type": "code",
   "execution_count": 3,
   "id": "3d0df82d",
   "metadata": {},
   "outputs": [
    {
     "name": "stdout",
     "output_type": "stream",
     "text": [
      "! Constant imaginary directions.\n",
      "! Order 1\n",
      "TYPE(MDNUMM3N3) :: E1 = MDNUMM3N3(0.0_DP,1.0_DP,0.0_DP,0.0_DP,0.0_DP,0.0_DP,0.0_DP,0.0_DP)\n",
      "TYPE(MDNUMM3N3) :: E2 = MDNUMM3N3(0.0_DP,0.0_DP,1.0_DP,0.0_DP,0.0_DP,0.0_DP,0.0_DP,0.0_DP)\n",
      "TYPE(MDNUMM3N3) :: E3 = MDNUMM3N3(0.0_DP,0.0_DP,0.0_DP,1.0_DP,0.0_DP,0.0_DP,0.0_DP,0.0_DP)\n",
      "! Order 2\n",
      "TYPE(MDNUMM3N3) :: E12 = MDNUMM3N3(0.0_DP,0.0_DP,0.0_DP,0.0_DP,1.0_DP,0.0_DP,0.0_DP,0.0_DP)\n",
      "TYPE(MDNUMM3N3) :: E13 = MDNUMM3N3(0.0_DP,0.0_DP,0.0_DP,0.0_DP,0.0_DP,1.0_DP,0.0_DP,0.0_DP)\n",
      "TYPE(MDNUMM3N3) :: E23 = MDNUMM3N3(0.0_DP,0.0_DP,0.0_DP,0.0_DP,0.0_DP,0.0_DP,1.0_DP,0.0_DP)\n",
      "! Order 3\n",
      "TYPE(MDNUMM3N3) :: E123 = MDNUMM3N3(0.0_DP,0.0_DP,0.0_DP,0.0_DP,0.0_DP,0.0_DP,0.0_DP,1.0_DP)\n",
      "\n"
     ]
    }
   ],
   "source": [
    "print(w.set_type_constants( level = \"\"))"
   ]
  },
  {
   "cell_type": "code",
   "execution_count": 3,
   "id": "24a6a5cf",
   "metadata": {},
   "outputs": [
    {
     "name": "stdout",
     "output_type": "stream",
     "text": [
      "PRIVATE :: DP,DER_R_COS,DER_R_SIN, &\n",
      "           DER_R_LOG,DER_R_EXP,DER_R_POW\n",
      "\n"
     ]
    }
   ],
   "source": [
    "print(w.write_private(level = \"\", tab = \"  \"))"
   ]
  },
  {
   "cell_type": "code",
   "execution_count": 3,
   "id": "902aa1bd",
   "metadata": {},
   "outputs": [
    {
     "name": "stdout",
     "output_type": "stream",
     "text": [
      "ELEMENTAL FUNCTION MDNUMM3N3_FEVAL(X,DERIVS)&\n",
      "    RESULT(RES)\n",
      "    IMPLICIT NONE\n",
      "    !  Definitions\n",
      "    REAL(DP) :: FACTOR=1, COEF=0.0_DP\n",
      "    TYPE(MDNUMM3N3), INTENT(IN)  :: X\n",
      "    TYPE(MDNUMM3N3), INTENT(IN)  :: DERIVS(4)\n",
      "    TYPE(MDNUMM3N3), INTENT(OUT) :: RES\n",
      "    TYPE(MDNUMM3N3) :: DX = X, DX_P = X\n",
      "\n",
      "    !  Set real part of deltas zero.\n",
      "    DX%R = 0.0_DP\n",
      "    DX_P%R = 0.0_DP\n",
      "\n",
      "    ! Sets real part\n",
      "    RES = DERIVS(1)\n",
      "\n",
      "    ! Sets order 1\n",
      "    FACTOR = FACTOR * 1\n",
      "    COEF = DERIVS(2) / FACTOR\n",
      "    RES = GEM(COEF,DX_P,RES)\n",
      "    DX_P = DX_P*DX\n",
      "    \n",
      "    ! Sets order 2\n",
      "    FACTOR = FACTOR * 2\n",
      "    COEF = DERIVS(3) / FACTOR\n",
      "    RES = GEM(COEF,DX_P,RES)\n",
      "    DX_P = DX_P*DX\n",
      "    \n",
      "    ! Sets order 3\n",
      "    FACTOR = FACTOR * 3\n",
      "    COEF = DERIVS(4) / FACTOR\n",
      "    RES = GEM(COEF,DX_P,RES)\n",
      "    \n",
      "END FUNCTION MDNUMM3N3_FEVAL\n",
      "\n",
      "\n"
     ]
    }
   ],
   "source": [
    "print(w.write_scalar_feval(function_name = \"FEVAL\", is_elemental = True, level = 0, tab = \"    \", \n",
    "    f_name = \"FUNCTION\",  separator = \",\", lhs_type= \"O\", lhs_ptr = False,\n",
    "    f_open = \"(\", f_close = \")\", addition = \" + \", to = False,\n",
    "    overload = None, write_charact=True ))"
   ]
  },
  {
   "cell_type": "code",
   "execution_count": 7,
   "id": "dcc412f0",
   "metadata": {},
   "outputs": [
    {
     "name": "stdout",
     "output_type": "stream",
     "text": [
      "! feval function\n",
      "RES=0.0_dp\n",
      "!  Real\n",
      "RES%R = DERIVS(1)\n",
      "\n"
     ]
    }
   ],
   "source": [
    "print(w.feval_function_o(level = \"\", lhs_name= \"X\", deriv_name= \"DERIVS\", res_name = \"RES\"  ) ) "
   ]
  },
  {
   "cell_type": "code",
   "execution_count": 3,
   "id": "d82055f5",
   "metadata": {},
   "outputs": [
    {
     "name": "stdout",
     "output_type": "stream",
     "text": [
      "!  General multiplication like function 'A*B + C'\n",
      "\n",
      "! Order 0\n",
      "RES%R = C%R + A%R*B%R\n",
      "\n",
      "! Order 1\n",
      "RES%E1 = C%E1 + A%R*B%E1 + A%E1*B%R\n",
      "RES%E2 = C%E2 + A%R*B%E2 + A%E2*B%R\n",
      "RES%E3 = C%E3 + A%R*B%E3 + A%E3*B%R\n",
      "\n",
      "! Order 2\n",
      "RES%E12 = C%E12 + A%R*B%E12 + A%E12*B%R + A%E1*B%E2 &\n",
      "        + A%E2*B%E1\n",
      "RES%E13 = C%E13 + A%R*B%E13 + A%E13*B%R + A%E1*B%E3 &\n",
      "        + A%E3*B%E1\n",
      "RES%E23 = C%E23 + A%R*B%E23 + A%E23*B%R + A%E2*B%E3 &\n",
      "        + A%E3*B%E2\n",
      "\n",
      "! Order 3\n",
      "RES%E123 = C%E123 + A%R*B%E123 + A%E123*B%R + A%E1*B%E23 &\n",
      "         + A%E23*B%E1 + A%E2*B%E13 + A%E13*B%E2 &\n",
      "         + A%E3*B%E12 + A%E12*B%E3\n",
      "\n"
     ]
    }
   ],
   "source": [
    "\n",
    "print(w.gem_like_function_oo( level = \"\", f_name = \"\", a_name= \"A\",\n",
    "    b_name= \"B\", c_name= \"C\", res_name = \"RES\", separator = \"*\", \n",
    "    f_open = \"\", f_close = \"\",  addition = \" + \" ) ) "
   ]
  },
  {
   "cell_type": "code",
   "execution_count": 4,
   "id": "06eda870",
   "metadata": {},
   "outputs": [
    {
     "name": "stdout",
     "output_type": "stream",
     "text": [
      "ELEMENTAL FUNCTION MDNUMM3N3_GEM_RO(A,B,C)&\n",
      "  RESULT(RES)\n",
      "  IMPLICIT NONE\n",
      "  REAL(DP), INTENT(IN) :: A \n",
      "  TYPE(MDNUMM3N3), INTENT(IN) :: B \n",
      "  TYPE(MDNUMM3N3), INTENT(IN) :: C \n",
      "  TYPE(MDNUMM3N3) :: RES \n",
      "\n",
      "  !  General multiplication like function 'A*B + C'\n",
      "\n",
      "  ! Order 0\n",
      "  RES%R = C%R + A%R*B%R\n",
      "\n",
      "  ! Order 1\n",
      "  RES%E1 = C%E1 + A%R*B%E1 + A%E1*B%R\n",
      "  RES%E2 = C%E2 + A%R*B%E2 + A%E2*B%R\n",
      "  RES%E3 = C%E3 + A%R*B%E3 + A%E3*B%R\n",
      "\n",
      "  ! Order 2\n",
      "  RES%E12 = C%E12 + A%R*B%E12 + A%E12*B%R + A%E1*B%E2 &\n",
      "          + A%E2*B%E1\n",
      "  RES%E13 = C%E13 + A%R*B%E13 + A%E13*B%R + A%E1*B%E3 &\n",
      "          + A%E3*B%E1\n",
      "  RES%E23 = C%E23 + A%R*B%E23 + A%E23*B%R + A%E2*B%E3 &\n",
      "          + A%E3*B%E2\n",
      "\n",
      "  ! Order 3\n",
      "  RES%E123 = C%E123 + A%R*B%E123 + A%E123*B%R + A%E1*B%E23 &\n",
      "           + A%E23*B%E1 + A%E2*B%E13 + A%E13*B%E2 &\n",
      "           + A%E3*B%E12 + A%E12*B%E3\n",
      "\n",
      "END FUNCTION MDNUMM3N3_GEM_RO\n",
      "\n"
     ]
    }
   ],
   "source": [
    "print(w.write_scalar_trivar( function_name = \"GEM\", is_elemental = True, level = 0, tab = \"  \", \n",
    "    f_name = \"\", a_type= \"R\",  b_type= \"O\", c_type= \"O\", \n",
    "    separator = \"*\", f_open = \"\", f_close = \"\", addition = \" + \",generator = w.gem_like_function_oo, \n",
    "    overload = None, write_charact=True ))"
   ]
  },
  {
   "cell_type": "code",
   "execution_count": 6,
   "id": "cfa273dd",
   "metadata": {},
   "outputs": [
    {
     "data": {
      "text/plain": [
       "[[],\n",
       " [[], [], []],\n",
       " [[['E1', 'E2'], ['E2', 'E1']],\n",
       "  [['E1', 'E3'], ['E3', 'E1']],\n",
       "  [['E2', 'E3'], ['E3', 'E2']]],\n",
       " [[['E1', 'E23'],\n",
       "   ['E23', 'E1'],\n",
       "   ['E2', 'E13'],\n",
       "   ['E13', 'E2'],\n",
       "   ['E3', 'E12'],\n",
       "   ['E12', 'E3']]]]"
      ]
     },
     "execution_count": 6,
     "metadata": {},
     "output_type": "execute_result"
    }
   ],
   "source": [
    "w.mult_res"
   ]
  },
  {
   "cell_type": "code",
   "execution_count": 7,
   "id": "176a7d5f",
   "metadata": {},
   "outputs": [
    {
     "data": {
      "text/plain": [
       "[[[[[0, 0, 'R'], [0, 0, 'R']]]],\n",
       " [[[[0, 0, 'R'], [0, 1, 'E1']], [[0, 1, 'E1'], [0, 0, 'R']]],\n",
       "  [[[0, 0, 'R'], [1, 1, 'E2']], [[1, 1, 'E2'], [0, 0, 'R']]],\n",
       "  [[[0, 0, 'R'], [2, 1, 'E3']], [[2, 1, 'E3'], [0, 0, 'R']]]],\n",
       " [[[[0, 0, 'R'], [1, 2, 'E12']],\n",
       "   [[1, 2, 'E12'], [0, 0, 'R']],\n",
       "   [[0, 1, 'E1'], [1, 1, 'E2']],\n",
       "   [[1, 1, 'E2'], [0, 1, 'E1']]],\n",
       "  [[[0, 0, 'R'], [3, 2, 'E13']],\n",
       "   [[3, 2, 'E13'], [0, 0, 'R']],\n",
       "   [[0, 1, 'E1'], [2, 1, 'E3']],\n",
       "   [[2, 1, 'E3'], [0, 1, 'E1']]],\n",
       "  [[[0, 0, 'R'], [4, 2, 'E23']],\n",
       "   [[4, 2, 'E23'], [0, 0, 'R']],\n",
       "   [[1, 1, 'E2'], [2, 1, 'E3']],\n",
       "   [[2, 1, 'E3'], [1, 1, 'E2']]]],\n",
       " [[[[0, 0, 'R'], [5, 3, 'E123']],\n",
       "   [[5, 3, 'E123'], [0, 0, 'R']],\n",
       "   [[0, 1, 'E1'], [4, 2, 'E23']],\n",
       "   [[4, 2, 'E23'], [0, 1, 'E1']],\n",
       "   [[1, 1, 'E2'], [3, 2, 'E13']],\n",
       "   [[3, 2, 'E13'], [1, 1, 'E2']],\n",
       "   [[2, 1, 'E3'], [1, 2, 'E12']],\n",
       "   [[1, 2, 'E12'], [2, 1, 'E3']]]]]"
      ]
     },
     "execution_count": 7,
     "metadata": {},
     "output_type": "execute_result"
    }
   ],
   "source": [
    "w.mult_res_total"
   ]
  },
  {
   "cell_type": "code",
   "execution_count": 8,
   "id": "4eb0aebd",
   "metadata": {},
   "outputs": [
    {
     "data": {
      "text/plain": [
       "[['R'], ['E1', 'E2', 'E3'], ['E12', 'E13', 'E23'], ['E123']]"
      ]
     },
     "execution_count": 8,
     "metadata": {},
     "output_type": "execute_result"
    }
   ],
   "source": [
    "w.name_imdir"
   ]
  },
  {
   "cell_type": "code",
   "execution_count": 3,
   "id": "bb5d1231",
   "metadata": {},
   "outputs": [
    {
     "name": "stdout",
     "output_type": "stream",
     "text": [
      "!  Addition like operation ' + '\n",
      "!  Real\n",
      "RES%R = LHS%R + RHS%R\n",
      "! Order 1\n",
      "RES%E1 = LHS%E1 + RHS%E1\n",
      "RES%E2 = LHS%E2 + RHS%E2\n",
      "RES%E3 = LHS%E3 + RHS%E3\n",
      "! Order 2\n",
      "RES%E12 = LHS%E12 + RHS%E12\n",
      "RES%E13 = LHS%E13 + RHS%E13\n",
      "RES%E23 = LHS%E23 + RHS%E23\n",
      "! Order 3\n",
      "RES%E123 = LHS%E123 + RHS%E123\n",
      "\n"
     ]
    }
   ],
   "source": [
    "print(w.addition_like_oo(level = \"\", operator = \" + \", lhs_name= \"LHS\", rhs_name= \"RHS\", res_name = \"RES\"))"
   ]
  },
  {
   "cell_type": "code",
   "execution_count": 3,
   "id": "3c47f42c",
   "metadata": {},
   "outputs": [],
   "source": []
  },
  {
   "cell_type": "code",
   "execution_count": 20,
   "id": "4724b3b4",
   "metadata": {},
   "outputs": [
    {
     "data": {
      "text/plain": [
       "[['R'], ['E1', 'E2'], ['E11', 'E12', 'E22'], ['E111', 'E112', 'E122', 'E222']]"
      ]
     },
     "execution_count": 20,
     "metadata": {},
     "output_type": "execute_result"
    }
   ],
   "source": [
    "w.name_imdir"
   ]
  },
  {
   "cell_type": "code",
   "execution_count": null,
   "id": "f1f27fef",
   "metadata": {},
   "outputs": [],
   "source": []
  }
 ],
 "metadata": {
  "kernelspec": {
   "display_name": "pyoti",
   "language": "python",
   "name": "pyoti"
  },
  "language_info": {
   "codemirror_mode": {
    "name": "ipython",
    "version": 3
   },
   "file_extension": ".py",
   "mimetype": "text/x-python",
   "name": "python",
   "nbconvert_exporter": "python",
   "pygments_lexer": "ipython3",
   "version": "3.8.10"
  }
 },
 "nbformat": 4,
 "nbformat_minor": 5
}
