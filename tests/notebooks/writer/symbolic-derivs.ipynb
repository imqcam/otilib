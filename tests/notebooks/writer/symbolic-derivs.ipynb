{
 "cells": [
  {
   "cell_type": "code",
   "execution_count": 1,
   "id": "a2b149f0",
   "metadata": {},
   "outputs": [],
   "source": [
    "import sympy as sym\n",
    "from sympy.printing import fcode"
   ]
  },
  {
   "cell_type": "code",
   "execution_count": 2,
   "id": "1955e00b",
   "metadata": {},
   "outputs": [],
   "source": [
    "x, y, e, e1, e2, e3 = sym.symbols('X%R Y%R E E1 E2 E3 ')"
   ]
  },
  {
   "cell_type": "code",
   "execution_count": 7,
   "id": "db394ca3",
   "metadata": {},
   "outputs": [],
   "source": [
    "f = sym.atan(x)\n",
    "f = x ** e\n"
   ]
  },
  {
   "cell_type": "code",
   "execution_count": 8,
   "id": "186bfa9f",
   "metadata": {},
   "outputs": [
    {
     "name": "stdout",
     "output_type": "stream",
     "text": [
      "T = X%R**E\n",
      "T = E*X%R**E/X%R\n",
      "T = E*X%R**E*(E - 1)/X%R**2\n",
      "T = E*X%R**E*(E**2 - 3*E + 2)/X%R**3\n",
      "T = E*X%R**E*(E**3 - 6*E**2 + 11*E - 6)/X%R**4\n",
      "T = E*X%R**E*(E**4 - 10*E**3 + 35*E**2 - 50*E + 24)/X%R**5\n",
      "T = E*X%R**E*(E**5 - 15*E**4 + 85*E**3 - 225*E**2 + 274*E - 120)/X%R**6\n",
      "T = E*X%R**E*(E**6 - 21*E**5 + 175*E**4 - 735*E**3 + 1624*E**2 - 1764*E &\n",
      "      + 720)/X%R**7\n",
      "T = E*X%R**E*(E**7 - 28*E**6 + 322*E**5 - 1960*E**4 + 6769*E**3 - 13132* &\n",
      "      E**2 + 13068*E - 5040)/X%R**8\n",
      "T = E*X%R**E*(E**8 - 36*E**7 + 546*E**6 - 4536*E**5 + 22449*E**4 - 67284 &\n",
      "      *E**3 + 118124*E**2 - 109584*E + 40320)/X%R**9\n",
      "T = E*X%R**E*(E**9 - 45*E**8 + 870*E**7 - 9450*E**6 + 63273*E**5 - &\n",
      "      269325*E**4 + 723680*E**3 - 1172700*E**2 + 1026576*E - 362880)/X% &\n",
      "      R**10\n"
     ]
    }
   ],
   "source": [
    "ders = []\n",
    "order = 10\n",
    "for i in range(order+1):\n",
    "    ders.append(f.diff(x,i))\n",
    "# end for \n",
    "\n",
    "for i in range(order+1):\n",
    "#     print('D{0} -> {1}'.format(i,fcode(ders[i],human = True,standard=2008,source_format='free', assign_to='T')) )\n",
    "    print('{1}'.format(i,fcode(ders[i],human = True,standard=2008,source_format='free', assign_to='T')) )"
   ]
  },
  {
   "cell_type": "code",
   "execution_count": 19,
   "id": "4c2d0626",
   "metadata": {},
   "outputs": [
    {
     "name": "stdout",
     "output_type": "stream",
     "text": [
      "(E*X%R**(E - 2)*(E - 1), 1)\n"
     ]
    }
   ],
   "source": [
    "print( f.diff(x,2).simplify() )"
   ]
  },
  {
   "cell_type": "code",
   "execution_count": 5,
   "id": "0370fa79",
   "metadata": {},
   "outputs": [],
   "source": [
    "ders = []\n",
    "order = 4\n",
    "for i in range(order+1):\n",
    "    for j in range(i+1, order+1):\n",
    "        ders.append(f.diff(x,i).diff(y,j))\n",
    "        ders.append(f.diff(x,j).diff(y,i))\n",
    "    \n",
    "# end for "
   ]
  },
  {
   "cell_type": "code",
   "execution_count": 6,
   "id": "a4774940",
   "metadata": {},
   "outputs": [
    {
     "data": {
      "text/plain": [
       "'1/(X%R**2 + 1)'"
      ]
     },
     "execution_count": 6,
     "metadata": {},
     "output_type": "execute_result"
    }
   ],
   "source": [
    "\n",
    "str(ders[1])"
   ]
  },
  {
   "cell_type": "code",
   "execution_count": null,
   "id": "daac1baa",
   "metadata": {},
   "outputs": [],
   "source": []
  },
  {
   "cell_type": "code",
   "execution_count": 15,
   "id": "542d1967",
   "metadata": {},
   "outputs": [],
   "source": [
    "f = x / y"
   ]
  },
  {
   "cell_type": "code",
   "execution_count": null,
   "id": "ac4bf03b",
   "metadata": {},
   "outputs": [],
   "source": [
    "for i in range(order+1):\n",
    "    print('D{0} -> {1}'.format(i,fcode(ders[i]).upper()[6:]))"
   ]
  },
  {
   "cell_type": "code",
   "execution_count": 23,
   "id": "158f09de",
   "metadata": {
    "scrolled": false
   },
   "outputs": [
    {
     "name": "stdout",
     "output_type": "stream",
     "text": [
      "Help on function fcode in module sympy.printing.codeprinter:\n",
      "\n",
      "fcode(expr, assign_to=None, **settings)\n",
      "    Converts an expr to a string of fortran code\n",
      "    \n",
      "    Parameters\n",
      "    ==========\n",
      "    \n",
      "    expr : Expr\n",
      "        A sympy expression to be converted.\n",
      "    assign_to : optional\n",
      "        When given, the argument is used as the name of the variable to which\n",
      "        the expression is assigned. Can be a string, ``Symbol``,\n",
      "        ``MatrixSymbol``, or ``Indexed`` type. This is helpful in case of\n",
      "        line-wrapping, or for expressions that generate multi-line statements.\n",
      "    precision : integer, optional\n",
      "        DEPRECATED. Use type_mappings instead. The precision for numbers such\n",
      "        as pi [default=17].\n",
      "    user_functions : dict, optional\n",
      "        A dictionary where keys are ``FunctionClass`` instances and values are\n",
      "        their string representations. Alternatively, the dictionary value can\n",
      "        be a list of tuples i.e. [(argument_test, cfunction_string)]. See below\n",
      "        for examples.\n",
      "    human : bool, optional\n",
      "        If True, the result is a single string that may contain some constant\n",
      "        declarations for the number symbols. If False, the same information is\n",
      "        returned in a tuple of (symbols_to_declare, not_supported_functions,\n",
      "        code_text). [default=True].\n",
      "    contract: bool, optional\n",
      "        If True, ``Indexed`` instances are assumed to obey tensor contraction\n",
      "        rules and the corresponding nested loops over indices are generated.\n",
      "        Setting contract=False will not generate loops, instead the user is\n",
      "        responsible to provide values for the indices in the code.\n",
      "        [default=True].\n",
      "    source_format : optional\n",
      "        The source format can be either 'fixed' or 'free'. [default='fixed']\n",
      "    standard : integer, optional\n",
      "        The Fortran standard to be followed. This is specified as an integer.\n",
      "        Acceptable standards are 66, 77, 90, 95, 2003, and 2008. Default is 77.\n",
      "        Note that currently the only distinction internally is between\n",
      "        standards before 95, and those 95 and after. This may change later as\n",
      "        more features are added.\n",
      "    name_mangling : bool, optional\n",
      "        If True, then the variables that would become identical in\n",
      "        case-insensitive Fortran are mangled by appending different number\n",
      "        of ``_`` at the end. If False, SymPy won't interfere with naming of\n",
      "        variables. [default=True]\n",
      "    \n",
      "    Examples\n",
      "    ========\n",
      "    \n",
      "    >>> from sympy import fcode, symbols, Rational, sin, ceiling, floor\n",
      "    >>> x, tau = symbols(\"x, tau\")\n",
      "    >>> fcode((2*tau)**Rational(7, 2))\n",
      "    '      8*sqrt(2.0d0)*tau**(7.0d0/2.0d0)'\n",
      "    >>> fcode(sin(x), assign_to=\"s\")\n",
      "    '      s = sin(x)'\n",
      "    \n",
      "    Custom printing can be defined for certain types by passing a dictionary of\n",
      "    \"type\" : \"function\" to the ``user_functions`` kwarg. Alternatively, the\n",
      "    dictionary value can be a list of tuples i.e. [(argument_test,\n",
      "    cfunction_string)].\n",
      "    \n",
      "    >>> custom_functions = {\n",
      "    ...   \"ceiling\": \"CEIL\",\n",
      "    ...   \"floor\": [(lambda x: not x.is_integer, \"FLOOR1\"),\n",
      "    ...             (lambda x: x.is_integer, \"FLOOR2\")]\n",
      "    ... }\n",
      "    >>> fcode(floor(x) + ceiling(x), user_functions=custom_functions)\n",
      "    '      CEIL(x) + FLOOR1(x)'\n",
      "    \n",
      "    ``Piecewise`` expressions are converted into conditionals. If an\n",
      "    ``assign_to`` variable is provided an if statement is created, otherwise\n",
      "    the ternary operator is used. Note that if the ``Piecewise`` lacks a\n",
      "    default term, represented by ``(expr, True)`` then an error will be thrown.\n",
      "    This is to prevent generating an expression that may not evaluate to\n",
      "    anything.\n",
      "    \n",
      "    >>> from sympy import Piecewise\n",
      "    >>> expr = Piecewise((x + 1, x > 0), (x, True))\n",
      "    >>> print(fcode(expr, tau))\n",
      "          if (x > 0) then\n",
      "             tau = x + 1\n",
      "          else\n",
      "             tau = x\n",
      "          end if\n",
      "    \n",
      "    Support for loops is provided through ``Indexed`` types. With\n",
      "    ``contract=True`` these expressions will be turned into loops, whereas\n",
      "    ``contract=False`` will just print the assignment expression that should be\n",
      "    looped over:\n",
      "    \n",
      "    >>> from sympy import Eq, IndexedBase, Idx\n",
      "    >>> len_y = 5\n",
      "    >>> y = IndexedBase('y', shape=(len_y,))\n",
      "    >>> t = IndexedBase('t', shape=(len_y,))\n",
      "    >>> Dy = IndexedBase('Dy', shape=(len_y-1,))\n",
      "    >>> i = Idx('i', len_y-1)\n",
      "    >>> e=Eq(Dy[i], (y[i+1]-y[i])/(t[i+1]-t[i]))\n",
      "    >>> fcode(e.rhs, assign_to=e.lhs, contract=False)\n",
      "    '      Dy(i) = (y(i + 1) - y(i))/(t(i + 1) - t(i))'\n",
      "    \n",
      "    Matrices are also supported, but a ``MatrixSymbol`` of the same dimensions\n",
      "    must be provided to ``assign_to``. Note that any expression that can be\n",
      "    generated normally can also exist inside a Matrix:\n",
      "    \n",
      "    >>> from sympy import Matrix, MatrixSymbol\n",
      "    >>> mat = Matrix([x**2, Piecewise((x + 1, x > 0), (x, True)), sin(x)])\n",
      "    >>> A = MatrixSymbol('A', 3, 1)\n",
      "    >>> print(fcode(mat, A))\n",
      "          A(1, 1) = x**2\n",
      "             if (x > 0) then\n",
      "          A(2, 1) = x + 1\n",
      "             else\n",
      "          A(2, 1) = x\n",
      "             end if\n",
      "          A(3, 1) = sin(x)\n",
      "\n"
     ]
    }
   ],
   "source": [
    "help(fcode)"
   ]
  },
  {
   "cell_type": "code",
   "execution_count": null,
   "id": "d1dea1e7",
   "metadata": {},
   "outputs": [],
   "source": []
  }
 ],
 "metadata": {
  "kernelspec": {
   "display_name": "pyoti",
   "language": "python",
   "name": "pyoti"
  },
  "language_info": {
   "codemirror_mode": {
    "name": "ipython",
    "version": 3
   },
   "file_extension": ".py",
   "mimetype": "text/x-python",
   "name": "python",
   "nbconvert_exporter": "python",
   "pygments_lexer": "ipython3",
   "version": "3.8.10"
  }
 },
 "nbformat": 4,
 "nbformat_minor": 5
}
