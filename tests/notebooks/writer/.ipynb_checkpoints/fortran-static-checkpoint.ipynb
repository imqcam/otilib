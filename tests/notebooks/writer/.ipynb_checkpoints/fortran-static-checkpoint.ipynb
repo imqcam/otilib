{
 "cells": [
  {
   "cell_type": "markdown",
   "id": "3987b482",
   "metadata": {},
   "source": [
    "# Generate FORTRAN static modules with OTI or Multidual algebras.\n",
    "```\n",
    "Author: Mauricio Aristizabal\n",
    "Date last modified: Jan 13 2022\n",
    "Initial date: Jan 13 2022\n",
    "Contact: mauriaristi@gmail.com\n",
    "```\n",
    "\n",
    "This Notebook lets you generate Fortran modules that implements static versions of the library.\n",
    "\n",
    "They implement the so called semi-sparse implementation to avoid computational overheads.\n"
   ]
  },
  {
   "cell_type": "code",
   "execution_count": 1,
   "id": "97c4e44c",
   "metadata": {
    "scrolled": false
   },
   "outputs": [],
   "source": [
    "import sys\n",
    "import os\n",
    "path2oti = '../../../build/'\n",
    "sys.path.append(path2oti) # Add path to OTI library.\n",
    "\n",
    "import pyoti.core   as coti\n",
    "from pyoti.fmod_writer import writer\n",
    "# from pyoti.whereotilib import getpath"
   ]
  },
  {
   "cell_type": "code",
   "execution_count": 2,
   "id": "1a1bc8bc",
   "metadata": {},
   "outputs": [],
   "source": [
    "nbases = 1\n",
    "order  = 1\n",
    "w = writer(nbases, order)"
   ]
  },
  {
   "cell_type": "code",
   "execution_count": null,
   "id": "3c47f42c",
   "metadata": {},
   "outputs": [],
   "source": [
    "w.write_file()"
   ]
  }
 ],
 "metadata": {
  "kernelspec": {
   "display_name": "pyoti",
   "language": "python",
   "name": "pyoti"
  },
  "language_info": {
   "codemirror_mode": {
    "name": "ipython",
    "version": 3
   },
   "file_extension": ".py",
   "mimetype": "text/x-python",
   "name": "python",
   "nbconvert_exporter": "python",
   "pygments_lexer": "ipython3",
   "version": "3.8.10"
  }
 },
 "nbformat": 4,
 "nbformat_minor": 5
}
